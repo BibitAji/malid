{
 "cells": [
  {
   "cell_type": "code",
   "execution_count": 1,
   "metadata": {
    "execution": {
     "iopub.execute_input": "2023-01-19T05:10:00.112172Z",
     "iopub.status.busy": "2023-01-19T05:10:00.111514Z",
     "iopub.status.idle": "2023-01-19T05:10:08.579812Z",
     "shell.execute_reply": "2023-01-19T05:10:08.577992Z"
    }
   },
   "outputs": [],
   "source": [
    "from summarynb import show, indexed_csv, plaintext, chunks, table\n",
    "\n",
    "from malid import config, logger, helpers\n",
    "from malid.datamodels import healthy_label\n",
    "from slugify import slugify\n",
    "import pandas as pd"
   ]
  },
  {
   "cell_type": "code",
   "execution_count": 2,
   "metadata": {
    "execution": {
     "iopub.execute_input": "2023-01-19T05:10:08.587229Z",
     "iopub.status.busy": "2023-01-19T05:10:08.586728Z",
     "iopub.status.idle": "2023-01-19T05:10:08.595877Z",
     "shell.execute_reply": "2023-01-19T05:10:08.594000Z"
    }
   },
   "outputs": [],
   "source": [
    "from IPython.display import display, Markdown"
   ]
  },
  {
   "cell_type": "code",
   "execution_count": null,
   "metadata": {},
   "outputs": [],
   "source": []
  },
  {
   "cell_type": "code",
   "execution_count": null,
   "metadata": {},
   "outputs": [],
   "source": []
  },
  {
   "cell_type": "markdown",
   "metadata": {},
   "source": [
    "# Isotype counts plotted\n",
    "\n",
    "Average isotype proportions in specimens of each disease type.\n",
    "\n",
    "Also plot 95% confidence intervals:\n",
    "- Standard error of the mean is basically the standard deviation of many sample means drawn by bootstrap\n",
    "- Create a sampling distribution of the mean by bootstrap repeated sampling and recording the mean each time\n",
    "- Plot mean +/- 1.96 * standard error. Gives you average value +/- X at the 95% confidence level."
   ]
  },
  {
   "cell_type": "code",
   "execution_count": 3,
   "metadata": {
    "execution": {
     "iopub.execute_input": "2023-01-19T05:10:08.603844Z",
     "iopub.status.busy": "2023-01-19T05:10:08.603121Z",
     "iopub.status.idle": "2023-01-19T05:10:08.633524Z",
     "shell.execute_reply": "2023-01-19T05:10:08.631606Z"
    }
   },
   "outputs": [
    {
     "data": {
      "text/html": [
       "<table><tr><td style=\"text-align: center\"><img src=\"../out/unirep_fine_tuned/isotype_counts_by_disease.png\" style=\"max-width: 800px; max-height: 800px;\" /></td></tr></table>"
      ],
      "text/plain": [
       "<IPython.core.display.HTML object>"
      ]
     },
     "metadata": {},
     "output_type": "display_data"
    },
    {
     "data": {
      "text/html": [
       "<table><tr><td style=\"text-align: center\"><img src=\"../out/unirep_fine_tuned/isotype_counts_by_disease.inverted.png\" style=\"max-width: 800px; max-height: 800px;\" /></td></tr></table>"
      ],
      "text/plain": [
       "<IPython.core.display.HTML object>"
      ]
     },
     "metadata": {},
     "output_type": "display_data"
    }
   ],
   "source": [
    "show(config.paths.output_dir / \"isotype_counts_by_disease.png\")\n",
    "show(config.paths.output_dir / \"isotype_counts_by_disease.inverted.png\")"
   ]
  },
  {
   "cell_type": "code",
   "execution_count": null,
   "metadata": {},
   "outputs": [],
   "source": []
  },
  {
   "cell_type": "markdown",
   "metadata": {},
   "source": [
    "# V gene usage counts in specimens of each disease type, or specimens of different ancestries or batches\n",
    "\n",
    "Plot average V gene use proportions in specimens of each disease type.\n",
    "\n",
    "Also plot 95% confidence intervals:\n",
    "- Standard error of the mean is basically the standard deviation of many sample means drawn by bootstrap\n",
    "- Create a sampling distribution of the mean by bootstrap repeated sampling and recording the mean each time\n",
    "- Plot mean +/- 1.96 * standard error. Gives you average value +/- X at the 95% confidence level."
   ]
  },
  {
   "cell_type": "code",
   "execution_count": 4,
   "metadata": {
    "execution": {
     "iopub.execute_input": "2023-01-19T05:10:08.640327Z",
     "iopub.status.busy": "2023-01-19T05:10:08.639928Z",
     "iopub.status.idle": "2023-01-19T05:10:08.713086Z",
     "shell.execute_reply": "2023-01-19T05:10:08.711252Z"
    },
    "tags": []
   },
   "outputs": [
    {
     "data": {
      "text/html": [
       "<table><tr><th style=\"text-align: center\">Overall V gene usage proportions by specimen - GeneLocus.BCR</th></tr><tr><td style=\"text-align: center\"><img src=\"../data/data_v_20221224/embedded/unirep_fine_tuned/high_res_outputs/model_interpretations/BCR/v_gene_proportions_by_specimen.filtered_v_genes.by_disease.png\" style=\"max-width: 1200px; max-height: 800px;\" /></td></tr></table>"
      ],
      "text/plain": [
       "<IPython.core.display.HTML object>"
      ]
     },
     "metadata": {},
     "output_type": "display_data"
    },
    {
     "data": {
      "text/html": [
       "<table><tr><th style=\"text-align: center\">Healthy/Background V gene usage proportions by specimen by ethnicity - GeneLocus.BCR</th></tr><tr><td style=\"text-align: center\"><img src=\"../out/unirep_fine_tuned/interpretations/BCR/v_gene_proportions_by_specimen.filtered_v_genes.disease.healthy-background.by_ethnicity.png\" style=\"max-width: 1200px; max-height: 800px;\" /></td></tr></table>"
      ],
      "text/plain": [
       "<IPython.core.display.HTML object>"
      ]
     },
     "metadata": {},
     "output_type": "display_data"
    },
    {
     "data": {
      "text/html": [
       "<table><tr><th style=\"text-align: center\">Healthy/Background V gene usage proportions by specimen by study name - GeneLocus.BCR</th></tr><tr><td style=\"text-align: center\"><img src=\"../out/unirep_fine_tuned/interpretations/BCR/v_gene_proportions_by_specimen.filtered_v_genes.disease.healthy-background.by_study_name.png\" style=\"max-width: 1200px; max-height: 800px;\" /></td></tr></table>"
      ],
      "text/plain": [
       "<IPython.core.display.HTML object>"
      ]
     },
     "metadata": {},
     "output_type": "display_data"
    },
    {
     "data": {
      "text/html": [
       "<table><tr><th style=\"text-align: center\">Covid19 V gene usage proportions by specimen by ethnicity - GeneLocus.BCR</th></tr><tr><td style=\"text-align: center\"><img src=\"../out/unirep_fine_tuned/interpretations/BCR/v_gene_proportions_by_specimen.filtered_v_genes.disease.covid19.by_ethnicity.png\" style=\"max-width: 1200px; max-height: 800px;\" /></td></tr></table>"
      ],
      "text/plain": [
       "<IPython.core.display.HTML object>"
      ]
     },
     "metadata": {},
     "output_type": "display_data"
    },
    {
     "data": {
      "text/html": [
       "<table><tr><th style=\"text-align: center\">Covid19 V gene usage proportions by specimen by study name - GeneLocus.BCR</th></tr><tr><td style=\"text-align: center\"><img src=\"../out/unirep_fine_tuned/interpretations/BCR/v_gene_proportions_by_specimen.filtered_v_genes.disease.covid19.by_study_name.png\" style=\"max-width: 1200px; max-height: 800px;\" /></td></tr></table>"
      ],
      "text/plain": [
       "<IPython.core.display.HTML object>"
      ]
     },
     "metadata": {},
     "output_type": "display_data"
    },
    {
     "data": {
      "text/html": [
       "<table><tr><th style=\"text-align: center\">V gene proportions PCA by disease+batch - GeneLocus.BCR</th>\n",
       "<th style=\"text-align: center\">V gene proportions UMAP by disease+batch - GeneLocus.BCR</th></tr><tr><td style=\"text-align: center\"><img src=\"../data/data_v_20221224/embedded/unirep_fine_tuned/high_res_outputs/model_interpretations/BCR/v_gene_proportions_by_specimen.pca.color_by_disease_batch.png\" style=\"max-width: 800px; max-height: 800px;\" /></td>\n",
       "<td style=\"text-align: center\"><img src=\"../data/data_v_20221224/embedded/unirep_fine_tuned/high_res_outputs/model_interpretations/BCR/v_gene_proportions_by_specimen.umap.color_by_disease_batch.png\" style=\"max-width: 800px; max-height: 800px;\" /></td></tr></table>"
      ],
      "text/plain": [
       "<IPython.core.display.HTML object>"
      ]
     },
     "metadata": {},
     "output_type": "display_data"
    },
    {
     "data": {
      "text/html": [
       "<table><tr><th style=\"text-align: center\">Distance between disease+batch mean V gene usage proportion vectors - GeneLocus.BCR</th>\n",
       "<th style=\"text-align: center\">Distance between disease+batch median V gene usage proportion vectors - GeneLocus.BCR</th></tr><tr><td style=\"text-align: center\"><img src=\"../data/data_v_20221224/embedded/unirep_fine_tuned/high_res_outputs/model_interpretations/BCR/v_gene_proportions_by_specimen.means_by_disease_batch.distance_heatmap.png\" style=\"max-width: 800px; max-height: 800px;\" /></td>\n",
       "<td style=\"text-align: center\"><img src=\"../data/data_v_20221224/embedded/unirep_fine_tuned/high_res_outputs/model_interpretations/BCR/v_gene_proportions_by_specimen.medians_by_disease_batch.distance_heatmap.png\" style=\"max-width: 800px; max-height: 800px;\" /></td></tr></table>"
      ],
      "text/plain": [
       "<IPython.core.display.HTML object>"
      ]
     },
     "metadata": {},
     "output_type": "display_data"
    },
    {
     "data": {
      "text/html": [
       "<table><tr><th style=\"text-align: center\">Pairwise distances between specimen V gene use proportions - GeneLocus.BCR</th></tr><tr><td style=\"text-align: center\"><img src=\"../data/data_v_20221224/embedded/unirep_fine_tuned/high_res_outputs/model_interpretations/BCR/v_gene_proportions_by_specimen.pairwise_distances.boxplot_by_disease_batch.png\" style=\"max-width: 800px; max-height: 800px;\" /></td></tr></table>"
      ],
      "text/plain": [
       "<IPython.core.display.HTML object>"
      ]
     },
     "metadata": {},
     "output_type": "display_data"
    },
    {
     "data": {
      "text/html": [
       "<table><tr><th style=\"text-align: center\">Overall V gene usage proportions by specimen - GeneLocus.TCR</th></tr><tr><td style=\"text-align: center\"><img src=\"../data/data_v_20221224/embedded/unirep_fine_tuned/high_res_outputs/model_interpretations/TCR/v_gene_proportions_by_specimen.filtered_v_genes.by_disease.png\" style=\"max-width: 1200px; max-height: 800px;\" /></td></tr></table>"
      ],
      "text/plain": [
       "<IPython.core.display.HTML object>"
      ]
     },
     "metadata": {},
     "output_type": "display_data"
    },
    {
     "data": {
      "text/html": [
       "<table><tr><th style=\"text-align: center\">Healthy/Background V gene usage proportions by specimen by ethnicity - GeneLocus.TCR</th></tr><tr><td style=\"text-align: center\"><img src=\"../out/unirep_fine_tuned/interpretations/TCR/v_gene_proportions_by_specimen.filtered_v_genes.disease.healthy-background.by_ethnicity.png\" style=\"max-width: 1200px; max-height: 800px;\" /></td></tr></table>"
      ],
      "text/plain": [
       "<IPython.core.display.HTML object>"
      ]
     },
     "metadata": {},
     "output_type": "display_data"
    },
    {
     "data": {
      "text/html": [
       "<table><tr><th style=\"text-align: center\">Healthy/Background V gene usage proportions by specimen by study name - GeneLocus.TCR</th></tr><tr><td style=\"text-align: center\"><img src=\"../out/unirep_fine_tuned/interpretations/TCR/v_gene_proportions_by_specimen.filtered_v_genes.disease.healthy-background.by_study_name.png\" style=\"max-width: 1200px; max-height: 800px;\" /></td></tr></table>"
      ],
      "text/plain": [
       "<IPython.core.display.HTML object>"
      ]
     },
     "metadata": {},
     "output_type": "display_data"
    },
    {
     "data": {
      "text/html": [
       "<table><tr><th style=\"text-align: center\">Covid19 V gene usage proportions by specimen by ethnicity - GeneLocus.TCR</th></tr><tr><td style=\"text-align: center\"><img src=\"../out/unirep_fine_tuned/interpretations/TCR/v_gene_proportions_by_specimen.filtered_v_genes.disease.covid19.by_ethnicity.png\" style=\"max-width: 1200px; max-height: 800px;\" /></td></tr></table>"
      ],
      "text/plain": [
       "<IPython.core.display.HTML object>"
      ]
     },
     "metadata": {},
     "output_type": "display_data"
    },
    {
     "data": {
      "text/html": [
       "<table><tr><th style=\"text-align: center\">Covid19 V gene usage proportions by specimen by study name - GeneLocus.TCR</th></tr><tr><td style=\"text-align: center\"><img src=\"../out/unirep_fine_tuned/interpretations/TCR/v_gene_proportions_by_specimen.filtered_v_genes.disease.covid19.by_study_name.png\" style=\"max-width: 1200px; max-height: 800px;\" /></td></tr></table>"
      ],
      "text/plain": [
       "<IPython.core.display.HTML object>"
      ]
     },
     "metadata": {},
     "output_type": "display_data"
    },
    {
     "data": {
      "text/html": [
       "<table><tr><th style=\"text-align: center\">V gene proportions PCA by disease+batch - GeneLocus.TCR</th>\n",
       "<th style=\"text-align: center\">V gene proportions UMAP by disease+batch - GeneLocus.TCR</th></tr><tr><td style=\"text-align: center\"><img src=\"../data/data_v_20221224/embedded/unirep_fine_tuned/high_res_outputs/model_interpretations/TCR/v_gene_proportions_by_specimen.pca.color_by_disease_batch.png\" style=\"max-width: 800px; max-height: 800px;\" /></td>\n",
       "<td style=\"text-align: center\"><img src=\"../data/data_v_20221224/embedded/unirep_fine_tuned/high_res_outputs/model_interpretations/TCR/v_gene_proportions_by_specimen.umap.color_by_disease_batch.png\" style=\"max-width: 800px; max-height: 800px;\" /></td></tr></table>"
      ],
      "text/plain": [
       "<IPython.core.display.HTML object>"
      ]
     },
     "metadata": {},
     "output_type": "display_data"
    },
    {
     "data": {
      "text/html": [
       "<table><tr><th style=\"text-align: center\">Distance between disease+batch mean V gene usage proportion vectors - GeneLocus.TCR</th>\n",
       "<th style=\"text-align: center\">Distance between disease+batch median V gene usage proportion vectors - GeneLocus.TCR</th></tr><tr><td style=\"text-align: center\"><img src=\"../data/data_v_20221224/embedded/unirep_fine_tuned/high_res_outputs/model_interpretations/TCR/v_gene_proportions_by_specimen.means_by_disease_batch.distance_heatmap.png\" style=\"max-width: 800px; max-height: 800px;\" /></td>\n",
       "<td style=\"text-align: center\"><img src=\"../data/data_v_20221224/embedded/unirep_fine_tuned/high_res_outputs/model_interpretations/TCR/v_gene_proportions_by_specimen.medians_by_disease_batch.distance_heatmap.png\" style=\"max-width: 800px; max-height: 800px;\" /></td></tr></table>"
      ],
      "text/plain": [
       "<IPython.core.display.HTML object>"
      ]
     },
     "metadata": {},
     "output_type": "display_data"
    },
    {
     "data": {
      "text/html": [
       "<table><tr><th style=\"text-align: center\">Pairwise distances between specimen V gene use proportions - GeneLocus.TCR</th></tr><tr><td style=\"text-align: center\"><img src=\"../data/data_v_20221224/embedded/unirep_fine_tuned/high_res_outputs/model_interpretations/TCR/v_gene_proportions_by_specimen.pairwise_distances.boxplot_by_disease_batch.png\" style=\"max-width: 800px; max-height: 800px;\" /></td></tr></table>"
      ],
      "text/plain": [
       "<IPython.core.display.HTML object>"
      ]
     },
     "metadata": {},
     "output_type": "display_data"
    }
   ],
   "source": [
    "for gene_locus in config.gene_loci_used:\n",
    "    main_output_dir = config.paths.model_interpretations_output_dir / gene_locus.name\n",
    "    high_res_output_dir = (\n",
    "        config.paths.high_res_outputs_dir / \"model_interpretations\" / gene_locus.name\n",
    "    )\n",
    "    show(\n",
    "        high_res_output_dir\n",
    "        / \"v_gene_proportions_by_specimen.filtered_v_genes.by_disease.png\",\n",
    "        headers=[f\"Overall V gene usage proportions by specimen - {gene_locus}\"],\n",
    "        max_width=1200,\n",
    "    )\n",
    "\n",
    "    for disease in [healthy_label, \"Covid19\"]:\n",
    "        show(\n",
    "            main_output_dir\n",
    "            / f\"v_gene_proportions_by_specimen.filtered_v_genes.disease.{slugify(disease)}.by_ethnicity.png\",\n",
    "            headers=[\n",
    "                f\"{disease} V gene usage proportions by specimen by ethnicity - {gene_locus}\"\n",
    "            ],\n",
    "            max_width=1200,\n",
    "        )\n",
    "\n",
    "        show(\n",
    "            main_output_dir\n",
    "            / f\"v_gene_proportions_by_specimen.filtered_v_genes.disease.{slugify(disease)}.by_study_name.png\",\n",
    "            headers=[\n",
    "                f\"{disease} V gene usage proportions by specimen by study name - {gene_locus}\"\n",
    "            ],\n",
    "            max_width=1200,\n",
    "        )\n",
    "\n",
    "    show(\n",
    "        [\n",
    "            high_res_output_dir\n",
    "            / \"v_gene_proportions_by_specimen.pca.color_by_disease_batch.png\",\n",
    "            high_res_output_dir\n",
    "            / \"v_gene_proportions_by_specimen.umap.color_by_disease_batch.png\",\n",
    "        ],\n",
    "        headers=[\n",
    "            f\"V gene proportions PCA by disease+batch - {gene_locus}\",\n",
    "            f\"V gene proportions UMAP by disease+batch - {gene_locus}\",\n",
    "        ],\n",
    "    )\n",
    "\n",
    "    show(\n",
    "        [\n",
    "            high_res_output_dir\n",
    "            / \"v_gene_proportions_by_specimen.means_by_disease_batch.distance_heatmap.png\",\n",
    "            high_res_output_dir\n",
    "            / \"v_gene_proportions_by_specimen.medians_by_disease_batch.distance_heatmap.png\",\n",
    "        ],\n",
    "        headers=[\n",
    "            f\"Distance between disease+batch mean V gene usage proportion vectors - {gene_locus}\",\n",
    "            f\"Distance between disease+batch median V gene usage proportion vectors - {gene_locus}\",\n",
    "        ],\n",
    "    )\n",
    "    show(\n",
    "        high_res_output_dir\n",
    "        / \"v_gene_proportions_by_specimen.pairwise_distances.boxplot_by_disease_batch.png\",\n",
    "        headers=[\n",
    "            f\"Pairwise distances between specimen V gene use proportions - {gene_locus}\"\n",
    "        ],\n",
    "    )"
   ]
  },
  {
   "cell_type": "code",
   "execution_count": null,
   "metadata": {},
   "outputs": [],
   "source": []
  },
  {
   "cell_type": "code",
   "execution_count": null,
   "metadata": {},
   "outputs": [],
   "source": []
  }
 ],
 "metadata": {
  "jupytext": {
   "cell_metadata_filter": "-all"
  },
  "kernelspec": {
   "display_name": "py39-cuda-env",
   "language": "python",
   "name": "py39-cuda-env"
  },
  "language_info": {
   "codemirror_mode": {
    "name": "ipython",
    "version": 3
   },
   "file_extension": ".py",
   "mimetype": "text/x-python",
   "name": "python",
   "nbconvert_exporter": "python",
   "pygments_lexer": "ipython3",
   "version": "3.9.13"
  }
 },
 "nbformat": 4,
 "nbformat_minor": 4
}
