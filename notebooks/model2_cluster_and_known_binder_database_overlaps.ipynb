{
 "cells": [
  {
   "cell_type": "code",
   "execution_count": 1,
   "metadata": {},
   "outputs": [],
   "source": [
    "import pandas as pd\n",
    "from typing import Tuple\n",
    "import anndata\n",
    "from malid import config, io, helpers, logger\n",
    "from malid.datamodels import (\n",
    "    GeneLocus,\n",
    "    TargetObsColumnEnum,\n",
    "    map_cross_validation_split_strategy_to_default_target_obs_column,\n",
    "    healthy_label,\n",
    ")\n",
    "from malid.trained_model_wrappers import ConvergentClusterClassifier\n",
    "from IPython.display import display, Markdown\n",
    "\n",
    "pd.set_option(\"display.max_columns\", None)"
   ]
  },
  {
   "cell_type": "markdown",
   "metadata": {},
   "source": [
    "In this notebook, we:\n",
    "\n",
    "1. Check how many BCR Covid-19 clusters Model 2 identifies in the global fold.\n",
    "2. Check how many of the unique sequences in the CoV-AbDab external dataset are matched to a Model 2 Covid-19 cluster. Matching requires having an identical V gene, J gene, and CDR3 length, and having a CDR3 region with at least 85% sequence identity.\n",
    "\n",
    "_This notebook is based on `notebooks/ranks_of_known_binders_vs_healthy_donor_sequences.ipynb`_"
   ]
  },
  {
   "cell_type": "code",
   "execution_count": null,
   "metadata": {},
   "outputs": [],
   "source": []
  },
  {
   "cell_type": "code",
   "execution_count": 2,
   "metadata": {
    "lines_to_next_cell": 1
   },
   "outputs": [],
   "source": [
    "# We only support split strategies with default target obs column == TargetObsColumnEnum.disease\n",
    "assert (\n",
    "    map_cross_validation_split_strategy_to_default_target_obs_column[\n",
    "        config.cross_validation_split_strategy\n",
    "    ]\n",
    "    == TargetObsColumnEnum.disease\n",
    ")"
   ]
  },
  {
   "cell_type": "code",
   "execution_count": 3,
   "metadata": {},
   "outputs": [],
   "source": [
    "def extract_disease_cluster_list(clf: ConvergentClusterClassifier, disease: str):\n",
    "    # Get all clusters\n",
    "    model2_cluster_class_associations = (\n",
    "        clf.cluster_centroids_with_class_specific_p_values\n",
    "    )\n",
    "\n",
    "    # Melt to columns = [cluster_dominant_label, p_value], but first move consensus_sequence into the set of index columns\n",
    "    # TODO(refactor): this reset_index().set_index() operation is quite slow\n",
    "    model2_cluster_class_associations = (\n",
    "        model2_cluster_class_associations.reset_index()\n",
    "        .set_index(\n",
    "            list(model2_cluster_class_associations.index.names) + [\"consensus_sequence\"]\n",
    "        )\n",
    "        .melt(\n",
    "            # preserve index\n",
    "            ignore_index=False,\n",
    "            var_name=\"cluster_dominant_label\",\n",
    "            value_name=\"p_value\",\n",
    "        )\n",
    "    )\n",
    "\n",
    "    # Filter to clusters associated with each class\n",
    "    model2_cluster_class_associations = model2_cluster_class_associations[\n",
    "        model2_cluster_class_associations[\"p_value\"] <= clf.p_value_threshold\n",
    "    ]\n",
    "\n",
    "    # Filter to Covid predictive cluster centroids only\n",
    "    disease_clusters_from_model2 = model2_cluster_class_associations[\n",
    "        model2_cluster_class_associations[\"cluster_dominant_label\"] == disease\n",
    "    ]\n",
    "\n",
    "    return disease_clusters_from_model2"
   ]
  },
  {
   "cell_type": "code",
   "execution_count": null,
   "metadata": {},
   "outputs": [],
   "source": []
  },
  {
   "cell_type": "code",
   "execution_count": 4,
   "metadata": {},
   "outputs": [],
   "source": [
    "def score_sequences(adata, disease_clusters_from_model2, gene_locus):\n",
    "    # Assign each test sequence to known cluster with nearest centroid, if possible\n",
    "    df = ConvergentClusterClassifier._assign_sequences_to_known_clusters(\n",
    "        df=adata.obs,\n",
    "        cluster_centroids_by_supergroup=ConvergentClusterClassifier._wrap_cluster_centroids_as_dict_by_supergroup(\n",
    "            disease_clusters_from_model2\n",
    "        ),\n",
    "        sequence_identity_threshold=config.sequence_identity_thresholds.assign_test_sequences_to_clusters[\n",
    "            gene_locus\n",
    "        ],\n",
    "        validate_same_fold_id_and_label=False,\n",
    "    )\n",
    "\n",
    "    # Compute (1 - normalized Hamming distance) to get a proximity score.\n",
    "    # Set to 0 if there were no centroids that could be compared to (i.e. no predictive clusers with same V/J/CDR3 length)\n",
    "    df[\"centroid_proximity_score\"] = 1 - df[\"distance_to_nearest_centroid\"].fillna(1)\n",
    "\n",
    "    return df"
   ]
  },
  {
   "cell_type": "code",
   "execution_count": null,
   "metadata": {},
   "outputs": [],
   "source": []
  },
  {
   "cell_type": "code",
   "execution_count": null,
   "metadata": {},
   "outputs": [],
   "source": []
  },
  {
   "cell_type": "code",
   "execution_count": 6,
   "metadata": {},
   "outputs": [],
   "source": [
    "fold_id = -1\n",
    "gene_locus = GeneLocus.BCR\n",
    "target_obs_column = TargetObsColumnEnum.disease\n",
    "sample_weight_strategy = config.sample_weight_strategy"
   ]
  },
  {
   "cell_type": "code",
   "execution_count": null,
   "metadata": {},
   "outputs": [],
   "source": []
  },
  {
   "cell_type": "code",
   "execution_count": 7,
   "metadata": {},
   "outputs": [
    {
     "data": {
      "text/html": [
       "<pre>ConvergentClusterClassifier: Pipeline(steps=[('matchvariables', MatchVariables()),\n",
       "                ('standardscalerthatpreservesinputtype',\n",
       "                 StandardScalerThatPreservesInputType()),\n",
       "                ('glmnetlogitnetwrapper',\n",
       "                 GlmnetLogitNetWrapper(alpha=0, class_weight='balanced', cut_point=1.0, fit_intercept=True, internal_cv=StratifiedGroupKFoldRequiresGroups(n_splits=5, random_state=0, shuffle=True), lambda_path=None, lower_limits=-inf, max_features=None, max_iter=100000, min_lambda_ratio=0.0001, n_jobs=8, n_lambda=100, n_splits=5, random_state=0, require_cv_group_labels=True, scoring=<function GlmnetLogitNetWrapper.deviance_scorer at 0x7f6314e48dc0>, standardize=False, tol=1e-07, upper_limits=inf, use_lambda_1se=False, verbose=True))])</pre>"
      ],
      "text/plain": [
       "ConvergentClusterClassifier: Pipeline(steps=[('matchvariables', MatchVariables()),\n",
       "                ('standardscalerthatpreservesinputtype',\n",
       "                 StandardScalerThatPreservesInputType()),\n",
       "                ('glmnetlogitnetwrapper',\n",
       "                 GlmnetLogitNetWrapper(alpha=0, class_weight='balanced', cut_point=1.0, fit_intercept=True, internal_cv=StratifiedGroupKFoldRequiresGroups(n_splits=5, random_state=0, shuffle=True), lambda_path=None, lower_limits=-inf, max_features=None, max_iter=100000, min_lambda_ratio=0.0001, n_jobs=8, n_lambda=100, n_splits=5, random_state=0, require_cv_group_labels=True, scoring=<function GlmnetLogitNetWrapper.deviance_scorer at 0x7f6314e48dc0>, standardize=False, tol=1e-07, upper_limits=inf, use_lambda_1se=False, verbose=True))])"
      ]
     },
     "execution_count": 7,
     "metadata": {},
     "output_type": "execute_result"
    }
   ],
   "source": [
    "clf_model2 = ConvergentClusterClassifier(\n",
    "    fold_id=fold_id,\n",
    "    model_name=config.metamodel_base_model_names.model_name_convergent_clustering[\n",
    "        gene_locus\n",
    "    ],\n",
    "    fold_label_train=\"train_smaller1\",\n",
    "    gene_locus=gene_locus,\n",
    "    target_obs_column=target_obs_column,\n",
    ")\n",
    "clf_model2"
   ]
  },
  {
   "cell_type": "code",
   "execution_count": null,
   "metadata": {},
   "outputs": [],
   "source": []
  },
  {
   "cell_type": "code",
   "execution_count": 55,
   "metadata": {},
   "outputs": [
    {
     "data": {
      "text/markdown": [
       "## GeneLocus.BCR, Covid19"
      ],
      "text/plain": [
       "<IPython.core.display.Markdown object>"
      ]
     },
     "metadata": {},
     "output_type": "display_data"
    }
   ],
   "source": [
    "disease = \"Covid19\"\n",
    "display(Markdown(f\"## {gene_locus}, {disease}\"))\n",
    "\n",
    "# Extract list of predictive clusters from model 2\n",
    "disease_associated_clusters_from_model2 = extract_disease_cluster_list(\n",
    "    clf=clf_model2, disease=disease\n",
    ")\n",
    "\n",
    "# Load this locus's known binders\n",
    "known_binders_adata = io.load_known_binder_embeddings(\n",
    "    fold_id=fold_id,\n",
    "    gene_locus=gene_locus,\n",
    "    disease=disease,\n",
    "    known_binder=True,\n",
    "    sample_weight_strategy=sample_weight_strategy,\n",
    ")\n",
    "if gene_locus == GeneLocus.BCR:\n",
    "    # set\n",
    "    known_binders_adata.obs[\"isotype_supergroup\"] = \"IGHG\"\n",
    "else:\n",
    "    known_binders_adata.obs[\"isotype_supergroup\"] = \"TCRB\"\n",
    "\n",
    "\n",
    "def _score_with_model2(ad: anndata.AnnData) -> Tuple[pd.DataFrame, float]:\n",
    "    sequence_distances = score_sequences(\n",
    "        ad, disease_associated_clusters_from_model2, gene_locus\n",
    "    )\n",
    "\n",
    "    # this proportion of sequences had no disease-predictive centroids to compare to,\n",
    "    # and thus have centroid proximity score = 0.0 by default:\n",
    "    unscored_sequences_proportion = (\n",
    "        sequence_distances[\"distance_to_nearest_centroid\"]\n",
    "        .isna()\n",
    "        .value_counts(normalize=True)\n",
    "        .reindex([True, False])\n",
    "        .loc[True]\n",
    "    )\n",
    "\n",
    "    return sequence_distances, unscored_sequences_proportion\n",
    "\n",
    "\n",
    "# Score known binder sequences\n",
    "(\n",
    "    known_binder_sequence_distances,\n",
    "    proportion_of_known_binder_sequences_with_no_disease_associated_centroids_for_comparison,\n",
    ") = _score_with_model2(known_binders_adata)"
   ]
  },
  {
   "cell_type": "code",
   "execution_count": 56,
   "metadata": {},
   "outputs": [
    {
     "data": {
      "text/plain": [
       "(6468, 640)"
      ]
     },
     "execution_count": 56,
     "metadata": {},
     "output_type": "execute_result"
    }
   ],
   "source": [
    "known_binders_adata.shape"
   ]
  },
  {
   "cell_type": "code",
   "execution_count": 57,
   "metadata": {},
   "outputs": [
    {
     "data": {
      "text/plain": [
       "(6468, 38)"
      ]
     },
     "execution_count": 57,
     "metadata": {},
     "output_type": "execute_result"
    }
   ],
   "source": [
    "known_binder_sequence_distances.shape"
   ]
  },
  {
   "cell_type": "code",
   "execution_count": 58,
   "metadata": {},
   "outputs": [
    {
     "data": {
      "text/plain": [
       "0.7884972170686456"
      ]
     },
     "execution_count": 58,
     "metadata": {},
     "output_type": "execute_result"
    }
   ],
   "source": [
    "proportion_of_known_binder_sequences_with_no_disease_associated_centroids_for_comparison"
   ]
  },
  {
   "cell_type": "code",
   "execution_count": 59,
   "metadata": {},
   "outputs": [
    {
     "data": {
      "text/plain": [
       "True     5100\n",
       "False    1368\n",
       "Name: distance_to_nearest_centroid, dtype: int64"
      ]
     },
     "execution_count": 59,
     "metadata": {},
     "output_type": "execute_result"
    }
   ],
   "source": [
    "known_binder_sequence_distances[\"distance_to_nearest_centroid\"].isna().value_counts()"
   ]
  },
  {
   "cell_type": "code",
   "execution_count": 60,
   "metadata": {},
   "outputs": [
    {
     "data": {
      "text/plain": [
       "True     0.788497\n",
       "False    0.211503\n",
       "Name: distance_to_nearest_centroid, dtype: float64"
      ]
     },
     "execution_count": 60,
     "metadata": {},
     "output_type": "execute_result"
    }
   ],
   "source": [
    "known_binder_sequence_distances[\"distance_to_nearest_centroid\"].isna().value_counts(\n",
    "    normalize=True\n",
    ")"
   ]
  },
  {
   "cell_type": "code",
   "execution_count": 61,
   "metadata": {},
   "outputs": [
    {
     "data": {
      "text/plain": [
       "count    1368.000000\n",
       "mean        0.535788\n",
       "std         0.187292\n",
       "min         0.000000\n",
       "25%         0.400000\n",
       "50%         0.571429\n",
       "75%         0.684211\n",
       "max         1.000000\n",
       "Name: distance_to_nearest_centroid, dtype: float64"
      ]
     },
     "execution_count": 61,
     "metadata": {},
     "output_type": "execute_result"
    }
   ],
   "source": [
    "known_binder_sequence_distances[\"distance_to_nearest_centroid\"].describe()"
   ]
  },
  {
   "cell_type": "code",
   "execution_count": 62,
   "metadata": {},
   "outputs": [
    {
     "data": {
      "text/plain": [
       "<Axes: >"
      ]
     },
     "execution_count": 62,
     "metadata": {},
     "output_type": "execute_result"
    },
    {
     "data": {
      "image/png": "[encoded data removed]",
      "text/plain": [
       "<Figure size 640x480 with 1 Axes>"
      ]
     },
     "metadata": {},
     "output_type": "display_data"
    }
   ],
   "source": [
    "known_binder_sequence_distances[\"distance_to_nearest_centroid\"].hist()"
   ]
  },
  {
   "cell_type": "code",
   "execution_count": 63,
   "metadata": {},
   "outputs": [
    {
     "data": {
      "text/plain": [
       "False    6468\n",
       "Name: centroid_proximity_score, dtype: int64"
      ]
     },
     "execution_count": 63,
     "metadata": {},
     "output_type": "execute_result"
    }
   ],
   "source": [
    "known_binder_sequence_distances[\"centroid_proximity_score\"].isna().value_counts()"
   ]
  },
  {
   "cell_type": "code",
   "execution_count": 64,
   "metadata": {},
   "outputs": [
    {
     "data": {
      "text/plain": [
       "count    6468.000000\n",
       "mean        0.098182\n",
       "std         0.208226\n",
       "min         0.000000\n",
       "25%         0.000000\n",
       "50%         0.000000\n",
       "75%         0.000000\n",
       "max         1.000000\n",
       "Name: centroid_proximity_score, dtype: float64"
      ]
     },
     "execution_count": 64,
     "metadata": {},
     "output_type": "execute_result"
    }
   ],
   "source": [
    "known_binder_sequence_distances[\"centroid_proximity_score\"].describe()"
   ]
  },
  {
   "cell_type": "code",
   "execution_count": 65,
   "metadata": {},
   "outputs": [
    {
     "data": {
      "text/plain": [
       "<Axes: >"
      ]
     },
     "execution_count": 65,
     "metadata": {},
     "output_type": "execute_result"
    },
    {
     "data": {
      "image/png": "[encoded data removed]",
      "text/plain": [
       "<Figure size 640x480 with 1 Axes>"
      ]
     },
     "metadata": {},
     "output_type": "display_data"
    }
   ],
   "source": [
    "known_binder_sequence_distances[\"centroid_proximity_score\"].hist()"
   ]
  },
  {
   "cell_type": "code",
   "execution_count": null,
   "metadata": {},
   "outputs": [],
   "source": []
  },
  {
   "cell_type": "code",
   "execution_count": null,
   "metadata": {},
   "outputs": [],
   "source": [
    "# How many matches:"
   ]
  },
  {
   "cell_type": "code",
   "execution_count": 66,
   "metadata": {},
   "outputs": [
    {
     "data": {
      "text/plain": [
       "False    6431\n",
       "True       37\n",
       "Name: centroid_proximity_score, dtype: int64"
      ]
     },
     "execution_count": 66,
     "metadata": {},
     "output_type": "execute_result"
    }
   ],
   "source": [
    "(known_binder_sequence_distances[\"centroid_proximity_score\"] >= 0.85).value_counts()"
   ]
  },
  {
   "cell_type": "code",
   "execution_count": 67,
   "metadata": {},
   "outputs": [
    {
     "data": {
      "text/plain": [
       "IGHV3-33    11\n",
       "IGHV1-58     7\n",
       "IGHV3-30     5\n",
       "IGHV3-53     4\n",
       "IGHV3-66     3\n",
       "IGHV3-7      2\n",
       "IGHV1-24     2\n",
       "IGHV3-9      1\n",
       "IGHV4-39     1\n",
       "IGHV3-74     1\n",
       "Name: v_gene, dtype: int64"
      ]
     },
     "execution_count": 67,
     "metadata": {},
     "output_type": "execute_result"
    }
   ],
   "source": [
    "known_binder_sequence_distances[\n",
    "    known_binder_sequence_distances[\"centroid_proximity_score\"] >= 0.85\n",
    "][\"v_gene\"].value_counts()"
   ]
  },
  {
   "cell_type": "code",
   "execution_count": 68,
   "metadata": {},
   "outputs": [
    {
     "data": {
      "text/html": [
       "<div>\n",
       "<style scoped>\n",
       "    .dataframe tbody tr th:only-of-type {\n",
       "        vertical-align: middle;\n",
       "    }\n",
       "\n",
       "    .dataframe tbody tr th {\n",
       "        vertical-align: top;\n",
       "    }\n",
       "\n",
       "    .dataframe thead th {\n",
       "        text-align: right;\n",
       "    }\n",
       "</style>\n",
       "<table border=\"1\" class=\"dataframe\">\n",
       "  <thead>\n",
       "    <tr style=\"text-align: right;\">\n",
       "      <th></th>\n",
       "      <th>v_gene</th>\n",
       "      <th>j_gene</th>\n",
       "      <th>cdr3_seq_aa_q_trim</th>\n",
       "    </tr>\n",
       "  </thead>\n",
       "  <tbody>\n",
       "    <tr>\n",
       "      <th>4891</th>\n",
       "      <td>IGHV1-24</td>\n",
       "      <td>IGHJ5</td>\n",
       "      <td>ATGPVRGVIGWFDP</td>\n",
       "    </tr>\n",
       "    <tr>\n",
       "      <th>5549</th>\n",
       "      <td>IGHV1-24</td>\n",
       "      <td>IGHJ6</td>\n",
       "      <td>ATGVAVAGTPINYYYYYGMDV</td>\n",
       "    </tr>\n",
       "    <tr>\n",
       "      <th>828</th>\n",
       "      <td>IGHV1-58</td>\n",
       "      <td>IGHJ3</td>\n",
       "      <td>AAPYCSSTNCYDAFDI</td>\n",
       "    </tr>\n",
       "    <tr>\n",
       "      <th>842</th>\n",
       "      <td>IGHV1-58</td>\n",
       "      <td>IGHJ3</td>\n",
       "      <td>AAPYCSRTSCHDAFDI</td>\n",
       "    </tr>\n",
       "    <tr>\n",
       "      <th>2054</th>\n",
       "      <td>IGHV1-58</td>\n",
       "      <td>IGHJ3</td>\n",
       "      <td>AAPYCSSTSCRDGFDI</td>\n",
       "    </tr>\n",
       "    <tr>\n",
       "      <th>5318</th>\n",
       "      <td>IGHV1-58</td>\n",
       "      <td>IGHJ3</td>\n",
       "      <td>AAPNCSGGSCYDAFDI</td>\n",
       "    </tr>\n",
       "    <tr>\n",
       "      <th>5745</th>\n",
       "      <td>IGHV1-58</td>\n",
       "      <td>IGHJ3</td>\n",
       "      <td>AAPYCSSTRCYDAFDI</td>\n",
       "    </tr>\n",
       "    <tr>\n",
       "      <th>5747</th>\n",
       "      <td>IGHV1-58</td>\n",
       "      <td>IGHJ3</td>\n",
       "      <td>AAPYCSSTTCHDGFDI</td>\n",
       "    </tr>\n",
       "    <tr>\n",
       "      <th>6424</th>\n",
       "      <td>IGHV1-58</td>\n",
       "      <td>IGHJ3</td>\n",
       "      <td>AAPHCSGGSCYDAFDI</td>\n",
       "    </tr>\n",
       "    <tr>\n",
       "      <th>2960</th>\n",
       "      <td>IGHV3-30</td>\n",
       "      <td>IGHJ3</td>\n",
       "      <td>AKSRSGSYLSAFDI</td>\n",
       "    </tr>\n",
       "    <tr>\n",
       "      <th>876</th>\n",
       "      <td>IGHV3-30</td>\n",
       "      <td>IGHJ4</td>\n",
       "      <td>ARPYSGSYYHYFDY</td>\n",
       "    </tr>\n",
       "    <tr>\n",
       "      <th>2820</th>\n",
       "      <td>IGHV3-30</td>\n",
       "      <td>IGHJ4</td>\n",
       "      <td>ARTKSGSYWDYFDY</td>\n",
       "    </tr>\n",
       "    <tr>\n",
       "      <th>3018</th>\n",
       "      <td>IGHV3-30</td>\n",
       "      <td>IGHJ4</td>\n",
       "      <td>ARTYSGSYFSYFDY</td>\n",
       "    </tr>\n",
       "    <tr>\n",
       "      <th>5506</th>\n",
       "      <td>IGHV3-30</td>\n",
       "      <td>IGHJ4</td>\n",
       "      <td>ARTYSGSYYSYFDY</td>\n",
       "    </tr>\n",
       "    <tr>\n",
       "      <th>2093</th>\n",
       "      <td>IGHV3-33</td>\n",
       "      <td>IGHJ4</td>\n",
       "      <td>AREGIVGDITGLDY</td>\n",
       "    </tr>\n",
       "    <tr>\n",
       "      <th>2137</th>\n",
       "      <td>IGHV3-33</td>\n",
       "      <td>IGHJ4</td>\n",
       "      <td>AREGVVGDTTGLDY</td>\n",
       "    </tr>\n",
       "    <tr>\n",
       "      <th>2257</th>\n",
       "      <td>IGHV3-33</td>\n",
       "      <td>IGHJ4</td>\n",
       "      <td>AREGAVGATTGVDY</td>\n",
       "    </tr>\n",
       "    <tr>\n",
       "      <th>2569</th>\n",
       "      <td>IGHV3-33</td>\n",
       "      <td>IGHJ4</td>\n",
       "      <td>AREGQVGATTGFDY</td>\n",
       "    </tr>\n",
       "    <tr>\n",
       "      <th>2698</th>\n",
       "      <td>IGHV3-33</td>\n",
       "      <td>IGHJ4</td>\n",
       "      <td>AREGIVGETTGLDY</td>\n",
       "    </tr>\n",
       "    <tr>\n",
       "      <th>2755</th>\n",
       "      <td>IGHV3-33</td>\n",
       "      <td>IGHJ4</td>\n",
       "      <td>AREGAVGETTGLDY</td>\n",
       "    </tr>\n",
       "    <tr>\n",
       "      <th>2840</th>\n",
       "      <td>IGHV3-33</td>\n",
       "      <td>IGHJ4</td>\n",
       "      <td>AREGAVGATTGFDY</td>\n",
       "    </tr>\n",
       "    <tr>\n",
       "      <th>3281</th>\n",
       "      <td>IGHV3-33</td>\n",
       "      <td>IGHJ4</td>\n",
       "      <td>AREGQVGATTGIDY</td>\n",
       "    </tr>\n",
       "    <tr>\n",
       "      <th>3474</th>\n",
       "      <td>IGHV3-33</td>\n",
       "      <td>IGHJ4</td>\n",
       "      <td>AREGQVGATTGLDY</td>\n",
       "    </tr>\n",
       "    <tr>\n",
       "      <th>4842</th>\n",
       "      <td>IGHV3-33</td>\n",
       "      <td>IGHJ4</td>\n",
       "      <td>AREGIVGATTGFDY</td>\n",
       "    </tr>\n",
       "    <tr>\n",
       "      <th>6320</th>\n",
       "      <td>IGHV3-33</td>\n",
       "      <td>IGHJ4</td>\n",
       "      <td>AREGAVGATSGLDY</td>\n",
       "    </tr>\n",
       "    <tr>\n",
       "      <th>17</th>\n",
       "      <td>IGHV3-53</td>\n",
       "      <td>IGHJ4</td>\n",
       "      <td>ARDYGDLYFDY</td>\n",
       "    </tr>\n",
       "    <tr>\n",
       "      <th>49</th>\n",
       "      <td>IGHV3-53</td>\n",
       "      <td>IGHJ4</td>\n",
       "      <td>ARDYGDFYFDY</td>\n",
       "    </tr>\n",
       "    <tr>\n",
       "      <th>740</th>\n",
       "      <td>IGHV3-53</td>\n",
       "      <td>IGHJ4</td>\n",
       "      <td>ARDYGDYYFDY</td>\n",
       "    </tr>\n",
       "    <tr>\n",
       "      <th>1235</th>\n",
       "      <td>IGHV3-53</td>\n",
       "      <td>IGHJ4</td>\n",
       "      <td>ARGYGDYYFDY</td>\n",
       "    </tr>\n",
       "    <tr>\n",
       "      <th>9</th>\n",
       "      <td>IGHV3-66</td>\n",
       "      <td>IGHJ4</td>\n",
       "      <td>ARDYGDFYFDF</td>\n",
       "    </tr>\n",
       "    <tr>\n",
       "      <th>185</th>\n",
       "      <td>IGHV3-66</td>\n",
       "      <td>IGHJ4</td>\n",
       "      <td>ARDYGDFYFDY</td>\n",
       "    </tr>\n",
       "    <tr>\n",
       "      <th>3591</th>\n",
       "      <td>IGHV3-66</td>\n",
       "      <td>IGHJ4</td>\n",
       "      <td>ARDYGDYYFDY</td>\n",
       "    </tr>\n",
       "    <tr>\n",
       "      <th>2253</th>\n",
       "      <td>IGHV3-7</td>\n",
       "      <td>IGHJ4</td>\n",
       "      <td>ARVGSTSWYFDY</td>\n",
       "    </tr>\n",
       "    <tr>\n",
       "      <th>4906</th>\n",
       "      <td>IGHV3-7</td>\n",
       "      <td>IGHJ4</td>\n",
       "      <td>ARVGSSSWYFDY</td>\n",
       "    </tr>\n",
       "    <tr>\n",
       "      <th>3301</th>\n",
       "      <td>IGHV3-74</td>\n",
       "      <td>IGHJ4</td>\n",
       "      <td>AREDIVVVPAIDY</td>\n",
       "    </tr>\n",
       "    <tr>\n",
       "      <th>2495</th>\n",
       "      <td>IGHV3-9</td>\n",
       "      <td>IGHJ4</td>\n",
       "      <td>AKDIGYSSGLFDY</td>\n",
       "    </tr>\n",
       "    <tr>\n",
       "      <th>2930</th>\n",
       "      <td>IGHV4-39</td>\n",
       "      <td>IGHJ6</td>\n",
       "      <td>ARHSVLRYFDWLSTDYGMDV</td>\n",
       "    </tr>\n",
       "  </tbody>\n",
       "</table>\n",
       "</div>"
      ],
      "text/plain": [
       "        v_gene j_gene     cdr3_seq_aa_q_trim\n",
       "4891  IGHV1-24  IGHJ5         ATGPVRGVIGWFDP\n",
       "5549  IGHV1-24  IGHJ6  ATGVAVAGTPINYYYYYGMDV\n",
       "828   IGHV1-58  IGHJ3       AAPYCSSTNCYDAFDI\n",
       "842   IGHV1-58  IGHJ3       AAPYCSRTSCHDAFDI\n",
       "2054  IGHV1-58  IGHJ3       AAPYCSSTSCRDGFDI\n",
       "5318  IGHV1-58  IGHJ3       AAPNCSGGSCYDAFDI\n",
       "5745  IGHV1-58  IGHJ3       AAPYCSSTRCYDAFDI\n",
       "5747  IGHV1-58  IGHJ3       AAPYCSSTTCHDGFDI\n",
       "6424  IGHV1-58  IGHJ3       AAPHCSGGSCYDAFDI\n",
       "2960  IGHV3-30  IGHJ3         AKSRSGSYLSAFDI\n",
       "876   IGHV3-30  IGHJ4         ARPYSGSYYHYFDY\n",
       "2820  IGHV3-30  IGHJ4         ARTKSGSYWDYFDY\n",
       "3018  IGHV3-30  IGHJ4         ARTYSGSYFSYFDY\n",
       "5506  IGHV3-30  IGHJ4         ARTYSGSYYSYFDY\n",
       "2093  IGHV3-33  IGHJ4         AREGIVGDITGLDY\n",
       "2137  IGHV3-33  IGHJ4         AREGVVGDTTGLDY\n",
       "2257  IGHV3-33  IGHJ4         AREGAVGATTGVDY\n",
       "2569  IGHV3-33  IGHJ4         AREGQVGATTGFDY\n",
       "2698  IGHV3-33  IGHJ4         AREGIVGETTGLDY\n",
       "2755  IGHV3-33  IGHJ4         AREGAVGETTGLDY\n",
       "2840  IGHV3-33  IGHJ4         AREGAVGATTGFDY\n",
       "3281  IGHV3-33  IGHJ4         AREGQVGATTGIDY\n",
       "3474  IGHV3-33  IGHJ4         AREGQVGATTGLDY\n",
       "4842  IGHV3-33  IGHJ4         AREGIVGATTGFDY\n",
       "6320  IGHV3-33  IGHJ4         AREGAVGATSGLDY\n",
       "17    IGHV3-53  IGHJ4            ARDYGDLYFDY\n",
       "49    IGHV3-53  IGHJ4            ARDYGDFYFDY\n",
       "740   IGHV3-53  IGHJ4            ARDYGDYYFDY\n",
       "1235  IGHV3-53  IGHJ4            ARGYGDYYFDY\n",
       "9     IGHV3-66  IGHJ4            ARDYGDFYFDF\n",
       "185   IGHV3-66  IGHJ4            ARDYGDFYFDY\n",
       "3591  IGHV3-66  IGHJ4            ARDYGDYYFDY\n",
       "2253   IGHV3-7  IGHJ4           ARVGSTSWYFDY\n",
       "4906   IGHV3-7  IGHJ4           ARVGSSSWYFDY\n",
       "3301  IGHV3-74  IGHJ4          AREDIVVVPAIDY\n",
       "2495   IGHV3-9  IGHJ4          AKDIGYSSGLFDY\n",
       "2930  IGHV4-39  IGHJ6   ARHSVLRYFDWLSTDYGMDV"
      ]
     },
     "execution_count": 68,
     "metadata": {},
     "output_type": "execute_result"
    }
   ],
   "source": [
    "known_binder_sequence_distances[\n",
    "    known_binder_sequence_distances[\"centroid_proximity_score\"] >= 0.85\n",
    "][[\"v_gene\", \"j_gene\", \"cdr3_seq_aa_q_trim\"]].sort_values([\"v_gene\", \"j_gene\"])"
   ]
  },
  {
   "cell_type": "code",
   "execution_count": null,
   "metadata": {},
   "outputs": [],
   "source": []
  },
  {
   "cell_type": "code",
   "execution_count": 69,
   "metadata": {},
   "outputs": [
    {
     "data": {
      "text/plain": [
       "IGHV3-30        989\n",
       "IGHV1-69        648\n",
       "IGHV3-53        368\n",
       "IGHV3-33        314\n",
       "IGHV3-23        280\n",
       "IGHV1-46        266\n",
       "IGHV3-9         260\n",
       "IGHV4-39        245\n",
       "IGHV5-51        231\n",
       "IGHV3-66        201\n",
       "IGHV1-18        177\n",
       "IGHV4-4         171\n",
       "IGHV4-59        162\n",
       "IGHV1-2         161\n",
       "IGHV3-13        160\n",
       "IGHV4-31        145\n",
       "IGHV3-21        127\n",
       "IGHV3-7         126\n",
       "IGHV4-34        114\n",
       "IGHV3-48        114\n",
       "IGHV2-5         108\n",
       "IGHV1-58         95\n",
       "IGHV3-15         82\n",
       "IGHV1-24         79\n",
       "IGHV3-30-3       78\n",
       "IGHV2-70         78\n",
       "IGHV4-61         71\n",
       "IGHV7-4-1        69\n",
       "IGHV3-11         69\n",
       "IGHV1-8          58\n",
       "IGHV5-a          52\n",
       "IGHV4-30-4       48\n",
       "IGHV1-3          46\n",
       "IGHV3-64D        44\n",
       "IGHV3-49         40\n",
       "IGHV3-20         32\n",
       "IGHV3-74         23\n",
       "IGHV4-b          22\n",
       "IGHV3-43         22\n",
       "IGHV4-30-2       17\n",
       "IGHV2-26         15\n",
       "IGHV6-1          14\n",
       "IGHV2-70D        10\n",
       "IGHV1-f           8\n",
       "IGHV3-64          8\n",
       "IGHV3-43D         6\n",
       "IGHV3-73          5\n",
       "IGHV3-72          5\n",
       "IGHV1-45          2\n",
       "IGHV4/OR15-8      2\n",
       "IGHV3-h           1\n",
       "Name: v_gene, dtype: int64"
      ]
     },
     "execution_count": 69,
     "metadata": {},
     "output_type": "execute_result"
    }
   ],
   "source": [
    "known_binder_sequence_distances[\"v_gene\"].value_counts()"
   ]
  },
  {
   "cell_type": "code",
   "execution_count": null,
   "metadata": {},
   "outputs": [],
   "source": []
  },
  {
   "cell_type": "code",
   "execution_count": null,
   "metadata": {},
   "outputs": [],
   "source": []
  },
  {
   "cell_type": "code",
   "execution_count": 70,
   "metadata": {},
   "outputs": [
    {
     "data": {
      "text/html": [
       "<div>\n",
       "<style scoped>\n",
       "    .dataframe tbody tr th:only-of-type {\n",
       "        vertical-align: middle;\n",
       "    }\n",
       "\n",
       "    .dataframe tbody tr th {\n",
       "        vertical-align: top;\n",
       "    }\n",
       "\n",
       "    .dataframe thead th {\n",
       "        text-align: right;\n",
       "    }\n",
       "</style>\n",
       "<table border=\"1\" class=\"dataframe\">\n",
       "  <thead>\n",
       "    <tr style=\"text-align: right;\">\n",
       "      <th></th>\n",
       "      <th></th>\n",
       "      <th></th>\n",
       "      <th></th>\n",
       "      <th></th>\n",
       "      <th>cluster_dominant_label</th>\n",
       "      <th>p_value</th>\n",
       "    </tr>\n",
       "    <tr>\n",
       "      <th>v_gene</th>\n",
       "      <th>j_gene</th>\n",
       "      <th>cdr3_aa_sequence_trim_len</th>\n",
       "      <th>cluster_id_within_clustering_group</th>\n",
       "      <th>consensus_sequence</th>\n",
       "      <th></th>\n",
       "      <th></th>\n",
       "    </tr>\n",
       "  </thead>\n",
       "  <tbody>\n",
       "    <tr>\n",
       "      <th>IGHV3-11</th>\n",
       "      <th>IGHJ6</th>\n",
       "      <th>17</th>\n",
       "      <th>664.0</th>\n",
       "      <th>ARDRGGSYGPYYYGMDV</th>\n",
       "      <td>Covid19</td>\n",
       "      <td>0.002962</td>\n",
       "    </tr>\n",
       "    <tr>\n",
       "      <th>IGHV3-48</th>\n",
       "      <th>IGHJ6</th>\n",
       "      <th>17</th>\n",
       "      <th>847.0</th>\n",
       "      <th>ARDRGGDYGPYYYGMDV</th>\n",
       "      <td>Covid19</td>\n",
       "      <td>0.005483</td>\n",
       "    </tr>\n",
       "    <tr>\n",
       "      <th>IGHV3-30-3</th>\n",
       "      <th>IGHJ4</th>\n",
       "      <th>14</th>\n",
       "      <th>1820.0</th>\n",
       "      <th>ARPYSGSYYGYFDY</th>\n",
       "      <td>Covid19</td>\n",
       "      <td>0.000018</td>\n",
       "    </tr>\n",
       "    <tr>\n",
       "      <th>IGHV3-30</th>\n",
       "      <th>IGHJ3</th>\n",
       "      <th>14</th>\n",
       "      <th>562.0</th>\n",
       "      <th>AKARSGSYVSAFDI</th>\n",
       "      <td>Covid19</td>\n",
       "      <td>0.006035</td>\n",
       "    </tr>\n",
       "    <tr>\n",
       "      <th>IGHV3-7</th>\n",
       "      <th>IGHJ4</th>\n",
       "      <th>12</th>\n",
       "      <th>2638.0</th>\n",
       "      <th>ARVGSSSWYFDY</th>\n",
       "      <td>Covid19</td>\n",
       "      <td>0.000494</td>\n",
       "    </tr>\n",
       "    <tr>\n",
       "      <th>...</th>\n",
       "      <th>...</th>\n",
       "      <th>...</th>\n",
       "      <th>...</th>\n",
       "      <th>...</th>\n",
       "      <td>...</td>\n",
       "      <td>...</td>\n",
       "    </tr>\n",
       "    <tr>\n",
       "      <th>IGHV3-30</th>\n",
       "      <th>IGHJ4</th>\n",
       "      <th>14</th>\n",
       "      <th>2483.0</th>\n",
       "      <th>AKGYSGSYYPPFDY</th>\n",
       "      <td>Covid19</td>\n",
       "      <td>0.001106</td>\n",
       "    </tr>\n",
       "    <tr>\n",
       "      <th>IGHV3-33</th>\n",
       "      <th>IGHJ4</th>\n",
       "      <th>14</th>\n",
       "      <th>1925.0</th>\n",
       "      <th>ARTYSGSYYGNFDY</th>\n",
       "      <td>Covid19</td>\n",
       "      <td>0.009514</td>\n",
       "    </tr>\n",
       "    <tr>\n",
       "      <th>IGHV1-69</th>\n",
       "      <th>IGHJ6</th>\n",
       "      <th>23</th>\n",
       "      <th>582.0</th>\n",
       "      <th>ARDYDILTGYYNAGYYYYYGMDV</th>\n",
       "      <td>Covid19</td>\n",
       "      <td>0.001106</td>\n",
       "    </tr>\n",
       "    <tr>\n",
       "      <th>IGHV4-39</th>\n",
       "      <th>IGHJ6</th>\n",
       "      <th>20</th>\n",
       "      <th>232.0</th>\n",
       "      <th>ARHGVLRYFDWLSAYYGMDV</th>\n",
       "      <td>Covid19</td>\n",
       "      <td>0.001106</td>\n",
       "    </tr>\n",
       "    <tr>\n",
       "      <th>IGHV4-59</th>\n",
       "      <th>IGHJ2</th>\n",
       "      <th>19</th>\n",
       "      <th>106.0</th>\n",
       "      <th>ARASILRYFDWLSYWYFDL</th>\n",
       "      <td>Covid19</td>\n",
       "      <td>0.001106</td>\n",
       "    </tr>\n",
       "  </tbody>\n",
       "</table>\n",
       "<p>203 rows × 2 columns</p>\n",
       "</div>"
      ],
      "text/plain": [
       "                                                                                                       cluster_dominant_label  \\\n",
       "v_gene     j_gene cdr3_aa_sequence_trim_len cluster_id_within_clustering_group consensus_sequence                               \n",
       "IGHV3-11   IGHJ6  17                        664.0                              ARDRGGSYGPYYYGMDV                      Covid19   \n",
       "IGHV3-48   IGHJ6  17                        847.0                              ARDRGGDYGPYYYGMDV                      Covid19   \n",
       "IGHV3-30-3 IGHJ4  14                        1820.0                             ARPYSGSYYGYFDY                         Covid19   \n",
       "IGHV3-30   IGHJ3  14                        562.0                              AKARSGSYVSAFDI                         Covid19   \n",
       "IGHV3-7    IGHJ4  12                        2638.0                             ARVGSSSWYFDY                           Covid19   \n",
       "...                                                                                                                       ...   \n",
       "IGHV3-30   IGHJ4  14                        2483.0                             AKGYSGSYYPPFDY                         Covid19   \n",
       "IGHV3-33   IGHJ4  14                        1925.0                             ARTYSGSYYGNFDY                         Covid19   \n",
       "IGHV1-69   IGHJ6  23                        582.0                              ARDYDILTGYYNAGYYYYYGMDV                Covid19   \n",
       "IGHV4-39   IGHJ6  20                        232.0                              ARHGVLRYFDWLSAYYGMDV                   Covid19   \n",
       "IGHV4-59   IGHJ2  19                        106.0                              ARASILRYFDWLSYWYFDL                    Covid19   \n",
       "\n",
       "                                                                                                         p_value  \n",
       "v_gene     j_gene cdr3_aa_sequence_trim_len cluster_id_within_clustering_group consensus_sequence                 \n",
       "IGHV3-11   IGHJ6  17                        664.0                              ARDRGGSYGPYYYGMDV        0.002962  \n",
       "IGHV3-48   IGHJ6  17                        847.0                              ARDRGGDYGPYYYGMDV        0.005483  \n",
       "IGHV3-30-3 IGHJ4  14                        1820.0                             ARPYSGSYYGYFDY           0.000018  \n",
       "IGHV3-30   IGHJ3  14                        562.0                              AKARSGSYVSAFDI           0.006035  \n",
       "IGHV3-7    IGHJ4  12                        2638.0                             ARVGSSSWYFDY             0.000494  \n",
       "...                                                                                                          ...  \n",
       "IGHV3-30   IGHJ4  14                        2483.0                             AKGYSGSYYPPFDY           0.001106  \n",
       "IGHV3-33   IGHJ4  14                        1925.0                             ARTYSGSYYGNFDY           0.009514  \n",
       "IGHV1-69   IGHJ6  23                        582.0                              ARDYDILTGYYNAGYYYYYGMDV  0.001106  \n",
       "IGHV4-39   IGHJ6  20                        232.0                              ARHGVLRYFDWLSAYYGMDV     0.001106  \n",
       "IGHV4-59   IGHJ2  19                        106.0                              ARASILRYFDWLSYWYFDL      0.001106  \n",
       "\n",
       "[203 rows x 2 columns]"
      ]
     },
     "execution_count": 70,
     "metadata": {},
     "output_type": "execute_result"
    }
   ],
   "source": [
    "disease_associated_clusters_from_model2"
   ]
  },
  {
   "cell_type": "code",
   "execution_count": 71,
   "metadata": {},
   "outputs": [
    {
     "data": {
      "text/plain": [
       "(203, 2)"
      ]
     },
     "execution_count": 71,
     "metadata": {},
     "output_type": "execute_result"
    }
   ],
   "source": [
    "# How many Covid-19 clusters are found by Model 2\n",
    "disease_associated_clusters_from_model2.shape"
   ]
  },
  {
   "cell_type": "code",
   "execution_count": 72,
   "metadata": {},
   "outputs": [
    {
     "data": {
      "text/plain": [
       "IGHV1-24      20\n",
       "IGHV3-30-3    16\n",
       "IGHV3-33      13\n",
       "IGHV1-69      11\n",
       "IGHV3-30      11\n",
       "IGHV4-59      10\n",
       "IGHV1-46      10\n",
       "IGHV4-34      10\n",
       "IGHV3-9        9\n",
       "IGHV3-7        8\n",
       "IGHV1-18       6\n",
       "IGHV3-11       6\n",
       "IGHV2-70       6\n",
       "IGHV3-49       5\n",
       "IGHV4-61       5\n",
       "IGHV3-21       5\n",
       "IGHV2-5        5\n",
       "IGHV4-31       4\n",
       "IGHV3-66       4\n",
       "IGHV3-23       4\n",
       "IGHV3-74       4\n",
       "IGHV1-8        4\n",
       "IGHV4-39       4\n",
       "IGHV5-51       3\n",
       "IGHV3-13       3\n",
       "IGHV3-15       3\n",
       "IGHV3-53       2\n",
       "IGHV3-20       2\n",
       "IGHV3-48       2\n",
       "IGHV1-3        2\n",
       "IGHV1-2        2\n",
       "IGHV1-58       2\n",
       "IGHV4-b        1\n",
       "IGHV5-a        1\n",
       "Name: v_gene, dtype: int64"
      ]
     },
     "execution_count": 72,
     "metadata": {},
     "output_type": "execute_result"
    }
   ],
   "source": [
    "disease_associated_clusters_from_model2.index.get_level_values(\n",
    "    \"v_gene\"\n",
    ").remove_unused_categories().value_counts()"
   ]
  },
  {
   "cell_type": "code",
   "execution_count": null,
   "metadata": {},
   "outputs": [],
   "source": []
  },
  {
   "cell_type": "code",
   "execution_count": null,
   "metadata": {},
   "outputs": [],
   "source": []
  },
  {
   "cell_type": "code",
   "execution_count": null,
   "metadata": {},
   "outputs": [],
   "source": []
  },
  {
   "cell_type": "code",
   "execution_count": null,
   "metadata": {},
   "outputs": [],
   "source": []
  },
  {
   "cell_type": "code",
   "execution_count": null,
   "metadata": {},
   "outputs": [],
   "source": []
  }
 ],
 "metadata": {
  "jupytext": {
   "cell_metadata_filter": "-all",
   "notebook_metadata_filter": "-all"
  },
  "kernelspec": {
   "display_name": "py39-cuda-env",
   "language": "python",
   "name": "py39-cuda-env"
  },
  "language_info": {
   "codemirror_mode": {
    "name": "ipython",
    "version": 3
   },
   "file_extension": ".py",
   "mimetype": "text/x-python",
   "name": "python",
   "nbconvert_exporter": "python",
   "pygments_lexer": "ipython3",
   "version": "3.9.17"
  }
 },
 "nbformat": 4,
 "nbformat_minor": 4
}
