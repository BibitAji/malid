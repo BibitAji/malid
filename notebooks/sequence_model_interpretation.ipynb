{
 "cells": [
  {
   "cell_type": "code",
   "execution_count": null,
   "metadata": {},
   "outputs": [],
   "source": []
  },
  {
   "cell_type": "code",
   "execution_count": null,
   "metadata": {},
   "outputs": [],
   "source": []
  },
  {
   "cell_type": "code",
   "execution_count": null,
   "metadata": {
    "tags": []
   },
   "outputs": [],
   "source": [
    "from malid import config, interpretation"
   ]
  },
  {
   "cell_type": "code",
   "execution_count": null,
   "metadata": {},
   "outputs": [],
   "source": []
  },
  {
   "cell_type": "code",
   "execution_count": null,
   "metadata": {},
   "outputs": [],
   "source": []
  },
  {
   "cell_type": "markdown",
   "metadata": {},
   "source": [
    "# Get disease prediction scores for all sequences from those-disease patients (uniques combined from all our test folds)"
   ]
  },
  {
   "cell_type": "code",
   "execution_count": null,
   "metadata": {
    "tags": []
   },
   "outputs": [],
   "source": [
    "for gene_locus in config.gene_loci_used:\n",
    "    print(gene_locus)\n",
    "    main_output_base_dir = (\n",
    "        config.paths.model_interpretations_output_dir / gene_locus.name\n",
    "    )\n",
    "    main_output_base_dir.mkdir(parents=True, exist_ok=True)\n",
    "\n",
    "    highres_output_base_dir = (\n",
    "        config.paths.high_res_outputs_dir / \"model_interpretations\" / gene_locus.name\n",
    "    )\n",
    "    highres_output_base_dir.mkdir(parents=True, exist_ok=True)\n",
    "\n",
    "    ranked_sequence_dfs = interpretation.rank_entire_locus_sequences(\n",
    "        gene_locus=gene_locus,\n",
    "        target_obs_columns=config.classification_targets,\n",
    "        main_output_base_dir=main_output_base_dir,\n",
    "        highres_output_base_dir=highres_output_base_dir,\n",
    "    )"
   ]
  },
  {
   "cell_type": "code",
   "execution_count": null,
   "metadata": {},
   "outputs": [],
   "source": []
  },
  {
   "cell_type": "code",
   "execution_count": null,
   "metadata": {},
   "outputs": [],
   "source": []
  },
  {
   "cell_type": "code",
   "execution_count": null,
   "metadata": {},
   "outputs": [],
   "source": []
  }
 ],
 "metadata": {
  "jupytext": {
   "cell_metadata_filter": "-all",
   "notebook_metadata_filter": "-all"
  },
  "kernelspec": {
   "display_name": "py39-cuda-env",
   "language": "python",
   "name": "py39-cuda-env"
  },
  "language_info": {
   "codemirror_mode": {
    "name": "ipython",
    "version": 3
   },
   "file_extension": ".py",
   "mimetype": "text/x-python",
   "name": "python",
   "nbconvert_exporter": "python",
   "pygments_lexer": "ipython3",
   "version": "3.9.13"
  }
 },
 "nbformat": 4,
 "nbformat_minor": 4
}
