{
 "cells": [
  {
   "cell_type": "code",
   "execution_count": null,
   "id": "6108004f",
   "metadata": {},
   "outputs": [],
   "source": []
  },
  {
   "cell_type": "markdown",
   "id": "2e1210f7-2ea0-4398-8ec5-d0b4ca794c7c",
   "metadata": {},
   "source": [
    "# Analyze convergent clustering model performance on validation set"
   ]
  },
  {
   "cell_type": "code",
   "execution_count": null,
   "id": "08d62b76-ea41-4b6e-ba62-831b438568c4",
   "metadata": {},
   "outputs": [],
   "source": []
  },
  {
   "cell_type": "code",
   "execution_count": 2,
   "id": "9b04f883-d9bb-4fce-83a4-79b3b0dc35ae",
   "metadata": {
    "execution": {
     "iopub.execute_input": "2023-01-07T11:52:53.309279Z",
     "iopub.status.busy": "2023-01-07T11:52:53.308591Z",
     "iopub.status.idle": "2023-01-07T11:52:57.081989Z",
     "shell.execute_reply": "2023-01-07T11:52:57.079421Z"
    }
   },
   "outputs": [],
   "source": [
    "import numpy as np\n",
    "import pandas as pd\n",
    "import matplotlib.pyplot as plt\n",
    "\n",
    "%matplotlib inline\n",
    "import seaborn as sns\n",
    "import genetools\n",
    "from IPython.display import display"
   ]
  },
  {
   "cell_type": "code",
   "execution_count": 3,
   "id": "94d1d195-26ae-4076-849d-791fa661b87b",
   "metadata": {
    "execution": {
     "iopub.execute_input": "2023-01-07T11:52:57.092163Z",
     "iopub.status.busy": "2023-01-07T11:52:57.090815Z",
     "iopub.status.idle": "2023-01-07T11:53:02.538730Z",
     "shell.execute_reply": "2023-01-07T11:53:02.535652Z"
    }
   },
   "outputs": [],
   "source": [
    "from malid import config, logger\n",
    "from malid.external import model_evaluation\n",
    "from malid.datamodels import (\n",
    "    combine_classification_option_names,\n",
    ")\n",
    "from malid.trained_model_wrappers import ConvergentClusterClassifier"
   ]
  },
  {
   "cell_type": "code",
   "execution_count": null,
   "id": "b333b1ee-776a-4ca0-9a22-c241c3f52f6e",
   "metadata": {},
   "outputs": [],
   "source": []
  },
  {
   "cell_type": "code",
   "execution_count": null,
   "id": "9c9de4f9-bc03-4ec1-9d9d-996d62935bb3",
   "metadata": {},
   "outputs": [],
   "source": []
  },
  {
   "cell_type": "code",
   "execution_count": null,
   "id": "f7933e50-9817-4179-a7b0-16df814846b2",
   "metadata": {},
   "outputs": [],
   "source": []
  },
  {
   "cell_type": "markdown",
   "id": "798e1cca",
   "metadata": {},
   "source": [
    "# Analyze"
   ]
  },
  {
   "cell_type": "code",
   "execution_count": 5,
   "id": "220dfa8b",
   "metadata": {
    "execution": {
     "iopub.execute_input": "2023-01-07T11:53:02.569562Z",
     "iopub.status.busy": "2023-01-07T11:53:02.568412Z",
     "iopub.status.idle": "2023-01-07T11:54:22.531861Z",
     "shell.execute_reply": "2023-01-07T11:54:22.529620Z"
    },
    "lines_to_next_cell": 2,
    "tags": []
   },
   "outputs": [
    {
     "name": "stderr",
     "output_type": "stream",
     "text": [
      "2023-01-07 03:53:02,592 - analyze_convergent_clustering_models.ipynb - INFO - GeneLocus.BCR, TargetObsColumnEnum.disease from /users/maximz/code/boyd-immune-repertoire-classification/data/data_v_20221224/convergent_clusters/BCR/disease/train_smaller_model to /users/maximz/code/boyd-immune-repertoire-classification/out/convergent_clusters/BCR/disease/train_smaller_model\n"
     ]
    },
    {
     "name": "stdout",
     "output_type": "stream",
     "text": [
      "GeneLocus.BCR TargetObsColumnEnum.disease\n"
     ]
    },
    {
     "data": {
      "text/html": [
       "<div>\n",
       "<style scoped>\n",
       "    .dataframe tbody tr th:only-of-type {\n",
       "        vertical-align: middle;\n",
       "    }\n",
       "\n",
       "    .dataframe tbody tr th {\n",
       "        vertical-align: top;\n",
       "    }\n",
       "\n",
       "    .dataframe thead th {\n",
       "        text-align: right;\n",
       "    }\n",
       "</style>\n",
       "<table border=\"1\" class=\"dataframe\">\n",
       "  <thead>\n",
       "    <tr style=\"text-align: right;\">\n",
       "      <th></th>\n",
       "      <th>ROC-AUC (weighted OvO) per fold</th>\n",
       "      <th>ROC-AUC (macro OvO) per fold</th>\n",
       "      <th>au-PRC (weighted OvO) per fold</th>\n",
       "      <th>au-PRC (macro OvO) per fold</th>\n",
       "      <th>Accuracy per fold</th>\n",
       "      <th>MCC per fold</th>\n",
       "      <th>Accuracy global</th>\n",
       "      <th>MCC global</th>\n",
       "      <th>Accuracy per fold with abstention</th>\n",
       "      <th>MCC per fold with abstention</th>\n",
       "      <th>...</th>\n",
       "      <th>au-PRC (macro OvO) per fold with abstention</th>\n",
       "      <th>Accuracy global with abstention</th>\n",
       "      <th>MCC global with abstention</th>\n",
       "      <th>Unknown/abstention proportion global with abstention</th>\n",
       "      <th>Abstention label global with abstention</th>\n",
       "      <th>sample_size</th>\n",
       "      <th>n_abstentions</th>\n",
       "      <th>sample_size including abstentions</th>\n",
       "      <th>abstention_rate</th>\n",
       "      <th>missing_classes</th>\n",
       "    </tr>\n",
       "  </thead>\n",
       "  <tbody>\n",
       "    <tr>\n",
       "      <th>lasso_multiclass</th>\n",
       "      <td>0.912 +/- 0.010 (in 3 folds)</td>\n",
       "      <td>0.923 +/- 0.009 (in 3 folds)</td>\n",
       "      <td>0.917 +/- 0.004 (in 3 folds)</td>\n",
       "      <td>0.930 +/- 0.004 (in 3 folds)</td>\n",
       "      <td>0.750 +/- 0.010 (in 3 folds)</td>\n",
       "      <td>0.641 +/- 0.021 (in 3 folds)</td>\n",
       "      <td>0.750</td>\n",
       "      <td>0.637</td>\n",
       "      <td>0.743 +/- 0.019 (in 3 folds)</td>\n",
       "      <td>0.633 +/- 0.027 (in 3 folds)</td>\n",
       "      <td>...</td>\n",
       "      <td>0.931 +/- 0.005 (in 2 folds)</td>\n",
       "      <td>0.743</td>\n",
       "      <td>0.628</td>\n",
       "      <td>0.009</td>\n",
       "      <td>Unknown</td>\n",
       "      <td>320</td>\n",
       "      <td>3</td>\n",
       "      <td>323</td>\n",
       "      <td>0.009288</td>\n",
       "      <td>False</td>\n",
       "    </tr>\n",
       "    <tr>\n",
       "      <th>linearsvm_ovr</th>\n",
       "      <td>0.912 +/- 0.004 (in 3 folds)</td>\n",
       "      <td>0.922 +/- 0.004 (in 3 folds)</td>\n",
       "      <td>0.919 +/- 0.007 (in 3 folds)</td>\n",
       "      <td>0.931 +/- 0.006 (in 3 folds)</td>\n",
       "      <td>0.754 +/- 0.012 (in 3 folds)</td>\n",
       "      <td>0.647 +/- 0.017 (in 3 folds)</td>\n",
       "      <td>0.754</td>\n",
       "      <td>0.643</td>\n",
       "      <td>0.749 +/- 0.005 (in 3 folds)</td>\n",
       "      <td>0.642 +/- 0.008 (in 3 folds)</td>\n",
       "      <td>...</td>\n",
       "      <td>0.934 +/- 0.004 (in 2 folds)</td>\n",
       "      <td>0.749</td>\n",
       "      <td>0.638</td>\n",
       "      <td>0.006</td>\n",
       "      <td>Unknown</td>\n",
       "      <td>321</td>\n",
       "      <td>2</td>\n",
       "      <td>323</td>\n",
       "      <td>0.006192</td>\n",
       "      <td>False</td>\n",
       "    </tr>\n",
       "    <tr>\n",
       "      <th>ridge_cv</th>\n",
       "      <td>0.903 +/- 0.002 (in 3 folds)</td>\n",
       "      <td>0.915 +/- 0.003 (in 3 folds)</td>\n",
       "      <td>0.905 +/- 0.006 (in 3 folds)</td>\n",
       "      <td>0.920 +/- 0.002 (in 3 folds)</td>\n",
       "      <td>0.563 +/- 0.077 (in 3 folds)</td>\n",
       "      <td>0.337 +/- 0.138 (in 3 folds)</td>\n",
       "      <td>0.562</td>\n",
       "      <td>0.344</td>\n",
       "      <td>0.561 +/- 0.078 (in 3 folds)</td>\n",
       "      <td>0.335 +/- 0.138 (in 3 folds)</td>\n",
       "      <td>...</td>\n",
       "      <td>0.920 +/- 0.003 (in 2 folds)</td>\n",
       "      <td>0.560</td>\n",
       "      <td>0.342</td>\n",
       "      <td>0.003</td>\n",
       "      <td>Unknown</td>\n",
       "      <td>322</td>\n",
       "      <td>1</td>\n",
       "      <td>323</td>\n",
       "      <td>0.003096</td>\n",
       "      <td>False</td>\n",
       "    </tr>\n",
       "    <tr>\n",
       "      <th>lasso_cv</th>\n",
       "      <td>0.897 +/- 0.017 (in 3 folds)</td>\n",
       "      <td>0.907 +/- 0.018 (in 3 folds)</td>\n",
       "      <td>0.903 +/- 0.012 (in 3 folds)</td>\n",
       "      <td>0.916 +/- 0.012 (in 3 folds)</td>\n",
       "      <td>0.532 +/- 0.035 (in 3 folds)</td>\n",
       "      <td>0.284 +/- 0.068 (in 3 folds)</td>\n",
       "      <td>0.531</td>\n",
       "      <td>0.287</td>\n",
       "      <td>0.524 +/- 0.041 (in 3 folds)</td>\n",
       "      <td>0.266 +/- 0.089 (in 3 folds)</td>\n",
       "      <td>...</td>\n",
       "      <td>0.921 +/- 0.000 (in 1 folds)</td>\n",
       "      <td>0.523</td>\n",
       "      <td>0.268</td>\n",
       "      <td>0.015</td>\n",
       "      <td>Unknown</td>\n",
       "      <td>318</td>\n",
       "      <td>5</td>\n",
       "      <td>323</td>\n",
       "      <td>0.015480</td>\n",
       "      <td>True</td>\n",
       "    </tr>\n",
       "    <tr>\n",
       "      <th>rf_multiclass</th>\n",
       "      <td>0.889 +/- 0.024 (in 3 folds)</td>\n",
       "      <td>0.896 +/- 0.025 (in 3 folds)</td>\n",
       "      <td>0.885 +/- 0.024 (in 3 folds)</td>\n",
       "      <td>0.894 +/- 0.023 (in 3 folds)</td>\n",
       "      <td>0.740 +/- 0.022 (in 3 folds)</td>\n",
       "      <td>0.616 +/- 0.034 (in 3 folds)</td>\n",
       "      <td>0.740</td>\n",
       "      <td>0.613</td>\n",
       "      <td>0.731 +/- 0.032 (in 3 folds)</td>\n",
       "      <td>0.606 +/- 0.046 (in 3 folds)</td>\n",
       "      <td>...</td>\n",
       "      <td>0.888 +/- 0.000 (in 1 folds)</td>\n",
       "      <td>0.731</td>\n",
       "      <td>0.602</td>\n",
       "      <td>0.012</td>\n",
       "      <td>Unknown</td>\n",
       "      <td>319</td>\n",
       "      <td>4</td>\n",
       "      <td>323</td>\n",
       "      <td>0.012384</td>\n",
       "      <td>False</td>\n",
       "    </tr>\n",
       "    <tr>\n",
       "      <th>xgboost</th>\n",
       "      <td>0.882 +/- 0.009 (in 3 folds)</td>\n",
       "      <td>0.887 +/- 0.009 (in 3 folds)</td>\n",
       "      <td>0.883 +/- 0.009 (in 3 folds)</td>\n",
       "      <td>0.892 +/- 0.008 (in 3 folds)</td>\n",
       "      <td>0.721 +/- 0.007 (in 3 folds)</td>\n",
       "      <td>0.587 +/- 0.004 (in 3 folds)</td>\n",
       "      <td>0.721</td>\n",
       "      <td>0.583</td>\n",
       "      <td>0.712 +/- 0.010 (in 3 folds)</td>\n",
       "      <td>0.577 +/- 0.010 (in 3 folds)</td>\n",
       "      <td>...</td>\n",
       "      <td>0.901 +/- 0.000 (in 1 folds)</td>\n",
       "      <td>0.712</td>\n",
       "      <td>0.573</td>\n",
       "      <td>0.012</td>\n",
       "      <td>Unknown</td>\n",
       "      <td>319</td>\n",
       "      <td>4</td>\n",
       "      <td>323</td>\n",
       "      <td>0.012384</td>\n",
       "      <td>False</td>\n",
       "    </tr>\n",
       "    <tr>\n",
       "      <th>elasticnet_cv</th>\n",
       "      <td>0.878 +/- 0.023 (in 3 folds)</td>\n",
       "      <td>0.891 +/- 0.019 (in 3 folds)</td>\n",
       "      <td>0.891 +/- 0.020 (in 3 folds)</td>\n",
       "      <td>0.906 +/- 0.017 (in 3 folds)</td>\n",
       "      <td>0.590 +/- 0.129 (in 3 folds)</td>\n",
       "      <td>0.370 +/- 0.219 (in 3 folds)</td>\n",
       "      <td>0.589</td>\n",
       "      <td>0.386</td>\n",
       "      <td>0.587 +/- 0.133 (in 3 folds)</td>\n",
       "      <td>0.368 +/- 0.223 (in 3 folds)</td>\n",
       "      <td>...</td>\n",
       "      <td>0.906 +/- 0.024 (in 2 folds)</td>\n",
       "      <td>0.585</td>\n",
       "      <td>0.382</td>\n",
       "      <td>0.006</td>\n",
       "      <td>Unknown</td>\n",
       "      <td>321</td>\n",
       "      <td>2</td>\n",
       "      <td>323</td>\n",
       "      <td>0.006192</td>\n",
       "      <td>False</td>\n",
       "    </tr>\n",
       "    <tr>\n",
       "      <th>dummy_stratified</th>\n",
       "      <td>0.536 +/- 0.032 (in 3 folds)</td>\n",
       "      <td>0.543 +/- 0.036 (in 3 folds)</td>\n",
       "      <td>0.529 +/- 0.020 (in 3 folds)</td>\n",
       "      <td>0.535 +/- 0.024 (in 3 folds)</td>\n",
       "      <td>0.378 +/- 0.047 (in 3 folds)</td>\n",
       "      <td>0.066 +/- 0.060 (in 3 folds)</td>\n",
       "      <td>0.377</td>\n",
       "      <td>0.064</td>\n",
       "      <td>0.366 +/- 0.040 (in 3 folds)</td>\n",
       "      <td>0.064 +/- 0.055 (in 3 folds)</td>\n",
       "      <td>...</td>\n",
       "      <td>NaN</td>\n",
       "      <td>0.365</td>\n",
       "      <td>0.063</td>\n",
       "      <td>0.031</td>\n",
       "      <td>Unknown</td>\n",
       "      <td>313</td>\n",
       "      <td>10</td>\n",
       "      <td>323</td>\n",
       "      <td>0.030960</td>\n",
       "      <td>False</td>\n",
       "    </tr>\n",
       "    <tr>\n",
       "      <th>dummy_most_frequent</th>\n",
       "      <td>0.500 +/- 0.000 (in 3 folds)</td>\n",
       "      <td>0.500 +/- 0.000 (in 3 folds)</td>\n",
       "      <td>0.500 +/- 0.000 (in 3 folds)</td>\n",
       "      <td>0.500 +/- 0.000 (in 3 folds)</td>\n",
       "      <td>0.467 +/- 0.016 (in 3 folds)</td>\n",
       "      <td>0.000 +/- 0.000 (in 3 folds)</td>\n",
       "      <td>0.466</td>\n",
       "      <td>0.000</td>\n",
       "      <td>0.452 +/- 0.010 (in 3 folds)</td>\n",
       "      <td>0.028 +/- 0.020 (in 3 folds)</td>\n",
       "      <td>...</td>\n",
       "      <td>NaN</td>\n",
       "      <td>0.452</td>\n",
       "      <td>0.025</td>\n",
       "      <td>0.031</td>\n",
       "      <td>Unknown</td>\n",
       "      <td>313</td>\n",
       "      <td>10</td>\n",
       "      <td>323</td>\n",
       "      <td>0.030960</td>\n",
       "      <td>True</td>\n",
       "    </tr>\n",
       "  </tbody>\n",
       "</table>\n",
       "<p>9 rows × 24 columns</p>\n",
       "</div>"
      ],
      "text/plain": [
       "                    ROC-AUC (weighted OvO) per fold  \\\n",
       "lasso_multiclass       0.912 +/- 0.010 (in 3 folds)   \n",
       "linearsvm_ovr          0.912 +/- 0.004 (in 3 folds)   \n",
       "ridge_cv               0.903 +/- 0.002 (in 3 folds)   \n",
       "lasso_cv               0.897 +/- 0.017 (in 3 folds)   \n",
       "rf_multiclass          0.889 +/- 0.024 (in 3 folds)   \n",
       "xgboost                0.882 +/- 0.009 (in 3 folds)   \n",
       "elasticnet_cv          0.878 +/- 0.023 (in 3 folds)   \n",
       "dummy_stratified       0.536 +/- 0.032 (in 3 folds)   \n",
       "dummy_most_frequent    0.500 +/- 0.000 (in 3 folds)   \n",
       "\n",
       "                     ROC-AUC (macro OvO) per fold  \\\n",
       "lasso_multiclass     0.923 +/- 0.009 (in 3 folds)   \n",
       "linearsvm_ovr        0.922 +/- 0.004 (in 3 folds)   \n",
       "ridge_cv             0.915 +/- 0.003 (in 3 folds)   \n",
       "lasso_cv             0.907 +/- 0.018 (in 3 folds)   \n",
       "rf_multiclass        0.896 +/- 0.025 (in 3 folds)   \n",
       "xgboost              0.887 +/- 0.009 (in 3 folds)   \n",
       "elasticnet_cv        0.891 +/- 0.019 (in 3 folds)   \n",
       "dummy_stratified     0.543 +/- 0.036 (in 3 folds)   \n",
       "dummy_most_frequent  0.500 +/- 0.000 (in 3 folds)   \n",
       "\n",
       "                    au-PRC (weighted OvO) per fold  \\\n",
       "lasso_multiclass      0.917 +/- 0.004 (in 3 folds)   \n",
       "linearsvm_ovr         0.919 +/- 0.007 (in 3 folds)   \n",
       "ridge_cv              0.905 +/- 0.006 (in 3 folds)   \n",
       "lasso_cv              0.903 +/- 0.012 (in 3 folds)   \n",
       "rf_multiclass         0.885 +/- 0.024 (in 3 folds)   \n",
       "xgboost               0.883 +/- 0.009 (in 3 folds)   \n",
       "elasticnet_cv         0.891 +/- 0.020 (in 3 folds)   \n",
       "dummy_stratified      0.529 +/- 0.020 (in 3 folds)   \n",
       "dummy_most_frequent   0.500 +/- 0.000 (in 3 folds)   \n",
       "\n",
       "                      au-PRC (macro OvO) per fold  \\\n",
       "lasso_multiclass     0.930 +/- 0.004 (in 3 folds)   \n",
       "linearsvm_ovr        0.931 +/- 0.006 (in 3 folds)   \n",
       "ridge_cv             0.920 +/- 0.002 (in 3 folds)   \n",
       "lasso_cv             0.916 +/- 0.012 (in 3 folds)   \n",
       "rf_multiclass        0.894 +/- 0.023 (in 3 folds)   \n",
       "xgboost              0.892 +/- 0.008 (in 3 folds)   \n",
       "elasticnet_cv        0.906 +/- 0.017 (in 3 folds)   \n",
       "dummy_stratified     0.535 +/- 0.024 (in 3 folds)   \n",
       "dummy_most_frequent  0.500 +/- 0.000 (in 3 folds)   \n",
       "\n",
       "                                Accuracy per fold  \\\n",
       "lasso_multiclass     0.750 +/- 0.010 (in 3 folds)   \n",
       "linearsvm_ovr        0.754 +/- 0.012 (in 3 folds)   \n",
       "ridge_cv             0.563 +/- 0.077 (in 3 folds)   \n",
       "lasso_cv             0.532 +/- 0.035 (in 3 folds)   \n",
       "rf_multiclass        0.740 +/- 0.022 (in 3 folds)   \n",
       "xgboost              0.721 +/- 0.007 (in 3 folds)   \n",
       "elasticnet_cv        0.590 +/- 0.129 (in 3 folds)   \n",
       "dummy_stratified     0.378 +/- 0.047 (in 3 folds)   \n",
       "dummy_most_frequent  0.467 +/- 0.016 (in 3 folds)   \n",
       "\n",
       "                                     MCC per fold Accuracy global MCC global  \\\n",
       "lasso_multiclass     0.641 +/- 0.021 (in 3 folds)           0.750      0.637   \n",
       "linearsvm_ovr        0.647 +/- 0.017 (in 3 folds)           0.754      0.643   \n",
       "ridge_cv             0.337 +/- 0.138 (in 3 folds)           0.562      0.344   \n",
       "lasso_cv             0.284 +/- 0.068 (in 3 folds)           0.531      0.287   \n",
       "rf_multiclass        0.616 +/- 0.034 (in 3 folds)           0.740      0.613   \n",
       "xgboost              0.587 +/- 0.004 (in 3 folds)           0.721      0.583   \n",
       "elasticnet_cv        0.370 +/- 0.219 (in 3 folds)           0.589      0.386   \n",
       "dummy_stratified     0.066 +/- 0.060 (in 3 folds)           0.377      0.064   \n",
       "dummy_most_frequent  0.000 +/- 0.000 (in 3 folds)           0.466      0.000   \n",
       "\n",
       "                    Accuracy per fold with abstention  \\\n",
       "lasso_multiclass         0.743 +/- 0.019 (in 3 folds)   \n",
       "linearsvm_ovr            0.749 +/- 0.005 (in 3 folds)   \n",
       "ridge_cv                 0.561 +/- 0.078 (in 3 folds)   \n",
       "lasso_cv                 0.524 +/- 0.041 (in 3 folds)   \n",
       "rf_multiclass            0.731 +/- 0.032 (in 3 folds)   \n",
       "xgboost                  0.712 +/- 0.010 (in 3 folds)   \n",
       "elasticnet_cv            0.587 +/- 0.133 (in 3 folds)   \n",
       "dummy_stratified         0.366 +/- 0.040 (in 3 folds)   \n",
       "dummy_most_frequent      0.452 +/- 0.010 (in 3 folds)   \n",
       "\n",
       "                     MCC per fold with abstention  ...  \\\n",
       "lasso_multiclass     0.633 +/- 0.027 (in 3 folds)  ...   \n",
       "linearsvm_ovr        0.642 +/- 0.008 (in 3 folds)  ...   \n",
       "ridge_cv             0.335 +/- 0.138 (in 3 folds)  ...   \n",
       "lasso_cv             0.266 +/- 0.089 (in 3 folds)  ...   \n",
       "rf_multiclass        0.606 +/- 0.046 (in 3 folds)  ...   \n",
       "xgboost              0.577 +/- 0.010 (in 3 folds)  ...   \n",
       "elasticnet_cv        0.368 +/- 0.223 (in 3 folds)  ...   \n",
       "dummy_stratified     0.064 +/- 0.055 (in 3 folds)  ...   \n",
       "dummy_most_frequent  0.028 +/- 0.020 (in 3 folds)  ...   \n",
       "\n",
       "                    au-PRC (macro OvO) per fold with abstention  \\\n",
       "lasso_multiclass                   0.931 +/- 0.005 (in 2 folds)   \n",
       "linearsvm_ovr                      0.934 +/- 0.004 (in 2 folds)   \n",
       "ridge_cv                           0.920 +/- 0.003 (in 2 folds)   \n",
       "lasso_cv                           0.921 +/- 0.000 (in 1 folds)   \n",
       "rf_multiclass                      0.888 +/- 0.000 (in 1 folds)   \n",
       "xgboost                            0.901 +/- 0.000 (in 1 folds)   \n",
       "elasticnet_cv                      0.906 +/- 0.024 (in 2 folds)   \n",
       "dummy_stratified                                            NaN   \n",
       "dummy_most_frequent                                         NaN   \n",
       "\n",
       "                    Accuracy global with abstention  \\\n",
       "lasso_multiclass                              0.743   \n",
       "linearsvm_ovr                                 0.749   \n",
       "ridge_cv                                      0.560   \n",
       "lasso_cv                                      0.523   \n",
       "rf_multiclass                                 0.731   \n",
       "xgboost                                       0.712   \n",
       "elasticnet_cv                                 0.585   \n",
       "dummy_stratified                              0.365   \n",
       "dummy_most_frequent                           0.452   \n",
       "\n",
       "                    MCC global with abstention  \\\n",
       "lasso_multiclass                         0.628   \n",
       "linearsvm_ovr                            0.638   \n",
       "ridge_cv                                 0.342   \n",
       "lasso_cv                                 0.268   \n",
       "rf_multiclass                            0.602   \n",
       "xgboost                                  0.573   \n",
       "elasticnet_cv                            0.382   \n",
       "dummy_stratified                         0.063   \n",
       "dummy_most_frequent                      0.025   \n",
       "\n",
       "                    Unknown/abstention proportion global with abstention  \\\n",
       "lasso_multiclass                                                 0.009     \n",
       "linearsvm_ovr                                                    0.006     \n",
       "ridge_cv                                                         0.003     \n",
       "lasso_cv                                                         0.015     \n",
       "rf_multiclass                                                    0.012     \n",
       "xgboost                                                          0.012     \n",
       "elasticnet_cv                                                    0.006     \n",
       "dummy_stratified                                                 0.031     \n",
       "dummy_most_frequent                                              0.031     \n",
       "\n",
       "                    Abstention label global with abstention sample_size  \\\n",
       "lasso_multiclass                                    Unknown         320   \n",
       "linearsvm_ovr                                       Unknown         321   \n",
       "ridge_cv                                            Unknown         322   \n",
       "lasso_cv                                            Unknown         318   \n",
       "rf_multiclass                                       Unknown         319   \n",
       "xgboost                                             Unknown         319   \n",
       "elasticnet_cv                                       Unknown         321   \n",
       "dummy_stratified                                    Unknown         313   \n",
       "dummy_most_frequent                                 Unknown         313   \n",
       "\n",
       "                    n_abstentions sample_size including abstentions  \\\n",
       "lasso_multiclass                3                               323   \n",
       "linearsvm_ovr                   2                               323   \n",
       "ridge_cv                        1                               323   \n",
       "lasso_cv                        5                               323   \n",
       "rf_multiclass                   4                               323   \n",
       "xgboost                         4                               323   \n",
       "elasticnet_cv                   2                               323   \n",
       "dummy_stratified               10                               323   \n",
       "dummy_most_frequent            10                               323   \n",
       "\n",
       "                    abstention_rate  missing_classes  \n",
       "lasso_multiclass           0.009288            False  \n",
       "linearsvm_ovr              0.006192            False  \n",
       "ridge_cv                   0.003096            False  \n",
       "lasso_cv                   0.015480             True  \n",
       "rf_multiclass              0.012384            False  \n",
       "xgboost                    0.012384            False  \n",
       "elasticnet_cv              0.006192            False  \n",
       "dummy_stratified           0.030960            False  \n",
       "dummy_most_frequent        0.030960             True  \n",
       "\n",
       "[9 rows x 24 columns]"
      ]
     },
     "metadata": {},
     "output_type": "display_data"
    },
    {
     "name": "stdout",
     "output_type": "stream",
     "text": [
      "GeneLocus.BCR, fold 0, TargetObsColumnEnum.disease, lasso_multiclass: best p value = 0.0005. Number of disease associated clusters: {'Covid19': 137, 'HIV': 151, 'Healthy/Background': 20, 'Lupus': 23}\n",
      "GeneLocus.BCR, fold 0, TargetObsColumnEnum.disease, rf_multiclass: best p value = 0.005. Number of disease associated clusters: {'Covid19': 354, 'HIV': 365, 'Healthy/Background': 102, 'Lupus': 182}\n",
      "GeneLocus.BCR, fold 0, TargetObsColumnEnum.disease, linearsvm_ovr: best p value = 0.001. Number of disease associated clusters: {'Covid19': 144, 'HIV': 172, 'Healthy/Background': 35, 'Lupus': 41}\n",
      "\n",
      "GeneLocus.BCR, fold 1, TargetObsColumnEnum.disease, lasso_multiclass: best p value = 0.005. Number of disease associated clusters: {'Covid19': 301, 'HIV': 212, 'Healthy/Background': 157, 'Lupus': 291}\n"
     ]
    },
    {
     "name": "stderr",
     "output_type": "stream",
     "text": [
      "2023-01-07 03:53:07,843 - analyze_convergent_clustering_models.ipynb - INFO - GeneLocus.BCR, TargetObsColumnEnum.disease_all_demographics_present from /users/maximz/code/boyd-immune-repertoire-classification/data/data_v_20221224/convergent_clusters/BCR/disease_all_demographics_present/train_smaller_model to /users/maximz/code/boyd-immune-repertoire-classification/out/convergent_clusters/BCR/disease_all_demographics_present/train_smaller_model\n"
     ]
    },
    {
     "name": "stdout",
     "output_type": "stream",
     "text": [
      "GeneLocus.BCR, fold 1, TargetObsColumnEnum.disease, rf_multiclass: best p value = 0.005. Number of disease associated clusters: {'Covid19': 301, 'HIV': 212, 'Healthy/Background': 157, 'Lupus': 291}\n",
      "GeneLocus.BCR, fold 1, TargetObsColumnEnum.disease, linearsvm_ovr: best p value = 0.01. Number of disease associated clusters: {'Covid19': 351, 'HIV': 552, 'Healthy/Background': 301, 'Lupus': 709}\n",
      "\n",
      "GeneLocus.BCR, fold 2, TargetObsColumnEnum.disease, lasso_multiclass: best p value = 0.005. Number of disease associated clusters: {'Covid19': 149, 'HIV': 221, 'Healthy/Background': 147, 'Lupus': 414}\n",
      "GeneLocus.BCR, fold 2, TargetObsColumnEnum.disease, rf_multiclass: best p value = 0.0005. Number of disease associated clusters: {'Covid19': 58, 'HIV': 89, 'Healthy/Background': 28, 'Lupus': 63}\n",
      "GeneLocus.BCR, fold 2, TargetObsColumnEnum.disease, linearsvm_ovr: best p value = 0.01. Number of disease associated clusters: {'Covid19': 187, 'HIV': 594, 'Healthy/Background': 284, 'Lupus': 940}\n",
      "\n"
     ]
    },
    {
     "name": "stdout",
     "output_type": "stream",
     "text": [
      "GeneLocus.BCR TargetObsColumnEnum.disease_all_demographics_present\n"
     ]
    },
    {
     "data": {
      "text/html": [
       "<div>\n",
       "<style scoped>\n",
       "    .dataframe tbody tr th:only-of-type {\n",
       "        vertical-align: middle;\n",
       "    }\n",
       "\n",
       "    .dataframe tbody tr th {\n",
       "        vertical-align: top;\n",
       "    }\n",
       "\n",
       "    .dataframe thead th {\n",
       "        text-align: right;\n",
       "    }\n",
       "</style>\n",
       "<table border=\"1\" class=\"dataframe\">\n",
       "  <thead>\n",
       "    <tr style=\"text-align: right;\">\n",
       "      <th></th>\n",
       "      <th>ROC-AUC (weighted OvO) per fold</th>\n",
       "      <th>ROC-AUC (macro OvO) per fold</th>\n",
       "      <th>au-PRC (weighted OvO) per fold</th>\n",
       "      <th>au-PRC (macro OvO) per fold</th>\n",
       "      <th>Accuracy per fold</th>\n",
       "      <th>MCC per fold</th>\n",
       "      <th>Accuracy global</th>\n",
       "      <th>MCC global</th>\n",
       "      <th>Accuracy per fold with abstention</th>\n",
       "      <th>MCC per fold with abstention</th>\n",
       "      <th>...</th>\n",
       "      <th>au-PRC (macro OvO) per fold with abstention</th>\n",
       "      <th>Accuracy global with abstention</th>\n",
       "      <th>MCC global with abstention</th>\n",
       "      <th>Unknown/abstention proportion global with abstention</th>\n",
       "      <th>Abstention label global with abstention</th>\n",
       "      <th>sample_size</th>\n",
       "      <th>n_abstentions</th>\n",
       "      <th>sample_size including abstentions</th>\n",
       "      <th>abstention_rate</th>\n",
       "      <th>missing_classes</th>\n",
       "    </tr>\n",
       "  </thead>\n",
       "  <tbody>\n",
       "    <tr>\n",
       "      <th>linearsvm_ovr</th>\n",
       "      <td>0.914 +/- 0.004 (in 3 folds)</td>\n",
       "      <td>0.924 +/- 0.006 (in 3 folds)</td>\n",
       "      <td>0.921 +/- 0.006 (in 3 folds)</td>\n",
       "      <td>0.931 +/- 0.009 (in 3 folds)</td>\n",
       "      <td>0.746 +/- 0.026 (in 3 folds)</td>\n",
       "      <td>0.620 +/- 0.030 (in 3 folds)</td>\n",
       "      <td>0.746</td>\n",
       "      <td>0.620</td>\n",
       "      <td>0.741 +/- 0.029 (in 3 folds)</td>\n",
       "      <td>0.614 +/- 0.030 (in 3 folds)</td>\n",
       "      <td>...</td>\n",
       "      <td>0.923 +/- 0.000 (in 1 folds)</td>\n",
       "      <td>0.740</td>\n",
       "      <td>0.614</td>\n",
       "      <td>0.007</td>\n",
       "      <td>Unknown</td>\n",
       "      <td>283</td>\n",
       "      <td>2</td>\n",
       "      <td>285</td>\n",
       "      <td>0.007018</td>\n",
       "      <td>False</td>\n",
       "    </tr>\n",
       "    <tr>\n",
       "      <th>lasso_multiclass</th>\n",
       "      <td>0.911 +/- 0.014 (in 3 folds)</td>\n",
       "      <td>0.921 +/- 0.013 (in 3 folds)</td>\n",
       "      <td>0.920 +/- 0.014 (in 3 folds)</td>\n",
       "      <td>0.930 +/- 0.014 (in 3 folds)</td>\n",
       "      <td>0.738 +/- 0.028 (in 3 folds)</td>\n",
       "      <td>0.622 +/- 0.043 (in 3 folds)</td>\n",
       "      <td>0.738</td>\n",
       "      <td>0.618</td>\n",
       "      <td>0.730 +/- 0.028 (in 3 folds)</td>\n",
       "      <td>0.613 +/- 0.042 (in 3 folds)</td>\n",
       "      <td>...</td>\n",
       "      <td>NaN</td>\n",
       "      <td>0.730</td>\n",
       "      <td>0.609</td>\n",
       "      <td>0.011</td>\n",
       "      <td>Unknown</td>\n",
       "      <td>282</td>\n",
       "      <td>3</td>\n",
       "      <td>285</td>\n",
       "      <td>0.010526</td>\n",
       "      <td>False</td>\n",
       "    </tr>\n",
       "    <tr>\n",
       "      <th>ridge_cv</th>\n",
       "      <td>0.900 +/- 0.015 (in 3 folds)</td>\n",
       "      <td>0.912 +/- 0.017 (in 3 folds)</td>\n",
       "      <td>0.902 +/- 0.025 (in 3 folds)</td>\n",
       "      <td>0.916 +/- 0.027 (in 3 folds)</td>\n",
       "      <td>0.534 +/- 0.111 (in 3 folds)</td>\n",
       "      <td>0.171 +/- 0.296 (in 3 folds)</td>\n",
       "      <td>0.535</td>\n",
       "      <td>0.292</td>\n",
       "      <td>0.508 +/- 0.120 (in 3 folds)</td>\n",
       "      <td>0.193 +/- 0.256 (in 3 folds)</td>\n",
       "      <td>...</td>\n",
       "      <td>NaN</td>\n",
       "      <td>0.509</td>\n",
       "      <td>0.229</td>\n",
       "      <td>0.049</td>\n",
       "      <td>Unknown</td>\n",
       "      <td>271</td>\n",
       "      <td>14</td>\n",
       "      <td>285</td>\n",
       "      <td>0.049123</td>\n",
       "      <td>False</td>\n",
       "    </tr>\n",
       "    <tr>\n",
       "      <th>xgboost</th>\n",
       "      <td>0.890 +/- 0.015 (in 3 folds)</td>\n",
       "      <td>0.894 +/- 0.021 (in 3 folds)</td>\n",
       "      <td>0.899 +/- 0.017 (in 3 folds)</td>\n",
       "      <td>0.907 +/- 0.024 (in 3 folds)</td>\n",
       "      <td>0.728 +/- 0.016 (in 3 folds)</td>\n",
       "      <td>0.593 +/- 0.040 (in 3 folds)</td>\n",
       "      <td>0.728</td>\n",
       "      <td>0.592</td>\n",
       "      <td>0.712 +/- 0.006 (in 3 folds)</td>\n",
       "      <td>0.574 +/- 0.022 (in 3 folds)</td>\n",
       "      <td>...</td>\n",
       "      <td>0.880 +/- 0.000 (in 1 folds)</td>\n",
       "      <td>0.712</td>\n",
       "      <td>0.573</td>\n",
       "      <td>0.021</td>\n",
       "      <td>Unknown</td>\n",
       "      <td>279</td>\n",
       "      <td>6</td>\n",
       "      <td>285</td>\n",
       "      <td>0.021053</td>\n",
       "      <td>False</td>\n",
       "    </tr>\n",
       "    <tr>\n",
       "      <th>lasso_cv</th>\n",
       "      <td>0.884 +/- 0.031 (in 3 folds)</td>\n",
       "      <td>0.898 +/- 0.030 (in 3 folds)</td>\n",
       "      <td>0.888 +/- 0.032 (in 3 folds)</td>\n",
       "      <td>0.905 +/- 0.032 (in 3 folds)</td>\n",
       "      <td>0.588 +/- 0.142 (in 3 folds)</td>\n",
       "      <td>0.380 +/- 0.206 (in 3 folds)</td>\n",
       "      <td>0.587</td>\n",
       "      <td>0.376</td>\n",
       "      <td>0.584 +/- 0.144 (in 3 folds)</td>\n",
       "      <td>0.367 +/- 0.212 (in 3 folds)</td>\n",
       "      <td>...</td>\n",
       "      <td>0.868 +/- 0.000 (in 1 folds)</td>\n",
       "      <td>0.582</td>\n",
       "      <td>0.367</td>\n",
       "      <td>0.007</td>\n",
       "      <td>Unknown</td>\n",
       "      <td>283</td>\n",
       "      <td>2</td>\n",
       "      <td>285</td>\n",
       "      <td>0.007018</td>\n",
       "      <td>False</td>\n",
       "    </tr>\n",
       "    <tr>\n",
       "      <th>rf_multiclass</th>\n",
       "      <td>0.878 +/- 0.018 (in 3 folds)</td>\n",
       "      <td>0.885 +/- 0.022 (in 3 folds)</td>\n",
       "      <td>0.883 +/- 0.025 (in 3 folds)</td>\n",
       "      <td>0.893 +/- 0.028 (in 3 folds)</td>\n",
       "      <td>0.739 +/- 0.019 (in 3 folds)</td>\n",
       "      <td>0.612 +/- 0.042 (in 3 folds)</td>\n",
       "      <td>0.739</td>\n",
       "      <td>0.612</td>\n",
       "      <td>0.726 +/- 0.021 (in 3 folds)</td>\n",
       "      <td>0.596 +/- 0.032 (in 3 folds)</td>\n",
       "      <td>...</td>\n",
       "      <td>0.890 +/- 0.000 (in 1 folds)</td>\n",
       "      <td>0.726</td>\n",
       "      <td>0.594</td>\n",
       "      <td>0.018</td>\n",
       "      <td>Unknown</td>\n",
       "      <td>280</td>\n",
       "      <td>5</td>\n",
       "      <td>285</td>\n",
       "      <td>0.017544</td>\n",
       "      <td>False</td>\n",
       "    </tr>\n",
       "    <tr>\n",
       "      <th>elasticnet_cv</th>\n",
       "      <td>0.878 +/- 0.013 (in 3 folds)</td>\n",
       "      <td>0.891 +/- 0.009 (in 3 folds)</td>\n",
       "      <td>0.896 +/- 0.015 (in 3 folds)</td>\n",
       "      <td>0.911 +/- 0.012 (in 3 folds)</td>\n",
       "      <td>0.610 +/- 0.143 (in 3 folds)</td>\n",
       "      <td>0.422 +/- 0.212 (in 3 folds)</td>\n",
       "      <td>0.611</td>\n",
       "      <td>0.431</td>\n",
       "      <td>0.601 +/- 0.150 (in 3 folds)</td>\n",
       "      <td>0.391 +/- 0.247 (in 3 folds)</td>\n",
       "      <td>...</td>\n",
       "      <td>0.897 +/- 0.000 (in 1 folds)</td>\n",
       "      <td>0.600</td>\n",
       "      <td>0.405</td>\n",
       "      <td>0.018</td>\n",
       "      <td>Unknown</td>\n",
       "      <td>280</td>\n",
       "      <td>5</td>\n",
       "      <td>285</td>\n",
       "      <td>0.017544</td>\n",
       "      <td>False</td>\n",
       "    </tr>\n",
       "    <tr>\n",
       "      <th>dummy_stratified</th>\n",
       "      <td>0.549 +/- 0.026 (in 3 folds)</td>\n",
       "      <td>0.547 +/- 0.016 (in 3 folds)</td>\n",
       "      <td>0.533 +/- 0.013 (in 3 folds)</td>\n",
       "      <td>0.534 +/- 0.009 (in 3 folds)</td>\n",
       "      <td>0.414 +/- 0.059 (in 3 folds)</td>\n",
       "      <td>0.110 +/- 0.066 (in 3 folds)</td>\n",
       "      <td>0.410</td>\n",
       "      <td>0.105</td>\n",
       "      <td>0.393 +/- 0.023 (in 3 folds)</td>\n",
       "      <td>0.104 +/- 0.055 (in 3 folds)</td>\n",
       "      <td>...</td>\n",
       "      <td>0.529 +/- 0.007 (in 2 folds)</td>\n",
       "      <td>0.393</td>\n",
       "      <td>0.102</td>\n",
       "      <td>0.042</td>\n",
       "      <td>Unknown</td>\n",
       "      <td>273</td>\n",
       "      <td>12</td>\n",
       "      <td>285</td>\n",
       "      <td>0.042105</td>\n",
       "      <td>False</td>\n",
       "    </tr>\n",
       "    <tr>\n",
       "      <th>dummy_most_frequent</th>\n",
       "      <td>0.500 +/- 0.000 (in 3 folds)</td>\n",
       "      <td>0.500 +/- 0.000 (in 3 folds)</td>\n",
       "      <td>0.500 +/- 0.000 (in 3 folds)</td>\n",
       "      <td>0.500 +/- 0.000 (in 3 folds)</td>\n",
       "      <td>0.474 +/- 0.043 (in 3 folds)</td>\n",
       "      <td>0.000 +/- 0.000 (in 3 folds)</td>\n",
       "      <td>0.472</td>\n",
       "      <td>0.000</td>\n",
       "      <td>0.442 +/- 0.013 (in 3 folds)</td>\n",
       "      <td>0.035 +/- 0.020 (in 3 folds)</td>\n",
       "      <td>...</td>\n",
       "      <td>NaN</td>\n",
       "      <td>0.442</td>\n",
       "      <td>0.029</td>\n",
       "      <td>0.063</td>\n",
       "      <td>Unknown</td>\n",
       "      <td>267</td>\n",
       "      <td>18</td>\n",
       "      <td>285</td>\n",
       "      <td>0.063158</td>\n",
       "      <td>True</td>\n",
       "    </tr>\n",
       "  </tbody>\n",
       "</table>\n",
       "<p>9 rows × 24 columns</p>\n",
       "</div>"
      ],
      "text/plain": [
       "                    ROC-AUC (weighted OvO) per fold  \\\n",
       "linearsvm_ovr          0.914 +/- 0.004 (in 3 folds)   \n",
       "lasso_multiclass       0.911 +/- 0.014 (in 3 folds)   \n",
       "ridge_cv               0.900 +/- 0.015 (in 3 folds)   \n",
       "xgboost                0.890 +/- 0.015 (in 3 folds)   \n",
       "lasso_cv               0.884 +/- 0.031 (in 3 folds)   \n",
       "rf_multiclass          0.878 +/- 0.018 (in 3 folds)   \n",
       "elasticnet_cv          0.878 +/- 0.013 (in 3 folds)   \n",
       "dummy_stratified       0.549 +/- 0.026 (in 3 folds)   \n",
       "dummy_most_frequent    0.500 +/- 0.000 (in 3 folds)   \n",
       "\n",
       "                     ROC-AUC (macro OvO) per fold  \\\n",
       "linearsvm_ovr        0.924 +/- 0.006 (in 3 folds)   \n",
       "lasso_multiclass     0.921 +/- 0.013 (in 3 folds)   \n",
       "ridge_cv             0.912 +/- 0.017 (in 3 folds)   \n",
       "xgboost              0.894 +/- 0.021 (in 3 folds)   \n",
       "lasso_cv             0.898 +/- 0.030 (in 3 folds)   \n",
       "rf_multiclass        0.885 +/- 0.022 (in 3 folds)   \n",
       "elasticnet_cv        0.891 +/- 0.009 (in 3 folds)   \n",
       "dummy_stratified     0.547 +/- 0.016 (in 3 folds)   \n",
       "dummy_most_frequent  0.500 +/- 0.000 (in 3 folds)   \n",
       "\n",
       "                    au-PRC (weighted OvO) per fold  \\\n",
       "linearsvm_ovr         0.921 +/- 0.006 (in 3 folds)   \n",
       "lasso_multiclass      0.920 +/- 0.014 (in 3 folds)   \n",
       "ridge_cv              0.902 +/- 0.025 (in 3 folds)   \n",
       "xgboost               0.899 +/- 0.017 (in 3 folds)   \n",
       "lasso_cv              0.888 +/- 0.032 (in 3 folds)   \n",
       "rf_multiclass         0.883 +/- 0.025 (in 3 folds)   \n",
       "elasticnet_cv         0.896 +/- 0.015 (in 3 folds)   \n",
       "dummy_stratified      0.533 +/- 0.013 (in 3 folds)   \n",
       "dummy_most_frequent   0.500 +/- 0.000 (in 3 folds)   \n",
       "\n",
       "                      au-PRC (macro OvO) per fold  \\\n",
       "linearsvm_ovr        0.931 +/- 0.009 (in 3 folds)   \n",
       "lasso_multiclass     0.930 +/- 0.014 (in 3 folds)   \n",
       "ridge_cv             0.916 +/- 0.027 (in 3 folds)   \n",
       "xgboost              0.907 +/- 0.024 (in 3 folds)   \n",
       "lasso_cv             0.905 +/- 0.032 (in 3 folds)   \n",
       "rf_multiclass        0.893 +/- 0.028 (in 3 folds)   \n",
       "elasticnet_cv        0.911 +/- 0.012 (in 3 folds)   \n",
       "dummy_stratified     0.534 +/- 0.009 (in 3 folds)   \n",
       "dummy_most_frequent  0.500 +/- 0.000 (in 3 folds)   \n",
       "\n",
       "                                Accuracy per fold  \\\n",
       "linearsvm_ovr        0.746 +/- 0.026 (in 3 folds)   \n",
       "lasso_multiclass     0.738 +/- 0.028 (in 3 folds)   \n",
       "ridge_cv             0.534 +/- 0.111 (in 3 folds)   \n",
       "xgboost              0.728 +/- 0.016 (in 3 folds)   \n",
       "lasso_cv             0.588 +/- 0.142 (in 3 folds)   \n",
       "rf_multiclass        0.739 +/- 0.019 (in 3 folds)   \n",
       "elasticnet_cv        0.610 +/- 0.143 (in 3 folds)   \n",
       "dummy_stratified     0.414 +/- 0.059 (in 3 folds)   \n",
       "dummy_most_frequent  0.474 +/- 0.043 (in 3 folds)   \n",
       "\n",
       "                                     MCC per fold Accuracy global MCC global  \\\n",
       "linearsvm_ovr        0.620 +/- 0.030 (in 3 folds)           0.746      0.620   \n",
       "lasso_multiclass     0.622 +/- 0.043 (in 3 folds)           0.738      0.618   \n",
       "ridge_cv             0.171 +/- 0.296 (in 3 folds)           0.535      0.292   \n",
       "xgboost              0.593 +/- 0.040 (in 3 folds)           0.728      0.592   \n",
       "lasso_cv             0.380 +/- 0.206 (in 3 folds)           0.587      0.376   \n",
       "rf_multiclass        0.612 +/- 0.042 (in 3 folds)           0.739      0.612   \n",
       "elasticnet_cv        0.422 +/- 0.212 (in 3 folds)           0.611      0.431   \n",
       "dummy_stratified     0.110 +/- 0.066 (in 3 folds)           0.410      0.105   \n",
       "dummy_most_frequent  0.000 +/- 0.000 (in 3 folds)           0.472      0.000   \n",
       "\n",
       "                    Accuracy per fold with abstention  \\\n",
       "linearsvm_ovr            0.741 +/- 0.029 (in 3 folds)   \n",
       "lasso_multiclass         0.730 +/- 0.028 (in 3 folds)   \n",
       "ridge_cv                 0.508 +/- 0.120 (in 3 folds)   \n",
       "xgboost                  0.712 +/- 0.006 (in 3 folds)   \n",
       "lasso_cv                 0.584 +/- 0.144 (in 3 folds)   \n",
       "rf_multiclass            0.726 +/- 0.021 (in 3 folds)   \n",
       "elasticnet_cv            0.601 +/- 0.150 (in 3 folds)   \n",
       "dummy_stratified         0.393 +/- 0.023 (in 3 folds)   \n",
       "dummy_most_frequent      0.442 +/- 0.013 (in 3 folds)   \n",
       "\n",
       "                     MCC per fold with abstention  ...  \\\n",
       "linearsvm_ovr        0.614 +/- 0.030 (in 3 folds)  ...   \n",
       "lasso_multiclass     0.613 +/- 0.042 (in 3 folds)  ...   \n",
       "ridge_cv             0.193 +/- 0.256 (in 3 folds)  ...   \n",
       "xgboost              0.574 +/- 0.022 (in 3 folds)  ...   \n",
       "lasso_cv             0.367 +/- 0.212 (in 3 folds)  ...   \n",
       "rf_multiclass        0.596 +/- 0.032 (in 3 folds)  ...   \n",
       "elasticnet_cv        0.391 +/- 0.247 (in 3 folds)  ...   \n",
       "dummy_stratified     0.104 +/- 0.055 (in 3 folds)  ...   \n",
       "dummy_most_frequent  0.035 +/- 0.020 (in 3 folds)  ...   \n",
       "\n",
       "                    au-PRC (macro OvO) per fold with abstention  \\\n",
       "linearsvm_ovr                      0.923 +/- 0.000 (in 1 folds)   \n",
       "lasso_multiclass                                            NaN   \n",
       "ridge_cv                                                    NaN   \n",
       "xgboost                            0.880 +/- 0.000 (in 1 folds)   \n",
       "lasso_cv                           0.868 +/- 0.000 (in 1 folds)   \n",
       "rf_multiclass                      0.890 +/- 0.000 (in 1 folds)   \n",
       "elasticnet_cv                      0.897 +/- 0.000 (in 1 folds)   \n",
       "dummy_stratified                   0.529 +/- 0.007 (in 2 folds)   \n",
       "dummy_most_frequent                                         NaN   \n",
       "\n",
       "                    Accuracy global with abstention  \\\n",
       "linearsvm_ovr                                 0.740   \n",
       "lasso_multiclass                              0.730   \n",
       "ridge_cv                                      0.509   \n",
       "xgboost                                       0.712   \n",
       "lasso_cv                                      0.582   \n",
       "rf_multiclass                                 0.726   \n",
       "elasticnet_cv                                 0.600   \n",
       "dummy_stratified                              0.393   \n",
       "dummy_most_frequent                           0.442   \n",
       "\n",
       "                    MCC global with abstention  \\\n",
       "linearsvm_ovr                            0.614   \n",
       "lasso_multiclass                         0.609   \n",
       "ridge_cv                                 0.229   \n",
       "xgboost                                  0.573   \n",
       "lasso_cv                                 0.367   \n",
       "rf_multiclass                            0.594   \n",
       "elasticnet_cv                            0.405   \n",
       "dummy_stratified                         0.102   \n",
       "dummy_most_frequent                      0.029   \n",
       "\n",
       "                    Unknown/abstention proportion global with abstention  \\\n",
       "linearsvm_ovr                                                    0.007     \n",
       "lasso_multiclass                                                 0.011     \n",
       "ridge_cv                                                         0.049     \n",
       "xgboost                                                          0.021     \n",
       "lasso_cv                                                         0.007     \n",
       "rf_multiclass                                                    0.018     \n",
       "elasticnet_cv                                                    0.018     \n",
       "dummy_stratified                                                 0.042     \n",
       "dummy_most_frequent                                              0.063     \n",
       "\n",
       "                    Abstention label global with abstention sample_size  \\\n",
       "linearsvm_ovr                                       Unknown         283   \n",
       "lasso_multiclass                                    Unknown         282   \n",
       "ridge_cv                                            Unknown         271   \n",
       "xgboost                                             Unknown         279   \n",
       "lasso_cv                                            Unknown         283   \n",
       "rf_multiclass                                       Unknown         280   \n",
       "elasticnet_cv                                       Unknown         280   \n",
       "dummy_stratified                                    Unknown         273   \n",
       "dummy_most_frequent                                 Unknown         267   \n",
       "\n",
       "                    n_abstentions sample_size including abstentions  \\\n",
       "linearsvm_ovr                   2                               285   \n",
       "lasso_multiclass                3                               285   \n",
       "ridge_cv                       14                               285   \n",
       "xgboost                         6                               285   \n",
       "lasso_cv                        2                               285   \n",
       "rf_multiclass                   5                               285   \n",
       "elasticnet_cv                   5                               285   \n",
       "dummy_stratified               12                               285   \n",
       "dummy_most_frequent            18                               285   \n",
       "\n",
       "                    abstention_rate  missing_classes  \n",
       "linearsvm_ovr              0.007018            False  \n",
       "lasso_multiclass           0.010526            False  \n",
       "ridge_cv                   0.049123            False  \n",
       "xgboost                    0.021053            False  \n",
       "lasso_cv                   0.007018            False  \n",
       "rf_multiclass              0.017544            False  \n",
       "elasticnet_cv              0.017544            False  \n",
       "dummy_stratified           0.042105            False  \n",
       "dummy_most_frequent        0.063158             True  \n",
       "\n",
       "[9 rows x 24 columns]"
      ]
     },
     "metadata": {},
     "output_type": "display_data"
    },
    {
     "name": "stdout",
     "output_type": "stream",
     "text": [
      "GeneLocus.BCR, fold 0, TargetObsColumnEnum.disease_all_demographics_present, lasso_multiclass: best p value = 0.005. Number of disease associated clusters: {'Covid19': 323, 'HIV': 286, 'Healthy/Background': 99, 'Lupus': 124}\n",
      "GeneLocus.BCR, fold 0, TargetObsColumnEnum.disease_all_demographics_present, rf_multiclass: best p value = 0.001. Number of disease associated clusters: {'Covid19': 158, 'HIV': 143, 'Healthy/Background': 33, 'Lupus': 25}\n",
      "GeneLocus.BCR, fold 0, TargetObsColumnEnum.disease_all_demographics_present, linearsvm_ovr: best p value = 0.005. Number of disease associated clusters: {'Covid19': 323, 'HIV': 286, 'Healthy/Background': 99, 'Lupus': 124}\n",
      "\n",
      "GeneLocus.BCR, fold 1, TargetObsColumnEnum.disease_all_demographics_present, lasso_multiclass: best p value = 0.005. Number of disease associated clusters: {'Covid19': 147, 'HIV': 175, 'Healthy/Background': 144, 'Lupus': 209}\n"
     ]
    },
    {
     "name": "stdout",
     "output_type": "stream",
     "text": [
      "GeneLocus.BCR, fold 1, TargetObsColumnEnum.disease_all_demographics_present, rf_multiclass: best p value = 0.01. Number of disease associated clusters: {'Covid19': 702, 'HIV': 499, 'Healthy/Background': 215, 'Lupus': 708}\n"
     ]
    },
    {
     "name": "stderr",
     "output_type": "stream",
     "text": [
      "2023-01-07 03:53:12,587 - analyze_convergent_clustering_models.ipynb - INFO - GeneLocus.BCR, TargetObsColumnEnum.covid_vs_healthy from /users/maximz/code/boyd-immune-repertoire-classification/data/data_v_20221224/convergent_clusters/BCR/covid_vs_healthy/train_smaller_model to /users/maximz/code/boyd-immune-repertoire-classification/out/convergent_clusters/BCR/covid_vs_healthy/train_smaller_model\n"
     ]
    },
    {
     "name": "stdout",
     "output_type": "stream",
     "text": [
      "GeneLocus.BCR, fold 1, TargetObsColumnEnum.disease_all_demographics_present, linearsvm_ovr: best p value = 0.01. Number of disease associated clusters: {'Covid19': 702, 'HIV': 499, 'Healthy/Background': 215, 'Lupus': 708}\n",
      "\n",
      "GeneLocus.BCR, fold 2, TargetObsColumnEnum.disease_all_demographics_present, lasso_multiclass: best p value = 0.005. Number of disease associated clusters: {'Covid19': 64, 'HIV': 186, 'Healthy/Background': 124, 'Lupus': 267}\n",
      "GeneLocus.BCR, fold 2, TargetObsColumnEnum.disease_all_demographics_present, rf_multiclass: best p value = 0.005. Number of disease associated clusters: {'Covid19': 64, 'HIV': 186, 'Healthy/Background': 124, 'Lupus': 267}\n",
      "GeneLocus.BCR, fold 2, TargetObsColumnEnum.disease_all_demographics_present, linearsvm_ovr: best p value = 0.005. Number of disease associated clusters: {'Covid19': 64, 'HIV': 186, 'Healthy/Background': 124, 'Lupus': 267}\n",
      "\n"
     ]
    },
    {
     "name": "stdout",
     "output_type": "stream",
     "text": [
      "GeneLocus.BCR TargetObsColumnEnum.covid_vs_healthy\n"
     ]
    },
    {
     "data": {
      "text/html": [
       "<div>\n",
       "<style scoped>\n",
       "    .dataframe tbody tr th:only-of-type {\n",
       "        vertical-align: middle;\n",
       "    }\n",
       "\n",
       "    .dataframe tbody tr th {\n",
       "        vertical-align: top;\n",
       "    }\n",
       "\n",
       "    .dataframe thead th {\n",
       "        text-align: right;\n",
       "    }\n",
       "</style>\n",
       "<table border=\"1\" class=\"dataframe\">\n",
       "  <thead>\n",
       "    <tr style=\"text-align: right;\">\n",
       "      <th></th>\n",
       "      <th>ROC-AUC (weighted OvO) per fold</th>\n",
       "      <th>ROC-AUC (macro OvO) per fold</th>\n",
       "      <th>au-PRC (weighted OvO) per fold</th>\n",
       "      <th>au-PRC (macro OvO) per fold</th>\n",
       "      <th>Accuracy per fold</th>\n",
       "      <th>MCC per fold</th>\n",
       "      <th>Accuracy global</th>\n",
       "      <th>MCC global</th>\n",
       "      <th>ROC-AUC (weighted OvO) per fold with abstention</th>\n",
       "      <th>ROC-AUC (macro OvO) per fold with abstention</th>\n",
       "      <th>...</th>\n",
       "      <th>Unknown/abstention proportion per fold with abstention</th>\n",
       "      <th>Accuracy global with abstention</th>\n",
       "      <th>MCC global with abstention</th>\n",
       "      <th>Unknown/abstention proportion global with abstention</th>\n",
       "      <th>Abstention label global with abstention</th>\n",
       "      <th>sample_size</th>\n",
       "      <th>n_abstentions</th>\n",
       "      <th>sample_size including abstentions</th>\n",
       "      <th>abstention_rate</th>\n",
       "      <th>missing_classes</th>\n",
       "    </tr>\n",
       "  </thead>\n",
       "  <tbody>\n",
       "    <tr>\n",
       "      <th>linearsvm_ovr</th>\n",
       "      <td>0.994 +/- 0.001 (in 3 folds)</td>\n",
       "      <td>0.994 +/- 0.001 (in 3 folds)</td>\n",
       "      <td>0.998 +/- 0.000 (in 3 folds)</td>\n",
       "      <td>0.998 +/- 0.000 (in 3 folds)</td>\n",
       "      <td>0.963 +/- 0.018 (in 3 folds)</td>\n",
       "      <td>0.903 +/- 0.041 (in 3 folds)</td>\n",
       "      <td>0.963</td>\n",
       "      <td>0.898</td>\n",
       "      <td>0.994 +/- 0.000 (in 1 folds)</td>\n",
       "      <td>0.994 +/- 0.000 (in 1 folds)</td>\n",
       "      <td>...</td>\n",
       "      <td>0.016 +/- 0.000 (in 2 folds)</td>\n",
       "      <td>0.953</td>\n",
       "      <td>0.873</td>\n",
       "      <td>0.010</td>\n",
       "      <td>Unknown</td>\n",
       "      <td>189</td>\n",
       "      <td>2</td>\n",
       "      <td>191</td>\n",
       "      <td>0.010471</td>\n",
       "      <td>False</td>\n",
       "    </tr>\n",
       "    <tr>\n",
       "      <th>ridge_cv</th>\n",
       "      <td>0.992 +/- 0.004 (in 3 folds)</td>\n",
       "      <td>0.992 +/- 0.004 (in 3 folds)</td>\n",
       "      <td>0.998 +/- 0.001 (in 3 folds)</td>\n",
       "      <td>0.998 +/- 0.001 (in 3 folds)</td>\n",
       "      <td>0.789 +/- 0.013 (in 3 folds)</td>\n",
       "      <td>0.000 +/- 0.000 (in 3 folds)</td>\n",
       "      <td>0.789</td>\n",
       "      <td>0.000</td>\n",
       "      <td>NaN</td>\n",
       "      <td>NaN</td>\n",
       "      <td>...</td>\n",
       "      <td>0.031 +/- 0.016 (in 3 folds)</td>\n",
       "      <td>0.764</td>\n",
       "      <td>0.061</td>\n",
       "      <td>0.031</td>\n",
       "      <td>Unknown</td>\n",
       "      <td>185</td>\n",
       "      <td>6</td>\n",
       "      <td>191</td>\n",
       "      <td>0.031414</td>\n",
       "      <td>True</td>\n",
       "    </tr>\n",
       "    <tr>\n",
       "      <th>lasso_multiclass</th>\n",
       "      <td>0.992 +/- 0.003 (in 3 folds)</td>\n",
       "      <td>0.992 +/- 0.003 (in 3 folds)</td>\n",
       "      <td>0.998 +/- 0.000 (in 3 folds)</td>\n",
       "      <td>0.998 +/- 0.000 (in 3 folds)</td>\n",
       "      <td>0.963 +/- 0.018 (in 3 folds)</td>\n",
       "      <td>0.897 +/- 0.048 (in 3 folds)</td>\n",
       "      <td>0.963</td>\n",
       "      <td>0.892</td>\n",
       "      <td>0.993 +/- 0.000 (in 1 folds)</td>\n",
       "      <td>0.993 +/- 0.000 (in 1 folds)</td>\n",
       "      <td>...</td>\n",
       "      <td>0.016 +/- 0.000 (in 2 folds)</td>\n",
       "      <td>0.953</td>\n",
       "      <td>0.866</td>\n",
       "      <td>0.010</td>\n",
       "      <td>Unknown</td>\n",
       "      <td>189</td>\n",
       "      <td>2</td>\n",
       "      <td>191</td>\n",
       "      <td>0.010471</td>\n",
       "      <td>False</td>\n",
       "    </tr>\n",
       "    <tr>\n",
       "      <th>elasticnet_cv</th>\n",
       "      <td>0.990 +/- 0.008 (in 3 folds)</td>\n",
       "      <td>0.990 +/- 0.008 (in 3 folds)</td>\n",
       "      <td>0.997 +/- 0.002 (in 3 folds)</td>\n",
       "      <td>0.997 +/- 0.002 (in 3 folds)</td>\n",
       "      <td>0.803 +/- 0.017 (in 3 folds)</td>\n",
       "      <td>0.275 +/- 0.057 (in 3 folds)</td>\n",
       "      <td>0.803</td>\n",
       "      <td>0.279</td>\n",
       "      <td>0.986 +/- 0.004 (in 2 folds)</td>\n",
       "      <td>0.986 +/- 0.004 (in 2 folds)</td>\n",
       "      <td>...</td>\n",
       "      <td>0.048 +/- 0.000 (in 1 folds)</td>\n",
       "      <td>0.791</td>\n",
       "      <td>0.220</td>\n",
       "      <td>0.016</td>\n",
       "      <td>Unknown</td>\n",
       "      <td>188</td>\n",
       "      <td>3</td>\n",
       "      <td>191</td>\n",
       "      <td>0.015707</td>\n",
       "      <td>False</td>\n",
       "    </tr>\n",
       "    <tr>\n",
       "      <th>rf_multiclass</th>\n",
       "      <td>0.989 +/- 0.004 (in 3 folds)</td>\n",
       "      <td>0.989 +/- 0.004 (in 3 folds)</td>\n",
       "      <td>0.997 +/- 0.001 (in 3 folds)</td>\n",
       "      <td>0.997 +/- 0.001 (in 3 folds)</td>\n",
       "      <td>0.947 +/- 0.025 (in 3 folds)</td>\n",
       "      <td>0.853 +/- 0.064 (in 3 folds)</td>\n",
       "      <td>0.947</td>\n",
       "      <td>0.851</td>\n",
       "      <td>0.989 +/- 0.000 (in 1 folds)</td>\n",
       "      <td>0.989 +/- 0.000 (in 1 folds)</td>\n",
       "      <td>...</td>\n",
       "      <td>0.016 +/- 0.000 (in 2 folds)</td>\n",
       "      <td>0.937</td>\n",
       "      <td>0.828</td>\n",
       "      <td>0.010</td>\n",
       "      <td>Unknown</td>\n",
       "      <td>189</td>\n",
       "      <td>2</td>\n",
       "      <td>191</td>\n",
       "      <td>0.010471</td>\n",
       "      <td>False</td>\n",
       "    </tr>\n",
       "    <tr>\n",
       "      <th>lasso_cv</th>\n",
       "      <td>0.988 +/- 0.010 (in 3 folds)</td>\n",
       "      <td>0.988 +/- 0.010 (in 3 folds)</td>\n",
       "      <td>0.996 +/- 0.003 (in 3 folds)</td>\n",
       "      <td>0.996 +/- 0.003 (in 3 folds)</td>\n",
       "      <td>0.867 +/- 0.043 (in 3 folds)</td>\n",
       "      <td>0.559 +/- 0.185 (in 3 folds)</td>\n",
       "      <td>0.868</td>\n",
       "      <td>0.578</td>\n",
       "      <td>0.989 +/- 0.000 (in 1 folds)</td>\n",
       "      <td>0.989 +/- 0.000 (in 1 folds)</td>\n",
       "      <td>...</td>\n",
       "      <td>0.016 +/- 0.000 (in 2 folds)</td>\n",
       "      <td>0.859</td>\n",
       "      <td>0.549</td>\n",
       "      <td>0.010</td>\n",
       "      <td>Unknown</td>\n",
       "      <td>189</td>\n",
       "      <td>2</td>\n",
       "      <td>191</td>\n",
       "      <td>0.010471</td>\n",
       "      <td>False</td>\n",
       "    </tr>\n",
       "    <tr>\n",
       "      <th>xgboost</th>\n",
       "      <td>0.981 +/- 0.020 (in 3 folds)</td>\n",
       "      <td>0.981 +/- 0.020 (in 3 folds)</td>\n",
       "      <td>0.993 +/- 0.006 (in 3 folds)</td>\n",
       "      <td>0.993 +/- 0.006 (in 3 folds)</td>\n",
       "      <td>0.958 +/- 0.033 (in 3 folds)</td>\n",
       "      <td>0.869 +/- 0.110 (in 3 folds)</td>\n",
       "      <td>0.957</td>\n",
       "      <td>0.872</td>\n",
       "      <td>0.975 +/- 0.023 (in 2 folds)</td>\n",
       "      <td>0.975 +/- 0.023 (in 2 folds)</td>\n",
       "      <td>...</td>\n",
       "      <td>0.063 +/- 0.000 (in 1 folds)</td>\n",
       "      <td>0.937</td>\n",
       "      <td>0.817</td>\n",
       "      <td>0.021</td>\n",
       "      <td>Unknown</td>\n",
       "      <td>187</td>\n",
       "      <td>4</td>\n",
       "      <td>191</td>\n",
       "      <td>0.020942</td>\n",
       "      <td>False</td>\n",
       "    </tr>\n",
       "    <tr>\n",
       "      <th>dummy_most_frequent</th>\n",
       "      <td>0.500 +/- 0.000 (in 3 folds)</td>\n",
       "      <td>0.500 +/- 0.000 (in 3 folds)</td>\n",
       "      <td>0.789 +/- 0.013 (in 3 folds)</td>\n",
       "      <td>0.789 +/- 0.013 (in 3 folds)</td>\n",
       "      <td>0.789 +/- 0.013 (in 3 folds)</td>\n",
       "      <td>0.000 +/- 0.000 (in 3 folds)</td>\n",
       "      <td>0.789</td>\n",
       "      <td>0.000</td>\n",
       "      <td>NaN</td>\n",
       "      <td>NaN</td>\n",
       "      <td>...</td>\n",
       "      <td>0.031 +/- 0.016 (in 3 folds)</td>\n",
       "      <td>0.764</td>\n",
       "      <td>0.061</td>\n",
       "      <td>0.031</td>\n",
       "      <td>Unknown</td>\n",
       "      <td>185</td>\n",
       "      <td>6</td>\n",
       "      <td>191</td>\n",
       "      <td>0.031414</td>\n",
       "      <td>True</td>\n",
       "    </tr>\n",
       "    <tr>\n",
       "      <th>dummy_stratified</th>\n",
       "      <td>0.428 +/- 0.020 (in 3 folds)</td>\n",
       "      <td>0.428 +/- 0.020 (in 3 folds)</td>\n",
       "      <td>0.764 +/- 0.021 (in 3 folds)</td>\n",
       "      <td>0.764 +/- 0.021 (in 3 folds)</td>\n",
       "      <td>0.629 +/- 0.033 (in 3 folds)</td>\n",
       "      <td>-0.150 +/- 0.034 (in 3 folds)</td>\n",
       "      <td>0.628</td>\n",
       "      <td>-0.151</td>\n",
       "      <td>NaN</td>\n",
       "      <td>NaN</td>\n",
       "      <td>...</td>\n",
       "      <td>0.042 +/- 0.010 (in 3 folds)</td>\n",
       "      <td>0.602</td>\n",
       "      <td>-0.121</td>\n",
       "      <td>0.042</td>\n",
       "      <td>Unknown</td>\n",
       "      <td>183</td>\n",
       "      <td>8</td>\n",
       "      <td>191</td>\n",
       "      <td>0.041885</td>\n",
       "      <td>False</td>\n",
       "    </tr>\n",
       "  </tbody>\n",
       "</table>\n",
       "<p>9 rows × 24 columns</p>\n",
       "</div>"
      ],
      "text/plain": [
       "                    ROC-AUC (weighted OvO) per fold  \\\n",
       "linearsvm_ovr          0.994 +/- 0.001 (in 3 folds)   \n",
       "ridge_cv               0.992 +/- 0.004 (in 3 folds)   \n",
       "lasso_multiclass       0.992 +/- 0.003 (in 3 folds)   \n",
       "elasticnet_cv          0.990 +/- 0.008 (in 3 folds)   \n",
       "rf_multiclass          0.989 +/- 0.004 (in 3 folds)   \n",
       "lasso_cv               0.988 +/- 0.010 (in 3 folds)   \n",
       "xgboost                0.981 +/- 0.020 (in 3 folds)   \n",
       "dummy_most_frequent    0.500 +/- 0.000 (in 3 folds)   \n",
       "dummy_stratified       0.428 +/- 0.020 (in 3 folds)   \n",
       "\n",
       "                     ROC-AUC (macro OvO) per fold  \\\n",
       "linearsvm_ovr        0.994 +/- 0.001 (in 3 folds)   \n",
       "ridge_cv             0.992 +/- 0.004 (in 3 folds)   \n",
       "lasso_multiclass     0.992 +/- 0.003 (in 3 folds)   \n",
       "elasticnet_cv        0.990 +/- 0.008 (in 3 folds)   \n",
       "rf_multiclass        0.989 +/- 0.004 (in 3 folds)   \n",
       "lasso_cv             0.988 +/- 0.010 (in 3 folds)   \n",
       "xgboost              0.981 +/- 0.020 (in 3 folds)   \n",
       "dummy_most_frequent  0.500 +/- 0.000 (in 3 folds)   \n",
       "dummy_stratified     0.428 +/- 0.020 (in 3 folds)   \n",
       "\n",
       "                    au-PRC (weighted OvO) per fold  \\\n",
       "linearsvm_ovr         0.998 +/- 0.000 (in 3 folds)   \n",
       "ridge_cv              0.998 +/- 0.001 (in 3 folds)   \n",
       "lasso_multiclass      0.998 +/- 0.000 (in 3 folds)   \n",
       "elasticnet_cv         0.997 +/- 0.002 (in 3 folds)   \n",
       "rf_multiclass         0.997 +/- 0.001 (in 3 folds)   \n",
       "lasso_cv              0.996 +/- 0.003 (in 3 folds)   \n",
       "xgboost               0.993 +/- 0.006 (in 3 folds)   \n",
       "dummy_most_frequent   0.789 +/- 0.013 (in 3 folds)   \n",
       "dummy_stratified      0.764 +/- 0.021 (in 3 folds)   \n",
       "\n",
       "                      au-PRC (macro OvO) per fold  \\\n",
       "linearsvm_ovr        0.998 +/- 0.000 (in 3 folds)   \n",
       "ridge_cv             0.998 +/- 0.001 (in 3 folds)   \n",
       "lasso_multiclass     0.998 +/- 0.000 (in 3 folds)   \n",
       "elasticnet_cv        0.997 +/- 0.002 (in 3 folds)   \n",
       "rf_multiclass        0.997 +/- 0.001 (in 3 folds)   \n",
       "lasso_cv             0.996 +/- 0.003 (in 3 folds)   \n",
       "xgboost              0.993 +/- 0.006 (in 3 folds)   \n",
       "dummy_most_frequent  0.789 +/- 0.013 (in 3 folds)   \n",
       "dummy_stratified     0.764 +/- 0.021 (in 3 folds)   \n",
       "\n",
       "                                Accuracy per fold  \\\n",
       "linearsvm_ovr        0.963 +/- 0.018 (in 3 folds)   \n",
       "ridge_cv             0.789 +/- 0.013 (in 3 folds)   \n",
       "lasso_multiclass     0.963 +/- 0.018 (in 3 folds)   \n",
       "elasticnet_cv        0.803 +/- 0.017 (in 3 folds)   \n",
       "rf_multiclass        0.947 +/- 0.025 (in 3 folds)   \n",
       "lasso_cv             0.867 +/- 0.043 (in 3 folds)   \n",
       "xgboost              0.958 +/- 0.033 (in 3 folds)   \n",
       "dummy_most_frequent  0.789 +/- 0.013 (in 3 folds)   \n",
       "dummy_stratified     0.629 +/- 0.033 (in 3 folds)   \n",
       "\n",
       "                                      MCC per fold Accuracy global MCC global  \\\n",
       "linearsvm_ovr         0.903 +/- 0.041 (in 3 folds)           0.963      0.898   \n",
       "ridge_cv              0.000 +/- 0.000 (in 3 folds)           0.789      0.000   \n",
       "lasso_multiclass      0.897 +/- 0.048 (in 3 folds)           0.963      0.892   \n",
       "elasticnet_cv         0.275 +/- 0.057 (in 3 folds)           0.803      0.279   \n",
       "rf_multiclass         0.853 +/- 0.064 (in 3 folds)           0.947      0.851   \n",
       "lasso_cv              0.559 +/- 0.185 (in 3 folds)           0.868      0.578   \n",
       "xgboost               0.869 +/- 0.110 (in 3 folds)           0.957      0.872   \n",
       "dummy_most_frequent   0.000 +/- 0.000 (in 3 folds)           0.789      0.000   \n",
       "dummy_stratified     -0.150 +/- 0.034 (in 3 folds)           0.628     -0.151   \n",
       "\n",
       "                    ROC-AUC (weighted OvO) per fold with abstention  \\\n",
       "linearsvm_ovr                          0.994 +/- 0.000 (in 1 folds)   \n",
       "ridge_cv                                                        NaN   \n",
       "lasso_multiclass                       0.993 +/- 0.000 (in 1 folds)   \n",
       "elasticnet_cv                          0.986 +/- 0.004 (in 2 folds)   \n",
       "rf_multiclass                          0.989 +/- 0.000 (in 1 folds)   \n",
       "lasso_cv                               0.989 +/- 0.000 (in 1 folds)   \n",
       "xgboost                                0.975 +/- 0.023 (in 2 folds)   \n",
       "dummy_most_frequent                                             NaN   \n",
       "dummy_stratified                                                NaN   \n",
       "\n",
       "                    ROC-AUC (macro OvO) per fold with abstention  ...  \\\n",
       "linearsvm_ovr                       0.994 +/- 0.000 (in 1 folds)  ...   \n",
       "ridge_cv                                                     NaN  ...   \n",
       "lasso_multiclass                    0.993 +/- 0.000 (in 1 folds)  ...   \n",
       "elasticnet_cv                       0.986 +/- 0.004 (in 2 folds)  ...   \n",
       "rf_multiclass                       0.989 +/- 0.000 (in 1 folds)  ...   \n",
       "lasso_cv                            0.989 +/- 0.000 (in 1 folds)  ...   \n",
       "xgboost                             0.975 +/- 0.023 (in 2 folds)  ...   \n",
       "dummy_most_frequent                                          NaN  ...   \n",
       "dummy_stratified                                             NaN  ...   \n",
       "\n",
       "                    Unknown/abstention proportion per fold with abstention  \\\n",
       "linearsvm_ovr                             0.016 +/- 0.000 (in 2 folds)       \n",
       "ridge_cv                                  0.031 +/- 0.016 (in 3 folds)       \n",
       "lasso_multiclass                          0.016 +/- 0.000 (in 2 folds)       \n",
       "elasticnet_cv                             0.048 +/- 0.000 (in 1 folds)       \n",
       "rf_multiclass                             0.016 +/- 0.000 (in 2 folds)       \n",
       "lasso_cv                                  0.016 +/- 0.000 (in 2 folds)       \n",
       "xgboost                                   0.063 +/- 0.000 (in 1 folds)       \n",
       "dummy_most_frequent                       0.031 +/- 0.016 (in 3 folds)       \n",
       "dummy_stratified                          0.042 +/- 0.010 (in 3 folds)       \n",
       "\n",
       "                    Accuracy global with abstention  \\\n",
       "linearsvm_ovr                                 0.953   \n",
       "ridge_cv                                      0.764   \n",
       "lasso_multiclass                              0.953   \n",
       "elasticnet_cv                                 0.791   \n",
       "rf_multiclass                                 0.937   \n",
       "lasso_cv                                      0.859   \n",
       "xgboost                                       0.937   \n",
       "dummy_most_frequent                           0.764   \n",
       "dummy_stratified                              0.602   \n",
       "\n",
       "                    MCC global with abstention  \\\n",
       "linearsvm_ovr                            0.873   \n",
       "ridge_cv                                 0.061   \n",
       "lasso_multiclass                         0.866   \n",
       "elasticnet_cv                            0.220   \n",
       "rf_multiclass                            0.828   \n",
       "lasso_cv                                 0.549   \n",
       "xgboost                                  0.817   \n",
       "dummy_most_frequent                      0.061   \n",
       "dummy_stratified                        -0.121   \n",
       "\n",
       "                    Unknown/abstention proportion global with abstention  \\\n",
       "linearsvm_ovr                                                    0.010     \n",
       "ridge_cv                                                         0.031     \n",
       "lasso_multiclass                                                 0.010     \n",
       "elasticnet_cv                                                    0.016     \n",
       "rf_multiclass                                                    0.010     \n",
       "lasso_cv                                                         0.010     \n",
       "xgboost                                                          0.021     \n",
       "dummy_most_frequent                                              0.031     \n",
       "dummy_stratified                                                 0.042     \n",
       "\n",
       "                    Abstention label global with abstention sample_size  \\\n",
       "linearsvm_ovr                                       Unknown         189   \n",
       "ridge_cv                                            Unknown         185   \n",
       "lasso_multiclass                                    Unknown         189   \n",
       "elasticnet_cv                                       Unknown         188   \n",
       "rf_multiclass                                       Unknown         189   \n",
       "lasso_cv                                            Unknown         189   \n",
       "xgboost                                             Unknown         187   \n",
       "dummy_most_frequent                                 Unknown         185   \n",
       "dummy_stratified                                    Unknown         183   \n",
       "\n",
       "                    n_abstentions sample_size including abstentions  \\\n",
       "linearsvm_ovr                   2                               191   \n",
       "ridge_cv                        6                               191   \n",
       "lasso_multiclass                2                               191   \n",
       "elasticnet_cv                   3                               191   \n",
       "rf_multiclass                   2                               191   \n",
       "lasso_cv                        2                               191   \n",
       "xgboost                         4                               191   \n",
       "dummy_most_frequent             6                               191   \n",
       "dummy_stratified                8                               191   \n",
       "\n",
       "                    abstention_rate  missing_classes  \n",
       "linearsvm_ovr              0.010471            False  \n",
       "ridge_cv                   0.031414             True  \n",
       "lasso_multiclass           0.010471            False  \n",
       "elasticnet_cv              0.015707            False  \n",
       "rf_multiclass              0.010471            False  \n",
       "lasso_cv                   0.010471            False  \n",
       "xgboost                    0.020942            False  \n",
       "dummy_most_frequent        0.031414             True  \n",
       "dummy_stratified           0.041885            False  \n",
       "\n",
       "[9 rows x 24 columns]"
      ]
     },
     "metadata": {},
     "output_type": "display_data"
    },
    {
     "name": "stdout",
     "output_type": "stream",
     "text": [
      "GeneLocus.BCR, fold 0, TargetObsColumnEnum.covid_vs_healthy, lasso_multiclass: best p value = 0.005. Number of disease associated clusters: {'Covid19': 172, 'Healthy/Background': 145}\n",
      "GeneLocus.BCR, fold 0, TargetObsColumnEnum.covid_vs_healthy, rf_multiclass: best p value = 0.01. Number of disease associated clusters: {'Covid19': 222, 'Healthy/Background': 204}\n",
      "GeneLocus.BCR, fold 0, TargetObsColumnEnum.covid_vs_healthy, linearsvm_ovr: best p value = 0.005. Number of disease associated clusters: {'Covid19': 172, 'Healthy/Background': 145}\n",
      "\n",
      "GeneLocus.BCR, fold 1, TargetObsColumnEnum.covid_vs_healthy, lasso_multiclass: best p value = 0.001. Number of disease associated clusters: {'Covid19': 60, 'Healthy/Background': 112}\n"
     ]
    },
    {
     "name": "stdout",
     "output_type": "stream",
     "text": [
      "GeneLocus.BCR, fold 1, TargetObsColumnEnum.covid_vs_healthy, rf_multiclass: best p value = 0.001. Number of disease associated clusters: {'Covid19': 60, 'Healthy/Background': 112}\n"
     ]
    },
    {
     "name": "stderr",
     "output_type": "stream",
     "text": [
      "2023-01-07 03:53:15,581 - analyze_convergent_clustering_models.ipynb - INFO - GeneLocus.BCR, TargetObsColumnEnum.hiv_vs_healthy from /users/maximz/code/boyd-immune-repertoire-classification/data/data_v_20221224/convergent_clusters/BCR/hiv_vs_healthy/train_smaller_model to /users/maximz/code/boyd-immune-repertoire-classification/out/convergent_clusters/BCR/hiv_vs_healthy/train_smaller_model\n"
     ]
    },
    {
     "name": "stdout",
     "output_type": "stream",
     "text": [
      "GeneLocus.BCR, fold 1, TargetObsColumnEnum.covid_vs_healthy, linearsvm_ovr: best p value = 0.001. Number of disease associated clusters: {'Covid19': 60, 'Healthy/Background': 112}\n",
      "\n",
      "GeneLocus.BCR, fold 2, TargetObsColumnEnum.covid_vs_healthy, lasso_multiclass: best p value = 0.01. Number of disease associated clusters: {'Covid19': 102, 'Healthy/Background': 370}\n",
      "GeneLocus.BCR, fold 2, TargetObsColumnEnum.covid_vs_healthy, rf_multiclass: best p value = 0.01. Number of disease associated clusters: {'Covid19': 102, 'Healthy/Background': 370}\n",
      "GeneLocus.BCR, fold 2, TargetObsColumnEnum.covid_vs_healthy, linearsvm_ovr: best p value = 0.01. Number of disease associated clusters: {'Covid19': 102, 'Healthy/Background': 370}\n",
      "\n"
     ]
    },
    {
     "name": "stdout",
     "output_type": "stream",
     "text": [
      "GeneLocus.BCR TargetObsColumnEnum.hiv_vs_healthy\n"
     ]
    },
    {
     "data": {
      "text/html": [
       "<div>\n",
       "<style scoped>\n",
       "    .dataframe tbody tr th:only-of-type {\n",
       "        vertical-align: middle;\n",
       "    }\n",
       "\n",
       "    .dataframe tbody tr th {\n",
       "        vertical-align: top;\n",
       "    }\n",
       "\n",
       "    .dataframe thead th {\n",
       "        text-align: right;\n",
       "    }\n",
       "</style>\n",
       "<table border=\"1\" class=\"dataframe\">\n",
       "  <thead>\n",
       "    <tr style=\"text-align: right;\">\n",
       "      <th></th>\n",
       "      <th>ROC-AUC (weighted OvO) per fold</th>\n",
       "      <th>ROC-AUC (macro OvO) per fold</th>\n",
       "      <th>au-PRC (weighted OvO) per fold</th>\n",
       "      <th>au-PRC (macro OvO) per fold</th>\n",
       "      <th>Accuracy per fold</th>\n",
       "      <th>MCC per fold</th>\n",
       "      <th>Accuracy global</th>\n",
       "      <th>MCC global</th>\n",
       "      <th>Accuracy per fold with abstention</th>\n",
       "      <th>MCC per fold with abstention</th>\n",
       "      <th>...</th>\n",
       "      <th>Abstention label global with abstention</th>\n",
       "      <th>sample_size</th>\n",
       "      <th>n_abstentions</th>\n",
       "      <th>sample_size including abstentions</th>\n",
       "      <th>abstention_rate</th>\n",
       "      <th>missing_classes</th>\n",
       "      <th>ROC-AUC (weighted OvO) per fold with abstention</th>\n",
       "      <th>ROC-AUC (macro OvO) per fold with abstention</th>\n",
       "      <th>au-PRC (weighted OvO) per fold with abstention</th>\n",
       "      <th>au-PRC (macro OvO) per fold with abstention</th>\n",
       "    </tr>\n",
       "  </thead>\n",
       "  <tbody>\n",
       "    <tr>\n",
       "      <th>elasticnet_cv</th>\n",
       "      <td>0.975 +/- 0.008 (in 3 folds)</td>\n",
       "      <td>0.975 +/- 0.008 (in 3 folds)</td>\n",
       "      <td>0.987 +/- 0.006 (in 3 folds)</td>\n",
       "      <td>0.987 +/- 0.006 (in 3 folds)</td>\n",
       "      <td>0.811 +/- 0.087 (in 3 folds)</td>\n",
       "      <td>0.539 +/- 0.236 (in 3 folds)</td>\n",
       "      <td>0.808</td>\n",
       "      <td>0.556</td>\n",
       "      <td>0.752 +/- 0.066 (in 3 folds)</td>\n",
       "      <td>0.386 +/- 0.237 (in 3 folds)</td>\n",
       "      <td>...</td>\n",
       "      <td>Unknown</td>\n",
       "      <td>198</td>\n",
       "      <td>15</td>\n",
       "      <td>213</td>\n",
       "      <td>0.070423</td>\n",
       "      <td>False</td>\n",
       "      <td>NaN</td>\n",
       "      <td>NaN</td>\n",
       "      <td>NaN</td>\n",
       "      <td>NaN</td>\n",
       "    </tr>\n",
       "    <tr>\n",
       "      <th>ridge_cv</th>\n",
       "      <td>0.973 +/- 0.005 (in 3 folds)</td>\n",
       "      <td>0.973 +/- 0.005 (in 3 folds)</td>\n",
       "      <td>0.988 +/- 0.003 (in 3 folds)</td>\n",
       "      <td>0.988 +/- 0.003 (in 3 folds)</td>\n",
       "      <td>0.701 +/- 0.006 (in 3 folds)</td>\n",
       "      <td>0.000 +/- 0.000 (in 3 folds)</td>\n",
       "      <td>0.701</td>\n",
       "      <td>0.000</td>\n",
       "      <td>0.695 +/- 0.014 (in 3 folds)</td>\n",
       "      <td>0.012 +/- 0.021 (in 3 folds)</td>\n",
       "      <td>...</td>\n",
       "      <td>Unknown</td>\n",
       "      <td>211</td>\n",
       "      <td>2</td>\n",
       "      <td>213</td>\n",
       "      <td>0.009390</td>\n",
       "      <td>True</td>\n",
       "      <td>0.972 +/- 0.007 (in 2 folds)</td>\n",
       "      <td>0.972 +/- 0.007 (in 2 folds)</td>\n",
       "      <td>0.988 +/- 0.004 (in 2 folds)</td>\n",
       "      <td>0.988 +/- 0.004 (in 2 folds)</td>\n",
       "    </tr>\n",
       "    <tr>\n",
       "      <th>linearsvm_ovr</th>\n",
       "      <td>0.971 +/- 0.009 (in 3 folds)</td>\n",
       "      <td>0.971 +/- 0.009 (in 3 folds)</td>\n",
       "      <td>0.986 +/- 0.006 (in 3 folds)</td>\n",
       "      <td>0.986 +/- 0.006 (in 3 folds)</td>\n",
       "      <td>0.924 +/- 0.015 (in 3 folds)</td>\n",
       "      <td>0.821 +/- 0.034 (in 3 folds)</td>\n",
       "      <td>0.924</td>\n",
       "      <td>0.816</td>\n",
       "      <td>0.911 +/- 0.020 (in 3 folds)</td>\n",
       "      <td>0.795 +/- 0.037 (in 3 folds)</td>\n",
       "      <td>...</td>\n",
       "      <td>Unknown</td>\n",
       "      <td>210</td>\n",
       "      <td>3</td>\n",
       "      <td>213</td>\n",
       "      <td>0.014085</td>\n",
       "      <td>False</td>\n",
       "      <td>0.979 +/- 0.000 (in 1 folds)</td>\n",
       "      <td>0.979 +/- 0.000 (in 1 folds)</td>\n",
       "      <td>0.991 +/- 0.000 (in 1 folds)</td>\n",
       "      <td>0.991 +/- 0.000 (in 1 folds)</td>\n",
       "    </tr>\n",
       "    <tr>\n",
       "      <th>lasso_cv</th>\n",
       "      <td>0.969 +/- 0.015 (in 3 folds)</td>\n",
       "      <td>0.969 +/- 0.015 (in 3 folds)</td>\n",
       "      <td>0.985 +/- 0.009 (in 3 folds)</td>\n",
       "      <td>0.985 +/- 0.009 (in 3 folds)</td>\n",
       "      <td>0.887 +/- 0.009 (in 3 folds)</td>\n",
       "      <td>0.736 +/- 0.016 (in 3 folds)</td>\n",
       "      <td>0.887</td>\n",
       "      <td>0.735</td>\n",
       "      <td>0.850 +/- 0.032 (in 3 folds)</td>\n",
       "      <td>0.649 +/- 0.072 (in 3 folds)</td>\n",
       "      <td>...</td>\n",
       "      <td>Unknown</td>\n",
       "      <td>204</td>\n",
       "      <td>9</td>\n",
       "      <td>213</td>\n",
       "      <td>0.042254</td>\n",
       "      <td>False</td>\n",
       "      <td>NaN</td>\n",
       "      <td>NaN</td>\n",
       "      <td>NaN</td>\n",
       "      <td>NaN</td>\n",
       "    </tr>\n",
       "    <tr>\n",
       "      <th>lasso_multiclass</th>\n",
       "      <td>0.969 +/- 0.006 (in 3 folds)</td>\n",
       "      <td>0.969 +/- 0.006 (in 3 folds)</td>\n",
       "      <td>0.985 +/- 0.005 (in 3 folds)</td>\n",
       "      <td>0.985 +/- 0.005 (in 3 folds)</td>\n",
       "      <td>0.933 +/- 0.016 (in 3 folds)</td>\n",
       "      <td>0.839 +/- 0.041 (in 3 folds)</td>\n",
       "      <td>0.933</td>\n",
       "      <td>0.839</td>\n",
       "      <td>0.911 +/- 0.020 (in 3 folds)</td>\n",
       "      <td>0.793 +/- 0.049 (in 3 folds)</td>\n",
       "      <td>...</td>\n",
       "      <td>Unknown</td>\n",
       "      <td>208</td>\n",
       "      <td>5</td>\n",
       "      <td>213</td>\n",
       "      <td>0.023474</td>\n",
       "      <td>False</td>\n",
       "      <td>NaN</td>\n",
       "      <td>NaN</td>\n",
       "      <td>NaN</td>\n",
       "      <td>NaN</td>\n",
       "    </tr>\n",
       "    <tr>\n",
       "      <th>xgboost</th>\n",
       "      <td>0.955 +/- 0.005 (in 3 folds)</td>\n",
       "      <td>0.955 +/- 0.005 (in 3 folds)</td>\n",
       "      <td>0.976 +/- 0.006 (in 3 folds)</td>\n",
       "      <td>0.976 +/- 0.006 (in 3 folds)</td>\n",
       "      <td>0.918 +/- 0.029 (in 3 folds)</td>\n",
       "      <td>0.804 +/- 0.073 (in 3 folds)</td>\n",
       "      <td>0.918</td>\n",
       "      <td>0.803</td>\n",
       "      <td>0.897 +/- 0.031 (in 3 folds)</td>\n",
       "      <td>0.759 +/- 0.076 (in 3 folds)</td>\n",
       "      <td>...</td>\n",
       "      <td>Unknown</td>\n",
       "      <td>208</td>\n",
       "      <td>5</td>\n",
       "      <td>213</td>\n",
       "      <td>0.023474</td>\n",
       "      <td>False</td>\n",
       "      <td>NaN</td>\n",
       "      <td>NaN</td>\n",
       "      <td>NaN</td>\n",
       "      <td>NaN</td>\n",
       "    </tr>\n",
       "    <tr>\n",
       "      <th>rf_multiclass</th>\n",
       "      <td>0.932 +/- 0.010 (in 3 folds)</td>\n",
       "      <td>0.932 +/- 0.010 (in 3 folds)</td>\n",
       "      <td>0.961 +/- 0.002 (in 3 folds)</td>\n",
       "      <td>0.961 +/- 0.002 (in 3 folds)</td>\n",
       "      <td>0.914 +/- 0.029 (in 3 folds)</td>\n",
       "      <td>0.795 +/- 0.068 (in 3 folds)</td>\n",
       "      <td>0.914</td>\n",
       "      <td>0.791</td>\n",
       "      <td>0.897 +/- 0.018 (in 3 folds)</td>\n",
       "      <td>0.759 +/- 0.045 (in 3 folds)</td>\n",
       "      <td>...</td>\n",
       "      <td>Unknown</td>\n",
       "      <td>209</td>\n",
       "      <td>4</td>\n",
       "      <td>213</td>\n",
       "      <td>0.018779</td>\n",
       "      <td>False</td>\n",
       "      <td>0.922 +/- 0.000 (in 1 folds)</td>\n",
       "      <td>0.922 +/- 0.000 (in 1 folds)</td>\n",
       "      <td>0.962 +/- 0.000 (in 1 folds)</td>\n",
       "      <td>0.962 +/- 0.000 (in 1 folds)</td>\n",
       "    </tr>\n",
       "    <tr>\n",
       "      <th>dummy_most_frequent</th>\n",
       "      <td>0.500 +/- 0.000 (in 3 folds)</td>\n",
       "      <td>0.500 +/- 0.000 (in 3 folds)</td>\n",
       "      <td>0.701 +/- 0.006 (in 3 folds)</td>\n",
       "      <td>0.701 +/- 0.006 (in 3 folds)</td>\n",
       "      <td>0.701 +/- 0.006 (in 3 folds)</td>\n",
       "      <td>0.000 +/- 0.000 (in 3 folds)</td>\n",
       "      <td>0.701</td>\n",
       "      <td>0.000</td>\n",
       "      <td>0.695 +/- 0.014 (in 3 folds)</td>\n",
       "      <td>0.012 +/- 0.021 (in 3 folds)</td>\n",
       "      <td>...</td>\n",
       "      <td>Unknown</td>\n",
       "      <td>211</td>\n",
       "      <td>2</td>\n",
       "      <td>213</td>\n",
       "      <td>0.009390</td>\n",
       "      <td>True</td>\n",
       "      <td>0.500 +/- 0.000 (in 2 folds)</td>\n",
       "      <td>0.500 +/- 0.000 (in 2 folds)</td>\n",
       "      <td>0.702 +/- 0.009 (in 2 folds)</td>\n",
       "      <td>0.702 +/- 0.009 (in 2 folds)</td>\n",
       "    </tr>\n",
       "    <tr>\n",
       "      <th>dummy_stratified</th>\n",
       "      <td>0.493 +/- 0.051 (in 3 folds)</td>\n",
       "      <td>0.493 +/- 0.051 (in 3 folds)</td>\n",
       "      <td>0.664 +/- 0.029 (in 3 folds)</td>\n",
       "      <td>0.664 +/- 0.029 (in 3 folds)</td>\n",
       "      <td>0.556 +/- 0.039 (in 3 folds)</td>\n",
       "      <td>-0.016 +/- 0.105 (in 3 folds)</td>\n",
       "      <td>0.556</td>\n",
       "      <td>-0.017</td>\n",
       "      <td>0.469 +/- 0.015 (in 3 folds)</td>\n",
       "      <td>-0.038 +/- 0.091 (in 3 folds)</td>\n",
       "      <td>...</td>\n",
       "      <td>Unknown</td>\n",
       "      <td>180</td>\n",
       "      <td>33</td>\n",
       "      <td>213</td>\n",
       "      <td>0.154930</td>\n",
       "      <td>False</td>\n",
       "      <td>NaN</td>\n",
       "      <td>NaN</td>\n",
       "      <td>NaN</td>\n",
       "      <td>NaN</td>\n",
       "    </tr>\n",
       "  </tbody>\n",
       "</table>\n",
       "<p>9 rows × 24 columns</p>\n",
       "</div>"
      ],
      "text/plain": [
       "                    ROC-AUC (weighted OvO) per fold  \\\n",
       "elasticnet_cv          0.975 +/- 0.008 (in 3 folds)   \n",
       "ridge_cv               0.973 +/- 0.005 (in 3 folds)   \n",
       "linearsvm_ovr          0.971 +/- 0.009 (in 3 folds)   \n",
       "lasso_cv               0.969 +/- 0.015 (in 3 folds)   \n",
       "lasso_multiclass       0.969 +/- 0.006 (in 3 folds)   \n",
       "xgboost                0.955 +/- 0.005 (in 3 folds)   \n",
       "rf_multiclass          0.932 +/- 0.010 (in 3 folds)   \n",
       "dummy_most_frequent    0.500 +/- 0.000 (in 3 folds)   \n",
       "dummy_stratified       0.493 +/- 0.051 (in 3 folds)   \n",
       "\n",
       "                     ROC-AUC (macro OvO) per fold  \\\n",
       "elasticnet_cv        0.975 +/- 0.008 (in 3 folds)   \n",
       "ridge_cv             0.973 +/- 0.005 (in 3 folds)   \n",
       "linearsvm_ovr        0.971 +/- 0.009 (in 3 folds)   \n",
       "lasso_cv             0.969 +/- 0.015 (in 3 folds)   \n",
       "lasso_multiclass     0.969 +/- 0.006 (in 3 folds)   \n",
       "xgboost              0.955 +/- 0.005 (in 3 folds)   \n",
       "rf_multiclass        0.932 +/- 0.010 (in 3 folds)   \n",
       "dummy_most_frequent  0.500 +/- 0.000 (in 3 folds)   \n",
       "dummy_stratified     0.493 +/- 0.051 (in 3 folds)   \n",
       "\n",
       "                    au-PRC (weighted OvO) per fold  \\\n",
       "elasticnet_cv         0.987 +/- 0.006 (in 3 folds)   \n",
       "ridge_cv              0.988 +/- 0.003 (in 3 folds)   \n",
       "linearsvm_ovr         0.986 +/- 0.006 (in 3 folds)   \n",
       "lasso_cv              0.985 +/- 0.009 (in 3 folds)   \n",
       "lasso_multiclass      0.985 +/- 0.005 (in 3 folds)   \n",
       "xgboost               0.976 +/- 0.006 (in 3 folds)   \n",
       "rf_multiclass         0.961 +/- 0.002 (in 3 folds)   \n",
       "dummy_most_frequent   0.701 +/- 0.006 (in 3 folds)   \n",
       "dummy_stratified      0.664 +/- 0.029 (in 3 folds)   \n",
       "\n",
       "                      au-PRC (macro OvO) per fold  \\\n",
       "elasticnet_cv        0.987 +/- 0.006 (in 3 folds)   \n",
       "ridge_cv             0.988 +/- 0.003 (in 3 folds)   \n",
       "linearsvm_ovr        0.986 +/- 0.006 (in 3 folds)   \n",
       "lasso_cv             0.985 +/- 0.009 (in 3 folds)   \n",
       "lasso_multiclass     0.985 +/- 0.005 (in 3 folds)   \n",
       "xgboost              0.976 +/- 0.006 (in 3 folds)   \n",
       "rf_multiclass        0.961 +/- 0.002 (in 3 folds)   \n",
       "dummy_most_frequent  0.701 +/- 0.006 (in 3 folds)   \n",
       "dummy_stratified     0.664 +/- 0.029 (in 3 folds)   \n",
       "\n",
       "                                Accuracy per fold  \\\n",
       "elasticnet_cv        0.811 +/- 0.087 (in 3 folds)   \n",
       "ridge_cv             0.701 +/- 0.006 (in 3 folds)   \n",
       "linearsvm_ovr        0.924 +/- 0.015 (in 3 folds)   \n",
       "lasso_cv             0.887 +/- 0.009 (in 3 folds)   \n",
       "lasso_multiclass     0.933 +/- 0.016 (in 3 folds)   \n",
       "xgboost              0.918 +/- 0.029 (in 3 folds)   \n",
       "rf_multiclass        0.914 +/- 0.029 (in 3 folds)   \n",
       "dummy_most_frequent  0.701 +/- 0.006 (in 3 folds)   \n",
       "dummy_stratified     0.556 +/- 0.039 (in 3 folds)   \n",
       "\n",
       "                                      MCC per fold Accuracy global MCC global  \\\n",
       "elasticnet_cv         0.539 +/- 0.236 (in 3 folds)           0.808      0.556   \n",
       "ridge_cv              0.000 +/- 0.000 (in 3 folds)           0.701      0.000   \n",
       "linearsvm_ovr         0.821 +/- 0.034 (in 3 folds)           0.924      0.816   \n",
       "lasso_cv              0.736 +/- 0.016 (in 3 folds)           0.887      0.735   \n",
       "lasso_multiclass      0.839 +/- 0.041 (in 3 folds)           0.933      0.839   \n",
       "xgboost               0.804 +/- 0.073 (in 3 folds)           0.918      0.803   \n",
       "rf_multiclass         0.795 +/- 0.068 (in 3 folds)           0.914      0.791   \n",
       "dummy_most_frequent   0.000 +/- 0.000 (in 3 folds)           0.701      0.000   \n",
       "dummy_stratified     -0.016 +/- 0.105 (in 3 folds)           0.556     -0.017   \n",
       "\n",
       "                    Accuracy per fold with abstention  \\\n",
       "elasticnet_cv            0.752 +/- 0.066 (in 3 folds)   \n",
       "ridge_cv                 0.695 +/- 0.014 (in 3 folds)   \n",
       "linearsvm_ovr            0.911 +/- 0.020 (in 3 folds)   \n",
       "lasso_cv                 0.850 +/- 0.032 (in 3 folds)   \n",
       "lasso_multiclass         0.911 +/- 0.020 (in 3 folds)   \n",
       "xgboost                  0.897 +/- 0.031 (in 3 folds)   \n",
       "rf_multiclass            0.897 +/- 0.018 (in 3 folds)   \n",
       "dummy_most_frequent      0.695 +/- 0.014 (in 3 folds)   \n",
       "dummy_stratified         0.469 +/- 0.015 (in 3 folds)   \n",
       "\n",
       "                      MCC per fold with abstention  ...  \\\n",
       "elasticnet_cv         0.386 +/- 0.237 (in 3 folds)  ...   \n",
       "ridge_cv              0.012 +/- 0.021 (in 3 folds)  ...   \n",
       "linearsvm_ovr         0.795 +/- 0.037 (in 3 folds)  ...   \n",
       "lasso_cv              0.649 +/- 0.072 (in 3 folds)  ...   \n",
       "lasso_multiclass      0.793 +/- 0.049 (in 3 folds)  ...   \n",
       "xgboost               0.759 +/- 0.076 (in 3 folds)  ...   \n",
       "rf_multiclass         0.759 +/- 0.045 (in 3 folds)  ...   \n",
       "dummy_most_frequent   0.012 +/- 0.021 (in 3 folds)  ...   \n",
       "dummy_stratified     -0.038 +/- 0.091 (in 3 folds)  ...   \n",
       "\n",
       "                    Abstention label global with abstention sample_size  \\\n",
       "elasticnet_cv                                       Unknown         198   \n",
       "ridge_cv                                            Unknown         211   \n",
       "linearsvm_ovr                                       Unknown         210   \n",
       "lasso_cv                                            Unknown         204   \n",
       "lasso_multiclass                                    Unknown         208   \n",
       "xgboost                                             Unknown         208   \n",
       "rf_multiclass                                       Unknown         209   \n",
       "dummy_most_frequent                                 Unknown         211   \n",
       "dummy_stratified                                    Unknown         180   \n",
       "\n",
       "                    n_abstentions sample_size including abstentions  \\\n",
       "elasticnet_cv                  15                               213   \n",
       "ridge_cv                        2                               213   \n",
       "linearsvm_ovr                   3                               213   \n",
       "lasso_cv                        9                               213   \n",
       "lasso_multiclass                5                               213   \n",
       "xgboost                         5                               213   \n",
       "rf_multiclass                   4                               213   \n",
       "dummy_most_frequent             2                               213   \n",
       "dummy_stratified               33                               213   \n",
       "\n",
       "                    abstention_rate  missing_classes  \\\n",
       "elasticnet_cv              0.070423            False   \n",
       "ridge_cv                   0.009390             True   \n",
       "linearsvm_ovr              0.014085            False   \n",
       "lasso_cv                   0.042254            False   \n",
       "lasso_multiclass           0.023474            False   \n",
       "xgboost                    0.023474            False   \n",
       "rf_multiclass              0.018779            False   \n",
       "dummy_most_frequent        0.009390             True   \n",
       "dummy_stratified           0.154930            False   \n",
       "\n",
       "                     ROC-AUC (weighted OvO) per fold with abstention  \\\n",
       "elasticnet_cv                                                    NaN   \n",
       "ridge_cv                                0.972 +/- 0.007 (in 2 folds)   \n",
       "linearsvm_ovr                           0.979 +/- 0.000 (in 1 folds)   \n",
       "lasso_cv                                                         NaN   \n",
       "lasso_multiclass                                                 NaN   \n",
       "xgboost                                                          NaN   \n",
       "rf_multiclass                           0.922 +/- 0.000 (in 1 folds)   \n",
       "dummy_most_frequent                     0.500 +/- 0.000 (in 2 folds)   \n",
       "dummy_stratified                                                 NaN   \n",
       "\n",
       "                     ROC-AUC (macro OvO) per fold with abstention  \\\n",
       "elasticnet_cv                                                 NaN   \n",
       "ridge_cv                             0.972 +/- 0.007 (in 2 folds)   \n",
       "linearsvm_ovr                        0.979 +/- 0.000 (in 1 folds)   \n",
       "lasso_cv                                                      NaN   \n",
       "lasso_multiclass                                              NaN   \n",
       "xgboost                                                       NaN   \n",
       "rf_multiclass                        0.922 +/- 0.000 (in 1 folds)   \n",
       "dummy_most_frequent                  0.500 +/- 0.000 (in 2 folds)   \n",
       "dummy_stratified                                              NaN   \n",
       "\n",
       "                     au-PRC (weighted OvO) per fold with abstention  \\\n",
       "elasticnet_cv                                                   NaN   \n",
       "ridge_cv                               0.988 +/- 0.004 (in 2 folds)   \n",
       "linearsvm_ovr                          0.991 +/- 0.000 (in 1 folds)   \n",
       "lasso_cv                                                        NaN   \n",
       "lasso_multiclass                                                NaN   \n",
       "xgboost                                                         NaN   \n",
       "rf_multiclass                          0.962 +/- 0.000 (in 1 folds)   \n",
       "dummy_most_frequent                    0.702 +/- 0.009 (in 2 folds)   \n",
       "dummy_stratified                                                NaN   \n",
       "\n",
       "                     au-PRC (macro OvO) per fold with abstention  \n",
       "elasticnet_cv                                                NaN  \n",
       "ridge_cv                            0.988 +/- 0.004 (in 2 folds)  \n",
       "linearsvm_ovr                       0.991 +/- 0.000 (in 1 folds)  \n",
       "lasso_cv                                                     NaN  \n",
       "lasso_multiclass                                             NaN  \n",
       "xgboost                                                      NaN  \n",
       "rf_multiclass                       0.962 +/- 0.000 (in 1 folds)  \n",
       "dummy_most_frequent                 0.702 +/- 0.009 (in 2 folds)  \n",
       "dummy_stratified                                             NaN  \n",
       "\n",
       "[9 rows x 24 columns]"
      ]
     },
     "metadata": {},
     "output_type": "display_data"
    },
    {
     "name": "stdout",
     "output_type": "stream",
     "text": [
      "GeneLocus.BCR, fold 0, TargetObsColumnEnum.hiv_vs_healthy, lasso_multiclass: best p value = 0.01. Number of disease associated clusters: {'HIV': 337, 'Healthy/Background': 62}\n",
      "GeneLocus.BCR, fold 0, TargetObsColumnEnum.hiv_vs_healthy, rf_multiclass: best p value = 0.05. Number of disease associated clusters: {'HIV': 1298, 'Healthy/Background': 311}\n",
      "GeneLocus.BCR, fold 0, TargetObsColumnEnum.hiv_vs_healthy, linearsvm_ovr: best p value = 0.01. Number of disease associated clusters: {'HIV': 337, 'Healthy/Background': 62}\n",
      "\n",
      "GeneLocus.BCR, fold 1, TargetObsColumnEnum.hiv_vs_healthy, lasso_multiclass: best p value = 0.01. Number of disease associated clusters: {'HIV': 213, 'Healthy/Background': 147}\n"
     ]
    },
    {
     "name": "stderr",
     "output_type": "stream",
     "text": [
      "2023-01-07 03:53:18,537 - analyze_convergent_clustering_models.ipynb - INFO - GeneLocus.BCR, TargetObsColumnEnum.lupus_vs_healthy from /users/maximz/code/boyd-immune-repertoire-classification/data/data_v_20221224/convergent_clusters/BCR/lupus_vs_healthy/train_smaller_model to /users/maximz/code/boyd-immune-repertoire-classification/out/convergent_clusters/BCR/lupus_vs_healthy/train_smaller_model\n"
     ]
    },
    {
     "name": "stdout",
     "output_type": "stream",
     "text": [
      "GeneLocus.BCR, fold 1, TargetObsColumnEnum.hiv_vs_healthy, rf_multiclass: best p value = 0.01. Number of disease associated clusters: {'HIV': 213, 'Healthy/Background': 147}\n",
      "GeneLocus.BCR, fold 1, TargetObsColumnEnum.hiv_vs_healthy, linearsvm_ovr: best p value = 0.01. Number of disease associated clusters: {'HIV': 213, 'Healthy/Background': 147}\n",
      "\n",
      "GeneLocus.BCR, fold 2, TargetObsColumnEnum.hiv_vs_healthy, lasso_multiclass: best p value = 0.01. Number of disease associated clusters: {'HIV': 216, 'Healthy/Background': 124}\n",
      "GeneLocus.BCR, fold 2, TargetObsColumnEnum.hiv_vs_healthy, rf_multiclass: best p value = 0.01. Number of disease associated clusters: {'HIV': 216, 'Healthy/Background': 124}\n",
      "GeneLocus.BCR, fold 2, TargetObsColumnEnum.hiv_vs_healthy, linearsvm_ovr: best p value = 0.05. Number of disease associated clusters: {'HIV': 885, 'Healthy/Background': 491}\n",
      "\n"
     ]
    },
    {
     "name": "stdout",
     "output_type": "stream",
     "text": [
      "GeneLocus.BCR TargetObsColumnEnum.lupus_vs_healthy\n"
     ]
    },
    {
     "data": {
      "text/html": [
       "<div>\n",
       "<style scoped>\n",
       "    .dataframe tbody tr th:only-of-type {\n",
       "        vertical-align: middle;\n",
       "    }\n",
       "\n",
       "    .dataframe tbody tr th {\n",
       "        vertical-align: top;\n",
       "    }\n",
       "\n",
       "    .dataframe thead th {\n",
       "        text-align: right;\n",
       "    }\n",
       "</style>\n",
       "<table border=\"1\" class=\"dataframe\">\n",
       "  <thead>\n",
       "    <tr style=\"text-align: right;\">\n",
       "      <th></th>\n",
       "      <th>ROC-AUC (weighted OvO) per fold</th>\n",
       "      <th>ROC-AUC (macro OvO) per fold</th>\n",
       "      <th>au-PRC (weighted OvO) per fold</th>\n",
       "      <th>au-PRC (macro OvO) per fold</th>\n",
       "      <th>Accuracy per fold</th>\n",
       "      <th>MCC per fold</th>\n",
       "      <th>Accuracy global</th>\n",
       "      <th>MCC global</th>\n",
       "      <th>Accuracy per fold with abstention</th>\n",
       "      <th>MCC per fold with abstention</th>\n",
       "      <th>...</th>\n",
       "      <th>Abstention label global with abstention</th>\n",
       "      <th>sample_size</th>\n",
       "      <th>n_abstentions</th>\n",
       "      <th>sample_size including abstentions</th>\n",
       "      <th>abstention_rate</th>\n",
       "      <th>missing_classes</th>\n",
       "      <th>ROC-AUC (weighted OvO) per fold with abstention</th>\n",
       "      <th>ROC-AUC (macro OvO) per fold with abstention</th>\n",
       "      <th>au-PRC (weighted OvO) per fold with abstention</th>\n",
       "      <th>au-PRC (macro OvO) per fold with abstention</th>\n",
       "    </tr>\n",
       "  </thead>\n",
       "  <tbody>\n",
       "    <tr>\n",
       "      <th>elasticnet_cv</th>\n",
       "      <td>0.863 +/- 0.029 (in 3 folds)</td>\n",
       "      <td>0.863 +/- 0.029 (in 3 folds)</td>\n",
       "      <td>0.739 +/- 0.118 (in 3 folds)</td>\n",
       "      <td>0.739 +/- 0.118 (in 3 folds)</td>\n",
       "      <td>0.747 +/- 0.046 (in 3 folds)</td>\n",
       "      <td>0.389 +/- 0.152 (in 3 folds)</td>\n",
       "      <td>0.747</td>\n",
       "      <td>0.387</td>\n",
       "      <td>0.541 +/- 0.136 (in 3 folds)</td>\n",
       "      <td>0.206 +/- 0.136 (in 3 folds)</td>\n",
       "      <td>...</td>\n",
       "      <td>Unknown</td>\n",
       "      <td>158</td>\n",
       "      <td>59</td>\n",
       "      <td>217</td>\n",
       "      <td>0.271889</td>\n",
       "      <td>False</td>\n",
       "      <td>NaN</td>\n",
       "      <td>NaN</td>\n",
       "      <td>NaN</td>\n",
       "      <td>NaN</td>\n",
       "    </tr>\n",
       "    <tr>\n",
       "      <th>linearsvm_ovr</th>\n",
       "      <td>0.863 +/- 0.016 (in 3 folds)</td>\n",
       "      <td>0.863 +/- 0.016 (in 3 folds)</td>\n",
       "      <td>0.780 +/- 0.027 (in 3 folds)</td>\n",
       "      <td>0.780 +/- 0.027 (in 3 folds)</td>\n",
       "      <td>0.821 +/- 0.060 (in 3 folds)</td>\n",
       "      <td>0.581 +/- 0.141 (in 3 folds)</td>\n",
       "      <td>0.821</td>\n",
       "      <td>0.576</td>\n",
       "      <td>0.802 +/- 0.035 (in 3 folds)</td>\n",
       "      <td>0.547 +/- 0.098 (in 3 folds)</td>\n",
       "      <td>...</td>\n",
       "      <td>Unknown</td>\n",
       "      <td>212</td>\n",
       "      <td>5</td>\n",
       "      <td>217</td>\n",
       "      <td>0.023041</td>\n",
       "      <td>False</td>\n",
       "      <td>0.853 +/- 0.000 (in 1 folds)</td>\n",
       "      <td>0.853 +/- 0.000 (in 1 folds)</td>\n",
       "      <td>0.787 +/- 0.000 (in 1 folds)</td>\n",
       "      <td>0.787 +/- 0.000 (in 1 folds)</td>\n",
       "    </tr>\n",
       "    <tr>\n",
       "      <th>lasso_cv</th>\n",
       "      <td>0.862 +/- 0.035 (in 3 folds)</td>\n",
       "      <td>0.862 +/- 0.035 (in 3 folds)</td>\n",
       "      <td>0.766 +/- 0.075 (in 3 folds)</td>\n",
       "      <td>0.766 +/- 0.075 (in 3 folds)</td>\n",
       "      <td>0.764 +/- 0.031 (in 3 folds)</td>\n",
       "      <td>0.436 +/- 0.111 (in 3 folds)</td>\n",
       "      <td>0.762</td>\n",
       "      <td>0.424</td>\n",
       "      <td>0.650 +/- 0.043 (in 3 folds)</td>\n",
       "      <td>0.259 +/- 0.090 (in 3 folds)</td>\n",
       "      <td>...</td>\n",
       "      <td>Unknown</td>\n",
       "      <td>185</td>\n",
       "      <td>32</td>\n",
       "      <td>217</td>\n",
       "      <td>0.147465</td>\n",
       "      <td>False</td>\n",
       "      <td>NaN</td>\n",
       "      <td>NaN</td>\n",
       "      <td>NaN</td>\n",
       "      <td>NaN</td>\n",
       "    </tr>\n",
       "    <tr>\n",
       "      <th>lasso_multiclass</th>\n",
       "      <td>0.859 +/- 0.022 (in 3 folds)</td>\n",
       "      <td>0.859 +/- 0.022 (in 3 folds)</td>\n",
       "      <td>0.771 +/- 0.036 (in 3 folds)</td>\n",
       "      <td>0.771 +/- 0.036 (in 3 folds)</td>\n",
       "      <td>0.821 +/- 0.060 (in 3 folds)</td>\n",
       "      <td>0.581 +/- 0.141 (in 3 folds)</td>\n",
       "      <td>0.821</td>\n",
       "      <td>0.576</td>\n",
       "      <td>0.802 +/- 0.035 (in 3 folds)</td>\n",
       "      <td>0.547 +/- 0.098 (in 3 folds)</td>\n",
       "      <td>...</td>\n",
       "      <td>Unknown</td>\n",
       "      <td>212</td>\n",
       "      <td>5</td>\n",
       "      <td>217</td>\n",
       "      <td>0.023041</td>\n",
       "      <td>False</td>\n",
       "      <td>0.849 +/- 0.000 (in 1 folds)</td>\n",
       "      <td>0.849 +/- 0.000 (in 1 folds)</td>\n",
       "      <td>0.773 +/- 0.000 (in 1 folds)</td>\n",
       "      <td>0.773 +/- 0.000 (in 1 folds)</td>\n",
       "    </tr>\n",
       "    <tr>\n",
       "      <th>rf_multiclass</th>\n",
       "      <td>0.829 +/- 0.034 (in 3 folds)</td>\n",
       "      <td>0.829 +/- 0.034 (in 3 folds)</td>\n",
       "      <td>0.759 +/- 0.071 (in 3 folds)</td>\n",
       "      <td>0.759 +/- 0.071 (in 3 folds)</td>\n",
       "      <td>0.808 +/- 0.059 (in 3 folds)</td>\n",
       "      <td>0.557 +/- 0.143 (in 3 folds)</td>\n",
       "      <td>0.809</td>\n",
       "      <td>0.549</td>\n",
       "      <td>0.723 +/- 0.112 (in 3 folds)</td>\n",
       "      <td>0.452 +/- 0.128 (in 3 folds)</td>\n",
       "      <td>...</td>\n",
       "      <td>Unknown</td>\n",
       "      <td>194</td>\n",
       "      <td>23</td>\n",
       "      <td>217</td>\n",
       "      <td>0.105991</td>\n",
       "      <td>False</td>\n",
       "      <td>NaN</td>\n",
       "      <td>NaN</td>\n",
       "      <td>NaN</td>\n",
       "      <td>NaN</td>\n",
       "    </tr>\n",
       "    <tr>\n",
       "      <th>xgboost</th>\n",
       "      <td>0.818 +/- 0.037 (in 3 folds)</td>\n",
       "      <td>0.818 +/- 0.037 (in 3 folds)</td>\n",
       "      <td>0.735 +/- 0.103 (in 3 folds)</td>\n",
       "      <td>0.735 +/- 0.103 (in 3 folds)</td>\n",
       "      <td>0.828 +/- 0.038 (in 3 folds)</td>\n",
       "      <td>0.604 +/- 0.080 (in 3 folds)</td>\n",
       "      <td>0.831</td>\n",
       "      <td>0.602</td>\n",
       "      <td>0.723 +/- 0.112 (in 3 folds)</td>\n",
       "      <td>0.469 +/- 0.120 (in 3 folds)</td>\n",
       "      <td>...</td>\n",
       "      <td>Unknown</td>\n",
       "      <td>189</td>\n",
       "      <td>28</td>\n",
       "      <td>217</td>\n",
       "      <td>0.129032</td>\n",
       "      <td>False</td>\n",
       "      <td>NaN</td>\n",
       "      <td>NaN</td>\n",
       "      <td>NaN</td>\n",
       "      <td>NaN</td>\n",
       "    </tr>\n",
       "    <tr>\n",
       "      <th>ridge_cv</th>\n",
       "      <td>0.746 +/- 0.219 (in 3 folds)</td>\n",
       "      <td>0.746 +/- 0.219 (in 3 folds)</td>\n",
       "      <td>0.538 +/- 0.244 (in 3 folds)</td>\n",
       "      <td>0.538 +/- 0.244 (in 3 folds)</td>\n",
       "      <td>0.709 +/- 0.019 (in 3 folds)</td>\n",
       "      <td>0.000 +/- 0.000 (in 3 folds)</td>\n",
       "      <td>0.707</td>\n",
       "      <td>0.000</td>\n",
       "      <td>0.323 +/- 0.057 (in 3 folds)</td>\n",
       "      <td>0.016 +/- 0.037 (in 3 folds)</td>\n",
       "      <td>...</td>\n",
       "      <td>Unknown</td>\n",
       "      <td>99</td>\n",
       "      <td>118</td>\n",
       "      <td>217</td>\n",
       "      <td>0.543779</td>\n",
       "      <td>True</td>\n",
       "      <td>NaN</td>\n",
       "      <td>NaN</td>\n",
       "      <td>NaN</td>\n",
       "      <td>NaN</td>\n",
       "    </tr>\n",
       "    <tr>\n",
       "      <th>dummy_stratified</th>\n",
       "      <td>0.541 +/- 0.093 (in 3 folds)</td>\n",
       "      <td>0.541 +/- 0.093 (in 3 folds)</td>\n",
       "      <td>0.348 +/- 0.045 (in 3 folds)</td>\n",
       "      <td>0.348 +/- 0.045 (in 3 folds)</td>\n",
       "      <td>0.550 +/- 0.075 (in 3 folds)</td>\n",
       "      <td>0.072 +/- 0.167 (in 3 folds)</td>\n",
       "      <td>0.536</td>\n",
       "      <td>0.046</td>\n",
       "      <td>0.272 +/- 0.046 (in 3 folds)</td>\n",
       "      <td>0.019 +/- 0.060 (in 3 folds)</td>\n",
       "      <td>...</td>\n",
       "      <td>Unknown</td>\n",
       "      <td>110</td>\n",
       "      <td>107</td>\n",
       "      <td>217</td>\n",
       "      <td>0.493088</td>\n",
       "      <td>False</td>\n",
       "      <td>NaN</td>\n",
       "      <td>NaN</td>\n",
       "      <td>NaN</td>\n",
       "      <td>NaN</td>\n",
       "    </tr>\n",
       "    <tr>\n",
       "      <th>dummy_most_frequent</th>\n",
       "      <td>0.500 +/- 0.000 (in 3 folds)</td>\n",
       "      <td>0.500 +/- 0.000 (in 3 folds)</td>\n",
       "      <td>0.291 +/- 0.019 (in 3 folds)</td>\n",
       "      <td>0.291 +/- 0.019 (in 3 folds)</td>\n",
       "      <td>0.709 +/- 0.019 (in 3 folds)</td>\n",
       "      <td>0.000 +/- 0.000 (in 3 folds)</td>\n",
       "      <td>0.707</td>\n",
       "      <td>0.000</td>\n",
       "      <td>0.323 +/- 0.057 (in 3 folds)</td>\n",
       "      <td>0.016 +/- 0.037 (in 3 folds)</td>\n",
       "      <td>...</td>\n",
       "      <td>Unknown</td>\n",
       "      <td>99</td>\n",
       "      <td>118</td>\n",
       "      <td>217</td>\n",
       "      <td>0.543779</td>\n",
       "      <td>True</td>\n",
       "      <td>NaN</td>\n",
       "      <td>NaN</td>\n",
       "      <td>NaN</td>\n",
       "      <td>NaN</td>\n",
       "    </tr>\n",
       "  </tbody>\n",
       "</table>\n",
       "<p>9 rows × 24 columns</p>\n",
       "</div>"
      ],
      "text/plain": [
       "                    ROC-AUC (weighted OvO) per fold  \\\n",
       "elasticnet_cv          0.863 +/- 0.029 (in 3 folds)   \n",
       "linearsvm_ovr          0.863 +/- 0.016 (in 3 folds)   \n",
       "lasso_cv               0.862 +/- 0.035 (in 3 folds)   \n",
       "lasso_multiclass       0.859 +/- 0.022 (in 3 folds)   \n",
       "rf_multiclass          0.829 +/- 0.034 (in 3 folds)   \n",
       "xgboost                0.818 +/- 0.037 (in 3 folds)   \n",
       "ridge_cv               0.746 +/- 0.219 (in 3 folds)   \n",
       "dummy_stratified       0.541 +/- 0.093 (in 3 folds)   \n",
       "dummy_most_frequent    0.500 +/- 0.000 (in 3 folds)   \n",
       "\n",
       "                     ROC-AUC (macro OvO) per fold  \\\n",
       "elasticnet_cv        0.863 +/- 0.029 (in 3 folds)   \n",
       "linearsvm_ovr        0.863 +/- 0.016 (in 3 folds)   \n",
       "lasso_cv             0.862 +/- 0.035 (in 3 folds)   \n",
       "lasso_multiclass     0.859 +/- 0.022 (in 3 folds)   \n",
       "rf_multiclass        0.829 +/- 0.034 (in 3 folds)   \n",
       "xgboost              0.818 +/- 0.037 (in 3 folds)   \n",
       "ridge_cv             0.746 +/- 0.219 (in 3 folds)   \n",
       "dummy_stratified     0.541 +/- 0.093 (in 3 folds)   \n",
       "dummy_most_frequent  0.500 +/- 0.000 (in 3 folds)   \n",
       "\n",
       "                    au-PRC (weighted OvO) per fold  \\\n",
       "elasticnet_cv         0.739 +/- 0.118 (in 3 folds)   \n",
       "linearsvm_ovr         0.780 +/- 0.027 (in 3 folds)   \n",
       "lasso_cv              0.766 +/- 0.075 (in 3 folds)   \n",
       "lasso_multiclass      0.771 +/- 0.036 (in 3 folds)   \n",
       "rf_multiclass         0.759 +/- 0.071 (in 3 folds)   \n",
       "xgboost               0.735 +/- 0.103 (in 3 folds)   \n",
       "ridge_cv              0.538 +/- 0.244 (in 3 folds)   \n",
       "dummy_stratified      0.348 +/- 0.045 (in 3 folds)   \n",
       "dummy_most_frequent   0.291 +/- 0.019 (in 3 folds)   \n",
       "\n",
       "                      au-PRC (macro OvO) per fold  \\\n",
       "elasticnet_cv        0.739 +/- 0.118 (in 3 folds)   \n",
       "linearsvm_ovr        0.780 +/- 0.027 (in 3 folds)   \n",
       "lasso_cv             0.766 +/- 0.075 (in 3 folds)   \n",
       "lasso_multiclass     0.771 +/- 0.036 (in 3 folds)   \n",
       "rf_multiclass        0.759 +/- 0.071 (in 3 folds)   \n",
       "xgboost              0.735 +/- 0.103 (in 3 folds)   \n",
       "ridge_cv             0.538 +/- 0.244 (in 3 folds)   \n",
       "dummy_stratified     0.348 +/- 0.045 (in 3 folds)   \n",
       "dummy_most_frequent  0.291 +/- 0.019 (in 3 folds)   \n",
       "\n",
       "                                Accuracy per fold  \\\n",
       "elasticnet_cv        0.747 +/- 0.046 (in 3 folds)   \n",
       "linearsvm_ovr        0.821 +/- 0.060 (in 3 folds)   \n",
       "lasso_cv             0.764 +/- 0.031 (in 3 folds)   \n",
       "lasso_multiclass     0.821 +/- 0.060 (in 3 folds)   \n",
       "rf_multiclass        0.808 +/- 0.059 (in 3 folds)   \n",
       "xgboost              0.828 +/- 0.038 (in 3 folds)   \n",
       "ridge_cv             0.709 +/- 0.019 (in 3 folds)   \n",
       "dummy_stratified     0.550 +/- 0.075 (in 3 folds)   \n",
       "dummy_most_frequent  0.709 +/- 0.019 (in 3 folds)   \n",
       "\n",
       "                                     MCC per fold Accuracy global MCC global  \\\n",
       "elasticnet_cv        0.389 +/- 0.152 (in 3 folds)           0.747      0.387   \n",
       "linearsvm_ovr        0.581 +/- 0.141 (in 3 folds)           0.821      0.576   \n",
       "lasso_cv             0.436 +/- 0.111 (in 3 folds)           0.762      0.424   \n",
       "lasso_multiclass     0.581 +/- 0.141 (in 3 folds)           0.821      0.576   \n",
       "rf_multiclass        0.557 +/- 0.143 (in 3 folds)           0.809      0.549   \n",
       "xgboost              0.604 +/- 0.080 (in 3 folds)           0.831      0.602   \n",
       "ridge_cv             0.000 +/- 0.000 (in 3 folds)           0.707      0.000   \n",
       "dummy_stratified     0.072 +/- 0.167 (in 3 folds)           0.536      0.046   \n",
       "dummy_most_frequent  0.000 +/- 0.000 (in 3 folds)           0.707      0.000   \n",
       "\n",
       "                    Accuracy per fold with abstention  \\\n",
       "elasticnet_cv            0.541 +/- 0.136 (in 3 folds)   \n",
       "linearsvm_ovr            0.802 +/- 0.035 (in 3 folds)   \n",
       "lasso_cv                 0.650 +/- 0.043 (in 3 folds)   \n",
       "lasso_multiclass         0.802 +/- 0.035 (in 3 folds)   \n",
       "rf_multiclass            0.723 +/- 0.112 (in 3 folds)   \n",
       "xgboost                  0.723 +/- 0.112 (in 3 folds)   \n",
       "ridge_cv                 0.323 +/- 0.057 (in 3 folds)   \n",
       "dummy_stratified         0.272 +/- 0.046 (in 3 folds)   \n",
       "dummy_most_frequent      0.323 +/- 0.057 (in 3 folds)   \n",
       "\n",
       "                     MCC per fold with abstention  ...  \\\n",
       "elasticnet_cv        0.206 +/- 0.136 (in 3 folds)  ...   \n",
       "linearsvm_ovr        0.547 +/- 0.098 (in 3 folds)  ...   \n",
       "lasso_cv             0.259 +/- 0.090 (in 3 folds)  ...   \n",
       "lasso_multiclass     0.547 +/- 0.098 (in 3 folds)  ...   \n",
       "rf_multiclass        0.452 +/- 0.128 (in 3 folds)  ...   \n",
       "xgboost              0.469 +/- 0.120 (in 3 folds)  ...   \n",
       "ridge_cv             0.016 +/- 0.037 (in 3 folds)  ...   \n",
       "dummy_stratified     0.019 +/- 0.060 (in 3 folds)  ...   \n",
       "dummy_most_frequent  0.016 +/- 0.037 (in 3 folds)  ...   \n",
       "\n",
       "                    Abstention label global with abstention sample_size  \\\n",
       "elasticnet_cv                                       Unknown         158   \n",
       "linearsvm_ovr                                       Unknown         212   \n",
       "lasso_cv                                            Unknown         185   \n",
       "lasso_multiclass                                    Unknown         212   \n",
       "rf_multiclass                                       Unknown         194   \n",
       "xgboost                                             Unknown         189   \n",
       "ridge_cv                                            Unknown          99   \n",
       "dummy_stratified                                    Unknown         110   \n",
       "dummy_most_frequent                                 Unknown          99   \n",
       "\n",
       "                    n_abstentions sample_size including abstentions  \\\n",
       "elasticnet_cv                  59                               217   \n",
       "linearsvm_ovr                   5                               217   \n",
       "lasso_cv                       32                               217   \n",
       "lasso_multiclass                5                               217   \n",
       "rf_multiclass                  23                               217   \n",
       "xgboost                        28                               217   \n",
       "ridge_cv                      118                               217   \n",
       "dummy_stratified              107                               217   \n",
       "dummy_most_frequent           118                               217   \n",
       "\n",
       "                    abstention_rate  missing_classes  \\\n",
       "elasticnet_cv              0.271889            False   \n",
       "linearsvm_ovr              0.023041            False   \n",
       "lasso_cv                   0.147465            False   \n",
       "lasso_multiclass           0.023041            False   \n",
       "rf_multiclass              0.105991            False   \n",
       "xgboost                    0.129032            False   \n",
       "ridge_cv                   0.543779             True   \n",
       "dummy_stratified           0.493088            False   \n",
       "dummy_most_frequent        0.543779             True   \n",
       "\n",
       "                     ROC-AUC (weighted OvO) per fold with abstention  \\\n",
       "elasticnet_cv                                                    NaN   \n",
       "linearsvm_ovr                           0.853 +/- 0.000 (in 1 folds)   \n",
       "lasso_cv                                                         NaN   \n",
       "lasso_multiclass                        0.849 +/- 0.000 (in 1 folds)   \n",
       "rf_multiclass                                                    NaN   \n",
       "xgboost                                                          NaN   \n",
       "ridge_cv                                                         NaN   \n",
       "dummy_stratified                                                 NaN   \n",
       "dummy_most_frequent                                              NaN   \n",
       "\n",
       "                     ROC-AUC (macro OvO) per fold with abstention  \\\n",
       "elasticnet_cv                                                 NaN   \n",
       "linearsvm_ovr                        0.853 +/- 0.000 (in 1 folds)   \n",
       "lasso_cv                                                      NaN   \n",
       "lasso_multiclass                     0.849 +/- 0.000 (in 1 folds)   \n",
       "rf_multiclass                                                 NaN   \n",
       "xgboost                                                       NaN   \n",
       "ridge_cv                                                      NaN   \n",
       "dummy_stratified                                              NaN   \n",
       "dummy_most_frequent                                           NaN   \n",
       "\n",
       "                     au-PRC (weighted OvO) per fold with abstention  \\\n",
       "elasticnet_cv                                                   NaN   \n",
       "linearsvm_ovr                          0.787 +/- 0.000 (in 1 folds)   \n",
       "lasso_cv                                                        NaN   \n",
       "lasso_multiclass                       0.773 +/- 0.000 (in 1 folds)   \n",
       "rf_multiclass                                                   NaN   \n",
       "xgboost                                                         NaN   \n",
       "ridge_cv                                                        NaN   \n",
       "dummy_stratified                                                NaN   \n",
       "dummy_most_frequent                                             NaN   \n",
       "\n",
       "                     au-PRC (macro OvO) per fold with abstention  \n",
       "elasticnet_cv                                                NaN  \n",
       "linearsvm_ovr                       0.787 +/- 0.000 (in 1 folds)  \n",
       "lasso_cv                                                     NaN  \n",
       "lasso_multiclass                    0.773 +/- 0.000 (in 1 folds)  \n",
       "rf_multiclass                                                NaN  \n",
       "xgboost                                                      NaN  \n",
       "ridge_cv                                                     NaN  \n",
       "dummy_stratified                                             NaN  \n",
       "dummy_most_frequent                                          NaN  \n",
       "\n",
       "[9 rows x 24 columns]"
      ]
     },
     "metadata": {},
     "output_type": "display_data"
    },
    {
     "name": "stdout",
     "output_type": "stream",
     "text": [
      "GeneLocus.BCR, fold 0, TargetObsColumnEnum.lupus_vs_healthy, lasso_multiclass: best p value = 0.05. Number of disease associated clusters: {'Healthy/Background': 75, 'Lupus': 902}\n",
      "GeneLocus.BCR, fold 0, TargetObsColumnEnum.lupus_vs_healthy, rf_multiclass: best p value = 0.005. Number of disease associated clusters: {'Healthy/Background': 8, 'Lupus': 61}\n",
      "GeneLocus.BCR, fold 0, TargetObsColumnEnum.lupus_vs_healthy, linearsvm_ovr: best p value = 0.05. Number of disease associated clusters: {'Healthy/Background': 75, 'Lupus': 902}\n",
      "\n",
      "GeneLocus.BCR, fold 1, TargetObsColumnEnum.lupus_vs_healthy, lasso_multiclass: best p value = 0.05. Number of disease associated clusters: {'Healthy/Background': 93, 'Lupus': 1135}\n"
     ]
    },
    {
     "name": "stderr",
     "output_type": "stream",
     "text": [
      "2023-01-07 03:53:21,551 - analyze_convergent_clustering_models.ipynb - INFO - GeneLocus.BCR, TargetObsColumnEnum.ethnicity_condensed_healthy_only from /users/maximz/code/boyd-immune-repertoire-classification/data/data_v_20221224/convergent_clusters/BCR/ethnicity_condensed_healthy_only/train_smaller_model to /users/maximz/code/boyd-immune-repertoire-classification/out/convergent_clusters/BCR/ethnicity_condensed_healthy_only/train_smaller_model\n"
     ]
    },
    {
     "name": "stdout",
     "output_type": "stream",
     "text": [
      "GeneLocus.BCR, fold 1, TargetObsColumnEnum.lupus_vs_healthy, rf_multiclass: best p value = 0.05. Number of disease associated clusters: {'Healthy/Background': 93, 'Lupus': 1135}\n",
      "GeneLocus.BCR, fold 1, TargetObsColumnEnum.lupus_vs_healthy, linearsvm_ovr: best p value = 0.05. Number of disease associated clusters: {'Healthy/Background': 93, 'Lupus': 1135}\n",
      "\n",
      "GeneLocus.BCR, fold 2, TargetObsColumnEnum.lupus_vs_healthy, lasso_multiclass: best p value = 0.01. Number of disease associated clusters: {'Healthy/Background': 12, 'Lupus': 280}\n",
      "GeneLocus.BCR, fold 2, TargetObsColumnEnum.lupus_vs_healthy, rf_multiclass: best p value = 0.01. Number of disease associated clusters: {'Healthy/Background': 12, 'Lupus': 280}\n",
      "GeneLocus.BCR, fold 2, TargetObsColumnEnum.lupus_vs_healthy, linearsvm_ovr: best p value = 0.01. Number of disease associated clusters: {'Healthy/Background': 12, 'Lupus': 280}\n",
      "\n"
     ]
    },
    {
     "name": "stdout",
     "output_type": "stream",
     "text": [
      "GeneLocus.BCR TargetObsColumnEnum.ethnicity_condensed_healthy_only\n"
     ]
    },
    {
     "data": {
      "text/html": [
       "<div>\n",
       "<style scoped>\n",
       "    .dataframe tbody tr th:only-of-type {\n",
       "        vertical-align: middle;\n",
       "    }\n",
       "\n",
       "    .dataframe tbody tr th {\n",
       "        vertical-align: top;\n",
       "    }\n",
       "\n",
       "    .dataframe thead th {\n",
       "        text-align: right;\n",
       "    }\n",
       "</style>\n",
       "<table border=\"1\" class=\"dataframe\">\n",
       "  <thead>\n",
       "    <tr style=\"text-align: right;\">\n",
       "      <th></th>\n",
       "      <th>ROC-AUC (weighted OvO) per fold</th>\n",
       "      <th>ROC-AUC (macro OvO) per fold</th>\n",
       "      <th>au-PRC (weighted OvO) per fold</th>\n",
       "      <th>au-PRC (macro OvO) per fold</th>\n",
       "      <th>Accuracy per fold</th>\n",
       "      <th>MCC per fold</th>\n",
       "      <th>Accuracy global</th>\n",
       "      <th>MCC global</th>\n",
       "      <th>Accuracy per fold with abstention</th>\n",
       "      <th>MCC per fold with abstention</th>\n",
       "      <th>...</th>\n",
       "      <th>Abstention label global with abstention</th>\n",
       "      <th>sample_size</th>\n",
       "      <th>n_abstentions</th>\n",
       "      <th>sample_size including abstentions</th>\n",
       "      <th>abstention_rate</th>\n",
       "      <th>missing_classes</th>\n",
       "      <th>ROC-AUC (weighted OvO) per fold with abstention</th>\n",
       "      <th>ROC-AUC (macro OvO) per fold with abstention</th>\n",
       "      <th>au-PRC (weighted OvO) per fold with abstention</th>\n",
       "      <th>au-PRC (macro OvO) per fold with abstention</th>\n",
       "    </tr>\n",
       "  </thead>\n",
       "  <tbody>\n",
       "    <tr>\n",
       "      <th>elasticnet_cv</th>\n",
       "      <td>0.654 +/- 0.053 (in 3 folds)</td>\n",
       "      <td>0.654 +/- 0.033 (in 3 folds)</td>\n",
       "      <td>0.671 +/- 0.069 (in 3 folds)</td>\n",
       "      <td>0.683 +/- 0.041 (in 3 folds)</td>\n",
       "      <td>0.568 +/- 0.108 (in 3 folds)</td>\n",
       "      <td>0.148 +/- 0.257 (in 3 folds)</td>\n",
       "      <td>0.565</td>\n",
       "      <td>0.261</td>\n",
       "      <td>0.463 +/- 0.074 (in 3 folds)</td>\n",
       "      <td>0.194 +/- 0.115 (in 3 folds)</td>\n",
       "      <td>...</td>\n",
       "      <td>Unknown</td>\n",
       "      <td>108</td>\n",
       "      <td>24</td>\n",
       "      <td>132</td>\n",
       "      <td>0.181818</td>\n",
       "      <td>True</td>\n",
       "      <td>NaN</td>\n",
       "      <td>NaN</td>\n",
       "      <td>NaN</td>\n",
       "      <td>NaN</td>\n",
       "    </tr>\n",
       "    <tr>\n",
       "      <th>lasso_cv</th>\n",
       "      <td>0.633 +/- 0.068 (in 3 folds)</td>\n",
       "      <td>0.621 +/- 0.056 (in 3 folds)</td>\n",
       "      <td>0.655 +/- 0.085 (in 3 folds)</td>\n",
       "      <td>0.651 +/- 0.062 (in 3 folds)</td>\n",
       "      <td>0.519 +/- 0.120 (in 3 folds)</td>\n",
       "      <td>0.069 +/- 0.119 (in 3 folds)</td>\n",
       "      <td>0.513</td>\n",
       "      <td>0.150</td>\n",
       "      <td>0.437 +/- 0.056 (in 3 folds)</td>\n",
       "      <td>0.131 +/- 0.051 (in 3 folds)</td>\n",
       "      <td>...</td>\n",
       "      <td>Unknown</td>\n",
       "      <td>113</td>\n",
       "      <td>19</td>\n",
       "      <td>132</td>\n",
       "      <td>0.143939</td>\n",
       "      <td>True</td>\n",
       "      <td>NaN</td>\n",
       "      <td>NaN</td>\n",
       "      <td>NaN</td>\n",
       "      <td>NaN</td>\n",
       "    </tr>\n",
       "    <tr>\n",
       "      <th>rf_multiclass</th>\n",
       "      <td>0.628 +/- 0.041 (in 3 folds)</td>\n",
       "      <td>0.622 +/- 0.029 (in 3 folds)</td>\n",
       "      <td>0.636 +/- 0.023 (in 3 folds)</td>\n",
       "      <td>0.618 +/- 0.014 (in 3 folds)</td>\n",
       "      <td>0.579 +/- 0.026 (in 3 folds)</td>\n",
       "      <td>0.295 +/- 0.101 (in 3 folds)</td>\n",
       "      <td>0.581</td>\n",
       "      <td>0.318</td>\n",
       "      <td>0.543 +/- 0.061 (in 3 folds)</td>\n",
       "      <td>0.257 +/- 0.071 (in 3 folds)</td>\n",
       "      <td>...</td>\n",
       "      <td>Unknown</td>\n",
       "      <td>124</td>\n",
       "      <td>8</td>\n",
       "      <td>132</td>\n",
       "      <td>0.060606</td>\n",
       "      <td>True</td>\n",
       "      <td>0.634 +/- 0.000 (in 1 folds)</td>\n",
       "      <td>0.634 +/- 0.000 (in 1 folds)</td>\n",
       "      <td>0.619 +/- 0.000 (in 1 folds)</td>\n",
       "      <td>0.605 +/- 0.000 (in 1 folds)</td>\n",
       "    </tr>\n",
       "    <tr>\n",
       "      <th>ridge_cv</th>\n",
       "      <td>0.618 +/- 0.107 (in 3 folds)</td>\n",
       "      <td>0.636 +/- 0.120 (in 3 folds)</td>\n",
       "      <td>0.621 +/- 0.117 (in 3 folds)</td>\n",
       "      <td>0.647 +/- 0.132 (in 3 folds)</td>\n",
       "      <td>0.529 +/- 0.111 (in 3 folds)</td>\n",
       "      <td>0.059 +/- 0.101 (in 3 folds)</td>\n",
       "      <td>0.528</td>\n",
       "      <td>0.115</td>\n",
       "      <td>0.430 +/- 0.061 (in 3 folds)</td>\n",
       "      <td>0.129 +/- 0.048 (in 3 folds)</td>\n",
       "      <td>...</td>\n",
       "      <td>Unknown</td>\n",
       "      <td>108</td>\n",
       "      <td>24</td>\n",
       "      <td>132</td>\n",
       "      <td>0.181818</td>\n",
       "      <td>True</td>\n",
       "      <td>NaN</td>\n",
       "      <td>NaN</td>\n",
       "      <td>NaN</td>\n",
       "      <td>NaN</td>\n",
       "    </tr>\n",
       "    <tr>\n",
       "      <th>xgboost</th>\n",
       "      <td>0.595 +/- 0.039 (in 3 folds)</td>\n",
       "      <td>0.578 +/- 0.037 (in 3 folds)</td>\n",
       "      <td>0.641 +/- 0.055 (in 3 folds)</td>\n",
       "      <td>0.626 +/- 0.046 (in 3 folds)</td>\n",
       "      <td>0.573 +/- 0.008 (in 3 folds)</td>\n",
       "      <td>0.285 +/- 0.143 (in 3 folds)</td>\n",
       "      <td>0.573</td>\n",
       "      <td>0.307</td>\n",
       "      <td>0.536 +/- 0.042 (in 3 folds)</td>\n",
       "      <td>0.248 +/- 0.116 (in 3 folds)</td>\n",
       "      <td>...</td>\n",
       "      <td>Unknown</td>\n",
       "      <td>124</td>\n",
       "      <td>8</td>\n",
       "      <td>132</td>\n",
       "      <td>0.060606</td>\n",
       "      <td>False</td>\n",
       "      <td>0.576 +/- 0.000 (in 1 folds)</td>\n",
       "      <td>0.578 +/- 0.000 (in 1 folds)</td>\n",
       "      <td>0.588 +/- 0.000 (in 1 folds)</td>\n",
       "      <td>0.589 +/- 0.000 (in 1 folds)</td>\n",
       "    </tr>\n",
       "    <tr>\n",
       "      <th>lasso_multiclass</th>\n",
       "      <td>0.555 +/- 0.048 (in 3 folds)</td>\n",
       "      <td>0.529 +/- 0.033 (in 3 folds)</td>\n",
       "      <td>0.656 +/- 0.034 (in 3 folds)</td>\n",
       "      <td>0.635 +/- 0.029 (in 3 folds)</td>\n",
       "      <td>0.591 +/- 0.068 (in 3 folds)</td>\n",
       "      <td>0.331 +/- 0.024 (in 3 folds)</td>\n",
       "      <td>0.590</td>\n",
       "      <td>0.346</td>\n",
       "      <td>0.521 +/- 0.040 (in 3 folds)</td>\n",
       "      <td>0.263 +/- 0.030 (in 3 folds)</td>\n",
       "      <td>...</td>\n",
       "      <td>Unknown</td>\n",
       "      <td>117</td>\n",
       "      <td>15</td>\n",
       "      <td>132</td>\n",
       "      <td>0.113636</td>\n",
       "      <td>True</td>\n",
       "      <td>NaN</td>\n",
       "      <td>NaN</td>\n",
       "      <td>NaN</td>\n",
       "      <td>NaN</td>\n",
       "    </tr>\n",
       "    <tr>\n",
       "      <th>dummy_stratified</th>\n",
       "      <td>0.554 +/- 0.056 (in 3 folds)</td>\n",
       "      <td>0.532 +/- 0.048 (in 3 folds)</td>\n",
       "      <td>0.531 +/- 0.036 (in 3 folds)</td>\n",
       "      <td>0.521 +/- 0.024 (in 3 folds)</td>\n",
       "      <td>0.518 +/- 0.136 (in 3 folds)</td>\n",
       "      <td>0.169 +/- 0.226 (in 3 folds)</td>\n",
       "      <td>0.505</td>\n",
       "      <td>0.138</td>\n",
       "      <td>0.385 +/- 0.038 (in 3 folds)</td>\n",
       "      <td>0.136 +/- 0.142 (in 3 folds)</td>\n",
       "      <td>...</td>\n",
       "      <td>Unknown</td>\n",
       "      <td>101</td>\n",
       "      <td>31</td>\n",
       "      <td>132</td>\n",
       "      <td>0.234848</td>\n",
       "      <td>True</td>\n",
       "      <td>NaN</td>\n",
       "      <td>NaN</td>\n",
       "      <td>NaN</td>\n",
       "      <td>NaN</td>\n",
       "    </tr>\n",
       "    <tr>\n",
       "      <th>linearsvm_ovr</th>\n",
       "      <td>0.550 +/- 0.067 (in 3 folds)</td>\n",
       "      <td>0.523 +/- 0.061 (in 3 folds)</td>\n",
       "      <td>0.655 +/- 0.036 (in 3 folds)</td>\n",
       "      <td>0.634 +/- 0.032 (in 3 folds)</td>\n",
       "      <td>0.609 +/- 0.045 (in 3 folds)</td>\n",
       "      <td>0.369 +/- 0.121 (in 3 folds)</td>\n",
       "      <td>0.607</td>\n",
       "      <td>0.374</td>\n",
       "      <td>0.538 +/- 0.005 (in 3 folds)</td>\n",
       "      <td>0.294 +/- 0.087 (in 3 folds)</td>\n",
       "      <td>...</td>\n",
       "      <td>Unknown</td>\n",
       "      <td>117</td>\n",
       "      <td>15</td>\n",
       "      <td>132</td>\n",
       "      <td>0.113636</td>\n",
       "      <td>True</td>\n",
       "      <td>NaN</td>\n",
       "      <td>NaN</td>\n",
       "      <td>NaN</td>\n",
       "      <td>NaN</td>\n",
       "    </tr>\n",
       "    <tr>\n",
       "      <th>dummy_most_frequent</th>\n",
       "      <td>0.500 +/- 0.000 (in 3 folds)</td>\n",
       "      <td>0.500 +/- 0.000 (in 3 folds)</td>\n",
       "      <td>0.500 +/- 0.000 (in 3 folds)</td>\n",
       "      <td>0.500 +/- 0.000 (in 3 folds)</td>\n",
       "      <td>0.521 +/- 0.118 (in 3 folds)</td>\n",
       "      <td>0.000 +/- 0.000 (in 3 folds)</td>\n",
       "      <td>0.519</td>\n",
       "      <td>0.000</td>\n",
       "      <td>0.423 +/- 0.067 (in 3 folds)</td>\n",
       "      <td>0.114 +/- 0.025 (in 3 folds)</td>\n",
       "      <td>...</td>\n",
       "      <td>Unknown</td>\n",
       "      <td>108</td>\n",
       "      <td>24</td>\n",
       "      <td>132</td>\n",
       "      <td>0.181818</td>\n",
       "      <td>True</td>\n",
       "      <td>NaN</td>\n",
       "      <td>NaN</td>\n",
       "      <td>NaN</td>\n",
       "      <td>NaN</td>\n",
       "    </tr>\n",
       "  </tbody>\n",
       "</table>\n",
       "<p>9 rows × 24 columns</p>\n",
       "</div>"
      ],
      "text/plain": [
       "                    ROC-AUC (weighted OvO) per fold  \\\n",
       "elasticnet_cv          0.654 +/- 0.053 (in 3 folds)   \n",
       "lasso_cv               0.633 +/- 0.068 (in 3 folds)   \n",
       "rf_multiclass          0.628 +/- 0.041 (in 3 folds)   \n",
       "ridge_cv               0.618 +/- 0.107 (in 3 folds)   \n",
       "xgboost                0.595 +/- 0.039 (in 3 folds)   \n",
       "lasso_multiclass       0.555 +/- 0.048 (in 3 folds)   \n",
       "dummy_stratified       0.554 +/- 0.056 (in 3 folds)   \n",
       "linearsvm_ovr          0.550 +/- 0.067 (in 3 folds)   \n",
       "dummy_most_frequent    0.500 +/- 0.000 (in 3 folds)   \n",
       "\n",
       "                     ROC-AUC (macro OvO) per fold  \\\n",
       "elasticnet_cv        0.654 +/- 0.033 (in 3 folds)   \n",
       "lasso_cv             0.621 +/- 0.056 (in 3 folds)   \n",
       "rf_multiclass        0.622 +/- 0.029 (in 3 folds)   \n",
       "ridge_cv             0.636 +/- 0.120 (in 3 folds)   \n",
       "xgboost              0.578 +/- 0.037 (in 3 folds)   \n",
       "lasso_multiclass     0.529 +/- 0.033 (in 3 folds)   \n",
       "dummy_stratified     0.532 +/- 0.048 (in 3 folds)   \n",
       "linearsvm_ovr        0.523 +/- 0.061 (in 3 folds)   \n",
       "dummy_most_frequent  0.500 +/- 0.000 (in 3 folds)   \n",
       "\n",
       "                    au-PRC (weighted OvO) per fold  \\\n",
       "elasticnet_cv         0.671 +/- 0.069 (in 3 folds)   \n",
       "lasso_cv              0.655 +/- 0.085 (in 3 folds)   \n",
       "rf_multiclass         0.636 +/- 0.023 (in 3 folds)   \n",
       "ridge_cv              0.621 +/- 0.117 (in 3 folds)   \n",
       "xgboost               0.641 +/- 0.055 (in 3 folds)   \n",
       "lasso_multiclass      0.656 +/- 0.034 (in 3 folds)   \n",
       "dummy_stratified      0.531 +/- 0.036 (in 3 folds)   \n",
       "linearsvm_ovr         0.655 +/- 0.036 (in 3 folds)   \n",
       "dummy_most_frequent   0.500 +/- 0.000 (in 3 folds)   \n",
       "\n",
       "                      au-PRC (macro OvO) per fold  \\\n",
       "elasticnet_cv        0.683 +/- 0.041 (in 3 folds)   \n",
       "lasso_cv             0.651 +/- 0.062 (in 3 folds)   \n",
       "rf_multiclass        0.618 +/- 0.014 (in 3 folds)   \n",
       "ridge_cv             0.647 +/- 0.132 (in 3 folds)   \n",
       "xgboost              0.626 +/- 0.046 (in 3 folds)   \n",
       "lasso_multiclass     0.635 +/- 0.029 (in 3 folds)   \n",
       "dummy_stratified     0.521 +/- 0.024 (in 3 folds)   \n",
       "linearsvm_ovr        0.634 +/- 0.032 (in 3 folds)   \n",
       "dummy_most_frequent  0.500 +/- 0.000 (in 3 folds)   \n",
       "\n",
       "                                Accuracy per fold  \\\n",
       "elasticnet_cv        0.568 +/- 0.108 (in 3 folds)   \n",
       "lasso_cv             0.519 +/- 0.120 (in 3 folds)   \n",
       "rf_multiclass        0.579 +/- 0.026 (in 3 folds)   \n",
       "ridge_cv             0.529 +/- 0.111 (in 3 folds)   \n",
       "xgboost              0.573 +/- 0.008 (in 3 folds)   \n",
       "lasso_multiclass     0.591 +/- 0.068 (in 3 folds)   \n",
       "dummy_stratified     0.518 +/- 0.136 (in 3 folds)   \n",
       "linearsvm_ovr        0.609 +/- 0.045 (in 3 folds)   \n",
       "dummy_most_frequent  0.521 +/- 0.118 (in 3 folds)   \n",
       "\n",
       "                                     MCC per fold Accuracy global MCC global  \\\n",
       "elasticnet_cv        0.148 +/- 0.257 (in 3 folds)           0.565      0.261   \n",
       "lasso_cv             0.069 +/- 0.119 (in 3 folds)           0.513      0.150   \n",
       "rf_multiclass        0.295 +/- 0.101 (in 3 folds)           0.581      0.318   \n",
       "ridge_cv             0.059 +/- 0.101 (in 3 folds)           0.528      0.115   \n",
       "xgboost              0.285 +/- 0.143 (in 3 folds)           0.573      0.307   \n",
       "lasso_multiclass     0.331 +/- 0.024 (in 3 folds)           0.590      0.346   \n",
       "dummy_stratified     0.169 +/- 0.226 (in 3 folds)           0.505      0.138   \n",
       "linearsvm_ovr        0.369 +/- 0.121 (in 3 folds)           0.607      0.374   \n",
       "dummy_most_frequent  0.000 +/- 0.000 (in 3 folds)           0.519      0.000   \n",
       "\n",
       "                    Accuracy per fold with abstention  \\\n",
       "elasticnet_cv            0.463 +/- 0.074 (in 3 folds)   \n",
       "lasso_cv                 0.437 +/- 0.056 (in 3 folds)   \n",
       "rf_multiclass            0.543 +/- 0.061 (in 3 folds)   \n",
       "ridge_cv                 0.430 +/- 0.061 (in 3 folds)   \n",
       "xgboost                  0.536 +/- 0.042 (in 3 folds)   \n",
       "lasso_multiclass         0.521 +/- 0.040 (in 3 folds)   \n",
       "dummy_stratified         0.385 +/- 0.038 (in 3 folds)   \n",
       "linearsvm_ovr            0.538 +/- 0.005 (in 3 folds)   \n",
       "dummy_most_frequent      0.423 +/- 0.067 (in 3 folds)   \n",
       "\n",
       "                     MCC per fold with abstention  ...  \\\n",
       "elasticnet_cv        0.194 +/- 0.115 (in 3 folds)  ...   \n",
       "lasso_cv             0.131 +/- 0.051 (in 3 folds)  ...   \n",
       "rf_multiclass        0.257 +/- 0.071 (in 3 folds)  ...   \n",
       "ridge_cv             0.129 +/- 0.048 (in 3 folds)  ...   \n",
       "xgboost              0.248 +/- 0.116 (in 3 folds)  ...   \n",
       "lasso_multiclass     0.263 +/- 0.030 (in 3 folds)  ...   \n",
       "dummy_stratified     0.136 +/- 0.142 (in 3 folds)  ...   \n",
       "linearsvm_ovr        0.294 +/- 0.087 (in 3 folds)  ...   \n",
       "dummy_most_frequent  0.114 +/- 0.025 (in 3 folds)  ...   \n",
       "\n",
       "                    Abstention label global with abstention sample_size  \\\n",
       "elasticnet_cv                                       Unknown         108   \n",
       "lasso_cv                                            Unknown         113   \n",
       "rf_multiclass                                       Unknown         124   \n",
       "ridge_cv                                            Unknown         108   \n",
       "xgboost                                             Unknown         124   \n",
       "lasso_multiclass                                    Unknown         117   \n",
       "dummy_stratified                                    Unknown         101   \n",
       "linearsvm_ovr                                       Unknown         117   \n",
       "dummy_most_frequent                                 Unknown         108   \n",
       "\n",
       "                    n_abstentions sample_size including abstentions  \\\n",
       "elasticnet_cv                  24                               132   \n",
       "lasso_cv                       19                               132   \n",
       "rf_multiclass                   8                               132   \n",
       "ridge_cv                       24                               132   \n",
       "xgboost                         8                               132   \n",
       "lasso_multiclass               15                               132   \n",
       "dummy_stratified               31                               132   \n",
       "linearsvm_ovr                  15                               132   \n",
       "dummy_most_frequent            24                               132   \n",
       "\n",
       "                    abstention_rate  missing_classes  \\\n",
       "elasticnet_cv              0.181818             True   \n",
       "lasso_cv                   0.143939             True   \n",
       "rf_multiclass              0.060606             True   \n",
       "ridge_cv                   0.181818             True   \n",
       "xgboost                    0.060606            False   \n",
       "lasso_multiclass           0.113636             True   \n",
       "dummy_stratified           0.234848             True   \n",
       "linearsvm_ovr              0.113636             True   \n",
       "dummy_most_frequent        0.181818             True   \n",
       "\n",
       "                     ROC-AUC (weighted OvO) per fold with abstention  \\\n",
       "elasticnet_cv                                                    NaN   \n",
       "lasso_cv                                                         NaN   \n",
       "rf_multiclass                           0.634 +/- 0.000 (in 1 folds)   \n",
       "ridge_cv                                                         NaN   \n",
       "xgboost                                 0.576 +/- 0.000 (in 1 folds)   \n",
       "lasso_multiclass                                                 NaN   \n",
       "dummy_stratified                                                 NaN   \n",
       "linearsvm_ovr                                                    NaN   \n",
       "dummy_most_frequent                                              NaN   \n",
       "\n",
       "                     ROC-AUC (macro OvO) per fold with abstention  \\\n",
       "elasticnet_cv                                                 NaN   \n",
       "lasso_cv                                                      NaN   \n",
       "rf_multiclass                        0.634 +/- 0.000 (in 1 folds)   \n",
       "ridge_cv                                                      NaN   \n",
       "xgboost                              0.578 +/- 0.000 (in 1 folds)   \n",
       "lasso_multiclass                                              NaN   \n",
       "dummy_stratified                                              NaN   \n",
       "linearsvm_ovr                                                 NaN   \n",
       "dummy_most_frequent                                           NaN   \n",
       "\n",
       "                     au-PRC (weighted OvO) per fold with abstention  \\\n",
       "elasticnet_cv                                                   NaN   \n",
       "lasso_cv                                                        NaN   \n",
       "rf_multiclass                          0.619 +/- 0.000 (in 1 folds)   \n",
       "ridge_cv                                                        NaN   \n",
       "xgboost                                0.588 +/- 0.000 (in 1 folds)   \n",
       "lasso_multiclass                                                NaN   \n",
       "dummy_stratified                                                NaN   \n",
       "linearsvm_ovr                                                   NaN   \n",
       "dummy_most_frequent                                             NaN   \n",
       "\n",
       "                     au-PRC (macro OvO) per fold with abstention  \n",
       "elasticnet_cv                                                NaN  \n",
       "lasso_cv                                                     NaN  \n",
       "rf_multiclass                       0.605 +/- 0.000 (in 1 folds)  \n",
       "ridge_cv                                                     NaN  \n",
       "xgboost                             0.589 +/- 0.000 (in 1 folds)  \n",
       "lasso_multiclass                                             NaN  \n",
       "dummy_stratified                                             NaN  \n",
       "linearsvm_ovr                                                NaN  \n",
       "dummy_most_frequent                                          NaN  \n",
       "\n",
       "[9 rows x 24 columns]"
      ]
     },
     "metadata": {},
     "output_type": "display_data"
    },
    {
     "name": "stdout",
     "output_type": "stream",
     "text": [
      "GeneLocus.BCR, fold 0, TargetObsColumnEnum.ethnicity_condensed_healthy_only, lasso_multiclass: best p value = 0.01. Number of disease associated clusters: {'African': 22, 'Asian': 87, 'Caucasian': 23, 'Hispanic/Latino': 34}\n",
      "GeneLocus.BCR, fold 0, TargetObsColumnEnum.ethnicity_condensed_healthy_only, rf_multiclass: best p value = 0.01. Number of disease associated clusters: {'African': 22, 'Asian': 87, 'Caucasian': 23, 'Hispanic/Latino': 34}\n",
      "GeneLocus.BCR, fold 0, TargetObsColumnEnum.ethnicity_condensed_healthy_only, linearsvm_ovr: best p value = 0.01. Number of disease associated clusters: {'African': 22, 'Asian': 87, 'Caucasian': 23, 'Hispanic/Latino': 34}\n",
      "\n"
     ]
    },
    {
     "name": "stdout",
     "output_type": "stream",
     "text": [
      "GeneLocus.BCR, fold 1, TargetObsColumnEnum.ethnicity_condensed_healthy_only, lasso_multiclass: best p value = 0.01. Number of disease associated clusters: {'African': 19, 'Asian': 122, 'Caucasian': 19, 'Hispanic/Latino': 240}\n",
      "GeneLocus.BCR, fold 1, TargetObsColumnEnum.ethnicity_condensed_healthy_only, rf_multiclass: best p value = 0.05. Number of disease associated clusters: {'African': 516, 'Asian': 2584, 'Caucasian': 163, 'Hispanic/Latino': 207999}\n",
      "GeneLocus.BCR, fold 1, TargetObsColumnEnum.ethnicity_condensed_healthy_only, linearsvm_ovr: best p value = 0.01. Number of disease associated clusters: {'African': 19, 'Asian': 122, 'Caucasian': 19, 'Hispanic/Latino': 240}\n",
      "\n"
     ]
    },
    {
     "name": "stderr",
     "output_type": "stream",
     "text": [
      "2023-01-07 03:53:26,362 - analyze_convergent_clustering_models.ipynb - INFO - GeneLocus.BCR, TargetObsColumnEnum.age_group_healthy_only from /users/maximz/code/boyd-immune-repertoire-classification/data/data_v_20221224/convergent_clusters/BCR/age_group_healthy_only/train_smaller_model to /users/maximz/code/boyd-immune-repertoire-classification/out/convergent_clusters/BCR/age_group_healthy_only/train_smaller_model\n"
     ]
    },
    {
     "name": "stdout",
     "output_type": "stream",
     "text": [
      "GeneLocus.BCR, fold 2, TargetObsColumnEnum.ethnicity_condensed_healthy_only, lasso_multiclass: best p value = 0.01. Number of disease associated clusters: {'African': 3, 'Asian': 51, 'Caucasian': 68, 'Hispanic/Latino': 222}\n",
      "GeneLocus.BCR, fold 2, TargetObsColumnEnum.ethnicity_condensed_healthy_only, rf_multiclass: best p value = 0.01. Number of disease associated clusters: {'African': 3, 'Asian': 51, 'Caucasian': 68, 'Hispanic/Latino': 222}\n",
      "GeneLocus.BCR, fold 2, TargetObsColumnEnum.ethnicity_condensed_healthy_only, linearsvm_ovr: best p value = 0.01. Number of disease associated clusters: {'African': 3, 'Asian': 51, 'Caucasian': 68, 'Hispanic/Latino': 222}\n",
      "\n"
     ]
    },
    {
     "name": "stderr",
     "output_type": "stream",
     "text": [
      "2023-01-07 03:53:27,229 - malid.external.genetools_extras - WARNING - Removing class absent from y_true: 70-80\n"
     ]
    },
    {
     "name": "stderr",
     "output_type": "stream",
     "text": [
      "2023-01-07 03:53:27,255 - malid.external.genetools_extras - WARNING - Removing class absent from y_true: 70-80\n"
     ]
    },
    {
     "name": "stderr",
     "output_type": "stream",
     "text": [
      "2023-01-07 03:53:27,280 - malid.external.genetools_extras - WARNING - Removing class absent from y_true: 70-80\n"
     ]
    },
    {
     "name": "stderr",
     "output_type": "stream",
     "text": [
      "2023-01-07 03:53:27,293 - malid.external.genetools_extras - WARNING - Removing class absent from y_true: 70-80\n"
     ]
    },
    {
     "name": "stderr",
     "output_type": "stream",
     "text": [
      "2023-01-07 03:53:27,307 - malid.external.genetools_extras - WARNING - Inserting phantom class: 70-80\n"
     ]
    },
    {
     "name": "stderr",
     "output_type": "stream",
     "text": [
      "2023-01-07 03:53:27,341 - malid.external.genetools_extras - WARNING - Inserting phantom class: 70-80\n"
     ]
    },
    {
     "name": "stderr",
     "output_type": "stream",
     "text": [
      "2023-01-07 03:53:27,374 - malid.external.genetools_extras - WARNING - Inserting phantom class: 70-80\n"
     ]
    },
    {
     "name": "stderr",
     "output_type": "stream",
     "text": [
      "2023-01-07 03:53:27,391 - malid.external.genetools_extras - WARNING - Inserting phantom class: 70-80\n"
     ]
    },
    {
     "name": "stderr",
     "output_type": "stream",
     "text": [
      "2023-01-07 03:53:27,489 - malid.external.genetools_extras - WARNING - Removing class absent from y_true: 70-80\n"
     ]
    },
    {
     "name": "stderr",
     "output_type": "stream",
     "text": [
      "2023-01-07 03:53:27,517 - malid.external.genetools_extras - WARNING - Removing class absent from y_true: 70-80\n"
     ]
    },
    {
     "name": "stderr",
     "output_type": "stream",
     "text": [
      "2023-01-07 03:53:27,542 - malid.external.genetools_extras - WARNING - Removing class absent from y_true: 70-80\n"
     ]
    },
    {
     "name": "stderr",
     "output_type": "stream",
     "text": [
      "2023-01-07 03:53:27,556 - malid.external.genetools_extras - WARNING - Removing class absent from y_true: 70-80\n"
     ]
    },
    {
     "name": "stderr",
     "output_type": "stream",
     "text": [
      "2023-01-07 03:53:27,569 - malid.external.genetools_extras - WARNING - Inserting phantom class: 70-80\n"
     ]
    },
    {
     "name": "stderr",
     "output_type": "stream",
     "text": [
      "2023-01-07 03:53:27,604 - malid.external.genetools_extras - WARNING - Inserting phantom class: 70-80\n"
     ]
    },
    {
     "name": "stderr",
     "output_type": "stream",
     "text": [
      "2023-01-07 03:53:27,637 - malid.external.genetools_extras - WARNING - Inserting phantom class: 70-80\n"
     ]
    },
    {
     "name": "stderr",
     "output_type": "stream",
     "text": [
      "2023-01-07 03:53:27,654 - malid.external.genetools_extras - WARNING - Inserting phantom class: 70-80\n"
     ]
    },
    {
     "name": "stderr",
     "output_type": "stream",
     "text": [
      "2023-01-07 03:53:28,228 - malid.external.genetools_extras - WARNING - Removing class absent from y_true: 70-80\n"
     ]
    },
    {
     "name": "stderr",
     "output_type": "stream",
     "text": [
      "2023-01-07 03:53:28,271 - malid.external.genetools_extras - WARNING - Removing class absent from y_true: 70-80\n"
     ]
    },
    {
     "name": "stderr",
     "output_type": "stream",
     "text": [
      "2023-01-07 03:53:28,296 - malid.external.genetools_extras - WARNING - Removing class absent from y_true: 70-80\n"
     ]
    },
    {
     "name": "stderr",
     "output_type": "stream",
     "text": [
      "2023-01-07 03:53:28,310 - malid.external.genetools_extras - WARNING - Removing class absent from y_true: 70-80\n"
     ]
    },
    {
     "name": "stderr",
     "output_type": "stream",
     "text": [
      "2023-01-07 03:53:28,324 - malid.external.genetools_extras - WARNING - Removing class absent from y_true: 70-80\n"
     ]
    },
    {
     "name": "stderr",
     "output_type": "stream",
     "text": [
      "2023-01-07 03:53:28,360 - malid.external.genetools_extras - WARNING - Removing class absent from y_true: 70-80\n"
     ]
    },
    {
     "name": "stderr",
     "output_type": "stream",
     "text": [
      "2023-01-07 03:53:28,384 - malid.external.genetools_extras - WARNING - Removing class absent from y_true: 70-80\n"
     ]
    },
    {
     "name": "stderr",
     "output_type": "stream",
     "text": [
      "2023-01-07 03:53:28,407 - malid.external.genetools_extras - WARNING - Removing class absent from y_true: 70-80\n"
     ]
    },
    {
     "name": "stderr",
     "output_type": "stream",
     "text": [
      "2023-01-07 03:53:28,421 - malid.external.genetools_extras - WARNING - Inserting phantom class: 70-80\n"
     ]
    },
    {
     "name": "stderr",
     "output_type": "stream",
     "text": [
      "2023-01-07 03:53:28,454 - malid.external.genetools_extras - WARNING - Inserting phantom class: 70-80\n"
     ]
    },
    {
     "name": "stderr",
     "output_type": "stream",
     "text": [
      "2023-01-07 03:53:28,497 - malid.external.genetools_extras - WARNING - Inserting phantom class: 70-80\n"
     ]
    },
    {
     "name": "stderr",
     "output_type": "stream",
     "text": [
      "2023-01-07 03:53:28,514 - malid.external.genetools_extras - WARNING - Inserting phantom class: 70-80\n"
     ]
    },
    {
     "name": "stderr",
     "output_type": "stream",
     "text": [
      "2023-01-07 03:53:28,549 - malid.external.genetools_extras - WARNING - Removing class absent from y_true: 70-80\n"
     ]
    },
    {
     "name": "stderr",
     "output_type": "stream",
     "text": [
      "2023-01-07 03:53:28,573 - malid.external.genetools_extras - WARNING - Removing class absent from y_true: 70-80\n"
     ]
    },
    {
     "name": "stderr",
     "output_type": "stream",
     "text": [
      "2023-01-07 03:53:28,598 - malid.external.genetools_extras - WARNING - Removing class absent from y_true: 70-80\n"
     ]
    },
    {
     "name": "stderr",
     "output_type": "stream",
     "text": [
      "2023-01-07 03:53:28,612 - malid.external.genetools_extras - WARNING - Removing class absent from y_true: 70-80\n"
     ]
    },
    {
     "name": "stderr",
     "output_type": "stream",
     "text": [
      "2023-01-07 03:53:28,627 - malid.external.genetools_extras - WARNING - Removing class absent from y_true: 70-80\n"
     ]
    },
    {
     "name": "stderr",
     "output_type": "stream",
     "text": [
      "2023-01-07 03:53:28,660 - malid.external.genetools_extras - WARNING - Removing class absent from y_true: 70-80\n"
     ]
    },
    {
     "name": "stderr",
     "output_type": "stream",
     "text": [
      "2023-01-07 03:53:28,686 - malid.external.genetools_extras - WARNING - Removing class absent from y_true: 70-80\n"
     ]
    },
    {
     "name": "stderr",
     "output_type": "stream",
     "text": [
      "2023-01-07 03:53:28,709 - malid.external.genetools_extras - WARNING - Removing class absent from y_true: 70-80\n"
     ]
    },
    {
     "name": "stderr",
     "output_type": "stream",
     "text": [
      "2023-01-07 03:53:28,724 - malid.external.genetools_extras - WARNING - Inserting phantom class: 70-80\n"
     ]
    },
    {
     "name": "stderr",
     "output_type": "stream",
     "text": [
      "2023-01-07 03:53:28,769 - malid.external.genetools_extras - WARNING - Inserting phantom class: 70-80\n"
     ]
    },
    {
     "name": "stderr",
     "output_type": "stream",
     "text": [
      "2023-01-07 03:53:28,804 - malid.external.genetools_extras - WARNING - Inserting phantom class: 70-80\n"
     ]
    },
    {
     "name": "stderr",
     "output_type": "stream",
     "text": [
      "2023-01-07 03:53:28,823 - malid.external.genetools_extras - WARNING - Inserting phantom class: 70-80\n"
     ]
    },
    {
     "name": "stderr",
     "output_type": "stream",
     "text": [
      "2023-01-07 03:53:29,233 - malid.external.genetools_extras - WARNING - Removing class absent from y_true: 70-80\n"
     ]
    },
    {
     "name": "stderr",
     "output_type": "stream",
     "text": [
      "2023-01-07 03:53:29,260 - malid.external.genetools_extras - WARNING - Removing class absent from y_true: 70-80\n"
     ]
    },
    {
     "name": "stderr",
     "output_type": "stream",
     "text": [
      "2023-01-07 03:53:29,294 - malid.external.genetools_extras - WARNING - Removing class absent from y_true: 70-80\n"
     ]
    },
    {
     "name": "stderr",
     "output_type": "stream",
     "text": [
      "2023-01-07 03:53:29,309 - malid.external.genetools_extras - WARNING - Removing class absent from y_true: 70-80\n"
     ]
    },
    {
     "name": "stderr",
     "output_type": "stream",
     "text": [
      "2023-01-07 03:53:29,322 - malid.external.genetools_extras - WARNING - Inserting phantom class: 70-80\n"
     ]
    },
    {
     "name": "stderr",
     "output_type": "stream",
     "text": [
      "2023-01-07 03:53:29,356 - malid.external.genetools_extras - WARNING - Inserting phantom class: 70-80\n"
     ]
    },
    {
     "name": "stderr",
     "output_type": "stream",
     "text": [
      "2023-01-07 03:53:29,391 - malid.external.genetools_extras - WARNING - Inserting phantom class: 70-80\n"
     ]
    },
    {
     "name": "stderr",
     "output_type": "stream",
     "text": [
      "2023-01-07 03:53:29,419 - malid.external.genetools_extras - WARNING - Inserting phantom class: 70-80\n"
     ]
    },
    {
     "name": "stderr",
     "output_type": "stream",
     "text": [
      "2023-01-07 03:53:29,519 - malid.external.genetools_extras - WARNING - Removing class absent from y_true: 70-80\n"
     ]
    },
    {
     "name": "stderr",
     "output_type": "stream",
     "text": [
      "2023-01-07 03:53:29,545 - malid.external.genetools_extras - WARNING - Removing class absent from y_true: 70-80\n"
     ]
    },
    {
     "name": "stderr",
     "output_type": "stream",
     "text": [
      "2023-01-07 03:53:29,570 - malid.external.genetools_extras - WARNING - Removing class absent from y_true: 70-80\n"
     ]
    },
    {
     "name": "stderr",
     "output_type": "stream",
     "text": [
      "2023-01-07 03:53:29,582 - malid.external.genetools_extras - WARNING - Removing class absent from y_true: 70-80\n"
     ]
    },
    {
     "name": "stderr",
     "output_type": "stream",
     "text": [
      "2023-01-07 03:53:29,596 - malid.external.genetools_extras - WARNING - Inserting phantom class: 70-80\n"
     ]
    },
    {
     "name": "stderr",
     "output_type": "stream",
     "text": [
      "2023-01-07 03:53:29,631 - malid.external.genetools_extras - WARNING - Inserting phantom class: 70-80\n"
     ]
    },
    {
     "name": "stderr",
     "output_type": "stream",
     "text": [
      "2023-01-07 03:53:29,665 - malid.external.genetools_extras - WARNING - Inserting phantom class: 70-80\n"
     ]
    },
    {
     "name": "stderr",
     "output_type": "stream",
     "text": [
      "2023-01-07 03:53:29,683 - malid.external.genetools_extras - WARNING - Inserting phantom class: 70-80\n"
     ]
    },
    {
     "name": "stderr",
     "output_type": "stream",
     "text": [
      "2023-01-07 03:53:30,007 - malid.external.genetools_extras - WARNING - Inserting phantom class: 30-40\n"
     ]
    },
    {
     "name": "stderr",
     "output_type": "stream",
     "text": [
      "2023-01-07 03:53:30,015 - malid.external.genetools_extras - WARNING - Removing class absent from y_true: 60-70\n"
     ]
    },
    {
     "name": "stderr",
     "output_type": "stream",
     "text": [
      "2023-01-07 03:53:30,018 - malid.external.genetools_extras - WARNING - Removing class absent from y_true: 40-50\n"
     ]
    },
    {
     "name": "stderr",
     "output_type": "stream",
     "text": [
      "2023-01-07 03:53:30,022 - malid.external.genetools_extras - WARNING - Removing class absent from y_true: 20-30\n"
     ]
    },
    {
     "name": "stderr",
     "output_type": "stream",
     "text": [
      "2023-01-07 03:53:30,042 - malid.external.genetools_extras - WARNING - Inserting phantom class: 30-40\n"
     ]
    },
    {
     "name": "stderr",
     "output_type": "stream",
     "text": [
      "2023-01-07 03:53:30,046 - malid.external.genetools_extras - WARNING - Removing class absent from y_true: 60-70\n"
     ]
    },
    {
     "name": "stderr",
     "output_type": "stream",
     "text": [
      "2023-01-07 03:53:30,048 - malid.external.genetools_extras - WARNING - Removing class absent from y_true: 40-50\n"
     ]
    },
    {
     "name": "stderr",
     "output_type": "stream",
     "text": [
      "2023-01-07 03:53:30,050 - malid.external.genetools_extras - WARNING - Removing class absent from y_true: 20-30\n"
     ]
    },
    {
     "name": "stderr",
     "output_type": "stream",
     "text": [
      "2023-01-07 03:53:30,066 - malid.external.genetools_extras - WARNING - Inserting phantom class: 30-40\n"
     ]
    },
    {
     "name": "stderr",
     "output_type": "stream",
     "text": [
      "2023-01-07 03:53:30,070 - malid.external.genetools_extras - WARNING - Removing class absent from y_true: 60-70\n"
     ]
    },
    {
     "name": "stderr",
     "output_type": "stream",
     "text": [
      "2023-01-07 03:53:30,073 - malid.external.genetools_extras - WARNING - Removing class absent from y_true: 40-50\n"
     ]
    },
    {
     "name": "stderr",
     "output_type": "stream",
     "text": [
      "2023-01-07 03:53:30,075 - malid.external.genetools_extras - WARNING - Removing class absent from y_true: 20-30\n"
     ]
    },
    {
     "name": "stderr",
     "output_type": "stream",
     "text": [
      "2023-01-07 03:53:30,085 - malid.external.genetools_extras - WARNING - Inserting phantom class: 30-40\n"
     ]
    },
    {
     "name": "stderr",
     "output_type": "stream",
     "text": [
      "2023-01-07 03:53:30,088 - malid.external.genetools_extras - WARNING - Removing class absent from y_true: 60-70\n"
     ]
    },
    {
     "name": "stderr",
     "output_type": "stream",
     "text": [
      "2023-01-07 03:53:30,090 - malid.external.genetools_extras - WARNING - Removing class absent from y_true: 40-50\n"
     ]
    },
    {
     "name": "stderr",
     "output_type": "stream",
     "text": [
      "2023-01-07 03:53:30,092 - malid.external.genetools_extras - WARNING - Removing class absent from y_true: 20-30\n"
     ]
    },
    {
     "name": "stderr",
     "output_type": "stream",
     "text": [
      "2023-01-07 03:53:30,101 - malid.external.genetools_extras - WARNING - Removing class absent from y_true: 70-80\n"
     ]
    },
    {
     "name": "stderr",
     "output_type": "stream",
     "text": [
      "2023-01-07 03:53:30,131 - malid.external.genetools_extras - WARNING - Removing class absent from y_true: 70-80\n"
     ]
    },
    {
     "name": "stderr",
     "output_type": "stream",
     "text": [
      "2023-01-07 03:53:30,158 - malid.external.genetools_extras - WARNING - Removing class absent from y_true: 70-80\n"
     ]
    },
    {
     "name": "stderr",
     "output_type": "stream",
     "text": [
      "2023-01-07 03:53:30,171 - malid.external.genetools_extras - WARNING - Removing class absent from y_true: 70-80\n"
     ]
    },
    {
     "name": "stderr",
     "output_type": "stream",
     "text": [
      "2023-01-07 03:53:30,185 - malid.external.genetools_extras - WARNING - Removing class absent from y_true: 40-50\n"
     ]
    },
    {
     "name": "stderr",
     "output_type": "stream",
     "text": [
      "2023-01-07 03:53:30,187 - malid.external.genetools_extras - WARNING - Removing class absent from y_true: 30-40\n"
     ]
    },
    {
     "name": "stderr",
     "output_type": "stream",
     "text": [
      "2023-01-07 03:53:30,189 - malid.external.genetools_extras - WARNING - Removing class absent from y_true: 50-60\n"
     ]
    },
    {
     "name": "stderr",
     "output_type": "stream",
     "text": [
      "2023-01-07 03:53:30,193 - malid.external.genetools_extras - WARNING - Removing class absent from y_true: 40-50\n"
     ]
    },
    {
     "name": "stderr",
     "output_type": "stream",
     "text": [
      "2023-01-07 03:53:30,194 - malid.external.genetools_extras - WARNING - Removing class absent from y_true: 30-40\n"
     ]
    },
    {
     "name": "stderr",
     "output_type": "stream",
     "text": [
      "2023-01-07 03:53:30,197 - malid.external.genetools_extras - WARNING - Removing class absent from y_true: 50-60\n"
     ]
    },
    {
     "name": "stderr",
     "output_type": "stream",
     "text": [
      "2023-01-07 03:53:30,200 - malid.external.genetools_extras - WARNING - Removing class absent from y_true: 40-50\n"
     ]
    },
    {
     "name": "stderr",
     "output_type": "stream",
     "text": [
      "2023-01-07 03:53:30,202 - malid.external.genetools_extras - WARNING - Removing class absent from y_true: 30-40\n"
     ]
    },
    {
     "name": "stderr",
     "output_type": "stream",
     "text": [
      "2023-01-07 03:53:30,203 - malid.external.genetools_extras - WARNING - Removing class absent from y_true: 50-60\n"
     ]
    },
    {
     "name": "stderr",
     "output_type": "stream",
     "text": [
      "2023-01-07 03:53:30,206 - malid.external.genetools_extras - WARNING - Removing class absent from y_true: 40-50\n"
     ]
    },
    {
     "name": "stderr",
     "output_type": "stream",
     "text": [
      "2023-01-07 03:53:30,208 - malid.external.genetools_extras - WARNING - Removing class absent from y_true: 30-40\n"
     ]
    },
    {
     "name": "stderr",
     "output_type": "stream",
     "text": [
      "2023-01-07 03:53:30,210 - malid.external.genetools_extras - WARNING - Removing class absent from y_true: 50-60\n"
     ]
    },
    {
     "name": "stderr",
     "output_type": "stream",
     "text": [
      "2023-01-07 03:53:30,236 - malid.external.genetools_extras - WARNING - Inserting phantom class: 30-40\n"
     ]
    },
    {
     "name": "stderr",
     "output_type": "stream",
     "text": [
      "2023-01-07 03:53:30,238 - malid.external.genetools_extras - WARNING - Removing class absent from y_true: 60-70\n"
     ]
    },
    {
     "name": "stderr",
     "output_type": "stream",
     "text": [
      "2023-01-07 03:53:30,240 - malid.external.genetools_extras - WARNING - Removing class absent from y_true: 40-50\n"
     ]
    },
    {
     "name": "stderr",
     "output_type": "stream",
     "text": [
      "2023-01-07 03:53:30,243 - malid.external.genetools_extras - WARNING - Removing class absent from y_true: 20-30\n"
     ]
    },
    {
     "name": "stderr",
     "output_type": "stream",
     "text": [
      "2023-01-07 03:53:30,259 - malid.external.genetools_extras - WARNING - Inserting phantom class: 30-40\n"
     ]
    },
    {
     "name": "stderr",
     "output_type": "stream",
     "text": [
      "2023-01-07 03:53:30,262 - malid.external.genetools_extras - WARNING - Removing class absent from y_true: 60-70\n"
     ]
    },
    {
     "name": "stderr",
     "output_type": "stream",
     "text": [
      "2023-01-07 03:53:30,264 - malid.external.genetools_extras - WARNING - Removing class absent from y_true: 40-50\n"
     ]
    },
    {
     "name": "stderr",
     "output_type": "stream",
     "text": [
      "2023-01-07 03:53:30,266 - malid.external.genetools_extras - WARNING - Removing class absent from y_true: 20-30\n"
     ]
    },
    {
     "name": "stderr",
     "output_type": "stream",
     "text": [
      "2023-01-07 03:53:30,278 - malid.external.genetools_extras - WARNING - Inserting phantom class: 30-40\n"
     ]
    },
    {
     "name": "stderr",
     "output_type": "stream",
     "text": [
      "2023-01-07 03:53:30,282 - malid.external.genetools_extras - WARNING - Removing class absent from y_true: 60-70\n"
     ]
    },
    {
     "name": "stderr",
     "output_type": "stream",
     "text": [
      "2023-01-07 03:53:30,285 - malid.external.genetools_extras - WARNING - Removing class absent from y_true: 40-50\n"
     ]
    },
    {
     "name": "stderr",
     "output_type": "stream",
     "text": [
      "2023-01-07 03:53:30,288 - malid.external.genetools_extras - WARNING - Removing class absent from y_true: 20-30\n"
     ]
    },
    {
     "name": "stderr",
     "output_type": "stream",
     "text": [
      "2023-01-07 03:53:30,300 - malid.external.genetools_extras - WARNING - Inserting phantom class: 30-40\n"
     ]
    },
    {
     "name": "stderr",
     "output_type": "stream",
     "text": [
      "2023-01-07 03:53:30,303 - malid.external.genetools_extras - WARNING - Removing class absent from y_true: 60-70\n"
     ]
    },
    {
     "name": "stderr",
     "output_type": "stream",
     "text": [
      "2023-01-07 03:53:30,306 - malid.external.genetools_extras - WARNING - Removing class absent from y_true: 40-50\n"
     ]
    },
    {
     "name": "stderr",
     "output_type": "stream",
     "text": [
      "2023-01-07 03:53:30,308 - malid.external.genetools_extras - WARNING - Removing class absent from y_true: 20-30\n"
     ]
    },
    {
     "name": "stderr",
     "output_type": "stream",
     "text": [
      "2023-01-07 03:53:30,319 - malid.external.genetools_extras - WARNING - Removing class absent from y_true: 70-80\n"
     ]
    },
    {
     "name": "stderr",
     "output_type": "stream",
     "text": [
      "2023-01-07 03:53:30,348 - malid.external.genetools_extras - WARNING - Removing class absent from y_true: 70-80\n"
     ]
    },
    {
     "name": "stderr",
     "output_type": "stream",
     "text": [
      "2023-01-07 03:53:30,374 - malid.external.genetools_extras - WARNING - Removing class absent from y_true: 70-80\n"
     ]
    },
    {
     "name": "stderr",
     "output_type": "stream",
     "text": [
      "2023-01-07 03:53:30,388 - malid.external.genetools_extras - WARNING - Removing class absent from y_true: 70-80\n"
     ]
    },
    {
     "name": "stderr",
     "output_type": "stream",
     "text": [
      "2023-01-07 03:53:30,403 - malid.external.genetools_extras - WARNING - Removing class absent from y_true: 40-50\n"
     ]
    },
    {
     "name": "stderr",
     "output_type": "stream",
     "text": [
      "2023-01-07 03:53:30,404 - malid.external.genetools_extras - WARNING - Removing class absent from y_true: 30-40\n"
     ]
    },
    {
     "name": "stderr",
     "output_type": "stream",
     "text": [
      "2023-01-07 03:53:30,407 - malid.external.genetools_extras - WARNING - Removing class absent from y_true: 50-60\n"
     ]
    },
    {
     "name": "stderr",
     "output_type": "stream",
     "text": [
      "2023-01-07 03:53:30,411 - malid.external.genetools_extras - WARNING - Removing class absent from y_true: 40-50\n"
     ]
    },
    {
     "name": "stderr",
     "output_type": "stream",
     "text": [
      "2023-01-07 03:53:30,413 - malid.external.genetools_extras - WARNING - Removing class absent from y_true: 30-40\n"
     ]
    },
    {
     "name": "stderr",
     "output_type": "stream",
     "text": [
      "2023-01-07 03:53:30,415 - malid.external.genetools_extras - WARNING - Removing class absent from y_true: 50-60\n"
     ]
    },
    {
     "name": "stderr",
     "output_type": "stream",
     "text": [
      "2023-01-07 03:53:30,419 - malid.external.genetools_extras - WARNING - Removing class absent from y_true: 40-50\n"
     ]
    },
    {
     "name": "stderr",
     "output_type": "stream",
     "text": [
      "2023-01-07 03:53:30,420 - malid.external.genetools_extras - WARNING - Removing class absent from y_true: 30-40\n"
     ]
    },
    {
     "name": "stderr",
     "output_type": "stream",
     "text": [
      "2023-01-07 03:53:30,422 - malid.external.genetools_extras - WARNING - Removing class absent from y_true: 50-60\n"
     ]
    },
    {
     "name": "stderr",
     "output_type": "stream",
     "text": [
      "2023-01-07 03:53:30,425 - malid.external.genetools_extras - WARNING - Removing class absent from y_true: 40-50\n"
     ]
    },
    {
     "name": "stderr",
     "output_type": "stream",
     "text": [
      "2023-01-07 03:53:30,427 - malid.external.genetools_extras - WARNING - Removing class absent from y_true: 30-40\n"
     ]
    },
    {
     "name": "stderr",
     "output_type": "stream",
     "text": [
      "2023-01-07 03:53:30,429 - malid.external.genetools_extras - WARNING - Removing class absent from y_true: 50-60\n"
     ]
    },
    {
     "name": "stderr",
     "output_type": "stream",
     "text": [
      "2023-01-07 03:53:30,629 - malid.external.genetools_extras - WARNING - Inserting phantom class: 30-40\n"
     ]
    },
    {
     "name": "stderr",
     "output_type": "stream",
     "text": [
      "2023-01-07 03:53:30,634 - malid.external.genetools_extras - WARNING - Removing class absent from y_true: 60-70\n"
     ]
    },
    {
     "name": "stderr",
     "output_type": "stream",
     "text": [
      "2023-01-07 03:53:30,637 - malid.external.genetools_extras - WARNING - Removing class absent from y_true: 40-50\n"
     ]
    },
    {
     "name": "stderr",
     "output_type": "stream",
     "text": [
      "2023-01-07 03:53:30,640 - malid.external.genetools_extras - WARNING - Removing class absent from y_true: 20-30\n"
     ]
    },
    {
     "name": "stderr",
     "output_type": "stream",
     "text": [
      "2023-01-07 03:53:30,659 - malid.external.genetools_extras - WARNING - Inserting phantom class: 30-40\n"
     ]
    },
    {
     "name": "stderr",
     "output_type": "stream",
     "text": [
      "2023-01-07 03:53:30,663 - malid.external.genetools_extras - WARNING - Removing class absent from y_true: 60-70\n"
     ]
    },
    {
     "name": "stderr",
     "output_type": "stream",
     "text": [
      "2023-01-07 03:53:30,665 - malid.external.genetools_extras - WARNING - Removing class absent from y_true: 40-50\n"
     ]
    },
    {
     "name": "stderr",
     "output_type": "stream",
     "text": [
      "2023-01-07 03:53:30,667 - malid.external.genetools_extras - WARNING - Removing class absent from y_true: 20-30\n"
     ]
    },
    {
     "name": "stderr",
     "output_type": "stream",
     "text": [
      "2023-01-07 03:53:30,678 - malid.external.genetools_extras - WARNING - Inserting phantom class: 30-40\n"
     ]
    },
    {
     "name": "stderr",
     "output_type": "stream",
     "text": [
      "2023-01-07 03:53:30,682 - malid.external.genetools_extras - WARNING - Removing class absent from y_true: 60-70\n"
     ]
    },
    {
     "name": "stderr",
     "output_type": "stream",
     "text": [
      "2023-01-07 03:53:30,684 - malid.external.genetools_extras - WARNING - Removing class absent from y_true: 40-50\n"
     ]
    },
    {
     "name": "stderr",
     "output_type": "stream",
     "text": [
      "2023-01-07 03:53:30,685 - malid.external.genetools_extras - WARNING - Removing class absent from y_true: 20-30\n"
     ]
    },
    {
     "name": "stderr",
     "output_type": "stream",
     "text": [
      "2023-01-07 03:53:30,693 - malid.external.genetools_extras - WARNING - Inserting phantom class: 30-40\n"
     ]
    },
    {
     "name": "stderr",
     "output_type": "stream",
     "text": [
      "2023-01-07 03:53:30,696 - malid.external.genetools_extras - WARNING - Removing class absent from y_true: 60-70\n"
     ]
    },
    {
     "name": "stderr",
     "output_type": "stream",
     "text": [
      "2023-01-07 03:53:30,698 - malid.external.genetools_extras - WARNING - Removing class absent from y_true: 40-50\n"
     ]
    },
    {
     "name": "stderr",
     "output_type": "stream",
     "text": [
      "2023-01-07 03:53:30,699 - malid.external.genetools_extras - WARNING - Removing class absent from y_true: 20-30\n"
     ]
    },
    {
     "name": "stderr",
     "output_type": "stream",
     "text": [
      "2023-01-07 03:53:30,708 - malid.external.genetools_extras - WARNING - Removing class absent from y_true: 70-80\n"
     ]
    },
    {
     "name": "stderr",
     "output_type": "stream",
     "text": [
      "2023-01-07 03:53:30,735 - malid.external.genetools_extras - WARNING - Removing class absent from y_true: 70-80\n"
     ]
    },
    {
     "name": "stderr",
     "output_type": "stream",
     "text": [
      "2023-01-07 03:53:30,760 - malid.external.genetools_extras - WARNING - Removing class absent from y_true: 70-80\n"
     ]
    },
    {
     "name": "stderr",
     "output_type": "stream",
     "text": [
      "2023-01-07 03:53:30,774 - malid.external.genetools_extras - WARNING - Removing class absent from y_true: 70-80\n"
     ]
    },
    {
     "name": "stderr",
     "output_type": "stream",
     "text": [
      "2023-01-07 03:53:30,787 - malid.external.genetools_extras - WARNING - Removing class absent from y_true: 40-50\n"
     ]
    },
    {
     "name": "stderr",
     "output_type": "stream",
     "text": [
      "2023-01-07 03:53:30,790 - malid.external.genetools_extras - WARNING - Removing class absent from y_true: 30-40\n"
     ]
    },
    {
     "name": "stderr",
     "output_type": "stream",
     "text": [
      "2023-01-07 03:53:30,792 - malid.external.genetools_extras - WARNING - Removing class absent from y_true: 50-60\n"
     ]
    },
    {
     "name": "stderr",
     "output_type": "stream",
     "text": [
      "2023-01-07 03:53:30,795 - malid.external.genetools_extras - WARNING - Removing class absent from y_true: 40-50\n"
     ]
    },
    {
     "name": "stderr",
     "output_type": "stream",
     "text": [
      "2023-01-07 03:53:30,797 - malid.external.genetools_extras - WARNING - Removing class absent from y_true: 30-40\n"
     ]
    },
    {
     "name": "stderr",
     "output_type": "stream",
     "text": [
      "2023-01-07 03:53:30,799 - malid.external.genetools_extras - WARNING - Removing class absent from y_true: 50-60\n"
     ]
    },
    {
     "name": "stderr",
     "output_type": "stream",
     "text": [
      "2023-01-07 03:53:30,802 - malid.external.genetools_extras - WARNING - Removing class absent from y_true: 40-50\n"
     ]
    },
    {
     "name": "stderr",
     "output_type": "stream",
     "text": [
      "2023-01-07 03:53:30,804 - malid.external.genetools_extras - WARNING - Removing class absent from y_true: 30-40\n"
     ]
    },
    {
     "name": "stderr",
     "output_type": "stream",
     "text": [
      "2023-01-07 03:53:30,805 - malid.external.genetools_extras - WARNING - Removing class absent from y_true: 50-60\n"
     ]
    },
    {
     "name": "stderr",
     "output_type": "stream",
     "text": [
      "2023-01-07 03:53:30,811 - malid.external.genetools_extras - WARNING - Removing class absent from y_true: 40-50\n"
     ]
    },
    {
     "name": "stderr",
     "output_type": "stream",
     "text": [
      "2023-01-07 03:53:30,814 - malid.external.genetools_extras - WARNING - Removing class absent from y_true: 30-40\n"
     ]
    },
    {
     "name": "stderr",
     "output_type": "stream",
     "text": [
      "2023-01-07 03:53:30,816 - malid.external.genetools_extras - WARNING - Removing class absent from y_true: 50-60\n"
     ]
    },
    {
     "name": "stderr",
     "output_type": "stream",
     "text": [
      "2023-01-07 03:53:30,845 - malid.external.genetools_extras - WARNING - Inserting phantom class: 30-40\n"
     ]
    },
    {
     "name": "stderr",
     "output_type": "stream",
     "text": [
      "2023-01-07 03:53:30,847 - malid.external.genetools_extras - WARNING - Removing class absent from y_true: 60-70\n"
     ]
    },
    {
     "name": "stderr",
     "output_type": "stream",
     "text": [
      "2023-01-07 03:53:30,849 - malid.external.genetools_extras - WARNING - Removing class absent from y_true: 40-50\n"
     ]
    },
    {
     "name": "stderr",
     "output_type": "stream",
     "text": [
      "2023-01-07 03:53:30,851 - malid.external.genetools_extras - WARNING - Removing class absent from y_true: 20-30\n"
     ]
    },
    {
     "name": "stderr",
     "output_type": "stream",
     "text": [
      "2023-01-07 03:53:30,862 - malid.external.genetools_extras - WARNING - Inserting phantom class: 30-40\n"
     ]
    },
    {
     "name": "stderr",
     "output_type": "stream",
     "text": [
      "2023-01-07 03:53:30,864 - malid.external.genetools_extras - WARNING - Removing class absent from y_true: 60-70\n"
     ]
    },
    {
     "name": "stderr",
     "output_type": "stream",
     "text": [
      "2023-01-07 03:53:30,866 - malid.external.genetools_extras - WARNING - Removing class absent from y_true: 40-50\n"
     ]
    },
    {
     "name": "stderr",
     "output_type": "stream",
     "text": [
      "2023-01-07 03:53:30,868 - malid.external.genetools_extras - WARNING - Removing class absent from y_true: 20-30\n"
     ]
    },
    {
     "name": "stderr",
     "output_type": "stream",
     "text": [
      "2023-01-07 03:53:30,877 - malid.external.genetools_extras - WARNING - Inserting phantom class: 30-40\n"
     ]
    },
    {
     "name": "stderr",
     "output_type": "stream",
     "text": [
      "2023-01-07 03:53:30,879 - malid.external.genetools_extras - WARNING - Removing class absent from y_true: 60-70\n"
     ]
    },
    {
     "name": "stderr",
     "output_type": "stream",
     "text": [
      "2023-01-07 03:53:30,881 - malid.external.genetools_extras - WARNING - Removing class absent from y_true: 40-50\n"
     ]
    },
    {
     "name": "stderr",
     "output_type": "stream",
     "text": [
      "2023-01-07 03:53:30,882 - malid.external.genetools_extras - WARNING - Removing class absent from y_true: 20-30\n"
     ]
    },
    {
     "name": "stderr",
     "output_type": "stream",
     "text": [
      "2023-01-07 03:53:30,891 - malid.external.genetools_extras - WARNING - Inserting phantom class: 30-40\n"
     ]
    },
    {
     "name": "stderr",
     "output_type": "stream",
     "text": [
      "2023-01-07 03:53:30,894 - malid.external.genetools_extras - WARNING - Removing class absent from y_true: 60-70\n"
     ]
    },
    {
     "name": "stderr",
     "output_type": "stream",
     "text": [
      "2023-01-07 03:53:30,897 - malid.external.genetools_extras - WARNING - Removing class absent from y_true: 40-50\n"
     ]
    },
    {
     "name": "stderr",
     "output_type": "stream",
     "text": [
      "2023-01-07 03:53:30,900 - malid.external.genetools_extras - WARNING - Removing class absent from y_true: 20-30\n"
     ]
    },
    {
     "name": "stderr",
     "output_type": "stream",
     "text": [
      "2023-01-07 03:53:30,914 - malid.external.genetools_extras - WARNING - Removing class absent from y_true: 70-80\n"
     ]
    },
    {
     "name": "stderr",
     "output_type": "stream",
     "text": [
      "2023-01-07 03:53:30,946 - malid.external.genetools_extras - WARNING - Removing class absent from y_true: 70-80\n"
     ]
    },
    {
     "name": "stderr",
     "output_type": "stream",
     "text": [
      "2023-01-07 03:53:30,972 - malid.external.genetools_extras - WARNING - Removing class absent from y_true: 70-80\n"
     ]
    },
    {
     "name": "stderr",
     "output_type": "stream",
     "text": [
      "2023-01-07 03:53:30,985 - malid.external.genetools_extras - WARNING - Removing class absent from y_true: 70-80\n"
     ]
    },
    {
     "name": "stderr",
     "output_type": "stream",
     "text": [
      "2023-01-07 03:53:31,000 - malid.external.genetools_extras - WARNING - Removing class absent from y_true: 40-50\n"
     ]
    },
    {
     "name": "stderr",
     "output_type": "stream",
     "text": [
      "2023-01-07 03:53:31,001 - malid.external.genetools_extras - WARNING - Removing class absent from y_true: 30-40\n"
     ]
    },
    {
     "name": "stderr",
     "output_type": "stream",
     "text": [
      "2023-01-07 03:53:31,003 - malid.external.genetools_extras - WARNING - Removing class absent from y_true: 50-60\n"
     ]
    },
    {
     "name": "stderr",
     "output_type": "stream",
     "text": [
      "2023-01-07 03:53:31,006 - malid.external.genetools_extras - WARNING - Removing class absent from y_true: 40-50\n"
     ]
    },
    {
     "name": "stderr",
     "output_type": "stream",
     "text": [
      "2023-01-07 03:53:31,008 - malid.external.genetools_extras - WARNING - Removing class absent from y_true: 30-40\n"
     ]
    },
    {
     "name": "stderr",
     "output_type": "stream",
     "text": [
      "2023-01-07 03:53:31,009 - malid.external.genetools_extras - WARNING - Removing class absent from y_true: 50-60\n"
     ]
    },
    {
     "name": "stderr",
     "output_type": "stream",
     "text": [
      "2023-01-07 03:53:31,013 - malid.external.genetools_extras - WARNING - Removing class absent from y_true: 40-50\n"
     ]
    },
    {
     "name": "stderr",
     "output_type": "stream",
     "text": [
      "2023-01-07 03:53:31,014 - malid.external.genetools_extras - WARNING - Removing class absent from y_true: 30-40\n"
     ]
    },
    {
     "name": "stderr",
     "output_type": "stream",
     "text": [
      "2023-01-07 03:53:31,016 - malid.external.genetools_extras - WARNING - Removing class absent from y_true: 50-60\n"
     ]
    },
    {
     "name": "stderr",
     "output_type": "stream",
     "text": [
      "2023-01-07 03:53:31,019 - malid.external.genetools_extras - WARNING - Removing class absent from y_true: 40-50\n"
     ]
    },
    {
     "name": "stderr",
     "output_type": "stream",
     "text": [
      "2023-01-07 03:53:31,021 - malid.external.genetools_extras - WARNING - Removing class absent from y_true: 30-40\n"
     ]
    },
    {
     "name": "stderr",
     "output_type": "stream",
     "text": [
      "2023-01-07 03:53:31,023 - malid.external.genetools_extras - WARNING - Removing class absent from y_true: 50-60\n"
     ]
    },
    {
     "name": "stderr",
     "output_type": "stream",
     "text": [
      "2023-01-07 03:53:31,207 - malid.external.genetools_extras - WARNING - Removing class absent from y_true: 70-80\n"
     ]
    },
    {
     "name": "stderr",
     "output_type": "stream",
     "text": [
      "2023-01-07 03:53:31,252 - malid.external.genetools_extras - WARNING - Removing class absent from y_true: 70-80\n"
     ]
    },
    {
     "name": "stderr",
     "output_type": "stream",
     "text": [
      "2023-01-07 03:53:31,279 - malid.external.genetools_extras - WARNING - Removing class absent from y_true: 70-80\n"
     ]
    },
    {
     "name": "stderr",
     "output_type": "stream",
     "text": [
      "2023-01-07 03:53:31,294 - malid.external.genetools_extras - WARNING - Removing class absent from y_true: 70-80\n"
     ]
    },
    {
     "name": "stderr",
     "output_type": "stream",
     "text": [
      "2023-01-07 03:53:31,309 - malid.external.genetools_extras - WARNING - Removing class absent from y_true: 70-80\n"
     ]
    },
    {
     "name": "stderr",
     "output_type": "stream",
     "text": [
      "2023-01-07 03:53:31,335 - malid.external.genetools_extras - WARNING - Removing class absent from y_true: 70-80\n"
     ]
    },
    {
     "name": "stderr",
     "output_type": "stream",
     "text": [
      "2023-01-07 03:53:31,360 - malid.external.genetools_extras - WARNING - Removing class absent from y_true: 70-80\n"
     ]
    },
    {
     "name": "stderr",
     "output_type": "stream",
     "text": [
      "2023-01-07 03:53:31,374 - malid.external.genetools_extras - WARNING - Removing class absent from y_true: 70-80\n"
     ]
    },
    {
     "name": "stderr",
     "output_type": "stream",
     "text": [
      "2023-01-07 03:53:31,389 - malid.external.genetools_extras - WARNING - Inserting phantom class: 70-80\n"
     ]
    },
    {
     "name": "stderr",
     "output_type": "stream",
     "text": [
      "2023-01-07 03:53:31,424 - malid.external.genetools_extras - WARNING - Inserting phantom class: 70-80\n"
     ]
    },
    {
     "name": "stderr",
     "output_type": "stream",
     "text": [
      "2023-01-07 03:53:31,460 - malid.external.genetools_extras - WARNING - Inserting phantom class: 70-80\n"
     ]
    },
    {
     "name": "stderr",
     "output_type": "stream",
     "text": [
      "2023-01-07 03:53:31,478 - malid.external.genetools_extras - WARNING - Inserting phantom class: 70-80\n"
     ]
    },
    {
     "name": "stderr",
     "output_type": "stream",
     "text": [
      "2023-01-07 03:53:31,513 - malid.external.genetools_extras - WARNING - Removing class absent from y_true: 70-80\n"
     ]
    },
    {
     "name": "stderr",
     "output_type": "stream",
     "text": [
      "2023-01-07 03:53:31,539 - malid.external.genetools_extras - WARNING - Removing class absent from y_true: 70-80\n"
     ]
    },
    {
     "name": "stderr",
     "output_type": "stream",
     "text": [
      "2023-01-07 03:53:31,568 - malid.external.genetools_extras - WARNING - Removing class absent from y_true: 70-80\n"
     ]
    },
    {
     "name": "stderr",
     "output_type": "stream",
     "text": [
      "2023-01-07 03:53:31,581 - malid.external.genetools_extras - WARNING - Removing class absent from y_true: 70-80\n"
     ]
    },
    {
     "name": "stderr",
     "output_type": "stream",
     "text": [
      "2023-01-07 03:53:31,596 - malid.external.genetools_extras - WARNING - Removing class absent from y_true: 70-80\n"
     ]
    },
    {
     "name": "stderr",
     "output_type": "stream",
     "text": [
      "2023-01-07 03:53:31,622 - malid.external.genetools_extras - WARNING - Removing class absent from y_true: 70-80\n"
     ]
    },
    {
     "name": "stderr",
     "output_type": "stream",
     "text": [
      "2023-01-07 03:53:31,650 - malid.external.genetools_extras - WARNING - Removing class absent from y_true: 70-80\n"
     ]
    },
    {
     "name": "stderr",
     "output_type": "stream",
     "text": [
      "2023-01-07 03:53:31,664 - malid.external.genetools_extras - WARNING - Removing class absent from y_true: 70-80\n"
     ]
    },
    {
     "name": "stderr",
     "output_type": "stream",
     "text": [
      "2023-01-07 03:53:31,678 - malid.external.genetools_extras - WARNING - Inserting phantom class: 70-80\n"
     ]
    },
    {
     "name": "stderr",
     "output_type": "stream",
     "text": [
      "2023-01-07 03:53:31,713 - malid.external.genetools_extras - WARNING - Inserting phantom class: 70-80\n"
     ]
    },
    {
     "name": "stderr",
     "output_type": "stream",
     "text": [
      "2023-01-07 03:53:31,750 - malid.external.genetools_extras - WARNING - Inserting phantom class: 70-80\n"
     ]
    },
    {
     "name": "stderr",
     "output_type": "stream",
     "text": [
      "2023-01-07 03:53:31,768 - malid.external.genetools_extras - WARNING - Inserting phantom class: 70-80\n"
     ]
    },
    {
     "name": "stderr",
     "output_type": "stream",
     "text": [
      "2023-01-07 03:53:32,217 - malid.external.genetools_extras - WARNING - Removing class absent from y_true: 70-80\n"
     ]
    },
    {
     "name": "stderr",
     "output_type": "stream",
     "text": [
      "2023-01-07 03:53:32,246 - malid.external.genetools_extras - WARNING - Removing class absent from y_true: 70-80\n"
     ]
    },
    {
     "name": "stderr",
     "output_type": "stream",
     "text": [
      "2023-01-07 03:53:32,275 - malid.external.genetools_extras - WARNING - Removing class absent from y_true: 70-80\n"
     ]
    },
    {
     "name": "stderr",
     "output_type": "stream",
     "text": [
      "2023-01-07 03:53:32,289 - malid.external.genetools_extras - WARNING - Removing class absent from y_true: 70-80\n"
     ]
    },
    {
     "name": "stderr",
     "output_type": "stream",
     "text": [
      "2023-01-07 03:53:32,304 - malid.external.genetools_extras - WARNING - Removing class absent from y_true: 40-50\n"
     ]
    },
    {
     "name": "stderr",
     "output_type": "stream",
     "text": [
      "2023-01-07 03:53:32,306 - malid.external.genetools_extras - WARNING - Removing class absent from y_true: 30-40\n"
     ]
    },
    {
     "name": "stderr",
     "output_type": "stream",
     "text": [
      "2023-01-07 03:53:32,307 - malid.external.genetools_extras - WARNING - Removing class absent from y_true: 50-60\n"
     ]
    },
    {
     "name": "stderr",
     "output_type": "stream",
     "text": [
      "2023-01-07 03:53:32,311 - malid.external.genetools_extras - WARNING - Removing class absent from y_true: 40-50\n"
     ]
    },
    {
     "name": "stderr",
     "output_type": "stream",
     "text": [
      "2023-01-07 03:53:32,312 - malid.external.genetools_extras - WARNING - Removing class absent from y_true: 30-40\n"
     ]
    },
    {
     "name": "stderr",
     "output_type": "stream",
     "text": [
      "2023-01-07 03:53:32,314 - malid.external.genetools_extras - WARNING - Removing class absent from y_true: 50-60\n"
     ]
    },
    {
     "name": "stderr",
     "output_type": "stream",
     "text": [
      "2023-01-07 03:53:32,317 - malid.external.genetools_extras - WARNING - Removing class absent from y_true: 40-50\n"
     ]
    },
    {
     "name": "stderr",
     "output_type": "stream",
     "text": [
      "2023-01-07 03:53:32,319 - malid.external.genetools_extras - WARNING - Removing class absent from y_true: 30-40\n"
     ]
    },
    {
     "name": "stderr",
     "output_type": "stream",
     "text": [
      "2023-01-07 03:53:32,320 - malid.external.genetools_extras - WARNING - Removing class absent from y_true: 50-60\n"
     ]
    },
    {
     "name": "stderr",
     "output_type": "stream",
     "text": [
      "2023-01-07 03:53:32,323 - malid.external.genetools_extras - WARNING - Removing class absent from y_true: 40-50\n"
     ]
    },
    {
     "name": "stderr",
     "output_type": "stream",
     "text": [
      "2023-01-07 03:53:32,325 - malid.external.genetools_extras - WARNING - Removing class absent from y_true: 30-40\n"
     ]
    },
    {
     "name": "stderr",
     "output_type": "stream",
     "text": [
      "2023-01-07 03:53:32,326 - malid.external.genetools_extras - WARNING - Removing class absent from y_true: 50-60\n"
     ]
    },
    {
     "name": "stderr",
     "output_type": "stream",
     "text": [
      "2023-01-07 03:53:32,429 - malid.external.genetools_extras - WARNING - Removing class absent from y_true: 70-80\n"
     ]
    },
    {
     "name": "stderr",
     "output_type": "stream",
     "text": [
      "2023-01-07 03:53:32,458 - malid.external.genetools_extras - WARNING - Removing class absent from y_true: 70-80\n"
     ]
    },
    {
     "name": "stderr",
     "output_type": "stream",
     "text": [
      "2023-01-07 03:53:32,486 - malid.external.genetools_extras - WARNING - Removing class absent from y_true: 70-80\n"
     ]
    },
    {
     "name": "stderr",
     "output_type": "stream",
     "text": [
      "2023-01-07 03:53:32,501 - malid.external.genetools_extras - WARNING - Removing class absent from y_true: 70-80\n"
     ]
    },
    {
     "name": "stderr",
     "output_type": "stream",
     "text": [
      "2023-01-07 03:53:32,517 - malid.external.genetools_extras - WARNING - Removing class absent from y_true: 40-50\n"
     ]
    },
    {
     "name": "stderr",
     "output_type": "stream",
     "text": [
      "2023-01-07 03:53:32,518 - malid.external.genetools_extras - WARNING - Removing class absent from y_true: 30-40\n"
     ]
    },
    {
     "name": "stderr",
     "output_type": "stream",
     "text": [
      "2023-01-07 03:53:32,520 - malid.external.genetools_extras - WARNING - Removing class absent from y_true: 50-60\n"
     ]
    },
    {
     "name": "stderr",
     "output_type": "stream",
     "text": [
      "2023-01-07 03:53:32,523 - malid.external.genetools_extras - WARNING - Removing class absent from y_true: 40-50\n"
     ]
    },
    {
     "name": "stderr",
     "output_type": "stream",
     "text": [
      "2023-01-07 03:53:32,525 - malid.external.genetools_extras - WARNING - Removing class absent from y_true: 30-40\n"
     ]
    },
    {
     "name": "stderr",
     "output_type": "stream",
     "text": [
      "2023-01-07 03:53:32,526 - malid.external.genetools_extras - WARNING - Removing class absent from y_true: 50-60\n"
     ]
    },
    {
     "name": "stderr",
     "output_type": "stream",
     "text": [
      "2023-01-07 03:53:32,530 - malid.external.genetools_extras - WARNING - Removing class absent from y_true: 40-50\n"
     ]
    },
    {
     "name": "stderr",
     "output_type": "stream",
     "text": [
      "2023-01-07 03:53:32,532 - malid.external.genetools_extras - WARNING - Removing class absent from y_true: 30-40\n"
     ]
    },
    {
     "name": "stderr",
     "output_type": "stream",
     "text": [
      "2023-01-07 03:53:32,534 - malid.external.genetools_extras - WARNING - Removing class absent from y_true: 50-60\n"
     ]
    },
    {
     "name": "stderr",
     "output_type": "stream",
     "text": [
      "2023-01-07 03:53:32,537 - malid.external.genetools_extras - WARNING - Removing class absent from y_true: 40-50\n"
     ]
    },
    {
     "name": "stderr",
     "output_type": "stream",
     "text": [
      "2023-01-07 03:53:32,538 - malid.external.genetools_extras - WARNING - Removing class absent from y_true: 30-40\n"
     ]
    },
    {
     "name": "stderr",
     "output_type": "stream",
     "text": [
      "2023-01-07 03:53:32,540 - malid.external.genetools_extras - WARNING - Removing class absent from y_true: 50-60\n"
     ]
    },
    {
     "name": "stderr",
     "output_type": "stream",
     "text": [
      "2023-01-07 03:53:32,783 - malid.external.genetools_extras - WARNING - Inserting phantom class: 30-40\n"
     ]
    },
    {
     "name": "stderr",
     "output_type": "stream",
     "text": [
      "2023-01-07 03:53:32,787 - malid.external.genetools_extras - WARNING - Removing class absent from y_true: 60-70\n"
     ]
    },
    {
     "name": "stderr",
     "output_type": "stream",
     "text": [
      "2023-01-07 03:53:32,791 - malid.external.genetools_extras - WARNING - Removing class absent from y_true: 40-50\n"
     ]
    },
    {
     "name": "stderr",
     "output_type": "stream",
     "text": [
      "2023-01-07 03:53:32,794 - malid.external.genetools_extras - WARNING - Removing class absent from y_true: 20-30\n"
     ]
    },
    {
     "name": "stderr",
     "output_type": "stream",
     "text": [
      "2023-01-07 03:53:32,813 - malid.external.genetools_extras - WARNING - Inserting phantom class: 30-40\n"
     ]
    },
    {
     "name": "stderr",
     "output_type": "stream",
     "text": [
      "2023-01-07 03:53:32,817 - malid.external.genetools_extras - WARNING - Removing class absent from y_true: 60-70\n"
     ]
    },
    {
     "name": "stderr",
     "output_type": "stream",
     "text": [
      "2023-01-07 03:53:32,819 - malid.external.genetools_extras - WARNING - Removing class absent from y_true: 40-50\n"
     ]
    },
    {
     "name": "stderr",
     "output_type": "stream",
     "text": [
      "2023-01-07 03:53:32,822 - malid.external.genetools_extras - WARNING - Removing class absent from y_true: 20-30\n"
     ]
    },
    {
     "name": "stderr",
     "output_type": "stream",
     "text": [
      "2023-01-07 03:53:32,835 - malid.external.genetools_extras - WARNING - Inserting phantom class: 30-40\n"
     ]
    },
    {
     "name": "stderr",
     "output_type": "stream",
     "text": [
      "2023-01-07 03:53:32,838 - malid.external.genetools_extras - WARNING - Removing class absent from y_true: 60-70\n"
     ]
    },
    {
     "name": "stderr",
     "output_type": "stream",
     "text": [
      "2023-01-07 03:53:32,840 - malid.external.genetools_extras - WARNING - Removing class absent from y_true: 40-50\n"
     ]
    },
    {
     "name": "stderr",
     "output_type": "stream",
     "text": [
      "2023-01-07 03:53:32,843 - malid.external.genetools_extras - WARNING - Removing class absent from y_true: 20-30\n"
     ]
    },
    {
     "name": "stderr",
     "output_type": "stream",
     "text": [
      "2023-01-07 03:53:32,850 - malid.external.genetools_extras - WARNING - Inserting phantom class: 30-40\n"
     ]
    },
    {
     "name": "stderr",
     "output_type": "stream",
     "text": [
      "2023-01-07 03:53:32,853 - malid.external.genetools_extras - WARNING - Removing class absent from y_true: 60-70\n"
     ]
    },
    {
     "name": "stderr",
     "output_type": "stream",
     "text": [
      "2023-01-07 03:53:32,854 - malid.external.genetools_extras - WARNING - Removing class absent from y_true: 40-50\n"
     ]
    },
    {
     "name": "stderr",
     "output_type": "stream",
     "text": [
      "2023-01-07 03:53:32,856 - malid.external.genetools_extras - WARNING - Removing class absent from y_true: 20-30\n"
     ]
    },
    {
     "name": "stderr",
     "output_type": "stream",
     "text": [
      "2023-01-07 03:53:32,866 - malid.external.genetools_extras - WARNING - Removing class absent from y_true: 70-80\n"
     ]
    },
    {
     "name": "stderr",
     "output_type": "stream",
     "text": [
      "2023-01-07 03:53:32,895 - malid.external.genetools_extras - WARNING - Removing class absent from y_true: 70-80\n"
     ]
    },
    {
     "name": "stderr",
     "output_type": "stream",
     "text": [
      "2023-01-07 03:53:32,923 - malid.external.genetools_extras - WARNING - Removing class absent from y_true: 70-80\n"
     ]
    },
    {
     "name": "stderr",
     "output_type": "stream",
     "text": [
      "2023-01-07 03:53:32,938 - malid.external.genetools_extras - WARNING - Removing class absent from y_true: 70-80\n"
     ]
    },
    {
     "name": "stderr",
     "output_type": "stream",
     "text": [
      "2023-01-07 03:53:32,953 - malid.external.genetools_extras - WARNING - Inserting phantom class: 70-80\n"
     ]
    },
    {
     "name": "stderr",
     "output_type": "stream",
     "text": [
      "2023-01-07 03:53:32,989 - malid.external.genetools_extras - WARNING - Inserting phantom class: 70-80\n"
     ]
    },
    {
     "name": "stderr",
     "output_type": "stream",
     "text": [
      "2023-01-07 03:53:33,024 - malid.external.genetools_extras - WARNING - Inserting phantom class: 70-80\n"
     ]
    },
    {
     "name": "stderr",
     "output_type": "stream",
     "text": [
      "2023-01-07 03:53:33,041 - malid.external.genetools_extras - WARNING - Inserting phantom class: 70-80\n"
     ]
    },
    {
     "name": "stderr",
     "output_type": "stream",
     "text": [
      "2023-01-07 03:53:33,076 - malid.external.genetools_extras - WARNING - Inserting phantom class: 30-40\n"
     ]
    },
    {
     "name": "stderr",
     "output_type": "stream",
     "text": [
      "2023-01-07 03:53:33,078 - malid.external.genetools_extras - WARNING - Removing class absent from y_true: 60-70\n"
     ]
    },
    {
     "name": "stderr",
     "output_type": "stream",
     "text": [
      "2023-01-07 03:53:33,079 - malid.external.genetools_extras - WARNING - Removing class absent from y_true: 40-50\n"
     ]
    },
    {
     "name": "stderr",
     "output_type": "stream",
     "text": [
      "2023-01-07 03:53:33,081 - malid.external.genetools_extras - WARNING - Removing class absent from y_true: 20-30\n"
     ]
    },
    {
     "name": "stderr",
     "output_type": "stream",
     "text": [
      "2023-01-07 03:53:33,090 - malid.external.genetools_extras - WARNING - Inserting phantom class: 30-40\n"
     ]
    },
    {
     "name": "stderr",
     "output_type": "stream",
     "text": [
      "2023-01-07 03:53:33,092 - malid.external.genetools_extras - WARNING - Removing class absent from y_true: 60-70\n"
     ]
    },
    {
     "name": "stderr",
     "output_type": "stream",
     "text": [
      "2023-01-07 03:53:33,094 - malid.external.genetools_extras - WARNING - Removing class absent from y_true: 40-50\n"
     ]
    },
    {
     "name": "stderr",
     "output_type": "stream",
     "text": [
      "2023-01-07 03:53:33,095 - malid.external.genetools_extras - WARNING - Removing class absent from y_true: 20-30\n"
     ]
    },
    {
     "name": "stderr",
     "output_type": "stream",
     "text": [
      "2023-01-07 03:53:33,104 - malid.external.genetools_extras - WARNING - Inserting phantom class: 30-40\n"
     ]
    },
    {
     "name": "stderr",
     "output_type": "stream",
     "text": [
      "2023-01-07 03:53:33,106 - malid.external.genetools_extras - WARNING - Removing class absent from y_true: 60-70\n"
     ]
    },
    {
     "name": "stderr",
     "output_type": "stream",
     "text": [
      "2023-01-07 03:53:33,107 - malid.external.genetools_extras - WARNING - Removing class absent from y_true: 40-50\n"
     ]
    },
    {
     "name": "stderr",
     "output_type": "stream",
     "text": [
      "2023-01-07 03:53:33,109 - malid.external.genetools_extras - WARNING - Removing class absent from y_true: 20-30\n"
     ]
    },
    {
     "name": "stderr",
     "output_type": "stream",
     "text": [
      "2023-01-07 03:53:33,116 - malid.external.genetools_extras - WARNING - Inserting phantom class: 30-40\n"
     ]
    },
    {
     "name": "stderr",
     "output_type": "stream",
     "text": [
      "2023-01-07 03:53:33,118 - malid.external.genetools_extras - WARNING - Removing class absent from y_true: 60-70\n"
     ]
    },
    {
     "name": "stderr",
     "output_type": "stream",
     "text": [
      "2023-01-07 03:53:33,119 - malid.external.genetools_extras - WARNING - Removing class absent from y_true: 40-50\n"
     ]
    },
    {
     "name": "stderr",
     "output_type": "stream",
     "text": [
      "2023-01-07 03:53:33,121 - malid.external.genetools_extras - WARNING - Removing class absent from y_true: 20-30\n"
     ]
    },
    {
     "name": "stderr",
     "output_type": "stream",
     "text": [
      "2023-01-07 03:53:33,129 - malid.external.genetools_extras - WARNING - Removing class absent from y_true: 70-80\n"
     ]
    },
    {
     "name": "stderr",
     "output_type": "stream",
     "text": [
      "2023-01-07 03:53:33,160 - malid.external.genetools_extras - WARNING - Removing class absent from y_true: 70-80\n"
     ]
    },
    {
     "name": "stderr",
     "output_type": "stream",
     "text": [
      "2023-01-07 03:53:33,186 - malid.external.genetools_extras - WARNING - Removing class absent from y_true: 70-80\n"
     ]
    },
    {
     "name": "stderr",
     "output_type": "stream",
     "text": [
      "2023-01-07 03:53:33,200 - malid.external.genetools_extras - WARNING - Removing class absent from y_true: 70-80\n"
     ]
    },
    {
     "name": "stderr",
     "output_type": "stream",
     "text": [
      "2023-01-07 03:53:33,215 - malid.external.genetools_extras - WARNING - Inserting phantom class: 70-80\n"
     ]
    },
    {
     "name": "stderr",
     "output_type": "stream",
     "text": [
      "2023-01-07 03:53:33,251 - malid.external.genetools_extras - WARNING - Inserting phantom class: 70-80\n"
     ]
    },
    {
     "name": "stderr",
     "output_type": "stream",
     "text": [
      "2023-01-07 03:53:33,286 - malid.external.genetools_extras - WARNING - Inserting phantom class: 70-80\n"
     ]
    },
    {
     "name": "stderr",
     "output_type": "stream",
     "text": [
      "2023-01-07 03:53:33,305 - malid.external.genetools_extras - WARNING - Inserting phantom class: 70-80\n"
     ]
    },
    {
     "name": "stderr",
     "output_type": "stream",
     "text": [
      "2023-01-07 03:53:33,640 - malid.external.genetools_extras - WARNING - Removing class absent from y_true: 70-80\n"
     ]
    },
    {
     "name": "stderr",
     "output_type": "stream",
     "text": [
      "2023-01-07 03:53:33,686 - malid.external.genetools_extras - WARNING - Removing class absent from y_true: 70-80\n"
     ]
    },
    {
     "name": "stderr",
     "output_type": "stream",
     "text": [
      "2023-01-07 03:53:33,713 - malid.external.genetools_extras - WARNING - Removing class absent from y_true: 70-80\n"
     ]
    },
    {
     "name": "stderr",
     "output_type": "stream",
     "text": [
      "2023-01-07 03:53:33,727 - malid.external.genetools_extras - WARNING - Removing class absent from y_true: 70-80\n"
     ]
    },
    {
     "name": "stderr",
     "output_type": "stream",
     "text": [
      "2023-01-07 03:53:33,743 - malid.external.genetools_extras - WARNING - Removing class absent from y_true: 70-80\n"
     ]
    },
    {
     "name": "stderr",
     "output_type": "stream",
     "text": [
      "2023-01-07 03:53:33,772 - malid.external.genetools_extras - WARNING - Removing class absent from y_true: 70-80\n"
     ]
    },
    {
     "name": "stderr",
     "output_type": "stream",
     "text": [
      "2023-01-07 03:53:33,799 - malid.external.genetools_extras - WARNING - Removing class absent from y_true: 70-80\n"
     ]
    },
    {
     "name": "stderr",
     "output_type": "stream",
     "text": [
      "2023-01-07 03:53:33,814 - malid.external.genetools_extras - WARNING - Removing class absent from y_true: 70-80\n"
     ]
    },
    {
     "name": "stderr",
     "output_type": "stream",
     "text": [
      "2023-01-07 03:53:33,828 - malid.external.genetools_extras - WARNING - Inserting phantom class: 70-80\n"
     ]
    },
    {
     "name": "stderr",
     "output_type": "stream",
     "text": [
      "2023-01-07 03:53:33,867 - malid.external.genetools_extras - WARNING - Inserting phantom class: 70-80\n"
     ]
    },
    {
     "name": "stderr",
     "output_type": "stream",
     "text": [
      "2023-01-07 03:53:33,906 - malid.external.genetools_extras - WARNING - Inserting phantom class: 70-80\n"
     ]
    },
    {
     "name": "stderr",
     "output_type": "stream",
     "text": [
      "2023-01-07 03:53:33,941 - malid.external.genetools_extras - WARNING - Inserting phantom class: 70-80\n"
     ]
    },
    {
     "name": "stderr",
     "output_type": "stream",
     "text": [
      "2023-01-07 03:53:33,977 - malid.external.genetools_extras - WARNING - Removing class absent from y_true: 70-80\n"
     ]
    },
    {
     "name": "stderr",
     "output_type": "stream",
     "text": [
      "2023-01-07 03:53:34,005 - malid.external.genetools_extras - WARNING - Removing class absent from y_true: 70-80\n"
     ]
    },
    {
     "name": "stderr",
     "output_type": "stream",
     "text": [
      "2023-01-07 03:53:34,034 - malid.external.genetools_extras - WARNING - Removing class absent from y_true: 70-80\n"
     ]
    },
    {
     "name": "stderr",
     "output_type": "stream",
     "text": [
      "2023-01-07 03:53:34,048 - malid.external.genetools_extras - WARNING - Removing class absent from y_true: 70-80\n"
     ]
    },
    {
     "name": "stderr",
     "output_type": "stream",
     "text": [
      "2023-01-07 03:53:34,063 - malid.external.genetools_extras - WARNING - Removing class absent from y_true: 70-80\n"
     ]
    },
    {
     "name": "stderr",
     "output_type": "stream",
     "text": [
      "2023-01-07 03:53:34,092 - malid.external.genetools_extras - WARNING - Removing class absent from y_true: 70-80\n"
     ]
    },
    {
     "name": "stderr",
     "output_type": "stream",
     "text": [
      "2023-01-07 03:53:34,119 - malid.external.genetools_extras - WARNING - Removing class absent from y_true: 70-80\n"
     ]
    },
    {
     "name": "stderr",
     "output_type": "stream",
     "text": [
      "2023-01-07 03:53:34,134 - malid.external.genetools_extras - WARNING - Removing class absent from y_true: 70-80\n"
     ]
    },
    {
     "name": "stderr",
     "output_type": "stream",
     "text": [
      "2023-01-07 03:53:34,149 - malid.external.genetools_extras - WARNING - Inserting phantom class: 70-80\n"
     ]
    },
    {
     "name": "stderr",
     "output_type": "stream",
     "text": [
      "2023-01-07 03:53:34,188 - malid.external.genetools_extras - WARNING - Inserting phantom class: 70-80\n"
     ]
    },
    {
     "name": "stderr",
     "output_type": "stream",
     "text": [
      "2023-01-07 03:53:34,226 - malid.external.genetools_extras - WARNING - Inserting phantom class: 70-80\n"
     ]
    },
    {
     "name": "stderr",
     "output_type": "stream",
     "text": [
      "2023-01-07 03:53:34,245 - malid.external.genetools_extras - WARNING - Inserting phantom class: 70-80\n"
     ]
    },
    {
     "name": "stdout",
     "output_type": "stream",
     "text": [
      "GeneLocus.BCR TargetObsColumnEnum.age_group_healthy_only\n"
     ]
    },
    {
     "data": {
      "text/html": [
       "<div>\n",
       "<style scoped>\n",
       "    .dataframe tbody tr th:only-of-type {\n",
       "        vertical-align: middle;\n",
       "    }\n",
       "\n",
       "    .dataframe tbody tr th {\n",
       "        vertical-align: top;\n",
       "    }\n",
       "\n",
       "    .dataframe thead th {\n",
       "        text-align: right;\n",
       "    }\n",
       "</style>\n",
       "<table border=\"1\" class=\"dataframe\">\n",
       "  <thead>\n",
       "    <tr style=\"text-align: right;\">\n",
       "      <th></th>\n",
       "      <th>ROC-AUC (weighted OvO) per fold</th>\n",
       "      <th>ROC-AUC (macro OvO) per fold</th>\n",
       "      <th>au-PRC (weighted OvO) per fold</th>\n",
       "      <th>au-PRC (macro OvO) per fold</th>\n",
       "      <th>Accuracy per fold</th>\n",
       "      <th>MCC per fold</th>\n",
       "      <th>Accuracy global</th>\n",
       "      <th>MCC global</th>\n",
       "      <th>Accuracy per fold with abstention</th>\n",
       "      <th>MCC per fold with abstention</th>\n",
       "      <th>...</th>\n",
       "      <th>Abstention label global with abstention</th>\n",
       "      <th>sample_size</th>\n",
       "      <th>n_abstentions</th>\n",
       "      <th>sample_size including abstentions</th>\n",
       "      <th>abstention_rate</th>\n",
       "      <th>missing_classes</th>\n",
       "      <th>ROC-AUC (weighted OvO) per fold with abstention</th>\n",
       "      <th>ROC-AUC (macro OvO) per fold with abstention</th>\n",
       "      <th>au-PRC (weighted OvO) per fold with abstention</th>\n",
       "      <th>au-PRC (macro OvO) per fold with abstention</th>\n",
       "    </tr>\n",
       "  </thead>\n",
       "  <tbody>\n",
       "    <tr>\n",
       "      <th>linearsvm_ovr</th>\n",
       "      <td>0.537 +/- 0.058 (in 3 folds)</td>\n",
       "      <td>0.534 +/- 0.056 (in 3 folds)</td>\n",
       "      <td>0.626 +/- 0.063 (in 3 folds)</td>\n",
       "      <td>0.626 +/- 0.062 (in 3 folds)</td>\n",
       "      <td>0.215 +/- 0.030 (in 3 folds)</td>\n",
       "      <td>0.066 +/- 0.016 (in 3 folds)</td>\n",
       "      <td>0.215</td>\n",
       "      <td>0.053</td>\n",
       "      <td>0.212 +/- 0.028 (in 3 folds)</td>\n",
       "      <td>0.066 +/- 0.017 (in 3 folds)</td>\n",
       "      <td>...</td>\n",
       "      <td>Unknown</td>\n",
       "      <td>130</td>\n",
       "      <td>2</td>\n",
       "      <td>132</td>\n",
       "      <td>0.015152</td>\n",
       "      <td>True</td>\n",
       "      <td>0.603 +/- 0.000 (in 1 folds)</td>\n",
       "      <td>0.594 +/- 0.000 (in 1 folds)</td>\n",
       "      <td>0.699 +/- 0.000 (in 1 folds)</td>\n",
       "      <td>0.695 +/- 0.000 (in 1 folds)</td>\n",
       "    </tr>\n",
       "    <tr>\n",
       "      <th>dummy_stratified</th>\n",
       "      <td>0.536 +/- 0.026 (in 3 folds)</td>\n",
       "      <td>0.535 +/- 0.030 (in 3 folds)</td>\n",
       "      <td>0.549 +/- 0.018 (in 3 folds)</td>\n",
       "      <td>0.549 +/- 0.018 (in 3 folds)</td>\n",
       "      <td>0.222 +/- 0.043 (in 3 folds)</td>\n",
       "      <td>0.080 +/- 0.049 (in 3 folds)</td>\n",
       "      <td>0.220</td>\n",
       "      <td>0.065</td>\n",
       "      <td>0.206 +/- 0.034 (in 3 folds)</td>\n",
       "      <td>0.068 +/- 0.040 (in 3 folds)</td>\n",
       "      <td>...</td>\n",
       "      <td>Unknown</td>\n",
       "      <td>123</td>\n",
       "      <td>9</td>\n",
       "      <td>132</td>\n",
       "      <td>0.068182</td>\n",
       "      <td>True</td>\n",
       "      <td>0.507 +/- 0.000 (in 1 folds)</td>\n",
       "      <td>0.501 +/- 0.000 (in 1 folds)</td>\n",
       "      <td>0.529 +/- 0.000 (in 1 folds)</td>\n",
       "      <td>0.529 +/- 0.000 (in 1 folds)</td>\n",
       "    </tr>\n",
       "    <tr>\n",
       "      <th>lasso_cv</th>\n",
       "      <td>0.533 +/- 0.041 (in 3 folds)</td>\n",
       "      <td>0.530 +/- 0.040 (in 3 folds)</td>\n",
       "      <td>0.614 +/- 0.045 (in 3 folds)</td>\n",
       "      <td>0.614 +/- 0.043 (in 3 folds)</td>\n",
       "      <td>0.214 +/- 0.020 (in 3 folds)</td>\n",
       "      <td>0.108 +/- 0.038 (in 3 folds)</td>\n",
       "      <td>0.213</td>\n",
       "      <td>0.060</td>\n",
       "      <td>0.205 +/- 0.013 (in 3 folds)</td>\n",
       "      <td>0.095 +/- 0.031 (in 3 folds)</td>\n",
       "      <td>...</td>\n",
       "      <td>Unknown</td>\n",
       "      <td>127</td>\n",
       "      <td>5</td>\n",
       "      <td>132</td>\n",
       "      <td>0.037879</td>\n",
       "      <td>True</td>\n",
       "      <td>NaN</td>\n",
       "      <td>NaN</td>\n",
       "      <td>NaN</td>\n",
       "      <td>NaN</td>\n",
       "    </tr>\n",
       "    <tr>\n",
       "      <th>lasso_multiclass</th>\n",
       "      <td>0.529 +/- 0.030 (in 3 folds)</td>\n",
       "      <td>0.523 +/- 0.036 (in 3 folds)</td>\n",
       "      <td>0.628 +/- 0.036 (in 3 folds)</td>\n",
       "      <td>0.624 +/- 0.041 (in 3 folds)</td>\n",
       "      <td>0.241 +/- 0.053 (in 3 folds)</td>\n",
       "      <td>0.110 +/- 0.051 (in 3 folds)</td>\n",
       "      <td>0.227</td>\n",
       "      <td>0.088</td>\n",
       "      <td>0.188 +/- 0.039 (in 3 folds)</td>\n",
       "      <td>0.084 +/- 0.016 (in 3 folds)</td>\n",
       "      <td>...</td>\n",
       "      <td>Unknown</td>\n",
       "      <td>110</td>\n",
       "      <td>22</td>\n",
       "      <td>132</td>\n",
       "      <td>0.166667</td>\n",
       "      <td>False</td>\n",
       "      <td>0.562 +/- 0.000 (in 1 folds)</td>\n",
       "      <td>0.565 +/- 0.000 (in 1 folds)</td>\n",
       "      <td>0.650 +/- 0.000 (in 1 folds)</td>\n",
       "      <td>0.651 +/- 0.000 (in 1 folds)</td>\n",
       "    </tr>\n",
       "    <tr>\n",
       "      <th>xgboost</th>\n",
       "      <td>0.525 +/- 0.053 (in 3 folds)</td>\n",
       "      <td>0.523 +/- 0.049 (in 3 folds)</td>\n",
       "      <td>0.584 +/- 0.074 (in 3 folds)</td>\n",
       "      <td>0.582 +/- 0.068 (in 3 folds)</td>\n",
       "      <td>0.235 +/- 0.011 (in 3 folds)</td>\n",
       "      <td>0.007 +/- 0.132 (in 3 folds)</td>\n",
       "      <td>0.239</td>\n",
       "      <td>0.092</td>\n",
       "      <td>0.168 +/- 0.107 (in 3 folds)</td>\n",
       "      <td>0.052 +/- 0.048 (in 3 folds)</td>\n",
       "      <td>...</td>\n",
       "      <td>Unknown</td>\n",
       "      <td>92</td>\n",
       "      <td>40</td>\n",
       "      <td>132</td>\n",
       "      <td>0.303030</td>\n",
       "      <td>True</td>\n",
       "      <td>NaN</td>\n",
       "      <td>NaN</td>\n",
       "      <td>NaN</td>\n",
       "      <td>NaN</td>\n",
       "    </tr>\n",
       "    <tr>\n",
       "      <th>rf_multiclass</th>\n",
       "      <td>0.517 +/- 0.039 (in 3 folds)</td>\n",
       "      <td>0.517 +/- 0.045 (in 3 folds)</td>\n",
       "      <td>0.584 +/- 0.019 (in 3 folds)</td>\n",
       "      <td>0.585 +/- 0.023 (in 3 folds)</td>\n",
       "      <td>0.228 +/- 0.036 (in 3 folds)</td>\n",
       "      <td>0.076 +/- 0.018 (in 3 folds)</td>\n",
       "      <td>0.229</td>\n",
       "      <td>0.069</td>\n",
       "      <td>0.226 +/- 0.037 (in 3 folds)</td>\n",
       "      <td>0.076 +/- 0.018 (in 3 folds)</td>\n",
       "      <td>...</td>\n",
       "      <td>Unknown</td>\n",
       "      <td>131</td>\n",
       "      <td>1</td>\n",
       "      <td>132</td>\n",
       "      <td>0.007576</td>\n",
       "      <td>True</td>\n",
       "      <td>0.535 +/- 0.031 (in 2 folds)</td>\n",
       "      <td>0.539 +/- 0.033 (in 2 folds)</td>\n",
       "      <td>0.587 +/- 0.026 (in 2 folds)</td>\n",
       "      <td>0.591 +/- 0.028 (in 2 folds)</td>\n",
       "    </tr>\n",
       "    <tr>\n",
       "      <th>dummy_most_frequent</th>\n",
       "      <td>0.500 +/- 0.000 (in 3 folds)</td>\n",
       "      <td>0.500 +/- 0.000 (in 3 folds)</td>\n",
       "      <td>0.500 +/- 0.000 (in 3 folds)</td>\n",
       "      <td>0.500 +/- 0.000 (in 3 folds)</td>\n",
       "      <td>0.372 +/- 0.176 (in 3 folds)</td>\n",
       "      <td>0.000 +/- 0.000 (in 3 folds)</td>\n",
       "      <td>0.241</td>\n",
       "      <td>0.131</td>\n",
       "      <td>0.101 +/- 0.064 (in 3 folds)</td>\n",
       "      <td>0.048 +/- 0.043 (in 3 folds)</td>\n",
       "      <td>...</td>\n",
       "      <td>Unknown</td>\n",
       "      <td>54</td>\n",
       "      <td>78</td>\n",
       "      <td>132</td>\n",
       "      <td>0.590909</td>\n",
       "      <td>True</td>\n",
       "      <td>0.500 +/- 0.000 (in 1 folds)</td>\n",
       "      <td>0.500 +/- 0.000 (in 1 folds)</td>\n",
       "      <td>0.500 +/- 0.000 (in 1 folds)</td>\n",
       "      <td>0.500 +/- 0.000 (in 1 folds)</td>\n",
       "    </tr>\n",
       "    <tr>\n",
       "      <th>elasticnet_cv</th>\n",
       "      <td>0.366 +/- 0.319 (in 3 folds)</td>\n",
       "      <td>0.365 +/- 0.318 (in 3 folds)</td>\n",
       "      <td>0.560 +/- 0.131 (in 3 folds)</td>\n",
       "      <td>0.562 +/- 0.130 (in 3 folds)</td>\n",
       "      <td>0.305 +/- 0.169 (in 3 folds)</td>\n",
       "      <td>0.088 +/- 0.076 (in 3 folds)</td>\n",
       "      <td>0.221</td>\n",
       "      <td>0.060</td>\n",
       "      <td>0.146 +/- 0.089 (in 3 folds)</td>\n",
       "      <td>0.096 +/- 0.030 (in 3 folds)</td>\n",
       "      <td>...</td>\n",
       "      <td>Unknown</td>\n",
       "      <td>86</td>\n",
       "      <td>46</td>\n",
       "      <td>132</td>\n",
       "      <td>0.348485</td>\n",
       "      <td>True</td>\n",
       "      <td>NaN</td>\n",
       "      <td>NaN</td>\n",
       "      <td>NaN</td>\n",
       "      <td>NaN</td>\n",
       "    </tr>\n",
       "    <tr>\n",
       "      <th>ridge_cv</th>\n",
       "      <td>0.355 +/- 0.310 (in 3 folds)</td>\n",
       "      <td>0.354 +/- 0.309 (in 3 folds)</td>\n",
       "      <td>0.530 +/- 0.128 (in 3 folds)</td>\n",
       "      <td>0.530 +/- 0.124 (in 3 folds)</td>\n",
       "      <td>0.372 +/- 0.176 (in 3 folds)</td>\n",
       "      <td>0.000 +/- 0.000 (in 3 folds)</td>\n",
       "      <td>0.241</td>\n",
       "      <td>0.131</td>\n",
       "      <td>0.101 +/- 0.064 (in 3 folds)</td>\n",
       "      <td>0.048 +/- 0.043 (in 3 folds)</td>\n",
       "      <td>...</td>\n",
       "      <td>Unknown</td>\n",
       "      <td>54</td>\n",
       "      <td>78</td>\n",
       "      <td>132</td>\n",
       "      <td>0.590909</td>\n",
       "      <td>True</td>\n",
       "      <td>0.576 +/- 0.000 (in 1 folds)</td>\n",
       "      <td>0.563 +/- 0.000 (in 1 folds)</td>\n",
       "      <td>0.670 +/- 0.000 (in 1 folds)</td>\n",
       "      <td>0.663 +/- 0.000 (in 1 folds)</td>\n",
       "    </tr>\n",
       "  </tbody>\n",
       "</table>\n",
       "<p>9 rows × 24 columns</p>\n",
       "</div>"
      ],
      "text/plain": [
       "                    ROC-AUC (weighted OvO) per fold  \\\n",
       "linearsvm_ovr          0.537 +/- 0.058 (in 3 folds)   \n",
       "dummy_stratified       0.536 +/- 0.026 (in 3 folds)   \n",
       "lasso_cv               0.533 +/- 0.041 (in 3 folds)   \n",
       "lasso_multiclass       0.529 +/- 0.030 (in 3 folds)   \n",
       "xgboost                0.525 +/- 0.053 (in 3 folds)   \n",
       "rf_multiclass          0.517 +/- 0.039 (in 3 folds)   \n",
       "dummy_most_frequent    0.500 +/- 0.000 (in 3 folds)   \n",
       "elasticnet_cv          0.366 +/- 0.319 (in 3 folds)   \n",
       "ridge_cv               0.355 +/- 0.310 (in 3 folds)   \n",
       "\n",
       "                     ROC-AUC (macro OvO) per fold  \\\n",
       "linearsvm_ovr        0.534 +/- 0.056 (in 3 folds)   \n",
       "dummy_stratified     0.535 +/- 0.030 (in 3 folds)   \n",
       "lasso_cv             0.530 +/- 0.040 (in 3 folds)   \n",
       "lasso_multiclass     0.523 +/- 0.036 (in 3 folds)   \n",
       "xgboost              0.523 +/- 0.049 (in 3 folds)   \n",
       "rf_multiclass        0.517 +/- 0.045 (in 3 folds)   \n",
       "dummy_most_frequent  0.500 +/- 0.000 (in 3 folds)   \n",
       "elasticnet_cv        0.365 +/- 0.318 (in 3 folds)   \n",
       "ridge_cv             0.354 +/- 0.309 (in 3 folds)   \n",
       "\n",
       "                    au-PRC (weighted OvO) per fold  \\\n",
       "linearsvm_ovr         0.626 +/- 0.063 (in 3 folds)   \n",
       "dummy_stratified      0.549 +/- 0.018 (in 3 folds)   \n",
       "lasso_cv              0.614 +/- 0.045 (in 3 folds)   \n",
       "lasso_multiclass      0.628 +/- 0.036 (in 3 folds)   \n",
       "xgboost               0.584 +/- 0.074 (in 3 folds)   \n",
       "rf_multiclass         0.584 +/- 0.019 (in 3 folds)   \n",
       "dummy_most_frequent   0.500 +/- 0.000 (in 3 folds)   \n",
       "elasticnet_cv         0.560 +/- 0.131 (in 3 folds)   \n",
       "ridge_cv              0.530 +/- 0.128 (in 3 folds)   \n",
       "\n",
       "                      au-PRC (macro OvO) per fold  \\\n",
       "linearsvm_ovr        0.626 +/- 0.062 (in 3 folds)   \n",
       "dummy_stratified     0.549 +/- 0.018 (in 3 folds)   \n",
       "lasso_cv             0.614 +/- 0.043 (in 3 folds)   \n",
       "lasso_multiclass     0.624 +/- 0.041 (in 3 folds)   \n",
       "xgboost              0.582 +/- 0.068 (in 3 folds)   \n",
       "rf_multiclass        0.585 +/- 0.023 (in 3 folds)   \n",
       "dummy_most_frequent  0.500 +/- 0.000 (in 3 folds)   \n",
       "elasticnet_cv        0.562 +/- 0.130 (in 3 folds)   \n",
       "ridge_cv             0.530 +/- 0.124 (in 3 folds)   \n",
       "\n",
       "                                Accuracy per fold  \\\n",
       "linearsvm_ovr        0.215 +/- 0.030 (in 3 folds)   \n",
       "dummy_stratified     0.222 +/- 0.043 (in 3 folds)   \n",
       "lasso_cv             0.214 +/- 0.020 (in 3 folds)   \n",
       "lasso_multiclass     0.241 +/- 0.053 (in 3 folds)   \n",
       "xgboost              0.235 +/- 0.011 (in 3 folds)   \n",
       "rf_multiclass        0.228 +/- 0.036 (in 3 folds)   \n",
       "dummy_most_frequent  0.372 +/- 0.176 (in 3 folds)   \n",
       "elasticnet_cv        0.305 +/- 0.169 (in 3 folds)   \n",
       "ridge_cv             0.372 +/- 0.176 (in 3 folds)   \n",
       "\n",
       "                                     MCC per fold Accuracy global MCC global  \\\n",
       "linearsvm_ovr        0.066 +/- 0.016 (in 3 folds)           0.215      0.053   \n",
       "dummy_stratified     0.080 +/- 0.049 (in 3 folds)           0.220      0.065   \n",
       "lasso_cv             0.108 +/- 0.038 (in 3 folds)           0.213      0.060   \n",
       "lasso_multiclass     0.110 +/- 0.051 (in 3 folds)           0.227      0.088   \n",
       "xgboost              0.007 +/- 0.132 (in 3 folds)           0.239      0.092   \n",
       "rf_multiclass        0.076 +/- 0.018 (in 3 folds)           0.229      0.069   \n",
       "dummy_most_frequent  0.000 +/- 0.000 (in 3 folds)           0.241      0.131   \n",
       "elasticnet_cv        0.088 +/- 0.076 (in 3 folds)           0.221      0.060   \n",
       "ridge_cv             0.000 +/- 0.000 (in 3 folds)           0.241      0.131   \n",
       "\n",
       "                    Accuracy per fold with abstention  \\\n",
       "linearsvm_ovr            0.212 +/- 0.028 (in 3 folds)   \n",
       "dummy_stratified         0.206 +/- 0.034 (in 3 folds)   \n",
       "lasso_cv                 0.205 +/- 0.013 (in 3 folds)   \n",
       "lasso_multiclass         0.188 +/- 0.039 (in 3 folds)   \n",
       "xgboost                  0.168 +/- 0.107 (in 3 folds)   \n",
       "rf_multiclass            0.226 +/- 0.037 (in 3 folds)   \n",
       "dummy_most_frequent      0.101 +/- 0.064 (in 3 folds)   \n",
       "elasticnet_cv            0.146 +/- 0.089 (in 3 folds)   \n",
       "ridge_cv                 0.101 +/- 0.064 (in 3 folds)   \n",
       "\n",
       "                     MCC per fold with abstention  ...  \\\n",
       "linearsvm_ovr        0.066 +/- 0.017 (in 3 folds)  ...   \n",
       "dummy_stratified     0.068 +/- 0.040 (in 3 folds)  ...   \n",
       "lasso_cv             0.095 +/- 0.031 (in 3 folds)  ...   \n",
       "lasso_multiclass     0.084 +/- 0.016 (in 3 folds)  ...   \n",
       "xgboost              0.052 +/- 0.048 (in 3 folds)  ...   \n",
       "rf_multiclass        0.076 +/- 0.018 (in 3 folds)  ...   \n",
       "dummy_most_frequent  0.048 +/- 0.043 (in 3 folds)  ...   \n",
       "elasticnet_cv        0.096 +/- 0.030 (in 3 folds)  ...   \n",
       "ridge_cv             0.048 +/- 0.043 (in 3 folds)  ...   \n",
       "\n",
       "                    Abstention label global with abstention sample_size  \\\n",
       "linearsvm_ovr                                       Unknown         130   \n",
       "dummy_stratified                                    Unknown         123   \n",
       "lasso_cv                                            Unknown         127   \n",
       "lasso_multiclass                                    Unknown         110   \n",
       "xgboost                                             Unknown          92   \n",
       "rf_multiclass                                       Unknown         131   \n",
       "dummy_most_frequent                                 Unknown          54   \n",
       "elasticnet_cv                                       Unknown          86   \n",
       "ridge_cv                                            Unknown          54   \n",
       "\n",
       "                    n_abstentions sample_size including abstentions  \\\n",
       "linearsvm_ovr                   2                               132   \n",
       "dummy_stratified                9                               132   \n",
       "lasso_cv                        5                               132   \n",
       "lasso_multiclass               22                               132   \n",
       "xgboost                        40                               132   \n",
       "rf_multiclass                   1                               132   \n",
       "dummy_most_frequent            78                               132   \n",
       "elasticnet_cv                  46                               132   \n",
       "ridge_cv                       78                               132   \n",
       "\n",
       "                    abstention_rate  missing_classes  \\\n",
       "linearsvm_ovr              0.015152             True   \n",
       "dummy_stratified           0.068182             True   \n",
       "lasso_cv                   0.037879             True   \n",
       "lasso_multiclass           0.166667            False   \n",
       "xgboost                    0.303030             True   \n",
       "rf_multiclass              0.007576             True   \n",
       "dummy_most_frequent        0.590909             True   \n",
       "elasticnet_cv              0.348485             True   \n",
       "ridge_cv                   0.590909             True   \n",
       "\n",
       "                     ROC-AUC (weighted OvO) per fold with abstention  \\\n",
       "linearsvm_ovr                           0.603 +/- 0.000 (in 1 folds)   \n",
       "dummy_stratified                        0.507 +/- 0.000 (in 1 folds)   \n",
       "lasso_cv                                                         NaN   \n",
       "lasso_multiclass                        0.562 +/- 0.000 (in 1 folds)   \n",
       "xgboost                                                          NaN   \n",
       "rf_multiclass                           0.535 +/- 0.031 (in 2 folds)   \n",
       "dummy_most_frequent                     0.500 +/- 0.000 (in 1 folds)   \n",
       "elasticnet_cv                                                    NaN   \n",
       "ridge_cv                                0.576 +/- 0.000 (in 1 folds)   \n",
       "\n",
       "                     ROC-AUC (macro OvO) per fold with abstention  \\\n",
       "linearsvm_ovr                        0.594 +/- 0.000 (in 1 folds)   \n",
       "dummy_stratified                     0.501 +/- 0.000 (in 1 folds)   \n",
       "lasso_cv                                                      NaN   \n",
       "lasso_multiclass                     0.565 +/- 0.000 (in 1 folds)   \n",
       "xgboost                                                       NaN   \n",
       "rf_multiclass                        0.539 +/- 0.033 (in 2 folds)   \n",
       "dummy_most_frequent                  0.500 +/- 0.000 (in 1 folds)   \n",
       "elasticnet_cv                                                 NaN   \n",
       "ridge_cv                             0.563 +/- 0.000 (in 1 folds)   \n",
       "\n",
       "                     au-PRC (weighted OvO) per fold with abstention  \\\n",
       "linearsvm_ovr                          0.699 +/- 0.000 (in 1 folds)   \n",
       "dummy_stratified                       0.529 +/- 0.000 (in 1 folds)   \n",
       "lasso_cv                                                        NaN   \n",
       "lasso_multiclass                       0.650 +/- 0.000 (in 1 folds)   \n",
       "xgboost                                                         NaN   \n",
       "rf_multiclass                          0.587 +/- 0.026 (in 2 folds)   \n",
       "dummy_most_frequent                    0.500 +/- 0.000 (in 1 folds)   \n",
       "elasticnet_cv                                                   NaN   \n",
       "ridge_cv                               0.670 +/- 0.000 (in 1 folds)   \n",
       "\n",
       "                     au-PRC (macro OvO) per fold with abstention  \n",
       "linearsvm_ovr                       0.695 +/- 0.000 (in 1 folds)  \n",
       "dummy_stratified                    0.529 +/- 0.000 (in 1 folds)  \n",
       "lasso_cv                                                     NaN  \n",
       "lasso_multiclass                    0.651 +/- 0.000 (in 1 folds)  \n",
       "xgboost                                                      NaN  \n",
       "rf_multiclass                       0.591 +/- 0.028 (in 2 folds)  \n",
       "dummy_most_frequent                 0.500 +/- 0.000 (in 1 folds)  \n",
       "elasticnet_cv                                                NaN  \n",
       "ridge_cv                            0.663 +/- 0.000 (in 1 folds)  \n",
       "\n",
       "[9 rows x 24 columns]"
      ]
     },
     "metadata": {},
     "output_type": "display_data"
    },
    {
     "name": "stdout",
     "output_type": "stream",
     "text": [
      "GeneLocus.BCR, fold 0, TargetObsColumnEnum.age_group_healthy_only, lasso_multiclass: best p value = 0.001. Number of disease associated clusters: {'20-30': 2, '30-40': 1, '40-50': 8, '50-60': 4, '60-70': 8, '70-80': 0, '<20': 4}\n",
      "GeneLocus.BCR, fold 0, TargetObsColumnEnum.age_group_healthy_only, rf_multiclass: best p value = 0.05. Number of disease associated clusters: {'20-30': 251, '30-40': 180, '40-50': 2150, '50-60': 568, '60-70': 809, '70-80': 55095, '<20': 1521}\n",
      "GeneLocus.BCR, fold 0, TargetObsColumnEnum.age_group_healthy_only, linearsvm_ovr: best p value = 0.05. Number of disease associated clusters: {'20-30': 251, '30-40': 180, '40-50': 2150, '50-60': 568, '60-70': 809, '70-80': 55095, '<20': 1521}\n",
      "\n",
      "GeneLocus.BCR, fold 1, TargetObsColumnEnum.age_group_healthy_only, lasso_multiclass: best p value = 0.01. Number of disease associated clusters: {'20-30': 55, '30-40': 35, '40-50': 61, '50-60': 106, '60-70': 36, '<20': 15}\n"
     ]
    },
    {
     "name": "stderr",
     "output_type": "stream",
     "text": [
      "2023-01-07 03:53:35,013 - analyze_convergent_clustering_models.ipynb - INFO - GeneLocus.BCR, TargetObsColumnEnum.age_group_binary_healthy_only from /users/maximz/code/boyd-immune-repertoire-classification/data/data_v_20221224/convergent_clusters/BCR/age_group_binary_healthy_only/train_smaller_model to /users/maximz/code/boyd-immune-repertoire-classification/out/convergent_clusters/BCR/age_group_binary_healthy_only/train_smaller_model\n"
     ]
    },
    {
     "name": "stdout",
     "output_type": "stream",
     "text": [
      "GeneLocus.BCR, fold 1, TargetObsColumnEnum.age_group_healthy_only, rf_multiclass: best p value = 0.01. Number of disease associated clusters: {'20-30': 55, '30-40': 35, '40-50': 61, '50-60': 106, '60-70': 36, '<20': 15}\n",
      "GeneLocus.BCR, fold 1, TargetObsColumnEnum.age_group_healthy_only, linearsvm_ovr: best p value = 0.01. Number of disease associated clusters: {'20-30': 55, '30-40': 35, '40-50': 61, '50-60': 106, '60-70': 36, '<20': 15}\n",
      "\n",
      "GeneLocus.BCR, fold 2, TargetObsColumnEnum.age_group_healthy_only, lasso_multiclass: best p value = 0.05. Number of disease associated clusters: {'20-30': 1201, '30-40': 78, '40-50': 1451, '50-60': 1211, '60-70': 2923, '70-80': 5845, '<20': 892}\n",
      "GeneLocus.BCR, fold 2, TargetObsColumnEnum.age_group_healthy_only, rf_multiclass: best p value = 0.05. Number of disease associated clusters: {'20-30': 1201, '30-40': 78, '40-50': 1451, '50-60': 1211, '60-70': 2923, '70-80': 5845, '<20': 892}\n",
      "GeneLocus.BCR, fold 2, TargetObsColumnEnum.age_group_healthy_only, linearsvm_ovr: best p value = 0.01. Number of disease associated clusters: {'20-30': 40, '30-40': 32, '40-50': 122, '50-60': 106, '60-70': 160, '70-80': 0, '<20': 34}\n",
      "\n"
     ]
    },
    {
     "name": "stdout",
     "output_type": "stream",
     "text": [
      "GeneLocus.BCR TargetObsColumnEnum.age_group_binary_healthy_only\n"
     ]
    },
    {
     "data": {
      "text/html": [
       "<div>\n",
       "<style scoped>\n",
       "    .dataframe tbody tr th:only-of-type {\n",
       "        vertical-align: middle;\n",
       "    }\n",
       "\n",
       "    .dataframe tbody tr th {\n",
       "        vertical-align: top;\n",
       "    }\n",
       "\n",
       "    .dataframe thead th {\n",
       "        text-align: right;\n",
       "    }\n",
       "</style>\n",
       "<table border=\"1\" class=\"dataframe\">\n",
       "  <thead>\n",
       "    <tr style=\"text-align: right;\">\n",
       "      <th></th>\n",
       "      <th>ROC-AUC (weighted OvO) per fold</th>\n",
       "      <th>ROC-AUC (macro OvO) per fold</th>\n",
       "      <th>au-PRC (weighted OvO) per fold</th>\n",
       "      <th>au-PRC (macro OvO) per fold</th>\n",
       "      <th>Accuracy per fold</th>\n",
       "      <th>MCC per fold</th>\n",
       "      <th>Accuracy global</th>\n",
       "      <th>MCC global</th>\n",
       "      <th>Accuracy per fold with abstention</th>\n",
       "      <th>MCC per fold with abstention</th>\n",
       "      <th>...</th>\n",
       "      <th>Abstention label global with abstention</th>\n",
       "      <th>sample_size</th>\n",
       "      <th>n_abstentions</th>\n",
       "      <th>sample_size including abstentions</th>\n",
       "      <th>abstention_rate</th>\n",
       "      <th>missing_classes</th>\n",
       "      <th>ROC-AUC (weighted OvO) per fold with abstention</th>\n",
       "      <th>ROC-AUC (macro OvO) per fold with abstention</th>\n",
       "      <th>au-PRC (weighted OvO) per fold with abstention</th>\n",
       "      <th>au-PRC (macro OvO) per fold with abstention</th>\n",
       "    </tr>\n",
       "  </thead>\n",
       "  <tbody>\n",
       "    <tr>\n",
       "      <th>xgboost</th>\n",
       "      <td>0.667 +/- 0.110 (in 3 folds)</td>\n",
       "      <td>0.667 +/- 0.110 (in 3 folds)</td>\n",
       "      <td>0.778 +/- 0.105 (in 3 folds)</td>\n",
       "      <td>0.778 +/- 0.105 (in 3 folds)</td>\n",
       "      <td>0.679 +/- 0.057 (in 3 folds)</td>\n",
       "      <td>0.314 +/- 0.119 (in 3 folds)</td>\n",
       "      <td>0.673</td>\n",
       "      <td>0.264</td>\n",
       "      <td>0.513 +/- 0.150 (in 3 folds)</td>\n",
       "      <td>0.205 +/- 0.036 (in 3 folds)</td>\n",
       "      <td>...</td>\n",
       "      <td>Unknown</td>\n",
       "      <td>101</td>\n",
       "      <td>31</td>\n",
       "      <td>132</td>\n",
       "      <td>0.234848</td>\n",
       "      <td>False</td>\n",
       "      <td>0.563 +/- 0.000 (in 1 folds)</td>\n",
       "      <td>0.563 +/- 0.000 (in 1 folds)</td>\n",
       "      <td>0.657 +/- 0.000 (in 1 folds)</td>\n",
       "      <td>0.657 +/- 0.000 (in 1 folds)</td>\n",
       "    </tr>\n",
       "    <tr>\n",
       "      <th>rf_multiclass</th>\n",
       "      <td>0.616 +/- 0.156 (in 3 folds)</td>\n",
       "      <td>0.616 +/- 0.156 (in 3 folds)</td>\n",
       "      <td>0.756 +/- 0.062 (in 3 folds)</td>\n",
       "      <td>0.756 +/- 0.062 (in 3 folds)</td>\n",
       "      <td>0.674 +/- 0.065 (in 3 folds)</td>\n",
       "      <td>0.252 +/- 0.196 (in 3 folds)</td>\n",
       "      <td>0.664</td>\n",
       "      <td>0.212</td>\n",
       "      <td>0.554 +/- 0.156 (in 3 folds)</td>\n",
       "      <td>0.168 +/- 0.095 (in 3 folds)</td>\n",
       "      <td>...</td>\n",
       "      <td>Unknown</td>\n",
       "      <td>110</td>\n",
       "      <td>22</td>\n",
       "      <td>132</td>\n",
       "      <td>0.166667</td>\n",
       "      <td>False</td>\n",
       "      <td>0.543 +/- 0.129 (in 2 folds)</td>\n",
       "      <td>0.543 +/- 0.129 (in 2 folds)</td>\n",
       "      <td>0.720 +/- 0.009 (in 2 folds)</td>\n",
       "      <td>0.720 +/- 0.009 (in 2 folds)</td>\n",
       "    </tr>\n",
       "    <tr>\n",
       "      <th>lasso_cv</th>\n",
       "      <td>0.608 +/- 0.106 (in 3 folds)</td>\n",
       "      <td>0.608 +/- 0.106 (in 3 folds)</td>\n",
       "      <td>0.736 +/- 0.129 (in 3 folds)</td>\n",
       "      <td>0.736 +/- 0.129 (in 3 folds)</td>\n",
       "      <td>0.538 +/- 0.116 (in 3 folds)</td>\n",
       "      <td>0.115 +/- 0.099 (in 3 folds)</td>\n",
       "      <td>0.565</td>\n",
       "      <td>0.110</td>\n",
       "      <td>0.367 +/- 0.190 (in 3 folds)</td>\n",
       "      <td>0.080 +/- 0.043 (in 3 folds)</td>\n",
       "      <td>...</td>\n",
       "      <td>Unknown</td>\n",
       "      <td>85</td>\n",
       "      <td>47</td>\n",
       "      <td>132</td>\n",
       "      <td>0.356061</td>\n",
       "      <td>False</td>\n",
       "      <td>NaN</td>\n",
       "      <td>NaN</td>\n",
       "      <td>NaN</td>\n",
       "      <td>NaN</td>\n",
       "    </tr>\n",
       "    <tr>\n",
       "      <th>lasso_multiclass</th>\n",
       "      <td>0.597 +/- 0.115 (in 3 folds)</td>\n",
       "      <td>0.597 +/- 0.115 (in 3 folds)</td>\n",
       "      <td>0.749 +/- 0.105 (in 3 folds)</td>\n",
       "      <td>0.749 +/- 0.105 (in 3 folds)</td>\n",
       "      <td>0.640 +/- 0.051 (in 3 folds)</td>\n",
       "      <td>0.233 +/- 0.106 (in 3 folds)</td>\n",
       "      <td>0.640</td>\n",
       "      <td>0.206</td>\n",
       "      <td>0.550 +/- 0.084 (in 3 folds)</td>\n",
       "      <td>0.175 +/- 0.055 (in 3 folds)</td>\n",
       "      <td>...</td>\n",
       "      <td>Unknown</td>\n",
       "      <td>114</td>\n",
       "      <td>18</td>\n",
       "      <td>132</td>\n",
       "      <td>0.136364</td>\n",
       "      <td>False</td>\n",
       "      <td>0.466 +/- 0.000 (in 1 folds)</td>\n",
       "      <td>0.466 +/- 0.000 (in 1 folds)</td>\n",
       "      <td>0.637 +/- 0.000 (in 1 folds)</td>\n",
       "      <td>0.637 +/- 0.000 (in 1 folds)</td>\n",
       "    </tr>\n",
       "    <tr>\n",
       "      <th>linearsvm_ovr</th>\n",
       "      <td>0.596 +/- 0.117 (in 3 folds)</td>\n",
       "      <td>0.596 +/- 0.117 (in 3 folds)</td>\n",
       "      <td>0.747 +/- 0.108 (in 3 folds)</td>\n",
       "      <td>0.747 +/- 0.108 (in 3 folds)</td>\n",
       "      <td>0.647 +/- 0.051 (in 3 folds)</td>\n",
       "      <td>0.249 +/- 0.087 (in 3 folds)</td>\n",
       "      <td>0.649</td>\n",
       "      <td>0.221</td>\n",
       "      <td>0.557 +/- 0.094 (in 3 folds)</td>\n",
       "      <td>0.191 +/- 0.047 (in 3 folds)</td>\n",
       "      <td>...</td>\n",
       "      <td>Unknown</td>\n",
       "      <td>114</td>\n",
       "      <td>18</td>\n",
       "      <td>132</td>\n",
       "      <td>0.136364</td>\n",
       "      <td>False</td>\n",
       "      <td>0.461 +/- 0.000 (in 1 folds)</td>\n",
       "      <td>0.461 +/- 0.000 (in 1 folds)</td>\n",
       "      <td>0.631 +/- 0.000 (in 1 folds)</td>\n",
       "      <td>0.631 +/- 0.000 (in 1 folds)</td>\n",
       "    </tr>\n",
       "    <tr>\n",
       "      <th>dummy_stratified</th>\n",
       "      <td>0.584 +/- 0.016 (in 3 folds)</td>\n",
       "      <td>0.584 +/- 0.016 (in 3 folds)</td>\n",
       "      <td>0.728 +/- 0.120 (in 3 folds)</td>\n",
       "      <td>0.728 +/- 0.120 (in 3 folds)</td>\n",
       "      <td>0.502 +/- 0.148 (in 3 folds)</td>\n",
       "      <td>0.168 +/- 0.030 (in 3 folds)</td>\n",
       "      <td>0.573</td>\n",
       "      <td>0.119</td>\n",
       "      <td>0.315 +/- 0.281 (in 3 folds)</td>\n",
       "      <td>0.070 +/- 0.073 (in 3 folds)</td>\n",
       "      <td>...</td>\n",
       "      <td>Unknown</td>\n",
       "      <td>75</td>\n",
       "      <td>57</td>\n",
       "      <td>132</td>\n",
       "      <td>0.431818</td>\n",
       "      <td>False</td>\n",
       "      <td>0.568 +/- 0.000 (in 1 folds)</td>\n",
       "      <td>0.568 +/- 0.000 (in 1 folds)</td>\n",
       "      <td>0.664 +/- 0.000 (in 1 folds)</td>\n",
       "      <td>0.664 +/- 0.000 (in 1 folds)</td>\n",
       "    </tr>\n",
       "    <tr>\n",
       "      <th>elasticnet_cv</th>\n",
       "      <td>0.514 +/- 0.039 (in 3 folds)</td>\n",
       "      <td>0.514 +/- 0.039 (in 3 folds)</td>\n",
       "      <td>0.638 +/- 0.118 (in 3 folds)</td>\n",
       "      <td>0.638 +/- 0.118 (in 3 folds)</td>\n",
       "      <td>0.433 +/- 0.019 (in 3 folds)</td>\n",
       "      <td>0.089 +/- 0.155 (in 3 folds)</td>\n",
       "      <td>0.435</td>\n",
       "      <td>0.202</td>\n",
       "      <td>0.208 +/- 0.094 (in 3 folds)</td>\n",
       "      <td>0.086 +/- 0.081 (in 3 folds)</td>\n",
       "      <td>...</td>\n",
       "      <td>Unknown</td>\n",
       "      <td>62</td>\n",
       "      <td>70</td>\n",
       "      <td>132</td>\n",
       "      <td>0.530303</td>\n",
       "      <td>False</td>\n",
       "      <td>NaN</td>\n",
       "      <td>NaN</td>\n",
       "      <td>NaN</td>\n",
       "      <td>NaN</td>\n",
       "    </tr>\n",
       "    <tr>\n",
       "      <th>dummy_most_frequent</th>\n",
       "      <td>0.500 +/- 0.000 (in 3 folds)</td>\n",
       "      <td>0.500 +/- 0.000 (in 3 folds)</td>\n",
       "      <td>0.613 +/- 0.067 (in 3 folds)</td>\n",
       "      <td>0.613 +/- 0.067 (in 3 folds)</td>\n",
       "      <td>0.387 +/- 0.067 (in 3 folds)</td>\n",
       "      <td>0.000 +/- 0.000 (in 3 folds)</td>\n",
       "      <td>0.371</td>\n",
       "      <td>0.000</td>\n",
       "      <td>0.176 +/- 0.038 (in 3 folds)</td>\n",
       "      <td>0.051 +/- 0.021 (in 3 folds)</td>\n",
       "      <td>...</td>\n",
       "      <td>Unknown</td>\n",
       "      <td>62</td>\n",
       "      <td>70</td>\n",
       "      <td>132</td>\n",
       "      <td>0.530303</td>\n",
       "      <td>True</td>\n",
       "      <td>NaN</td>\n",
       "      <td>NaN</td>\n",
       "      <td>NaN</td>\n",
       "      <td>NaN</td>\n",
       "    </tr>\n",
       "    <tr>\n",
       "      <th>ridge_cv</th>\n",
       "      <td>0.495 +/- 0.009 (in 3 folds)</td>\n",
       "      <td>0.495 +/- 0.009 (in 3 folds)</td>\n",
       "      <td>0.610 +/- 0.071 (in 3 folds)</td>\n",
       "      <td>0.610 +/- 0.071 (in 3 folds)</td>\n",
       "      <td>0.387 +/- 0.067 (in 3 folds)</td>\n",
       "      <td>0.000 +/- 0.000 (in 3 folds)</td>\n",
       "      <td>0.371</td>\n",
       "      <td>0.000</td>\n",
       "      <td>0.176 +/- 0.038 (in 3 folds)</td>\n",
       "      <td>0.051 +/- 0.021 (in 3 folds)</td>\n",
       "      <td>...</td>\n",
       "      <td>Unknown</td>\n",
       "      <td>62</td>\n",
       "      <td>70</td>\n",
       "      <td>132</td>\n",
       "      <td>0.530303</td>\n",
       "      <td>True</td>\n",
       "      <td>NaN</td>\n",
       "      <td>NaN</td>\n",
       "      <td>NaN</td>\n",
       "      <td>NaN</td>\n",
       "    </tr>\n",
       "  </tbody>\n",
       "</table>\n",
       "<p>9 rows × 24 columns</p>\n",
       "</div>"
      ],
      "text/plain": [
       "                    ROC-AUC (weighted OvO) per fold  \\\n",
       "xgboost                0.667 +/- 0.110 (in 3 folds)   \n",
       "rf_multiclass          0.616 +/- 0.156 (in 3 folds)   \n",
       "lasso_cv               0.608 +/- 0.106 (in 3 folds)   \n",
       "lasso_multiclass       0.597 +/- 0.115 (in 3 folds)   \n",
       "linearsvm_ovr          0.596 +/- 0.117 (in 3 folds)   \n",
       "dummy_stratified       0.584 +/- 0.016 (in 3 folds)   \n",
       "elasticnet_cv          0.514 +/- 0.039 (in 3 folds)   \n",
       "dummy_most_frequent    0.500 +/- 0.000 (in 3 folds)   \n",
       "ridge_cv               0.495 +/- 0.009 (in 3 folds)   \n",
       "\n",
       "                     ROC-AUC (macro OvO) per fold  \\\n",
       "xgboost              0.667 +/- 0.110 (in 3 folds)   \n",
       "rf_multiclass        0.616 +/- 0.156 (in 3 folds)   \n",
       "lasso_cv             0.608 +/- 0.106 (in 3 folds)   \n",
       "lasso_multiclass     0.597 +/- 0.115 (in 3 folds)   \n",
       "linearsvm_ovr        0.596 +/- 0.117 (in 3 folds)   \n",
       "dummy_stratified     0.584 +/- 0.016 (in 3 folds)   \n",
       "elasticnet_cv        0.514 +/- 0.039 (in 3 folds)   \n",
       "dummy_most_frequent  0.500 +/- 0.000 (in 3 folds)   \n",
       "ridge_cv             0.495 +/- 0.009 (in 3 folds)   \n",
       "\n",
       "                    au-PRC (weighted OvO) per fold  \\\n",
       "xgboost               0.778 +/- 0.105 (in 3 folds)   \n",
       "rf_multiclass         0.756 +/- 0.062 (in 3 folds)   \n",
       "lasso_cv              0.736 +/- 0.129 (in 3 folds)   \n",
       "lasso_multiclass      0.749 +/- 0.105 (in 3 folds)   \n",
       "linearsvm_ovr         0.747 +/- 0.108 (in 3 folds)   \n",
       "dummy_stratified      0.728 +/- 0.120 (in 3 folds)   \n",
       "elasticnet_cv         0.638 +/- 0.118 (in 3 folds)   \n",
       "dummy_most_frequent   0.613 +/- 0.067 (in 3 folds)   \n",
       "ridge_cv              0.610 +/- 0.071 (in 3 folds)   \n",
       "\n",
       "                      au-PRC (macro OvO) per fold  \\\n",
       "xgboost              0.778 +/- 0.105 (in 3 folds)   \n",
       "rf_multiclass        0.756 +/- 0.062 (in 3 folds)   \n",
       "lasso_cv             0.736 +/- 0.129 (in 3 folds)   \n",
       "lasso_multiclass     0.749 +/- 0.105 (in 3 folds)   \n",
       "linearsvm_ovr        0.747 +/- 0.108 (in 3 folds)   \n",
       "dummy_stratified     0.728 +/- 0.120 (in 3 folds)   \n",
       "elasticnet_cv        0.638 +/- 0.118 (in 3 folds)   \n",
       "dummy_most_frequent  0.613 +/- 0.067 (in 3 folds)   \n",
       "ridge_cv             0.610 +/- 0.071 (in 3 folds)   \n",
       "\n",
       "                                Accuracy per fold  \\\n",
       "xgboost              0.679 +/- 0.057 (in 3 folds)   \n",
       "rf_multiclass        0.674 +/- 0.065 (in 3 folds)   \n",
       "lasso_cv             0.538 +/- 0.116 (in 3 folds)   \n",
       "lasso_multiclass     0.640 +/- 0.051 (in 3 folds)   \n",
       "linearsvm_ovr        0.647 +/- 0.051 (in 3 folds)   \n",
       "dummy_stratified     0.502 +/- 0.148 (in 3 folds)   \n",
       "elasticnet_cv        0.433 +/- 0.019 (in 3 folds)   \n",
       "dummy_most_frequent  0.387 +/- 0.067 (in 3 folds)   \n",
       "ridge_cv             0.387 +/- 0.067 (in 3 folds)   \n",
       "\n",
       "                                     MCC per fold Accuracy global MCC global  \\\n",
       "xgboost              0.314 +/- 0.119 (in 3 folds)           0.673      0.264   \n",
       "rf_multiclass        0.252 +/- 0.196 (in 3 folds)           0.664      0.212   \n",
       "lasso_cv             0.115 +/- 0.099 (in 3 folds)           0.565      0.110   \n",
       "lasso_multiclass     0.233 +/- 0.106 (in 3 folds)           0.640      0.206   \n",
       "linearsvm_ovr        0.249 +/- 0.087 (in 3 folds)           0.649      0.221   \n",
       "dummy_stratified     0.168 +/- 0.030 (in 3 folds)           0.573      0.119   \n",
       "elasticnet_cv        0.089 +/- 0.155 (in 3 folds)           0.435      0.202   \n",
       "dummy_most_frequent  0.000 +/- 0.000 (in 3 folds)           0.371      0.000   \n",
       "ridge_cv             0.000 +/- 0.000 (in 3 folds)           0.371      0.000   \n",
       "\n",
       "                    Accuracy per fold with abstention  \\\n",
       "xgboost                  0.513 +/- 0.150 (in 3 folds)   \n",
       "rf_multiclass            0.554 +/- 0.156 (in 3 folds)   \n",
       "lasso_cv                 0.367 +/- 0.190 (in 3 folds)   \n",
       "lasso_multiclass         0.550 +/- 0.084 (in 3 folds)   \n",
       "linearsvm_ovr            0.557 +/- 0.094 (in 3 folds)   \n",
       "dummy_stratified         0.315 +/- 0.281 (in 3 folds)   \n",
       "elasticnet_cv            0.208 +/- 0.094 (in 3 folds)   \n",
       "dummy_most_frequent      0.176 +/- 0.038 (in 3 folds)   \n",
       "ridge_cv                 0.176 +/- 0.038 (in 3 folds)   \n",
       "\n",
       "                     MCC per fold with abstention  ...  \\\n",
       "xgboost              0.205 +/- 0.036 (in 3 folds)  ...   \n",
       "rf_multiclass        0.168 +/- 0.095 (in 3 folds)  ...   \n",
       "lasso_cv             0.080 +/- 0.043 (in 3 folds)  ...   \n",
       "lasso_multiclass     0.175 +/- 0.055 (in 3 folds)  ...   \n",
       "linearsvm_ovr        0.191 +/- 0.047 (in 3 folds)  ...   \n",
       "dummy_stratified     0.070 +/- 0.073 (in 3 folds)  ...   \n",
       "elasticnet_cv        0.086 +/- 0.081 (in 3 folds)  ...   \n",
       "dummy_most_frequent  0.051 +/- 0.021 (in 3 folds)  ...   \n",
       "ridge_cv             0.051 +/- 0.021 (in 3 folds)  ...   \n",
       "\n",
       "                    Abstention label global with abstention sample_size  \\\n",
       "xgboost                                             Unknown         101   \n",
       "rf_multiclass                                       Unknown         110   \n",
       "lasso_cv                                            Unknown          85   \n",
       "lasso_multiclass                                    Unknown         114   \n",
       "linearsvm_ovr                                       Unknown         114   \n",
       "dummy_stratified                                    Unknown          75   \n",
       "elasticnet_cv                                       Unknown          62   \n",
       "dummy_most_frequent                                 Unknown          62   \n",
       "ridge_cv                                            Unknown          62   \n",
       "\n",
       "                    n_abstentions sample_size including abstentions  \\\n",
       "xgboost                        31                               132   \n",
       "rf_multiclass                  22                               132   \n",
       "lasso_cv                       47                               132   \n",
       "lasso_multiclass               18                               132   \n",
       "linearsvm_ovr                  18                               132   \n",
       "dummy_stratified               57                               132   \n",
       "elasticnet_cv                  70                               132   \n",
       "dummy_most_frequent            70                               132   \n",
       "ridge_cv                       70                               132   \n",
       "\n",
       "                    abstention_rate  missing_classes  \\\n",
       "xgboost                    0.234848            False   \n",
       "rf_multiclass              0.166667            False   \n",
       "lasso_cv                   0.356061            False   \n",
       "lasso_multiclass           0.136364            False   \n",
       "linearsvm_ovr              0.136364            False   \n",
       "dummy_stratified           0.431818            False   \n",
       "elasticnet_cv              0.530303            False   \n",
       "dummy_most_frequent        0.530303             True   \n",
       "ridge_cv                   0.530303             True   \n",
       "\n",
       "                     ROC-AUC (weighted OvO) per fold with abstention  \\\n",
       "xgboost                                 0.563 +/- 0.000 (in 1 folds)   \n",
       "rf_multiclass                           0.543 +/- 0.129 (in 2 folds)   \n",
       "lasso_cv                                                         NaN   \n",
       "lasso_multiclass                        0.466 +/- 0.000 (in 1 folds)   \n",
       "linearsvm_ovr                           0.461 +/- 0.000 (in 1 folds)   \n",
       "dummy_stratified                        0.568 +/- 0.000 (in 1 folds)   \n",
       "elasticnet_cv                                                    NaN   \n",
       "dummy_most_frequent                                              NaN   \n",
       "ridge_cv                                                         NaN   \n",
       "\n",
       "                     ROC-AUC (macro OvO) per fold with abstention  \\\n",
       "xgboost                              0.563 +/- 0.000 (in 1 folds)   \n",
       "rf_multiclass                        0.543 +/- 0.129 (in 2 folds)   \n",
       "lasso_cv                                                      NaN   \n",
       "lasso_multiclass                     0.466 +/- 0.000 (in 1 folds)   \n",
       "linearsvm_ovr                        0.461 +/- 0.000 (in 1 folds)   \n",
       "dummy_stratified                     0.568 +/- 0.000 (in 1 folds)   \n",
       "elasticnet_cv                                                 NaN   \n",
       "dummy_most_frequent                                           NaN   \n",
       "ridge_cv                                                      NaN   \n",
       "\n",
       "                     au-PRC (weighted OvO) per fold with abstention  \\\n",
       "xgboost                                0.657 +/- 0.000 (in 1 folds)   \n",
       "rf_multiclass                          0.720 +/- 0.009 (in 2 folds)   \n",
       "lasso_cv                                                        NaN   \n",
       "lasso_multiclass                       0.637 +/- 0.000 (in 1 folds)   \n",
       "linearsvm_ovr                          0.631 +/- 0.000 (in 1 folds)   \n",
       "dummy_stratified                       0.664 +/- 0.000 (in 1 folds)   \n",
       "elasticnet_cv                                                   NaN   \n",
       "dummy_most_frequent                                             NaN   \n",
       "ridge_cv                                                        NaN   \n",
       "\n",
       "                     au-PRC (macro OvO) per fold with abstention  \n",
       "xgboost                             0.657 +/- 0.000 (in 1 folds)  \n",
       "rf_multiclass                       0.720 +/- 0.009 (in 2 folds)  \n",
       "lasso_cv                                                     NaN  \n",
       "lasso_multiclass                    0.637 +/- 0.000 (in 1 folds)  \n",
       "linearsvm_ovr                       0.631 +/- 0.000 (in 1 folds)  \n",
       "dummy_stratified                    0.664 +/- 0.000 (in 1 folds)  \n",
       "elasticnet_cv                                                NaN  \n",
       "dummy_most_frequent                                          NaN  \n",
       "ridge_cv                                                     NaN  \n",
       "\n",
       "[9 rows x 24 columns]"
      ]
     },
     "metadata": {},
     "output_type": "display_data"
    },
    {
     "name": "stdout",
     "output_type": "stream",
     "text": [
      "GeneLocus.BCR, fold 0, TargetObsColumnEnum.age_group_binary_healthy_only, lasso_multiclass: best p value = 0.01. Number of disease associated clusters: {'50+': 27, 'under 50': 5}\n",
      "GeneLocus.BCR, fold 0, TargetObsColumnEnum.age_group_binary_healthy_only, rf_multiclass: best p value = 0.05. Number of disease associated clusters: {'50+': 311, 'under 50': 38}\n",
      "GeneLocus.BCR, fold 0, TargetObsColumnEnum.age_group_binary_healthy_only, linearsvm_ovr: best p value = 0.01. Number of disease associated clusters: {'50+': 27, 'under 50': 5}\n",
      "\n"
     ]
    },
    {
     "name": "stdout",
     "output_type": "stream",
     "text": [
      "GeneLocus.BCR, fold 1, TargetObsColumnEnum.age_group_binary_healthy_only, lasso_multiclass: best p value = 0.05. Number of disease associated clusters: {'50+': 739, 'under 50': 18}\n",
      "GeneLocus.BCR, fold 1, TargetObsColumnEnum.age_group_binary_healthy_only, rf_multiclass: best p value = 0.05. Number of disease associated clusters: {'50+': 739, 'under 50': 18}\n",
      "GeneLocus.BCR, fold 1, TargetObsColumnEnum.age_group_binary_healthy_only, linearsvm_ovr: best p value = 0.05. Number of disease associated clusters: {'50+': 739, 'under 50': 18}\n",
      "\n",
      "GeneLocus.BCR, fold 2, TargetObsColumnEnum.age_group_binary_healthy_only, lasso_multiclass: best p value = 0.01. Number of disease associated clusters: {'50+': 46, 'under 50': 4}\n",
      "GeneLocus.BCR, fold 2, TargetObsColumnEnum.age_group_binary_healthy_only, rf_multiclass: best p value = 0.005. Number of disease associated clusters: {'50+': 19, 'under 50': 2}\n"
     ]
    },
    {
     "name": "stderr",
     "output_type": "stream",
     "text": [
      "2023-01-07 03:53:37,977 - analyze_convergent_clustering_models.ipynb - INFO - GeneLocus.BCR, TargetObsColumnEnum.age_group_pediatric_healthy_only from /users/maximz/code/boyd-immune-repertoire-classification/data/data_v_20221224/convergent_clusters/BCR/age_group_pediatric_healthy_only/train_smaller_model to /users/maximz/code/boyd-immune-repertoire-classification/out/convergent_clusters/BCR/age_group_pediatric_healthy_only/train_smaller_model\n"
     ]
    },
    {
     "name": "stdout",
     "output_type": "stream",
     "text": [
      "GeneLocus.BCR, fold 2, TargetObsColumnEnum.age_group_binary_healthy_only, linearsvm_ovr: best p value = 0.01. Number of disease associated clusters: {'50+': 46, 'under 50': 4}\n",
      "\n"
     ]
    },
    {
     "name": "stderr",
     "output_type": "stream",
     "text": [
      "2023-01-07 03:53:39,705 - malid.external.genetools_extras - WARNING - Removing class absent from y_true: under 18\n"
     ]
    },
    {
     "name": "stderr",
     "output_type": "stream",
     "text": [
      "2023-01-07 03:53:39,708 - malid.external.model_evaluation - ERROR - Error in evaluating predict-proba-based metric rocauc: Only one class present in y_true. Probability-based score is not defined in that case.\n"
     ]
    },
    {
     "name": "stderr",
     "output_type": "stream",
     "text": [
      "2023-01-07 03:53:39,720 - malid.external.genetools_extras - WARNING - Removing class absent from y_true: under 18\n"
     ]
    },
    {
     "name": "stderr",
     "output_type": "stream",
     "text": [
      "2023-01-07 03:53:39,726 - malid.external.model_evaluation - ERROR - Error in evaluating predict-proba-based metric auprc: Only one class present in y_true. Probability-based score is not defined in that case.\n"
     ]
    },
    {
     "name": "stderr",
     "output_type": "stream",
     "text": [
      "2023-01-07 03:53:39,768 - malid.external.genetools_extras - WARNING - Removing class absent from y_true: under 18\n"
     ]
    },
    {
     "name": "stderr",
     "output_type": "stream",
     "text": [
      "2023-01-07 03:53:39,770 - malid.external.model_evaluation - ERROR - Error in evaluating predict-proba-based metric rocauc: Only one class present in y_true. Probability-based score is not defined in that case.\n"
     ]
    },
    {
     "name": "stderr",
     "output_type": "stream",
     "text": [
      "2023-01-07 03:53:39,777 - malid.external.genetools_extras - WARNING - Removing class absent from y_true: under 18\n"
     ]
    },
    {
     "name": "stderr",
     "output_type": "stream",
     "text": [
      "2023-01-07 03:53:39,779 - malid.external.model_evaluation - ERROR - Error in evaluating predict-proba-based metric auprc: Only one class present in y_true. Probability-based score is not defined in that case.\n"
     ]
    },
    {
     "name": "stdout",
     "output_type": "stream",
     "text": [
      "GeneLocus.BCR TargetObsColumnEnum.age_group_pediatric_healthy_only\n"
     ]
    },
    {
     "data": {
      "text/html": [
       "<div>\n",
       "<style scoped>\n",
       "    .dataframe tbody tr th:only-of-type {\n",
       "        vertical-align: middle;\n",
       "    }\n",
       "\n",
       "    .dataframe tbody tr th {\n",
       "        vertical-align: top;\n",
       "    }\n",
       "\n",
       "    .dataframe thead th {\n",
       "        text-align: right;\n",
       "    }\n",
       "</style>\n",
       "<table border=\"1\" class=\"dataframe\">\n",
       "  <thead>\n",
       "    <tr style=\"text-align: right;\">\n",
       "      <th></th>\n",
       "      <th>ROC-AUC (weighted OvO) per fold</th>\n",
       "      <th>ROC-AUC (macro OvO) per fold</th>\n",
       "      <th>au-PRC (weighted OvO) per fold</th>\n",
       "      <th>au-PRC (macro OvO) per fold</th>\n",
       "      <th>Accuracy per fold</th>\n",
       "      <th>MCC per fold</th>\n",
       "      <th>Accuracy global</th>\n",
       "      <th>MCC global</th>\n",
       "      <th>Accuracy per fold with abstention</th>\n",
       "      <th>MCC per fold with abstention</th>\n",
       "      <th>Unknown/abstention proportion per fold with abstention</th>\n",
       "      <th>Accuracy global with abstention</th>\n",
       "      <th>MCC global with abstention</th>\n",
       "      <th>Unknown/abstention proportion global with abstention</th>\n",
       "      <th>Abstention label global with abstention</th>\n",
       "      <th>sample_size</th>\n",
       "      <th>n_abstentions</th>\n",
       "      <th>sample_size including abstentions</th>\n",
       "      <th>abstention_rate</th>\n",
       "      <th>missing_classes</th>\n",
       "    </tr>\n",
       "  </thead>\n",
       "  <tbody>\n",
       "    <tr>\n",
       "      <th>ridge_cv</th>\n",
       "      <td>0.813 +/- 0.132 (in 3 folds)</td>\n",
       "      <td>0.813 +/- 0.132 (in 3 folds)</td>\n",
       "      <td>0.383 +/- 0.206 (in 3 folds)</td>\n",
       "      <td>0.383 +/- 0.206 (in 3 folds)</td>\n",
       "      <td>0.733 +/- 0.243 (in 3 folds)</td>\n",
       "      <td>0.096 +/- 0.167 (in 3 folds)</td>\n",
       "      <td>0.819</td>\n",
       "      <td>0.113</td>\n",
       "      <td>0.523 +/- 0.362 (in 3 folds)</td>\n",
       "      <td>0.028 +/- 0.040 (in 3 folds)</td>\n",
       "      <td>0.363 +/- 0.346 (in 3 folds)</td>\n",
       "      <td>0.515</td>\n",
       "      <td>0.064</td>\n",
       "      <td>0.371</td>\n",
       "      <td>Unknown</td>\n",
       "      <td>83</td>\n",
       "      <td>49</td>\n",
       "      <td>132</td>\n",
       "      <td>0.371212</td>\n",
       "      <td>False</td>\n",
       "    </tr>\n",
       "    <tr>\n",
       "      <th>linearsvm_ovr</th>\n",
       "      <td>0.762 +/- 0.164 (in 3 folds)</td>\n",
       "      <td>0.762 +/- 0.164 (in 3 folds)</td>\n",
       "      <td>0.371 +/- 0.174 (in 3 folds)</td>\n",
       "      <td>0.371 +/- 0.174 (in 3 folds)</td>\n",
       "      <td>0.835 +/- 0.050 (in 3 folds)</td>\n",
       "      <td>0.191 +/- 0.251 (in 3 folds)</td>\n",
       "      <td>0.837</td>\n",
       "      <td>0.190</td>\n",
       "      <td>0.661 +/- 0.103 (in 3 folds)</td>\n",
       "      <td>0.079 +/- 0.077 (in 3 folds)</td>\n",
       "      <td>0.211 +/- 0.087 (in 3 folds)</td>\n",
       "      <td>0.659</td>\n",
       "      <td>0.100</td>\n",
       "      <td>0.212</td>\n",
       "      <td>Unknown</td>\n",
       "      <td>104</td>\n",
       "      <td>28</td>\n",
       "      <td>132</td>\n",
       "      <td>0.212121</td>\n",
       "      <td>False</td>\n",
       "    </tr>\n",
       "    <tr>\n",
       "      <th>xgboost</th>\n",
       "      <td>0.727 +/- 0.017 (in 3 folds)</td>\n",
       "      <td>0.727 +/- 0.017 (in 3 folds)</td>\n",
       "      <td>0.262 +/- 0.072 (in 3 folds)</td>\n",
       "      <td>0.262 +/- 0.072 (in 3 folds)</td>\n",
       "      <td>0.815 +/- 0.050 (in 3 folds)</td>\n",
       "      <td>0.116 +/- 0.152 (in 3 folds)</td>\n",
       "      <td>0.821</td>\n",
       "      <td>0.170</td>\n",
       "      <td>0.587 +/- 0.151 (in 3 folds)</td>\n",
       "      <td>0.057 +/- 0.057 (in 3 folds)</td>\n",
       "      <td>0.284 +/- 0.142 (in 3 folds)</td>\n",
       "      <td>0.591</td>\n",
       "      <td>0.078</td>\n",
       "      <td>0.280</td>\n",
       "      <td>Unknown</td>\n",
       "      <td>95</td>\n",
       "      <td>37</td>\n",
       "      <td>132</td>\n",
       "      <td>0.280303</td>\n",
       "      <td>False</td>\n",
       "    </tr>\n",
       "    <tr>\n",
       "      <th>lasso_cv</th>\n",
       "      <td>0.679 +/- 0.044 (in 3 folds)</td>\n",
       "      <td>0.679 +/- 0.044 (in 3 folds)</td>\n",
       "      <td>0.227 +/- 0.043 (in 3 folds)</td>\n",
       "      <td>0.227 +/- 0.043 (in 3 folds)</td>\n",
       "      <td>0.733 +/- 0.243 (in 3 folds)</td>\n",
       "      <td>0.096 +/- 0.167 (in 3 folds)</td>\n",
       "      <td>0.819</td>\n",
       "      <td>0.113</td>\n",
       "      <td>0.523 +/- 0.362 (in 3 folds)</td>\n",
       "      <td>0.028 +/- 0.040 (in 3 folds)</td>\n",
       "      <td>0.363 +/- 0.346 (in 3 folds)</td>\n",
       "      <td>0.515</td>\n",
       "      <td>0.064</td>\n",
       "      <td>0.371</td>\n",
       "      <td>Unknown</td>\n",
       "      <td>83</td>\n",
       "      <td>49</td>\n",
       "      <td>132</td>\n",
       "      <td>0.371212</td>\n",
       "      <td>False</td>\n",
       "    </tr>\n",
       "    <tr>\n",
       "      <th>elasticnet_cv</th>\n",
       "      <td>0.679 +/- 0.044 (in 3 folds)</td>\n",
       "      <td>0.679 +/- 0.044 (in 3 folds)</td>\n",
       "      <td>0.227 +/- 0.043 (in 3 folds)</td>\n",
       "      <td>0.227 +/- 0.043 (in 3 folds)</td>\n",
       "      <td>0.733 +/- 0.243 (in 3 folds)</td>\n",
       "      <td>0.096 +/- 0.167 (in 3 folds)</td>\n",
       "      <td>0.819</td>\n",
       "      <td>0.113</td>\n",
       "      <td>0.523 +/- 0.362 (in 3 folds)</td>\n",
       "      <td>0.028 +/- 0.040 (in 3 folds)</td>\n",
       "      <td>0.363 +/- 0.346 (in 3 folds)</td>\n",
       "      <td>0.515</td>\n",
       "      <td>0.064</td>\n",
       "      <td>0.371</td>\n",
       "      <td>Unknown</td>\n",
       "      <td>83</td>\n",
       "      <td>49</td>\n",
       "      <td>132</td>\n",
       "      <td>0.371212</td>\n",
       "      <td>False</td>\n",
       "    </tr>\n",
       "    <tr>\n",
       "      <th>lasso_multiclass</th>\n",
       "      <td>0.670 +/- 0.128 (in 2 folds)</td>\n",
       "      <td>0.670 +/- 0.128 (in 2 folds)</td>\n",
       "      <td>0.251 +/- 0.056 (in 2 folds)</td>\n",
       "      <td>0.251 +/- 0.056 (in 2 folds)</td>\n",
       "      <td>0.884 +/- 0.110 (in 3 folds)</td>\n",
       "      <td>0.060 +/- 0.154 (in 3 folds)</td>\n",
       "      <td>0.836</td>\n",
       "      <td>0.171</td>\n",
       "      <td>0.449 +/- 0.363 (in 3 folds)</td>\n",
       "      <td>0.059 +/- 0.056 (in 3 folds)</td>\n",
       "      <td>0.463 +/- 0.431 (in 3 folds)</td>\n",
       "      <td>0.462</td>\n",
       "      <td>0.066</td>\n",
       "      <td>0.447</td>\n",
       "      <td>Unknown</td>\n",
       "      <td>73</td>\n",
       "      <td>59</td>\n",
       "      <td>132</td>\n",
       "      <td>0.446970</td>\n",
       "      <td>False</td>\n",
       "    </tr>\n",
       "    <tr>\n",
       "      <th>dummy_stratified</th>\n",
       "      <td>0.595 +/- 0.071 (in 3 folds)</td>\n",
       "      <td>0.595 +/- 0.071 (in 3 folds)</td>\n",
       "      <td>0.193 +/- 0.071 (in 3 folds)</td>\n",
       "      <td>0.193 +/- 0.071 (in 3 folds)</td>\n",
       "      <td>0.704 +/- 0.073 (in 3 folds)</td>\n",
       "      <td>0.152 +/- 0.101 (in 3 folds)</td>\n",
       "      <td>0.716</td>\n",
       "      <td>0.156</td>\n",
       "      <td>0.511 +/- 0.151 (in 3 folds)</td>\n",
       "      <td>0.091 +/- 0.042 (in 3 folds)</td>\n",
       "      <td>0.284 +/- 0.142 (in 3 folds)</td>\n",
       "      <td>0.515</td>\n",
       "      <td>0.093</td>\n",
       "      <td>0.280</td>\n",
       "      <td>Unknown</td>\n",
       "      <td>95</td>\n",
       "      <td>37</td>\n",
       "      <td>132</td>\n",
       "      <td>0.280303</td>\n",
       "      <td>False</td>\n",
       "    </tr>\n",
       "    <tr>\n",
       "      <th>rf_multiclass</th>\n",
       "      <td>0.546 +/- 0.069 (in 3 folds)</td>\n",
       "      <td>0.546 +/- 0.069 (in 3 folds)</td>\n",
       "      <td>0.227 +/- 0.113 (in 3 folds)</td>\n",
       "      <td>0.227 +/- 0.113 (in 3 folds)</td>\n",
       "      <td>0.852 +/- 0.062 (in 3 folds)</td>\n",
       "      <td>0.218 +/- 0.210 (in 3 folds)</td>\n",
       "      <td>0.856</td>\n",
       "      <td>0.251</td>\n",
       "      <td>0.676 +/- 0.120 (in 3 folds)</td>\n",
       "      <td>0.094 +/- 0.051 (in 3 folds)</td>\n",
       "      <td>0.211 +/- 0.087 (in 3 folds)</td>\n",
       "      <td>0.674</td>\n",
       "      <td>0.116</td>\n",
       "      <td>0.212</td>\n",
       "      <td>Unknown</td>\n",
       "      <td>104</td>\n",
       "      <td>28</td>\n",
       "      <td>132</td>\n",
       "      <td>0.212121</td>\n",
       "      <td>False</td>\n",
       "    </tr>\n",
       "    <tr>\n",
       "      <th>dummy_most_frequent</th>\n",
       "      <td>0.500 +/- 0.000 (in 3 folds)</td>\n",
       "      <td>0.500 +/- 0.000 (in 3 folds)</td>\n",
       "      <td>0.147 +/- 0.043 (in 3 folds)</td>\n",
       "      <td>0.147 +/- 0.043 (in 3 folds)</td>\n",
       "      <td>0.853 +/- 0.043 (in 3 folds)</td>\n",
       "      <td>0.000 +/- 0.000 (in 3 folds)</td>\n",
       "      <td>0.856</td>\n",
       "      <td>0.000</td>\n",
       "      <td>0.675 +/- 0.106 (in 3 folds)</td>\n",
       "      <td>0.012 +/- 0.025 (in 3 folds)</td>\n",
       "      <td>0.211 +/- 0.087 (in 3 folds)</td>\n",
       "      <td>0.674</td>\n",
       "      <td>0.020</td>\n",
       "      <td>0.212</td>\n",
       "      <td>Unknown</td>\n",
       "      <td>104</td>\n",
       "      <td>28</td>\n",
       "      <td>132</td>\n",
       "      <td>0.212121</td>\n",
       "      <td>True</td>\n",
       "    </tr>\n",
       "  </tbody>\n",
       "</table>\n",
       "</div>"
      ],
      "text/plain": [
       "                    ROC-AUC (weighted OvO) per fold  \\\n",
       "ridge_cv               0.813 +/- 0.132 (in 3 folds)   \n",
       "linearsvm_ovr          0.762 +/- 0.164 (in 3 folds)   \n",
       "xgboost                0.727 +/- 0.017 (in 3 folds)   \n",
       "lasso_cv               0.679 +/- 0.044 (in 3 folds)   \n",
       "elasticnet_cv          0.679 +/- 0.044 (in 3 folds)   \n",
       "lasso_multiclass       0.670 +/- 0.128 (in 2 folds)   \n",
       "dummy_stratified       0.595 +/- 0.071 (in 3 folds)   \n",
       "rf_multiclass          0.546 +/- 0.069 (in 3 folds)   \n",
       "dummy_most_frequent    0.500 +/- 0.000 (in 3 folds)   \n",
       "\n",
       "                     ROC-AUC (macro OvO) per fold  \\\n",
       "ridge_cv             0.813 +/- 0.132 (in 3 folds)   \n",
       "linearsvm_ovr        0.762 +/- 0.164 (in 3 folds)   \n",
       "xgboost              0.727 +/- 0.017 (in 3 folds)   \n",
       "lasso_cv             0.679 +/- 0.044 (in 3 folds)   \n",
       "elasticnet_cv        0.679 +/- 0.044 (in 3 folds)   \n",
       "lasso_multiclass     0.670 +/- 0.128 (in 2 folds)   \n",
       "dummy_stratified     0.595 +/- 0.071 (in 3 folds)   \n",
       "rf_multiclass        0.546 +/- 0.069 (in 3 folds)   \n",
       "dummy_most_frequent  0.500 +/- 0.000 (in 3 folds)   \n",
       "\n",
       "                    au-PRC (weighted OvO) per fold  \\\n",
       "ridge_cv              0.383 +/- 0.206 (in 3 folds)   \n",
       "linearsvm_ovr         0.371 +/- 0.174 (in 3 folds)   \n",
       "xgboost               0.262 +/- 0.072 (in 3 folds)   \n",
       "lasso_cv              0.227 +/- 0.043 (in 3 folds)   \n",
       "elasticnet_cv         0.227 +/- 0.043 (in 3 folds)   \n",
       "lasso_multiclass      0.251 +/- 0.056 (in 2 folds)   \n",
       "dummy_stratified      0.193 +/- 0.071 (in 3 folds)   \n",
       "rf_multiclass         0.227 +/- 0.113 (in 3 folds)   \n",
       "dummy_most_frequent   0.147 +/- 0.043 (in 3 folds)   \n",
       "\n",
       "                      au-PRC (macro OvO) per fold  \\\n",
       "ridge_cv             0.383 +/- 0.206 (in 3 folds)   \n",
       "linearsvm_ovr        0.371 +/- 0.174 (in 3 folds)   \n",
       "xgboost              0.262 +/- 0.072 (in 3 folds)   \n",
       "lasso_cv             0.227 +/- 0.043 (in 3 folds)   \n",
       "elasticnet_cv        0.227 +/- 0.043 (in 3 folds)   \n",
       "lasso_multiclass     0.251 +/- 0.056 (in 2 folds)   \n",
       "dummy_stratified     0.193 +/- 0.071 (in 3 folds)   \n",
       "rf_multiclass        0.227 +/- 0.113 (in 3 folds)   \n",
       "dummy_most_frequent  0.147 +/- 0.043 (in 3 folds)   \n",
       "\n",
       "                                Accuracy per fold  \\\n",
       "ridge_cv             0.733 +/- 0.243 (in 3 folds)   \n",
       "linearsvm_ovr        0.835 +/- 0.050 (in 3 folds)   \n",
       "xgboost              0.815 +/- 0.050 (in 3 folds)   \n",
       "lasso_cv             0.733 +/- 0.243 (in 3 folds)   \n",
       "elasticnet_cv        0.733 +/- 0.243 (in 3 folds)   \n",
       "lasso_multiclass     0.884 +/- 0.110 (in 3 folds)   \n",
       "dummy_stratified     0.704 +/- 0.073 (in 3 folds)   \n",
       "rf_multiclass        0.852 +/- 0.062 (in 3 folds)   \n",
       "dummy_most_frequent  0.853 +/- 0.043 (in 3 folds)   \n",
       "\n",
       "                                     MCC per fold Accuracy global MCC global  \\\n",
       "ridge_cv             0.096 +/- 0.167 (in 3 folds)           0.819      0.113   \n",
       "linearsvm_ovr        0.191 +/- 0.251 (in 3 folds)           0.837      0.190   \n",
       "xgboost              0.116 +/- 0.152 (in 3 folds)           0.821      0.170   \n",
       "lasso_cv             0.096 +/- 0.167 (in 3 folds)           0.819      0.113   \n",
       "elasticnet_cv        0.096 +/- 0.167 (in 3 folds)           0.819      0.113   \n",
       "lasso_multiclass     0.060 +/- 0.154 (in 3 folds)           0.836      0.171   \n",
       "dummy_stratified     0.152 +/- 0.101 (in 3 folds)           0.716      0.156   \n",
       "rf_multiclass        0.218 +/- 0.210 (in 3 folds)           0.856      0.251   \n",
       "dummy_most_frequent  0.000 +/- 0.000 (in 3 folds)           0.856      0.000   \n",
       "\n",
       "                    Accuracy per fold with abstention  \\\n",
       "ridge_cv                 0.523 +/- 0.362 (in 3 folds)   \n",
       "linearsvm_ovr            0.661 +/- 0.103 (in 3 folds)   \n",
       "xgboost                  0.587 +/- 0.151 (in 3 folds)   \n",
       "lasso_cv                 0.523 +/- 0.362 (in 3 folds)   \n",
       "elasticnet_cv            0.523 +/- 0.362 (in 3 folds)   \n",
       "lasso_multiclass         0.449 +/- 0.363 (in 3 folds)   \n",
       "dummy_stratified         0.511 +/- 0.151 (in 3 folds)   \n",
       "rf_multiclass            0.676 +/- 0.120 (in 3 folds)   \n",
       "dummy_most_frequent      0.675 +/- 0.106 (in 3 folds)   \n",
       "\n",
       "                     MCC per fold with abstention  \\\n",
       "ridge_cv             0.028 +/- 0.040 (in 3 folds)   \n",
       "linearsvm_ovr        0.079 +/- 0.077 (in 3 folds)   \n",
       "xgboost              0.057 +/- 0.057 (in 3 folds)   \n",
       "lasso_cv             0.028 +/- 0.040 (in 3 folds)   \n",
       "elasticnet_cv        0.028 +/- 0.040 (in 3 folds)   \n",
       "lasso_multiclass     0.059 +/- 0.056 (in 3 folds)   \n",
       "dummy_stratified     0.091 +/- 0.042 (in 3 folds)   \n",
       "rf_multiclass        0.094 +/- 0.051 (in 3 folds)   \n",
       "dummy_most_frequent  0.012 +/- 0.025 (in 3 folds)   \n",
       "\n",
       "                    Unknown/abstention proportion per fold with abstention  \\\n",
       "ridge_cv                                  0.363 +/- 0.346 (in 3 folds)       \n",
       "linearsvm_ovr                             0.211 +/- 0.087 (in 3 folds)       \n",
       "xgboost                                   0.284 +/- 0.142 (in 3 folds)       \n",
       "lasso_cv                                  0.363 +/- 0.346 (in 3 folds)       \n",
       "elasticnet_cv                             0.363 +/- 0.346 (in 3 folds)       \n",
       "lasso_multiclass                          0.463 +/- 0.431 (in 3 folds)       \n",
       "dummy_stratified                          0.284 +/- 0.142 (in 3 folds)       \n",
       "rf_multiclass                             0.211 +/- 0.087 (in 3 folds)       \n",
       "dummy_most_frequent                       0.211 +/- 0.087 (in 3 folds)       \n",
       "\n",
       "                    Accuracy global with abstention  \\\n",
       "ridge_cv                                      0.515   \n",
       "linearsvm_ovr                                 0.659   \n",
       "xgboost                                       0.591   \n",
       "lasso_cv                                      0.515   \n",
       "elasticnet_cv                                 0.515   \n",
       "lasso_multiclass                              0.462   \n",
       "dummy_stratified                              0.515   \n",
       "rf_multiclass                                 0.674   \n",
       "dummy_most_frequent                           0.674   \n",
       "\n",
       "                    MCC global with abstention  \\\n",
       "ridge_cv                                 0.064   \n",
       "linearsvm_ovr                            0.100   \n",
       "xgboost                                  0.078   \n",
       "lasso_cv                                 0.064   \n",
       "elasticnet_cv                            0.064   \n",
       "lasso_multiclass                         0.066   \n",
       "dummy_stratified                         0.093   \n",
       "rf_multiclass                            0.116   \n",
       "dummy_most_frequent                      0.020   \n",
       "\n",
       "                    Unknown/abstention proportion global with abstention  \\\n",
       "ridge_cv                                                         0.371     \n",
       "linearsvm_ovr                                                    0.212     \n",
       "xgboost                                                          0.280     \n",
       "lasso_cv                                                         0.371     \n",
       "elasticnet_cv                                                    0.371     \n",
       "lasso_multiclass                                                 0.447     \n",
       "dummy_stratified                                                 0.280     \n",
       "rf_multiclass                                                    0.212     \n",
       "dummy_most_frequent                                              0.212     \n",
       "\n",
       "                    Abstention label global with abstention  sample_size  \\\n",
       "ridge_cv                                            Unknown           83   \n",
       "linearsvm_ovr                                       Unknown          104   \n",
       "xgboost                                             Unknown           95   \n",
       "lasso_cv                                            Unknown           83   \n",
       "elasticnet_cv                                       Unknown           83   \n",
       "lasso_multiclass                                    Unknown           73   \n",
       "dummy_stratified                                    Unknown           95   \n",
       "rf_multiclass                                       Unknown          104   \n",
       "dummy_most_frequent                                 Unknown          104   \n",
       "\n",
       "                     n_abstentions  sample_size including abstentions  \\\n",
       "ridge_cv                        49                                132   \n",
       "linearsvm_ovr                   28                                132   \n",
       "xgboost                         37                                132   \n",
       "lasso_cv                        49                                132   \n",
       "elasticnet_cv                   49                                132   \n",
       "lasso_multiclass                59                                132   \n",
       "dummy_stratified                37                                132   \n",
       "rf_multiclass                   28                                132   \n",
       "dummy_most_frequent             28                                132   \n",
       "\n",
       "                     abstention_rate  missing_classes  \n",
       "ridge_cv                    0.371212            False  \n",
       "linearsvm_ovr               0.212121            False  \n",
       "xgboost                     0.280303            False  \n",
       "lasso_cv                    0.371212            False  \n",
       "elasticnet_cv               0.371212            False  \n",
       "lasso_multiclass            0.446970            False  \n",
       "dummy_stratified            0.280303            False  \n",
       "rf_multiclass               0.212121            False  \n",
       "dummy_most_frequent         0.212121             True  "
      ]
     },
     "metadata": {},
     "output_type": "display_data"
    },
    {
     "name": "stdout",
     "output_type": "stream",
     "text": [
      "GeneLocus.BCR, fold 0, TargetObsColumnEnum.age_group_pediatric_healthy_only, lasso_multiclass: best p value = 0.0005. Number of disease associated clusters: {'18+': 0, 'under 18': 3}\n",
      "GeneLocus.BCR, fold 0, TargetObsColumnEnum.age_group_pediatric_healthy_only, rf_multiclass: best p value = 0.01. Number of disease associated clusters: {'18+': 3, 'under 18': 69}\n",
      "GeneLocus.BCR, fold 0, TargetObsColumnEnum.age_group_pediatric_healthy_only, linearsvm_ovr: best p value = 0.01. Number of disease associated clusters: {'18+': 3, 'under 18': 69}\n",
      "\n",
      "GeneLocus.BCR, fold 1, TargetObsColumnEnum.age_group_pediatric_healthy_only, lasso_multiclass: best p value = 0.01. Number of disease associated clusters: {'18+': 10, 'under 18': 21}\n"
     ]
    },
    {
     "name": "stdout",
     "output_type": "stream",
     "text": [
      "GeneLocus.BCR, fold 1, TargetObsColumnEnum.age_group_pediatric_healthy_only, rf_multiclass: best p value = 0.01. Number of disease associated clusters: {'18+': 10, 'under 18': 21}\n",
      "GeneLocus.BCR, fold 1, TargetObsColumnEnum.age_group_pediatric_healthy_only, linearsvm_ovr: best p value = 0.01. Number of disease associated clusters: {'18+': 10, 'under 18': 21}\n",
      "\n"
     ]
    },
    {
     "name": "stderr",
     "output_type": "stream",
     "text": [
      "2023-01-07 03:53:40,952 - analyze_convergent_clustering_models.ipynb - INFO - GeneLocus.BCR, TargetObsColumnEnum.sex_healthy_only from /users/maximz/code/boyd-immune-repertoire-classification/data/data_v_20221224/convergent_clusters/BCR/sex_healthy_only/train_smaller_model to /users/maximz/code/boyd-immune-repertoire-classification/out/convergent_clusters/BCR/sex_healthy_only/train_smaller_model\n"
     ]
    },
    {
     "name": "stdout",
     "output_type": "stream",
     "text": [
      "GeneLocus.BCR, fold 2, TargetObsColumnEnum.age_group_pediatric_healthy_only, lasso_multiclass: best p value = 0.01. Number of disease associated clusters: {'18+': 3, 'under 18': 57}\n",
      "GeneLocus.BCR, fold 2, TargetObsColumnEnum.age_group_pediatric_healthy_only, rf_multiclass: best p value = 0.01. Number of disease associated clusters: {'18+': 3, 'under 18': 57}\n",
      "GeneLocus.BCR, fold 2, TargetObsColumnEnum.age_group_pediatric_healthy_only, linearsvm_ovr: best p value = 0.01. Number of disease associated clusters: {'18+': 3, 'under 18': 57}\n",
      "\n"
     ]
    },
    {
     "name": "stdout",
     "output_type": "stream",
     "text": [
      "GeneLocus.BCR TargetObsColumnEnum.sex_healthy_only\n"
     ]
    },
    {
     "data": {
      "text/html": [
       "<div>\n",
       "<style scoped>\n",
       "    .dataframe tbody tr th:only-of-type {\n",
       "        vertical-align: middle;\n",
       "    }\n",
       "\n",
       "    .dataframe tbody tr th {\n",
       "        vertical-align: top;\n",
       "    }\n",
       "\n",
       "    .dataframe thead th {\n",
       "        text-align: right;\n",
       "    }\n",
       "</style>\n",
       "<table border=\"1\" class=\"dataframe\">\n",
       "  <thead>\n",
       "    <tr style=\"text-align: right;\">\n",
       "      <th></th>\n",
       "      <th>ROC-AUC (weighted OvO) per fold</th>\n",
       "      <th>ROC-AUC (macro OvO) per fold</th>\n",
       "      <th>au-PRC (weighted OvO) per fold</th>\n",
       "      <th>au-PRC (macro OvO) per fold</th>\n",
       "      <th>Accuracy per fold</th>\n",
       "      <th>MCC per fold</th>\n",
       "      <th>Accuracy global</th>\n",
       "      <th>MCC global</th>\n",
       "      <th>Accuracy per fold with abstention</th>\n",
       "      <th>MCC per fold with abstention</th>\n",
       "      <th>Unknown/abstention proportion per fold with abstention</th>\n",
       "      <th>Accuracy global with abstention</th>\n",
       "      <th>MCC global with abstention</th>\n",
       "      <th>Unknown/abstention proportion global with abstention</th>\n",
       "      <th>Abstention label global with abstention</th>\n",
       "      <th>sample_size</th>\n",
       "      <th>n_abstentions</th>\n",
       "      <th>sample_size including abstentions</th>\n",
       "      <th>abstention_rate</th>\n",
       "      <th>missing_classes</th>\n",
       "    </tr>\n",
       "  </thead>\n",
       "  <tbody>\n",
       "    <tr>\n",
       "      <th>dummy_stratified</th>\n",
       "      <td>0.564 +/- 0.053 (in 3 folds)</td>\n",
       "      <td>0.564 +/- 0.053 (in 3 folds)</td>\n",
       "      <td>0.514 +/- 0.230 (in 3 folds)</td>\n",
       "      <td>0.514 +/- 0.230 (in 3 folds)</td>\n",
       "      <td>0.491 +/- 0.101 (in 3 folds)</td>\n",
       "      <td>0.135 +/- 0.103 (in 3 folds)</td>\n",
       "      <td>0.491</td>\n",
       "      <td>-0.007</td>\n",
       "      <td>0.193 +/- 0.184 (in 3 folds)</td>\n",
       "      <td>0.031 +/- 0.073 (in 3 folds)</td>\n",
       "      <td>0.605 +/- 0.392 (in 3 folds)</td>\n",
       "      <td>0.197</td>\n",
       "      <td>-0.009</td>\n",
       "      <td>0.598</td>\n",
       "      <td>Unknown</td>\n",
       "      <td>53</td>\n",
       "      <td>79</td>\n",
       "      <td>132</td>\n",
       "      <td>0.598485</td>\n",
       "      <td>False</td>\n",
       "    </tr>\n",
       "    <tr>\n",
       "      <th>rf_multiclass</th>\n",
       "      <td>0.560 +/- 0.029 (in 3 folds)</td>\n",
       "      <td>0.560 +/- 0.029 (in 3 folds)</td>\n",
       "      <td>0.568 +/- 0.192 (in 3 folds)</td>\n",
       "      <td>0.568 +/- 0.192 (in 3 folds)</td>\n",
       "      <td>0.537 +/- 0.059 (in 3 folds)</td>\n",
       "      <td>0.194 +/- 0.069 (in 3 folds)</td>\n",
       "      <td>0.541</td>\n",
       "      <td>0.078</td>\n",
       "      <td>0.452 +/- 0.130 (in 3 folds)</td>\n",
       "      <td>0.128 +/- 0.053 (in 3 folds)</td>\n",
       "      <td>0.169 +/- 0.151 (in 3 folds)</td>\n",
       "      <td>0.447</td>\n",
       "      <td>0.048</td>\n",
       "      <td>0.174</td>\n",
       "      <td>Unknown</td>\n",
       "      <td>109</td>\n",
       "      <td>23</td>\n",
       "      <td>132</td>\n",
       "      <td>0.174242</td>\n",
       "      <td>False</td>\n",
       "    </tr>\n",
       "    <tr>\n",
       "      <th>elasticnet_cv</th>\n",
       "      <td>0.556 +/- 0.069 (in 3 folds)</td>\n",
       "      <td>0.556 +/- 0.069 (in 3 folds)</td>\n",
       "      <td>0.579 +/- 0.179 (in 3 folds)</td>\n",
       "      <td>0.579 +/- 0.179 (in 3 folds)</td>\n",
       "      <td>0.537 +/- 0.047 (in 3 folds)</td>\n",
       "      <td>0.191 +/- 0.099 (in 3 folds)</td>\n",
       "      <td>0.541</td>\n",
       "      <td>0.080</td>\n",
       "      <td>0.451 +/- 0.118 (in 3 folds)</td>\n",
       "      <td>0.123 +/- 0.047 (in 3 folds)</td>\n",
       "      <td>0.169 +/- 0.151 (in 3 folds)</td>\n",
       "      <td>0.447</td>\n",
       "      <td>0.054</td>\n",
       "      <td>0.174</td>\n",
       "      <td>Unknown</td>\n",
       "      <td>109</td>\n",
       "      <td>23</td>\n",
       "      <td>132</td>\n",
       "      <td>0.174242</td>\n",
       "      <td>False</td>\n",
       "    </tr>\n",
       "    <tr>\n",
       "      <th>linearsvm_ovr</th>\n",
       "      <td>0.555 +/- 0.063 (in 3 folds)</td>\n",
       "      <td>0.555 +/- 0.063 (in 3 folds)</td>\n",
       "      <td>0.537 +/- 0.157 (in 3 folds)</td>\n",
       "      <td>0.537 +/- 0.157 (in 3 folds)</td>\n",
       "      <td>0.580 +/- 0.009 (in 3 folds)</td>\n",
       "      <td>0.173 +/- 0.064 (in 3 folds)</td>\n",
       "      <td>0.581</td>\n",
       "      <td>0.150</td>\n",
       "      <td>0.546 +/- 0.041 (in 3 folds)</td>\n",
       "      <td>0.156 +/- 0.062 (in 3 folds)</td>\n",
       "      <td>0.059 +/- 0.062 (in 3 folds)</td>\n",
       "      <td>0.545</td>\n",
       "      <td>0.134</td>\n",
       "      <td>0.061</td>\n",
       "      <td>Unknown</td>\n",
       "      <td>124</td>\n",
       "      <td>8</td>\n",
       "      <td>132</td>\n",
       "      <td>0.060606</td>\n",
       "      <td>False</td>\n",
       "    </tr>\n",
       "    <tr>\n",
       "      <th>lasso_multiclass</th>\n",
       "      <td>0.554 +/- 0.058 (in 3 folds)</td>\n",
       "      <td>0.554 +/- 0.058 (in 3 folds)</td>\n",
       "      <td>0.536 +/- 0.148 (in 3 folds)</td>\n",
       "      <td>0.536 +/- 0.148 (in 3 folds)</td>\n",
       "      <td>0.556 +/- 0.027 (in 3 folds)</td>\n",
       "      <td>0.123 +/- 0.099 (in 3 folds)</td>\n",
       "      <td>0.556</td>\n",
       "      <td>0.098</td>\n",
       "      <td>0.523 +/- 0.029 (in 3 folds)</td>\n",
       "      <td>0.110 +/- 0.084 (in 3 folds)</td>\n",
       "      <td>0.059 +/- 0.062 (in 3 folds)</td>\n",
       "      <td>0.523</td>\n",
       "      <td>0.087</td>\n",
       "      <td>0.061</td>\n",
       "      <td>Unknown</td>\n",
       "      <td>124</td>\n",
       "      <td>8</td>\n",
       "      <td>132</td>\n",
       "      <td>0.060606</td>\n",
       "      <td>False</td>\n",
       "    </tr>\n",
       "    <tr>\n",
       "      <th>lasso_cv</th>\n",
       "      <td>0.547 +/- 0.084 (in 3 folds)</td>\n",
       "      <td>0.547 +/- 0.084 (in 3 folds)</td>\n",
       "      <td>0.581 +/- 0.187 (in 3 folds)</td>\n",
       "      <td>0.581 +/- 0.187 (in 3 folds)</td>\n",
       "      <td>0.521 +/- 0.130 (in 3 folds)</td>\n",
       "      <td>0.240 +/- 0.079 (in 3 folds)</td>\n",
       "      <td>0.490</td>\n",
       "      <td>-0.014</td>\n",
       "      <td>0.376 +/- 0.087 (in 3 folds)</td>\n",
       "      <td>0.147 +/- 0.021 (in 3 folds)</td>\n",
       "      <td>0.238 +/- 0.267 (in 3 folds)</td>\n",
       "      <td>0.379</td>\n",
       "      <td>0.002</td>\n",
       "      <td>0.227</td>\n",
       "      <td>Unknown</td>\n",
       "      <td>102</td>\n",
       "      <td>30</td>\n",
       "      <td>132</td>\n",
       "      <td>0.227273</td>\n",
       "      <td>False</td>\n",
       "    </tr>\n",
       "    <tr>\n",
       "      <th>ridge_cv</th>\n",
       "      <td>0.533 +/- 0.084 (in 3 folds)</td>\n",
       "      <td>0.533 +/- 0.084 (in 3 folds)</td>\n",
       "      <td>0.581 +/- 0.187 (in 3 folds)</td>\n",
       "      <td>0.581 +/- 0.187 (in 3 folds)</td>\n",
       "      <td>0.471 +/- 0.120 (in 3 folds)</td>\n",
       "      <td>0.102 +/- 0.176 (in 3 folds)</td>\n",
       "      <td>0.451</td>\n",
       "      <td>-0.100</td>\n",
       "      <td>0.346 +/- 0.113 (in 3 folds)</td>\n",
       "      <td>0.092 +/- 0.064 (in 3 folds)</td>\n",
       "      <td>0.238 +/- 0.267 (in 3 folds)</td>\n",
       "      <td>0.348</td>\n",
       "      <td>-0.046</td>\n",
       "      <td>0.227</td>\n",
       "      <td>Unknown</td>\n",
       "      <td>102</td>\n",
       "      <td>30</td>\n",
       "      <td>132</td>\n",
       "      <td>0.227273</td>\n",
       "      <td>False</td>\n",
       "    </tr>\n",
       "    <tr>\n",
       "      <th>xgboost</th>\n",
       "      <td>0.515 +/- 0.065 (in 3 folds)</td>\n",
       "      <td>0.515 +/- 0.065 (in 3 folds)</td>\n",
       "      <td>0.633 +/- 0.165 (in 3 folds)</td>\n",
       "      <td>0.633 +/- 0.165 (in 3 folds)</td>\n",
       "      <td>0.609 +/- 0.050 (in 3 folds)</td>\n",
       "      <td>0.108 +/- 0.101 (in 3 folds)</td>\n",
       "      <td>0.590</td>\n",
       "      <td>0.191</td>\n",
       "      <td>0.356 +/- 0.216 (in 3 folds)</td>\n",
       "      <td>0.136 +/- 0.039 (in 3 folds)</td>\n",
       "      <td>0.395 +/- 0.391 (in 3 folds)</td>\n",
       "      <td>0.348</td>\n",
       "      <td>0.090</td>\n",
       "      <td>0.409</td>\n",
       "      <td>Unknown</td>\n",
       "      <td>78</td>\n",
       "      <td>54</td>\n",
       "      <td>132</td>\n",
       "      <td>0.409091</td>\n",
       "      <td>False</td>\n",
       "    </tr>\n",
       "    <tr>\n",
       "      <th>dummy_most_frequent</th>\n",
       "      <td>0.500 +/- 0.000 (in 3 folds)</td>\n",
       "      <td>0.500 +/- 0.000 (in 3 folds)</td>\n",
       "      <td>0.628 +/- 0.088 (in 3 folds)</td>\n",
       "      <td>0.628 +/- 0.088 (in 3 folds)</td>\n",
       "      <td>0.628 +/- 0.088 (in 3 folds)</td>\n",
       "      <td>0.000 +/- 0.000 (in 3 folds)</td>\n",
       "      <td>0.632</td>\n",
       "      <td>0.000</td>\n",
       "      <td>0.273 +/- 0.159 (in 3 folds)</td>\n",
       "      <td>0.120 +/- 0.060 (in 3 folds)</td>\n",
       "      <td>0.565 +/- 0.226 (in 3 folds)</td>\n",
       "      <td>0.273</td>\n",
       "      <td>0.148</td>\n",
       "      <td>0.568</td>\n",
       "      <td>Unknown</td>\n",
       "      <td>57</td>\n",
       "      <td>75</td>\n",
       "      <td>132</td>\n",
       "      <td>0.568182</td>\n",
       "      <td>True</td>\n",
       "    </tr>\n",
       "  </tbody>\n",
       "</table>\n",
       "</div>"
      ],
      "text/plain": [
       "                    ROC-AUC (weighted OvO) per fold  \\\n",
       "dummy_stratified       0.564 +/- 0.053 (in 3 folds)   \n",
       "rf_multiclass          0.560 +/- 0.029 (in 3 folds)   \n",
       "elasticnet_cv          0.556 +/- 0.069 (in 3 folds)   \n",
       "linearsvm_ovr          0.555 +/- 0.063 (in 3 folds)   \n",
       "lasso_multiclass       0.554 +/- 0.058 (in 3 folds)   \n",
       "lasso_cv               0.547 +/- 0.084 (in 3 folds)   \n",
       "ridge_cv               0.533 +/- 0.084 (in 3 folds)   \n",
       "xgboost                0.515 +/- 0.065 (in 3 folds)   \n",
       "dummy_most_frequent    0.500 +/- 0.000 (in 3 folds)   \n",
       "\n",
       "                     ROC-AUC (macro OvO) per fold  \\\n",
       "dummy_stratified     0.564 +/- 0.053 (in 3 folds)   \n",
       "rf_multiclass        0.560 +/- 0.029 (in 3 folds)   \n",
       "elasticnet_cv        0.556 +/- 0.069 (in 3 folds)   \n",
       "linearsvm_ovr        0.555 +/- 0.063 (in 3 folds)   \n",
       "lasso_multiclass     0.554 +/- 0.058 (in 3 folds)   \n",
       "lasso_cv             0.547 +/- 0.084 (in 3 folds)   \n",
       "ridge_cv             0.533 +/- 0.084 (in 3 folds)   \n",
       "xgboost              0.515 +/- 0.065 (in 3 folds)   \n",
       "dummy_most_frequent  0.500 +/- 0.000 (in 3 folds)   \n",
       "\n",
       "                    au-PRC (weighted OvO) per fold  \\\n",
       "dummy_stratified      0.514 +/- 0.230 (in 3 folds)   \n",
       "rf_multiclass         0.568 +/- 0.192 (in 3 folds)   \n",
       "elasticnet_cv         0.579 +/- 0.179 (in 3 folds)   \n",
       "linearsvm_ovr         0.537 +/- 0.157 (in 3 folds)   \n",
       "lasso_multiclass      0.536 +/- 0.148 (in 3 folds)   \n",
       "lasso_cv              0.581 +/- 0.187 (in 3 folds)   \n",
       "ridge_cv              0.581 +/- 0.187 (in 3 folds)   \n",
       "xgboost               0.633 +/- 0.165 (in 3 folds)   \n",
       "dummy_most_frequent   0.628 +/- 0.088 (in 3 folds)   \n",
       "\n",
       "                      au-PRC (macro OvO) per fold  \\\n",
       "dummy_stratified     0.514 +/- 0.230 (in 3 folds)   \n",
       "rf_multiclass        0.568 +/- 0.192 (in 3 folds)   \n",
       "elasticnet_cv        0.579 +/- 0.179 (in 3 folds)   \n",
       "linearsvm_ovr        0.537 +/- 0.157 (in 3 folds)   \n",
       "lasso_multiclass     0.536 +/- 0.148 (in 3 folds)   \n",
       "lasso_cv             0.581 +/- 0.187 (in 3 folds)   \n",
       "ridge_cv             0.581 +/- 0.187 (in 3 folds)   \n",
       "xgboost              0.633 +/- 0.165 (in 3 folds)   \n",
       "dummy_most_frequent  0.628 +/- 0.088 (in 3 folds)   \n",
       "\n",
       "                                Accuracy per fold  \\\n",
       "dummy_stratified     0.491 +/- 0.101 (in 3 folds)   \n",
       "rf_multiclass        0.537 +/- 0.059 (in 3 folds)   \n",
       "elasticnet_cv        0.537 +/- 0.047 (in 3 folds)   \n",
       "linearsvm_ovr        0.580 +/- 0.009 (in 3 folds)   \n",
       "lasso_multiclass     0.556 +/- 0.027 (in 3 folds)   \n",
       "lasso_cv             0.521 +/- 0.130 (in 3 folds)   \n",
       "ridge_cv             0.471 +/- 0.120 (in 3 folds)   \n",
       "xgboost              0.609 +/- 0.050 (in 3 folds)   \n",
       "dummy_most_frequent  0.628 +/- 0.088 (in 3 folds)   \n",
       "\n",
       "                                     MCC per fold Accuracy global MCC global  \\\n",
       "dummy_stratified     0.135 +/- 0.103 (in 3 folds)           0.491     -0.007   \n",
       "rf_multiclass        0.194 +/- 0.069 (in 3 folds)           0.541      0.078   \n",
       "elasticnet_cv        0.191 +/- 0.099 (in 3 folds)           0.541      0.080   \n",
       "linearsvm_ovr        0.173 +/- 0.064 (in 3 folds)           0.581      0.150   \n",
       "lasso_multiclass     0.123 +/- 0.099 (in 3 folds)           0.556      0.098   \n",
       "lasso_cv             0.240 +/- 0.079 (in 3 folds)           0.490     -0.014   \n",
       "ridge_cv             0.102 +/- 0.176 (in 3 folds)           0.451     -0.100   \n",
       "xgboost              0.108 +/- 0.101 (in 3 folds)           0.590      0.191   \n",
       "dummy_most_frequent  0.000 +/- 0.000 (in 3 folds)           0.632      0.000   \n",
       "\n",
       "                    Accuracy per fold with abstention  \\\n",
       "dummy_stratified         0.193 +/- 0.184 (in 3 folds)   \n",
       "rf_multiclass            0.452 +/- 0.130 (in 3 folds)   \n",
       "elasticnet_cv            0.451 +/- 0.118 (in 3 folds)   \n",
       "linearsvm_ovr            0.546 +/- 0.041 (in 3 folds)   \n",
       "lasso_multiclass         0.523 +/- 0.029 (in 3 folds)   \n",
       "lasso_cv                 0.376 +/- 0.087 (in 3 folds)   \n",
       "ridge_cv                 0.346 +/- 0.113 (in 3 folds)   \n",
       "xgboost                  0.356 +/- 0.216 (in 3 folds)   \n",
       "dummy_most_frequent      0.273 +/- 0.159 (in 3 folds)   \n",
       "\n",
       "                     MCC per fold with abstention  \\\n",
       "dummy_stratified     0.031 +/- 0.073 (in 3 folds)   \n",
       "rf_multiclass        0.128 +/- 0.053 (in 3 folds)   \n",
       "elasticnet_cv        0.123 +/- 0.047 (in 3 folds)   \n",
       "linearsvm_ovr        0.156 +/- 0.062 (in 3 folds)   \n",
       "lasso_multiclass     0.110 +/- 0.084 (in 3 folds)   \n",
       "lasso_cv             0.147 +/- 0.021 (in 3 folds)   \n",
       "ridge_cv             0.092 +/- 0.064 (in 3 folds)   \n",
       "xgboost              0.136 +/- 0.039 (in 3 folds)   \n",
       "dummy_most_frequent  0.120 +/- 0.060 (in 3 folds)   \n",
       "\n",
       "                    Unknown/abstention proportion per fold with abstention  \\\n",
       "dummy_stratified                          0.605 +/- 0.392 (in 3 folds)       \n",
       "rf_multiclass                             0.169 +/- 0.151 (in 3 folds)       \n",
       "elasticnet_cv                             0.169 +/- 0.151 (in 3 folds)       \n",
       "linearsvm_ovr                             0.059 +/- 0.062 (in 3 folds)       \n",
       "lasso_multiclass                          0.059 +/- 0.062 (in 3 folds)       \n",
       "lasso_cv                                  0.238 +/- 0.267 (in 3 folds)       \n",
       "ridge_cv                                  0.238 +/- 0.267 (in 3 folds)       \n",
       "xgboost                                   0.395 +/- 0.391 (in 3 folds)       \n",
       "dummy_most_frequent                       0.565 +/- 0.226 (in 3 folds)       \n",
       "\n",
       "                    Accuracy global with abstention  \\\n",
       "dummy_stratified                              0.197   \n",
       "rf_multiclass                                 0.447   \n",
       "elasticnet_cv                                 0.447   \n",
       "linearsvm_ovr                                 0.545   \n",
       "lasso_multiclass                              0.523   \n",
       "lasso_cv                                      0.379   \n",
       "ridge_cv                                      0.348   \n",
       "xgboost                                       0.348   \n",
       "dummy_most_frequent                           0.273   \n",
       "\n",
       "                    MCC global with abstention  \\\n",
       "dummy_stratified                        -0.009   \n",
       "rf_multiclass                            0.048   \n",
       "elasticnet_cv                            0.054   \n",
       "linearsvm_ovr                            0.134   \n",
       "lasso_multiclass                         0.087   \n",
       "lasso_cv                                 0.002   \n",
       "ridge_cv                                -0.046   \n",
       "xgboost                                  0.090   \n",
       "dummy_most_frequent                      0.148   \n",
       "\n",
       "                    Unknown/abstention proportion global with abstention  \\\n",
       "dummy_stratified                                                 0.598     \n",
       "rf_multiclass                                                    0.174     \n",
       "elasticnet_cv                                                    0.174     \n",
       "linearsvm_ovr                                                    0.061     \n",
       "lasso_multiclass                                                 0.061     \n",
       "lasso_cv                                                         0.227     \n",
       "ridge_cv                                                         0.227     \n",
       "xgboost                                                          0.409     \n",
       "dummy_most_frequent                                              0.568     \n",
       "\n",
       "                    Abstention label global with abstention  sample_size  \\\n",
       "dummy_stratified                                    Unknown           53   \n",
       "rf_multiclass                                       Unknown          109   \n",
       "elasticnet_cv                                       Unknown          109   \n",
       "linearsvm_ovr                                       Unknown          124   \n",
       "lasso_multiclass                                    Unknown          124   \n",
       "lasso_cv                                            Unknown          102   \n",
       "ridge_cv                                            Unknown          102   \n",
       "xgboost                                             Unknown           78   \n",
       "dummy_most_frequent                                 Unknown           57   \n",
       "\n",
       "                     n_abstentions  sample_size including abstentions  \\\n",
       "dummy_stratified                79                                132   \n",
       "rf_multiclass                   23                                132   \n",
       "elasticnet_cv                   23                                132   \n",
       "linearsvm_ovr                    8                                132   \n",
       "lasso_multiclass                 8                                132   \n",
       "lasso_cv                        30                                132   \n",
       "ridge_cv                        30                                132   \n",
       "xgboost                         54                                132   \n",
       "dummy_most_frequent             75                                132   \n",
       "\n",
       "                     abstention_rate  missing_classes  \n",
       "dummy_stratified            0.598485            False  \n",
       "rf_multiclass               0.174242            False  \n",
       "elasticnet_cv               0.174242            False  \n",
       "linearsvm_ovr               0.060606            False  \n",
       "lasso_multiclass            0.060606            False  \n",
       "lasso_cv                    0.227273            False  \n",
       "ridge_cv                    0.227273            False  \n",
       "xgboost                     0.409091            False  \n",
       "dummy_most_frequent         0.568182             True  "
      ]
     },
     "metadata": {},
     "output_type": "display_data"
    },
    {
     "name": "stdout",
     "output_type": "stream",
     "text": [
      "GeneLocus.BCR, fold 0, TargetObsColumnEnum.sex_healthy_only, lasso_multiclass: best p value = 0.05. Number of disease associated clusters: {'F': 109, 'M': 152}\n",
      "GeneLocus.BCR, fold 0, TargetObsColumnEnum.sex_healthy_only, rf_multiclass: best p value = 0.05. Number of disease associated clusters: {'F': 109, 'M': 152}\n",
      "GeneLocus.BCR, fold 0, TargetObsColumnEnum.sex_healthy_only, linearsvm_ovr: best p value = 0.05. Number of disease associated clusters: {'F': 109, 'M': 152}\n",
      "\n",
      "GeneLocus.BCR, fold 1, TargetObsColumnEnum.sex_healthy_only, lasso_multiclass: best p value = 0.01. Number of disease associated clusters: {'F': 3, 'M': 81}\n"
     ]
    },
    {
     "name": "stdout",
     "output_type": "stream",
     "text": [
      "GeneLocus.BCR, fold 1, TargetObsColumnEnum.sex_healthy_only, rf_multiclass: best p value = 0.005. Number of disease associated clusters: {'F': 1, 'M': 25}\n"
     ]
    },
    {
     "name": "stderr",
     "output_type": "stream",
     "text": [
      "2023-01-07 03:53:44,001 - analyze_convergent_clustering_models.ipynb - INFO - GeneLocus.TCR, TargetObsColumnEnum.disease from /users/maximz/code/boyd-immune-repertoire-classification/data/data_v_20221224/convergent_clusters/TCR/disease/train_smaller_model to /users/maximz/code/boyd-immune-repertoire-classification/out/convergent_clusters/TCR/disease/train_smaller_model\n"
     ]
    },
    {
     "name": "stdout",
     "output_type": "stream",
     "text": [
      "GeneLocus.BCR, fold 1, TargetObsColumnEnum.sex_healthy_only, linearsvm_ovr: best p value = 0.01. Number of disease associated clusters: {'F': 3, 'M': 81}\n",
      "\n",
      "GeneLocus.BCR, fold 2, TargetObsColumnEnum.sex_healthy_only, lasso_multiclass: best p value = 0.05. Number of disease associated clusters: {'F': 34, 'M': 492}\n",
      "GeneLocus.BCR, fold 2, TargetObsColumnEnum.sex_healthy_only, rf_multiclass: best p value = 0.01. Number of disease associated clusters: {'F': 1, 'M': 53}\n",
      "GeneLocus.BCR, fold 2, TargetObsColumnEnum.sex_healthy_only, linearsvm_ovr: best p value = 0.05. Number of disease associated clusters: {'F': 34, 'M': 492}\n",
      "\n"
     ]
    },
    {
     "name": "stdout",
     "output_type": "stream",
     "text": [
      "GeneLocus.TCR TargetObsColumnEnum.disease\n"
     ]
    },
    {
     "data": {
      "text/html": [
       "<div>\n",
       "<style scoped>\n",
       "    .dataframe tbody tr th:only-of-type {\n",
       "        vertical-align: middle;\n",
       "    }\n",
       "\n",
       "    .dataframe tbody tr th {\n",
       "        vertical-align: top;\n",
       "    }\n",
       "\n",
       "    .dataframe thead th {\n",
       "        text-align: right;\n",
       "    }\n",
       "</style>\n",
       "<table border=\"1\" class=\"dataframe\">\n",
       "  <thead>\n",
       "    <tr style=\"text-align: right;\">\n",
       "      <th></th>\n",
       "      <th>ROC-AUC (weighted OvO) per fold</th>\n",
       "      <th>ROC-AUC (macro OvO) per fold</th>\n",
       "      <th>au-PRC (weighted OvO) per fold</th>\n",
       "      <th>au-PRC (macro OvO) per fold</th>\n",
       "      <th>Accuracy per fold</th>\n",
       "      <th>MCC per fold</th>\n",
       "      <th>Accuracy global</th>\n",
       "      <th>MCC global</th>\n",
       "      <th>sample_size</th>\n",
       "      <th>n_abstentions</th>\n",
       "      <th>sample_size including abstentions</th>\n",
       "      <th>abstention_rate</th>\n",
       "      <th>missing_classes</th>\n",
       "    </tr>\n",
       "  </thead>\n",
       "  <tbody>\n",
       "    <tr>\n",
       "      <th>linearsvm_ovr</th>\n",
       "      <td>0.923 +/- 0.009 (in 3 folds)</td>\n",
       "      <td>0.926 +/- 0.007 (in 3 folds)</td>\n",
       "      <td>0.920 +/- 0.013 (in 3 folds)</td>\n",
       "      <td>0.927 +/- 0.010 (in 3 folds)</td>\n",
       "      <td>0.755 +/- 0.028 (in 3 folds)</td>\n",
       "      <td>0.637 +/- 0.048 (in 3 folds)</td>\n",
       "      <td>0.755</td>\n",
       "      <td>0.635</td>\n",
       "      <td>274</td>\n",
       "      <td>0</td>\n",
       "      <td>274</td>\n",
       "      <td>0.0</td>\n",
       "      <td>False</td>\n",
       "    </tr>\n",
       "    <tr>\n",
       "      <th>lasso_multiclass</th>\n",
       "      <td>0.903 +/- 0.017 (in 3 folds)</td>\n",
       "      <td>0.903 +/- 0.024 (in 3 folds)</td>\n",
       "      <td>0.901 +/- 0.016 (in 3 folds)</td>\n",
       "      <td>0.905 +/- 0.022 (in 3 folds)</td>\n",
       "      <td>0.766 +/- 0.031 (in 3 folds)</td>\n",
       "      <td>0.665 +/- 0.040 (in 3 folds)</td>\n",
       "      <td>0.766</td>\n",
       "      <td>0.662</td>\n",
       "      <td>274</td>\n",
       "      <td>0</td>\n",
       "      <td>274</td>\n",
       "      <td>0.0</td>\n",
       "      <td>False</td>\n",
       "    </tr>\n",
       "    <tr>\n",
       "      <th>ridge_cv</th>\n",
       "      <td>0.894 +/- 0.018 (in 3 folds)</td>\n",
       "      <td>0.902 +/- 0.018 (in 3 folds)</td>\n",
       "      <td>0.879 +/- 0.017 (in 3 folds)</td>\n",
       "      <td>0.891 +/- 0.017 (in 3 folds)</td>\n",
       "      <td>0.536 +/- 0.069 (in 3 folds)</td>\n",
       "      <td>0.209 +/- 0.195 (in 3 folds)</td>\n",
       "      <td>0.536</td>\n",
       "      <td>0.253</td>\n",
       "      <td>274</td>\n",
       "      <td>0</td>\n",
       "      <td>274</td>\n",
       "      <td>0.0</td>\n",
       "      <td>False</td>\n",
       "    </tr>\n",
       "    <tr>\n",
       "      <th>xgboost</th>\n",
       "      <td>0.891 +/- 0.011 (in 3 folds)</td>\n",
       "      <td>0.886 +/- 0.013 (in 3 folds)</td>\n",
       "      <td>0.889 +/- 0.011 (in 3 folds)</td>\n",
       "      <td>0.890 +/- 0.012 (in 3 folds)</td>\n",
       "      <td>0.730 +/- 0.034 (in 3 folds)</td>\n",
       "      <td>0.607 +/- 0.050 (in 3 folds)</td>\n",
       "      <td>0.730</td>\n",
       "      <td>0.597</td>\n",
       "      <td>274</td>\n",
       "      <td>0</td>\n",
       "      <td>274</td>\n",
       "      <td>0.0</td>\n",
       "      <td>False</td>\n",
       "    </tr>\n",
       "    <tr>\n",
       "      <th>lasso_cv</th>\n",
       "      <td>0.881 +/- 0.019 (in 3 folds)</td>\n",
       "      <td>0.887 +/- 0.012 (in 3 folds)</td>\n",
       "      <td>0.874 +/- 0.017 (in 3 folds)</td>\n",
       "      <td>0.884 +/- 0.015 (in 3 folds)</td>\n",
       "      <td>0.632 +/- 0.063 (in 3 folds)</td>\n",
       "      <td>0.432 +/- 0.105 (in 3 folds)</td>\n",
       "      <td>0.631</td>\n",
       "      <td>0.433</td>\n",
       "      <td>274</td>\n",
       "      <td>0</td>\n",
       "      <td>274</td>\n",
       "      <td>0.0</td>\n",
       "      <td>False</td>\n",
       "    </tr>\n",
       "    <tr>\n",
       "      <th>rf_multiclass</th>\n",
       "      <td>0.880 +/- 0.018 (in 3 folds)</td>\n",
       "      <td>0.882 +/- 0.021 (in 3 folds)</td>\n",
       "      <td>0.880 +/- 0.019 (in 3 folds)</td>\n",
       "      <td>0.886 +/- 0.020 (in 3 folds)</td>\n",
       "      <td>0.715 +/- 0.034 (in 3 folds)</td>\n",
       "      <td>0.583 +/- 0.059 (in 3 folds)</td>\n",
       "      <td>0.715</td>\n",
       "      <td>0.570</td>\n",
       "      <td>274</td>\n",
       "      <td>0</td>\n",
       "      <td>274</td>\n",
       "      <td>0.0</td>\n",
       "      <td>False</td>\n",
       "    </tr>\n",
       "    <tr>\n",
       "      <th>elasticnet_cv</th>\n",
       "      <td>0.863 +/- 0.057 (in 3 folds)</td>\n",
       "      <td>0.863 +/- 0.064 (in 3 folds)</td>\n",
       "      <td>0.851 +/- 0.054 (in 3 folds)</td>\n",
       "      <td>0.856 +/- 0.060 (in 3 folds)</td>\n",
       "      <td>0.598 +/- 0.058 (in 3 folds)</td>\n",
       "      <td>0.370 +/- 0.106 (in 3 folds)</td>\n",
       "      <td>0.599</td>\n",
       "      <td>0.370</td>\n",
       "      <td>274</td>\n",
       "      <td>0</td>\n",
       "      <td>274</td>\n",
       "      <td>0.0</td>\n",
       "      <td>False</td>\n",
       "    </tr>\n",
       "    <tr>\n",
       "      <th>dummy_stratified</th>\n",
       "      <td>0.502 +/- 0.017 (in 3 folds)</td>\n",
       "      <td>0.509 +/- 0.012 (in 3 folds)</td>\n",
       "      <td>0.512 +/- 0.006 (in 3 folds)</td>\n",
       "      <td>0.516 +/- 0.005 (in 3 folds)</td>\n",
       "      <td>0.336 +/- 0.029 (in 3 folds)</td>\n",
       "      <td>-0.003 +/- 0.046 (in 3 folds)</td>\n",
       "      <td>0.336</td>\n",
       "      <td>-0.003</td>\n",
       "      <td>274</td>\n",
       "      <td>0</td>\n",
       "      <td>274</td>\n",
       "      <td>0.0</td>\n",
       "      <td>False</td>\n",
       "    </tr>\n",
       "    <tr>\n",
       "      <th>dummy_most_frequent</th>\n",
       "      <td>0.500 +/- 0.000 (in 3 folds)</td>\n",
       "      <td>0.500 +/- 0.000 (in 3 folds)</td>\n",
       "      <td>0.500 +/- 0.000 (in 3 folds)</td>\n",
       "      <td>0.500 +/- 0.000 (in 3 folds)</td>\n",
       "      <td>0.474 +/- 0.003 (in 3 folds)</td>\n",
       "      <td>0.000 +/- 0.000 (in 3 folds)</td>\n",
       "      <td>0.474</td>\n",
       "      <td>0.000</td>\n",
       "      <td>274</td>\n",
       "      <td>0</td>\n",
       "      <td>274</td>\n",
       "      <td>0.0</td>\n",
       "      <td>True</td>\n",
       "    </tr>\n",
       "  </tbody>\n",
       "</table>\n",
       "</div>"
      ],
      "text/plain": [
       "                    ROC-AUC (weighted OvO) per fold  \\\n",
       "linearsvm_ovr          0.923 +/- 0.009 (in 3 folds)   \n",
       "lasso_multiclass       0.903 +/- 0.017 (in 3 folds)   \n",
       "ridge_cv               0.894 +/- 0.018 (in 3 folds)   \n",
       "xgboost                0.891 +/- 0.011 (in 3 folds)   \n",
       "lasso_cv               0.881 +/- 0.019 (in 3 folds)   \n",
       "rf_multiclass          0.880 +/- 0.018 (in 3 folds)   \n",
       "elasticnet_cv          0.863 +/- 0.057 (in 3 folds)   \n",
       "dummy_stratified       0.502 +/- 0.017 (in 3 folds)   \n",
       "dummy_most_frequent    0.500 +/- 0.000 (in 3 folds)   \n",
       "\n",
       "                     ROC-AUC (macro OvO) per fold  \\\n",
       "linearsvm_ovr        0.926 +/- 0.007 (in 3 folds)   \n",
       "lasso_multiclass     0.903 +/- 0.024 (in 3 folds)   \n",
       "ridge_cv             0.902 +/- 0.018 (in 3 folds)   \n",
       "xgboost              0.886 +/- 0.013 (in 3 folds)   \n",
       "lasso_cv             0.887 +/- 0.012 (in 3 folds)   \n",
       "rf_multiclass        0.882 +/- 0.021 (in 3 folds)   \n",
       "elasticnet_cv        0.863 +/- 0.064 (in 3 folds)   \n",
       "dummy_stratified     0.509 +/- 0.012 (in 3 folds)   \n",
       "dummy_most_frequent  0.500 +/- 0.000 (in 3 folds)   \n",
       "\n",
       "                    au-PRC (weighted OvO) per fold  \\\n",
       "linearsvm_ovr         0.920 +/- 0.013 (in 3 folds)   \n",
       "lasso_multiclass      0.901 +/- 0.016 (in 3 folds)   \n",
       "ridge_cv              0.879 +/- 0.017 (in 3 folds)   \n",
       "xgboost               0.889 +/- 0.011 (in 3 folds)   \n",
       "lasso_cv              0.874 +/- 0.017 (in 3 folds)   \n",
       "rf_multiclass         0.880 +/- 0.019 (in 3 folds)   \n",
       "elasticnet_cv         0.851 +/- 0.054 (in 3 folds)   \n",
       "dummy_stratified      0.512 +/- 0.006 (in 3 folds)   \n",
       "dummy_most_frequent   0.500 +/- 0.000 (in 3 folds)   \n",
       "\n",
       "                      au-PRC (macro OvO) per fold  \\\n",
       "linearsvm_ovr        0.927 +/- 0.010 (in 3 folds)   \n",
       "lasso_multiclass     0.905 +/- 0.022 (in 3 folds)   \n",
       "ridge_cv             0.891 +/- 0.017 (in 3 folds)   \n",
       "xgboost              0.890 +/- 0.012 (in 3 folds)   \n",
       "lasso_cv             0.884 +/- 0.015 (in 3 folds)   \n",
       "rf_multiclass        0.886 +/- 0.020 (in 3 folds)   \n",
       "elasticnet_cv        0.856 +/- 0.060 (in 3 folds)   \n",
       "dummy_stratified     0.516 +/- 0.005 (in 3 folds)   \n",
       "dummy_most_frequent  0.500 +/- 0.000 (in 3 folds)   \n",
       "\n",
       "                                Accuracy per fold  \\\n",
       "linearsvm_ovr        0.755 +/- 0.028 (in 3 folds)   \n",
       "lasso_multiclass     0.766 +/- 0.031 (in 3 folds)   \n",
       "ridge_cv             0.536 +/- 0.069 (in 3 folds)   \n",
       "xgboost              0.730 +/- 0.034 (in 3 folds)   \n",
       "lasso_cv             0.632 +/- 0.063 (in 3 folds)   \n",
       "rf_multiclass        0.715 +/- 0.034 (in 3 folds)   \n",
       "elasticnet_cv        0.598 +/- 0.058 (in 3 folds)   \n",
       "dummy_stratified     0.336 +/- 0.029 (in 3 folds)   \n",
       "dummy_most_frequent  0.474 +/- 0.003 (in 3 folds)   \n",
       "\n",
       "                                      MCC per fold Accuracy global MCC global  \\\n",
       "linearsvm_ovr         0.637 +/- 0.048 (in 3 folds)           0.755      0.635   \n",
       "lasso_multiclass      0.665 +/- 0.040 (in 3 folds)           0.766      0.662   \n",
       "ridge_cv              0.209 +/- 0.195 (in 3 folds)           0.536      0.253   \n",
       "xgboost               0.607 +/- 0.050 (in 3 folds)           0.730      0.597   \n",
       "lasso_cv              0.432 +/- 0.105 (in 3 folds)           0.631      0.433   \n",
       "rf_multiclass         0.583 +/- 0.059 (in 3 folds)           0.715      0.570   \n",
       "elasticnet_cv         0.370 +/- 0.106 (in 3 folds)           0.599      0.370   \n",
       "dummy_stratified     -0.003 +/- 0.046 (in 3 folds)           0.336     -0.003   \n",
       "dummy_most_frequent   0.000 +/- 0.000 (in 3 folds)           0.474      0.000   \n",
       "\n",
       "                     sample_size  n_abstentions  \\\n",
       "linearsvm_ovr                274              0   \n",
       "lasso_multiclass             274              0   \n",
       "ridge_cv                     274              0   \n",
       "xgboost                      274              0   \n",
       "lasso_cv                     274              0   \n",
       "rf_multiclass                274              0   \n",
       "elasticnet_cv                274              0   \n",
       "dummy_stratified             274              0   \n",
       "dummy_most_frequent          274              0   \n",
       "\n",
       "                     sample_size including abstentions  abstention_rate  \\\n",
       "linearsvm_ovr                                      274              0.0   \n",
       "lasso_multiclass                                   274              0.0   \n",
       "ridge_cv                                           274              0.0   \n",
       "xgboost                                            274              0.0   \n",
       "lasso_cv                                           274              0.0   \n",
       "rf_multiclass                                      274              0.0   \n",
       "elasticnet_cv                                      274              0.0   \n",
       "dummy_stratified                                   274              0.0   \n",
       "dummy_most_frequent                                274              0.0   \n",
       "\n",
       "                     missing_classes  \n",
       "linearsvm_ovr                  False  \n",
       "lasso_multiclass               False  \n",
       "ridge_cv                       False  \n",
       "xgboost                        False  \n",
       "lasso_cv                       False  \n",
       "rf_multiclass                  False  \n",
       "elasticnet_cv                  False  \n",
       "dummy_stratified               False  \n",
       "dummy_most_frequent             True  "
      ]
     },
     "metadata": {},
     "output_type": "display_data"
    },
    {
     "name": "stdout",
     "output_type": "stream",
     "text": [
      "GeneLocus.TCR, fold 0, TargetObsColumnEnum.disease, lasso_multiclass: best p value = 0.0005. Number of disease associated clusters: {'Covid19': 2, 'HIV': 11, 'Healthy/Background': 207, 'Lupus': 221}\n",
      "GeneLocus.TCR, fold 0, TargetObsColumnEnum.disease, rf_multiclass: best p value = 0.0005. Number of disease associated clusters: {'Covid19': 2, 'HIV': 11, 'Healthy/Background': 207, 'Lupus': 221}\n",
      "GeneLocus.TCR, fold 0, TargetObsColumnEnum.disease, linearsvm_ovr: best p value = 0.005. Number of disease associated clusters: {'Covid19': 18, 'HIV': 161, 'Healthy/Background': 903, 'Lupus': 948}\n",
      "\n",
      "GeneLocus.TCR, fold 1, TargetObsColumnEnum.disease, lasso_multiclass: best p value = 0.01. Number of disease associated clusters: {'Covid19': 144, 'HIV': 215, 'Healthy/Background': 1212, 'Lupus': 1458}\n"
     ]
    },
    {
     "name": "stderr",
     "output_type": "stream",
     "text": [
      "2023-01-07 03:53:47,625 - analyze_convergent_clustering_models.ipynb - INFO - GeneLocus.TCR, TargetObsColumnEnum.disease_all_demographics_present from /users/maximz/code/boyd-immune-repertoire-classification/data/data_v_20221224/convergent_clusters/TCR/disease_all_demographics_present/train_smaller_model to /users/maximz/code/boyd-immune-repertoire-classification/out/convergent_clusters/TCR/disease_all_demographics_present/train_smaller_model\n"
     ]
    },
    {
     "name": "stdout",
     "output_type": "stream",
     "text": [
      "GeneLocus.TCR, fold 1, TargetObsColumnEnum.disease, rf_multiclass: best p value = 0.01. Number of disease associated clusters: {'Covid19': 144, 'HIV': 215, 'Healthy/Background': 1212, 'Lupus': 1458}\n",
      "GeneLocus.TCR, fold 1, TargetObsColumnEnum.disease, linearsvm_ovr: best p value = 0.005. Number of disease associated clusters: {'Covid19': 126, 'HIV': 176, 'Healthy/Background': 876, 'Lupus': 1227}\n",
      "\n",
      "GeneLocus.TCR, fold 2, TargetObsColumnEnum.disease, lasso_multiclass: best p value = 0.005. Number of disease associated clusters: {'Covid19': 66, 'HIV': 122, 'Healthy/Background': 931, 'Lupus': 1163}\n",
      "GeneLocus.TCR, fold 2, TargetObsColumnEnum.disease, rf_multiclass: best p value = 0.001. Number of disease associated clusters: {'Covid19': 3, 'HIV': 31, 'Healthy/Background': 364, 'Lupus': 285}\n",
      "GeneLocus.TCR, fold 2, TargetObsColumnEnum.disease, linearsvm_ovr: best p value = 0.01. Number of disease associated clusters: {'Covid19': 85, 'HIV': 162, 'Healthy/Background': 1282, 'Lupus': 1389}\n",
      "\n"
     ]
    },
    {
     "name": "stdout",
     "output_type": "stream",
     "text": [
      "GeneLocus.TCR TargetObsColumnEnum.disease_all_demographics_present\n"
     ]
    },
    {
     "data": {
      "text/html": [
       "<div>\n",
       "<style scoped>\n",
       "    .dataframe tbody tr th:only-of-type {\n",
       "        vertical-align: middle;\n",
       "    }\n",
       "\n",
       "    .dataframe tbody tr th {\n",
       "        vertical-align: top;\n",
       "    }\n",
       "\n",
       "    .dataframe thead th {\n",
       "        text-align: right;\n",
       "    }\n",
       "</style>\n",
       "<table border=\"1\" class=\"dataframe\">\n",
       "  <thead>\n",
       "    <tr style=\"text-align: right;\">\n",
       "      <th></th>\n",
       "      <th>ROC-AUC (weighted OvO) per fold</th>\n",
       "      <th>ROC-AUC (macro OvO) per fold</th>\n",
       "      <th>au-PRC (weighted OvO) per fold</th>\n",
       "      <th>au-PRC (macro OvO) per fold</th>\n",
       "      <th>Accuracy per fold</th>\n",
       "      <th>MCC per fold</th>\n",
       "      <th>Accuracy global</th>\n",
       "      <th>MCC global</th>\n",
       "      <th>ROC-AUC (weighted OvO) per fold with abstention</th>\n",
       "      <th>ROC-AUC (macro OvO) per fold with abstention</th>\n",
       "      <th>...</th>\n",
       "      <th>Unknown/abstention proportion per fold with abstention</th>\n",
       "      <th>Accuracy global with abstention</th>\n",
       "      <th>MCC global with abstention</th>\n",
       "      <th>Unknown/abstention proportion global with abstention</th>\n",
       "      <th>Abstention label global with abstention</th>\n",
       "      <th>sample_size</th>\n",
       "      <th>n_abstentions</th>\n",
       "      <th>sample_size including abstentions</th>\n",
       "      <th>abstention_rate</th>\n",
       "      <th>missing_classes</th>\n",
       "    </tr>\n",
       "  </thead>\n",
       "  <tbody>\n",
       "    <tr>\n",
       "      <th>linearsvm_ovr</th>\n",
       "      <td>0.907 +/- 0.009 (in 3 folds)</td>\n",
       "      <td>0.906 +/- 0.016 (in 3 folds)</td>\n",
       "      <td>0.889 +/- 0.006 (in 3 folds)</td>\n",
       "      <td>0.892 +/- 0.002 (in 3 folds)</td>\n",
       "      <td>0.749 +/- 0.028 (in 3 folds)</td>\n",
       "      <td>0.639 +/- 0.055 (in 3 folds)</td>\n",
       "      <td>0.749</td>\n",
       "      <td>0.636</td>\n",
       "      <td>0.912 +/- 0.003 (in 2 folds)</td>\n",
       "      <td>0.915 +/- 0.002 (in 2 folds)</td>\n",
       "      <td>...</td>\n",
       "      <td>0.013 +/- 0.000 (in 1 folds)</td>\n",
       "      <td>0.746</td>\n",
       "      <td>0.633</td>\n",
       "      <td>0.004</td>\n",
       "      <td>Unknown</td>\n",
       "      <td>239</td>\n",
       "      <td>1</td>\n",
       "      <td>240</td>\n",
       "      <td>0.004167</td>\n",
       "      <td>False</td>\n",
       "    </tr>\n",
       "    <tr>\n",
       "      <th>lasso_multiclass</th>\n",
       "      <td>0.906 +/- 0.012 (in 3 folds)</td>\n",
       "      <td>0.905 +/- 0.017 (in 3 folds)</td>\n",
       "      <td>0.897 +/- 0.011 (in 3 folds)</td>\n",
       "      <td>0.899 +/- 0.010 (in 3 folds)</td>\n",
       "      <td>0.761 +/- 0.016 (in 3 folds)</td>\n",
       "      <td>0.671 +/- 0.033 (in 3 folds)</td>\n",
       "      <td>0.762</td>\n",
       "      <td>0.668</td>\n",
       "      <td>0.912 +/- 0.010 (in 2 folds)</td>\n",
       "      <td>0.914 +/- 0.007 (in 2 folds)</td>\n",
       "      <td>...</td>\n",
       "      <td>0.013 +/- 0.000 (in 1 folds)</td>\n",
       "      <td>0.758</td>\n",
       "      <td>0.664</td>\n",
       "      <td>0.004</td>\n",
       "      <td>Unknown</td>\n",
       "      <td>239</td>\n",
       "      <td>1</td>\n",
       "      <td>240</td>\n",
       "      <td>0.004167</td>\n",
       "      <td>False</td>\n",
       "    </tr>\n",
       "    <tr>\n",
       "      <th>ridge_cv</th>\n",
       "      <td>0.889 +/- 0.008 (in 3 folds)</td>\n",
       "      <td>0.892 +/- 0.013 (in 3 folds)</td>\n",
       "      <td>0.874 +/- 0.010 (in 3 folds)</td>\n",
       "      <td>0.881 +/- 0.016 (in 3 folds)</td>\n",
       "      <td>0.547 +/- 0.115 (in 3 folds)</td>\n",
       "      <td>0.174 +/- 0.301 (in 3 folds)</td>\n",
       "      <td>0.548</td>\n",
       "      <td>0.286</td>\n",
       "      <td>0.893 +/- 0.003 (in 2 folds)</td>\n",
       "      <td>0.899 +/- 0.000 (in 2 folds)</td>\n",
       "      <td>...</td>\n",
       "      <td>0.013 +/- 0.000 (in 1 folds)</td>\n",
       "      <td>0.546</td>\n",
       "      <td>0.284</td>\n",
       "      <td>0.004</td>\n",
       "      <td>Unknown</td>\n",
       "      <td>239</td>\n",
       "      <td>1</td>\n",
       "      <td>240</td>\n",
       "      <td>0.004167</td>\n",
       "      <td>False</td>\n",
       "    </tr>\n",
       "    <tr>\n",
       "      <th>xgboost</th>\n",
       "      <td>0.885 +/- 0.024 (in 3 folds)</td>\n",
       "      <td>0.884 +/- 0.024 (in 3 folds)</td>\n",
       "      <td>0.878 +/- 0.033 (in 3 folds)</td>\n",
       "      <td>0.882 +/- 0.032 (in 3 folds)</td>\n",
       "      <td>0.758 +/- 0.031 (in 3 folds)</td>\n",
       "      <td>0.643 +/- 0.046 (in 3 folds)</td>\n",
       "      <td>0.758</td>\n",
       "      <td>0.638</td>\n",
       "      <td>NaN</td>\n",
       "      <td>NaN</td>\n",
       "      <td>...</td>\n",
       "      <td>NaN</td>\n",
       "      <td>NaN</td>\n",
       "      <td>NaN</td>\n",
       "      <td>NaN</td>\n",
       "      <td>NaN</td>\n",
       "      <td>240</td>\n",
       "      <td>0</td>\n",
       "      <td>240</td>\n",
       "      <td>0.000000</td>\n",
       "      <td>False</td>\n",
       "    </tr>\n",
       "    <tr>\n",
       "      <th>rf_multiclass</th>\n",
       "      <td>0.885 +/- 0.014 (in 3 folds)</td>\n",
       "      <td>0.882 +/- 0.008 (in 3 folds)</td>\n",
       "      <td>0.881 +/- 0.016 (in 3 folds)</td>\n",
       "      <td>0.879 +/- 0.009 (in 3 folds)</td>\n",
       "      <td>0.716 +/- 0.022 (in 3 folds)</td>\n",
       "      <td>0.573 +/- 0.032 (in 3 folds)</td>\n",
       "      <td>0.715</td>\n",
       "      <td>0.571</td>\n",
       "      <td>0.886 +/- 0.019 (in 2 folds)</td>\n",
       "      <td>0.884 +/- 0.011 (in 2 folds)</td>\n",
       "      <td>...</td>\n",
       "      <td>0.013 +/- 0.000 (in 1 folds)</td>\n",
       "      <td>0.713</td>\n",
       "      <td>0.568</td>\n",
       "      <td>0.004</td>\n",
       "      <td>Unknown</td>\n",
       "      <td>239</td>\n",
       "      <td>1</td>\n",
       "      <td>240</td>\n",
       "      <td>0.004167</td>\n",
       "      <td>False</td>\n",
       "    </tr>\n",
       "    <tr>\n",
       "      <th>elasticnet_cv</th>\n",
       "      <td>0.882 +/- 0.016 (in 3 folds)</td>\n",
       "      <td>0.879 +/- 0.021 (in 3 folds)</td>\n",
       "      <td>0.853 +/- 0.029 (in 3 folds)</td>\n",
       "      <td>0.856 +/- 0.028 (in 3 folds)</td>\n",
       "      <td>0.603 +/- 0.102 (in 3 folds)</td>\n",
       "      <td>0.371 +/- 0.180 (in 3 folds)</td>\n",
       "      <td>0.603</td>\n",
       "      <td>0.374</td>\n",
       "      <td>0.886 +/- 0.020 (in 2 folds)</td>\n",
       "      <td>0.887 +/- 0.021 (in 2 folds)</td>\n",
       "      <td>...</td>\n",
       "      <td>0.013 +/- 0.000 (in 1 folds)</td>\n",
       "      <td>0.600</td>\n",
       "      <td>0.372</td>\n",
       "      <td>0.004</td>\n",
       "      <td>Unknown</td>\n",
       "      <td>239</td>\n",
       "      <td>1</td>\n",
       "      <td>240</td>\n",
       "      <td>0.004167</td>\n",
       "      <td>False</td>\n",
       "    </tr>\n",
       "    <tr>\n",
       "      <th>lasso_cv</th>\n",
       "      <td>0.876 +/- 0.027 (in 3 folds)</td>\n",
       "      <td>0.876 +/- 0.035 (in 3 folds)</td>\n",
       "      <td>0.864 +/- 0.030 (in 3 folds)</td>\n",
       "      <td>0.870 +/- 0.033 (in 3 folds)</td>\n",
       "      <td>0.615 +/- 0.049 (in 3 folds)</td>\n",
       "      <td>0.388 +/- 0.104 (in 3 folds)</td>\n",
       "      <td>0.615</td>\n",
       "      <td>0.392</td>\n",
       "      <td>0.892 +/- 0.004 (in 2 folds)</td>\n",
       "      <td>0.896 +/- 0.003 (in 2 folds)</td>\n",
       "      <td>...</td>\n",
       "      <td>0.013 +/- 0.000 (in 1 folds)</td>\n",
       "      <td>0.613</td>\n",
       "      <td>0.390</td>\n",
       "      <td>0.004</td>\n",
       "      <td>Unknown</td>\n",
       "      <td>239</td>\n",
       "      <td>1</td>\n",
       "      <td>240</td>\n",
       "      <td>0.004167</td>\n",
       "      <td>False</td>\n",
       "    </tr>\n",
       "    <tr>\n",
       "      <th>dummy_stratified</th>\n",
       "      <td>0.531 +/- 0.035 (in 3 folds)</td>\n",
       "      <td>0.523 +/- 0.032 (in 3 folds)</td>\n",
       "      <td>0.529 +/- 0.023 (in 3 folds)</td>\n",
       "      <td>0.526 +/- 0.020 (in 3 folds)</td>\n",
       "      <td>0.405 +/- 0.062 (in 3 folds)</td>\n",
       "      <td>0.088 +/- 0.087 (in 3 folds)</td>\n",
       "      <td>0.404</td>\n",
       "      <td>0.086</td>\n",
       "      <td>NaN</td>\n",
       "      <td>NaN</td>\n",
       "      <td>...</td>\n",
       "      <td>NaN</td>\n",
       "      <td>NaN</td>\n",
       "      <td>NaN</td>\n",
       "      <td>NaN</td>\n",
       "      <td>NaN</td>\n",
       "      <td>240</td>\n",
       "      <td>0</td>\n",
       "      <td>240</td>\n",
       "      <td>0.000000</td>\n",
       "      <td>False</td>\n",
       "    </tr>\n",
       "    <tr>\n",
       "      <th>dummy_most_frequent</th>\n",
       "      <td>0.500 +/- 0.000 (in 3 folds)</td>\n",
       "      <td>0.500 +/- 0.000 (in 3 folds)</td>\n",
       "      <td>0.500 +/- 0.000 (in 3 folds)</td>\n",
       "      <td>0.500 +/- 0.000 (in 3 folds)</td>\n",
       "      <td>0.481 +/- 0.013 (in 3 folds)</td>\n",
       "      <td>0.000 +/- 0.000 (in 3 folds)</td>\n",
       "      <td>0.481</td>\n",
       "      <td>0.000</td>\n",
       "      <td>0.500 +/- 0.000 (in 2 folds)</td>\n",
       "      <td>0.500 +/- 0.000 (in 2 folds)</td>\n",
       "      <td>...</td>\n",
       "      <td>0.013 +/- 0.000 (in 1 folds)</td>\n",
       "      <td>0.479</td>\n",
       "      <td>0.027</td>\n",
       "      <td>0.004</td>\n",
       "      <td>Unknown</td>\n",
       "      <td>239</td>\n",
       "      <td>1</td>\n",
       "      <td>240</td>\n",
       "      <td>0.004167</td>\n",
       "      <td>True</td>\n",
       "    </tr>\n",
       "  </tbody>\n",
       "</table>\n",
       "<p>9 rows × 24 columns</p>\n",
       "</div>"
      ],
      "text/plain": [
       "                    ROC-AUC (weighted OvO) per fold  \\\n",
       "linearsvm_ovr          0.907 +/- 0.009 (in 3 folds)   \n",
       "lasso_multiclass       0.906 +/- 0.012 (in 3 folds)   \n",
       "ridge_cv               0.889 +/- 0.008 (in 3 folds)   \n",
       "xgboost                0.885 +/- 0.024 (in 3 folds)   \n",
       "rf_multiclass          0.885 +/- 0.014 (in 3 folds)   \n",
       "elasticnet_cv          0.882 +/- 0.016 (in 3 folds)   \n",
       "lasso_cv               0.876 +/- 0.027 (in 3 folds)   \n",
       "dummy_stratified       0.531 +/- 0.035 (in 3 folds)   \n",
       "dummy_most_frequent    0.500 +/- 0.000 (in 3 folds)   \n",
       "\n",
       "                     ROC-AUC (macro OvO) per fold  \\\n",
       "linearsvm_ovr        0.906 +/- 0.016 (in 3 folds)   \n",
       "lasso_multiclass     0.905 +/- 0.017 (in 3 folds)   \n",
       "ridge_cv             0.892 +/- 0.013 (in 3 folds)   \n",
       "xgboost              0.884 +/- 0.024 (in 3 folds)   \n",
       "rf_multiclass        0.882 +/- 0.008 (in 3 folds)   \n",
       "elasticnet_cv        0.879 +/- 0.021 (in 3 folds)   \n",
       "lasso_cv             0.876 +/- 0.035 (in 3 folds)   \n",
       "dummy_stratified     0.523 +/- 0.032 (in 3 folds)   \n",
       "dummy_most_frequent  0.500 +/- 0.000 (in 3 folds)   \n",
       "\n",
       "                    au-PRC (weighted OvO) per fold  \\\n",
       "linearsvm_ovr         0.889 +/- 0.006 (in 3 folds)   \n",
       "lasso_multiclass      0.897 +/- 0.011 (in 3 folds)   \n",
       "ridge_cv              0.874 +/- 0.010 (in 3 folds)   \n",
       "xgboost               0.878 +/- 0.033 (in 3 folds)   \n",
       "rf_multiclass         0.881 +/- 0.016 (in 3 folds)   \n",
       "elasticnet_cv         0.853 +/- 0.029 (in 3 folds)   \n",
       "lasso_cv              0.864 +/- 0.030 (in 3 folds)   \n",
       "dummy_stratified      0.529 +/- 0.023 (in 3 folds)   \n",
       "dummy_most_frequent   0.500 +/- 0.000 (in 3 folds)   \n",
       "\n",
       "                      au-PRC (macro OvO) per fold  \\\n",
       "linearsvm_ovr        0.892 +/- 0.002 (in 3 folds)   \n",
       "lasso_multiclass     0.899 +/- 0.010 (in 3 folds)   \n",
       "ridge_cv             0.881 +/- 0.016 (in 3 folds)   \n",
       "xgboost              0.882 +/- 0.032 (in 3 folds)   \n",
       "rf_multiclass        0.879 +/- 0.009 (in 3 folds)   \n",
       "elasticnet_cv        0.856 +/- 0.028 (in 3 folds)   \n",
       "lasso_cv             0.870 +/- 0.033 (in 3 folds)   \n",
       "dummy_stratified     0.526 +/- 0.020 (in 3 folds)   \n",
       "dummy_most_frequent  0.500 +/- 0.000 (in 3 folds)   \n",
       "\n",
       "                                Accuracy per fold  \\\n",
       "linearsvm_ovr        0.749 +/- 0.028 (in 3 folds)   \n",
       "lasso_multiclass     0.761 +/- 0.016 (in 3 folds)   \n",
       "ridge_cv             0.547 +/- 0.115 (in 3 folds)   \n",
       "xgboost              0.758 +/- 0.031 (in 3 folds)   \n",
       "rf_multiclass        0.716 +/- 0.022 (in 3 folds)   \n",
       "elasticnet_cv        0.603 +/- 0.102 (in 3 folds)   \n",
       "lasso_cv             0.615 +/- 0.049 (in 3 folds)   \n",
       "dummy_stratified     0.405 +/- 0.062 (in 3 folds)   \n",
       "dummy_most_frequent  0.481 +/- 0.013 (in 3 folds)   \n",
       "\n",
       "                                     MCC per fold Accuracy global MCC global  \\\n",
       "linearsvm_ovr        0.639 +/- 0.055 (in 3 folds)           0.749      0.636   \n",
       "lasso_multiclass     0.671 +/- 0.033 (in 3 folds)           0.762      0.668   \n",
       "ridge_cv             0.174 +/- 0.301 (in 3 folds)           0.548      0.286   \n",
       "xgboost              0.643 +/- 0.046 (in 3 folds)           0.758      0.638   \n",
       "rf_multiclass        0.573 +/- 0.032 (in 3 folds)           0.715      0.571   \n",
       "elasticnet_cv        0.371 +/- 0.180 (in 3 folds)           0.603      0.374   \n",
       "lasso_cv             0.388 +/- 0.104 (in 3 folds)           0.615      0.392   \n",
       "dummy_stratified     0.088 +/- 0.087 (in 3 folds)           0.404      0.086   \n",
       "dummy_most_frequent  0.000 +/- 0.000 (in 3 folds)           0.481      0.000   \n",
       "\n",
       "                    ROC-AUC (weighted OvO) per fold with abstention  \\\n",
       "linearsvm_ovr                          0.912 +/- 0.003 (in 2 folds)   \n",
       "lasso_multiclass                       0.912 +/- 0.010 (in 2 folds)   \n",
       "ridge_cv                               0.893 +/- 0.003 (in 2 folds)   \n",
       "xgboost                                                         NaN   \n",
       "rf_multiclass                          0.886 +/- 0.019 (in 2 folds)   \n",
       "elasticnet_cv                          0.886 +/- 0.020 (in 2 folds)   \n",
       "lasso_cv                               0.892 +/- 0.004 (in 2 folds)   \n",
       "dummy_stratified                                                NaN   \n",
       "dummy_most_frequent                    0.500 +/- 0.000 (in 2 folds)   \n",
       "\n",
       "                    ROC-AUC (macro OvO) per fold with abstention  ...  \\\n",
       "linearsvm_ovr                       0.915 +/- 0.002 (in 2 folds)  ...   \n",
       "lasso_multiclass                    0.914 +/- 0.007 (in 2 folds)  ...   \n",
       "ridge_cv                            0.899 +/- 0.000 (in 2 folds)  ...   \n",
       "xgboost                                                      NaN  ...   \n",
       "rf_multiclass                       0.884 +/- 0.011 (in 2 folds)  ...   \n",
       "elasticnet_cv                       0.887 +/- 0.021 (in 2 folds)  ...   \n",
       "lasso_cv                            0.896 +/- 0.003 (in 2 folds)  ...   \n",
       "dummy_stratified                                             NaN  ...   \n",
       "dummy_most_frequent                 0.500 +/- 0.000 (in 2 folds)  ...   \n",
       "\n",
       "                    Unknown/abstention proportion per fold with abstention  \\\n",
       "linearsvm_ovr                             0.013 +/- 0.000 (in 1 folds)       \n",
       "lasso_multiclass                          0.013 +/- 0.000 (in 1 folds)       \n",
       "ridge_cv                                  0.013 +/- 0.000 (in 1 folds)       \n",
       "xgboost                                                            NaN       \n",
       "rf_multiclass                             0.013 +/- 0.000 (in 1 folds)       \n",
       "elasticnet_cv                             0.013 +/- 0.000 (in 1 folds)       \n",
       "lasso_cv                                  0.013 +/- 0.000 (in 1 folds)       \n",
       "dummy_stratified                                                   NaN       \n",
       "dummy_most_frequent                       0.013 +/- 0.000 (in 1 folds)       \n",
       "\n",
       "                    Accuracy global with abstention  \\\n",
       "linearsvm_ovr                                 0.746   \n",
       "lasso_multiclass                              0.758   \n",
       "ridge_cv                                      0.546   \n",
       "xgboost                                         NaN   \n",
       "rf_multiclass                                 0.713   \n",
       "elasticnet_cv                                 0.600   \n",
       "lasso_cv                                      0.613   \n",
       "dummy_stratified                                NaN   \n",
       "dummy_most_frequent                           0.479   \n",
       "\n",
       "                    MCC global with abstention  \\\n",
       "linearsvm_ovr                            0.633   \n",
       "lasso_multiclass                         0.664   \n",
       "ridge_cv                                 0.284   \n",
       "xgboost                                    NaN   \n",
       "rf_multiclass                            0.568   \n",
       "elasticnet_cv                            0.372   \n",
       "lasso_cv                                 0.390   \n",
       "dummy_stratified                           NaN   \n",
       "dummy_most_frequent                      0.027   \n",
       "\n",
       "                    Unknown/abstention proportion global with abstention  \\\n",
       "linearsvm_ovr                                                    0.004     \n",
       "lasso_multiclass                                                 0.004     \n",
       "ridge_cv                                                         0.004     \n",
       "xgboost                                                            NaN     \n",
       "rf_multiclass                                                    0.004     \n",
       "elasticnet_cv                                                    0.004     \n",
       "lasso_cv                                                         0.004     \n",
       "dummy_stratified                                                   NaN     \n",
       "dummy_most_frequent                                              0.004     \n",
       "\n",
       "                    Abstention label global with abstention sample_size  \\\n",
       "linearsvm_ovr                                       Unknown         239   \n",
       "lasso_multiclass                                    Unknown         239   \n",
       "ridge_cv                                            Unknown         239   \n",
       "xgboost                                                 NaN         240   \n",
       "rf_multiclass                                       Unknown         239   \n",
       "elasticnet_cv                                       Unknown         239   \n",
       "lasso_cv                                            Unknown         239   \n",
       "dummy_stratified                                        NaN         240   \n",
       "dummy_most_frequent                                 Unknown         239   \n",
       "\n",
       "                    n_abstentions sample_size including abstentions  \\\n",
       "linearsvm_ovr                   1                               240   \n",
       "lasso_multiclass                1                               240   \n",
       "ridge_cv                        1                               240   \n",
       "xgboost                         0                               240   \n",
       "rf_multiclass                   1                               240   \n",
       "elasticnet_cv                   1                               240   \n",
       "lasso_cv                        1                               240   \n",
       "dummy_stratified                0                               240   \n",
       "dummy_most_frequent             1                               240   \n",
       "\n",
       "                    abstention_rate  missing_classes  \n",
       "linearsvm_ovr              0.004167            False  \n",
       "lasso_multiclass           0.004167            False  \n",
       "ridge_cv                   0.004167            False  \n",
       "xgboost                    0.000000            False  \n",
       "rf_multiclass              0.004167            False  \n",
       "elasticnet_cv              0.004167            False  \n",
       "lasso_cv                   0.004167            False  \n",
       "dummy_stratified           0.000000            False  \n",
       "dummy_most_frequent        0.004167             True  \n",
       "\n",
       "[9 rows x 24 columns]"
      ]
     },
     "metadata": {},
     "output_type": "display_data"
    },
    {
     "name": "stdout",
     "output_type": "stream",
     "text": [
      "GeneLocus.TCR, fold 0, TargetObsColumnEnum.disease_all_demographics_present, lasso_multiclass: best p value = 0.0005. Number of disease associated clusters: {'Covid19': 2, 'HIV': 10, 'Healthy/Background': 149, 'Lupus': 126}\n",
      "GeneLocus.TCR, fold 0, TargetObsColumnEnum.disease_all_demographics_present, rf_multiclass: best p value = 0.0005. Number of disease associated clusters: {'Covid19': 2, 'HIV': 10, 'Healthy/Background': 149, 'Lupus': 126}\n",
      "GeneLocus.TCR, fold 0, TargetObsColumnEnum.disease_all_demographics_present, linearsvm_ovr: best p value = 0.0005. Number of disease associated clusters: {'Covid19': 2, 'HIV': 10, 'Healthy/Background': 149, 'Lupus': 126}\n",
      "\n",
      "GeneLocus.TCR, fold 1, TargetObsColumnEnum.disease_all_demographics_present, lasso_multiclass: best p value = 0.001. Number of disease associated clusters: {'Covid19': 3, 'HIV': 28, 'Healthy/Background': 225, 'Lupus': 296}\n"
     ]
    },
    {
     "name": "stdout",
     "output_type": "stream",
     "text": [
      "GeneLocus.TCR, fold 1, TargetObsColumnEnum.disease_all_demographics_present, rf_multiclass: best p value = 0.001. Number of disease associated clusters: {'Covid19': 3, 'HIV': 28, 'Healthy/Background': 225, 'Lupus': 296}\n"
     ]
    },
    {
     "name": "stderr",
     "output_type": "stream",
     "text": [
      "2023-01-07 03:53:52,082 - analyze_convergent_clustering_models.ipynb - INFO - GeneLocus.TCR, TargetObsColumnEnum.covid_vs_healthy from /users/maximz/code/boyd-immune-repertoire-classification/data/data_v_20221224/convergent_clusters/TCR/covid_vs_healthy/train_smaller_model to /users/maximz/code/boyd-immune-repertoire-classification/out/convergent_clusters/TCR/covid_vs_healthy/train_smaller_model\n"
     ]
    },
    {
     "name": "stdout",
     "output_type": "stream",
     "text": [
      "GeneLocus.TCR, fold 1, TargetObsColumnEnum.disease_all_demographics_present, linearsvm_ovr: best p value = 0.001. Number of disease associated clusters: {'Covid19': 3, 'HIV': 28, 'Healthy/Background': 225, 'Lupus': 296}\n",
      "\n",
      "GeneLocus.TCR, fold 2, TargetObsColumnEnum.disease_all_demographics_present, lasso_multiclass: best p value = 0.005. Number of disease associated clusters: {'Covid19': 4, 'HIV': 112, 'Healthy/Background': 694, 'Lupus': 570}\n",
      "GeneLocus.TCR, fold 2, TargetObsColumnEnum.disease_all_demographics_present, rf_multiclass: best p value = 0.005. Number of disease associated clusters: {'Covid19': 4, 'HIV': 112, 'Healthy/Background': 694, 'Lupus': 570}\n",
      "GeneLocus.TCR, fold 2, TargetObsColumnEnum.disease_all_demographics_present, linearsvm_ovr: best p value = 0.01. Number of disease associated clusters: {'Covid19': 7, 'HIV': 135, 'Healthy/Background': 1170, 'Lupus': 1485}\n",
      "\n"
     ]
    },
    {
     "name": "stdout",
     "output_type": "stream",
     "text": [
      "GeneLocus.TCR TargetObsColumnEnum.covid_vs_healthy\n"
     ]
    },
    {
     "data": {
      "text/html": [
       "<div>\n",
       "<style scoped>\n",
       "    .dataframe tbody tr th:only-of-type {\n",
       "        vertical-align: middle;\n",
       "    }\n",
       "\n",
       "    .dataframe tbody tr th {\n",
       "        vertical-align: top;\n",
       "    }\n",
       "\n",
       "    .dataframe thead th {\n",
       "        text-align: right;\n",
       "    }\n",
       "</style>\n",
       "<table border=\"1\" class=\"dataframe\">\n",
       "  <thead>\n",
       "    <tr style=\"text-align: right;\">\n",
       "      <th></th>\n",
       "      <th>ROC-AUC (weighted OvO) per fold</th>\n",
       "      <th>ROC-AUC (macro OvO) per fold</th>\n",
       "      <th>au-PRC (weighted OvO) per fold</th>\n",
       "      <th>au-PRC (macro OvO) per fold</th>\n",
       "      <th>Accuracy per fold</th>\n",
       "      <th>MCC per fold</th>\n",
       "      <th>Accuracy global</th>\n",
       "      <th>MCC global</th>\n",
       "      <th>sample_size</th>\n",
       "      <th>n_abstentions</th>\n",
       "      <th>sample_size including abstentions</th>\n",
       "      <th>abstention_rate</th>\n",
       "      <th>missing_classes</th>\n",
       "    </tr>\n",
       "  </thead>\n",
       "  <tbody>\n",
       "    <tr>\n",
       "      <th>linearsvm_ovr</th>\n",
       "      <td>0.964 +/- 0.039 (in 3 folds)</td>\n",
       "      <td>0.964 +/- 0.039 (in 3 folds)</td>\n",
       "      <td>0.991 +/- 0.010 (in 3 folds)</td>\n",
       "      <td>0.991 +/- 0.010 (in 3 folds)</td>\n",
       "      <td>0.911 +/- 0.063 (in 3 folds)</td>\n",
       "      <td>0.791 +/- 0.107 (in 3 folds)</td>\n",
       "      <td>0.911</td>\n",
       "      <td>0.772</td>\n",
       "      <td>168</td>\n",
       "      <td>0</td>\n",
       "      <td>168</td>\n",
       "      <td>0.0</td>\n",
       "      <td>False</td>\n",
       "    </tr>\n",
       "    <tr>\n",
       "      <th>lasso_multiclass</th>\n",
       "      <td>0.964 +/- 0.039 (in 3 folds)</td>\n",
       "      <td>0.964 +/- 0.039 (in 3 folds)</td>\n",
       "      <td>0.990 +/- 0.010 (in 3 folds)</td>\n",
       "      <td>0.990 +/- 0.010 (in 3 folds)</td>\n",
       "      <td>0.923 +/- 0.044 (in 3 folds)</td>\n",
       "      <td>0.799 +/- 0.095 (in 3 folds)</td>\n",
       "      <td>0.923</td>\n",
       "      <td>0.791</td>\n",
       "      <td>168</td>\n",
       "      <td>0</td>\n",
       "      <td>168</td>\n",
       "      <td>0.0</td>\n",
       "      <td>False</td>\n",
       "    </tr>\n",
       "    <tr>\n",
       "      <th>lasso_cv</th>\n",
       "      <td>0.962 +/- 0.040 (in 3 folds)</td>\n",
       "      <td>0.962 +/- 0.040 (in 3 folds)</td>\n",
       "      <td>0.990 +/- 0.010 (in 3 folds)</td>\n",
       "      <td>0.990 +/- 0.010 (in 3 folds)</td>\n",
       "      <td>0.815 +/- 0.028 (in 3 folds)</td>\n",
       "      <td>0.382 +/- 0.148 (in 3 folds)</td>\n",
       "      <td>0.815</td>\n",
       "      <td>0.385</td>\n",
       "      <td>168</td>\n",
       "      <td>0</td>\n",
       "      <td>168</td>\n",
       "      <td>0.0</td>\n",
       "      <td>False</td>\n",
       "    </tr>\n",
       "    <tr>\n",
       "      <th>xgboost</th>\n",
       "      <td>0.962 +/- 0.029 (in 3 folds)</td>\n",
       "      <td>0.962 +/- 0.029 (in 3 folds)</td>\n",
       "      <td>0.987 +/- 0.008 (in 3 folds)</td>\n",
       "      <td>0.987 +/- 0.008 (in 3 folds)</td>\n",
       "      <td>0.905 +/- 0.019 (in 3 folds)</td>\n",
       "      <td>0.736 +/- 0.046 (in 3 folds)</td>\n",
       "      <td>0.905</td>\n",
       "      <td>0.719</td>\n",
       "      <td>168</td>\n",
       "      <td>0</td>\n",
       "      <td>168</td>\n",
       "      <td>0.0</td>\n",
       "      <td>False</td>\n",
       "    </tr>\n",
       "    <tr>\n",
       "      <th>elasticnet_cv</th>\n",
       "      <td>0.960 +/- 0.040 (in 3 folds)</td>\n",
       "      <td>0.960 +/- 0.040 (in 3 folds)</td>\n",
       "      <td>0.990 +/- 0.010 (in 3 folds)</td>\n",
       "      <td>0.990 +/- 0.010 (in 3 folds)</td>\n",
       "      <td>0.815 +/- 0.041 (in 3 folds)</td>\n",
       "      <td>0.328 +/- 0.288 (in 3 folds)</td>\n",
       "      <td>0.815</td>\n",
       "      <td>0.385</td>\n",
       "      <td>168</td>\n",
       "      <td>0</td>\n",
       "      <td>168</td>\n",
       "      <td>0.0</td>\n",
       "      <td>False</td>\n",
       "    </tr>\n",
       "    <tr>\n",
       "      <th>ridge_cv</th>\n",
       "      <td>0.947 +/- 0.052 (in 3 folds)</td>\n",
       "      <td>0.947 +/- 0.052 (in 3 folds)</td>\n",
       "      <td>0.987 +/- 0.014 (in 3 folds)</td>\n",
       "      <td>0.987 +/- 0.014 (in 3 folds)</td>\n",
       "      <td>0.774 +/- 0.007 (in 3 folds)</td>\n",
       "      <td>0.000 +/- 0.000 (in 3 folds)</td>\n",
       "      <td>0.774</td>\n",
       "      <td>0.000</td>\n",
       "      <td>168</td>\n",
       "      <td>0</td>\n",
       "      <td>168</td>\n",
       "      <td>0.0</td>\n",
       "      <td>True</td>\n",
       "    </tr>\n",
       "    <tr>\n",
       "      <th>rf_multiclass</th>\n",
       "      <td>0.943 +/- 0.049 (in 3 folds)</td>\n",
       "      <td>0.943 +/- 0.049 (in 3 folds)</td>\n",
       "      <td>0.975 +/- 0.021 (in 3 folds)</td>\n",
       "      <td>0.975 +/- 0.021 (in 3 folds)</td>\n",
       "      <td>0.911 +/- 0.030 (in 3 folds)</td>\n",
       "      <td>0.756 +/- 0.076 (in 3 folds)</td>\n",
       "      <td>0.911</td>\n",
       "      <td>0.735</td>\n",
       "      <td>168</td>\n",
       "      <td>0</td>\n",
       "      <td>168</td>\n",
       "      <td>0.0</td>\n",
       "      <td>False</td>\n",
       "    </tr>\n",
       "    <tr>\n",
       "      <th>dummy_most_frequent</th>\n",
       "      <td>0.500 +/- 0.000 (in 3 folds)</td>\n",
       "      <td>0.500 +/- 0.000 (in 3 folds)</td>\n",
       "      <td>0.774 +/- 0.007 (in 3 folds)</td>\n",
       "      <td>0.774 +/- 0.007 (in 3 folds)</td>\n",
       "      <td>0.774 +/- 0.007 (in 3 folds)</td>\n",
       "      <td>0.000 +/- 0.000 (in 3 folds)</td>\n",
       "      <td>0.774</td>\n",
       "      <td>0.000</td>\n",
       "      <td>168</td>\n",
       "      <td>0</td>\n",
       "      <td>168</td>\n",
       "      <td>0.0</td>\n",
       "      <td>True</td>\n",
       "    </tr>\n",
       "    <tr>\n",
       "      <th>dummy_stratified</th>\n",
       "      <td>0.411 +/- 0.029 (in 3 folds)</td>\n",
       "      <td>0.411 +/- 0.029 (in 3 folds)</td>\n",
       "      <td>0.744 +/- 0.017 (in 3 folds)</td>\n",
       "      <td>0.744 +/- 0.017 (in 3 folds)</td>\n",
       "      <td>0.578 +/- 0.023 (in 3 folds)</td>\n",
       "      <td>-0.174 +/- 0.060 (in 3 folds)</td>\n",
       "      <td>0.577</td>\n",
       "      <td>-0.175</td>\n",
       "      <td>168</td>\n",
       "      <td>0</td>\n",
       "      <td>168</td>\n",
       "      <td>0.0</td>\n",
       "      <td>False</td>\n",
       "    </tr>\n",
       "  </tbody>\n",
       "</table>\n",
       "</div>"
      ],
      "text/plain": [
       "                    ROC-AUC (weighted OvO) per fold  \\\n",
       "linearsvm_ovr          0.964 +/- 0.039 (in 3 folds)   \n",
       "lasso_multiclass       0.964 +/- 0.039 (in 3 folds)   \n",
       "lasso_cv               0.962 +/- 0.040 (in 3 folds)   \n",
       "xgboost                0.962 +/- 0.029 (in 3 folds)   \n",
       "elasticnet_cv          0.960 +/- 0.040 (in 3 folds)   \n",
       "ridge_cv               0.947 +/- 0.052 (in 3 folds)   \n",
       "rf_multiclass          0.943 +/- 0.049 (in 3 folds)   \n",
       "dummy_most_frequent    0.500 +/- 0.000 (in 3 folds)   \n",
       "dummy_stratified       0.411 +/- 0.029 (in 3 folds)   \n",
       "\n",
       "                     ROC-AUC (macro OvO) per fold  \\\n",
       "linearsvm_ovr        0.964 +/- 0.039 (in 3 folds)   \n",
       "lasso_multiclass     0.964 +/- 0.039 (in 3 folds)   \n",
       "lasso_cv             0.962 +/- 0.040 (in 3 folds)   \n",
       "xgboost              0.962 +/- 0.029 (in 3 folds)   \n",
       "elasticnet_cv        0.960 +/- 0.040 (in 3 folds)   \n",
       "ridge_cv             0.947 +/- 0.052 (in 3 folds)   \n",
       "rf_multiclass        0.943 +/- 0.049 (in 3 folds)   \n",
       "dummy_most_frequent  0.500 +/- 0.000 (in 3 folds)   \n",
       "dummy_stratified     0.411 +/- 0.029 (in 3 folds)   \n",
       "\n",
       "                    au-PRC (weighted OvO) per fold  \\\n",
       "linearsvm_ovr         0.991 +/- 0.010 (in 3 folds)   \n",
       "lasso_multiclass      0.990 +/- 0.010 (in 3 folds)   \n",
       "lasso_cv              0.990 +/- 0.010 (in 3 folds)   \n",
       "xgboost               0.987 +/- 0.008 (in 3 folds)   \n",
       "elasticnet_cv         0.990 +/- 0.010 (in 3 folds)   \n",
       "ridge_cv              0.987 +/- 0.014 (in 3 folds)   \n",
       "rf_multiclass         0.975 +/- 0.021 (in 3 folds)   \n",
       "dummy_most_frequent   0.774 +/- 0.007 (in 3 folds)   \n",
       "dummy_stratified      0.744 +/- 0.017 (in 3 folds)   \n",
       "\n",
       "                      au-PRC (macro OvO) per fold  \\\n",
       "linearsvm_ovr        0.991 +/- 0.010 (in 3 folds)   \n",
       "lasso_multiclass     0.990 +/- 0.010 (in 3 folds)   \n",
       "lasso_cv             0.990 +/- 0.010 (in 3 folds)   \n",
       "xgboost              0.987 +/- 0.008 (in 3 folds)   \n",
       "elasticnet_cv        0.990 +/- 0.010 (in 3 folds)   \n",
       "ridge_cv             0.987 +/- 0.014 (in 3 folds)   \n",
       "rf_multiclass        0.975 +/- 0.021 (in 3 folds)   \n",
       "dummy_most_frequent  0.774 +/- 0.007 (in 3 folds)   \n",
       "dummy_stratified     0.744 +/- 0.017 (in 3 folds)   \n",
       "\n",
       "                                Accuracy per fold  \\\n",
       "linearsvm_ovr        0.911 +/- 0.063 (in 3 folds)   \n",
       "lasso_multiclass     0.923 +/- 0.044 (in 3 folds)   \n",
       "lasso_cv             0.815 +/- 0.028 (in 3 folds)   \n",
       "xgboost              0.905 +/- 0.019 (in 3 folds)   \n",
       "elasticnet_cv        0.815 +/- 0.041 (in 3 folds)   \n",
       "ridge_cv             0.774 +/- 0.007 (in 3 folds)   \n",
       "rf_multiclass        0.911 +/- 0.030 (in 3 folds)   \n",
       "dummy_most_frequent  0.774 +/- 0.007 (in 3 folds)   \n",
       "dummy_stratified     0.578 +/- 0.023 (in 3 folds)   \n",
       "\n",
       "                                      MCC per fold Accuracy global MCC global  \\\n",
       "linearsvm_ovr         0.791 +/- 0.107 (in 3 folds)           0.911      0.772   \n",
       "lasso_multiclass      0.799 +/- 0.095 (in 3 folds)           0.923      0.791   \n",
       "lasso_cv              0.382 +/- 0.148 (in 3 folds)           0.815      0.385   \n",
       "xgboost               0.736 +/- 0.046 (in 3 folds)           0.905      0.719   \n",
       "elasticnet_cv         0.328 +/- 0.288 (in 3 folds)           0.815      0.385   \n",
       "ridge_cv              0.000 +/- 0.000 (in 3 folds)           0.774      0.000   \n",
       "rf_multiclass         0.756 +/- 0.076 (in 3 folds)           0.911      0.735   \n",
       "dummy_most_frequent   0.000 +/- 0.000 (in 3 folds)           0.774      0.000   \n",
       "dummy_stratified     -0.174 +/- 0.060 (in 3 folds)           0.577     -0.175   \n",
       "\n",
       "                     sample_size  n_abstentions  \\\n",
       "linearsvm_ovr                168              0   \n",
       "lasso_multiclass             168              0   \n",
       "lasso_cv                     168              0   \n",
       "xgboost                      168              0   \n",
       "elasticnet_cv                168              0   \n",
       "ridge_cv                     168              0   \n",
       "rf_multiclass                168              0   \n",
       "dummy_most_frequent          168              0   \n",
       "dummy_stratified             168              0   \n",
       "\n",
       "                     sample_size including abstentions  abstention_rate  \\\n",
       "linearsvm_ovr                                      168              0.0   \n",
       "lasso_multiclass                                   168              0.0   \n",
       "lasso_cv                                           168              0.0   \n",
       "xgboost                                            168              0.0   \n",
       "elasticnet_cv                                      168              0.0   \n",
       "ridge_cv                                           168              0.0   \n",
       "rf_multiclass                                      168              0.0   \n",
       "dummy_most_frequent                                168              0.0   \n",
       "dummy_stratified                                   168              0.0   \n",
       "\n",
       "                     missing_classes  \n",
       "linearsvm_ovr                  False  \n",
       "lasso_multiclass               False  \n",
       "lasso_cv                       False  \n",
       "xgboost                        False  \n",
       "elasticnet_cv                  False  \n",
       "ridge_cv                        True  \n",
       "rf_multiclass                  False  \n",
       "dummy_most_frequent             True  \n",
       "dummy_stratified               False  "
      ]
     },
     "metadata": {},
     "output_type": "display_data"
    },
    {
     "name": "stdout",
     "output_type": "stream",
     "text": [
      "GeneLocus.TCR, fold 0, TargetObsColumnEnum.covid_vs_healthy, lasso_multiclass: best p value = 0.0005. Number of disease associated clusters: {'Covid19': 2, 'Healthy/Background': 275}\n",
      "GeneLocus.TCR, fold 0, TargetObsColumnEnum.covid_vs_healthy, rf_multiclass: best p value = 0.001. Number of disease associated clusters: {'Covid19': 2, 'Healthy/Background': 350}\n",
      "GeneLocus.TCR, fold 0, TargetObsColumnEnum.covid_vs_healthy, linearsvm_ovr: best p value = 0.0005. Number of disease associated clusters: {'Covid19': 2, 'Healthy/Background': 275}\n",
      "\n",
      "GeneLocus.TCR, fold 1, TargetObsColumnEnum.covid_vs_healthy, lasso_multiclass: best p value = 0.01. Number of disease associated clusters: {'Covid19': 11, 'Healthy/Background': 994}\n"
     ]
    },
    {
     "name": "stdout",
     "output_type": "stream",
     "text": [
      "GeneLocus.TCR, fold 1, TargetObsColumnEnum.covid_vs_healthy, rf_multiclass: best p value = 0.01. Number of disease associated clusters: {'Covid19': 11, 'Healthy/Background': 994}\n",
      "GeneLocus.TCR, fold 1, TargetObsColumnEnum.covid_vs_healthy, linearsvm_ovr: best p value = 0.01. Number of disease associated clusters: {'Covid19': 11, 'Healthy/Background': 994}"
     ]
    },
    {
     "name": "stderr",
     "output_type": "stream",
     "text": [
      "2023-01-07 03:53:54,651 - analyze_convergent_clustering_models.ipynb - INFO - GeneLocus.TCR, TargetObsColumnEnum.hiv_vs_healthy from /users/maximz/code/boyd-immune-repertoire-classification/data/data_v_20221224/convergent_clusters/TCR/hiv_vs_healthy/train_smaller_model to /users/maximz/code/boyd-immune-repertoire-classification/out/convergent_clusters/TCR/hiv_vs_healthy/train_smaller_model\n"
     ]
    },
    {
     "name": "stdout",
     "output_type": "stream",
     "text": [
      "\n",
      "\n",
      "GeneLocus.TCR, fold 2, TargetObsColumnEnum.covid_vs_healthy, lasso_multiclass: best p value = 0.01. Number of disease associated clusters: {'Covid19': 5, 'Healthy/Background': 924}\n",
      "GeneLocus.TCR, fold 2, TargetObsColumnEnum.covid_vs_healthy, rf_multiclass: best p value = 0.01. Number of disease associated clusters: {'Covid19': 5, 'Healthy/Background': 924}\n",
      "GeneLocus.TCR, fold 2, TargetObsColumnEnum.covid_vs_healthy, linearsvm_ovr: best p value = 0.001. Number of disease associated clusters: {'Covid19': 1, 'Healthy/Background': 431}\n",
      "\n"
     ]
    },
    {
     "name": "stdout",
     "output_type": "stream",
     "text": [
      "GeneLocus.TCR TargetObsColumnEnum.hiv_vs_healthy\n"
     ]
    },
    {
     "data": {
      "text/html": [
       "<div>\n",
       "<style scoped>\n",
       "    .dataframe tbody tr th:only-of-type {\n",
       "        vertical-align: middle;\n",
       "    }\n",
       "\n",
       "    .dataframe tbody tr th {\n",
       "        vertical-align: top;\n",
       "    }\n",
       "\n",
       "    .dataframe thead th {\n",
       "        text-align: right;\n",
       "    }\n",
       "</style>\n",
       "<table border=\"1\" class=\"dataframe\">\n",
       "  <thead>\n",
       "    <tr style=\"text-align: right;\">\n",
       "      <th></th>\n",
       "      <th>ROC-AUC (weighted OvO) per fold</th>\n",
       "      <th>ROC-AUC (macro OvO) per fold</th>\n",
       "      <th>au-PRC (weighted OvO) per fold</th>\n",
       "      <th>au-PRC (macro OvO) per fold</th>\n",
       "      <th>Accuracy per fold</th>\n",
       "      <th>MCC per fold</th>\n",
       "      <th>Accuracy global</th>\n",
       "      <th>MCC global</th>\n",
       "      <th>sample_size</th>\n",
       "      <th>n_abstentions</th>\n",
       "      <th>sample_size including abstentions</th>\n",
       "      <th>abstention_rate</th>\n",
       "      <th>missing_classes</th>\n",
       "    </tr>\n",
       "  </thead>\n",
       "  <tbody>\n",
       "    <tr>\n",
       "      <th>linearsvm_ovr</th>\n",
       "      <td>0.881 +/- 0.023 (in 3 folds)</td>\n",
       "      <td>0.881 +/- 0.023 (in 3 folds)</td>\n",
       "      <td>0.942 +/- 0.009 (in 3 folds)</td>\n",
       "      <td>0.942 +/- 0.009 (in 3 folds)</td>\n",
       "      <td>0.783 +/- 0.017 (in 3 folds)</td>\n",
       "      <td>0.529 +/- 0.028 (in 3 folds)</td>\n",
       "      <td>0.784</td>\n",
       "      <td>0.500</td>\n",
       "      <td>194</td>\n",
       "      <td>0</td>\n",
       "      <td>194</td>\n",
       "      <td>0.0</td>\n",
       "      <td>False</td>\n",
       "    </tr>\n",
       "    <tr>\n",
       "      <th>lasso_multiclass</th>\n",
       "      <td>0.873 +/- 0.023 (in 3 folds)</td>\n",
       "      <td>0.873 +/- 0.023 (in 3 folds)</td>\n",
       "      <td>0.939 +/- 0.007 (in 3 folds)</td>\n",
       "      <td>0.939 +/- 0.007 (in 3 folds)</td>\n",
       "      <td>0.768 +/- 0.017 (in 3 folds)</td>\n",
       "      <td>0.511 +/- 0.015 (in 3 folds)</td>\n",
       "      <td>0.768</td>\n",
       "      <td>0.506</td>\n",
       "      <td>194</td>\n",
       "      <td>0</td>\n",
       "      <td>194</td>\n",
       "      <td>0.0</td>\n",
       "      <td>False</td>\n",
       "    </tr>\n",
       "    <tr>\n",
       "      <th>lasso_cv</th>\n",
       "      <td>0.857 +/- 0.011 (in 3 folds)</td>\n",
       "      <td>0.857 +/- 0.011 (in 3 folds)</td>\n",
       "      <td>0.934 +/- 0.004 (in 3 folds)</td>\n",
       "      <td>0.934 +/- 0.004 (in 3 folds)</td>\n",
       "      <td>0.773 +/- 0.017 (in 3 folds)</td>\n",
       "      <td>0.465 +/- 0.061 (in 3 folds)</td>\n",
       "      <td>0.773</td>\n",
       "      <td>0.462</td>\n",
       "      <td>194</td>\n",
       "      <td>0</td>\n",
       "      <td>194</td>\n",
       "      <td>0.0</td>\n",
       "      <td>False</td>\n",
       "    </tr>\n",
       "    <tr>\n",
       "      <th>elasticnet_cv</th>\n",
       "      <td>0.854 +/- 0.012 (in 3 folds)</td>\n",
       "      <td>0.854 +/- 0.012 (in 3 folds)</td>\n",
       "      <td>0.933 +/- 0.005 (in 3 folds)</td>\n",
       "      <td>0.933 +/- 0.005 (in 3 folds)</td>\n",
       "      <td>0.768 +/- 0.016 (in 3 folds)</td>\n",
       "      <td>0.451 +/- 0.051 (in 3 folds)</td>\n",
       "      <td>0.768</td>\n",
       "      <td>0.448</td>\n",
       "      <td>194</td>\n",
       "      <td>0</td>\n",
       "      <td>194</td>\n",
       "      <td>0.0</td>\n",
       "      <td>False</td>\n",
       "    </tr>\n",
       "    <tr>\n",
       "      <th>ridge_cv</th>\n",
       "      <td>0.853 +/- 0.045 (in 3 folds)</td>\n",
       "      <td>0.853 +/- 0.045 (in 3 folds)</td>\n",
       "      <td>0.930 +/- 0.016 (in 3 folds)</td>\n",
       "      <td>0.930 +/- 0.016 (in 3 folds)</td>\n",
       "      <td>0.696 +/- 0.047 (in 3 folds)</td>\n",
       "      <td>0.132 +/- 0.228 (in 3 folds)</td>\n",
       "      <td>0.696</td>\n",
       "      <td>0.217</td>\n",
       "      <td>194</td>\n",
       "      <td>0</td>\n",
       "      <td>194</td>\n",
       "      <td>0.0</td>\n",
       "      <td>False</td>\n",
       "    </tr>\n",
       "    <tr>\n",
       "      <th>xgboost</th>\n",
       "      <td>0.853 +/- 0.013 (in 3 folds)</td>\n",
       "      <td>0.853 +/- 0.013 (in 3 folds)</td>\n",
       "      <td>0.924 +/- 0.008 (in 3 folds)</td>\n",
       "      <td>0.924 +/- 0.008 (in 3 folds)</td>\n",
       "      <td>0.778 +/- 0.022 (in 3 folds)</td>\n",
       "      <td>0.500 +/- 0.071 (in 3 folds)</td>\n",
       "      <td>0.778</td>\n",
       "      <td>0.497</td>\n",
       "      <td>194</td>\n",
       "      <td>0</td>\n",
       "      <td>194</td>\n",
       "      <td>0.0</td>\n",
       "      <td>False</td>\n",
       "    </tr>\n",
       "    <tr>\n",
       "      <th>rf_multiclass</th>\n",
       "      <td>0.839 +/- 0.004 (in 3 folds)</td>\n",
       "      <td>0.839 +/- 0.004 (in 3 folds)</td>\n",
       "      <td>0.904 +/- 0.011 (in 3 folds)</td>\n",
       "      <td>0.904 +/- 0.011 (in 3 folds)</td>\n",
       "      <td>0.778 +/- 0.016 (in 3 folds)</td>\n",
       "      <td>0.523 +/- 0.076 (in 3 folds)</td>\n",
       "      <td>0.778</td>\n",
       "      <td>0.519</td>\n",
       "      <td>194</td>\n",
       "      <td>0</td>\n",
       "      <td>194</td>\n",
       "      <td>0.0</td>\n",
       "      <td>False</td>\n",
       "    </tr>\n",
       "    <tr>\n",
       "      <th>dummy_most_frequent</th>\n",
       "      <td>0.500 +/- 0.000 (in 3 folds)</td>\n",
       "      <td>0.500 +/- 0.000 (in 3 folds)</td>\n",
       "      <td>0.670 +/- 0.008 (in 3 folds)</td>\n",
       "      <td>0.670 +/- 0.008 (in 3 folds)</td>\n",
       "      <td>0.670 +/- 0.008 (in 3 folds)</td>\n",
       "      <td>0.000 +/- 0.000 (in 3 folds)</td>\n",
       "      <td>0.670</td>\n",
       "      <td>0.000</td>\n",
       "      <td>194</td>\n",
       "      <td>0</td>\n",
       "      <td>194</td>\n",
       "      <td>0.0</td>\n",
       "      <td>True</td>\n",
       "    </tr>\n",
       "    <tr>\n",
       "      <th>dummy_stratified</th>\n",
       "      <td>0.467 +/- 0.016 (in 3 folds)</td>\n",
       "      <td>0.467 +/- 0.016 (in 3 folds)</td>\n",
       "      <td>0.656 +/- 0.003 (in 3 folds)</td>\n",
       "      <td>0.656 +/- 0.003 (in 3 folds)</td>\n",
       "      <td>0.541 +/- 0.012 (in 3 folds)</td>\n",
       "      <td>-0.068 +/- 0.032 (in 3 folds)</td>\n",
       "      <td>0.541</td>\n",
       "      <td>-0.067</td>\n",
       "      <td>194</td>\n",
       "      <td>0</td>\n",
       "      <td>194</td>\n",
       "      <td>0.0</td>\n",
       "      <td>False</td>\n",
       "    </tr>\n",
       "  </tbody>\n",
       "</table>\n",
       "</div>"
      ],
      "text/plain": [
       "                    ROC-AUC (weighted OvO) per fold  \\\n",
       "linearsvm_ovr          0.881 +/- 0.023 (in 3 folds)   \n",
       "lasso_multiclass       0.873 +/- 0.023 (in 3 folds)   \n",
       "lasso_cv               0.857 +/- 0.011 (in 3 folds)   \n",
       "elasticnet_cv          0.854 +/- 0.012 (in 3 folds)   \n",
       "ridge_cv               0.853 +/- 0.045 (in 3 folds)   \n",
       "xgboost                0.853 +/- 0.013 (in 3 folds)   \n",
       "rf_multiclass          0.839 +/- 0.004 (in 3 folds)   \n",
       "dummy_most_frequent    0.500 +/- 0.000 (in 3 folds)   \n",
       "dummy_stratified       0.467 +/- 0.016 (in 3 folds)   \n",
       "\n",
       "                     ROC-AUC (macro OvO) per fold  \\\n",
       "linearsvm_ovr        0.881 +/- 0.023 (in 3 folds)   \n",
       "lasso_multiclass     0.873 +/- 0.023 (in 3 folds)   \n",
       "lasso_cv             0.857 +/- 0.011 (in 3 folds)   \n",
       "elasticnet_cv        0.854 +/- 0.012 (in 3 folds)   \n",
       "ridge_cv             0.853 +/- 0.045 (in 3 folds)   \n",
       "xgboost              0.853 +/- 0.013 (in 3 folds)   \n",
       "rf_multiclass        0.839 +/- 0.004 (in 3 folds)   \n",
       "dummy_most_frequent  0.500 +/- 0.000 (in 3 folds)   \n",
       "dummy_stratified     0.467 +/- 0.016 (in 3 folds)   \n",
       "\n",
       "                    au-PRC (weighted OvO) per fold  \\\n",
       "linearsvm_ovr         0.942 +/- 0.009 (in 3 folds)   \n",
       "lasso_multiclass      0.939 +/- 0.007 (in 3 folds)   \n",
       "lasso_cv              0.934 +/- 0.004 (in 3 folds)   \n",
       "elasticnet_cv         0.933 +/- 0.005 (in 3 folds)   \n",
       "ridge_cv              0.930 +/- 0.016 (in 3 folds)   \n",
       "xgboost               0.924 +/- 0.008 (in 3 folds)   \n",
       "rf_multiclass         0.904 +/- 0.011 (in 3 folds)   \n",
       "dummy_most_frequent   0.670 +/- 0.008 (in 3 folds)   \n",
       "dummy_stratified      0.656 +/- 0.003 (in 3 folds)   \n",
       "\n",
       "                      au-PRC (macro OvO) per fold  \\\n",
       "linearsvm_ovr        0.942 +/- 0.009 (in 3 folds)   \n",
       "lasso_multiclass     0.939 +/- 0.007 (in 3 folds)   \n",
       "lasso_cv             0.934 +/- 0.004 (in 3 folds)   \n",
       "elasticnet_cv        0.933 +/- 0.005 (in 3 folds)   \n",
       "ridge_cv             0.930 +/- 0.016 (in 3 folds)   \n",
       "xgboost              0.924 +/- 0.008 (in 3 folds)   \n",
       "rf_multiclass        0.904 +/- 0.011 (in 3 folds)   \n",
       "dummy_most_frequent  0.670 +/- 0.008 (in 3 folds)   \n",
       "dummy_stratified     0.656 +/- 0.003 (in 3 folds)   \n",
       "\n",
       "                                Accuracy per fold  \\\n",
       "linearsvm_ovr        0.783 +/- 0.017 (in 3 folds)   \n",
       "lasso_multiclass     0.768 +/- 0.017 (in 3 folds)   \n",
       "lasso_cv             0.773 +/- 0.017 (in 3 folds)   \n",
       "elasticnet_cv        0.768 +/- 0.016 (in 3 folds)   \n",
       "ridge_cv             0.696 +/- 0.047 (in 3 folds)   \n",
       "xgboost              0.778 +/- 0.022 (in 3 folds)   \n",
       "rf_multiclass        0.778 +/- 0.016 (in 3 folds)   \n",
       "dummy_most_frequent  0.670 +/- 0.008 (in 3 folds)   \n",
       "dummy_stratified     0.541 +/- 0.012 (in 3 folds)   \n",
       "\n",
       "                                      MCC per fold Accuracy global MCC global  \\\n",
       "linearsvm_ovr         0.529 +/- 0.028 (in 3 folds)           0.784      0.500   \n",
       "lasso_multiclass      0.511 +/- 0.015 (in 3 folds)           0.768      0.506   \n",
       "lasso_cv              0.465 +/- 0.061 (in 3 folds)           0.773      0.462   \n",
       "elasticnet_cv         0.451 +/- 0.051 (in 3 folds)           0.768      0.448   \n",
       "ridge_cv              0.132 +/- 0.228 (in 3 folds)           0.696      0.217   \n",
       "xgboost               0.500 +/- 0.071 (in 3 folds)           0.778      0.497   \n",
       "rf_multiclass         0.523 +/- 0.076 (in 3 folds)           0.778      0.519   \n",
       "dummy_most_frequent   0.000 +/- 0.000 (in 3 folds)           0.670      0.000   \n",
       "dummy_stratified     -0.068 +/- 0.032 (in 3 folds)           0.541     -0.067   \n",
       "\n",
       "                     sample_size  n_abstentions  \\\n",
       "linearsvm_ovr                194              0   \n",
       "lasso_multiclass             194              0   \n",
       "lasso_cv                     194              0   \n",
       "elasticnet_cv                194              0   \n",
       "ridge_cv                     194              0   \n",
       "xgboost                      194              0   \n",
       "rf_multiclass                194              0   \n",
       "dummy_most_frequent          194              0   \n",
       "dummy_stratified             194              0   \n",
       "\n",
       "                     sample_size including abstentions  abstention_rate  \\\n",
       "linearsvm_ovr                                      194              0.0   \n",
       "lasso_multiclass                                   194              0.0   \n",
       "lasso_cv                                           194              0.0   \n",
       "elasticnet_cv                                      194              0.0   \n",
       "ridge_cv                                           194              0.0   \n",
       "xgboost                                            194              0.0   \n",
       "rf_multiclass                                      194              0.0   \n",
       "dummy_most_frequent                                194              0.0   \n",
       "dummy_stratified                                   194              0.0   \n",
       "\n",
       "                     missing_classes  \n",
       "linearsvm_ovr                  False  \n",
       "lasso_multiclass               False  \n",
       "lasso_cv                       False  \n",
       "elasticnet_cv                  False  \n",
       "ridge_cv                       False  \n",
       "xgboost                        False  \n",
       "rf_multiclass                  False  \n",
       "dummy_most_frequent             True  \n",
       "dummy_stratified               False  "
      ]
     },
     "metadata": {},
     "output_type": "display_data"
    },
    {
     "name": "stdout",
     "output_type": "stream",
     "text": [
      "GeneLocus.TCR, fold 0, TargetObsColumnEnum.hiv_vs_healthy, lasso_multiclass: best p value = 0.0005. Number of disease associated clusters: {'HIV': 3, 'Healthy/Background': 128}\n",
      "GeneLocus.TCR, fold 0, TargetObsColumnEnum.hiv_vs_healthy, rf_multiclass: best p value = 0.001. Number of disease associated clusters: {'HIV': 6, 'Healthy/Background': 176}\n",
      "GeneLocus.TCR, fold 0, TargetObsColumnEnum.hiv_vs_healthy, linearsvm_ovr: best p value = 0.001. Number of disease associated clusters: {'HIV': 6, 'Healthy/Background': 176}\n",
      "\n",
      "GeneLocus.TCR, fold 1, TargetObsColumnEnum.hiv_vs_healthy, lasso_multiclass: best p value = 0.005. Number of disease associated clusters: {'HIV': 40, 'Healthy/Background': 434}\n",
      "GeneLocus.TCR, fold 1, TargetObsColumnEnum.hiv_vs_healthy, rf_multiclass: best p value = 0.0005. Number of disease associated clusters: {'HIV': 7, 'Healthy/Background': 126}\n"
     ]
    },
    {
     "name": "stdout",
     "output_type": "stream",
     "text": [
      "GeneLocus.TCR, fold 1, TargetObsColumnEnum.hiv_vs_healthy, linearsvm_ovr: best p value = 0.005. Number of disease associated clusters: {'HIV': 40, 'Healthy/Background': 434}\n",
      "\n"
     ]
    },
    {
     "name": "stderr",
     "output_type": "stream",
     "text": [
      "2023-01-07 03:53:57,137 - analyze_convergent_clustering_models.ipynb - INFO - GeneLocus.TCR, TargetObsColumnEnum.lupus_vs_healthy from /users/maximz/code/boyd-immune-repertoire-classification/data/data_v_20221224/convergent_clusters/TCR/lupus_vs_healthy/train_smaller_model to /users/maximz/code/boyd-immune-repertoire-classification/out/convergent_clusters/TCR/lupus_vs_healthy/train_smaller_model\n"
     ]
    },
    {
     "name": "stdout",
     "output_type": "stream",
     "text": [
      "GeneLocus.TCR, fold 2, TargetObsColumnEnum.hiv_vs_healthy, lasso_multiclass: best p value = 0.01. Number of disease associated clusters: {'HIV': 47, 'Healthy/Background': 598}\n",
      "GeneLocus.TCR, fold 2, TargetObsColumnEnum.hiv_vs_healthy, rf_multiclass: best p value = 0.005. Number of disease associated clusters: {'HIV': 31, 'Healthy/Background': 442}\n",
      "GeneLocus.TCR, fold 2, TargetObsColumnEnum.hiv_vs_healthy, linearsvm_ovr: best p value = 0.05. Number of disease associated clusters: {'HIV': 1136, 'Healthy/Background': 2002}\n",
      "\n"
     ]
    },
    {
     "name": "stdout",
     "output_type": "stream",
     "text": [
      "GeneLocus.TCR TargetObsColumnEnum.lupus_vs_healthy\n"
     ]
    },
    {
     "data": {
      "text/html": [
       "<div>\n",
       "<style scoped>\n",
       "    .dataframe tbody tr th:only-of-type {\n",
       "        vertical-align: middle;\n",
       "    }\n",
       "\n",
       "    .dataframe tbody tr th {\n",
       "        vertical-align: top;\n",
       "    }\n",
       "\n",
       "    .dataframe thead th {\n",
       "        text-align: right;\n",
       "    }\n",
       "</style>\n",
       "<table border=\"1\" class=\"dataframe\">\n",
       "  <thead>\n",
       "    <tr style=\"text-align: right;\">\n",
       "      <th></th>\n",
       "      <th>ROC-AUC (weighted OvO) per fold</th>\n",
       "      <th>ROC-AUC (macro OvO) per fold</th>\n",
       "      <th>au-PRC (weighted OvO) per fold</th>\n",
       "      <th>au-PRC (macro OvO) per fold</th>\n",
       "      <th>Accuracy per fold</th>\n",
       "      <th>MCC per fold</th>\n",
       "      <th>Accuracy global</th>\n",
       "      <th>MCC global</th>\n",
       "      <th>Accuracy per fold with abstention</th>\n",
       "      <th>MCC per fold with abstention</th>\n",
       "      <th>...</th>\n",
       "      <th>au-PRC (macro OvO) per fold with abstention</th>\n",
       "      <th>Accuracy global with abstention</th>\n",
       "      <th>MCC global with abstention</th>\n",
       "      <th>Unknown/abstention proportion global with abstention</th>\n",
       "      <th>Abstention label global with abstention</th>\n",
       "      <th>sample_size</th>\n",
       "      <th>n_abstentions</th>\n",
       "      <th>sample_size including abstentions</th>\n",
       "      <th>abstention_rate</th>\n",
       "      <th>missing_classes</th>\n",
       "    </tr>\n",
       "  </thead>\n",
       "  <tbody>\n",
       "    <tr>\n",
       "      <th>elasticnet_cv</th>\n",
       "      <td>0.951 +/- 0.033 (in 3 folds)</td>\n",
       "      <td>0.951 +/- 0.033 (in 3 folds)</td>\n",
       "      <td>0.892 +/- 0.058 (in 3 folds)</td>\n",
       "      <td>0.892 +/- 0.058 (in 3 folds)</td>\n",
       "      <td>0.788 +/- 0.020 (in 3 folds)</td>\n",
       "      <td>0.249 +/- 0.219 (in 3 folds)</td>\n",
       "      <td>0.788</td>\n",
       "      <td>0.309</td>\n",
       "      <td>0.779 +/- 0.021 (in 3 folds)</td>\n",
       "      <td>0.264 +/- 0.127 (in 3 folds)</td>\n",
       "      <td>...</td>\n",
       "      <td>0.825 +/- 0.000 (in 1 folds)</td>\n",
       "      <td>0.779</td>\n",
       "      <td>0.275</td>\n",
       "      <td>0.012</td>\n",
       "      <td>Unknown</td>\n",
       "      <td>170</td>\n",
       "      <td>2</td>\n",
       "      <td>172</td>\n",
       "      <td>0.011628</td>\n",
       "      <td>False</td>\n",
       "    </tr>\n",
       "    <tr>\n",
       "      <th>ridge_cv</th>\n",
       "      <td>0.945 +/- 0.029 (in 3 folds)</td>\n",
       "      <td>0.945 +/- 0.029 (in 3 folds)</td>\n",
       "      <td>0.875 +/- 0.054 (in 3 folds)</td>\n",
       "      <td>0.875 +/- 0.054 (in 3 folds)</td>\n",
       "      <td>0.759 +/- 0.008 (in 3 folds)</td>\n",
       "      <td>0.000 +/- 0.000 (in 3 folds)</td>\n",
       "      <td>0.759</td>\n",
       "      <td>0.000</td>\n",
       "      <td>0.750 +/- 0.008 (in 3 folds)</td>\n",
       "      <td>0.027 +/- 0.081 (in 3 folds)</td>\n",
       "      <td>...</td>\n",
       "      <td>0.824 +/- 0.000 (in 1 folds)</td>\n",
       "      <td>0.750</td>\n",
       "      <td>0.032</td>\n",
       "      <td>0.012</td>\n",
       "      <td>Unknown</td>\n",
       "      <td>170</td>\n",
       "      <td>2</td>\n",
       "      <td>172</td>\n",
       "      <td>0.011628</td>\n",
       "      <td>True</td>\n",
       "    </tr>\n",
       "    <tr>\n",
       "      <th>linearsvm_ovr</th>\n",
       "      <td>0.925 +/- 0.080 (in 3 folds)</td>\n",
       "      <td>0.925 +/- 0.080 (in 3 folds)</td>\n",
       "      <td>0.862 +/- 0.117 (in 3 folds)</td>\n",
       "      <td>0.862 +/- 0.117 (in 3 folds)</td>\n",
       "      <td>0.898 +/- 0.047 (in 3 folds)</td>\n",
       "      <td>0.724 +/- 0.122 (in 3 folds)</td>\n",
       "      <td>0.899</td>\n",
       "      <td>0.720</td>\n",
       "      <td>0.878 +/- 0.053 (in 3 folds)</td>\n",
       "      <td>0.681 +/- 0.125 (in 3 folds)</td>\n",
       "      <td>...</td>\n",
       "      <td>NaN</td>\n",
       "      <td>0.878</td>\n",
       "      <td>0.675</td>\n",
       "      <td>0.023</td>\n",
       "      <td>Unknown</td>\n",
       "      <td>168</td>\n",
       "      <td>4</td>\n",
       "      <td>172</td>\n",
       "      <td>0.023256</td>\n",
       "      <td>False</td>\n",
       "    </tr>\n",
       "    <tr>\n",
       "      <th>lasso_multiclass</th>\n",
       "      <td>0.925 +/- 0.080 (in 3 folds)</td>\n",
       "      <td>0.925 +/- 0.080 (in 3 folds)</td>\n",
       "      <td>0.862 +/- 0.117 (in 3 folds)</td>\n",
       "      <td>0.862 +/- 0.117 (in 3 folds)</td>\n",
       "      <td>0.892 +/- 0.038 (in 3 folds)</td>\n",
       "      <td>0.708 +/- 0.096 (in 3 folds)</td>\n",
       "      <td>0.893</td>\n",
       "      <td>0.701</td>\n",
       "      <td>0.872 +/- 0.045 (in 3 folds)</td>\n",
       "      <td>0.665 +/- 0.100 (in 3 folds)</td>\n",
       "      <td>...</td>\n",
       "      <td>NaN</td>\n",
       "      <td>0.872</td>\n",
       "      <td>0.657</td>\n",
       "      <td>0.023</td>\n",
       "      <td>Unknown</td>\n",
       "      <td>168</td>\n",
       "      <td>4</td>\n",
       "      <td>172</td>\n",
       "      <td>0.023256</td>\n",
       "      <td>False</td>\n",
       "    </tr>\n",
       "    <tr>\n",
       "      <th>lasso_cv</th>\n",
       "      <td>0.919 +/- 0.021 (in 3 folds)</td>\n",
       "      <td>0.919 +/- 0.021 (in 3 folds)</td>\n",
       "      <td>0.825 +/- 0.047 (in 3 folds)</td>\n",
       "      <td>0.825 +/- 0.047 (in 3 folds)</td>\n",
       "      <td>0.840 +/- 0.061 (in 3 folds)</td>\n",
       "      <td>0.507 +/- 0.220 (in 3 folds)</td>\n",
       "      <td>0.840</td>\n",
       "      <td>0.531</td>\n",
       "      <td>0.825 +/- 0.048 (in 3 folds)</td>\n",
       "      <td>0.474 +/- 0.170 (in 3 folds)</td>\n",
       "      <td>...</td>\n",
       "      <td>0.803 +/- 0.000 (in 1 folds)</td>\n",
       "      <td>0.826</td>\n",
       "      <td>0.482</td>\n",
       "      <td>0.017</td>\n",
       "      <td>Unknown</td>\n",
       "      <td>169</td>\n",
       "      <td>3</td>\n",
       "      <td>172</td>\n",
       "      <td>0.017442</td>\n",
       "      <td>False</td>\n",
       "    </tr>\n",
       "    <tr>\n",
       "      <th>xgboost</th>\n",
       "      <td>0.918 +/- 0.033 (in 3 folds)</td>\n",
       "      <td>0.918 +/- 0.033 (in 3 folds)</td>\n",
       "      <td>0.829 +/- 0.051 (in 3 folds)</td>\n",
       "      <td>0.829 +/- 0.051 (in 3 folds)</td>\n",
       "      <td>0.887 +/- 0.027 (in 3 folds)</td>\n",
       "      <td>0.684 +/- 0.067 (in 3 folds)</td>\n",
       "      <td>0.887</td>\n",
       "      <td>0.680</td>\n",
       "      <td>0.866 +/- 0.021 (in 3 folds)</td>\n",
       "      <td>0.639 +/- 0.044 (in 3 folds)</td>\n",
       "      <td>...</td>\n",
       "      <td>NaN</td>\n",
       "      <td>0.866</td>\n",
       "      <td>0.635</td>\n",
       "      <td>0.023</td>\n",
       "      <td>Unknown</td>\n",
       "      <td>168</td>\n",
       "      <td>4</td>\n",
       "      <td>172</td>\n",
       "      <td>0.023256</td>\n",
       "      <td>False</td>\n",
       "    </tr>\n",
       "    <tr>\n",
       "      <th>rf_multiclass</th>\n",
       "      <td>0.909 +/- 0.055 (in 3 folds)</td>\n",
       "      <td>0.909 +/- 0.055 (in 3 folds)</td>\n",
       "      <td>0.827 +/- 0.096 (in 3 folds)</td>\n",
       "      <td>0.827 +/- 0.096 (in 3 folds)</td>\n",
       "      <td>0.869 +/- 0.041 (in 3 folds)</td>\n",
       "      <td>0.646 +/- 0.086 (in 3 folds)</td>\n",
       "      <td>0.869</td>\n",
       "      <td>0.630</td>\n",
       "      <td>0.849 +/- 0.037 (in 3 folds)</td>\n",
       "      <td>0.605 +/- 0.072 (in 3 folds)</td>\n",
       "      <td>...</td>\n",
       "      <td>NaN</td>\n",
       "      <td>0.849</td>\n",
       "      <td>0.589</td>\n",
       "      <td>0.023</td>\n",
       "      <td>Unknown</td>\n",
       "      <td>168</td>\n",
       "      <td>4</td>\n",
       "      <td>172</td>\n",
       "      <td>0.023256</td>\n",
       "      <td>False</td>\n",
       "    </tr>\n",
       "    <tr>\n",
       "      <th>dummy_stratified</th>\n",
       "      <td>0.509 +/- 0.080 (in 3 folds)</td>\n",
       "      <td>0.509 +/- 0.080 (in 3 folds)</td>\n",
       "      <td>0.311 +/- 0.082 (in 3 folds)</td>\n",
       "      <td>0.311 +/- 0.082 (in 3 folds)</td>\n",
       "      <td>0.586 +/- 0.025 (in 3 folds)</td>\n",
       "      <td>0.016 +/- 0.155 (in 3 folds)</td>\n",
       "      <td>0.581</td>\n",
       "      <td>-0.001</td>\n",
       "      <td>0.418 +/- 0.121 (in 3 folds)</td>\n",
       "      <td>-0.031 +/- 0.092 (in 3 folds)</td>\n",
       "      <td>...</td>\n",
       "      <td>NaN</td>\n",
       "      <td>0.419</td>\n",
       "      <td>-0.028</td>\n",
       "      <td>0.279</td>\n",
       "      <td>Unknown</td>\n",
       "      <td>124</td>\n",
       "      <td>48</td>\n",
       "      <td>172</td>\n",
       "      <td>0.279070</td>\n",
       "      <td>False</td>\n",
       "    </tr>\n",
       "    <tr>\n",
       "      <th>dummy_most_frequent</th>\n",
       "      <td>0.500 +/- 0.000 (in 3 folds)</td>\n",
       "      <td>0.500 +/- 0.000 (in 3 folds)</td>\n",
       "      <td>0.241 +/- 0.008 (in 3 folds)</td>\n",
       "      <td>0.241 +/- 0.008 (in 3 folds)</td>\n",
       "      <td>0.759 +/- 0.008 (in 3 folds)</td>\n",
       "      <td>0.000 +/- 0.000 (in 3 folds)</td>\n",
       "      <td>0.759</td>\n",
       "      <td>0.000</td>\n",
       "      <td>0.750 +/- 0.008 (in 3 folds)</td>\n",
       "      <td>0.027 +/- 0.081 (in 3 folds)</td>\n",
       "      <td>...</td>\n",
       "      <td>0.246 +/- 0.000 (in 1 folds)</td>\n",
       "      <td>0.750</td>\n",
       "      <td>0.032</td>\n",
       "      <td>0.012</td>\n",
       "      <td>Unknown</td>\n",
       "      <td>170</td>\n",
       "      <td>2</td>\n",
       "      <td>172</td>\n",
       "      <td>0.011628</td>\n",
       "      <td>True</td>\n",
       "    </tr>\n",
       "  </tbody>\n",
       "</table>\n",
       "<p>9 rows × 24 columns</p>\n",
       "</div>"
      ],
      "text/plain": [
       "                    ROC-AUC (weighted OvO) per fold  \\\n",
       "elasticnet_cv          0.951 +/- 0.033 (in 3 folds)   \n",
       "ridge_cv               0.945 +/- 0.029 (in 3 folds)   \n",
       "linearsvm_ovr          0.925 +/- 0.080 (in 3 folds)   \n",
       "lasso_multiclass       0.925 +/- 0.080 (in 3 folds)   \n",
       "lasso_cv               0.919 +/- 0.021 (in 3 folds)   \n",
       "xgboost                0.918 +/- 0.033 (in 3 folds)   \n",
       "rf_multiclass          0.909 +/- 0.055 (in 3 folds)   \n",
       "dummy_stratified       0.509 +/- 0.080 (in 3 folds)   \n",
       "dummy_most_frequent    0.500 +/- 0.000 (in 3 folds)   \n",
       "\n",
       "                     ROC-AUC (macro OvO) per fold  \\\n",
       "elasticnet_cv        0.951 +/- 0.033 (in 3 folds)   \n",
       "ridge_cv             0.945 +/- 0.029 (in 3 folds)   \n",
       "linearsvm_ovr        0.925 +/- 0.080 (in 3 folds)   \n",
       "lasso_multiclass     0.925 +/- 0.080 (in 3 folds)   \n",
       "lasso_cv             0.919 +/- 0.021 (in 3 folds)   \n",
       "xgboost              0.918 +/- 0.033 (in 3 folds)   \n",
       "rf_multiclass        0.909 +/- 0.055 (in 3 folds)   \n",
       "dummy_stratified     0.509 +/- 0.080 (in 3 folds)   \n",
       "dummy_most_frequent  0.500 +/- 0.000 (in 3 folds)   \n",
       "\n",
       "                    au-PRC (weighted OvO) per fold  \\\n",
       "elasticnet_cv         0.892 +/- 0.058 (in 3 folds)   \n",
       "ridge_cv              0.875 +/- 0.054 (in 3 folds)   \n",
       "linearsvm_ovr         0.862 +/- 0.117 (in 3 folds)   \n",
       "lasso_multiclass      0.862 +/- 0.117 (in 3 folds)   \n",
       "lasso_cv              0.825 +/- 0.047 (in 3 folds)   \n",
       "xgboost               0.829 +/- 0.051 (in 3 folds)   \n",
       "rf_multiclass         0.827 +/- 0.096 (in 3 folds)   \n",
       "dummy_stratified      0.311 +/- 0.082 (in 3 folds)   \n",
       "dummy_most_frequent   0.241 +/- 0.008 (in 3 folds)   \n",
       "\n",
       "                      au-PRC (macro OvO) per fold  \\\n",
       "elasticnet_cv        0.892 +/- 0.058 (in 3 folds)   \n",
       "ridge_cv             0.875 +/- 0.054 (in 3 folds)   \n",
       "linearsvm_ovr        0.862 +/- 0.117 (in 3 folds)   \n",
       "lasso_multiclass     0.862 +/- 0.117 (in 3 folds)   \n",
       "lasso_cv             0.825 +/- 0.047 (in 3 folds)   \n",
       "xgboost              0.829 +/- 0.051 (in 3 folds)   \n",
       "rf_multiclass        0.827 +/- 0.096 (in 3 folds)   \n",
       "dummy_stratified     0.311 +/- 0.082 (in 3 folds)   \n",
       "dummy_most_frequent  0.241 +/- 0.008 (in 3 folds)   \n",
       "\n",
       "                                Accuracy per fold  \\\n",
       "elasticnet_cv        0.788 +/- 0.020 (in 3 folds)   \n",
       "ridge_cv             0.759 +/- 0.008 (in 3 folds)   \n",
       "linearsvm_ovr        0.898 +/- 0.047 (in 3 folds)   \n",
       "lasso_multiclass     0.892 +/- 0.038 (in 3 folds)   \n",
       "lasso_cv             0.840 +/- 0.061 (in 3 folds)   \n",
       "xgboost              0.887 +/- 0.027 (in 3 folds)   \n",
       "rf_multiclass        0.869 +/- 0.041 (in 3 folds)   \n",
       "dummy_stratified     0.586 +/- 0.025 (in 3 folds)   \n",
       "dummy_most_frequent  0.759 +/- 0.008 (in 3 folds)   \n",
       "\n",
       "                                     MCC per fold Accuracy global MCC global  \\\n",
       "elasticnet_cv        0.249 +/- 0.219 (in 3 folds)           0.788      0.309   \n",
       "ridge_cv             0.000 +/- 0.000 (in 3 folds)           0.759      0.000   \n",
       "linearsvm_ovr        0.724 +/- 0.122 (in 3 folds)           0.899      0.720   \n",
       "lasso_multiclass     0.708 +/- 0.096 (in 3 folds)           0.893      0.701   \n",
       "lasso_cv             0.507 +/- 0.220 (in 3 folds)           0.840      0.531   \n",
       "xgboost              0.684 +/- 0.067 (in 3 folds)           0.887      0.680   \n",
       "rf_multiclass        0.646 +/- 0.086 (in 3 folds)           0.869      0.630   \n",
       "dummy_stratified     0.016 +/- 0.155 (in 3 folds)           0.581     -0.001   \n",
       "dummy_most_frequent  0.000 +/- 0.000 (in 3 folds)           0.759      0.000   \n",
       "\n",
       "                    Accuracy per fold with abstention  \\\n",
       "elasticnet_cv            0.779 +/- 0.021 (in 3 folds)   \n",
       "ridge_cv                 0.750 +/- 0.008 (in 3 folds)   \n",
       "linearsvm_ovr            0.878 +/- 0.053 (in 3 folds)   \n",
       "lasso_multiclass         0.872 +/- 0.045 (in 3 folds)   \n",
       "lasso_cv                 0.825 +/- 0.048 (in 3 folds)   \n",
       "xgboost                  0.866 +/- 0.021 (in 3 folds)   \n",
       "rf_multiclass            0.849 +/- 0.037 (in 3 folds)   \n",
       "dummy_stratified         0.418 +/- 0.121 (in 3 folds)   \n",
       "dummy_most_frequent      0.750 +/- 0.008 (in 3 folds)   \n",
       "\n",
       "                      MCC per fold with abstention  ...  \\\n",
       "elasticnet_cv         0.264 +/- 0.127 (in 3 folds)  ...   \n",
       "ridge_cv              0.027 +/- 0.081 (in 3 folds)  ...   \n",
       "linearsvm_ovr         0.681 +/- 0.125 (in 3 folds)  ...   \n",
       "lasso_multiclass      0.665 +/- 0.100 (in 3 folds)  ...   \n",
       "lasso_cv              0.474 +/- 0.170 (in 3 folds)  ...   \n",
       "xgboost               0.639 +/- 0.044 (in 3 folds)  ...   \n",
       "rf_multiclass         0.605 +/- 0.072 (in 3 folds)  ...   \n",
       "dummy_stratified     -0.031 +/- 0.092 (in 3 folds)  ...   \n",
       "dummy_most_frequent   0.027 +/- 0.081 (in 3 folds)  ...   \n",
       "\n",
       "                    au-PRC (macro OvO) per fold with abstention  \\\n",
       "elasticnet_cv                      0.825 +/- 0.000 (in 1 folds)   \n",
       "ridge_cv                           0.824 +/- 0.000 (in 1 folds)   \n",
       "linearsvm_ovr                                               NaN   \n",
       "lasso_multiclass                                            NaN   \n",
       "lasso_cv                           0.803 +/- 0.000 (in 1 folds)   \n",
       "xgboost                                                     NaN   \n",
       "rf_multiclass                                               NaN   \n",
       "dummy_stratified                                            NaN   \n",
       "dummy_most_frequent                0.246 +/- 0.000 (in 1 folds)   \n",
       "\n",
       "                    Accuracy global with abstention  \\\n",
       "elasticnet_cv                                 0.779   \n",
       "ridge_cv                                      0.750   \n",
       "linearsvm_ovr                                 0.878   \n",
       "lasso_multiclass                              0.872   \n",
       "lasso_cv                                      0.826   \n",
       "xgboost                                       0.866   \n",
       "rf_multiclass                                 0.849   \n",
       "dummy_stratified                              0.419   \n",
       "dummy_most_frequent                           0.750   \n",
       "\n",
       "                    MCC global with abstention  \\\n",
       "elasticnet_cv                            0.275   \n",
       "ridge_cv                                 0.032   \n",
       "linearsvm_ovr                            0.675   \n",
       "lasso_multiclass                         0.657   \n",
       "lasso_cv                                 0.482   \n",
       "xgboost                                  0.635   \n",
       "rf_multiclass                            0.589   \n",
       "dummy_stratified                        -0.028   \n",
       "dummy_most_frequent                      0.032   \n",
       "\n",
       "                    Unknown/abstention proportion global with abstention  \\\n",
       "elasticnet_cv                                                    0.012     \n",
       "ridge_cv                                                         0.012     \n",
       "linearsvm_ovr                                                    0.023     \n",
       "lasso_multiclass                                                 0.023     \n",
       "lasso_cv                                                         0.017     \n",
       "xgboost                                                          0.023     \n",
       "rf_multiclass                                                    0.023     \n",
       "dummy_stratified                                                 0.279     \n",
       "dummy_most_frequent                                              0.012     \n",
       "\n",
       "                    Abstention label global with abstention sample_size  \\\n",
       "elasticnet_cv                                       Unknown         170   \n",
       "ridge_cv                                            Unknown         170   \n",
       "linearsvm_ovr                                       Unknown         168   \n",
       "lasso_multiclass                                    Unknown         168   \n",
       "lasso_cv                                            Unknown         169   \n",
       "xgboost                                             Unknown         168   \n",
       "rf_multiclass                                       Unknown         168   \n",
       "dummy_stratified                                    Unknown         124   \n",
       "dummy_most_frequent                                 Unknown         170   \n",
       "\n",
       "                    n_abstentions sample_size including abstentions  \\\n",
       "elasticnet_cv                   2                               172   \n",
       "ridge_cv                        2                               172   \n",
       "linearsvm_ovr                   4                               172   \n",
       "lasso_multiclass                4                               172   \n",
       "lasso_cv                        3                               172   \n",
       "xgboost                         4                               172   \n",
       "rf_multiclass                   4                               172   \n",
       "dummy_stratified               48                               172   \n",
       "dummy_most_frequent             2                               172   \n",
       "\n",
       "                    abstention_rate  missing_classes  \n",
       "elasticnet_cv              0.011628            False  \n",
       "ridge_cv                   0.011628             True  \n",
       "linearsvm_ovr              0.023256            False  \n",
       "lasso_multiclass           0.023256            False  \n",
       "lasso_cv                   0.017442            False  \n",
       "xgboost                    0.023256            False  \n",
       "rf_multiclass              0.023256            False  \n",
       "dummy_stratified           0.279070            False  \n",
       "dummy_most_frequent        0.011628             True  \n",
       "\n",
       "[9 rows x 24 columns]"
      ]
     },
     "metadata": {},
     "output_type": "display_data"
    },
    {
     "name": "stdout",
     "output_type": "stream",
     "text": [
      "GeneLocus.TCR, fold 0, TargetObsColumnEnum.lupus_vs_healthy, lasso_multiclass: best p value = 0.005. Number of disease associated clusters: {'Healthy/Background': 20, 'Lupus': 231}\n"
     ]
    },
    {
     "name": "stdout",
     "output_type": "stream",
     "text": [
      "GeneLocus.TCR, fold 0, TargetObsColumnEnum.lupus_vs_healthy, rf_multiclass: best p value = 0.005. Number of disease associated clusters: {'Healthy/Background': 20, 'Lupus': 231}\n",
      "GeneLocus.TCR, fold 0, TargetObsColumnEnum.lupus_vs_healthy, linearsvm_ovr: best p value = 0.005. Number of disease associated clusters: {'Healthy/Background': 20, 'Lupus': 231}\n",
      "\n",
      "GeneLocus.TCR, fold 1, TargetObsColumnEnum.lupus_vs_healthy, lasso_multiclass: best p value = 0.001. Number of disease associated clusters: {'Healthy/Background': 2, 'Lupus': 116}\n",
      "GeneLocus.TCR, fold 1, TargetObsColumnEnum.lupus_vs_healthy, rf_multiclass: best p value = 0.005. Number of disease associated clusters: {'Healthy/Background': 19, 'Lupus': 316}\n",
      "GeneLocus.TCR, fold 1, TargetObsColumnEnum.lupus_vs_healthy, linearsvm_ovr: best p value = 0.001. Number of disease associated clusters: {'Healthy/Background': 2, 'Lupus': 116}\n",
      "\n",
      "GeneLocus.TCR, fold 2, TargetObsColumnEnum.lupus_vs_healthy, lasso_multiclass: best p value = 0.01. Number of disease associated clusters: {'Healthy/Background': 40, 'Lupus': 346}\n"
     ]
    },
    {
     "name": "stderr",
     "output_type": "stream",
     "text": [
      "2023-01-07 03:54:00,493 - analyze_convergent_clustering_models.ipynb - INFO - GeneLocus.TCR, TargetObsColumnEnum.ethnicity_condensed_healthy_only from /users/maximz/code/boyd-immune-repertoire-classification/data/data_v_20221224/convergent_clusters/TCR/ethnicity_condensed_healthy_only/train_smaller_model to /users/maximz/code/boyd-immune-repertoire-classification/out/convergent_clusters/TCR/ethnicity_condensed_healthy_only/train_smaller_model\n"
     ]
    },
    {
     "name": "stdout",
     "output_type": "stream",
     "text": [
      "GeneLocus.TCR, fold 2, TargetObsColumnEnum.lupus_vs_healthy, rf_multiclass: best p value = 0.005. Number of disease associated clusters: {'Healthy/Background': 20, 'Lupus': 279}\n",
      "GeneLocus.TCR, fold 2, TargetObsColumnEnum.lupus_vs_healthy, linearsvm_ovr: best p value = 0.01. Number of disease associated clusters: {'Healthy/Background': 40, 'Lupus': 346}\n",
      "\n"
     ]
    },
    {
     "name": "stdout",
     "output_type": "stream",
     "text": [
      "GeneLocus.TCR TargetObsColumnEnum.ethnicity_condensed_healthy_only\n"
     ]
    },
    {
     "data": {
      "text/html": [
       "<div>\n",
       "<style scoped>\n",
       "    .dataframe tbody tr th:only-of-type {\n",
       "        vertical-align: middle;\n",
       "    }\n",
       "\n",
       "    .dataframe tbody tr th {\n",
       "        vertical-align: top;\n",
       "    }\n",
       "\n",
       "    .dataframe thead th {\n",
       "        text-align: right;\n",
       "    }\n",
       "</style>\n",
       "<table border=\"1\" class=\"dataframe\">\n",
       "  <thead>\n",
       "    <tr style=\"text-align: right;\">\n",
       "      <th></th>\n",
       "      <th>ROC-AUC (weighted OvO) per fold</th>\n",
       "      <th>ROC-AUC (macro OvO) per fold</th>\n",
       "      <th>au-PRC (weighted OvO) per fold</th>\n",
       "      <th>au-PRC (macro OvO) per fold</th>\n",
       "      <th>Accuracy per fold</th>\n",
       "      <th>MCC per fold</th>\n",
       "      <th>Accuracy global</th>\n",
       "      <th>MCC global</th>\n",
       "      <th>Accuracy per fold with abstention</th>\n",
       "      <th>MCC per fold with abstention</th>\n",
       "      <th>...</th>\n",
       "      <th>au-PRC (macro OvO) per fold with abstention</th>\n",
       "      <th>Accuracy global with abstention</th>\n",
       "      <th>MCC global with abstention</th>\n",
       "      <th>Unknown/abstention proportion global with abstention</th>\n",
       "      <th>Abstention label global with abstention</th>\n",
       "      <th>sample_size</th>\n",
       "      <th>n_abstentions</th>\n",
       "      <th>sample_size including abstentions</th>\n",
       "      <th>abstention_rate</th>\n",
       "      <th>missing_classes</th>\n",
       "    </tr>\n",
       "  </thead>\n",
       "  <tbody>\n",
       "    <tr>\n",
       "      <th>xgboost</th>\n",
       "      <td>0.702 +/- 0.041 (in 3 folds)</td>\n",
       "      <td>0.690 +/- 0.038 (in 3 folds)</td>\n",
       "      <td>0.709 +/- 0.024 (in 3 folds)</td>\n",
       "      <td>0.707 +/- 0.009 (in 3 folds)</td>\n",
       "      <td>0.601 +/- 0.097 (in 3 folds)</td>\n",
       "      <td>0.357 +/- 0.084 (in 3 folds)</td>\n",
       "      <td>0.598</td>\n",
       "      <td>0.345</td>\n",
       "      <td>0.556 +/- 0.053 (in 3 folds)</td>\n",
       "      <td>0.296 +/- 0.028 (in 3 folds)</td>\n",
       "      <td>...</td>\n",
       "      <td>0.703 +/- 0.000 (in 1 folds)</td>\n",
       "      <td>0.557</td>\n",
       "      <td>0.273</td>\n",
       "      <td>0.070</td>\n",
       "      <td>Unknown</td>\n",
       "      <td>107</td>\n",
       "      <td>8</td>\n",
       "      <td>115</td>\n",
       "      <td>0.069565</td>\n",
       "      <td>False</td>\n",
       "    </tr>\n",
       "    <tr>\n",
       "      <th>linearsvm_ovr</th>\n",
       "      <td>0.692 +/- 0.052 (in 3 folds)</td>\n",
       "      <td>0.697 +/- 0.058 (in 3 folds)</td>\n",
       "      <td>0.716 +/- 0.018 (in 3 folds)</td>\n",
       "      <td>0.725 +/- 0.040 (in 3 folds)</td>\n",
       "      <td>0.583 +/- 0.078 (in 3 folds)</td>\n",
       "      <td>0.331 +/- 0.086 (in 3 folds)</td>\n",
       "      <td>0.584</td>\n",
       "      <td>0.338</td>\n",
       "      <td>0.573 +/- 0.082 (in 3 folds)</td>\n",
       "      <td>0.295 +/- 0.029 (in 3 folds)</td>\n",
       "      <td>...</td>\n",
       "      <td>0.727 +/- 0.056 (in 2 folds)</td>\n",
       "      <td>0.574</td>\n",
       "      <td>0.292</td>\n",
       "      <td>0.017</td>\n",
       "      <td>Unknown</td>\n",
       "      <td>113</td>\n",
       "      <td>2</td>\n",
       "      <td>115</td>\n",
       "      <td>0.017391</td>\n",
       "      <td>True</td>\n",
       "    </tr>\n",
       "    <tr>\n",
       "      <th>lasso_multiclass</th>\n",
       "      <td>0.673 +/- 0.018 (in 3 folds)</td>\n",
       "      <td>0.662 +/- 0.012 (in 3 folds)</td>\n",
       "      <td>0.684 +/- 0.015 (in 3 folds)</td>\n",
       "      <td>0.673 +/- 0.010 (in 3 folds)</td>\n",
       "      <td>0.600 +/- 0.090 (in 3 folds)</td>\n",
       "      <td>0.371 +/- 0.103 (in 3 folds)</td>\n",
       "      <td>0.602</td>\n",
       "      <td>0.382</td>\n",
       "      <td>0.590 +/- 0.092 (in 3 folds)</td>\n",
       "      <td>0.337 +/- 0.064 (in 3 folds)</td>\n",
       "      <td>...</td>\n",
       "      <td>0.675 +/- 0.013 (in 2 folds)</td>\n",
       "      <td>0.591</td>\n",
       "      <td>0.336</td>\n",
       "      <td>0.017</td>\n",
       "      <td>Unknown</td>\n",
       "      <td>113</td>\n",
       "      <td>2</td>\n",
       "      <td>115</td>\n",
       "      <td>0.017391</td>\n",
       "      <td>True</td>\n",
       "    </tr>\n",
       "    <tr>\n",
       "      <th>lasso_cv</th>\n",
       "      <td>0.622 +/- 0.073 (in 3 folds)</td>\n",
       "      <td>0.612 +/- 0.068 (in 3 folds)</td>\n",
       "      <td>0.669 +/- 0.052 (in 3 folds)</td>\n",
       "      <td>0.663 +/- 0.048 (in 3 folds)</td>\n",
       "      <td>0.541 +/- 0.133 (in 3 folds)</td>\n",
       "      <td>0.273 +/- 0.104 (in 3 folds)</td>\n",
       "      <td>0.546</td>\n",
       "      <td>0.263</td>\n",
       "      <td>0.512 +/- 0.157 (in 3 folds)</td>\n",
       "      <td>0.168 +/- 0.186 (in 3 folds)</td>\n",
       "      <td>...</td>\n",
       "      <td>0.688 +/- 0.000 (in 1 folds)</td>\n",
       "      <td>0.513</td>\n",
       "      <td>0.154</td>\n",
       "      <td>0.061</td>\n",
       "      <td>Unknown</td>\n",
       "      <td>108</td>\n",
       "      <td>7</td>\n",
       "      <td>115</td>\n",
       "      <td>0.060870</td>\n",
       "      <td>True</td>\n",
       "    </tr>\n",
       "    <tr>\n",
       "      <th>rf_multiclass</th>\n",
       "      <td>0.612 +/- 0.089 (in 3 folds)</td>\n",
       "      <td>0.609 +/- 0.066 (in 3 folds)</td>\n",
       "      <td>0.640 +/- 0.048 (in 3 folds)</td>\n",
       "      <td>0.629 +/- 0.038 (in 3 folds)</td>\n",
       "      <td>0.597 +/- 0.145 (in 3 folds)</td>\n",
       "      <td>0.381 +/- 0.173 (in 3 folds)</td>\n",
       "      <td>0.591</td>\n",
       "      <td>0.365</td>\n",
       "      <td>0.564 +/- 0.089 (in 3 folds)</td>\n",
       "      <td>0.319 +/- 0.068 (in 3 folds)</td>\n",
       "      <td>...</td>\n",
       "      <td>0.610 +/- 0.027 (in 2 folds)</td>\n",
       "      <td>0.565</td>\n",
       "      <td>0.284</td>\n",
       "      <td>0.043</td>\n",
       "      <td>Unknown</td>\n",
       "      <td>110</td>\n",
       "      <td>5</td>\n",
       "      <td>115</td>\n",
       "      <td>0.043478</td>\n",
       "      <td>True</td>\n",
       "    </tr>\n",
       "    <tr>\n",
       "      <th>elasticnet_cv</th>\n",
       "      <td>0.596 +/- 0.061 (in 3 folds)</td>\n",
       "      <td>0.591 +/- 0.072 (in 3 folds)</td>\n",
       "      <td>0.656 +/- 0.046 (in 3 folds)</td>\n",
       "      <td>0.659 +/- 0.067 (in 3 folds)</td>\n",
       "      <td>0.529 +/- 0.122 (in 3 folds)</td>\n",
       "      <td>0.196 +/- 0.172 (in 3 folds)</td>\n",
       "      <td>0.532</td>\n",
       "      <td>0.221</td>\n",
       "      <td>0.512 +/- 0.134 (in 3 folds)</td>\n",
       "      <td>0.136 +/- 0.167 (in 3 folds)</td>\n",
       "      <td>...</td>\n",
       "      <td>0.685 +/- 0.071 (in 2 folds)</td>\n",
       "      <td>0.513</td>\n",
       "      <td>0.128</td>\n",
       "      <td>0.035</td>\n",
       "      <td>Unknown</td>\n",
       "      <td>111</td>\n",
       "      <td>4</td>\n",
       "      <td>115</td>\n",
       "      <td>0.034783</td>\n",
       "      <td>True</td>\n",
       "    </tr>\n",
       "    <tr>\n",
       "      <th>ridge_cv</th>\n",
       "      <td>0.575 +/- 0.068 (in 3 folds)</td>\n",
       "      <td>0.559 +/- 0.051 (in 3 folds)</td>\n",
       "      <td>0.617 +/- 0.103 (in 3 folds)</td>\n",
       "      <td>0.608 +/- 0.095 (in 3 folds)</td>\n",
       "      <td>0.504 +/- 0.099 (in 3 folds)</td>\n",
       "      <td>0.000 +/- 0.000 (in 3 folds)</td>\n",
       "      <td>0.500</td>\n",
       "      <td>0.000</td>\n",
       "      <td>0.478 +/- 0.054 (in 3 folds)</td>\n",
       "      <td>0.002 +/- 0.003 (in 3 folds)</td>\n",
       "      <td>...</td>\n",
       "      <td>0.572 +/- 0.102 (in 2 folds)</td>\n",
       "      <td>0.478</td>\n",
       "      <td>-0.018</td>\n",
       "      <td>0.043</td>\n",
       "      <td>Unknown</td>\n",
       "      <td>110</td>\n",
       "      <td>5</td>\n",
       "      <td>115</td>\n",
       "      <td>0.043478</td>\n",
       "      <td>True</td>\n",
       "    </tr>\n",
       "    <tr>\n",
       "      <th>dummy_stratified</th>\n",
       "      <td>0.504 +/- 0.027 (in 3 folds)</td>\n",
       "      <td>0.501 +/- 0.025 (in 3 folds)</td>\n",
       "      <td>0.515 +/- 0.017 (in 3 folds)</td>\n",
       "      <td>0.512 +/- 0.014 (in 3 folds)</td>\n",
       "      <td>0.424 +/- 0.042 (in 3 folds)</td>\n",
       "      <td>0.030 +/- 0.067 (in 3 folds)</td>\n",
       "      <td>0.429</td>\n",
       "      <td>0.038</td>\n",
       "      <td>0.392 +/- 0.096 (in 3 folds)</td>\n",
       "      <td>0.009 +/- 0.053 (in 3 folds)</td>\n",
       "      <td>...</td>\n",
       "      <td>0.504 +/- 0.008 (in 2 folds)</td>\n",
       "      <td>0.391</td>\n",
       "      <td>0.019</td>\n",
       "      <td>0.087</td>\n",
       "      <td>Unknown</td>\n",
       "      <td>105</td>\n",
       "      <td>10</td>\n",
       "      <td>115</td>\n",
       "      <td>0.086957</td>\n",
       "      <td>True</td>\n",
       "    </tr>\n",
       "    <tr>\n",
       "      <th>dummy_most_frequent</th>\n",
       "      <td>0.500 +/- 0.000 (in 3 folds)</td>\n",
       "      <td>0.500 +/- 0.000 (in 3 folds)</td>\n",
       "      <td>0.500 +/- 0.000 (in 3 folds)</td>\n",
       "      <td>0.500 +/- 0.000 (in 3 folds)</td>\n",
       "      <td>0.504 +/- 0.099 (in 3 folds)</td>\n",
       "      <td>0.000 +/- 0.000 (in 3 folds)</td>\n",
       "      <td>0.500</td>\n",
       "      <td>0.000</td>\n",
       "      <td>0.478 +/- 0.054 (in 3 folds)</td>\n",
       "      <td>0.002 +/- 0.003 (in 3 folds)</td>\n",
       "      <td>...</td>\n",
       "      <td>0.500 +/- 0.000 (in 2 folds)</td>\n",
       "      <td>0.478</td>\n",
       "      <td>-0.018</td>\n",
       "      <td>0.043</td>\n",
       "      <td>Unknown</td>\n",
       "      <td>110</td>\n",
       "      <td>5</td>\n",
       "      <td>115</td>\n",
       "      <td>0.043478</td>\n",
       "      <td>True</td>\n",
       "    </tr>\n",
       "  </tbody>\n",
       "</table>\n",
       "<p>9 rows × 24 columns</p>\n",
       "</div>"
      ],
      "text/plain": [
       "                    ROC-AUC (weighted OvO) per fold  \\\n",
       "xgboost                0.702 +/- 0.041 (in 3 folds)   \n",
       "linearsvm_ovr          0.692 +/- 0.052 (in 3 folds)   \n",
       "lasso_multiclass       0.673 +/- 0.018 (in 3 folds)   \n",
       "lasso_cv               0.622 +/- 0.073 (in 3 folds)   \n",
       "rf_multiclass          0.612 +/- 0.089 (in 3 folds)   \n",
       "elasticnet_cv          0.596 +/- 0.061 (in 3 folds)   \n",
       "ridge_cv               0.575 +/- 0.068 (in 3 folds)   \n",
       "dummy_stratified       0.504 +/- 0.027 (in 3 folds)   \n",
       "dummy_most_frequent    0.500 +/- 0.000 (in 3 folds)   \n",
       "\n",
       "                     ROC-AUC (macro OvO) per fold  \\\n",
       "xgboost              0.690 +/- 0.038 (in 3 folds)   \n",
       "linearsvm_ovr        0.697 +/- 0.058 (in 3 folds)   \n",
       "lasso_multiclass     0.662 +/- 0.012 (in 3 folds)   \n",
       "lasso_cv             0.612 +/- 0.068 (in 3 folds)   \n",
       "rf_multiclass        0.609 +/- 0.066 (in 3 folds)   \n",
       "elasticnet_cv        0.591 +/- 0.072 (in 3 folds)   \n",
       "ridge_cv             0.559 +/- 0.051 (in 3 folds)   \n",
       "dummy_stratified     0.501 +/- 0.025 (in 3 folds)   \n",
       "dummy_most_frequent  0.500 +/- 0.000 (in 3 folds)   \n",
       "\n",
       "                    au-PRC (weighted OvO) per fold  \\\n",
       "xgboost               0.709 +/- 0.024 (in 3 folds)   \n",
       "linearsvm_ovr         0.716 +/- 0.018 (in 3 folds)   \n",
       "lasso_multiclass      0.684 +/- 0.015 (in 3 folds)   \n",
       "lasso_cv              0.669 +/- 0.052 (in 3 folds)   \n",
       "rf_multiclass         0.640 +/- 0.048 (in 3 folds)   \n",
       "elasticnet_cv         0.656 +/- 0.046 (in 3 folds)   \n",
       "ridge_cv              0.617 +/- 0.103 (in 3 folds)   \n",
       "dummy_stratified      0.515 +/- 0.017 (in 3 folds)   \n",
       "dummy_most_frequent   0.500 +/- 0.000 (in 3 folds)   \n",
       "\n",
       "                      au-PRC (macro OvO) per fold  \\\n",
       "xgboost              0.707 +/- 0.009 (in 3 folds)   \n",
       "linearsvm_ovr        0.725 +/- 0.040 (in 3 folds)   \n",
       "lasso_multiclass     0.673 +/- 0.010 (in 3 folds)   \n",
       "lasso_cv             0.663 +/- 0.048 (in 3 folds)   \n",
       "rf_multiclass        0.629 +/- 0.038 (in 3 folds)   \n",
       "elasticnet_cv        0.659 +/- 0.067 (in 3 folds)   \n",
       "ridge_cv             0.608 +/- 0.095 (in 3 folds)   \n",
       "dummy_stratified     0.512 +/- 0.014 (in 3 folds)   \n",
       "dummy_most_frequent  0.500 +/- 0.000 (in 3 folds)   \n",
       "\n",
       "                                Accuracy per fold  \\\n",
       "xgboost              0.601 +/- 0.097 (in 3 folds)   \n",
       "linearsvm_ovr        0.583 +/- 0.078 (in 3 folds)   \n",
       "lasso_multiclass     0.600 +/- 0.090 (in 3 folds)   \n",
       "lasso_cv             0.541 +/- 0.133 (in 3 folds)   \n",
       "rf_multiclass        0.597 +/- 0.145 (in 3 folds)   \n",
       "elasticnet_cv        0.529 +/- 0.122 (in 3 folds)   \n",
       "ridge_cv             0.504 +/- 0.099 (in 3 folds)   \n",
       "dummy_stratified     0.424 +/- 0.042 (in 3 folds)   \n",
       "dummy_most_frequent  0.504 +/- 0.099 (in 3 folds)   \n",
       "\n",
       "                                     MCC per fold Accuracy global MCC global  \\\n",
       "xgboost              0.357 +/- 0.084 (in 3 folds)           0.598      0.345   \n",
       "linearsvm_ovr        0.331 +/- 0.086 (in 3 folds)           0.584      0.338   \n",
       "lasso_multiclass     0.371 +/- 0.103 (in 3 folds)           0.602      0.382   \n",
       "lasso_cv             0.273 +/- 0.104 (in 3 folds)           0.546      0.263   \n",
       "rf_multiclass        0.381 +/- 0.173 (in 3 folds)           0.591      0.365   \n",
       "elasticnet_cv        0.196 +/- 0.172 (in 3 folds)           0.532      0.221   \n",
       "ridge_cv             0.000 +/- 0.000 (in 3 folds)           0.500      0.000   \n",
       "dummy_stratified     0.030 +/- 0.067 (in 3 folds)           0.429      0.038   \n",
       "dummy_most_frequent  0.000 +/- 0.000 (in 3 folds)           0.500      0.000   \n",
       "\n",
       "                    Accuracy per fold with abstention  \\\n",
       "xgboost                  0.556 +/- 0.053 (in 3 folds)   \n",
       "linearsvm_ovr            0.573 +/- 0.082 (in 3 folds)   \n",
       "lasso_multiclass         0.590 +/- 0.092 (in 3 folds)   \n",
       "lasso_cv                 0.512 +/- 0.157 (in 3 folds)   \n",
       "rf_multiclass            0.564 +/- 0.089 (in 3 folds)   \n",
       "elasticnet_cv            0.512 +/- 0.134 (in 3 folds)   \n",
       "ridge_cv                 0.478 +/- 0.054 (in 3 folds)   \n",
       "dummy_stratified         0.392 +/- 0.096 (in 3 folds)   \n",
       "dummy_most_frequent      0.478 +/- 0.054 (in 3 folds)   \n",
       "\n",
       "                     MCC per fold with abstention  ...  \\\n",
       "xgboost              0.296 +/- 0.028 (in 3 folds)  ...   \n",
       "linearsvm_ovr        0.295 +/- 0.029 (in 3 folds)  ...   \n",
       "lasso_multiclass     0.337 +/- 0.064 (in 3 folds)  ...   \n",
       "lasso_cv             0.168 +/- 0.186 (in 3 folds)  ...   \n",
       "rf_multiclass        0.319 +/- 0.068 (in 3 folds)  ...   \n",
       "elasticnet_cv        0.136 +/- 0.167 (in 3 folds)  ...   \n",
       "ridge_cv             0.002 +/- 0.003 (in 3 folds)  ...   \n",
       "dummy_stratified     0.009 +/- 0.053 (in 3 folds)  ...   \n",
       "dummy_most_frequent  0.002 +/- 0.003 (in 3 folds)  ...   \n",
       "\n",
       "                    au-PRC (macro OvO) per fold with abstention  \\\n",
       "xgboost                            0.703 +/- 0.000 (in 1 folds)   \n",
       "linearsvm_ovr                      0.727 +/- 0.056 (in 2 folds)   \n",
       "lasso_multiclass                   0.675 +/- 0.013 (in 2 folds)   \n",
       "lasso_cv                           0.688 +/- 0.000 (in 1 folds)   \n",
       "rf_multiclass                      0.610 +/- 0.027 (in 2 folds)   \n",
       "elasticnet_cv                      0.685 +/- 0.071 (in 2 folds)   \n",
       "ridge_cv                           0.572 +/- 0.102 (in 2 folds)   \n",
       "dummy_stratified                   0.504 +/- 0.008 (in 2 folds)   \n",
       "dummy_most_frequent                0.500 +/- 0.000 (in 2 folds)   \n",
       "\n",
       "                    Accuracy global with abstention  \\\n",
       "xgboost                                       0.557   \n",
       "linearsvm_ovr                                 0.574   \n",
       "lasso_multiclass                              0.591   \n",
       "lasso_cv                                      0.513   \n",
       "rf_multiclass                                 0.565   \n",
       "elasticnet_cv                                 0.513   \n",
       "ridge_cv                                      0.478   \n",
       "dummy_stratified                              0.391   \n",
       "dummy_most_frequent                           0.478   \n",
       "\n",
       "                    MCC global with abstention  \\\n",
       "xgboost                                  0.273   \n",
       "linearsvm_ovr                            0.292   \n",
       "lasso_multiclass                         0.336   \n",
       "lasso_cv                                 0.154   \n",
       "rf_multiclass                            0.284   \n",
       "elasticnet_cv                            0.128   \n",
       "ridge_cv                                -0.018   \n",
       "dummy_stratified                         0.019   \n",
       "dummy_most_frequent                     -0.018   \n",
       "\n",
       "                    Unknown/abstention proportion global with abstention  \\\n",
       "xgboost                                                          0.070     \n",
       "linearsvm_ovr                                                    0.017     \n",
       "lasso_multiclass                                                 0.017     \n",
       "lasso_cv                                                         0.061     \n",
       "rf_multiclass                                                    0.043     \n",
       "elasticnet_cv                                                    0.035     \n",
       "ridge_cv                                                         0.043     \n",
       "dummy_stratified                                                 0.087     \n",
       "dummy_most_frequent                                              0.043     \n",
       "\n",
       "                    Abstention label global with abstention sample_size  \\\n",
       "xgboost                                             Unknown         107   \n",
       "linearsvm_ovr                                       Unknown         113   \n",
       "lasso_multiclass                                    Unknown         113   \n",
       "lasso_cv                                            Unknown         108   \n",
       "rf_multiclass                                       Unknown         110   \n",
       "elasticnet_cv                                       Unknown         111   \n",
       "ridge_cv                                            Unknown         110   \n",
       "dummy_stratified                                    Unknown         105   \n",
       "dummy_most_frequent                                 Unknown         110   \n",
       "\n",
       "                    n_abstentions sample_size including abstentions  \\\n",
       "xgboost                         8                               115   \n",
       "linearsvm_ovr                   2                               115   \n",
       "lasso_multiclass                2                               115   \n",
       "lasso_cv                        7                               115   \n",
       "rf_multiclass                   5                               115   \n",
       "elasticnet_cv                   4                               115   \n",
       "ridge_cv                        5                               115   \n",
       "dummy_stratified               10                               115   \n",
       "dummy_most_frequent             5                               115   \n",
       "\n",
       "                    abstention_rate  missing_classes  \n",
       "xgboost                    0.069565            False  \n",
       "linearsvm_ovr              0.017391             True  \n",
       "lasso_multiclass           0.017391             True  \n",
       "lasso_cv                   0.060870             True  \n",
       "rf_multiclass              0.043478             True  \n",
       "elasticnet_cv              0.034783             True  \n",
       "ridge_cv                   0.043478             True  \n",
       "dummy_stratified           0.086957             True  \n",
       "dummy_most_frequent        0.043478             True  \n",
       "\n",
       "[9 rows x 24 columns]"
      ]
     },
     "metadata": {},
     "output_type": "display_data"
    },
    {
     "name": "stdout",
     "output_type": "stream",
     "text": [
      "GeneLocus.TCR, fold 0, TargetObsColumnEnum.ethnicity_condensed_healthy_only, lasso_multiclass: best p value = 0.005. Number of disease associated clusters: {'African': 220, 'Asian': 166, 'Caucasian': 11, 'Hispanic/Latino': 123}\n",
      "GeneLocus.TCR, fold 0, TargetObsColumnEnum.ethnicity_condensed_healthy_only, rf_multiclass: best p value = 0.005. Number of disease associated clusters: {'African': 220, 'Asian': 166, 'Caucasian': 11, 'Hispanic/Latino': 123}\n"
     ]
    },
    {
     "name": "stdout",
     "output_type": "stream",
     "text": [
      "GeneLocus.TCR, fold 0, TargetObsColumnEnum.ethnicity_condensed_healthy_only, linearsvm_ovr: best p value = 0.005. Number of disease associated clusters: {'African': 220, 'Asian': 166, 'Caucasian': 11, 'Hispanic/Latino': 123}\n",
      "\n"
     ]
    },
    {
     "name": "stdout",
     "output_type": "stream",
     "text": [
      "GeneLocus.TCR, fold 1, TargetObsColumnEnum.ethnicity_condensed_healthy_only, lasso_multiclass: best p value = 0.01. Number of disease associated clusters: {'African': 129, 'Asian': 496, 'Caucasian': 26, 'Hispanic/Latino': 202}\n",
      "GeneLocus.TCR, fold 1, TargetObsColumnEnum.ethnicity_condensed_healthy_only, rf_multiclass: best p value = 0.001. Number of disease associated clusters: {'African': 7, 'Asian': 33, 'Caucasian': 2, 'Hispanic/Latino': 5}\n"
     ]
    },
    {
     "name": "stdout",
     "output_type": "stream",
     "text": [
      "GeneLocus.TCR, fold 1, TargetObsColumnEnum.ethnicity_condensed_healthy_only, linearsvm_ovr: best p value = 0.005. Number of disease associated clusters: {'African': 126, 'Asian': 109, 'Caucasian': 11, 'Hispanic/Latino': 141}\n",
      "\n"
     ]
    },
    {
     "name": "stderr",
     "output_type": "stream",
     "text": [
      "2023-01-07 03:54:05,156 - analyze_convergent_clustering_models.ipynb - INFO - GeneLocus.TCR, TargetObsColumnEnum.age_group_healthy_only from /users/maximz/code/boyd-immune-repertoire-classification/data/data_v_20221224/convergent_clusters/TCR/age_group_healthy_only/train_smaller_model to /users/maximz/code/boyd-immune-repertoire-classification/out/convergent_clusters/TCR/age_group_healthy_only/train_smaller_model\n"
     ]
    },
    {
     "name": "stdout",
     "output_type": "stream",
     "text": [
      "GeneLocus.TCR, fold 2, TargetObsColumnEnum.ethnicity_condensed_healthy_only, lasso_multiclass: best p value = 0.01. Number of disease associated clusters: {'African': 177, 'Asian': 171, 'Caucasian': 85, 'Hispanic/Latino': 187}\n",
      "GeneLocus.TCR, fold 2, TargetObsColumnEnum.ethnicity_condensed_healthy_only, rf_multiclass: best p value = 0.05. Number of disease associated clusters: {'African': 2966, 'Asian': 4195, 'Caucasian': 626, 'Hispanic/Latino': 66760}\n",
      "GeneLocus.TCR, fold 2, TargetObsColumnEnum.ethnicity_condensed_healthy_only, linearsvm_ovr: best p value = 0.01. Number of disease associated clusters: {'African': 177, 'Asian': 171, 'Caucasian': 85, 'Hispanic/Latino': 187}\n",
      "\n"
     ]
    },
    {
     "name": "stderr",
     "output_type": "stream",
     "text": [
      "2023-01-07 03:54:06,057 - malid.external.genetools_extras - WARNING - Removing class absent from y_true: 70-80\n"
     ]
    },
    {
     "name": "stderr",
     "output_type": "stream",
     "text": [
      "2023-01-07 03:54:06,094 - malid.external.genetools_extras - WARNING - Removing class absent from y_true: 70-80\n"
     ]
    },
    {
     "name": "stderr",
     "output_type": "stream",
     "text": [
      "2023-01-07 03:54:06,120 - malid.external.genetools_extras - WARNING - Removing class absent from y_true: 70-80\n"
     ]
    },
    {
     "name": "stderr",
     "output_type": "stream",
     "text": [
      "2023-01-07 03:54:06,134 - malid.external.genetools_extras - WARNING - Removing class absent from y_true: 70-80\n"
     ]
    },
    {
     "name": "stderr",
     "output_type": "stream",
     "text": [
      "2023-01-07 03:54:06,148 - malid.external.genetools_extras - WARNING - Inserting phantom class: 70-80\n"
     ]
    },
    {
     "name": "stderr",
     "output_type": "stream",
     "text": [
      "2023-01-07 03:54:06,183 - malid.external.genetools_extras - WARNING - Inserting phantom class: 70-80\n"
     ]
    },
    {
     "name": "stderr",
     "output_type": "stream",
     "text": [
      "2023-01-07 03:54:06,217 - malid.external.genetools_extras - WARNING - Inserting phantom class: 70-80\n"
     ]
    },
    {
     "name": "stderr",
     "output_type": "stream",
     "text": [
      "2023-01-07 03:54:06,234 - malid.external.genetools_extras - WARNING - Inserting phantom class: 70-80\n"
     ]
    },
    {
     "name": "stderr",
     "output_type": "stream",
     "text": [
      "2023-01-07 03:54:06,332 - malid.external.genetools_extras - WARNING - Removing class absent from y_true: 70-80\n"
     ]
    },
    {
     "name": "stderr",
     "output_type": "stream",
     "text": [
      "2023-01-07 03:54:06,359 - malid.external.genetools_extras - WARNING - Removing class absent from y_true: 70-80\n"
     ]
    },
    {
     "name": "stderr",
     "output_type": "stream",
     "text": [
      "2023-01-07 03:54:06,393 - malid.external.genetools_extras - WARNING - Removing class absent from y_true: 70-80\n"
     ]
    },
    {
     "name": "stderr",
     "output_type": "stream",
     "text": [
      "2023-01-07 03:54:06,407 - malid.external.genetools_extras - WARNING - Removing class absent from y_true: 70-80\n"
     ]
    },
    {
     "name": "stderr",
     "output_type": "stream",
     "text": [
      "2023-01-07 03:54:06,421 - malid.external.genetools_extras - WARNING - Inserting phantom class: 70-80\n"
     ]
    },
    {
     "name": "stderr",
     "output_type": "stream",
     "text": [
      "2023-01-07 03:54:06,455 - malid.external.genetools_extras - WARNING - Inserting phantom class: 70-80\n"
     ]
    },
    {
     "name": "stderr",
     "output_type": "stream",
     "text": [
      "2023-01-07 03:54:06,490 - malid.external.genetools_extras - WARNING - Inserting phantom class: 70-80\n"
     ]
    },
    {
     "name": "stderr",
     "output_type": "stream",
     "text": [
      "2023-01-07 03:54:06,516 - malid.external.genetools_extras - WARNING - Inserting phantom class: 70-80\n"
     ]
    },
    {
     "name": "stderr",
     "output_type": "stream",
     "text": [
      "2023-01-07 03:54:06,894 - malid.external.genetools_extras - WARNING - Removing class absent from y_true: 70-80\n"
     ]
    },
    {
     "name": "stderr",
     "output_type": "stream",
     "text": [
      "2023-01-07 03:54:06,927 - malid.external.genetools_extras - WARNING - Removing class absent from y_true: 70-80\n"
     ]
    },
    {
     "name": "stderr",
     "output_type": "stream",
     "text": [
      "2023-01-07 03:54:06,953 - malid.external.genetools_extras - WARNING - Removing class absent from y_true: 70-80\n"
     ]
    },
    {
     "name": "stderr",
     "output_type": "stream",
     "text": [
      "2023-01-07 03:54:06,976 - malid.external.genetools_extras - WARNING - Removing class absent from y_true: 70-80\n"
     ]
    },
    {
     "name": "stderr",
     "output_type": "stream",
     "text": [
      "2023-01-07 03:54:06,989 - malid.external.genetools_extras - WARNING - Inserting phantom class: 70-80\n"
     ]
    },
    {
     "name": "stderr",
     "output_type": "stream",
     "text": [
      "2023-01-07 03:54:07,022 - malid.external.genetools_extras - WARNING - Inserting phantom class: 70-80\n"
     ]
    },
    {
     "name": "stderr",
     "output_type": "stream",
     "text": [
      "2023-01-07 03:54:07,055 - malid.external.genetools_extras - WARNING - Inserting phantom class: 70-80\n"
     ]
    },
    {
     "name": "stderr",
     "output_type": "stream",
     "text": [
      "2023-01-07 03:54:07,082 - malid.external.genetools_extras - WARNING - Inserting phantom class: 70-80\n"
     ]
    },
    {
     "name": "stderr",
     "output_type": "stream",
     "text": [
      "2023-01-07 03:54:07,180 - malid.external.genetools_extras - WARNING - Removing class absent from y_true: 70-80\n"
     ]
    },
    {
     "name": "stderr",
     "output_type": "stream",
     "text": [
      "2023-01-07 03:54:07,207 - malid.external.genetools_extras - WARNING - Removing class absent from y_true: 70-80\n"
     ]
    },
    {
     "name": "stderr",
     "output_type": "stream",
     "text": [
      "2023-01-07 03:54:07,231 - malid.external.genetools_extras - WARNING - Removing class absent from y_true: 70-80\n"
     ]
    },
    {
     "name": "stderr",
     "output_type": "stream",
     "text": [
      "2023-01-07 03:54:07,245 - malid.external.genetools_extras - WARNING - Removing class absent from y_true: 70-80\n"
     ]
    },
    {
     "name": "stderr",
     "output_type": "stream",
     "text": [
      "2023-01-07 03:54:07,260 - malid.external.genetools_extras - WARNING - Inserting phantom class: 70-80\n"
     ]
    },
    {
     "name": "stderr",
     "output_type": "stream",
     "text": [
      "2023-01-07 03:54:07,293 - malid.external.genetools_extras - WARNING - Inserting phantom class: 70-80\n"
     ]
    },
    {
     "name": "stderr",
     "output_type": "stream",
     "text": [
      "2023-01-07 03:54:07,328 - malid.external.genetools_extras - WARNING - Inserting phantom class: 70-80\n"
     ]
    },
    {
     "name": "stderr",
     "output_type": "stream",
     "text": [
      "2023-01-07 03:54:07,345 - malid.external.genetools_extras - WARNING - Inserting phantom class: 70-80\n"
     ]
    },
    {
     "name": "stderr",
     "output_type": "stream",
     "text": [
      "2023-01-07 03:54:07,788 - malid.external.genetools_extras - WARNING - Removing class absent from y_true: 70-80\n"
     ]
    },
    {
     "name": "stderr",
     "output_type": "stream",
     "text": [
      "2023-01-07 03:54:07,817 - malid.external.genetools_extras - WARNING - Removing class absent from y_true: 70-80\n"
     ]
    },
    {
     "name": "stderr",
     "output_type": "stream",
     "text": [
      "2023-01-07 03:54:07,843 - malid.external.genetools_extras - WARNING - Removing class absent from y_true: 70-80\n"
     ]
    },
    {
     "name": "stderr",
     "output_type": "stream",
     "text": [
      "2023-01-07 03:54:07,857 - malid.external.genetools_extras - WARNING - Removing class absent from y_true: 70-80\n"
     ]
    },
    {
     "name": "stderr",
     "output_type": "stream",
     "text": [
      "2023-01-07 03:54:07,871 - malid.external.genetools_extras - WARNING - Inserting phantom class: 70-80\n"
     ]
    },
    {
     "name": "stderr",
     "output_type": "stream",
     "text": [
      "2023-01-07 03:54:07,907 - malid.external.genetools_extras - WARNING - Inserting phantom class: 70-80\n"
     ]
    },
    {
     "name": "stderr",
     "output_type": "stream",
     "text": [
      "2023-01-07 03:54:07,944 - malid.external.genetools_extras - WARNING - Inserting phantom class: 70-80\n"
     ]
    },
    {
     "name": "stderr",
     "output_type": "stream",
     "text": [
      "2023-01-07 03:54:07,963 - malid.external.genetools_extras - WARNING - Inserting phantom class: 70-80\n"
     ]
    },
    {
     "name": "stderr",
     "output_type": "stream",
     "text": [
      "2023-01-07 03:54:08,064 - malid.external.genetools_extras - WARNING - Removing class absent from y_true: 70-80\n"
     ]
    },
    {
     "name": "stderr",
     "output_type": "stream",
     "text": [
      "2023-01-07 03:54:08,091 - malid.external.genetools_extras - WARNING - Removing class absent from y_true: 70-80\n"
     ]
    },
    {
     "name": "stderr",
     "output_type": "stream",
     "text": [
      "2023-01-07 03:54:08,118 - malid.external.genetools_extras - WARNING - Removing class absent from y_true: 70-80\n"
     ]
    },
    {
     "name": "stderr",
     "output_type": "stream",
     "text": [
      "2023-01-07 03:54:08,132 - malid.external.genetools_extras - WARNING - Removing class absent from y_true: 70-80\n"
     ]
    },
    {
     "name": "stderr",
     "output_type": "stream",
     "text": [
      "2023-01-07 03:54:08,147 - malid.external.genetools_extras - WARNING - Inserting phantom class: 70-80\n"
     ]
    },
    {
     "name": "stderr",
     "output_type": "stream",
     "text": [
      "2023-01-07 03:54:08,182 - malid.external.genetools_extras - WARNING - Inserting phantom class: 70-80\n"
     ]
    },
    {
     "name": "stderr",
     "output_type": "stream",
     "text": [
      "2023-01-07 03:54:08,218 - malid.external.genetools_extras - WARNING - Inserting phantom class: 70-80\n"
     ]
    },
    {
     "name": "stderr",
     "output_type": "stream",
     "text": [
      "2023-01-07 03:54:08,236 - malid.external.genetools_extras - WARNING - Inserting phantom class: 70-80\n"
     ]
    },
    {
     "name": "stderr",
     "output_type": "stream",
     "text": [
      "2023-01-07 03:54:08,629 - malid.external.genetools_extras - WARNING - Removing class absent from y_true: 70-80\n"
     ]
    },
    {
     "name": "stderr",
     "output_type": "stream",
     "text": [
      "2023-01-07 03:54:08,658 - malid.external.genetools_extras - WARNING - Removing class absent from y_true: 70-80\n"
     ]
    },
    {
     "name": "stderr",
     "output_type": "stream",
     "text": [
      "2023-01-07 03:54:08,687 - malid.external.genetools_extras - WARNING - Removing class absent from y_true: 70-80\n"
     ]
    },
    {
     "name": "stderr",
     "output_type": "stream",
     "text": [
      "2023-01-07 03:54:08,702 - malid.external.genetools_extras - WARNING - Removing class absent from y_true: 70-80\n"
     ]
    },
    {
     "name": "stderr",
     "output_type": "stream",
     "text": [
      "2023-01-07 03:54:08,718 - malid.external.genetools_extras - WARNING - Inserting phantom class: 70-80\n"
     ]
    },
    {
     "name": "stderr",
     "output_type": "stream",
     "text": [
      "2023-01-07 03:54:08,757 - malid.external.genetools_extras - WARNING - Inserting phantom class: 70-80\n"
     ]
    },
    {
     "name": "stderr",
     "output_type": "stream",
     "text": [
      "2023-01-07 03:54:08,794 - malid.external.genetools_extras - WARNING - Inserting phantom class: 70-80\n"
     ]
    },
    {
     "name": "stderr",
     "output_type": "stream",
     "text": [
      "2023-01-07 03:54:08,814 - malid.external.genetools_extras - WARNING - Inserting phantom class: 70-80\n"
     ]
    },
    {
     "name": "stderr",
     "output_type": "stream",
     "text": [
      "2023-01-07 03:54:08,925 - malid.external.genetools_extras - WARNING - Removing class absent from y_true: 70-80\n"
     ]
    },
    {
     "name": "stderr",
     "output_type": "stream",
     "text": [
      "2023-01-07 03:54:08,955 - malid.external.genetools_extras - WARNING - Removing class absent from y_true: 70-80\n"
     ]
    },
    {
     "name": "stderr",
     "output_type": "stream",
     "text": [
      "2023-01-07 03:54:08,984 - malid.external.genetools_extras - WARNING - Removing class absent from y_true: 70-80\n"
     ]
    },
    {
     "name": "stderr",
     "output_type": "stream",
     "text": [
      "2023-01-07 03:54:08,999 - malid.external.genetools_extras - WARNING - Removing class absent from y_true: 70-80\n"
     ]
    },
    {
     "name": "stderr",
     "output_type": "stream",
     "text": [
      "2023-01-07 03:54:09,014 - malid.external.genetools_extras - WARNING - Inserting phantom class: 70-80\n"
     ]
    },
    {
     "name": "stderr",
     "output_type": "stream",
     "text": [
      "2023-01-07 03:54:09,052 - malid.external.genetools_extras - WARNING - Inserting phantom class: 70-80\n"
     ]
    },
    {
     "name": "stderr",
     "output_type": "stream",
     "text": [
      "2023-01-07 03:54:09,089 - malid.external.genetools_extras - WARNING - Inserting phantom class: 70-80\n"
     ]
    },
    {
     "name": "stderr",
     "output_type": "stream",
     "text": [
      "2023-01-07 03:54:09,108 - malid.external.genetools_extras - WARNING - Inserting phantom class: 70-80\n"
     ]
    },
    {
     "name": "stderr",
     "output_type": "stream",
     "text": [
      "2023-01-07 03:54:09,422 - malid.external.genetools_extras - WARNING - Removing class absent from y_true: 70-80\n"
     ]
    },
    {
     "name": "stderr",
     "output_type": "stream",
     "text": [
      "2023-01-07 03:54:09,448 - malid.external.genetools_extras - WARNING - Removing class absent from y_true: 70-80\n"
     ]
    },
    {
     "name": "stderr",
     "output_type": "stream",
     "text": [
      "2023-01-07 03:54:09,473 - malid.external.genetools_extras - WARNING - Removing class absent from y_true: 70-80\n"
     ]
    },
    {
     "name": "stderr",
     "output_type": "stream",
     "text": [
      "2023-01-07 03:54:09,487 - malid.external.genetools_extras - WARNING - Removing class absent from y_true: 70-80\n"
     ]
    },
    {
     "name": "stderr",
     "output_type": "stream",
     "text": [
      "2023-01-07 03:54:09,502 - malid.external.genetools_extras - WARNING - Inserting phantom class: 70-80\n"
     ]
    },
    {
     "name": "stderr",
     "output_type": "stream",
     "text": [
      "2023-01-07 03:54:09,536 - malid.external.genetools_extras - WARNING - Inserting phantom class: 70-80\n"
     ]
    },
    {
     "name": "stderr",
     "output_type": "stream",
     "text": [
      "2023-01-07 03:54:09,569 - malid.external.genetools_extras - WARNING - Inserting phantom class: 70-80\n"
     ]
    },
    {
     "name": "stderr",
     "output_type": "stream",
     "text": [
      "2023-01-07 03:54:09,587 - malid.external.genetools_extras - WARNING - Inserting phantom class: 70-80\n"
     ]
    },
    {
     "name": "stderr",
     "output_type": "stream",
     "text": [
      "2023-01-07 03:54:09,684 - malid.external.genetools_extras - WARNING - Removing class absent from y_true: 70-80\n"
     ]
    },
    {
     "name": "stderr",
     "output_type": "stream",
     "text": [
      "2023-01-07 03:54:09,709 - malid.external.genetools_extras - WARNING - Removing class absent from y_true: 70-80\n"
     ]
    },
    {
     "name": "stderr",
     "output_type": "stream",
     "text": [
      "2023-01-07 03:54:09,733 - malid.external.genetools_extras - WARNING - Removing class absent from y_true: 70-80\n"
     ]
    },
    {
     "name": "stderr",
     "output_type": "stream",
     "text": [
      "2023-01-07 03:54:09,747 - malid.external.genetools_extras - WARNING - Removing class absent from y_true: 70-80\n"
     ]
    },
    {
     "name": "stderr",
     "output_type": "stream",
     "text": [
      "2023-01-07 03:54:09,761 - malid.external.genetools_extras - WARNING - Inserting phantom class: 70-80\n"
     ]
    },
    {
     "name": "stderr",
     "output_type": "stream",
     "text": [
      "2023-01-07 03:54:09,796 - malid.external.genetools_extras - WARNING - Inserting phantom class: 70-80\n"
     ]
    },
    {
     "name": "stderr",
     "output_type": "stream",
     "text": [
      "2023-01-07 03:54:09,829 - malid.external.genetools_extras - WARNING - Inserting phantom class: 70-80\n"
     ]
    },
    {
     "name": "stderr",
     "output_type": "stream",
     "text": [
      "2023-01-07 03:54:09,846 - malid.external.genetools_extras - WARNING - Inserting phantom class: 70-80\n"
     ]
    },
    {
     "name": "stderr",
     "output_type": "stream",
     "text": [
      "2023-01-07 03:54:10,141 - malid.external.genetools_extras - WARNING - Removing class absent from y_true: 70-80\n"
     ]
    },
    {
     "name": "stderr",
     "output_type": "stream",
     "text": [
      "2023-01-07 03:54:10,168 - malid.external.genetools_extras - WARNING - Removing class absent from y_true: 70-80\n"
     ]
    },
    {
     "name": "stderr",
     "output_type": "stream",
     "text": [
      "2023-01-07 03:54:10,194 - malid.external.genetools_extras - WARNING - Removing class absent from y_true: 70-80\n"
     ]
    },
    {
     "name": "stderr",
     "output_type": "stream",
     "text": [
      "2023-01-07 03:54:10,207 - malid.external.genetools_extras - WARNING - Removing class absent from y_true: 70-80\n"
     ]
    },
    {
     "name": "stderr",
     "output_type": "stream",
     "text": [
      "2023-01-07 03:54:10,223 - malid.external.genetools_extras - WARNING - Inserting phantom class: 70-80\n"
     ]
    },
    {
     "name": "stderr",
     "output_type": "stream",
     "text": [
      "2023-01-07 03:54:10,257 - malid.external.genetools_extras - WARNING - Inserting phantom class: 70-80\n"
     ]
    },
    {
     "name": "stderr",
     "output_type": "stream",
     "text": [
      "2023-01-07 03:54:10,292 - malid.external.genetools_extras - WARNING - Inserting phantom class: 70-80\n"
     ]
    },
    {
     "name": "stderr",
     "output_type": "stream",
     "text": [
      "2023-01-07 03:54:10,310 - malid.external.genetools_extras - WARNING - Inserting phantom class: 70-80\n"
     ]
    },
    {
     "name": "stderr",
     "output_type": "stream",
     "text": [
      "2023-01-07 03:54:10,421 - malid.external.genetools_extras - WARNING - Removing class absent from y_true: 70-80\n"
     ]
    },
    {
     "name": "stderr",
     "output_type": "stream",
     "text": [
      "2023-01-07 03:54:10,447 - malid.external.genetools_extras - WARNING - Removing class absent from y_true: 70-80\n"
     ]
    },
    {
     "name": "stderr",
     "output_type": "stream",
     "text": [
      "2023-01-07 03:54:10,473 - malid.external.genetools_extras - WARNING - Removing class absent from y_true: 70-80\n"
     ]
    },
    {
     "name": "stderr",
     "output_type": "stream",
     "text": [
      "2023-01-07 03:54:10,486 - malid.external.genetools_extras - WARNING - Removing class absent from y_true: 70-80\n"
     ]
    },
    {
     "name": "stderr",
     "output_type": "stream",
     "text": [
      "2023-01-07 03:54:10,502 - malid.external.genetools_extras - WARNING - Inserting phantom class: 70-80\n"
     ]
    },
    {
     "name": "stderr",
     "output_type": "stream",
     "text": [
      "2023-01-07 03:54:10,548 - malid.external.genetools_extras - WARNING - Inserting phantom class: 70-80\n"
     ]
    },
    {
     "name": "stderr",
     "output_type": "stream",
     "text": [
      "2023-01-07 03:54:10,581 - malid.external.genetools_extras - WARNING - Inserting phantom class: 70-80\n"
     ]
    },
    {
     "name": "stderr",
     "output_type": "stream",
     "text": [
      "2023-01-07 03:54:10,599 - malid.external.genetools_extras - WARNING - Inserting phantom class: 70-80\n"
     ]
    },
    {
     "name": "stderr",
     "output_type": "stream",
     "text": [
      "2023-01-07 03:54:11,017 - malid.external.genetools_extras - WARNING - Removing class absent from y_true: 70-80\n"
     ]
    },
    {
     "name": "stderr",
     "output_type": "stream",
     "text": [
      "2023-01-07 03:54:11,046 - malid.external.genetools_extras - WARNING - Removing class absent from y_true: 70-80\n"
     ]
    },
    {
     "name": "stderr",
     "output_type": "stream",
     "text": [
      "2023-01-07 03:54:11,079 - malid.external.genetools_extras - WARNING - Removing class absent from y_true: 70-80\n"
     ]
    },
    {
     "name": "stderr",
     "output_type": "stream",
     "text": [
      "2023-01-07 03:54:11,094 - malid.external.genetools_extras - WARNING - Removing class absent from y_true: 70-80\n"
     ]
    },
    {
     "name": "stderr",
     "output_type": "stream",
     "text": [
      "2023-01-07 03:54:11,108 - malid.external.genetools_extras - WARNING - Inserting phantom class: 70-80\n"
     ]
    },
    {
     "name": "stderr",
     "output_type": "stream",
     "text": [
      "2023-01-07 03:54:11,142 - malid.external.genetools_extras - WARNING - Inserting phantom class: 70-80\n"
     ]
    },
    {
     "name": "stderr",
     "output_type": "stream",
     "text": [
      "2023-01-07 03:54:11,177 - malid.external.genetools_extras - WARNING - Inserting phantom class: 70-80\n"
     ]
    },
    {
     "name": "stderr",
     "output_type": "stream",
     "text": [
      "2023-01-07 03:54:11,203 - malid.external.genetools_extras - WARNING - Inserting phantom class: 70-80\n"
     ]
    },
    {
     "name": "stderr",
     "output_type": "stream",
     "text": [
      "2023-01-07 03:54:11,304 - malid.external.genetools_extras - WARNING - Removing class absent from y_true: 70-80\n"
     ]
    },
    {
     "name": "stderr",
     "output_type": "stream",
     "text": [
      "2023-01-07 03:54:11,330 - malid.external.genetools_extras - WARNING - Removing class absent from y_true: 70-80\n"
     ]
    },
    {
     "name": "stderr",
     "output_type": "stream",
     "text": [
      "2023-01-07 03:54:11,355 - malid.external.genetools_extras - WARNING - Removing class absent from y_true: 70-80\n"
     ]
    },
    {
     "name": "stderr",
     "output_type": "stream",
     "text": [
      "2023-01-07 03:54:11,369 - malid.external.genetools_extras - WARNING - Removing class absent from y_true: 70-80\n"
     ]
    },
    {
     "name": "stderr",
     "output_type": "stream",
     "text": [
      "2023-01-07 03:54:11,392 - malid.external.genetools_extras - WARNING - Inserting phantom class: 70-80\n"
     ]
    },
    {
     "name": "stderr",
     "output_type": "stream",
     "text": [
      "2023-01-07 03:54:11,427 - malid.external.genetools_extras - WARNING - Inserting phantom class: 70-80\n"
     ]
    },
    {
     "name": "stderr",
     "output_type": "stream",
     "text": [
      "2023-01-07 03:54:11,461 - malid.external.genetools_extras - WARNING - Inserting phantom class: 70-80\n"
     ]
    },
    {
     "name": "stderr",
     "output_type": "stream",
     "text": [
      "2023-01-07 03:54:11,479 - malid.external.genetools_extras - WARNING - Inserting phantom class: 70-80\n"
     ]
    },
    {
     "name": "stderr",
     "output_type": "stream",
     "text": [
      "2023-01-07 03:54:11,856 - malid.external.genetools_extras - WARNING - Removing class absent from y_true: 70-80\n"
     ]
    },
    {
     "name": "stderr",
     "output_type": "stream",
     "text": [
      "2023-01-07 03:54:11,883 - malid.external.genetools_extras - WARNING - Removing class absent from y_true: 70-80\n"
     ]
    },
    {
     "name": "stderr",
     "output_type": "stream",
     "text": [
      "2023-01-07 03:54:11,918 - malid.external.genetools_extras - WARNING - Removing class absent from y_true: 70-80\n"
     ]
    },
    {
     "name": "stderr",
     "output_type": "stream",
     "text": [
      "2023-01-07 03:54:11,932 - malid.external.genetools_extras - WARNING - Removing class absent from y_true: 70-80\n"
     ]
    },
    {
     "name": "stderr",
     "output_type": "stream",
     "text": [
      "2023-01-07 03:54:11,947 - malid.external.genetools_extras - WARNING - Inserting phantom class: 70-80\n"
     ]
    },
    {
     "name": "stderr",
     "output_type": "stream",
     "text": [
      "2023-01-07 03:54:12,003 - malid.external.genetools_extras - WARNING - Inserting phantom class: 70-80\n"
     ]
    },
    {
     "name": "stderr",
     "output_type": "stream",
     "text": [
      "2023-01-07 03:54:12,049 - malid.external.genetools_extras - WARNING - Inserting phantom class: 70-80\n"
     ]
    },
    {
     "name": "stderr",
     "output_type": "stream",
     "text": [
      "2023-01-07 03:54:12,068 - malid.external.genetools_extras - WARNING - Inserting phantom class: 70-80\n"
     ]
    },
    {
     "name": "stderr",
     "output_type": "stream",
     "text": [
      "2023-01-07 03:54:12,170 - malid.external.genetools_extras - WARNING - Removing class absent from y_true: 70-80\n"
     ]
    },
    {
     "name": "stderr",
     "output_type": "stream",
     "text": [
      "2023-01-07 03:54:12,197 - malid.external.genetools_extras - WARNING - Removing class absent from y_true: 70-80\n"
     ]
    },
    {
     "name": "stderr",
     "output_type": "stream",
     "text": [
      "2023-01-07 03:54:12,224 - malid.external.genetools_extras - WARNING - Removing class absent from y_true: 70-80\n"
     ]
    },
    {
     "name": "stderr",
     "output_type": "stream",
     "text": [
      "2023-01-07 03:54:12,239 - malid.external.genetools_extras - WARNING - Removing class absent from y_true: 70-80\n"
     ]
    },
    {
     "name": "stderr",
     "output_type": "stream",
     "text": [
      "2023-01-07 03:54:12,253 - malid.external.genetools_extras - WARNING - Inserting phantom class: 70-80\n"
     ]
    },
    {
     "name": "stderr",
     "output_type": "stream",
     "text": [
      "2023-01-07 03:54:12,287 - malid.external.genetools_extras - WARNING - Inserting phantom class: 70-80\n"
     ]
    },
    {
     "name": "stderr",
     "output_type": "stream",
     "text": [
      "2023-01-07 03:54:12,321 - malid.external.genetools_extras - WARNING - Inserting phantom class: 70-80\n"
     ]
    },
    {
     "name": "stderr",
     "output_type": "stream",
     "text": [
      "2023-01-07 03:54:12,339 - malid.external.genetools_extras - WARNING - Inserting phantom class: 70-80\n"
     ]
    },
    {
     "name": "stderr",
     "output_type": "stream",
     "text": [
      "2023-01-07 03:54:12,742 - malid.external.genetools_extras - WARNING - Removing class absent from y_true: 70-80\n"
     ]
    },
    {
     "name": "stderr",
     "output_type": "stream",
     "text": [
      "2023-01-07 03:54:12,768 - malid.external.genetools_extras - WARNING - Removing class absent from y_true: 70-80\n"
     ]
    },
    {
     "name": "stderr",
     "output_type": "stream",
     "text": [
      "2023-01-07 03:54:12,795 - malid.external.genetools_extras - WARNING - Removing class absent from y_true: 70-80\n"
     ]
    },
    {
     "name": "stderr",
     "output_type": "stream",
     "text": [
      "2023-01-07 03:54:12,808 - malid.external.genetools_extras - WARNING - Removing class absent from y_true: 70-80\n"
     ]
    },
    {
     "name": "stderr",
     "output_type": "stream",
     "text": [
      "2023-01-07 03:54:12,823 - malid.external.genetools_extras - WARNING - Inserting phantom class: 70-80\n"
     ]
    },
    {
     "name": "stderr",
     "output_type": "stream",
     "text": [
      "2023-01-07 03:54:12,856 - malid.external.genetools_extras - WARNING - Inserting phantom class: 70-80\n"
     ]
    },
    {
     "name": "stderr",
     "output_type": "stream",
     "text": [
      "2023-01-07 03:54:12,889 - malid.external.genetools_extras - WARNING - Inserting phantom class: 70-80\n"
     ]
    },
    {
     "name": "stderr",
     "output_type": "stream",
     "text": [
      "2023-01-07 03:54:12,907 - malid.external.genetools_extras - WARNING - Inserting phantom class: 70-80\n"
     ]
    },
    {
     "name": "stderr",
     "output_type": "stream",
     "text": [
      "2023-01-07 03:54:13,007 - malid.external.genetools_extras - WARNING - Removing class absent from y_true: 70-80\n"
     ]
    },
    {
     "name": "stderr",
     "output_type": "stream",
     "text": [
      "2023-01-07 03:54:13,045 - malid.external.genetools_extras - WARNING - Removing class absent from y_true: 70-80\n"
     ]
    },
    {
     "name": "stderr",
     "output_type": "stream",
     "text": [
      "2023-01-07 03:54:13,071 - malid.external.genetools_extras - WARNING - Removing class absent from y_true: 70-80\n"
     ]
    },
    {
     "name": "stderr",
     "output_type": "stream",
     "text": [
      "2023-01-07 03:54:13,084 - malid.external.genetools_extras - WARNING - Removing class absent from y_true: 70-80\n"
     ]
    },
    {
     "name": "stderr",
     "output_type": "stream",
     "text": [
      "2023-01-07 03:54:13,099 - malid.external.genetools_extras - WARNING - Inserting phantom class: 70-80\n"
     ]
    },
    {
     "name": "stderr",
     "output_type": "stream",
     "text": [
      "2023-01-07 03:54:13,134 - malid.external.genetools_extras - WARNING - Inserting phantom class: 70-80\n"
     ]
    },
    {
     "name": "stderr",
     "output_type": "stream",
     "text": [
      "2023-01-07 03:54:13,169 - malid.external.genetools_extras - WARNING - Inserting phantom class: 70-80\n"
     ]
    },
    {
     "name": "stderr",
     "output_type": "stream",
     "text": [
      "2023-01-07 03:54:13,187 - malid.external.genetools_extras - WARNING - Inserting phantom class: 70-80\n"
     ]
    },
    {
     "name": "stdout",
     "output_type": "stream",
     "text": [
      "GeneLocus.TCR TargetObsColumnEnum.age_group_healthy_only\n"
     ]
    },
    {
     "data": {
      "text/html": [
       "<div>\n",
       "<style scoped>\n",
       "    .dataframe tbody tr th:only-of-type {\n",
       "        vertical-align: middle;\n",
       "    }\n",
       "\n",
       "    .dataframe tbody tr th {\n",
       "        vertical-align: top;\n",
       "    }\n",
       "\n",
       "    .dataframe thead th {\n",
       "        text-align: right;\n",
       "    }\n",
       "</style>\n",
       "<table border=\"1\" class=\"dataframe\">\n",
       "  <thead>\n",
       "    <tr style=\"text-align: right;\">\n",
       "      <th></th>\n",
       "      <th>ROC-AUC (weighted OvO) per fold</th>\n",
       "      <th>ROC-AUC (macro OvO) per fold</th>\n",
       "      <th>au-PRC (weighted OvO) per fold</th>\n",
       "      <th>au-PRC (macro OvO) per fold</th>\n",
       "      <th>Accuracy per fold</th>\n",
       "      <th>MCC per fold</th>\n",
       "      <th>Accuracy global</th>\n",
       "      <th>MCC global</th>\n",
       "      <th>Accuracy per fold with abstention</th>\n",
       "      <th>MCC per fold with abstention</th>\n",
       "      <th>...</th>\n",
       "      <th>au-PRC (macro OvO) per fold with abstention</th>\n",
       "      <th>Accuracy global with abstention</th>\n",
       "      <th>MCC global with abstention</th>\n",
       "      <th>Unknown/abstention proportion global with abstention</th>\n",
       "      <th>Abstention label global with abstention</th>\n",
       "      <th>sample_size</th>\n",
       "      <th>n_abstentions</th>\n",
       "      <th>sample_size including abstentions</th>\n",
       "      <th>abstention_rate</th>\n",
       "      <th>missing_classes</th>\n",
       "    </tr>\n",
       "  </thead>\n",
       "  <tbody>\n",
       "    <tr>\n",
       "      <th>lasso_multiclass</th>\n",
       "      <td>0.624 +/- 0.021 (in 3 folds)</td>\n",
       "      <td>0.604 +/- 0.014 (in 3 folds)</td>\n",
       "      <td>0.691 +/- 0.012 (in 3 folds)</td>\n",
       "      <td>0.675 +/- 0.013 (in 3 folds)</td>\n",
       "      <td>0.324 +/- 0.035 (in 3 folds)</td>\n",
       "      <td>0.250 +/- 0.044 (in 3 folds)</td>\n",
       "      <td>0.325</td>\n",
       "      <td>0.194</td>\n",
       "      <td>0.322 +/- 0.039 (in 3 folds)</td>\n",
       "      <td>0.248 +/- 0.043 (in 3 folds)</td>\n",
       "      <td>...</td>\n",
       "      <td>0.680 +/- 0.013 (in 2 folds)</td>\n",
       "      <td>0.322</td>\n",
       "      <td>0.193</td>\n",
       "      <td>0.009</td>\n",
       "      <td>Unknown</td>\n",
       "      <td>114</td>\n",
       "      <td>1</td>\n",
       "      <td>115</td>\n",
       "      <td>0.008696</td>\n",
       "      <td>True</td>\n",
       "    </tr>\n",
       "    <tr>\n",
       "      <th>lasso_cv</th>\n",
       "      <td>0.619 +/- 0.035 (in 3 folds)</td>\n",
       "      <td>0.604 +/- 0.031 (in 3 folds)</td>\n",
       "      <td>0.692 +/- 0.014 (in 3 folds)</td>\n",
       "      <td>0.681 +/- 0.011 (in 3 folds)</td>\n",
       "      <td>0.298 +/- 0.053 (in 3 folds)</td>\n",
       "      <td>0.253 +/- 0.029 (in 3 folds)</td>\n",
       "      <td>0.298</td>\n",
       "      <td>0.184</td>\n",
       "      <td>0.296 +/- 0.057 (in 3 folds)</td>\n",
       "      <td>0.249 +/- 0.034 (in 3 folds)</td>\n",
       "      <td>...</td>\n",
       "      <td>0.684 +/- 0.013 (in 2 folds)</td>\n",
       "      <td>0.296</td>\n",
       "      <td>0.183</td>\n",
       "      <td>0.009</td>\n",
       "      <td>Unknown</td>\n",
       "      <td>114</td>\n",
       "      <td>1</td>\n",
       "      <td>115</td>\n",
       "      <td>0.008696</td>\n",
       "      <td>True</td>\n",
       "    </tr>\n",
       "    <tr>\n",
       "      <th>rf_multiclass</th>\n",
       "      <td>0.615 +/- 0.026 (in 3 folds)</td>\n",
       "      <td>0.598 +/- 0.030 (in 3 folds)</td>\n",
       "      <td>0.657 +/- 0.011 (in 3 folds)</td>\n",
       "      <td>0.644 +/- 0.015 (in 3 folds)</td>\n",
       "      <td>0.324 +/- 0.009 (in 3 folds)</td>\n",
       "      <td>0.230 +/- 0.005 (in 3 folds)</td>\n",
       "      <td>0.325</td>\n",
       "      <td>0.180</td>\n",
       "      <td>0.322 +/- 0.013 (in 3 folds)</td>\n",
       "      <td>0.228 +/- 0.006 (in 3 folds)</td>\n",
       "      <td>...</td>\n",
       "      <td>0.650 +/- 0.016 (in 2 folds)</td>\n",
       "      <td>0.322</td>\n",
       "      <td>0.179</td>\n",
       "      <td>0.009</td>\n",
       "      <td>Unknown</td>\n",
       "      <td>114</td>\n",
       "      <td>1</td>\n",
       "      <td>115</td>\n",
       "      <td>0.008696</td>\n",
       "      <td>True</td>\n",
       "    </tr>\n",
       "    <tr>\n",
       "      <th>xgboost</th>\n",
       "      <td>0.606 +/- 0.062 (in 3 folds)</td>\n",
       "      <td>0.581 +/- 0.065 (in 3 folds)</td>\n",
       "      <td>0.660 +/- 0.051 (in 3 folds)</td>\n",
       "      <td>0.646 +/- 0.060 (in 3 folds)</td>\n",
       "      <td>0.357 +/- 0.035 (in 3 folds)</td>\n",
       "      <td>0.228 +/- 0.062 (in 3 folds)</td>\n",
       "      <td>0.355</td>\n",
       "      <td>0.217</td>\n",
       "      <td>0.331 +/- 0.022 (in 3 folds)</td>\n",
       "      <td>0.206 +/- 0.035 (in 3 folds)</td>\n",
       "      <td>...</td>\n",
       "      <td>0.713 +/- 0.000 (in 1 folds)</td>\n",
       "      <td>0.330</td>\n",
       "      <td>0.200</td>\n",
       "      <td>0.070</td>\n",
       "      <td>Unknown</td>\n",
       "      <td>107</td>\n",
       "      <td>8</td>\n",
       "      <td>115</td>\n",
       "      <td>0.069565</td>\n",
       "      <td>True</td>\n",
       "    </tr>\n",
       "    <tr>\n",
       "      <th>linearsvm_ovr</th>\n",
       "      <td>0.604 +/- 0.010 (in 3 folds)</td>\n",
       "      <td>0.580 +/- 0.022 (in 3 folds)</td>\n",
       "      <td>0.664 +/- 0.031 (in 3 folds)</td>\n",
       "      <td>0.646 +/- 0.040 (in 3 folds)</td>\n",
       "      <td>0.355 +/- 0.040 (in 3 folds)</td>\n",
       "      <td>0.240 +/- 0.050 (in 3 folds)</td>\n",
       "      <td>0.355</td>\n",
       "      <td>0.213</td>\n",
       "      <td>0.339 +/- 0.018 (in 3 folds)</td>\n",
       "      <td>0.226 +/- 0.036 (in 3 folds)</td>\n",
       "      <td>...</td>\n",
       "      <td>0.666 +/- 0.000 (in 1 folds)</td>\n",
       "      <td>0.339</td>\n",
       "      <td>0.204</td>\n",
       "      <td>0.043</td>\n",
       "      <td>Unknown</td>\n",
       "      <td>110</td>\n",
       "      <td>5</td>\n",
       "      <td>115</td>\n",
       "      <td>0.043478</td>\n",
       "      <td>True</td>\n",
       "    </tr>\n",
       "    <tr>\n",
       "      <th>ridge_cv</th>\n",
       "      <td>0.599 +/- 0.056 (in 3 folds)</td>\n",
       "      <td>0.570 +/- 0.044 (in 3 folds)</td>\n",
       "      <td>0.659 +/- 0.017 (in 3 folds)</td>\n",
       "      <td>0.639 +/- 0.015 (in 3 folds)</td>\n",
       "      <td>0.253 +/- 0.061 (in 3 folds)</td>\n",
       "      <td>0.109 +/- 0.116 (in 3 folds)</td>\n",
       "      <td>0.250</td>\n",
       "      <td>0.077</td>\n",
       "      <td>0.235 +/- 0.049 (in 3 folds)</td>\n",
       "      <td>0.138 +/- 0.082 (in 3 folds)</td>\n",
       "      <td>...</td>\n",
       "      <td>0.625 +/- 0.000 (in 1 folds)</td>\n",
       "      <td>0.235</td>\n",
       "      <td>0.078</td>\n",
       "      <td>0.061</td>\n",
       "      <td>Unknown</td>\n",
       "      <td>108</td>\n",
       "      <td>7</td>\n",
       "      <td>115</td>\n",
       "      <td>0.060870</td>\n",
       "      <td>True</td>\n",
       "    </tr>\n",
       "    <tr>\n",
       "      <th>elasticnet_cv</th>\n",
       "      <td>0.598 +/- 0.010 (in 3 folds)</td>\n",
       "      <td>0.580 +/- 0.015 (in 3 folds)</td>\n",
       "      <td>0.661 +/- 0.023 (in 3 folds)</td>\n",
       "      <td>0.648 +/- 0.028 (in 3 folds)</td>\n",
       "      <td>0.281 +/- 0.084 (in 3 folds)</td>\n",
       "      <td>0.248 +/- 0.092 (in 3 folds)</td>\n",
       "      <td>0.281</td>\n",
       "      <td>0.147</td>\n",
       "      <td>0.279 +/- 0.086 (in 3 folds)</td>\n",
       "      <td>0.246 +/- 0.096 (in 3 folds)</td>\n",
       "      <td>...</td>\n",
       "      <td>0.632 +/- 0.008 (in 2 folds)</td>\n",
       "      <td>0.278</td>\n",
       "      <td>0.144</td>\n",
       "      <td>0.009</td>\n",
       "      <td>Unknown</td>\n",
       "      <td>114</td>\n",
       "      <td>1</td>\n",
       "      <td>115</td>\n",
       "      <td>0.008696</td>\n",
       "      <td>True</td>\n",
       "    </tr>\n",
       "    <tr>\n",
       "      <th>dummy_stratified</th>\n",
       "      <td>0.526 +/- 0.011 (in 3 folds)</td>\n",
       "      <td>0.527 +/- 0.009 (in 3 folds)</td>\n",
       "      <td>0.539 +/- 0.005 (in 3 folds)</td>\n",
       "      <td>0.540 +/- 0.004 (in 3 folds)</td>\n",
       "      <td>0.213 +/- 0.028 (in 3 folds)</td>\n",
       "      <td>0.054 +/- 0.033 (in 3 folds)</td>\n",
       "      <td>0.212</td>\n",
       "      <td>0.047</td>\n",
       "      <td>0.209 +/- 0.032 (in 3 folds)</td>\n",
       "      <td>0.056 +/- 0.031 (in 3 folds)</td>\n",
       "      <td>...</td>\n",
       "      <td>0.538 +/- 0.004 (in 2 folds)</td>\n",
       "      <td>0.209</td>\n",
       "      <td>0.048</td>\n",
       "      <td>0.017</td>\n",
       "      <td>Unknown</td>\n",
       "      <td>113</td>\n",
       "      <td>2</td>\n",
       "      <td>115</td>\n",
       "      <td>0.017391</td>\n",
       "      <td>False</td>\n",
       "    </tr>\n",
       "    <tr>\n",
       "      <th>dummy_most_frequent</th>\n",
       "      <td>0.500 +/- 0.000 (in 3 folds)</td>\n",
       "      <td>0.500 +/- 0.000 (in 3 folds)</td>\n",
       "      <td>0.500 +/- 0.000 (in 3 folds)</td>\n",
       "      <td>0.500 +/- 0.000 (in 3 folds)</td>\n",
       "      <td>0.229 +/- 0.064 (in 3 folds)</td>\n",
       "      <td>0.000 +/- 0.000 (in 3 folds)</td>\n",
       "      <td>0.226</td>\n",
       "      <td>0.035</td>\n",
       "      <td>0.208 +/- 0.042 (in 3 folds)</td>\n",
       "      <td>0.042 +/- 0.043 (in 3 folds)</td>\n",
       "      <td>...</td>\n",
       "      <td>0.500 +/- 0.000 (in 1 folds)</td>\n",
       "      <td>0.209</td>\n",
       "      <td>0.032</td>\n",
       "      <td>0.078</td>\n",
       "      <td>Unknown</td>\n",
       "      <td>106</td>\n",
       "      <td>9</td>\n",
       "      <td>115</td>\n",
       "      <td>0.078261</td>\n",
       "      <td>True</td>\n",
       "    </tr>\n",
       "  </tbody>\n",
       "</table>\n",
       "<p>9 rows × 24 columns</p>\n",
       "</div>"
      ],
      "text/plain": [
       "                    ROC-AUC (weighted OvO) per fold  \\\n",
       "lasso_multiclass       0.624 +/- 0.021 (in 3 folds)   \n",
       "lasso_cv               0.619 +/- 0.035 (in 3 folds)   \n",
       "rf_multiclass          0.615 +/- 0.026 (in 3 folds)   \n",
       "xgboost                0.606 +/- 0.062 (in 3 folds)   \n",
       "linearsvm_ovr          0.604 +/- 0.010 (in 3 folds)   \n",
       "ridge_cv               0.599 +/- 0.056 (in 3 folds)   \n",
       "elasticnet_cv          0.598 +/- 0.010 (in 3 folds)   \n",
       "dummy_stratified       0.526 +/- 0.011 (in 3 folds)   \n",
       "dummy_most_frequent    0.500 +/- 0.000 (in 3 folds)   \n",
       "\n",
       "                     ROC-AUC (macro OvO) per fold  \\\n",
       "lasso_multiclass     0.604 +/- 0.014 (in 3 folds)   \n",
       "lasso_cv             0.604 +/- 0.031 (in 3 folds)   \n",
       "rf_multiclass        0.598 +/- 0.030 (in 3 folds)   \n",
       "xgboost              0.581 +/- 0.065 (in 3 folds)   \n",
       "linearsvm_ovr        0.580 +/- 0.022 (in 3 folds)   \n",
       "ridge_cv             0.570 +/- 0.044 (in 3 folds)   \n",
       "elasticnet_cv        0.580 +/- 0.015 (in 3 folds)   \n",
       "dummy_stratified     0.527 +/- 0.009 (in 3 folds)   \n",
       "dummy_most_frequent  0.500 +/- 0.000 (in 3 folds)   \n",
       "\n",
       "                    au-PRC (weighted OvO) per fold  \\\n",
       "lasso_multiclass      0.691 +/- 0.012 (in 3 folds)   \n",
       "lasso_cv              0.692 +/- 0.014 (in 3 folds)   \n",
       "rf_multiclass         0.657 +/- 0.011 (in 3 folds)   \n",
       "xgboost               0.660 +/- 0.051 (in 3 folds)   \n",
       "linearsvm_ovr         0.664 +/- 0.031 (in 3 folds)   \n",
       "ridge_cv              0.659 +/- 0.017 (in 3 folds)   \n",
       "elasticnet_cv         0.661 +/- 0.023 (in 3 folds)   \n",
       "dummy_stratified      0.539 +/- 0.005 (in 3 folds)   \n",
       "dummy_most_frequent   0.500 +/- 0.000 (in 3 folds)   \n",
       "\n",
       "                      au-PRC (macro OvO) per fold  \\\n",
       "lasso_multiclass     0.675 +/- 0.013 (in 3 folds)   \n",
       "lasso_cv             0.681 +/- 0.011 (in 3 folds)   \n",
       "rf_multiclass        0.644 +/- 0.015 (in 3 folds)   \n",
       "xgboost              0.646 +/- 0.060 (in 3 folds)   \n",
       "linearsvm_ovr        0.646 +/- 0.040 (in 3 folds)   \n",
       "ridge_cv             0.639 +/- 0.015 (in 3 folds)   \n",
       "elasticnet_cv        0.648 +/- 0.028 (in 3 folds)   \n",
       "dummy_stratified     0.540 +/- 0.004 (in 3 folds)   \n",
       "dummy_most_frequent  0.500 +/- 0.000 (in 3 folds)   \n",
       "\n",
       "                                Accuracy per fold  \\\n",
       "lasso_multiclass     0.324 +/- 0.035 (in 3 folds)   \n",
       "lasso_cv             0.298 +/- 0.053 (in 3 folds)   \n",
       "rf_multiclass        0.324 +/- 0.009 (in 3 folds)   \n",
       "xgboost              0.357 +/- 0.035 (in 3 folds)   \n",
       "linearsvm_ovr        0.355 +/- 0.040 (in 3 folds)   \n",
       "ridge_cv             0.253 +/- 0.061 (in 3 folds)   \n",
       "elasticnet_cv        0.281 +/- 0.084 (in 3 folds)   \n",
       "dummy_stratified     0.213 +/- 0.028 (in 3 folds)   \n",
       "dummy_most_frequent  0.229 +/- 0.064 (in 3 folds)   \n",
       "\n",
       "                                     MCC per fold Accuracy global MCC global  \\\n",
       "lasso_multiclass     0.250 +/- 0.044 (in 3 folds)           0.325      0.194   \n",
       "lasso_cv             0.253 +/- 0.029 (in 3 folds)           0.298      0.184   \n",
       "rf_multiclass        0.230 +/- 0.005 (in 3 folds)           0.325      0.180   \n",
       "xgboost              0.228 +/- 0.062 (in 3 folds)           0.355      0.217   \n",
       "linearsvm_ovr        0.240 +/- 0.050 (in 3 folds)           0.355      0.213   \n",
       "ridge_cv             0.109 +/- 0.116 (in 3 folds)           0.250      0.077   \n",
       "elasticnet_cv        0.248 +/- 0.092 (in 3 folds)           0.281      0.147   \n",
       "dummy_stratified     0.054 +/- 0.033 (in 3 folds)           0.212      0.047   \n",
       "dummy_most_frequent  0.000 +/- 0.000 (in 3 folds)           0.226      0.035   \n",
       "\n",
       "                    Accuracy per fold with abstention  \\\n",
       "lasso_multiclass         0.322 +/- 0.039 (in 3 folds)   \n",
       "lasso_cv                 0.296 +/- 0.057 (in 3 folds)   \n",
       "rf_multiclass            0.322 +/- 0.013 (in 3 folds)   \n",
       "xgboost                  0.331 +/- 0.022 (in 3 folds)   \n",
       "linearsvm_ovr            0.339 +/- 0.018 (in 3 folds)   \n",
       "ridge_cv                 0.235 +/- 0.049 (in 3 folds)   \n",
       "elasticnet_cv            0.279 +/- 0.086 (in 3 folds)   \n",
       "dummy_stratified         0.209 +/- 0.032 (in 3 folds)   \n",
       "dummy_most_frequent      0.208 +/- 0.042 (in 3 folds)   \n",
       "\n",
       "                     MCC per fold with abstention  ...  \\\n",
       "lasso_multiclass     0.248 +/- 0.043 (in 3 folds)  ...   \n",
       "lasso_cv             0.249 +/- 0.034 (in 3 folds)  ...   \n",
       "rf_multiclass        0.228 +/- 0.006 (in 3 folds)  ...   \n",
       "xgboost              0.206 +/- 0.035 (in 3 folds)  ...   \n",
       "linearsvm_ovr        0.226 +/- 0.036 (in 3 folds)  ...   \n",
       "ridge_cv             0.138 +/- 0.082 (in 3 folds)  ...   \n",
       "elasticnet_cv        0.246 +/- 0.096 (in 3 folds)  ...   \n",
       "dummy_stratified     0.056 +/- 0.031 (in 3 folds)  ...   \n",
       "dummy_most_frequent  0.042 +/- 0.043 (in 3 folds)  ...   \n",
       "\n",
       "                    au-PRC (macro OvO) per fold with abstention  \\\n",
       "lasso_multiclass                   0.680 +/- 0.013 (in 2 folds)   \n",
       "lasso_cv                           0.684 +/- 0.013 (in 2 folds)   \n",
       "rf_multiclass                      0.650 +/- 0.016 (in 2 folds)   \n",
       "xgboost                            0.713 +/- 0.000 (in 1 folds)   \n",
       "linearsvm_ovr                      0.666 +/- 0.000 (in 1 folds)   \n",
       "ridge_cv                           0.625 +/- 0.000 (in 1 folds)   \n",
       "elasticnet_cv                      0.632 +/- 0.008 (in 2 folds)   \n",
       "dummy_stratified                   0.538 +/- 0.004 (in 2 folds)   \n",
       "dummy_most_frequent                0.500 +/- 0.000 (in 1 folds)   \n",
       "\n",
       "                    Accuracy global with abstention  \\\n",
       "lasso_multiclass                              0.322   \n",
       "lasso_cv                                      0.296   \n",
       "rf_multiclass                                 0.322   \n",
       "xgboost                                       0.330   \n",
       "linearsvm_ovr                                 0.339   \n",
       "ridge_cv                                      0.235   \n",
       "elasticnet_cv                                 0.278   \n",
       "dummy_stratified                              0.209   \n",
       "dummy_most_frequent                           0.209   \n",
       "\n",
       "                    MCC global with abstention  \\\n",
       "lasso_multiclass                         0.193   \n",
       "lasso_cv                                 0.183   \n",
       "rf_multiclass                            0.179   \n",
       "xgboost                                  0.200   \n",
       "linearsvm_ovr                            0.204   \n",
       "ridge_cv                                 0.078   \n",
       "elasticnet_cv                            0.144   \n",
       "dummy_stratified                         0.048   \n",
       "dummy_most_frequent                      0.032   \n",
       "\n",
       "                    Unknown/abstention proportion global with abstention  \\\n",
       "lasso_multiclass                                                 0.009     \n",
       "lasso_cv                                                         0.009     \n",
       "rf_multiclass                                                    0.009     \n",
       "xgboost                                                          0.070     \n",
       "linearsvm_ovr                                                    0.043     \n",
       "ridge_cv                                                         0.061     \n",
       "elasticnet_cv                                                    0.009     \n",
       "dummy_stratified                                                 0.017     \n",
       "dummy_most_frequent                                              0.078     \n",
       "\n",
       "                    Abstention label global with abstention sample_size  \\\n",
       "lasso_multiclass                                    Unknown         114   \n",
       "lasso_cv                                            Unknown         114   \n",
       "rf_multiclass                                       Unknown         114   \n",
       "xgboost                                             Unknown         107   \n",
       "linearsvm_ovr                                       Unknown         110   \n",
       "ridge_cv                                            Unknown         108   \n",
       "elasticnet_cv                                       Unknown         114   \n",
       "dummy_stratified                                    Unknown         113   \n",
       "dummy_most_frequent                                 Unknown         106   \n",
       "\n",
       "                    n_abstentions sample_size including abstentions  \\\n",
       "lasso_multiclass                1                               115   \n",
       "lasso_cv                        1                               115   \n",
       "rf_multiclass                   1                               115   \n",
       "xgboost                         8                               115   \n",
       "linearsvm_ovr                   5                               115   \n",
       "ridge_cv                        7                               115   \n",
       "elasticnet_cv                   1                               115   \n",
       "dummy_stratified                2                               115   \n",
       "dummy_most_frequent             9                               115   \n",
       "\n",
       "                    abstention_rate  missing_classes  \n",
       "lasso_multiclass           0.008696             True  \n",
       "lasso_cv                   0.008696             True  \n",
       "rf_multiclass              0.008696             True  \n",
       "xgboost                    0.069565             True  \n",
       "linearsvm_ovr              0.043478             True  \n",
       "ridge_cv                   0.060870             True  \n",
       "elasticnet_cv              0.008696             True  \n",
       "dummy_stratified           0.017391            False  \n",
       "dummy_most_frequent        0.078261             True  \n",
       "\n",
       "[9 rows x 24 columns]"
      ]
     },
     "metadata": {},
     "output_type": "display_data"
    },
    {
     "name": "stdout",
     "output_type": "stream",
     "text": [
      "GeneLocus.TCR, fold 0, TargetObsColumnEnum.age_group_healthy_only, lasso_multiclass: best p value = 0.05. Number of disease associated clusters: {'20-30': 3023, '30-40': 916, '40-50': 4285, '50-60': 730, '60-70': 1319, '70-80': 49604, '<20': 5331}\n",
      "GeneLocus.TCR, fold 0, TargetObsColumnEnum.age_group_healthy_only, rf_multiclass: best p value = 0.001. Number of disease associated clusters: {'20-30': 27, '30-40': 6, '40-50': 11, '50-60': 2, '60-70': 6, '70-80': 21, '<20': 359}\n"
     ]
    },
    {
     "name": "stdout",
     "output_type": "stream",
     "text": [
      "GeneLocus.TCR, fold 0, TargetObsColumnEnum.age_group_healthy_only, linearsvm_ovr: best p value = 0.01. Number of disease associated clusters: {'20-30': 202, '30-40': 379, '40-50': 164, '50-60': 67, '60-70': 599, '70-80': 80, '<20': 1123}\n",
      "\n"
     ]
    },
    {
     "name": "stdout",
     "output_type": "stream",
     "text": [
      "GeneLocus.TCR, fold 1, TargetObsColumnEnum.age_group_healthy_only, lasso_multiclass: best p value = 0.01. Number of disease associated clusters: {'20-30': 94, '30-40': 63, '40-50': 346, '50-60': 227, '60-70': 112, '<20': 1273}\n",
      "GeneLocus.TCR, fold 1, TargetObsColumnEnum.age_group_healthy_only, rf_multiclass: best p value = 0.01. Number of disease associated clusters: {'20-30': 94, '30-40': 63, '40-50': 346, '50-60': 227, '60-70': 112, '<20': 1273}\n",
      "GeneLocus.TCR, fold 1, TargetObsColumnEnum.age_group_healthy_only, linearsvm_ovr: best p value = 0.001. Number of disease associated clusters: {'20-30': 0, '30-40': 2, '40-50': 17, '50-60': 6, '60-70': 2, '<20': 160}\n",
      "\n",
      "GeneLocus.TCR, fold 2, TargetObsColumnEnum.age_group_healthy_only, lasso_multiclass: best p value = 0.005. Number of disease associated clusters: {'20-30': 17, '30-40': 126, '40-50': 206, '50-60': 58, '60-70': 28, '<20': 554}\n"
     ]
    },
    {
     "name": "stderr",
     "output_type": "stream",
     "text": [
      "2023-01-07 03:54:14,068 - analyze_convergent_clustering_models.ipynb - INFO - GeneLocus.TCR, TargetObsColumnEnum.age_group_binary_healthy_only from /users/maximz/code/boyd-immune-repertoire-classification/data/data_v_20221224/convergent_clusters/TCR/age_group_binary_healthy_only/train_smaller_model to /users/maximz/code/boyd-immune-repertoire-classification/out/convergent_clusters/TCR/age_group_binary_healthy_only/train_smaller_model\n"
     ]
    },
    {
     "name": "stdout",
     "output_type": "stream",
     "text": [
      "GeneLocus.TCR, fold 2, TargetObsColumnEnum.age_group_healthy_only, rf_multiclass: best p value = 0.005. Number of disease associated clusters: {'20-30': 17, '30-40': 126, '40-50': 206, '50-60': 58, '60-70': 28, '<20': 554}\n",
      "GeneLocus.TCR, fold 2, TargetObsColumnEnum.age_group_healthy_only, linearsvm_ovr: best p value = 0.005. Number of disease associated clusters: {'20-30': 17, '30-40': 126, '40-50': 206, '50-60': 58, '60-70': 28, '<20': 554}\n",
      "\n"
     ]
    },
    {
     "name": "stderr",
     "output_type": "stream",
     "text": [
      "2023-01-07 03:54:14,855 - malid.external.genetools_extras - WARNING - Removing class absent from y_true: 50+\n"
     ]
    },
    {
     "name": "stderr",
     "output_type": "stream",
     "text": [
      "2023-01-07 03:54:14,859 - malid.external.model_evaluation - ERROR - Error in evaluating predict-proba-based metric rocauc: Only one class present in y_true. Probability-based score is not defined in that case.\n"
     ]
    },
    {
     "name": "stderr",
     "output_type": "stream",
     "text": [
      "2023-01-07 03:54:14,874 - malid.external.genetools_extras - WARNING - Removing class absent from y_true: 50+\n"
     ]
    },
    {
     "name": "stderr",
     "output_type": "stream",
     "text": [
      "2023-01-07 03:54:14,880 - malid.external.model_evaluation - ERROR - Error in evaluating predict-proba-based metric auprc: Only one class present in y_true. Probability-based score is not defined in that case.\n"
     ]
    },
    {
     "name": "stderr",
     "output_type": "stream",
     "text": [
      "2023-01-07 03:54:14,922 - malid.external.genetools_extras - WARNING - Removing class absent from y_true: 50+\n"
     ]
    },
    {
     "name": "stderr",
     "output_type": "stream",
     "text": [
      "2023-01-07 03:54:14,925 - malid.external.model_evaluation - ERROR - Error in evaluating predict-proba-based metric rocauc: Only one class present in y_true. Probability-based score is not defined in that case.\n"
     ]
    },
    {
     "name": "stderr",
     "output_type": "stream",
     "text": [
      "2023-01-07 03:54:14,932 - malid.external.genetools_extras - WARNING - Removing class absent from y_true: 50+\n"
     ]
    },
    {
     "name": "stderr",
     "output_type": "stream",
     "text": [
      "2023-01-07 03:54:14,934 - malid.external.model_evaluation - ERROR - Error in evaluating predict-proba-based metric auprc: Only one class present in y_true. Probability-based score is not defined in that case.\n"
     ]
    },
    {
     "name": "stderr",
     "output_type": "stream",
     "text": [
      "2023-01-07 03:54:15,096 - malid.external.genetools_extras - WARNING - Removing class absent from y_true: 50+\n"
     ]
    },
    {
     "name": "stderr",
     "output_type": "stream",
     "text": [
      "2023-01-07 03:54:15,100 - malid.external.model_evaluation - ERROR - Error in evaluating predict-proba-based metric rocauc: Only one class present in y_true. Probability-based score is not defined in that case.\n"
     ]
    },
    {
     "name": "stderr",
     "output_type": "stream",
     "text": [
      "2023-01-07 03:54:15,114 - malid.external.genetools_extras - WARNING - Removing class absent from y_true: 50+\n"
     ]
    },
    {
     "name": "stderr",
     "output_type": "stream",
     "text": [
      "2023-01-07 03:54:15,120 - malid.external.model_evaluation - ERROR - Error in evaluating predict-proba-based metric auprc: Only one class present in y_true. Probability-based score is not defined in that case.\n"
     ]
    },
    {
     "name": "stderr",
     "output_type": "stream",
     "text": [
      "2023-01-07 03:54:15,159 - malid.external.genetools_extras - WARNING - Removing class absent from y_true: 50+\n"
     ]
    },
    {
     "name": "stderr",
     "output_type": "stream",
     "text": [
      "2023-01-07 03:54:15,162 - malid.external.model_evaluation - ERROR - Error in evaluating predict-proba-based metric rocauc: Only one class present in y_true. Probability-based score is not defined in that case.\n"
     ]
    },
    {
     "name": "stderr",
     "output_type": "stream",
     "text": [
      "2023-01-07 03:54:15,170 - malid.external.genetools_extras - WARNING - Removing class absent from y_true: 50+\n"
     ]
    },
    {
     "name": "stderr",
     "output_type": "stream",
     "text": [
      "2023-01-07 03:54:15,172 - malid.external.model_evaluation - ERROR - Error in evaluating predict-proba-based metric auprc: Only one class present in y_true. Probability-based score is not defined in that case.\n"
     ]
    },
    {
     "name": "stderr",
     "output_type": "stream",
     "text": [
      "2023-01-07 03:54:15,534 - malid.external.genetools_extras - WARNING - Removing class absent from y_true: 50+\n"
     ]
    },
    {
     "name": "stderr",
     "output_type": "stream",
     "text": [
      "2023-01-07 03:54:15,538 - malid.external.model_evaluation - ERROR - Error in evaluating predict-proba-based metric rocauc: Only one class present in y_true. Probability-based score is not defined in that case.\n"
     ]
    },
    {
     "name": "stderr",
     "output_type": "stream",
     "text": [
      "2023-01-07 03:54:15,554 - malid.external.genetools_extras - WARNING - Removing class absent from y_true: 50+\n"
     ]
    },
    {
     "name": "stderr",
     "output_type": "stream",
     "text": [
      "2023-01-07 03:54:15,559 - malid.external.model_evaluation - ERROR - Error in evaluating predict-proba-based metric auprc: Only one class present in y_true. Probability-based score is not defined in that case.\n"
     ]
    },
    {
     "name": "stderr",
     "output_type": "stream",
     "text": [
      "2023-01-07 03:54:15,599 - malid.external.genetools_extras - WARNING - Removing class absent from y_true: 50+\n"
     ]
    },
    {
     "name": "stderr",
     "output_type": "stream",
     "text": [
      "2023-01-07 03:54:15,601 - malid.external.model_evaluation - ERROR - Error in evaluating predict-proba-based metric rocauc: Only one class present in y_true. Probability-based score is not defined in that case.\n"
     ]
    },
    {
     "name": "stderr",
     "output_type": "stream",
     "text": [
      "2023-01-07 03:54:15,608 - malid.external.genetools_extras - WARNING - Removing class absent from y_true: 50+\n"
     ]
    },
    {
     "name": "stderr",
     "output_type": "stream",
     "text": [
      "2023-01-07 03:54:15,610 - malid.external.model_evaluation - ERROR - Error in evaluating predict-proba-based metric auprc: Only one class present in y_true. Probability-based score is not defined in that case.\n"
     ]
    },
    {
     "name": "stderr",
     "output_type": "stream",
     "text": [
      "2023-01-07 03:54:15,774 - malid.external.genetools_extras - WARNING - Removing class absent from y_true: 50+\n"
     ]
    },
    {
     "name": "stderr",
     "output_type": "stream",
     "text": [
      "2023-01-07 03:54:15,780 - malid.external.model_evaluation - ERROR - Error in evaluating predict-proba-based metric rocauc: Only one class present in y_true. Probability-based score is not defined in that case.\n"
     ]
    },
    {
     "name": "stderr",
     "output_type": "stream",
     "text": [
      "2023-01-07 03:54:15,796 - malid.external.genetools_extras - WARNING - Removing class absent from y_true: 50+\n"
     ]
    },
    {
     "name": "stderr",
     "output_type": "stream",
     "text": [
      "2023-01-07 03:54:15,800 - malid.external.model_evaluation - ERROR - Error in evaluating predict-proba-based metric auprc: Only one class present in y_true. Probability-based score is not defined in that case.\n"
     ]
    },
    {
     "name": "stderr",
     "output_type": "stream",
     "text": [
      "2023-01-07 03:54:15,840 - malid.external.genetools_extras - WARNING - Removing class absent from y_true: 50+\n"
     ]
    },
    {
     "name": "stderr",
     "output_type": "stream",
     "text": [
      "2023-01-07 03:54:15,843 - malid.external.model_evaluation - ERROR - Error in evaluating predict-proba-based metric rocauc: Only one class present in y_true. Probability-based score is not defined in that case.\n"
     ]
    },
    {
     "name": "stderr",
     "output_type": "stream",
     "text": [
      "2023-01-07 03:54:15,859 - malid.external.genetools_extras - WARNING - Removing class absent from y_true: 50+\n"
     ]
    },
    {
     "name": "stderr",
     "output_type": "stream",
     "text": [
      "2023-01-07 03:54:15,862 - malid.external.model_evaluation - ERROR - Error in evaluating predict-proba-based metric auprc: Only one class present in y_true. Probability-based score is not defined in that case.\n"
     ]
    },
    {
     "name": "stderr",
     "output_type": "stream",
     "text": [
      "2023-01-07 03:54:16,205 - malid.external.genetools_extras - WARNING - Removing class absent from y_true: 50+\n"
     ]
    },
    {
     "name": "stderr",
     "output_type": "stream",
     "text": [
      "2023-01-07 03:54:16,209 - malid.external.model_evaluation - ERROR - Error in evaluating predict-proba-based metric rocauc: Only one class present in y_true. Probability-based score is not defined in that case.\n"
     ]
    },
    {
     "name": "stderr",
     "output_type": "stream",
     "text": [
      "2023-01-07 03:54:16,220 - malid.external.genetools_extras - WARNING - Removing class absent from y_true: 50+\n"
     ]
    },
    {
     "name": "stderr",
     "output_type": "stream",
     "text": [
      "2023-01-07 03:54:16,224 - malid.external.model_evaluation - ERROR - Error in evaluating predict-proba-based metric auprc: Only one class present in y_true. Probability-based score is not defined in that case.\n"
     ]
    },
    {
     "name": "stderr",
     "output_type": "stream",
     "text": [
      "2023-01-07 03:54:16,261 - malid.external.genetools_extras - WARNING - Removing class absent from y_true: 50+\n"
     ]
    },
    {
     "name": "stderr",
     "output_type": "stream",
     "text": [
      "2023-01-07 03:54:16,264 - malid.external.model_evaluation - ERROR - Error in evaluating predict-proba-based metric rocauc: Only one class present in y_true. Probability-based score is not defined in that case.\n"
     ]
    },
    {
     "name": "stderr",
     "output_type": "stream",
     "text": [
      "2023-01-07 03:54:16,271 - malid.external.genetools_extras - WARNING - Removing class absent from y_true: 50+\n"
     ]
    },
    {
     "name": "stderr",
     "output_type": "stream",
     "text": [
      "2023-01-07 03:54:16,273 - malid.external.model_evaluation - ERROR - Error in evaluating predict-proba-based metric auprc: Only one class present in y_true. Probability-based score is not defined in that case.\n"
     ]
    },
    {
     "name": "stdout",
     "output_type": "stream",
     "text": [
      "GeneLocus.TCR TargetObsColumnEnum.age_group_binary_healthy_only\n"
     ]
    },
    {
     "data": {
      "text/html": [
       "<div>\n",
       "<style scoped>\n",
       "    .dataframe tbody tr th:only-of-type {\n",
       "        vertical-align: middle;\n",
       "    }\n",
       "\n",
       "    .dataframe tbody tr th {\n",
       "        vertical-align: top;\n",
       "    }\n",
       "\n",
       "    .dataframe thead th {\n",
       "        text-align: right;\n",
       "    }\n",
       "</style>\n",
       "<table border=\"1\" class=\"dataframe\">\n",
       "  <thead>\n",
       "    <tr style=\"text-align: right;\">\n",
       "      <th></th>\n",
       "      <th>ROC-AUC (weighted OvO) per fold</th>\n",
       "      <th>ROC-AUC (macro OvO) per fold</th>\n",
       "      <th>au-PRC (weighted OvO) per fold</th>\n",
       "      <th>au-PRC (macro OvO) per fold</th>\n",
       "      <th>Accuracy per fold</th>\n",
       "      <th>MCC per fold</th>\n",
       "      <th>Accuracy global</th>\n",
       "      <th>MCC global</th>\n",
       "      <th>Accuracy per fold with abstention</th>\n",
       "      <th>MCC per fold with abstention</th>\n",
       "      <th>...</th>\n",
       "      <th>Abstention label global with abstention</th>\n",
       "      <th>sample_size</th>\n",
       "      <th>n_abstentions</th>\n",
       "      <th>sample_size including abstentions</th>\n",
       "      <th>abstention_rate</th>\n",
       "      <th>missing_classes</th>\n",
       "      <th>ROC-AUC (weighted OvO) per fold with abstention</th>\n",
       "      <th>ROC-AUC (macro OvO) per fold with abstention</th>\n",
       "      <th>au-PRC (weighted OvO) per fold with abstention</th>\n",
       "      <th>au-PRC (macro OvO) per fold with abstention</th>\n",
       "    </tr>\n",
       "  </thead>\n",
       "  <tbody>\n",
       "    <tr>\n",
       "      <th>lasso_multiclass</th>\n",
       "      <td>0.755 +/- 0.061 (in 3 folds)</td>\n",
       "      <td>0.755 +/- 0.061 (in 3 folds)</td>\n",
       "      <td>0.871 +/- 0.049 (in 3 folds)</td>\n",
       "      <td>0.871 +/- 0.049 (in 3 folds)</td>\n",
       "      <td>0.697 +/- 0.036 (in 3 folds)</td>\n",
       "      <td>0.339 +/- 0.076 (in 3 folds)</td>\n",
       "      <td>0.696</td>\n",
       "      <td>0.331</td>\n",
       "      <td>0.679 +/- 0.033 (in 3 folds)</td>\n",
       "      <td>0.320 +/- 0.058 (in 3 folds)</td>\n",
       "      <td>...</td>\n",
       "      <td>Unknown</td>\n",
       "      <td>112</td>\n",
       "      <td>3</td>\n",
       "      <td>115</td>\n",
       "      <td>0.026087</td>\n",
       "      <td>False</td>\n",
       "      <td>0.801 +/- 0.000 (in 1 folds)</td>\n",
       "      <td>0.801 +/- 0.000 (in 1 folds)</td>\n",
       "      <td>0.926 +/- 0.000 (in 1 folds)</td>\n",
       "      <td>0.926 +/- 0.000 (in 1 folds)</td>\n",
       "    </tr>\n",
       "    <tr>\n",
       "      <th>linearsvm_ovr</th>\n",
       "      <td>0.743 +/- 0.055 (in 3 folds)</td>\n",
       "      <td>0.743 +/- 0.055 (in 3 folds)</td>\n",
       "      <td>0.864 +/- 0.029 (in 3 folds)</td>\n",
       "      <td>0.864 +/- 0.029 (in 3 folds)</td>\n",
       "      <td>0.706 +/- 0.050 (in 3 folds)</td>\n",
       "      <td>0.334 +/- 0.134 (in 3 folds)</td>\n",
       "      <td>0.705</td>\n",
       "      <td>0.340</td>\n",
       "      <td>0.687 +/- 0.041 (in 3 folds)</td>\n",
       "      <td>0.313 +/- 0.110 (in 3 folds)</td>\n",
       "      <td>...</td>\n",
       "      <td>Unknown</td>\n",
       "      <td>112</td>\n",
       "      <td>3</td>\n",
       "      <td>115</td>\n",
       "      <td>0.026087</td>\n",
       "      <td>False</td>\n",
       "      <td>0.745 +/- 0.000 (in 1 folds)</td>\n",
       "      <td>0.745 +/- 0.000 (in 1 folds)</td>\n",
       "      <td>0.887 +/- 0.000 (in 1 folds)</td>\n",
       "      <td>0.887 +/- 0.000 (in 1 folds)</td>\n",
       "    </tr>\n",
       "    <tr>\n",
       "      <th>elasticnet_cv</th>\n",
       "      <td>0.701 +/- 0.136 (in 2 folds)</td>\n",
       "      <td>0.701 +/- 0.136 (in 2 folds)</td>\n",
       "      <td>0.820 +/- 0.076 (in 2 folds)</td>\n",
       "      <td>0.820 +/- 0.076 (in 2 folds)</td>\n",
       "      <td>0.781 +/- 0.190 (in 3 folds)</td>\n",
       "      <td>0.101 +/- 0.174 (in 3 folds)</td>\n",
       "      <td>0.714</td>\n",
       "      <td>0.256</td>\n",
       "      <td>0.518 +/- 0.191 (in 3 folds)</td>\n",
       "      <td>0.160 +/- 0.142 (in 3 folds)</td>\n",
       "      <td>...</td>\n",
       "      <td>Unknown</td>\n",
       "      <td>84</td>\n",
       "      <td>31</td>\n",
       "      <td>115</td>\n",
       "      <td>0.269565</td>\n",
       "      <td>False</td>\n",
       "      <td>NaN</td>\n",
       "      <td>NaN</td>\n",
       "      <td>NaN</td>\n",
       "      <td>NaN</td>\n",
       "    </tr>\n",
       "    <tr>\n",
       "      <th>ridge_cv</th>\n",
       "      <td>0.690 +/- 0.117 (in 2 folds)</td>\n",
       "      <td>0.690 +/- 0.117 (in 2 folds)</td>\n",
       "      <td>0.811 +/- 0.054 (in 2 folds)</td>\n",
       "      <td>0.811 +/- 0.054 (in 2 folds)</td>\n",
       "      <td>0.754 +/- 0.216 (in 3 folds)</td>\n",
       "      <td>0.000 +/- 0.000 (in 3 folds)</td>\n",
       "      <td>0.679</td>\n",
       "      <td>0.000</td>\n",
       "      <td>0.492 +/- 0.171 (in 3 folds)</td>\n",
       "      <td>0.078 +/- 0.116 (in 3 folds)</td>\n",
       "      <td>...</td>\n",
       "      <td>Unknown</td>\n",
       "      <td>84</td>\n",
       "      <td>31</td>\n",
       "      <td>115</td>\n",
       "      <td>0.269565</td>\n",
       "      <td>True</td>\n",
       "      <td>NaN</td>\n",
       "      <td>NaN</td>\n",
       "      <td>NaN</td>\n",
       "      <td>NaN</td>\n",
       "    </tr>\n",
       "    <tr>\n",
       "      <th>lasso_cv</th>\n",
       "      <td>0.688 +/- 0.119 (in 2 folds)</td>\n",
       "      <td>0.688 +/- 0.119 (in 2 folds)</td>\n",
       "      <td>0.807 +/- 0.058 (in 2 folds)</td>\n",
       "      <td>0.807 +/- 0.058 (in 2 folds)</td>\n",
       "      <td>0.808 +/- 0.172 (in 3 folds)</td>\n",
       "      <td>0.204 +/- 0.253 (in 3 folds)</td>\n",
       "      <td>0.750</td>\n",
       "      <td>0.380</td>\n",
       "      <td>0.544 +/- 0.219 (in 3 folds)</td>\n",
       "      <td>0.247 +/- 0.176 (in 3 folds)</td>\n",
       "      <td>...</td>\n",
       "      <td>Unknown</td>\n",
       "      <td>84</td>\n",
       "      <td>31</td>\n",
       "      <td>115</td>\n",
       "      <td>0.269565</td>\n",
       "      <td>False</td>\n",
       "      <td>NaN</td>\n",
       "      <td>NaN</td>\n",
       "      <td>NaN</td>\n",
       "      <td>NaN</td>\n",
       "    </tr>\n",
       "    <tr>\n",
       "      <th>xgboost</th>\n",
       "      <td>0.647 +/- 0.024 (in 3 folds)</td>\n",
       "      <td>0.647 +/- 0.024 (in 3 folds)</td>\n",
       "      <td>0.749 +/- 0.070 (in 3 folds)</td>\n",
       "      <td>0.749 +/- 0.070 (in 3 folds)</td>\n",
       "      <td>0.688 +/- 0.063 (in 3 folds)</td>\n",
       "      <td>0.285 +/- 0.118 (in 3 folds)</td>\n",
       "      <td>0.688</td>\n",
       "      <td>0.292</td>\n",
       "      <td>0.671 +/- 0.075 (in 3 folds)</td>\n",
       "      <td>0.270 +/- 0.123 (in 3 folds)</td>\n",
       "      <td>...</td>\n",
       "      <td>Unknown</td>\n",
       "      <td>112</td>\n",
       "      <td>3</td>\n",
       "      <td>115</td>\n",
       "      <td>0.026087</td>\n",
       "      <td>False</td>\n",
       "      <td>0.673 +/- 0.000 (in 1 folds)</td>\n",
       "      <td>0.673 +/- 0.000 (in 1 folds)</td>\n",
       "      <td>0.824 +/- 0.000 (in 1 folds)</td>\n",
       "      <td>0.824 +/- 0.000 (in 1 folds)</td>\n",
       "    </tr>\n",
       "    <tr>\n",
       "      <th>rf_multiclass</th>\n",
       "      <td>0.626 +/- 0.063 (in 3 folds)</td>\n",
       "      <td>0.626 +/- 0.063 (in 3 folds)</td>\n",
       "      <td>0.760 +/- 0.045 (in 3 folds)</td>\n",
       "      <td>0.760 +/- 0.045 (in 3 folds)</td>\n",
       "      <td>0.679 +/- 0.065 (in 3 folds)</td>\n",
       "      <td>0.233 +/- 0.148 (in 3 folds)</td>\n",
       "      <td>0.679</td>\n",
       "      <td>0.238</td>\n",
       "      <td>0.662 +/- 0.070 (in 3 folds)</td>\n",
       "      <td>0.216 +/- 0.140 (in 3 folds)</td>\n",
       "      <td>...</td>\n",
       "      <td>Unknown</td>\n",
       "      <td>112</td>\n",
       "      <td>3</td>\n",
       "      <td>115</td>\n",
       "      <td>0.026087</td>\n",
       "      <td>False</td>\n",
       "      <td>0.556 +/- 0.000 (in 1 folds)</td>\n",
       "      <td>0.556 +/- 0.000 (in 1 folds)</td>\n",
       "      <td>0.781 +/- 0.000 (in 1 folds)</td>\n",
       "      <td>0.781 +/- 0.000 (in 1 folds)</td>\n",
       "    </tr>\n",
       "    <tr>\n",
       "      <th>dummy_stratified</th>\n",
       "      <td>0.585 +/- 0.027 (in 2 folds)</td>\n",
       "      <td>0.585 +/- 0.027 (in 2 folds)</td>\n",
       "      <td>0.671 +/- 0.066 (in 2 folds)</td>\n",
       "      <td>0.671 +/- 0.066 (in 2 folds)</td>\n",
       "      <td>0.713 +/- 0.172 (in 3 folds)</td>\n",
       "      <td>0.114 +/- 0.104 (in 3 folds)</td>\n",
       "      <td>0.651</td>\n",
       "      <td>0.206</td>\n",
       "      <td>0.483 +/- 0.184 (in 3 folds)</td>\n",
       "      <td>0.161 +/- 0.021 (in 3 folds)</td>\n",
       "      <td>...</td>\n",
       "      <td>Unknown</td>\n",
       "      <td>86</td>\n",
       "      <td>29</td>\n",
       "      <td>115</td>\n",
       "      <td>0.252174</td>\n",
       "      <td>False</td>\n",
       "      <td>0.567 +/- 0.000 (in 1 folds)</td>\n",
       "      <td>0.567 +/- 0.000 (in 1 folds)</td>\n",
       "      <td>0.625 +/- 0.000 (in 1 folds)</td>\n",
       "      <td>0.625 +/- 0.000 (in 1 folds)</td>\n",
       "    </tr>\n",
       "    <tr>\n",
       "      <th>dummy_most_frequent</th>\n",
       "      <td>0.500 +/- 0.000 (in 2 folds)</td>\n",
       "      <td>0.500 +/- 0.000 (in 2 folds)</td>\n",
       "      <td>0.631 +/- 0.051 (in 2 folds)</td>\n",
       "      <td>0.631 +/- 0.051 (in 2 folds)</td>\n",
       "      <td>0.754 +/- 0.216 (in 3 folds)</td>\n",
       "      <td>0.000 +/- 0.000 (in 3 folds)</td>\n",
       "      <td>0.679</td>\n",
       "      <td>0.000</td>\n",
       "      <td>0.492 +/- 0.171 (in 3 folds)</td>\n",
       "      <td>0.078 +/- 0.116 (in 3 folds)</td>\n",
       "      <td>...</td>\n",
       "      <td>Unknown</td>\n",
       "      <td>84</td>\n",
       "      <td>31</td>\n",
       "      <td>115</td>\n",
       "      <td>0.269565</td>\n",
       "      <td>True</td>\n",
       "      <td>NaN</td>\n",
       "      <td>NaN</td>\n",
       "      <td>NaN</td>\n",
       "      <td>NaN</td>\n",
       "    </tr>\n",
       "  </tbody>\n",
       "</table>\n",
       "<p>9 rows × 24 columns</p>\n",
       "</div>"
      ],
      "text/plain": [
       "                    ROC-AUC (weighted OvO) per fold  \\\n",
       "lasso_multiclass       0.755 +/- 0.061 (in 3 folds)   \n",
       "linearsvm_ovr          0.743 +/- 0.055 (in 3 folds)   \n",
       "elasticnet_cv          0.701 +/- 0.136 (in 2 folds)   \n",
       "ridge_cv               0.690 +/- 0.117 (in 2 folds)   \n",
       "lasso_cv               0.688 +/- 0.119 (in 2 folds)   \n",
       "xgboost                0.647 +/- 0.024 (in 3 folds)   \n",
       "rf_multiclass          0.626 +/- 0.063 (in 3 folds)   \n",
       "dummy_stratified       0.585 +/- 0.027 (in 2 folds)   \n",
       "dummy_most_frequent    0.500 +/- 0.000 (in 2 folds)   \n",
       "\n",
       "                     ROC-AUC (macro OvO) per fold  \\\n",
       "lasso_multiclass     0.755 +/- 0.061 (in 3 folds)   \n",
       "linearsvm_ovr        0.743 +/- 0.055 (in 3 folds)   \n",
       "elasticnet_cv        0.701 +/- 0.136 (in 2 folds)   \n",
       "ridge_cv             0.690 +/- 0.117 (in 2 folds)   \n",
       "lasso_cv             0.688 +/- 0.119 (in 2 folds)   \n",
       "xgboost              0.647 +/- 0.024 (in 3 folds)   \n",
       "rf_multiclass        0.626 +/- 0.063 (in 3 folds)   \n",
       "dummy_stratified     0.585 +/- 0.027 (in 2 folds)   \n",
       "dummy_most_frequent  0.500 +/- 0.000 (in 2 folds)   \n",
       "\n",
       "                    au-PRC (weighted OvO) per fold  \\\n",
       "lasso_multiclass      0.871 +/- 0.049 (in 3 folds)   \n",
       "linearsvm_ovr         0.864 +/- 0.029 (in 3 folds)   \n",
       "elasticnet_cv         0.820 +/- 0.076 (in 2 folds)   \n",
       "ridge_cv              0.811 +/- 0.054 (in 2 folds)   \n",
       "lasso_cv              0.807 +/- 0.058 (in 2 folds)   \n",
       "xgboost               0.749 +/- 0.070 (in 3 folds)   \n",
       "rf_multiclass         0.760 +/- 0.045 (in 3 folds)   \n",
       "dummy_stratified      0.671 +/- 0.066 (in 2 folds)   \n",
       "dummy_most_frequent   0.631 +/- 0.051 (in 2 folds)   \n",
       "\n",
       "                      au-PRC (macro OvO) per fold  \\\n",
       "lasso_multiclass     0.871 +/- 0.049 (in 3 folds)   \n",
       "linearsvm_ovr        0.864 +/- 0.029 (in 3 folds)   \n",
       "elasticnet_cv        0.820 +/- 0.076 (in 2 folds)   \n",
       "ridge_cv             0.811 +/- 0.054 (in 2 folds)   \n",
       "lasso_cv             0.807 +/- 0.058 (in 2 folds)   \n",
       "xgboost              0.749 +/- 0.070 (in 3 folds)   \n",
       "rf_multiclass        0.760 +/- 0.045 (in 3 folds)   \n",
       "dummy_stratified     0.671 +/- 0.066 (in 2 folds)   \n",
       "dummy_most_frequent  0.631 +/- 0.051 (in 2 folds)   \n",
       "\n",
       "                                Accuracy per fold  \\\n",
       "lasso_multiclass     0.697 +/- 0.036 (in 3 folds)   \n",
       "linearsvm_ovr        0.706 +/- 0.050 (in 3 folds)   \n",
       "elasticnet_cv        0.781 +/- 0.190 (in 3 folds)   \n",
       "ridge_cv             0.754 +/- 0.216 (in 3 folds)   \n",
       "lasso_cv             0.808 +/- 0.172 (in 3 folds)   \n",
       "xgboost              0.688 +/- 0.063 (in 3 folds)   \n",
       "rf_multiclass        0.679 +/- 0.065 (in 3 folds)   \n",
       "dummy_stratified     0.713 +/- 0.172 (in 3 folds)   \n",
       "dummy_most_frequent  0.754 +/- 0.216 (in 3 folds)   \n",
       "\n",
       "                                     MCC per fold Accuracy global MCC global  \\\n",
       "lasso_multiclass     0.339 +/- 0.076 (in 3 folds)           0.696      0.331   \n",
       "linearsvm_ovr        0.334 +/- 0.134 (in 3 folds)           0.705      0.340   \n",
       "elasticnet_cv        0.101 +/- 0.174 (in 3 folds)           0.714      0.256   \n",
       "ridge_cv             0.000 +/- 0.000 (in 3 folds)           0.679      0.000   \n",
       "lasso_cv             0.204 +/- 0.253 (in 3 folds)           0.750      0.380   \n",
       "xgboost              0.285 +/- 0.118 (in 3 folds)           0.688      0.292   \n",
       "rf_multiclass        0.233 +/- 0.148 (in 3 folds)           0.679      0.238   \n",
       "dummy_stratified     0.114 +/- 0.104 (in 3 folds)           0.651      0.206   \n",
       "dummy_most_frequent  0.000 +/- 0.000 (in 3 folds)           0.679      0.000   \n",
       "\n",
       "                    Accuracy per fold with abstention  \\\n",
       "lasso_multiclass         0.679 +/- 0.033 (in 3 folds)   \n",
       "linearsvm_ovr            0.687 +/- 0.041 (in 3 folds)   \n",
       "elasticnet_cv            0.518 +/- 0.191 (in 3 folds)   \n",
       "ridge_cv                 0.492 +/- 0.171 (in 3 folds)   \n",
       "lasso_cv                 0.544 +/- 0.219 (in 3 folds)   \n",
       "xgboost                  0.671 +/- 0.075 (in 3 folds)   \n",
       "rf_multiclass            0.662 +/- 0.070 (in 3 folds)   \n",
       "dummy_stratified         0.483 +/- 0.184 (in 3 folds)   \n",
       "dummy_most_frequent      0.492 +/- 0.171 (in 3 folds)   \n",
       "\n",
       "                     MCC per fold with abstention  ...  \\\n",
       "lasso_multiclass     0.320 +/- 0.058 (in 3 folds)  ...   \n",
       "linearsvm_ovr        0.313 +/- 0.110 (in 3 folds)  ...   \n",
       "elasticnet_cv        0.160 +/- 0.142 (in 3 folds)  ...   \n",
       "ridge_cv             0.078 +/- 0.116 (in 3 folds)  ...   \n",
       "lasso_cv             0.247 +/- 0.176 (in 3 folds)  ...   \n",
       "xgboost              0.270 +/- 0.123 (in 3 folds)  ...   \n",
       "rf_multiclass        0.216 +/- 0.140 (in 3 folds)  ...   \n",
       "dummy_stratified     0.161 +/- 0.021 (in 3 folds)  ...   \n",
       "dummy_most_frequent  0.078 +/- 0.116 (in 3 folds)  ...   \n",
       "\n",
       "                    Abstention label global with abstention sample_size  \\\n",
       "lasso_multiclass                                    Unknown         112   \n",
       "linearsvm_ovr                                       Unknown         112   \n",
       "elasticnet_cv                                       Unknown          84   \n",
       "ridge_cv                                            Unknown          84   \n",
       "lasso_cv                                            Unknown          84   \n",
       "xgboost                                             Unknown         112   \n",
       "rf_multiclass                                       Unknown         112   \n",
       "dummy_stratified                                    Unknown          86   \n",
       "dummy_most_frequent                                 Unknown          84   \n",
       "\n",
       "                    n_abstentions sample_size including abstentions  \\\n",
       "lasso_multiclass                3                               115   \n",
       "linearsvm_ovr                   3                               115   \n",
       "elasticnet_cv                  31                               115   \n",
       "ridge_cv                       31                               115   \n",
       "lasso_cv                       31                               115   \n",
       "xgboost                         3                               115   \n",
       "rf_multiclass                   3                               115   \n",
       "dummy_stratified               29                               115   \n",
       "dummy_most_frequent            31                               115   \n",
       "\n",
       "                    abstention_rate  missing_classes  \\\n",
       "lasso_multiclass           0.026087            False   \n",
       "linearsvm_ovr              0.026087            False   \n",
       "elasticnet_cv              0.269565            False   \n",
       "ridge_cv                   0.269565             True   \n",
       "lasso_cv                   0.269565            False   \n",
       "xgboost                    0.026087            False   \n",
       "rf_multiclass              0.026087            False   \n",
       "dummy_stratified           0.252174            False   \n",
       "dummy_most_frequent        0.269565             True   \n",
       "\n",
       "                     ROC-AUC (weighted OvO) per fold with abstention  \\\n",
       "lasso_multiclass                        0.801 +/- 0.000 (in 1 folds)   \n",
       "linearsvm_ovr                           0.745 +/- 0.000 (in 1 folds)   \n",
       "elasticnet_cv                                                    NaN   \n",
       "ridge_cv                                                         NaN   \n",
       "lasso_cv                                                         NaN   \n",
       "xgboost                                 0.673 +/- 0.000 (in 1 folds)   \n",
       "rf_multiclass                           0.556 +/- 0.000 (in 1 folds)   \n",
       "dummy_stratified                        0.567 +/- 0.000 (in 1 folds)   \n",
       "dummy_most_frequent                                              NaN   \n",
       "\n",
       "                     ROC-AUC (macro OvO) per fold with abstention  \\\n",
       "lasso_multiclass                     0.801 +/- 0.000 (in 1 folds)   \n",
       "linearsvm_ovr                        0.745 +/- 0.000 (in 1 folds)   \n",
       "elasticnet_cv                                                 NaN   \n",
       "ridge_cv                                                      NaN   \n",
       "lasso_cv                                                      NaN   \n",
       "xgboost                              0.673 +/- 0.000 (in 1 folds)   \n",
       "rf_multiclass                        0.556 +/- 0.000 (in 1 folds)   \n",
       "dummy_stratified                     0.567 +/- 0.000 (in 1 folds)   \n",
       "dummy_most_frequent                                           NaN   \n",
       "\n",
       "                     au-PRC (weighted OvO) per fold with abstention  \\\n",
       "lasso_multiclass                       0.926 +/- 0.000 (in 1 folds)   \n",
       "linearsvm_ovr                          0.887 +/- 0.000 (in 1 folds)   \n",
       "elasticnet_cv                                                   NaN   \n",
       "ridge_cv                                                        NaN   \n",
       "lasso_cv                                                        NaN   \n",
       "xgboost                                0.824 +/- 0.000 (in 1 folds)   \n",
       "rf_multiclass                          0.781 +/- 0.000 (in 1 folds)   \n",
       "dummy_stratified                       0.625 +/- 0.000 (in 1 folds)   \n",
       "dummy_most_frequent                                             NaN   \n",
       "\n",
       "                     au-PRC (macro OvO) per fold with abstention  \n",
       "lasso_multiclass                    0.926 +/- 0.000 (in 1 folds)  \n",
       "linearsvm_ovr                       0.887 +/- 0.000 (in 1 folds)  \n",
       "elasticnet_cv                                                NaN  \n",
       "ridge_cv                                                     NaN  \n",
       "lasso_cv                                                     NaN  \n",
       "xgboost                             0.824 +/- 0.000 (in 1 folds)  \n",
       "rf_multiclass                       0.781 +/- 0.000 (in 1 folds)  \n",
       "dummy_stratified                    0.625 +/- 0.000 (in 1 folds)  \n",
       "dummy_most_frequent                                          NaN  \n",
       "\n",
       "[9 rows x 24 columns]"
      ]
     },
     "metadata": {},
     "output_type": "display_data"
    },
    {
     "name": "stdout",
     "output_type": "stream",
     "text": [
      "GeneLocus.TCR, fold 0, TargetObsColumnEnum.age_group_binary_healthy_only, lasso_multiclass: best p value = 0.01. Number of disease associated clusters: {'50+': 53, 'under 50': 123}\n",
      "GeneLocus.TCR, fold 0, TargetObsColumnEnum.age_group_binary_healthy_only, rf_multiclass: best p value = 0.05. Number of disease associated clusters: {'50+': 359, 'under 50': 823}\n",
      "GeneLocus.TCR, fold 0, TargetObsColumnEnum.age_group_binary_healthy_only, linearsvm_ovr: best p value = 0.05. Number of disease associated clusters: {'50+': 359, 'under 50': 823}\n",
      "\n"
     ]
    },
    {
     "name": "stdout",
     "output_type": "stream",
     "text": [
      "GeneLocus.TCR, fold 1, TargetObsColumnEnum.age_group_binary_healthy_only, lasso_multiclass: best p value = 0.01. Number of disease associated clusters: {'50+': 67, 'under 50': 24}\n"
     ]
    },
    {
     "name": "stdout",
     "output_type": "stream",
     "text": [
      "GeneLocus.TCR, fold 1, TargetObsColumnEnum.age_group_binary_healthy_only, rf_multiclass: best p value = 0.01. Number of disease associated clusters: {'50+': 67, 'under 50': 24}\n",
      "GeneLocus.TCR, fold 1, TargetObsColumnEnum.age_group_binary_healthy_only, linearsvm_ovr: best p value = 0.01. Number of disease associated clusters: {'50+': 67, 'under 50': 24}\n",
      "\n",
      "GeneLocus.TCR, fold 2, TargetObsColumnEnum.age_group_binary_healthy_only, lasso_multiclass: best p value = 0.01. Number of disease associated clusters: {'50+': 50, 'under 50': 67}\n",
      "GeneLocus.TCR, fold 2, TargetObsColumnEnum.age_group_binary_healthy_only, rf_multiclass: best p value = 0.01. Number of disease associated clusters: {'50+': 50, 'under 50': 67}\n"
     ]
    },
    {
     "name": "stderr",
     "output_type": "stream",
     "text": [
      "2023-01-07 03:54:17,267 - analyze_convergent_clustering_models.ipynb - INFO - GeneLocus.TCR, TargetObsColumnEnum.age_group_pediatric_healthy_only from /users/maximz/code/boyd-immune-repertoire-classification/data/data_v_20221224/convergent_clusters/TCR/age_group_pediatric_healthy_only/train_smaller_model to /users/maximz/code/boyd-immune-repertoire-classification/out/convergent_clusters/TCR/age_group_pediatric_healthy_only/train_smaller_model\n"
     ]
    },
    {
     "name": "stdout",
     "output_type": "stream",
     "text": [
      "GeneLocus.TCR, fold 2, TargetObsColumnEnum.age_group_binary_healthy_only, linearsvm_ovr: best p value = 0.01. Number of disease associated clusters: {'50+': 50, 'under 50': 67}\n",
      "\n"
     ]
    },
    {
     "name": "stdout",
     "output_type": "stream",
     "text": [
      "GeneLocus.TCR TargetObsColumnEnum.age_group_pediatric_healthy_only\n"
     ]
    },
    {
     "data": {
      "text/html": [
       "<div>\n",
       "<style scoped>\n",
       "    .dataframe tbody tr th:only-of-type {\n",
       "        vertical-align: middle;\n",
       "    }\n",
       "\n",
       "    .dataframe tbody tr th {\n",
       "        vertical-align: top;\n",
       "    }\n",
       "\n",
       "    .dataframe thead th {\n",
       "        text-align: right;\n",
       "    }\n",
       "</style>\n",
       "<table border=\"1\" class=\"dataframe\">\n",
       "  <thead>\n",
       "    <tr style=\"text-align: right;\">\n",
       "      <th></th>\n",
       "      <th>ROC-AUC (weighted OvO) per fold</th>\n",
       "      <th>ROC-AUC (macro OvO) per fold</th>\n",
       "      <th>au-PRC (weighted OvO) per fold</th>\n",
       "      <th>au-PRC (macro OvO) per fold</th>\n",
       "      <th>Accuracy per fold</th>\n",
       "      <th>MCC per fold</th>\n",
       "      <th>Accuracy global</th>\n",
       "      <th>MCC global</th>\n",
       "      <th>sample_size</th>\n",
       "      <th>n_abstentions</th>\n",
       "      <th>...</th>\n",
       "      <th>MCC per fold with abstention</th>\n",
       "      <th>Unknown/abstention proportion per fold with abstention</th>\n",
       "      <th>ROC-AUC (weighted OvO) per fold with abstention</th>\n",
       "      <th>ROC-AUC (macro OvO) per fold with abstention</th>\n",
       "      <th>au-PRC (weighted OvO) per fold with abstention</th>\n",
       "      <th>au-PRC (macro OvO) per fold with abstention</th>\n",
       "      <th>Accuracy global with abstention</th>\n",
       "      <th>MCC global with abstention</th>\n",
       "      <th>Unknown/abstention proportion global with abstention</th>\n",
       "      <th>Abstention label global with abstention</th>\n",
       "    </tr>\n",
       "  </thead>\n",
       "  <tbody>\n",
       "    <tr>\n",
       "      <th>linearsvm_ovr</th>\n",
       "      <td>0.954 +/- 0.024 (in 3 folds)</td>\n",
       "      <td>0.954 +/- 0.024 (in 3 folds)</td>\n",
       "      <td>0.885 +/- 0.042 (in 3 folds)</td>\n",
       "      <td>0.885 +/- 0.042 (in 3 folds)</td>\n",
       "      <td>0.948 +/- 0.044 (in 3 folds)</td>\n",
       "      <td>0.825 +/- 0.113 (in 3 folds)</td>\n",
       "      <td>0.947</td>\n",
       "      <td>0.810</td>\n",
       "      <td>114</td>\n",
       "      <td>1</td>\n",
       "      <td>...</td>\n",
       "      <td>0.790 +/- 0.102 (in 3 folds)</td>\n",
       "      <td>0.026 +/- 0.000 (in 1 folds)</td>\n",
       "      <td>0.939 +/- 0.002 (in 2 folds)</td>\n",
       "      <td>0.939 +/- 0.002 (in 2 folds)</td>\n",
       "      <td>0.865 +/- 0.034 (in 2 folds)</td>\n",
       "      <td>0.865 +/- 0.034 (in 2 folds)</td>\n",
       "      <td>0.939</td>\n",
       "      <td>0.780</td>\n",
       "      <td>0.009</td>\n",
       "      <td>Unknown</td>\n",
       "    </tr>\n",
       "    <tr>\n",
       "      <th>lasso_multiclass</th>\n",
       "      <td>0.953 +/- 0.041 (in 3 folds)</td>\n",
       "      <td>0.953 +/- 0.041 (in 3 folds)</td>\n",
       "      <td>0.898 +/- 0.097 (in 3 folds)</td>\n",
       "      <td>0.898 +/- 0.097 (in 3 folds)</td>\n",
       "      <td>0.939 +/- 0.058 (in 3 folds)</td>\n",
       "      <td>0.796 +/- 0.162 (in 3 folds)</td>\n",
       "      <td>0.938</td>\n",
       "      <td>0.775</td>\n",
       "      <td>113</td>\n",
       "      <td>2</td>\n",
       "      <td>...</td>\n",
       "      <td>0.736 +/- 0.148 (in 3 folds)</td>\n",
       "      <td>0.051 +/- 0.000 (in 1 folds)</td>\n",
       "      <td>0.930 +/- 0.011 (in 2 folds)</td>\n",
       "      <td>0.930 +/- 0.011 (in 2 folds)</td>\n",
       "      <td>0.847 +/- 0.059 (in 2 folds)</td>\n",
       "      <td>0.847 +/- 0.059 (in 2 folds)</td>\n",
       "      <td>0.922</td>\n",
       "      <td>0.719</td>\n",
       "      <td>0.017</td>\n",
       "      <td>Unknown</td>\n",
       "    </tr>\n",
       "    <tr>\n",
       "      <th>xgboost</th>\n",
       "      <td>0.939 +/- 0.032 (in 3 folds)</td>\n",
       "      <td>0.939 +/- 0.032 (in 3 folds)</td>\n",
       "      <td>0.832 +/- 0.078 (in 3 folds)</td>\n",
       "      <td>0.832 +/- 0.078 (in 3 folds)</td>\n",
       "      <td>0.939 +/- 0.059 (in 3 folds)</td>\n",
       "      <td>0.796 +/- 0.162 (in 3 folds)</td>\n",
       "      <td>0.939</td>\n",
       "      <td>0.776</td>\n",
       "      <td>114</td>\n",
       "      <td>1</td>\n",
       "      <td>...</td>\n",
       "      <td>0.762 +/- 0.145 (in 3 folds)</td>\n",
       "      <td>0.026 +/- 0.000 (in 1 folds)</td>\n",
       "      <td>0.921 +/- 0.007 (in 2 folds)</td>\n",
       "      <td>0.921 +/- 0.007 (in 2 folds)</td>\n",
       "      <td>0.802 +/- 0.082 (in 2 folds)</td>\n",
       "      <td>0.802 +/- 0.082 (in 2 folds)</td>\n",
       "      <td>0.930</td>\n",
       "      <td>0.746</td>\n",
       "      <td>0.009</td>\n",
       "      <td>Unknown</td>\n",
       "    </tr>\n",
       "    <tr>\n",
       "      <th>lasso_cv</th>\n",
       "      <td>0.936 +/- 0.006 (in 3 folds)</td>\n",
       "      <td>0.936 +/- 0.006 (in 3 folds)</td>\n",
       "      <td>0.863 +/- 0.024 (in 3 folds)</td>\n",
       "      <td>0.863 +/- 0.024 (in 3 folds)</td>\n",
       "      <td>0.826 +/- 0.052 (in 3 folds)</td>\n",
       "      <td>0.000 +/- 0.000 (in 3 folds)</td>\n",
       "      <td>0.826</td>\n",
       "      <td>0.000</td>\n",
       "      <td>115</td>\n",
       "      <td>0</td>\n",
       "      <td>...</td>\n",
       "      <td>NaN</td>\n",
       "      <td>NaN</td>\n",
       "      <td>NaN</td>\n",
       "      <td>NaN</td>\n",
       "      <td>NaN</td>\n",
       "      <td>NaN</td>\n",
       "      <td>NaN</td>\n",
       "      <td>NaN</td>\n",
       "      <td>NaN</td>\n",
       "      <td>NaN</td>\n",
       "    </tr>\n",
       "    <tr>\n",
       "      <th>elasticnet_cv</th>\n",
       "      <td>0.936 +/- 0.006 (in 3 folds)</td>\n",
       "      <td>0.936 +/- 0.006 (in 3 folds)</td>\n",
       "      <td>0.863 +/- 0.024 (in 3 folds)</td>\n",
       "      <td>0.863 +/- 0.024 (in 3 folds)</td>\n",
       "      <td>0.826 +/- 0.052 (in 3 folds)</td>\n",
       "      <td>0.000 +/- 0.000 (in 3 folds)</td>\n",
       "      <td>0.826</td>\n",
       "      <td>0.000</td>\n",
       "      <td>115</td>\n",
       "      <td>0</td>\n",
       "      <td>...</td>\n",
       "      <td>NaN</td>\n",
       "      <td>NaN</td>\n",
       "      <td>NaN</td>\n",
       "      <td>NaN</td>\n",
       "      <td>NaN</td>\n",
       "      <td>NaN</td>\n",
       "      <td>NaN</td>\n",
       "      <td>NaN</td>\n",
       "      <td>NaN</td>\n",
       "      <td>NaN</td>\n",
       "    </tr>\n",
       "    <tr>\n",
       "      <th>ridge_cv</th>\n",
       "      <td>0.895 +/- 0.077 (in 3 folds)</td>\n",
       "      <td>0.895 +/- 0.077 (in 3 folds)</td>\n",
       "      <td>0.790 +/- 0.131 (in 3 folds)</td>\n",
       "      <td>0.790 +/- 0.131 (in 3 folds)</td>\n",
       "      <td>0.826 +/- 0.052 (in 3 folds)</td>\n",
       "      <td>0.000 +/- 0.000 (in 3 folds)</td>\n",
       "      <td>0.826</td>\n",
       "      <td>0.000</td>\n",
       "      <td>115</td>\n",
       "      <td>0</td>\n",
       "      <td>...</td>\n",
       "      <td>NaN</td>\n",
       "      <td>NaN</td>\n",
       "      <td>NaN</td>\n",
       "      <td>NaN</td>\n",
       "      <td>NaN</td>\n",
       "      <td>NaN</td>\n",
       "      <td>NaN</td>\n",
       "      <td>NaN</td>\n",
       "      <td>NaN</td>\n",
       "      <td>NaN</td>\n",
       "    </tr>\n",
       "    <tr>\n",
       "      <th>rf_multiclass</th>\n",
       "      <td>0.877 +/- 0.052 (in 3 folds)</td>\n",
       "      <td>0.877 +/- 0.052 (in 3 folds)</td>\n",
       "      <td>0.786 +/- 0.100 (in 3 folds)</td>\n",
       "      <td>0.786 +/- 0.100 (in 3 folds)</td>\n",
       "      <td>0.939 +/- 0.059 (in 3 folds)</td>\n",
       "      <td>0.796 +/- 0.162 (in 3 folds)</td>\n",
       "      <td>0.939</td>\n",
       "      <td>0.776</td>\n",
       "      <td>114</td>\n",
       "      <td>1</td>\n",
       "      <td>...</td>\n",
       "      <td>0.762 +/- 0.145 (in 3 folds)</td>\n",
       "      <td>0.026 +/- 0.000 (in 1 folds)</td>\n",
       "      <td>0.866 +/- 0.068 (in 2 folds)</td>\n",
       "      <td>0.866 +/- 0.068 (in 2 folds)</td>\n",
       "      <td>0.766 +/- 0.133 (in 2 folds)</td>\n",
       "      <td>0.766 +/- 0.133 (in 2 folds)</td>\n",
       "      <td>0.930</td>\n",
       "      <td>0.746</td>\n",
       "      <td>0.009</td>\n",
       "      <td>Unknown</td>\n",
       "    </tr>\n",
       "    <tr>\n",
       "      <th>dummy_most_frequent</th>\n",
       "      <td>0.500 +/- 0.000 (in 3 folds)</td>\n",
       "      <td>0.500 +/- 0.000 (in 3 folds)</td>\n",
       "      <td>0.174 +/- 0.052 (in 3 folds)</td>\n",
       "      <td>0.174 +/- 0.052 (in 3 folds)</td>\n",
       "      <td>0.826 +/- 0.052 (in 3 folds)</td>\n",
       "      <td>0.000 +/- 0.000 (in 3 folds)</td>\n",
       "      <td>0.826</td>\n",
       "      <td>0.000</td>\n",
       "      <td>115</td>\n",
       "      <td>0</td>\n",
       "      <td>...</td>\n",
       "      <td>NaN</td>\n",
       "      <td>NaN</td>\n",
       "      <td>NaN</td>\n",
       "      <td>NaN</td>\n",
       "      <td>NaN</td>\n",
       "      <td>NaN</td>\n",
       "      <td>NaN</td>\n",
       "      <td>NaN</td>\n",
       "      <td>NaN</td>\n",
       "      <td>NaN</td>\n",
       "    </tr>\n",
       "    <tr>\n",
       "      <th>dummy_stratified</th>\n",
       "      <td>0.425 +/- 0.106 (in 3 folds)</td>\n",
       "      <td>0.425 +/- 0.106 (in 3 folds)</td>\n",
       "      <td>0.171 +/- 0.046 (in 3 folds)</td>\n",
       "      <td>0.171 +/- 0.046 (in 3 folds)</td>\n",
       "      <td>0.633 +/- 0.115 (in 3 folds)</td>\n",
       "      <td>-0.127 +/- 0.165 (in 3 folds)</td>\n",
       "      <td>0.635</td>\n",
       "      <td>-0.138</td>\n",
       "      <td>115</td>\n",
       "      <td>0</td>\n",
       "      <td>...</td>\n",
       "      <td>NaN</td>\n",
       "      <td>NaN</td>\n",
       "      <td>NaN</td>\n",
       "      <td>NaN</td>\n",
       "      <td>NaN</td>\n",
       "      <td>NaN</td>\n",
       "      <td>NaN</td>\n",
       "      <td>NaN</td>\n",
       "      <td>NaN</td>\n",
       "      <td>NaN</td>\n",
       "    </tr>\n",
       "  </tbody>\n",
       "</table>\n",
       "<p>9 rows × 24 columns</p>\n",
       "</div>"
      ],
      "text/plain": [
       "                    ROC-AUC (weighted OvO) per fold  \\\n",
       "linearsvm_ovr          0.954 +/- 0.024 (in 3 folds)   \n",
       "lasso_multiclass       0.953 +/- 0.041 (in 3 folds)   \n",
       "xgboost                0.939 +/- 0.032 (in 3 folds)   \n",
       "lasso_cv               0.936 +/- 0.006 (in 3 folds)   \n",
       "elasticnet_cv          0.936 +/- 0.006 (in 3 folds)   \n",
       "ridge_cv               0.895 +/- 0.077 (in 3 folds)   \n",
       "rf_multiclass          0.877 +/- 0.052 (in 3 folds)   \n",
       "dummy_most_frequent    0.500 +/- 0.000 (in 3 folds)   \n",
       "dummy_stratified       0.425 +/- 0.106 (in 3 folds)   \n",
       "\n",
       "                     ROC-AUC (macro OvO) per fold  \\\n",
       "linearsvm_ovr        0.954 +/- 0.024 (in 3 folds)   \n",
       "lasso_multiclass     0.953 +/- 0.041 (in 3 folds)   \n",
       "xgboost              0.939 +/- 0.032 (in 3 folds)   \n",
       "lasso_cv             0.936 +/- 0.006 (in 3 folds)   \n",
       "elasticnet_cv        0.936 +/- 0.006 (in 3 folds)   \n",
       "ridge_cv             0.895 +/- 0.077 (in 3 folds)   \n",
       "rf_multiclass        0.877 +/- 0.052 (in 3 folds)   \n",
       "dummy_most_frequent  0.500 +/- 0.000 (in 3 folds)   \n",
       "dummy_stratified     0.425 +/- 0.106 (in 3 folds)   \n",
       "\n",
       "                    au-PRC (weighted OvO) per fold  \\\n",
       "linearsvm_ovr         0.885 +/- 0.042 (in 3 folds)   \n",
       "lasso_multiclass      0.898 +/- 0.097 (in 3 folds)   \n",
       "xgboost               0.832 +/- 0.078 (in 3 folds)   \n",
       "lasso_cv              0.863 +/- 0.024 (in 3 folds)   \n",
       "elasticnet_cv         0.863 +/- 0.024 (in 3 folds)   \n",
       "ridge_cv              0.790 +/- 0.131 (in 3 folds)   \n",
       "rf_multiclass         0.786 +/- 0.100 (in 3 folds)   \n",
       "dummy_most_frequent   0.174 +/- 0.052 (in 3 folds)   \n",
       "dummy_stratified      0.171 +/- 0.046 (in 3 folds)   \n",
       "\n",
       "                      au-PRC (macro OvO) per fold  \\\n",
       "linearsvm_ovr        0.885 +/- 0.042 (in 3 folds)   \n",
       "lasso_multiclass     0.898 +/- 0.097 (in 3 folds)   \n",
       "xgboost              0.832 +/- 0.078 (in 3 folds)   \n",
       "lasso_cv             0.863 +/- 0.024 (in 3 folds)   \n",
       "elasticnet_cv        0.863 +/- 0.024 (in 3 folds)   \n",
       "ridge_cv             0.790 +/- 0.131 (in 3 folds)   \n",
       "rf_multiclass        0.786 +/- 0.100 (in 3 folds)   \n",
       "dummy_most_frequent  0.174 +/- 0.052 (in 3 folds)   \n",
       "dummy_stratified     0.171 +/- 0.046 (in 3 folds)   \n",
       "\n",
       "                                Accuracy per fold  \\\n",
       "linearsvm_ovr        0.948 +/- 0.044 (in 3 folds)   \n",
       "lasso_multiclass     0.939 +/- 0.058 (in 3 folds)   \n",
       "xgboost              0.939 +/- 0.059 (in 3 folds)   \n",
       "lasso_cv             0.826 +/- 0.052 (in 3 folds)   \n",
       "elasticnet_cv        0.826 +/- 0.052 (in 3 folds)   \n",
       "ridge_cv             0.826 +/- 0.052 (in 3 folds)   \n",
       "rf_multiclass        0.939 +/- 0.059 (in 3 folds)   \n",
       "dummy_most_frequent  0.826 +/- 0.052 (in 3 folds)   \n",
       "dummy_stratified     0.633 +/- 0.115 (in 3 folds)   \n",
       "\n",
       "                                      MCC per fold Accuracy global MCC global  \\\n",
       "linearsvm_ovr         0.825 +/- 0.113 (in 3 folds)           0.947      0.810   \n",
       "lasso_multiclass      0.796 +/- 0.162 (in 3 folds)           0.938      0.775   \n",
       "xgboost               0.796 +/- 0.162 (in 3 folds)           0.939      0.776   \n",
       "lasso_cv              0.000 +/- 0.000 (in 3 folds)           0.826      0.000   \n",
       "elasticnet_cv         0.000 +/- 0.000 (in 3 folds)           0.826      0.000   \n",
       "ridge_cv              0.000 +/- 0.000 (in 3 folds)           0.826      0.000   \n",
       "rf_multiclass         0.796 +/- 0.162 (in 3 folds)           0.939      0.776   \n",
       "dummy_most_frequent   0.000 +/- 0.000 (in 3 folds)           0.826      0.000   \n",
       "dummy_stratified     -0.127 +/- 0.165 (in 3 folds)           0.635     -0.138   \n",
       "\n",
       "                     sample_size  n_abstentions  ...  \\\n",
       "linearsvm_ovr                114              1  ...   \n",
       "lasso_multiclass             113              2  ...   \n",
       "xgboost                      114              1  ...   \n",
       "lasso_cv                     115              0  ...   \n",
       "elasticnet_cv                115              0  ...   \n",
       "ridge_cv                     115              0  ...   \n",
       "rf_multiclass                114              1  ...   \n",
       "dummy_most_frequent          115              0  ...   \n",
       "dummy_stratified             115              0  ...   \n",
       "\n",
       "                     MCC per fold with abstention  \\\n",
       "linearsvm_ovr        0.790 +/- 0.102 (in 3 folds)   \n",
       "lasso_multiclass     0.736 +/- 0.148 (in 3 folds)   \n",
       "xgboost              0.762 +/- 0.145 (in 3 folds)   \n",
       "lasso_cv                                      NaN   \n",
       "elasticnet_cv                                 NaN   \n",
       "ridge_cv                                      NaN   \n",
       "rf_multiclass        0.762 +/- 0.145 (in 3 folds)   \n",
       "dummy_most_frequent                           NaN   \n",
       "dummy_stratified                              NaN   \n",
       "\n",
       "                     Unknown/abstention proportion per fold with abstention  \\\n",
       "linearsvm_ovr                             0.026 +/- 0.000 (in 1 folds)        \n",
       "lasso_multiclass                          0.051 +/- 0.000 (in 1 folds)        \n",
       "xgboost                                   0.026 +/- 0.000 (in 1 folds)        \n",
       "lasso_cv                                                           NaN        \n",
       "elasticnet_cv                                                      NaN        \n",
       "ridge_cv                                                           NaN        \n",
       "rf_multiclass                             0.026 +/- 0.000 (in 1 folds)        \n",
       "dummy_most_frequent                                                NaN        \n",
       "dummy_stratified                                                   NaN        \n",
       "\n",
       "                     ROC-AUC (weighted OvO) per fold with abstention  \\\n",
       "linearsvm_ovr                           0.939 +/- 0.002 (in 2 folds)   \n",
       "lasso_multiclass                        0.930 +/- 0.011 (in 2 folds)   \n",
       "xgboost                                 0.921 +/- 0.007 (in 2 folds)   \n",
       "lasso_cv                                                         NaN   \n",
       "elasticnet_cv                                                    NaN   \n",
       "ridge_cv                                                         NaN   \n",
       "rf_multiclass                           0.866 +/- 0.068 (in 2 folds)   \n",
       "dummy_most_frequent                                              NaN   \n",
       "dummy_stratified                                                 NaN   \n",
       "\n",
       "                    ROC-AUC (macro OvO) per fold with abstention  \\\n",
       "linearsvm_ovr                       0.939 +/- 0.002 (in 2 folds)   \n",
       "lasso_multiclass                    0.930 +/- 0.011 (in 2 folds)   \n",
       "xgboost                             0.921 +/- 0.007 (in 2 folds)   \n",
       "lasso_cv                                                     NaN   \n",
       "elasticnet_cv                                                NaN   \n",
       "ridge_cv                                                     NaN   \n",
       "rf_multiclass                       0.866 +/- 0.068 (in 2 folds)   \n",
       "dummy_most_frequent                                          NaN   \n",
       "dummy_stratified                                             NaN   \n",
       "\n",
       "                    au-PRC (weighted OvO) per fold with abstention  \\\n",
       "linearsvm_ovr                         0.865 +/- 0.034 (in 2 folds)   \n",
       "lasso_multiclass                      0.847 +/- 0.059 (in 2 folds)   \n",
       "xgboost                               0.802 +/- 0.082 (in 2 folds)   \n",
       "lasso_cv                                                       NaN   \n",
       "elasticnet_cv                                                  NaN   \n",
       "ridge_cv                                                       NaN   \n",
       "rf_multiclass                         0.766 +/- 0.133 (in 2 folds)   \n",
       "dummy_most_frequent                                            NaN   \n",
       "dummy_stratified                                               NaN   \n",
       "\n",
       "                    au-PRC (macro OvO) per fold with abstention  \\\n",
       "linearsvm_ovr                      0.865 +/- 0.034 (in 2 folds)   \n",
       "lasso_multiclass                   0.847 +/- 0.059 (in 2 folds)   \n",
       "xgboost                            0.802 +/- 0.082 (in 2 folds)   \n",
       "lasso_cv                                                    NaN   \n",
       "elasticnet_cv                                               NaN   \n",
       "ridge_cv                                                    NaN   \n",
       "rf_multiclass                      0.766 +/- 0.133 (in 2 folds)   \n",
       "dummy_most_frequent                                         NaN   \n",
       "dummy_stratified                                            NaN   \n",
       "\n",
       "                    Accuracy global with abstention  \\\n",
       "linearsvm_ovr                                 0.939   \n",
       "lasso_multiclass                              0.922   \n",
       "xgboost                                       0.930   \n",
       "lasso_cv                                        NaN   \n",
       "elasticnet_cv                                   NaN   \n",
       "ridge_cv                                        NaN   \n",
       "rf_multiclass                                 0.930   \n",
       "dummy_most_frequent                             NaN   \n",
       "dummy_stratified                                NaN   \n",
       "\n",
       "                    MCC global with abstention  \\\n",
       "linearsvm_ovr                            0.780   \n",
       "lasso_multiclass                         0.719   \n",
       "xgboost                                  0.746   \n",
       "lasso_cv                                   NaN   \n",
       "elasticnet_cv                              NaN   \n",
       "ridge_cv                                   NaN   \n",
       "rf_multiclass                            0.746   \n",
       "dummy_most_frequent                        NaN   \n",
       "dummy_stratified                           NaN   \n",
       "\n",
       "                    Unknown/abstention proportion global with abstention  \\\n",
       "linearsvm_ovr                                                    0.009     \n",
       "lasso_multiclass                                                 0.017     \n",
       "xgboost                                                          0.009     \n",
       "lasso_cv                                                           NaN     \n",
       "elasticnet_cv                                                      NaN     \n",
       "ridge_cv                                                           NaN     \n",
       "rf_multiclass                                                    0.009     \n",
       "dummy_most_frequent                                                NaN     \n",
       "dummy_stratified                                                   NaN     \n",
       "\n",
       "                    Abstention label global with abstention  \n",
       "linearsvm_ovr                                       Unknown  \n",
       "lasso_multiclass                                    Unknown  \n",
       "xgboost                                             Unknown  \n",
       "lasso_cv                                                NaN  \n",
       "elasticnet_cv                                           NaN  \n",
       "ridge_cv                                                NaN  \n",
       "rf_multiclass                                       Unknown  \n",
       "dummy_most_frequent                                     NaN  \n",
       "dummy_stratified                                        NaN  \n",
       "\n",
       "[9 rows x 24 columns]"
      ]
     },
     "metadata": {},
     "output_type": "display_data"
    },
    {
     "name": "stdout",
     "output_type": "stream",
     "text": [
      "GeneLocus.TCR, fold 0, TargetObsColumnEnum.age_group_pediatric_healthy_only, lasso_multiclass: best p value = 0.0005. Number of disease associated clusters: {'18+': 0, 'under 18': 316}\n",
      "GeneLocus.TCR, fold 0, TargetObsColumnEnum.age_group_pediatric_healthy_only, rf_multiclass: best p value = 0.005. Number of disease associated clusters: {'18+': 0, 'under 18': 877}\n",
      "GeneLocus.TCR, fold 0, TargetObsColumnEnum.age_group_pediatric_healthy_only, linearsvm_ovr: best p value = 0.0005. Number of disease associated clusters: {'18+': 0, 'under 18': 316}\n",
      "\n"
     ]
    },
    {
     "name": "stdout",
     "output_type": "stream",
     "text": [
      "GeneLocus.TCR, fold 1, TargetObsColumnEnum.age_group_pediatric_healthy_only, lasso_multiclass: best p value = 0.01. Number of disease associated clusters: {'18+': 0, 'under 18': 1127}\n"
     ]
    },
    {
     "name": "stdout",
     "output_type": "stream",
     "text": [
      "GeneLocus.TCR, fold 1, TargetObsColumnEnum.age_group_pediatric_healthy_only, rf_multiclass: best p value = 0.005. Number of disease associated clusters: {'18+': 0, 'under 18': 1042}\n",
      "GeneLocus.TCR, fold 1, TargetObsColumnEnum.age_group_pediatric_healthy_only, linearsvm_ovr: best p value = 0.005. Number of disease associated clusters: {'18+': 0, 'under 18': 1042}\n",
      "\n",
      "GeneLocus.TCR, fold 2, TargetObsColumnEnum.age_group_pediatric_healthy_only, lasso_multiclass: best p value = 0.001. Number of disease associated clusters: {'18+': 0, 'under 18': 298}\n",
      "GeneLocus.TCR, fold 2, TargetObsColumnEnum.age_group_pediatric_healthy_only, rf_multiclass: best p value = 0.01. Number of disease associated clusters: {'18+': 0, 'under 18': 1348}\n"
     ]
    },
    {
     "name": "stderr",
     "output_type": "stream",
     "text": [
      "2023-01-07 03:54:19,751 - analyze_convergent_clustering_models.ipynb - INFO - GeneLocus.TCR, TargetObsColumnEnum.sex_healthy_only from /users/maximz/code/boyd-immune-repertoire-classification/data/data_v_20221224/convergent_clusters/TCR/sex_healthy_only/train_smaller_model to /users/maximz/code/boyd-immune-repertoire-classification/out/convergent_clusters/TCR/sex_healthy_only/train_smaller_model\n"
     ]
    },
    {
     "name": "stdout",
     "output_type": "stream",
     "text": [
      "GeneLocus.TCR, fold 2, TargetObsColumnEnum.age_group_pediatric_healthy_only, linearsvm_ovr: best p value = 0.005. Number of disease associated clusters: {'18+': 0, 'under 18': 1171}\n",
      "\n"
     ]
    },
    {
     "name": "stdout",
     "output_type": "stream",
     "text": [
      "GeneLocus.TCR TargetObsColumnEnum.sex_healthy_only\n"
     ]
    },
    {
     "data": {
      "text/html": [
       "<div>\n",
       "<style scoped>\n",
       "    .dataframe tbody tr th:only-of-type {\n",
       "        vertical-align: middle;\n",
       "    }\n",
       "\n",
       "    .dataframe tbody tr th {\n",
       "        vertical-align: top;\n",
       "    }\n",
       "\n",
       "    .dataframe thead th {\n",
       "        text-align: right;\n",
       "    }\n",
       "</style>\n",
       "<table border=\"1\" class=\"dataframe\">\n",
       "  <thead>\n",
       "    <tr style=\"text-align: right;\">\n",
       "      <th></th>\n",
       "      <th>ROC-AUC (weighted OvO) per fold</th>\n",
       "      <th>ROC-AUC (macro OvO) per fold</th>\n",
       "      <th>au-PRC (weighted OvO) per fold</th>\n",
       "      <th>au-PRC (macro OvO) per fold</th>\n",
       "      <th>Accuracy per fold</th>\n",
       "      <th>MCC per fold</th>\n",
       "      <th>Accuracy global</th>\n",
       "      <th>MCC global</th>\n",
       "      <th>Accuracy per fold with abstention</th>\n",
       "      <th>MCC per fold with abstention</th>\n",
       "      <th>...</th>\n",
       "      <th>Abstention label global with abstention</th>\n",
       "      <th>sample_size</th>\n",
       "      <th>n_abstentions</th>\n",
       "      <th>sample_size including abstentions</th>\n",
       "      <th>abstention_rate</th>\n",
       "      <th>missing_classes</th>\n",
       "      <th>ROC-AUC (weighted OvO) per fold with abstention</th>\n",
       "      <th>ROC-AUC (macro OvO) per fold with abstention</th>\n",
       "      <th>au-PRC (weighted OvO) per fold with abstention</th>\n",
       "      <th>au-PRC (macro OvO) per fold with abstention</th>\n",
       "    </tr>\n",
       "  </thead>\n",
       "  <tbody>\n",
       "    <tr>\n",
       "      <th>linearsvm_ovr</th>\n",
       "      <td>0.598 +/- 0.035 (in 3 folds)</td>\n",
       "      <td>0.598 +/- 0.035 (in 3 folds)</td>\n",
       "      <td>0.591 +/- 0.133 (in 3 folds)</td>\n",
       "      <td>0.591 +/- 0.133 (in 3 folds)</td>\n",
       "      <td>0.576 +/- 0.132 (in 3 folds)</td>\n",
       "      <td>0.192 +/- 0.117 (in 3 folds)</td>\n",
       "      <td>0.577</td>\n",
       "      <td>0.162</td>\n",
       "      <td>0.556 +/- 0.129 (in 3 folds)</td>\n",
       "      <td>0.179 +/- 0.102 (in 3 folds)</td>\n",
       "      <td>...</td>\n",
       "      <td>Unknown</td>\n",
       "      <td>111</td>\n",
       "      <td>4</td>\n",
       "      <td>115</td>\n",
       "      <td>0.034783</td>\n",
       "      <td>False</td>\n",
       "      <td>NaN</td>\n",
       "      <td>NaN</td>\n",
       "      <td>NaN</td>\n",
       "      <td>NaN</td>\n",
       "    </tr>\n",
       "    <tr>\n",
       "      <th>dummy_stratified</th>\n",
       "      <td>0.598 +/- 0.029 (in 3 folds)</td>\n",
       "      <td>0.598 +/- 0.029 (in 3 folds)</td>\n",
       "      <td>0.565 +/- 0.170 (in 3 folds)</td>\n",
       "      <td>0.565 +/- 0.170 (in 3 folds)</td>\n",
       "      <td>0.575 +/- 0.051 (in 3 folds)</td>\n",
       "      <td>0.191 +/- 0.064 (in 3 folds)</td>\n",
       "      <td>0.574</td>\n",
       "      <td>0.149</td>\n",
       "      <td>0.540 +/- 0.054 (in 3 folds)</td>\n",
       "      <td>0.169 +/- 0.059 (in 3 folds)</td>\n",
       "      <td>...</td>\n",
       "      <td>Unknown</td>\n",
       "      <td>108</td>\n",
       "      <td>7</td>\n",
       "      <td>115</td>\n",
       "      <td>0.060870</td>\n",
       "      <td>False</td>\n",
       "      <td>NaN</td>\n",
       "      <td>NaN</td>\n",
       "      <td>NaN</td>\n",
       "      <td>NaN</td>\n",
       "    </tr>\n",
       "    <tr>\n",
       "      <th>lasso_multiclass</th>\n",
       "      <td>0.594 +/- 0.052 (in 3 folds)</td>\n",
       "      <td>0.594 +/- 0.052 (in 3 folds)</td>\n",
       "      <td>0.602 +/- 0.132 (in 3 folds)</td>\n",
       "      <td>0.602 +/- 0.132 (in 3 folds)</td>\n",
       "      <td>0.543 +/- 0.085 (in 3 folds)</td>\n",
       "      <td>0.160 +/- 0.070 (in 3 folds)</td>\n",
       "      <td>0.541</td>\n",
       "      <td>0.078</td>\n",
       "      <td>0.514 +/- 0.068 (in 3 folds)</td>\n",
       "      <td>0.145 +/- 0.050 (in 3 folds)</td>\n",
       "      <td>...</td>\n",
       "      <td>Unknown</td>\n",
       "      <td>109</td>\n",
       "      <td>6</td>\n",
       "      <td>115</td>\n",
       "      <td>0.052174</td>\n",
       "      <td>False</td>\n",
       "      <td>NaN</td>\n",
       "      <td>NaN</td>\n",
       "      <td>NaN</td>\n",
       "      <td>NaN</td>\n",
       "    </tr>\n",
       "    <tr>\n",
       "      <th>ridge_cv</th>\n",
       "      <td>0.587 +/- 0.064 (in 3 folds)</td>\n",
       "      <td>0.587 +/- 0.064 (in 3 folds)</td>\n",
       "      <td>0.638 +/- 0.099 (in 3 folds)</td>\n",
       "      <td>0.638 +/- 0.099 (in 3 folds)</td>\n",
       "      <td>0.393 +/- 0.084 (in 3 folds)</td>\n",
       "      <td>0.000 +/- 0.000 (in 3 folds)</td>\n",
       "      <td>0.393</td>\n",
       "      <td>-0.234</td>\n",
       "      <td>0.384 +/- 0.092 (in 3 folds)</td>\n",
       "      <td>0.046 +/- 0.041 (in 3 folds)</td>\n",
       "      <td>...</td>\n",
       "      <td>Unknown</td>\n",
       "      <td>112</td>\n",
       "      <td>3</td>\n",
       "      <td>115</td>\n",
       "      <td>0.026087</td>\n",
       "      <td>False</td>\n",
       "      <td>0.567 +/- 0.000 (in 1 folds)</td>\n",
       "      <td>0.567 +/- 0.000 (in 1 folds)</td>\n",
       "      <td>0.630 +/- 0.000 (in 1 folds)</td>\n",
       "      <td>0.630 +/- 0.000 (in 1 folds)</td>\n",
       "    </tr>\n",
       "    <tr>\n",
       "      <th>lasso_cv</th>\n",
       "      <td>0.533 +/- 0.044 (in 3 folds)</td>\n",
       "      <td>0.533 +/- 0.044 (in 3 folds)</td>\n",
       "      <td>0.551 +/- 0.186 (in 3 folds)</td>\n",
       "      <td>0.551 +/- 0.186 (in 3 folds)</td>\n",
       "      <td>0.523 +/- 0.015 (in 3 folds)</td>\n",
       "      <td>0.176 +/- 0.111 (in 3 folds)</td>\n",
       "      <td>0.523</td>\n",
       "      <td>0.045</td>\n",
       "      <td>0.495 +/- 0.015 (in 3 folds)</td>\n",
       "      <td>0.144 +/- 0.117 (in 3 folds)</td>\n",
       "      <td>...</td>\n",
       "      <td>Unknown</td>\n",
       "      <td>109</td>\n",
       "      <td>6</td>\n",
       "      <td>115</td>\n",
       "      <td>0.052174</td>\n",
       "      <td>False</td>\n",
       "      <td>NaN</td>\n",
       "      <td>NaN</td>\n",
       "      <td>NaN</td>\n",
       "      <td>NaN</td>\n",
       "    </tr>\n",
       "    <tr>\n",
       "      <th>rf_multiclass</th>\n",
       "      <td>0.524 +/- 0.035 (in 3 folds)</td>\n",
       "      <td>0.524 +/- 0.035 (in 3 folds)</td>\n",
       "      <td>0.540 +/- 0.143 (in 3 folds)</td>\n",
       "      <td>0.540 +/- 0.143 (in 3 folds)</td>\n",
       "      <td>0.528 +/- 0.078 (in 3 folds)</td>\n",
       "      <td>0.148 +/- 0.066 (in 3 folds)</td>\n",
       "      <td>0.548</td>\n",
       "      <td>0.101</td>\n",
       "      <td>0.401 +/- 0.199 (in 3 folds)</td>\n",
       "      <td>0.112 +/- 0.088 (in 3 folds)</td>\n",
       "      <td>...</td>\n",
       "      <td>Unknown</td>\n",
       "      <td>84</td>\n",
       "      <td>31</td>\n",
       "      <td>115</td>\n",
       "      <td>0.269565</td>\n",
       "      <td>False</td>\n",
       "      <td>NaN</td>\n",
       "      <td>NaN</td>\n",
       "      <td>NaN</td>\n",
       "      <td>NaN</td>\n",
       "    </tr>\n",
       "    <tr>\n",
       "      <th>elasticnet_cv</th>\n",
       "      <td>0.516 +/- 0.040 (in 3 folds)</td>\n",
       "      <td>0.516 +/- 0.040 (in 3 folds)</td>\n",
       "      <td>0.557 +/- 0.172 (in 3 folds)</td>\n",
       "      <td>0.557 +/- 0.172 (in 3 folds)</td>\n",
       "      <td>0.537 +/- 0.066 (in 3 folds)</td>\n",
       "      <td>0.096 +/- 0.111 (in 3 folds)</td>\n",
       "      <td>0.536</td>\n",
       "      <td>0.071</td>\n",
       "      <td>0.513 +/- 0.045 (in 3 folds)</td>\n",
       "      <td>0.084 +/- 0.096 (in 3 folds)</td>\n",
       "      <td>...</td>\n",
       "      <td>Unknown</td>\n",
       "      <td>110</td>\n",
       "      <td>5</td>\n",
       "      <td>115</td>\n",
       "      <td>0.043478</td>\n",
       "      <td>False</td>\n",
       "      <td>0.480 +/- 0.000 (in 1 folds)</td>\n",
       "      <td>0.480 +/- 0.000 (in 1 folds)</td>\n",
       "      <td>0.510 +/- 0.000 (in 1 folds)</td>\n",
       "      <td>0.510 +/- 0.000 (in 1 folds)</td>\n",
       "    </tr>\n",
       "    <tr>\n",
       "      <th>xgboost</th>\n",
       "      <td>0.514 +/- 0.035 (in 3 folds)</td>\n",
       "      <td>0.514 +/- 0.035 (in 3 folds)</td>\n",
       "      <td>0.530 +/- 0.154 (in 3 folds)</td>\n",
       "      <td>0.530 +/- 0.154 (in 3 folds)</td>\n",
       "      <td>0.547 +/- 0.035 (in 3 folds)</td>\n",
       "      <td>0.109 +/- 0.033 (in 3 folds)</td>\n",
       "      <td>0.546</td>\n",
       "      <td>0.091</td>\n",
       "      <td>0.513 +/- 0.026 (in 3 folds)</td>\n",
       "      <td>0.094 +/- 0.029 (in 3 folds)</td>\n",
       "      <td>...</td>\n",
       "      <td>Unknown</td>\n",
       "      <td>108</td>\n",
       "      <td>7</td>\n",
       "      <td>115</td>\n",
       "      <td>0.060870</td>\n",
       "      <td>False</td>\n",
       "      <td>NaN</td>\n",
       "      <td>NaN</td>\n",
       "      <td>NaN</td>\n",
       "      <td>NaN</td>\n",
       "    </tr>\n",
       "    <tr>\n",
       "      <th>dummy_most_frequent</th>\n",
       "      <td>0.500 +/- 0.000 (in 3 folds)</td>\n",
       "      <td>0.500 +/- 0.000 (in 3 folds)</td>\n",
       "      <td>0.510 +/- 0.155 (in 3 folds)</td>\n",
       "      <td>0.510 +/- 0.155 (in 3 folds)</td>\n",
       "      <td>0.393 +/- 0.084 (in 3 folds)</td>\n",
       "      <td>0.000 +/- 0.000 (in 3 folds)</td>\n",
       "      <td>0.393</td>\n",
       "      <td>-0.234</td>\n",
       "      <td>0.384 +/- 0.092 (in 3 folds)</td>\n",
       "      <td>0.046 +/- 0.041 (in 3 folds)</td>\n",
       "      <td>...</td>\n",
       "      <td>Unknown</td>\n",
       "      <td>112</td>\n",
       "      <td>3</td>\n",
       "      <td>115</td>\n",
       "      <td>0.026087</td>\n",
       "      <td>False</td>\n",
       "      <td>0.500 +/- 0.000 (in 1 folds)</td>\n",
       "      <td>0.500 +/- 0.000 (in 1 folds)</td>\n",
       "      <td>0.486 +/- 0.000 (in 1 folds)</td>\n",
       "      <td>0.486 +/- 0.000 (in 1 folds)</td>\n",
       "    </tr>\n",
       "  </tbody>\n",
       "</table>\n",
       "<p>9 rows × 24 columns</p>\n",
       "</div>"
      ],
      "text/plain": [
       "                    ROC-AUC (weighted OvO) per fold  \\\n",
       "linearsvm_ovr          0.598 +/- 0.035 (in 3 folds)   \n",
       "dummy_stratified       0.598 +/- 0.029 (in 3 folds)   \n",
       "lasso_multiclass       0.594 +/- 0.052 (in 3 folds)   \n",
       "ridge_cv               0.587 +/- 0.064 (in 3 folds)   \n",
       "lasso_cv               0.533 +/- 0.044 (in 3 folds)   \n",
       "rf_multiclass          0.524 +/- 0.035 (in 3 folds)   \n",
       "elasticnet_cv          0.516 +/- 0.040 (in 3 folds)   \n",
       "xgboost                0.514 +/- 0.035 (in 3 folds)   \n",
       "dummy_most_frequent    0.500 +/- 0.000 (in 3 folds)   \n",
       "\n",
       "                     ROC-AUC (macro OvO) per fold  \\\n",
       "linearsvm_ovr        0.598 +/- 0.035 (in 3 folds)   \n",
       "dummy_stratified     0.598 +/- 0.029 (in 3 folds)   \n",
       "lasso_multiclass     0.594 +/- 0.052 (in 3 folds)   \n",
       "ridge_cv             0.587 +/- 0.064 (in 3 folds)   \n",
       "lasso_cv             0.533 +/- 0.044 (in 3 folds)   \n",
       "rf_multiclass        0.524 +/- 0.035 (in 3 folds)   \n",
       "elasticnet_cv        0.516 +/- 0.040 (in 3 folds)   \n",
       "xgboost              0.514 +/- 0.035 (in 3 folds)   \n",
       "dummy_most_frequent  0.500 +/- 0.000 (in 3 folds)   \n",
       "\n",
       "                    au-PRC (weighted OvO) per fold  \\\n",
       "linearsvm_ovr         0.591 +/- 0.133 (in 3 folds)   \n",
       "dummy_stratified      0.565 +/- 0.170 (in 3 folds)   \n",
       "lasso_multiclass      0.602 +/- 0.132 (in 3 folds)   \n",
       "ridge_cv              0.638 +/- 0.099 (in 3 folds)   \n",
       "lasso_cv              0.551 +/- 0.186 (in 3 folds)   \n",
       "rf_multiclass         0.540 +/- 0.143 (in 3 folds)   \n",
       "elasticnet_cv         0.557 +/- 0.172 (in 3 folds)   \n",
       "xgboost               0.530 +/- 0.154 (in 3 folds)   \n",
       "dummy_most_frequent   0.510 +/- 0.155 (in 3 folds)   \n",
       "\n",
       "                      au-PRC (macro OvO) per fold  \\\n",
       "linearsvm_ovr        0.591 +/- 0.133 (in 3 folds)   \n",
       "dummy_stratified     0.565 +/- 0.170 (in 3 folds)   \n",
       "lasso_multiclass     0.602 +/- 0.132 (in 3 folds)   \n",
       "ridge_cv             0.638 +/- 0.099 (in 3 folds)   \n",
       "lasso_cv             0.551 +/- 0.186 (in 3 folds)   \n",
       "rf_multiclass        0.540 +/- 0.143 (in 3 folds)   \n",
       "elasticnet_cv        0.557 +/- 0.172 (in 3 folds)   \n",
       "xgboost              0.530 +/- 0.154 (in 3 folds)   \n",
       "dummy_most_frequent  0.510 +/- 0.155 (in 3 folds)   \n",
       "\n",
       "                                Accuracy per fold  \\\n",
       "linearsvm_ovr        0.576 +/- 0.132 (in 3 folds)   \n",
       "dummy_stratified     0.575 +/- 0.051 (in 3 folds)   \n",
       "lasso_multiclass     0.543 +/- 0.085 (in 3 folds)   \n",
       "ridge_cv             0.393 +/- 0.084 (in 3 folds)   \n",
       "lasso_cv             0.523 +/- 0.015 (in 3 folds)   \n",
       "rf_multiclass        0.528 +/- 0.078 (in 3 folds)   \n",
       "elasticnet_cv        0.537 +/- 0.066 (in 3 folds)   \n",
       "xgboost              0.547 +/- 0.035 (in 3 folds)   \n",
       "dummy_most_frequent  0.393 +/- 0.084 (in 3 folds)   \n",
       "\n",
       "                                     MCC per fold Accuracy global MCC global  \\\n",
       "linearsvm_ovr        0.192 +/- 0.117 (in 3 folds)           0.577      0.162   \n",
       "dummy_stratified     0.191 +/- 0.064 (in 3 folds)           0.574      0.149   \n",
       "lasso_multiclass     0.160 +/- 0.070 (in 3 folds)           0.541      0.078   \n",
       "ridge_cv             0.000 +/- 0.000 (in 3 folds)           0.393     -0.234   \n",
       "lasso_cv             0.176 +/- 0.111 (in 3 folds)           0.523      0.045   \n",
       "rf_multiclass        0.148 +/- 0.066 (in 3 folds)           0.548      0.101   \n",
       "elasticnet_cv        0.096 +/- 0.111 (in 3 folds)           0.536      0.071   \n",
       "xgboost              0.109 +/- 0.033 (in 3 folds)           0.546      0.091   \n",
       "dummy_most_frequent  0.000 +/- 0.000 (in 3 folds)           0.393     -0.234   \n",
       "\n",
       "                    Accuracy per fold with abstention  \\\n",
       "linearsvm_ovr            0.556 +/- 0.129 (in 3 folds)   \n",
       "dummy_stratified         0.540 +/- 0.054 (in 3 folds)   \n",
       "lasso_multiclass         0.514 +/- 0.068 (in 3 folds)   \n",
       "ridge_cv                 0.384 +/- 0.092 (in 3 folds)   \n",
       "lasso_cv                 0.495 +/- 0.015 (in 3 folds)   \n",
       "rf_multiclass            0.401 +/- 0.199 (in 3 folds)   \n",
       "elasticnet_cv            0.513 +/- 0.045 (in 3 folds)   \n",
       "xgboost                  0.513 +/- 0.026 (in 3 folds)   \n",
       "dummy_most_frequent      0.384 +/- 0.092 (in 3 folds)   \n",
       "\n",
       "                     MCC per fold with abstention  ...  \\\n",
       "linearsvm_ovr        0.179 +/- 0.102 (in 3 folds)  ...   \n",
       "dummy_stratified     0.169 +/- 0.059 (in 3 folds)  ...   \n",
       "lasso_multiclass     0.145 +/- 0.050 (in 3 folds)  ...   \n",
       "ridge_cv             0.046 +/- 0.041 (in 3 folds)  ...   \n",
       "lasso_cv             0.144 +/- 0.117 (in 3 folds)  ...   \n",
       "rf_multiclass        0.112 +/- 0.088 (in 3 folds)  ...   \n",
       "elasticnet_cv        0.084 +/- 0.096 (in 3 folds)  ...   \n",
       "xgboost              0.094 +/- 0.029 (in 3 folds)  ...   \n",
       "dummy_most_frequent  0.046 +/- 0.041 (in 3 folds)  ...   \n",
       "\n",
       "                    Abstention label global with abstention sample_size  \\\n",
       "linearsvm_ovr                                       Unknown         111   \n",
       "dummy_stratified                                    Unknown         108   \n",
       "lasso_multiclass                                    Unknown         109   \n",
       "ridge_cv                                            Unknown         112   \n",
       "lasso_cv                                            Unknown         109   \n",
       "rf_multiclass                                       Unknown          84   \n",
       "elasticnet_cv                                       Unknown         110   \n",
       "xgboost                                             Unknown         108   \n",
       "dummy_most_frequent                                 Unknown         112   \n",
       "\n",
       "                    n_abstentions sample_size including abstentions  \\\n",
       "linearsvm_ovr                   4                               115   \n",
       "dummy_stratified                7                               115   \n",
       "lasso_multiclass                6                               115   \n",
       "ridge_cv                        3                               115   \n",
       "lasso_cv                        6                               115   \n",
       "rf_multiclass                  31                               115   \n",
       "elasticnet_cv                   5                               115   \n",
       "xgboost                         7                               115   \n",
       "dummy_most_frequent             3                               115   \n",
       "\n",
       "                    abstention_rate  missing_classes  \\\n",
       "linearsvm_ovr              0.034783            False   \n",
       "dummy_stratified           0.060870            False   \n",
       "lasso_multiclass           0.052174            False   \n",
       "ridge_cv                   0.026087            False   \n",
       "lasso_cv                   0.052174            False   \n",
       "rf_multiclass              0.269565            False   \n",
       "elasticnet_cv              0.043478            False   \n",
       "xgboost                    0.060870            False   \n",
       "dummy_most_frequent        0.026087            False   \n",
       "\n",
       "                     ROC-AUC (weighted OvO) per fold with abstention  \\\n",
       "linearsvm_ovr                                                    NaN   \n",
       "dummy_stratified                                                 NaN   \n",
       "lasso_multiclass                                                 NaN   \n",
       "ridge_cv                                0.567 +/- 0.000 (in 1 folds)   \n",
       "lasso_cv                                                         NaN   \n",
       "rf_multiclass                                                    NaN   \n",
       "elasticnet_cv                           0.480 +/- 0.000 (in 1 folds)   \n",
       "xgboost                                                          NaN   \n",
       "dummy_most_frequent                     0.500 +/- 0.000 (in 1 folds)   \n",
       "\n",
       "                     ROC-AUC (macro OvO) per fold with abstention  \\\n",
       "linearsvm_ovr                                                 NaN   \n",
       "dummy_stratified                                              NaN   \n",
       "lasso_multiclass                                              NaN   \n",
       "ridge_cv                             0.567 +/- 0.000 (in 1 folds)   \n",
       "lasso_cv                                                      NaN   \n",
       "rf_multiclass                                                 NaN   \n",
       "elasticnet_cv                        0.480 +/- 0.000 (in 1 folds)   \n",
       "xgboost                                                       NaN   \n",
       "dummy_most_frequent                  0.500 +/- 0.000 (in 1 folds)   \n",
       "\n",
       "                     au-PRC (weighted OvO) per fold with abstention  \\\n",
       "linearsvm_ovr                                                   NaN   \n",
       "dummy_stratified                                                NaN   \n",
       "lasso_multiclass                                                NaN   \n",
       "ridge_cv                               0.630 +/- 0.000 (in 1 folds)   \n",
       "lasso_cv                                                        NaN   \n",
       "rf_multiclass                                                   NaN   \n",
       "elasticnet_cv                          0.510 +/- 0.000 (in 1 folds)   \n",
       "xgboost                                                         NaN   \n",
       "dummy_most_frequent                    0.486 +/- 0.000 (in 1 folds)   \n",
       "\n",
       "                     au-PRC (macro OvO) per fold with abstention  \n",
       "linearsvm_ovr                                                NaN  \n",
       "dummy_stratified                                             NaN  \n",
       "lasso_multiclass                                             NaN  \n",
       "ridge_cv                            0.630 +/- 0.000 (in 1 folds)  \n",
       "lasso_cv                                                     NaN  \n",
       "rf_multiclass                                                NaN  \n",
       "elasticnet_cv                       0.510 +/- 0.000 (in 1 folds)  \n",
       "xgboost                                                      NaN  \n",
       "dummy_most_frequent                 0.486 +/- 0.000 (in 1 folds)  \n",
       "\n",
       "[9 rows x 24 columns]"
      ]
     },
     "metadata": {},
     "output_type": "display_data"
    },
    {
     "name": "stdout",
     "output_type": "stream",
     "text": [
      "GeneLocus.TCR, fold 0, TargetObsColumnEnum.sex_healthy_only, lasso_multiclass: best p value = 0.01. Number of disease associated clusters: {'F': 17, 'M': 42}\n",
      "GeneLocus.TCR, fold 0, TargetObsColumnEnum.sex_healthy_only, rf_multiclass: best p value = 0.005. Number of disease associated clusters: {'F': 11, 'M': 10}\n",
      "GeneLocus.TCR, fold 0, TargetObsColumnEnum.sex_healthy_only, linearsvm_ovr: best p value = 0.01. Number of disease associated clusters: {'F': 17, 'M': 42}\n",
      "\n",
      "GeneLocus.TCR, fold 1, TargetObsColumnEnum.sex_healthy_only, lasso_multiclass: best p value = 0.05. Number of disease associated clusters: {'F': 361, 'M': 431}\n",
      "GeneLocus.TCR, fold 1, TargetObsColumnEnum.sex_healthy_only, rf_multiclass: best p value = 0.05. Number of disease associated clusters: {'F': 361, 'M': 431}\n"
     ]
    },
    {
     "name": "stdout",
     "output_type": "stream",
     "text": [
      "GeneLocus.TCR, fold 1, TargetObsColumnEnum.sex_healthy_only, linearsvm_ovr: best p value = 0.05. Number of disease associated clusters: {'F': 361, 'M': 431}\n",
      "\n",
      "GeneLocus.TCR, fold 2, TargetObsColumnEnum.sex_healthy_only, lasso_multiclass: best p value = 0.005. Number of disease associated clusters: {'F': 3, 'M': 47}\n",
      "GeneLocus.TCR, fold 2, TargetObsColumnEnum.sex_healthy_only, rf_multiclass: best p value = 0.0005. Number of disease associated clusters: {'F': 0, 'M': 4}\n",
      "GeneLocus.TCR, fold 2, TargetObsColumnEnum.sex_healthy_only, linearsvm_ovr: best p value = 0.05. Number of disease associated clusters: {'F': 153, 'M': 638}\n",
      "\n"
     ]
    }
   ],
   "source": [
    "for gene_locus in config.gene_loci_used:\n",
    "    for target_obs_col in config.classification_targets:\n",
    "        models_base_dir = ConvergentClusterClassifier._get_model_base_dir(\n",
    "            gene_locus=gene_locus, target_obs_column=target_obs_col\n",
    "        )  # should already exist\n",
    "\n",
    "        output_base_dir = (\n",
    "            config.paths.convergent_clusters_output_dir\n",
    "            / gene_locus.name\n",
    "            / combine_classification_option_names(target_obs_col)\n",
    "        )  # might not yet exist\n",
    "        output_base_dir.mkdir(parents=True, exist_ok=True)  # create if needed\n",
    "\n",
    "        model_output_prefix = models_base_dir / \"train_smaller_model\"\n",
    "        results_output_prefix = output_base_dir / \"train_smaller_model\"\n",
    "\n",
    "        try:\n",
    "            logger.info(\n",
    "                f\"{gene_locus}, {target_obs_col} from {model_output_prefix} to {results_output_prefix}\"\n",
    "            )\n",
    "\n",
    "            ## Load and summarize\n",
    "            experiment_set = model_evaluation.ExperimentSet.load_from_disk(\n",
    "                output_prefix=model_output_prefix\n",
    "            )\n",
    "\n",
    "            # Remove global fold (we trained global fold model, but now get evaluation scores on cross-validation folds only)\n",
    "            # TODO: make kdict support: del self.model_outputs[:, fold_id]\n",
    "            for key in experiment_set.model_outputs[:, -1].keys():\n",
    "                logger.debug(f\"Removing {key} (global fold)\")\n",
    "                del experiment_set.model_outputs[key]\n",
    "\n",
    "            experiment_set_global_performance = experiment_set.summarize()\n",
    "            experiment_set_global_performance.export_all_models(\n",
    "                func_generate_classification_report_fname=lambda model_name: f\"{results_output_prefix}.classification_report.{model_name}.txt\",\n",
    "                func_generate_confusion_matrix_fname=lambda model_name: f\"{results_output_prefix}.confusion_matrix.{model_name}.png\",\n",
    "                dpi=72,\n",
    "            )\n",
    "            combined_stats = (\n",
    "                experiment_set_global_performance.get_model_comparison_stats()\n",
    "            )\n",
    "            combined_stats.to_csv(\n",
    "                f\"{results_output_prefix}.compare_model_scores.tsv\",\n",
    "                sep=\"\\t\",\n",
    "            )\n",
    "            print(gene_locus, target_obs_col)\n",
    "            display(combined_stats)\n",
    "\n",
    "            # Which p values were chosen (varies by locus, model, and fold)? How many disease-associated sequences found?\n",
    "            for fold_id in config.cross_validation_fold_ids:\n",
    "                for model_name in [\n",
    "                    \"lasso_multiclass\",\n",
    "                    \"rf_multiclass\",\n",
    "                    \"linearsvm_ovr\",\n",
    "                ]:\n",
    "                    clf = ConvergentClusterClassifier(\n",
    "                        fold_id=fold_id,\n",
    "                        model_name=model_name,\n",
    "                        fold_label_train=\"train_smaller\",\n",
    "                        gene_locus=gene_locus,\n",
    "                        target_obs_column=target_obs_col,\n",
    "                    )\n",
    "                    p_value = clf.p_value_threshold\n",
    "                    clusters = clf.cluster_centroids_with_class_specific_p_values\n",
    "                    feature_names = clf.feature_names_in_\n",
    "                    print(\n",
    "                        f\"{gene_locus}, fold {fold_id}, {target_obs_col}, {model_name}: best p value = {p_value}. Number of disease associated clusters: {(clusters[feature_names] <= p_value).sum().to_dict()}\"\n",
    "                    )\n",
    "                print()\n",
    "\n",
    "        except Exception as err:\n",
    "            logger.exception(f\"{gene_locus}, {target_obs_col} failed with error: {err}\")"
   ]
  },
  {
   "cell_type": "code",
   "execution_count": null,
   "id": "6c31d8e7-a641-4335-a76b-c0ca3ce72260",
   "metadata": {},
   "outputs": [],
   "source": []
  },
  {
   "cell_type": "code",
   "execution_count": null,
   "id": "84024ad1",
   "metadata": {},
   "outputs": [],
   "source": []
  },
  {
   "cell_type": "code",
   "execution_count": null,
   "id": "da1a0122",
   "metadata": {},
   "outputs": [],
   "source": []
  }
 ],
 "metadata": {
  "jupytext": {
   "cell_metadata_filter": "-all",
   "encoding": "# -*- coding: utf-8 -*-"
  },
  "kernelspec": {
   "display_name": "py39-cuda-env",
   "language": "python",
   "name": "py39-cuda-env"
  },
  "language_info": {
   "codemirror_mode": {
    "name": "ipython",
    "version": 3
   },
   "file_extension": ".py",
   "mimetype": "text/x-python",
   "name": "python",
   "nbconvert_exporter": "python",
   "pygments_lexer": "ipython3",
   "version": "3.9.13"
  }
 },
 "nbformat": 4,
 "nbformat_minor": 5
}
