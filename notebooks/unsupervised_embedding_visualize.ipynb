{
 "cells": [
  {
   "cell_type": "code",
   "execution_count": null,
   "metadata": {},
   "outputs": [],
   "source": []
  },
  {
   "cell_type": "markdown",
   "metadata": {},
   "source": [
    "# Plot PCA and UMAP of language model embedding of test sets (\"unsupervised embedding\")\n",
    "\n",
    "- Data was scaled using training set's scaler\n",
    "- PCA was computed already, using training set's PCA\n",
    "- UMAP computed from scratch (first on training set, then applied to test set)\n",
    "\n",
    "This is different from supervised embedding which comes out of the trained classifiers."
   ]
  },
  {
   "cell_type": "code",
   "execution_count": null,
   "metadata": {},
   "outputs": [],
   "source": []
  },
  {
   "cell_type": "code",
   "execution_count": 1,
   "metadata": {
    "execution": {
     "iopub.execute_input": "2022-12-27T08:52:44.661237Z",
     "iopub.status.busy": "2022-12-27T08:52:44.660704Z",
     "iopub.status.idle": "2022-12-27T08:52:54.927004Z",
     "shell.execute_reply": "2022-12-27T08:52:54.925820Z"
    }
   },
   "outputs": [
    {
     "data": {
      "text/plain": [
       "['GPU-cc60845a-1c98-0d24-b5e4-0ce9c58dd2bb']"
      ]
     },
     "execution_count": 1,
     "metadata": {},
     "output_type": "execute_result"
    }
   ],
   "source": [
    "import numpy as np\n",
    "import matplotlib.pyplot as plt\n",
    "\n",
    "%matplotlib inline\n",
    "import seaborn as sns\n",
    "import pandas as pd\n",
    "import genetools\n",
    "from genetools.palette import HueValueStyle\n",
    "import gc\n",
    "from slugify import slugify\n",
    "from typing import Optional\n",
    "\n",
    "import malid.external.genetools_plots\n",
    "import malid.external.genetools_scanpy_helpers\n",
    "\n",
    "sns.set_style(\"dark\")\n",
    "\n",
    "import scanpy as sc\n",
    "\n",
    "from malid import config, io, logger, helpers\n",
    "from malid.datamodels import TargetObsColumnEnum, healthy_label\n",
    "from malid.external import genetools_plots\n",
    "import choosegpu\n",
    "\n",
    "choosegpu.configure_gpu(enable=True, memory_pool=True)"
   ]
  },
  {
   "cell_type": "code",
   "execution_count": null,
   "metadata": {},
   "outputs": [],
   "source": []
  },
  {
   "cell_type": "code",
   "execution_count": null,
   "metadata": {},
   "outputs": [],
   "source": []
  },
  {
   "cell_type": "code",
   "execution_count": 2,
   "metadata": {
    "execution": {
     "iopub.execute_input": "2022-12-27T08:52:54.933899Z",
     "iopub.status.busy": "2022-12-27T08:52:54.933014Z",
     "iopub.status.idle": "2022-12-27T08:52:54.940145Z",
     "shell.execute_reply": "2022-12-27T08:52:54.939074Z"
    }
   },
   "outputs": [],
   "source": [
    "disease_color_palette = helpers.disease_color_palette.copy()\n",
    "disease_color_palette[healthy_label] = HueValueStyle(\n",
    "    color=disease_color_palette[healthy_label], zorder=-15, alpha=0.5\n",
    ")"
   ]
  },
  {
   "cell_type": "code",
   "execution_count": 3,
   "metadata": {
    "execution": {
     "iopub.execute_input": "2022-12-27T08:52:54.943406Z",
     "iopub.status.busy": "2022-12-27T08:52:54.943138Z",
     "iopub.status.idle": "2022-12-27T08:52:54.952207Z",
     "shell.execute_reply": "2022-12-27T08:52:54.951128Z"
    }
   },
   "outputs": [],
   "source": [
    "def plot_background(\n",
    "    all_points, representation, fold_id, fold_label, gene_locus, plt_quantile=0.01\n",
    "):\n",
    "    # plot the background, with lower zorder than any palette zorders\n",
    "    fig, ax = genetools.plots.scatterplot(\n",
    "        data=all_points,\n",
    "        x_axis_key=f\"X_{representation}1\",\n",
    "        y_axis_key=f\"X_{representation}2\",\n",
    "        hue_key=\"disease\",\n",
    "        discrete_palette=disease_color_palette,\n",
    "        alpha=0.5,\n",
    "        marker=\".\",\n",
    "        marker_size=malid.external.genetools_plots.get_point_size(all_points.shape[0]),\n",
    "        figsize=(5, 5),\n",
    "        legend_title=\"Disease\",\n",
    "        enable_legend=True,\n",
    "        remove_x_ticks=True,\n",
    "        remove_y_ticks=True,\n",
    "    )\n",
    "\n",
    "    ax.set_title(\n",
    "        f\"Fold {fold_id} {fold_label}, {representation}, {gene_locus} - all diseases\"\n",
    "    )\n",
    "\n",
    "    # Zoom in\n",
    "    ax.set_xlim(\n",
    "        np.quantile(all_points[f\"X_{representation}1\"], plt_quantile),\n",
    "        np.quantile(all_points[f\"X_{representation}1\"], 1 - plt_quantile),\n",
    "    )\n",
    "    ax.set_ylim(\n",
    "        np.quantile(all_points[f\"X_{representation}2\"], plt_quantile),\n",
    "        np.quantile(all_points[f\"X_{representation}2\"], 1 - plt_quantile),\n",
    "    )\n",
    "\n",
    "    # Put sample sizes in legend\n",
    "    genetools.plots.add_sample_size_to_legend(\n",
    "        ax=ax,\n",
    "        data=all_points,\n",
    "        hue_key=\"disease\",\n",
    "    )\n",
    "\n",
    "    return fig, ax"
   ]
  },
  {
   "cell_type": "code",
   "execution_count": 4,
   "metadata": {
    "execution": {
     "iopub.execute_input": "2022-12-27T08:52:54.955773Z",
     "iopub.status.busy": "2022-12-27T08:52:54.955570Z",
     "iopub.status.idle": "2022-12-27T08:52:54.963598Z",
     "shell.execute_reply": "2022-12-27T08:52:54.962693Z"
    }
   },
   "outputs": [],
   "source": [
    "def plot_within_disease(\n",
    "    all_points,\n",
    "    disease,\n",
    "    representation,\n",
    "    fold_id,\n",
    "    fold_label,\n",
    "    gene_locus,\n",
    "    plt_quantile=0.01,\n",
    "):\n",
    "    foreground_points = all_points[all_points[\"disease\"] == disease]\n",
    "\n",
    "    fig, ax = plt.subplots(figsize=(5, 5))\n",
    "\n",
    "    foreground_hue_key = \"study_name\"\n",
    "    foreground_palette = helpers.study_name_color_palette\n",
    "    foreground_legend_title = \"study name\"\n",
    "    foreground_marker_size = malid.external.genetools_plots.get_point_size(\n",
    "        all_points.shape[0]\n",
    "    )\n",
    "    foreground_marker = \"o\"\n",
    "\n",
    "    plot_title = (\n",
    "        f\"{disease}, fold {fold_id} {fold_label}, {representation}, {gene_locus}\"\n",
    "    )\n",
    "\n",
    "    # plot the foreground\n",
    "    genetools.plots.scatterplot(\n",
    "        data=foreground_points,\n",
    "        x_axis_key=f\"X_{representation}1\",\n",
    "        y_axis_key=f\"X_{representation}2\",\n",
    "        hue_key=foreground_hue_key,\n",
    "        discrete_palette=foreground_palette,\n",
    "        ax=ax,\n",
    "        enable_legend=True,\n",
    "        alpha=0.5,\n",
    "        marker=foreground_marker,\n",
    "        marker_size=foreground_marker_size,\n",
    "        legend_title=foreground_legend_title,\n",
    "        remove_x_ticks=False,\n",
    "        remove_y_ticks=False,\n",
    "    )\n",
    "    ax.set_title(plot_title)\n",
    "\n",
    "    # Zoom in\n",
    "    ax.set_xlim(\n",
    "        np.quantile(all_points[f\"X_{representation}1\"], plt_quantile),\n",
    "        np.quantile(all_points[f\"X_{representation}1\"], 1 - plt_quantile),\n",
    "    )\n",
    "    ax.set_ylim(\n",
    "        np.quantile(all_points[f\"X_{representation}2\"], plt_quantile),\n",
    "        np.quantile(all_points[f\"X_{representation}2\"], 1 - plt_quantile),\n",
    "    )\n",
    "\n",
    "    ax.set_aspect(\"equal\", \"datalim\")  # change axes limits to get 1:1 aspect\n",
    "\n",
    "    # Put sample sizes in legend\n",
    "    genetools.plots.add_sample_size_to_legend(\n",
    "        ax=ax,\n",
    "        data=foreground_points,\n",
    "        hue_key=foreground_hue_key,\n",
    "    )\n",
    "\n",
    "    return fig, ax"
   ]
  },
  {
   "cell_type": "code",
   "execution_count": 5,
   "metadata": {
    "execution": {
     "iopub.execute_input": "2022-12-27T08:52:54.968092Z",
     "iopub.status.busy": "2022-12-27T08:52:54.967766Z",
     "iopub.status.idle": "2022-12-27T08:52:54.976677Z",
     "shell.execute_reply": "2022-12-27T08:52:54.975564Z"
    }
   },
   "outputs": [],
   "source": [
    "def plot_within_disease_overall_density(\n",
    "    all_points,\n",
    "    disease,\n",
    "    representation,\n",
    "    fold_id,\n",
    "    fold_label,\n",
    "    gene_locus,\n",
    "    plt_quantile=0.01,\n",
    "):\n",
    "    xcol = f\"X_{representation}1\"\n",
    "    ycol = f\"X_{representation}2\"\n",
    "    xlims = (\n",
    "        np.quantile(all_points[xcol], plt_quantile),\n",
    "        np.quantile(all_points[xcol], 1 - plt_quantile),\n",
    "    )\n",
    "    ylims = (\n",
    "        np.quantile(all_points[ycol], plt_quantile),\n",
    "        np.quantile(all_points[ycol], 1 - plt_quantile),\n",
    "    )\n",
    "\n",
    "    foreground_points = all_points[all_points[\"disease\"] == disease]\n",
    "\n",
    "    # filter down\n",
    "    # TODO: do this early in other methods too?\n",
    "    foreground_points = foreground_points[\n",
    "        (foreground_points[xcol] >= xlims[0])\n",
    "        & (foreground_points[xcol] <= xlims[1])\n",
    "        & (foreground_points[ycol] >= ylims[0])\n",
    "        & (foreground_points[ycol] <= ylims[1])\n",
    "    ]\n",
    "\n",
    "    fig, ax = plt.subplots(figsize=(5, 5))\n",
    "\n",
    "    # set minimum count for background cells: https://stackoverflow.com/a/5405654/130164\n",
    "    # also set grid size\n",
    "    hexplotted = ax.hexbin(\n",
    "        foreground_points[xcol],\n",
    "        foreground_points[ycol],\n",
    "        mincnt=10,\n",
    "        gridsize=25,\n",
    "        cmap=\"Blues\",\n",
    "    )\n",
    "\n",
    "    # Add color bar.\n",
    "    # see also https://stackoverflow.com/a/44642014/130164\n",
    "    # Pull colorbar out of axis by creating a special axis for the colorbar - rather than distorting main ax.\n",
    "    # specify width and height relative to parent bbox\n",
    "    from mpl_toolkits.axes_grid1.inset_locator import inset_axes\n",
    "\n",
    "    colorbar_ax = inset_axes(\n",
    "        ax,\n",
    "        width=\"5%\",\n",
    "        height=\"80%\",\n",
    "        loc=\"center left\",\n",
    "        bbox_to_anchor=(1.05, 0.0, 1, 1),\n",
    "        bbox_transform=ax.transAxes,\n",
    "        borderpad=0,\n",
    "    )\n",
    "\n",
    "    colorbar = fig.colorbar(hexplotted, cax=colorbar_ax, label=\"Density\")\n",
    "\n",
    "    # set global \"current axes\" back to main axes,\n",
    "    # so that any calls like plt.title target main ax rather than inset colorbar_ax\n",
    "    plt.sca(ax)\n",
    "\n",
    "    ax.set_title(\n",
    "        f\"{disease}, fold {fold_id} {fold_label}, {representation}, {gene_locus}\"\n",
    "    )\n",
    "\n",
    "    ax.set_aspect(\"equal\", \"datalim\")  # change axes limits to get 1:1 aspect\n",
    "\n",
    "    return fig, ax"
   ]
  },
  {
   "cell_type": "code",
   "execution_count": 6,
   "metadata": {
    "execution": {
     "iopub.execute_input": "2022-12-27T08:52:54.980285Z",
     "iopub.status.busy": "2022-12-27T08:52:54.979928Z",
     "iopub.status.idle": "2022-12-27T08:52:54.987338Z",
     "shell.execute_reply": "2022-12-27T08:52:54.986289Z"
    }
   },
   "outputs": [],
   "source": [
    "def plot_within_disease_relative_density(\n",
    "    all_points,\n",
    "    disease,\n",
    "    representation,\n",
    "    positive_class,  # which study name to use as numerator in proportion\n",
    "    fold_id,\n",
    "    fold_label,\n",
    "    gene_locus,\n",
    "    n_bins=25,  # per dimension\n",
    "    minimal_bin_density_quantile: Optional[float] = 0.50,  # drop bins with low counts\n",
    "    plt_quantile=0.01,  # zoom in\n",
    "):\n",
    "    foreground_points = all_points[all_points[\"disease\"] == disease]\n",
    "\n",
    "    xlims = (\n",
    "        np.quantile(all_points[f\"X_{representation}1\"], plt_quantile),\n",
    "        np.quantile(all_points[f\"X_{representation}1\"], 1 - plt_quantile),\n",
    "    )\n",
    "    ylims = (\n",
    "        np.quantile(all_points[f\"X_{representation}2\"], plt_quantile),\n",
    "        np.quantile(all_points[f\"X_{representation}2\"], 1 - plt_quantile),\n",
    "    )\n",
    "\n",
    "    fig, ax, description = genetools_plots.two_class_relative_density_plot(\n",
    "        data=foreground_points,\n",
    "        x_key=f\"X_{representation}1\",\n",
    "        y_key=f\"X_{representation}2\",\n",
    "        hue_key=\"study_name\",\n",
    "        positive_class=positive_class,\n",
    "        colorbar_label=f\"Proportion of {positive_class} vs all {disease}\",\n",
    "        quantile=minimal_bin_density_quantile,\n",
    "        figsize=(5, 5),\n",
    "        n_bins=n_bins,\n",
    "        range=(xlims, ylims),  # Only use zoom extent\n",
    "    )\n",
    "\n",
    "    ax.set_title(\n",
    "        f\"{disease}, fold {fold_id} {fold_label}, {representation}, {gene_locus}\\n{description}\"\n",
    "    )\n",
    "\n",
    "    # Zoom in\n",
    "    ax.set_xlim(xlims)\n",
    "    ax.set_ylim(ylims)\n",
    "\n",
    "    ax.set_aspect(\"equal\", \"datalim\")  # change axes limits to get 1:1 aspect\n",
    "\n",
    "    return fig, ax"
   ]
  },
  {
   "cell_type": "code",
   "execution_count": null,
   "metadata": {},
   "outputs": [],
   "source": []
  },
  {
   "cell_type": "code",
   "execution_count": 7,
   "metadata": {
    "execution": {
     "iopub.execute_input": "2022-12-27T08:52:54.990957Z",
     "iopub.status.busy": "2022-12-27T08:52:54.990660Z",
     "iopub.status.idle": "2022-12-27T08:52:54.995218Z",
     "shell.execute_reply": "2022-12-27T08:52:54.994217Z"
    }
   },
   "outputs": [],
   "source": [
    "fold_label = \"test\""
   ]
  },
  {
   "cell_type": "code",
   "execution_count": 8,
   "metadata": {
    "execution": {
     "iopub.execute_input": "2022-12-27T08:52:54.999178Z",
     "iopub.status.busy": "2022-12-27T08:52:54.998878Z",
     "iopub.status.idle": "2022-12-28T07:22:38.145875Z",
     "shell.execute_reply": "2022-12-28T07:22:38.144469Z"
    }
   },
   "outputs": [
    {
     "name": "stderr",
     "output_type": "stream",
     "text": [
      "2022-12-27 00:52:55,158 - unsupervised_embedding_visualize.ipynb - INFO - Processing fold 0-test, GeneLocus.BCR\n"
     ]
    },
    {
     "name": "stderr",
     "output_type": "stream",
     "text": [
      "2022-12-27 00:52:55,162 - malid.external.scratch_cache - INFO - Reading network file from local machine cache: /users/maximz/code/boyd-immune-repertoire-classification/data/data_v_20221224/embedded/unirep_fine_tuned/anndatas_scaled/BCR/fold.0.test.h5ad -> /srv/scratch/maximz/cache/d23bdbcb1cb8d1c3007da595727fbbab8cc86779ab8967868314f2da.0.test.h5ad\n"
     ]
    },
    {
     "name": "stdout",
     "output_type": "stream",
     "text": [
      "WARNING: Your filename has more than two extensions: ['.0', '.test', '.h5ad'].\n",
      "Only considering the two last: ['.test', '.h5ad'].\n"
     ]
    },
    {
     "name": "stdout",
     "output_type": "stream",
     "text": [
      "WARNING: Your filename has more than two extensions: ['.0', '.test', '.h5ad'].\n",
      "Only considering the two last: ['.test', '.h5ad'].\n"
     ]
    },
    {
     "name": "stderr",
     "output_type": "stream",
     "text": [
      "2022-12-27 00:54:16,466 - malid.helpers - WARNING - Not marking any sequences as confident_sequence because those annotations weren't found: [Errno 2] No such file or directory: '/users/maximz/code/boyd-immune-repertoire-classification/data/data_v_20221224/embedded/unirep_fine_tuned/anndatas_scaled/BCR/neighborhoods/knn_neighborhood.0.test.IGHG.embedded_onto.train_smaller.combined_data.filtered.tsv.gz'\n"
     ]
    },
    {
     "name": "stderr",
     "output_type": "stream",
     "text": [
      "2022-12-27 00:54:43,611 - malid.external.scratch_cache - INFO - Reading network file from local machine cache: /users/maximz/code/boyd-immune-repertoire-classification/data/data_v_20221224/embedded/unirep_fine_tuned/anndatas_scaled/BCR/fold.0.train_smaller.h5ad -> /srv/scratch/maximz/cache/7f04f4bafb0ade43dcc30c658cb88992fd0cd5728e955bb146f9115a.0.train_smaller.h5ad\n"
     ]
    },
    {
     "name": "stdout",
     "output_type": "stream",
     "text": [
      "WARNING: Your filename has more than two extensions: ['.0', '.train_smaller', '.h5ad'].\n",
      "Only considering the two last: ['.train_smaller', '.h5ad'].\n"
     ]
    },
    {
     "name": "stdout",
     "output_type": "stream",
     "text": [
      "WARNING: Your filename has more than two extensions: ['.0', '.train_smaller', '.h5ad'].\n",
      "Only considering the two last: ['.train_smaller', '.h5ad'].\n"
     ]
    },
    {
     "name": "stderr",
     "output_type": "stream",
     "text": [
      "2022-12-27 00:56:15,515 - malid.helpers - WARNING - Not marking any sequences as confident_sequence because those annotations weren't found: [Errno 2] No such file or directory: '/users/maximz/code/boyd-immune-repertoire-classification/data/data_v_20221224/embedded/unirep_fine_tuned/anndatas_scaled/BCR/neighborhoods/knn_neighborhood.0.train_smaller.IGHG.embedded_onto.train_smaller.combined_data.filtered.tsv.gz'\n"
     ]
    },
    {
     "name": "stderr",
     "output_type": "stream",
     "text": [
      "2022-12-27 03:10:46,907 - unsupervised_embedding_visualize.ipynb - INFO - Processing fold 1-test, GeneLocus.BCR\n"
     ]
    },
    {
     "name": "stderr",
     "output_type": "stream",
     "text": [
      "2022-12-27 03:10:46,911 - malid.external.scratch_cache - INFO - Reading network file from local machine cache: /users/maximz/code/boyd-immune-repertoire-classification/data/data_v_20221224/embedded/unirep_fine_tuned/anndatas_scaled/BCR/fold.1.test.h5ad -> /srv/scratch/maximz/cache/ed1f2608e168c24c508b6bfbbe3a18ba1a4680e5c010e34cd184cae6.1.test.h5ad\n"
     ]
    },
    {
     "name": "stdout",
     "output_type": "stream",
     "text": [
      "WARNING: Your filename has more than two extensions: ['.1', '.test', '.h5ad'].\n",
      "Only considering the two last: ['.test', '.h5ad'].\n"
     ]
    },
    {
     "name": "stdout",
     "output_type": "stream",
     "text": [
      "WARNING: Your filename has more than two extensions: ['.1', '.test', '.h5ad'].\n",
      "Only considering the two last: ['.test', '.h5ad'].\n"
     ]
    },
    {
     "name": "stderr",
     "output_type": "stream",
     "text": [
      "2022-12-27 03:12:24,220 - malid.helpers - WARNING - Not marking any sequences as confident_sequence because those annotations weren't found: [Errno 2] No such file or directory: '/users/maximz/code/boyd-immune-repertoire-classification/data/data_v_20221224/embedded/unirep_fine_tuned/anndatas_scaled/BCR/neighborhoods/knn_neighborhood.1.test.IGHG.embedded_onto.train_smaller.combined_data.filtered.tsv.gz'\n"
     ]
    },
    {
     "name": "stderr",
     "output_type": "stream",
     "text": [
      "2022-12-27 03:12:50,573 - malid.external.scratch_cache - INFO - Reading network file from local machine cache: /users/maximz/code/boyd-immune-repertoire-classification/data/data_v_20221224/embedded/unirep_fine_tuned/anndatas_scaled/BCR/fold.1.train_smaller.h5ad -> /srv/scratch/maximz/cache/4110bb3aa0fb718bb62fede8d6a704d8165d8d6bc349377491f87944.1.train_smaller.h5ad\n"
     ]
    },
    {
     "name": "stdout",
     "output_type": "stream",
     "text": [
      "WARNING: Your filename has more than two extensions: ['.1', '.train_smaller', '.h5ad'].\n",
      "Only considering the two last: ['.train_smaller', '.h5ad'].\n"
     ]
    },
    {
     "name": "stdout",
     "output_type": "stream",
     "text": [
      "WARNING: Your filename has more than two extensions: ['.1', '.train_smaller', '.h5ad'].\n",
      "Only considering the two last: ['.train_smaller', '.h5ad'].\n"
     ]
    },
    {
     "name": "stderr",
     "output_type": "stream",
     "text": [
      "2022-12-27 03:24:46,864 - malid.helpers - WARNING - Not marking any sequences as confident_sequence because those annotations weren't found: [Errno 2] No such file or directory: '/users/maximz/code/boyd-immune-repertoire-classification/data/data_v_20221224/embedded/unirep_fine_tuned/anndatas_scaled/BCR/neighborhoods/knn_neighborhood.1.train_smaller.IGHG.embedded_onto.train_smaller.combined_data.filtered.tsv.gz'\n"
     ]
    },
    {
     "name": "stderr",
     "output_type": "stream",
     "text": [
      "2022-12-27 05:58:58,518 - unsupervised_embedding_visualize.ipynb - INFO - Processing fold 2-test, GeneLocus.BCR\n"
     ]
    },
    {
     "name": "stderr",
     "output_type": "stream",
     "text": [
      "2022-12-27 05:58:58,523 - malid.external.scratch_cache - INFO - Reading network file from local machine cache: /users/maximz/code/boyd-immune-repertoire-classification/data/data_v_20221224/embedded/unirep_fine_tuned/anndatas_scaled/BCR/fold.2.test.h5ad -> /srv/scratch/maximz/cache/83dcd409138574af7b7b712ce14967e926c14170bff7801b141edb49.2.test.h5ad\n"
     ]
    },
    {
     "name": "stdout",
     "output_type": "stream",
     "text": [
      "WARNING: Your filename has more than two extensions: ['.2', '.test', '.h5ad'].\n",
      "Only considering the two last: ['.test', '.h5ad'].\n"
     ]
    },
    {
     "name": "stdout",
     "output_type": "stream",
     "text": [
      "WARNING: Your filename has more than two extensions: ['.2', '.test', '.h5ad'].\n",
      "Only considering the two last: ['.test', '.h5ad'].\n"
     ]
    },
    {
     "name": "stderr",
     "output_type": "stream",
     "text": [
      "2022-12-27 06:00:57,863 - malid.helpers - WARNING - Not marking any sequences as confident_sequence because those annotations weren't found: [Errno 2] No such file or directory: '/users/maximz/code/boyd-immune-repertoire-classification/data/data_v_20221224/embedded/unirep_fine_tuned/anndatas_scaled/BCR/neighborhoods/knn_neighborhood.2.test.IGHG.embedded_onto.train_smaller.combined_data.filtered.tsv.gz'\n"
     ]
    },
    {
     "name": "stderr",
     "output_type": "stream",
     "text": [
      "2022-12-27 06:01:23,858 - malid.external.scratch_cache - INFO - Reading network file from local machine cache: /users/maximz/code/boyd-immune-repertoire-classification/data/data_v_20221224/embedded/unirep_fine_tuned/anndatas_scaled/BCR/fold.2.train_smaller.h5ad -> /srv/scratch/maximz/cache/578e6ec41823516592527ab2d5010994f0b640e6b5c16cfd655e655d.2.train_smaller.h5ad\n"
     ]
    },
    {
     "name": "stdout",
     "output_type": "stream",
     "text": [
      "WARNING: Your filename has more than two extensions: ['.2', '.train_smaller', '.h5ad'].\n",
      "Only considering the two last: ['.train_smaller', '.h5ad'].\n"
     ]
    },
    {
     "name": "stdout",
     "output_type": "stream",
     "text": [
      "WARNING: Your filename has more than two extensions: ['.2', '.train_smaller', '.h5ad'].\n",
      "Only considering the two last: ['.train_smaller', '.h5ad'].\n"
     ]
    },
    {
     "name": "stderr",
     "output_type": "stream",
     "text": [
      "2022-12-27 06:15:23,343 - malid.helpers - WARNING - Not marking any sequences as confident_sequence because those annotations weren't found: [Errno 2] No such file or directory: '/users/maximz/code/boyd-immune-repertoire-classification/data/data_v_20221224/embedded/unirep_fine_tuned/anndatas_scaled/BCR/neighborhoods/knn_neighborhood.2.train_smaller.IGHG.embedded_onto.train_smaller.combined_data.filtered.tsv.gz'\n"
     ]
    },
    {
     "name": "stderr",
     "output_type": "stream",
     "text": [
      "2022-12-27 08:38:33,097 - unsupervised_embedding_visualize.ipynb - INFO - Processing fold 0-test, GeneLocus.TCR\n"
     ]
    },
    {
     "name": "stderr",
     "output_type": "stream",
     "text": [
      "2022-12-27 08:38:33,102 - malid.external.scratch_cache - INFO - Reading network file from local machine cache: /users/maximz/code/boyd-immune-repertoire-classification/data/data_v_20221224/embedded/unirep_fine_tuned/anndatas_scaled/TCR/fold.0.test.h5ad -> /srv/scratch/maximz/cache/a6c3ab8bb9960154ff8dbb5d04eaf7a1c395f034f82f9649aefc9d35.0.test.h5ad\n"
     ]
    },
    {
     "name": "stdout",
     "output_type": "stream",
     "text": [
      "WARNING: Your filename has more than two extensions: ['.0', '.test', '.h5ad'].\n",
      "Only considering the two last: ['.test', '.h5ad'].\n"
     ]
    },
    {
     "name": "stdout",
     "output_type": "stream",
     "text": [
      "WARNING: Your filename has more than two extensions: ['.0', '.test', '.h5ad'].\n",
      "Only considering the two last: ['.test', '.h5ad'].\n"
     ]
    },
    {
     "name": "stderr",
     "output_type": "stream",
     "text": [
      "2022-12-27 08:41:42,459 - malid.helpers - WARNING - Not marking any sequences as confident_sequence because those annotations weren't found: [Errno 2] No such file or directory: '/users/maximz/code/boyd-immune-repertoire-classification/data/data_v_20221224/embedded/unirep_fine_tuned/anndatas_scaled/TCR/neighborhoods/knn_neighborhood.0.test.TCRB.embedded_onto.train_smaller.combined_data.filtered.tsv.gz'\n"
     ]
    },
    {
     "name": "stderr",
     "output_type": "stream",
     "text": [
      "2022-12-27 08:42:17,759 - malid.external.scratch_cache - INFO - Reading network file from local machine cache: /users/maximz/code/boyd-immune-repertoire-classification/data/data_v_20221224/embedded/unirep_fine_tuned/anndatas_scaled/TCR/fold.0.train_smaller.h5ad -> /srv/scratch/maximz/cache/6b796871077fee80a869f8764118b0fdb69bf9ca37a5d9a043cf68c5.0.train_smaller.h5ad\n"
     ]
    },
    {
     "name": "stdout",
     "output_type": "stream",
     "text": [
      "WARNING: Your filename has more than two extensions: ['.0', '.train_smaller', '.h5ad'].\n",
      "Only considering the two last: ['.train_smaller', '.h5ad'].\n"
     ]
    },
    {
     "name": "stdout",
     "output_type": "stream",
     "text": [
      "WARNING: Your filename has more than two extensions: ['.0', '.train_smaller', '.h5ad'].\n",
      "Only considering the two last: ['.train_smaller', '.h5ad'].\n"
     ]
    },
    {
     "name": "stderr",
     "output_type": "stream",
     "text": [
      "2022-12-27 09:05:21,270 - malid.helpers - WARNING - Not marking any sequences as confident_sequence because those annotations weren't found: [Errno 2] No such file or directory: '/users/maximz/code/boyd-immune-repertoire-classification/data/data_v_20221224/embedded/unirep_fine_tuned/anndatas_scaled/TCR/neighborhoods/knn_neighborhood.0.train_smaller.TCRB.embedded_onto.train_smaller.combined_data.filtered.tsv.gz'\n"
     ]
    },
    {
     "name": "stderr",
     "output_type": "stream",
     "text": [
      "2022-12-27 13:26:56,668 - unsupervised_embedding_visualize.ipynb - INFO - Processing fold 1-test, GeneLocus.TCR\n"
     ]
    },
    {
     "name": "stderr",
     "output_type": "stream",
     "text": [
      "2022-12-27 13:26:56,679 - malid.external.scratch_cache - INFO - Reading network file from local machine cache: /users/maximz/code/boyd-immune-repertoire-classification/data/data_v_20221224/embedded/unirep_fine_tuned/anndatas_scaled/TCR/fold.1.test.h5ad -> /srv/scratch/maximz/cache/d3eb18b805f6482478ad1ee75a5249a449864d796469d3e144db1326.1.test.h5ad\n"
     ]
    },
    {
     "name": "stdout",
     "output_type": "stream",
     "text": [
      "WARNING: Your filename has more than two extensions: ['.1', '.test', '.h5ad'].\n",
      "Only considering the two last: ['.test', '.h5ad'].\n"
     ]
    },
    {
     "name": "stdout",
     "output_type": "stream",
     "text": [
      "WARNING: Your filename has more than two extensions: ['.1', '.test', '.h5ad'].\n",
      "Only considering the two last: ['.test', '.h5ad'].\n"
     ]
    },
    {
     "name": "stderr",
     "output_type": "stream",
     "text": [
      "2022-12-27 13:29:54,542 - malid.helpers - WARNING - Not marking any sequences as confident_sequence because those annotations weren't found: [Errno 2] No such file or directory: '/users/maximz/code/boyd-immune-repertoire-classification/data/data_v_20221224/embedded/unirep_fine_tuned/anndatas_scaled/TCR/neighborhoods/knn_neighborhood.1.test.TCRB.embedded_onto.train_smaller.combined_data.filtered.tsv.gz'\n"
     ]
    },
    {
     "name": "stderr",
     "output_type": "stream",
     "text": [
      "2022-12-27 13:30:25,586 - malid.external.scratch_cache - INFO - Reading network file from local machine cache: /users/maximz/code/boyd-immune-repertoire-classification/data/data_v_20221224/embedded/unirep_fine_tuned/anndatas_scaled/TCR/fold.1.train_smaller.h5ad -> /srv/scratch/maximz/cache/117eb95eb3cad5ad91c5749ddfa0db422db06a1c91f41e0fdc99057d.1.train_smaller.h5ad\n"
     ]
    },
    {
     "name": "stdout",
     "output_type": "stream",
     "text": [
      "WARNING: Your filename has more than two extensions: ['.1', '.train_smaller', '.h5ad'].\n",
      "Only considering the two last: ['.train_smaller', '.h5ad'].\n"
     ]
    },
    {
     "name": "stdout",
     "output_type": "stream",
     "text": [
      "WARNING: Your filename has more than two extensions: ['.1', '.train_smaller', '.h5ad'].\n",
      "Only considering the two last: ['.train_smaller', '.h5ad'].\n"
     ]
    },
    {
     "name": "stderr",
     "output_type": "stream",
     "text": [
      "2022-12-27 13:54:12,191 - malid.helpers - WARNING - Not marking any sequences as confident_sequence because those annotations weren't found: [Errno 2] No such file or directory: '/users/maximz/code/boyd-immune-repertoire-classification/data/data_v_20221224/embedded/unirep_fine_tuned/anndatas_scaled/TCR/neighborhoods/knn_neighborhood.1.train_smaller.TCRB.embedded_onto.train_smaller.combined_data.filtered.tsv.gz'\n"
     ]
    },
    {
     "name": "stderr",
     "output_type": "stream",
     "text": [
      "2022-12-27 18:22:10,070 - unsupervised_embedding_visualize.ipynb - INFO - Processing fold 2-test, GeneLocus.TCR\n"
     ]
    },
    {
     "name": "stderr",
     "output_type": "stream",
     "text": [
      "2022-12-27 18:22:10,074 - malid.external.scratch_cache - INFO - Reading network file from local machine cache: /users/maximz/code/boyd-immune-repertoire-classification/data/data_v_20221224/embedded/unirep_fine_tuned/anndatas_scaled/TCR/fold.2.test.h5ad -> /srv/scratch/maximz/cache/d74a0f1a51ad1e35ec4654f627621ecdc4abf48e3481e399db8af384.2.test.h5ad\n"
     ]
    },
    {
     "name": "stdout",
     "output_type": "stream",
     "text": [
      "WARNING: Your filename has more than two extensions: ['.2', '.test', '.h5ad'].\n",
      "Only considering the two last: ['.test', '.h5ad'].\n"
     ]
    },
    {
     "name": "stdout",
     "output_type": "stream",
     "text": [
      "WARNING: Your filename has more than two extensions: ['.2', '.test', '.h5ad'].\n",
      "Only considering the two last: ['.test', '.h5ad'].\n"
     ]
    },
    {
     "name": "stderr",
     "output_type": "stream",
     "text": [
      "2022-12-27 18:25:08,180 - malid.helpers - WARNING - Not marking any sequences as confident_sequence because those annotations weren't found: [Errno 2] No such file or directory: '/users/maximz/code/boyd-immune-repertoire-classification/data/data_v_20221224/embedded/unirep_fine_tuned/anndatas_scaled/TCR/neighborhoods/knn_neighborhood.2.test.TCRB.embedded_onto.train_smaller.combined_data.filtered.tsv.gz'\n"
     ]
    },
    {
     "name": "stderr",
     "output_type": "stream",
     "text": [
      "2022-12-27 18:25:38,858 - malid.external.scratch_cache - INFO - Reading network file from local machine cache: /users/maximz/code/boyd-immune-repertoire-classification/data/data_v_20221224/embedded/unirep_fine_tuned/anndatas_scaled/TCR/fold.2.train_smaller.h5ad -> /srv/scratch/maximz/cache/99bd53c7c35bce43fbec0229ffe1fc112a054c1e0ca9816d6fa80185.2.train_smaller.h5ad\n"
     ]
    },
    {
     "name": "stdout",
     "output_type": "stream",
     "text": [
      "WARNING: Your filename has more than two extensions: ['.2', '.train_smaller', '.h5ad'].\n",
      "Only considering the two last: ['.train_smaller', '.h5ad'].\n"
     ]
    },
    {
     "name": "stdout",
     "output_type": "stream",
     "text": [
      "WARNING: Your filename has more than two extensions: ['.2', '.train_smaller', '.h5ad'].\n",
      "Only considering the two last: ['.train_smaller', '.h5ad'].\n"
     ]
    },
    {
     "name": "stderr",
     "output_type": "stream",
     "text": [
      "2022-12-27 18:44:52,660 - malid.helpers - WARNING - Not marking any sequences as confident_sequence because those annotations weren't found: [Errno 2] No such file or directory: '/users/maximz/code/boyd-immune-repertoire-classification/data/data_v_20221224/embedded/unirep_fine_tuned/anndatas_scaled/TCR/neighborhoods/knn_neighborhood.2.train_smaller.TCRB.embedded_onto.train_smaller.combined_data.filtered.tsv.gz'\n"
     ]
    }
   ],
   "source": [
    "for gene_locus in config.gene_loci_used:\n",
    "    for fold_id in config.cross_validation_fold_ids:\n",
    "        logger.info(f\"Processing fold {fold_id}-{fold_label}, {gene_locus}\")\n",
    "\n",
    "        # Load test set\n",
    "        adata = io.load_fold_embeddings(\n",
    "            fold_id=fold_id,\n",
    "            fold_label=fold_label,\n",
    "            gene_locus=gene_locus,\n",
    "            target_obs_column=TargetObsColumnEnum.disease,\n",
    "        )\n",
    "        assert not adata.obs[\"study_name\"].isna().any()\n",
    "\n",
    "        # Construct UMAP for each test set anndata\n",
    "        # It's dependent on training set\n",
    "        # Fit on training set (loaded and thrown away), apply to test set. Both are already scaled.\n",
    "        # (This has already been done for PCA)\n",
    "        _, adata = malid.external.genetools_scanpy_helpers.umap_train_and_test_anndatas(\n",
    "            adata_train=io.load_fold_embeddings(\n",
    "                fold_id=fold_id,\n",
    "                fold_label=\"train_smaller\",\n",
    "                gene_locus=gene_locus,\n",
    "                target_obs_column=TargetObsColumnEnum.disease,\n",
    "            ),\n",
    "            adata_test=adata,\n",
    "            n_neighbors=15,\n",
    "            n_components=2,\n",
    "            inplace=True,\n",
    "            random_state=0,\n",
    "            use_rapids=True,\n",
    "            use_pca=True,\n",
    "        )\n",
    "\n",
    "        # add PCA and UMAP to obs\n",
    "        obsm_df = adata.obsm.to_df()\n",
    "        adata.obs = genetools.helpers.horizontal_concat(\n",
    "            adata.obs,\n",
    "            obsm_df[obsm_df.columns[obsm_df.columns.str.startswith(\"X_umap\")]],\n",
    "        )\n",
    "        adata.obs = genetools.helpers.horizontal_concat(\n",
    "            adata.obs,\n",
    "            obsm_df[[\"X_pca1\", \"X_pca2\"]],\n",
    "        )\n",
    "\n",
    "        all_points = adata.obs\n",
    "\n",
    "        for representation in [\"umap\", \"pca\"]:\n",
    "            # Plot all diseases\n",
    "            fig, ax = plot_background(\n",
    "                all_points=all_points,\n",
    "                representation=representation,\n",
    "                fold_id=fold_id,\n",
    "                fold_label=fold_label,\n",
    "                gene_locus=gene_locus,\n",
    "            )\n",
    "            genetools.plots.savefig(\n",
    "                fig,\n",
    "                config.paths.output_dir\n",
    "                / f\"language_model_embedding.all_diseases.{representation}.fold_{fold_id}_{fold_label}.{gene_locus.name}.png\",\n",
    "                dpi=72,\n",
    "            )\n",
    "            plt.close(fig)\n",
    "\n",
    "            # Compare by batch\n",
    "            for disease in all_points[\"disease\"].unique():\n",
    "                fig, ax = plot_within_disease(\n",
    "                    all_points=all_points,\n",
    "                    disease=disease,\n",
    "                    representation=representation,\n",
    "                    fold_id=fold_id,\n",
    "                    fold_label=fold_label,\n",
    "                    gene_locus=gene_locus,\n",
    "                )\n",
    "                genetools.plots.savefig(\n",
    "                    fig,\n",
    "                    config.paths.high_res_outputs_dir\n",
    "                    / f\"language_model_embedding.by_batch.{slugify(disease)}.{representation}.fold_{fold_id}_{fold_label}.{gene_locus.name}.png\",\n",
    "                    dpi=72,\n",
    "                )\n",
    "                plt.close(fig)\n",
    "\n",
    "                # Plot overall density\n",
    "                fig, ax = plot_within_disease_overall_density(\n",
    "                    all_points=all_points,\n",
    "                    disease=disease,\n",
    "                    representation=representation,\n",
    "                    fold_id=fold_id,\n",
    "                    fold_label=fold_label,\n",
    "                    gene_locus=gene_locus,\n",
    "                )\n",
    "                genetools.plots.savefig(\n",
    "                    fig,\n",
    "                    config.paths.high_res_outputs_dir\n",
    "                    / f\"language_model_embedding.by_batch.{slugify(disease)}.{representation}.overall_density.fold_{fold_id}_{fold_label}.{gene_locus.name}.png\",\n",
    "                    dpi=72,\n",
    "                )\n",
    "                plt.close(fig)\n",
    "\n",
    "                # Plot relative density, if we have two batches only\n",
    "                study_names = all_points[all_points[\"disease\"] == disease][\n",
    "                    \"study_name\"\n",
    "                ].unique()\n",
    "                if len(study_names) == 2:\n",
    "                    fig, ax = plot_within_disease_relative_density(\n",
    "                        all_points=all_points,\n",
    "                        disease=disease,\n",
    "                        representation=representation,\n",
    "                        # which study name to use as numerator in proportion\n",
    "                        positive_class=study_names[1],\n",
    "                        fold_id=fold_id,\n",
    "                        fold_label=fold_label,\n",
    "                        gene_locus=gene_locus,\n",
    "                        minimal_bin_density_quantile=None,\n",
    "                    )\n",
    "                    genetools.plots.savefig(\n",
    "                        fig,\n",
    "                        config.paths.high_res_outputs_dir\n",
    "                        / f\"language_model_embedding.by_batch.{slugify(disease)}.{representation}.relative_density.fold_{fold_id}_{fold_label}.{gene_locus.name}.png\",\n",
    "                        dpi=72,\n",
    "                    )\n",
    "                    plt.close(fig)\n",
    "\n",
    "                    fig, ax = plot_within_disease_relative_density(\n",
    "                        all_points=all_points,\n",
    "                        disease=disease,\n",
    "                        representation=representation,\n",
    "                        # which study name to use as numerator in proportion\n",
    "                        positive_class=study_names[1],\n",
    "                        fold_id=fold_id,\n",
    "                        fold_label=fold_label,\n",
    "                        gene_locus=gene_locus,\n",
    "                        minimal_bin_density_quantile=0.50,\n",
    "                    )\n",
    "                    genetools.plots.savefig(\n",
    "                        fig,\n",
    "                        config.paths.high_res_outputs_dir\n",
    "                        / f\"language_model_embedding.by_batch.{slugify(disease)}.{representation}.relative_density_with_min_density_requirement.fold_{fold_id}_{fold_label}.{gene_locus.name}.png\",\n",
    "                        dpi=72,\n",
    "                    )\n",
    "                    plt.close(fig)\n",
    "\n",
    "        del adata\n",
    "        io.clear_cached_fold_embeddings()\n",
    "        gc.collect()"
   ]
  },
  {
   "cell_type": "code",
   "execution_count": null,
   "metadata": {},
   "outputs": [],
   "source": []
  },
  {
   "cell_type": "code",
   "execution_count": null,
   "metadata": {},
   "outputs": [],
   "source": []
  },
  {
   "cell_type": "code",
   "execution_count": null,
   "metadata": {},
   "outputs": [],
   "source": []
  },
  {
   "cell_type": "code",
   "execution_count": null,
   "metadata": {},
   "outputs": [],
   "source": []
  },
  {
   "cell_type": "code",
   "execution_count": null,
   "metadata": {},
   "outputs": [],
   "source": []
  },
  {
   "cell_type": "code",
   "execution_count": null,
   "metadata": {},
   "outputs": [],
   "source": []
  },
  {
   "cell_type": "code",
   "execution_count": null,
   "metadata": {},
   "outputs": [],
   "source": []
  }
 ],
 "metadata": {
  "jupytext": {
   "cell_metadata_filter": "-all"
  },
  "kernelspec": {
   "display_name": "py39-cuda-env",
   "language": "python",
   "name": "py39-cuda-env"
  },
  "language_info": {
   "codemirror_mode": {
    "name": "ipython",
    "version": 3
   },
   "file_extension": ".py",
   "mimetype": "text/x-python",
   "name": "python",
   "nbconvert_exporter": "python",
   "pygments_lexer": "ipython3",
   "version": "3.9.13"
  }
 },
 "nbformat": 4,
 "nbformat_minor": 4
}
