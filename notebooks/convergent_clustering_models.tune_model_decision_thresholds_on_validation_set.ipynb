{
 "cells": [
  {
   "cell_type": "markdown",
   "id": "4a2da011",
   "metadata": {},
   "source": [
    "# Tune \"train-smaller\" convergent-clustering model decision thresholds on validation set, and report performance (with and without tuning) on test set\n",
    "\n",
    "This is run using train-smaller+validation+test, not train+test sets.\n",
    "\n",
    "Use trained model APIs to do this."
   ]
  },
  {
   "cell_type": "code",
   "execution_count": 1,
   "id": "241bb9e7",
   "metadata": {
    "execution": {
     "iopub.execute_input": "2023-11-04T03:21:32.436507Z",
     "iopub.status.busy": "2023-11-04T03:21:32.436195Z",
     "iopub.status.idle": "2023-11-04T03:21:39.192903Z",
     "shell.execute_reply": "2023-11-04T03:21:39.191971Z"
    }
   },
   "outputs": [],
   "source": [
    "from malid import config\n",
    "from malid.train.training_utils import (\n",
    "    evaluate_original_and_tuned_on_test_set,\n",
    "    tune_on_validation_set,\n",
    ")\n",
    "from malid.trained_model_wrappers import ConvergentClusterClassifier"
   ]
  },
  {
   "cell_type": "code",
   "execution_count": null,
   "id": "f4cb96b6",
   "metadata": {
    "lines_to_next_cell": 2
   },
   "outputs": [],
   "source": []
  },
  {
   "cell_type": "code",
   "execution_count": null,
   "id": "0676c9c9",
   "metadata": {},
   "outputs": [],
   "source": []
  },
  {
   "cell_type": "code",
   "execution_count": 2,
   "id": "b6741940-6029-4984-964d-9f2996bb9538",
   "metadata": {
    "execution": {
     "iopub.execute_input": "2023-11-04T03:21:39.196797Z",
     "iopub.status.busy": "2023-11-04T03:21:39.196143Z",
     "iopub.status.idle": "2023-11-04T14:33:47.963767Z",
     "shell.execute_reply": "2023-11-04T14:33:47.962661Z"
    },
    "lines_to_next_cell": 2
   },
   "outputs": [
    {
     "name": "stdout",
     "output_type": "stream",
     "text": [
      "GeneLocus.BCR\n"
     ]
    },
    {
     "name": "stderr",
     "output_type": "stream",
     "text": [
      "{\"message\": \"/home/maxim/code/immune-repertoire-classification/malid/trained_model_wrappers/convergent_cluster_classifier.py:571: FutureWarning: Not prepending group keys to the result index of transform-like apply. In the future, the group keys will be included in the index, regardless of whether the applied function returns a like-indexed object.\\nTo preserve the previous behavior, use\\n\\n\\t>>> .groupby(..., group_keys=False)\\n\\nTo adopt the future behavior and silence this warning, use \\n\\n\\t>>> .groupby(..., group_keys=True)\\n  test_groups[\\\"cdr3_seq_aa_q_trim\\\"]\\n\", \"time\": \"2023-11-04T03:22:39.806120\"}\n"
     ]
    },
    {
     "name": "stderr",
     "output_type": "stream",
     "text": [
      "{\"message\": \"/home/maxim/code/immune-repertoire-classification/malid/trained_model_wrappers/convergent_cluster_classifier.py:571: FutureWarning: Not prepending group keys to the result index of transform-like apply. In the future, the group keys will be included in the index, regardless of whether the applied function returns a like-indexed object.\\nTo preserve the previous behavior, use\\n\\n\\t>>> .groupby(..., group_keys=False)\\n\\nTo adopt the future behavior and silence this warning, use \\n\\n\\t>>> .groupby(..., group_keys=True)\\n  test_groups[\\\"cdr3_seq_aa_q_trim\\\"]\\n\", \"time\": \"2023-11-04T03:23:32.351652\"}\n"
     ]
    },
    {
     "name": "stderr",
     "output_type": "stream",
     "text": [
      "{\"message\": \"/home/maxim/code/immune-repertoire-classification/malid/trained_model_wrappers/convergent_cluster_classifier.py:571: FutureWarning: Not prepending group keys to the result index of transform-like apply. In the future, the group keys will be included in the index, regardless of whether the applied function returns a like-indexed object.\\nTo preserve the previous behavior, use\\n\\n\\t>>> .groupby(..., group_keys=False)\\n\\nTo adopt the future behavior and silence this warning, use \\n\\n\\t>>> .groupby(..., group_keys=True)\\n  test_groups[\\\"cdr3_seq_aa_q_trim\\\"]\\n\", \"time\": \"2023-11-04T03:24:23.858953\"}\n"
     ]
    },
    {
     "name": "stderr",
     "output_type": "stream",
     "text": [
      "{\"message\": \"/home/maxim/code/immune-repertoire-classification/malid/trained_model_wrappers/convergent_cluster_classifier.py:571: FutureWarning: Not prepending group keys to the result index of transform-like apply. In the future, the group keys will be included in the index, regardless of whether the applied function returns a like-indexed object.\\nTo preserve the previous behavior, use\\n\\n\\t>>> .groupby(..., group_keys=False)\\n\\nTo adopt the future behavior and silence this warning, use \\n\\n\\t>>> .groupby(..., group_keys=True)\\n  test_groups[\\\"cdr3_seq_aa_q_trim\\\"]\\n\", \"time\": \"2023-11-04T03:25:15.678027\"}\n"
     ]
    },
    {
     "name": "stderr",
     "output_type": "stream",
     "text": [
      "{\"message\": \"/home/maxim/code/immune-repertoire-classification/malid/trained_model_wrappers/convergent_cluster_classifier.py:571: FutureWarning: Not prepending group keys to the result index of transform-like apply. In the future, the group keys will be included in the index, regardless of whether the applied function returns a like-indexed object.\\nTo preserve the previous behavior, use\\n\\n\\t>>> .groupby(..., group_keys=False)\\n\\nTo adopt the future behavior and silence this warning, use \\n\\n\\t>>> .groupby(..., group_keys=True)\\n  test_groups[\\\"cdr3_seq_aa_q_trim\\\"]\\n\", \"time\": \"2023-11-04T03:26:07.500053\"}\n"
     ]
    },
    {
     "name": "stderr",
     "output_type": "stream",
     "text": [
      "{\"message\": \"/home/maxim/code/immune-repertoire-classification/malid/trained_model_wrappers/convergent_cluster_classifier.py:571: FutureWarning: Not prepending group keys to the result index of transform-like apply. In the future, the group keys will be included in the index, regardless of whether the applied function returns a like-indexed object.\\nTo preserve the previous behavior, use\\n\\n\\t>>> .groupby(..., group_keys=False)\\n\\nTo adopt the future behavior and silence this warning, use \\n\\n\\t>>> .groupby(..., group_keys=True)\\n  test_groups[\\\"cdr3_seq_aa_q_trim\\\"]\\n\", \"time\": \"2023-11-04T03:26:59.587830\"}\n"
     ]
    },
    {
     "name": "stderr",
     "output_type": "stream",
     "text": [
      "{\"message\": \"/home/maxim/code/immune-repertoire-classification/malid/trained_model_wrappers/convergent_cluster_classifier.py:571: FutureWarning: Not prepending group keys to the result index of transform-like apply. In the future, the group keys will be included in the index, regardless of whether the applied function returns a like-indexed object.\\nTo preserve the previous behavior, use\\n\\n\\t>>> .groupby(..., group_keys=False)\\n\\nTo adopt the future behavior and silence this warning, use \\n\\n\\t>>> .groupby(..., group_keys=True)\\n  test_groups[\\\"cdr3_seq_aa_q_trim\\\"]\\n\", \"time\": \"2023-11-04T03:27:51.713748\"}\n"
     ]
    },
    {
     "name": "stderr",
     "output_type": "stream",
     "text": [
      "{\"message\": \"/home/maxim/code/immune-repertoire-classification/malid/trained_model_wrappers/convergent_cluster_classifier.py:571: FutureWarning: Not prepending group keys to the result index of transform-like apply. In the future, the group keys will be included in the index, regardless of whether the applied function returns a like-indexed object.\\nTo preserve the previous behavior, use\\n\\n\\t>>> .groupby(..., group_keys=False)\\n\\nTo adopt the future behavior and silence this warning, use \\n\\n\\t>>> .groupby(..., group_keys=True)\\n  test_groups[\\\"cdr3_seq_aa_q_trim\\\"]\\n\", \"time\": \"2023-11-04T03:28:45.527570\"}\n"
     ]
    },
    {
     "name": "stderr",
     "output_type": "stream",
     "text": [
      "{\"message\": \"/home/maxim/code/immune-repertoire-classification/malid/trained_model_wrappers/convergent_cluster_classifier.py:571: FutureWarning: Not prepending group keys to the result index of transform-like apply. In the future, the group keys will be included in the index, regardless of whether the applied function returns a like-indexed object.\\nTo preserve the previous behavior, use\\n\\n\\t>>> .groupby(..., group_keys=False)\\n\\nTo adopt the future behavior and silence this warning, use \\n\\n\\t>>> .groupby(..., group_keys=True)\\n  test_groups[\\\"cdr3_seq_aa_q_trim\\\"]\\n\", \"time\": \"2023-11-04T03:29:38.439169\"}\n"
     ]
    },
    {
     "name": "stderr",
     "output_type": "stream",
     "text": [
      "{\"message\": \"/home/maxim/code/immune-repertoire-classification/malid/trained_model_wrappers/convergent_cluster_classifier.py:571: FutureWarning: Not prepending group keys to the result index of transform-like apply. In the future, the group keys will be included in the index, regardless of whether the applied function returns a like-indexed object.\\nTo preserve the previous behavior, use\\n\\n\\t>>> .groupby(..., group_keys=False)\\n\\nTo adopt the future behavior and silence this warning, use \\n\\n\\t>>> .groupby(..., group_keys=True)\\n  test_groups[\\\"cdr3_seq_aa_q_trim\\\"]\\n\", \"time\": \"2023-11-04T03:30:31.121937\"}\n"
     ]
    },
    {
     "name": "stderr",
     "output_type": "stream",
     "text": [
      "{\"message\": \"/home/maxim/code/immune-repertoire-classification/malid/trained_model_wrappers/convergent_cluster_classifier.py:571: FutureWarning: Not prepending group keys to the result index of transform-like apply. In the future, the group keys will be included in the index, regardless of whether the applied function returns a like-indexed object.\\nTo preserve the previous behavior, use\\n\\n\\t>>> .groupby(..., group_keys=False)\\n\\nTo adopt the future behavior and silence this warning, use \\n\\n\\t>>> .groupby(..., group_keys=True)\\n  test_groups[\\\"cdr3_seq_aa_q_trim\\\"]\\n\", \"time\": \"2023-11-04T03:31:25.641750\"}\n"
     ]
    },
    {
     "name": "stderr",
     "output_type": "stream",
     "text": [
      "{\"message\": \"/home/maxim/code/immune-repertoire-classification/malid/trained_model_wrappers/convergent_cluster_classifier.py:571: FutureWarning: Not prepending group keys to the result index of transform-like apply. In the future, the group keys will be included in the index, regardless of whether the applied function returns a like-indexed object.\\nTo preserve the previous behavior, use\\n\\n\\t>>> .groupby(..., group_keys=False)\\n\\nTo adopt the future behavior and silence this warning, use \\n\\n\\t>>> .groupby(..., group_keys=True)\\n  test_groups[\\\"cdr3_seq_aa_q_trim\\\"]\\n\", \"time\": \"2023-11-04T03:32:18.696320\"}\n"
     ]
    },
    {
     "name": "stderr",
     "output_type": "stream",
     "text": [
      "{\"message\": \"/home/maxim/code/immune-repertoire-classification/malid/trained_model_wrappers/convergent_cluster_classifier.py:571: FutureWarning: Not prepending group keys to the result index of transform-like apply. In the future, the group keys will be included in the index, regardless of whether the applied function returns a like-indexed object.\\nTo preserve the previous behavior, use\\n\\n\\t>>> .groupby(..., group_keys=False)\\n\\nTo adopt the future behavior and silence this warning, use \\n\\n\\t>>> .groupby(..., group_keys=True)\\n  test_groups[\\\"cdr3_seq_aa_q_trim\\\"]\\n\", \"time\": \"2023-11-04T03:33:11.794905\"}\n"
     ]
    },
    {
     "name": "stderr",
     "output_type": "stream",
     "text": [
      "{\"message\": \"/home/maxim/code/immune-repertoire-classification/malid/trained_model_wrappers/convergent_cluster_classifier.py:571: FutureWarning: Not prepending group keys to the result index of transform-like apply. In the future, the group keys will be included in the index, regardless of whether the applied function returns a like-indexed object.\\nTo preserve the previous behavior, use\\n\\n\\t>>> .groupby(..., group_keys=False)\\n\\nTo adopt the future behavior and silence this warning, use \\n\\n\\t>>> .groupby(..., group_keys=True)\\n  test_groups[\\\"cdr3_seq_aa_q_trim\\\"]\\n\", \"time\": \"2023-11-04T03:34:06.040022\"}\n"
     ]
    },
    {
     "name": "stderr",
     "output_type": "stream",
     "text": [
      "{\"message\": \"/home/maxim/code/immune-repertoire-classification/malid/trained_model_wrappers/convergent_cluster_classifier.py:571: FutureWarning: Not prepending group keys to the result index of transform-like apply. In the future, the group keys will be included in the index, regardless of whether the applied function returns a like-indexed object.\\nTo preserve the previous behavior, use\\n\\n\\t>>> .groupby(..., group_keys=False)\\n\\nTo adopt the future behavior and silence this warning, use \\n\\n\\t>>> .groupby(..., group_keys=True)\\n  test_groups[\\\"cdr3_seq_aa_q_trim\\\"]\\n\", \"time\": \"2023-11-04T03:34:58.102113\"}\n"
     ]
    },
    {
     "name": "stderr",
     "output_type": "stream",
     "text": [
      "{\"message\": \"/home/maxim/code/immune-repertoire-classification/malid/trained_model_wrappers/convergent_cluster_classifier.py:571: FutureWarning: Not prepending group keys to the result index of transform-like apply. In the future, the group keys will be included in the index, regardless of whether the applied function returns a like-indexed object.\\nTo preserve the previous behavior, use\\n\\n\\t>>> .groupby(..., group_keys=False)\\n\\nTo adopt the future behavior and silence this warning, use \\n\\n\\t>>> .groupby(..., group_keys=True)\\n  test_groups[\\\"cdr3_seq_aa_q_trim\\\"]\\n\", \"time\": \"2023-11-04T03:35:50.594354\"}\n"
     ]
    },
    {
     "name": "stderr",
     "output_type": "stream",
     "text": [
      "{\"message\": \"/home/maxim/code/immune-repertoire-classification/malid/trained_model_wrappers/convergent_cluster_classifier.py:571: FutureWarning: Not prepending group keys to the result index of transform-like apply. In the future, the group keys will be included in the index, regardless of whether the applied function returns a like-indexed object.\\nTo preserve the previous behavior, use\\n\\n\\t>>> .groupby(..., group_keys=False)\\n\\nTo adopt the future behavior and silence this warning, use \\n\\n\\t>>> .groupby(..., group_keys=True)\\n  test_groups[\\\"cdr3_seq_aa_q_trim\\\"]\\n\", \"time\": \"2023-11-04T03:36:43.889206\"}\n"
     ]
    },
    {
     "name": "stderr",
     "output_type": "stream",
     "text": [
      "{\"message\": \"/home/maxim/code/immune-repertoire-classification/malid/trained_model_wrappers/convergent_cluster_classifier.py:571: FutureWarning: Not prepending group keys to the result index of transform-like apply. In the future, the group keys will be included in the index, regardless of whether the applied function returns a like-indexed object.\\nTo preserve the previous behavior, use\\n\\n\\t>>> .groupby(..., group_keys=False)\\n\\nTo adopt the future behavior and silence this warning, use \\n\\n\\t>>> .groupby(..., group_keys=True)\\n  test_groups[\\\"cdr3_seq_aa_q_trim\\\"]\\n\", \"time\": \"2023-11-04T03:37:36.757477\"}\n"
     ]
    },
    {
     "name": "stderr",
     "output_type": "stream",
     "text": [
      "{\"message\": \"/home/maxim/code/immune-repertoire-classification/malid/trained_model_wrappers/convergent_cluster_classifier.py:571: FutureWarning: Not prepending group keys to the result index of transform-like apply. In the future, the group keys will be included in the index, regardless of whether the applied function returns a like-indexed object.\\nTo preserve the previous behavior, use\\n\\n\\t>>> .groupby(..., group_keys=False)\\n\\nTo adopt the future behavior and silence this warning, use \\n\\n\\t>>> .groupby(..., group_keys=True)\\n  test_groups[\\\"cdr3_seq_aa_q_trim\\\"]\\n\", \"time\": \"2023-11-04T03:38:28.664193\"}\n"
     ]
    },
    {
     "name": "stderr",
     "output_type": "stream",
     "text": [
      "{\"message\": \"/home/maxim/code/immune-repertoire-classification/malid/trained_model_wrappers/convergent_cluster_classifier.py:571: FutureWarning: Not prepending group keys to the result index of transform-like apply. In the future, the group keys will be included in the index, regardless of whether the applied function returns a like-indexed object.\\nTo preserve the previous behavior, use\\n\\n\\t>>> .groupby(..., group_keys=False)\\n\\nTo adopt the future behavior and silence this warning, use \\n\\n\\t>>> .groupby(..., group_keys=True)\\n  test_groups[\\\"cdr3_seq_aa_q_trim\\\"]\\n\", \"time\": \"2023-11-04T03:39:24.113514\"}\n"
     ]
    },
    {
     "name": "stderr",
     "output_type": "stream",
     "text": [
      "{\"message\": \"/home/maxim/code/immune-repertoire-classification/malid/trained_model_wrappers/convergent_cluster_classifier.py:571: FutureWarning: Not prepending group keys to the result index of transform-like apply. In the future, the group keys will be included in the index, regardless of whether the applied function returns a like-indexed object.\\nTo preserve the previous behavior, use\\n\\n\\t>>> .groupby(..., group_keys=False)\\n\\nTo adopt the future behavior and silence this warning, use \\n\\n\\t>>> .groupby(..., group_keys=True)\\n  test_groups[\\\"cdr3_seq_aa_q_trim\\\"]\\n\", \"time\": \"2023-11-04T03:40:16.784478\"}\n"
     ]
    },
    {
     "name": "stderr",
     "output_type": "stream",
     "text": [
      "{\"message\": \"/home/maxim/code/immune-repertoire-classification/malid/trained_model_wrappers/convergent_cluster_classifier.py:571: FutureWarning: Not prepending group keys to the result index of transform-like apply. In the future, the group keys will be included in the index, regardless of whether the applied function returns a like-indexed object.\\nTo preserve the previous behavior, use\\n\\n\\t>>> .groupby(..., group_keys=False)\\n\\nTo adopt the future behavior and silence this warning, use \\n\\n\\t>>> .groupby(..., group_keys=True)\\n  test_groups[\\\"cdr3_seq_aa_q_trim\\\"]\\n\", \"time\": \"2023-11-04T03:41:09.920336\"}\n"
     ]
    },
    {
     "name": "stderr",
     "output_type": "stream",
     "text": [
      "{\"message\": \"/home/maxim/code/immune-repertoire-classification/malid/trained_model_wrappers/convergent_cluster_classifier.py:571: FutureWarning: Not prepending group keys to the result index of transform-like apply. In the future, the group keys will be included in the index, regardless of whether the applied function returns a like-indexed object.\\nTo preserve the previous behavior, use\\n\\n\\t>>> .groupby(..., group_keys=False)\\n\\nTo adopt the future behavior and silence this warning, use \\n\\n\\t>>> .groupby(..., group_keys=True)\\n  test_groups[\\\"cdr3_seq_aa_q_trim\\\"]\\n\", \"time\": \"2023-11-04T03:42:03.310005\"}\n"
     ]
    },
    {
     "name": "stderr",
     "output_type": "stream",
     "text": [
      "{\"message\": \"/home/maxim/code/immune-repertoire-classification/malid/trained_model_wrappers/convergent_cluster_classifier.py:571: FutureWarning: Not prepending group keys to the result index of transform-like apply. In the future, the group keys will be included in the index, regardless of whether the applied function returns a like-indexed object.\\nTo preserve the previous behavior, use\\n\\n\\t>>> .groupby(..., group_keys=False)\\n\\nTo adopt the future behavior and silence this warning, use \\n\\n\\t>>> .groupby(..., group_keys=True)\\n  test_groups[\\\"cdr3_seq_aa_q_trim\\\"]\\n\", \"time\": \"2023-11-04T03:42:56.240735\"}\n"
     ]
    },
    {
     "name": "stderr",
     "output_type": "stream",
     "text": [
      "{\"message\": \"/home/maxim/code/immune-repertoire-classification/malid/trained_model_wrappers/convergent_cluster_classifier.py:571: FutureWarning: Not prepending group keys to the result index of transform-like apply. In the future, the group keys will be included in the index, regardless of whether the applied function returns a like-indexed object.\\nTo preserve the previous behavior, use\\n\\n\\t>>> .groupby(..., group_keys=False)\\n\\nTo adopt the future behavior and silence this warning, use \\n\\n\\t>>> .groupby(..., group_keys=True)\\n  test_groups[\\\"cdr3_seq_aa_q_trim\\\"]\\n\", \"time\": \"2023-11-04T03:43:48.586265\"}\n"
     ]
    },
    {
     "name": "stderr",
     "output_type": "stream",
     "text": [
      "{\"message\": \"/home/maxim/code/immune-repertoire-classification/malid/trained_model_wrappers/convergent_cluster_classifier.py:571: FutureWarning: Not prepending group keys to the result index of transform-like apply. In the future, the group keys will be included in the index, regardless of whether the applied function returns a like-indexed object.\\nTo preserve the previous behavior, use\\n\\n\\t>>> .groupby(..., group_keys=False)\\n\\nTo adopt the future behavior and silence this warning, use \\n\\n\\t>>> .groupby(..., group_keys=True)\\n  test_groups[\\\"cdr3_seq_aa_q_trim\\\"]\\n\", \"time\": \"2023-11-04T03:44:40.812153\"}\n"
     ]
    },
    {
     "name": "stderr",
     "output_type": "stream",
     "text": [
      "{\"message\": \"/home/maxim/code/immune-repertoire-classification/malid/trained_model_wrappers/convergent_cluster_classifier.py:571: FutureWarning: Not prepending group keys to the result index of transform-like apply. In the future, the group keys will be included in the index, regardless of whether the applied function returns a like-indexed object.\\nTo preserve the previous behavior, use\\n\\n\\t>>> .groupby(..., group_keys=False)\\n\\nTo adopt the future behavior and silence this warning, use \\n\\n\\t>>> .groupby(..., group_keys=True)\\n  test_groups[\\\"cdr3_seq_aa_q_trim\\\"]\\n\", \"time\": \"2023-11-04T03:45:32.508108\"}\n"
     ]
    },
    {
     "name": "stderr",
     "output_type": "stream",
     "text": [
      "{\"message\": \"/home/maxim/code/immune-repertoire-classification/malid/trained_model_wrappers/convergent_cluster_classifier.py:571: FutureWarning: Not prepending group keys to the result index of transform-like apply. In the future, the group keys will be included in the index, regardless of whether the applied function returns a like-indexed object.\\nTo preserve the previous behavior, use\\n\\n\\t>>> .groupby(..., group_keys=False)\\n\\nTo adopt the future behavior and silence this warning, use \\n\\n\\t>>> .groupby(..., group_keys=True)\\n  test_groups[\\\"cdr3_seq_aa_q_trim\\\"]\\n\", \"time\": \"2023-11-04T03:46:25.072985\"}\n"
     ]
    },
    {
     "name": "stderr",
     "output_type": "stream",
     "text": [
      "{\"message\": \"/home/maxim/code/immune-repertoire-classification/malid/trained_model_wrappers/convergent_cluster_classifier.py:571: FutureWarning: Not prepending group keys to the result index of transform-like apply. In the future, the group keys will be included in the index, regardless of whether the applied function returns a like-indexed object.\\nTo preserve the previous behavior, use\\n\\n\\t>>> .groupby(..., group_keys=False)\\n\\nTo adopt the future behavior and silence this warning, use \\n\\n\\t>>> .groupby(..., group_keys=True)\\n  test_groups[\\\"cdr3_seq_aa_q_trim\\\"]\\n\", \"time\": \"2023-11-04T03:47:18.599617\"}\n"
     ]
    },
    {
     "name": "stderr",
     "output_type": "stream",
     "text": [
      "{\"message\": \"/home/maxim/code/immune-repertoire-classification/malid/trained_model_wrappers/convergent_cluster_classifier.py:571: FutureWarning: Not prepending group keys to the result index of transform-like apply. In the future, the group keys will be included in the index, regardless of whether the applied function returns a like-indexed object.\\nTo preserve the previous behavior, use\\n\\n\\t>>> .groupby(..., group_keys=False)\\n\\nTo adopt the future behavior and silence this warning, use \\n\\n\\t>>> .groupby(..., group_keys=True)\\n  test_groups[\\\"cdr3_seq_aa_q_trim\\\"]\\n\", \"time\": \"2023-11-04T03:48:10.588822\"}\n"
     ]
    },
    {
     "name": "stderr",
     "output_type": "stream",
     "text": [
      "{\"message\": \"/home/maxim/code/immune-repertoire-classification/malid/trained_model_wrappers/convergent_cluster_classifier.py:571: FutureWarning: Not prepending group keys to the result index of transform-like apply. In the future, the group keys will be included in the index, regardless of whether the applied function returns a like-indexed object.\\nTo preserve the previous behavior, use\\n\\n\\t>>> .groupby(..., group_keys=False)\\n\\nTo adopt the future behavior and silence this warning, use \\n\\n\\t>>> .groupby(..., group_keys=True)\\n  test_groups[\\\"cdr3_seq_aa_q_trim\\\"]\\n\", \"time\": \"2023-11-04T03:49:04.094935\"}\n"
     ]
    },
    {
     "name": "stderr",
     "output_type": "stream",
     "text": [
      "{\"message\": \"/home/maxim/code/immune-repertoire-classification/malid/trained_model_wrappers/convergent_cluster_classifier.py:571: FutureWarning: Not prepending group keys to the result index of transform-like apply. In the future, the group keys will be included in the index, regardless of whether the applied function returns a like-indexed object.\\nTo preserve the previous behavior, use\\n\\n\\t>>> .groupby(..., group_keys=False)\\n\\nTo adopt the future behavior and silence this warning, use \\n\\n\\t>>> .groupby(..., group_keys=True)\\n  test_groups[\\\"cdr3_seq_aa_q_trim\\\"]\\n\", \"time\": \"2023-11-04T03:49:58.926539\"}\n"
     ]
    },
    {
     "name": "stderr",
     "output_type": "stream",
     "text": [
      "{\"message\": \"/home/maxim/code/immune-repertoire-classification/malid/trained_model_wrappers/convergent_cluster_classifier.py:571: FutureWarning: Not prepending group keys to the result index of transform-like apply. In the future, the group keys will be included in the index, regardless of whether the applied function returns a like-indexed object.\\nTo preserve the previous behavior, use\\n\\n\\t>>> .groupby(..., group_keys=False)\\n\\nTo adopt the future behavior and silence this warning, use \\n\\n\\t>>> .groupby(..., group_keys=True)\\n  test_groups[\\\"cdr3_seq_aa_q_trim\\\"]\\n\", \"time\": \"2023-11-04T03:50:51.471119\"}\n"
     ]
    },
    {
     "name": "stderr",
     "output_type": "stream",
     "text": [
      "{\"message\": \"/home/maxim/code/immune-repertoire-classification/malid/trained_model_wrappers/convergent_cluster_classifier.py:571: FutureWarning: Not prepending group keys to the result index of transform-like apply. In the future, the group keys will be included in the index, regardless of whether the applied function returns a like-indexed object.\\nTo preserve the previous behavior, use\\n\\n\\t>>> .groupby(..., group_keys=False)\\n\\nTo adopt the future behavior and silence this warning, use \\n\\n\\t>>> .groupby(..., group_keys=True)\\n  test_groups[\\\"cdr3_seq_aa_q_trim\\\"]\\n\", \"time\": \"2023-11-04T03:51:44.580787\"}\n"
     ]
    },
    {
     "name": "stderr",
     "output_type": "stream",
     "text": [
      "{\"message\": \"/home/maxim/code/immune-repertoire-classification/malid/trained_model_wrappers/convergent_cluster_classifier.py:571: FutureWarning: Not prepending group keys to the result index of transform-like apply. In the future, the group keys will be included in the index, regardless of whether the applied function returns a like-indexed object.\\nTo preserve the previous behavior, use\\n\\n\\t>>> .groupby(..., group_keys=False)\\n\\nTo adopt the future behavior and silence this warning, use \\n\\n\\t>>> .groupby(..., group_keys=True)\\n  test_groups[\\\"cdr3_seq_aa_q_trim\\\"]\\n\", \"time\": \"2023-11-04T03:52:39.591993\"}\n"
     ]
    },
    {
     "name": "stderr",
     "output_type": "stream",
     "text": [
      "{\"message\": \"/home/maxim/code/immune-repertoire-classification/malid/trained_model_wrappers/convergent_cluster_classifier.py:571: FutureWarning: Not prepending group keys to the result index of transform-like apply. In the future, the group keys will be included in the index, regardless of whether the applied function returns a like-indexed object.\\nTo preserve the previous behavior, use\\n\\n\\t>>> .groupby(..., group_keys=False)\\n\\nTo adopt the future behavior and silence this warning, use \\n\\n\\t>>> .groupby(..., group_keys=True)\\n  test_groups[\\\"cdr3_seq_aa_q_trim\\\"]\\n\", \"time\": \"2023-11-04T03:53:33.965147\"}\n"
     ]
    },
    {
     "name": "stderr",
     "output_type": "stream",
     "text": [
      "{\"message\": \"/home/maxim/code/immune-repertoire-classification/malid/trained_model_wrappers/convergent_cluster_classifier.py:571: FutureWarning: Not prepending group keys to the result index of transform-like apply. In the future, the group keys will be included in the index, regardless of whether the applied function returns a like-indexed object.\\nTo preserve the previous behavior, use\\n\\n\\t>>> .groupby(..., group_keys=False)\\n\\nTo adopt the future behavior and silence this warning, use \\n\\n\\t>>> .groupby(..., group_keys=True)\\n  test_groups[\\\"cdr3_seq_aa_q_trim\\\"]\\n\", \"time\": \"2023-11-04T03:56:04.766298\"}\n"
     ]
    },
    {
     "name": "stderr",
     "output_type": "stream",
     "text": [
      "{\"message\": \"/home/maxim/code/immune-repertoire-classification/malid/trained_model_wrappers/convergent_cluster_classifier.py:571: FutureWarning: Not prepending group keys to the result index of transform-like apply. In the future, the group keys will be included in the index, regardless of whether the applied function returns a like-indexed object.\\nTo preserve the previous behavior, use\\n\\n\\t>>> .groupby(..., group_keys=False)\\n\\nTo adopt the future behavior and silence this warning, use \\n\\n\\t>>> .groupby(..., group_keys=True)\\n  test_groups[\\\"cdr3_seq_aa_q_trim\\\"]\\n\", \"time\": \"2023-11-04T03:56:57.249721\"}\n"
     ]
    },
    {
     "name": "stderr",
     "output_type": "stream",
     "text": [
      "{\"message\": \"/home/maxim/code/immune-repertoire-classification/malid/trained_model_wrappers/convergent_cluster_classifier.py:571: FutureWarning: Not prepending group keys to the result index of transform-like apply. In the future, the group keys will be included in the index, regardless of whether the applied function returns a like-indexed object.\\nTo preserve the previous behavior, use\\n\\n\\t>>> .groupby(..., group_keys=False)\\n\\nTo adopt the future behavior and silence this warning, use \\n\\n\\t>>> .groupby(..., group_keys=True)\\n  test_groups[\\\"cdr3_seq_aa_q_trim\\\"]\\n\", \"time\": \"2023-11-04T03:57:49.883433\"}\n"
     ]
    },
    {
     "name": "stderr",
     "output_type": "stream",
     "text": [
      "{\"message\": \"/home/maxim/code/immune-repertoire-classification/malid/trained_model_wrappers/convergent_cluster_classifier.py:571: FutureWarning: Not prepending group keys to the result index of transform-like apply. In the future, the group keys will be included in the index, regardless of whether the applied function returns a like-indexed object.\\nTo preserve the previous behavior, use\\n\\n\\t>>> .groupby(..., group_keys=False)\\n\\nTo adopt the future behavior and silence this warning, use \\n\\n\\t>>> .groupby(..., group_keys=True)\\n  test_groups[\\\"cdr3_seq_aa_q_trim\\\"]\\n\", \"time\": \"2023-11-04T03:58:41.617917\"}\n"
     ]
    },
    {
     "name": "stderr",
     "output_type": "stream",
     "text": [
      "{\"message\": \"/home/maxim/code/immune-repertoire-classification/malid/trained_model_wrappers/convergent_cluster_classifier.py:571: FutureWarning: Not prepending group keys to the result index of transform-like apply. In the future, the group keys will be included in the index, regardless of whether the applied function returns a like-indexed object.\\nTo preserve the previous behavior, use\\n\\n\\t>>> .groupby(..., group_keys=False)\\n\\nTo adopt the future behavior and silence this warning, use \\n\\n\\t>>> .groupby(..., group_keys=True)\\n  test_groups[\\\"cdr3_seq_aa_q_trim\\\"]\\n\", \"time\": \"2023-11-04T03:59:34.348414\"}\n"
     ]
    },
    {
     "name": "stderr",
     "output_type": "stream",
     "text": [
      "{\"message\": \"/home/maxim/code/immune-repertoire-classification/malid/trained_model_wrappers/convergent_cluster_classifier.py:571: FutureWarning: Not prepending group keys to the result index of transform-like apply. In the future, the group keys will be included in the index, regardless of whether the applied function returns a like-indexed object.\\nTo preserve the previous behavior, use\\n\\n\\t>>> .groupby(..., group_keys=False)\\n\\nTo adopt the future behavior and silence this warning, use \\n\\n\\t>>> .groupby(..., group_keys=True)\\n  test_groups[\\\"cdr3_seq_aa_q_trim\\\"]\\n\", \"time\": \"2023-11-04T04:00:25.974316\"}\n"
     ]
    },
    {
     "name": "stderr",
     "output_type": "stream",
     "text": [
      "{\"message\": \"/home/maxim/code/immune-repertoire-classification/malid/trained_model_wrappers/convergent_cluster_classifier.py:571: FutureWarning: Not prepending group keys to the result index of transform-like apply. In the future, the group keys will be included in the index, regardless of whether the applied function returns a like-indexed object.\\nTo preserve the previous behavior, use\\n\\n\\t>>> .groupby(..., group_keys=False)\\n\\nTo adopt the future behavior and silence this warning, use \\n\\n\\t>>> .groupby(..., group_keys=True)\\n  test_groups[\\\"cdr3_seq_aa_q_trim\\\"]\\n\", \"time\": \"2023-11-04T04:01:18.619503\"}\n"
     ]
    },
    {
     "name": "stderr",
     "output_type": "stream",
     "text": [
      "{\"message\": \"/home/maxim/code/immune-repertoire-classification/malid/trained_model_wrappers/convergent_cluster_classifier.py:571: FutureWarning: Not prepending group keys to the result index of transform-like apply. In the future, the group keys will be included in the index, regardless of whether the applied function returns a like-indexed object.\\nTo preserve the previous behavior, use\\n\\n\\t>>> .groupby(..., group_keys=False)\\n\\nTo adopt the future behavior and silence this warning, use \\n\\n\\t>>> .groupby(..., group_keys=True)\\n  test_groups[\\\"cdr3_seq_aa_q_trim\\\"]\\n\", \"time\": \"2023-11-04T04:02:14.372844\"}\n"
     ]
    },
    {
     "name": "stderr",
     "output_type": "stream",
     "text": [
      "{\"message\": \"/home/maxim/code/immune-repertoire-classification/malid/trained_model_wrappers/convergent_cluster_classifier.py:571: FutureWarning: Not prepending group keys to the result index of transform-like apply. In the future, the group keys will be included in the index, regardless of whether the applied function returns a like-indexed object.\\nTo preserve the previous behavior, use\\n\\n\\t>>> .groupby(..., group_keys=False)\\n\\nTo adopt the future behavior and silence this warning, use \\n\\n\\t>>> .groupby(..., group_keys=True)\\n  test_groups[\\\"cdr3_seq_aa_q_trim\\\"]\\n\", \"time\": \"2023-11-04T04:03:06.348469\"}\n"
     ]
    },
    {
     "name": "stderr",
     "output_type": "stream",
     "text": [
      "{\"message\": \"/home/maxim/code/immune-repertoire-classification/malid/trained_model_wrappers/convergent_cluster_classifier.py:571: FutureWarning: Not prepending group keys to the result index of transform-like apply. In the future, the group keys will be included in the index, regardless of whether the applied function returns a like-indexed object.\\nTo preserve the previous behavior, use\\n\\n\\t>>> .groupby(..., group_keys=False)\\n\\nTo adopt the future behavior and silence this warning, use \\n\\n\\t>>> .groupby(..., group_keys=True)\\n  test_groups[\\\"cdr3_seq_aa_q_trim\\\"]\\n\", \"time\": \"2023-11-04T04:03:58.850208\"}\n"
     ]
    },
    {
     "name": "stderr",
     "output_type": "stream",
     "text": [
      "{\"message\": \"/home/maxim/code/immune-repertoire-classification/malid/trained_model_wrappers/convergent_cluster_classifier.py:571: FutureWarning: Not prepending group keys to the result index of transform-like apply. In the future, the group keys will be included in the index, regardless of whether the applied function returns a like-indexed object.\\nTo preserve the previous behavior, use\\n\\n\\t>>> .groupby(..., group_keys=False)\\n\\nTo adopt the future behavior and silence this warning, use \\n\\n\\t>>> .groupby(..., group_keys=True)\\n  test_groups[\\\"cdr3_seq_aa_q_trim\\\"]\\n\", \"time\": \"2023-11-04T04:04:52.801915\"}\n"
     ]
    },
    {
     "name": "stderr",
     "output_type": "stream",
     "text": [
      "{\"message\": \"/home/maxim/code/immune-repertoire-classification/malid/trained_model_wrappers/convergent_cluster_classifier.py:571: FutureWarning: Not prepending group keys to the result index of transform-like apply. In the future, the group keys will be included in the index, regardless of whether the applied function returns a like-indexed object.\\nTo preserve the previous behavior, use\\n\\n\\t>>> .groupby(..., group_keys=False)\\n\\nTo adopt the future behavior and silence this warning, use \\n\\n\\t>>> .groupby(..., group_keys=True)\\n  test_groups[\\\"cdr3_seq_aa_q_trim\\\"]\\n\", \"time\": \"2023-11-04T04:05:44.658800\"}\n"
     ]
    },
    {
     "name": "stderr",
     "output_type": "stream",
     "text": [
      "{\"message\": \"/home/maxim/code/immune-repertoire-classification/malid/trained_model_wrappers/convergent_cluster_classifier.py:571: FutureWarning: Not prepending group keys to the result index of transform-like apply. In the future, the group keys will be included in the index, regardless of whether the applied function returns a like-indexed object.\\nTo preserve the previous behavior, use\\n\\n\\t>>> .groupby(..., group_keys=False)\\n\\nTo adopt the future behavior and silence this warning, use \\n\\n\\t>>> .groupby(..., group_keys=True)\\n  test_groups[\\\"cdr3_seq_aa_q_trim\\\"]\\n\", \"time\": \"2023-11-04T04:06:36.936663\"}\n"
     ]
    },
    {
     "name": "stderr",
     "output_type": "stream",
     "text": [
      "{\"message\": \"/home/maxim/code/immune-repertoire-classification/malid/trained_model_wrappers/convergent_cluster_classifier.py:571: FutureWarning: Not prepending group keys to the result index of transform-like apply. In the future, the group keys will be included in the index, regardless of whether the applied function returns a like-indexed object.\\nTo preserve the previous behavior, use\\n\\n\\t>>> .groupby(..., group_keys=False)\\n\\nTo adopt the future behavior and silence this warning, use \\n\\n\\t>>> .groupby(..., group_keys=True)\\n  test_groups[\\\"cdr3_seq_aa_q_trim\\\"]\\n\", \"time\": \"2023-11-04T04:07:31.524095\"}\n"
     ]
    },
    {
     "name": "stderr",
     "output_type": "stream",
     "text": [
      "{\"message\": \"/home/maxim/code/immune-repertoire-classification/malid/trained_model_wrappers/convergent_cluster_classifier.py:571: FutureWarning: Not prepending group keys to the result index of transform-like apply. In the future, the group keys will be included in the index, regardless of whether the applied function returns a like-indexed object.\\nTo preserve the previous behavior, use\\n\\n\\t>>> .groupby(..., group_keys=False)\\n\\nTo adopt the future behavior and silence this warning, use \\n\\n\\t>>> .groupby(..., group_keys=True)\\n  test_groups[\\\"cdr3_seq_aa_q_trim\\\"]\\n\", \"time\": \"2023-11-04T04:08:23.699518\"}\n"
     ]
    },
    {
     "name": "stderr",
     "output_type": "stream",
     "text": [
      "{\"message\": \"/home/maxim/code/immune-repertoire-classification/malid/trained_model_wrappers/convergent_cluster_classifier.py:571: FutureWarning: Not prepending group keys to the result index of transform-like apply. In the future, the group keys will be included in the index, regardless of whether the applied function returns a like-indexed object.\\nTo preserve the previous behavior, use\\n\\n\\t>>> .groupby(..., group_keys=False)\\n\\nTo adopt the future behavior and silence this warning, use \\n\\n\\t>>> .groupby(..., group_keys=True)\\n  test_groups[\\\"cdr3_seq_aa_q_trim\\\"]\\n\", \"time\": \"2023-11-04T04:09:19.031670\"}\n"
     ]
    },
    {
     "name": "stderr",
     "output_type": "stream",
     "text": [
      "{\"message\": \"/home/maxim/code/immune-repertoire-classification/malid/trained_model_wrappers/convergent_cluster_classifier.py:571: FutureWarning: Not prepending group keys to the result index of transform-like apply. In the future, the group keys will be included in the index, regardless of whether the applied function returns a like-indexed object.\\nTo preserve the previous behavior, use\\n\\n\\t>>> .groupby(..., group_keys=False)\\n\\nTo adopt the future behavior and silence this warning, use \\n\\n\\t>>> .groupby(..., group_keys=True)\\n  test_groups[\\\"cdr3_seq_aa_q_trim\\\"]\\n\", \"time\": \"2023-11-04T04:10:21.432134\"}\n"
     ]
    },
    {
     "name": "stderr",
     "output_type": "stream",
     "text": [
      "{\"message\": \"/home/maxim/code/immune-repertoire-classification/malid/trained_model_wrappers/convergent_cluster_classifier.py:571: FutureWarning: Not prepending group keys to the result index of transform-like apply. In the future, the group keys will be included in the index, regardless of whether the applied function returns a like-indexed object.\\nTo preserve the previous behavior, use\\n\\n\\t>>> .groupby(..., group_keys=False)\\n\\nTo adopt the future behavior and silence this warning, use \\n\\n\\t>>> .groupby(..., group_keys=True)\\n  test_groups[\\\"cdr3_seq_aa_q_trim\\\"]\\n\", \"time\": \"2023-11-04T04:11:18.868528\"}\n"
     ]
    },
    {
     "name": "stderr",
     "output_type": "stream",
     "text": [
      "{\"message\": \"/home/maxim/code/immune-repertoire-classification/malid/trained_model_wrappers/convergent_cluster_classifier.py:571: FutureWarning: Not prepending group keys to the result index of transform-like apply. In the future, the group keys will be included in the index, regardless of whether the applied function returns a like-indexed object.\\nTo preserve the previous behavior, use\\n\\n\\t>>> .groupby(..., group_keys=False)\\n\\nTo adopt the future behavior and silence this warning, use \\n\\n\\t>>> .groupby(..., group_keys=True)\\n  test_groups[\\\"cdr3_seq_aa_q_trim\\\"]\\n\", \"time\": \"2023-11-04T04:12:23.285837\"}\n"
     ]
    },
    {
     "name": "stderr",
     "output_type": "stream",
     "text": [
      "{\"message\": \"/home/maxim/code/immune-repertoire-classification/malid/trained_model_wrappers/convergent_cluster_classifier.py:571: FutureWarning: Not prepending group keys to the result index of transform-like apply. In the future, the group keys will be included in the index, regardless of whether the applied function returns a like-indexed object.\\nTo preserve the previous behavior, use\\n\\n\\t>>> .groupby(..., group_keys=False)\\n\\nTo adopt the future behavior and silence this warning, use \\n\\n\\t>>> .groupby(..., group_keys=True)\\n  test_groups[\\\"cdr3_seq_aa_q_trim\\\"]\\n\", \"time\": \"2023-11-04T04:13:24.270400\"}\n"
     ]
    },
    {
     "name": "stderr",
     "output_type": "stream",
     "text": [
      "{\"message\": \"/home/maxim/code/immune-repertoire-classification/malid/trained_model_wrappers/convergent_cluster_classifier.py:571: FutureWarning: Not prepending group keys to the result index of transform-like apply. In the future, the group keys will be included in the index, regardless of whether the applied function returns a like-indexed object.\\nTo preserve the previous behavior, use\\n\\n\\t>>> .groupby(..., group_keys=False)\\n\\nTo adopt the future behavior and silence this warning, use \\n\\n\\t>>> .groupby(..., group_keys=True)\\n  test_groups[\\\"cdr3_seq_aa_q_trim\\\"]\\n\", \"time\": \"2023-11-04T04:14:18.957596\"}\n"
     ]
    },
    {
     "name": "stderr",
     "output_type": "stream",
     "text": [
      "{\"message\": \"/home/maxim/code/immune-repertoire-classification/malid/trained_model_wrappers/convergent_cluster_classifier.py:571: FutureWarning: Not prepending group keys to the result index of transform-like apply. In the future, the group keys will be included in the index, regardless of whether the applied function returns a like-indexed object.\\nTo preserve the previous behavior, use\\n\\n\\t>>> .groupby(..., group_keys=False)\\n\\nTo adopt the future behavior and silence this warning, use \\n\\n\\t>>> .groupby(..., group_keys=True)\\n  test_groups[\\\"cdr3_seq_aa_q_trim\\\"]\\n\", \"time\": \"2023-11-04T04:15:14.093066\"}\n"
     ]
    },
    {
     "name": "stderr",
     "output_type": "stream",
     "text": [
      "{\"message\": \"/home/maxim/code/immune-repertoire-classification/malid/trained_model_wrappers/convergent_cluster_classifier.py:571: FutureWarning: Not prepending group keys to the result index of transform-like apply. In the future, the group keys will be included in the index, regardless of whether the applied function returns a like-indexed object.\\nTo preserve the previous behavior, use\\n\\n\\t>>> .groupby(..., group_keys=False)\\n\\nTo adopt the future behavior and silence this warning, use \\n\\n\\t>>> .groupby(..., group_keys=True)\\n  test_groups[\\\"cdr3_seq_aa_q_trim\\\"]\\n\", \"time\": \"2023-11-04T04:16:12.905806\"}\n"
     ]
    },
    {
     "name": "stderr",
     "output_type": "stream",
     "text": [
      "{\"message\": \"/home/maxim/code/immune-repertoire-classification/malid/trained_model_wrappers/convergent_cluster_classifier.py:571: FutureWarning: Not prepending group keys to the result index of transform-like apply. In the future, the group keys will be included in the index, regardless of whether the applied function returns a like-indexed object.\\nTo preserve the previous behavior, use\\n\\n\\t>>> .groupby(..., group_keys=False)\\n\\nTo adopt the future behavior and silence this warning, use \\n\\n\\t>>> .groupby(..., group_keys=True)\\n  test_groups[\\\"cdr3_seq_aa_q_trim\\\"]\\n\", \"time\": \"2023-11-04T04:17:13.254016\"}\n"
     ]
    },
    {
     "name": "stderr",
     "output_type": "stream",
     "text": [
      "{\"message\": \"/home/maxim/code/immune-repertoire-classification/malid/trained_model_wrappers/convergent_cluster_classifier.py:571: FutureWarning: Not prepending group keys to the result index of transform-like apply. In the future, the group keys will be included in the index, regardless of whether the applied function returns a like-indexed object.\\nTo preserve the previous behavior, use\\n\\n\\t>>> .groupby(..., group_keys=False)\\n\\nTo adopt the future behavior and silence this warning, use \\n\\n\\t>>> .groupby(..., group_keys=True)\\n  test_groups[\\\"cdr3_seq_aa_q_trim\\\"]\\n\", \"time\": \"2023-11-04T04:18:16.157135\"}\n"
     ]
    },
    {
     "name": "stderr",
     "output_type": "stream",
     "text": [
      "{\"message\": \"/home/maxim/code/immune-repertoire-classification/malid/trained_model_wrappers/convergent_cluster_classifier.py:571: FutureWarning: Not prepending group keys to the result index of transform-like apply. In the future, the group keys will be included in the index, regardless of whether the applied function returns a like-indexed object.\\nTo preserve the previous behavior, use\\n\\n\\t>>> .groupby(..., group_keys=False)\\n\\nTo adopt the future behavior and silence this warning, use \\n\\n\\t>>> .groupby(..., group_keys=True)\\n  test_groups[\\\"cdr3_seq_aa_q_trim\\\"]\\n\", \"time\": \"2023-11-04T04:19:21.830385\"}\n"
     ]
    },
    {
     "name": "stderr",
     "output_type": "stream",
     "text": [
      "{\"message\": \"/home/maxim/code/immune-repertoire-classification/malid/trained_model_wrappers/convergent_cluster_classifier.py:571: FutureWarning: Not prepending group keys to the result index of transform-like apply. In the future, the group keys will be included in the index, regardless of whether the applied function returns a like-indexed object.\\nTo preserve the previous behavior, use\\n\\n\\t>>> .groupby(..., group_keys=False)\\n\\nTo adopt the future behavior and silence this warning, use \\n\\n\\t>>> .groupby(..., group_keys=True)\\n  test_groups[\\\"cdr3_seq_aa_q_trim\\\"]\\n\", \"time\": \"2023-11-04T04:20:24.221395\"}\n"
     ]
    },
    {
     "name": "stderr",
     "output_type": "stream",
     "text": [
      "{\"message\": \"/home/maxim/code/immune-repertoire-classification/malid/trained_model_wrappers/convergent_cluster_classifier.py:571: FutureWarning: Not prepending group keys to the result index of transform-like apply. In the future, the group keys will be included in the index, regardless of whether the applied function returns a like-indexed object.\\nTo preserve the previous behavior, use\\n\\n\\t>>> .groupby(..., group_keys=False)\\n\\nTo adopt the future behavior and silence this warning, use \\n\\n\\t>>> .groupby(..., group_keys=True)\\n  test_groups[\\\"cdr3_seq_aa_q_trim\\\"]\\n\", \"time\": \"2023-11-04T04:21:30.989885\"}\n"
     ]
    },
    {
     "name": "stderr",
     "output_type": "stream",
     "text": [
      "{\"message\": \"/home/maxim/code/immune-repertoire-classification/malid/trained_model_wrappers/convergent_cluster_classifier.py:571: FutureWarning: Not prepending group keys to the result index of transform-like apply. In the future, the group keys will be included in the index, regardless of whether the applied function returns a like-indexed object.\\nTo preserve the previous behavior, use\\n\\n\\t>>> .groupby(..., group_keys=False)\\n\\nTo adopt the future behavior and silence this warning, use \\n\\n\\t>>> .groupby(..., group_keys=True)\\n  test_groups[\\\"cdr3_seq_aa_q_trim\\\"]\\n\", \"time\": \"2023-11-04T04:22:37.592855\"}\n"
     ]
    },
    {
     "name": "stderr",
     "output_type": "stream",
     "text": [
      "{\"message\": \"/home/maxim/code/immune-repertoire-classification/malid/trained_model_wrappers/convergent_cluster_classifier.py:571: FutureWarning: Not prepending group keys to the result index of transform-like apply. In the future, the group keys will be included in the index, regardless of whether the applied function returns a like-indexed object.\\nTo preserve the previous behavior, use\\n\\n\\t>>> .groupby(..., group_keys=False)\\n\\nTo adopt the future behavior and silence this warning, use \\n\\n\\t>>> .groupby(..., group_keys=True)\\n  test_groups[\\\"cdr3_seq_aa_q_trim\\\"]\\n\", \"time\": \"2023-11-04T04:23:43.718399\"}\n"
     ]
    },
    {
     "name": "stderr",
     "output_type": "stream",
     "text": [
      "{\"message\": \"/home/maxim/code/immune-repertoire-classification/malid/trained_model_wrappers/convergent_cluster_classifier.py:571: FutureWarning: Not prepending group keys to the result index of transform-like apply. In the future, the group keys will be included in the index, regardless of whether the applied function returns a like-indexed object.\\nTo preserve the previous behavior, use\\n\\n\\t>>> .groupby(..., group_keys=False)\\n\\nTo adopt the future behavior and silence this warning, use \\n\\n\\t>>> .groupby(..., group_keys=True)\\n  test_groups[\\\"cdr3_seq_aa_q_trim\\\"]\\n\", \"time\": \"2023-11-04T04:24:49.723539\"}\n"
     ]
    },
    {
     "name": "stderr",
     "output_type": "stream",
     "text": [
      "{\"message\": \"/home/maxim/code/immune-repertoire-classification/malid/trained_model_wrappers/convergent_cluster_classifier.py:571: FutureWarning: Not prepending group keys to the result index of transform-like apply. In the future, the group keys will be included in the index, regardless of whether the applied function returns a like-indexed object.\\nTo preserve the previous behavior, use\\n\\n\\t>>> .groupby(..., group_keys=False)\\n\\nTo adopt the future behavior and silence this warning, use \\n\\n\\t>>> .groupby(..., group_keys=True)\\n  test_groups[\\\"cdr3_seq_aa_q_trim\\\"]\\n\", \"time\": \"2023-11-04T04:25:56.465660\"}\n"
     ]
    },
    {
     "name": "stderr",
     "output_type": "stream",
     "text": [
      "{\"message\": \"/home/maxim/code/immune-repertoire-classification/malid/trained_model_wrappers/convergent_cluster_classifier.py:571: FutureWarning: Not prepending group keys to the result index of transform-like apply. In the future, the group keys will be included in the index, regardless of whether the applied function returns a like-indexed object.\\nTo preserve the previous behavior, use\\n\\n\\t>>> .groupby(..., group_keys=False)\\n\\nTo adopt the future behavior and silence this warning, use \\n\\n\\t>>> .groupby(..., group_keys=True)\\n  test_groups[\\\"cdr3_seq_aa_q_trim\\\"]\\n\", \"time\": \"2023-11-04T04:27:00.798108\"}\n"
     ]
    },
    {
     "name": "stderr",
     "output_type": "stream",
     "text": [
      "{\"message\": \"/home/maxim/code/immune-repertoire-classification/malid/trained_model_wrappers/convergent_cluster_classifier.py:571: FutureWarning: Not prepending group keys to the result index of transform-like apply. In the future, the group keys will be included in the index, regardless of whether the applied function returns a like-indexed object.\\nTo preserve the previous behavior, use\\n\\n\\t>>> .groupby(..., group_keys=False)\\n\\nTo adopt the future behavior and silence this warning, use \\n\\n\\t>>> .groupby(..., group_keys=True)\\n  test_groups[\\\"cdr3_seq_aa_q_trim\\\"]\\n\", \"time\": \"2023-11-04T04:28:09.777765\"}\n"
     ]
    },
    {
     "name": "stderr",
     "output_type": "stream",
     "text": [
      "{\"message\": \"/home/maxim/code/immune-repertoire-classification/malid/trained_model_wrappers/convergent_cluster_classifier.py:571: FutureWarning: Not prepending group keys to the result index of transform-like apply. In the future, the group keys will be included in the index, regardless of whether the applied function returns a like-indexed object.\\nTo preserve the previous behavior, use\\n\\n\\t>>> .groupby(..., group_keys=False)\\n\\nTo adopt the future behavior and silence this warning, use \\n\\n\\t>>> .groupby(..., group_keys=True)\\n  test_groups[\\\"cdr3_seq_aa_q_trim\\\"]\\n\", \"time\": \"2023-11-04T04:29:21.447421\"}\n"
     ]
    },
    {
     "name": "stderr",
     "output_type": "stream",
     "text": [
      "{\"message\": \"/home/maxim/code/immune-repertoire-classification/malid/trained_model_wrappers/convergent_cluster_classifier.py:571: FutureWarning: Not prepending group keys to the result index of transform-like apply. In the future, the group keys will be included in the index, regardless of whether the applied function returns a like-indexed object.\\nTo preserve the previous behavior, use\\n\\n\\t>>> .groupby(..., group_keys=False)\\n\\nTo adopt the future behavior and silence this warning, use \\n\\n\\t>>> .groupby(..., group_keys=True)\\n  test_groups[\\\"cdr3_seq_aa_q_trim\\\"]\\n\", \"time\": \"2023-11-04T04:30:29.227570\"}\n"
     ]
    },
    {
     "name": "stderr",
     "output_type": "stream",
     "text": [
      "{\"message\": \"/home/maxim/code/immune-repertoire-classification/malid/trained_model_wrappers/convergent_cluster_classifier.py:571: FutureWarning: Not prepending group keys to the result index of transform-like apply. In the future, the group keys will be included in the index, regardless of whether the applied function returns a like-indexed object.\\nTo preserve the previous behavior, use\\n\\n\\t>>> .groupby(..., group_keys=False)\\n\\nTo adopt the future behavior and silence this warning, use \\n\\n\\t>>> .groupby(..., group_keys=True)\\n  test_groups[\\\"cdr3_seq_aa_q_trim\\\"]\\n\", \"time\": \"2023-11-04T04:33:22.817462\"}\n"
     ]
    },
    {
     "name": "stderr",
     "output_type": "stream",
     "text": [
      "{\"message\": \"/home/maxim/code/immune-repertoire-classification/malid/trained_model_wrappers/convergent_cluster_classifier.py:571: FutureWarning: Not prepending group keys to the result index of transform-like apply. In the future, the group keys will be included in the index, regardless of whether the applied function returns a like-indexed object.\\nTo preserve the previous behavior, use\\n\\n\\t>>> .groupby(..., group_keys=False)\\n\\nTo adopt the future behavior and silence this warning, use \\n\\n\\t>>> .groupby(..., group_keys=True)\\n  test_groups[\\\"cdr3_seq_aa_q_trim\\\"]\\n\", \"time\": \"2023-11-04T04:35:02.897536\"}\n"
     ]
    },
    {
     "name": "stderr",
     "output_type": "stream",
     "text": [
      "{\"message\": \"/home/maxim/code/immune-repertoire-classification/malid/trained_model_wrappers/convergent_cluster_classifier.py:571: FutureWarning: Not prepending group keys to the result index of transform-like apply. In the future, the group keys will be included in the index, regardless of whether the applied function returns a like-indexed object.\\nTo preserve the previous behavior, use\\n\\n\\t>>> .groupby(..., group_keys=False)\\n\\nTo adopt the future behavior and silence this warning, use \\n\\n\\t>>> .groupby(..., group_keys=True)\\n  test_groups[\\\"cdr3_seq_aa_q_trim\\\"]\\n\", \"time\": \"2023-11-04T04:36:29.951154\"}\n"
     ]
    },
    {
     "name": "stderr",
     "output_type": "stream",
     "text": [
      "{\"message\": \"/home/maxim/code/immune-repertoire-classification/malid/trained_model_wrappers/convergent_cluster_classifier.py:571: FutureWarning: Not prepending group keys to the result index of transform-like apply. In the future, the group keys will be included in the index, regardless of whether the applied function returns a like-indexed object.\\nTo preserve the previous behavior, use\\n\\n\\t>>> .groupby(..., group_keys=False)\\n\\nTo adopt the future behavior and silence this warning, use \\n\\n\\t>>> .groupby(..., group_keys=True)\\n  test_groups[\\\"cdr3_seq_aa_q_trim\\\"]\\n\", \"time\": \"2023-11-04T04:38:01.651310\"}\n"
     ]
    },
    {
     "name": "stderr",
     "output_type": "stream",
     "text": [
      "{\"message\": \"/home/maxim/code/immune-repertoire-classification/malid/trained_model_wrappers/convergent_cluster_classifier.py:571: FutureWarning: Not prepending group keys to the result index of transform-like apply. In the future, the group keys will be included in the index, regardless of whether the applied function returns a like-indexed object.\\nTo preserve the previous behavior, use\\n\\n\\t>>> .groupby(..., group_keys=False)\\n\\nTo adopt the future behavior and silence this warning, use \\n\\n\\t>>> .groupby(..., group_keys=True)\\n  test_groups[\\\"cdr3_seq_aa_q_trim\\\"]\\n\", \"time\": \"2023-11-04T04:39:27.827155\"}\n"
     ]
    },
    {
     "name": "stderr",
     "output_type": "stream",
     "text": [
      "{\"message\": \"/home/maxim/code/immune-repertoire-classification/malid/trained_model_wrappers/convergent_cluster_classifier.py:571: FutureWarning: Not prepending group keys to the result index of transform-like apply. In the future, the group keys will be included in the index, regardless of whether the applied function returns a like-indexed object.\\nTo preserve the previous behavior, use\\n\\n\\t>>> .groupby(..., group_keys=False)\\n\\nTo adopt the future behavior and silence this warning, use \\n\\n\\t>>> .groupby(..., group_keys=True)\\n  test_groups[\\\"cdr3_seq_aa_q_trim\\\"]\\n\", \"time\": \"2023-11-04T04:41:07.814388\"}\n"
     ]
    },
    {
     "name": "stderr",
     "output_type": "stream",
     "text": [
      "{\"message\": \"/home/maxim/code/immune-repertoire-classification/malid/trained_model_wrappers/convergent_cluster_classifier.py:571: FutureWarning: Not prepending group keys to the result index of transform-like apply. In the future, the group keys will be included in the index, regardless of whether the applied function returns a like-indexed object.\\nTo preserve the previous behavior, use\\n\\n\\t>>> .groupby(..., group_keys=False)\\n\\nTo adopt the future behavior and silence this warning, use \\n\\n\\t>>> .groupby(..., group_keys=True)\\n  test_groups[\\\"cdr3_seq_aa_q_trim\\\"]\\n\", \"time\": \"2023-11-04T04:43:05.839009\"}\n"
     ]
    },
    {
     "name": "stderr",
     "output_type": "stream",
     "text": [
      "{\"message\": \"/home/maxim/code/immune-repertoire-classification/malid/trained_model_wrappers/convergent_cluster_classifier.py:571: FutureWarning: Not prepending group keys to the result index of transform-like apply. In the future, the group keys will be included in the index, regardless of whether the applied function returns a like-indexed object.\\nTo preserve the previous behavior, use\\n\\n\\t>>> .groupby(..., group_keys=False)\\n\\nTo adopt the future behavior and silence this warning, use \\n\\n\\t>>> .groupby(..., group_keys=True)\\n  test_groups[\\\"cdr3_seq_aa_q_trim\\\"]\\n\", \"time\": \"2023-11-04T04:45:07.175187\"}\n"
     ]
    },
    {
     "name": "stderr",
     "output_type": "stream",
     "text": [
      "{\"message\": \"/home/maxim/code/immune-repertoire-classification/malid/trained_model_wrappers/convergent_cluster_classifier.py:571: FutureWarning: Not prepending group keys to the result index of transform-like apply. In the future, the group keys will be included in the index, regardless of whether the applied function returns a like-indexed object.\\nTo preserve the previous behavior, use\\n\\n\\t>>> .groupby(..., group_keys=False)\\n\\nTo adopt the future behavior and silence this warning, use \\n\\n\\t>>> .groupby(..., group_keys=True)\\n  test_groups[\\\"cdr3_seq_aa_q_trim\\\"]\\n\", \"time\": \"2023-11-04T04:46:44.183870\"}\n"
     ]
    },
    {
     "name": "stderr",
     "output_type": "stream",
     "text": [
      "{\"message\": \"/home/maxim/code/immune-repertoire-classification/malid/trained_model_wrappers/convergent_cluster_classifier.py:571: FutureWarning: Not prepending group keys to the result index of transform-like apply. In the future, the group keys will be included in the index, regardless of whether the applied function returns a like-indexed object.\\nTo preserve the previous behavior, use\\n\\n\\t>>> .groupby(..., group_keys=False)\\n\\nTo adopt the future behavior and silence this warning, use \\n\\n\\t>>> .groupby(..., group_keys=True)\\n  test_groups[\\\"cdr3_seq_aa_q_trim\\\"]\\n\", \"time\": \"2023-11-04T04:48:17.136603\"}\n"
     ]
    },
    {
     "name": "stderr",
     "output_type": "stream",
     "text": [
      "{\"message\": \"/home/maxim/code/immune-repertoire-classification/malid/trained_model_wrappers/convergent_cluster_classifier.py:571: FutureWarning: Not prepending group keys to the result index of transform-like apply. In the future, the group keys will be included in the index, regardless of whether the applied function returns a like-indexed object.\\nTo preserve the previous behavior, use\\n\\n\\t>>> .groupby(..., group_keys=False)\\n\\nTo adopt the future behavior and silence this warning, use \\n\\n\\t>>> .groupby(..., group_keys=True)\\n  test_groups[\\\"cdr3_seq_aa_q_trim\\\"]\\n\", \"time\": \"2023-11-04T04:49:48.896663\"}\n"
     ]
    },
    {
     "name": "stderr",
     "output_type": "stream",
     "text": [
      "{\"message\": \"/home/maxim/code/immune-repertoire-classification/malid/trained_model_wrappers/convergent_cluster_classifier.py:571: FutureWarning: Not prepending group keys to the result index of transform-like apply. In the future, the group keys will be included in the index, regardless of whether the applied function returns a like-indexed object.\\nTo preserve the previous behavior, use\\n\\n\\t>>> .groupby(..., group_keys=False)\\n\\nTo adopt the future behavior and silence this warning, use \\n\\n\\t>>> .groupby(..., group_keys=True)\\n  test_groups[\\\"cdr3_seq_aa_q_trim\\\"]\\n\", \"time\": \"2023-11-04T04:51:43.319357\"}\n"
     ]
    },
    {
     "name": "stderr",
     "output_type": "stream",
     "text": [
      "{\"message\": \"/home/maxim/code/immune-repertoire-classification/malid/trained_model_wrappers/convergent_cluster_classifier.py:571: FutureWarning: Not prepending group keys to the result index of transform-like apply. In the future, the group keys will be included in the index, regardless of whether the applied function returns a like-indexed object.\\nTo preserve the previous behavior, use\\n\\n\\t>>> .groupby(..., group_keys=False)\\n\\nTo adopt the future behavior and silence this warning, use \\n\\n\\t>>> .groupby(..., group_keys=True)\\n  test_groups[\\\"cdr3_seq_aa_q_trim\\\"]\\n\", \"time\": \"2023-11-04T04:53:33.173963\"}\n"
     ]
    },
    {
     "name": "stderr",
     "output_type": "stream",
     "text": [
      "{\"message\": \"/home/maxim/code/immune-repertoire-classification/malid/trained_model_wrappers/convergent_cluster_classifier.py:571: FutureWarning: Not prepending group keys to the result index of transform-like apply. In the future, the group keys will be included in the index, regardless of whether the applied function returns a like-indexed object.\\nTo preserve the previous behavior, use\\n\\n\\t>>> .groupby(..., group_keys=False)\\n\\nTo adopt the future behavior and silence this warning, use \\n\\n\\t>>> .groupby(..., group_keys=True)\\n  test_groups[\\\"cdr3_seq_aa_q_trim\\\"]\\n\", \"time\": \"2023-11-04T04:55:09.052746\"}\n"
     ]
    },
    {
     "name": "stderr",
     "output_type": "stream",
     "text": [
      "{\"message\": \"/home/maxim/code/immune-repertoire-classification/malid/trained_model_wrappers/convergent_cluster_classifier.py:571: FutureWarning: Not prepending group keys to the result index of transform-like apply. In the future, the group keys will be included in the index, regardless of whether the applied function returns a like-indexed object.\\nTo preserve the previous behavior, use\\n\\n\\t>>> .groupby(..., group_keys=False)\\n\\nTo adopt the future behavior and silence this warning, use \\n\\n\\t>>> .groupby(..., group_keys=True)\\n  test_groups[\\\"cdr3_seq_aa_q_trim\\\"]\\n\", \"time\": \"2023-11-04T04:56:32.386963\"}\n"
     ]
    },
    {
     "name": "stderr",
     "output_type": "stream",
     "text": [
      "{\"message\": \"/home/maxim/code/immune-repertoire-classification/malid/trained_model_wrappers/convergent_cluster_classifier.py:571: FutureWarning: Not prepending group keys to the result index of transform-like apply. In the future, the group keys will be included in the index, regardless of whether the applied function returns a like-indexed object.\\nTo preserve the previous behavior, use\\n\\n\\t>>> .groupby(..., group_keys=False)\\n\\nTo adopt the future behavior and silence this warning, use \\n\\n\\t>>> .groupby(..., group_keys=True)\\n  test_groups[\\\"cdr3_seq_aa_q_trim\\\"]\\n\", \"time\": \"2023-11-04T04:58:35.855970\"}\n"
     ]
    },
    {
     "name": "stderr",
     "output_type": "stream",
     "text": [
      "{\"message\": \"/home/maxim/code/immune-repertoire-classification/malid/trained_model_wrappers/convergent_cluster_classifier.py:571: FutureWarning: Not prepending group keys to the result index of transform-like apply. In the future, the group keys will be included in the index, regardless of whether the applied function returns a like-indexed object.\\nTo preserve the previous behavior, use\\n\\n\\t>>> .groupby(..., group_keys=False)\\n\\nTo adopt the future behavior and silence this warning, use \\n\\n\\t>>> .groupby(..., group_keys=True)\\n  test_groups[\\\"cdr3_seq_aa_q_trim\\\"]\\n\", \"time\": \"2023-11-04T05:00:39.448184\"}\n"
     ]
    },
    {
     "name": "stderr",
     "output_type": "stream",
     "text": [
      "{\"message\": \"/home/maxim/code/immune-repertoire-classification/malid/trained_model_wrappers/convergent_cluster_classifier.py:571: FutureWarning: Not prepending group keys to the result index of transform-like apply. In the future, the group keys will be included in the index, regardless of whether the applied function returns a like-indexed object.\\nTo preserve the previous behavior, use\\n\\n\\t>>> .groupby(..., group_keys=False)\\n\\nTo adopt the future behavior and silence this warning, use \\n\\n\\t>>> .groupby(..., group_keys=True)\\n  test_groups[\\\"cdr3_seq_aa_q_trim\\\"]\\n\", \"time\": \"2023-11-04T05:02:11.806756\"}\n"
     ]
    },
    {
     "name": "stderr",
     "output_type": "stream",
     "text": [
      "{\"message\": \"/home/maxim/code/immune-repertoire-classification/malid/trained_model_wrappers/convergent_cluster_classifier.py:571: FutureWarning: Not prepending group keys to the result index of transform-like apply. In the future, the group keys will be included in the index, regardless of whether the applied function returns a like-indexed object.\\nTo preserve the previous behavior, use\\n\\n\\t>>> .groupby(..., group_keys=False)\\n\\nTo adopt the future behavior and silence this warning, use \\n\\n\\t>>> .groupby(..., group_keys=True)\\n  test_groups[\\\"cdr3_seq_aa_q_trim\\\"]\\n\", \"time\": \"2023-11-04T05:03:39.152035\"}\n"
     ]
    },
    {
     "name": "stderr",
     "output_type": "stream",
     "text": [
      "{\"message\": \"/home/maxim/code/immune-repertoire-classification/malid/trained_model_wrappers/convergent_cluster_classifier.py:571: FutureWarning: Not prepending group keys to the result index of transform-like apply. In the future, the group keys will be included in the index, regardless of whether the applied function returns a like-indexed object.\\nTo preserve the previous behavior, use\\n\\n\\t>>> .groupby(..., group_keys=False)\\n\\nTo adopt the future behavior and silence this warning, use \\n\\n\\t>>> .groupby(..., group_keys=True)\\n  test_groups[\\\"cdr3_seq_aa_q_trim\\\"]\\n\", \"time\": \"2023-11-04T05:05:03.825764\"}\n"
     ]
    },
    {
     "name": "stderr",
     "output_type": "stream",
     "text": [
      "{\"message\": \"/home/maxim/code/immune-repertoire-classification/malid/trained_model_wrappers/convergent_cluster_classifier.py:571: FutureWarning: Not prepending group keys to the result index of transform-like apply. In the future, the group keys will be included in the index, regardless of whether the applied function returns a like-indexed object.\\nTo preserve the previous behavior, use\\n\\n\\t>>> .groupby(..., group_keys=False)\\n\\nTo adopt the future behavior and silence this warning, use \\n\\n\\t>>> .groupby(..., group_keys=True)\\n  test_groups[\\\"cdr3_seq_aa_q_trim\\\"]\\n\", \"time\": \"2023-11-04T05:06:37.497093\"}\n"
     ]
    },
    {
     "name": "stderr",
     "output_type": "stream",
     "text": [
      "{\"message\": \"/home/maxim/code/immune-repertoire-classification/malid/trained_model_wrappers/convergent_cluster_classifier.py:571: FutureWarning: Not prepending group keys to the result index of transform-like apply. In the future, the group keys will be included in the index, regardless of whether the applied function returns a like-indexed object.\\nTo preserve the previous behavior, use\\n\\n\\t>>> .groupby(..., group_keys=False)\\n\\nTo adopt the future behavior and silence this warning, use \\n\\n\\t>>> .groupby(..., group_keys=True)\\n  test_groups[\\\"cdr3_seq_aa_q_trim\\\"]\\n\", \"time\": \"2023-11-04T05:08:08.632671\"}\n"
     ]
    },
    {
     "name": "stderr",
     "output_type": "stream",
     "text": [
      "{\"message\": \"/home/maxim/code/immune-repertoire-classification/malid/trained_model_wrappers/convergent_cluster_classifier.py:571: FutureWarning: Not prepending group keys to the result index of transform-like apply. In the future, the group keys will be included in the index, regardless of whether the applied function returns a like-indexed object.\\nTo preserve the previous behavior, use\\n\\n\\t>>> .groupby(..., group_keys=False)\\n\\nTo adopt the future behavior and silence this warning, use \\n\\n\\t>>> .groupby(..., group_keys=True)\\n  test_groups[\\\"cdr3_seq_aa_q_trim\\\"]\\n\", \"time\": \"2023-11-04T05:09:39.337849\"}\n"
     ]
    },
    {
     "name": "stderr",
     "output_type": "stream",
     "text": [
      "{\"message\": \"/home/maxim/code/immune-repertoire-classification/malid/trained_model_wrappers/convergent_cluster_classifier.py:571: FutureWarning: Not prepending group keys to the result index of transform-like apply. In the future, the group keys will be included in the index, regardless of whether the applied function returns a like-indexed object.\\nTo preserve the previous behavior, use\\n\\n\\t>>> .groupby(..., group_keys=False)\\n\\nTo adopt the future behavior and silence this warning, use \\n\\n\\t>>> .groupby(..., group_keys=True)\\n  test_groups[\\\"cdr3_seq_aa_q_trim\\\"]\\n\", \"time\": \"2023-11-04T05:11:00.717479\"}\n"
     ]
    },
    {
     "name": "stderr",
     "output_type": "stream",
     "text": [
      "{\"message\": \"/home/maxim/code/immune-repertoire-classification/malid/trained_model_wrappers/convergent_cluster_classifier.py:571: FutureWarning: Not prepending group keys to the result index of transform-like apply. In the future, the group keys will be included in the index, regardless of whether the applied function returns a like-indexed object.\\nTo preserve the previous behavior, use\\n\\n\\t>>> .groupby(..., group_keys=False)\\n\\nTo adopt the future behavior and silence this warning, use \\n\\n\\t>>> .groupby(..., group_keys=True)\\n  test_groups[\\\"cdr3_seq_aa_q_trim\\\"]\\n\", \"time\": \"2023-11-04T05:12:25.293967\"}\n"
     ]
    },
    {
     "name": "stderr",
     "output_type": "stream",
     "text": [
      "{\"message\": \"/home/maxim/code/immune-repertoire-classification/malid/trained_model_wrappers/convergent_cluster_classifier.py:571: FutureWarning: Not prepending group keys to the result index of transform-like apply. In the future, the group keys will be included in the index, regardless of whether the applied function returns a like-indexed object.\\nTo preserve the previous behavior, use\\n\\n\\t>>> .groupby(..., group_keys=False)\\n\\nTo adopt the future behavior and silence this warning, use \\n\\n\\t>>> .groupby(..., group_keys=True)\\n  test_groups[\\\"cdr3_seq_aa_q_trim\\\"]\\n\", \"time\": \"2023-11-04T05:13:58.477518\"}\n"
     ]
    },
    {
     "name": "stderr",
     "output_type": "stream",
     "text": [
      "{\"message\": \"/home/maxim/code/immune-repertoire-classification/malid/trained_model_wrappers/convergent_cluster_classifier.py:571: FutureWarning: Not prepending group keys to the result index of transform-like apply. In the future, the group keys will be included in the index, regardless of whether the applied function returns a like-indexed object.\\nTo preserve the previous behavior, use\\n\\n\\t>>> .groupby(..., group_keys=False)\\n\\nTo adopt the future behavior and silence this warning, use \\n\\n\\t>>> .groupby(..., group_keys=True)\\n  test_groups[\\\"cdr3_seq_aa_q_trim\\\"]\\n\", \"time\": \"2023-11-04T05:15:30.560794\"}\n"
     ]
    },
    {
     "name": "stderr",
     "output_type": "stream",
     "text": [
      "{\"message\": \"/home/maxim/code/immune-repertoire-classification/malid/trained_model_wrappers/convergent_cluster_classifier.py:571: FutureWarning: Not prepending group keys to the result index of transform-like apply. In the future, the group keys will be included in the index, regardless of whether the applied function returns a like-indexed object.\\nTo preserve the previous behavior, use\\n\\n\\t>>> .groupby(..., group_keys=False)\\n\\nTo adopt the future behavior and silence this warning, use \\n\\n\\t>>> .groupby(..., group_keys=True)\\n  test_groups[\\\"cdr3_seq_aa_q_trim\\\"]\\n\", \"time\": \"2023-11-04T05:17:13.629551\"}\n"
     ]
    },
    {
     "name": "stderr",
     "output_type": "stream",
     "text": [
      "{\"message\": \"/home/maxim/code/immune-repertoire-classification/malid/trained_model_wrappers/convergent_cluster_classifier.py:571: FutureWarning: Not prepending group keys to the result index of transform-like apply. In the future, the group keys will be included in the index, regardless of whether the applied function returns a like-indexed object.\\nTo preserve the previous behavior, use\\n\\n\\t>>> .groupby(..., group_keys=False)\\n\\nTo adopt the future behavior and silence this warning, use \\n\\n\\t>>> .groupby(..., group_keys=True)\\n  test_groups[\\\"cdr3_seq_aa_q_trim\\\"]\\n\", \"time\": \"2023-11-04T05:19:09.080096\"}\n"
     ]
    },
    {
     "name": "stderr",
     "output_type": "stream",
     "text": [
      "{\"message\": \"/home/maxim/code/immune-repertoire-classification/malid/trained_model_wrappers/convergent_cluster_classifier.py:571: FutureWarning: Not prepending group keys to the result index of transform-like apply. In the future, the group keys will be included in the index, regardless of whether the applied function returns a like-indexed object.\\nTo preserve the previous behavior, use\\n\\n\\t>>> .groupby(..., group_keys=False)\\n\\nTo adopt the future behavior and silence this warning, use \\n\\n\\t>>> .groupby(..., group_keys=True)\\n  test_groups[\\\"cdr3_seq_aa_q_trim\\\"]\\n\", \"time\": \"2023-11-04T05:21:13.488685\"}\n"
     ]
    },
    {
     "name": "stderr",
     "output_type": "stream",
     "text": [
      "{\"message\": \"/home/maxim/code/immune-repertoire-classification/malid/trained_model_wrappers/convergent_cluster_classifier.py:571: FutureWarning: Not prepending group keys to the result index of transform-like apply. In the future, the group keys will be included in the index, regardless of whether the applied function returns a like-indexed object.\\nTo preserve the previous behavior, use\\n\\n\\t>>> .groupby(..., group_keys=False)\\n\\nTo adopt the future behavior and silence this warning, use \\n\\n\\t>>> .groupby(..., group_keys=True)\\n  test_groups[\\\"cdr3_seq_aa_q_trim\\\"]\\n\", \"time\": \"2023-11-04T05:23:06.989640\"}\n"
     ]
    },
    {
     "name": "stderr",
     "output_type": "stream",
     "text": [
      "{\"message\": \"/home/maxim/code/immune-repertoire-classification/malid/trained_model_wrappers/convergent_cluster_classifier.py:571: FutureWarning: Not prepending group keys to the result index of transform-like apply. In the future, the group keys will be included in the index, regardless of whether the applied function returns a like-indexed object.\\nTo preserve the previous behavior, use\\n\\n\\t>>> .groupby(..., group_keys=False)\\n\\nTo adopt the future behavior and silence this warning, use \\n\\n\\t>>> .groupby(..., group_keys=True)\\n  test_groups[\\\"cdr3_seq_aa_q_trim\\\"]\\n\", \"time\": \"2023-11-04T05:25:01.716826\"}\n"
     ]
    },
    {
     "name": "stderr",
     "output_type": "stream",
     "text": [
      "{\"message\": \"/home/maxim/code/immune-repertoire-classification/malid/trained_model_wrappers/convergent_cluster_classifier.py:571: FutureWarning: Not prepending group keys to the result index of transform-like apply. In the future, the group keys will be included in the index, regardless of whether the applied function returns a like-indexed object.\\nTo preserve the previous behavior, use\\n\\n\\t>>> .groupby(..., group_keys=False)\\n\\nTo adopt the future behavior and silence this warning, use \\n\\n\\t>>> .groupby(..., group_keys=True)\\n  test_groups[\\\"cdr3_seq_aa_q_trim\\\"]\\n\", \"time\": \"2023-11-04T05:26:45.593344\"}\n"
     ]
    },
    {
     "name": "stderr",
     "output_type": "stream",
     "text": [
      "{\"message\": \"/home/maxim/code/immune-repertoire-classification/malid/trained_model_wrappers/convergent_cluster_classifier.py:571: FutureWarning: Not prepending group keys to the result index of transform-like apply. In the future, the group keys will be included in the index, regardless of whether the applied function returns a like-indexed object.\\nTo preserve the previous behavior, use\\n\\n\\t>>> .groupby(..., group_keys=False)\\n\\nTo adopt the future behavior and silence this warning, use \\n\\n\\t>>> .groupby(..., group_keys=True)\\n  test_groups[\\\"cdr3_seq_aa_q_trim\\\"]\\n\", \"time\": \"2023-11-04T05:28:27.033828\"}\n"
     ]
    },
    {
     "name": "stderr",
     "output_type": "stream",
     "text": [
      "{\"message\": \"/home/maxim/code/immune-repertoire-classification/malid/trained_model_wrappers/convergent_cluster_classifier.py:571: FutureWarning: Not prepending group keys to the result index of transform-like apply. In the future, the group keys will be included in the index, regardless of whether the applied function returns a like-indexed object.\\nTo preserve the previous behavior, use\\n\\n\\t>>> .groupby(..., group_keys=False)\\n\\nTo adopt the future behavior and silence this warning, use \\n\\n\\t>>> .groupby(..., group_keys=True)\\n  test_groups[\\\"cdr3_seq_aa_q_trim\\\"]\\n\", \"time\": \"2023-11-04T05:30:04.772402\"}\n"
     ]
    },
    {
     "name": "stderr",
     "output_type": "stream",
     "text": [
      "{\"message\": \"/home/maxim/code/immune-repertoire-classification/malid/trained_model_wrappers/convergent_cluster_classifier.py:571: FutureWarning: Not prepending group keys to the result index of transform-like apply. In the future, the group keys will be included in the index, regardless of whether the applied function returns a like-indexed object.\\nTo preserve the previous behavior, use\\n\\n\\t>>> .groupby(..., group_keys=False)\\n\\nTo adopt the future behavior and silence this warning, use \\n\\n\\t>>> .groupby(..., group_keys=True)\\n  test_groups[\\\"cdr3_seq_aa_q_trim\\\"]\\n\", \"time\": \"2023-11-04T05:31:48.960825\"}\n"
     ]
    },
    {
     "name": "stderr",
     "output_type": "stream",
     "text": [
      "{\"message\": \"/home/maxim/code/immune-repertoire-classification/malid/trained_model_wrappers/convergent_cluster_classifier.py:571: FutureWarning: Not prepending group keys to the result index of transform-like apply. In the future, the group keys will be included in the index, regardless of whether the applied function returns a like-indexed object.\\nTo preserve the previous behavior, use\\n\\n\\t>>> .groupby(..., group_keys=False)\\n\\nTo adopt the future behavior and silence this warning, use \\n\\n\\t>>> .groupby(..., group_keys=True)\\n  test_groups[\\\"cdr3_seq_aa_q_trim\\\"]\\n\", \"time\": \"2023-11-04T05:36:09.546527\"}\n"
     ]
    },
    {
     "name": "stderr",
     "output_type": "stream",
     "text": [
      "{\"message\": \"/home/maxim/code/immune-repertoire-classification/malid/trained_model_wrappers/convergent_cluster_classifier.py:571: FutureWarning: Not prepending group keys to the result index of transform-like apply. In the future, the group keys will be included in the index, regardless of whether the applied function returns a like-indexed object.\\nTo preserve the previous behavior, use\\n\\n\\t>>> .groupby(..., group_keys=False)\\n\\nTo adopt the future behavior and silence this warning, use \\n\\n\\t>>> .groupby(..., group_keys=True)\\n  test_groups[\\\"cdr3_seq_aa_q_trim\\\"]\\n\", \"time\": \"2023-11-04T05:38:19.697593\"}\n"
     ]
    },
    {
     "name": "stderr",
     "output_type": "stream",
     "text": [
      "{\"message\": \"/home/maxim/code/immune-repertoire-classification/malid/trained_model_wrappers/convergent_cluster_classifier.py:571: FutureWarning: Not prepending group keys to the result index of transform-like apply. In the future, the group keys will be included in the index, regardless of whether the applied function returns a like-indexed object.\\nTo preserve the previous behavior, use\\n\\n\\t>>> .groupby(..., group_keys=False)\\n\\nTo adopt the future behavior and silence this warning, use \\n\\n\\t>>> .groupby(..., group_keys=True)\\n  test_groups[\\\"cdr3_seq_aa_q_trim\\\"]\\n\", \"time\": \"2023-11-04T05:40:24.045603\"}\n"
     ]
    },
    {
     "name": "stderr",
     "output_type": "stream",
     "text": [
      "{\"message\": \"/home/maxim/code/immune-repertoire-classification/malid/trained_model_wrappers/convergent_cluster_classifier.py:571: FutureWarning: Not prepending group keys to the result index of transform-like apply. In the future, the group keys will be included in the index, regardless of whether the applied function returns a like-indexed object.\\nTo preserve the previous behavior, use\\n\\n\\t>>> .groupby(..., group_keys=False)\\n\\nTo adopt the future behavior and silence this warning, use \\n\\n\\t>>> .groupby(..., group_keys=True)\\n  test_groups[\\\"cdr3_seq_aa_q_trim\\\"]\\n\", \"time\": \"2023-11-04T05:42:19.166145\"}\n"
     ]
    },
    {
     "name": "stderr",
     "output_type": "stream",
     "text": [
      "{\"message\": \"/home/maxim/code/immune-repertoire-classification/malid/trained_model_wrappers/convergent_cluster_classifier.py:571: FutureWarning: Not prepending group keys to the result index of transform-like apply. In the future, the group keys will be included in the index, regardless of whether the applied function returns a like-indexed object.\\nTo preserve the previous behavior, use\\n\\n\\t>>> .groupby(..., group_keys=False)\\n\\nTo adopt the future behavior and silence this warning, use \\n\\n\\t>>> .groupby(..., group_keys=True)\\n  test_groups[\\\"cdr3_seq_aa_q_trim\\\"]\\n\", \"time\": \"2023-11-04T05:44:14.746913\"}\n"
     ]
    },
    {
     "name": "stderr",
     "output_type": "stream",
     "text": [
      "{\"message\": \"/home/maxim/code/immune-repertoire-classification/malid/trained_model_wrappers/convergent_cluster_classifier.py:571: FutureWarning: Not prepending group keys to the result index of transform-like apply. In the future, the group keys will be included in the index, regardless of whether the applied function returns a like-indexed object.\\nTo preserve the previous behavior, use\\n\\n\\t>>> .groupby(..., group_keys=False)\\n\\nTo adopt the future behavior and silence this warning, use \\n\\n\\t>>> .groupby(..., group_keys=True)\\n  test_groups[\\\"cdr3_seq_aa_q_trim\\\"]\\n\", \"time\": \"2023-11-04T05:46:10.004643\"}\n"
     ]
    },
    {
     "name": "stderr",
     "output_type": "stream",
     "text": [
      "{\"message\": \"/home/maxim/code/immune-repertoire-classification/malid/trained_model_wrappers/convergent_cluster_classifier.py:571: FutureWarning: Not prepending group keys to the result index of transform-like apply. In the future, the group keys will be included in the index, regardless of whether the applied function returns a like-indexed object.\\nTo preserve the previous behavior, use\\n\\n\\t>>> .groupby(..., group_keys=False)\\n\\nTo adopt the future behavior and silence this warning, use \\n\\n\\t>>> .groupby(..., group_keys=True)\\n  test_groups[\\\"cdr3_seq_aa_q_trim\\\"]\\n\", \"time\": \"2023-11-04T05:48:03.515596\"}\n"
     ]
    },
    {
     "name": "stderr",
     "output_type": "stream",
     "text": [
      "{\"message\": \"/home/maxim/code/immune-repertoire-classification/malid/trained_model_wrappers/convergent_cluster_classifier.py:571: FutureWarning: Not prepending group keys to the result index of transform-like apply. In the future, the group keys will be included in the index, regardless of whether the applied function returns a like-indexed object.\\nTo preserve the previous behavior, use\\n\\n\\t>>> .groupby(..., group_keys=False)\\n\\nTo adopt the future behavior and silence this warning, use \\n\\n\\t>>> .groupby(..., group_keys=True)\\n  test_groups[\\\"cdr3_seq_aa_q_trim\\\"]\\n\", \"time\": \"2023-11-04T05:49:56.149272\"}\n"
     ]
    },
    {
     "name": "stderr",
     "output_type": "stream",
     "text": [
      "{\"message\": \"/home/maxim/code/immune-repertoire-classification/malid/trained_model_wrappers/convergent_cluster_classifier.py:571: FutureWarning: Not prepending group keys to the result index of transform-like apply. In the future, the group keys will be included in the index, regardless of whether the applied function returns a like-indexed object.\\nTo preserve the previous behavior, use\\n\\n\\t>>> .groupby(..., group_keys=False)\\n\\nTo adopt the future behavior and silence this warning, use \\n\\n\\t>>> .groupby(..., group_keys=True)\\n  test_groups[\\\"cdr3_seq_aa_q_trim\\\"]\\n\", \"time\": \"2023-11-04T05:51:50.665319\"}\n"
     ]
    },
    {
     "name": "stderr",
     "output_type": "stream",
     "text": [
      "{\"message\": \"/home/maxim/code/immune-repertoire-classification/malid/trained_model_wrappers/convergent_cluster_classifier.py:571: FutureWarning: Not prepending group keys to the result index of transform-like apply. In the future, the group keys will be included in the index, regardless of whether the applied function returns a like-indexed object.\\nTo preserve the previous behavior, use\\n\\n\\t>>> .groupby(..., group_keys=False)\\n\\nTo adopt the future behavior and silence this warning, use \\n\\n\\t>>> .groupby(..., group_keys=True)\\n  test_groups[\\\"cdr3_seq_aa_q_trim\\\"]\\n\", \"time\": \"2023-11-04T05:53:43.472405\"}\n"
     ]
    },
    {
     "name": "stderr",
     "output_type": "stream",
     "text": [
      "{\"message\": \"/home/maxim/code/immune-repertoire-classification/malid/trained_model_wrappers/convergent_cluster_classifier.py:571: FutureWarning: Not prepending group keys to the result index of transform-like apply. In the future, the group keys will be included in the index, regardless of whether the applied function returns a like-indexed object.\\nTo preserve the previous behavior, use\\n\\n\\t>>> .groupby(..., group_keys=False)\\n\\nTo adopt the future behavior and silence this warning, use \\n\\n\\t>>> .groupby(..., group_keys=True)\\n  test_groups[\\\"cdr3_seq_aa_q_trim\\\"]\\n\", \"time\": \"2023-11-04T05:55:59.026298\"}\n"
     ]
    },
    {
     "name": "stderr",
     "output_type": "stream",
     "text": [
      "{\"message\": \"/home/maxim/code/immune-repertoire-classification/malid/trained_model_wrappers/convergent_cluster_classifier.py:571: FutureWarning: Not prepending group keys to the result index of transform-like apply. In the future, the group keys will be included in the index, regardless of whether the applied function returns a like-indexed object.\\nTo preserve the previous behavior, use\\n\\n\\t>>> .groupby(..., group_keys=False)\\n\\nTo adopt the future behavior and silence this warning, use \\n\\n\\t>>> .groupby(..., group_keys=True)\\n  test_groups[\\\"cdr3_seq_aa_q_trim\\\"]\\n\", \"time\": \"2023-11-04T05:58:04.975881\"}\n"
     ]
    },
    {
     "name": "stdout",
     "output_type": "stream",
     "text": [
      "Validation set performance: GeneLocus.BCR TargetObsColumnEnum.disease --> /home/maxim/code/immune-repertoire-classification/out/in_house_peak_disease_timepoints/convergent_clusters/BCR/disease\n"
     ]
    },
    {
     "name": "stderr",
     "output_type": "stream",
     "text": [
      "{\"message\": \"Inserting phantom class: Healthy/Background\", \"time\": \"2023-11-04T05:59:56.665175\"}\n"
     ]
    },
    {
     "name": "stderr",
     "output_type": "stream",
     "text": [
      "{\"message\": \"Inserting phantom class: Healthy/Background\", \"time\": \"2023-11-04T05:59:56.693511\"}\n"
     ]
    },
    {
     "name": "stderr",
     "output_type": "stream",
     "text": [
      "{\"message\": \"Inserting phantom class: Healthy/Background\", \"time\": \"2023-11-04T05:59:56.721716\"}\n"
     ]
    },
    {
     "name": "stderr",
     "output_type": "stream",
     "text": [
      "{\"message\": \"Inserting phantom class: Healthy/Background\", \"time\": \"2023-11-04T05:59:56.735946\"}\n"
     ]
    },
    {
     "name": "stderr",
     "output_type": "stream",
     "text": [
      "{\"message\": \"Inserting phantom class: Healthy/Background\", \"time\": \"2023-11-04T05:59:56.751664\"}\n"
     ]
    },
    {
     "name": "stderr",
     "output_type": "stream",
     "text": [
      "{\"message\": \"Inserting phantom class: Healthy/Background\", \"time\": \"2023-11-04T05:59:56.780024\"}\n"
     ]
    },
    {
     "name": "stderr",
     "output_type": "stream",
     "text": [
      "{\"message\": \"Inserting phantom class: Healthy/Background\", \"time\": \"2023-11-04T05:59:56.807205\"}\n"
     ]
    },
    {
     "name": "stderr",
     "output_type": "stream",
     "text": [
      "{\"message\": \"Inserting phantom class: Healthy/Background\", \"time\": \"2023-11-04T05:59:56.820926\"}\n"
     ]
    },
    {
     "name": "stderr",
     "output_type": "stream",
     "text": [
      "{\"message\": \"Inserting phantom class: Healthy/Background\", \"time\": \"2023-11-04T05:59:56.835627\"}\n"
     ]
    },
    {
     "name": "stderr",
     "output_type": "stream",
     "text": [
      "{\"message\": \"Inserting phantom class: Healthy/Background\", \"time\": \"2023-11-04T05:59:56.861991\"}\n"
     ]
    },
    {
     "name": "stderr",
     "output_type": "stream",
     "text": [
      "{\"message\": \"Inserting phantom class: Healthy/Background\", \"time\": \"2023-11-04T05:59:56.897618\"}\n"
     ]
    },
    {
     "name": "stderr",
     "output_type": "stream",
     "text": [
      "{\"message\": \"Inserting phantom class: Healthy/Background\", \"time\": \"2023-11-04T05:59:56.910974\"}\n"
     ]
    },
    {
     "name": "stderr",
     "output_type": "stream",
     "text": [
      "{\"message\": \"Inserting phantom class: Healthy/Background\", \"time\": \"2023-11-04T05:59:56.940746\"}\n"
     ]
    },
    {
     "name": "stderr",
     "output_type": "stream",
     "text": [
      "{\"message\": \"Inserting phantom class: Healthy/Background\", \"time\": \"2023-11-04T05:59:56.968555\"}\n"
     ]
    },
    {
     "name": "stderr",
     "output_type": "stream",
     "text": [
      "{\"message\": \"Inserting phantom class: Healthy/Background\", \"time\": \"2023-11-04T05:59:56.996344\"}\n"
     ]
    },
    {
     "name": "stderr",
     "output_type": "stream",
     "text": [
      "{\"message\": \"Inserting phantom class: Healthy/Background\", \"time\": \"2023-11-04T05:59:57.011147\"}\n"
     ]
    },
    {
     "name": "stderr",
     "output_type": "stream",
     "text": [
      "{\"message\": \"Inserting phantom class: Healthy/Background\", \"time\": \"2023-11-04T05:59:57.026754\"}\n"
     ]
    },
    {
     "name": "stderr",
     "output_type": "stream",
     "text": [
      "{\"message\": \"Inserting phantom class: Healthy/Background\", \"time\": \"2023-11-04T05:59:57.070991\"}\n"
     ]
    },
    {
     "name": "stderr",
     "output_type": "stream",
     "text": [
      "{\"message\": \"Inserting phantom class: Healthy/Background\", \"time\": \"2023-11-04T05:59:57.109165\"}\n"
     ]
    },
    {
     "name": "stderr",
     "output_type": "stream",
     "text": [
      "{\"message\": \"Inserting phantom class: Healthy/Background\", \"time\": \"2023-11-04T05:59:57.127453\"}\n"
     ]
    },
    {
     "name": "stderr",
     "output_type": "stream",
     "text": [
      "{\"message\": \"Inserting phantom class: Healthy/Background\", \"time\": \"2023-11-04T05:59:57.147302\"}\n"
     ]
    },
    {
     "name": "stderr",
     "output_type": "stream",
     "text": [
      "{\"message\": \"Inserting phantom class: Healthy/Background\", \"time\": \"2023-11-04T05:59:57.179226\"}\n"
     ]
    },
    {
     "name": "stderr",
     "output_type": "stream",
     "text": [
      "{\"message\": \"Inserting phantom class: Healthy/Background\", \"time\": \"2023-11-04T05:59:57.205811\"}\n"
     ]
    },
    {
     "name": "stderr",
     "output_type": "stream",
     "text": [
      "{\"message\": \"Inserting phantom class: Healthy/Background\", \"time\": \"2023-11-04T05:59:57.219251\"}\n"
     ]
    },
    {
     "name": "stderr",
     "output_type": "stream",
     "text": [
      "{\"message\": \"Inserting phantom class: Healthy/Background\", \"time\": \"2023-11-04T05:59:57.245467\"}\n"
     ]
    },
    {
     "name": "stderr",
     "output_type": "stream",
     "text": [
      "{\"message\": \"Inserting phantom class: Healthy/Background\", \"time\": \"2023-11-04T05:59:57.273302\"}\n"
     ]
    },
    {
     "name": "stderr",
     "output_type": "stream",
     "text": [
      "{\"message\": \"Inserting phantom class: Healthy/Background\", \"time\": \"2023-11-04T05:59:57.300587\"}\n"
     ]
    },
    {
     "name": "stderr",
     "output_type": "stream",
     "text": [
      "{\"message\": \"Inserting phantom class: Healthy/Background\", \"time\": \"2023-11-04T05:59:57.314770\"}\n"
     ]
    },
    {
     "name": "stderr",
     "output_type": "stream",
     "text": [
      "{\"message\": \"Inserting phantom class: Healthy/Background\", \"time\": \"2023-11-04T05:59:57.329675\"}\n"
     ]
    },
    {
     "name": "stderr",
     "output_type": "stream",
     "text": [
      "{\"message\": \"Inserting phantom class: Healthy/Background\", \"time\": \"2023-11-04T05:59:57.355425\"}\n"
     ]
    },
    {
     "name": "stderr",
     "output_type": "stream",
     "text": [
      "{\"message\": \"Inserting phantom class: Healthy/Background\", \"time\": \"2023-11-04T05:59:57.381543\"}\n"
     ]
    },
    {
     "name": "stderr",
     "output_type": "stream",
     "text": [
      "{\"message\": \"Inserting phantom class: Healthy/Background\", \"time\": \"2023-11-04T05:59:57.394619\"}\n"
     ]
    },
    {
     "name": "stderr",
     "output_type": "stream",
     "text": [
      "{\"message\": \"Inserting phantom class: Healthy/Background\", \"time\": \"2023-11-04T05:59:57.412761\"}\n"
     ]
    },
    {
     "name": "stderr",
     "output_type": "stream",
     "text": [
      "{\"message\": \"Inserting phantom class: Healthy/Background\", \"time\": \"2023-11-04T05:59:57.440111\"}\n"
     ]
    },
    {
     "name": "stderr",
     "output_type": "stream",
     "text": [
      "{\"message\": \"Inserting phantom class: Healthy/Background\", \"time\": \"2023-11-04T05:59:57.468378\"}\n"
     ]
    },
    {
     "name": "stderr",
     "output_type": "stream",
     "text": [
      "{\"message\": \"Inserting phantom class: Healthy/Background\", \"time\": \"2023-11-04T05:59:57.482518\"}\n"
     ]
    },
    {
     "name": "stderr",
     "output_type": "stream",
     "text": [
      "{\"message\": \"Inserting phantom class: Healthy/Background\", \"time\": \"2023-11-04T05:59:57.514467\"}\n"
     ]
    },
    {
     "name": "stderr",
     "output_type": "stream",
     "text": [
      "{\"message\": \"Inserting phantom class: Healthy/Background\", \"time\": \"2023-11-04T05:59:57.543246\"}\n"
     ]
    },
    {
     "name": "stderr",
     "output_type": "stream",
     "text": [
      "{\"message\": \"Inserting phantom class: Healthy/Background\", \"time\": \"2023-11-04T05:59:57.570801\"}\n"
     ]
    },
    {
     "name": "stderr",
     "output_type": "stream",
     "text": [
      "{\"message\": \"Inserting phantom class: Healthy/Background\", \"time\": \"2023-11-04T05:59:57.583740\"}\n"
     ]
    },
    {
     "name": "stderr",
     "output_type": "stream",
     "text": [
      "{\"message\": \"Inserting phantom class: Healthy/Background\", \"time\": \"2023-11-04T05:59:57.598233\"}\n"
     ]
    },
    {
     "name": "stderr",
     "output_type": "stream",
     "text": [
      "{\"message\": \"Inserting phantom class: Healthy/Background\", \"time\": \"2023-11-04T05:59:57.624734\"}\n"
     ]
    },
    {
     "name": "stderr",
     "output_type": "stream",
     "text": [
      "{\"message\": \"Inserting phantom class: Healthy/Background\", \"time\": \"2023-11-04T05:59:57.650920\"}\n"
     ]
    },
    {
     "name": "stderr",
     "output_type": "stream",
     "text": [
      "{\"message\": \"Inserting phantom class: Healthy/Background\", \"time\": \"2023-11-04T05:59:57.664099\"}\n"
     ]
    },
    {
     "name": "stderr",
     "output_type": "stream",
     "text": [
      "{\"message\": \"Inserting phantom class: Healthy/Background\", \"time\": \"2023-11-04T05:59:57.678489\"}\n"
     ]
    },
    {
     "name": "stderr",
     "output_type": "stream",
     "text": [
      "{\"message\": \"Inserting phantom class: Healthy/Background\", \"time\": \"2023-11-04T05:59:57.704971\"}\n"
     ]
    },
    {
     "name": "stderr",
     "output_type": "stream",
     "text": [
      "{\"message\": \"Inserting phantom class: Healthy/Background\", \"time\": \"2023-11-04T05:59:57.730836\"}\n"
     ]
    },
    {
     "name": "stderr",
     "output_type": "stream",
     "text": [
      "{\"message\": \"Inserting phantom class: Healthy/Background\", \"time\": \"2023-11-04T05:59:57.744970\"}\n"
     ]
    },
    {
     "data": {
      "text/html": [
       "<div>\n",
       "<style scoped>\n",
       "    .dataframe tbody tr th:only-of-type {\n",
       "        vertical-align: middle;\n",
       "    }\n",
       "\n",
       "    .dataframe tbody tr th {\n",
       "        vertical-align: top;\n",
       "    }\n",
       "\n",
       "    .dataframe thead th {\n",
       "        text-align: right;\n",
       "    }\n",
       "</style>\n",
       "<table border=\"1\" class=\"dataframe\">\n",
       "  <thead>\n",
       "    <tr style=\"text-align: right;\">\n",
       "      <th></th>\n",
       "      <th>ROC-AUC (weighted OvO) per fold</th>\n",
       "      <th>ROC-AUC (macro OvO) per fold</th>\n",
       "      <th>au-PRC (weighted OvO) per fold</th>\n",
       "      <th>au-PRC (macro OvO) per fold</th>\n",
       "      <th>Accuracy per fold</th>\n",
       "      <th>MCC per fold</th>\n",
       "      <th>Accuracy global</th>\n",
       "      <th>MCC global</th>\n",
       "      <th>Global evaluation column name global</th>\n",
       "      <th>Accuracy per fold with abstention</th>\n",
       "      <th>...</th>\n",
       "      <th>Accuracy global with abstention</th>\n",
       "      <th>MCC global with abstention</th>\n",
       "      <th>Unknown/abstention proportion global with abstention</th>\n",
       "      <th>Abstention label global with abstention</th>\n",
       "      <th>Global evaluation column name global with abstention</th>\n",
       "      <th>sample_size</th>\n",
       "      <th>n_abstentions</th>\n",
       "      <th>sample_size including abstentions</th>\n",
       "      <th>abstention_rate</th>\n",
       "      <th>missing_classes</th>\n",
       "    </tr>\n",
       "  </thead>\n",
       "  <tbody>\n",
       "    <tr>\n",
       "      <th>ridge_cv</th>\n",
       "      <td>0.861 +/- 0.022 (in 3 folds)</td>\n",
       "      <td>0.876 +/- 0.022 (in 3 folds)</td>\n",
       "      <td>0.871 +/- 0.020 (in 3 folds)</td>\n",
       "      <td>0.887 +/- 0.017 (in 3 folds)</td>\n",
       "      <td>0.581 +/- 0.012 (in 3 folds)</td>\n",
       "      <td>0.493 +/- 0.054 (in 3 folds)</td>\n",
       "      <td>0.581</td>\n",
       "      <td>0.488</td>\n",
       "      <td>disease.separate_past_exposures</td>\n",
       "      <td>0.571 +/- 0.008 (in 3 folds)</td>\n",
       "      <td>...</td>\n",
       "      <td>0.571</td>\n",
       "      <td>0.478</td>\n",
       "      <td>0.017</td>\n",
       "      <td>Unknown</td>\n",
       "      <td>disease.separate_past_exposures</td>\n",
       "      <td>403</td>\n",
       "      <td>7</td>\n",
       "      <td>410</td>\n",
       "      <td>0.017073</td>\n",
       "      <td>False</td>\n",
       "    </tr>\n",
       "    <tr>\n",
       "      <th>ridge_cv.decision_thresholds_tuned</th>\n",
       "      <td>0.861 +/- 0.022 (in 3 folds)</td>\n",
       "      <td>0.876 +/- 0.022 (in 3 folds)</td>\n",
       "      <td>0.871 +/- 0.020 (in 3 folds)</td>\n",
       "      <td>0.887 +/- 0.017 (in 3 folds)</td>\n",
       "      <td>0.627 +/- 0.049 (in 3 folds)</td>\n",
       "      <td>0.580 +/- 0.038 (in 3 folds)</td>\n",
       "      <td>0.628</td>\n",
       "      <td>0.576</td>\n",
       "      <td>disease.separate_past_exposures</td>\n",
       "      <td>0.617 +/- 0.046 (in 3 folds)</td>\n",
       "      <td>...</td>\n",
       "      <td>0.617</td>\n",
       "      <td>0.563</td>\n",
       "      <td>0.017</td>\n",
       "      <td>Unknown</td>\n",
       "      <td>disease.separate_past_exposures</td>\n",
       "      <td>403</td>\n",
       "      <td>7</td>\n",
       "      <td>410</td>\n",
       "      <td>0.017073</td>\n",
       "      <td>False</td>\n",
       "    </tr>\n",
       "    <tr>\n",
       "      <th>linearsvm_ovr</th>\n",
       "      <td>0.861 +/- 0.009 (in 3 folds)</td>\n",
       "      <td>0.873 +/- 0.008 (in 3 folds)</td>\n",
       "      <td>0.872 +/- 0.015 (in 3 folds)</td>\n",
       "      <td>0.887 +/- 0.014 (in 3 folds)</td>\n",
       "      <td>0.564 +/- 0.031 (in 3 folds)</td>\n",
       "      <td>0.433 +/- 0.032 (in 3 folds)</td>\n",
       "      <td>0.564</td>\n",
       "      <td>0.430</td>\n",
       "      <td>disease.separate_past_exposures</td>\n",
       "      <td>0.558 +/- 0.028 (in 3 folds)</td>\n",
       "      <td>...</td>\n",
       "      <td>0.559</td>\n",
       "      <td>0.426</td>\n",
       "      <td>0.010</td>\n",
       "      <td>Unknown</td>\n",
       "      <td>disease.separate_past_exposures</td>\n",
       "      <td>406</td>\n",
       "      <td>4</td>\n",
       "      <td>410</td>\n",
       "      <td>0.009756</td>\n",
       "      <td>False</td>\n",
       "    </tr>\n",
       "    <tr>\n",
       "      <th>linearsvm_ovr.decision_thresholds_tuned</th>\n",
       "      <td>0.861 +/- 0.009 (in 3 folds)</td>\n",
       "      <td>0.873 +/- 0.008 (in 3 folds)</td>\n",
       "      <td>0.872 +/- 0.015 (in 3 folds)</td>\n",
       "      <td>0.887 +/- 0.014 (in 3 folds)</td>\n",
       "      <td>0.638 +/- 0.036 (in 3 folds)</td>\n",
       "      <td>0.583 +/- 0.040 (in 3 folds)</td>\n",
       "      <td>0.638</td>\n",
       "      <td>0.580</td>\n",
       "      <td>disease.separate_past_exposures</td>\n",
       "      <td>0.631 +/- 0.033 (in 3 folds)</td>\n",
       "      <td>...</td>\n",
       "      <td>0.632</td>\n",
       "      <td>0.574</td>\n",
       "      <td>0.010</td>\n",
       "      <td>Unknown</td>\n",
       "      <td>disease.separate_past_exposures</td>\n",
       "      <td>406</td>\n",
       "      <td>4</td>\n",
       "      <td>410</td>\n",
       "      <td>0.009756</td>\n",
       "      <td>False</td>\n",
       "    </tr>\n",
       "    <tr>\n",
       "      <th>elasticnet_cv</th>\n",
       "      <td>0.840 +/- 0.023 (in 3 folds)</td>\n",
       "      <td>0.846 +/- 0.024 (in 3 folds)</td>\n",
       "      <td>0.853 +/- 0.023 (in 3 folds)</td>\n",
       "      <td>0.864 +/- 0.024 (in 3 folds)</td>\n",
       "      <td>0.562 +/- 0.034 (in 3 folds)</td>\n",
       "      <td>0.436 +/- 0.035 (in 3 folds)</td>\n",
       "      <td>0.563</td>\n",
       "      <td>0.433</td>\n",
       "      <td>disease.separate_past_exposures</td>\n",
       "      <td>0.558 +/- 0.034 (in 3 folds)</td>\n",
       "      <td>...</td>\n",
       "      <td>0.559</td>\n",
       "      <td>0.430</td>\n",
       "      <td>0.007</td>\n",
       "      <td>Unknown</td>\n",
       "      <td>disease.separate_past_exposures</td>\n",
       "      <td>407</td>\n",
       "      <td>3</td>\n",
       "      <td>410</td>\n",
       "      <td>0.007317</td>\n",
       "      <td>True</td>\n",
       "    </tr>\n",
       "    <tr>\n",
       "      <th>elasticnet_cv.decision_thresholds_tuned</th>\n",
       "      <td>0.840 +/- 0.023 (in 3 folds)</td>\n",
       "      <td>0.846 +/- 0.024 (in 3 folds)</td>\n",
       "      <td>0.853 +/- 0.023 (in 3 folds)</td>\n",
       "      <td>0.864 +/- 0.024 (in 3 folds)</td>\n",
       "      <td>0.617 +/- 0.034 (in 3 folds)</td>\n",
       "      <td>0.535 +/- 0.025 (in 3 folds)</td>\n",
       "      <td>0.617</td>\n",
       "      <td>0.527</td>\n",
       "      <td>disease.separate_past_exposures</td>\n",
       "      <td>0.612 +/- 0.034 (in 3 folds)</td>\n",
       "      <td>...</td>\n",
       "      <td>0.612</td>\n",
       "      <td>0.522</td>\n",
       "      <td>0.007</td>\n",
       "      <td>Unknown</td>\n",
       "      <td>disease.separate_past_exposures</td>\n",
       "      <td>407</td>\n",
       "      <td>3</td>\n",
       "      <td>410</td>\n",
       "      <td>0.007317</td>\n",
       "      <td>False</td>\n",
       "    </tr>\n",
       "    <tr>\n",
       "      <th>elasticnet_cv0.25</th>\n",
       "      <td>0.840 +/- 0.023 (in 3 folds)</td>\n",
       "      <td>0.848 +/- 0.024 (in 3 folds)</td>\n",
       "      <td>0.856 +/- 0.025 (in 3 folds)</td>\n",
       "      <td>0.867 +/- 0.026 (in 3 folds)</td>\n",
       "      <td>0.560 +/- 0.030 (in 3 folds)</td>\n",
       "      <td>0.432 +/- 0.029 (in 3 folds)</td>\n",
       "      <td>0.560</td>\n",
       "      <td>0.430</td>\n",
       "      <td>disease.separate_past_exposures</td>\n",
       "      <td>0.556 +/- 0.030 (in 3 folds)</td>\n",
       "      <td>...</td>\n",
       "      <td>0.556</td>\n",
       "      <td>0.426</td>\n",
       "      <td>0.007</td>\n",
       "      <td>Unknown</td>\n",
       "      <td>disease.separate_past_exposures</td>\n",
       "      <td>407</td>\n",
       "      <td>3</td>\n",
       "      <td>410</td>\n",
       "      <td>0.007317</td>\n",
       "      <td>True</td>\n",
       "    </tr>\n",
       "    <tr>\n",
       "      <th>elasticnet_cv0.25.decision_thresholds_tuned</th>\n",
       "      <td>0.840 +/- 0.023 (in 3 folds)</td>\n",
       "      <td>0.848 +/- 0.024 (in 3 folds)</td>\n",
       "      <td>0.856 +/- 0.025 (in 3 folds)</td>\n",
       "      <td>0.867 +/- 0.026 (in 3 folds)</td>\n",
       "      <td>0.617 +/- 0.034 (in 3 folds)</td>\n",
       "      <td>0.536 +/- 0.025 (in 3 folds)</td>\n",
       "      <td>0.617</td>\n",
       "      <td>0.528</td>\n",
       "      <td>disease.separate_past_exposures</td>\n",
       "      <td>0.612 +/- 0.034 (in 3 folds)</td>\n",
       "      <td>...</td>\n",
       "      <td>0.612</td>\n",
       "      <td>0.523</td>\n",
       "      <td>0.007</td>\n",
       "      <td>Unknown</td>\n",
       "      <td>disease.separate_past_exposures</td>\n",
       "      <td>407</td>\n",
       "      <td>3</td>\n",
       "      <td>410</td>\n",
       "      <td>0.007317</td>\n",
       "      <td>False</td>\n",
       "    </tr>\n",
       "    <tr>\n",
       "      <th>elasticnet_cv0.75</th>\n",
       "      <td>0.840 +/- 0.022 (in 3 folds)</td>\n",
       "      <td>0.846 +/- 0.023 (in 3 folds)</td>\n",
       "      <td>0.852 +/- 0.020 (in 3 folds)</td>\n",
       "      <td>0.861 +/- 0.021 (in 3 folds)</td>\n",
       "      <td>0.565 +/- 0.026 (in 3 folds)</td>\n",
       "      <td>0.438 +/- 0.026 (in 3 folds)</td>\n",
       "      <td>0.565</td>\n",
       "      <td>0.435</td>\n",
       "      <td>disease.separate_past_exposures</td>\n",
       "      <td>0.561 +/- 0.026 (in 3 folds)</td>\n",
       "      <td>...</td>\n",
       "      <td>0.561</td>\n",
       "      <td>0.432</td>\n",
       "      <td>0.007</td>\n",
       "      <td>Unknown</td>\n",
       "      <td>disease.separate_past_exposures</td>\n",
       "      <td>407</td>\n",
       "      <td>3</td>\n",
       "      <td>410</td>\n",
       "      <td>0.007317</td>\n",
       "      <td>True</td>\n",
       "    </tr>\n",
       "    <tr>\n",
       "      <th>elasticnet_cv0.75.decision_thresholds_tuned</th>\n",
       "      <td>0.840 +/- 0.022 (in 3 folds)</td>\n",
       "      <td>0.846 +/- 0.023 (in 3 folds)</td>\n",
       "      <td>0.852 +/- 0.020 (in 3 folds)</td>\n",
       "      <td>0.861 +/- 0.021 (in 3 folds)</td>\n",
       "      <td>0.619 +/- 0.031 (in 3 folds)</td>\n",
       "      <td>0.539 +/- 0.020 (in 3 folds)</td>\n",
       "      <td>0.619</td>\n",
       "      <td>0.531</td>\n",
       "      <td>disease.separate_past_exposures</td>\n",
       "      <td>0.614 +/- 0.031 (in 3 folds)</td>\n",
       "      <td>...</td>\n",
       "      <td>0.615</td>\n",
       "      <td>0.526</td>\n",
       "      <td>0.007</td>\n",
       "      <td>Unknown</td>\n",
       "      <td>disease.separate_past_exposures</td>\n",
       "      <td>407</td>\n",
       "      <td>3</td>\n",
       "      <td>410</td>\n",
       "      <td>0.007317</td>\n",
       "      <td>False</td>\n",
       "    </tr>\n",
       "    <tr>\n",
       "      <th>logisticregression_unregularized</th>\n",
       "      <td>0.839 +/- 0.029 (in 3 folds)</td>\n",
       "      <td>0.848 +/- 0.029 (in 3 folds)</td>\n",
       "      <td>0.848 +/- 0.033 (in 3 folds)</td>\n",
       "      <td>0.860 +/- 0.032 (in 3 folds)</td>\n",
       "      <td>0.565 +/- 0.035 (in 3 folds)</td>\n",
       "      <td>0.434 +/- 0.040 (in 3 folds)</td>\n",
       "      <td>0.565</td>\n",
       "      <td>0.433</td>\n",
       "      <td>disease.separate_past_exposures</td>\n",
       "      <td>0.561 +/- 0.034 (in 3 folds)</td>\n",
       "      <td>...</td>\n",
       "      <td>0.561</td>\n",
       "      <td>0.429</td>\n",
       "      <td>0.007</td>\n",
       "      <td>Unknown</td>\n",
       "      <td>disease.separate_past_exposures</td>\n",
       "      <td>407</td>\n",
       "      <td>3</td>\n",
       "      <td>410</td>\n",
       "      <td>0.007317</td>\n",
       "      <td>True</td>\n",
       "    </tr>\n",
       "    <tr>\n",
       "      <th>logisticregression_unregularized.decision_thresholds_tuned</th>\n",
       "      <td>0.839 +/- 0.029 (in 3 folds)</td>\n",
       "      <td>0.848 +/- 0.029 (in 3 folds)</td>\n",
       "      <td>0.848 +/- 0.033 (in 3 folds)</td>\n",
       "      <td>0.860 +/- 0.032 (in 3 folds)</td>\n",
       "      <td>0.619 +/- 0.031 (in 3 folds)</td>\n",
       "      <td>0.534 +/- 0.031 (in 3 folds)</td>\n",
       "      <td>0.619</td>\n",
       "      <td>0.503</td>\n",
       "      <td>disease.separate_past_exposures</td>\n",
       "      <td>0.614 +/- 0.031 (in 3 folds)</td>\n",
       "      <td>...</td>\n",
       "      <td>0.615</td>\n",
       "      <td>0.498</td>\n",
       "      <td>0.007</td>\n",
       "      <td>Unknown</td>\n",
       "      <td>disease.separate_past_exposures</td>\n",
       "      <td>407</td>\n",
       "      <td>3</td>\n",
       "      <td>410</td>\n",
       "      <td>0.007317</td>\n",
       "      <td>False</td>\n",
       "    </tr>\n",
       "    <tr>\n",
       "      <th>lasso_cv.decision_thresholds_tuned</th>\n",
       "      <td>0.838 +/- 0.022 (in 3 folds)</td>\n",
       "      <td>0.842 +/- 0.021 (in 3 folds)</td>\n",
       "      <td>0.847 +/- 0.019 (in 3 folds)</td>\n",
       "      <td>0.855 +/- 0.017 (in 3 folds)</td>\n",
       "      <td>0.613 +/- 0.036 (in 3 folds)</td>\n",
       "      <td>0.547 +/- 0.040 (in 3 folds)</td>\n",
       "      <td>0.613</td>\n",
       "      <td>0.547</td>\n",
       "      <td>disease.separate_past_exposures</td>\n",
       "      <td>0.607 +/- 0.034 (in 3 folds)</td>\n",
       "      <td>...</td>\n",
       "      <td>0.607</td>\n",
       "      <td>0.540</td>\n",
       "      <td>0.010</td>\n",
       "      <td>Unknown</td>\n",
       "      <td>disease.separate_past_exposures</td>\n",
       "      <td>406</td>\n",
       "      <td>4</td>\n",
       "      <td>410</td>\n",
       "      <td>0.009756</td>\n",
       "      <td>False</td>\n",
       "    </tr>\n",
       "    <tr>\n",
       "      <th>lasso_cv</th>\n",
       "      <td>0.838 +/- 0.022 (in 3 folds)</td>\n",
       "      <td>0.842 +/- 0.021 (in 3 folds)</td>\n",
       "      <td>0.847 +/- 0.019 (in 3 folds)</td>\n",
       "      <td>0.855 +/- 0.017 (in 3 folds)</td>\n",
       "      <td>0.559 +/- 0.034 (in 3 folds)</td>\n",
       "      <td>0.429 +/- 0.034 (in 3 folds)</td>\n",
       "      <td>0.559</td>\n",
       "      <td>0.425</td>\n",
       "      <td>disease.separate_past_exposures</td>\n",
       "      <td>0.553 +/- 0.032 (in 3 folds)</td>\n",
       "      <td>...</td>\n",
       "      <td>0.554</td>\n",
       "      <td>0.420</td>\n",
       "      <td>0.010</td>\n",
       "      <td>Unknown</td>\n",
       "      <td>disease.separate_past_exposures</td>\n",
       "      <td>406</td>\n",
       "      <td>4</td>\n",
       "      <td>410</td>\n",
       "      <td>0.009756</td>\n",
       "      <td>True</td>\n",
       "    </tr>\n",
       "    <tr>\n",
       "      <th>xgboost</th>\n",
       "      <td>0.818 +/- 0.026 (in 3 folds)</td>\n",
       "      <td>0.822 +/- 0.026 (in 3 folds)</td>\n",
       "      <td>0.814 +/- 0.030 (in 3 folds)</td>\n",
       "      <td>0.819 +/- 0.034 (in 3 folds)</td>\n",
       "      <td>0.562 +/- 0.029 (in 3 folds)</td>\n",
       "      <td>0.435 +/- 0.043 (in 3 folds)</td>\n",
       "      <td>0.562</td>\n",
       "      <td>0.435</td>\n",
       "      <td>disease.separate_past_exposures</td>\n",
       "      <td>0.548 +/- 0.032 (in 3 folds)</td>\n",
       "      <td>...</td>\n",
       "      <td>0.549</td>\n",
       "      <td>0.422</td>\n",
       "      <td>0.024</td>\n",
       "      <td>Unknown</td>\n",
       "      <td>disease.separate_past_exposures</td>\n",
       "      <td>400</td>\n",
       "      <td>10</td>\n",
       "      <td>410</td>\n",
       "      <td>0.024390</td>\n",
       "      <td>False</td>\n",
       "    </tr>\n",
       "    <tr>\n",
       "      <th>xgboost.decision_thresholds_tuned</th>\n",
       "      <td>0.818 +/- 0.026 (in 3 folds)</td>\n",
       "      <td>0.822 +/- 0.026 (in 3 folds)</td>\n",
       "      <td>0.814 +/- 0.030 (in 3 folds)</td>\n",
       "      <td>0.819 +/- 0.034 (in 3 folds)</td>\n",
       "      <td>0.618 +/- 0.035 (in 3 folds)</td>\n",
       "      <td>0.524 +/- 0.037 (in 3 folds)</td>\n",
       "      <td>0.618</td>\n",
       "      <td>0.523</td>\n",
       "      <td>disease.separate_past_exposures</td>\n",
       "      <td>0.602 +/- 0.033 (in 3 folds)</td>\n",
       "      <td>...</td>\n",
       "      <td>0.602</td>\n",
       "      <td>0.506</td>\n",
       "      <td>0.024</td>\n",
       "      <td>Unknown</td>\n",
       "      <td>disease.separate_past_exposures</td>\n",
       "      <td>400</td>\n",
       "      <td>10</td>\n",
       "      <td>410</td>\n",
       "      <td>0.024390</td>\n",
       "      <td>False</td>\n",
       "    </tr>\n",
       "    <tr>\n",
       "      <th>rf_multiclass</th>\n",
       "      <td>0.816 +/- 0.022 (in 3 folds)</td>\n",
       "      <td>0.821 +/- 0.026 (in 3 folds)</td>\n",
       "      <td>0.814 +/- 0.025 (in 3 folds)</td>\n",
       "      <td>0.817 +/- 0.036 (in 3 folds)</td>\n",
       "      <td>0.583 +/- 0.014 (in 3 folds)</td>\n",
       "      <td>0.450 +/- 0.023 (in 3 folds)</td>\n",
       "      <td>0.583</td>\n",
       "      <td>0.450</td>\n",
       "      <td>disease.separate_past_exposures</td>\n",
       "      <td>0.575 +/- 0.010 (in 3 folds)</td>\n",
       "      <td>...</td>\n",
       "      <td>0.576</td>\n",
       "      <td>0.444</td>\n",
       "      <td>0.012</td>\n",
       "      <td>Unknown</td>\n",
       "      <td>disease.separate_past_exposures</td>\n",
       "      <td>405</td>\n",
       "      <td>5</td>\n",
       "      <td>410</td>\n",
       "      <td>0.012195</td>\n",
       "      <td>False</td>\n",
       "    </tr>\n",
       "    <tr>\n",
       "      <th>rf_multiclass.decision_thresholds_tuned</th>\n",
       "      <td>0.816 +/- 0.022 (in 3 folds)</td>\n",
       "      <td>0.821 +/- 0.026 (in 3 folds)</td>\n",
       "      <td>0.814 +/- 0.025 (in 3 folds)</td>\n",
       "      <td>0.817 +/- 0.036 (in 3 folds)</td>\n",
       "      <td>0.622 +/- 0.029 (in 3 folds)</td>\n",
       "      <td>0.535 +/- 0.030 (in 3 folds)</td>\n",
       "      <td>0.622</td>\n",
       "      <td>0.524</td>\n",
       "      <td>disease.separate_past_exposures</td>\n",
       "      <td>0.614 +/- 0.025 (in 3 folds)</td>\n",
       "      <td>...</td>\n",
       "      <td>0.615</td>\n",
       "      <td>0.516</td>\n",
       "      <td>0.012</td>\n",
       "      <td>Unknown</td>\n",
       "      <td>disease.separate_past_exposures</td>\n",
       "      <td>405</td>\n",
       "      <td>5</td>\n",
       "      <td>410</td>\n",
       "      <td>0.012195</td>\n",
       "      <td>False</td>\n",
       "    </tr>\n",
       "    <tr>\n",
       "      <th>elasticnet_cv_each_disease_versus_healthy</th>\n",
       "      <td>0.747 +/- 0.010 (in 3 folds)</td>\n",
       "      <td>0.772 +/- 0.013 (in 3 folds)</td>\n",
       "      <td>0.797 +/- 0.012 (in 3 folds)</td>\n",
       "      <td>0.819 +/- 0.016 (in 3 folds)</td>\n",
       "      <td>0.401 +/- 0.029 (in 3 folds)</td>\n",
       "      <td>0.374 +/- 0.031 (in 3 folds)</td>\n",
       "      <td>0.400</td>\n",
       "      <td>0.371</td>\n",
       "      <td>disease.separate_past_exposures</td>\n",
       "      <td>0.393 +/- 0.020 (in 3 folds)</td>\n",
       "      <td>...</td>\n",
       "      <td>0.393</td>\n",
       "      <td>0.356</td>\n",
       "      <td>0.020</td>\n",
       "      <td>Unknown</td>\n",
       "      <td>disease.separate_past_exposures</td>\n",
       "      <td>402</td>\n",
       "      <td>8</td>\n",
       "      <td>410</td>\n",
       "      <td>0.019512</td>\n",
       "      <td>True</td>\n",
       "    </tr>\n",
       "    <tr>\n",
       "      <th>elasticnet_cv_each_disease_versus_healthy.decision_thresholds_tuned</th>\n",
       "      <td>0.747 +/- 0.010 (in 3 folds)</td>\n",
       "      <td>0.772 +/- 0.013 (in 3 folds)</td>\n",
       "      <td>0.797 +/- 0.012 (in 3 folds)</td>\n",
       "      <td>0.819 +/- 0.016 (in 3 folds)</td>\n",
       "      <td>0.414 +/- 0.033 (in 3 folds)</td>\n",
       "      <td>0.398 +/- 0.040 (in 3 folds)</td>\n",
       "      <td>0.413</td>\n",
       "      <td>0.395</td>\n",
       "      <td>disease.separate_past_exposures</td>\n",
       "      <td>0.405 +/- 0.024 (in 3 folds)</td>\n",
       "      <td>...</td>\n",
       "      <td>0.405</td>\n",
       "      <td>0.379</td>\n",
       "      <td>0.020</td>\n",
       "      <td>Unknown</td>\n",
       "      <td>disease.separate_past_exposures</td>\n",
       "      <td>402</td>\n",
       "      <td>8</td>\n",
       "      <td>410</td>\n",
       "      <td>0.019512</td>\n",
       "      <td>True</td>\n",
       "    </tr>\n",
       "    <tr>\n",
       "      <th>dummy_stratified.decision_thresholds_tuned</th>\n",
       "      <td>0.515 +/- 0.006 (in 3 folds)</td>\n",
       "      <td>0.510 +/- 0.011 (in 3 folds)</td>\n",
       "      <td>0.515 +/- 0.004 (in 3 folds)</td>\n",
       "      <td>0.513 +/- 0.006 (in 3 folds)</td>\n",
       "      <td>0.243 +/- 0.012 (in 3 folds)</td>\n",
       "      <td>0.036 +/- 0.009 (in 3 folds)</td>\n",
       "      <td>0.243</td>\n",
       "      <td>0.037</td>\n",
       "      <td>disease.separate_past_exposures</td>\n",
       "      <td>0.232 +/- 0.006 (in 3 folds)</td>\n",
       "      <td>...</td>\n",
       "      <td>0.232</td>\n",
       "      <td>0.036</td>\n",
       "      <td>0.046</td>\n",
       "      <td>Unknown</td>\n",
       "      <td>disease.separate_past_exposures</td>\n",
       "      <td>391</td>\n",
       "      <td>19</td>\n",
       "      <td>410</td>\n",
       "      <td>0.046341</td>\n",
       "      <td>False</td>\n",
       "    </tr>\n",
       "    <tr>\n",
       "      <th>dummy_stratified</th>\n",
       "      <td>0.515 +/- 0.006 (in 3 folds)</td>\n",
       "      <td>0.510 +/- 0.011 (in 3 folds)</td>\n",
       "      <td>0.515 +/- 0.004 (in 3 folds)</td>\n",
       "      <td>0.513 +/- 0.006 (in 3 folds)</td>\n",
       "      <td>0.243 +/- 0.012 (in 3 folds)</td>\n",
       "      <td>0.036 +/- 0.009 (in 3 folds)</td>\n",
       "      <td>0.243</td>\n",
       "      <td>0.037</td>\n",
       "      <td>disease.separate_past_exposures</td>\n",
       "      <td>0.232 +/- 0.006 (in 3 folds)</td>\n",
       "      <td>...</td>\n",
       "      <td>0.232</td>\n",
       "      <td>0.036</td>\n",
       "      <td>0.046</td>\n",
       "      <td>Unknown</td>\n",
       "      <td>disease.separate_past_exposures</td>\n",
       "      <td>391</td>\n",
       "      <td>19</td>\n",
       "      <td>410</td>\n",
       "      <td>0.046341</td>\n",
       "      <td>False</td>\n",
       "    </tr>\n",
       "    <tr>\n",
       "      <th>dummy_most_frequent.decision_thresholds_tuned</th>\n",
       "      <td>0.500 +/- 0.000 (in 3 folds)</td>\n",
       "      <td>0.500 +/- 0.000 (in 3 folds)</td>\n",
       "      <td>0.500 +/- 0.000 (in 3 folds)</td>\n",
       "      <td>0.500 +/- 0.000 (in 3 folds)</td>\n",
       "      <td>0.375 +/- 0.010 (in 3 folds)</td>\n",
       "      <td>0.000 +/- 0.000 (in 3 folds)</td>\n",
       "      <td>0.375</td>\n",
       "      <td>0.000</td>\n",
       "      <td>disease.separate_past_exposures</td>\n",
       "      <td>0.354 +/- 0.007 (in 3 folds)</td>\n",
       "      <td>...</td>\n",
       "      <td>0.354</td>\n",
       "      <td>0.029</td>\n",
       "      <td>0.056</td>\n",
       "      <td>Unknown</td>\n",
       "      <td>disease.separate_past_exposures</td>\n",
       "      <td>387</td>\n",
       "      <td>23</td>\n",
       "      <td>410</td>\n",
       "      <td>0.056098</td>\n",
       "      <td>True</td>\n",
       "    </tr>\n",
       "    <tr>\n",
       "      <th>dummy_most_frequent</th>\n",
       "      <td>0.500 +/- 0.000 (in 3 folds)</td>\n",
       "      <td>0.500 +/- 0.000 (in 3 folds)</td>\n",
       "      <td>0.500 +/- 0.000 (in 3 folds)</td>\n",
       "      <td>0.500 +/- 0.000 (in 3 folds)</td>\n",
       "      <td>0.375 +/- 0.010 (in 3 folds)</td>\n",
       "      <td>0.000 +/- 0.000 (in 3 folds)</td>\n",
       "      <td>0.375</td>\n",
       "      <td>0.000</td>\n",
       "      <td>disease.separate_past_exposures</td>\n",
       "      <td>0.354 +/- 0.007 (in 3 folds)</td>\n",
       "      <td>...</td>\n",
       "      <td>0.354</td>\n",
       "      <td>0.029</td>\n",
       "      <td>0.056</td>\n",
       "      <td>Unknown</td>\n",
       "      <td>disease.separate_past_exposures</td>\n",
       "      <td>387</td>\n",
       "      <td>23</td>\n",
       "      <td>410</td>\n",
       "      <td>0.056098</td>\n",
       "      <td>True</td>\n",
       "    </tr>\n",
       "  </tbody>\n",
       "</table>\n",
       "<p>24 rows × 22 columns</p>\n",
       "</div>"
      ],
      "text/plain": [
       "                                                   ROC-AUC (weighted OvO) per fold  \\\n",
       "ridge_cv                                              0.861 +/- 0.022 (in 3 folds)   \n",
       "ridge_cv.decision_thresholds_tuned                    0.861 +/- 0.022 (in 3 folds)   \n",
       "linearsvm_ovr                                         0.861 +/- 0.009 (in 3 folds)   \n",
       "linearsvm_ovr.decision_thresholds_tuned               0.861 +/- 0.009 (in 3 folds)   \n",
       "elasticnet_cv                                         0.840 +/- 0.023 (in 3 folds)   \n",
       "elasticnet_cv.decision_thresholds_tuned               0.840 +/- 0.023 (in 3 folds)   \n",
       "elasticnet_cv0.25                                     0.840 +/- 0.023 (in 3 folds)   \n",
       "elasticnet_cv0.25.decision_thresholds_tuned           0.840 +/- 0.023 (in 3 folds)   \n",
       "elasticnet_cv0.75                                     0.840 +/- 0.022 (in 3 folds)   \n",
       "elasticnet_cv0.75.decision_thresholds_tuned           0.840 +/- 0.022 (in 3 folds)   \n",
       "logisticregression_unregularized                      0.839 +/- 0.029 (in 3 folds)   \n",
       "logisticregression_unregularized.decision_thres...    0.839 +/- 0.029 (in 3 folds)   \n",
       "lasso_cv.decision_thresholds_tuned                    0.838 +/- 0.022 (in 3 folds)   \n",
       "lasso_cv                                              0.838 +/- 0.022 (in 3 folds)   \n",
       "xgboost                                               0.818 +/- 0.026 (in 3 folds)   \n",
       "xgboost.decision_thresholds_tuned                     0.818 +/- 0.026 (in 3 folds)   \n",
       "rf_multiclass                                         0.816 +/- 0.022 (in 3 folds)   \n",
       "rf_multiclass.decision_thresholds_tuned               0.816 +/- 0.022 (in 3 folds)   \n",
       "elasticnet_cv_each_disease_versus_healthy             0.747 +/- 0.010 (in 3 folds)   \n",
       "elasticnet_cv_each_disease_versus_healthy.decis...    0.747 +/- 0.010 (in 3 folds)   \n",
       "dummy_stratified.decision_thresholds_tuned            0.515 +/- 0.006 (in 3 folds)   \n",
       "dummy_stratified                                      0.515 +/- 0.006 (in 3 folds)   \n",
       "dummy_most_frequent.decision_thresholds_tuned         0.500 +/- 0.000 (in 3 folds)   \n",
       "dummy_most_frequent                                   0.500 +/- 0.000 (in 3 folds)   \n",
       "\n",
       "                                                    ROC-AUC (macro OvO) per fold  \\\n",
       "ridge_cv                                            0.876 +/- 0.022 (in 3 folds)   \n",
       "ridge_cv.decision_thresholds_tuned                  0.876 +/- 0.022 (in 3 folds)   \n",
       "linearsvm_ovr                                       0.873 +/- 0.008 (in 3 folds)   \n",
       "linearsvm_ovr.decision_thresholds_tuned             0.873 +/- 0.008 (in 3 folds)   \n",
       "elasticnet_cv                                       0.846 +/- 0.024 (in 3 folds)   \n",
       "elasticnet_cv.decision_thresholds_tuned             0.846 +/- 0.024 (in 3 folds)   \n",
       "elasticnet_cv0.25                                   0.848 +/- 0.024 (in 3 folds)   \n",
       "elasticnet_cv0.25.decision_thresholds_tuned         0.848 +/- 0.024 (in 3 folds)   \n",
       "elasticnet_cv0.75                                   0.846 +/- 0.023 (in 3 folds)   \n",
       "elasticnet_cv0.75.decision_thresholds_tuned         0.846 +/- 0.023 (in 3 folds)   \n",
       "logisticregression_unregularized                    0.848 +/- 0.029 (in 3 folds)   \n",
       "logisticregression_unregularized.decision_thres...  0.848 +/- 0.029 (in 3 folds)   \n",
       "lasso_cv.decision_thresholds_tuned                  0.842 +/- 0.021 (in 3 folds)   \n",
       "lasso_cv                                            0.842 +/- 0.021 (in 3 folds)   \n",
       "xgboost                                             0.822 +/- 0.026 (in 3 folds)   \n",
       "xgboost.decision_thresholds_tuned                   0.822 +/- 0.026 (in 3 folds)   \n",
       "rf_multiclass                                       0.821 +/- 0.026 (in 3 folds)   \n",
       "rf_multiclass.decision_thresholds_tuned             0.821 +/- 0.026 (in 3 folds)   \n",
       "elasticnet_cv_each_disease_versus_healthy           0.772 +/- 0.013 (in 3 folds)   \n",
       "elasticnet_cv_each_disease_versus_healthy.decis...  0.772 +/- 0.013 (in 3 folds)   \n",
       "dummy_stratified.decision_thresholds_tuned          0.510 +/- 0.011 (in 3 folds)   \n",
       "dummy_stratified                                    0.510 +/- 0.011 (in 3 folds)   \n",
       "dummy_most_frequent.decision_thresholds_tuned       0.500 +/- 0.000 (in 3 folds)   \n",
       "dummy_most_frequent                                 0.500 +/- 0.000 (in 3 folds)   \n",
       "\n",
       "                                                   au-PRC (weighted OvO) per fold  \\\n",
       "ridge_cv                                             0.871 +/- 0.020 (in 3 folds)   \n",
       "ridge_cv.decision_thresholds_tuned                   0.871 +/- 0.020 (in 3 folds)   \n",
       "linearsvm_ovr                                        0.872 +/- 0.015 (in 3 folds)   \n",
       "linearsvm_ovr.decision_thresholds_tuned              0.872 +/- 0.015 (in 3 folds)   \n",
       "elasticnet_cv                                        0.853 +/- 0.023 (in 3 folds)   \n",
       "elasticnet_cv.decision_thresholds_tuned              0.853 +/- 0.023 (in 3 folds)   \n",
       "elasticnet_cv0.25                                    0.856 +/- 0.025 (in 3 folds)   \n",
       "elasticnet_cv0.25.decision_thresholds_tuned          0.856 +/- 0.025 (in 3 folds)   \n",
       "elasticnet_cv0.75                                    0.852 +/- 0.020 (in 3 folds)   \n",
       "elasticnet_cv0.75.decision_thresholds_tuned          0.852 +/- 0.020 (in 3 folds)   \n",
       "logisticregression_unregularized                     0.848 +/- 0.033 (in 3 folds)   \n",
       "logisticregression_unregularized.decision_thres...   0.848 +/- 0.033 (in 3 folds)   \n",
       "lasso_cv.decision_thresholds_tuned                   0.847 +/- 0.019 (in 3 folds)   \n",
       "lasso_cv                                             0.847 +/- 0.019 (in 3 folds)   \n",
       "xgboost                                              0.814 +/- 0.030 (in 3 folds)   \n",
       "xgboost.decision_thresholds_tuned                    0.814 +/- 0.030 (in 3 folds)   \n",
       "rf_multiclass                                        0.814 +/- 0.025 (in 3 folds)   \n",
       "rf_multiclass.decision_thresholds_tuned              0.814 +/- 0.025 (in 3 folds)   \n",
       "elasticnet_cv_each_disease_versus_healthy            0.797 +/- 0.012 (in 3 folds)   \n",
       "elasticnet_cv_each_disease_versus_healthy.decis...   0.797 +/- 0.012 (in 3 folds)   \n",
       "dummy_stratified.decision_thresholds_tuned           0.515 +/- 0.004 (in 3 folds)   \n",
       "dummy_stratified                                     0.515 +/- 0.004 (in 3 folds)   \n",
       "dummy_most_frequent.decision_thresholds_tuned        0.500 +/- 0.000 (in 3 folds)   \n",
       "dummy_most_frequent                                  0.500 +/- 0.000 (in 3 folds)   \n",
       "\n",
       "                                                     au-PRC (macro OvO) per fold  \\\n",
       "ridge_cv                                            0.887 +/- 0.017 (in 3 folds)   \n",
       "ridge_cv.decision_thresholds_tuned                  0.887 +/- 0.017 (in 3 folds)   \n",
       "linearsvm_ovr                                       0.887 +/- 0.014 (in 3 folds)   \n",
       "linearsvm_ovr.decision_thresholds_tuned             0.887 +/- 0.014 (in 3 folds)   \n",
       "elasticnet_cv                                       0.864 +/- 0.024 (in 3 folds)   \n",
       "elasticnet_cv.decision_thresholds_tuned             0.864 +/- 0.024 (in 3 folds)   \n",
       "elasticnet_cv0.25                                   0.867 +/- 0.026 (in 3 folds)   \n",
       "elasticnet_cv0.25.decision_thresholds_tuned         0.867 +/- 0.026 (in 3 folds)   \n",
       "elasticnet_cv0.75                                   0.861 +/- 0.021 (in 3 folds)   \n",
       "elasticnet_cv0.75.decision_thresholds_tuned         0.861 +/- 0.021 (in 3 folds)   \n",
       "logisticregression_unregularized                    0.860 +/- 0.032 (in 3 folds)   \n",
       "logisticregression_unregularized.decision_thres...  0.860 +/- 0.032 (in 3 folds)   \n",
       "lasso_cv.decision_thresholds_tuned                  0.855 +/- 0.017 (in 3 folds)   \n",
       "lasso_cv                                            0.855 +/- 0.017 (in 3 folds)   \n",
       "xgboost                                             0.819 +/- 0.034 (in 3 folds)   \n",
       "xgboost.decision_thresholds_tuned                   0.819 +/- 0.034 (in 3 folds)   \n",
       "rf_multiclass                                       0.817 +/- 0.036 (in 3 folds)   \n",
       "rf_multiclass.decision_thresholds_tuned             0.817 +/- 0.036 (in 3 folds)   \n",
       "elasticnet_cv_each_disease_versus_healthy           0.819 +/- 0.016 (in 3 folds)   \n",
       "elasticnet_cv_each_disease_versus_healthy.decis...  0.819 +/- 0.016 (in 3 folds)   \n",
       "dummy_stratified.decision_thresholds_tuned          0.513 +/- 0.006 (in 3 folds)   \n",
       "dummy_stratified                                    0.513 +/- 0.006 (in 3 folds)   \n",
       "dummy_most_frequent.decision_thresholds_tuned       0.500 +/- 0.000 (in 3 folds)   \n",
       "dummy_most_frequent                                 0.500 +/- 0.000 (in 3 folds)   \n",
       "\n",
       "                                                               Accuracy per fold  \\\n",
       "ridge_cv                                            0.581 +/- 0.012 (in 3 folds)   \n",
       "ridge_cv.decision_thresholds_tuned                  0.627 +/- 0.049 (in 3 folds)   \n",
       "linearsvm_ovr                                       0.564 +/- 0.031 (in 3 folds)   \n",
       "linearsvm_ovr.decision_thresholds_tuned             0.638 +/- 0.036 (in 3 folds)   \n",
       "elasticnet_cv                                       0.562 +/- 0.034 (in 3 folds)   \n",
       "elasticnet_cv.decision_thresholds_tuned             0.617 +/- 0.034 (in 3 folds)   \n",
       "elasticnet_cv0.25                                   0.560 +/- 0.030 (in 3 folds)   \n",
       "elasticnet_cv0.25.decision_thresholds_tuned         0.617 +/- 0.034 (in 3 folds)   \n",
       "elasticnet_cv0.75                                   0.565 +/- 0.026 (in 3 folds)   \n",
       "elasticnet_cv0.75.decision_thresholds_tuned         0.619 +/- 0.031 (in 3 folds)   \n",
       "logisticregression_unregularized                    0.565 +/- 0.035 (in 3 folds)   \n",
       "logisticregression_unregularized.decision_thres...  0.619 +/- 0.031 (in 3 folds)   \n",
       "lasso_cv.decision_thresholds_tuned                  0.613 +/- 0.036 (in 3 folds)   \n",
       "lasso_cv                                            0.559 +/- 0.034 (in 3 folds)   \n",
       "xgboost                                             0.562 +/- 0.029 (in 3 folds)   \n",
       "xgboost.decision_thresholds_tuned                   0.618 +/- 0.035 (in 3 folds)   \n",
       "rf_multiclass                                       0.583 +/- 0.014 (in 3 folds)   \n",
       "rf_multiclass.decision_thresholds_tuned             0.622 +/- 0.029 (in 3 folds)   \n",
       "elasticnet_cv_each_disease_versus_healthy           0.401 +/- 0.029 (in 3 folds)   \n",
       "elasticnet_cv_each_disease_versus_healthy.decis...  0.414 +/- 0.033 (in 3 folds)   \n",
       "dummy_stratified.decision_thresholds_tuned          0.243 +/- 0.012 (in 3 folds)   \n",
       "dummy_stratified                                    0.243 +/- 0.012 (in 3 folds)   \n",
       "dummy_most_frequent.decision_thresholds_tuned       0.375 +/- 0.010 (in 3 folds)   \n",
       "dummy_most_frequent                                 0.375 +/- 0.010 (in 3 folds)   \n",
       "\n",
       "                                                                    MCC per fold  \\\n",
       "ridge_cv                                            0.493 +/- 0.054 (in 3 folds)   \n",
       "ridge_cv.decision_thresholds_tuned                  0.580 +/- 0.038 (in 3 folds)   \n",
       "linearsvm_ovr                                       0.433 +/- 0.032 (in 3 folds)   \n",
       "linearsvm_ovr.decision_thresholds_tuned             0.583 +/- 0.040 (in 3 folds)   \n",
       "elasticnet_cv                                       0.436 +/- 0.035 (in 3 folds)   \n",
       "elasticnet_cv.decision_thresholds_tuned             0.535 +/- 0.025 (in 3 folds)   \n",
       "elasticnet_cv0.25                                   0.432 +/- 0.029 (in 3 folds)   \n",
       "elasticnet_cv0.25.decision_thresholds_tuned         0.536 +/- 0.025 (in 3 folds)   \n",
       "elasticnet_cv0.75                                   0.438 +/- 0.026 (in 3 folds)   \n",
       "elasticnet_cv0.75.decision_thresholds_tuned         0.539 +/- 0.020 (in 3 folds)   \n",
       "logisticregression_unregularized                    0.434 +/- 0.040 (in 3 folds)   \n",
       "logisticregression_unregularized.decision_thres...  0.534 +/- 0.031 (in 3 folds)   \n",
       "lasso_cv.decision_thresholds_tuned                  0.547 +/- 0.040 (in 3 folds)   \n",
       "lasso_cv                                            0.429 +/- 0.034 (in 3 folds)   \n",
       "xgboost                                             0.435 +/- 0.043 (in 3 folds)   \n",
       "xgboost.decision_thresholds_tuned                   0.524 +/- 0.037 (in 3 folds)   \n",
       "rf_multiclass                                       0.450 +/- 0.023 (in 3 folds)   \n",
       "rf_multiclass.decision_thresholds_tuned             0.535 +/- 0.030 (in 3 folds)   \n",
       "elasticnet_cv_each_disease_versus_healthy           0.374 +/- 0.031 (in 3 folds)   \n",
       "elasticnet_cv_each_disease_versus_healthy.decis...  0.398 +/- 0.040 (in 3 folds)   \n",
       "dummy_stratified.decision_thresholds_tuned          0.036 +/- 0.009 (in 3 folds)   \n",
       "dummy_stratified                                    0.036 +/- 0.009 (in 3 folds)   \n",
       "dummy_most_frequent.decision_thresholds_tuned       0.000 +/- 0.000 (in 3 folds)   \n",
       "dummy_most_frequent                                 0.000 +/- 0.000 (in 3 folds)   \n",
       "\n",
       "                                                   Accuracy global MCC global  \\\n",
       "ridge_cv                                                     0.581      0.488   \n",
       "ridge_cv.decision_thresholds_tuned                           0.628      0.576   \n",
       "linearsvm_ovr                                                0.564      0.430   \n",
       "linearsvm_ovr.decision_thresholds_tuned                      0.638      0.580   \n",
       "elasticnet_cv                                                0.563      0.433   \n",
       "elasticnet_cv.decision_thresholds_tuned                      0.617      0.527   \n",
       "elasticnet_cv0.25                                            0.560      0.430   \n",
       "elasticnet_cv0.25.decision_thresholds_tuned                  0.617      0.528   \n",
       "elasticnet_cv0.75                                            0.565      0.435   \n",
       "elasticnet_cv0.75.decision_thresholds_tuned                  0.619      0.531   \n",
       "logisticregression_unregularized                             0.565      0.433   \n",
       "logisticregression_unregularized.decision_thres...           0.619      0.503   \n",
       "lasso_cv.decision_thresholds_tuned                           0.613      0.547   \n",
       "lasso_cv                                                     0.559      0.425   \n",
       "xgboost                                                      0.562      0.435   \n",
       "xgboost.decision_thresholds_tuned                            0.618      0.523   \n",
       "rf_multiclass                                                0.583      0.450   \n",
       "rf_multiclass.decision_thresholds_tuned                      0.622      0.524   \n",
       "elasticnet_cv_each_disease_versus_healthy                    0.400      0.371   \n",
       "elasticnet_cv_each_disease_versus_healthy.decis...           0.413      0.395   \n",
       "dummy_stratified.decision_thresholds_tuned                   0.243      0.037   \n",
       "dummy_stratified                                             0.243      0.037   \n",
       "dummy_most_frequent.decision_thresholds_tuned                0.375      0.000   \n",
       "dummy_most_frequent                                          0.375      0.000   \n",
       "\n",
       "                                                   Global evaluation column name global  \\\n",
       "ridge_cv                                                disease.separate_past_exposures   \n",
       "ridge_cv.decision_thresholds_tuned                      disease.separate_past_exposures   \n",
       "linearsvm_ovr                                           disease.separate_past_exposures   \n",
       "linearsvm_ovr.decision_thresholds_tuned                 disease.separate_past_exposures   \n",
       "elasticnet_cv                                           disease.separate_past_exposures   \n",
       "elasticnet_cv.decision_thresholds_tuned                 disease.separate_past_exposures   \n",
       "elasticnet_cv0.25                                       disease.separate_past_exposures   \n",
       "elasticnet_cv0.25.decision_thresholds_tuned             disease.separate_past_exposures   \n",
       "elasticnet_cv0.75                                       disease.separate_past_exposures   \n",
       "elasticnet_cv0.75.decision_thresholds_tuned             disease.separate_past_exposures   \n",
       "logisticregression_unregularized                        disease.separate_past_exposures   \n",
       "logisticregression_unregularized.decision_thres...      disease.separate_past_exposures   \n",
       "lasso_cv.decision_thresholds_tuned                      disease.separate_past_exposures   \n",
       "lasso_cv                                                disease.separate_past_exposures   \n",
       "xgboost                                                 disease.separate_past_exposures   \n",
       "xgboost.decision_thresholds_tuned                       disease.separate_past_exposures   \n",
       "rf_multiclass                                           disease.separate_past_exposures   \n",
       "rf_multiclass.decision_thresholds_tuned                 disease.separate_past_exposures   \n",
       "elasticnet_cv_each_disease_versus_healthy               disease.separate_past_exposures   \n",
       "elasticnet_cv_each_disease_versus_healthy.decis...      disease.separate_past_exposures   \n",
       "dummy_stratified.decision_thresholds_tuned              disease.separate_past_exposures   \n",
       "dummy_stratified                                        disease.separate_past_exposures   \n",
       "dummy_most_frequent.decision_thresholds_tuned           disease.separate_past_exposures   \n",
       "dummy_most_frequent                                     disease.separate_past_exposures   \n",
       "\n",
       "                                                   Accuracy per fold with abstention  \\\n",
       "ridge_cv                                                0.571 +/- 0.008 (in 3 folds)   \n",
       "ridge_cv.decision_thresholds_tuned                      0.617 +/- 0.046 (in 3 folds)   \n",
       "linearsvm_ovr                                           0.558 +/- 0.028 (in 3 folds)   \n",
       "linearsvm_ovr.decision_thresholds_tuned                 0.631 +/- 0.033 (in 3 folds)   \n",
       "elasticnet_cv                                           0.558 +/- 0.034 (in 3 folds)   \n",
       "elasticnet_cv.decision_thresholds_tuned                 0.612 +/- 0.034 (in 3 folds)   \n",
       "elasticnet_cv0.25                                       0.556 +/- 0.030 (in 3 folds)   \n",
       "elasticnet_cv0.25.decision_thresholds_tuned             0.612 +/- 0.034 (in 3 folds)   \n",
       "elasticnet_cv0.75                                       0.561 +/- 0.026 (in 3 folds)   \n",
       "elasticnet_cv0.75.decision_thresholds_tuned             0.614 +/- 0.031 (in 3 folds)   \n",
       "logisticregression_unregularized                        0.561 +/- 0.034 (in 3 folds)   \n",
       "logisticregression_unregularized.decision_thres...      0.614 +/- 0.031 (in 3 folds)   \n",
       "lasso_cv.decision_thresholds_tuned                      0.607 +/- 0.034 (in 3 folds)   \n",
       "lasso_cv                                                0.553 +/- 0.032 (in 3 folds)   \n",
       "xgboost                                                 0.548 +/- 0.032 (in 3 folds)   \n",
       "xgboost.decision_thresholds_tuned                       0.602 +/- 0.033 (in 3 folds)   \n",
       "rf_multiclass                                           0.575 +/- 0.010 (in 3 folds)   \n",
       "rf_multiclass.decision_thresholds_tuned                 0.614 +/- 0.025 (in 3 folds)   \n",
       "elasticnet_cv_each_disease_versus_healthy               0.393 +/- 0.020 (in 3 folds)   \n",
       "elasticnet_cv_each_disease_versus_healthy.decis...      0.405 +/- 0.024 (in 3 folds)   \n",
       "dummy_stratified.decision_thresholds_tuned              0.232 +/- 0.006 (in 3 folds)   \n",
       "dummy_stratified                                        0.232 +/- 0.006 (in 3 folds)   \n",
       "dummy_most_frequent.decision_thresholds_tuned           0.354 +/- 0.007 (in 3 folds)   \n",
       "dummy_most_frequent                                     0.354 +/- 0.007 (in 3 folds)   \n",
       "\n",
       "                                                    ...  \\\n",
       "ridge_cv                                            ...   \n",
       "ridge_cv.decision_thresholds_tuned                  ...   \n",
       "linearsvm_ovr                                       ...   \n",
       "linearsvm_ovr.decision_thresholds_tuned             ...   \n",
       "elasticnet_cv                                       ...   \n",
       "elasticnet_cv.decision_thresholds_tuned             ...   \n",
       "elasticnet_cv0.25                                   ...   \n",
       "elasticnet_cv0.25.decision_thresholds_tuned         ...   \n",
       "elasticnet_cv0.75                                   ...   \n",
       "elasticnet_cv0.75.decision_thresholds_tuned         ...   \n",
       "logisticregression_unregularized                    ...   \n",
       "logisticregression_unregularized.decision_thres...  ...   \n",
       "lasso_cv.decision_thresholds_tuned                  ...   \n",
       "lasso_cv                                            ...   \n",
       "xgboost                                             ...   \n",
       "xgboost.decision_thresholds_tuned                   ...   \n",
       "rf_multiclass                                       ...   \n",
       "rf_multiclass.decision_thresholds_tuned             ...   \n",
       "elasticnet_cv_each_disease_versus_healthy           ...   \n",
       "elasticnet_cv_each_disease_versus_healthy.decis...  ...   \n",
       "dummy_stratified.decision_thresholds_tuned          ...   \n",
       "dummy_stratified                                    ...   \n",
       "dummy_most_frequent.decision_thresholds_tuned       ...   \n",
       "dummy_most_frequent                                 ...   \n",
       "\n",
       "                                                   Accuracy global with abstention  \\\n",
       "ridge_cv                                                                     0.571   \n",
       "ridge_cv.decision_thresholds_tuned                                           0.617   \n",
       "linearsvm_ovr                                                                0.559   \n",
       "linearsvm_ovr.decision_thresholds_tuned                                      0.632   \n",
       "elasticnet_cv                                                                0.559   \n",
       "elasticnet_cv.decision_thresholds_tuned                                      0.612   \n",
       "elasticnet_cv0.25                                                            0.556   \n",
       "elasticnet_cv0.25.decision_thresholds_tuned                                  0.612   \n",
       "elasticnet_cv0.75                                                            0.561   \n",
       "elasticnet_cv0.75.decision_thresholds_tuned                                  0.615   \n",
       "logisticregression_unregularized                                             0.561   \n",
       "logisticregression_unregularized.decision_thres...                           0.615   \n",
       "lasso_cv.decision_thresholds_tuned                                           0.607   \n",
       "lasso_cv                                                                     0.554   \n",
       "xgboost                                                                      0.549   \n",
       "xgboost.decision_thresholds_tuned                                            0.602   \n",
       "rf_multiclass                                                                0.576   \n",
       "rf_multiclass.decision_thresholds_tuned                                      0.615   \n",
       "elasticnet_cv_each_disease_versus_healthy                                    0.393   \n",
       "elasticnet_cv_each_disease_versus_healthy.decis...                           0.405   \n",
       "dummy_stratified.decision_thresholds_tuned                                   0.232   \n",
       "dummy_stratified                                                             0.232   \n",
       "dummy_most_frequent.decision_thresholds_tuned                                0.354   \n",
       "dummy_most_frequent                                                          0.354   \n",
       "\n",
       "                                                   MCC global with abstention  \\\n",
       "ridge_cv                                                                0.478   \n",
       "ridge_cv.decision_thresholds_tuned                                      0.563   \n",
       "linearsvm_ovr                                                           0.426   \n",
       "linearsvm_ovr.decision_thresholds_tuned                                 0.574   \n",
       "elasticnet_cv                                                           0.430   \n",
       "elasticnet_cv.decision_thresholds_tuned                                 0.522   \n",
       "elasticnet_cv0.25                                                       0.426   \n",
       "elasticnet_cv0.25.decision_thresholds_tuned                             0.523   \n",
       "elasticnet_cv0.75                                                       0.432   \n",
       "elasticnet_cv0.75.decision_thresholds_tuned                             0.526   \n",
       "logisticregression_unregularized                                        0.429   \n",
       "logisticregression_unregularized.decision_thres...                      0.498   \n",
       "lasso_cv.decision_thresholds_tuned                                      0.540   \n",
       "lasso_cv                                                                0.420   \n",
       "xgboost                                                                 0.422   \n",
       "xgboost.decision_thresholds_tuned                                       0.506   \n",
       "rf_multiclass                                                           0.444   \n",
       "rf_multiclass.decision_thresholds_tuned                                 0.516   \n",
       "elasticnet_cv_each_disease_versus_healthy                               0.356   \n",
       "elasticnet_cv_each_disease_versus_healthy.decis...                      0.379   \n",
       "dummy_stratified.decision_thresholds_tuned                              0.036   \n",
       "dummy_stratified                                                        0.036   \n",
       "dummy_most_frequent.decision_thresholds_tuned                           0.029   \n",
       "dummy_most_frequent                                                     0.029   \n",
       "\n",
       "                                                   Unknown/abstention proportion global with abstention  \\\n",
       "ridge_cv                                                                                        0.017     \n",
       "ridge_cv.decision_thresholds_tuned                                                              0.017     \n",
       "linearsvm_ovr                                                                                   0.010     \n",
       "linearsvm_ovr.decision_thresholds_tuned                                                         0.010     \n",
       "elasticnet_cv                                                                                   0.007     \n",
       "elasticnet_cv.decision_thresholds_tuned                                                         0.007     \n",
       "elasticnet_cv0.25                                                                               0.007     \n",
       "elasticnet_cv0.25.decision_thresholds_tuned                                                     0.007     \n",
       "elasticnet_cv0.75                                                                               0.007     \n",
       "elasticnet_cv0.75.decision_thresholds_tuned                                                     0.007     \n",
       "logisticregression_unregularized                                                                0.007     \n",
       "logisticregression_unregularized.decision_thres...                                              0.007     \n",
       "lasso_cv.decision_thresholds_tuned                                                              0.010     \n",
       "lasso_cv                                                                                        0.010     \n",
       "xgboost                                                                                         0.024     \n",
       "xgboost.decision_thresholds_tuned                                                               0.024     \n",
       "rf_multiclass                                                                                   0.012     \n",
       "rf_multiclass.decision_thresholds_tuned                                                         0.012     \n",
       "elasticnet_cv_each_disease_versus_healthy                                                       0.020     \n",
       "elasticnet_cv_each_disease_versus_healthy.decis...                                              0.020     \n",
       "dummy_stratified.decision_thresholds_tuned                                                      0.046     \n",
       "dummy_stratified                                                                                0.046     \n",
       "dummy_most_frequent.decision_thresholds_tuned                                                   0.056     \n",
       "dummy_most_frequent                                                                             0.056     \n",
       "\n",
       "                                                   Abstention label global with abstention  \\\n",
       "ridge_cv                                                                           Unknown   \n",
       "ridge_cv.decision_thresholds_tuned                                                 Unknown   \n",
       "linearsvm_ovr                                                                      Unknown   \n",
       "linearsvm_ovr.decision_thresholds_tuned                                            Unknown   \n",
       "elasticnet_cv                                                                      Unknown   \n",
       "elasticnet_cv.decision_thresholds_tuned                                            Unknown   \n",
       "elasticnet_cv0.25                                                                  Unknown   \n",
       "elasticnet_cv0.25.decision_thresholds_tuned                                        Unknown   \n",
       "elasticnet_cv0.75                                                                  Unknown   \n",
       "elasticnet_cv0.75.decision_thresholds_tuned                                        Unknown   \n",
       "logisticregression_unregularized                                                   Unknown   \n",
       "logisticregression_unregularized.decision_thres...                                 Unknown   \n",
       "lasso_cv.decision_thresholds_tuned                                                 Unknown   \n",
       "lasso_cv                                                                           Unknown   \n",
       "xgboost                                                                            Unknown   \n",
       "xgboost.decision_thresholds_tuned                                                  Unknown   \n",
       "rf_multiclass                                                                      Unknown   \n",
       "rf_multiclass.decision_thresholds_tuned                                            Unknown   \n",
       "elasticnet_cv_each_disease_versus_healthy                                          Unknown   \n",
       "elasticnet_cv_each_disease_versus_healthy.decis...                                 Unknown   \n",
       "dummy_stratified.decision_thresholds_tuned                                         Unknown   \n",
       "dummy_stratified                                                                   Unknown   \n",
       "dummy_most_frequent.decision_thresholds_tuned                                      Unknown   \n",
       "dummy_most_frequent                                                                Unknown   \n",
       "\n",
       "                                                   Global evaluation column name global with abstention  \\\n",
       "ridge_cv                                                              disease.separate_past_exposures     \n",
       "ridge_cv.decision_thresholds_tuned                                    disease.separate_past_exposures     \n",
       "linearsvm_ovr                                                         disease.separate_past_exposures     \n",
       "linearsvm_ovr.decision_thresholds_tuned                               disease.separate_past_exposures     \n",
       "elasticnet_cv                                                         disease.separate_past_exposures     \n",
       "elasticnet_cv.decision_thresholds_tuned                               disease.separate_past_exposures     \n",
       "elasticnet_cv0.25                                                     disease.separate_past_exposures     \n",
       "elasticnet_cv0.25.decision_thresholds_tuned                           disease.separate_past_exposures     \n",
       "elasticnet_cv0.75                                                     disease.separate_past_exposures     \n",
       "elasticnet_cv0.75.decision_thresholds_tuned                           disease.separate_past_exposures     \n",
       "logisticregression_unregularized                                      disease.separate_past_exposures     \n",
       "logisticregression_unregularized.decision_thres...                    disease.separate_past_exposures     \n",
       "lasso_cv.decision_thresholds_tuned                                    disease.separate_past_exposures     \n",
       "lasso_cv                                                              disease.separate_past_exposures     \n",
       "xgboost                                                               disease.separate_past_exposures     \n",
       "xgboost.decision_thresholds_tuned                                     disease.separate_past_exposures     \n",
       "rf_multiclass                                                         disease.separate_past_exposures     \n",
       "rf_multiclass.decision_thresholds_tuned                               disease.separate_past_exposures     \n",
       "elasticnet_cv_each_disease_versus_healthy                             disease.separate_past_exposures     \n",
       "elasticnet_cv_each_disease_versus_healthy.decis...                    disease.separate_past_exposures     \n",
       "dummy_stratified.decision_thresholds_tuned                            disease.separate_past_exposures     \n",
       "dummy_stratified                                                      disease.separate_past_exposures     \n",
       "dummy_most_frequent.decision_thresholds_tuned                         disease.separate_past_exposures     \n",
       "dummy_most_frequent                                                   disease.separate_past_exposures     \n",
       "\n",
       "                                                   sample_size n_abstentions  \\\n",
       "ridge_cv                                                   403             7   \n",
       "ridge_cv.decision_thresholds_tuned                         403             7   \n",
       "linearsvm_ovr                                              406             4   \n",
       "linearsvm_ovr.decision_thresholds_tuned                    406             4   \n",
       "elasticnet_cv                                              407             3   \n",
       "elasticnet_cv.decision_thresholds_tuned                    407             3   \n",
       "elasticnet_cv0.25                                          407             3   \n",
       "elasticnet_cv0.25.decision_thresholds_tuned                407             3   \n",
       "elasticnet_cv0.75                                          407             3   \n",
       "elasticnet_cv0.75.decision_thresholds_tuned                407             3   \n",
       "logisticregression_unregularized                           407             3   \n",
       "logisticregression_unregularized.decision_thres...         407             3   \n",
       "lasso_cv.decision_thresholds_tuned                         406             4   \n",
       "lasso_cv                                                   406             4   \n",
       "xgboost                                                    400            10   \n",
       "xgboost.decision_thresholds_tuned                          400            10   \n",
       "rf_multiclass                                              405             5   \n",
       "rf_multiclass.decision_thresholds_tuned                    405             5   \n",
       "elasticnet_cv_each_disease_versus_healthy                  402             8   \n",
       "elasticnet_cv_each_disease_versus_healthy.decis...         402             8   \n",
       "dummy_stratified.decision_thresholds_tuned                 391            19   \n",
       "dummy_stratified                                           391            19   \n",
       "dummy_most_frequent.decision_thresholds_tuned              387            23   \n",
       "dummy_most_frequent                                        387            23   \n",
       "\n",
       "                                                    sample_size including abstentions  \\\n",
       "ridge_cv                                                                          410   \n",
       "ridge_cv.decision_thresholds_tuned                                                410   \n",
       "linearsvm_ovr                                                                     410   \n",
       "linearsvm_ovr.decision_thresholds_tuned                                           410   \n",
       "elasticnet_cv                                                                     410   \n",
       "elasticnet_cv.decision_thresholds_tuned                                           410   \n",
       "elasticnet_cv0.25                                                                 410   \n",
       "elasticnet_cv0.25.decision_thresholds_tuned                                       410   \n",
       "elasticnet_cv0.75                                                                 410   \n",
       "elasticnet_cv0.75.decision_thresholds_tuned                                       410   \n",
       "logisticregression_unregularized                                                  410   \n",
       "logisticregression_unregularized.decision_thres...                                410   \n",
       "lasso_cv.decision_thresholds_tuned                                                410   \n",
       "lasso_cv                                                                          410   \n",
       "xgboost                                                                           410   \n",
       "xgboost.decision_thresholds_tuned                                                 410   \n",
       "rf_multiclass                                                                     410   \n",
       "rf_multiclass.decision_thresholds_tuned                                           410   \n",
       "elasticnet_cv_each_disease_versus_healthy                                         410   \n",
       "elasticnet_cv_each_disease_versus_healthy.decis...                                410   \n",
       "dummy_stratified.decision_thresholds_tuned                                        410   \n",
       "dummy_stratified                                                                  410   \n",
       "dummy_most_frequent.decision_thresholds_tuned                                     410   \n",
       "dummy_most_frequent                                                               410   \n",
       "\n",
       "                                                    abstention_rate  \\\n",
       "ridge_cv                                                   0.017073   \n",
       "ridge_cv.decision_thresholds_tuned                         0.017073   \n",
       "linearsvm_ovr                                              0.009756   \n",
       "linearsvm_ovr.decision_thresholds_tuned                    0.009756   \n",
       "elasticnet_cv                                              0.007317   \n",
       "elasticnet_cv.decision_thresholds_tuned                    0.007317   \n",
       "elasticnet_cv0.25                                          0.007317   \n",
       "elasticnet_cv0.25.decision_thresholds_tuned                0.007317   \n",
       "elasticnet_cv0.75                                          0.007317   \n",
       "elasticnet_cv0.75.decision_thresholds_tuned                0.007317   \n",
       "logisticregression_unregularized                           0.007317   \n",
       "logisticregression_unregularized.decision_thres...         0.007317   \n",
       "lasso_cv.decision_thresholds_tuned                         0.009756   \n",
       "lasso_cv                                                   0.009756   \n",
       "xgboost                                                    0.024390   \n",
       "xgboost.decision_thresholds_tuned                          0.024390   \n",
       "rf_multiclass                                              0.012195   \n",
       "rf_multiclass.decision_thresholds_tuned                    0.012195   \n",
       "elasticnet_cv_each_disease_versus_healthy                  0.019512   \n",
       "elasticnet_cv_each_disease_versus_healthy.decis...         0.019512   \n",
       "dummy_stratified.decision_thresholds_tuned                 0.046341   \n",
       "dummy_stratified                                           0.046341   \n",
       "dummy_most_frequent.decision_thresholds_tuned              0.056098   \n",
       "dummy_most_frequent                                        0.056098   \n",
       "\n",
       "                                                    missing_classes  \n",
       "ridge_cv                                                      False  \n",
       "ridge_cv.decision_thresholds_tuned                            False  \n",
       "linearsvm_ovr                                                 False  \n",
       "linearsvm_ovr.decision_thresholds_tuned                       False  \n",
       "elasticnet_cv                                                  True  \n",
       "elasticnet_cv.decision_thresholds_tuned                       False  \n",
       "elasticnet_cv0.25                                              True  \n",
       "elasticnet_cv0.25.decision_thresholds_tuned                   False  \n",
       "elasticnet_cv0.75                                              True  \n",
       "elasticnet_cv0.75.decision_thresholds_tuned                   False  \n",
       "logisticregression_unregularized                               True  \n",
       "logisticregression_unregularized.decision_thres...            False  \n",
       "lasso_cv.decision_thresholds_tuned                            False  \n",
       "lasso_cv                                                       True  \n",
       "xgboost                                                       False  \n",
       "xgboost.decision_thresholds_tuned                             False  \n",
       "rf_multiclass                                                 False  \n",
       "rf_multiclass.decision_thresholds_tuned                       False  \n",
       "elasticnet_cv_each_disease_versus_healthy                      True  \n",
       "elasticnet_cv_each_disease_versus_healthy.decis...             True  \n",
       "dummy_stratified.decision_thresholds_tuned                    False  \n",
       "dummy_stratified                                              False  \n",
       "dummy_most_frequent.decision_thresholds_tuned                  True  \n",
       "dummy_most_frequent                                            True  \n",
       "\n",
       "[24 rows x 22 columns]"
      ]
     },
     "metadata": {},
     "output_type": "display_data"
    },
    {
     "name": "stdout",
     "output_type": "stream",
     "text": [
      "/home/maxim/code/immune-repertoire-classification/out/in_house_peak_disease_timepoints/convergent_clusters/BCR/disease/train_smaller1_model.compare_model_scores.validation_set_performance.tsv\n"
     ]
    },
    {
     "name": "stderr",
     "output_type": "stream",
     "text": [
      "{\"message\": \"/home/maxim/code/immune-repertoire-classification/malid/trained_model_wrappers/convergent_cluster_classifier.py:571: FutureWarning: Not prepending group keys to the result index of transform-like apply. In the future, the group keys will be included in the index, regardless of whether the applied function returns a like-indexed object.\\nTo preserve the previous behavior, use\\n\\n\\t>>> .groupby(..., group_keys=False)\\n\\nTo adopt the future behavior and silence this warning, use \\n\\n\\t>>> .groupby(..., group_keys=True)\\n  test_groups[\\\"cdr3_seq_aa_q_trim\\\"]\\n\", \"time\": \"2023-11-04T06:02:19.324043\"}\n"
     ]
    },
    {
     "name": "stderr",
     "output_type": "stream",
     "text": [
      "{\"message\": \"/home/maxim/code/immune-repertoire-classification/malid/trained_model_wrappers/convergent_cluster_classifier.py:571: FutureWarning: Not prepending group keys to the result index of transform-like apply. In the future, the group keys will be included in the index, regardless of whether the applied function returns a like-indexed object.\\nTo preserve the previous behavior, use\\n\\n\\t>>> .groupby(..., group_keys=False)\\n\\nTo adopt the future behavior and silence this warning, use \\n\\n\\t>>> .groupby(..., group_keys=True)\\n  test_groups[\\\"cdr3_seq_aa_q_trim\\\"]\\n\", \"time\": \"2023-11-04T06:04:13.057088\"}\n"
     ]
    },
    {
     "name": "stderr",
     "output_type": "stream",
     "text": [
      "{\"message\": \"/home/maxim/code/immune-repertoire-classification/malid/trained_model_wrappers/convergent_cluster_classifier.py:571: FutureWarning: Not prepending group keys to the result index of transform-like apply. In the future, the group keys will be included in the index, regardless of whether the applied function returns a like-indexed object.\\nTo preserve the previous behavior, use\\n\\n\\t>>> .groupby(..., group_keys=False)\\n\\nTo adopt the future behavior and silence this warning, use \\n\\n\\t>>> .groupby(..., group_keys=True)\\n  test_groups[\\\"cdr3_seq_aa_q_trim\\\"]\\n\", \"time\": \"2023-11-04T06:06:02.413279\"}\n"
     ]
    },
    {
     "name": "stderr",
     "output_type": "stream",
     "text": [
      "{\"message\": \"/home/maxim/code/immune-repertoire-classification/malid/trained_model_wrappers/convergent_cluster_classifier.py:571: FutureWarning: Not prepending group keys to the result index of transform-like apply. In the future, the group keys will be included in the index, regardless of whether the applied function returns a like-indexed object.\\nTo preserve the previous behavior, use\\n\\n\\t>>> .groupby(..., group_keys=False)\\n\\nTo adopt the future behavior and silence this warning, use \\n\\n\\t>>> .groupby(..., group_keys=True)\\n  test_groups[\\\"cdr3_seq_aa_q_trim\\\"]\\n\", \"time\": \"2023-11-04T06:07:41.711511\"}\n"
     ]
    },
    {
     "name": "stderr",
     "output_type": "stream",
     "text": [
      "{\"message\": \"/home/maxim/code/immune-repertoire-classification/malid/trained_model_wrappers/convergent_cluster_classifier.py:571: FutureWarning: Not prepending group keys to the result index of transform-like apply. In the future, the group keys will be included in the index, regardless of whether the applied function returns a like-indexed object.\\nTo preserve the previous behavior, use\\n\\n\\t>>> .groupby(..., group_keys=False)\\n\\nTo adopt the future behavior and silence this warning, use \\n\\n\\t>>> .groupby(..., group_keys=True)\\n  test_groups[\\\"cdr3_seq_aa_q_trim\\\"]\\n\", \"time\": \"2023-11-04T06:09:33.909910\"}\n"
     ]
    },
    {
     "name": "stderr",
     "output_type": "stream",
     "text": [
      "{\"message\": \"/home/maxim/code/immune-repertoire-classification/malid/trained_model_wrappers/convergent_cluster_classifier.py:571: FutureWarning: Not prepending group keys to the result index of transform-like apply. In the future, the group keys will be included in the index, regardless of whether the applied function returns a like-indexed object.\\nTo preserve the previous behavior, use\\n\\n\\t>>> .groupby(..., group_keys=False)\\n\\nTo adopt the future behavior and silence this warning, use \\n\\n\\t>>> .groupby(..., group_keys=True)\\n  test_groups[\\\"cdr3_seq_aa_q_trim\\\"]\\n\", \"time\": \"2023-11-04T06:11:10.702587\"}\n"
     ]
    },
    {
     "name": "stderr",
     "output_type": "stream",
     "text": [
      "{\"message\": \"/home/maxim/code/immune-repertoire-classification/malid/trained_model_wrappers/convergent_cluster_classifier.py:571: FutureWarning: Not prepending group keys to the result index of transform-like apply. In the future, the group keys will be included in the index, regardless of whether the applied function returns a like-indexed object.\\nTo preserve the previous behavior, use\\n\\n\\t>>> .groupby(..., group_keys=False)\\n\\nTo adopt the future behavior and silence this warning, use \\n\\n\\t>>> .groupby(..., group_keys=True)\\n  test_groups[\\\"cdr3_seq_aa_q_trim\\\"]\\n\", \"time\": \"2023-11-04T06:12:41.210763\"}\n"
     ]
    },
    {
     "name": "stderr",
     "output_type": "stream",
     "text": [
      "{\"message\": \"/home/maxim/code/immune-repertoire-classification/malid/trained_model_wrappers/convergent_cluster_classifier.py:571: FutureWarning: Not prepending group keys to the result index of transform-like apply. In the future, the group keys will be included in the index, regardless of whether the applied function returns a like-indexed object.\\nTo preserve the previous behavior, use\\n\\n\\t>>> .groupby(..., group_keys=False)\\n\\nTo adopt the future behavior and silence this warning, use \\n\\n\\t>>> .groupby(..., group_keys=True)\\n  test_groups[\\\"cdr3_seq_aa_q_trim\\\"]\\n\", \"time\": \"2023-11-04T06:14:07.922032\"}\n"
     ]
    },
    {
     "name": "stderr",
     "output_type": "stream",
     "text": [
      "{\"message\": \"/home/maxim/code/immune-repertoire-classification/malid/trained_model_wrappers/convergent_cluster_classifier.py:571: FutureWarning: Not prepending group keys to the result index of transform-like apply. In the future, the group keys will be included in the index, regardless of whether the applied function returns a like-indexed object.\\nTo preserve the previous behavior, use\\n\\n\\t>>> .groupby(..., group_keys=False)\\n\\nTo adopt the future behavior and silence this warning, use \\n\\n\\t>>> .groupby(..., group_keys=True)\\n  test_groups[\\\"cdr3_seq_aa_q_trim\\\"]\\n\", \"time\": \"2023-11-04T06:15:34.658189\"}\n"
     ]
    },
    {
     "name": "stderr",
     "output_type": "stream",
     "text": [
      "{\"message\": \"/home/maxim/code/immune-repertoire-classification/malid/trained_model_wrappers/convergent_cluster_classifier.py:571: FutureWarning: Not prepending group keys to the result index of transform-like apply. In the future, the group keys will be included in the index, regardless of whether the applied function returns a like-indexed object.\\nTo preserve the previous behavior, use\\n\\n\\t>>> .groupby(..., group_keys=False)\\n\\nTo adopt the future behavior and silence this warning, use \\n\\n\\t>>> .groupby(..., group_keys=True)\\n  test_groups[\\\"cdr3_seq_aa_q_trim\\\"]\\n\", \"time\": \"2023-11-04T06:17:07.499665\"}\n"
     ]
    },
    {
     "name": "stderr",
     "output_type": "stream",
     "text": [
      "{\"message\": \"/home/maxim/code/immune-repertoire-classification/malid/trained_model_wrappers/convergent_cluster_classifier.py:571: FutureWarning: Not prepending group keys to the result index of transform-like apply. In the future, the group keys will be included in the index, regardless of whether the applied function returns a like-indexed object.\\nTo preserve the previous behavior, use\\n\\n\\t>>> .groupby(..., group_keys=False)\\n\\nTo adopt the future behavior and silence this warning, use \\n\\n\\t>>> .groupby(..., group_keys=True)\\n  test_groups[\\\"cdr3_seq_aa_q_trim\\\"]\\n\", \"time\": \"2023-11-04T06:18:39.557193\"}\n"
     ]
    },
    {
     "name": "stderr",
     "output_type": "stream",
     "text": [
      "{\"message\": \"/home/maxim/code/immune-repertoire-classification/malid/trained_model_wrappers/convergent_cluster_classifier.py:571: FutureWarning: Not prepending group keys to the result index of transform-like apply. In the future, the group keys will be included in the index, regardless of whether the applied function returns a like-indexed object.\\nTo preserve the previous behavior, use\\n\\n\\t>>> .groupby(..., group_keys=False)\\n\\nTo adopt the future behavior and silence this warning, use \\n\\n\\t>>> .groupby(..., group_keys=True)\\n  test_groups[\\\"cdr3_seq_aa_q_trim\\\"]\\n\", \"time\": \"2023-11-04T06:20:10.273159\"}\n"
     ]
    },
    {
     "name": "stderr",
     "output_type": "stream",
     "text": [
      "{\"message\": \"/home/maxim/code/immune-repertoire-classification/malid/trained_model_wrappers/convergent_cluster_classifier.py:571: FutureWarning: Not prepending group keys to the result index of transform-like apply. In the future, the group keys will be included in the index, regardless of whether the applied function returns a like-indexed object.\\nTo preserve the previous behavior, use\\n\\n\\t>>> .groupby(..., group_keys=False)\\n\\nTo adopt the future behavior and silence this warning, use \\n\\n\\t>>> .groupby(..., group_keys=True)\\n  test_groups[\\\"cdr3_seq_aa_q_trim\\\"]\\n\", \"time\": \"2023-11-04T06:21:42.433821\"}\n"
     ]
    },
    {
     "name": "stderr",
     "output_type": "stream",
     "text": [
      "{\"message\": \"/home/maxim/code/immune-repertoire-classification/malid/trained_model_wrappers/convergent_cluster_classifier.py:571: FutureWarning: Not prepending group keys to the result index of transform-like apply. In the future, the group keys will be included in the index, regardless of whether the applied function returns a like-indexed object.\\nTo preserve the previous behavior, use\\n\\n\\t>>> .groupby(..., group_keys=False)\\n\\nTo adopt the future behavior and silence this warning, use \\n\\n\\t>>> .groupby(..., group_keys=True)\\n  test_groups[\\\"cdr3_seq_aa_q_trim\\\"]\\n\", \"time\": \"2023-11-04T06:23:14.946883\"}\n"
     ]
    },
    {
     "name": "stderr",
     "output_type": "stream",
     "text": [
      "{\"message\": \"/home/maxim/code/immune-repertoire-classification/malid/trained_model_wrappers/convergent_cluster_classifier.py:571: FutureWarning: Not prepending group keys to the result index of transform-like apply. In the future, the group keys will be included in the index, regardless of whether the applied function returns a like-indexed object.\\nTo preserve the previous behavior, use\\n\\n\\t>>> .groupby(..., group_keys=False)\\n\\nTo adopt the future behavior and silence this warning, use \\n\\n\\t>>> .groupby(..., group_keys=True)\\n  test_groups[\\\"cdr3_seq_aa_q_trim\\\"]\\n\", \"time\": \"2023-11-04T06:24:47.432015\"}\n"
     ]
    },
    {
     "name": "stderr",
     "output_type": "stream",
     "text": [
      "{\"message\": \"/home/maxim/code/immune-repertoire-classification/malid/trained_model_wrappers/convergent_cluster_classifier.py:571: FutureWarning: Not prepending group keys to the result index of transform-like apply. In the future, the group keys will be included in the index, regardless of whether the applied function returns a like-indexed object.\\nTo preserve the previous behavior, use\\n\\n\\t>>> .groupby(..., group_keys=False)\\n\\nTo adopt the future behavior and silence this warning, use \\n\\n\\t>>> .groupby(..., group_keys=True)\\n  test_groups[\\\"cdr3_seq_aa_q_trim\\\"]\\n\", \"time\": \"2023-11-04T06:26:32.364815\"}\n"
     ]
    },
    {
     "name": "stderr",
     "output_type": "stream",
     "text": [
      "{\"message\": \"/home/maxim/code/immune-repertoire-classification/malid/trained_model_wrappers/convergent_cluster_classifier.py:571: FutureWarning: Not prepending group keys to the result index of transform-like apply. In the future, the group keys will be included in the index, regardless of whether the applied function returns a like-indexed object.\\nTo preserve the previous behavior, use\\n\\n\\t>>> .groupby(..., group_keys=False)\\n\\nTo adopt the future behavior and silence this warning, use \\n\\n\\t>>> .groupby(..., group_keys=True)\\n  test_groups[\\\"cdr3_seq_aa_q_trim\\\"]\\n\", \"time\": \"2023-11-04T06:28:09.565996\"}\n"
     ]
    },
    {
     "name": "stderr",
     "output_type": "stream",
     "text": [
      "{\"message\": \"/home/maxim/code/immune-repertoire-classification/malid/trained_model_wrappers/convergent_cluster_classifier.py:571: FutureWarning: Not prepending group keys to the result index of transform-like apply. In the future, the group keys will be included in the index, regardless of whether the applied function returns a like-indexed object.\\nTo preserve the previous behavior, use\\n\\n\\t>>> .groupby(..., group_keys=False)\\n\\nTo adopt the future behavior and silence this warning, use \\n\\n\\t>>> .groupby(..., group_keys=True)\\n  test_groups[\\\"cdr3_seq_aa_q_trim\\\"]\\n\", \"time\": \"2023-11-04T06:29:41.689258\"}\n"
     ]
    },
    {
     "name": "stderr",
     "output_type": "stream",
     "text": [
      "{\"message\": \"/home/maxim/code/immune-repertoire-classification/malid/trained_model_wrappers/convergent_cluster_classifier.py:571: FutureWarning: Not prepending group keys to the result index of transform-like apply. In the future, the group keys will be included in the index, regardless of whether the applied function returns a like-indexed object.\\nTo preserve the previous behavior, use\\n\\n\\t>>> .groupby(..., group_keys=False)\\n\\nTo adopt the future behavior and silence this warning, use \\n\\n\\t>>> .groupby(..., group_keys=True)\\n  test_groups[\\\"cdr3_seq_aa_q_trim\\\"]\\n\", \"time\": \"2023-11-04T06:31:23.700811\"}\n"
     ]
    },
    {
     "name": "stderr",
     "output_type": "stream",
     "text": [
      "{\"message\": \"/home/maxim/code/immune-repertoire-classification/malid/trained_model_wrappers/convergent_cluster_classifier.py:571: FutureWarning: Not prepending group keys to the result index of transform-like apply. In the future, the group keys will be included in the index, regardless of whether the applied function returns a like-indexed object.\\nTo preserve the previous behavior, use\\n\\n\\t>>> .groupby(..., group_keys=False)\\n\\nTo adopt the future behavior and silence this warning, use \\n\\n\\t>>> .groupby(..., group_keys=True)\\n  test_groups[\\\"cdr3_seq_aa_q_trim\\\"]\\n\", \"time\": \"2023-11-04T06:32:55.743585\"}\n"
     ]
    },
    {
     "name": "stderr",
     "output_type": "stream",
     "text": [
      "{\"message\": \"/home/maxim/code/immune-repertoire-classification/malid/trained_model_wrappers/convergent_cluster_classifier.py:571: FutureWarning: Not prepending group keys to the result index of transform-like apply. In the future, the group keys will be included in the index, regardless of whether the applied function returns a like-indexed object.\\nTo preserve the previous behavior, use\\n\\n\\t>>> .groupby(..., group_keys=False)\\n\\nTo adopt the future behavior and silence this warning, use \\n\\n\\t>>> .groupby(..., group_keys=True)\\n  test_groups[\\\"cdr3_seq_aa_q_trim\\\"]\\n\", \"time\": \"2023-11-04T06:34:32.397541\"}\n"
     ]
    },
    {
     "name": "stderr",
     "output_type": "stream",
     "text": [
      "{\"message\": \"/home/maxim/code/immune-repertoire-classification/malid/trained_model_wrappers/convergent_cluster_classifier.py:571: FutureWarning: Not prepending group keys to the result index of transform-like apply. In the future, the group keys will be included in the index, regardless of whether the applied function returns a like-indexed object.\\nTo preserve the previous behavior, use\\n\\n\\t>>> .groupby(..., group_keys=False)\\n\\nTo adopt the future behavior and silence this warning, use \\n\\n\\t>>> .groupby(..., group_keys=True)\\n  test_groups[\\\"cdr3_seq_aa_q_trim\\\"]\\n\", \"time\": \"2023-11-04T06:36:01.827318\"}\n"
     ]
    },
    {
     "name": "stderr",
     "output_type": "stream",
     "text": [
      "{\"message\": \"/home/maxim/code/immune-repertoire-classification/malid/trained_model_wrappers/convergent_cluster_classifier.py:571: FutureWarning: Not prepending group keys to the result index of transform-like apply. In the future, the group keys will be included in the index, regardless of whether the applied function returns a like-indexed object.\\nTo preserve the previous behavior, use\\n\\n\\t>>> .groupby(..., group_keys=False)\\n\\nTo adopt the future behavior and silence this warning, use \\n\\n\\t>>> .groupby(..., group_keys=True)\\n  test_groups[\\\"cdr3_seq_aa_q_trim\\\"]\\n\", \"time\": \"2023-11-04T06:37:35.255159\"}\n"
     ]
    },
    {
     "name": "stderr",
     "output_type": "stream",
     "text": [
      "{\"message\": \"/home/maxim/code/immune-repertoire-classification/malid/trained_model_wrappers/convergent_cluster_classifier.py:571: FutureWarning: Not prepending group keys to the result index of transform-like apply. In the future, the group keys will be included in the index, regardless of whether the applied function returns a like-indexed object.\\nTo preserve the previous behavior, use\\n\\n\\t>>> .groupby(..., group_keys=False)\\n\\nTo adopt the future behavior and silence this warning, use \\n\\n\\t>>> .groupby(..., group_keys=True)\\n  test_groups[\\\"cdr3_seq_aa_q_trim\\\"]\\n\", \"time\": \"2023-11-04T06:39:19.617613\"}\n"
     ]
    },
    {
     "name": "stderr",
     "output_type": "stream",
     "text": [
      "{\"message\": \"/home/maxim/code/immune-repertoire-classification/malid/trained_model_wrappers/convergent_cluster_classifier.py:571: FutureWarning: Not prepending group keys to the result index of transform-like apply. In the future, the group keys will be included in the index, regardless of whether the applied function returns a like-indexed object.\\nTo preserve the previous behavior, use\\n\\n\\t>>> .groupby(..., group_keys=False)\\n\\nTo adopt the future behavior and silence this warning, use \\n\\n\\t>>> .groupby(..., group_keys=True)\\n  test_groups[\\\"cdr3_seq_aa_q_trim\\\"]\\n\", \"time\": \"2023-11-04T06:42:43.967232\"}\n"
     ]
    },
    {
     "name": "stderr",
     "output_type": "stream",
     "text": [
      "{\"message\": \"/home/maxim/code/immune-repertoire-classification/malid/trained_model_wrappers/convergent_cluster_classifier.py:571: FutureWarning: Not prepending group keys to the result index of transform-like apply. In the future, the group keys will be included in the index, regardless of whether the applied function returns a like-indexed object.\\nTo preserve the previous behavior, use\\n\\n\\t>>> .groupby(..., group_keys=False)\\n\\nTo adopt the future behavior and silence this warning, use \\n\\n\\t>>> .groupby(..., group_keys=True)\\n  test_groups[\\\"cdr3_seq_aa_q_trim\\\"]\\n\", \"time\": \"2023-11-04T06:44:33.731684\"}\n"
     ]
    },
    {
     "name": "stderr",
     "output_type": "stream",
     "text": [
      "{\"message\": \"/home/maxim/code/immune-repertoire-classification/malid/trained_model_wrappers/convergent_cluster_classifier.py:571: FutureWarning: Not prepending group keys to the result index of transform-like apply. In the future, the group keys will be included in the index, regardless of whether the applied function returns a like-indexed object.\\nTo preserve the previous behavior, use\\n\\n\\t>>> .groupby(..., group_keys=False)\\n\\nTo adopt the future behavior and silence this warning, use \\n\\n\\t>>> .groupby(..., group_keys=True)\\n  test_groups[\\\"cdr3_seq_aa_q_trim\\\"]\\n\", \"time\": \"2023-11-04T06:46:35.877831\"}\n"
     ]
    },
    {
     "name": "stderr",
     "output_type": "stream",
     "text": [
      "{\"message\": \"/home/maxim/code/immune-repertoire-classification/malid/trained_model_wrappers/convergent_cluster_classifier.py:571: FutureWarning: Not prepending group keys to the result index of transform-like apply. In the future, the group keys will be included in the index, regardless of whether the applied function returns a like-indexed object.\\nTo preserve the previous behavior, use\\n\\n\\t>>> .groupby(..., group_keys=False)\\n\\nTo adopt the future behavior and silence this warning, use \\n\\n\\t>>> .groupby(..., group_keys=True)\\n  test_groups[\\\"cdr3_seq_aa_q_trim\\\"]\\n\", \"time\": \"2023-11-04T06:48:36.669771\"}\n"
     ]
    },
    {
     "name": "stderr",
     "output_type": "stream",
     "text": [
      "{\"message\": \"/home/maxim/code/immune-repertoire-classification/malid/trained_model_wrappers/convergent_cluster_classifier.py:571: FutureWarning: Not prepending group keys to the result index of transform-like apply. In the future, the group keys will be included in the index, regardless of whether the applied function returns a like-indexed object.\\nTo preserve the previous behavior, use\\n\\n\\t>>> .groupby(..., group_keys=False)\\n\\nTo adopt the future behavior and silence this warning, use \\n\\n\\t>>> .groupby(..., group_keys=True)\\n  test_groups[\\\"cdr3_seq_aa_q_trim\\\"]\\n\", \"time\": \"2023-11-04T06:50:19.960612\"}\n"
     ]
    },
    {
     "name": "stderr",
     "output_type": "stream",
     "text": [
      "{\"message\": \"/home/maxim/code/immune-repertoire-classification/malid/trained_model_wrappers/convergent_cluster_classifier.py:571: FutureWarning: Not prepending group keys to the result index of transform-like apply. In the future, the group keys will be included in the index, regardless of whether the applied function returns a like-indexed object.\\nTo preserve the previous behavior, use\\n\\n\\t>>> .groupby(..., group_keys=False)\\n\\nTo adopt the future behavior and silence this warning, use \\n\\n\\t>>> .groupby(..., group_keys=True)\\n  test_groups[\\\"cdr3_seq_aa_q_trim\\\"]\\n\", \"time\": \"2023-11-04T06:52:04.410249\"}\n"
     ]
    },
    {
     "name": "stderr",
     "output_type": "stream",
     "text": [
      "{\"message\": \"/home/maxim/code/immune-repertoire-classification/malid/trained_model_wrappers/convergent_cluster_classifier.py:571: FutureWarning: Not prepending group keys to the result index of transform-like apply. In the future, the group keys will be included in the index, regardless of whether the applied function returns a like-indexed object.\\nTo preserve the previous behavior, use\\n\\n\\t>>> .groupby(..., group_keys=False)\\n\\nTo adopt the future behavior and silence this warning, use \\n\\n\\t>>> .groupby(..., group_keys=True)\\n  test_groups[\\\"cdr3_seq_aa_q_trim\\\"]\\n\", \"time\": \"2023-11-04T06:53:46.008859\"}\n"
     ]
    },
    {
     "name": "stderr",
     "output_type": "stream",
     "text": [
      "{\"message\": \"/home/maxim/code/immune-repertoire-classification/malid/trained_model_wrappers/convergent_cluster_classifier.py:571: FutureWarning: Not prepending group keys to the result index of transform-like apply. In the future, the group keys will be included in the index, regardless of whether the applied function returns a like-indexed object.\\nTo preserve the previous behavior, use\\n\\n\\t>>> .groupby(..., group_keys=False)\\n\\nTo adopt the future behavior and silence this warning, use \\n\\n\\t>>> .groupby(..., group_keys=True)\\n  test_groups[\\\"cdr3_seq_aa_q_trim\\\"]\\n\", \"time\": \"2023-11-04T06:55:23.173950\"}\n"
     ]
    },
    {
     "name": "stderr",
     "output_type": "stream",
     "text": [
      "{\"message\": \"/home/maxim/code/immune-repertoire-classification/malid/trained_model_wrappers/convergent_cluster_classifier.py:571: FutureWarning: Not prepending group keys to the result index of transform-like apply. In the future, the group keys will be included in the index, regardless of whether the applied function returns a like-indexed object.\\nTo preserve the previous behavior, use\\n\\n\\t>>> .groupby(..., group_keys=False)\\n\\nTo adopt the future behavior and silence this warning, use \\n\\n\\t>>> .groupby(..., group_keys=True)\\n  test_groups[\\\"cdr3_seq_aa_q_trim\\\"]\\n\", \"time\": \"2023-11-04T06:57:00.107718\"}\n"
     ]
    },
    {
     "name": "stderr",
     "output_type": "stream",
     "text": [
      "{\"message\": \"/home/maxim/code/immune-repertoire-classification/malid/trained_model_wrappers/convergent_cluster_classifier.py:571: FutureWarning: Not prepending group keys to the result index of transform-like apply. In the future, the group keys will be included in the index, regardless of whether the applied function returns a like-indexed object.\\nTo preserve the previous behavior, use\\n\\n\\t>>> .groupby(..., group_keys=False)\\n\\nTo adopt the future behavior and silence this warning, use \\n\\n\\t>>> .groupby(..., group_keys=True)\\n  test_groups[\\\"cdr3_seq_aa_q_trim\\\"]\\n\", \"time\": \"2023-11-04T06:58:42.544662\"}\n"
     ]
    },
    {
     "name": "stderr",
     "output_type": "stream",
     "text": [
      "{\"message\": \"/home/maxim/code/immune-repertoire-classification/malid/trained_model_wrappers/convergent_cluster_classifier.py:571: FutureWarning: Not prepending group keys to the result index of transform-like apply. In the future, the group keys will be included in the index, regardless of whether the applied function returns a like-indexed object.\\nTo preserve the previous behavior, use\\n\\n\\t>>> .groupby(..., group_keys=False)\\n\\nTo adopt the future behavior and silence this warning, use \\n\\n\\t>>> .groupby(..., group_keys=True)\\n  test_groups[\\\"cdr3_seq_aa_q_trim\\\"]\\n\", \"time\": \"2023-11-04T07:00:41.938508\"}\n"
     ]
    },
    {
     "name": "stderr",
     "output_type": "stream",
     "text": [
      "{\"message\": \"/home/maxim/code/immune-repertoire-classification/malid/trained_model_wrappers/convergent_cluster_classifier.py:571: FutureWarning: Not prepending group keys to the result index of transform-like apply. In the future, the group keys will be included in the index, regardless of whether the applied function returns a like-indexed object.\\nTo preserve the previous behavior, use\\n\\n\\t>>> .groupby(..., group_keys=False)\\n\\nTo adopt the future behavior and silence this warning, use \\n\\n\\t>>> .groupby(..., group_keys=True)\\n  test_groups[\\\"cdr3_seq_aa_q_trim\\\"]\\n\", \"time\": \"2023-11-04T07:02:51.262407\"}\n"
     ]
    },
    {
     "name": "stderr",
     "output_type": "stream",
     "text": [
      "{\"message\": \"/home/maxim/code/immune-repertoire-classification/malid/trained_model_wrappers/convergent_cluster_classifier.py:571: FutureWarning: Not prepending group keys to the result index of transform-like apply. In the future, the group keys will be included in the index, regardless of whether the applied function returns a like-indexed object.\\nTo preserve the previous behavior, use\\n\\n\\t>>> .groupby(..., group_keys=False)\\n\\nTo adopt the future behavior and silence this warning, use \\n\\n\\t>>> .groupby(..., group_keys=True)\\n  test_groups[\\\"cdr3_seq_aa_q_trim\\\"]\\n\", \"time\": \"2023-11-04T07:04:54.282880\"}\n"
     ]
    },
    {
     "name": "stderr",
     "output_type": "stream",
     "text": [
      "{\"message\": \"/home/maxim/code/immune-repertoire-classification/malid/trained_model_wrappers/convergent_cluster_classifier.py:571: FutureWarning: Not prepending group keys to the result index of transform-like apply. In the future, the group keys will be included in the index, regardless of whether the applied function returns a like-indexed object.\\nTo preserve the previous behavior, use\\n\\n\\t>>> .groupby(..., group_keys=False)\\n\\nTo adopt the future behavior and silence this warning, use \\n\\n\\t>>> .groupby(..., group_keys=True)\\n  test_groups[\\\"cdr3_seq_aa_q_trim\\\"]\\n\", \"time\": \"2023-11-04T07:06:41.549967\"}\n"
     ]
    },
    {
     "name": "stderr",
     "output_type": "stream",
     "text": [
      "{\"message\": \"/home/maxim/code/immune-repertoire-classification/malid/trained_model_wrappers/convergent_cluster_classifier.py:571: FutureWarning: Not prepending group keys to the result index of transform-like apply. In the future, the group keys will be included in the index, regardless of whether the applied function returns a like-indexed object.\\nTo preserve the previous behavior, use\\n\\n\\t>>> .groupby(..., group_keys=False)\\n\\nTo adopt the future behavior and silence this warning, use \\n\\n\\t>>> .groupby(..., group_keys=True)\\n  test_groups[\\\"cdr3_seq_aa_q_trim\\\"]\\n\", \"time\": \"2023-11-04T07:08:19.435173\"}\n"
     ]
    },
    {
     "name": "stderr",
     "output_type": "stream",
     "text": [
      "{\"message\": \"/home/maxim/code/immune-repertoire-classification/malid/trained_model_wrappers/convergent_cluster_classifier.py:571: FutureWarning: Not prepending group keys to the result index of transform-like apply. In the future, the group keys will be included in the index, regardless of whether the applied function returns a like-indexed object.\\nTo preserve the previous behavior, use\\n\\n\\t>>> .groupby(..., group_keys=False)\\n\\nTo adopt the future behavior and silence this warning, use \\n\\n\\t>>> .groupby(..., group_keys=True)\\n  test_groups[\\\"cdr3_seq_aa_q_trim\\\"]\\n\", \"time\": \"2023-11-04T07:09:53.131969\"}\n"
     ]
    },
    {
     "name": "stderr",
     "output_type": "stream",
     "text": [
      "{\"message\": \"/home/maxim/code/immune-repertoire-classification/malid/trained_model_wrappers/convergent_cluster_classifier.py:571: FutureWarning: Not prepending group keys to the result index of transform-like apply. In the future, the group keys will be included in the index, regardless of whether the applied function returns a like-indexed object.\\nTo preserve the previous behavior, use\\n\\n\\t>>> .groupby(..., group_keys=False)\\n\\nTo adopt the future behavior and silence this warning, use \\n\\n\\t>>> .groupby(..., group_keys=True)\\n  test_groups[\\\"cdr3_seq_aa_q_trim\\\"]\\n\", \"time\": \"2023-11-04T07:11:42.460574\"}\n"
     ]
    },
    {
     "name": "stderr",
     "output_type": "stream",
     "text": [
      "{\"message\": \"/home/maxim/code/immune-repertoire-classification/malid/trained_model_wrappers/convergent_cluster_classifier.py:571: FutureWarning: Not prepending group keys to the result index of transform-like apply. In the future, the group keys will be included in the index, regardless of whether the applied function returns a like-indexed object.\\nTo preserve the previous behavior, use\\n\\n\\t>>> .groupby(..., group_keys=False)\\n\\nTo adopt the future behavior and silence this warning, use \\n\\n\\t>>> .groupby(..., group_keys=True)\\n  test_groups[\\\"cdr3_seq_aa_q_trim\\\"]\\n\", \"time\": \"2023-11-04T07:13:20.207265\"}\n"
     ]
    },
    {
     "name": "stderr",
     "output_type": "stream",
     "text": [
      "{\"message\": \"/home/maxim/code/immune-repertoire-classification/malid/trained_model_wrappers/convergent_cluster_classifier.py:571: FutureWarning: Not prepending group keys to the result index of transform-like apply. In the future, the group keys will be included in the index, regardless of whether the applied function returns a like-indexed object.\\nTo preserve the previous behavior, use\\n\\n\\t>>> .groupby(..., group_keys=False)\\n\\nTo adopt the future behavior and silence this warning, use \\n\\n\\t>>> .groupby(..., group_keys=True)\\n  test_groups[\\\"cdr3_seq_aa_q_trim\\\"]\\n\", \"time\": \"2023-11-04T07:15:15.893091\"}\n"
     ]
    },
    {
     "name": "stderr",
     "output_type": "stream",
     "text": [
      "{\"message\": \"/home/maxim/code/immune-repertoire-classification/malid/trained_model_wrappers/convergent_cluster_classifier.py:571: FutureWarning: Not prepending group keys to the result index of transform-like apply. In the future, the group keys will be included in the index, regardless of whether the applied function returns a like-indexed object.\\nTo preserve the previous behavior, use\\n\\n\\t>>> .groupby(..., group_keys=False)\\n\\nTo adopt the future behavior and silence this warning, use \\n\\n\\t>>> .groupby(..., group_keys=True)\\n  test_groups[\\\"cdr3_seq_aa_q_trim\\\"]\\n\", \"time\": \"2023-11-04T07:16:59.401194\"}\n"
     ]
    },
    {
     "name": "stderr",
     "output_type": "stream",
     "text": [
      "{\"message\": \"/home/maxim/code/immune-repertoire-classification/malid/trained_model_wrappers/convergent_cluster_classifier.py:571: FutureWarning: Not prepending group keys to the result index of transform-like apply. In the future, the group keys will be included in the index, regardless of whether the applied function returns a like-indexed object.\\nTo preserve the previous behavior, use\\n\\n\\t>>> .groupby(..., group_keys=False)\\n\\nTo adopt the future behavior and silence this warning, use \\n\\n\\t>>> .groupby(..., group_keys=True)\\n  test_groups[\\\"cdr3_seq_aa_q_trim\\\"]\\n\", \"time\": \"2023-11-04T07:18:42.701925\"}\n"
     ]
    },
    {
     "name": "stderr",
     "output_type": "stream",
     "text": [
      "{\"message\": \"/home/maxim/code/immune-repertoire-classification/malid/trained_model_wrappers/convergent_cluster_classifier.py:571: FutureWarning: Not prepending group keys to the result index of transform-like apply. In the future, the group keys will be included in the index, regardless of whether the applied function returns a like-indexed object.\\nTo preserve the previous behavior, use\\n\\n\\t>>> .groupby(..., group_keys=False)\\n\\nTo adopt the future behavior and silence this warning, use \\n\\n\\t>>> .groupby(..., group_keys=True)\\n  test_groups[\\\"cdr3_seq_aa_q_trim\\\"]\\n\", \"time\": \"2023-11-04T07:20:24.976210\"}\n"
     ]
    },
    {
     "name": "stderr",
     "output_type": "stream",
     "text": [
      "{\"message\": \"/home/maxim/code/immune-repertoire-classification/malid/trained_model_wrappers/convergent_cluster_classifier.py:571: FutureWarning: Not prepending group keys to the result index of transform-like apply. In the future, the group keys will be included in the index, regardless of whether the applied function returns a like-indexed object.\\nTo preserve the previous behavior, use\\n\\n\\t>>> .groupby(..., group_keys=False)\\n\\nTo adopt the future behavior and silence this warning, use \\n\\n\\t>>> .groupby(..., group_keys=True)\\n  test_groups[\\\"cdr3_seq_aa_q_trim\\\"]\\n\", \"time\": \"2023-11-04T07:21:53.701979\"}\n"
     ]
    },
    {
     "name": "stderr",
     "output_type": "stream",
     "text": [
      "{\"message\": \"/home/maxim/code/immune-repertoire-classification/malid/trained_model_wrappers/convergent_cluster_classifier.py:571: FutureWarning: Not prepending group keys to the result index of transform-like apply. In the future, the group keys will be included in the index, regardless of whether the applied function returns a like-indexed object.\\nTo preserve the previous behavior, use\\n\\n\\t>>> .groupby(..., group_keys=False)\\n\\nTo adopt the future behavior and silence this warning, use \\n\\n\\t>>> .groupby(..., group_keys=True)\\n  test_groups[\\\"cdr3_seq_aa_q_trim\\\"]\\n\", \"time\": \"2023-11-04T07:23:28.797272\"}\n"
     ]
    },
    {
     "name": "stderr",
     "output_type": "stream",
     "text": [
      "{\"message\": \"/home/maxim/code/immune-repertoire-classification/malid/trained_model_wrappers/convergent_cluster_classifier.py:571: FutureWarning: Not prepending group keys to the result index of transform-like apply. In the future, the group keys will be included in the index, regardless of whether the applied function returns a like-indexed object.\\nTo preserve the previous behavior, use\\n\\n\\t>>> .groupby(..., group_keys=False)\\n\\nTo adopt the future behavior and silence this warning, use \\n\\n\\t>>> .groupby(..., group_keys=True)\\n  test_groups[\\\"cdr3_seq_aa_q_trim\\\"]\\n\", \"time\": \"2023-11-04T07:26:58.301521\"}\n"
     ]
    },
    {
     "name": "stderr",
     "output_type": "stream",
     "text": [
      "{\"message\": \"/home/maxim/code/immune-repertoire-classification/malid/trained_model_wrappers/convergent_cluster_classifier.py:571: FutureWarning: Not prepending group keys to the result index of transform-like apply. In the future, the group keys will be included in the index, regardless of whether the applied function returns a like-indexed object.\\nTo preserve the previous behavior, use\\n\\n\\t>>> .groupby(..., group_keys=False)\\n\\nTo adopt the future behavior and silence this warning, use \\n\\n\\t>>> .groupby(..., group_keys=True)\\n  test_groups[\\\"cdr3_seq_aa_q_trim\\\"]\\n\", \"time\": \"2023-11-04T07:28:59.607327\"}\n"
     ]
    },
    {
     "name": "stderr",
     "output_type": "stream",
     "text": [
      "{\"message\": \"/home/maxim/code/immune-repertoire-classification/malid/trained_model_wrappers/convergent_cluster_classifier.py:571: FutureWarning: Not prepending group keys to the result index of transform-like apply. In the future, the group keys will be included in the index, regardless of whether the applied function returns a like-indexed object.\\nTo preserve the previous behavior, use\\n\\n\\t>>> .groupby(..., group_keys=False)\\n\\nTo adopt the future behavior and silence this warning, use \\n\\n\\t>>> .groupby(..., group_keys=True)\\n  test_groups[\\\"cdr3_seq_aa_q_trim\\\"]\\n\", \"time\": \"2023-11-04T07:31:03.293192\"}\n"
     ]
    },
    {
     "name": "stderr",
     "output_type": "stream",
     "text": [
      "{\"message\": \"/home/maxim/code/immune-repertoire-classification/malid/trained_model_wrappers/convergent_cluster_classifier.py:571: FutureWarning: Not prepending group keys to the result index of transform-like apply. In the future, the group keys will be included in the index, regardless of whether the applied function returns a like-indexed object.\\nTo preserve the previous behavior, use\\n\\n\\t>>> .groupby(..., group_keys=False)\\n\\nTo adopt the future behavior and silence this warning, use \\n\\n\\t>>> .groupby(..., group_keys=True)\\n  test_groups[\\\"cdr3_seq_aa_q_trim\\\"]\\n\", \"time\": \"2023-11-04T07:33:07.190672\"}\n"
     ]
    },
    {
     "name": "stderr",
     "output_type": "stream",
     "text": [
      "{\"message\": \"/home/maxim/code/immune-repertoire-classification/malid/trained_model_wrappers/convergent_cluster_classifier.py:571: FutureWarning: Not prepending group keys to the result index of transform-like apply. In the future, the group keys will be included in the index, regardless of whether the applied function returns a like-indexed object.\\nTo preserve the previous behavior, use\\n\\n\\t>>> .groupby(..., group_keys=False)\\n\\nTo adopt the future behavior and silence this warning, use \\n\\n\\t>>> .groupby(..., group_keys=True)\\n  test_groups[\\\"cdr3_seq_aa_q_trim\\\"]\\n\", \"time\": \"2023-11-04T07:35:08.351354\"}\n"
     ]
    },
    {
     "name": "stderr",
     "output_type": "stream",
     "text": [
      "{\"message\": \"/home/maxim/code/immune-repertoire-classification/malid/trained_model_wrappers/convergent_cluster_classifier.py:571: FutureWarning: Not prepending group keys to the result index of transform-like apply. In the future, the group keys will be included in the index, regardless of whether the applied function returns a like-indexed object.\\nTo preserve the previous behavior, use\\n\\n\\t>>> .groupby(..., group_keys=False)\\n\\nTo adopt the future behavior and silence this warning, use \\n\\n\\t>>> .groupby(..., group_keys=True)\\n  test_groups[\\\"cdr3_seq_aa_q_trim\\\"]\\n\", \"time\": \"2023-11-04T07:36:48.196852\"}\n"
     ]
    },
    {
     "name": "stderr",
     "output_type": "stream",
     "text": [
      "{\"message\": \"/home/maxim/code/immune-repertoire-classification/malid/trained_model_wrappers/convergent_cluster_classifier.py:571: FutureWarning: Not prepending group keys to the result index of transform-like apply. In the future, the group keys will be included in the index, regardless of whether the applied function returns a like-indexed object.\\nTo preserve the previous behavior, use\\n\\n\\t>>> .groupby(..., group_keys=False)\\n\\nTo adopt the future behavior and silence this warning, use \\n\\n\\t>>> .groupby(..., group_keys=True)\\n  test_groups[\\\"cdr3_seq_aa_q_trim\\\"]\\n\", \"time\": \"2023-11-04T07:38:35.485725\"}\n"
     ]
    },
    {
     "name": "stderr",
     "output_type": "stream",
     "text": [
      "{\"message\": \"/home/maxim/code/immune-repertoire-classification/malid/trained_model_wrappers/convergent_cluster_classifier.py:571: FutureWarning: Not prepending group keys to the result index of transform-like apply. In the future, the group keys will be included in the index, regardless of whether the applied function returns a like-indexed object.\\nTo preserve the previous behavior, use\\n\\n\\t>>> .groupby(..., group_keys=False)\\n\\nTo adopt the future behavior and silence this warning, use \\n\\n\\t>>> .groupby(..., group_keys=True)\\n  test_groups[\\\"cdr3_seq_aa_q_trim\\\"]\\n\", \"time\": \"2023-11-04T07:40:23.891969\"}\n"
     ]
    },
    {
     "name": "stderr",
     "output_type": "stream",
     "text": [
      "{\"message\": \"/home/maxim/code/immune-repertoire-classification/malid/trained_model_wrappers/convergent_cluster_classifier.py:571: FutureWarning: Not prepending group keys to the result index of transform-like apply. In the future, the group keys will be included in the index, regardless of whether the applied function returns a like-indexed object.\\nTo preserve the previous behavior, use\\n\\n\\t>>> .groupby(..., group_keys=False)\\n\\nTo adopt the future behavior and silence this warning, use \\n\\n\\t>>> .groupby(..., group_keys=True)\\n  test_groups[\\\"cdr3_seq_aa_q_trim\\\"]\\n\", \"time\": \"2023-11-04T07:42:19.921577\"}\n"
     ]
    },
    {
     "name": "stderr",
     "output_type": "stream",
     "text": [
      "{\"message\": \"/home/maxim/code/immune-repertoire-classification/malid/trained_model_wrappers/convergent_cluster_classifier.py:571: FutureWarning: Not prepending group keys to the result index of transform-like apply. In the future, the group keys will be included in the index, regardless of whether the applied function returns a like-indexed object.\\nTo preserve the previous behavior, use\\n\\n\\t>>> .groupby(..., group_keys=False)\\n\\nTo adopt the future behavior and silence this warning, use \\n\\n\\t>>> .groupby(..., group_keys=True)\\n  test_groups[\\\"cdr3_seq_aa_q_trim\\\"]\\n\", \"time\": \"2023-11-04T07:44:20.159006\"}\n"
     ]
    },
    {
     "name": "stderr",
     "output_type": "stream",
     "text": [
      "{\"message\": \"/home/maxim/code/immune-repertoire-classification/malid/trained_model_wrappers/convergent_cluster_classifier.py:571: FutureWarning: Not prepending group keys to the result index of transform-like apply. In the future, the group keys will be included in the index, regardless of whether the applied function returns a like-indexed object.\\nTo preserve the previous behavior, use\\n\\n\\t>>> .groupby(..., group_keys=False)\\n\\nTo adopt the future behavior and silence this warning, use \\n\\n\\t>>> .groupby(..., group_keys=True)\\n  test_groups[\\\"cdr3_seq_aa_q_trim\\\"]\\n\", \"time\": \"2023-11-04T07:46:20.250124\"}\n"
     ]
    },
    {
     "name": "stderr",
     "output_type": "stream",
     "text": [
      "{\"message\": \"/home/maxim/code/immune-repertoire-classification/malid/trained_model_wrappers/convergent_cluster_classifier.py:571: FutureWarning: Not prepending group keys to the result index of transform-like apply. In the future, the group keys will be included in the index, regardless of whether the applied function returns a like-indexed object.\\nTo preserve the previous behavior, use\\n\\n\\t>>> .groupby(..., group_keys=False)\\n\\nTo adopt the future behavior and silence this warning, use \\n\\n\\t>>> .groupby(..., group_keys=True)\\n  test_groups[\\\"cdr3_seq_aa_q_trim\\\"]\\n\", \"time\": \"2023-11-04T07:48:27.838868\"}\n"
     ]
    },
    {
     "name": "stderr",
     "output_type": "stream",
     "text": [
      "{\"message\": \"/home/maxim/code/immune-repertoire-classification/malid/trained_model_wrappers/convergent_cluster_classifier.py:571: FutureWarning: Not prepending group keys to the result index of transform-like apply. In the future, the group keys will be included in the index, regardless of whether the applied function returns a like-indexed object.\\nTo preserve the previous behavior, use\\n\\n\\t>>> .groupby(..., group_keys=False)\\n\\nTo adopt the future behavior and silence this warning, use \\n\\n\\t>>> .groupby(..., group_keys=True)\\n  test_groups[\\\"cdr3_seq_aa_q_trim\\\"]\\n\", \"time\": \"2023-11-04T07:51:09.153572\"}\n"
     ]
    },
    {
     "name": "stderr",
     "output_type": "stream",
     "text": [
      "{\"message\": \"/home/maxim/code/immune-repertoire-classification/malid/trained_model_wrappers/convergent_cluster_classifier.py:571: FutureWarning: Not prepending group keys to the result index of transform-like apply. In the future, the group keys will be included in the index, regardless of whether the applied function returns a like-indexed object.\\nTo preserve the previous behavior, use\\n\\n\\t>>> .groupby(..., group_keys=False)\\n\\nTo adopt the future behavior and silence this warning, use \\n\\n\\t>>> .groupby(..., group_keys=True)\\n  test_groups[\\\"cdr3_seq_aa_q_trim\\\"]\\n\", \"time\": \"2023-11-04T07:54:03.741382\"}\n"
     ]
    },
    {
     "name": "stderr",
     "output_type": "stream",
     "text": [
      "{\"message\": \"/home/maxim/code/immune-repertoire-classification/malid/trained_model_wrappers/convergent_cluster_classifier.py:571: FutureWarning: Not prepending group keys to the result index of transform-like apply. In the future, the group keys will be included in the index, regardless of whether the applied function returns a like-indexed object.\\nTo preserve the previous behavior, use\\n\\n\\t>>> .groupby(..., group_keys=False)\\n\\nTo adopt the future behavior and silence this warning, use \\n\\n\\t>>> .groupby(..., group_keys=True)\\n  test_groups[\\\"cdr3_seq_aa_q_trim\\\"]\\n\", \"time\": \"2023-11-04T07:56:12.743437\"}\n"
     ]
    },
    {
     "name": "stderr",
     "output_type": "stream",
     "text": [
      "{\"message\": \"/home/maxim/code/immune-repertoire-classification/malid/trained_model_wrappers/convergent_cluster_classifier.py:571: FutureWarning: Not prepending group keys to the result index of transform-like apply. In the future, the group keys will be included in the index, regardless of whether the applied function returns a like-indexed object.\\nTo preserve the previous behavior, use\\n\\n\\t>>> .groupby(..., group_keys=False)\\n\\nTo adopt the future behavior and silence this warning, use \\n\\n\\t>>> .groupby(..., group_keys=True)\\n  test_groups[\\\"cdr3_seq_aa_q_trim\\\"]\\n\", \"time\": \"2023-11-04T07:58:00.694440\"}\n"
     ]
    },
    {
     "name": "stderr",
     "output_type": "stream",
     "text": [
      "{\"message\": \"/home/maxim/code/immune-repertoire-classification/malid/trained_model_wrappers/convergent_cluster_classifier.py:571: FutureWarning: Not prepending group keys to the result index of transform-like apply. In the future, the group keys will be included in the index, regardless of whether the applied function returns a like-indexed object.\\nTo preserve the previous behavior, use\\n\\n\\t>>> .groupby(..., group_keys=False)\\n\\nTo adopt the future behavior and silence this warning, use \\n\\n\\t>>> .groupby(..., group_keys=True)\\n  test_groups[\\\"cdr3_seq_aa_q_trim\\\"]\\n\", \"time\": \"2023-11-04T07:59:38.794732\"}\n"
     ]
    },
    {
     "name": "stderr",
     "output_type": "stream",
     "text": [
      "{\"message\": \"/home/maxim/code/immune-repertoire-classification/malid/trained_model_wrappers/convergent_cluster_classifier.py:571: FutureWarning: Not prepending group keys to the result index of transform-like apply. In the future, the group keys will be included in the index, regardless of whether the applied function returns a like-indexed object.\\nTo preserve the previous behavior, use\\n\\n\\t>>> .groupby(..., group_keys=False)\\n\\nTo adopt the future behavior and silence this warning, use \\n\\n\\t>>> .groupby(..., group_keys=True)\\n  test_groups[\\\"cdr3_seq_aa_q_trim\\\"]\\n\", \"time\": \"2023-11-04T08:01:26.410587\"}\n"
     ]
    },
    {
     "name": "stderr",
     "output_type": "stream",
     "text": [
      "{\"message\": \"/home/maxim/code/immune-repertoire-classification/malid/trained_model_wrappers/convergent_cluster_classifier.py:571: FutureWarning: Not prepending group keys to the result index of transform-like apply. In the future, the group keys will be included in the index, regardless of whether the applied function returns a like-indexed object.\\nTo preserve the previous behavior, use\\n\\n\\t>>> .groupby(..., group_keys=False)\\n\\nTo adopt the future behavior and silence this warning, use \\n\\n\\t>>> .groupby(..., group_keys=True)\\n  test_groups[\\\"cdr3_seq_aa_q_trim\\\"]\\n\", \"time\": \"2023-11-04T08:03:59.987258\"}\n"
     ]
    },
    {
     "name": "stderr",
     "output_type": "stream",
     "text": [
      "{\"message\": \"/home/maxim/code/immune-repertoire-classification/malid/trained_model_wrappers/convergent_cluster_classifier.py:571: FutureWarning: Not prepending group keys to the result index of transform-like apply. In the future, the group keys will be included in the index, regardless of whether the applied function returns a like-indexed object.\\nTo preserve the previous behavior, use\\n\\n\\t>>> .groupby(..., group_keys=False)\\n\\nTo adopt the future behavior and silence this warning, use \\n\\n\\t>>> .groupby(..., group_keys=True)\\n  test_groups[\\\"cdr3_seq_aa_q_trim\\\"]\\n\", \"time\": \"2023-11-04T08:06:02.223513\"}\n"
     ]
    },
    {
     "name": "stderr",
     "output_type": "stream",
     "text": [
      "{\"message\": \"/home/maxim/code/immune-repertoire-classification/malid/trained_model_wrappers/convergent_cluster_classifier.py:571: FutureWarning: Not prepending group keys to the result index of transform-like apply. In the future, the group keys will be included in the index, regardless of whether the applied function returns a like-indexed object.\\nTo preserve the previous behavior, use\\n\\n\\t>>> .groupby(..., group_keys=False)\\n\\nTo adopt the future behavior and silence this warning, use \\n\\n\\t>>> .groupby(..., group_keys=True)\\n  test_groups[\\\"cdr3_seq_aa_q_trim\\\"]\\n\", \"time\": \"2023-11-04T08:07:50.749594\"}\n"
     ]
    },
    {
     "name": "stderr",
     "output_type": "stream",
     "text": [
      "{\"message\": \"/home/maxim/code/immune-repertoire-classification/malid/trained_model_wrappers/convergent_cluster_classifier.py:571: FutureWarning: Not prepending group keys to the result index of transform-like apply. In the future, the group keys will be included in the index, regardless of whether the applied function returns a like-indexed object.\\nTo preserve the previous behavior, use\\n\\n\\t>>> .groupby(..., group_keys=False)\\n\\nTo adopt the future behavior and silence this warning, use \\n\\n\\t>>> .groupby(..., group_keys=True)\\n  test_groups[\\\"cdr3_seq_aa_q_trim\\\"]\\n\", \"time\": \"2023-11-04T08:09:36.486470\"}\n"
     ]
    },
    {
     "name": "stderr",
     "output_type": "stream",
     "text": [
      "{\"message\": \"/home/maxim/code/immune-repertoire-classification/malid/trained_model_wrappers/convergent_cluster_classifier.py:571: FutureWarning: Not prepending group keys to the result index of transform-like apply. In the future, the group keys will be included in the index, regardless of whether the applied function returns a like-indexed object.\\nTo preserve the previous behavior, use\\n\\n\\t>>> .groupby(..., group_keys=False)\\n\\nTo adopt the future behavior and silence this warning, use \\n\\n\\t>>> .groupby(..., group_keys=True)\\n  test_groups[\\\"cdr3_seq_aa_q_trim\\\"]\\n\", \"time\": \"2023-11-04T08:11:20.767241\"}\n"
     ]
    },
    {
     "name": "stderr",
     "output_type": "stream",
     "text": [
      "{\"message\": \"/home/maxim/code/immune-repertoire-classification/malid/trained_model_wrappers/convergent_cluster_classifier.py:571: FutureWarning: Not prepending group keys to the result index of transform-like apply. In the future, the group keys will be included in the index, regardless of whether the applied function returns a like-indexed object.\\nTo preserve the previous behavior, use\\n\\n\\t>>> .groupby(..., group_keys=False)\\n\\nTo adopt the future behavior and silence this warning, use \\n\\n\\t>>> .groupby(..., group_keys=True)\\n  test_groups[\\\"cdr3_seq_aa_q_trim\\\"]\\n\", \"time\": \"2023-11-04T08:13:20.918393\"}\n"
     ]
    },
    {
     "name": "stdout",
     "output_type": "stream",
     "text": [
      "Test set performance: GeneLocus.BCR TargetObsColumnEnum.disease --> /home/maxim/code/immune-repertoire-classification/out/in_house_peak_disease_timepoints/convergent_clusters/BCR/disease\n"
     ]
    },
    {
     "name": "stderr",
     "output_type": "stream",
     "text": [
      "{\"message\": \"Inserting phantom class: Healthy/Background\", \"time\": \"2023-11-04T08:15:02.317960\"}\n"
     ]
    },
    {
     "name": "stderr",
     "output_type": "stream",
     "text": [
      "{\"message\": \"Inserting phantom class: Healthy/Background\", \"time\": \"2023-11-04T08:15:02.344471\"}\n"
     ]
    },
    {
     "name": "stderr",
     "output_type": "stream",
     "text": [
      "{\"message\": \"Inserting phantom class: Healthy/Background\", \"time\": \"2023-11-04T08:15:02.370015\"}\n"
     ]
    },
    {
     "name": "stderr",
     "output_type": "stream",
     "text": [
      "{\"message\": \"Inserting phantom class: Healthy/Background\", \"time\": \"2023-11-04T08:15:02.383687\"}\n"
     ]
    },
    {
     "name": "stderr",
     "output_type": "stream",
     "text": [
      "{\"message\": \"Inserting phantom class: Healthy/Background\", \"time\": \"2023-11-04T08:15:02.398825\"}\n"
     ]
    },
    {
     "name": "stderr",
     "output_type": "stream",
     "text": [
      "{\"message\": \"Inserting phantom class: Healthy/Background\", \"time\": \"2023-11-04T08:15:02.425705\"}\n"
     ]
    },
    {
     "name": "stderr",
     "output_type": "stream",
     "text": [
      "{\"message\": \"Inserting phantom class: Healthy/Background\", \"time\": \"2023-11-04T08:15:02.453243\"}\n"
     ]
    },
    {
     "name": "stderr",
     "output_type": "stream",
     "text": [
      "{\"message\": \"Inserting phantom class: Healthy/Background\", \"time\": \"2023-11-04T08:15:02.467967\"}\n"
     ]
    },
    {
     "name": "stderr",
     "output_type": "stream",
     "text": [
      "{\"message\": \"Inserting phantom class: Healthy/Background\", \"time\": \"2023-11-04T08:15:02.484218\"}\n"
     ]
    },
    {
     "name": "stderr",
     "output_type": "stream",
     "text": [
      "{\"message\": \"Inserting phantom class: Healthy/Background\", \"time\": \"2023-11-04T08:15:02.512084\"}\n"
     ]
    },
    {
     "name": "stderr",
     "output_type": "stream",
     "text": [
      "{\"message\": \"Inserting phantom class: Healthy/Background\", \"time\": \"2023-11-04T08:15:02.539416\"}\n"
     ]
    },
    {
     "name": "stderr",
     "output_type": "stream",
     "text": [
      "{\"message\": \"Inserting phantom class: Healthy/Background\", \"time\": \"2023-11-04T08:15:02.553517\"}\n"
     ]
    },
    {
     "name": "stderr",
     "output_type": "stream",
     "text": [
      "{\"message\": \"Inserting phantom class: Healthy/Background\", \"time\": \"2023-11-04T08:15:02.584564\"}\n"
     ]
    },
    {
     "name": "stderr",
     "output_type": "stream",
     "text": [
      "{\"message\": \"Inserting phantom class: Healthy/Background\", \"time\": \"2023-11-04T08:15:02.610480\"}\n"
     ]
    },
    {
     "name": "stderr",
     "output_type": "stream",
     "text": [
      "{\"message\": \"Inserting phantom class: Healthy/Background\", \"time\": \"2023-11-04T08:15:02.635728\"}\n"
     ]
    },
    {
     "name": "stderr",
     "output_type": "stream",
     "text": [
      "{\"message\": \"Inserting phantom class: Healthy/Background\", \"time\": \"2023-11-04T08:15:02.649405\"}\n"
     ]
    },
    {
     "name": "stderr",
     "output_type": "stream",
     "text": [
      "{\"message\": \"Inserting phantom class: Healthy/Background\", \"time\": \"2023-11-04T08:15:02.666419\"}\n"
     ]
    },
    {
     "name": "stderr",
     "output_type": "stream",
     "text": [
      "{\"message\": \"Inserting phantom class: Healthy/Background\", \"time\": \"2023-11-04T08:15:02.694260\"}\n"
     ]
    },
    {
     "name": "stderr",
     "output_type": "stream",
     "text": [
      "{\"message\": \"Inserting phantom class: Healthy/Background\", \"time\": \"2023-11-04T08:15:02.722068\"}\n"
     ]
    },
    {
     "name": "stderr",
     "output_type": "stream",
     "text": [
      "{\"message\": \"Inserting phantom class: Healthy/Background\", \"time\": \"2023-11-04T08:15:02.736692\"}\n"
     ]
    },
    {
     "name": "stderr",
     "output_type": "stream",
     "text": [
      "{\"message\": \"Inserting phantom class: Healthy/Background\", \"time\": \"2023-11-04T08:15:02.753007\"}\n"
     ]
    },
    {
     "name": "stderr",
     "output_type": "stream",
     "text": [
      "{\"message\": \"Inserting phantom class: Healthy/Background\", \"time\": \"2023-11-04T08:15:02.779999\"}\n"
     ]
    },
    {
     "name": "stderr",
     "output_type": "stream",
     "text": [
      "{\"message\": \"Inserting phantom class: Healthy/Background\", \"time\": \"2023-11-04T08:15:02.805812\"}\n"
     ]
    },
    {
     "name": "stderr",
     "output_type": "stream",
     "text": [
      "{\"message\": \"Inserting phantom class: Healthy/Background\", \"time\": \"2023-11-04T08:15:02.819823\"}\n"
     ]
    },
    {
     "name": "stderr",
     "output_type": "stream",
     "text": [
      "{\"message\": \"Inserting phantom class: Healthy/Background\", \"time\": \"2023-11-04T08:15:02.849036\"}\n"
     ]
    },
    {
     "name": "stderr",
     "output_type": "stream",
     "text": [
      "{\"message\": \"Inserting phantom class: Healthy/Background\", \"time\": \"2023-11-04T08:15:02.876436\"}\n"
     ]
    },
    {
     "name": "stderr",
     "output_type": "stream",
     "text": [
      "{\"message\": \"Inserting phantom class: Healthy/Background\", \"time\": \"2023-11-04T08:15:02.903415\"}\n"
     ]
    },
    {
     "name": "stderr",
     "output_type": "stream",
     "text": [
      "{\"message\": \"Inserting phantom class: Healthy/Background\", \"time\": \"2023-11-04T08:15:02.922009\"}\n"
     ]
    },
    {
     "name": "stderr",
     "output_type": "stream",
     "text": [
      "{\"message\": \"Inserting phantom class: Healthy/Background\", \"time\": \"2023-11-04T08:15:02.939446\"}\n"
     ]
    },
    {
     "name": "stderr",
     "output_type": "stream",
     "text": [
      "{\"message\": \"Inserting phantom class: Healthy/Background\", \"time\": \"2023-11-04T08:15:02.967542\"}\n"
     ]
    },
    {
     "name": "stderr",
     "output_type": "stream",
     "text": [
      "{\"message\": \"Inserting phantom class: Healthy/Background\", \"time\": \"2023-11-04T08:15:02.994365\"}\n"
     ]
    },
    {
     "name": "stderr",
     "output_type": "stream",
     "text": [
      "{\"message\": \"Inserting phantom class: Healthy/Background\", \"time\": \"2023-11-04T08:15:03.008803\"}\n"
     ]
    },
    {
     "name": "stderr",
     "output_type": "stream",
     "text": [
      "{\"message\": \"Inserting phantom class: Healthy/Background\", \"time\": \"2023-11-04T08:15:03.024136\"}\n"
     ]
    },
    {
     "name": "stderr",
     "output_type": "stream",
     "text": [
      "{\"message\": \"Inserting phantom class: Healthy/Background\", \"time\": \"2023-11-04T08:15:03.054149\"}\n"
     ]
    },
    {
     "name": "stderr",
     "output_type": "stream",
     "text": [
      "{\"message\": \"Inserting phantom class: Healthy/Background\", \"time\": \"2023-11-04T08:15:03.081638\"}\n"
     ]
    },
    {
     "name": "stderr",
     "output_type": "stream",
     "text": [
      "{\"message\": \"Inserting phantom class: Healthy/Background\", \"time\": \"2023-11-04T08:15:03.095700\"}\n"
     ]
    },
    {
     "name": "stderr",
     "output_type": "stream",
     "text": [
      "{\"message\": \"Inserting phantom class: Healthy/Background\", \"time\": \"2023-11-04T08:15:03.127197\"}\n"
     ]
    },
    {
     "name": "stderr",
     "output_type": "stream",
     "text": [
      "{\"message\": \"Inserting phantom class: Healthy/Background\", \"time\": \"2023-11-04T08:15:03.154966\"}\n"
     ]
    },
    {
     "name": "stderr",
     "output_type": "stream",
     "text": [
      "{\"message\": \"Inserting phantom class: Healthy/Background\", \"time\": \"2023-11-04T08:15:03.182813\"}\n"
     ]
    },
    {
     "name": "stderr",
     "output_type": "stream",
     "text": [
      "{\"message\": \"Inserting phantom class: Healthy/Background\", \"time\": \"2023-11-04T08:15:03.197182\"}\n"
     ]
    },
    {
     "name": "stderr",
     "output_type": "stream",
     "text": [
      "{\"message\": \"Inserting phantom class: Healthy/Background\", \"time\": \"2023-11-04T08:15:03.212485\"}\n"
     ]
    },
    {
     "name": "stderr",
     "output_type": "stream",
     "text": [
      "{\"message\": \"Inserting phantom class: Healthy/Background\", \"time\": \"2023-11-04T08:15:03.245637\"}\n"
     ]
    },
    {
     "name": "stderr",
     "output_type": "stream",
     "text": [
      "{\"message\": \"Inserting phantom class: Healthy/Background\", \"time\": \"2023-11-04T08:15:03.274530\"}\n"
     ]
    },
    {
     "name": "stderr",
     "output_type": "stream",
     "text": [
      "{\"message\": \"Inserting phantom class: Healthy/Background\", \"time\": \"2023-11-04T08:15:03.289161\"}\n"
     ]
    },
    {
     "name": "stderr",
     "output_type": "stream",
     "text": [
      "{\"message\": \"Inserting phantom class: Healthy/Background\", \"time\": \"2023-11-04T08:15:03.305206\"}\n"
     ]
    },
    {
     "name": "stderr",
     "output_type": "stream",
     "text": [
      "{\"message\": \"Inserting phantom class: Healthy/Background\", \"time\": \"2023-11-04T08:15:03.333416\"}\n"
     ]
    },
    {
     "name": "stderr",
     "output_type": "stream",
     "text": [
      "{\"message\": \"Inserting phantom class: Healthy/Background\", \"time\": \"2023-11-04T08:15:03.360238\"}\n"
     ]
    },
    {
     "name": "stderr",
     "output_type": "stream",
     "text": [
      "{\"message\": \"Inserting phantom class: Healthy/Background\", \"time\": \"2023-11-04T08:15:03.374958\"}\n"
     ]
    },
    {
     "data": {
      "text/html": [
       "<div>\n",
       "<style scoped>\n",
       "    .dataframe tbody tr th:only-of-type {\n",
       "        vertical-align: middle;\n",
       "    }\n",
       "\n",
       "    .dataframe tbody tr th {\n",
       "        vertical-align: top;\n",
       "    }\n",
       "\n",
       "    .dataframe thead th {\n",
       "        text-align: right;\n",
       "    }\n",
       "</style>\n",
       "<table border=\"1\" class=\"dataframe\">\n",
       "  <thead>\n",
       "    <tr style=\"text-align: right;\">\n",
       "      <th></th>\n",
       "      <th>ROC-AUC (weighted OvO) per fold</th>\n",
       "      <th>ROC-AUC (macro OvO) per fold</th>\n",
       "      <th>au-PRC (weighted OvO) per fold</th>\n",
       "      <th>au-PRC (macro OvO) per fold</th>\n",
       "      <th>Accuracy per fold</th>\n",
       "      <th>MCC per fold</th>\n",
       "      <th>Accuracy global</th>\n",
       "      <th>MCC global</th>\n",
       "      <th>Global evaluation column name global</th>\n",
       "      <th>Accuracy per fold with abstention</th>\n",
       "      <th>...</th>\n",
       "      <th>Accuracy global with abstention</th>\n",
       "      <th>MCC global with abstention</th>\n",
       "      <th>Unknown/abstention proportion global with abstention</th>\n",
       "      <th>Abstention label global with abstention</th>\n",
       "      <th>Global evaluation column name global with abstention</th>\n",
       "      <th>sample_size</th>\n",
       "      <th>n_abstentions</th>\n",
       "      <th>sample_size including abstentions</th>\n",
       "      <th>abstention_rate</th>\n",
       "      <th>missing_classes</th>\n",
       "    </tr>\n",
       "  </thead>\n",
       "  <tbody>\n",
       "    <tr>\n",
       "      <th>ridge_cv</th>\n",
       "      <td>0.879 +/- 0.017 (in 3 folds)</td>\n",
       "      <td>0.893 +/- 0.018 (in 3 folds)</td>\n",
       "      <td>0.887 +/- 0.010 (in 3 folds)</td>\n",
       "      <td>0.901 +/- 0.012 (in 3 folds)</td>\n",
       "      <td>0.583 +/- 0.020 (in 3 folds)</td>\n",
       "      <td>0.504 +/- 0.053 (in 3 folds)</td>\n",
       "      <td>0.582</td>\n",
       "      <td>0.499</td>\n",
       "      <td>disease.separate_past_exposures</td>\n",
       "      <td>0.568 +/- 0.006 (in 3 folds)</td>\n",
       "      <td>...</td>\n",
       "      <td>0.568</td>\n",
       "      <td>0.482</td>\n",
       "      <td>0.024</td>\n",
       "      <td>Unknown</td>\n",
       "      <td>disease.separate_past_exposures</td>\n",
       "      <td>601</td>\n",
       "      <td>15</td>\n",
       "      <td>616</td>\n",
       "      <td>0.024351</td>\n",
       "      <td>False</td>\n",
       "    </tr>\n",
       "    <tr>\n",
       "      <th>ridge_cv.decision_thresholds_tuned</th>\n",
       "      <td>0.879 +/- 0.017 (in 3 folds)</td>\n",
       "      <td>0.893 +/- 0.018 (in 3 folds)</td>\n",
       "      <td>0.887 +/- 0.010 (in 3 folds)</td>\n",
       "      <td>0.901 +/- 0.012 (in 3 folds)</td>\n",
       "      <td>0.580 +/- 0.028 (in 3 folds)</td>\n",
       "      <td>0.521 +/- 0.027 (in 3 folds)</td>\n",
       "      <td>0.579</td>\n",
       "      <td>0.518</td>\n",
       "      <td>disease.separate_past_exposures</td>\n",
       "      <td>0.565 +/- 0.014 (in 3 folds)</td>\n",
       "      <td>...</td>\n",
       "      <td>0.565</td>\n",
       "      <td>0.500</td>\n",
       "      <td>0.024</td>\n",
       "      <td>Unknown</td>\n",
       "      <td>disease.separate_past_exposures</td>\n",
       "      <td>601</td>\n",
       "      <td>15</td>\n",
       "      <td>616</td>\n",
       "      <td>0.024351</td>\n",
       "      <td>False</td>\n",
       "    </tr>\n",
       "    <tr>\n",
       "      <th>linearsvm_ovr</th>\n",
       "      <td>0.877 +/- 0.011 (in 3 folds)</td>\n",
       "      <td>0.888 +/- 0.009 (in 3 folds)</td>\n",
       "      <td>0.885 +/- 0.006 (in 3 folds)</td>\n",
       "      <td>0.898 +/- 0.005 (in 3 folds)</td>\n",
       "      <td>0.611 +/- 0.029 (in 3 folds)</td>\n",
       "      <td>0.501 +/- 0.040 (in 3 folds)</td>\n",
       "      <td>0.611</td>\n",
       "      <td>0.499</td>\n",
       "      <td>disease.separate_past_exposures</td>\n",
       "      <td>0.609 +/- 0.028 (in 3 folds)</td>\n",
       "      <td>...</td>\n",
       "      <td>0.609</td>\n",
       "      <td>0.497</td>\n",
       "      <td>0.003</td>\n",
       "      <td>Unknown</td>\n",
       "      <td>disease.separate_past_exposures</td>\n",
       "      <td>614</td>\n",
       "      <td>2</td>\n",
       "      <td>616</td>\n",
       "      <td>0.003247</td>\n",
       "      <td>False</td>\n",
       "    </tr>\n",
       "    <tr>\n",
       "      <th>linearsvm_ovr.decision_thresholds_tuned</th>\n",
       "      <td>0.877 +/- 0.011 (in 3 folds)</td>\n",
       "      <td>0.888 +/- 0.009 (in 3 folds)</td>\n",
       "      <td>0.885 +/- 0.006 (in 3 folds)</td>\n",
       "      <td>0.898 +/- 0.005 (in 3 folds)</td>\n",
       "      <td>0.583 +/- 0.030 (in 3 folds)</td>\n",
       "      <td>0.522 +/- 0.028 (in 3 folds)</td>\n",
       "      <td>0.583</td>\n",
       "      <td>0.518</td>\n",
       "      <td>disease.separate_past_exposures</td>\n",
       "      <td>0.581 +/- 0.031 (in 3 folds)</td>\n",
       "      <td>...</td>\n",
       "      <td>0.581</td>\n",
       "      <td>0.516</td>\n",
       "      <td>0.003</td>\n",
       "      <td>Unknown</td>\n",
       "      <td>disease.separate_past_exposures</td>\n",
       "      <td>614</td>\n",
       "      <td>2</td>\n",
       "      <td>616</td>\n",
       "      <td>0.003247</td>\n",
       "      <td>False</td>\n",
       "    </tr>\n",
       "    <tr>\n",
       "      <th>lasso_cv</th>\n",
       "      <td>0.863 +/- 0.027 (in 3 folds)</td>\n",
       "      <td>0.868 +/- 0.028 (in 3 folds)</td>\n",
       "      <td>0.867 +/- 0.033 (in 3 folds)</td>\n",
       "      <td>0.874 +/- 0.036 (in 3 folds)</td>\n",
       "      <td>0.590 +/- 0.029 (in 3 folds)</td>\n",
       "      <td>0.475 +/- 0.042 (in 3 folds)</td>\n",
       "      <td>0.590</td>\n",
       "      <td>0.473</td>\n",
       "      <td>disease.separate_past_exposures</td>\n",
       "      <td>0.588 +/- 0.028 (in 3 folds)</td>\n",
       "      <td>...</td>\n",
       "      <td>0.588</td>\n",
       "      <td>0.472</td>\n",
       "      <td>0.003</td>\n",
       "      <td>Unknown</td>\n",
       "      <td>disease.separate_past_exposures</td>\n",
       "      <td>614</td>\n",
       "      <td>2</td>\n",
       "      <td>616</td>\n",
       "      <td>0.003247</td>\n",
       "      <td>True</td>\n",
       "    </tr>\n",
       "    <tr>\n",
       "      <th>lasso_cv.decision_thresholds_tuned</th>\n",
       "      <td>0.863 +/- 0.027 (in 3 folds)</td>\n",
       "      <td>0.868 +/- 0.028 (in 3 folds)</td>\n",
       "      <td>0.867 +/- 0.033 (in 3 folds)</td>\n",
       "      <td>0.874 +/- 0.036 (in 3 folds)</td>\n",
       "      <td>0.566 +/- 0.035 (in 3 folds)</td>\n",
       "      <td>0.497 +/- 0.032 (in 3 folds)</td>\n",
       "      <td>0.567</td>\n",
       "      <td>0.495</td>\n",
       "      <td>disease.separate_past_exposures</td>\n",
       "      <td>0.564 +/- 0.035 (in 3 folds)</td>\n",
       "      <td>...</td>\n",
       "      <td>0.565</td>\n",
       "      <td>0.493</td>\n",
       "      <td>0.003</td>\n",
       "      <td>Unknown</td>\n",
       "      <td>disease.separate_past_exposures</td>\n",
       "      <td>614</td>\n",
       "      <td>2</td>\n",
       "      <td>616</td>\n",
       "      <td>0.003247</td>\n",
       "      <td>False</td>\n",
       "    </tr>\n",
       "    <tr>\n",
       "      <th>elasticnet_cv</th>\n",
       "      <td>0.863 +/- 0.017 (in 3 folds)</td>\n",
       "      <td>0.870 +/- 0.017 (in 3 folds)</td>\n",
       "      <td>0.872 +/- 0.019 (in 3 folds)</td>\n",
       "      <td>0.881 +/- 0.020 (in 3 folds)</td>\n",
       "      <td>0.582 +/- 0.016 (in 3 folds)</td>\n",
       "      <td>0.468 +/- 0.018 (in 3 folds)</td>\n",
       "      <td>0.582</td>\n",
       "      <td>0.467</td>\n",
       "      <td>disease.separate_past_exposures</td>\n",
       "      <td>0.581 +/- 0.014 (in 3 folds)</td>\n",
       "      <td>...</td>\n",
       "      <td>0.581</td>\n",
       "      <td>0.466</td>\n",
       "      <td>0.002</td>\n",
       "      <td>Unknown</td>\n",
       "      <td>disease.separate_past_exposures</td>\n",
       "      <td>615</td>\n",
       "      <td>1</td>\n",
       "      <td>616</td>\n",
       "      <td>0.001623</td>\n",
       "      <td>True</td>\n",
       "    </tr>\n",
       "    <tr>\n",
       "      <th>elasticnet_cv.decision_thresholds_tuned</th>\n",
       "      <td>0.863 +/- 0.017 (in 3 folds)</td>\n",
       "      <td>0.870 +/- 0.017 (in 3 folds)</td>\n",
       "      <td>0.872 +/- 0.019 (in 3 folds)</td>\n",
       "      <td>0.881 +/- 0.020 (in 3 folds)</td>\n",
       "      <td>0.576 +/- 0.008 (in 3 folds)</td>\n",
       "      <td>0.489 +/- 0.026 (in 3 folds)</td>\n",
       "      <td>0.576</td>\n",
       "      <td>0.485</td>\n",
       "      <td>disease.separate_past_exposures</td>\n",
       "      <td>0.575 +/- 0.007 (in 3 folds)</td>\n",
       "      <td>...</td>\n",
       "      <td>0.575</td>\n",
       "      <td>0.484</td>\n",
       "      <td>0.002</td>\n",
       "      <td>Unknown</td>\n",
       "      <td>disease.separate_past_exposures</td>\n",
       "      <td>615</td>\n",
       "      <td>1</td>\n",
       "      <td>616</td>\n",
       "      <td>0.001623</td>\n",
       "      <td>True</td>\n",
       "    </tr>\n",
       "    <tr>\n",
       "      <th>elasticnet_cv0.25</th>\n",
       "      <td>0.863 +/- 0.017 (in 3 folds)</td>\n",
       "      <td>0.872 +/- 0.017 (in 3 folds)</td>\n",
       "      <td>0.873 +/- 0.017 (in 3 folds)</td>\n",
       "      <td>0.883 +/- 0.018 (in 3 folds)</td>\n",
       "      <td>0.582 +/- 0.011 (in 3 folds)</td>\n",
       "      <td>0.467 +/- 0.011 (in 3 folds)</td>\n",
       "      <td>0.582</td>\n",
       "      <td>0.466</td>\n",
       "      <td>disease.separate_past_exposures</td>\n",
       "      <td>0.581 +/- 0.010 (in 3 folds)</td>\n",
       "      <td>...</td>\n",
       "      <td>0.581</td>\n",
       "      <td>0.465</td>\n",
       "      <td>0.002</td>\n",
       "      <td>Unknown</td>\n",
       "      <td>disease.separate_past_exposures</td>\n",
       "      <td>615</td>\n",
       "      <td>1</td>\n",
       "      <td>616</td>\n",
       "      <td>0.001623</td>\n",
       "      <td>True</td>\n",
       "    </tr>\n",
       "    <tr>\n",
       "      <th>elasticnet_cv0.25.decision_thresholds_tuned</th>\n",
       "      <td>0.863 +/- 0.017 (in 3 folds)</td>\n",
       "      <td>0.872 +/- 0.017 (in 3 folds)</td>\n",
       "      <td>0.873 +/- 0.017 (in 3 folds)</td>\n",
       "      <td>0.883 +/- 0.018 (in 3 folds)</td>\n",
       "      <td>0.574 +/- 0.006 (in 3 folds)</td>\n",
       "      <td>0.488 +/- 0.028 (in 3 folds)</td>\n",
       "      <td>0.574</td>\n",
       "      <td>0.484</td>\n",
       "      <td>disease.separate_past_exposures</td>\n",
       "      <td>0.573 +/- 0.004 (in 3 folds)</td>\n",
       "      <td>...</td>\n",
       "      <td>0.573</td>\n",
       "      <td>0.483</td>\n",
       "      <td>0.002</td>\n",
       "      <td>Unknown</td>\n",
       "      <td>disease.separate_past_exposures</td>\n",
       "      <td>615</td>\n",
       "      <td>1</td>\n",
       "      <td>616</td>\n",
       "      <td>0.001623</td>\n",
       "      <td>True</td>\n",
       "    </tr>\n",
       "    <tr>\n",
       "      <th>elasticnet_cv0.75</th>\n",
       "      <td>0.862 +/- 0.019 (in 3 folds)</td>\n",
       "      <td>0.869 +/- 0.019 (in 3 folds)</td>\n",
       "      <td>0.871 +/- 0.021 (in 3 folds)</td>\n",
       "      <td>0.879 +/- 0.023 (in 3 folds)</td>\n",
       "      <td>0.582 +/- 0.016 (in 3 folds)</td>\n",
       "      <td>0.467 +/- 0.018 (in 3 folds)</td>\n",
       "      <td>0.582</td>\n",
       "      <td>0.466</td>\n",
       "      <td>disease.separate_past_exposures</td>\n",
       "      <td>0.581 +/- 0.014 (in 3 folds)</td>\n",
       "      <td>...</td>\n",
       "      <td>0.581</td>\n",
       "      <td>0.465</td>\n",
       "      <td>0.002</td>\n",
       "      <td>Unknown</td>\n",
       "      <td>disease.separate_past_exposures</td>\n",
       "      <td>615</td>\n",
       "      <td>1</td>\n",
       "      <td>616</td>\n",
       "      <td>0.001623</td>\n",
       "      <td>True</td>\n",
       "    </tr>\n",
       "    <tr>\n",
       "      <th>elasticnet_cv0.75.decision_thresholds_tuned</th>\n",
       "      <td>0.862 +/- 0.019 (in 3 folds)</td>\n",
       "      <td>0.869 +/- 0.019 (in 3 folds)</td>\n",
       "      <td>0.871 +/- 0.021 (in 3 folds)</td>\n",
       "      <td>0.879 +/- 0.023 (in 3 folds)</td>\n",
       "      <td>0.579 +/- 0.002 (in 3 folds)</td>\n",
       "      <td>0.495 +/- 0.024 (in 3 folds)</td>\n",
       "      <td>0.579</td>\n",
       "      <td>0.491</td>\n",
       "      <td>disease.separate_past_exposures</td>\n",
       "      <td>0.578 +/- 0.002 (in 3 folds)</td>\n",
       "      <td>...</td>\n",
       "      <td>0.578</td>\n",
       "      <td>0.490</td>\n",
       "      <td>0.002</td>\n",
       "      <td>Unknown</td>\n",
       "      <td>disease.separate_past_exposures</td>\n",
       "      <td>615</td>\n",
       "      <td>1</td>\n",
       "      <td>616</td>\n",
       "      <td>0.001623</td>\n",
       "      <td>True</td>\n",
       "    </tr>\n",
       "    <tr>\n",
       "      <th>logisticregression_unregularized.decision_thresholds_tuned</th>\n",
       "      <td>0.856 +/- 0.021 (in 3 folds)</td>\n",
       "      <td>0.865 +/- 0.020 (in 3 folds)</td>\n",
       "      <td>0.862 +/- 0.016 (in 3 folds)</td>\n",
       "      <td>0.872 +/- 0.014 (in 3 folds)</td>\n",
       "      <td>0.552 +/- 0.025 (in 3 folds)</td>\n",
       "      <td>0.447 +/- 0.053 (in 3 folds)</td>\n",
       "      <td>0.551</td>\n",
       "      <td>0.417</td>\n",
       "      <td>disease.separate_past_exposures</td>\n",
       "      <td>0.551 +/- 0.024 (in 3 folds)</td>\n",
       "      <td>...</td>\n",
       "      <td>0.550</td>\n",
       "      <td>0.416</td>\n",
       "      <td>0.002</td>\n",
       "      <td>Unknown</td>\n",
       "      <td>disease.separate_past_exposures</td>\n",
       "      <td>615</td>\n",
       "      <td>1</td>\n",
       "      <td>616</td>\n",
       "      <td>0.001623</td>\n",
       "      <td>False</td>\n",
       "    </tr>\n",
       "    <tr>\n",
       "      <th>logisticregression_unregularized</th>\n",
       "      <td>0.856 +/- 0.021 (in 3 folds)</td>\n",
       "      <td>0.865 +/- 0.020 (in 3 folds)</td>\n",
       "      <td>0.862 +/- 0.016 (in 3 folds)</td>\n",
       "      <td>0.872 +/- 0.014 (in 3 folds)</td>\n",
       "      <td>0.578 +/- 0.030 (in 3 folds)</td>\n",
       "      <td>0.455 +/- 0.040 (in 3 folds)</td>\n",
       "      <td>0.577</td>\n",
       "      <td>0.454</td>\n",
       "      <td>disease.separate_past_exposures</td>\n",
       "      <td>0.577 +/- 0.029 (in 3 folds)</td>\n",
       "      <td>...</td>\n",
       "      <td>0.576</td>\n",
       "      <td>0.453</td>\n",
       "      <td>0.002</td>\n",
       "      <td>Unknown</td>\n",
       "      <td>disease.separate_past_exposures</td>\n",
       "      <td>615</td>\n",
       "      <td>1</td>\n",
       "      <td>616</td>\n",
       "      <td>0.001623</td>\n",
       "      <td>True</td>\n",
       "    </tr>\n",
       "    <tr>\n",
       "      <th>xgboost</th>\n",
       "      <td>0.833 +/- 0.033 (in 3 folds)</td>\n",
       "      <td>0.837 +/- 0.039 (in 3 folds)</td>\n",
       "      <td>0.822 +/- 0.047 (in 3 folds)</td>\n",
       "      <td>0.828 +/- 0.051 (in 3 folds)</td>\n",
       "      <td>0.594 +/- 0.042 (in 3 folds)</td>\n",
       "      <td>0.487 +/- 0.058 (in 3 folds)</td>\n",
       "      <td>0.593</td>\n",
       "      <td>0.484</td>\n",
       "      <td>disease.separate_past_exposures</td>\n",
       "      <td>0.572 +/- 0.029 (in 3 folds)</td>\n",
       "      <td>...</td>\n",
       "      <td>0.571</td>\n",
       "      <td>0.462</td>\n",
       "      <td>0.036</td>\n",
       "      <td>Unknown</td>\n",
       "      <td>disease.separate_past_exposures</td>\n",
       "      <td>594</td>\n",
       "      <td>22</td>\n",
       "      <td>616</td>\n",
       "      <td>0.035714</td>\n",
       "      <td>False</td>\n",
       "    </tr>\n",
       "    <tr>\n",
       "      <th>xgboost.decision_thresholds_tuned</th>\n",
       "      <td>0.833 +/- 0.033 (in 3 folds)</td>\n",
       "      <td>0.837 +/- 0.039 (in 3 folds)</td>\n",
       "      <td>0.822 +/- 0.047 (in 3 folds)</td>\n",
       "      <td>0.828 +/- 0.051 (in 3 folds)</td>\n",
       "      <td>0.569 +/- 0.046 (in 3 folds)</td>\n",
       "      <td>0.468 +/- 0.061 (in 3 folds)</td>\n",
       "      <td>0.567</td>\n",
       "      <td>0.467</td>\n",
       "      <td>disease.separate_past_exposures</td>\n",
       "      <td>0.548 +/- 0.039 (in 3 folds)</td>\n",
       "      <td>...</td>\n",
       "      <td>0.547</td>\n",
       "      <td>0.444</td>\n",
       "      <td>0.036</td>\n",
       "      <td>Unknown</td>\n",
       "      <td>disease.separate_past_exposures</td>\n",
       "      <td>594</td>\n",
       "      <td>22</td>\n",
       "      <td>616</td>\n",
       "      <td>0.035714</td>\n",
       "      <td>False</td>\n",
       "    </tr>\n",
       "    <tr>\n",
       "      <th>rf_multiclass</th>\n",
       "      <td>0.821 +/- 0.017 (in 3 folds)</td>\n",
       "      <td>0.820 +/- 0.022 (in 3 folds)</td>\n",
       "      <td>0.816 +/- 0.023 (in 3 folds)</td>\n",
       "      <td>0.813 +/- 0.033 (in 3 folds)</td>\n",
       "      <td>0.588 +/- 0.039 (in 3 folds)</td>\n",
       "      <td>0.465 +/- 0.056 (in 3 folds)</td>\n",
       "      <td>0.587</td>\n",
       "      <td>0.460</td>\n",
       "      <td>disease.separate_past_exposures</td>\n",
       "      <td>0.577 +/- 0.030 (in 3 folds)</td>\n",
       "      <td>...</td>\n",
       "      <td>0.576</td>\n",
       "      <td>0.450</td>\n",
       "      <td>0.018</td>\n",
       "      <td>Unknown</td>\n",
       "      <td>disease.separate_past_exposures</td>\n",
       "      <td>605</td>\n",
       "      <td>11</td>\n",
       "      <td>616</td>\n",
       "      <td>0.017857</td>\n",
       "      <td>False</td>\n",
       "    </tr>\n",
       "    <tr>\n",
       "      <th>rf_multiclass.decision_thresholds_tuned</th>\n",
       "      <td>0.821 +/- 0.017 (in 3 folds)</td>\n",
       "      <td>0.820 +/- 0.022 (in 3 folds)</td>\n",
       "      <td>0.816 +/- 0.023 (in 3 folds)</td>\n",
       "      <td>0.813 +/- 0.033 (in 3 folds)</td>\n",
       "      <td>0.579 +/- 0.028 (in 3 folds)</td>\n",
       "      <td>0.487 +/- 0.029 (in 3 folds)</td>\n",
       "      <td>0.579</td>\n",
       "      <td>0.474</td>\n",
       "      <td>disease.separate_past_exposures</td>\n",
       "      <td>0.568 +/- 0.026 (in 3 folds)</td>\n",
       "      <td>...</td>\n",
       "      <td>0.568</td>\n",
       "      <td>0.463</td>\n",
       "      <td>0.018</td>\n",
       "      <td>Unknown</td>\n",
       "      <td>disease.separate_past_exposures</td>\n",
       "      <td>605</td>\n",
       "      <td>11</td>\n",
       "      <td>616</td>\n",
       "      <td>0.017857</td>\n",
       "      <td>False</td>\n",
       "    </tr>\n",
       "    <tr>\n",
       "      <th>elasticnet_cv_each_disease_versus_healthy</th>\n",
       "      <td>0.766 +/- 0.023 (in 3 folds)</td>\n",
       "      <td>0.794 +/- 0.024 (in 3 folds)</td>\n",
       "      <td>0.813 +/- 0.023 (in 3 folds)</td>\n",
       "      <td>0.838 +/- 0.021 (in 3 folds)</td>\n",
       "      <td>0.416 +/- 0.009 (in 3 folds)</td>\n",
       "      <td>0.390 +/- 0.007 (in 3 folds)</td>\n",
       "      <td>0.416</td>\n",
       "      <td>0.388</td>\n",
       "      <td>disease.separate_past_exposures</td>\n",
       "      <td>0.407 +/- 0.011 (in 3 folds)</td>\n",
       "      <td>...</td>\n",
       "      <td>0.407</td>\n",
       "      <td>0.371</td>\n",
       "      <td>0.019</td>\n",
       "      <td>Unknown</td>\n",
       "      <td>disease.separate_past_exposures</td>\n",
       "      <td>604</td>\n",
       "      <td>12</td>\n",
       "      <td>616</td>\n",
       "      <td>0.019481</td>\n",
       "      <td>True</td>\n",
       "    </tr>\n",
       "    <tr>\n",
       "      <th>elasticnet_cv_each_disease_versus_healthy.decision_thresholds_tuned</th>\n",
       "      <td>0.766 +/- 0.023 (in 3 folds)</td>\n",
       "      <td>0.794 +/- 0.024 (in 3 folds)</td>\n",
       "      <td>0.813 +/- 0.023 (in 3 folds)</td>\n",
       "      <td>0.838 +/- 0.021 (in 3 folds)</td>\n",
       "      <td>0.401 +/- 0.009 (in 3 folds)</td>\n",
       "      <td>0.371 +/- 0.004 (in 3 folds)</td>\n",
       "      <td>0.401</td>\n",
       "      <td>0.368</td>\n",
       "      <td>disease.separate_past_exposures</td>\n",
       "      <td>0.393 +/- 0.011 (in 3 folds)</td>\n",
       "      <td>...</td>\n",
       "      <td>0.393</td>\n",
       "      <td>0.351</td>\n",
       "      <td>0.019</td>\n",
       "      <td>Unknown</td>\n",
       "      <td>disease.separate_past_exposures</td>\n",
       "      <td>604</td>\n",
       "      <td>12</td>\n",
       "      <td>616</td>\n",
       "      <td>0.019481</td>\n",
       "      <td>True</td>\n",
       "    </tr>\n",
       "    <tr>\n",
       "      <th>dummy_most_frequent.decision_thresholds_tuned</th>\n",
       "      <td>0.500 +/- 0.000 (in 3 folds)</td>\n",
       "      <td>0.500 +/- 0.000 (in 3 folds)</td>\n",
       "      <td>0.500 +/- 0.000 (in 3 folds)</td>\n",
       "      <td>0.500 +/- 0.000 (in 3 folds)</td>\n",
       "      <td>0.372 +/- 0.016 (in 3 folds)</td>\n",
       "      <td>0.000 +/- 0.000 (in 3 folds)</td>\n",
       "      <td>0.372</td>\n",
       "      <td>0.000</td>\n",
       "      <td>disease.separate_past_exposures</td>\n",
       "      <td>0.346 +/- 0.005 (in 3 folds)</td>\n",
       "      <td>...</td>\n",
       "      <td>0.346</td>\n",
       "      <td>0.024</td>\n",
       "      <td>0.070</td>\n",
       "      <td>Unknown</td>\n",
       "      <td>disease.separate_past_exposures</td>\n",
       "      <td>573</td>\n",
       "      <td>43</td>\n",
       "      <td>616</td>\n",
       "      <td>0.069805</td>\n",
       "      <td>True</td>\n",
       "    </tr>\n",
       "    <tr>\n",
       "      <th>dummy_most_frequent</th>\n",
       "      <td>0.500 +/- 0.000 (in 3 folds)</td>\n",
       "      <td>0.500 +/- 0.000 (in 3 folds)</td>\n",
       "      <td>0.500 +/- 0.000 (in 3 folds)</td>\n",
       "      <td>0.500 +/- 0.000 (in 3 folds)</td>\n",
       "      <td>0.372 +/- 0.016 (in 3 folds)</td>\n",
       "      <td>0.000 +/- 0.000 (in 3 folds)</td>\n",
       "      <td>0.372</td>\n",
       "      <td>0.000</td>\n",
       "      <td>disease.separate_past_exposures</td>\n",
       "      <td>0.346 +/- 0.005 (in 3 folds)</td>\n",
       "      <td>...</td>\n",
       "      <td>0.346</td>\n",
       "      <td>0.024</td>\n",
       "      <td>0.070</td>\n",
       "      <td>Unknown</td>\n",
       "      <td>disease.separate_past_exposures</td>\n",
       "      <td>573</td>\n",
       "      <td>43</td>\n",
       "      <td>616</td>\n",
       "      <td>0.069805</td>\n",
       "      <td>True</td>\n",
       "    </tr>\n",
       "    <tr>\n",
       "      <th>dummy_stratified.decision_thresholds_tuned</th>\n",
       "      <td>0.498 +/- 0.016 (in 3 folds)</td>\n",
       "      <td>0.492 +/- 0.018 (in 3 folds)</td>\n",
       "      <td>0.504 +/- 0.005 (in 3 folds)</td>\n",
       "      <td>0.502 +/- 0.005 (in 3 folds)</td>\n",
       "      <td>0.218 +/- 0.014 (in 3 folds)</td>\n",
       "      <td>0.003 +/- 0.029 (in 3 folds)</td>\n",
       "      <td>0.217</td>\n",
       "      <td>0.004</td>\n",
       "      <td>disease.separate_past_exposures</td>\n",
       "      <td>0.206 +/- 0.020 (in 3 folds)</td>\n",
       "      <td>...</td>\n",
       "      <td>0.206</td>\n",
       "      <td>0.005</td>\n",
       "      <td>0.052</td>\n",
       "      <td>Unknown</td>\n",
       "      <td>disease.separate_past_exposures</td>\n",
       "      <td>584</td>\n",
       "      <td>32</td>\n",
       "      <td>616</td>\n",
       "      <td>0.051948</td>\n",
       "      <td>False</td>\n",
       "    </tr>\n",
       "    <tr>\n",
       "      <th>dummy_stratified</th>\n",
       "      <td>0.498 +/- 0.016 (in 3 folds)</td>\n",
       "      <td>0.492 +/- 0.018 (in 3 folds)</td>\n",
       "      <td>0.504 +/- 0.005 (in 3 folds)</td>\n",
       "      <td>0.502 +/- 0.005 (in 3 folds)</td>\n",
       "      <td>0.218 +/- 0.014 (in 3 folds)</td>\n",
       "      <td>0.003 +/- 0.029 (in 3 folds)</td>\n",
       "      <td>0.217</td>\n",
       "      <td>0.004</td>\n",
       "      <td>disease.separate_past_exposures</td>\n",
       "      <td>0.206 +/- 0.020 (in 3 folds)</td>\n",
       "      <td>...</td>\n",
       "      <td>0.206</td>\n",
       "      <td>0.005</td>\n",
       "      <td>0.052</td>\n",
       "      <td>Unknown</td>\n",
       "      <td>disease.separate_past_exposures</td>\n",
       "      <td>584</td>\n",
       "      <td>32</td>\n",
       "      <td>616</td>\n",
       "      <td>0.051948</td>\n",
       "      <td>False</td>\n",
       "    </tr>\n",
       "  </tbody>\n",
       "</table>\n",
       "<p>24 rows × 22 columns</p>\n",
       "</div>"
      ],
      "text/plain": [
       "                                                   ROC-AUC (weighted OvO) per fold  \\\n",
       "ridge_cv                                              0.879 +/- 0.017 (in 3 folds)   \n",
       "ridge_cv.decision_thresholds_tuned                    0.879 +/- 0.017 (in 3 folds)   \n",
       "linearsvm_ovr                                         0.877 +/- 0.011 (in 3 folds)   \n",
       "linearsvm_ovr.decision_thresholds_tuned               0.877 +/- 0.011 (in 3 folds)   \n",
       "lasso_cv                                              0.863 +/- 0.027 (in 3 folds)   \n",
       "lasso_cv.decision_thresholds_tuned                    0.863 +/- 0.027 (in 3 folds)   \n",
       "elasticnet_cv                                         0.863 +/- 0.017 (in 3 folds)   \n",
       "elasticnet_cv.decision_thresholds_tuned               0.863 +/- 0.017 (in 3 folds)   \n",
       "elasticnet_cv0.25                                     0.863 +/- 0.017 (in 3 folds)   \n",
       "elasticnet_cv0.25.decision_thresholds_tuned           0.863 +/- 0.017 (in 3 folds)   \n",
       "elasticnet_cv0.75                                     0.862 +/- 0.019 (in 3 folds)   \n",
       "elasticnet_cv0.75.decision_thresholds_tuned           0.862 +/- 0.019 (in 3 folds)   \n",
       "logisticregression_unregularized.decision_thres...    0.856 +/- 0.021 (in 3 folds)   \n",
       "logisticregression_unregularized                      0.856 +/- 0.021 (in 3 folds)   \n",
       "xgboost                                               0.833 +/- 0.033 (in 3 folds)   \n",
       "xgboost.decision_thresholds_tuned                     0.833 +/- 0.033 (in 3 folds)   \n",
       "rf_multiclass                                         0.821 +/- 0.017 (in 3 folds)   \n",
       "rf_multiclass.decision_thresholds_tuned               0.821 +/- 0.017 (in 3 folds)   \n",
       "elasticnet_cv_each_disease_versus_healthy             0.766 +/- 0.023 (in 3 folds)   \n",
       "elasticnet_cv_each_disease_versus_healthy.decis...    0.766 +/- 0.023 (in 3 folds)   \n",
       "dummy_most_frequent.decision_thresholds_tuned         0.500 +/- 0.000 (in 3 folds)   \n",
       "dummy_most_frequent                                   0.500 +/- 0.000 (in 3 folds)   \n",
       "dummy_stratified.decision_thresholds_tuned            0.498 +/- 0.016 (in 3 folds)   \n",
       "dummy_stratified                                      0.498 +/- 0.016 (in 3 folds)   \n",
       "\n",
       "                                                    ROC-AUC (macro OvO) per fold  \\\n",
       "ridge_cv                                            0.893 +/- 0.018 (in 3 folds)   \n",
       "ridge_cv.decision_thresholds_tuned                  0.893 +/- 0.018 (in 3 folds)   \n",
       "linearsvm_ovr                                       0.888 +/- 0.009 (in 3 folds)   \n",
       "linearsvm_ovr.decision_thresholds_tuned             0.888 +/- 0.009 (in 3 folds)   \n",
       "lasso_cv                                            0.868 +/- 0.028 (in 3 folds)   \n",
       "lasso_cv.decision_thresholds_tuned                  0.868 +/- 0.028 (in 3 folds)   \n",
       "elasticnet_cv                                       0.870 +/- 0.017 (in 3 folds)   \n",
       "elasticnet_cv.decision_thresholds_tuned             0.870 +/- 0.017 (in 3 folds)   \n",
       "elasticnet_cv0.25                                   0.872 +/- 0.017 (in 3 folds)   \n",
       "elasticnet_cv0.25.decision_thresholds_tuned         0.872 +/- 0.017 (in 3 folds)   \n",
       "elasticnet_cv0.75                                   0.869 +/- 0.019 (in 3 folds)   \n",
       "elasticnet_cv0.75.decision_thresholds_tuned         0.869 +/- 0.019 (in 3 folds)   \n",
       "logisticregression_unregularized.decision_thres...  0.865 +/- 0.020 (in 3 folds)   \n",
       "logisticregression_unregularized                    0.865 +/- 0.020 (in 3 folds)   \n",
       "xgboost                                             0.837 +/- 0.039 (in 3 folds)   \n",
       "xgboost.decision_thresholds_tuned                   0.837 +/- 0.039 (in 3 folds)   \n",
       "rf_multiclass                                       0.820 +/- 0.022 (in 3 folds)   \n",
       "rf_multiclass.decision_thresholds_tuned             0.820 +/- 0.022 (in 3 folds)   \n",
       "elasticnet_cv_each_disease_versus_healthy           0.794 +/- 0.024 (in 3 folds)   \n",
       "elasticnet_cv_each_disease_versus_healthy.decis...  0.794 +/- 0.024 (in 3 folds)   \n",
       "dummy_most_frequent.decision_thresholds_tuned       0.500 +/- 0.000 (in 3 folds)   \n",
       "dummy_most_frequent                                 0.500 +/- 0.000 (in 3 folds)   \n",
       "dummy_stratified.decision_thresholds_tuned          0.492 +/- 0.018 (in 3 folds)   \n",
       "dummy_stratified                                    0.492 +/- 0.018 (in 3 folds)   \n",
       "\n",
       "                                                   au-PRC (weighted OvO) per fold  \\\n",
       "ridge_cv                                             0.887 +/- 0.010 (in 3 folds)   \n",
       "ridge_cv.decision_thresholds_tuned                   0.887 +/- 0.010 (in 3 folds)   \n",
       "linearsvm_ovr                                        0.885 +/- 0.006 (in 3 folds)   \n",
       "linearsvm_ovr.decision_thresholds_tuned              0.885 +/- 0.006 (in 3 folds)   \n",
       "lasso_cv                                             0.867 +/- 0.033 (in 3 folds)   \n",
       "lasso_cv.decision_thresholds_tuned                   0.867 +/- 0.033 (in 3 folds)   \n",
       "elasticnet_cv                                        0.872 +/- 0.019 (in 3 folds)   \n",
       "elasticnet_cv.decision_thresholds_tuned              0.872 +/- 0.019 (in 3 folds)   \n",
       "elasticnet_cv0.25                                    0.873 +/- 0.017 (in 3 folds)   \n",
       "elasticnet_cv0.25.decision_thresholds_tuned          0.873 +/- 0.017 (in 3 folds)   \n",
       "elasticnet_cv0.75                                    0.871 +/- 0.021 (in 3 folds)   \n",
       "elasticnet_cv0.75.decision_thresholds_tuned          0.871 +/- 0.021 (in 3 folds)   \n",
       "logisticregression_unregularized.decision_thres...   0.862 +/- 0.016 (in 3 folds)   \n",
       "logisticregression_unregularized                     0.862 +/- 0.016 (in 3 folds)   \n",
       "xgboost                                              0.822 +/- 0.047 (in 3 folds)   \n",
       "xgboost.decision_thresholds_tuned                    0.822 +/- 0.047 (in 3 folds)   \n",
       "rf_multiclass                                        0.816 +/- 0.023 (in 3 folds)   \n",
       "rf_multiclass.decision_thresholds_tuned              0.816 +/- 0.023 (in 3 folds)   \n",
       "elasticnet_cv_each_disease_versus_healthy            0.813 +/- 0.023 (in 3 folds)   \n",
       "elasticnet_cv_each_disease_versus_healthy.decis...   0.813 +/- 0.023 (in 3 folds)   \n",
       "dummy_most_frequent.decision_thresholds_tuned        0.500 +/- 0.000 (in 3 folds)   \n",
       "dummy_most_frequent                                  0.500 +/- 0.000 (in 3 folds)   \n",
       "dummy_stratified.decision_thresholds_tuned           0.504 +/- 0.005 (in 3 folds)   \n",
       "dummy_stratified                                     0.504 +/- 0.005 (in 3 folds)   \n",
       "\n",
       "                                                     au-PRC (macro OvO) per fold  \\\n",
       "ridge_cv                                            0.901 +/- 0.012 (in 3 folds)   \n",
       "ridge_cv.decision_thresholds_tuned                  0.901 +/- 0.012 (in 3 folds)   \n",
       "linearsvm_ovr                                       0.898 +/- 0.005 (in 3 folds)   \n",
       "linearsvm_ovr.decision_thresholds_tuned             0.898 +/- 0.005 (in 3 folds)   \n",
       "lasso_cv                                            0.874 +/- 0.036 (in 3 folds)   \n",
       "lasso_cv.decision_thresholds_tuned                  0.874 +/- 0.036 (in 3 folds)   \n",
       "elasticnet_cv                                       0.881 +/- 0.020 (in 3 folds)   \n",
       "elasticnet_cv.decision_thresholds_tuned             0.881 +/- 0.020 (in 3 folds)   \n",
       "elasticnet_cv0.25                                   0.883 +/- 0.018 (in 3 folds)   \n",
       "elasticnet_cv0.25.decision_thresholds_tuned         0.883 +/- 0.018 (in 3 folds)   \n",
       "elasticnet_cv0.75                                   0.879 +/- 0.023 (in 3 folds)   \n",
       "elasticnet_cv0.75.decision_thresholds_tuned         0.879 +/- 0.023 (in 3 folds)   \n",
       "logisticregression_unregularized.decision_thres...  0.872 +/- 0.014 (in 3 folds)   \n",
       "logisticregression_unregularized                    0.872 +/- 0.014 (in 3 folds)   \n",
       "xgboost                                             0.828 +/- 0.051 (in 3 folds)   \n",
       "xgboost.decision_thresholds_tuned                   0.828 +/- 0.051 (in 3 folds)   \n",
       "rf_multiclass                                       0.813 +/- 0.033 (in 3 folds)   \n",
       "rf_multiclass.decision_thresholds_tuned             0.813 +/- 0.033 (in 3 folds)   \n",
       "elasticnet_cv_each_disease_versus_healthy           0.838 +/- 0.021 (in 3 folds)   \n",
       "elasticnet_cv_each_disease_versus_healthy.decis...  0.838 +/- 0.021 (in 3 folds)   \n",
       "dummy_most_frequent.decision_thresholds_tuned       0.500 +/- 0.000 (in 3 folds)   \n",
       "dummy_most_frequent                                 0.500 +/- 0.000 (in 3 folds)   \n",
       "dummy_stratified.decision_thresholds_tuned          0.502 +/- 0.005 (in 3 folds)   \n",
       "dummy_stratified                                    0.502 +/- 0.005 (in 3 folds)   \n",
       "\n",
       "                                                               Accuracy per fold  \\\n",
       "ridge_cv                                            0.583 +/- 0.020 (in 3 folds)   \n",
       "ridge_cv.decision_thresholds_tuned                  0.580 +/- 0.028 (in 3 folds)   \n",
       "linearsvm_ovr                                       0.611 +/- 0.029 (in 3 folds)   \n",
       "linearsvm_ovr.decision_thresholds_tuned             0.583 +/- 0.030 (in 3 folds)   \n",
       "lasso_cv                                            0.590 +/- 0.029 (in 3 folds)   \n",
       "lasso_cv.decision_thresholds_tuned                  0.566 +/- 0.035 (in 3 folds)   \n",
       "elasticnet_cv                                       0.582 +/- 0.016 (in 3 folds)   \n",
       "elasticnet_cv.decision_thresholds_tuned             0.576 +/- 0.008 (in 3 folds)   \n",
       "elasticnet_cv0.25                                   0.582 +/- 0.011 (in 3 folds)   \n",
       "elasticnet_cv0.25.decision_thresholds_tuned         0.574 +/- 0.006 (in 3 folds)   \n",
       "elasticnet_cv0.75                                   0.582 +/- 0.016 (in 3 folds)   \n",
       "elasticnet_cv0.75.decision_thresholds_tuned         0.579 +/- 0.002 (in 3 folds)   \n",
       "logisticregression_unregularized.decision_thres...  0.552 +/- 0.025 (in 3 folds)   \n",
       "logisticregression_unregularized                    0.578 +/- 0.030 (in 3 folds)   \n",
       "xgboost                                             0.594 +/- 0.042 (in 3 folds)   \n",
       "xgboost.decision_thresholds_tuned                   0.569 +/- 0.046 (in 3 folds)   \n",
       "rf_multiclass                                       0.588 +/- 0.039 (in 3 folds)   \n",
       "rf_multiclass.decision_thresholds_tuned             0.579 +/- 0.028 (in 3 folds)   \n",
       "elasticnet_cv_each_disease_versus_healthy           0.416 +/- 0.009 (in 3 folds)   \n",
       "elasticnet_cv_each_disease_versus_healthy.decis...  0.401 +/- 0.009 (in 3 folds)   \n",
       "dummy_most_frequent.decision_thresholds_tuned       0.372 +/- 0.016 (in 3 folds)   \n",
       "dummy_most_frequent                                 0.372 +/- 0.016 (in 3 folds)   \n",
       "dummy_stratified.decision_thresholds_tuned          0.218 +/- 0.014 (in 3 folds)   \n",
       "dummy_stratified                                    0.218 +/- 0.014 (in 3 folds)   \n",
       "\n",
       "                                                                    MCC per fold  \\\n",
       "ridge_cv                                            0.504 +/- 0.053 (in 3 folds)   \n",
       "ridge_cv.decision_thresholds_tuned                  0.521 +/- 0.027 (in 3 folds)   \n",
       "linearsvm_ovr                                       0.501 +/- 0.040 (in 3 folds)   \n",
       "linearsvm_ovr.decision_thresholds_tuned             0.522 +/- 0.028 (in 3 folds)   \n",
       "lasso_cv                                            0.475 +/- 0.042 (in 3 folds)   \n",
       "lasso_cv.decision_thresholds_tuned                  0.497 +/- 0.032 (in 3 folds)   \n",
       "elasticnet_cv                                       0.468 +/- 0.018 (in 3 folds)   \n",
       "elasticnet_cv.decision_thresholds_tuned             0.489 +/- 0.026 (in 3 folds)   \n",
       "elasticnet_cv0.25                                   0.467 +/- 0.011 (in 3 folds)   \n",
       "elasticnet_cv0.25.decision_thresholds_tuned         0.488 +/- 0.028 (in 3 folds)   \n",
       "elasticnet_cv0.75                                   0.467 +/- 0.018 (in 3 folds)   \n",
       "elasticnet_cv0.75.decision_thresholds_tuned         0.495 +/- 0.024 (in 3 folds)   \n",
       "logisticregression_unregularized.decision_thres...  0.447 +/- 0.053 (in 3 folds)   \n",
       "logisticregression_unregularized                    0.455 +/- 0.040 (in 3 folds)   \n",
       "xgboost                                             0.487 +/- 0.058 (in 3 folds)   \n",
       "xgboost.decision_thresholds_tuned                   0.468 +/- 0.061 (in 3 folds)   \n",
       "rf_multiclass                                       0.465 +/- 0.056 (in 3 folds)   \n",
       "rf_multiclass.decision_thresholds_tuned             0.487 +/- 0.029 (in 3 folds)   \n",
       "elasticnet_cv_each_disease_versus_healthy           0.390 +/- 0.007 (in 3 folds)   \n",
       "elasticnet_cv_each_disease_versus_healthy.decis...  0.371 +/- 0.004 (in 3 folds)   \n",
       "dummy_most_frequent.decision_thresholds_tuned       0.000 +/- 0.000 (in 3 folds)   \n",
       "dummy_most_frequent                                 0.000 +/- 0.000 (in 3 folds)   \n",
       "dummy_stratified.decision_thresholds_tuned          0.003 +/- 0.029 (in 3 folds)   \n",
       "dummy_stratified                                    0.003 +/- 0.029 (in 3 folds)   \n",
       "\n",
       "                                                   Accuracy global MCC global  \\\n",
       "ridge_cv                                                     0.582      0.499   \n",
       "ridge_cv.decision_thresholds_tuned                           0.579      0.518   \n",
       "linearsvm_ovr                                                0.611      0.499   \n",
       "linearsvm_ovr.decision_thresholds_tuned                      0.583      0.518   \n",
       "lasso_cv                                                     0.590      0.473   \n",
       "lasso_cv.decision_thresholds_tuned                           0.567      0.495   \n",
       "elasticnet_cv                                                0.582      0.467   \n",
       "elasticnet_cv.decision_thresholds_tuned                      0.576      0.485   \n",
       "elasticnet_cv0.25                                            0.582      0.466   \n",
       "elasticnet_cv0.25.decision_thresholds_tuned                  0.574      0.484   \n",
       "elasticnet_cv0.75                                            0.582      0.466   \n",
       "elasticnet_cv0.75.decision_thresholds_tuned                  0.579      0.491   \n",
       "logisticregression_unregularized.decision_thres...           0.551      0.417   \n",
       "logisticregression_unregularized                             0.577      0.454   \n",
       "xgboost                                                      0.593      0.484   \n",
       "xgboost.decision_thresholds_tuned                            0.567      0.467   \n",
       "rf_multiclass                                                0.587      0.460   \n",
       "rf_multiclass.decision_thresholds_tuned                      0.579      0.474   \n",
       "elasticnet_cv_each_disease_versus_healthy                    0.416      0.388   \n",
       "elasticnet_cv_each_disease_versus_healthy.decis...           0.401      0.368   \n",
       "dummy_most_frequent.decision_thresholds_tuned                0.372      0.000   \n",
       "dummy_most_frequent                                          0.372      0.000   \n",
       "dummy_stratified.decision_thresholds_tuned                   0.217      0.004   \n",
       "dummy_stratified                                             0.217      0.004   \n",
       "\n",
       "                                                   Global evaluation column name global  \\\n",
       "ridge_cv                                                disease.separate_past_exposures   \n",
       "ridge_cv.decision_thresholds_tuned                      disease.separate_past_exposures   \n",
       "linearsvm_ovr                                           disease.separate_past_exposures   \n",
       "linearsvm_ovr.decision_thresholds_tuned                 disease.separate_past_exposures   \n",
       "lasso_cv                                                disease.separate_past_exposures   \n",
       "lasso_cv.decision_thresholds_tuned                      disease.separate_past_exposures   \n",
       "elasticnet_cv                                           disease.separate_past_exposures   \n",
       "elasticnet_cv.decision_thresholds_tuned                 disease.separate_past_exposures   \n",
       "elasticnet_cv0.25                                       disease.separate_past_exposures   \n",
       "elasticnet_cv0.25.decision_thresholds_tuned             disease.separate_past_exposures   \n",
       "elasticnet_cv0.75                                       disease.separate_past_exposures   \n",
       "elasticnet_cv0.75.decision_thresholds_tuned             disease.separate_past_exposures   \n",
       "logisticregression_unregularized.decision_thres...      disease.separate_past_exposures   \n",
       "logisticregression_unregularized                        disease.separate_past_exposures   \n",
       "xgboost                                                 disease.separate_past_exposures   \n",
       "xgboost.decision_thresholds_tuned                       disease.separate_past_exposures   \n",
       "rf_multiclass                                           disease.separate_past_exposures   \n",
       "rf_multiclass.decision_thresholds_tuned                 disease.separate_past_exposures   \n",
       "elasticnet_cv_each_disease_versus_healthy               disease.separate_past_exposures   \n",
       "elasticnet_cv_each_disease_versus_healthy.decis...      disease.separate_past_exposures   \n",
       "dummy_most_frequent.decision_thresholds_tuned           disease.separate_past_exposures   \n",
       "dummy_most_frequent                                     disease.separate_past_exposures   \n",
       "dummy_stratified.decision_thresholds_tuned              disease.separate_past_exposures   \n",
       "dummy_stratified                                        disease.separate_past_exposures   \n",
       "\n",
       "                                                   Accuracy per fold with abstention  \\\n",
       "ridge_cv                                                0.568 +/- 0.006 (in 3 folds)   \n",
       "ridge_cv.decision_thresholds_tuned                      0.565 +/- 0.014 (in 3 folds)   \n",
       "linearsvm_ovr                                           0.609 +/- 0.028 (in 3 folds)   \n",
       "linearsvm_ovr.decision_thresholds_tuned                 0.581 +/- 0.031 (in 3 folds)   \n",
       "lasso_cv                                                0.588 +/- 0.028 (in 3 folds)   \n",
       "lasso_cv.decision_thresholds_tuned                      0.564 +/- 0.035 (in 3 folds)   \n",
       "elasticnet_cv                                           0.581 +/- 0.014 (in 3 folds)   \n",
       "elasticnet_cv.decision_thresholds_tuned                 0.575 +/- 0.007 (in 3 folds)   \n",
       "elasticnet_cv0.25                                       0.581 +/- 0.010 (in 3 folds)   \n",
       "elasticnet_cv0.25.decision_thresholds_tuned             0.573 +/- 0.004 (in 3 folds)   \n",
       "elasticnet_cv0.75                                       0.581 +/- 0.014 (in 3 folds)   \n",
       "elasticnet_cv0.75.decision_thresholds_tuned             0.578 +/- 0.002 (in 3 folds)   \n",
       "logisticregression_unregularized.decision_thres...      0.551 +/- 0.024 (in 3 folds)   \n",
       "logisticregression_unregularized                        0.577 +/- 0.029 (in 3 folds)   \n",
       "xgboost                                                 0.572 +/- 0.029 (in 3 folds)   \n",
       "xgboost.decision_thresholds_tuned                       0.548 +/- 0.039 (in 3 folds)   \n",
       "rf_multiclass                                           0.577 +/- 0.030 (in 3 folds)   \n",
       "rf_multiclass.decision_thresholds_tuned                 0.568 +/- 0.026 (in 3 folds)   \n",
       "elasticnet_cv_each_disease_versus_healthy               0.407 +/- 0.011 (in 3 folds)   \n",
       "elasticnet_cv_each_disease_versus_healthy.decis...      0.393 +/- 0.011 (in 3 folds)   \n",
       "dummy_most_frequent.decision_thresholds_tuned           0.346 +/- 0.005 (in 3 folds)   \n",
       "dummy_most_frequent                                     0.346 +/- 0.005 (in 3 folds)   \n",
       "dummy_stratified.decision_thresholds_tuned              0.206 +/- 0.020 (in 3 folds)   \n",
       "dummy_stratified                                        0.206 +/- 0.020 (in 3 folds)   \n",
       "\n",
       "                                                    ...  \\\n",
       "ridge_cv                                            ...   \n",
       "ridge_cv.decision_thresholds_tuned                  ...   \n",
       "linearsvm_ovr                                       ...   \n",
       "linearsvm_ovr.decision_thresholds_tuned             ...   \n",
       "lasso_cv                                            ...   \n",
       "lasso_cv.decision_thresholds_tuned                  ...   \n",
       "elasticnet_cv                                       ...   \n",
       "elasticnet_cv.decision_thresholds_tuned             ...   \n",
       "elasticnet_cv0.25                                   ...   \n",
       "elasticnet_cv0.25.decision_thresholds_tuned         ...   \n",
       "elasticnet_cv0.75                                   ...   \n",
       "elasticnet_cv0.75.decision_thresholds_tuned         ...   \n",
       "logisticregression_unregularized.decision_thres...  ...   \n",
       "logisticregression_unregularized                    ...   \n",
       "xgboost                                             ...   \n",
       "xgboost.decision_thresholds_tuned                   ...   \n",
       "rf_multiclass                                       ...   \n",
       "rf_multiclass.decision_thresholds_tuned             ...   \n",
       "elasticnet_cv_each_disease_versus_healthy           ...   \n",
       "elasticnet_cv_each_disease_versus_healthy.decis...  ...   \n",
       "dummy_most_frequent.decision_thresholds_tuned       ...   \n",
       "dummy_most_frequent                                 ...   \n",
       "dummy_stratified.decision_thresholds_tuned          ...   \n",
       "dummy_stratified                                    ...   \n",
       "\n",
       "                                                   Accuracy global with abstention  \\\n",
       "ridge_cv                                                                     0.568   \n",
       "ridge_cv.decision_thresholds_tuned                                           0.565   \n",
       "linearsvm_ovr                                                                0.609   \n",
       "linearsvm_ovr.decision_thresholds_tuned                                      0.581   \n",
       "lasso_cv                                                                     0.588   \n",
       "lasso_cv.decision_thresholds_tuned                                           0.565   \n",
       "elasticnet_cv                                                                0.581   \n",
       "elasticnet_cv.decision_thresholds_tuned                                      0.575   \n",
       "elasticnet_cv0.25                                                            0.581   \n",
       "elasticnet_cv0.25.decision_thresholds_tuned                                  0.573   \n",
       "elasticnet_cv0.75                                                            0.581   \n",
       "elasticnet_cv0.75.decision_thresholds_tuned                                  0.578   \n",
       "logisticregression_unregularized.decision_thres...                           0.550   \n",
       "logisticregression_unregularized                                             0.576   \n",
       "xgboost                                                                      0.571   \n",
       "xgboost.decision_thresholds_tuned                                            0.547   \n",
       "rf_multiclass                                                                0.576   \n",
       "rf_multiclass.decision_thresholds_tuned                                      0.568   \n",
       "elasticnet_cv_each_disease_versus_healthy                                    0.407   \n",
       "elasticnet_cv_each_disease_versus_healthy.decis...                           0.393   \n",
       "dummy_most_frequent.decision_thresholds_tuned                                0.346   \n",
       "dummy_most_frequent                                                          0.346   \n",
       "dummy_stratified.decision_thresholds_tuned                                   0.206   \n",
       "dummy_stratified                                                             0.206   \n",
       "\n",
       "                                                   MCC global with abstention  \\\n",
       "ridge_cv                                                                0.482   \n",
       "ridge_cv.decision_thresholds_tuned                                      0.500   \n",
       "linearsvm_ovr                                                           0.497   \n",
       "linearsvm_ovr.decision_thresholds_tuned                                 0.516   \n",
       "lasso_cv                                                                0.472   \n",
       "lasso_cv.decision_thresholds_tuned                                      0.493   \n",
       "elasticnet_cv                                                           0.466   \n",
       "elasticnet_cv.decision_thresholds_tuned                                 0.484   \n",
       "elasticnet_cv0.25                                                       0.465   \n",
       "elasticnet_cv0.25.decision_thresholds_tuned                             0.483   \n",
       "elasticnet_cv0.75                                                       0.465   \n",
       "elasticnet_cv0.75.decision_thresholds_tuned                             0.490   \n",
       "logisticregression_unregularized.decision_thres...                      0.416   \n",
       "logisticregression_unregularized                                        0.453   \n",
       "xgboost                                                                 0.462   \n",
       "xgboost.decision_thresholds_tuned                                       0.444   \n",
       "rf_multiclass                                                           0.450   \n",
       "rf_multiclass.decision_thresholds_tuned                                 0.463   \n",
       "elasticnet_cv_each_disease_versus_healthy                               0.371   \n",
       "elasticnet_cv_each_disease_versus_healthy.decis...                      0.351   \n",
       "dummy_most_frequent.decision_thresholds_tuned                           0.024   \n",
       "dummy_most_frequent                                                     0.024   \n",
       "dummy_stratified.decision_thresholds_tuned                              0.005   \n",
       "dummy_stratified                                                        0.005   \n",
       "\n",
       "                                                   Unknown/abstention proportion global with abstention  \\\n",
       "ridge_cv                                                                                        0.024     \n",
       "ridge_cv.decision_thresholds_tuned                                                              0.024     \n",
       "linearsvm_ovr                                                                                   0.003     \n",
       "linearsvm_ovr.decision_thresholds_tuned                                                         0.003     \n",
       "lasso_cv                                                                                        0.003     \n",
       "lasso_cv.decision_thresholds_tuned                                                              0.003     \n",
       "elasticnet_cv                                                                                   0.002     \n",
       "elasticnet_cv.decision_thresholds_tuned                                                         0.002     \n",
       "elasticnet_cv0.25                                                                               0.002     \n",
       "elasticnet_cv0.25.decision_thresholds_tuned                                                     0.002     \n",
       "elasticnet_cv0.75                                                                               0.002     \n",
       "elasticnet_cv0.75.decision_thresholds_tuned                                                     0.002     \n",
       "logisticregression_unregularized.decision_thres...                                              0.002     \n",
       "logisticregression_unregularized                                                                0.002     \n",
       "xgboost                                                                                         0.036     \n",
       "xgboost.decision_thresholds_tuned                                                               0.036     \n",
       "rf_multiclass                                                                                   0.018     \n",
       "rf_multiclass.decision_thresholds_tuned                                                         0.018     \n",
       "elasticnet_cv_each_disease_versus_healthy                                                       0.019     \n",
       "elasticnet_cv_each_disease_versus_healthy.decis...                                              0.019     \n",
       "dummy_most_frequent.decision_thresholds_tuned                                                   0.070     \n",
       "dummy_most_frequent                                                                             0.070     \n",
       "dummy_stratified.decision_thresholds_tuned                                                      0.052     \n",
       "dummy_stratified                                                                                0.052     \n",
       "\n",
       "                                                   Abstention label global with abstention  \\\n",
       "ridge_cv                                                                           Unknown   \n",
       "ridge_cv.decision_thresholds_tuned                                                 Unknown   \n",
       "linearsvm_ovr                                                                      Unknown   \n",
       "linearsvm_ovr.decision_thresholds_tuned                                            Unknown   \n",
       "lasso_cv                                                                           Unknown   \n",
       "lasso_cv.decision_thresholds_tuned                                                 Unknown   \n",
       "elasticnet_cv                                                                      Unknown   \n",
       "elasticnet_cv.decision_thresholds_tuned                                            Unknown   \n",
       "elasticnet_cv0.25                                                                  Unknown   \n",
       "elasticnet_cv0.25.decision_thresholds_tuned                                        Unknown   \n",
       "elasticnet_cv0.75                                                                  Unknown   \n",
       "elasticnet_cv0.75.decision_thresholds_tuned                                        Unknown   \n",
       "logisticregression_unregularized.decision_thres...                                 Unknown   \n",
       "logisticregression_unregularized                                                   Unknown   \n",
       "xgboost                                                                            Unknown   \n",
       "xgboost.decision_thresholds_tuned                                                  Unknown   \n",
       "rf_multiclass                                                                      Unknown   \n",
       "rf_multiclass.decision_thresholds_tuned                                            Unknown   \n",
       "elasticnet_cv_each_disease_versus_healthy                                          Unknown   \n",
       "elasticnet_cv_each_disease_versus_healthy.decis...                                 Unknown   \n",
       "dummy_most_frequent.decision_thresholds_tuned                                      Unknown   \n",
       "dummy_most_frequent                                                                Unknown   \n",
       "dummy_stratified.decision_thresholds_tuned                                         Unknown   \n",
       "dummy_stratified                                                                   Unknown   \n",
       "\n",
       "                                                   Global evaluation column name global with abstention  \\\n",
       "ridge_cv                                                              disease.separate_past_exposures     \n",
       "ridge_cv.decision_thresholds_tuned                                    disease.separate_past_exposures     \n",
       "linearsvm_ovr                                                         disease.separate_past_exposures     \n",
       "linearsvm_ovr.decision_thresholds_tuned                               disease.separate_past_exposures     \n",
       "lasso_cv                                                              disease.separate_past_exposures     \n",
       "lasso_cv.decision_thresholds_tuned                                    disease.separate_past_exposures     \n",
       "elasticnet_cv                                                         disease.separate_past_exposures     \n",
       "elasticnet_cv.decision_thresholds_tuned                               disease.separate_past_exposures     \n",
       "elasticnet_cv0.25                                                     disease.separate_past_exposures     \n",
       "elasticnet_cv0.25.decision_thresholds_tuned                           disease.separate_past_exposures     \n",
       "elasticnet_cv0.75                                                     disease.separate_past_exposures     \n",
       "elasticnet_cv0.75.decision_thresholds_tuned                           disease.separate_past_exposures     \n",
       "logisticregression_unregularized.decision_thres...                    disease.separate_past_exposures     \n",
       "logisticregression_unregularized                                      disease.separate_past_exposures     \n",
       "xgboost                                                               disease.separate_past_exposures     \n",
       "xgboost.decision_thresholds_tuned                                     disease.separate_past_exposures     \n",
       "rf_multiclass                                                         disease.separate_past_exposures     \n",
       "rf_multiclass.decision_thresholds_tuned                               disease.separate_past_exposures     \n",
       "elasticnet_cv_each_disease_versus_healthy                             disease.separate_past_exposures     \n",
       "elasticnet_cv_each_disease_versus_healthy.decis...                    disease.separate_past_exposures     \n",
       "dummy_most_frequent.decision_thresholds_tuned                         disease.separate_past_exposures     \n",
       "dummy_most_frequent                                                   disease.separate_past_exposures     \n",
       "dummy_stratified.decision_thresholds_tuned                            disease.separate_past_exposures     \n",
       "dummy_stratified                                                      disease.separate_past_exposures     \n",
       "\n",
       "                                                   sample_size n_abstentions  \\\n",
       "ridge_cv                                                   601            15   \n",
       "ridge_cv.decision_thresholds_tuned                         601            15   \n",
       "linearsvm_ovr                                              614             2   \n",
       "linearsvm_ovr.decision_thresholds_tuned                    614             2   \n",
       "lasso_cv                                                   614             2   \n",
       "lasso_cv.decision_thresholds_tuned                         614             2   \n",
       "elasticnet_cv                                              615             1   \n",
       "elasticnet_cv.decision_thresholds_tuned                    615             1   \n",
       "elasticnet_cv0.25                                          615             1   \n",
       "elasticnet_cv0.25.decision_thresholds_tuned                615             1   \n",
       "elasticnet_cv0.75                                          615             1   \n",
       "elasticnet_cv0.75.decision_thresholds_tuned                615             1   \n",
       "logisticregression_unregularized.decision_thres...         615             1   \n",
       "logisticregression_unregularized                           615             1   \n",
       "xgboost                                                    594            22   \n",
       "xgboost.decision_thresholds_tuned                          594            22   \n",
       "rf_multiclass                                              605            11   \n",
       "rf_multiclass.decision_thresholds_tuned                    605            11   \n",
       "elasticnet_cv_each_disease_versus_healthy                  604            12   \n",
       "elasticnet_cv_each_disease_versus_healthy.decis...         604            12   \n",
       "dummy_most_frequent.decision_thresholds_tuned              573            43   \n",
       "dummy_most_frequent                                        573            43   \n",
       "dummy_stratified.decision_thresholds_tuned                 584            32   \n",
       "dummy_stratified                                           584            32   \n",
       "\n",
       "                                                    sample_size including abstentions  \\\n",
       "ridge_cv                                                                          616   \n",
       "ridge_cv.decision_thresholds_tuned                                                616   \n",
       "linearsvm_ovr                                                                     616   \n",
       "linearsvm_ovr.decision_thresholds_tuned                                           616   \n",
       "lasso_cv                                                                          616   \n",
       "lasso_cv.decision_thresholds_tuned                                                616   \n",
       "elasticnet_cv                                                                     616   \n",
       "elasticnet_cv.decision_thresholds_tuned                                           616   \n",
       "elasticnet_cv0.25                                                                 616   \n",
       "elasticnet_cv0.25.decision_thresholds_tuned                                       616   \n",
       "elasticnet_cv0.75                                                                 616   \n",
       "elasticnet_cv0.75.decision_thresholds_tuned                                       616   \n",
       "logisticregression_unregularized.decision_thres...                                616   \n",
       "logisticregression_unregularized                                                  616   \n",
       "xgboost                                                                           616   \n",
       "xgboost.decision_thresholds_tuned                                                 616   \n",
       "rf_multiclass                                                                     616   \n",
       "rf_multiclass.decision_thresholds_tuned                                           616   \n",
       "elasticnet_cv_each_disease_versus_healthy                                         616   \n",
       "elasticnet_cv_each_disease_versus_healthy.decis...                                616   \n",
       "dummy_most_frequent.decision_thresholds_tuned                                     616   \n",
       "dummy_most_frequent                                                               616   \n",
       "dummy_stratified.decision_thresholds_tuned                                        616   \n",
       "dummy_stratified                                                                  616   \n",
       "\n",
       "                                                    abstention_rate  \\\n",
       "ridge_cv                                                   0.024351   \n",
       "ridge_cv.decision_thresholds_tuned                         0.024351   \n",
       "linearsvm_ovr                                              0.003247   \n",
       "linearsvm_ovr.decision_thresholds_tuned                    0.003247   \n",
       "lasso_cv                                                   0.003247   \n",
       "lasso_cv.decision_thresholds_tuned                         0.003247   \n",
       "elasticnet_cv                                              0.001623   \n",
       "elasticnet_cv.decision_thresholds_tuned                    0.001623   \n",
       "elasticnet_cv0.25                                          0.001623   \n",
       "elasticnet_cv0.25.decision_thresholds_tuned                0.001623   \n",
       "elasticnet_cv0.75                                          0.001623   \n",
       "elasticnet_cv0.75.decision_thresholds_tuned                0.001623   \n",
       "logisticregression_unregularized.decision_thres...         0.001623   \n",
       "logisticregression_unregularized                           0.001623   \n",
       "xgboost                                                    0.035714   \n",
       "xgboost.decision_thresholds_tuned                          0.035714   \n",
       "rf_multiclass                                              0.017857   \n",
       "rf_multiclass.decision_thresholds_tuned                    0.017857   \n",
       "elasticnet_cv_each_disease_versus_healthy                  0.019481   \n",
       "elasticnet_cv_each_disease_versus_healthy.decis...         0.019481   \n",
       "dummy_most_frequent.decision_thresholds_tuned              0.069805   \n",
       "dummy_most_frequent                                        0.069805   \n",
       "dummy_stratified.decision_thresholds_tuned                 0.051948   \n",
       "dummy_stratified                                           0.051948   \n",
       "\n",
       "                                                    missing_classes  \n",
       "ridge_cv                                                      False  \n",
       "ridge_cv.decision_thresholds_tuned                            False  \n",
       "linearsvm_ovr                                                 False  \n",
       "linearsvm_ovr.decision_thresholds_tuned                       False  \n",
       "lasso_cv                                                       True  \n",
       "lasso_cv.decision_thresholds_tuned                            False  \n",
       "elasticnet_cv                                                  True  \n",
       "elasticnet_cv.decision_thresholds_tuned                        True  \n",
       "elasticnet_cv0.25                                              True  \n",
       "elasticnet_cv0.25.decision_thresholds_tuned                    True  \n",
       "elasticnet_cv0.75                                              True  \n",
       "elasticnet_cv0.75.decision_thresholds_tuned                    True  \n",
       "logisticregression_unregularized.decision_thres...            False  \n",
       "logisticregression_unregularized                               True  \n",
       "xgboost                                                       False  \n",
       "xgboost.decision_thresholds_tuned                             False  \n",
       "rf_multiclass                                                 False  \n",
       "rf_multiclass.decision_thresholds_tuned                       False  \n",
       "elasticnet_cv_each_disease_versus_healthy                      True  \n",
       "elasticnet_cv_each_disease_versus_healthy.decis...             True  \n",
       "dummy_most_frequent.decision_thresholds_tuned                  True  \n",
       "dummy_most_frequent                                            True  \n",
       "dummy_stratified.decision_thresholds_tuned                    False  \n",
       "dummy_stratified                                              False  \n",
       "\n",
       "[24 rows x 22 columns]"
      ]
     },
     "metadata": {},
     "output_type": "display_data"
    },
    {
     "name": "stdout",
     "output_type": "stream",
     "text": [
      "/home/maxim/code/immune-repertoire-classification/out/in_house_peak_disease_timepoints/convergent_clusters/BCR/disease/train_smaller1_model.compare_model_scores.test_set_performance.tsv\n"
     ]
    },
    {
     "name": "stdout",
     "output_type": "stream",
     "text": [
      "GeneLocus.TCR\n"
     ]
    },
    {
     "name": "stderr",
     "output_type": "stream",
     "text": [
      "{\"message\": \"/home/maxim/code/immune-repertoire-classification/malid/trained_model_wrappers/convergent_cluster_classifier.py:571: FutureWarning: Not prepending group keys to the result index of transform-like apply. In the future, the group keys will be included in the index, regardless of whether the applied function returns a like-indexed object.\\nTo preserve the previous behavior, use\\n\\n\\t>>> .groupby(..., group_keys=False)\\n\\nTo adopt the future behavior and silence this warning, use \\n\\n\\t>>> .groupby(..., group_keys=True)\\n  test_groups[\\\"cdr3_seq_aa_q_trim\\\"]\\n\", \"time\": \"2023-11-04T08:16:56.859382\"}\n"
     ]
    },
    {
     "name": "stderr",
     "output_type": "stream",
     "text": [
      "{\"message\": \"/home/maxim/code/immune-repertoire-classification/malid/trained_model_wrappers/convergent_cluster_classifier.py:571: FutureWarning: Not prepending group keys to the result index of transform-like apply. In the future, the group keys will be included in the index, regardless of whether the applied function returns a like-indexed object.\\nTo preserve the previous behavior, use\\n\\n\\t>>> .groupby(..., group_keys=False)\\n\\nTo adopt the future behavior and silence this warning, use \\n\\n\\t>>> .groupby(..., group_keys=True)\\n  test_groups[\\\"cdr3_seq_aa_q_trim\\\"]\\n\", \"time\": \"2023-11-04T08:18:38.583358\"}\n"
     ]
    },
    {
     "name": "stderr",
     "output_type": "stream",
     "text": [
      "{\"message\": \"/home/maxim/code/immune-repertoire-classification/malid/trained_model_wrappers/convergent_cluster_classifier.py:571: FutureWarning: Not prepending group keys to the result index of transform-like apply. In the future, the group keys will be included in the index, regardless of whether the applied function returns a like-indexed object.\\nTo preserve the previous behavior, use\\n\\n\\t>>> .groupby(..., group_keys=False)\\n\\nTo adopt the future behavior and silence this warning, use \\n\\n\\t>>> .groupby(..., group_keys=True)\\n  test_groups[\\\"cdr3_seq_aa_q_trim\\\"]\\n\", \"time\": \"2023-11-04T08:20:23.740167\"}\n"
     ]
    },
    {
     "name": "stderr",
     "output_type": "stream",
     "text": [
      "{\"message\": \"/home/maxim/code/immune-repertoire-classification/malid/trained_model_wrappers/convergent_cluster_classifier.py:571: FutureWarning: Not prepending group keys to the result index of transform-like apply. In the future, the group keys will be included in the index, regardless of whether the applied function returns a like-indexed object.\\nTo preserve the previous behavior, use\\n\\n\\t>>> .groupby(..., group_keys=False)\\n\\nTo adopt the future behavior and silence this warning, use \\n\\n\\t>>> .groupby(..., group_keys=True)\\n  test_groups[\\\"cdr3_seq_aa_q_trim\\\"]\\n\", \"time\": \"2023-11-04T08:22:06.253352\"}\n"
     ]
    },
    {
     "name": "stderr",
     "output_type": "stream",
     "text": [
      "{\"message\": \"/home/maxim/code/immune-repertoire-classification/malid/trained_model_wrappers/convergent_cluster_classifier.py:571: FutureWarning: Not prepending group keys to the result index of transform-like apply. In the future, the group keys will be included in the index, regardless of whether the applied function returns a like-indexed object.\\nTo preserve the previous behavior, use\\n\\n\\t>>> .groupby(..., group_keys=False)\\n\\nTo adopt the future behavior and silence this warning, use \\n\\n\\t>>> .groupby(..., group_keys=True)\\n  test_groups[\\\"cdr3_seq_aa_q_trim\\\"]\\n\", \"time\": \"2023-11-04T08:23:58.198422\"}\n"
     ]
    },
    {
     "name": "stderr",
     "output_type": "stream",
     "text": [
      "{\"message\": \"/home/maxim/code/immune-repertoire-classification/malid/trained_model_wrappers/convergent_cluster_classifier.py:571: FutureWarning: Not prepending group keys to the result index of transform-like apply. In the future, the group keys will be included in the index, regardless of whether the applied function returns a like-indexed object.\\nTo preserve the previous behavior, use\\n\\n\\t>>> .groupby(..., group_keys=False)\\n\\nTo adopt the future behavior and silence this warning, use \\n\\n\\t>>> .groupby(..., group_keys=True)\\n  test_groups[\\\"cdr3_seq_aa_q_trim\\\"]\\n\", \"time\": \"2023-11-04T08:25:42.090930\"}\n"
     ]
    },
    {
     "name": "stderr",
     "output_type": "stream",
     "text": [
      "{\"message\": \"/home/maxim/code/immune-repertoire-classification/malid/trained_model_wrappers/convergent_cluster_classifier.py:571: FutureWarning: Not prepending group keys to the result index of transform-like apply. In the future, the group keys will be included in the index, regardless of whether the applied function returns a like-indexed object.\\nTo preserve the previous behavior, use\\n\\n\\t>>> .groupby(..., group_keys=False)\\n\\nTo adopt the future behavior and silence this warning, use \\n\\n\\t>>> .groupby(..., group_keys=True)\\n  test_groups[\\\"cdr3_seq_aa_q_trim\\\"]\\n\", \"time\": \"2023-11-04T08:27:17.352828\"}\n"
     ]
    },
    {
     "name": "stderr",
     "output_type": "stream",
     "text": [
      "{\"message\": \"/home/maxim/code/immune-repertoire-classification/malid/trained_model_wrappers/convergent_cluster_classifier.py:571: FutureWarning: Not prepending group keys to the result index of transform-like apply. In the future, the group keys will be included in the index, regardless of whether the applied function returns a like-indexed object.\\nTo preserve the previous behavior, use\\n\\n\\t>>> .groupby(..., group_keys=False)\\n\\nTo adopt the future behavior and silence this warning, use \\n\\n\\t>>> .groupby(..., group_keys=True)\\n  test_groups[\\\"cdr3_seq_aa_q_trim\\\"]\\n\", \"time\": \"2023-11-04T08:28:54.360462\"}\n"
     ]
    },
    {
     "name": "stderr",
     "output_type": "stream",
     "text": [
      "{\"message\": \"/home/maxim/code/immune-repertoire-classification/malid/trained_model_wrappers/convergent_cluster_classifier.py:571: FutureWarning: Not prepending group keys to the result index of transform-like apply. In the future, the group keys will be included in the index, regardless of whether the applied function returns a like-indexed object.\\nTo preserve the previous behavior, use\\n\\n\\t>>> .groupby(..., group_keys=False)\\n\\nTo adopt the future behavior and silence this warning, use \\n\\n\\t>>> .groupby(..., group_keys=True)\\n  test_groups[\\\"cdr3_seq_aa_q_trim\\\"]\\n\", \"time\": \"2023-11-04T08:30:38.059053\"}\n"
     ]
    },
    {
     "name": "stderr",
     "output_type": "stream",
     "text": [
      "{\"message\": \"/home/maxim/code/immune-repertoire-classification/malid/trained_model_wrappers/convergent_cluster_classifier.py:571: FutureWarning: Not prepending group keys to the result index of transform-like apply. In the future, the group keys will be included in the index, regardless of whether the applied function returns a like-indexed object.\\nTo preserve the previous behavior, use\\n\\n\\t>>> .groupby(..., group_keys=False)\\n\\nTo adopt the future behavior and silence this warning, use \\n\\n\\t>>> .groupby(..., group_keys=True)\\n  test_groups[\\\"cdr3_seq_aa_q_trim\\\"]\\n\", \"time\": \"2023-11-04T08:32:14.449235\"}\n"
     ]
    },
    {
     "name": "stderr",
     "output_type": "stream",
     "text": [
      "{\"message\": \"/home/maxim/code/immune-repertoire-classification/malid/trained_model_wrappers/convergent_cluster_classifier.py:571: FutureWarning: Not prepending group keys to the result index of transform-like apply. In the future, the group keys will be included in the index, regardless of whether the applied function returns a like-indexed object.\\nTo preserve the previous behavior, use\\n\\n\\t>>> .groupby(..., group_keys=False)\\n\\nTo adopt the future behavior and silence this warning, use \\n\\n\\t>>> .groupby(..., group_keys=True)\\n  test_groups[\\\"cdr3_seq_aa_q_trim\\\"]\\n\", \"time\": \"2023-11-04T08:33:39.973615\"}\n"
     ]
    },
    {
     "name": "stderr",
     "output_type": "stream",
     "text": [
      "{\"message\": \"/home/maxim/code/immune-repertoire-classification/malid/trained_model_wrappers/convergent_cluster_classifier.py:571: FutureWarning: Not prepending group keys to the result index of transform-like apply. In the future, the group keys will be included in the index, regardless of whether the applied function returns a like-indexed object.\\nTo preserve the previous behavior, use\\n\\n\\t>>> .groupby(..., group_keys=False)\\n\\nTo adopt the future behavior and silence this warning, use \\n\\n\\t>>> .groupby(..., group_keys=True)\\n  test_groups[\\\"cdr3_seq_aa_q_trim\\\"]\\n\", \"time\": \"2023-11-04T08:35:09.078842\"}\n"
     ]
    },
    {
     "name": "stderr",
     "output_type": "stream",
     "text": [
      "{\"message\": \"/home/maxim/code/immune-repertoire-classification/malid/trained_model_wrappers/convergent_cluster_classifier.py:571: FutureWarning: Not prepending group keys to the result index of transform-like apply. In the future, the group keys will be included in the index, regardless of whether the applied function returns a like-indexed object.\\nTo preserve the previous behavior, use\\n\\n\\t>>> .groupby(..., group_keys=False)\\n\\nTo adopt the future behavior and silence this warning, use \\n\\n\\t>>> .groupby(..., group_keys=True)\\n  test_groups[\\\"cdr3_seq_aa_q_trim\\\"]\\n\", \"time\": \"2023-11-04T08:36:42.747212\"}\n"
     ]
    },
    {
     "name": "stderr",
     "output_type": "stream",
     "text": [
      "{\"message\": \"/home/maxim/code/immune-repertoire-classification/malid/trained_model_wrappers/convergent_cluster_classifier.py:571: FutureWarning: Not prepending group keys to the result index of transform-like apply. In the future, the group keys will be included in the index, regardless of whether the applied function returns a like-indexed object.\\nTo preserve the previous behavior, use\\n\\n\\t>>> .groupby(..., group_keys=False)\\n\\nTo adopt the future behavior and silence this warning, use \\n\\n\\t>>> .groupby(..., group_keys=True)\\n  test_groups[\\\"cdr3_seq_aa_q_trim\\\"]\\n\", \"time\": \"2023-11-04T08:38:26.663295\"}\n"
     ]
    },
    {
     "name": "stderr",
     "output_type": "stream",
     "text": [
      "{\"message\": \"/home/maxim/code/immune-repertoire-classification/malid/trained_model_wrappers/convergent_cluster_classifier.py:571: FutureWarning: Not prepending group keys to the result index of transform-like apply. In the future, the group keys will be included in the index, regardless of whether the applied function returns a like-indexed object.\\nTo preserve the previous behavior, use\\n\\n\\t>>> .groupby(..., group_keys=False)\\n\\nTo adopt the future behavior and silence this warning, use \\n\\n\\t>>> .groupby(..., group_keys=True)\\n  test_groups[\\\"cdr3_seq_aa_q_trim\\\"]\\n\", \"time\": \"2023-11-04T08:39:54.458735\"}\n"
     ]
    },
    {
     "name": "stderr",
     "output_type": "stream",
     "text": [
      "{\"message\": \"/home/maxim/code/immune-repertoire-classification/malid/trained_model_wrappers/convergent_cluster_classifier.py:571: FutureWarning: Not prepending group keys to the result index of transform-like apply. In the future, the group keys will be included in the index, regardless of whether the applied function returns a like-indexed object.\\nTo preserve the previous behavior, use\\n\\n\\t>>> .groupby(..., group_keys=False)\\n\\nTo adopt the future behavior and silence this warning, use \\n\\n\\t>>> .groupby(..., group_keys=True)\\n  test_groups[\\\"cdr3_seq_aa_q_trim\\\"]\\n\", \"time\": \"2023-11-04T08:41:17.576854\"}\n"
     ]
    },
    {
     "name": "stderr",
     "output_type": "stream",
     "text": [
      "{\"message\": \"/home/maxim/code/immune-repertoire-classification/malid/trained_model_wrappers/convergent_cluster_classifier.py:571: FutureWarning: Not prepending group keys to the result index of transform-like apply. In the future, the group keys will be included in the index, regardless of whether the applied function returns a like-indexed object.\\nTo preserve the previous behavior, use\\n\\n\\t>>> .groupby(..., group_keys=False)\\n\\nTo adopt the future behavior and silence this warning, use \\n\\n\\t>>> .groupby(..., group_keys=True)\\n  test_groups[\\\"cdr3_seq_aa_q_trim\\\"]\\n\", \"time\": \"2023-11-04T08:42:42.236025\"}\n"
     ]
    },
    {
     "name": "stderr",
     "output_type": "stream",
     "text": [
      "{\"message\": \"/home/maxim/code/immune-repertoire-classification/malid/trained_model_wrappers/convergent_cluster_classifier.py:571: FutureWarning: Not prepending group keys to the result index of transform-like apply. In the future, the group keys will be included in the index, regardless of whether the applied function returns a like-indexed object.\\nTo preserve the previous behavior, use\\n\\n\\t>>> .groupby(..., group_keys=False)\\n\\nTo adopt the future behavior and silence this warning, use \\n\\n\\t>>> .groupby(..., group_keys=True)\\n  test_groups[\\\"cdr3_seq_aa_q_trim\\\"]\\n\", \"time\": \"2023-11-04T08:44:19.386272\"}\n"
     ]
    },
    {
     "name": "stderr",
     "output_type": "stream",
     "text": [
      "{\"message\": \"/home/maxim/code/immune-repertoire-classification/malid/trained_model_wrappers/convergent_cluster_classifier.py:571: FutureWarning: Not prepending group keys to the result index of transform-like apply. In the future, the group keys will be included in the index, regardless of whether the applied function returns a like-indexed object.\\nTo preserve the previous behavior, use\\n\\n\\t>>> .groupby(..., group_keys=False)\\n\\nTo adopt the future behavior and silence this warning, use \\n\\n\\t>>> .groupby(..., group_keys=True)\\n  test_groups[\\\"cdr3_seq_aa_q_trim\\\"]\\n\", \"time\": \"2023-11-04T08:46:08.431843\"}\n"
     ]
    },
    {
     "name": "stderr",
     "output_type": "stream",
     "text": [
      "{\"message\": \"/home/maxim/code/immune-repertoire-classification/malid/trained_model_wrappers/convergent_cluster_classifier.py:571: FutureWarning: Not prepending group keys to the result index of transform-like apply. In the future, the group keys will be included in the index, regardless of whether the applied function returns a like-indexed object.\\nTo preserve the previous behavior, use\\n\\n\\t>>> .groupby(..., group_keys=False)\\n\\nTo adopt the future behavior and silence this warning, use \\n\\n\\t>>> .groupby(..., group_keys=True)\\n  test_groups[\\\"cdr3_seq_aa_q_trim\\\"]\\n\", \"time\": \"2023-11-04T08:47:36.589913\"}\n"
     ]
    },
    {
     "name": "stderr",
     "output_type": "stream",
     "text": [
      "{\"message\": \"/home/maxim/code/immune-repertoire-classification/malid/trained_model_wrappers/convergent_cluster_classifier.py:571: FutureWarning: Not prepending group keys to the result index of transform-like apply. In the future, the group keys will be included in the index, regardless of whether the applied function returns a like-indexed object.\\nTo preserve the previous behavior, use\\n\\n\\t>>> .groupby(..., group_keys=False)\\n\\nTo adopt the future behavior and silence this warning, use \\n\\n\\t>>> .groupby(..., group_keys=True)\\n  test_groups[\\\"cdr3_seq_aa_q_trim\\\"]\\n\", \"time\": \"2023-11-04T08:48:57.648320\"}\n"
     ]
    },
    {
     "name": "stderr",
     "output_type": "stream",
     "text": [
      "{\"message\": \"/home/maxim/code/immune-repertoire-classification/malid/trained_model_wrappers/convergent_cluster_classifier.py:571: FutureWarning: Not prepending group keys to the result index of transform-like apply. In the future, the group keys will be included in the index, regardless of whether the applied function returns a like-indexed object.\\nTo preserve the previous behavior, use\\n\\n\\t>>> .groupby(..., group_keys=False)\\n\\nTo adopt the future behavior and silence this warning, use \\n\\n\\t>>> .groupby(..., group_keys=True)\\n  test_groups[\\\"cdr3_seq_aa_q_trim\\\"]\\n\", \"time\": \"2023-11-04T08:50:20.257661\"}\n"
     ]
    },
    {
     "name": "stderr",
     "output_type": "stream",
     "text": [
      "{\"message\": \"/home/maxim/code/immune-repertoire-classification/malid/trained_model_wrappers/convergent_cluster_classifier.py:571: FutureWarning: Not prepending group keys to the result index of transform-like apply. In the future, the group keys will be included in the index, regardless of whether the applied function returns a like-indexed object.\\nTo preserve the previous behavior, use\\n\\n\\t>>> .groupby(..., group_keys=False)\\n\\nTo adopt the future behavior and silence this warning, use \\n\\n\\t>>> .groupby(..., group_keys=True)\\n  test_groups[\\\"cdr3_seq_aa_q_trim\\\"]\\n\", \"time\": \"2023-11-04T08:51:44.623051\"}\n"
     ]
    },
    {
     "name": "stderr",
     "output_type": "stream",
     "text": [
      "{\"message\": \"/home/maxim/code/immune-repertoire-classification/malid/trained_model_wrappers/convergent_cluster_classifier.py:571: FutureWarning: Not prepending group keys to the result index of transform-like apply. In the future, the group keys will be included in the index, regardless of whether the applied function returns a like-indexed object.\\nTo preserve the previous behavior, use\\n\\n\\t>>> .groupby(..., group_keys=False)\\n\\nTo adopt the future behavior and silence this warning, use \\n\\n\\t>>> .groupby(..., group_keys=True)\\n  test_groups[\\\"cdr3_seq_aa_q_trim\\\"]\\n\", \"time\": \"2023-11-04T08:53:08.595900\"}\n"
     ]
    },
    {
     "name": "stderr",
     "output_type": "stream",
     "text": [
      "{\"message\": \"/home/maxim/code/immune-repertoire-classification/malid/trained_model_wrappers/convergent_cluster_classifier.py:571: FutureWarning: Not prepending group keys to the result index of transform-like apply. In the future, the group keys will be included in the index, regardless of whether the applied function returns a like-indexed object.\\nTo preserve the previous behavior, use\\n\\n\\t>>> .groupby(..., group_keys=False)\\n\\nTo adopt the future behavior and silence this warning, use \\n\\n\\t>>> .groupby(..., group_keys=True)\\n  test_groups[\\\"cdr3_seq_aa_q_trim\\\"]\\n\", \"time\": \"2023-11-04T08:54:39.299953\"}\n"
     ]
    },
    {
     "name": "stderr",
     "output_type": "stream",
     "text": [
      "{\"message\": \"/home/maxim/code/immune-repertoire-classification/malid/trained_model_wrappers/convergent_cluster_classifier.py:571: FutureWarning: Not prepending group keys to the result index of transform-like apply. In the future, the group keys will be included in the index, regardless of whether the applied function returns a like-indexed object.\\nTo preserve the previous behavior, use\\n\\n\\t>>> .groupby(..., group_keys=False)\\n\\nTo adopt the future behavior and silence this warning, use \\n\\n\\t>>> .groupby(..., group_keys=True)\\n  test_groups[\\\"cdr3_seq_aa_q_trim\\\"]\\n\", \"time\": \"2023-11-04T08:56:12.948410\"}\n"
     ]
    },
    {
     "name": "stderr",
     "output_type": "stream",
     "text": [
      "{\"message\": \"/home/maxim/code/immune-repertoire-classification/malid/trained_model_wrappers/convergent_cluster_classifier.py:571: FutureWarning: Not prepending group keys to the result index of transform-like apply. In the future, the group keys will be included in the index, regardless of whether the applied function returns a like-indexed object.\\nTo preserve the previous behavior, use\\n\\n\\t>>> .groupby(..., group_keys=False)\\n\\nTo adopt the future behavior and silence this warning, use \\n\\n\\t>>> .groupby(..., group_keys=True)\\n  test_groups[\\\"cdr3_seq_aa_q_trim\\\"]\\n\", \"time\": \"2023-11-04T08:57:48.594617\"}\n"
     ]
    },
    {
     "name": "stderr",
     "output_type": "stream",
     "text": [
      "{\"message\": \"/home/maxim/code/immune-repertoire-classification/malid/trained_model_wrappers/convergent_cluster_classifier.py:571: FutureWarning: Not prepending group keys to the result index of transform-like apply. In the future, the group keys will be included in the index, regardless of whether the applied function returns a like-indexed object.\\nTo preserve the previous behavior, use\\n\\n\\t>>> .groupby(..., group_keys=False)\\n\\nTo adopt the future behavior and silence this warning, use \\n\\n\\t>>> .groupby(..., group_keys=True)\\n  test_groups[\\\"cdr3_seq_aa_q_trim\\\"]\\n\", \"time\": \"2023-11-04T08:59:17.950172\"}\n"
     ]
    },
    {
     "name": "stderr",
     "output_type": "stream",
     "text": [
      "{\"message\": \"/home/maxim/code/immune-repertoire-classification/malid/trained_model_wrappers/convergent_cluster_classifier.py:571: FutureWarning: Not prepending group keys to the result index of transform-like apply. In the future, the group keys will be included in the index, regardless of whether the applied function returns a like-indexed object.\\nTo preserve the previous behavior, use\\n\\n\\t>>> .groupby(..., group_keys=False)\\n\\nTo adopt the future behavior and silence this warning, use \\n\\n\\t>>> .groupby(..., group_keys=True)\\n  test_groups[\\\"cdr3_seq_aa_q_trim\\\"]\\n\", \"time\": \"2023-11-04T09:00:42.766278\"}\n"
     ]
    },
    {
     "name": "stderr",
     "output_type": "stream",
     "text": [
      "{\"message\": \"/home/maxim/code/immune-repertoire-classification/malid/trained_model_wrappers/convergent_cluster_classifier.py:571: FutureWarning: Not prepending group keys to the result index of transform-like apply. In the future, the group keys will be included in the index, regardless of whether the applied function returns a like-indexed object.\\nTo preserve the previous behavior, use\\n\\n\\t>>> .groupby(..., group_keys=False)\\n\\nTo adopt the future behavior and silence this warning, use \\n\\n\\t>>> .groupby(..., group_keys=True)\\n  test_groups[\\\"cdr3_seq_aa_q_trim\\\"]\\n\", \"time\": \"2023-11-04T09:02:04.695225\"}\n"
     ]
    },
    {
     "name": "stderr",
     "output_type": "stream",
     "text": [
      "{\"message\": \"/home/maxim/code/immune-repertoire-classification/malid/trained_model_wrappers/convergent_cluster_classifier.py:571: FutureWarning: Not prepending group keys to the result index of transform-like apply. In the future, the group keys will be included in the index, regardless of whether the applied function returns a like-indexed object.\\nTo preserve the previous behavior, use\\n\\n\\t>>> .groupby(..., group_keys=False)\\n\\nTo adopt the future behavior and silence this warning, use \\n\\n\\t>>> .groupby(..., group_keys=True)\\n  test_groups[\\\"cdr3_seq_aa_q_trim\\\"]\\n\", \"time\": \"2023-11-04T09:03:24.065374\"}\n"
     ]
    },
    {
     "name": "stderr",
     "output_type": "stream",
     "text": [
      "{\"message\": \"/home/maxim/code/immune-repertoire-classification/malid/trained_model_wrappers/convergent_cluster_classifier.py:571: FutureWarning: Not prepending group keys to the result index of transform-like apply. In the future, the group keys will be included in the index, regardless of whether the applied function returns a like-indexed object.\\nTo preserve the previous behavior, use\\n\\n\\t>>> .groupby(..., group_keys=False)\\n\\nTo adopt the future behavior and silence this warning, use \\n\\n\\t>>> .groupby(..., group_keys=True)\\n  test_groups[\\\"cdr3_seq_aa_q_trim\\\"]\\n\", \"time\": \"2023-11-04T09:04:50.800337\"}\n"
     ]
    },
    {
     "name": "stderr",
     "output_type": "stream",
     "text": [
      "{\"message\": \"/home/maxim/code/immune-repertoire-classification/malid/trained_model_wrappers/convergent_cluster_classifier.py:571: FutureWarning: Not prepending group keys to the result index of transform-like apply. In the future, the group keys will be included in the index, regardless of whether the applied function returns a like-indexed object.\\nTo preserve the previous behavior, use\\n\\n\\t>>> .groupby(..., group_keys=False)\\n\\nTo adopt the future behavior and silence this warning, use \\n\\n\\t>>> .groupby(..., group_keys=True)\\n  test_groups[\\\"cdr3_seq_aa_q_trim\\\"]\\n\", \"time\": \"2023-11-04T09:06:13.220850\"}\n"
     ]
    },
    {
     "name": "stderr",
     "output_type": "stream",
     "text": [
      "{\"message\": \"/home/maxim/code/immune-repertoire-classification/malid/trained_model_wrappers/convergent_cluster_classifier.py:571: FutureWarning: Not prepending group keys to the result index of transform-like apply. In the future, the group keys will be included in the index, regardless of whether the applied function returns a like-indexed object.\\nTo preserve the previous behavior, use\\n\\n\\t>>> .groupby(..., group_keys=False)\\n\\nTo adopt the future behavior and silence this warning, use \\n\\n\\t>>> .groupby(..., group_keys=True)\\n  test_groups[\\\"cdr3_seq_aa_q_trim\\\"]\\n\", \"time\": \"2023-11-04T09:07:35.170855\"}\n"
     ]
    },
    {
     "name": "stderr",
     "output_type": "stream",
     "text": [
      "{\"message\": \"/home/maxim/code/immune-repertoire-classification/malid/trained_model_wrappers/convergent_cluster_classifier.py:571: FutureWarning: Not prepending group keys to the result index of transform-like apply. In the future, the group keys will be included in the index, regardless of whether the applied function returns a like-indexed object.\\nTo preserve the previous behavior, use\\n\\n\\t>>> .groupby(..., group_keys=False)\\n\\nTo adopt the future behavior and silence this warning, use \\n\\n\\t>>> .groupby(..., group_keys=True)\\n  test_groups[\\\"cdr3_seq_aa_q_trim\\\"]\\n\", \"time\": \"2023-11-04T09:09:06.025727\"}\n"
     ]
    },
    {
     "name": "stderr",
     "output_type": "stream",
     "text": [
      "{\"message\": \"/home/maxim/code/immune-repertoire-classification/malid/trained_model_wrappers/convergent_cluster_classifier.py:571: FutureWarning: Not prepending group keys to the result index of transform-like apply. In the future, the group keys will be included in the index, regardless of whether the applied function returns a like-indexed object.\\nTo preserve the previous behavior, use\\n\\n\\t>>> .groupby(..., group_keys=False)\\n\\nTo adopt the future behavior and silence this warning, use \\n\\n\\t>>> .groupby(..., group_keys=True)\\n  test_groups[\\\"cdr3_seq_aa_q_trim\\\"]\\n\", \"time\": \"2023-11-04T09:10:40.094677\"}\n"
     ]
    },
    {
     "name": "stderr",
     "output_type": "stream",
     "text": [
      "{\"message\": \"/home/maxim/code/immune-repertoire-classification/malid/trained_model_wrappers/convergent_cluster_classifier.py:571: FutureWarning: Not prepending group keys to the result index of transform-like apply. In the future, the group keys will be included in the index, regardless of whether the applied function returns a like-indexed object.\\nTo preserve the previous behavior, use\\n\\n\\t>>> .groupby(..., group_keys=False)\\n\\nTo adopt the future behavior and silence this warning, use \\n\\n\\t>>> .groupby(..., group_keys=True)\\n  test_groups[\\\"cdr3_seq_aa_q_trim\\\"]\\n\", \"time\": \"2023-11-04T09:13:37.755222\"}\n"
     ]
    },
    {
     "name": "stderr",
     "output_type": "stream",
     "text": [
      "{\"message\": \"/home/maxim/code/immune-repertoire-classification/malid/trained_model_wrappers/convergent_cluster_classifier.py:571: FutureWarning: Not prepending group keys to the result index of transform-like apply. In the future, the group keys will be included in the index, regardless of whether the applied function returns a like-indexed object.\\nTo preserve the previous behavior, use\\n\\n\\t>>> .groupby(..., group_keys=False)\\n\\nTo adopt the future behavior and silence this warning, use \\n\\n\\t>>> .groupby(..., group_keys=True)\\n  test_groups[\\\"cdr3_seq_aa_q_trim\\\"]\\n\", \"time\": \"2023-11-04T09:15:07.363681\"}\n"
     ]
    },
    {
     "name": "stderr",
     "output_type": "stream",
     "text": [
      "{\"message\": \"/home/maxim/code/immune-repertoire-classification/malid/trained_model_wrappers/convergent_cluster_classifier.py:571: FutureWarning: Not prepending group keys to the result index of transform-like apply. In the future, the group keys will be included in the index, regardless of whether the applied function returns a like-indexed object.\\nTo preserve the previous behavior, use\\n\\n\\t>>> .groupby(..., group_keys=False)\\n\\nTo adopt the future behavior and silence this warning, use \\n\\n\\t>>> .groupby(..., group_keys=True)\\n  test_groups[\\\"cdr3_seq_aa_q_trim\\\"]\\n\", \"time\": \"2023-11-04T09:16:30.693973\"}\n"
     ]
    },
    {
     "name": "stderr",
     "output_type": "stream",
     "text": [
      "{\"message\": \"/home/maxim/code/immune-repertoire-classification/malid/trained_model_wrappers/convergent_cluster_classifier.py:571: FutureWarning: Not prepending group keys to the result index of transform-like apply. In the future, the group keys will be included in the index, regardless of whether the applied function returns a like-indexed object.\\nTo preserve the previous behavior, use\\n\\n\\t>>> .groupby(..., group_keys=False)\\n\\nTo adopt the future behavior and silence this warning, use \\n\\n\\t>>> .groupby(..., group_keys=True)\\n  test_groups[\\\"cdr3_seq_aa_q_trim\\\"]\\n\", \"time\": \"2023-11-04T09:17:51.847009\"}\n"
     ]
    },
    {
     "name": "stderr",
     "output_type": "stream",
     "text": [
      "{\"message\": \"/home/maxim/code/immune-repertoire-classification/malid/trained_model_wrappers/convergent_cluster_classifier.py:571: FutureWarning: Not prepending group keys to the result index of transform-like apply. In the future, the group keys will be included in the index, regardless of whether the applied function returns a like-indexed object.\\nTo preserve the previous behavior, use\\n\\n\\t>>> .groupby(..., group_keys=False)\\n\\nTo adopt the future behavior and silence this warning, use \\n\\n\\t>>> .groupby(..., group_keys=True)\\n  test_groups[\\\"cdr3_seq_aa_q_trim\\\"]\\n\", \"time\": \"2023-11-04T09:19:12.558850\"}\n"
     ]
    },
    {
     "name": "stderr",
     "output_type": "stream",
     "text": [
      "{\"message\": \"/home/maxim/code/immune-repertoire-classification/malid/trained_model_wrappers/convergent_cluster_classifier.py:571: FutureWarning: Not prepending group keys to the result index of transform-like apply. In the future, the group keys will be included in the index, regardless of whether the applied function returns a like-indexed object.\\nTo preserve the previous behavior, use\\n\\n\\t>>> .groupby(..., group_keys=False)\\n\\nTo adopt the future behavior and silence this warning, use \\n\\n\\t>>> .groupby(..., group_keys=True)\\n  test_groups[\\\"cdr3_seq_aa_q_trim\\\"]\\n\", \"time\": \"2023-11-04T09:20:58.931283\"}\n"
     ]
    },
    {
     "name": "stderr",
     "output_type": "stream",
     "text": [
      "{\"message\": \"/home/maxim/code/immune-repertoire-classification/malid/trained_model_wrappers/convergent_cluster_classifier.py:571: FutureWarning: Not prepending group keys to the result index of transform-like apply. In the future, the group keys will be included in the index, regardless of whether the applied function returns a like-indexed object.\\nTo preserve the previous behavior, use\\n\\n\\t>>> .groupby(..., group_keys=False)\\n\\nTo adopt the future behavior and silence this warning, use \\n\\n\\t>>> .groupby(..., group_keys=True)\\n  test_groups[\\\"cdr3_seq_aa_q_trim\\\"]\\n\", \"time\": \"2023-11-04T09:22:35.475867\"}\n"
     ]
    },
    {
     "name": "stderr",
     "output_type": "stream",
     "text": [
      "{\"message\": \"/home/maxim/code/immune-repertoire-classification/malid/trained_model_wrappers/convergent_cluster_classifier.py:571: FutureWarning: Not prepending group keys to the result index of transform-like apply. In the future, the group keys will be included in the index, regardless of whether the applied function returns a like-indexed object.\\nTo preserve the previous behavior, use\\n\\n\\t>>> .groupby(..., group_keys=False)\\n\\nTo adopt the future behavior and silence this warning, use \\n\\n\\t>>> .groupby(..., group_keys=True)\\n  test_groups[\\\"cdr3_seq_aa_q_trim\\\"]\\n\", \"time\": \"2023-11-04T09:24:20.672397\"}\n"
     ]
    },
    {
     "name": "stderr",
     "output_type": "stream",
     "text": [
      "{\"message\": \"/home/maxim/code/immune-repertoire-classification/malid/trained_model_wrappers/convergent_cluster_classifier.py:571: FutureWarning: Not prepending group keys to the result index of transform-like apply. In the future, the group keys will be included in the index, regardless of whether the applied function returns a like-indexed object.\\nTo preserve the previous behavior, use\\n\\n\\t>>> .groupby(..., group_keys=False)\\n\\nTo adopt the future behavior and silence this warning, use \\n\\n\\t>>> .groupby(..., group_keys=True)\\n  test_groups[\\\"cdr3_seq_aa_q_trim\\\"]\\n\", \"time\": \"2023-11-04T09:25:58.054167\"}\n"
     ]
    },
    {
     "name": "stderr",
     "output_type": "stream",
     "text": [
      "{\"message\": \"/home/maxim/code/immune-repertoire-classification/malid/trained_model_wrappers/convergent_cluster_classifier.py:571: FutureWarning: Not prepending group keys to the result index of transform-like apply. In the future, the group keys will be included in the index, regardless of whether the applied function returns a like-indexed object.\\nTo preserve the previous behavior, use\\n\\n\\t>>> .groupby(..., group_keys=False)\\n\\nTo adopt the future behavior and silence this warning, use \\n\\n\\t>>> .groupby(..., group_keys=True)\\n  test_groups[\\\"cdr3_seq_aa_q_trim\\\"]\\n\", \"time\": \"2023-11-04T09:27:36.465007\"}\n"
     ]
    },
    {
     "name": "stderr",
     "output_type": "stream",
     "text": [
      "{\"message\": \"/home/maxim/code/immune-repertoire-classification/malid/trained_model_wrappers/convergent_cluster_classifier.py:571: FutureWarning: Not prepending group keys to the result index of transform-like apply. In the future, the group keys will be included in the index, regardless of whether the applied function returns a like-indexed object.\\nTo preserve the previous behavior, use\\n\\n\\t>>> .groupby(..., group_keys=False)\\n\\nTo adopt the future behavior and silence this warning, use \\n\\n\\t>>> .groupby(..., group_keys=True)\\n  test_groups[\\\"cdr3_seq_aa_q_trim\\\"]\\n\", \"time\": \"2023-11-04T09:29:08.284048\"}\n"
     ]
    },
    {
     "name": "stderr",
     "output_type": "stream",
     "text": [
      "{\"message\": \"/home/maxim/code/immune-repertoire-classification/malid/trained_model_wrappers/convergent_cluster_classifier.py:571: FutureWarning: Not prepending group keys to the result index of transform-like apply. In the future, the group keys will be included in the index, regardless of whether the applied function returns a like-indexed object.\\nTo preserve the previous behavior, use\\n\\n\\t>>> .groupby(..., group_keys=False)\\n\\nTo adopt the future behavior and silence this warning, use \\n\\n\\t>>> .groupby(..., group_keys=True)\\n  test_groups[\\\"cdr3_seq_aa_q_trim\\\"]\\n\", \"time\": \"2023-11-04T09:30:31.958932\"}\n"
     ]
    },
    {
     "name": "stderr",
     "output_type": "stream",
     "text": [
      "{\"message\": \"/home/maxim/code/immune-repertoire-classification/malid/trained_model_wrappers/convergent_cluster_classifier.py:571: FutureWarning: Not prepending group keys to the result index of transform-like apply. In the future, the group keys will be included in the index, regardless of whether the applied function returns a like-indexed object.\\nTo preserve the previous behavior, use\\n\\n\\t>>> .groupby(..., group_keys=False)\\n\\nTo adopt the future behavior and silence this warning, use \\n\\n\\t>>> .groupby(..., group_keys=True)\\n  test_groups[\\\"cdr3_seq_aa_q_trim\\\"]\\n\", \"time\": \"2023-11-04T09:31:59.378393\"}\n"
     ]
    },
    {
     "name": "stderr",
     "output_type": "stream",
     "text": [
      "{\"message\": \"/home/maxim/code/immune-repertoire-classification/malid/trained_model_wrappers/convergent_cluster_classifier.py:571: FutureWarning: Not prepending group keys to the result index of transform-like apply. In the future, the group keys will be included in the index, regardless of whether the applied function returns a like-indexed object.\\nTo preserve the previous behavior, use\\n\\n\\t>>> .groupby(..., group_keys=False)\\n\\nTo adopt the future behavior and silence this warning, use \\n\\n\\t>>> .groupby(..., group_keys=True)\\n  test_groups[\\\"cdr3_seq_aa_q_trim\\\"]\\n\", \"time\": \"2023-11-04T09:33:41.515347\"}\n"
     ]
    },
    {
     "name": "stderr",
     "output_type": "stream",
     "text": [
      "{\"message\": \"/home/maxim/code/immune-repertoire-classification/malid/trained_model_wrappers/convergent_cluster_classifier.py:571: FutureWarning: Not prepending group keys to the result index of transform-like apply. In the future, the group keys will be included in the index, regardless of whether the applied function returns a like-indexed object.\\nTo preserve the previous behavior, use\\n\\n\\t>>> .groupby(..., group_keys=False)\\n\\nTo adopt the future behavior and silence this warning, use \\n\\n\\t>>> .groupby(..., group_keys=True)\\n  test_groups[\\\"cdr3_seq_aa_q_trim\\\"]\\n\", \"time\": \"2023-11-04T09:35:06.419616\"}\n"
     ]
    },
    {
     "name": "stderr",
     "output_type": "stream",
     "text": [
      "{\"message\": \"/home/maxim/code/immune-repertoire-classification/malid/trained_model_wrappers/convergent_cluster_classifier.py:571: FutureWarning: Not prepending group keys to the result index of transform-like apply. In the future, the group keys will be included in the index, regardless of whether the applied function returns a like-indexed object.\\nTo preserve the previous behavior, use\\n\\n\\t>>> .groupby(..., group_keys=False)\\n\\nTo adopt the future behavior and silence this warning, use \\n\\n\\t>>> .groupby(..., group_keys=True)\\n  test_groups[\\\"cdr3_seq_aa_q_trim\\\"]\\n\", \"time\": \"2023-11-04T09:36:25.821940\"}\n"
     ]
    },
    {
     "name": "stderr",
     "output_type": "stream",
     "text": [
      "{\"message\": \"/home/maxim/code/immune-repertoire-classification/malid/trained_model_wrappers/convergent_cluster_classifier.py:571: FutureWarning: Not prepending group keys to the result index of transform-like apply. In the future, the group keys will be included in the index, regardless of whether the applied function returns a like-indexed object.\\nTo preserve the previous behavior, use\\n\\n\\t>>> .groupby(..., group_keys=False)\\n\\nTo adopt the future behavior and silence this warning, use \\n\\n\\t>>> .groupby(..., group_keys=True)\\n  test_groups[\\\"cdr3_seq_aa_q_trim\\\"]\\n\", \"time\": \"2023-11-04T09:37:55.867617\"}\n"
     ]
    },
    {
     "name": "stderr",
     "output_type": "stream",
     "text": [
      "{\"message\": \"/home/maxim/code/immune-repertoire-classification/malid/trained_model_wrappers/convergent_cluster_classifier.py:571: FutureWarning: Not prepending group keys to the result index of transform-like apply. In the future, the group keys will be included in the index, regardless of whether the applied function returns a like-indexed object.\\nTo preserve the previous behavior, use\\n\\n\\t>>> .groupby(..., group_keys=False)\\n\\nTo adopt the future behavior and silence this warning, use \\n\\n\\t>>> .groupby(..., group_keys=True)\\n  test_groups[\\\"cdr3_seq_aa_q_trim\\\"]\\n\", \"time\": \"2023-11-04T09:39:14.228921\"}\n"
     ]
    },
    {
     "name": "stderr",
     "output_type": "stream",
     "text": [
      "{\"message\": \"/home/maxim/code/immune-repertoire-classification/malid/trained_model_wrappers/convergent_cluster_classifier.py:571: FutureWarning: Not prepending group keys to the result index of transform-like apply. In the future, the group keys will be included in the index, regardless of whether the applied function returns a like-indexed object.\\nTo preserve the previous behavior, use\\n\\n\\t>>> .groupby(..., group_keys=False)\\n\\nTo adopt the future behavior and silence this warning, use \\n\\n\\t>>> .groupby(..., group_keys=True)\\n  test_groups[\\\"cdr3_seq_aa_q_trim\\\"]\\n\", \"time\": \"2023-11-04T09:40:30.219681\"}\n"
     ]
    },
    {
     "name": "stderr",
     "output_type": "stream",
     "text": [
      "{\"message\": \"/home/maxim/code/immune-repertoire-classification/malid/trained_model_wrappers/convergent_cluster_classifier.py:571: FutureWarning: Not prepending group keys to the result index of transform-like apply. In the future, the group keys will be included in the index, regardless of whether the applied function returns a like-indexed object.\\nTo preserve the previous behavior, use\\n\\n\\t>>> .groupby(..., group_keys=False)\\n\\nTo adopt the future behavior and silence this warning, use \\n\\n\\t>>> .groupby(..., group_keys=True)\\n  test_groups[\\\"cdr3_seq_aa_q_trim\\\"]\\n\", \"time\": \"2023-11-04T09:41:48.884586\"}\n"
     ]
    },
    {
     "name": "stderr",
     "output_type": "stream",
     "text": [
      "{\"message\": \"/home/maxim/code/immune-repertoire-classification/malid/trained_model_wrappers/convergent_cluster_classifier.py:571: FutureWarning: Not prepending group keys to the result index of transform-like apply. In the future, the group keys will be included in the index, regardless of whether the applied function returns a like-indexed object.\\nTo preserve the previous behavior, use\\n\\n\\t>>> .groupby(..., group_keys=False)\\n\\nTo adopt the future behavior and silence this warning, use \\n\\n\\t>>> .groupby(..., group_keys=True)\\n  test_groups[\\\"cdr3_seq_aa_q_trim\\\"]\\n\", \"time\": \"2023-11-04T09:43:07.111071\"}\n"
     ]
    },
    {
     "name": "stderr",
     "output_type": "stream",
     "text": [
      "{\"message\": \"/home/maxim/code/immune-repertoire-classification/malid/trained_model_wrappers/convergent_cluster_classifier.py:571: FutureWarning: Not prepending group keys to the result index of transform-like apply. In the future, the group keys will be included in the index, regardless of whether the applied function returns a like-indexed object.\\nTo preserve the previous behavior, use\\n\\n\\t>>> .groupby(..., group_keys=False)\\n\\nTo adopt the future behavior and silence this warning, use \\n\\n\\t>>> .groupby(..., group_keys=True)\\n  test_groups[\\\"cdr3_seq_aa_q_trim\\\"]\\n\", \"time\": \"2023-11-04T09:44:25.794919\"}\n"
     ]
    },
    {
     "name": "stderr",
     "output_type": "stream",
     "text": [
      "{\"message\": \"/home/maxim/code/immune-repertoire-classification/malid/trained_model_wrappers/convergent_cluster_classifier.py:571: FutureWarning: Not prepending group keys to the result index of transform-like apply. In the future, the group keys will be included in the index, regardless of whether the applied function returns a like-indexed object.\\nTo preserve the previous behavior, use\\n\\n\\t>>> .groupby(..., group_keys=False)\\n\\nTo adopt the future behavior and silence this warning, use \\n\\n\\t>>> .groupby(..., group_keys=True)\\n  test_groups[\\\"cdr3_seq_aa_q_trim\\\"]\\n\", \"time\": \"2023-11-04T09:45:50.234983\"}\n"
     ]
    },
    {
     "name": "stderr",
     "output_type": "stream",
     "text": [
      "{\"message\": \"/home/maxim/code/immune-repertoire-classification/malid/trained_model_wrappers/convergent_cluster_classifier.py:571: FutureWarning: Not prepending group keys to the result index of transform-like apply. In the future, the group keys will be included in the index, regardless of whether the applied function returns a like-indexed object.\\nTo preserve the previous behavior, use\\n\\n\\t>>> .groupby(..., group_keys=False)\\n\\nTo adopt the future behavior and silence this warning, use \\n\\n\\t>>> .groupby(..., group_keys=True)\\n  test_groups[\\\"cdr3_seq_aa_q_trim\\\"]\\n\", \"time\": \"2023-11-04T09:47:15.820521\"}\n"
     ]
    },
    {
     "name": "stderr",
     "output_type": "stream",
     "text": [
      "{\"message\": \"/home/maxim/code/immune-repertoire-classification/malid/trained_model_wrappers/convergent_cluster_classifier.py:571: FutureWarning: Not prepending group keys to the result index of transform-like apply. In the future, the group keys will be included in the index, regardless of whether the applied function returns a like-indexed object.\\nTo preserve the previous behavior, use\\n\\n\\t>>> .groupby(..., group_keys=False)\\n\\nTo adopt the future behavior and silence this warning, use \\n\\n\\t>>> .groupby(..., group_keys=True)\\n  test_groups[\\\"cdr3_seq_aa_q_trim\\\"]\\n\", \"time\": \"2023-11-04T09:48:38.739650\"}\n"
     ]
    },
    {
     "name": "stderr",
     "output_type": "stream",
     "text": [
      "{\"message\": \"/home/maxim/code/immune-repertoire-classification/malid/trained_model_wrappers/convergent_cluster_classifier.py:571: FutureWarning: Not prepending group keys to the result index of transform-like apply. In the future, the group keys will be included in the index, regardless of whether the applied function returns a like-indexed object.\\nTo preserve the previous behavior, use\\n\\n\\t>>> .groupby(..., group_keys=False)\\n\\nTo adopt the future behavior and silence this warning, use \\n\\n\\t>>> .groupby(..., group_keys=True)\\n  test_groups[\\\"cdr3_seq_aa_q_trim\\\"]\\n\", \"time\": \"2023-11-04T09:50:12.907782\"}\n"
     ]
    },
    {
     "name": "stderr",
     "output_type": "stream",
     "text": [
      "{\"message\": \"/home/maxim/code/immune-repertoire-classification/malid/trained_model_wrappers/convergent_cluster_classifier.py:571: FutureWarning: Not prepending group keys to the result index of transform-like apply. In the future, the group keys will be included in the index, regardless of whether the applied function returns a like-indexed object.\\nTo preserve the previous behavior, use\\n\\n\\t>>> .groupby(..., group_keys=False)\\n\\nTo adopt the future behavior and silence this warning, use \\n\\n\\t>>> .groupby(..., group_keys=True)\\n  test_groups[\\\"cdr3_seq_aa_q_trim\\\"]\\n\", \"time\": \"2023-11-04T09:51:35.562484\"}\n"
     ]
    },
    {
     "name": "stderr",
     "output_type": "stream",
     "text": [
      "{\"message\": \"/home/maxim/code/immune-repertoire-classification/malid/trained_model_wrappers/convergent_cluster_classifier.py:571: FutureWarning: Not prepending group keys to the result index of transform-like apply. In the future, the group keys will be included in the index, regardless of whether the applied function returns a like-indexed object.\\nTo preserve the previous behavior, use\\n\\n\\t>>> .groupby(..., group_keys=False)\\n\\nTo adopt the future behavior and silence this warning, use \\n\\n\\t>>> .groupby(..., group_keys=True)\\n  test_groups[\\\"cdr3_seq_aa_q_trim\\\"]\\n\", \"time\": \"2023-11-04T09:52:57.321653\"}\n"
     ]
    },
    {
     "name": "stderr",
     "output_type": "stream",
     "text": [
      "{\"message\": \"/home/maxim/code/immune-repertoire-classification/malid/trained_model_wrappers/convergent_cluster_classifier.py:571: FutureWarning: Not prepending group keys to the result index of transform-like apply. In the future, the group keys will be included in the index, regardless of whether the applied function returns a like-indexed object.\\nTo preserve the previous behavior, use\\n\\n\\t>>> .groupby(..., group_keys=False)\\n\\nTo adopt the future behavior and silence this warning, use \\n\\n\\t>>> .groupby(..., group_keys=True)\\n  test_groups[\\\"cdr3_seq_aa_q_trim\\\"]\\n\", \"time\": \"2023-11-04T09:54:21.520548\"}\n"
     ]
    },
    {
     "name": "stderr",
     "output_type": "stream",
     "text": [
      "{\"message\": \"/home/maxim/code/immune-repertoire-classification/malid/trained_model_wrappers/convergent_cluster_classifier.py:571: FutureWarning: Not prepending group keys to the result index of transform-like apply. In the future, the group keys will be included in the index, regardless of whether the applied function returns a like-indexed object.\\nTo preserve the previous behavior, use\\n\\n\\t>>> .groupby(..., group_keys=False)\\n\\nTo adopt the future behavior and silence this warning, use \\n\\n\\t>>> .groupby(..., group_keys=True)\\n  test_groups[\\\"cdr3_seq_aa_q_trim\\\"]\\n\", \"time\": \"2023-11-04T09:55:42.390112\"}\n"
     ]
    },
    {
     "name": "stderr",
     "output_type": "stream",
     "text": [
      "{\"message\": \"/home/maxim/code/immune-repertoire-classification/malid/trained_model_wrappers/convergent_cluster_classifier.py:571: FutureWarning: Not prepending group keys to the result index of transform-like apply. In the future, the group keys will be included in the index, regardless of whether the applied function returns a like-indexed object.\\nTo preserve the previous behavior, use\\n\\n\\t>>> .groupby(..., group_keys=False)\\n\\nTo adopt the future behavior and silence this warning, use \\n\\n\\t>>> .groupby(..., group_keys=True)\\n  test_groups[\\\"cdr3_seq_aa_q_trim\\\"]\\n\", \"time\": \"2023-11-04T09:57:03.315634\"}\n"
     ]
    },
    {
     "name": "stderr",
     "output_type": "stream",
     "text": [
      "{\"message\": \"/home/maxim/code/immune-repertoire-classification/malid/trained_model_wrappers/convergent_cluster_classifier.py:571: FutureWarning: Not prepending group keys to the result index of transform-like apply. In the future, the group keys will be included in the index, regardless of whether the applied function returns a like-indexed object.\\nTo preserve the previous behavior, use\\n\\n\\t>>> .groupby(..., group_keys=False)\\n\\nTo adopt the future behavior and silence this warning, use \\n\\n\\t>>> .groupby(..., group_keys=True)\\n  test_groups[\\\"cdr3_seq_aa_q_trim\\\"]\\n\", \"time\": \"2023-11-04T09:58:29.055962\"}\n"
     ]
    },
    {
     "name": "stderr",
     "output_type": "stream",
     "text": [
      "{\"message\": \"/home/maxim/code/immune-repertoire-classification/malid/trained_model_wrappers/convergent_cluster_classifier.py:571: FutureWarning: Not prepending group keys to the result index of transform-like apply. In the future, the group keys will be included in the index, regardless of whether the applied function returns a like-indexed object.\\nTo preserve the previous behavior, use\\n\\n\\t>>> .groupby(..., group_keys=False)\\n\\nTo adopt the future behavior and silence this warning, use \\n\\n\\t>>> .groupby(..., group_keys=True)\\n  test_groups[\\\"cdr3_seq_aa_q_trim\\\"]\\n\", \"time\": \"2023-11-04T09:59:52.283968\"}\n"
     ]
    },
    {
     "name": "stderr",
     "output_type": "stream",
     "text": [
      "{\"message\": \"/home/maxim/code/immune-repertoire-classification/malid/trained_model_wrappers/convergent_cluster_classifier.py:571: FutureWarning: Not prepending group keys to the result index of transform-like apply. In the future, the group keys will be included in the index, regardless of whether the applied function returns a like-indexed object.\\nTo preserve the previous behavior, use\\n\\n\\t>>> .groupby(..., group_keys=False)\\n\\nTo adopt the future behavior and silence this warning, use \\n\\n\\t>>> .groupby(..., group_keys=True)\\n  test_groups[\\\"cdr3_seq_aa_q_trim\\\"]\\n\", \"time\": \"2023-11-04T10:01:13.983987\"}\n"
     ]
    },
    {
     "name": "stderr",
     "output_type": "stream",
     "text": [
      "{\"message\": \"/home/maxim/code/immune-repertoire-classification/malid/trained_model_wrappers/convergent_cluster_classifier.py:571: FutureWarning: Not prepending group keys to the result index of transform-like apply. In the future, the group keys will be included in the index, regardless of whether the applied function returns a like-indexed object.\\nTo preserve the previous behavior, use\\n\\n\\t>>> .groupby(..., group_keys=False)\\n\\nTo adopt the future behavior and silence this warning, use \\n\\n\\t>>> .groupby(..., group_keys=True)\\n  test_groups[\\\"cdr3_seq_aa_q_trim\\\"]\\n\", \"time\": \"2023-11-04T10:02:48.662182\"}\n"
     ]
    },
    {
     "name": "stderr",
     "output_type": "stream",
     "text": [
      "{\"message\": \"/home/maxim/code/immune-repertoire-classification/malid/trained_model_wrappers/convergent_cluster_classifier.py:571: FutureWarning: Not prepending group keys to the result index of transform-like apply. In the future, the group keys will be included in the index, regardless of whether the applied function returns a like-indexed object.\\nTo preserve the previous behavior, use\\n\\n\\t>>> .groupby(..., group_keys=False)\\n\\nTo adopt the future behavior and silence this warning, use \\n\\n\\t>>> .groupby(..., group_keys=True)\\n  test_groups[\\\"cdr3_seq_aa_q_trim\\\"]\\n\", \"time\": \"2023-11-04T10:04:10.460521\"}\n"
     ]
    },
    {
     "name": "stderr",
     "output_type": "stream",
     "text": [
      "{\"message\": \"/home/maxim/code/immune-repertoire-classification/malid/trained_model_wrappers/convergent_cluster_classifier.py:571: FutureWarning: Not prepending group keys to the result index of transform-like apply. In the future, the group keys will be included in the index, regardless of whether the applied function returns a like-indexed object.\\nTo preserve the previous behavior, use\\n\\n\\t>>> .groupby(..., group_keys=False)\\n\\nTo adopt the future behavior and silence this warning, use \\n\\n\\t>>> .groupby(..., group_keys=True)\\n  test_groups[\\\"cdr3_seq_aa_q_trim\\\"]\\n\", \"time\": \"2023-11-04T10:06:58.349090\"}\n"
     ]
    },
    {
     "name": "stderr",
     "output_type": "stream",
     "text": [
      "{\"message\": \"/home/maxim/code/immune-repertoire-classification/malid/trained_model_wrappers/convergent_cluster_classifier.py:571: FutureWarning: Not prepending group keys to the result index of transform-like apply. In the future, the group keys will be included in the index, regardless of whether the applied function returns a like-indexed object.\\nTo preserve the previous behavior, use\\n\\n\\t>>> .groupby(..., group_keys=False)\\n\\nTo adopt the future behavior and silence this warning, use \\n\\n\\t>>> .groupby(..., group_keys=True)\\n  test_groups[\\\"cdr3_seq_aa_q_trim\\\"]\\n\", \"time\": \"2023-11-04T10:08:27.079420\"}\n"
     ]
    },
    {
     "name": "stderr",
     "output_type": "stream",
     "text": [
      "{\"message\": \"/home/maxim/code/immune-repertoire-classification/malid/trained_model_wrappers/convergent_cluster_classifier.py:571: FutureWarning: Not prepending group keys to the result index of transform-like apply. In the future, the group keys will be included in the index, regardless of whether the applied function returns a like-indexed object.\\nTo preserve the previous behavior, use\\n\\n\\t>>> .groupby(..., group_keys=False)\\n\\nTo adopt the future behavior and silence this warning, use \\n\\n\\t>>> .groupby(..., group_keys=True)\\n  test_groups[\\\"cdr3_seq_aa_q_trim\\\"]\\n\", \"time\": \"2023-11-04T10:09:58.016738\"}\n"
     ]
    },
    {
     "name": "stderr",
     "output_type": "stream",
     "text": [
      "{\"message\": \"/home/maxim/code/immune-repertoire-classification/malid/trained_model_wrappers/convergent_cluster_classifier.py:571: FutureWarning: Not prepending group keys to the result index of transform-like apply. In the future, the group keys will be included in the index, regardless of whether the applied function returns a like-indexed object.\\nTo preserve the previous behavior, use\\n\\n\\t>>> .groupby(..., group_keys=False)\\n\\nTo adopt the future behavior and silence this warning, use \\n\\n\\t>>> .groupby(..., group_keys=True)\\n  test_groups[\\\"cdr3_seq_aa_q_trim\\\"]\\n\", \"time\": \"2023-11-04T10:11:34.548036\"}\n"
     ]
    },
    {
     "name": "stderr",
     "output_type": "stream",
     "text": [
      "{\"message\": \"/home/maxim/code/immune-repertoire-classification/malid/trained_model_wrappers/convergent_cluster_classifier.py:571: FutureWarning: Not prepending group keys to the result index of transform-like apply. In the future, the group keys will be included in the index, regardless of whether the applied function returns a like-indexed object.\\nTo preserve the previous behavior, use\\n\\n\\t>>> .groupby(..., group_keys=False)\\n\\nTo adopt the future behavior and silence this warning, use \\n\\n\\t>>> .groupby(..., group_keys=True)\\n  test_groups[\\\"cdr3_seq_aa_q_trim\\\"]\\n\", \"time\": \"2023-11-04T10:13:03.464785\"}\n"
     ]
    },
    {
     "name": "stderr",
     "output_type": "stream",
     "text": [
      "{\"message\": \"/home/maxim/code/immune-repertoire-classification/malid/trained_model_wrappers/convergent_cluster_classifier.py:571: FutureWarning: Not prepending group keys to the result index of transform-like apply. In the future, the group keys will be included in the index, regardless of whether the applied function returns a like-indexed object.\\nTo preserve the previous behavior, use\\n\\n\\t>>> .groupby(..., group_keys=False)\\n\\nTo adopt the future behavior and silence this warning, use \\n\\n\\t>>> .groupby(..., group_keys=True)\\n  test_groups[\\\"cdr3_seq_aa_q_trim\\\"]\\n\", \"time\": \"2023-11-04T10:14:32.946282\"}\n"
     ]
    },
    {
     "name": "stderr",
     "output_type": "stream",
     "text": [
      "{\"message\": \"/home/maxim/code/immune-repertoire-classification/malid/trained_model_wrappers/convergent_cluster_classifier.py:571: FutureWarning: Not prepending group keys to the result index of transform-like apply. In the future, the group keys will be included in the index, regardless of whether the applied function returns a like-indexed object.\\nTo preserve the previous behavior, use\\n\\n\\t>>> .groupby(..., group_keys=False)\\n\\nTo adopt the future behavior and silence this warning, use \\n\\n\\t>>> .groupby(..., group_keys=True)\\n  test_groups[\\\"cdr3_seq_aa_q_trim\\\"]\\n\", \"time\": \"2023-11-04T10:16:02.072451\"}\n"
     ]
    },
    {
     "name": "stderr",
     "output_type": "stream",
     "text": [
      "{\"message\": \"/home/maxim/code/immune-repertoire-classification/malid/trained_model_wrappers/convergent_cluster_classifier.py:571: FutureWarning: Not prepending group keys to the result index of transform-like apply. In the future, the group keys will be included in the index, regardless of whether the applied function returns a like-indexed object.\\nTo preserve the previous behavior, use\\n\\n\\t>>> .groupby(..., group_keys=False)\\n\\nTo adopt the future behavior and silence this warning, use \\n\\n\\t>>> .groupby(..., group_keys=True)\\n  test_groups[\\\"cdr3_seq_aa_q_trim\\\"]\\n\", \"time\": \"2023-11-04T10:17:32.273181\"}\n"
     ]
    },
    {
     "name": "stderr",
     "output_type": "stream",
     "text": [
      "{\"message\": \"/home/maxim/code/immune-repertoire-classification/malid/trained_model_wrappers/convergent_cluster_classifier.py:571: FutureWarning: Not prepending group keys to the result index of transform-like apply. In the future, the group keys will be included in the index, regardless of whether the applied function returns a like-indexed object.\\nTo preserve the previous behavior, use\\n\\n\\t>>> .groupby(..., group_keys=False)\\n\\nTo adopt the future behavior and silence this warning, use \\n\\n\\t>>> .groupby(..., group_keys=True)\\n  test_groups[\\\"cdr3_seq_aa_q_trim\\\"]\\n\", \"time\": \"2023-11-04T10:19:05.773237\"}\n"
     ]
    },
    {
     "name": "stderr",
     "output_type": "stream",
     "text": [
      "{\"message\": \"/home/maxim/code/immune-repertoire-classification/malid/trained_model_wrappers/convergent_cluster_classifier.py:571: FutureWarning: Not prepending group keys to the result index of transform-like apply. In the future, the group keys will be included in the index, regardless of whether the applied function returns a like-indexed object.\\nTo preserve the previous behavior, use\\n\\n\\t>>> .groupby(..., group_keys=False)\\n\\nTo adopt the future behavior and silence this warning, use \\n\\n\\t>>> .groupby(..., group_keys=True)\\n  test_groups[\\\"cdr3_seq_aa_q_trim\\\"]\\n\", \"time\": \"2023-11-04T10:20:40.439889\"}\n"
     ]
    },
    {
     "name": "stderr",
     "output_type": "stream",
     "text": [
      "{\"message\": \"/home/maxim/code/immune-repertoire-classification/malid/trained_model_wrappers/convergent_cluster_classifier.py:571: FutureWarning: Not prepending group keys to the result index of transform-like apply. In the future, the group keys will be included in the index, regardless of whether the applied function returns a like-indexed object.\\nTo preserve the previous behavior, use\\n\\n\\t>>> .groupby(..., group_keys=False)\\n\\nTo adopt the future behavior and silence this warning, use \\n\\n\\t>>> .groupby(..., group_keys=True)\\n  test_groups[\\\"cdr3_seq_aa_q_trim\\\"]\\n\", \"time\": \"2023-11-04T10:22:19.984413\"}\n"
     ]
    },
    {
     "name": "stderr",
     "output_type": "stream",
     "text": [
      "{\"message\": \"/home/maxim/code/immune-repertoire-classification/malid/trained_model_wrappers/convergent_cluster_classifier.py:571: FutureWarning: Not prepending group keys to the result index of transform-like apply. In the future, the group keys will be included in the index, regardless of whether the applied function returns a like-indexed object.\\nTo preserve the previous behavior, use\\n\\n\\t>>> .groupby(..., group_keys=False)\\n\\nTo adopt the future behavior and silence this warning, use \\n\\n\\t>>> .groupby(..., group_keys=True)\\n  test_groups[\\\"cdr3_seq_aa_q_trim\\\"]\\n\", \"time\": \"2023-11-04T10:23:55.341579\"}\n"
     ]
    },
    {
     "name": "stderr",
     "output_type": "stream",
     "text": [
      "{\"message\": \"/home/maxim/code/immune-repertoire-classification/malid/trained_model_wrappers/convergent_cluster_classifier.py:571: FutureWarning: Not prepending group keys to the result index of transform-like apply. In the future, the group keys will be included in the index, regardless of whether the applied function returns a like-indexed object.\\nTo preserve the previous behavior, use\\n\\n\\t>>> .groupby(..., group_keys=False)\\n\\nTo adopt the future behavior and silence this warning, use \\n\\n\\t>>> .groupby(..., group_keys=True)\\n  test_groups[\\\"cdr3_seq_aa_q_trim\\\"]\\n\", \"time\": \"2023-11-04T10:25:35.521273\"}\n"
     ]
    },
    {
     "name": "stderr",
     "output_type": "stream",
     "text": [
      "{\"message\": \"/home/maxim/code/immune-repertoire-classification/malid/trained_model_wrappers/convergent_cluster_classifier.py:571: FutureWarning: Not prepending group keys to the result index of transform-like apply. In the future, the group keys will be included in the index, regardless of whether the applied function returns a like-indexed object.\\nTo preserve the previous behavior, use\\n\\n\\t>>> .groupby(..., group_keys=False)\\n\\nTo adopt the future behavior and silence this warning, use \\n\\n\\t>>> .groupby(..., group_keys=True)\\n  test_groups[\\\"cdr3_seq_aa_q_trim\\\"]\\n\", \"time\": \"2023-11-04T10:27:13.597263\"}\n"
     ]
    },
    {
     "name": "stderr",
     "output_type": "stream",
     "text": [
      "{\"message\": \"/home/maxim/code/immune-repertoire-classification/malid/trained_model_wrappers/convergent_cluster_classifier.py:571: FutureWarning: Not prepending group keys to the result index of transform-like apply. In the future, the group keys will be included in the index, regardless of whether the applied function returns a like-indexed object.\\nTo preserve the previous behavior, use\\n\\n\\t>>> .groupby(..., group_keys=False)\\n\\nTo adopt the future behavior and silence this warning, use \\n\\n\\t>>> .groupby(..., group_keys=True)\\n  test_groups[\\\"cdr3_seq_aa_q_trim\\\"]\\n\", \"time\": \"2023-11-04T10:28:50.023196\"}\n"
     ]
    },
    {
     "name": "stderr",
     "output_type": "stream",
     "text": [
      "{\"message\": \"/home/maxim/code/immune-repertoire-classification/malid/trained_model_wrappers/convergent_cluster_classifier.py:571: FutureWarning: Not prepending group keys to the result index of transform-like apply. In the future, the group keys will be included in the index, regardless of whether the applied function returns a like-indexed object.\\nTo preserve the previous behavior, use\\n\\n\\t>>> .groupby(..., group_keys=False)\\n\\nTo adopt the future behavior and silence this warning, use \\n\\n\\t>>> .groupby(..., group_keys=True)\\n  test_groups[\\\"cdr3_seq_aa_q_trim\\\"]\\n\", \"time\": \"2023-11-04T10:30:19.762979\"}\n"
     ]
    },
    {
     "name": "stderr",
     "output_type": "stream",
     "text": [
      "{\"message\": \"/home/maxim/code/immune-repertoire-classification/malid/trained_model_wrappers/convergent_cluster_classifier.py:571: FutureWarning: Not prepending group keys to the result index of transform-like apply. In the future, the group keys will be included in the index, regardless of whether the applied function returns a like-indexed object.\\nTo preserve the previous behavior, use\\n\\n\\t>>> .groupby(..., group_keys=False)\\n\\nTo adopt the future behavior and silence this warning, use \\n\\n\\t>>> .groupby(..., group_keys=True)\\n  test_groups[\\\"cdr3_seq_aa_q_trim\\\"]\\n\", \"time\": \"2023-11-04T10:31:54.681559\"}\n"
     ]
    },
    {
     "name": "stderr",
     "output_type": "stream",
     "text": [
      "{\"message\": \"/home/maxim/code/immune-repertoire-classification/malid/trained_model_wrappers/convergent_cluster_classifier.py:571: FutureWarning: Not prepending group keys to the result index of transform-like apply. In the future, the group keys will be included in the index, regardless of whether the applied function returns a like-indexed object.\\nTo preserve the previous behavior, use\\n\\n\\t>>> .groupby(..., group_keys=False)\\n\\nTo adopt the future behavior and silence this warning, use \\n\\n\\t>>> .groupby(..., group_keys=True)\\n  test_groups[\\\"cdr3_seq_aa_q_trim\\\"]\\n\", \"time\": \"2023-11-04T10:33:30.868399\"}\n"
     ]
    },
    {
     "name": "stderr",
     "output_type": "stream",
     "text": [
      "{\"message\": \"/home/maxim/code/immune-repertoire-classification/malid/trained_model_wrappers/convergent_cluster_classifier.py:571: FutureWarning: Not prepending group keys to the result index of transform-like apply. In the future, the group keys will be included in the index, regardless of whether the applied function returns a like-indexed object.\\nTo preserve the previous behavior, use\\n\\n\\t>>> .groupby(..., group_keys=False)\\n\\nTo adopt the future behavior and silence this warning, use \\n\\n\\t>>> .groupby(..., group_keys=True)\\n  test_groups[\\\"cdr3_seq_aa_q_trim\\\"]\\n\", \"time\": \"2023-11-04T10:35:04.067716\"}\n"
     ]
    },
    {
     "name": "stderr",
     "output_type": "stream",
     "text": [
      "{\"message\": \"/home/maxim/code/immune-repertoire-classification/malid/trained_model_wrappers/convergent_cluster_classifier.py:571: FutureWarning: Not prepending group keys to the result index of transform-like apply. In the future, the group keys will be included in the index, regardless of whether the applied function returns a like-indexed object.\\nTo preserve the previous behavior, use\\n\\n\\t>>> .groupby(..., group_keys=False)\\n\\nTo adopt the future behavior and silence this warning, use \\n\\n\\t>>> .groupby(..., group_keys=True)\\n  test_groups[\\\"cdr3_seq_aa_q_trim\\\"]\\n\", \"time\": \"2023-11-04T10:36:42.636811\"}\n"
     ]
    },
    {
     "name": "stderr",
     "output_type": "stream",
     "text": [
      "{\"message\": \"/home/maxim/code/immune-repertoire-classification/malid/trained_model_wrappers/convergent_cluster_classifier.py:571: FutureWarning: Not prepending group keys to the result index of transform-like apply. In the future, the group keys will be included in the index, regardless of whether the applied function returns a like-indexed object.\\nTo preserve the previous behavior, use\\n\\n\\t>>> .groupby(..., group_keys=False)\\n\\nTo adopt the future behavior and silence this warning, use \\n\\n\\t>>> .groupby(..., group_keys=True)\\n  test_groups[\\\"cdr3_seq_aa_q_trim\\\"]\\n\", \"time\": \"2023-11-04T10:38:16.669156\"}\n"
     ]
    },
    {
     "name": "stderr",
     "output_type": "stream",
     "text": [
      "{\"message\": \"/home/maxim/code/immune-repertoire-classification/malid/trained_model_wrappers/convergent_cluster_classifier.py:571: FutureWarning: Not prepending group keys to the result index of transform-like apply. In the future, the group keys will be included in the index, regardless of whether the applied function returns a like-indexed object.\\nTo preserve the previous behavior, use\\n\\n\\t>>> .groupby(..., group_keys=False)\\n\\nTo adopt the future behavior and silence this warning, use \\n\\n\\t>>> .groupby(..., group_keys=True)\\n  test_groups[\\\"cdr3_seq_aa_q_trim\\\"]\\n\", \"time\": \"2023-11-04T10:39:51.748724\"}\n"
     ]
    },
    {
     "name": "stderr",
     "output_type": "stream",
     "text": [
      "{\"message\": \"/home/maxim/code/immune-repertoire-classification/malid/trained_model_wrappers/convergent_cluster_classifier.py:571: FutureWarning: Not prepending group keys to the result index of transform-like apply. In the future, the group keys will be included in the index, regardless of whether the applied function returns a like-indexed object.\\nTo preserve the previous behavior, use\\n\\n\\t>>> .groupby(..., group_keys=False)\\n\\nTo adopt the future behavior and silence this warning, use \\n\\n\\t>>> .groupby(..., group_keys=True)\\n  test_groups[\\\"cdr3_seq_aa_q_trim\\\"]\\n\", \"time\": \"2023-11-04T10:41:32.569402\"}\n"
     ]
    },
    {
     "name": "stderr",
     "output_type": "stream",
     "text": [
      "{\"message\": \"/home/maxim/code/immune-repertoire-classification/malid/trained_model_wrappers/convergent_cluster_classifier.py:571: FutureWarning: Not prepending group keys to the result index of transform-like apply. In the future, the group keys will be included in the index, regardless of whether the applied function returns a like-indexed object.\\nTo preserve the previous behavior, use\\n\\n\\t>>> .groupby(..., group_keys=False)\\n\\nTo adopt the future behavior and silence this warning, use \\n\\n\\t>>> .groupby(..., group_keys=True)\\n  test_groups[\\\"cdr3_seq_aa_q_trim\\\"]\\n\", \"time\": \"2023-11-04T10:43:11.174388\"}\n"
     ]
    },
    {
     "name": "stderr",
     "output_type": "stream",
     "text": [
      "{\"message\": \"/home/maxim/code/immune-repertoire-classification/malid/trained_model_wrappers/convergent_cluster_classifier.py:571: FutureWarning: Not prepending group keys to the result index of transform-like apply. In the future, the group keys will be included in the index, regardless of whether the applied function returns a like-indexed object.\\nTo preserve the previous behavior, use\\n\\n\\t>>> .groupby(..., group_keys=False)\\n\\nTo adopt the future behavior and silence this warning, use \\n\\n\\t>>> .groupby(..., group_keys=True)\\n  test_groups[\\\"cdr3_seq_aa_q_trim\\\"]\\n\", \"time\": \"2023-11-04T10:44:53.135965\"}\n"
     ]
    },
    {
     "name": "stderr",
     "output_type": "stream",
     "text": [
      "{\"message\": \"/home/maxim/code/immune-repertoire-classification/malid/trained_model_wrappers/convergent_cluster_classifier.py:571: FutureWarning: Not prepending group keys to the result index of transform-like apply. In the future, the group keys will be included in the index, regardless of whether the applied function returns a like-indexed object.\\nTo preserve the previous behavior, use\\n\\n\\t>>> .groupby(..., group_keys=False)\\n\\nTo adopt the future behavior and silence this warning, use \\n\\n\\t>>> .groupby(..., group_keys=True)\\n  test_groups[\\\"cdr3_seq_aa_q_trim\\\"]\\n\", \"time\": \"2023-11-04T10:46:33.185051\"}\n"
     ]
    },
    {
     "name": "stderr",
     "output_type": "stream",
     "text": [
      "{\"message\": \"/home/maxim/code/immune-repertoire-classification/malid/trained_model_wrappers/convergent_cluster_classifier.py:571: FutureWarning: Not prepending group keys to the result index of transform-like apply. In the future, the group keys will be included in the index, regardless of whether the applied function returns a like-indexed object.\\nTo preserve the previous behavior, use\\n\\n\\t>>> .groupby(..., group_keys=False)\\n\\nTo adopt the future behavior and silence this warning, use \\n\\n\\t>>> .groupby(..., group_keys=True)\\n  test_groups[\\\"cdr3_seq_aa_q_trim\\\"]\\n\", \"time\": \"2023-11-04T10:48:10.890254\"}\n"
     ]
    },
    {
     "name": "stderr",
     "output_type": "stream",
     "text": [
      "{\"message\": \"/home/maxim/code/immune-repertoire-classification/malid/trained_model_wrappers/convergent_cluster_classifier.py:571: FutureWarning: Not prepending group keys to the result index of transform-like apply. In the future, the group keys will be included in the index, regardless of whether the applied function returns a like-indexed object.\\nTo preserve the previous behavior, use\\n\\n\\t>>> .groupby(..., group_keys=False)\\n\\nTo adopt the future behavior and silence this warning, use \\n\\n\\t>>> .groupby(..., group_keys=True)\\n  test_groups[\\\"cdr3_seq_aa_q_trim\\\"]\\n\", \"time\": \"2023-11-04T10:49:47.102469\"}\n"
     ]
    },
    {
     "name": "stderr",
     "output_type": "stream",
     "text": [
      "{\"message\": \"/home/maxim/code/immune-repertoire-classification/malid/trained_model_wrappers/convergent_cluster_classifier.py:571: FutureWarning: Not prepending group keys to the result index of transform-like apply. In the future, the group keys will be included in the index, regardless of whether the applied function returns a like-indexed object.\\nTo preserve the previous behavior, use\\n\\n\\t>>> .groupby(..., group_keys=False)\\n\\nTo adopt the future behavior and silence this warning, use \\n\\n\\t>>> .groupby(..., group_keys=True)\\n  test_groups[\\\"cdr3_seq_aa_q_trim\\\"]\\n\", \"time\": \"2023-11-04T10:51:29.476107\"}\n"
     ]
    },
    {
     "name": "stderr",
     "output_type": "stream",
     "text": [
      "{\"message\": \"/home/maxim/code/immune-repertoire-classification/malid/trained_model_wrappers/convergent_cluster_classifier.py:571: FutureWarning: Not prepending group keys to the result index of transform-like apply. In the future, the group keys will be included in the index, regardless of whether the applied function returns a like-indexed object.\\nTo preserve the previous behavior, use\\n\\n\\t>>> .groupby(..., group_keys=False)\\n\\nTo adopt the future behavior and silence this warning, use \\n\\n\\t>>> .groupby(..., group_keys=True)\\n  test_groups[\\\"cdr3_seq_aa_q_trim\\\"]\\n\", \"time\": \"2023-11-04T10:52:58.624923\"}\n"
     ]
    },
    {
     "name": "stderr",
     "output_type": "stream",
     "text": [
      "{\"message\": \"/home/maxim/code/immune-repertoire-classification/malid/trained_model_wrappers/convergent_cluster_classifier.py:571: FutureWarning: Not prepending group keys to the result index of transform-like apply. In the future, the group keys will be included in the index, regardless of whether the applied function returns a like-indexed object.\\nTo preserve the previous behavior, use\\n\\n\\t>>> .groupby(..., group_keys=False)\\n\\nTo adopt the future behavior and silence this warning, use \\n\\n\\t>>> .groupby(..., group_keys=True)\\n  test_groups[\\\"cdr3_seq_aa_q_trim\\\"]\\n\", \"time\": \"2023-11-04T10:54:29.082174\"}\n"
     ]
    },
    {
     "name": "stderr",
     "output_type": "stream",
     "text": [
      "{\"message\": \"/home/maxim/code/immune-repertoire-classification/malid/trained_model_wrappers/convergent_cluster_classifier.py:571: FutureWarning: Not prepending group keys to the result index of transform-like apply. In the future, the group keys will be included in the index, regardless of whether the applied function returns a like-indexed object.\\nTo preserve the previous behavior, use\\n\\n\\t>>> .groupby(..., group_keys=False)\\n\\nTo adopt the future behavior and silence this warning, use \\n\\n\\t>>> .groupby(..., group_keys=True)\\n  test_groups[\\\"cdr3_seq_aa_q_trim\\\"]\\n\", \"time\": \"2023-11-04T10:56:04.535071\"}\n"
     ]
    },
    {
     "name": "stderr",
     "output_type": "stream",
     "text": [
      "{\"message\": \"/home/maxim/code/immune-repertoire-classification/malid/trained_model_wrappers/convergent_cluster_classifier.py:571: FutureWarning: Not prepending group keys to the result index of transform-like apply. In the future, the group keys will be included in the index, regardless of whether the applied function returns a like-indexed object.\\nTo preserve the previous behavior, use\\n\\n\\t>>> .groupby(..., group_keys=False)\\n\\nTo adopt the future behavior and silence this warning, use \\n\\n\\t>>> .groupby(..., group_keys=True)\\n  test_groups[\\\"cdr3_seq_aa_q_trim\\\"]\\n\", \"time\": \"2023-11-04T10:57:39.514259\"}\n"
     ]
    },
    {
     "name": "stderr",
     "output_type": "stream",
     "text": [
      "{\"message\": \"/home/maxim/code/immune-repertoire-classification/malid/trained_model_wrappers/convergent_cluster_classifier.py:571: FutureWarning: Not prepending group keys to the result index of transform-like apply. In the future, the group keys will be included in the index, regardless of whether the applied function returns a like-indexed object.\\nTo preserve the previous behavior, use\\n\\n\\t>>> .groupby(..., group_keys=False)\\n\\nTo adopt the future behavior and silence this warning, use \\n\\n\\t>>> .groupby(..., group_keys=True)\\n  test_groups[\\\"cdr3_seq_aa_q_trim\\\"]\\n\", \"time\": \"2023-11-04T10:59:08.992090\"}\n"
     ]
    },
    {
     "name": "stderr",
     "output_type": "stream",
     "text": [
      "{\"message\": \"/home/maxim/code/immune-repertoire-classification/malid/trained_model_wrappers/convergent_cluster_classifier.py:571: FutureWarning: Not prepending group keys to the result index of transform-like apply. In the future, the group keys will be included in the index, regardless of whether the applied function returns a like-indexed object.\\nTo preserve the previous behavior, use\\n\\n\\t>>> .groupby(..., group_keys=False)\\n\\nTo adopt the future behavior and silence this warning, use \\n\\n\\t>>> .groupby(..., group_keys=True)\\n  test_groups[\\\"cdr3_seq_aa_q_trim\\\"]\\n\", \"time\": \"2023-11-04T11:00:38.605707\"}\n"
     ]
    },
    {
     "name": "stderr",
     "output_type": "stream",
     "text": [
      "{\"message\": \"/home/maxim/code/immune-repertoire-classification/malid/trained_model_wrappers/convergent_cluster_classifier.py:571: FutureWarning: Not prepending group keys to the result index of transform-like apply. In the future, the group keys will be included in the index, regardless of whether the applied function returns a like-indexed object.\\nTo preserve the previous behavior, use\\n\\n\\t>>> .groupby(..., group_keys=False)\\n\\nTo adopt the future behavior and silence this warning, use \\n\\n\\t>>> .groupby(..., group_keys=True)\\n  test_groups[\\\"cdr3_seq_aa_q_trim\\\"]\\n\", \"time\": \"2023-11-04T11:02:07.350974\"}\n"
     ]
    },
    {
     "name": "stderr",
     "output_type": "stream",
     "text": [
      "{\"message\": \"/home/maxim/code/immune-repertoire-classification/malid/trained_model_wrappers/convergent_cluster_classifier.py:571: FutureWarning: Not prepending group keys to the result index of transform-like apply. In the future, the group keys will be included in the index, regardless of whether the applied function returns a like-indexed object.\\nTo preserve the previous behavior, use\\n\\n\\t>>> .groupby(..., group_keys=False)\\n\\nTo adopt the future behavior and silence this warning, use \\n\\n\\t>>> .groupby(..., group_keys=True)\\n  test_groups[\\\"cdr3_seq_aa_q_trim\\\"]\\n\", \"time\": \"2023-11-04T11:06:04.604259\"}\n"
     ]
    },
    {
     "name": "stderr",
     "output_type": "stream",
     "text": [
      "{\"message\": \"/home/maxim/code/immune-repertoire-classification/malid/trained_model_wrappers/convergent_cluster_classifier.py:571: FutureWarning: Not prepending group keys to the result index of transform-like apply. In the future, the group keys will be included in the index, regardless of whether the applied function returns a like-indexed object.\\nTo preserve the previous behavior, use\\n\\n\\t>>> .groupby(..., group_keys=False)\\n\\nTo adopt the future behavior and silence this warning, use \\n\\n\\t>>> .groupby(..., group_keys=True)\\n  test_groups[\\\"cdr3_seq_aa_q_trim\\\"]\\n\", \"time\": \"2023-11-04T11:08:27.094739\"}\n"
     ]
    },
    {
     "name": "stderr",
     "output_type": "stream",
     "text": [
      "{\"message\": \"/home/maxim/code/immune-repertoire-classification/malid/trained_model_wrappers/convergent_cluster_classifier.py:571: FutureWarning: Not prepending group keys to the result index of transform-like apply. In the future, the group keys will be included in the index, regardless of whether the applied function returns a like-indexed object.\\nTo preserve the previous behavior, use\\n\\n\\t>>> .groupby(..., group_keys=False)\\n\\nTo adopt the future behavior and silence this warning, use \\n\\n\\t>>> .groupby(..., group_keys=True)\\n  test_groups[\\\"cdr3_seq_aa_q_trim\\\"]\\n\", \"time\": \"2023-11-04T11:11:08.923358\"}\n"
     ]
    },
    {
     "name": "stderr",
     "output_type": "stream",
     "text": [
      "{\"message\": \"/home/maxim/code/immune-repertoire-classification/malid/trained_model_wrappers/convergent_cluster_classifier.py:571: FutureWarning: Not prepending group keys to the result index of transform-like apply. In the future, the group keys will be included in the index, regardless of whether the applied function returns a like-indexed object.\\nTo preserve the previous behavior, use\\n\\n\\t>>> .groupby(..., group_keys=False)\\n\\nTo adopt the future behavior and silence this warning, use \\n\\n\\t>>> .groupby(..., group_keys=True)\\n  test_groups[\\\"cdr3_seq_aa_q_trim\\\"]\\n\", \"time\": \"2023-11-04T11:13:36.257579\"}\n"
     ]
    },
    {
     "name": "stderr",
     "output_type": "stream",
     "text": [
      "{\"message\": \"/home/maxim/code/immune-repertoire-classification/malid/trained_model_wrappers/convergent_cluster_classifier.py:571: FutureWarning: Not prepending group keys to the result index of transform-like apply. In the future, the group keys will be included in the index, regardless of whether the applied function returns a like-indexed object.\\nTo preserve the previous behavior, use\\n\\n\\t>>> .groupby(..., group_keys=False)\\n\\nTo adopt the future behavior and silence this warning, use \\n\\n\\t>>> .groupby(..., group_keys=True)\\n  test_groups[\\\"cdr3_seq_aa_q_trim\\\"]\\n\", \"time\": \"2023-11-04T11:15:59.984301\"}\n"
     ]
    },
    {
     "name": "stderr",
     "output_type": "stream",
     "text": [
      "{\"message\": \"/home/maxim/code/immune-repertoire-classification/malid/trained_model_wrappers/convergent_cluster_classifier.py:571: FutureWarning: Not prepending group keys to the result index of transform-like apply. In the future, the group keys will be included in the index, regardless of whether the applied function returns a like-indexed object.\\nTo preserve the previous behavior, use\\n\\n\\t>>> .groupby(..., group_keys=False)\\n\\nTo adopt the future behavior and silence this warning, use \\n\\n\\t>>> .groupby(..., group_keys=True)\\n  test_groups[\\\"cdr3_seq_aa_q_trim\\\"]\\n\", \"time\": \"2023-11-04T11:18:34.329199\"}\n"
     ]
    },
    {
     "name": "stderr",
     "output_type": "stream",
     "text": [
      "{\"message\": \"/home/maxim/code/immune-repertoire-classification/malid/trained_model_wrappers/convergent_cluster_classifier.py:571: FutureWarning: Not prepending group keys to the result index of transform-like apply. In the future, the group keys will be included in the index, regardless of whether the applied function returns a like-indexed object.\\nTo preserve the previous behavior, use\\n\\n\\t>>> .groupby(..., group_keys=False)\\n\\nTo adopt the future behavior and silence this warning, use \\n\\n\\t>>> .groupby(..., group_keys=True)\\n  test_groups[\\\"cdr3_seq_aa_q_trim\\\"]\\n\", \"time\": \"2023-11-04T11:21:00.476607\"}\n"
     ]
    },
    {
     "name": "stderr",
     "output_type": "stream",
     "text": [
      "{\"message\": \"/home/maxim/code/immune-repertoire-classification/malid/trained_model_wrappers/convergent_cluster_classifier.py:571: FutureWarning: Not prepending group keys to the result index of transform-like apply. In the future, the group keys will be included in the index, regardless of whether the applied function returns a like-indexed object.\\nTo preserve the previous behavior, use\\n\\n\\t>>> .groupby(..., group_keys=False)\\n\\nTo adopt the future behavior and silence this warning, use \\n\\n\\t>>> .groupby(..., group_keys=True)\\n  test_groups[\\\"cdr3_seq_aa_q_trim\\\"]\\n\", \"time\": \"2023-11-04T11:23:23.498576\"}\n"
     ]
    },
    {
     "name": "stderr",
     "output_type": "stream",
     "text": [
      "{\"message\": \"/home/maxim/code/immune-repertoire-classification/malid/trained_model_wrappers/convergent_cluster_classifier.py:571: FutureWarning: Not prepending group keys to the result index of transform-like apply. In the future, the group keys will be included in the index, regardless of whether the applied function returns a like-indexed object.\\nTo preserve the previous behavior, use\\n\\n\\t>>> .groupby(..., group_keys=False)\\n\\nTo adopt the future behavior and silence this warning, use \\n\\n\\t>>> .groupby(..., group_keys=True)\\n  test_groups[\\\"cdr3_seq_aa_q_trim\\\"]\\n\", \"time\": \"2023-11-04T11:26:06.625810\"}\n"
     ]
    },
    {
     "name": "stderr",
     "output_type": "stream",
     "text": [
      "{\"message\": \"/home/maxim/code/immune-repertoire-classification/malid/trained_model_wrappers/convergent_cluster_classifier.py:571: FutureWarning: Not prepending group keys to the result index of transform-like apply. In the future, the group keys will be included in the index, regardless of whether the applied function returns a like-indexed object.\\nTo preserve the previous behavior, use\\n\\n\\t>>> .groupby(..., group_keys=False)\\n\\nTo adopt the future behavior and silence this warning, use \\n\\n\\t>>> .groupby(..., group_keys=True)\\n  test_groups[\\\"cdr3_seq_aa_q_trim\\\"]\\n\", \"time\": \"2023-11-04T11:28:47.686615\"}\n"
     ]
    },
    {
     "name": "stderr",
     "output_type": "stream",
     "text": [
      "{\"message\": \"/home/maxim/code/immune-repertoire-classification/malid/trained_model_wrappers/convergent_cluster_classifier.py:571: FutureWarning: Not prepending group keys to the result index of transform-like apply. In the future, the group keys will be included in the index, regardless of whether the applied function returns a like-indexed object.\\nTo preserve the previous behavior, use\\n\\n\\t>>> .groupby(..., group_keys=False)\\n\\nTo adopt the future behavior and silence this warning, use \\n\\n\\t>>> .groupby(..., group_keys=True)\\n  test_groups[\\\"cdr3_seq_aa_q_trim\\\"]\\n\", \"time\": \"2023-11-04T11:31:26.594569\"}\n"
     ]
    },
    {
     "name": "stderr",
     "output_type": "stream",
     "text": [
      "{\"message\": \"/home/maxim/code/immune-repertoire-classification/malid/trained_model_wrappers/convergent_cluster_classifier.py:571: FutureWarning: Not prepending group keys to the result index of transform-like apply. In the future, the group keys will be included in the index, regardless of whether the applied function returns a like-indexed object.\\nTo preserve the previous behavior, use\\n\\n\\t>>> .groupby(..., group_keys=False)\\n\\nTo adopt the future behavior and silence this warning, use \\n\\n\\t>>> .groupby(..., group_keys=True)\\n  test_groups[\\\"cdr3_seq_aa_q_trim\\\"]\\n\", \"time\": \"2023-11-04T11:34:01.000118\"}\n"
     ]
    },
    {
     "name": "stdout",
     "output_type": "stream",
     "text": [
      "Validation set performance: GeneLocus.TCR TargetObsColumnEnum.disease --> /home/maxim/code/immune-repertoire-classification/out/in_house_peak_disease_timepoints/convergent_clusters/TCR/disease\n"
     ]
    },
    {
     "name": "stderr",
     "output_type": "stream",
     "text": [
      "{\"message\": \"Inserting phantom class: Healthy/Background\", \"time\": \"2023-11-04T11:36:29.264797\"}\n"
     ]
    },
    {
     "name": "stderr",
     "output_type": "stream",
     "text": [
      "{\"message\": \"Inserting phantom class: Healthy/Background\", \"time\": \"2023-11-04T11:36:29.294119\"}\n"
     ]
    },
    {
     "name": "stderr",
     "output_type": "stream",
     "text": [
      "{\"message\": \"Inserting phantom class: Healthy/Background\", \"time\": \"2023-11-04T11:36:29.320614\"}\n"
     ]
    },
    {
     "name": "stderr",
     "output_type": "stream",
     "text": [
      "{\"message\": \"Inserting phantom class: Healthy/Background\", \"time\": \"2023-11-04T11:36:29.334529\"}\n"
     ]
    },
    {
     "name": "stderr",
     "output_type": "stream",
     "text": [
      "{\"message\": \"Inserting phantom class: Healthy/Background\", \"time\": \"2023-11-04T11:36:29.350285\"}\n"
     ]
    },
    {
     "name": "stderr",
     "output_type": "stream",
     "text": [
      "{\"message\": \"Inserting phantom class: Healthy/Background\", \"time\": \"2023-11-04T11:36:29.380445\"}\n"
     ]
    },
    {
     "name": "stderr",
     "output_type": "stream",
     "text": [
      "{\"message\": \"Inserting phantom class: Healthy/Background\", \"time\": \"2023-11-04T11:36:29.408463\"}\n"
     ]
    },
    {
     "name": "stderr",
     "output_type": "stream",
     "text": [
      "{\"message\": \"Inserting phantom class: Healthy/Background\", \"time\": \"2023-11-04T11:36:29.423535\"}\n"
     ]
    },
    {
     "name": "stderr",
     "output_type": "stream",
     "text": [
      "{\"message\": \"Inserting phantom class: Healthy/Background\", \"time\": \"2023-11-04T11:36:29.440006\"}\n"
     ]
    },
    {
     "name": "stderr",
     "output_type": "stream",
     "text": [
      "{\"message\": \"Inserting phantom class: Healthy/Background\", \"time\": \"2023-11-04T11:36:29.467981\"}\n"
     ]
    },
    {
     "name": "stderr",
     "output_type": "stream",
     "text": [
      "{\"message\": \"Inserting phantom class: Healthy/Background\", \"time\": \"2023-11-04T11:36:29.495479\"}\n"
     ]
    },
    {
     "name": "stderr",
     "output_type": "stream",
     "text": [
      "{\"message\": \"Inserting phantom class: Healthy/Background\", \"time\": \"2023-11-04T11:36:29.510965\"}\n"
     ]
    },
    {
     "name": "stderr",
     "output_type": "stream",
     "text": [
      "{\"message\": \"Inserting phantom class: Healthy/Background\", \"time\": \"2023-11-04T11:36:29.544283\"}\n"
     ]
    },
    {
     "name": "stderr",
     "output_type": "stream",
     "text": [
      "{\"message\": \"Inserting phantom class: Healthy/Background\", \"time\": \"2023-11-04T11:36:29.573306\"}\n"
     ]
    },
    {
     "name": "stderr",
     "output_type": "stream",
     "text": [
      "{\"message\": \"Inserting phantom class: Healthy/Background\", \"time\": \"2023-11-04T11:36:29.600823\"}\n"
     ]
    },
    {
     "name": "stderr",
     "output_type": "stream",
     "text": [
      "{\"message\": \"Inserting phantom class: Healthy/Background\", \"time\": \"2023-11-04T11:36:29.617253\"}\n"
     ]
    },
    {
     "name": "stderr",
     "output_type": "stream",
     "text": [
      "{\"message\": \"Inserting phantom class: Healthy/Background\", \"time\": \"2023-11-04T11:36:29.632968\"}\n"
     ]
    },
    {
     "name": "stderr",
     "output_type": "stream",
     "text": [
      "{\"message\": \"Inserting phantom class: Healthy/Background\", \"time\": \"2023-11-04T11:36:29.660866\"}\n"
     ]
    },
    {
     "name": "stderr",
     "output_type": "stream",
     "text": [
      "{\"message\": \"Inserting phantom class: Healthy/Background\", \"time\": \"2023-11-04T11:36:29.688202\"}\n"
     ]
    },
    {
     "name": "stderr",
     "output_type": "stream",
     "text": [
      "{\"message\": \"Inserting phantom class: Healthy/Background\", \"time\": \"2023-11-04T11:36:29.702923\"}\n"
     ]
    },
    {
     "name": "stderr",
     "output_type": "stream",
     "text": [
      "{\"message\": \"Inserting phantom class: Healthy/Background\", \"time\": \"2023-11-04T11:36:29.725423\"}\n"
     ]
    },
    {
     "name": "stderr",
     "output_type": "stream",
     "text": [
      "{\"message\": \"Inserting phantom class: Healthy/Background\", \"time\": \"2023-11-04T11:36:29.753983\"}\n"
     ]
    },
    {
     "name": "stderr",
     "output_type": "stream",
     "text": [
      "{\"message\": \"Inserting phantom class: Healthy/Background\", \"time\": \"2023-11-04T11:36:29.781025\"}\n"
     ]
    },
    {
     "name": "stderr",
     "output_type": "stream",
     "text": [
      "{\"message\": \"Inserting phantom class: Healthy/Background\", \"time\": \"2023-11-04T11:36:29.795049\"}\n"
     ]
    },
    {
     "data": {
      "text/html": [
       "<div>\n",
       "<style scoped>\n",
       "    .dataframe tbody tr th:only-of-type {\n",
       "        vertical-align: middle;\n",
       "    }\n",
       "\n",
       "    .dataframe tbody tr th {\n",
       "        vertical-align: top;\n",
       "    }\n",
       "\n",
       "    .dataframe thead th {\n",
       "        text-align: right;\n",
       "    }\n",
       "</style>\n",
       "<table border=\"1\" class=\"dataframe\">\n",
       "  <thead>\n",
       "    <tr style=\"text-align: right;\">\n",
       "      <th></th>\n",
       "      <th>ROC-AUC (weighted OvO) per fold</th>\n",
       "      <th>ROC-AUC (macro OvO) per fold</th>\n",
       "      <th>au-PRC (weighted OvO) per fold</th>\n",
       "      <th>au-PRC (macro OvO) per fold</th>\n",
       "      <th>Accuracy per fold</th>\n",
       "      <th>MCC per fold</th>\n",
       "      <th>Accuracy global</th>\n",
       "      <th>MCC global</th>\n",
       "      <th>Global evaluation column name global</th>\n",
       "      <th>Accuracy per fold with abstention</th>\n",
       "      <th>...</th>\n",
       "      <th>Accuracy global with abstention</th>\n",
       "      <th>MCC global with abstention</th>\n",
       "      <th>Unknown/abstention proportion global with abstention</th>\n",
       "      <th>Abstention label global with abstention</th>\n",
       "      <th>Global evaluation column name global with abstention</th>\n",
       "      <th>sample_size</th>\n",
       "      <th>n_abstentions</th>\n",
       "      <th>sample_size including abstentions</th>\n",
       "      <th>abstention_rate</th>\n",
       "      <th>missing_classes</th>\n",
       "    </tr>\n",
       "  </thead>\n",
       "  <tbody>\n",
       "    <tr>\n",
       "      <th>xgboost</th>\n",
       "      <td>0.801 +/- 0.033 (in 3 folds)</td>\n",
       "      <td>0.792 +/- 0.030 (in 3 folds)</td>\n",
       "      <td>0.810 +/- 0.028 (in 3 folds)</td>\n",
       "      <td>0.808 +/- 0.027 (in 3 folds)</td>\n",
       "      <td>0.551 +/- 0.054 (in 3 folds)</td>\n",
       "      <td>0.420 +/- 0.063 (in 3 folds)</td>\n",
       "      <td>0.552</td>\n",
       "      <td>0.419</td>\n",
       "      <td>disease.separate_past_exposures</td>\n",
       "      <td>0.550 +/- 0.056 (in 3 folds)</td>\n",
       "      <td>...</td>\n",
       "      <td>0.550</td>\n",
       "      <td>0.418</td>\n",
       "      <td>0.003</td>\n",
       "      <td>Unknown</td>\n",
       "      <td>disease.separate_past_exposures</td>\n",
       "      <td>366</td>\n",
       "      <td>1</td>\n",
       "      <td>367</td>\n",
       "      <td>0.002725</td>\n",
       "      <td>False</td>\n",
       "    </tr>\n",
       "    <tr>\n",
       "      <th>xgboost.decision_thresholds_tuned</th>\n",
       "      <td>0.801 +/- 0.033 (in 3 folds)</td>\n",
       "      <td>0.792 +/- 0.030 (in 3 folds)</td>\n",
       "      <td>0.810 +/- 0.028 (in 3 folds)</td>\n",
       "      <td>0.808 +/- 0.027 (in 3 folds)</td>\n",
       "      <td>0.609 +/- 0.025 (in 3 folds)</td>\n",
       "      <td>0.500 +/- 0.047 (in 3 folds)</td>\n",
       "      <td>0.609</td>\n",
       "      <td>0.494</td>\n",
       "      <td>disease.separate_past_exposures</td>\n",
       "      <td>0.607 +/- 0.026 (in 3 folds)</td>\n",
       "      <td>...</td>\n",
       "      <td>0.608</td>\n",
       "      <td>0.492</td>\n",
       "      <td>0.003</td>\n",
       "      <td>Unknown</td>\n",
       "      <td>disease.separate_past_exposures</td>\n",
       "      <td>366</td>\n",
       "      <td>1</td>\n",
       "      <td>367</td>\n",
       "      <td>0.002725</td>\n",
       "      <td>False</td>\n",
       "    </tr>\n",
       "    <tr>\n",
       "      <th>logisticregression_unregularized</th>\n",
       "      <td>0.800 +/- 0.032 (in 3 folds)</td>\n",
       "      <td>0.797 +/- 0.029 (in 3 folds)</td>\n",
       "      <td>0.813 +/- 0.033 (in 3 folds)</td>\n",
       "      <td>0.816 +/- 0.029 (in 3 folds)</td>\n",
       "      <td>0.531 +/- 0.071 (in 3 folds)</td>\n",
       "      <td>0.391 +/- 0.095 (in 3 folds)</td>\n",
       "      <td>0.531</td>\n",
       "      <td>0.390</td>\n",
       "      <td>disease.separate_past_exposures</td>\n",
       "      <td>NaN</td>\n",
       "      <td>...</td>\n",
       "      <td>NaN</td>\n",
       "      <td>NaN</td>\n",
       "      <td>NaN</td>\n",
       "      <td>NaN</td>\n",
       "      <td>NaN</td>\n",
       "      <td>367</td>\n",
       "      <td>0</td>\n",
       "      <td>367</td>\n",
       "      <td>0.000000</td>\n",
       "      <td>False</td>\n",
       "    </tr>\n",
       "    <tr>\n",
       "      <th>logisticregression_unregularized.decision_thresholds_tuned</th>\n",
       "      <td>0.800 +/- 0.032 (in 3 folds)</td>\n",
       "      <td>0.797 +/- 0.029 (in 3 folds)</td>\n",
       "      <td>0.813 +/- 0.033 (in 3 folds)</td>\n",
       "      <td>0.816 +/- 0.029 (in 3 folds)</td>\n",
       "      <td>0.610 +/- 0.068 (in 3 folds)</td>\n",
       "      <td>0.503 +/- 0.082 (in 3 folds)</td>\n",
       "      <td>0.610</td>\n",
       "      <td>0.497</td>\n",
       "      <td>disease.separate_past_exposures</td>\n",
       "      <td>NaN</td>\n",
       "      <td>...</td>\n",
       "      <td>NaN</td>\n",
       "      <td>NaN</td>\n",
       "      <td>NaN</td>\n",
       "      <td>NaN</td>\n",
       "      <td>NaN</td>\n",
       "      <td>367</td>\n",
       "      <td>0</td>\n",
       "      <td>367</td>\n",
       "      <td>0.000000</td>\n",
       "      <td>False</td>\n",
       "    </tr>\n",
       "    <tr>\n",
       "      <th>lasso_cv</th>\n",
       "      <td>0.797 +/- 0.026 (in 3 folds)</td>\n",
       "      <td>0.795 +/- 0.020 (in 3 folds)</td>\n",
       "      <td>0.810 +/- 0.023 (in 3 folds)</td>\n",
       "      <td>0.815 +/- 0.018 (in 3 folds)</td>\n",
       "      <td>0.534 +/- 0.064 (in 3 folds)</td>\n",
       "      <td>0.398 +/- 0.086 (in 3 folds)</td>\n",
       "      <td>0.534</td>\n",
       "      <td>0.398</td>\n",
       "      <td>disease.separate_past_exposures</td>\n",
       "      <td>NaN</td>\n",
       "      <td>...</td>\n",
       "      <td>NaN</td>\n",
       "      <td>NaN</td>\n",
       "      <td>NaN</td>\n",
       "      <td>NaN</td>\n",
       "      <td>NaN</td>\n",
       "      <td>367</td>\n",
       "      <td>0</td>\n",
       "      <td>367</td>\n",
       "      <td>0.000000</td>\n",
       "      <td>False</td>\n",
       "    </tr>\n",
       "    <tr>\n",
       "      <th>lasso_cv.decision_thresholds_tuned</th>\n",
       "      <td>0.797 +/- 0.026 (in 3 folds)</td>\n",
       "      <td>0.795 +/- 0.020 (in 3 folds)</td>\n",
       "      <td>0.810 +/- 0.023 (in 3 folds)</td>\n",
       "      <td>0.815 +/- 0.018 (in 3 folds)</td>\n",
       "      <td>0.577 +/- 0.083 (in 3 folds)</td>\n",
       "      <td>0.478 +/- 0.075 (in 3 folds)</td>\n",
       "      <td>0.578</td>\n",
       "      <td>0.468</td>\n",
       "      <td>disease.separate_past_exposures</td>\n",
       "      <td>NaN</td>\n",
       "      <td>...</td>\n",
       "      <td>NaN</td>\n",
       "      <td>NaN</td>\n",
       "      <td>NaN</td>\n",
       "      <td>NaN</td>\n",
       "      <td>NaN</td>\n",
       "      <td>367</td>\n",
       "      <td>0</td>\n",
       "      <td>367</td>\n",
       "      <td>0.000000</td>\n",
       "      <td>False</td>\n",
       "    </tr>\n",
       "    <tr>\n",
       "      <th>linearsvm_ovr.decision_thresholds_tuned</th>\n",
       "      <td>0.797 +/- 0.025 (in 3 folds)</td>\n",
       "      <td>0.791 +/- 0.020 (in 3 folds)</td>\n",
       "      <td>0.804 +/- 0.027 (in 3 folds)</td>\n",
       "      <td>0.807 +/- 0.023 (in 3 folds)</td>\n",
       "      <td>0.599 +/- 0.040 (in 3 folds)</td>\n",
       "      <td>0.494 +/- 0.058 (in 3 folds)</td>\n",
       "      <td>0.599</td>\n",
       "      <td>0.481</td>\n",
       "      <td>disease.separate_past_exposures</td>\n",
       "      <td>NaN</td>\n",
       "      <td>...</td>\n",
       "      <td>NaN</td>\n",
       "      <td>NaN</td>\n",
       "      <td>NaN</td>\n",
       "      <td>NaN</td>\n",
       "      <td>NaN</td>\n",
       "      <td>367</td>\n",
       "      <td>0</td>\n",
       "      <td>367</td>\n",
       "      <td>0.000000</td>\n",
       "      <td>False</td>\n",
       "    </tr>\n",
       "    <tr>\n",
       "      <th>linearsvm_ovr</th>\n",
       "      <td>0.797 +/- 0.025 (in 3 folds)</td>\n",
       "      <td>0.791 +/- 0.020 (in 3 folds)</td>\n",
       "      <td>0.804 +/- 0.027 (in 3 folds)</td>\n",
       "      <td>0.807 +/- 0.023 (in 3 folds)</td>\n",
       "      <td>0.533 +/- 0.088 (in 3 folds)</td>\n",
       "      <td>0.395 +/- 0.119 (in 3 folds)</td>\n",
       "      <td>0.534</td>\n",
       "      <td>0.396</td>\n",
       "      <td>disease.separate_past_exposures</td>\n",
       "      <td>NaN</td>\n",
       "      <td>...</td>\n",
       "      <td>NaN</td>\n",
       "      <td>NaN</td>\n",
       "      <td>NaN</td>\n",
       "      <td>NaN</td>\n",
       "      <td>NaN</td>\n",
       "      <td>367</td>\n",
       "      <td>0</td>\n",
       "      <td>367</td>\n",
       "      <td>0.000000</td>\n",
       "      <td>False</td>\n",
       "    </tr>\n",
       "    <tr>\n",
       "      <th>rf_multiclass.decision_thresholds_tuned</th>\n",
       "      <td>0.797 +/- 0.020 (in 3 folds)</td>\n",
       "      <td>0.793 +/- 0.015 (in 3 folds)</td>\n",
       "      <td>0.798 +/- 0.020 (in 3 folds)</td>\n",
       "      <td>0.798 +/- 0.018 (in 3 folds)</td>\n",
       "      <td>0.603 +/- 0.031 (in 3 folds)</td>\n",
       "      <td>0.490 +/- 0.043 (in 3 folds)</td>\n",
       "      <td>0.604</td>\n",
       "      <td>0.478</td>\n",
       "      <td>disease.separate_past_exposures</td>\n",
       "      <td>0.602 +/- 0.034 (in 3 folds)</td>\n",
       "      <td>...</td>\n",
       "      <td>0.602</td>\n",
       "      <td>0.477</td>\n",
       "      <td>0.003</td>\n",
       "      <td>Unknown</td>\n",
       "      <td>disease.separate_past_exposures</td>\n",
       "      <td>366</td>\n",
       "      <td>1</td>\n",
       "      <td>367</td>\n",
       "      <td>0.002725</td>\n",
       "      <td>False</td>\n",
       "    </tr>\n",
       "    <tr>\n",
       "      <th>rf_multiclass</th>\n",
       "      <td>0.797 +/- 0.020 (in 3 folds)</td>\n",
       "      <td>0.793 +/- 0.015 (in 3 folds)</td>\n",
       "      <td>0.798 +/- 0.020 (in 3 folds)</td>\n",
       "      <td>0.798 +/- 0.018 (in 3 folds)</td>\n",
       "      <td>0.540 +/- 0.065 (in 3 folds)</td>\n",
       "      <td>0.398 +/- 0.081 (in 3 folds)</td>\n",
       "      <td>0.541</td>\n",
       "      <td>0.396</td>\n",
       "      <td>disease.separate_past_exposures</td>\n",
       "      <td>0.539 +/- 0.067 (in 3 folds)</td>\n",
       "      <td>...</td>\n",
       "      <td>0.540</td>\n",
       "      <td>0.395</td>\n",
       "      <td>0.003</td>\n",
       "      <td>Unknown</td>\n",
       "      <td>disease.separate_past_exposures</td>\n",
       "      <td>366</td>\n",
       "      <td>1</td>\n",
       "      <td>367</td>\n",
       "      <td>0.002725</td>\n",
       "      <td>False</td>\n",
       "    </tr>\n",
       "    <tr>\n",
       "      <th>elasticnet_cv</th>\n",
       "      <td>0.795 +/- 0.032 (in 3 folds)</td>\n",
       "      <td>0.794 +/- 0.027 (in 3 folds)</td>\n",
       "      <td>0.806 +/- 0.028 (in 3 folds)</td>\n",
       "      <td>0.812 +/- 0.024 (in 3 folds)</td>\n",
       "      <td>0.525 +/- 0.076 (in 3 folds)</td>\n",
       "      <td>0.399 +/- 0.091 (in 3 folds)</td>\n",
       "      <td>0.526</td>\n",
       "      <td>0.397</td>\n",
       "      <td>disease.separate_past_exposures</td>\n",
       "      <td>NaN</td>\n",
       "      <td>...</td>\n",
       "      <td>NaN</td>\n",
       "      <td>NaN</td>\n",
       "      <td>NaN</td>\n",
       "      <td>NaN</td>\n",
       "      <td>NaN</td>\n",
       "      <td>367</td>\n",
       "      <td>0</td>\n",
       "      <td>367</td>\n",
       "      <td>0.000000</td>\n",
       "      <td>False</td>\n",
       "    </tr>\n",
       "    <tr>\n",
       "      <th>elasticnet_cv.decision_thresholds_tuned</th>\n",
       "      <td>0.795 +/- 0.032 (in 3 folds)</td>\n",
       "      <td>0.794 +/- 0.027 (in 3 folds)</td>\n",
       "      <td>0.806 +/- 0.028 (in 3 folds)</td>\n",
       "      <td>0.812 +/- 0.024 (in 3 folds)</td>\n",
       "      <td>0.585 +/- 0.068 (in 3 folds)</td>\n",
       "      <td>0.481 +/- 0.076 (in 3 folds)</td>\n",
       "      <td>0.586</td>\n",
       "      <td>0.479</td>\n",
       "      <td>disease.separate_past_exposures</td>\n",
       "      <td>NaN</td>\n",
       "      <td>...</td>\n",
       "      <td>NaN</td>\n",
       "      <td>NaN</td>\n",
       "      <td>NaN</td>\n",
       "      <td>NaN</td>\n",
       "      <td>NaN</td>\n",
       "      <td>367</td>\n",
       "      <td>0</td>\n",
       "      <td>367</td>\n",
       "      <td>0.000000</td>\n",
       "      <td>False</td>\n",
       "    </tr>\n",
       "    <tr>\n",
       "      <th>elasticnet_cv0.75</th>\n",
       "      <td>0.794 +/- 0.032 (in 3 folds)</td>\n",
       "      <td>0.793 +/- 0.027 (in 3 folds)</td>\n",
       "      <td>0.806 +/- 0.029 (in 3 folds)</td>\n",
       "      <td>0.812 +/- 0.024 (in 3 folds)</td>\n",
       "      <td>0.528 +/- 0.074 (in 3 folds)</td>\n",
       "      <td>0.402 +/- 0.088 (in 3 folds)</td>\n",
       "      <td>0.529</td>\n",
       "      <td>0.400</td>\n",
       "      <td>disease.separate_past_exposures</td>\n",
       "      <td>NaN</td>\n",
       "      <td>...</td>\n",
       "      <td>NaN</td>\n",
       "      <td>NaN</td>\n",
       "      <td>NaN</td>\n",
       "      <td>NaN</td>\n",
       "      <td>NaN</td>\n",
       "      <td>367</td>\n",
       "      <td>0</td>\n",
       "      <td>367</td>\n",
       "      <td>0.000000</td>\n",
       "      <td>False</td>\n",
       "    </tr>\n",
       "    <tr>\n",
       "      <th>elasticnet_cv0.75.decision_thresholds_tuned</th>\n",
       "      <td>0.794 +/- 0.032 (in 3 folds)</td>\n",
       "      <td>0.793 +/- 0.027 (in 3 folds)</td>\n",
       "      <td>0.806 +/- 0.029 (in 3 folds)</td>\n",
       "      <td>0.812 +/- 0.024 (in 3 folds)</td>\n",
       "      <td>0.585 +/- 0.074 (in 3 folds)</td>\n",
       "      <td>0.482 +/- 0.080 (in 3 folds)</td>\n",
       "      <td>0.586</td>\n",
       "      <td>0.470</td>\n",
       "      <td>disease.separate_past_exposures</td>\n",
       "      <td>NaN</td>\n",
       "      <td>...</td>\n",
       "      <td>NaN</td>\n",
       "      <td>NaN</td>\n",
       "      <td>NaN</td>\n",
       "      <td>NaN</td>\n",
       "      <td>NaN</td>\n",
       "      <td>367</td>\n",
       "      <td>0</td>\n",
       "      <td>367</td>\n",
       "      <td>0.000000</td>\n",
       "      <td>False</td>\n",
       "    </tr>\n",
       "    <tr>\n",
       "      <th>elasticnet_cv0.25</th>\n",
       "      <td>0.794 +/- 0.031 (in 3 folds)</td>\n",
       "      <td>0.793 +/- 0.026 (in 3 folds)</td>\n",
       "      <td>0.806 +/- 0.028 (in 3 folds)</td>\n",
       "      <td>0.811 +/- 0.023 (in 3 folds)</td>\n",
       "      <td>0.525 +/- 0.069 (in 3 folds)</td>\n",
       "      <td>0.399 +/- 0.083 (in 3 folds)</td>\n",
       "      <td>0.526</td>\n",
       "      <td>0.397</td>\n",
       "      <td>disease.separate_past_exposures</td>\n",
       "      <td>NaN</td>\n",
       "      <td>...</td>\n",
       "      <td>NaN</td>\n",
       "      <td>NaN</td>\n",
       "      <td>NaN</td>\n",
       "      <td>NaN</td>\n",
       "      <td>NaN</td>\n",
       "      <td>367</td>\n",
       "      <td>0</td>\n",
       "      <td>367</td>\n",
       "      <td>0.000000</td>\n",
       "      <td>False</td>\n",
       "    </tr>\n",
       "    <tr>\n",
       "      <th>elasticnet_cv0.25.decision_thresholds_tuned</th>\n",
       "      <td>0.794 +/- 0.031 (in 3 folds)</td>\n",
       "      <td>0.793 +/- 0.026 (in 3 folds)</td>\n",
       "      <td>0.806 +/- 0.028 (in 3 folds)</td>\n",
       "      <td>0.811 +/- 0.023 (in 3 folds)</td>\n",
       "      <td>0.596 +/- 0.073 (in 3 folds)</td>\n",
       "      <td>0.491 +/- 0.081 (in 3 folds)</td>\n",
       "      <td>0.597</td>\n",
       "      <td>0.480</td>\n",
       "      <td>disease.separate_past_exposures</td>\n",
       "      <td>NaN</td>\n",
       "      <td>...</td>\n",
       "      <td>NaN</td>\n",
       "      <td>NaN</td>\n",
       "      <td>NaN</td>\n",
       "      <td>NaN</td>\n",
       "      <td>NaN</td>\n",
       "      <td>367</td>\n",
       "      <td>0</td>\n",
       "      <td>367</td>\n",
       "      <td>0.000000</td>\n",
       "      <td>False</td>\n",
       "    </tr>\n",
       "    <tr>\n",
       "      <th>ridge_cv</th>\n",
       "      <td>0.790 +/- 0.033 (in 3 folds)</td>\n",
       "      <td>0.786 +/- 0.030 (in 3 folds)</td>\n",
       "      <td>0.788 +/- 0.032 (in 3 folds)</td>\n",
       "      <td>0.795 +/- 0.028 (in 3 folds)</td>\n",
       "      <td>0.507 +/- 0.085 (in 3 folds)</td>\n",
       "      <td>0.400 +/- 0.094 (in 3 folds)</td>\n",
       "      <td>0.508</td>\n",
       "      <td>0.392</td>\n",
       "      <td>disease.separate_past_exposures</td>\n",
       "      <td>0.506 +/- 0.086 (in 3 folds)</td>\n",
       "      <td>...</td>\n",
       "      <td>0.507</td>\n",
       "      <td>0.391</td>\n",
       "      <td>0.003</td>\n",
       "      <td>Unknown</td>\n",
       "      <td>disease.separate_past_exposures</td>\n",
       "      <td>366</td>\n",
       "      <td>1</td>\n",
       "      <td>367</td>\n",
       "      <td>0.002725</td>\n",
       "      <td>False</td>\n",
       "    </tr>\n",
       "    <tr>\n",
       "      <th>ridge_cv.decision_thresholds_tuned</th>\n",
       "      <td>0.790 +/- 0.033 (in 3 folds)</td>\n",
       "      <td>0.786 +/- 0.030 (in 3 folds)</td>\n",
       "      <td>0.788 +/- 0.032 (in 3 folds)</td>\n",
       "      <td>0.795 +/- 0.028 (in 3 folds)</td>\n",
       "      <td>0.576 +/- 0.047 (in 3 folds)</td>\n",
       "      <td>0.467 +/- 0.065 (in 3 folds)</td>\n",
       "      <td>0.577</td>\n",
       "      <td>0.461</td>\n",
       "      <td>disease.separate_past_exposures</td>\n",
       "      <td>0.575 +/- 0.048 (in 3 folds)</td>\n",
       "      <td>...</td>\n",
       "      <td>0.575</td>\n",
       "      <td>0.459</td>\n",
       "      <td>0.003</td>\n",
       "      <td>Unknown</td>\n",
       "      <td>disease.separate_past_exposures</td>\n",
       "      <td>366</td>\n",
       "      <td>1</td>\n",
       "      <td>367</td>\n",
       "      <td>0.002725</td>\n",
       "      <td>False</td>\n",
       "    </tr>\n",
       "    <tr>\n",
       "      <th>elasticnet_cv_each_disease_versus_healthy.decision_thresholds_tuned</th>\n",
       "      <td>0.745 +/- 0.021 (in 3 folds)</td>\n",
       "      <td>0.767 +/- 0.026 (in 3 folds)</td>\n",
       "      <td>0.783 +/- 0.025 (in 3 folds)</td>\n",
       "      <td>0.800 +/- 0.029 (in 3 folds)</td>\n",
       "      <td>0.395 +/- 0.053 (in 3 folds)</td>\n",
       "      <td>0.368 +/- 0.062 (in 3 folds)</td>\n",
       "      <td>0.395</td>\n",
       "      <td>0.330</td>\n",
       "      <td>disease.separate_past_exposures</td>\n",
       "      <td>NaN</td>\n",
       "      <td>...</td>\n",
       "      <td>NaN</td>\n",
       "      <td>NaN</td>\n",
       "      <td>NaN</td>\n",
       "      <td>NaN</td>\n",
       "      <td>NaN</td>\n",
       "      <td>367</td>\n",
       "      <td>0</td>\n",
       "      <td>367</td>\n",
       "      <td>0.000000</td>\n",
       "      <td>True</td>\n",
       "    </tr>\n",
       "    <tr>\n",
       "      <th>elasticnet_cv_each_disease_versus_healthy</th>\n",
       "      <td>0.745 +/- 0.021 (in 3 folds)</td>\n",
       "      <td>0.767 +/- 0.026 (in 3 folds)</td>\n",
       "      <td>0.783 +/- 0.025 (in 3 folds)</td>\n",
       "      <td>0.800 +/- 0.029 (in 3 folds)</td>\n",
       "      <td>0.313 +/- 0.015 (in 3 folds)</td>\n",
       "      <td>0.252 +/- 0.020 (in 3 folds)</td>\n",
       "      <td>0.313</td>\n",
       "      <td>0.230</td>\n",
       "      <td>disease.separate_past_exposures</td>\n",
       "      <td>NaN</td>\n",
       "      <td>...</td>\n",
       "      <td>NaN</td>\n",
       "      <td>NaN</td>\n",
       "      <td>NaN</td>\n",
       "      <td>NaN</td>\n",
       "      <td>NaN</td>\n",
       "      <td>367</td>\n",
       "      <td>0</td>\n",
       "      <td>367</td>\n",
       "      <td>0.000000</td>\n",
       "      <td>True</td>\n",
       "    </tr>\n",
       "    <tr>\n",
       "      <th>dummy_most_frequent.decision_thresholds_tuned</th>\n",
       "      <td>0.500 +/- 0.000 (in 3 folds)</td>\n",
       "      <td>0.500 +/- 0.000 (in 3 folds)</td>\n",
       "      <td>0.500 +/- 0.000 (in 3 folds)</td>\n",
       "      <td>0.500 +/- 0.000 (in 3 folds)</td>\n",
       "      <td>0.361 +/- 0.006 (in 3 folds)</td>\n",
       "      <td>0.000 +/- 0.000 (in 3 folds)</td>\n",
       "      <td>0.361</td>\n",
       "      <td>0.000</td>\n",
       "      <td>disease.separate_past_exposures</td>\n",
       "      <td>0.360 +/- 0.004 (in 3 folds)</td>\n",
       "      <td>...</td>\n",
       "      <td>0.360</td>\n",
       "      <td>0.015</td>\n",
       "      <td>0.003</td>\n",
       "      <td>Unknown</td>\n",
       "      <td>disease.separate_past_exposures</td>\n",
       "      <td>366</td>\n",
       "      <td>1</td>\n",
       "      <td>367</td>\n",
       "      <td>0.002725</td>\n",
       "      <td>True</td>\n",
       "    </tr>\n",
       "    <tr>\n",
       "      <th>dummy_most_frequent</th>\n",
       "      <td>0.500 +/- 0.000 (in 3 folds)</td>\n",
       "      <td>0.500 +/- 0.000 (in 3 folds)</td>\n",
       "      <td>0.500 +/- 0.000 (in 3 folds)</td>\n",
       "      <td>0.500 +/- 0.000 (in 3 folds)</td>\n",
       "      <td>0.361 +/- 0.006 (in 3 folds)</td>\n",
       "      <td>0.000 +/- 0.000 (in 3 folds)</td>\n",
       "      <td>0.361</td>\n",
       "      <td>0.000</td>\n",
       "      <td>disease.separate_past_exposures</td>\n",
       "      <td>0.360 +/- 0.004 (in 3 folds)</td>\n",
       "      <td>...</td>\n",
       "      <td>0.360</td>\n",
       "      <td>0.015</td>\n",
       "      <td>0.003</td>\n",
       "      <td>Unknown</td>\n",
       "      <td>disease.separate_past_exposures</td>\n",
       "      <td>366</td>\n",
       "      <td>1</td>\n",
       "      <td>367</td>\n",
       "      <td>0.002725</td>\n",
       "      <td>True</td>\n",
       "    </tr>\n",
       "    <tr>\n",
       "      <th>dummy_stratified.decision_thresholds_tuned</th>\n",
       "      <td>0.479 +/- 0.005 (in 3 folds)</td>\n",
       "      <td>0.482 +/- 0.005 (in 3 folds)</td>\n",
       "      <td>0.498 +/- 0.002 (in 3 folds)</td>\n",
       "      <td>0.499 +/- 0.002 (in 3 folds)</td>\n",
       "      <td>0.169 +/- 0.007 (in 3 folds)</td>\n",
       "      <td>-0.043 +/- 0.010 (in 3 folds)</td>\n",
       "      <td>0.169</td>\n",
       "      <td>-0.043</td>\n",
       "      <td>disease.separate_past_exposures</td>\n",
       "      <td>NaN</td>\n",
       "      <td>...</td>\n",
       "      <td>NaN</td>\n",
       "      <td>NaN</td>\n",
       "      <td>NaN</td>\n",
       "      <td>NaN</td>\n",
       "      <td>NaN</td>\n",
       "      <td>367</td>\n",
       "      <td>0</td>\n",
       "      <td>367</td>\n",
       "      <td>0.000000</td>\n",
       "      <td>False</td>\n",
       "    </tr>\n",
       "    <tr>\n",
       "      <th>dummy_stratified</th>\n",
       "      <td>0.479 +/- 0.005 (in 3 folds)</td>\n",
       "      <td>0.482 +/- 0.005 (in 3 folds)</td>\n",
       "      <td>0.498 +/- 0.002 (in 3 folds)</td>\n",
       "      <td>0.499 +/- 0.002 (in 3 folds)</td>\n",
       "      <td>0.169 +/- 0.007 (in 3 folds)</td>\n",
       "      <td>-0.043 +/- 0.010 (in 3 folds)</td>\n",
       "      <td>0.169</td>\n",
       "      <td>-0.043</td>\n",
       "      <td>disease.separate_past_exposures</td>\n",
       "      <td>NaN</td>\n",
       "      <td>...</td>\n",
       "      <td>NaN</td>\n",
       "      <td>NaN</td>\n",
       "      <td>NaN</td>\n",
       "      <td>NaN</td>\n",
       "      <td>NaN</td>\n",
       "      <td>367</td>\n",
       "      <td>0</td>\n",
       "      <td>367</td>\n",
       "      <td>0.000000</td>\n",
       "      <td>False</td>\n",
       "    </tr>\n",
       "  </tbody>\n",
       "</table>\n",
       "<p>24 rows × 22 columns</p>\n",
       "</div>"
      ],
      "text/plain": [
       "                                                   ROC-AUC (weighted OvO) per fold  \\\n",
       "xgboost                                               0.801 +/- 0.033 (in 3 folds)   \n",
       "xgboost.decision_thresholds_tuned                     0.801 +/- 0.033 (in 3 folds)   \n",
       "logisticregression_unregularized                      0.800 +/- 0.032 (in 3 folds)   \n",
       "logisticregression_unregularized.decision_thres...    0.800 +/- 0.032 (in 3 folds)   \n",
       "lasso_cv                                              0.797 +/- 0.026 (in 3 folds)   \n",
       "lasso_cv.decision_thresholds_tuned                    0.797 +/- 0.026 (in 3 folds)   \n",
       "linearsvm_ovr.decision_thresholds_tuned               0.797 +/- 0.025 (in 3 folds)   \n",
       "linearsvm_ovr                                         0.797 +/- 0.025 (in 3 folds)   \n",
       "rf_multiclass.decision_thresholds_tuned               0.797 +/- 0.020 (in 3 folds)   \n",
       "rf_multiclass                                         0.797 +/- 0.020 (in 3 folds)   \n",
       "elasticnet_cv                                         0.795 +/- 0.032 (in 3 folds)   \n",
       "elasticnet_cv.decision_thresholds_tuned               0.795 +/- 0.032 (in 3 folds)   \n",
       "elasticnet_cv0.75                                     0.794 +/- 0.032 (in 3 folds)   \n",
       "elasticnet_cv0.75.decision_thresholds_tuned           0.794 +/- 0.032 (in 3 folds)   \n",
       "elasticnet_cv0.25                                     0.794 +/- 0.031 (in 3 folds)   \n",
       "elasticnet_cv0.25.decision_thresholds_tuned           0.794 +/- 0.031 (in 3 folds)   \n",
       "ridge_cv                                              0.790 +/- 0.033 (in 3 folds)   \n",
       "ridge_cv.decision_thresholds_tuned                    0.790 +/- 0.033 (in 3 folds)   \n",
       "elasticnet_cv_each_disease_versus_healthy.decis...    0.745 +/- 0.021 (in 3 folds)   \n",
       "elasticnet_cv_each_disease_versus_healthy             0.745 +/- 0.021 (in 3 folds)   \n",
       "dummy_most_frequent.decision_thresholds_tuned         0.500 +/- 0.000 (in 3 folds)   \n",
       "dummy_most_frequent                                   0.500 +/- 0.000 (in 3 folds)   \n",
       "dummy_stratified.decision_thresholds_tuned            0.479 +/- 0.005 (in 3 folds)   \n",
       "dummy_stratified                                      0.479 +/- 0.005 (in 3 folds)   \n",
       "\n",
       "                                                    ROC-AUC (macro OvO) per fold  \\\n",
       "xgboost                                             0.792 +/- 0.030 (in 3 folds)   \n",
       "xgboost.decision_thresholds_tuned                   0.792 +/- 0.030 (in 3 folds)   \n",
       "logisticregression_unregularized                    0.797 +/- 0.029 (in 3 folds)   \n",
       "logisticregression_unregularized.decision_thres...  0.797 +/- 0.029 (in 3 folds)   \n",
       "lasso_cv                                            0.795 +/- 0.020 (in 3 folds)   \n",
       "lasso_cv.decision_thresholds_tuned                  0.795 +/- 0.020 (in 3 folds)   \n",
       "linearsvm_ovr.decision_thresholds_tuned             0.791 +/- 0.020 (in 3 folds)   \n",
       "linearsvm_ovr                                       0.791 +/- 0.020 (in 3 folds)   \n",
       "rf_multiclass.decision_thresholds_tuned             0.793 +/- 0.015 (in 3 folds)   \n",
       "rf_multiclass                                       0.793 +/- 0.015 (in 3 folds)   \n",
       "elasticnet_cv                                       0.794 +/- 0.027 (in 3 folds)   \n",
       "elasticnet_cv.decision_thresholds_tuned             0.794 +/- 0.027 (in 3 folds)   \n",
       "elasticnet_cv0.75                                   0.793 +/- 0.027 (in 3 folds)   \n",
       "elasticnet_cv0.75.decision_thresholds_tuned         0.793 +/- 0.027 (in 3 folds)   \n",
       "elasticnet_cv0.25                                   0.793 +/- 0.026 (in 3 folds)   \n",
       "elasticnet_cv0.25.decision_thresholds_tuned         0.793 +/- 0.026 (in 3 folds)   \n",
       "ridge_cv                                            0.786 +/- 0.030 (in 3 folds)   \n",
       "ridge_cv.decision_thresholds_tuned                  0.786 +/- 0.030 (in 3 folds)   \n",
       "elasticnet_cv_each_disease_versus_healthy.decis...  0.767 +/- 0.026 (in 3 folds)   \n",
       "elasticnet_cv_each_disease_versus_healthy           0.767 +/- 0.026 (in 3 folds)   \n",
       "dummy_most_frequent.decision_thresholds_tuned       0.500 +/- 0.000 (in 3 folds)   \n",
       "dummy_most_frequent                                 0.500 +/- 0.000 (in 3 folds)   \n",
       "dummy_stratified.decision_thresholds_tuned          0.482 +/- 0.005 (in 3 folds)   \n",
       "dummy_stratified                                    0.482 +/- 0.005 (in 3 folds)   \n",
       "\n",
       "                                                   au-PRC (weighted OvO) per fold  \\\n",
       "xgboost                                              0.810 +/- 0.028 (in 3 folds)   \n",
       "xgboost.decision_thresholds_tuned                    0.810 +/- 0.028 (in 3 folds)   \n",
       "logisticregression_unregularized                     0.813 +/- 0.033 (in 3 folds)   \n",
       "logisticregression_unregularized.decision_thres...   0.813 +/- 0.033 (in 3 folds)   \n",
       "lasso_cv                                             0.810 +/- 0.023 (in 3 folds)   \n",
       "lasso_cv.decision_thresholds_tuned                   0.810 +/- 0.023 (in 3 folds)   \n",
       "linearsvm_ovr.decision_thresholds_tuned              0.804 +/- 0.027 (in 3 folds)   \n",
       "linearsvm_ovr                                        0.804 +/- 0.027 (in 3 folds)   \n",
       "rf_multiclass.decision_thresholds_tuned              0.798 +/- 0.020 (in 3 folds)   \n",
       "rf_multiclass                                        0.798 +/- 0.020 (in 3 folds)   \n",
       "elasticnet_cv                                        0.806 +/- 0.028 (in 3 folds)   \n",
       "elasticnet_cv.decision_thresholds_tuned              0.806 +/- 0.028 (in 3 folds)   \n",
       "elasticnet_cv0.75                                    0.806 +/- 0.029 (in 3 folds)   \n",
       "elasticnet_cv0.75.decision_thresholds_tuned          0.806 +/- 0.029 (in 3 folds)   \n",
       "elasticnet_cv0.25                                    0.806 +/- 0.028 (in 3 folds)   \n",
       "elasticnet_cv0.25.decision_thresholds_tuned          0.806 +/- 0.028 (in 3 folds)   \n",
       "ridge_cv                                             0.788 +/- 0.032 (in 3 folds)   \n",
       "ridge_cv.decision_thresholds_tuned                   0.788 +/- 0.032 (in 3 folds)   \n",
       "elasticnet_cv_each_disease_versus_healthy.decis...   0.783 +/- 0.025 (in 3 folds)   \n",
       "elasticnet_cv_each_disease_versus_healthy            0.783 +/- 0.025 (in 3 folds)   \n",
       "dummy_most_frequent.decision_thresholds_tuned        0.500 +/- 0.000 (in 3 folds)   \n",
       "dummy_most_frequent                                  0.500 +/- 0.000 (in 3 folds)   \n",
       "dummy_stratified.decision_thresholds_tuned           0.498 +/- 0.002 (in 3 folds)   \n",
       "dummy_stratified                                     0.498 +/- 0.002 (in 3 folds)   \n",
       "\n",
       "                                                     au-PRC (macro OvO) per fold  \\\n",
       "xgboost                                             0.808 +/- 0.027 (in 3 folds)   \n",
       "xgboost.decision_thresholds_tuned                   0.808 +/- 0.027 (in 3 folds)   \n",
       "logisticregression_unregularized                    0.816 +/- 0.029 (in 3 folds)   \n",
       "logisticregression_unregularized.decision_thres...  0.816 +/- 0.029 (in 3 folds)   \n",
       "lasso_cv                                            0.815 +/- 0.018 (in 3 folds)   \n",
       "lasso_cv.decision_thresholds_tuned                  0.815 +/- 0.018 (in 3 folds)   \n",
       "linearsvm_ovr.decision_thresholds_tuned             0.807 +/- 0.023 (in 3 folds)   \n",
       "linearsvm_ovr                                       0.807 +/- 0.023 (in 3 folds)   \n",
       "rf_multiclass.decision_thresholds_tuned             0.798 +/- 0.018 (in 3 folds)   \n",
       "rf_multiclass                                       0.798 +/- 0.018 (in 3 folds)   \n",
       "elasticnet_cv                                       0.812 +/- 0.024 (in 3 folds)   \n",
       "elasticnet_cv.decision_thresholds_tuned             0.812 +/- 0.024 (in 3 folds)   \n",
       "elasticnet_cv0.75                                   0.812 +/- 0.024 (in 3 folds)   \n",
       "elasticnet_cv0.75.decision_thresholds_tuned         0.812 +/- 0.024 (in 3 folds)   \n",
       "elasticnet_cv0.25                                   0.811 +/- 0.023 (in 3 folds)   \n",
       "elasticnet_cv0.25.decision_thresholds_tuned         0.811 +/- 0.023 (in 3 folds)   \n",
       "ridge_cv                                            0.795 +/- 0.028 (in 3 folds)   \n",
       "ridge_cv.decision_thresholds_tuned                  0.795 +/- 0.028 (in 3 folds)   \n",
       "elasticnet_cv_each_disease_versus_healthy.decis...  0.800 +/- 0.029 (in 3 folds)   \n",
       "elasticnet_cv_each_disease_versus_healthy           0.800 +/- 0.029 (in 3 folds)   \n",
       "dummy_most_frequent.decision_thresholds_tuned       0.500 +/- 0.000 (in 3 folds)   \n",
       "dummy_most_frequent                                 0.500 +/- 0.000 (in 3 folds)   \n",
       "dummy_stratified.decision_thresholds_tuned          0.499 +/- 0.002 (in 3 folds)   \n",
       "dummy_stratified                                    0.499 +/- 0.002 (in 3 folds)   \n",
       "\n",
       "                                                               Accuracy per fold  \\\n",
       "xgboost                                             0.551 +/- 0.054 (in 3 folds)   \n",
       "xgboost.decision_thresholds_tuned                   0.609 +/- 0.025 (in 3 folds)   \n",
       "logisticregression_unregularized                    0.531 +/- 0.071 (in 3 folds)   \n",
       "logisticregression_unregularized.decision_thres...  0.610 +/- 0.068 (in 3 folds)   \n",
       "lasso_cv                                            0.534 +/- 0.064 (in 3 folds)   \n",
       "lasso_cv.decision_thresholds_tuned                  0.577 +/- 0.083 (in 3 folds)   \n",
       "linearsvm_ovr.decision_thresholds_tuned             0.599 +/- 0.040 (in 3 folds)   \n",
       "linearsvm_ovr                                       0.533 +/- 0.088 (in 3 folds)   \n",
       "rf_multiclass.decision_thresholds_tuned             0.603 +/- 0.031 (in 3 folds)   \n",
       "rf_multiclass                                       0.540 +/- 0.065 (in 3 folds)   \n",
       "elasticnet_cv                                       0.525 +/- 0.076 (in 3 folds)   \n",
       "elasticnet_cv.decision_thresholds_tuned             0.585 +/- 0.068 (in 3 folds)   \n",
       "elasticnet_cv0.75                                   0.528 +/- 0.074 (in 3 folds)   \n",
       "elasticnet_cv0.75.decision_thresholds_tuned         0.585 +/- 0.074 (in 3 folds)   \n",
       "elasticnet_cv0.25                                   0.525 +/- 0.069 (in 3 folds)   \n",
       "elasticnet_cv0.25.decision_thresholds_tuned         0.596 +/- 0.073 (in 3 folds)   \n",
       "ridge_cv                                            0.507 +/- 0.085 (in 3 folds)   \n",
       "ridge_cv.decision_thresholds_tuned                  0.576 +/- 0.047 (in 3 folds)   \n",
       "elasticnet_cv_each_disease_versus_healthy.decis...  0.395 +/- 0.053 (in 3 folds)   \n",
       "elasticnet_cv_each_disease_versus_healthy           0.313 +/- 0.015 (in 3 folds)   \n",
       "dummy_most_frequent.decision_thresholds_tuned       0.361 +/- 0.006 (in 3 folds)   \n",
       "dummy_most_frequent                                 0.361 +/- 0.006 (in 3 folds)   \n",
       "dummy_stratified.decision_thresholds_tuned          0.169 +/- 0.007 (in 3 folds)   \n",
       "dummy_stratified                                    0.169 +/- 0.007 (in 3 folds)   \n",
       "\n",
       "                                                                     MCC per fold  \\\n",
       "xgboost                                              0.420 +/- 0.063 (in 3 folds)   \n",
       "xgboost.decision_thresholds_tuned                    0.500 +/- 0.047 (in 3 folds)   \n",
       "logisticregression_unregularized                     0.391 +/- 0.095 (in 3 folds)   \n",
       "logisticregression_unregularized.decision_thres...   0.503 +/- 0.082 (in 3 folds)   \n",
       "lasso_cv                                             0.398 +/- 0.086 (in 3 folds)   \n",
       "lasso_cv.decision_thresholds_tuned                   0.478 +/- 0.075 (in 3 folds)   \n",
       "linearsvm_ovr.decision_thresholds_tuned              0.494 +/- 0.058 (in 3 folds)   \n",
       "linearsvm_ovr                                        0.395 +/- 0.119 (in 3 folds)   \n",
       "rf_multiclass.decision_thresholds_tuned              0.490 +/- 0.043 (in 3 folds)   \n",
       "rf_multiclass                                        0.398 +/- 0.081 (in 3 folds)   \n",
       "elasticnet_cv                                        0.399 +/- 0.091 (in 3 folds)   \n",
       "elasticnet_cv.decision_thresholds_tuned              0.481 +/- 0.076 (in 3 folds)   \n",
       "elasticnet_cv0.75                                    0.402 +/- 0.088 (in 3 folds)   \n",
       "elasticnet_cv0.75.decision_thresholds_tuned          0.482 +/- 0.080 (in 3 folds)   \n",
       "elasticnet_cv0.25                                    0.399 +/- 0.083 (in 3 folds)   \n",
       "elasticnet_cv0.25.decision_thresholds_tuned          0.491 +/- 0.081 (in 3 folds)   \n",
       "ridge_cv                                             0.400 +/- 0.094 (in 3 folds)   \n",
       "ridge_cv.decision_thresholds_tuned                   0.467 +/- 0.065 (in 3 folds)   \n",
       "elasticnet_cv_each_disease_versus_healthy.decis...   0.368 +/- 0.062 (in 3 folds)   \n",
       "elasticnet_cv_each_disease_versus_healthy            0.252 +/- 0.020 (in 3 folds)   \n",
       "dummy_most_frequent.decision_thresholds_tuned        0.000 +/- 0.000 (in 3 folds)   \n",
       "dummy_most_frequent                                  0.000 +/- 0.000 (in 3 folds)   \n",
       "dummy_stratified.decision_thresholds_tuned          -0.043 +/- 0.010 (in 3 folds)   \n",
       "dummy_stratified                                    -0.043 +/- 0.010 (in 3 folds)   \n",
       "\n",
       "                                                   Accuracy global MCC global  \\\n",
       "xgboost                                                      0.552      0.419   \n",
       "xgboost.decision_thresholds_tuned                            0.609      0.494   \n",
       "logisticregression_unregularized                             0.531      0.390   \n",
       "logisticregression_unregularized.decision_thres...           0.610      0.497   \n",
       "lasso_cv                                                     0.534      0.398   \n",
       "lasso_cv.decision_thresholds_tuned                           0.578      0.468   \n",
       "linearsvm_ovr.decision_thresholds_tuned                      0.599      0.481   \n",
       "linearsvm_ovr                                                0.534      0.396   \n",
       "rf_multiclass.decision_thresholds_tuned                      0.604      0.478   \n",
       "rf_multiclass                                                0.541      0.396   \n",
       "elasticnet_cv                                                0.526      0.397   \n",
       "elasticnet_cv.decision_thresholds_tuned                      0.586      0.479   \n",
       "elasticnet_cv0.75                                            0.529      0.400   \n",
       "elasticnet_cv0.75.decision_thresholds_tuned                  0.586      0.470   \n",
       "elasticnet_cv0.25                                            0.526      0.397   \n",
       "elasticnet_cv0.25.decision_thresholds_tuned                  0.597      0.480   \n",
       "ridge_cv                                                     0.508      0.392   \n",
       "ridge_cv.decision_thresholds_tuned                           0.577      0.461   \n",
       "elasticnet_cv_each_disease_versus_healthy.decis...           0.395      0.330   \n",
       "elasticnet_cv_each_disease_versus_healthy                    0.313      0.230   \n",
       "dummy_most_frequent.decision_thresholds_tuned                0.361      0.000   \n",
       "dummy_most_frequent                                          0.361      0.000   \n",
       "dummy_stratified.decision_thresholds_tuned                   0.169     -0.043   \n",
       "dummy_stratified                                             0.169     -0.043   \n",
       "\n",
       "                                                   Global evaluation column name global  \\\n",
       "xgboost                                                 disease.separate_past_exposures   \n",
       "xgboost.decision_thresholds_tuned                       disease.separate_past_exposures   \n",
       "logisticregression_unregularized                        disease.separate_past_exposures   \n",
       "logisticregression_unregularized.decision_thres...      disease.separate_past_exposures   \n",
       "lasso_cv                                                disease.separate_past_exposures   \n",
       "lasso_cv.decision_thresholds_tuned                      disease.separate_past_exposures   \n",
       "linearsvm_ovr.decision_thresholds_tuned                 disease.separate_past_exposures   \n",
       "linearsvm_ovr                                           disease.separate_past_exposures   \n",
       "rf_multiclass.decision_thresholds_tuned                 disease.separate_past_exposures   \n",
       "rf_multiclass                                           disease.separate_past_exposures   \n",
       "elasticnet_cv                                           disease.separate_past_exposures   \n",
       "elasticnet_cv.decision_thresholds_tuned                 disease.separate_past_exposures   \n",
       "elasticnet_cv0.75                                       disease.separate_past_exposures   \n",
       "elasticnet_cv0.75.decision_thresholds_tuned             disease.separate_past_exposures   \n",
       "elasticnet_cv0.25                                       disease.separate_past_exposures   \n",
       "elasticnet_cv0.25.decision_thresholds_tuned             disease.separate_past_exposures   \n",
       "ridge_cv                                                disease.separate_past_exposures   \n",
       "ridge_cv.decision_thresholds_tuned                      disease.separate_past_exposures   \n",
       "elasticnet_cv_each_disease_versus_healthy.decis...      disease.separate_past_exposures   \n",
       "elasticnet_cv_each_disease_versus_healthy               disease.separate_past_exposures   \n",
       "dummy_most_frequent.decision_thresholds_tuned           disease.separate_past_exposures   \n",
       "dummy_most_frequent                                     disease.separate_past_exposures   \n",
       "dummy_stratified.decision_thresholds_tuned              disease.separate_past_exposures   \n",
       "dummy_stratified                                        disease.separate_past_exposures   \n",
       "\n",
       "                                                   Accuracy per fold with abstention  \\\n",
       "xgboost                                                 0.550 +/- 0.056 (in 3 folds)   \n",
       "xgboost.decision_thresholds_tuned                       0.607 +/- 0.026 (in 3 folds)   \n",
       "logisticregression_unregularized                                                 NaN   \n",
       "logisticregression_unregularized.decision_thres...                               NaN   \n",
       "lasso_cv                                                                         NaN   \n",
       "lasso_cv.decision_thresholds_tuned                                               NaN   \n",
       "linearsvm_ovr.decision_thresholds_tuned                                          NaN   \n",
       "linearsvm_ovr                                                                    NaN   \n",
       "rf_multiclass.decision_thresholds_tuned                 0.602 +/- 0.034 (in 3 folds)   \n",
       "rf_multiclass                                           0.539 +/- 0.067 (in 3 folds)   \n",
       "elasticnet_cv                                                                    NaN   \n",
       "elasticnet_cv.decision_thresholds_tuned                                          NaN   \n",
       "elasticnet_cv0.75                                                                NaN   \n",
       "elasticnet_cv0.75.decision_thresholds_tuned                                      NaN   \n",
       "elasticnet_cv0.25                                                                NaN   \n",
       "elasticnet_cv0.25.decision_thresholds_tuned                                      NaN   \n",
       "ridge_cv                                                0.506 +/- 0.086 (in 3 folds)   \n",
       "ridge_cv.decision_thresholds_tuned                      0.575 +/- 0.048 (in 3 folds)   \n",
       "elasticnet_cv_each_disease_versus_healthy.decis...                               NaN   \n",
       "elasticnet_cv_each_disease_versus_healthy                                        NaN   \n",
       "dummy_most_frequent.decision_thresholds_tuned           0.360 +/- 0.004 (in 3 folds)   \n",
       "dummy_most_frequent                                     0.360 +/- 0.004 (in 3 folds)   \n",
       "dummy_stratified.decision_thresholds_tuned                                       NaN   \n",
       "dummy_stratified                                                                 NaN   \n",
       "\n",
       "                                                    ...  \\\n",
       "xgboost                                             ...   \n",
       "xgboost.decision_thresholds_tuned                   ...   \n",
       "logisticregression_unregularized                    ...   \n",
       "logisticregression_unregularized.decision_thres...  ...   \n",
       "lasso_cv                                            ...   \n",
       "lasso_cv.decision_thresholds_tuned                  ...   \n",
       "linearsvm_ovr.decision_thresholds_tuned             ...   \n",
       "linearsvm_ovr                                       ...   \n",
       "rf_multiclass.decision_thresholds_tuned             ...   \n",
       "rf_multiclass                                       ...   \n",
       "elasticnet_cv                                       ...   \n",
       "elasticnet_cv.decision_thresholds_tuned             ...   \n",
       "elasticnet_cv0.75                                   ...   \n",
       "elasticnet_cv0.75.decision_thresholds_tuned         ...   \n",
       "elasticnet_cv0.25                                   ...   \n",
       "elasticnet_cv0.25.decision_thresholds_tuned         ...   \n",
       "ridge_cv                                            ...   \n",
       "ridge_cv.decision_thresholds_tuned                  ...   \n",
       "elasticnet_cv_each_disease_versus_healthy.decis...  ...   \n",
       "elasticnet_cv_each_disease_versus_healthy           ...   \n",
       "dummy_most_frequent.decision_thresholds_tuned       ...   \n",
       "dummy_most_frequent                                 ...   \n",
       "dummy_stratified.decision_thresholds_tuned          ...   \n",
       "dummy_stratified                                    ...   \n",
       "\n",
       "                                                   Accuracy global with abstention  \\\n",
       "xgboost                                                                      0.550   \n",
       "xgboost.decision_thresholds_tuned                                            0.608   \n",
       "logisticregression_unregularized                                               NaN   \n",
       "logisticregression_unregularized.decision_thres...                             NaN   \n",
       "lasso_cv                                                                       NaN   \n",
       "lasso_cv.decision_thresholds_tuned                                             NaN   \n",
       "linearsvm_ovr.decision_thresholds_tuned                                        NaN   \n",
       "linearsvm_ovr                                                                  NaN   \n",
       "rf_multiclass.decision_thresholds_tuned                                      0.602   \n",
       "rf_multiclass                                                                0.540   \n",
       "elasticnet_cv                                                                  NaN   \n",
       "elasticnet_cv.decision_thresholds_tuned                                        NaN   \n",
       "elasticnet_cv0.75                                                              NaN   \n",
       "elasticnet_cv0.75.decision_thresholds_tuned                                    NaN   \n",
       "elasticnet_cv0.25                                                              NaN   \n",
       "elasticnet_cv0.25.decision_thresholds_tuned                                    NaN   \n",
       "ridge_cv                                                                     0.507   \n",
       "ridge_cv.decision_thresholds_tuned                                           0.575   \n",
       "elasticnet_cv_each_disease_versus_healthy.decis...                             NaN   \n",
       "elasticnet_cv_each_disease_versus_healthy                                      NaN   \n",
       "dummy_most_frequent.decision_thresholds_tuned                                0.360   \n",
       "dummy_most_frequent                                                          0.360   \n",
       "dummy_stratified.decision_thresholds_tuned                                     NaN   \n",
       "dummy_stratified                                                               NaN   \n",
       "\n",
       "                                                   MCC global with abstention  \\\n",
       "xgboost                                                                 0.418   \n",
       "xgboost.decision_thresholds_tuned                                       0.492   \n",
       "logisticregression_unregularized                                          NaN   \n",
       "logisticregression_unregularized.decision_thres...                        NaN   \n",
       "lasso_cv                                                                  NaN   \n",
       "lasso_cv.decision_thresholds_tuned                                        NaN   \n",
       "linearsvm_ovr.decision_thresholds_tuned                                   NaN   \n",
       "linearsvm_ovr                                                             NaN   \n",
       "rf_multiclass.decision_thresholds_tuned                                 0.477   \n",
       "rf_multiclass                                                           0.395   \n",
       "elasticnet_cv                                                             NaN   \n",
       "elasticnet_cv.decision_thresholds_tuned                                   NaN   \n",
       "elasticnet_cv0.75                                                         NaN   \n",
       "elasticnet_cv0.75.decision_thresholds_tuned                               NaN   \n",
       "elasticnet_cv0.25                                                         NaN   \n",
       "elasticnet_cv0.25.decision_thresholds_tuned                               NaN   \n",
       "ridge_cv                                                                0.391   \n",
       "ridge_cv.decision_thresholds_tuned                                      0.459   \n",
       "elasticnet_cv_each_disease_versus_healthy.decis...                        NaN   \n",
       "elasticnet_cv_each_disease_versus_healthy                                 NaN   \n",
       "dummy_most_frequent.decision_thresholds_tuned                           0.015   \n",
       "dummy_most_frequent                                                     0.015   \n",
       "dummy_stratified.decision_thresholds_tuned                                NaN   \n",
       "dummy_stratified                                                          NaN   \n",
       "\n",
       "                                                   Unknown/abstention proportion global with abstention  \\\n",
       "xgboost                                                                                         0.003     \n",
       "xgboost.decision_thresholds_tuned                                                               0.003     \n",
       "logisticregression_unregularized                                                                  NaN     \n",
       "logisticregression_unregularized.decision_thres...                                                NaN     \n",
       "lasso_cv                                                                                          NaN     \n",
       "lasso_cv.decision_thresholds_tuned                                                                NaN     \n",
       "linearsvm_ovr.decision_thresholds_tuned                                                           NaN     \n",
       "linearsvm_ovr                                                                                     NaN     \n",
       "rf_multiclass.decision_thresholds_tuned                                                         0.003     \n",
       "rf_multiclass                                                                                   0.003     \n",
       "elasticnet_cv                                                                                     NaN     \n",
       "elasticnet_cv.decision_thresholds_tuned                                                           NaN     \n",
       "elasticnet_cv0.75                                                                                 NaN     \n",
       "elasticnet_cv0.75.decision_thresholds_tuned                                                       NaN     \n",
       "elasticnet_cv0.25                                                                                 NaN     \n",
       "elasticnet_cv0.25.decision_thresholds_tuned                                                       NaN     \n",
       "ridge_cv                                                                                        0.003     \n",
       "ridge_cv.decision_thresholds_tuned                                                              0.003     \n",
       "elasticnet_cv_each_disease_versus_healthy.decis...                                                NaN     \n",
       "elasticnet_cv_each_disease_versus_healthy                                                         NaN     \n",
       "dummy_most_frequent.decision_thresholds_tuned                                                   0.003     \n",
       "dummy_most_frequent                                                                             0.003     \n",
       "dummy_stratified.decision_thresholds_tuned                                                        NaN     \n",
       "dummy_stratified                                                                                  NaN     \n",
       "\n",
       "                                                   Abstention label global with abstention  \\\n",
       "xgboost                                                                            Unknown   \n",
       "xgboost.decision_thresholds_tuned                                                  Unknown   \n",
       "logisticregression_unregularized                                                       NaN   \n",
       "logisticregression_unregularized.decision_thres...                                     NaN   \n",
       "lasso_cv                                                                               NaN   \n",
       "lasso_cv.decision_thresholds_tuned                                                     NaN   \n",
       "linearsvm_ovr.decision_thresholds_tuned                                                NaN   \n",
       "linearsvm_ovr                                                                          NaN   \n",
       "rf_multiclass.decision_thresholds_tuned                                            Unknown   \n",
       "rf_multiclass                                                                      Unknown   \n",
       "elasticnet_cv                                                                          NaN   \n",
       "elasticnet_cv.decision_thresholds_tuned                                                NaN   \n",
       "elasticnet_cv0.75                                                                      NaN   \n",
       "elasticnet_cv0.75.decision_thresholds_tuned                                            NaN   \n",
       "elasticnet_cv0.25                                                                      NaN   \n",
       "elasticnet_cv0.25.decision_thresholds_tuned                                            NaN   \n",
       "ridge_cv                                                                           Unknown   \n",
       "ridge_cv.decision_thresholds_tuned                                                 Unknown   \n",
       "elasticnet_cv_each_disease_versus_healthy.decis...                                     NaN   \n",
       "elasticnet_cv_each_disease_versus_healthy                                              NaN   \n",
       "dummy_most_frequent.decision_thresholds_tuned                                      Unknown   \n",
       "dummy_most_frequent                                                                Unknown   \n",
       "dummy_stratified.decision_thresholds_tuned                                             NaN   \n",
       "dummy_stratified                                                                       NaN   \n",
       "\n",
       "                                                   Global evaluation column name global with abstention  \\\n",
       "xgboost                                                               disease.separate_past_exposures     \n",
       "xgboost.decision_thresholds_tuned                                     disease.separate_past_exposures     \n",
       "logisticregression_unregularized                                                                  NaN     \n",
       "logisticregression_unregularized.decision_thres...                                                NaN     \n",
       "lasso_cv                                                                                          NaN     \n",
       "lasso_cv.decision_thresholds_tuned                                                                NaN     \n",
       "linearsvm_ovr.decision_thresholds_tuned                                                           NaN     \n",
       "linearsvm_ovr                                                                                     NaN     \n",
       "rf_multiclass.decision_thresholds_tuned                               disease.separate_past_exposures     \n",
       "rf_multiclass                                                         disease.separate_past_exposures     \n",
       "elasticnet_cv                                                                                     NaN     \n",
       "elasticnet_cv.decision_thresholds_tuned                                                           NaN     \n",
       "elasticnet_cv0.75                                                                                 NaN     \n",
       "elasticnet_cv0.75.decision_thresholds_tuned                                                       NaN     \n",
       "elasticnet_cv0.25                                                                                 NaN     \n",
       "elasticnet_cv0.25.decision_thresholds_tuned                                                       NaN     \n",
       "ridge_cv                                                              disease.separate_past_exposures     \n",
       "ridge_cv.decision_thresholds_tuned                                    disease.separate_past_exposures     \n",
       "elasticnet_cv_each_disease_versus_healthy.decis...                                                NaN     \n",
       "elasticnet_cv_each_disease_versus_healthy                                                         NaN     \n",
       "dummy_most_frequent.decision_thresholds_tuned                         disease.separate_past_exposures     \n",
       "dummy_most_frequent                                                   disease.separate_past_exposures     \n",
       "dummy_stratified.decision_thresholds_tuned                                                        NaN     \n",
       "dummy_stratified                                                                                  NaN     \n",
       "\n",
       "                                                   sample_size n_abstentions  \\\n",
       "xgboost                                                    366             1   \n",
       "xgboost.decision_thresholds_tuned                          366             1   \n",
       "logisticregression_unregularized                           367             0   \n",
       "logisticregression_unregularized.decision_thres...         367             0   \n",
       "lasso_cv                                                   367             0   \n",
       "lasso_cv.decision_thresholds_tuned                         367             0   \n",
       "linearsvm_ovr.decision_thresholds_tuned                    367             0   \n",
       "linearsvm_ovr                                              367             0   \n",
       "rf_multiclass.decision_thresholds_tuned                    366             1   \n",
       "rf_multiclass                                              366             1   \n",
       "elasticnet_cv                                              367             0   \n",
       "elasticnet_cv.decision_thresholds_tuned                    367             0   \n",
       "elasticnet_cv0.75                                          367             0   \n",
       "elasticnet_cv0.75.decision_thresholds_tuned                367             0   \n",
       "elasticnet_cv0.25                                          367             0   \n",
       "elasticnet_cv0.25.decision_thresholds_tuned                367             0   \n",
       "ridge_cv                                                   366             1   \n",
       "ridge_cv.decision_thresholds_tuned                         366             1   \n",
       "elasticnet_cv_each_disease_versus_healthy.decis...         367             0   \n",
       "elasticnet_cv_each_disease_versus_healthy                  367             0   \n",
       "dummy_most_frequent.decision_thresholds_tuned              366             1   \n",
       "dummy_most_frequent                                        366             1   \n",
       "dummy_stratified.decision_thresholds_tuned                 367             0   \n",
       "dummy_stratified                                           367             0   \n",
       "\n",
       "                                                    sample_size including abstentions  \\\n",
       "xgboost                                                                           367   \n",
       "xgboost.decision_thresholds_tuned                                                 367   \n",
       "logisticregression_unregularized                                                  367   \n",
       "logisticregression_unregularized.decision_thres...                                367   \n",
       "lasso_cv                                                                          367   \n",
       "lasso_cv.decision_thresholds_tuned                                                367   \n",
       "linearsvm_ovr.decision_thresholds_tuned                                           367   \n",
       "linearsvm_ovr                                                                     367   \n",
       "rf_multiclass.decision_thresholds_tuned                                           367   \n",
       "rf_multiclass                                                                     367   \n",
       "elasticnet_cv                                                                     367   \n",
       "elasticnet_cv.decision_thresholds_tuned                                           367   \n",
       "elasticnet_cv0.75                                                                 367   \n",
       "elasticnet_cv0.75.decision_thresholds_tuned                                       367   \n",
       "elasticnet_cv0.25                                                                 367   \n",
       "elasticnet_cv0.25.decision_thresholds_tuned                                       367   \n",
       "ridge_cv                                                                          367   \n",
       "ridge_cv.decision_thresholds_tuned                                                367   \n",
       "elasticnet_cv_each_disease_versus_healthy.decis...                                367   \n",
       "elasticnet_cv_each_disease_versus_healthy                                         367   \n",
       "dummy_most_frequent.decision_thresholds_tuned                                     367   \n",
       "dummy_most_frequent                                                               367   \n",
       "dummy_stratified.decision_thresholds_tuned                                        367   \n",
       "dummy_stratified                                                                  367   \n",
       "\n",
       "                                                    abstention_rate  \\\n",
       "xgboost                                                    0.002725   \n",
       "xgboost.decision_thresholds_tuned                          0.002725   \n",
       "logisticregression_unregularized                           0.000000   \n",
       "logisticregression_unregularized.decision_thres...         0.000000   \n",
       "lasso_cv                                                   0.000000   \n",
       "lasso_cv.decision_thresholds_tuned                         0.000000   \n",
       "linearsvm_ovr.decision_thresholds_tuned                    0.000000   \n",
       "linearsvm_ovr                                              0.000000   \n",
       "rf_multiclass.decision_thresholds_tuned                    0.002725   \n",
       "rf_multiclass                                              0.002725   \n",
       "elasticnet_cv                                              0.000000   \n",
       "elasticnet_cv.decision_thresholds_tuned                    0.000000   \n",
       "elasticnet_cv0.75                                          0.000000   \n",
       "elasticnet_cv0.75.decision_thresholds_tuned                0.000000   \n",
       "elasticnet_cv0.25                                          0.000000   \n",
       "elasticnet_cv0.25.decision_thresholds_tuned                0.000000   \n",
       "ridge_cv                                                   0.002725   \n",
       "ridge_cv.decision_thresholds_tuned                         0.002725   \n",
       "elasticnet_cv_each_disease_versus_healthy.decis...         0.000000   \n",
       "elasticnet_cv_each_disease_versus_healthy                  0.000000   \n",
       "dummy_most_frequent.decision_thresholds_tuned              0.002725   \n",
       "dummy_most_frequent                                        0.002725   \n",
       "dummy_stratified.decision_thresholds_tuned                 0.000000   \n",
       "dummy_stratified                                           0.000000   \n",
       "\n",
       "                                                    missing_classes  \n",
       "xgboost                                                       False  \n",
       "xgboost.decision_thresholds_tuned                             False  \n",
       "logisticregression_unregularized                              False  \n",
       "logisticregression_unregularized.decision_thres...            False  \n",
       "lasso_cv                                                      False  \n",
       "lasso_cv.decision_thresholds_tuned                            False  \n",
       "linearsvm_ovr.decision_thresholds_tuned                       False  \n",
       "linearsvm_ovr                                                 False  \n",
       "rf_multiclass.decision_thresholds_tuned                       False  \n",
       "rf_multiclass                                                 False  \n",
       "elasticnet_cv                                                 False  \n",
       "elasticnet_cv.decision_thresholds_tuned                       False  \n",
       "elasticnet_cv0.75                                             False  \n",
       "elasticnet_cv0.75.decision_thresholds_tuned                   False  \n",
       "elasticnet_cv0.25                                             False  \n",
       "elasticnet_cv0.25.decision_thresholds_tuned                   False  \n",
       "ridge_cv                                                      False  \n",
       "ridge_cv.decision_thresholds_tuned                            False  \n",
       "elasticnet_cv_each_disease_versus_healthy.decis...             True  \n",
       "elasticnet_cv_each_disease_versus_healthy                      True  \n",
       "dummy_most_frequent.decision_thresholds_tuned                  True  \n",
       "dummy_most_frequent                                            True  \n",
       "dummy_stratified.decision_thresholds_tuned                    False  \n",
       "dummy_stratified                                              False  \n",
       "\n",
       "[24 rows x 22 columns]"
      ]
     },
     "metadata": {},
     "output_type": "display_data"
    },
    {
     "name": "stdout",
     "output_type": "stream",
     "text": [
      "/home/maxim/code/immune-repertoire-classification/out/in_house_peak_disease_timepoints/convergent_clusters/TCR/disease/train_smaller1_model.compare_model_scores.validation_set_performance.tsv\n"
     ]
    },
    {
     "name": "stderr",
     "output_type": "stream",
     "text": [
      "{\"message\": \"/home/maxim/code/immune-repertoire-classification/malid/trained_model_wrappers/convergent_cluster_classifier.py:571: FutureWarning: Not prepending group keys to the result index of transform-like apply. In the future, the group keys will be included in the index, regardless of whether the applied function returns a like-indexed object.\\nTo preserve the previous behavior, use\\n\\n\\t>>> .groupby(..., group_keys=False)\\n\\nTo adopt the future behavior and silence this warning, use \\n\\n\\t>>> .groupby(..., group_keys=True)\\n  test_groups[\\\"cdr3_seq_aa_q_trim\\\"]\\n\", \"time\": \"2023-11-04T11:39:11.474853\"}\n"
     ]
    },
    {
     "name": "stderr",
     "output_type": "stream",
     "text": [
      "{\"message\": \"/home/maxim/code/immune-repertoire-classification/malid/trained_model_wrappers/convergent_cluster_classifier.py:571: FutureWarning: Not prepending group keys to the result index of transform-like apply. In the future, the group keys will be included in the index, regardless of whether the applied function returns a like-indexed object.\\nTo preserve the previous behavior, use\\n\\n\\t>>> .groupby(..., group_keys=False)\\n\\nTo adopt the future behavior and silence this warning, use \\n\\n\\t>>> .groupby(..., group_keys=True)\\n  test_groups[\\\"cdr3_seq_aa_q_trim\\\"]\\n\", \"time\": \"2023-11-04T11:41:54.984050\"}\n"
     ]
    },
    {
     "name": "stderr",
     "output_type": "stream",
     "text": [
      "{\"message\": \"/home/maxim/code/immune-repertoire-classification/malid/trained_model_wrappers/convergent_cluster_classifier.py:571: FutureWarning: Not prepending group keys to the result index of transform-like apply. In the future, the group keys will be included in the index, regardless of whether the applied function returns a like-indexed object.\\nTo preserve the previous behavior, use\\n\\n\\t>>> .groupby(..., group_keys=False)\\n\\nTo adopt the future behavior and silence this warning, use \\n\\n\\t>>> .groupby(..., group_keys=True)\\n  test_groups[\\\"cdr3_seq_aa_q_trim\\\"]\\n\", \"time\": \"2023-11-04T11:44:21.078939\"}\n"
     ]
    },
    {
     "name": "stderr",
     "output_type": "stream",
     "text": [
      "{\"message\": \"/home/maxim/code/immune-repertoire-classification/malid/trained_model_wrappers/convergent_cluster_classifier.py:571: FutureWarning: Not prepending group keys to the result index of transform-like apply. In the future, the group keys will be included in the index, regardless of whether the applied function returns a like-indexed object.\\nTo preserve the previous behavior, use\\n\\n\\t>>> .groupby(..., group_keys=False)\\n\\nTo adopt the future behavior and silence this warning, use \\n\\n\\t>>> .groupby(..., group_keys=True)\\n  test_groups[\\\"cdr3_seq_aa_q_trim\\\"]\\n\", \"time\": \"2023-11-04T11:46:51.683820\"}\n"
     ]
    },
    {
     "name": "stderr",
     "output_type": "stream",
     "text": [
      "{\"message\": \"/home/maxim/code/immune-repertoire-classification/malid/trained_model_wrappers/convergent_cluster_classifier.py:571: FutureWarning: Not prepending group keys to the result index of transform-like apply. In the future, the group keys will be included in the index, regardless of whether the applied function returns a like-indexed object.\\nTo preserve the previous behavior, use\\n\\n\\t>>> .groupby(..., group_keys=False)\\n\\nTo adopt the future behavior and silence this warning, use \\n\\n\\t>>> .groupby(..., group_keys=True)\\n  test_groups[\\\"cdr3_seq_aa_q_trim\\\"]\\n\", \"time\": \"2023-11-04T11:49:16.318939\"}\n"
     ]
    },
    {
     "name": "stderr",
     "output_type": "stream",
     "text": [
      "{\"message\": \"/home/maxim/code/immune-repertoire-classification/malid/trained_model_wrappers/convergent_cluster_classifier.py:571: FutureWarning: Not prepending group keys to the result index of transform-like apply. In the future, the group keys will be included in the index, regardless of whether the applied function returns a like-indexed object.\\nTo preserve the previous behavior, use\\n\\n\\t>>> .groupby(..., group_keys=False)\\n\\nTo adopt the future behavior and silence this warning, use \\n\\n\\t>>> .groupby(..., group_keys=True)\\n  test_groups[\\\"cdr3_seq_aa_q_trim\\\"]\\n\", \"time\": \"2023-11-04T11:51:38.162284\"}\n"
     ]
    },
    {
     "name": "stderr",
     "output_type": "stream",
     "text": [
      "{\"message\": \"/home/maxim/code/immune-repertoire-classification/malid/trained_model_wrappers/convergent_cluster_classifier.py:571: FutureWarning: Not prepending group keys to the result index of transform-like apply. In the future, the group keys will be included in the index, regardless of whether the applied function returns a like-indexed object.\\nTo preserve the previous behavior, use\\n\\n\\t>>> .groupby(..., group_keys=False)\\n\\nTo adopt the future behavior and silence this warning, use \\n\\n\\t>>> .groupby(..., group_keys=True)\\n  test_groups[\\\"cdr3_seq_aa_q_trim\\\"]\\n\", \"time\": \"2023-11-04T11:54:06.380259\"}\n"
     ]
    },
    {
     "name": "stderr",
     "output_type": "stream",
     "text": [
      "{\"message\": \"/home/maxim/code/immune-repertoire-classification/malid/trained_model_wrappers/convergent_cluster_classifier.py:571: FutureWarning: Not prepending group keys to the result index of transform-like apply. In the future, the group keys will be included in the index, regardless of whether the applied function returns a like-indexed object.\\nTo preserve the previous behavior, use\\n\\n\\t>>> .groupby(..., group_keys=False)\\n\\nTo adopt the future behavior and silence this warning, use \\n\\n\\t>>> .groupby(..., group_keys=True)\\n  test_groups[\\\"cdr3_seq_aa_q_trim\\\"]\\n\", \"time\": \"2023-11-04T11:56:33.660091\"}\n"
     ]
    },
    {
     "name": "stderr",
     "output_type": "stream",
     "text": [
      "{\"message\": \"/home/maxim/code/immune-repertoire-classification/malid/trained_model_wrappers/convergent_cluster_classifier.py:571: FutureWarning: Not prepending group keys to the result index of transform-like apply. In the future, the group keys will be included in the index, regardless of whether the applied function returns a like-indexed object.\\nTo preserve the previous behavior, use\\n\\n\\t>>> .groupby(..., group_keys=False)\\n\\nTo adopt the future behavior and silence this warning, use \\n\\n\\t>>> .groupby(..., group_keys=True)\\n  test_groups[\\\"cdr3_seq_aa_q_trim\\\"]\\n\", \"time\": \"2023-11-04T11:58:57.160264\"}\n"
     ]
    },
    {
     "name": "stderr",
     "output_type": "stream",
     "text": [
      "{\"message\": \"/home/maxim/code/immune-repertoire-classification/malid/trained_model_wrappers/convergent_cluster_classifier.py:571: FutureWarning: Not prepending group keys to the result index of transform-like apply. In the future, the group keys will be included in the index, regardless of whether the applied function returns a like-indexed object.\\nTo preserve the previous behavior, use\\n\\n\\t>>> .groupby(..., group_keys=False)\\n\\nTo adopt the future behavior and silence this warning, use \\n\\n\\t>>> .groupby(..., group_keys=True)\\n  test_groups[\\\"cdr3_seq_aa_q_trim\\\"]\\n\", \"time\": \"2023-11-04T12:01:21.409262\"}\n"
     ]
    },
    {
     "name": "stderr",
     "output_type": "stream",
     "text": [
      "{\"message\": \"/home/maxim/code/immune-repertoire-classification/malid/trained_model_wrappers/convergent_cluster_classifier.py:571: FutureWarning: Not prepending group keys to the result index of transform-like apply. In the future, the group keys will be included in the index, regardless of whether the applied function returns a like-indexed object.\\nTo preserve the previous behavior, use\\n\\n\\t>>> .groupby(..., group_keys=False)\\n\\nTo adopt the future behavior and silence this warning, use \\n\\n\\t>>> .groupby(..., group_keys=True)\\n  test_groups[\\\"cdr3_seq_aa_q_trim\\\"]\\n\", \"time\": \"2023-11-04T12:03:38.507094\"}\n"
     ]
    },
    {
     "name": "stderr",
     "output_type": "stream",
     "text": [
      "{\"message\": \"/home/maxim/code/immune-repertoire-classification/malid/trained_model_wrappers/convergent_cluster_classifier.py:571: FutureWarning: Not prepending group keys to the result index of transform-like apply. In the future, the group keys will be included in the index, regardless of whether the applied function returns a like-indexed object.\\nTo preserve the previous behavior, use\\n\\n\\t>>> .groupby(..., group_keys=False)\\n\\nTo adopt the future behavior and silence this warning, use \\n\\n\\t>>> .groupby(..., group_keys=True)\\n  test_groups[\\\"cdr3_seq_aa_q_trim\\\"]\\n\", \"time\": \"2023-11-04T12:05:50.572939\"}\n"
     ]
    },
    {
     "name": "stderr",
     "output_type": "stream",
     "text": [
      "{\"message\": \"/home/maxim/code/immune-repertoire-classification/malid/trained_model_wrappers/convergent_cluster_classifier.py:571: FutureWarning: Not prepending group keys to the result index of transform-like apply. In the future, the group keys will be included in the index, regardless of whether the applied function returns a like-indexed object.\\nTo preserve the previous behavior, use\\n\\n\\t>>> .groupby(..., group_keys=False)\\n\\nTo adopt the future behavior and silence this warning, use \\n\\n\\t>>> .groupby(..., group_keys=True)\\n  test_groups[\\\"cdr3_seq_aa_q_trim\\\"]\\n\", \"time\": \"2023-11-04T12:08:04.774216\"}\n"
     ]
    },
    {
     "name": "stderr",
     "output_type": "stream",
     "text": [
      "{\"message\": \"/home/maxim/code/immune-repertoire-classification/malid/trained_model_wrappers/convergent_cluster_classifier.py:571: FutureWarning: Not prepending group keys to the result index of transform-like apply. In the future, the group keys will be included in the index, regardless of whether the applied function returns a like-indexed object.\\nTo preserve the previous behavior, use\\n\\n\\t>>> .groupby(..., group_keys=False)\\n\\nTo adopt the future behavior and silence this warning, use \\n\\n\\t>>> .groupby(..., group_keys=True)\\n  test_groups[\\\"cdr3_seq_aa_q_trim\\\"]\\n\", \"time\": \"2023-11-04T12:10:58.370300\"}\n"
     ]
    },
    {
     "name": "stderr",
     "output_type": "stream",
     "text": [
      "{\"message\": \"/home/maxim/code/immune-repertoire-classification/malid/trained_model_wrappers/convergent_cluster_classifier.py:571: FutureWarning: Not prepending group keys to the result index of transform-like apply. In the future, the group keys will be included in the index, regardless of whether the applied function returns a like-indexed object.\\nTo preserve the previous behavior, use\\n\\n\\t>>> .groupby(..., group_keys=False)\\n\\nTo adopt the future behavior and silence this warning, use \\n\\n\\t>>> .groupby(..., group_keys=True)\\n  test_groups[\\\"cdr3_seq_aa_q_trim\\\"]\\n\", \"time\": \"2023-11-04T12:13:52.098686\"}\n"
     ]
    },
    {
     "name": "stderr",
     "output_type": "stream",
     "text": [
      "{\"message\": \"/home/maxim/code/immune-repertoire-classification/malid/trained_model_wrappers/convergent_cluster_classifier.py:571: FutureWarning: Not prepending group keys to the result index of transform-like apply. In the future, the group keys will be included in the index, regardless of whether the applied function returns a like-indexed object.\\nTo preserve the previous behavior, use\\n\\n\\t>>> .groupby(..., group_keys=False)\\n\\nTo adopt the future behavior and silence this warning, use \\n\\n\\t>>> .groupby(..., group_keys=True)\\n  test_groups[\\\"cdr3_seq_aa_q_trim\\\"]\\n\", \"time\": \"2023-11-04T12:16:38.923616\"}\n"
     ]
    },
    {
     "name": "stderr",
     "output_type": "stream",
     "text": [
      "{\"message\": \"/home/maxim/code/immune-repertoire-classification/malid/trained_model_wrappers/convergent_cluster_classifier.py:571: FutureWarning: Not prepending group keys to the result index of transform-like apply. In the future, the group keys will be included in the index, regardless of whether the applied function returns a like-indexed object.\\nTo preserve the previous behavior, use\\n\\n\\t>>> .groupby(..., group_keys=False)\\n\\nTo adopt the future behavior and silence this warning, use \\n\\n\\t>>> .groupby(..., group_keys=True)\\n  test_groups[\\\"cdr3_seq_aa_q_trim\\\"]\\n\", \"time\": \"2023-11-04T12:19:15.657107\"}\n"
     ]
    },
    {
     "name": "stderr",
     "output_type": "stream",
     "text": [
      "{\"message\": \"/home/maxim/code/immune-repertoire-classification/malid/trained_model_wrappers/convergent_cluster_classifier.py:571: FutureWarning: Not prepending group keys to the result index of transform-like apply. In the future, the group keys will be included in the index, regardless of whether the applied function returns a like-indexed object.\\nTo preserve the previous behavior, use\\n\\n\\t>>> .groupby(..., group_keys=False)\\n\\nTo adopt the future behavior and silence this warning, use \\n\\n\\t>>> .groupby(..., group_keys=True)\\n  test_groups[\\\"cdr3_seq_aa_q_trim\\\"]\\n\", \"time\": \"2023-11-04T12:22:03.770540\"}\n"
     ]
    },
    {
     "name": "stderr",
     "output_type": "stream",
     "text": [
      "{\"message\": \"/home/maxim/code/immune-repertoire-classification/malid/trained_model_wrappers/convergent_cluster_classifier.py:571: FutureWarning: Not prepending group keys to the result index of transform-like apply. In the future, the group keys will be included in the index, regardless of whether the applied function returns a like-indexed object.\\nTo preserve the previous behavior, use\\n\\n\\t>>> .groupby(..., group_keys=False)\\n\\nTo adopt the future behavior and silence this warning, use \\n\\n\\t>>> .groupby(..., group_keys=True)\\n  test_groups[\\\"cdr3_seq_aa_q_trim\\\"]\\n\", \"time\": \"2023-11-04T12:24:33.629169\"}\n"
     ]
    },
    {
     "name": "stderr",
     "output_type": "stream",
     "text": [
      "{\"message\": \"/home/maxim/code/immune-repertoire-classification/malid/trained_model_wrappers/convergent_cluster_classifier.py:571: FutureWarning: Not prepending group keys to the result index of transform-like apply. In the future, the group keys will be included in the index, regardless of whether the applied function returns a like-indexed object.\\nTo preserve the previous behavior, use\\n\\n\\t>>> .groupby(..., group_keys=False)\\n\\nTo adopt the future behavior and silence this warning, use \\n\\n\\t>>> .groupby(..., group_keys=True)\\n  test_groups[\\\"cdr3_seq_aa_q_trim\\\"]\\n\", \"time\": \"2023-11-04T12:27:10.842587\"}\n"
     ]
    },
    {
     "name": "stderr",
     "output_type": "stream",
     "text": [
      "{\"message\": \"/home/maxim/code/immune-repertoire-classification/malid/trained_model_wrappers/convergent_cluster_classifier.py:571: FutureWarning: Not prepending group keys to the result index of transform-like apply. In the future, the group keys will be included in the index, regardless of whether the applied function returns a like-indexed object.\\nTo preserve the previous behavior, use\\n\\n\\t>>> .groupby(..., group_keys=False)\\n\\nTo adopt the future behavior and silence this warning, use \\n\\n\\t>>> .groupby(..., group_keys=True)\\n  test_groups[\\\"cdr3_seq_aa_q_trim\\\"]\\n\", \"time\": \"2023-11-04T12:29:47.885894\"}\n"
     ]
    },
    {
     "name": "stderr",
     "output_type": "stream",
     "text": [
      "{\"message\": \"/home/maxim/code/immune-repertoire-classification/malid/trained_model_wrappers/convergent_cluster_classifier.py:571: FutureWarning: Not prepending group keys to the result index of transform-like apply. In the future, the group keys will be included in the index, regardless of whether the applied function returns a like-indexed object.\\nTo preserve the previous behavior, use\\n\\n\\t>>> .groupby(..., group_keys=False)\\n\\nTo adopt the future behavior and silence this warning, use \\n\\n\\t>>> .groupby(..., group_keys=True)\\n  test_groups[\\\"cdr3_seq_aa_q_trim\\\"]\\n\", \"time\": \"2023-11-04T12:32:10.289389\"}\n"
     ]
    },
    {
     "name": "stderr",
     "output_type": "stream",
     "text": [
      "{\"message\": \"/home/maxim/code/immune-repertoire-classification/malid/trained_model_wrappers/convergent_cluster_classifier.py:571: FutureWarning: Not prepending group keys to the result index of transform-like apply. In the future, the group keys will be included in the index, regardless of whether the applied function returns a like-indexed object.\\nTo preserve the previous behavior, use\\n\\n\\t>>> .groupby(..., group_keys=False)\\n\\nTo adopt the future behavior and silence this warning, use \\n\\n\\t>>> .groupby(..., group_keys=True)\\n  test_groups[\\\"cdr3_seq_aa_q_trim\\\"]\\n\", \"time\": \"2023-11-04T12:34:26.443269\"}\n"
     ]
    },
    {
     "name": "stderr",
     "output_type": "stream",
     "text": [
      "{\"message\": \"/home/maxim/code/immune-repertoire-classification/malid/trained_model_wrappers/convergent_cluster_classifier.py:571: FutureWarning: Not prepending group keys to the result index of transform-like apply. In the future, the group keys will be included in the index, regardless of whether the applied function returns a like-indexed object.\\nTo preserve the previous behavior, use\\n\\n\\t>>> .groupby(..., group_keys=False)\\n\\nTo adopt the future behavior and silence this warning, use \\n\\n\\t>>> .groupby(..., group_keys=True)\\n  test_groups[\\\"cdr3_seq_aa_q_trim\\\"]\\n\", \"time\": \"2023-11-04T12:37:08.807278\"}\n"
     ]
    },
    {
     "name": "stderr",
     "output_type": "stream",
     "text": [
      "{\"message\": \"/home/maxim/code/immune-repertoire-classification/malid/trained_model_wrappers/convergent_cluster_classifier.py:571: FutureWarning: Not prepending group keys to the result index of transform-like apply. In the future, the group keys will be included in the index, regardless of whether the applied function returns a like-indexed object.\\nTo preserve the previous behavior, use\\n\\n\\t>>> .groupby(..., group_keys=False)\\n\\nTo adopt the future behavior and silence this warning, use \\n\\n\\t>>> .groupby(..., group_keys=True)\\n  test_groups[\\\"cdr3_seq_aa_q_trim\\\"]\\n\", \"time\": \"2023-11-04T12:41:34.729536\"}\n"
     ]
    },
    {
     "name": "stderr",
     "output_type": "stream",
     "text": [
      "{\"message\": \"/home/maxim/code/immune-repertoire-classification/malid/trained_model_wrappers/convergent_cluster_classifier.py:571: FutureWarning: Not prepending group keys to the result index of transform-like apply. In the future, the group keys will be included in the index, regardless of whether the applied function returns a like-indexed object.\\nTo preserve the previous behavior, use\\n\\n\\t>>> .groupby(..., group_keys=False)\\n\\nTo adopt the future behavior and silence this warning, use \\n\\n\\t>>> .groupby(..., group_keys=True)\\n  test_groups[\\\"cdr3_seq_aa_q_trim\\\"]\\n\", \"time\": \"2023-11-04T12:44:08.058244\"}\n"
     ]
    },
    {
     "name": "stderr",
     "output_type": "stream",
     "text": [
      "{\"message\": \"/home/maxim/code/immune-repertoire-classification/malid/trained_model_wrappers/convergent_cluster_classifier.py:571: FutureWarning: Not prepending group keys to the result index of transform-like apply. In the future, the group keys will be included in the index, regardless of whether the applied function returns a like-indexed object.\\nTo preserve the previous behavior, use\\n\\n\\t>>> .groupby(..., group_keys=False)\\n\\nTo adopt the future behavior and silence this warning, use \\n\\n\\t>>> .groupby(..., group_keys=True)\\n  test_groups[\\\"cdr3_seq_aa_q_trim\\\"]\\n\", \"time\": \"2023-11-04T12:46:53.930708\"}\n"
     ]
    },
    {
     "name": "stderr",
     "output_type": "stream",
     "text": [
      "{\"message\": \"/home/maxim/code/immune-repertoire-classification/malid/trained_model_wrappers/convergent_cluster_classifier.py:571: FutureWarning: Not prepending group keys to the result index of transform-like apply. In the future, the group keys will be included in the index, regardless of whether the applied function returns a like-indexed object.\\nTo preserve the previous behavior, use\\n\\n\\t>>> .groupby(..., group_keys=False)\\n\\nTo adopt the future behavior and silence this warning, use \\n\\n\\t>>> .groupby(..., group_keys=True)\\n  test_groups[\\\"cdr3_seq_aa_q_trim\\\"]\\n\", \"time\": \"2023-11-04T12:49:06.253702\"}\n"
     ]
    },
    {
     "name": "stderr",
     "output_type": "stream",
     "text": [
      "{\"message\": \"/home/maxim/code/immune-repertoire-classification/malid/trained_model_wrappers/convergent_cluster_classifier.py:571: FutureWarning: Not prepending group keys to the result index of transform-like apply. In the future, the group keys will be included in the index, regardless of whether the applied function returns a like-indexed object.\\nTo preserve the previous behavior, use\\n\\n\\t>>> .groupby(..., group_keys=False)\\n\\nTo adopt the future behavior and silence this warning, use \\n\\n\\t>>> .groupby(..., group_keys=True)\\n  test_groups[\\\"cdr3_seq_aa_q_trim\\\"]\\n\", \"time\": \"2023-11-04T12:51:09.748250\"}\n"
     ]
    },
    {
     "name": "stderr",
     "output_type": "stream",
     "text": [
      "{\"message\": \"/home/maxim/code/immune-repertoire-classification/malid/trained_model_wrappers/convergent_cluster_classifier.py:571: FutureWarning: Not prepending group keys to the result index of transform-like apply. In the future, the group keys will be included in the index, regardless of whether the applied function returns a like-indexed object.\\nTo preserve the previous behavior, use\\n\\n\\t>>> .groupby(..., group_keys=False)\\n\\nTo adopt the future behavior and silence this warning, use \\n\\n\\t>>> .groupby(..., group_keys=True)\\n  test_groups[\\\"cdr3_seq_aa_q_trim\\\"]\\n\", \"time\": \"2023-11-04T12:53:16.382760\"}\n"
     ]
    },
    {
     "name": "stderr",
     "output_type": "stream",
     "text": [
      "{\"message\": \"/home/maxim/code/immune-repertoire-classification/malid/trained_model_wrappers/convergent_cluster_classifier.py:571: FutureWarning: Not prepending group keys to the result index of transform-like apply. In the future, the group keys will be included in the index, regardless of whether the applied function returns a like-indexed object.\\nTo preserve the previous behavior, use\\n\\n\\t>>> .groupby(..., group_keys=False)\\n\\nTo adopt the future behavior and silence this warning, use \\n\\n\\t>>> .groupby(..., group_keys=True)\\n  test_groups[\\\"cdr3_seq_aa_q_trim\\\"]\\n\", \"time\": \"2023-11-04T12:55:46.425108\"}\n"
     ]
    },
    {
     "name": "stderr",
     "output_type": "stream",
     "text": [
      "{\"message\": \"/home/maxim/code/immune-repertoire-classification/malid/trained_model_wrappers/convergent_cluster_classifier.py:571: FutureWarning: Not prepending group keys to the result index of transform-like apply. In the future, the group keys will be included in the index, regardless of whether the applied function returns a like-indexed object.\\nTo preserve the previous behavior, use\\n\\n\\t>>> .groupby(..., group_keys=False)\\n\\nTo adopt the future behavior and silence this warning, use \\n\\n\\t>>> .groupby(..., group_keys=True)\\n  test_groups[\\\"cdr3_seq_aa_q_trim\\\"]\\n\", \"time\": \"2023-11-04T12:58:12.258754\"}\n"
     ]
    },
    {
     "name": "stderr",
     "output_type": "stream",
     "text": [
      "{\"message\": \"/home/maxim/code/immune-repertoire-classification/malid/trained_model_wrappers/convergent_cluster_classifier.py:571: FutureWarning: Not prepending group keys to the result index of transform-like apply. In the future, the group keys will be included in the index, regardless of whether the applied function returns a like-indexed object.\\nTo preserve the previous behavior, use\\n\\n\\t>>> .groupby(..., group_keys=False)\\n\\nTo adopt the future behavior and silence this warning, use \\n\\n\\t>>> .groupby(..., group_keys=True)\\n  test_groups[\\\"cdr3_seq_aa_q_trim\\\"]\\n\", \"time\": \"2023-11-04T13:00:15.823919\"}\n"
     ]
    },
    {
     "name": "stderr",
     "output_type": "stream",
     "text": [
      "{\"message\": \"/home/maxim/code/immune-repertoire-classification/malid/trained_model_wrappers/convergent_cluster_classifier.py:571: FutureWarning: Not prepending group keys to the result index of transform-like apply. In the future, the group keys will be included in the index, regardless of whether the applied function returns a like-indexed object.\\nTo preserve the previous behavior, use\\n\\n\\t>>> .groupby(..., group_keys=False)\\n\\nTo adopt the future behavior and silence this warning, use \\n\\n\\t>>> .groupby(..., group_keys=True)\\n  test_groups[\\\"cdr3_seq_aa_q_trim\\\"]\\n\", \"time\": \"2023-11-04T13:02:25.554455\"}\n"
     ]
    },
    {
     "name": "stderr",
     "output_type": "stream",
     "text": [
      "{\"message\": \"/home/maxim/code/immune-repertoire-classification/malid/trained_model_wrappers/convergent_cluster_classifier.py:571: FutureWarning: Not prepending group keys to the result index of transform-like apply. In the future, the group keys will be included in the index, regardless of whether the applied function returns a like-indexed object.\\nTo preserve the previous behavior, use\\n\\n\\t>>> .groupby(..., group_keys=False)\\n\\nTo adopt the future behavior and silence this warning, use \\n\\n\\t>>> .groupby(..., group_keys=True)\\n  test_groups[\\\"cdr3_seq_aa_q_trim\\\"]\\n\", \"time\": \"2023-11-04T13:04:47.572670\"}\n"
     ]
    },
    {
     "name": "stderr",
     "output_type": "stream",
     "text": [
      "{\"message\": \"/home/maxim/code/immune-repertoire-classification/malid/trained_model_wrappers/convergent_cluster_classifier.py:571: FutureWarning: Not prepending group keys to the result index of transform-like apply. In the future, the group keys will be included in the index, regardless of whether the applied function returns a like-indexed object.\\nTo preserve the previous behavior, use\\n\\n\\t>>> .groupby(..., group_keys=False)\\n\\nTo adopt the future behavior and silence this warning, use \\n\\n\\t>>> .groupby(..., group_keys=True)\\n  test_groups[\\\"cdr3_seq_aa_q_trim\\\"]\\n\", \"time\": \"2023-11-04T13:07:27.367857\"}\n"
     ]
    },
    {
     "name": "stderr",
     "output_type": "stream",
     "text": [
      "{\"message\": \"/home/maxim/code/immune-repertoire-classification/malid/trained_model_wrappers/convergent_cluster_classifier.py:571: FutureWarning: Not prepending group keys to the result index of transform-like apply. In the future, the group keys will be included in the index, regardless of whether the applied function returns a like-indexed object.\\nTo preserve the previous behavior, use\\n\\n\\t>>> .groupby(..., group_keys=False)\\n\\nTo adopt the future behavior and silence this warning, use \\n\\n\\t>>> .groupby(..., group_keys=True)\\n  test_groups[\\\"cdr3_seq_aa_q_trim\\\"]\\n\", \"time\": \"2023-11-04T13:09:42.099919\"}\n"
     ]
    },
    {
     "name": "stderr",
     "output_type": "stream",
     "text": [
      "{\"message\": \"/home/maxim/code/immune-repertoire-classification/malid/trained_model_wrappers/convergent_cluster_classifier.py:571: FutureWarning: Not prepending group keys to the result index of transform-like apply. In the future, the group keys will be included in the index, regardless of whether the applied function returns a like-indexed object.\\nTo preserve the previous behavior, use\\n\\n\\t>>> .groupby(..., group_keys=False)\\n\\nTo adopt the future behavior and silence this warning, use \\n\\n\\t>>> .groupby(..., group_keys=True)\\n  test_groups[\\\"cdr3_seq_aa_q_trim\\\"]\\n\", \"time\": \"2023-11-04T13:11:44.026020\"}\n"
     ]
    },
    {
     "name": "stderr",
     "output_type": "stream",
     "text": [
      "{\"message\": \"/home/maxim/code/immune-repertoire-classification/malid/trained_model_wrappers/convergent_cluster_classifier.py:571: FutureWarning: Not prepending group keys to the result index of transform-like apply. In the future, the group keys will be included in the index, regardless of whether the applied function returns a like-indexed object.\\nTo preserve the previous behavior, use\\n\\n\\t>>> .groupby(..., group_keys=False)\\n\\nTo adopt the future behavior and silence this warning, use \\n\\n\\t>>> .groupby(..., group_keys=True)\\n  test_groups[\\\"cdr3_seq_aa_q_trim\\\"]\\n\", \"time\": \"2023-11-04T13:13:46.226497\"}\n"
     ]
    },
    {
     "name": "stderr",
     "output_type": "stream",
     "text": [
      "{\"message\": \"/home/maxim/code/immune-repertoire-classification/malid/trained_model_wrappers/convergent_cluster_classifier.py:571: FutureWarning: Not prepending group keys to the result index of transform-like apply. In the future, the group keys will be included in the index, regardless of whether the applied function returns a like-indexed object.\\nTo preserve the previous behavior, use\\n\\n\\t>>> .groupby(..., group_keys=False)\\n\\nTo adopt the future behavior and silence this warning, use \\n\\n\\t>>> .groupby(..., group_keys=True)\\n  test_groups[\\\"cdr3_seq_aa_q_trim\\\"]\\n\", \"time\": \"2023-11-04T13:15:57.118501\"}\n"
     ]
    },
    {
     "name": "stderr",
     "output_type": "stream",
     "text": [
      "{\"message\": \"/home/maxim/code/immune-repertoire-classification/malid/trained_model_wrappers/convergent_cluster_classifier.py:571: FutureWarning: Not prepending group keys to the result index of transform-like apply. In the future, the group keys will be included in the index, regardless of whether the applied function returns a like-indexed object.\\nTo preserve the previous behavior, use\\n\\n\\t>>> .groupby(..., group_keys=False)\\n\\nTo adopt the future behavior and silence this warning, use \\n\\n\\t>>> .groupby(..., group_keys=True)\\n  test_groups[\\\"cdr3_seq_aa_q_trim\\\"]\\n\", \"time\": \"2023-11-04T13:18:11.803241\"}\n"
     ]
    },
    {
     "name": "stderr",
     "output_type": "stream",
     "text": [
      "{\"message\": \"/home/maxim/code/immune-repertoire-classification/malid/trained_model_wrappers/convergent_cluster_classifier.py:571: FutureWarning: Not prepending group keys to the result index of transform-like apply. In the future, the group keys will be included in the index, regardless of whether the applied function returns a like-indexed object.\\nTo preserve the previous behavior, use\\n\\n\\t>>> .groupby(..., group_keys=False)\\n\\nTo adopt the future behavior and silence this warning, use \\n\\n\\t>>> .groupby(..., group_keys=True)\\n  test_groups[\\\"cdr3_seq_aa_q_trim\\\"]\\n\", \"time\": \"2023-11-04T13:20:45.442067\"}\n"
     ]
    },
    {
     "name": "stderr",
     "output_type": "stream",
     "text": [
      "{\"message\": \"/home/maxim/code/immune-repertoire-classification/malid/trained_model_wrappers/convergent_cluster_classifier.py:571: FutureWarning: Not prepending group keys to the result index of transform-like apply. In the future, the group keys will be included in the index, regardless of whether the applied function returns a like-indexed object.\\nTo preserve the previous behavior, use\\n\\n\\t>>> .groupby(..., group_keys=False)\\n\\nTo adopt the future behavior and silence this warning, use \\n\\n\\t>>> .groupby(..., group_keys=True)\\n  test_groups[\\\"cdr3_seq_aa_q_trim\\\"]\\n\", \"time\": \"2023-11-04T13:22:59.654693\"}\n"
     ]
    },
    {
     "name": "stderr",
     "output_type": "stream",
     "text": [
      "{\"message\": \"/home/maxim/code/immune-repertoire-classification/malid/trained_model_wrappers/convergent_cluster_classifier.py:571: FutureWarning: Not prepending group keys to the result index of transform-like apply. In the future, the group keys will be included in the index, regardless of whether the applied function returns a like-indexed object.\\nTo preserve the previous behavior, use\\n\\n\\t>>> .groupby(..., group_keys=False)\\n\\nTo adopt the future behavior and silence this warning, use \\n\\n\\t>>> .groupby(..., group_keys=True)\\n  test_groups[\\\"cdr3_seq_aa_q_trim\\\"]\\n\", \"time\": \"2023-11-04T13:25:24.686583\"}\n"
     ]
    },
    {
     "name": "stderr",
     "output_type": "stream",
     "text": [
      "{\"message\": \"/home/maxim/code/immune-repertoire-classification/malid/trained_model_wrappers/convergent_cluster_classifier.py:571: FutureWarning: Not prepending group keys to the result index of transform-like apply. In the future, the group keys will be included in the index, regardless of whether the applied function returns a like-indexed object.\\nTo preserve the previous behavior, use\\n\\n\\t>>> .groupby(..., group_keys=False)\\n\\nTo adopt the future behavior and silence this warning, use \\n\\n\\t>>> .groupby(..., group_keys=True)\\n  test_groups[\\\"cdr3_seq_aa_q_trim\\\"]\\n\", \"time\": \"2023-11-04T13:27:44.252008\"}\n"
     ]
    },
    {
     "name": "stderr",
     "output_type": "stream",
     "text": [
      "{\"message\": \"/home/maxim/code/immune-repertoire-classification/malid/trained_model_wrappers/convergent_cluster_classifier.py:571: FutureWarning: Not prepending group keys to the result index of transform-like apply. In the future, the group keys will be included in the index, regardless of whether the applied function returns a like-indexed object.\\nTo preserve the previous behavior, use\\n\\n\\t>>> .groupby(..., group_keys=False)\\n\\nTo adopt the future behavior and silence this warning, use \\n\\n\\t>>> .groupby(..., group_keys=True)\\n  test_groups[\\\"cdr3_seq_aa_q_trim\\\"]\\n\", \"time\": \"2023-11-04T13:29:54.724631\"}\n"
     ]
    },
    {
     "name": "stderr",
     "output_type": "stream",
     "text": [
      "{\"message\": \"/home/maxim/code/immune-repertoire-classification/malid/trained_model_wrappers/convergent_cluster_classifier.py:571: FutureWarning: Not prepending group keys to the result index of transform-like apply. In the future, the group keys will be included in the index, regardless of whether the applied function returns a like-indexed object.\\nTo preserve the previous behavior, use\\n\\n\\t>>> .groupby(..., group_keys=False)\\n\\nTo adopt the future behavior and silence this warning, use \\n\\n\\t>>> .groupby(..., group_keys=True)\\n  test_groups[\\\"cdr3_seq_aa_q_trim\\\"]\\n\", \"time\": \"2023-11-04T13:32:00.373517\"}\n"
     ]
    },
    {
     "name": "stderr",
     "output_type": "stream",
     "text": [
      "{\"message\": \"/home/maxim/code/immune-repertoire-classification/malid/trained_model_wrappers/convergent_cluster_classifier.py:571: FutureWarning: Not prepending group keys to the result index of transform-like apply. In the future, the group keys will be included in the index, regardless of whether the applied function returns a like-indexed object.\\nTo preserve the previous behavior, use\\n\\n\\t>>> .groupby(..., group_keys=False)\\n\\nTo adopt the future behavior and silence this warning, use \\n\\n\\t>>> .groupby(..., group_keys=True)\\n  test_groups[\\\"cdr3_seq_aa_q_trim\\\"]\\n\", \"time\": \"2023-11-04T13:34:09.924100\"}\n"
     ]
    },
    {
     "name": "stderr",
     "output_type": "stream",
     "text": [
      "{\"message\": \"/home/maxim/code/immune-repertoire-classification/malid/trained_model_wrappers/convergent_cluster_classifier.py:571: FutureWarning: Not prepending group keys to the result index of transform-like apply. In the future, the group keys will be included in the index, regardless of whether the applied function returns a like-indexed object.\\nTo preserve the previous behavior, use\\n\\n\\t>>> .groupby(..., group_keys=False)\\n\\nTo adopt the future behavior and silence this warning, use \\n\\n\\t>>> .groupby(..., group_keys=True)\\n  test_groups[\\\"cdr3_seq_aa_q_trim\\\"]\\n\", \"time\": \"2023-11-04T13:39:08.615152\"}\n"
     ]
    },
    {
     "name": "stderr",
     "output_type": "stream",
     "text": [
      "{\"message\": \"/home/maxim/code/immune-repertoire-classification/malid/trained_model_wrappers/convergent_cluster_classifier.py:571: FutureWarning: Not prepending group keys to the result index of transform-like apply. In the future, the group keys will be included in the index, regardless of whether the applied function returns a like-indexed object.\\nTo preserve the previous behavior, use\\n\\n\\t>>> .groupby(..., group_keys=False)\\n\\nTo adopt the future behavior and silence this warning, use \\n\\n\\t>>> .groupby(..., group_keys=True)\\n  test_groups[\\\"cdr3_seq_aa_q_trim\\\"]\\n\", \"time\": \"2023-11-04T13:42:00.845412\"}\n"
     ]
    },
    {
     "name": "stderr",
     "output_type": "stream",
     "text": [
      "{\"message\": \"/home/maxim/code/immune-repertoire-classification/malid/trained_model_wrappers/convergent_cluster_classifier.py:571: FutureWarning: Not prepending group keys to the result index of transform-like apply. In the future, the group keys will be included in the index, regardless of whether the applied function returns a like-indexed object.\\nTo preserve the previous behavior, use\\n\\n\\t>>> .groupby(..., group_keys=False)\\n\\nTo adopt the future behavior and silence this warning, use \\n\\n\\t>>> .groupby(..., group_keys=True)\\n  test_groups[\\\"cdr3_seq_aa_q_trim\\\"]\\n\", \"time\": \"2023-11-04T13:44:48.981877\"}\n"
     ]
    },
    {
     "name": "stderr",
     "output_type": "stream",
     "text": [
      "{\"message\": \"/home/maxim/code/immune-repertoire-classification/malid/trained_model_wrappers/convergent_cluster_classifier.py:571: FutureWarning: Not prepending group keys to the result index of transform-like apply. In the future, the group keys will be included in the index, regardless of whether the applied function returns a like-indexed object.\\nTo preserve the previous behavior, use\\n\\n\\t>>> .groupby(..., group_keys=False)\\n\\nTo adopt the future behavior and silence this warning, use \\n\\n\\t>>> .groupby(..., group_keys=True)\\n  test_groups[\\\"cdr3_seq_aa_q_trim\\\"]\\n\", \"time\": \"2023-11-04T13:47:36.830718\"}\n"
     ]
    },
    {
     "name": "stderr",
     "output_type": "stream",
     "text": [
      "{\"message\": \"/home/maxim/code/immune-repertoire-classification/malid/trained_model_wrappers/convergent_cluster_classifier.py:571: FutureWarning: Not prepending group keys to the result index of transform-like apply. In the future, the group keys will be included in the index, regardless of whether the applied function returns a like-indexed object.\\nTo preserve the previous behavior, use\\n\\n\\t>>> .groupby(..., group_keys=False)\\n\\nTo adopt the future behavior and silence this warning, use \\n\\n\\t>>> .groupby(..., group_keys=True)\\n  test_groups[\\\"cdr3_seq_aa_q_trim\\\"]\\n\", \"time\": \"2023-11-04T13:50:03.112388\"}\n"
     ]
    },
    {
     "name": "stderr",
     "output_type": "stream",
     "text": [
      "{\"message\": \"/home/maxim/code/immune-repertoire-classification/malid/trained_model_wrappers/convergent_cluster_classifier.py:571: FutureWarning: Not prepending group keys to the result index of transform-like apply. In the future, the group keys will be included in the index, regardless of whether the applied function returns a like-indexed object.\\nTo preserve the previous behavior, use\\n\\n\\t>>> .groupby(..., group_keys=False)\\n\\nTo adopt the future behavior and silence this warning, use \\n\\n\\t>>> .groupby(..., group_keys=True)\\n  test_groups[\\\"cdr3_seq_aa_q_trim\\\"]\\n\", \"time\": \"2023-11-04T13:52:29.705934\"}\n"
     ]
    },
    {
     "name": "stderr",
     "output_type": "stream",
     "text": [
      "{\"message\": \"/home/maxim/code/immune-repertoire-classification/malid/trained_model_wrappers/convergent_cluster_classifier.py:571: FutureWarning: Not prepending group keys to the result index of transform-like apply. In the future, the group keys will be included in the index, regardless of whether the applied function returns a like-indexed object.\\nTo preserve the previous behavior, use\\n\\n\\t>>> .groupby(..., group_keys=False)\\n\\nTo adopt the future behavior and silence this warning, use \\n\\n\\t>>> .groupby(..., group_keys=True)\\n  test_groups[\\\"cdr3_seq_aa_q_trim\\\"]\\n\", \"time\": \"2023-11-04T13:54:48.388951\"}\n"
     ]
    },
    {
     "name": "stderr",
     "output_type": "stream",
     "text": [
      "{\"message\": \"/home/maxim/code/immune-repertoire-classification/malid/trained_model_wrappers/convergent_cluster_classifier.py:571: FutureWarning: Not prepending group keys to the result index of transform-like apply. In the future, the group keys will be included in the index, regardless of whether the applied function returns a like-indexed object.\\nTo preserve the previous behavior, use\\n\\n\\t>>> .groupby(..., group_keys=False)\\n\\nTo adopt the future behavior and silence this warning, use \\n\\n\\t>>> .groupby(..., group_keys=True)\\n  test_groups[\\\"cdr3_seq_aa_q_trim\\\"]\\n\", \"time\": \"2023-11-04T13:57:07.875757\"}\n"
     ]
    },
    {
     "name": "stderr",
     "output_type": "stream",
     "text": [
      "{\"message\": \"/home/maxim/code/immune-repertoire-classification/malid/trained_model_wrappers/convergent_cluster_classifier.py:571: FutureWarning: Not prepending group keys to the result index of transform-like apply. In the future, the group keys will be included in the index, regardless of whether the applied function returns a like-indexed object.\\nTo preserve the previous behavior, use\\n\\n\\t>>> .groupby(..., group_keys=False)\\n\\nTo adopt the future behavior and silence this warning, use \\n\\n\\t>>> .groupby(..., group_keys=True)\\n  test_groups[\\\"cdr3_seq_aa_q_trim\\\"]\\n\", \"time\": \"2023-11-04T13:59:18.245610\"}\n"
     ]
    },
    {
     "name": "stderr",
     "output_type": "stream",
     "text": [
      "{\"message\": \"/home/maxim/code/immune-repertoire-classification/malid/trained_model_wrappers/convergent_cluster_classifier.py:571: FutureWarning: Not prepending group keys to the result index of transform-like apply. In the future, the group keys will be included in the index, regardless of whether the applied function returns a like-indexed object.\\nTo preserve the previous behavior, use\\n\\n\\t>>> .groupby(..., group_keys=False)\\n\\nTo adopt the future behavior and silence this warning, use \\n\\n\\t>>> .groupby(..., group_keys=True)\\n  test_groups[\\\"cdr3_seq_aa_q_trim\\\"]\\n\", \"time\": \"2023-11-04T14:01:25.069646\"}\n"
     ]
    },
    {
     "name": "stderr",
     "output_type": "stream",
     "text": [
      "{\"message\": \"/home/maxim/code/immune-repertoire-classification/malid/trained_model_wrappers/convergent_cluster_classifier.py:571: FutureWarning: Not prepending group keys to the result index of transform-like apply. In the future, the group keys will be included in the index, regardless of whether the applied function returns a like-indexed object.\\nTo preserve the previous behavior, use\\n\\n\\t>>> .groupby(..., group_keys=False)\\n\\nTo adopt the future behavior and silence this warning, use \\n\\n\\t>>> .groupby(..., group_keys=True)\\n  test_groups[\\\"cdr3_seq_aa_q_trim\\\"]\\n\", \"time\": \"2023-11-04T14:03:24.405332\"}\n"
     ]
    },
    {
     "name": "stderr",
     "output_type": "stream",
     "text": [
      "{\"message\": \"/home/maxim/code/immune-repertoire-classification/malid/trained_model_wrappers/convergent_cluster_classifier.py:571: FutureWarning: Not prepending group keys to the result index of transform-like apply. In the future, the group keys will be included in the index, regardless of whether the applied function returns a like-indexed object.\\nTo preserve the previous behavior, use\\n\\n\\t>>> .groupby(..., group_keys=False)\\n\\nTo adopt the future behavior and silence this warning, use \\n\\n\\t>>> .groupby(..., group_keys=True)\\n  test_groups[\\\"cdr3_seq_aa_q_trim\\\"]\\n\", \"time\": \"2023-11-04T14:05:40.392772\"}\n"
     ]
    },
    {
     "name": "stderr",
     "output_type": "stream",
     "text": [
      "{\"message\": \"/home/maxim/code/immune-repertoire-classification/malid/trained_model_wrappers/convergent_cluster_classifier.py:571: FutureWarning: Not prepending group keys to the result index of transform-like apply. In the future, the group keys will be included in the index, regardless of whether the applied function returns a like-indexed object.\\nTo preserve the previous behavior, use\\n\\n\\t>>> .groupby(..., group_keys=False)\\n\\nTo adopt the future behavior and silence this warning, use \\n\\n\\t>>> .groupby(..., group_keys=True)\\n  test_groups[\\\"cdr3_seq_aa_q_trim\\\"]\\n\", \"time\": \"2023-11-04T14:08:11.602888\"}\n"
     ]
    },
    {
     "name": "stderr",
     "output_type": "stream",
     "text": [
      "{\"message\": \"/home/maxim/code/immune-repertoire-classification/malid/trained_model_wrappers/convergent_cluster_classifier.py:571: FutureWarning: Not prepending group keys to the result index of transform-like apply. In the future, the group keys will be included in the index, regardless of whether the applied function returns a like-indexed object.\\nTo preserve the previous behavior, use\\n\\n\\t>>> .groupby(..., group_keys=False)\\n\\nTo adopt the future behavior and silence this warning, use \\n\\n\\t>>> .groupby(..., group_keys=True)\\n  test_groups[\\\"cdr3_seq_aa_q_trim\\\"]\\n\", \"time\": \"2023-11-04T14:10:27.059469\"}\n"
     ]
    },
    {
     "name": "stderr",
     "output_type": "stream",
     "text": [
      "{\"message\": \"/home/maxim/code/immune-repertoire-classification/malid/trained_model_wrappers/convergent_cluster_classifier.py:571: FutureWarning: Not prepending group keys to the result index of transform-like apply. In the future, the group keys will be included in the index, regardless of whether the applied function returns a like-indexed object.\\nTo preserve the previous behavior, use\\n\\n\\t>>> .groupby(..., group_keys=False)\\n\\nTo adopt the future behavior and silence this warning, use \\n\\n\\t>>> .groupby(..., group_keys=True)\\n  test_groups[\\\"cdr3_seq_aa_q_trim\\\"]\\n\", \"time\": \"2023-11-04T14:12:46.320165\"}\n"
     ]
    },
    {
     "name": "stderr",
     "output_type": "stream",
     "text": [
      "{\"message\": \"/home/maxim/code/immune-repertoire-classification/malid/trained_model_wrappers/convergent_cluster_classifier.py:571: FutureWarning: Not prepending group keys to the result index of transform-like apply. In the future, the group keys will be included in the index, regardless of whether the applied function returns a like-indexed object.\\nTo preserve the previous behavior, use\\n\\n\\t>>> .groupby(..., group_keys=False)\\n\\nTo adopt the future behavior and silence this warning, use \\n\\n\\t>>> .groupby(..., group_keys=True)\\n  test_groups[\\\"cdr3_seq_aa_q_trim\\\"]\\n\", \"time\": \"2023-11-04T14:14:41.616985\"}\n"
     ]
    },
    {
     "name": "stderr",
     "output_type": "stream",
     "text": [
      "{\"message\": \"/home/maxim/code/immune-repertoire-classification/malid/trained_model_wrappers/convergent_cluster_classifier.py:571: FutureWarning: Not prepending group keys to the result index of transform-like apply. In the future, the group keys will be included in the index, regardless of whether the applied function returns a like-indexed object.\\nTo preserve the previous behavior, use\\n\\n\\t>>> .groupby(..., group_keys=False)\\n\\nTo adopt the future behavior and silence this warning, use \\n\\n\\t>>> .groupby(..., group_keys=True)\\n  test_groups[\\\"cdr3_seq_aa_q_trim\\\"]\\n\", \"time\": \"2023-11-04T14:17:07.496743\"}\n"
     ]
    },
    {
     "name": "stderr",
     "output_type": "stream",
     "text": [
      "{\"message\": \"/home/maxim/code/immune-repertoire-classification/malid/trained_model_wrappers/convergent_cluster_classifier.py:571: FutureWarning: Not prepending group keys to the result index of transform-like apply. In the future, the group keys will be included in the index, regardless of whether the applied function returns a like-indexed object.\\nTo preserve the previous behavior, use\\n\\n\\t>>> .groupby(..., group_keys=False)\\n\\nTo adopt the future behavior and silence this warning, use \\n\\n\\t>>> .groupby(..., group_keys=True)\\n  test_groups[\\\"cdr3_seq_aa_q_trim\\\"]\\n\", \"time\": \"2023-11-04T14:19:41.240151\"}\n"
     ]
    },
    {
     "name": "stderr",
     "output_type": "stream",
     "text": [
      "{\"message\": \"/home/maxim/code/immune-repertoire-classification/malid/trained_model_wrappers/convergent_cluster_classifier.py:571: FutureWarning: Not prepending group keys to the result index of transform-like apply. In the future, the group keys will be included in the index, regardless of whether the applied function returns a like-indexed object.\\nTo preserve the previous behavior, use\\n\\n\\t>>> .groupby(..., group_keys=False)\\n\\nTo adopt the future behavior and silence this warning, use \\n\\n\\t>>> .groupby(..., group_keys=True)\\n  test_groups[\\\"cdr3_seq_aa_q_trim\\\"]\\n\", \"time\": \"2023-11-04T14:21:34.900904\"}\n"
     ]
    },
    {
     "name": "stderr",
     "output_type": "stream",
     "text": [
      "{\"message\": \"/home/maxim/code/immune-repertoire-classification/malid/trained_model_wrappers/convergent_cluster_classifier.py:571: FutureWarning: Not prepending group keys to the result index of transform-like apply. In the future, the group keys will be included in the index, regardless of whether the applied function returns a like-indexed object.\\nTo preserve the previous behavior, use\\n\\n\\t>>> .groupby(..., group_keys=False)\\n\\nTo adopt the future behavior and silence this warning, use \\n\\n\\t>>> .groupby(..., group_keys=True)\\n  test_groups[\\\"cdr3_seq_aa_q_trim\\\"]\\n\", \"time\": \"2023-11-04T14:23:32.784360\"}\n"
     ]
    },
    {
     "name": "stderr",
     "output_type": "stream",
     "text": [
      "{\"message\": \"/home/maxim/code/immune-repertoire-classification/malid/trained_model_wrappers/convergent_cluster_classifier.py:571: FutureWarning: Not prepending group keys to the result index of transform-like apply. In the future, the group keys will be included in the index, regardless of whether the applied function returns a like-indexed object.\\nTo preserve the previous behavior, use\\n\\n\\t>>> .groupby(..., group_keys=False)\\n\\nTo adopt the future behavior and silence this warning, use \\n\\n\\t>>> .groupby(..., group_keys=True)\\n  test_groups[\\\"cdr3_seq_aa_q_trim\\\"]\\n\", \"time\": \"2023-11-04T14:25:26.518960\"}\n"
     ]
    },
    {
     "name": "stderr",
     "output_type": "stream",
     "text": [
      "{\"message\": \"/home/maxim/code/immune-repertoire-classification/malid/trained_model_wrappers/convergent_cluster_classifier.py:571: FutureWarning: Not prepending group keys to the result index of transform-like apply. In the future, the group keys will be included in the index, regardless of whether the applied function returns a like-indexed object.\\nTo preserve the previous behavior, use\\n\\n\\t>>> .groupby(..., group_keys=False)\\n\\nTo adopt the future behavior and silence this warning, use \\n\\n\\t>>> .groupby(..., group_keys=True)\\n  test_groups[\\\"cdr3_seq_aa_q_trim\\\"]\\n\", \"time\": \"2023-11-04T14:27:20.751941\"}\n"
     ]
    },
    {
     "name": "stderr",
     "output_type": "stream",
     "text": [
      "{\"message\": \"/home/maxim/code/immune-repertoire-classification/malid/trained_model_wrappers/convergent_cluster_classifier.py:571: FutureWarning: Not prepending group keys to the result index of transform-like apply. In the future, the group keys will be included in the index, regardless of whether the applied function returns a like-indexed object.\\nTo preserve the previous behavior, use\\n\\n\\t>>> .groupby(..., group_keys=False)\\n\\nTo adopt the future behavior and silence this warning, use \\n\\n\\t>>> .groupby(..., group_keys=True)\\n  test_groups[\\\"cdr3_seq_aa_q_trim\\\"]\\n\", \"time\": \"2023-11-04T14:29:20.970755\"}\n"
     ]
    },
    {
     "name": "stderr",
     "output_type": "stream",
     "text": [
      "{\"message\": \"/home/maxim/code/immune-repertoire-classification/malid/trained_model_wrappers/convergent_cluster_classifier.py:571: FutureWarning: Not prepending group keys to the result index of transform-like apply. In the future, the group keys will be included in the index, regardless of whether the applied function returns a like-indexed object.\\nTo preserve the previous behavior, use\\n\\n\\t>>> .groupby(..., group_keys=False)\\n\\nTo adopt the future behavior and silence this warning, use \\n\\n\\t>>> .groupby(..., group_keys=True)\\n  test_groups[\\\"cdr3_seq_aa_q_trim\\\"]\\n\", \"time\": \"2023-11-04T14:31:24.839055\"}\n"
     ]
    },
    {
     "name": "stdout",
     "output_type": "stream",
     "text": [
      "Test set performance: GeneLocus.TCR TargetObsColumnEnum.disease --> /home/maxim/code/immune-repertoire-classification/out/in_house_peak_disease_timepoints/convergent_clusters/TCR/disease\n"
     ]
    },
    {
     "name": "stderr",
     "output_type": "stream",
     "text": [
      "{\"message\": \"Inserting phantom class: Healthy/Background\", \"time\": \"2023-11-04T14:33:36.723472\"}\n"
     ]
    },
    {
     "name": "stderr",
     "output_type": "stream",
     "text": [
      "{\"message\": \"Inserting phantom class: Healthy/Background\", \"time\": \"2023-11-04T14:33:36.749628\"}\n"
     ]
    },
    {
     "name": "stderr",
     "output_type": "stream",
     "text": [
      "{\"message\": \"Inserting phantom class: Healthy/Background\", \"time\": \"2023-11-04T14:33:36.774185\"}\n"
     ]
    },
    {
     "name": "stderr",
     "output_type": "stream",
     "text": [
      "{\"message\": \"Inserting phantom class: Healthy/Background\", \"time\": \"2023-11-04T14:33:36.786852\"}\n"
     ]
    },
    {
     "name": "stderr",
     "output_type": "stream",
     "text": [
      "{\"message\": \"Inserting phantom class: Healthy/Background\", \"time\": \"2023-11-04T14:33:36.801093\"}\n"
     ]
    },
    {
     "name": "stderr",
     "output_type": "stream",
     "text": [
      "{\"message\": \"Inserting phantom class: Healthy/Background\", \"time\": \"2023-11-04T14:33:36.826472\"}\n"
     ]
    },
    {
     "name": "stderr",
     "output_type": "stream",
     "text": [
      "{\"message\": \"Inserting phantom class: Healthy/Background\", \"time\": \"2023-11-04T14:33:36.851065\"}\n"
     ]
    },
    {
     "name": "stderr",
     "output_type": "stream",
     "text": [
      "{\"message\": \"Inserting phantom class: Healthy/Background\", \"time\": \"2023-11-04T14:33:36.864258\"}\n"
     ]
    },
    {
     "name": "stderr",
     "output_type": "stream",
     "text": [
      "{\"message\": \"Inserting phantom class: Healthy/Background\", \"time\": \"2023-11-04T14:33:36.878541\"}\n"
     ]
    },
    {
     "name": "stderr",
     "output_type": "stream",
     "text": [
      "{\"message\": \"Inserting phantom class: Healthy/Background\", \"time\": \"2023-11-04T14:33:36.906054\"}\n"
     ]
    },
    {
     "name": "stderr",
     "output_type": "stream",
     "text": [
      "{\"message\": \"Inserting phantom class: Healthy/Background\", \"time\": \"2023-11-04T14:33:36.931916\"}\n"
     ]
    },
    {
     "name": "stderr",
     "output_type": "stream",
     "text": [
      "{\"message\": \"Inserting phantom class: Healthy/Background\", \"time\": \"2023-11-04T14:33:36.945053\"}\n"
     ]
    },
    {
     "name": "stderr",
     "output_type": "stream",
     "text": [
      "{\"message\": \"Inserting phantom class: Healthy/Background\", \"time\": \"2023-11-04T14:33:36.973189\"}\n"
     ]
    },
    {
     "name": "stderr",
     "output_type": "stream",
     "text": [
      "{\"message\": \"Inserting phantom class: Healthy/Background\", \"time\": \"2023-11-04T14:33:36.999280\"}\n"
     ]
    },
    {
     "name": "stderr",
     "output_type": "stream",
     "text": [
      "{\"message\": \"Inserting phantom class: Healthy/Background\", \"time\": \"2023-11-04T14:33:37.024759\"}\n"
     ]
    },
    {
     "name": "stderr",
     "output_type": "stream",
     "text": [
      "{\"message\": \"Inserting phantom class: Healthy/Background\", \"time\": \"2023-11-04T14:33:37.037776\"}\n"
     ]
    },
    {
     "name": "stderr",
     "output_type": "stream",
     "text": [
      "{\"message\": \"Inserting phantom class: Healthy/Background\", \"time\": \"2023-11-04T14:33:37.052332\"}\n"
     ]
    },
    {
     "name": "stderr",
     "output_type": "stream",
     "text": [
      "{\"message\": \"Inserting phantom class: Healthy/Background\", \"time\": \"2023-11-04T14:33:37.077565\"}\n"
     ]
    },
    {
     "name": "stderr",
     "output_type": "stream",
     "text": [
      "{\"message\": \"Inserting phantom class: Healthy/Background\", \"time\": \"2023-11-04T14:33:37.102169\"}\n"
     ]
    },
    {
     "name": "stderr",
     "output_type": "stream",
     "text": [
      "{\"message\": \"Inserting phantom class: Healthy/Background\", \"time\": \"2023-11-04T14:33:37.115372\"}\n"
     ]
    },
    {
     "name": "stderr",
     "output_type": "stream",
     "text": [
      "{\"message\": \"Inserting phantom class: Healthy/Background\", \"time\": \"2023-11-04T14:33:37.129832\"}\n"
     ]
    },
    {
     "name": "stderr",
     "output_type": "stream",
     "text": [
      "{\"message\": \"Inserting phantom class: Healthy/Background\", \"time\": \"2023-11-04T14:33:37.157305\"}\n"
     ]
    },
    {
     "name": "stderr",
     "output_type": "stream",
     "text": [
      "{\"message\": \"Inserting phantom class: Healthy/Background\", \"time\": \"2023-11-04T14:33:37.182629\"}\n"
     ]
    },
    {
     "name": "stderr",
     "output_type": "stream",
     "text": [
      "{\"message\": \"Inserting phantom class: Healthy/Background\", \"time\": \"2023-11-04T14:33:37.195445\"}\n"
     ]
    },
    {
     "data": {
      "text/html": [
       "<div>\n",
       "<style scoped>\n",
       "    .dataframe tbody tr th:only-of-type {\n",
       "        vertical-align: middle;\n",
       "    }\n",
       "\n",
       "    .dataframe tbody tr th {\n",
       "        vertical-align: top;\n",
       "    }\n",
       "\n",
       "    .dataframe thead th {\n",
       "        text-align: right;\n",
       "    }\n",
       "</style>\n",
       "<table border=\"1\" class=\"dataframe\">\n",
       "  <thead>\n",
       "    <tr style=\"text-align: right;\">\n",
       "      <th></th>\n",
       "      <th>ROC-AUC (weighted OvO) per fold</th>\n",
       "      <th>ROC-AUC (macro OvO) per fold</th>\n",
       "      <th>au-PRC (weighted OvO) per fold</th>\n",
       "      <th>au-PRC (macro OvO) per fold</th>\n",
       "      <th>Accuracy per fold</th>\n",
       "      <th>MCC per fold</th>\n",
       "      <th>Accuracy global</th>\n",
       "      <th>MCC global</th>\n",
       "      <th>Global evaluation column name global</th>\n",
       "      <th>Accuracy per fold with abstention</th>\n",
       "      <th>...</th>\n",
       "      <th>Accuracy global with abstention</th>\n",
       "      <th>MCC global with abstention</th>\n",
       "      <th>Unknown/abstention proportion global with abstention</th>\n",
       "      <th>Abstention label global with abstention</th>\n",
       "      <th>Global evaluation column name global with abstention</th>\n",
       "      <th>sample_size</th>\n",
       "      <th>n_abstentions</th>\n",
       "      <th>sample_size including abstentions</th>\n",
       "      <th>abstention_rate</th>\n",
       "      <th>missing_classes</th>\n",
       "    </tr>\n",
       "  </thead>\n",
       "  <tbody>\n",
       "    <tr>\n",
       "      <th>lasso_cv</th>\n",
       "      <td>0.813 +/- 0.007 (in 3 folds)</td>\n",
       "      <td>0.817 +/- 0.011 (in 3 folds)</td>\n",
       "      <td>0.811 +/- 0.014 (in 3 folds)</td>\n",
       "      <td>0.821 +/- 0.016 (in 3 folds)</td>\n",
       "      <td>0.507 +/- 0.017 (in 3 folds)</td>\n",
       "      <td>0.378 +/- 0.012 (in 3 folds)</td>\n",
       "      <td>0.507</td>\n",
       "      <td>0.375</td>\n",
       "      <td>disease.separate_past_exposures</td>\n",
       "      <td>0.505 +/- 0.019 (in 3 folds)</td>\n",
       "      <td>...</td>\n",
       "      <td>0.505</td>\n",
       "      <td>0.374</td>\n",
       "      <td>0.004</td>\n",
       "      <td>Unknown</td>\n",
       "      <td>disease.separate_past_exposures</td>\n",
       "      <td>548</td>\n",
       "      <td>2</td>\n",
       "      <td>550</td>\n",
       "      <td>0.003636</td>\n",
       "      <td>False</td>\n",
       "    </tr>\n",
       "    <tr>\n",
       "      <th>lasso_cv.decision_thresholds_tuned</th>\n",
       "      <td>0.813 +/- 0.007 (in 3 folds)</td>\n",
       "      <td>0.817 +/- 0.011 (in 3 folds)</td>\n",
       "      <td>0.811 +/- 0.014 (in 3 folds)</td>\n",
       "      <td>0.821 +/- 0.016 (in 3 folds)</td>\n",
       "      <td>0.518 +/- 0.049 (in 3 folds)</td>\n",
       "      <td>0.400 +/- 0.034 (in 3 folds)</td>\n",
       "      <td>0.518</td>\n",
       "      <td>0.392</td>\n",
       "      <td>disease.separate_past_exposures</td>\n",
       "      <td>0.516 +/- 0.051 (in 3 folds)</td>\n",
       "      <td>...</td>\n",
       "      <td>0.516</td>\n",
       "      <td>0.390</td>\n",
       "      <td>0.004</td>\n",
       "      <td>Unknown</td>\n",
       "      <td>disease.separate_past_exposures</td>\n",
       "      <td>548</td>\n",
       "      <td>2</td>\n",
       "      <td>550</td>\n",
       "      <td>0.003636</td>\n",
       "      <td>False</td>\n",
       "    </tr>\n",
       "    <tr>\n",
       "      <th>linearsvm_ovr.decision_thresholds_tuned</th>\n",
       "      <td>0.806 +/- 0.002 (in 3 folds)</td>\n",
       "      <td>0.806 +/- 0.005 (in 3 folds)</td>\n",
       "      <td>0.805 +/- 0.008 (in 3 folds)</td>\n",
       "      <td>0.814 +/- 0.009 (in 3 folds)</td>\n",
       "      <td>0.489 +/- 0.016 (in 3 folds)</td>\n",
       "      <td>0.363 +/- 0.015 (in 3 folds)</td>\n",
       "      <td>0.489</td>\n",
       "      <td>0.340</td>\n",
       "      <td>disease.separate_past_exposures</td>\n",
       "      <td>0.487 +/- 0.019 (in 3 folds)</td>\n",
       "      <td>...</td>\n",
       "      <td>0.487</td>\n",
       "      <td>0.338</td>\n",
       "      <td>0.004</td>\n",
       "      <td>Unknown</td>\n",
       "      <td>disease.separate_past_exposures</td>\n",
       "      <td>548</td>\n",
       "      <td>2</td>\n",
       "      <td>550</td>\n",
       "      <td>0.003636</td>\n",
       "      <td>False</td>\n",
       "    </tr>\n",
       "    <tr>\n",
       "      <th>linearsvm_ovr</th>\n",
       "      <td>0.806 +/- 0.002 (in 3 folds)</td>\n",
       "      <td>0.806 +/- 0.005 (in 3 folds)</td>\n",
       "      <td>0.805 +/- 0.008 (in 3 folds)</td>\n",
       "      <td>0.814 +/- 0.009 (in 3 folds)</td>\n",
       "      <td>0.502 +/- 0.030 (in 3 folds)</td>\n",
       "      <td>0.365 +/- 0.028 (in 3 folds)</td>\n",
       "      <td>0.502</td>\n",
       "      <td>0.361</td>\n",
       "      <td>disease.separate_past_exposures</td>\n",
       "      <td>0.500 +/- 0.032 (in 3 folds)</td>\n",
       "      <td>...</td>\n",
       "      <td>0.500</td>\n",
       "      <td>0.360</td>\n",
       "      <td>0.004</td>\n",
       "      <td>Unknown</td>\n",
       "      <td>disease.separate_past_exposures</td>\n",
       "      <td>548</td>\n",
       "      <td>2</td>\n",
       "      <td>550</td>\n",
       "      <td>0.003636</td>\n",
       "      <td>False</td>\n",
       "    </tr>\n",
       "    <tr>\n",
       "      <th>elasticnet_cv0.25</th>\n",
       "      <td>0.805 +/- 0.015 (in 3 folds)</td>\n",
       "      <td>0.808 +/- 0.020 (in 3 folds)</td>\n",
       "      <td>0.803 +/- 0.020 (in 3 folds)</td>\n",
       "      <td>0.813 +/- 0.023 (in 3 folds)</td>\n",
       "      <td>0.493 +/- 0.022 (in 3 folds)</td>\n",
       "      <td>0.369 +/- 0.029 (in 3 folds)</td>\n",
       "      <td>0.493</td>\n",
       "      <td>0.367</td>\n",
       "      <td>disease.separate_past_exposures</td>\n",
       "      <td>0.491 +/- 0.020 (in 3 folds)</td>\n",
       "      <td>...</td>\n",
       "      <td>0.491</td>\n",
       "      <td>0.365</td>\n",
       "      <td>0.004</td>\n",
       "      <td>Unknown</td>\n",
       "      <td>disease.separate_past_exposures</td>\n",
       "      <td>548</td>\n",
       "      <td>2</td>\n",
       "      <td>550</td>\n",
       "      <td>0.003636</td>\n",
       "      <td>False</td>\n",
       "    </tr>\n",
       "    <tr>\n",
       "      <th>elasticnet_cv0.25.decision_thresholds_tuned</th>\n",
       "      <td>0.805 +/- 0.015 (in 3 folds)</td>\n",
       "      <td>0.808 +/- 0.020 (in 3 folds)</td>\n",
       "      <td>0.803 +/- 0.020 (in 3 folds)</td>\n",
       "      <td>0.813 +/- 0.023 (in 3 folds)</td>\n",
       "      <td>0.484 +/- 0.033 (in 3 folds)</td>\n",
       "      <td>0.348 +/- 0.040 (in 3 folds)</td>\n",
       "      <td>0.484</td>\n",
       "      <td>0.341</td>\n",
       "      <td>disease.separate_past_exposures</td>\n",
       "      <td>0.482 +/- 0.035 (in 3 folds)</td>\n",
       "      <td>...</td>\n",
       "      <td>0.482</td>\n",
       "      <td>0.339</td>\n",
       "      <td>0.004</td>\n",
       "      <td>Unknown</td>\n",
       "      <td>disease.separate_past_exposures</td>\n",
       "      <td>548</td>\n",
       "      <td>2</td>\n",
       "      <td>550</td>\n",
       "      <td>0.003636</td>\n",
       "      <td>False</td>\n",
       "    </tr>\n",
       "    <tr>\n",
       "      <th>xgboost.decision_thresholds_tuned</th>\n",
       "      <td>0.804 +/- 0.019 (in 3 folds)</td>\n",
       "      <td>0.803 +/- 0.021 (in 3 folds)</td>\n",
       "      <td>0.806 +/- 0.011 (in 3 folds)</td>\n",
       "      <td>0.812 +/- 0.013 (in 3 folds)</td>\n",
       "      <td>0.522 +/- 0.019 (in 3 folds)</td>\n",
       "      <td>0.397 +/- 0.029 (in 3 folds)</td>\n",
       "      <td>0.522</td>\n",
       "      <td>0.389</td>\n",
       "      <td>disease.separate_past_exposures</td>\n",
       "      <td>0.518 +/- 0.024 (in 3 folds)</td>\n",
       "      <td>...</td>\n",
       "      <td>0.518</td>\n",
       "      <td>0.386</td>\n",
       "      <td>0.007</td>\n",
       "      <td>Unknown</td>\n",
       "      <td>disease.separate_past_exposures</td>\n",
       "      <td>546</td>\n",
       "      <td>4</td>\n",
       "      <td>550</td>\n",
       "      <td>0.007273</td>\n",
       "      <td>False</td>\n",
       "    </tr>\n",
       "    <tr>\n",
       "      <th>xgboost</th>\n",
       "      <td>0.804 +/- 0.019 (in 3 folds)</td>\n",
       "      <td>0.803 +/- 0.021 (in 3 folds)</td>\n",
       "      <td>0.806 +/- 0.011 (in 3 folds)</td>\n",
       "      <td>0.812 +/- 0.013 (in 3 folds)</td>\n",
       "      <td>0.527 +/- 0.021 (in 3 folds)</td>\n",
       "      <td>0.397 +/- 0.022 (in 3 folds)</td>\n",
       "      <td>0.527</td>\n",
       "      <td>0.396</td>\n",
       "      <td>disease.separate_past_exposures</td>\n",
       "      <td>0.523 +/- 0.022 (in 3 folds)</td>\n",
       "      <td>...</td>\n",
       "      <td>0.524</td>\n",
       "      <td>0.393</td>\n",
       "      <td>0.007</td>\n",
       "      <td>Unknown</td>\n",
       "      <td>disease.separate_past_exposures</td>\n",
       "      <td>546</td>\n",
       "      <td>4</td>\n",
       "      <td>550</td>\n",
       "      <td>0.007273</td>\n",
       "      <td>False</td>\n",
       "    </tr>\n",
       "    <tr>\n",
       "      <th>elasticnet_cv</th>\n",
       "      <td>0.804 +/- 0.015 (in 3 folds)</td>\n",
       "      <td>0.807 +/- 0.021 (in 3 folds)</td>\n",
       "      <td>0.802 +/- 0.021 (in 3 folds)</td>\n",
       "      <td>0.812 +/- 0.024 (in 3 folds)</td>\n",
       "      <td>0.491 +/- 0.016 (in 3 folds)</td>\n",
       "      <td>0.366 +/- 0.024 (in 3 folds)</td>\n",
       "      <td>0.491</td>\n",
       "      <td>0.365</td>\n",
       "      <td>disease.separate_past_exposures</td>\n",
       "      <td>0.489 +/- 0.014 (in 3 folds)</td>\n",
       "      <td>...</td>\n",
       "      <td>0.489</td>\n",
       "      <td>0.363</td>\n",
       "      <td>0.004</td>\n",
       "      <td>Unknown</td>\n",
       "      <td>disease.separate_past_exposures</td>\n",
       "      <td>548</td>\n",
       "      <td>2</td>\n",
       "      <td>550</td>\n",
       "      <td>0.003636</td>\n",
       "      <td>False</td>\n",
       "    </tr>\n",
       "    <tr>\n",
       "      <th>elasticnet_cv.decision_thresholds_tuned</th>\n",
       "      <td>0.804 +/- 0.015 (in 3 folds)</td>\n",
       "      <td>0.807 +/- 0.021 (in 3 folds)</td>\n",
       "      <td>0.802 +/- 0.021 (in 3 folds)</td>\n",
       "      <td>0.812 +/- 0.024 (in 3 folds)</td>\n",
       "      <td>0.480 +/- 0.028 (in 3 folds)</td>\n",
       "      <td>0.353 +/- 0.014 (in 3 folds)</td>\n",
       "      <td>0.480</td>\n",
       "      <td>0.347</td>\n",
       "      <td>disease.separate_past_exposures</td>\n",
       "      <td>0.478 +/- 0.030 (in 3 folds)</td>\n",
       "      <td>...</td>\n",
       "      <td>0.478</td>\n",
       "      <td>0.345</td>\n",
       "      <td>0.004</td>\n",
       "      <td>Unknown</td>\n",
       "      <td>disease.separate_past_exposures</td>\n",
       "      <td>548</td>\n",
       "      <td>2</td>\n",
       "      <td>550</td>\n",
       "      <td>0.003636</td>\n",
       "      <td>False</td>\n",
       "    </tr>\n",
       "    <tr>\n",
       "      <th>logisticregression_unregularized</th>\n",
       "      <td>0.804 +/- 0.012 (in 3 folds)</td>\n",
       "      <td>0.803 +/- 0.017 (in 3 folds)</td>\n",
       "      <td>0.806 +/- 0.016 (in 3 folds)</td>\n",
       "      <td>0.812 +/- 0.022 (in 3 folds)</td>\n",
       "      <td>0.527 +/- 0.024 (in 3 folds)</td>\n",
       "      <td>0.395 +/- 0.035 (in 3 folds)</td>\n",
       "      <td>0.527</td>\n",
       "      <td>0.394</td>\n",
       "      <td>disease.separate_past_exposures</td>\n",
       "      <td>NaN</td>\n",
       "      <td>...</td>\n",
       "      <td>NaN</td>\n",
       "      <td>NaN</td>\n",
       "      <td>NaN</td>\n",
       "      <td>NaN</td>\n",
       "      <td>NaN</td>\n",
       "      <td>550</td>\n",
       "      <td>0</td>\n",
       "      <td>550</td>\n",
       "      <td>0.000000</td>\n",
       "      <td>False</td>\n",
       "    </tr>\n",
       "    <tr>\n",
       "      <th>logisticregression_unregularized.decision_thresholds_tuned</th>\n",
       "      <td>0.804 +/- 0.012 (in 3 folds)</td>\n",
       "      <td>0.803 +/- 0.017 (in 3 folds)</td>\n",
       "      <td>0.806 +/- 0.016 (in 3 folds)</td>\n",
       "      <td>0.812 +/- 0.022 (in 3 folds)</td>\n",
       "      <td>0.544 +/- 0.014 (in 3 folds)</td>\n",
       "      <td>0.421 +/- 0.021 (in 3 folds)</td>\n",
       "      <td>0.544</td>\n",
       "      <td>0.420</td>\n",
       "      <td>disease.separate_past_exposures</td>\n",
       "      <td>NaN</td>\n",
       "      <td>...</td>\n",
       "      <td>NaN</td>\n",
       "      <td>NaN</td>\n",
       "      <td>NaN</td>\n",
       "      <td>NaN</td>\n",
       "      <td>NaN</td>\n",
       "      <td>550</td>\n",
       "      <td>0</td>\n",
       "      <td>550</td>\n",
       "      <td>0.000000</td>\n",
       "      <td>False</td>\n",
       "    </tr>\n",
       "    <tr>\n",
       "      <th>elasticnet_cv0.75</th>\n",
       "      <td>0.803 +/- 0.016 (in 3 folds)</td>\n",
       "      <td>0.807 +/- 0.022 (in 3 folds)</td>\n",
       "      <td>0.801 +/- 0.022 (in 3 folds)</td>\n",
       "      <td>0.812 +/- 0.025 (in 3 folds)</td>\n",
       "      <td>0.487 +/- 0.008 (in 3 folds)</td>\n",
       "      <td>0.361 +/- 0.017 (in 3 folds)</td>\n",
       "      <td>0.487</td>\n",
       "      <td>0.359</td>\n",
       "      <td>disease.separate_past_exposures</td>\n",
       "      <td>0.486 +/- 0.008 (in 3 folds)</td>\n",
       "      <td>...</td>\n",
       "      <td>0.485</td>\n",
       "      <td>0.358</td>\n",
       "      <td>0.004</td>\n",
       "      <td>Unknown</td>\n",
       "      <td>disease.separate_past_exposures</td>\n",
       "      <td>548</td>\n",
       "      <td>2</td>\n",
       "      <td>550</td>\n",
       "      <td>0.003636</td>\n",
       "      <td>False</td>\n",
       "    </tr>\n",
       "    <tr>\n",
       "      <th>elasticnet_cv0.75.decision_thresholds_tuned</th>\n",
       "      <td>0.803 +/- 0.016 (in 3 folds)</td>\n",
       "      <td>0.807 +/- 0.022 (in 3 folds)</td>\n",
       "      <td>0.801 +/- 0.022 (in 3 folds)</td>\n",
       "      <td>0.812 +/- 0.025 (in 3 folds)</td>\n",
       "      <td>0.487 +/- 0.036 (in 3 folds)</td>\n",
       "      <td>0.353 +/- 0.030 (in 3 folds)</td>\n",
       "      <td>0.487</td>\n",
       "      <td>0.346</td>\n",
       "      <td>disease.separate_past_exposures</td>\n",
       "      <td>0.486 +/- 0.038 (in 3 folds)</td>\n",
       "      <td>...</td>\n",
       "      <td>0.485</td>\n",
       "      <td>0.344</td>\n",
       "      <td>0.004</td>\n",
       "      <td>Unknown</td>\n",
       "      <td>disease.separate_past_exposures</td>\n",
       "      <td>548</td>\n",
       "      <td>2</td>\n",
       "      <td>550</td>\n",
       "      <td>0.003636</td>\n",
       "      <td>False</td>\n",
       "    </tr>\n",
       "    <tr>\n",
       "      <th>ridge_cv</th>\n",
       "      <td>0.796 +/- 0.019 (in 3 folds)</td>\n",
       "      <td>0.799 +/- 0.025 (in 3 folds)</td>\n",
       "      <td>0.782 +/- 0.023 (in 3 folds)</td>\n",
       "      <td>0.794 +/- 0.027 (in 3 folds)</td>\n",
       "      <td>0.462 +/- 0.005 (in 3 folds)</td>\n",
       "      <td>0.354 +/- 0.023 (in 3 folds)</td>\n",
       "      <td>0.462</td>\n",
       "      <td>0.347</td>\n",
       "      <td>disease.separate_past_exposures</td>\n",
       "      <td>0.458 +/- 0.003 (in 3 folds)</td>\n",
       "      <td>...</td>\n",
       "      <td>0.458</td>\n",
       "      <td>0.343</td>\n",
       "      <td>0.007</td>\n",
       "      <td>Unknown</td>\n",
       "      <td>disease.separate_past_exposures</td>\n",
       "      <td>546</td>\n",
       "      <td>4</td>\n",
       "      <td>550</td>\n",
       "      <td>0.007273</td>\n",
       "      <td>False</td>\n",
       "    </tr>\n",
       "    <tr>\n",
       "      <th>ridge_cv.decision_thresholds_tuned</th>\n",
       "      <td>0.796 +/- 0.019 (in 3 folds)</td>\n",
       "      <td>0.799 +/- 0.025 (in 3 folds)</td>\n",
       "      <td>0.782 +/- 0.023 (in 3 folds)</td>\n",
       "      <td>0.794 +/- 0.027 (in 3 folds)</td>\n",
       "      <td>0.474 +/- 0.032 (in 3 folds)</td>\n",
       "      <td>0.340 +/- 0.046 (in 3 folds)</td>\n",
       "      <td>0.474</td>\n",
       "      <td>0.334</td>\n",
       "      <td>disease.separate_past_exposures</td>\n",
       "      <td>0.471 +/- 0.037 (in 3 folds)</td>\n",
       "      <td>...</td>\n",
       "      <td>0.471</td>\n",
       "      <td>0.331</td>\n",
       "      <td>0.007</td>\n",
       "      <td>Unknown</td>\n",
       "      <td>disease.separate_past_exposures</td>\n",
       "      <td>546</td>\n",
       "      <td>4</td>\n",
       "      <td>550</td>\n",
       "      <td>0.007273</td>\n",
       "      <td>False</td>\n",
       "    </tr>\n",
       "    <tr>\n",
       "      <th>rf_multiclass</th>\n",
       "      <td>0.795 +/- 0.029 (in 3 folds)</td>\n",
       "      <td>0.796 +/- 0.033 (in 3 folds)</td>\n",
       "      <td>0.794 +/- 0.018 (in 3 folds)</td>\n",
       "      <td>0.801 +/- 0.023 (in 3 folds)</td>\n",
       "      <td>0.540 +/- 0.017 (in 3 folds)</td>\n",
       "      <td>0.406 +/- 0.023 (in 3 folds)</td>\n",
       "      <td>0.540</td>\n",
       "      <td>0.404</td>\n",
       "      <td>disease.separate_past_exposures</td>\n",
       "      <td>0.536 +/- 0.012 (in 3 folds)</td>\n",
       "      <td>...</td>\n",
       "      <td>0.536</td>\n",
       "      <td>0.400</td>\n",
       "      <td>0.007</td>\n",
       "      <td>Unknown</td>\n",
       "      <td>disease.separate_past_exposures</td>\n",
       "      <td>546</td>\n",
       "      <td>4</td>\n",
       "      <td>550</td>\n",
       "      <td>0.007273</td>\n",
       "      <td>False</td>\n",
       "    </tr>\n",
       "    <tr>\n",
       "      <th>rf_multiclass.decision_thresholds_tuned</th>\n",
       "      <td>0.795 +/- 0.029 (in 3 folds)</td>\n",
       "      <td>0.796 +/- 0.033 (in 3 folds)</td>\n",
       "      <td>0.794 +/- 0.018 (in 3 folds)</td>\n",
       "      <td>0.801 +/- 0.023 (in 3 folds)</td>\n",
       "      <td>0.524 +/- 0.022 (in 3 folds)</td>\n",
       "      <td>0.389 +/- 0.019 (in 3 folds)</td>\n",
       "      <td>0.524</td>\n",
       "      <td>0.378</td>\n",
       "      <td>disease.separate_past_exposures</td>\n",
       "      <td>0.520 +/- 0.025 (in 3 folds)</td>\n",
       "      <td>...</td>\n",
       "      <td>0.520</td>\n",
       "      <td>0.375</td>\n",
       "      <td>0.007</td>\n",
       "      <td>Unknown</td>\n",
       "      <td>disease.separate_past_exposures</td>\n",
       "      <td>546</td>\n",
       "      <td>4</td>\n",
       "      <td>550</td>\n",
       "      <td>0.007273</td>\n",
       "      <td>False</td>\n",
       "    </tr>\n",
       "    <tr>\n",
       "      <th>elasticnet_cv_each_disease_versus_healthy</th>\n",
       "      <td>0.733 +/- 0.024 (in 3 folds)</td>\n",
       "      <td>0.752 +/- 0.031 (in 3 folds)</td>\n",
       "      <td>0.767 +/- 0.029 (in 3 folds)</td>\n",
       "      <td>0.782 +/- 0.039 (in 3 folds)</td>\n",
       "      <td>0.308 +/- 0.044 (in 3 folds)</td>\n",
       "      <td>0.242 +/- 0.047 (in 3 folds)</td>\n",
       "      <td>0.307</td>\n",
       "      <td>0.220</td>\n",
       "      <td>disease.separate_past_exposures</td>\n",
       "      <td>NaN</td>\n",
       "      <td>...</td>\n",
       "      <td>NaN</td>\n",
       "      <td>NaN</td>\n",
       "      <td>NaN</td>\n",
       "      <td>NaN</td>\n",
       "      <td>NaN</td>\n",
       "      <td>550</td>\n",
       "      <td>0</td>\n",
       "      <td>550</td>\n",
       "      <td>0.000000</td>\n",
       "      <td>True</td>\n",
       "    </tr>\n",
       "    <tr>\n",
       "      <th>elasticnet_cv_each_disease_versus_healthy.decision_thresholds_tuned</th>\n",
       "      <td>0.733 +/- 0.024 (in 3 folds)</td>\n",
       "      <td>0.752 +/- 0.031 (in 3 folds)</td>\n",
       "      <td>0.767 +/- 0.029 (in 3 folds)</td>\n",
       "      <td>0.782 +/- 0.039 (in 3 folds)</td>\n",
       "      <td>0.370 +/- 0.071 (in 3 folds)</td>\n",
       "      <td>0.317 +/- 0.091 (in 3 folds)</td>\n",
       "      <td>0.369</td>\n",
       "      <td>0.292</td>\n",
       "      <td>disease.separate_past_exposures</td>\n",
       "      <td>NaN</td>\n",
       "      <td>...</td>\n",
       "      <td>NaN</td>\n",
       "      <td>NaN</td>\n",
       "      <td>NaN</td>\n",
       "      <td>NaN</td>\n",
       "      <td>NaN</td>\n",
       "      <td>550</td>\n",
       "      <td>0</td>\n",
       "      <td>550</td>\n",
       "      <td>0.000000</td>\n",
       "      <td>True</td>\n",
       "    </tr>\n",
       "    <tr>\n",
       "      <th>dummy_stratified.decision_thresholds_tuned</th>\n",
       "      <td>0.508 +/- 0.008 (in 3 folds)</td>\n",
       "      <td>0.509 +/- 0.014 (in 3 folds)</td>\n",
       "      <td>0.512 +/- 0.007 (in 3 folds)</td>\n",
       "      <td>0.513 +/- 0.011 (in 3 folds)</td>\n",
       "      <td>0.209 +/- 0.007 (in 3 folds)</td>\n",
       "      <td>0.013 +/- 0.007 (in 3 folds)</td>\n",
       "      <td>0.209</td>\n",
       "      <td>0.013</td>\n",
       "      <td>disease.separate_past_exposures</td>\n",
       "      <td>NaN</td>\n",
       "      <td>...</td>\n",
       "      <td>NaN</td>\n",
       "      <td>NaN</td>\n",
       "      <td>NaN</td>\n",
       "      <td>NaN</td>\n",
       "      <td>NaN</td>\n",
       "      <td>550</td>\n",
       "      <td>0</td>\n",
       "      <td>550</td>\n",
       "      <td>0.000000</td>\n",
       "      <td>False</td>\n",
       "    </tr>\n",
       "    <tr>\n",
       "      <th>dummy_stratified</th>\n",
       "      <td>0.508 +/- 0.008 (in 3 folds)</td>\n",
       "      <td>0.509 +/- 0.014 (in 3 folds)</td>\n",
       "      <td>0.512 +/- 0.007 (in 3 folds)</td>\n",
       "      <td>0.513 +/- 0.011 (in 3 folds)</td>\n",
       "      <td>0.209 +/- 0.007 (in 3 folds)</td>\n",
       "      <td>0.013 +/- 0.007 (in 3 folds)</td>\n",
       "      <td>0.209</td>\n",
       "      <td>0.013</td>\n",
       "      <td>disease.separate_past_exposures</td>\n",
       "      <td>NaN</td>\n",
       "      <td>...</td>\n",
       "      <td>NaN</td>\n",
       "      <td>NaN</td>\n",
       "      <td>NaN</td>\n",
       "      <td>NaN</td>\n",
       "      <td>NaN</td>\n",
       "      <td>550</td>\n",
       "      <td>0</td>\n",
       "      <td>550</td>\n",
       "      <td>0.000000</td>\n",
       "      <td>False</td>\n",
       "    </tr>\n",
       "    <tr>\n",
       "      <th>dummy_most_frequent.decision_thresholds_tuned</th>\n",
       "      <td>0.500 +/- 0.000 (in 3 folds)</td>\n",
       "      <td>0.500 +/- 0.000 (in 3 folds)</td>\n",
       "      <td>0.500 +/- 0.000 (in 3 folds)</td>\n",
       "      <td>0.500 +/- 0.000 (in 3 folds)</td>\n",
       "      <td>0.361 +/- 0.006 (in 3 folds)</td>\n",
       "      <td>0.000 +/- 0.000 (in 3 folds)</td>\n",
       "      <td>0.361</td>\n",
       "      <td>0.000</td>\n",
       "      <td>disease.separate_past_exposures</td>\n",
       "      <td>0.358 +/- 0.003 (in 3 folds)</td>\n",
       "      <td>...</td>\n",
       "      <td>0.358</td>\n",
       "      <td>0.025</td>\n",
       "      <td>0.007</td>\n",
       "      <td>Unknown</td>\n",
       "      <td>disease.separate_past_exposures</td>\n",
       "      <td>546</td>\n",
       "      <td>4</td>\n",
       "      <td>550</td>\n",
       "      <td>0.007273</td>\n",
       "      <td>True</td>\n",
       "    </tr>\n",
       "    <tr>\n",
       "      <th>dummy_most_frequent</th>\n",
       "      <td>0.500 +/- 0.000 (in 3 folds)</td>\n",
       "      <td>0.500 +/- 0.000 (in 3 folds)</td>\n",
       "      <td>0.500 +/- 0.000 (in 3 folds)</td>\n",
       "      <td>0.500 +/- 0.000 (in 3 folds)</td>\n",
       "      <td>0.361 +/- 0.006 (in 3 folds)</td>\n",
       "      <td>0.000 +/- 0.000 (in 3 folds)</td>\n",
       "      <td>0.361</td>\n",
       "      <td>0.000</td>\n",
       "      <td>disease.separate_past_exposures</td>\n",
       "      <td>0.358 +/- 0.003 (in 3 folds)</td>\n",
       "      <td>...</td>\n",
       "      <td>0.358</td>\n",
       "      <td>0.025</td>\n",
       "      <td>0.007</td>\n",
       "      <td>Unknown</td>\n",
       "      <td>disease.separate_past_exposures</td>\n",
       "      <td>546</td>\n",
       "      <td>4</td>\n",
       "      <td>550</td>\n",
       "      <td>0.007273</td>\n",
       "      <td>True</td>\n",
       "    </tr>\n",
       "  </tbody>\n",
       "</table>\n",
       "<p>24 rows × 22 columns</p>\n",
       "</div>"
      ],
      "text/plain": [
       "                                                   ROC-AUC (weighted OvO) per fold  \\\n",
       "lasso_cv                                              0.813 +/- 0.007 (in 3 folds)   \n",
       "lasso_cv.decision_thresholds_tuned                    0.813 +/- 0.007 (in 3 folds)   \n",
       "linearsvm_ovr.decision_thresholds_tuned               0.806 +/- 0.002 (in 3 folds)   \n",
       "linearsvm_ovr                                         0.806 +/- 0.002 (in 3 folds)   \n",
       "elasticnet_cv0.25                                     0.805 +/- 0.015 (in 3 folds)   \n",
       "elasticnet_cv0.25.decision_thresholds_tuned           0.805 +/- 0.015 (in 3 folds)   \n",
       "xgboost.decision_thresholds_tuned                     0.804 +/- 0.019 (in 3 folds)   \n",
       "xgboost                                               0.804 +/- 0.019 (in 3 folds)   \n",
       "elasticnet_cv                                         0.804 +/- 0.015 (in 3 folds)   \n",
       "elasticnet_cv.decision_thresholds_tuned               0.804 +/- 0.015 (in 3 folds)   \n",
       "logisticregression_unregularized                      0.804 +/- 0.012 (in 3 folds)   \n",
       "logisticregression_unregularized.decision_thres...    0.804 +/- 0.012 (in 3 folds)   \n",
       "elasticnet_cv0.75                                     0.803 +/- 0.016 (in 3 folds)   \n",
       "elasticnet_cv0.75.decision_thresholds_tuned           0.803 +/- 0.016 (in 3 folds)   \n",
       "ridge_cv                                              0.796 +/- 0.019 (in 3 folds)   \n",
       "ridge_cv.decision_thresholds_tuned                    0.796 +/- 0.019 (in 3 folds)   \n",
       "rf_multiclass                                         0.795 +/- 0.029 (in 3 folds)   \n",
       "rf_multiclass.decision_thresholds_tuned               0.795 +/- 0.029 (in 3 folds)   \n",
       "elasticnet_cv_each_disease_versus_healthy             0.733 +/- 0.024 (in 3 folds)   \n",
       "elasticnet_cv_each_disease_versus_healthy.decis...    0.733 +/- 0.024 (in 3 folds)   \n",
       "dummy_stratified.decision_thresholds_tuned            0.508 +/- 0.008 (in 3 folds)   \n",
       "dummy_stratified                                      0.508 +/- 0.008 (in 3 folds)   \n",
       "dummy_most_frequent.decision_thresholds_tuned         0.500 +/- 0.000 (in 3 folds)   \n",
       "dummy_most_frequent                                   0.500 +/- 0.000 (in 3 folds)   \n",
       "\n",
       "                                                    ROC-AUC (macro OvO) per fold  \\\n",
       "lasso_cv                                            0.817 +/- 0.011 (in 3 folds)   \n",
       "lasso_cv.decision_thresholds_tuned                  0.817 +/- 0.011 (in 3 folds)   \n",
       "linearsvm_ovr.decision_thresholds_tuned             0.806 +/- 0.005 (in 3 folds)   \n",
       "linearsvm_ovr                                       0.806 +/- 0.005 (in 3 folds)   \n",
       "elasticnet_cv0.25                                   0.808 +/- 0.020 (in 3 folds)   \n",
       "elasticnet_cv0.25.decision_thresholds_tuned         0.808 +/- 0.020 (in 3 folds)   \n",
       "xgboost.decision_thresholds_tuned                   0.803 +/- 0.021 (in 3 folds)   \n",
       "xgboost                                             0.803 +/- 0.021 (in 3 folds)   \n",
       "elasticnet_cv                                       0.807 +/- 0.021 (in 3 folds)   \n",
       "elasticnet_cv.decision_thresholds_tuned             0.807 +/- 0.021 (in 3 folds)   \n",
       "logisticregression_unregularized                    0.803 +/- 0.017 (in 3 folds)   \n",
       "logisticregression_unregularized.decision_thres...  0.803 +/- 0.017 (in 3 folds)   \n",
       "elasticnet_cv0.75                                   0.807 +/- 0.022 (in 3 folds)   \n",
       "elasticnet_cv0.75.decision_thresholds_tuned         0.807 +/- 0.022 (in 3 folds)   \n",
       "ridge_cv                                            0.799 +/- 0.025 (in 3 folds)   \n",
       "ridge_cv.decision_thresholds_tuned                  0.799 +/- 0.025 (in 3 folds)   \n",
       "rf_multiclass                                       0.796 +/- 0.033 (in 3 folds)   \n",
       "rf_multiclass.decision_thresholds_tuned             0.796 +/- 0.033 (in 3 folds)   \n",
       "elasticnet_cv_each_disease_versus_healthy           0.752 +/- 0.031 (in 3 folds)   \n",
       "elasticnet_cv_each_disease_versus_healthy.decis...  0.752 +/- 0.031 (in 3 folds)   \n",
       "dummy_stratified.decision_thresholds_tuned          0.509 +/- 0.014 (in 3 folds)   \n",
       "dummy_stratified                                    0.509 +/- 0.014 (in 3 folds)   \n",
       "dummy_most_frequent.decision_thresholds_tuned       0.500 +/- 0.000 (in 3 folds)   \n",
       "dummy_most_frequent                                 0.500 +/- 0.000 (in 3 folds)   \n",
       "\n",
       "                                                   au-PRC (weighted OvO) per fold  \\\n",
       "lasso_cv                                             0.811 +/- 0.014 (in 3 folds)   \n",
       "lasso_cv.decision_thresholds_tuned                   0.811 +/- 0.014 (in 3 folds)   \n",
       "linearsvm_ovr.decision_thresholds_tuned              0.805 +/- 0.008 (in 3 folds)   \n",
       "linearsvm_ovr                                        0.805 +/- 0.008 (in 3 folds)   \n",
       "elasticnet_cv0.25                                    0.803 +/- 0.020 (in 3 folds)   \n",
       "elasticnet_cv0.25.decision_thresholds_tuned          0.803 +/- 0.020 (in 3 folds)   \n",
       "xgboost.decision_thresholds_tuned                    0.806 +/- 0.011 (in 3 folds)   \n",
       "xgboost                                              0.806 +/- 0.011 (in 3 folds)   \n",
       "elasticnet_cv                                        0.802 +/- 0.021 (in 3 folds)   \n",
       "elasticnet_cv.decision_thresholds_tuned              0.802 +/- 0.021 (in 3 folds)   \n",
       "logisticregression_unregularized                     0.806 +/- 0.016 (in 3 folds)   \n",
       "logisticregression_unregularized.decision_thres...   0.806 +/- 0.016 (in 3 folds)   \n",
       "elasticnet_cv0.75                                    0.801 +/- 0.022 (in 3 folds)   \n",
       "elasticnet_cv0.75.decision_thresholds_tuned          0.801 +/- 0.022 (in 3 folds)   \n",
       "ridge_cv                                             0.782 +/- 0.023 (in 3 folds)   \n",
       "ridge_cv.decision_thresholds_tuned                   0.782 +/- 0.023 (in 3 folds)   \n",
       "rf_multiclass                                        0.794 +/- 0.018 (in 3 folds)   \n",
       "rf_multiclass.decision_thresholds_tuned              0.794 +/- 0.018 (in 3 folds)   \n",
       "elasticnet_cv_each_disease_versus_healthy            0.767 +/- 0.029 (in 3 folds)   \n",
       "elasticnet_cv_each_disease_versus_healthy.decis...   0.767 +/- 0.029 (in 3 folds)   \n",
       "dummy_stratified.decision_thresholds_tuned           0.512 +/- 0.007 (in 3 folds)   \n",
       "dummy_stratified                                     0.512 +/- 0.007 (in 3 folds)   \n",
       "dummy_most_frequent.decision_thresholds_tuned        0.500 +/- 0.000 (in 3 folds)   \n",
       "dummy_most_frequent                                  0.500 +/- 0.000 (in 3 folds)   \n",
       "\n",
       "                                                     au-PRC (macro OvO) per fold  \\\n",
       "lasso_cv                                            0.821 +/- 0.016 (in 3 folds)   \n",
       "lasso_cv.decision_thresholds_tuned                  0.821 +/- 0.016 (in 3 folds)   \n",
       "linearsvm_ovr.decision_thresholds_tuned             0.814 +/- 0.009 (in 3 folds)   \n",
       "linearsvm_ovr                                       0.814 +/- 0.009 (in 3 folds)   \n",
       "elasticnet_cv0.25                                   0.813 +/- 0.023 (in 3 folds)   \n",
       "elasticnet_cv0.25.decision_thresholds_tuned         0.813 +/- 0.023 (in 3 folds)   \n",
       "xgboost.decision_thresholds_tuned                   0.812 +/- 0.013 (in 3 folds)   \n",
       "xgboost                                             0.812 +/- 0.013 (in 3 folds)   \n",
       "elasticnet_cv                                       0.812 +/- 0.024 (in 3 folds)   \n",
       "elasticnet_cv.decision_thresholds_tuned             0.812 +/- 0.024 (in 3 folds)   \n",
       "logisticregression_unregularized                    0.812 +/- 0.022 (in 3 folds)   \n",
       "logisticregression_unregularized.decision_thres...  0.812 +/- 0.022 (in 3 folds)   \n",
       "elasticnet_cv0.75                                   0.812 +/- 0.025 (in 3 folds)   \n",
       "elasticnet_cv0.75.decision_thresholds_tuned         0.812 +/- 0.025 (in 3 folds)   \n",
       "ridge_cv                                            0.794 +/- 0.027 (in 3 folds)   \n",
       "ridge_cv.decision_thresholds_tuned                  0.794 +/- 0.027 (in 3 folds)   \n",
       "rf_multiclass                                       0.801 +/- 0.023 (in 3 folds)   \n",
       "rf_multiclass.decision_thresholds_tuned             0.801 +/- 0.023 (in 3 folds)   \n",
       "elasticnet_cv_each_disease_versus_healthy           0.782 +/- 0.039 (in 3 folds)   \n",
       "elasticnet_cv_each_disease_versus_healthy.decis...  0.782 +/- 0.039 (in 3 folds)   \n",
       "dummy_stratified.decision_thresholds_tuned          0.513 +/- 0.011 (in 3 folds)   \n",
       "dummy_stratified                                    0.513 +/- 0.011 (in 3 folds)   \n",
       "dummy_most_frequent.decision_thresholds_tuned       0.500 +/- 0.000 (in 3 folds)   \n",
       "dummy_most_frequent                                 0.500 +/- 0.000 (in 3 folds)   \n",
       "\n",
       "                                                               Accuracy per fold  \\\n",
       "lasso_cv                                            0.507 +/- 0.017 (in 3 folds)   \n",
       "lasso_cv.decision_thresholds_tuned                  0.518 +/- 0.049 (in 3 folds)   \n",
       "linearsvm_ovr.decision_thresholds_tuned             0.489 +/- 0.016 (in 3 folds)   \n",
       "linearsvm_ovr                                       0.502 +/- 0.030 (in 3 folds)   \n",
       "elasticnet_cv0.25                                   0.493 +/- 0.022 (in 3 folds)   \n",
       "elasticnet_cv0.25.decision_thresholds_tuned         0.484 +/- 0.033 (in 3 folds)   \n",
       "xgboost.decision_thresholds_tuned                   0.522 +/- 0.019 (in 3 folds)   \n",
       "xgboost                                             0.527 +/- 0.021 (in 3 folds)   \n",
       "elasticnet_cv                                       0.491 +/- 0.016 (in 3 folds)   \n",
       "elasticnet_cv.decision_thresholds_tuned             0.480 +/- 0.028 (in 3 folds)   \n",
       "logisticregression_unregularized                    0.527 +/- 0.024 (in 3 folds)   \n",
       "logisticregression_unregularized.decision_thres...  0.544 +/- 0.014 (in 3 folds)   \n",
       "elasticnet_cv0.75                                   0.487 +/- 0.008 (in 3 folds)   \n",
       "elasticnet_cv0.75.decision_thresholds_tuned         0.487 +/- 0.036 (in 3 folds)   \n",
       "ridge_cv                                            0.462 +/- 0.005 (in 3 folds)   \n",
       "ridge_cv.decision_thresholds_tuned                  0.474 +/- 0.032 (in 3 folds)   \n",
       "rf_multiclass                                       0.540 +/- 0.017 (in 3 folds)   \n",
       "rf_multiclass.decision_thresholds_tuned             0.524 +/- 0.022 (in 3 folds)   \n",
       "elasticnet_cv_each_disease_versus_healthy           0.308 +/- 0.044 (in 3 folds)   \n",
       "elasticnet_cv_each_disease_versus_healthy.decis...  0.370 +/- 0.071 (in 3 folds)   \n",
       "dummy_stratified.decision_thresholds_tuned          0.209 +/- 0.007 (in 3 folds)   \n",
       "dummy_stratified                                    0.209 +/- 0.007 (in 3 folds)   \n",
       "dummy_most_frequent.decision_thresholds_tuned       0.361 +/- 0.006 (in 3 folds)   \n",
       "dummy_most_frequent                                 0.361 +/- 0.006 (in 3 folds)   \n",
       "\n",
       "                                                                    MCC per fold  \\\n",
       "lasso_cv                                            0.378 +/- 0.012 (in 3 folds)   \n",
       "lasso_cv.decision_thresholds_tuned                  0.400 +/- 0.034 (in 3 folds)   \n",
       "linearsvm_ovr.decision_thresholds_tuned             0.363 +/- 0.015 (in 3 folds)   \n",
       "linearsvm_ovr                                       0.365 +/- 0.028 (in 3 folds)   \n",
       "elasticnet_cv0.25                                   0.369 +/- 0.029 (in 3 folds)   \n",
       "elasticnet_cv0.25.decision_thresholds_tuned         0.348 +/- 0.040 (in 3 folds)   \n",
       "xgboost.decision_thresholds_tuned                   0.397 +/- 0.029 (in 3 folds)   \n",
       "xgboost                                             0.397 +/- 0.022 (in 3 folds)   \n",
       "elasticnet_cv                                       0.366 +/- 0.024 (in 3 folds)   \n",
       "elasticnet_cv.decision_thresholds_tuned             0.353 +/- 0.014 (in 3 folds)   \n",
       "logisticregression_unregularized                    0.395 +/- 0.035 (in 3 folds)   \n",
       "logisticregression_unregularized.decision_thres...  0.421 +/- 0.021 (in 3 folds)   \n",
       "elasticnet_cv0.75                                   0.361 +/- 0.017 (in 3 folds)   \n",
       "elasticnet_cv0.75.decision_thresholds_tuned         0.353 +/- 0.030 (in 3 folds)   \n",
       "ridge_cv                                            0.354 +/- 0.023 (in 3 folds)   \n",
       "ridge_cv.decision_thresholds_tuned                  0.340 +/- 0.046 (in 3 folds)   \n",
       "rf_multiclass                                       0.406 +/- 0.023 (in 3 folds)   \n",
       "rf_multiclass.decision_thresholds_tuned             0.389 +/- 0.019 (in 3 folds)   \n",
       "elasticnet_cv_each_disease_versus_healthy           0.242 +/- 0.047 (in 3 folds)   \n",
       "elasticnet_cv_each_disease_versus_healthy.decis...  0.317 +/- 0.091 (in 3 folds)   \n",
       "dummy_stratified.decision_thresholds_tuned          0.013 +/- 0.007 (in 3 folds)   \n",
       "dummy_stratified                                    0.013 +/- 0.007 (in 3 folds)   \n",
       "dummy_most_frequent.decision_thresholds_tuned       0.000 +/- 0.000 (in 3 folds)   \n",
       "dummy_most_frequent                                 0.000 +/- 0.000 (in 3 folds)   \n",
       "\n",
       "                                                   Accuracy global MCC global  \\\n",
       "lasso_cv                                                     0.507      0.375   \n",
       "lasso_cv.decision_thresholds_tuned                           0.518      0.392   \n",
       "linearsvm_ovr.decision_thresholds_tuned                      0.489      0.340   \n",
       "linearsvm_ovr                                                0.502      0.361   \n",
       "elasticnet_cv0.25                                            0.493      0.367   \n",
       "elasticnet_cv0.25.decision_thresholds_tuned                  0.484      0.341   \n",
       "xgboost.decision_thresholds_tuned                            0.522      0.389   \n",
       "xgboost                                                      0.527      0.396   \n",
       "elasticnet_cv                                                0.491      0.365   \n",
       "elasticnet_cv.decision_thresholds_tuned                      0.480      0.347   \n",
       "logisticregression_unregularized                             0.527      0.394   \n",
       "logisticregression_unregularized.decision_thres...           0.544      0.420   \n",
       "elasticnet_cv0.75                                            0.487      0.359   \n",
       "elasticnet_cv0.75.decision_thresholds_tuned                  0.487      0.346   \n",
       "ridge_cv                                                     0.462      0.347   \n",
       "ridge_cv.decision_thresholds_tuned                           0.474      0.334   \n",
       "rf_multiclass                                                0.540      0.404   \n",
       "rf_multiclass.decision_thresholds_tuned                      0.524      0.378   \n",
       "elasticnet_cv_each_disease_versus_healthy                    0.307      0.220   \n",
       "elasticnet_cv_each_disease_versus_healthy.decis...           0.369      0.292   \n",
       "dummy_stratified.decision_thresholds_tuned                   0.209      0.013   \n",
       "dummy_stratified                                             0.209      0.013   \n",
       "dummy_most_frequent.decision_thresholds_tuned                0.361      0.000   \n",
       "dummy_most_frequent                                          0.361      0.000   \n",
       "\n",
       "                                                   Global evaluation column name global  \\\n",
       "lasso_cv                                                disease.separate_past_exposures   \n",
       "lasso_cv.decision_thresholds_tuned                      disease.separate_past_exposures   \n",
       "linearsvm_ovr.decision_thresholds_tuned                 disease.separate_past_exposures   \n",
       "linearsvm_ovr                                           disease.separate_past_exposures   \n",
       "elasticnet_cv0.25                                       disease.separate_past_exposures   \n",
       "elasticnet_cv0.25.decision_thresholds_tuned             disease.separate_past_exposures   \n",
       "xgboost.decision_thresholds_tuned                       disease.separate_past_exposures   \n",
       "xgboost                                                 disease.separate_past_exposures   \n",
       "elasticnet_cv                                           disease.separate_past_exposures   \n",
       "elasticnet_cv.decision_thresholds_tuned                 disease.separate_past_exposures   \n",
       "logisticregression_unregularized                        disease.separate_past_exposures   \n",
       "logisticregression_unregularized.decision_thres...      disease.separate_past_exposures   \n",
       "elasticnet_cv0.75                                       disease.separate_past_exposures   \n",
       "elasticnet_cv0.75.decision_thresholds_tuned             disease.separate_past_exposures   \n",
       "ridge_cv                                                disease.separate_past_exposures   \n",
       "ridge_cv.decision_thresholds_tuned                      disease.separate_past_exposures   \n",
       "rf_multiclass                                           disease.separate_past_exposures   \n",
       "rf_multiclass.decision_thresholds_tuned                 disease.separate_past_exposures   \n",
       "elasticnet_cv_each_disease_versus_healthy               disease.separate_past_exposures   \n",
       "elasticnet_cv_each_disease_versus_healthy.decis...      disease.separate_past_exposures   \n",
       "dummy_stratified.decision_thresholds_tuned              disease.separate_past_exposures   \n",
       "dummy_stratified                                        disease.separate_past_exposures   \n",
       "dummy_most_frequent.decision_thresholds_tuned           disease.separate_past_exposures   \n",
       "dummy_most_frequent                                     disease.separate_past_exposures   \n",
       "\n",
       "                                                   Accuracy per fold with abstention  \\\n",
       "lasso_cv                                                0.505 +/- 0.019 (in 3 folds)   \n",
       "lasso_cv.decision_thresholds_tuned                      0.516 +/- 0.051 (in 3 folds)   \n",
       "linearsvm_ovr.decision_thresholds_tuned                 0.487 +/- 0.019 (in 3 folds)   \n",
       "linearsvm_ovr                                           0.500 +/- 0.032 (in 3 folds)   \n",
       "elasticnet_cv0.25                                       0.491 +/- 0.020 (in 3 folds)   \n",
       "elasticnet_cv0.25.decision_thresholds_tuned             0.482 +/- 0.035 (in 3 folds)   \n",
       "xgboost.decision_thresholds_tuned                       0.518 +/- 0.024 (in 3 folds)   \n",
       "xgboost                                                 0.523 +/- 0.022 (in 3 folds)   \n",
       "elasticnet_cv                                           0.489 +/- 0.014 (in 3 folds)   \n",
       "elasticnet_cv.decision_thresholds_tuned                 0.478 +/- 0.030 (in 3 folds)   \n",
       "logisticregression_unregularized                                                 NaN   \n",
       "logisticregression_unregularized.decision_thres...                               NaN   \n",
       "elasticnet_cv0.75                                       0.486 +/- 0.008 (in 3 folds)   \n",
       "elasticnet_cv0.75.decision_thresholds_tuned             0.486 +/- 0.038 (in 3 folds)   \n",
       "ridge_cv                                                0.458 +/- 0.003 (in 3 folds)   \n",
       "ridge_cv.decision_thresholds_tuned                      0.471 +/- 0.037 (in 3 folds)   \n",
       "rf_multiclass                                           0.536 +/- 0.012 (in 3 folds)   \n",
       "rf_multiclass.decision_thresholds_tuned                 0.520 +/- 0.025 (in 3 folds)   \n",
       "elasticnet_cv_each_disease_versus_healthy                                        NaN   \n",
       "elasticnet_cv_each_disease_versus_healthy.decis...                               NaN   \n",
       "dummy_stratified.decision_thresholds_tuned                                       NaN   \n",
       "dummy_stratified                                                                 NaN   \n",
       "dummy_most_frequent.decision_thresholds_tuned           0.358 +/- 0.003 (in 3 folds)   \n",
       "dummy_most_frequent                                     0.358 +/- 0.003 (in 3 folds)   \n",
       "\n",
       "                                                    ...  \\\n",
       "lasso_cv                                            ...   \n",
       "lasso_cv.decision_thresholds_tuned                  ...   \n",
       "linearsvm_ovr.decision_thresholds_tuned             ...   \n",
       "linearsvm_ovr                                       ...   \n",
       "elasticnet_cv0.25                                   ...   \n",
       "elasticnet_cv0.25.decision_thresholds_tuned         ...   \n",
       "xgboost.decision_thresholds_tuned                   ...   \n",
       "xgboost                                             ...   \n",
       "elasticnet_cv                                       ...   \n",
       "elasticnet_cv.decision_thresholds_tuned             ...   \n",
       "logisticregression_unregularized                    ...   \n",
       "logisticregression_unregularized.decision_thres...  ...   \n",
       "elasticnet_cv0.75                                   ...   \n",
       "elasticnet_cv0.75.decision_thresholds_tuned         ...   \n",
       "ridge_cv                                            ...   \n",
       "ridge_cv.decision_thresholds_tuned                  ...   \n",
       "rf_multiclass                                       ...   \n",
       "rf_multiclass.decision_thresholds_tuned             ...   \n",
       "elasticnet_cv_each_disease_versus_healthy           ...   \n",
       "elasticnet_cv_each_disease_versus_healthy.decis...  ...   \n",
       "dummy_stratified.decision_thresholds_tuned          ...   \n",
       "dummy_stratified                                    ...   \n",
       "dummy_most_frequent.decision_thresholds_tuned       ...   \n",
       "dummy_most_frequent                                 ...   \n",
       "\n",
       "                                                   Accuracy global with abstention  \\\n",
       "lasso_cv                                                                     0.505   \n",
       "lasso_cv.decision_thresholds_tuned                                           0.516   \n",
       "linearsvm_ovr.decision_thresholds_tuned                                      0.487   \n",
       "linearsvm_ovr                                                                0.500   \n",
       "elasticnet_cv0.25                                                            0.491   \n",
       "elasticnet_cv0.25.decision_thresholds_tuned                                  0.482   \n",
       "xgboost.decision_thresholds_tuned                                            0.518   \n",
       "xgboost                                                                      0.524   \n",
       "elasticnet_cv                                                                0.489   \n",
       "elasticnet_cv.decision_thresholds_tuned                                      0.478   \n",
       "logisticregression_unregularized                                               NaN   \n",
       "logisticregression_unregularized.decision_thres...                             NaN   \n",
       "elasticnet_cv0.75                                                            0.485   \n",
       "elasticnet_cv0.75.decision_thresholds_tuned                                  0.485   \n",
       "ridge_cv                                                                     0.458   \n",
       "ridge_cv.decision_thresholds_tuned                                           0.471   \n",
       "rf_multiclass                                                                0.536   \n",
       "rf_multiclass.decision_thresholds_tuned                                      0.520   \n",
       "elasticnet_cv_each_disease_versus_healthy                                      NaN   \n",
       "elasticnet_cv_each_disease_versus_healthy.decis...                             NaN   \n",
       "dummy_stratified.decision_thresholds_tuned                                     NaN   \n",
       "dummy_stratified                                                               NaN   \n",
       "dummy_most_frequent.decision_thresholds_tuned                                0.358   \n",
       "dummy_most_frequent                                                          0.358   \n",
       "\n",
       "                                                   MCC global with abstention  \\\n",
       "lasso_cv                                                                0.374   \n",
       "lasso_cv.decision_thresholds_tuned                                      0.390   \n",
       "linearsvm_ovr.decision_thresholds_tuned                                 0.338   \n",
       "linearsvm_ovr                                                           0.360   \n",
       "elasticnet_cv0.25                                                       0.365   \n",
       "elasticnet_cv0.25.decision_thresholds_tuned                             0.339   \n",
       "xgboost.decision_thresholds_tuned                                       0.386   \n",
       "xgboost                                                                 0.393   \n",
       "elasticnet_cv                                                           0.363   \n",
       "elasticnet_cv.decision_thresholds_tuned                                 0.345   \n",
       "logisticregression_unregularized                                          NaN   \n",
       "logisticregression_unregularized.decision_thres...                        NaN   \n",
       "elasticnet_cv0.75                                                       0.358   \n",
       "elasticnet_cv0.75.decision_thresholds_tuned                             0.344   \n",
       "ridge_cv                                                                0.343   \n",
       "ridge_cv.decision_thresholds_tuned                                      0.331   \n",
       "rf_multiclass                                                           0.400   \n",
       "rf_multiclass.decision_thresholds_tuned                                 0.375   \n",
       "elasticnet_cv_each_disease_versus_healthy                                 NaN   \n",
       "elasticnet_cv_each_disease_versus_healthy.decis...                        NaN   \n",
       "dummy_stratified.decision_thresholds_tuned                                NaN   \n",
       "dummy_stratified                                                          NaN   \n",
       "dummy_most_frequent.decision_thresholds_tuned                           0.025   \n",
       "dummy_most_frequent                                                     0.025   \n",
       "\n",
       "                                                   Unknown/abstention proportion global with abstention  \\\n",
       "lasso_cv                                                                                        0.004     \n",
       "lasso_cv.decision_thresholds_tuned                                                              0.004     \n",
       "linearsvm_ovr.decision_thresholds_tuned                                                         0.004     \n",
       "linearsvm_ovr                                                                                   0.004     \n",
       "elasticnet_cv0.25                                                                               0.004     \n",
       "elasticnet_cv0.25.decision_thresholds_tuned                                                     0.004     \n",
       "xgboost.decision_thresholds_tuned                                                               0.007     \n",
       "xgboost                                                                                         0.007     \n",
       "elasticnet_cv                                                                                   0.004     \n",
       "elasticnet_cv.decision_thresholds_tuned                                                         0.004     \n",
       "logisticregression_unregularized                                                                  NaN     \n",
       "logisticregression_unregularized.decision_thres...                                                NaN     \n",
       "elasticnet_cv0.75                                                                               0.004     \n",
       "elasticnet_cv0.75.decision_thresholds_tuned                                                     0.004     \n",
       "ridge_cv                                                                                        0.007     \n",
       "ridge_cv.decision_thresholds_tuned                                                              0.007     \n",
       "rf_multiclass                                                                                   0.007     \n",
       "rf_multiclass.decision_thresholds_tuned                                                         0.007     \n",
       "elasticnet_cv_each_disease_versus_healthy                                                         NaN     \n",
       "elasticnet_cv_each_disease_versus_healthy.decis...                                                NaN     \n",
       "dummy_stratified.decision_thresholds_tuned                                                        NaN     \n",
       "dummy_stratified                                                                                  NaN     \n",
       "dummy_most_frequent.decision_thresholds_tuned                                                   0.007     \n",
       "dummy_most_frequent                                                                             0.007     \n",
       "\n",
       "                                                   Abstention label global with abstention  \\\n",
       "lasso_cv                                                                           Unknown   \n",
       "lasso_cv.decision_thresholds_tuned                                                 Unknown   \n",
       "linearsvm_ovr.decision_thresholds_tuned                                            Unknown   \n",
       "linearsvm_ovr                                                                      Unknown   \n",
       "elasticnet_cv0.25                                                                  Unknown   \n",
       "elasticnet_cv0.25.decision_thresholds_tuned                                        Unknown   \n",
       "xgboost.decision_thresholds_tuned                                                  Unknown   \n",
       "xgboost                                                                            Unknown   \n",
       "elasticnet_cv                                                                      Unknown   \n",
       "elasticnet_cv.decision_thresholds_tuned                                            Unknown   \n",
       "logisticregression_unregularized                                                       NaN   \n",
       "logisticregression_unregularized.decision_thres...                                     NaN   \n",
       "elasticnet_cv0.75                                                                  Unknown   \n",
       "elasticnet_cv0.75.decision_thresholds_tuned                                        Unknown   \n",
       "ridge_cv                                                                           Unknown   \n",
       "ridge_cv.decision_thresholds_tuned                                                 Unknown   \n",
       "rf_multiclass                                                                      Unknown   \n",
       "rf_multiclass.decision_thresholds_tuned                                            Unknown   \n",
       "elasticnet_cv_each_disease_versus_healthy                                              NaN   \n",
       "elasticnet_cv_each_disease_versus_healthy.decis...                                     NaN   \n",
       "dummy_stratified.decision_thresholds_tuned                                             NaN   \n",
       "dummy_stratified                                                                       NaN   \n",
       "dummy_most_frequent.decision_thresholds_tuned                                      Unknown   \n",
       "dummy_most_frequent                                                                Unknown   \n",
       "\n",
       "                                                   Global evaluation column name global with abstention  \\\n",
       "lasso_cv                                                              disease.separate_past_exposures     \n",
       "lasso_cv.decision_thresholds_tuned                                    disease.separate_past_exposures     \n",
       "linearsvm_ovr.decision_thresholds_tuned                               disease.separate_past_exposures     \n",
       "linearsvm_ovr                                                         disease.separate_past_exposures     \n",
       "elasticnet_cv0.25                                                     disease.separate_past_exposures     \n",
       "elasticnet_cv0.25.decision_thresholds_tuned                           disease.separate_past_exposures     \n",
       "xgboost.decision_thresholds_tuned                                     disease.separate_past_exposures     \n",
       "xgboost                                                               disease.separate_past_exposures     \n",
       "elasticnet_cv                                                         disease.separate_past_exposures     \n",
       "elasticnet_cv.decision_thresholds_tuned                               disease.separate_past_exposures     \n",
       "logisticregression_unregularized                                                                  NaN     \n",
       "logisticregression_unregularized.decision_thres...                                                NaN     \n",
       "elasticnet_cv0.75                                                     disease.separate_past_exposures     \n",
       "elasticnet_cv0.75.decision_thresholds_tuned                           disease.separate_past_exposures     \n",
       "ridge_cv                                                              disease.separate_past_exposures     \n",
       "ridge_cv.decision_thresholds_tuned                                    disease.separate_past_exposures     \n",
       "rf_multiclass                                                         disease.separate_past_exposures     \n",
       "rf_multiclass.decision_thresholds_tuned                               disease.separate_past_exposures     \n",
       "elasticnet_cv_each_disease_versus_healthy                                                         NaN     \n",
       "elasticnet_cv_each_disease_versus_healthy.decis...                                                NaN     \n",
       "dummy_stratified.decision_thresholds_tuned                                                        NaN     \n",
       "dummy_stratified                                                                                  NaN     \n",
       "dummy_most_frequent.decision_thresholds_tuned                         disease.separate_past_exposures     \n",
       "dummy_most_frequent                                                   disease.separate_past_exposures     \n",
       "\n",
       "                                                   sample_size n_abstentions  \\\n",
       "lasso_cv                                                   548             2   \n",
       "lasso_cv.decision_thresholds_tuned                         548             2   \n",
       "linearsvm_ovr.decision_thresholds_tuned                    548             2   \n",
       "linearsvm_ovr                                              548             2   \n",
       "elasticnet_cv0.25                                          548             2   \n",
       "elasticnet_cv0.25.decision_thresholds_tuned                548             2   \n",
       "xgboost.decision_thresholds_tuned                          546             4   \n",
       "xgboost                                                    546             4   \n",
       "elasticnet_cv                                              548             2   \n",
       "elasticnet_cv.decision_thresholds_tuned                    548             2   \n",
       "logisticregression_unregularized                           550             0   \n",
       "logisticregression_unregularized.decision_thres...         550             0   \n",
       "elasticnet_cv0.75                                          548             2   \n",
       "elasticnet_cv0.75.decision_thresholds_tuned                548             2   \n",
       "ridge_cv                                                   546             4   \n",
       "ridge_cv.decision_thresholds_tuned                         546             4   \n",
       "rf_multiclass                                              546             4   \n",
       "rf_multiclass.decision_thresholds_tuned                    546             4   \n",
       "elasticnet_cv_each_disease_versus_healthy                  550             0   \n",
       "elasticnet_cv_each_disease_versus_healthy.decis...         550             0   \n",
       "dummy_stratified.decision_thresholds_tuned                 550             0   \n",
       "dummy_stratified                                           550             0   \n",
       "dummy_most_frequent.decision_thresholds_tuned              546             4   \n",
       "dummy_most_frequent                                        546             4   \n",
       "\n",
       "                                                    sample_size including abstentions  \\\n",
       "lasso_cv                                                                          550   \n",
       "lasso_cv.decision_thresholds_tuned                                                550   \n",
       "linearsvm_ovr.decision_thresholds_tuned                                           550   \n",
       "linearsvm_ovr                                                                     550   \n",
       "elasticnet_cv0.25                                                                 550   \n",
       "elasticnet_cv0.25.decision_thresholds_tuned                                       550   \n",
       "xgboost.decision_thresholds_tuned                                                 550   \n",
       "xgboost                                                                           550   \n",
       "elasticnet_cv                                                                     550   \n",
       "elasticnet_cv.decision_thresholds_tuned                                           550   \n",
       "logisticregression_unregularized                                                  550   \n",
       "logisticregression_unregularized.decision_thres...                                550   \n",
       "elasticnet_cv0.75                                                                 550   \n",
       "elasticnet_cv0.75.decision_thresholds_tuned                                       550   \n",
       "ridge_cv                                                                          550   \n",
       "ridge_cv.decision_thresholds_tuned                                                550   \n",
       "rf_multiclass                                                                     550   \n",
       "rf_multiclass.decision_thresholds_tuned                                           550   \n",
       "elasticnet_cv_each_disease_versus_healthy                                         550   \n",
       "elasticnet_cv_each_disease_versus_healthy.decis...                                550   \n",
       "dummy_stratified.decision_thresholds_tuned                                        550   \n",
       "dummy_stratified                                                                  550   \n",
       "dummy_most_frequent.decision_thresholds_tuned                                     550   \n",
       "dummy_most_frequent                                                               550   \n",
       "\n",
       "                                                    abstention_rate  \\\n",
       "lasso_cv                                                   0.003636   \n",
       "lasso_cv.decision_thresholds_tuned                         0.003636   \n",
       "linearsvm_ovr.decision_thresholds_tuned                    0.003636   \n",
       "linearsvm_ovr                                              0.003636   \n",
       "elasticnet_cv0.25                                          0.003636   \n",
       "elasticnet_cv0.25.decision_thresholds_tuned                0.003636   \n",
       "xgboost.decision_thresholds_tuned                          0.007273   \n",
       "xgboost                                                    0.007273   \n",
       "elasticnet_cv                                              0.003636   \n",
       "elasticnet_cv.decision_thresholds_tuned                    0.003636   \n",
       "logisticregression_unregularized                           0.000000   \n",
       "logisticregression_unregularized.decision_thres...         0.000000   \n",
       "elasticnet_cv0.75                                          0.003636   \n",
       "elasticnet_cv0.75.decision_thresholds_tuned                0.003636   \n",
       "ridge_cv                                                   0.007273   \n",
       "ridge_cv.decision_thresholds_tuned                         0.007273   \n",
       "rf_multiclass                                              0.007273   \n",
       "rf_multiclass.decision_thresholds_tuned                    0.007273   \n",
       "elasticnet_cv_each_disease_versus_healthy                  0.000000   \n",
       "elasticnet_cv_each_disease_versus_healthy.decis...         0.000000   \n",
       "dummy_stratified.decision_thresholds_tuned                 0.000000   \n",
       "dummy_stratified                                           0.000000   \n",
       "dummy_most_frequent.decision_thresholds_tuned              0.007273   \n",
       "dummy_most_frequent                                        0.007273   \n",
       "\n",
       "                                                    missing_classes  \n",
       "lasso_cv                                                      False  \n",
       "lasso_cv.decision_thresholds_tuned                            False  \n",
       "linearsvm_ovr.decision_thresholds_tuned                       False  \n",
       "linearsvm_ovr                                                 False  \n",
       "elasticnet_cv0.25                                             False  \n",
       "elasticnet_cv0.25.decision_thresholds_tuned                   False  \n",
       "xgboost.decision_thresholds_tuned                             False  \n",
       "xgboost                                                       False  \n",
       "elasticnet_cv                                                 False  \n",
       "elasticnet_cv.decision_thresholds_tuned                       False  \n",
       "logisticregression_unregularized                              False  \n",
       "logisticregression_unregularized.decision_thres...            False  \n",
       "elasticnet_cv0.75                                             False  \n",
       "elasticnet_cv0.75.decision_thresholds_tuned                   False  \n",
       "ridge_cv                                                      False  \n",
       "ridge_cv.decision_thresholds_tuned                            False  \n",
       "rf_multiclass                                                 False  \n",
       "rf_multiclass.decision_thresholds_tuned                       False  \n",
       "elasticnet_cv_each_disease_versus_healthy                      True  \n",
       "elasticnet_cv_each_disease_versus_healthy.decis...             True  \n",
       "dummy_stratified.decision_thresholds_tuned                    False  \n",
       "dummy_stratified                                              False  \n",
       "dummy_most_frequent.decision_thresholds_tuned                  True  \n",
       "dummy_most_frequent                                            True  \n",
       "\n",
       "[24 rows x 22 columns]"
      ]
     },
     "metadata": {},
     "output_type": "display_data"
    },
    {
     "name": "stdout",
     "output_type": "stream",
     "text": [
      "/home/maxim/code/immune-repertoire-classification/out/in_house_peak_disease_timepoints/convergent_clusters/TCR/disease/train_smaller1_model.compare_model_scores.test_set_performance.tsv\n"
     ]
    }
   ],
   "source": [
    "for gene_locus in config.gene_loci_used:\n",
    "    map_targets_to_output_dir = {\n",
    "        target_obs_column: ConvergentClusterClassifier._get_output_base_dir(\n",
    "            gene_locus=gene_locus,\n",
    "            target_obs_column=target_obs_column,\n",
    "        )  # output base dir should already exist\n",
    "        for target_obs_column in config.classification_targets\n",
    "    }\n",
    "    print(gene_locus)\n",
    "\n",
    "    # This will run an evaluation on the validation set too:\n",
    "    clfs = tune_on_validation_set(\n",
    "        gene_locus=gene_locus,\n",
    "        targets=map_targets_to_output_dir,\n",
    "        model_names=config.model_names_to_train,\n",
    "        model_class=ConvergentClusterClassifier,\n",
    "        fold_label_train=\"train_smaller1\",\n",
    "        # Model 2 does not require the embedding .X, so take the fast path and just load .obs:\n",
    "        load_obs_only=True,\n",
    "    )\n",
    "\n",
    "    evaluate_original_and_tuned_on_test_set(\n",
    "        clfs=clfs,\n",
    "        gene_locus=gene_locus,\n",
    "        targets=map_targets_to_output_dir,\n",
    "        fold_label_train=\"train_smaller1\",\n",
    "        # Model 2 does not require the embedding .X, so take the fast path and just load .obs:\n",
    "        load_obs_only=True,\n",
    "    )"
   ]
  },
  {
   "cell_type": "code",
   "execution_count": null,
   "id": "7d49a79c",
   "metadata": {},
   "outputs": [],
   "source": []
  }
 ],
 "metadata": {
  "jupytext": {
   "cell_metadata_filter": "-all"
  },
  "kernelspec": {
   "display_name": "py39-cuda-env",
   "language": "python",
   "name": "py39-cuda-env"
  },
  "language_info": {
   "codemirror_mode": {
    "name": "ipython",
    "version": 3
   },
   "file_extension": ".py",
   "mimetype": "text/x-python",
   "name": "python",
   "nbconvert_exporter": "python",
   "pygments_lexer": "ipython3",
   "version": "3.9.16"
  }
 },
 "nbformat": 4,
 "nbformat_minor": 5
}
