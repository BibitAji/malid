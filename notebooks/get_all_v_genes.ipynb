{
 "cells": [
  {
   "cell_type": "markdown",
   "metadata": {},
   "source": [
    "# Get all V genes and decide on an order of them. Also get all J genes."
   ]
  },
  {
   "cell_type": "code",
   "execution_count": null,
   "metadata": {
    "execution": {
     "iopub.execute_input": "2023-12-15T16:50:56.309235Z",
     "iopub.status.busy": "2023-12-15T16:50:56.308946Z",
     "iopub.status.idle": "2023-12-15T16:50:59.291352Z",
     "shell.execute_reply": "2023-12-15T16:50:59.290736Z"
    }
   },
   "outputs": [],
   "source": [
    "import numpy as np\n",
    "import matplotlib.pyplot as plt\n",
    "import genetools\n",
    "import seaborn as sns\n",
    "\n",
    "sns.set_style(\"dark\")"
   ]
  },
  {
   "cell_type": "code",
   "execution_count": null,
   "metadata": {
    "execution": {
     "iopub.execute_input": "2023-12-15T16:50:59.293945Z",
     "iopub.status.busy": "2023-12-15T16:50:59.293649Z",
     "iopub.status.idle": "2023-12-15T16:50:59.296400Z",
     "shell.execute_reply": "2023-12-15T16:50:59.295934Z"
    }
   },
   "outputs": [],
   "source": [
    "import pandas as pd"
   ]
  },
  {
   "cell_type": "code",
   "execution_count": null,
   "metadata": {
    "execution": {
     "iopub.execute_input": "2023-12-15T16:50:59.298319Z",
     "iopub.status.busy": "2023-12-15T16:50:59.297917Z",
     "iopub.status.idle": "2023-12-15T16:51:00.009346Z",
     "shell.execute_reply": "2023-12-15T16:51:00.008816Z"
    }
   },
   "outputs": [],
   "source": [
    "import dask\n",
    "import dask.dataframe as dd"
   ]
  },
  {
   "cell_type": "code",
   "execution_count": null,
   "metadata": {
    "execution": {
     "iopub.execute_input": "2023-12-15T16:51:00.011808Z",
     "iopub.status.busy": "2023-12-15T16:51:00.011397Z",
     "iopub.status.idle": "2023-12-15T16:51:00.013958Z",
     "shell.execute_reply": "2023-12-15T16:51:00.013504Z"
    }
   },
   "outputs": [],
   "source": [
    "import os"
   ]
  },
  {
   "cell_type": "code",
   "execution_count": null,
   "metadata": {
    "execution": {
     "iopub.execute_input": "2023-12-15T16:51:00.015757Z",
     "iopub.status.busy": "2023-12-15T16:51:00.015380Z",
     "iopub.status.idle": "2023-12-15T16:51:02.240767Z",
     "shell.execute_reply": "2023-12-15T16:51:02.239575Z"
    }
   },
   "outputs": [],
   "source": [
    "from malid import config, helpers"
   ]
  },
  {
   "cell_type": "code",
   "execution_count": null,
   "metadata": {},
   "outputs": [],
   "source": []
  },
  {
   "cell_type": "markdown",
   "metadata": {},
   "source": [
    "Raise worker connection timeouts (see other dask notebooks):"
   ]
  },
  {
   "cell_type": "code",
   "execution_count": null,
   "metadata": {
    "execution": {
     "iopub.execute_input": "2023-12-15T16:51:02.244391Z",
     "iopub.status.busy": "2023-12-15T16:51:02.243453Z",
     "iopub.status.idle": "2023-12-15T16:51:02.626568Z",
     "shell.execute_reply": "2023-12-15T16:51:02.625827Z"
    }
   },
   "outputs": [],
   "source": [
    "import distributed\n",
    "\n",
    "# These only seem to be picked up by scheduler, not by individual workers\n",
    "\n",
    "dask.config.set(\n",
    "    {\n",
    "        \"distributed.comm.timeouts.tcp\": \"120s\",\n",
    "        \"distributed.comm.timeouts.connect\": \"120s\",\n",
    "        \"distributed.comm.retry.count\": 5,\n",
    "    }\n",
    ")"
   ]
  },
  {
   "cell_type": "code",
   "execution_count": null,
   "metadata": {
    "execution": {
     "iopub.execute_input": "2023-12-15T16:51:02.629080Z",
     "iopub.status.busy": "2023-12-15T16:51:02.628435Z",
     "iopub.status.idle": "2023-12-15T16:51:02.635105Z",
     "shell.execute_reply": "2023-12-15T16:51:02.634453Z"
    }
   },
   "outputs": [],
   "source": [
    "# These will be picked up by individual workers\n",
    "\n",
    "with open(os.path.expandvars(\"$HOME/.config/dask/distributed.yaml\"), \"w\") as w:\n",
    "    w.write(\n",
    "        \"\"\"distributed:\n",
    "  comm:\n",
    "    retry:\n",
    "      count: 5\n",
    "    timeouts:\n",
    "      connect: 120s          # time before connecting fails\n",
    "      tcp: 120s              # time before calling an unresponsive connection dead\n",
    "    \"\"\"\n",
    "    )"
   ]
  },
  {
   "cell_type": "code",
   "execution_count": null,
   "metadata": {
    "execution": {
     "iopub.execute_input": "2023-12-15T16:51:02.637784Z",
     "iopub.status.busy": "2023-12-15T16:51:02.637225Z",
     "iopub.status.idle": "2023-12-15T16:51:05.990935Z",
     "shell.execute_reply": "2023-12-15T16:51:05.989870Z"
    }
   },
   "outputs": [],
   "source": [
    "from dask.distributed import Client\n",
    "\n",
    "# multi-processing backend\n",
    "# if already opened from another notebook, see https://stackoverflow.com/questions/60115736/dask-how-to-connect-to-running-cluster-scheduler-and-access-total-occupancy\n",
    "client = Client(\n",
    "    scheduler_port=config.dask_scheduler_port,\n",
    "    dashboard_address=config.dask_dashboard_address,\n",
    "    n_workers=config.dask_n_workers,\n",
    "    processes=True,\n",
    "    threads_per_worker=8,\n",
    "    memory_limit=\"auto\",\n",
    "    worker_dashboard_address=\":0\",  # start worker dashboards on random ports\n",
    ")\n",
    "display(client)\n",
    "# for debugging: client.restart()"
   ]
  },
  {
   "cell_type": "code",
   "execution_count": null,
   "metadata": {
    "execution": {
     "iopub.execute_input": "2023-12-15T16:51:05.994279Z",
     "iopub.status.busy": "2023-12-15T16:51:05.993138Z",
     "iopub.status.idle": "2023-12-15T16:51:06.003516Z",
     "shell.execute_reply": "2023-12-15T16:51:06.002818Z"
    }
   },
   "outputs": [],
   "source": [
    "desired_cols = [\"v_gene\", \"j_gene\", \"isotype_supergroup\"]"
   ]
  },
  {
   "cell_type": "code",
   "execution_count": null,
   "metadata": {
    "execution": {
     "iopub.execute_input": "2023-12-15T16:51:06.006412Z",
     "iopub.status.busy": "2023-12-15T16:51:06.005786Z",
     "iopub.status.idle": "2023-12-15T16:51:06.020124Z",
     "shell.execute_reply": "2023-12-15T16:51:06.019451Z"
    }
   },
   "outputs": [],
   "source": [
    "debug_filters = None\n",
    "# debug_filters = [(\"participant_label\", \"==\", \"BFI-0007450\")]"
   ]
  },
  {
   "cell_type": "code",
   "execution_count": null,
   "metadata": {
    "execution": {
     "iopub.execute_input": "2023-12-15T16:51:06.023030Z",
     "iopub.status.busy": "2023-12-15T16:51:06.022464Z",
     "iopub.status.idle": "2023-12-15T16:51:18.441093Z",
     "shell.execute_reply": "2023-12-15T16:51:18.439557Z"
    }
   },
   "outputs": [],
   "source": [
    "# Don't use fastparquet, because it changes specimen labels like M54-049 to 2049-01-01 00:00:54 -- i.e. it coerces partition names to numbers or dates\n",
    "df = dd.read_parquet(\n",
    "    config.paths.sequences,\n",
    "    columns=desired_cols,\n",
    "    filters=debug_filters,\n",
    "    engine=\"pyarrow\",\n",
    ")"
   ]
  },
  {
   "cell_type": "code",
   "execution_count": null,
   "metadata": {
    "execution": {
     "iopub.execute_input": "2023-12-15T16:51:18.445436Z",
     "iopub.status.busy": "2023-12-15T16:51:18.444511Z",
     "iopub.status.idle": "2023-12-15T16:51:18.464929Z",
     "shell.execute_reply": "2023-12-15T16:51:18.464521Z"
    }
   },
   "outputs": [],
   "source": [
    "df"
   ]
  },
  {
   "cell_type": "code",
   "execution_count": null,
   "metadata": {
    "execution": {
     "iopub.execute_input": "2023-12-15T16:51:18.466640Z",
     "iopub.status.busy": "2023-12-15T16:51:18.466373Z",
     "iopub.status.idle": "2023-12-15T16:51:45.309220Z",
     "shell.execute_reply": "2023-12-15T16:51:45.252829Z"
    },
    "tags": []
   },
   "outputs": [],
   "source": [
    "for gene_locus, isotype_groups in helpers.isotype_groups_kept.items():\n",
    "    # Not sure why this doesn't work:\n",
    "    # v_genes = df.loc[df[\"isotype_supergroup\"].compute().isin(isotype_groups)][\"v_gene\"].unique().compute().sort_values()\n",
    "\n",
    "    # Instead, here's a manual version using map_partitions:\n",
    "    v_gene_unique_lists = df.map_partitions(\n",
    "        lambda partdf: set(\n",
    "            partdf[partdf[\"isotype_supergroup\"].isin(isotype_groups)][\"v_gene\"].unique()\n",
    "        )\n",
    "    )\n",
    "    j_gene_unique_lists = df.map_partitions(\n",
    "        lambda partdf: set(\n",
    "            partdf[partdf[\"isotype_supergroup\"].isin(isotype_groups)][\"j_gene\"].unique()\n",
    "        )\n",
    "    )\n",
    "\n",
    "    # compute\n",
    "    v_gene_unique_lists, j_gene_unique_lists = dask.compute(\n",
    "        v_gene_unique_lists, j_gene_unique_lists\n",
    "    )\n",
    "\n",
    "    # extract\n",
    "    v_genes = pd.Series(\n",
    "        list(set.union(*(v_gene_unique_lists.values))),\n",
    "        name=\"v_gene\",\n",
    "    ).sort_values()\n",
    "    j_genes = pd.Series(\n",
    "        list(set.union(*(j_gene_unique_lists.values))),\n",
    "        name=\"j_gene\",\n",
    "    ).sort_values()\n",
    "    print(gene_locus, v_genes)\n",
    "    print(gene_locus, j_genes)\n",
    "\n",
    "    v_genes.to_csv(\n",
    "        config.paths.metadata_dir / f\"all_v_genes.in_order.{gene_locus.name}.txt\",\n",
    "        index=None,\n",
    "    )\n",
    "    j_genes.to_csv(\n",
    "        config.paths.metadata_dir / f\"all_j_genes.in_order.{gene_locus.name}.txt\",\n",
    "        index=None,\n",
    "    )"
   ]
  },
  {
   "cell_type": "code",
   "execution_count": null,
   "metadata": {},
   "outputs": [],
   "source": []
  },
  {
   "cell_type": "code",
   "execution_count": null,
   "metadata": {
    "execution": {
     "iopub.execute_input": "2023-12-15T16:51:45.337184Z",
     "iopub.status.busy": "2023-12-15T16:51:45.336459Z",
     "iopub.status.idle": "2023-12-15T16:51:46.017667Z",
     "shell.execute_reply": "2023-12-15T16:51:46.017190Z"
    },
    "tags": []
   },
   "outputs": [],
   "source": [
    "client.shutdown()"
   ]
  },
  {
   "cell_type": "code",
   "execution_count": null,
   "metadata": {},
   "outputs": [],
   "source": []
  },
  {
   "cell_type": "code",
   "execution_count": null,
   "metadata": {},
   "outputs": [],
   "source": []
  },
  {
   "cell_type": "code",
   "execution_count": null,
   "metadata": {},
   "outputs": [],
   "source": []
  }
 ],
 "metadata": {
  "jupytext": {
   "cell_metadata_filter": "-all"
  },
  "kernelspec": {
   "display_name": "py39-cuda-env",
   "language": "python",
   "name": "py39-cuda-env"
  },
  "language_info": {
   "codemirror_mode": {
    "name": "ipython",
    "version": 3
   },
   "file_extension": ".py",
   "mimetype": "text/x-python",
   "name": "python",
   "nbconvert_exporter": "python",
   "pygments_lexer": "ipython3",
   "version": "3.9.16"
  }
 },
 "nbformat": 4,
 "nbformat_minor": 4
}
