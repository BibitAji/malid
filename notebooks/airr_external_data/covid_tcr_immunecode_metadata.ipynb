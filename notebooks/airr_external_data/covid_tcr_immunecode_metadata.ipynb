{
 "cells": [
  {
   "cell_type": "code",
   "execution_count": 1,
   "metadata": {
    "execution": {
     "iopub.execute_input": "2022-12-28T17:43:54.395854Z",
     "iopub.status.busy": "2022-12-28T17:43:54.394918Z",
     "iopub.status.idle": "2022-12-28T17:44:03.410100Z",
     "shell.execute_reply": "2022-12-28T17:44:03.407946Z"
    }
   },
   "outputs": [],
   "source": [
    "from malid import config\n",
    "import pandas as pd\n",
    "import numpy as np"
   ]
  },
  {
   "cell_type": "code",
   "execution_count": null,
   "metadata": {},
   "outputs": [],
   "source": []
  },
  {
   "cell_type": "markdown",
   "metadata": {},
   "source": [
    "# Filter ImmuneCODE dataset to \"Covid peak-timepoint\" samples for external validation.\n",
    "\n",
    "Goal is no comorbidities with immune effects"
   ]
  },
  {
   "cell_type": "code",
   "execution_count": null,
   "metadata": {},
   "outputs": [],
   "source": []
  },
  {
   "cell_type": "code",
   "execution_count": 2,
   "metadata": {
    "execution": {
     "iopub.execute_input": "2022-12-28T17:44:03.420687Z",
     "iopub.status.busy": "2022-12-28T17:44:03.419886Z",
     "iopub.status.idle": "2022-12-28T17:44:03.515875Z",
     "shell.execute_reply": "2022-12-28T17:44:03.515029Z"
    }
   },
   "outputs": [
    {
     "data": {
      "text/plain": [
       "(1486, 158)"
      ]
     },
     "execution_count": 2,
     "metadata": {},
     "output_type": "execute_result"
    }
   ],
   "source": [
    "df = pd.read_csv(\n",
    "    config.paths.external_raw_data\n",
    "    / \"immunecode\"\n",
    "    / \"ImmuneCODE-Repertoire-Tags-002.2.tsv\",\n",
    "    sep=\"\\t\",\n",
    ")\n",
    "df.shape"
   ]
  },
  {
   "cell_type": "code",
   "execution_count": 3,
   "metadata": {
    "execution": {
     "iopub.execute_input": "2022-12-28T17:44:03.524566Z",
     "iopub.status.busy": "2022-12-28T17:44:03.524030Z",
     "iopub.status.idle": "2022-12-28T17:44:03.573112Z",
     "shell.execute_reply": "2022-12-28T17:44:03.572139Z"
    }
   },
   "outputs": [
    {
     "data": {
      "text/html": [
       "<div>\n",
       "<style scoped>\n",
       "    .dataframe tbody tr th:only-of-type {\n",
       "        vertical-align: middle;\n",
       "    }\n",
       "\n",
       "    .dataframe tbody tr th {\n",
       "        vertical-align: top;\n",
       "    }\n",
       "\n",
       "    .dataframe thead th {\n",
       "        text-align: right;\n",
       "    }\n",
       "</style>\n",
       "<table border=\"1\" class=\"dataframe\">\n",
       "  <thead>\n",
       "    <tr style=\"text-align: right;\">\n",
       "      <th></th>\n",
       "      <th>ImmuneCODERelease</th>\n",
       "      <th>Dataset</th>\n",
       "      <th>sample_name</th>\n",
       "      <th>subject_id</th>\n",
       "      <th>Virus Diseases</th>\n",
       "      <th>Age</th>\n",
       "      <th>Biological Sex</th>\n",
       "      <th>Racial Group</th>\n",
       "      <th>Tissue Source</th>\n",
       "      <th>Ethnic Group</th>\n",
       "      <th>...</th>\n",
       "      <th>uses_ace_inhibitor</th>\n",
       "      <th>uses_arb</th>\n",
       "      <th>uses_asthma_quick_relief</th>\n",
       "      <th>uses_autoimmune_medications</th>\n",
       "      <th>uses_corticosteroids_for_asthma</th>\n",
       "      <th>uses_immunosuppressant</th>\n",
       "      <th>uses_nsaid</th>\n",
       "      <th>visit</th>\n",
       "      <th>weight_kg</th>\n",
       "      <th>who_ordinal_scale</th>\n",
       "    </tr>\n",
       "  </thead>\n",
       "  <tbody>\n",
       "    <tr>\n",
       "      <th>0</th>\n",
       "      <td>2.0</td>\n",
       "      <td>COVID-19-NIH/NIAID</td>\n",
       "      <td>BS-GIGI_61-replacement_TCRB</td>\n",
       "      <td>0000105</td>\n",
       "      <td>COVID-19 Positive</td>\n",
       "      <td>71 Years</td>\n",
       "      <td>Male</td>\n",
       "      <td>Caucasian</td>\n",
       "      <td>Blood,gDNA</td>\n",
       "      <td>NaN</td>\n",
       "      <td>...</td>\n",
       "      <td>NaN</td>\n",
       "      <td>NaN</td>\n",
       "      <td>NaN</td>\n",
       "      <td>NaN</td>\n",
       "      <td>NaN</td>\n",
       "      <td>NaN</td>\n",
       "      <td>NaN</td>\n",
       "      <td>NaN</td>\n",
       "      <td>NaN</td>\n",
       "      <td>NaN</td>\n",
       "    </tr>\n",
       "    <tr>\n",
       "      <th>1</th>\n",
       "      <td>2.0</td>\n",
       "      <td>COVID-19-HUniv12Oct</td>\n",
       "      <td>860011221_TCRB</td>\n",
       "      <td>109731</td>\n",
       "      <td>COVID-19 Positive</td>\n",
       "      <td>64 Years</td>\n",
       "      <td>Male</td>\n",
       "      <td>Hispanic</td>\n",
       "      <td>Blood</td>\n",
       "      <td>NaN</td>\n",
       "      <td>...</td>\n",
       "      <td>NaN</td>\n",
       "      <td>NaN</td>\n",
       "      <td>NaN</td>\n",
       "      <td>NaN</td>\n",
       "      <td>NaN</td>\n",
       "      <td>NaN</td>\n",
       "      <td>NaN</td>\n",
       "      <td>NaN</td>\n",
       "      <td>NaN</td>\n",
       "      <td>NaN</td>\n",
       "    </tr>\n",
       "    <tr>\n",
       "      <th>2</th>\n",
       "      <td>2.0</td>\n",
       "      <td>COVID-19-NIH/NIAID</td>\n",
       "      <td>1246-BM-1050_TCRB</td>\n",
       "      <td>NaN</td>\n",
       "      <td>NaN</td>\n",
       "      <td>NaN</td>\n",
       "      <td>NaN</td>\n",
       "      <td>NaN</td>\n",
       "      <td>Buffy Coat,gDNA</td>\n",
       "      <td>NaN</td>\n",
       "      <td>...</td>\n",
       "      <td>NaN</td>\n",
       "      <td>NaN</td>\n",
       "      <td>NaN</td>\n",
       "      <td>NaN</td>\n",
       "      <td>NaN</td>\n",
       "      <td>NaN</td>\n",
       "      <td>NaN</td>\n",
       "      <td>NaN</td>\n",
       "      <td>NaN</td>\n",
       "      <td>NaN</td>\n",
       "    </tr>\n",
       "    <tr>\n",
       "      <th>3</th>\n",
       "      <td>2.0</td>\n",
       "      <td>COVID-19-Adaptive</td>\n",
       "      <td>ADIRP0000106_TCRB</td>\n",
       "      <td>ADIRP0000106</td>\n",
       "      <td>COVID-19 Positive</td>\n",
       "      <td>41 Years</td>\n",
       "      <td>Female</td>\n",
       "      <td>Hispanic</td>\n",
       "      <td>Blood</td>\n",
       "      <td>NaN</td>\n",
       "      <td>...</td>\n",
       "      <td>NaN</td>\n",
       "      <td>NaN</td>\n",
       "      <td>NaN</td>\n",
       "      <td>NaN</td>\n",
       "      <td>NaN</td>\n",
       "      <td>False</td>\n",
       "      <td>NaN</td>\n",
       "      <td>1.0</td>\n",
       "      <td>NaN</td>\n",
       "      <td>NaN</td>\n",
       "    </tr>\n",
       "    <tr>\n",
       "      <th>4</th>\n",
       "      <td>2.0</td>\n",
       "      <td>COVID-19-NIH/NIAID</td>\n",
       "      <td>BS-HS-185_TCRB</td>\n",
       "      <td>NaN</td>\n",
       "      <td>NaN</td>\n",
       "      <td>NaN</td>\n",
       "      <td>NaN</td>\n",
       "      <td>NaN</td>\n",
       "      <td>Blood,gDNA</td>\n",
       "      <td>NaN</td>\n",
       "      <td>...</td>\n",
       "      <td>NaN</td>\n",
       "      <td>NaN</td>\n",
       "      <td>NaN</td>\n",
       "      <td>NaN</td>\n",
       "      <td>NaN</td>\n",
       "      <td>NaN</td>\n",
       "      <td>NaN</td>\n",
       "      <td>NaN</td>\n",
       "      <td>NaN</td>\n",
       "      <td>NaN</td>\n",
       "    </tr>\n",
       "    <tr>\n",
       "      <th>...</th>\n",
       "      <td>...</td>\n",
       "      <td>...</td>\n",
       "      <td>...</td>\n",
       "      <td>...</td>\n",
       "      <td>...</td>\n",
       "      <td>...</td>\n",
       "      <td>...</td>\n",
       "      <td>...</td>\n",
       "      <td>...</td>\n",
       "      <td>...</td>\n",
       "      <td>...</td>\n",
       "      <td>...</td>\n",
       "      <td>...</td>\n",
       "      <td>...</td>\n",
       "      <td>...</td>\n",
       "      <td>...</td>\n",
       "      <td>...</td>\n",
       "      <td>...</td>\n",
       "      <td>...</td>\n",
       "      <td>...</td>\n",
       "      <td>...</td>\n",
       "    </tr>\n",
       "    <tr>\n",
       "      <th>1481</th>\n",
       "      <td>2.0</td>\n",
       "      <td>COVID-19-NIH/NIAID</td>\n",
       "      <td>BS-HS-189_TCRB</td>\n",
       "      <td>NaN</td>\n",
       "      <td>NaN</td>\n",
       "      <td>NaN</td>\n",
       "      <td>NaN</td>\n",
       "      <td>NaN</td>\n",
       "      <td>Blood,gDNA</td>\n",
       "      <td>NaN</td>\n",
       "      <td>...</td>\n",
       "      <td>NaN</td>\n",
       "      <td>NaN</td>\n",
       "      <td>NaN</td>\n",
       "      <td>NaN</td>\n",
       "      <td>NaN</td>\n",
       "      <td>NaN</td>\n",
       "      <td>NaN</td>\n",
       "      <td>NaN</td>\n",
       "      <td>NaN</td>\n",
       "      <td>NaN</td>\n",
       "    </tr>\n",
       "    <tr>\n",
       "      <th>1482</th>\n",
       "      <td>2.0</td>\n",
       "      <td>COVID-19-HUniv12Oct</td>\n",
       "      <td>860011252_TCRB</td>\n",
       "      <td>391599</td>\n",
       "      <td>COVID-19 Positive</td>\n",
       "      <td>35 Years</td>\n",
       "      <td>Male</td>\n",
       "      <td>Caucasian</td>\n",
       "      <td>Blood</td>\n",
       "      <td>NaN</td>\n",
       "      <td>...</td>\n",
       "      <td>NaN</td>\n",
       "      <td>NaN</td>\n",
       "      <td>NaN</td>\n",
       "      <td>NaN</td>\n",
       "      <td>NaN</td>\n",
       "      <td>NaN</td>\n",
       "      <td>NaN</td>\n",
       "      <td>NaN</td>\n",
       "      <td>NaN</td>\n",
       "      <td>NaN</td>\n",
       "    </tr>\n",
       "    <tr>\n",
       "      <th>1483</th>\n",
       "      <td>2.0</td>\n",
       "      <td>COVID-19-NIH/NIAID</td>\n",
       "      <td>1127-BA-739_TCRB</td>\n",
       "      <td>NaN</td>\n",
       "      <td>NaN</td>\n",
       "      <td>NaN</td>\n",
       "      <td>NaN</td>\n",
       "      <td>NaN</td>\n",
       "      <td>Buffy Coat,gDNA</td>\n",
       "      <td>NaN</td>\n",
       "      <td>...</td>\n",
       "      <td>NaN</td>\n",
       "      <td>NaN</td>\n",
       "      <td>NaN</td>\n",
       "      <td>NaN</td>\n",
       "      <td>NaN</td>\n",
       "      <td>NaN</td>\n",
       "      <td>NaN</td>\n",
       "      <td>NaN</td>\n",
       "      <td>NaN</td>\n",
       "      <td>NaN</td>\n",
       "    </tr>\n",
       "    <tr>\n",
       "      <th>1484</th>\n",
       "      <td>2.0</td>\n",
       "      <td>COVID-19-Adaptive</td>\n",
       "      <td>ADIRP0001311_TCRB</td>\n",
       "      <td>ADIRP0001311</td>\n",
       "      <td>COVID-19 Positive</td>\n",
       "      <td>36 Years</td>\n",
       "      <td>Female</td>\n",
       "      <td>Caucasian</td>\n",
       "      <td>Blood</td>\n",
       "      <td>NaN</td>\n",
       "      <td>...</td>\n",
       "      <td>NaN</td>\n",
       "      <td>NaN</td>\n",
       "      <td>NaN</td>\n",
       "      <td>NaN</td>\n",
       "      <td>NaN</td>\n",
       "      <td>False</td>\n",
       "      <td>NaN</td>\n",
       "      <td>1.0</td>\n",
       "      <td>NaN</td>\n",
       "      <td>NaN</td>\n",
       "    </tr>\n",
       "    <tr>\n",
       "      <th>1485</th>\n",
       "      <td>2.0</td>\n",
       "      <td>COVID-19-HUniv12Oct</td>\n",
       "      <td>860011240_TCRB</td>\n",
       "      <td>506345</td>\n",
       "      <td>COVID-19 Positive</td>\n",
       "      <td>78 Years</td>\n",
       "      <td>Female</td>\n",
       "      <td>Caucasian</td>\n",
       "      <td>Blood</td>\n",
       "      <td>NaN</td>\n",
       "      <td>...</td>\n",
       "      <td>NaN</td>\n",
       "      <td>NaN</td>\n",
       "      <td>NaN</td>\n",
       "      <td>NaN</td>\n",
       "      <td>NaN</td>\n",
       "      <td>NaN</td>\n",
       "      <td>NaN</td>\n",
       "      <td>NaN</td>\n",
       "      <td>NaN</td>\n",
       "      <td>NaN</td>\n",
       "    </tr>\n",
       "  </tbody>\n",
       "</table>\n",
       "<p>1486 rows × 158 columns</p>\n",
       "</div>"
      ],
      "text/plain": [
       "      ImmuneCODERelease              Dataset                  sample_name  \\\n",
       "0                   2.0   COVID-19-NIH/NIAID  BS-GIGI_61-replacement_TCRB   \n",
       "1                   2.0  COVID-19-HUniv12Oct               860011221_TCRB   \n",
       "2                   2.0   COVID-19-NIH/NIAID            1246-BM-1050_TCRB   \n",
       "3                   2.0    COVID-19-Adaptive            ADIRP0000106_TCRB   \n",
       "4                   2.0   COVID-19-NIH/NIAID               BS-HS-185_TCRB   \n",
       "...                 ...                  ...                          ...   \n",
       "1481                2.0   COVID-19-NIH/NIAID               BS-HS-189_TCRB   \n",
       "1482                2.0  COVID-19-HUniv12Oct               860011252_TCRB   \n",
       "1483                2.0   COVID-19-NIH/NIAID             1127-BA-739_TCRB   \n",
       "1484                2.0    COVID-19-Adaptive            ADIRP0001311_TCRB   \n",
       "1485                2.0  COVID-19-HUniv12Oct               860011240_TCRB   \n",
       "\n",
       "        subject_id     Virus Diseases       Age Biological Sex Racial Group  \\\n",
       "0          0000105  COVID-19 Positive  71 Years           Male    Caucasian   \n",
       "1           109731  COVID-19 Positive  64 Years           Male     Hispanic   \n",
       "2              NaN                NaN       NaN            NaN          NaN   \n",
       "3     ADIRP0000106  COVID-19 Positive  41 Years         Female     Hispanic   \n",
       "4              NaN                NaN       NaN            NaN          NaN   \n",
       "...            ...                ...       ...            ...          ...   \n",
       "1481           NaN                NaN       NaN            NaN          NaN   \n",
       "1482        391599  COVID-19 Positive  35 Years           Male    Caucasian   \n",
       "1483           NaN                NaN       NaN            NaN          NaN   \n",
       "1484  ADIRP0001311  COVID-19 Positive  36 Years         Female    Caucasian   \n",
       "1485        506345  COVID-19 Positive  78 Years         Female    Caucasian   \n",
       "\n",
       "        Tissue Source Ethnic Group  ... uses_ace_inhibitor uses_arb  \\\n",
       "0          Blood,gDNA          NaN  ...                NaN      NaN   \n",
       "1               Blood          NaN  ...                NaN      NaN   \n",
       "2     Buffy Coat,gDNA          NaN  ...                NaN      NaN   \n",
       "3               Blood          NaN  ...                NaN      NaN   \n",
       "4          Blood,gDNA          NaN  ...                NaN      NaN   \n",
       "...               ...          ...  ...                ...      ...   \n",
       "1481       Blood,gDNA          NaN  ...                NaN      NaN   \n",
       "1482            Blood          NaN  ...                NaN      NaN   \n",
       "1483  Buffy Coat,gDNA          NaN  ...                NaN      NaN   \n",
       "1484            Blood          NaN  ...                NaN      NaN   \n",
       "1485            Blood          NaN  ...                NaN      NaN   \n",
       "\n",
       "     uses_asthma_quick_relief uses_autoimmune_medications  \\\n",
       "0                         NaN                         NaN   \n",
       "1                         NaN                         NaN   \n",
       "2                         NaN                         NaN   \n",
       "3                         NaN                         NaN   \n",
       "4                         NaN                         NaN   \n",
       "...                       ...                         ...   \n",
       "1481                      NaN                         NaN   \n",
       "1482                      NaN                         NaN   \n",
       "1483                      NaN                         NaN   \n",
       "1484                      NaN                         NaN   \n",
       "1485                      NaN                         NaN   \n",
       "\n",
       "     uses_corticosteroids_for_asthma uses_immunosuppressant  uses_nsaid  \\\n",
       "0                                NaN                    NaN         NaN   \n",
       "1                                NaN                    NaN         NaN   \n",
       "2                                NaN                    NaN         NaN   \n",
       "3                                NaN                  False         NaN   \n",
       "4                                NaN                    NaN         NaN   \n",
       "...                              ...                    ...         ...   \n",
       "1481                             NaN                    NaN         NaN   \n",
       "1482                             NaN                    NaN         NaN   \n",
       "1483                             NaN                    NaN         NaN   \n",
       "1484                             NaN                  False         NaN   \n",
       "1485                             NaN                    NaN         NaN   \n",
       "\n",
       "      visit  weight_kg  who_ordinal_scale  \n",
       "0       NaN        NaN                NaN  \n",
       "1       NaN        NaN                NaN  \n",
       "2       NaN        NaN                NaN  \n",
       "3       1.0        NaN                NaN  \n",
       "4       NaN        NaN                NaN  \n",
       "...     ...        ...                ...  \n",
       "1481    NaN        NaN                NaN  \n",
       "1482    NaN        NaN                NaN  \n",
       "1483    NaN        NaN                NaN  \n",
       "1484    1.0        NaN                NaN  \n",
       "1485    NaN        NaN                NaN  \n",
       "\n",
       "[1486 rows x 158 columns]"
      ]
     },
     "execution_count": 3,
     "metadata": {},
     "output_type": "execute_result"
    }
   ],
   "source": [
    "df"
   ]
  },
  {
   "cell_type": "code",
   "execution_count": 4,
   "metadata": {
    "execution": {
     "iopub.execute_input": "2022-12-28T17:44:03.580818Z",
     "iopub.status.busy": "2022-12-28T17:44:03.580314Z",
     "iopub.status.idle": "2022-12-28T17:44:03.592119Z",
     "shell.execute_reply": "2022-12-28T17:44:03.590781Z"
    }
   },
   "outputs": [
    {
     "data": {
      "text/plain": [
       "COVID-19-DLS                     433\n",
       "COVID-19-NIH/NIAID               357\n",
       "COVID-19-HUniv12Oct              193\n",
       "COVID-19-Adaptive                160\n",
       "COVID-19-ISB                     157\n",
       "COVID-19-Adaptive-MIRAMatched     72\n",
       "COVID-19-IRST/AUSL                64\n",
       "COVID-19-BWNW                     50\n",
       "Name: Dataset, dtype: int64"
      ]
     },
     "execution_count": 4,
     "metadata": {},
     "output_type": "execute_result"
    }
   ],
   "source": [
    "df[\"Dataset\"].value_counts()"
   ]
  },
  {
   "cell_type": "code",
   "execution_count": null,
   "metadata": {},
   "outputs": [],
   "source": []
  },
  {
   "cell_type": "code",
   "execution_count": 5,
   "metadata": {
    "execution": {
     "iopub.execute_input": "2022-12-28T17:44:03.599771Z",
     "iopub.status.busy": "2022-12-28T17:44:03.599155Z",
     "iopub.status.idle": "2022-12-28T17:44:03.622042Z",
     "shell.execute_reply": "2022-12-28T17:44:03.620391Z"
    }
   },
   "outputs": [
    {
     "data": {
      "text/plain": [
       "(1170, 158)"
      ]
     },
     "execution_count": 5,
     "metadata": {},
     "output_type": "execute_result"
    }
   ],
   "source": [
    "df = df[df[\"Virus Diseases\"] == \"COVID-19 Positive\"]\n",
    "df.shape"
   ]
  },
  {
   "cell_type": "code",
   "execution_count": 6,
   "metadata": {
    "execution": {
     "iopub.execute_input": "2022-12-28T17:44:03.630054Z",
     "iopub.status.busy": "2022-12-28T17:44:03.629220Z",
     "iopub.status.idle": "2022-12-28T17:44:03.644900Z",
     "shell.execute_reply": "2022-12-28T17:44:03.643339Z"
    }
   },
   "outputs": [
    {
     "data": {
      "text/plain": [
       "(388, 158)"
      ]
     },
     "execution_count": 6,
     "metadata": {},
     "output_type": "execute_result"
    }
   ],
   "source": [
    "df = df[df[\"days_from_symptom_onset_to_sample\"] >= 11]\n",
    "df.shape"
   ]
  },
  {
   "cell_type": "code",
   "execution_count": 7,
   "metadata": {
    "execution": {
     "iopub.execute_input": "2022-12-28T17:44:03.652853Z",
     "iopub.status.busy": "2022-12-28T17:44:03.652007Z",
     "iopub.status.idle": "2022-12-28T17:44:03.668264Z",
     "shell.execute_reply": "2022-12-28T17:44:03.666625Z"
    }
   },
   "outputs": [
    {
     "data": {
      "text/plain": [
       "(137, 158)"
      ]
     },
     "execution_count": 7,
     "metadata": {},
     "output_type": "execute_result"
    }
   ],
   "source": [
    "df = df[df[\"days_from_symptom_onset_to_sample\"] <= 21]\n",
    "df.shape"
   ]
  },
  {
   "cell_type": "code",
   "execution_count": 8,
   "metadata": {
    "execution": {
     "iopub.execute_input": "2022-12-28T17:44:03.676551Z",
     "iopub.status.busy": "2022-12-28T17:44:03.675659Z",
     "iopub.status.idle": "2022-12-28T17:44:03.698252Z",
     "shell.execute_reply": "2022-12-28T17:44:03.696329Z"
    }
   },
   "outputs": [
    {
     "data": {
      "text/plain": [
       "Blood         74\n",
       "Blood,gDNA    62\n",
       "PBMC           1\n",
       "Name: Tissue Source, dtype: int64"
      ]
     },
     "execution_count": 8,
     "metadata": {},
     "output_type": "execute_result"
    }
   ],
   "source": [
    "df[\"Tissue Source\"].value_counts()"
   ]
  },
  {
   "cell_type": "code",
   "execution_count": 9,
   "metadata": {
    "execution": {
     "iopub.execute_input": "2022-12-28T17:44:03.706755Z",
     "iopub.status.busy": "2022-12-28T17:44:03.705843Z",
     "iopub.status.idle": "2022-12-28T17:44:03.727065Z",
     "shell.execute_reply": "2022-12-28T17:44:03.725144Z"
    }
   },
   "outputs": [
    {
     "data": {
      "text/plain": [
       "COVID-19-NIH/NIAID               62\n",
       "COVID-19-HUniv12Oct              34\n",
       "COVID-19-ISB                     29\n",
       "COVID-19-Adaptive                11\n",
       "COVID-19-Adaptive-MIRAMatched     1\n",
       "Name: Dataset, dtype: int64"
      ]
     },
     "execution_count": 9,
     "metadata": {},
     "output_type": "execute_result"
    }
   ],
   "source": [
    "df[\"Dataset\"].value_counts()"
   ]
  },
  {
   "cell_type": "code",
   "execution_count": null,
   "metadata": {},
   "outputs": [],
   "source": []
  },
  {
   "cell_type": "code",
   "execution_count": 10,
   "metadata": {
    "execution": {
     "iopub.execute_input": "2022-12-28T17:44:03.735943Z",
     "iopub.status.busy": "2022-12-28T17:44:03.735034Z",
     "iopub.status.idle": "2022-12-28T17:44:03.754238Z",
     "shell.execute_reply": "2022-12-28T17:44:03.752706Z"
    }
   },
   "outputs": [
    {
     "data": {
      "text/plain": [
       "covid--positive                      136\n",
       "hypertension--positive                11\n",
       "ckd--positive                          4\n",
       "t2d--positive                          4\n",
       "coronary_artery_disease--positive      3\n",
       "copd--positive                         3\n",
       "cll--positive                          2\n",
       "t1d--positive                          1\n",
       "Name: diseases, dtype: int64"
      ]
     },
     "execution_count": 10,
     "metadata": {},
     "output_type": "execute_result"
    }
   ],
   "source": [
    "df[\"diseases\"].str.split(\";\").explode().value_counts()"
   ]
  },
  {
   "cell_type": "code",
   "execution_count": 11,
   "metadata": {
    "execution": {
     "iopub.execute_input": "2022-12-28T17:44:03.761918Z",
     "iopub.status.busy": "2022-12-28T17:44:03.761207Z",
     "iopub.status.idle": "2022-12-28T17:44:03.781744Z",
     "shell.execute_reply": "2022-12-28T17:44:03.780093Z"
    }
   },
   "outputs": [
    {
     "data": {
      "text/plain": [
       "True    136\n",
       "Name: diseases, dtype: int64"
      ]
     },
     "execution_count": 11,
     "metadata": {},
     "output_type": "execute_result"
    }
   ],
   "source": [
    "df[\"diseases\"].str.startswith(\"covid--positive\").value_counts()"
   ]
  },
  {
   "cell_type": "code",
   "execution_count": 12,
   "metadata": {
    "execution": {
     "iopub.execute_input": "2022-12-28T17:44:03.790137Z",
     "iopub.status.busy": "2022-12-28T17:44:03.789156Z",
     "iopub.status.idle": "2022-12-28T17:44:03.812608Z",
     "shell.execute_reply": "2022-12-28T17:44:03.810958Z"
    }
   },
   "outputs": [
    {
     "data": {
      "text/plain": [
       "(120, 158)"
      ]
     },
     "execution_count": 12,
     "metadata": {},
     "output_type": "execute_result"
    }
   ],
   "source": [
    "# remove other diseases\n",
    "df = df[df[\"diseases\"] == \"covid--positive\"]\n",
    "df.shape"
   ]
  },
  {
   "cell_type": "code",
   "execution_count": 13,
   "metadata": {
    "execution": {
     "iopub.execute_input": "2022-12-28T17:44:03.820622Z",
     "iopub.status.busy": "2022-12-28T17:44:03.819905Z",
     "iopub.status.idle": "2022-12-28T17:44:03.838676Z",
     "shell.execute_reply": "2022-12-28T17:44:03.837127Z"
    }
   },
   "outputs": [
    {
     "data": {
      "text/plain": [
       "COVID-19-NIH/NIAID     62\n",
       "COVID-19-HUniv12Oct    34\n",
       "COVID-19-ISB           13\n",
       "COVID-19-Adaptive      11\n",
       "Name: Dataset, dtype: int64"
      ]
     },
     "execution_count": 13,
     "metadata": {},
     "output_type": "execute_result"
    }
   ],
   "source": [
    "df[\"Dataset\"].value_counts()"
   ]
  },
  {
   "cell_type": "code",
   "execution_count": null,
   "metadata": {},
   "outputs": [],
   "source": []
  },
  {
   "cell_type": "markdown",
   "metadata": {},
   "source": [
    "Filter by other tags, which are not universal to all cohorts:"
   ]
  },
  {
   "cell_type": "code",
   "execution_count": 14,
   "metadata": {
    "execution": {
     "iopub.execute_input": "2022-12-28T17:44:03.847503Z",
     "iopub.status.busy": "2022-12-28T17:44:03.846669Z",
     "iopub.status.idle": "2022-12-28T17:44:03.864354Z",
     "shell.execute_reply": "2022-12-28T17:44:03.862708Z"
    }
   },
   "outputs": [
    {
     "data": {
      "text/plain": [
       "(118, 158)"
      ]
     },
     "execution_count": 14,
     "metadata": {},
     "output_type": "execute_result"
    }
   ],
   "source": [
    "df = df[df[\"covid_category\"] != \"Recovered\"]\n",
    "df.shape"
   ]
  },
  {
   "cell_type": "code",
   "execution_count": 15,
   "metadata": {
    "execution": {
     "iopub.execute_input": "2022-12-28T17:44:03.872474Z",
     "iopub.status.busy": "2022-12-28T17:44:03.871651Z",
     "iopub.status.idle": "2022-12-28T17:44:03.890134Z",
     "shell.execute_reply": "2022-12-28T17:44:03.888469Z"
    }
   },
   "outputs": [
    {
     "data": {
      "text/plain": [
       "(118, 158)"
      ]
     },
     "execution_count": 15,
     "metadata": {},
     "output_type": "execute_result"
    }
   ],
   "source": [
    "df = df[df[\"covid_category\"] != \"Exposed\"]\n",
    "df.shape"
   ]
  },
  {
   "cell_type": "code",
   "execution_count": 16,
   "metadata": {
    "execution": {
     "iopub.execute_input": "2022-12-28T17:44:03.898257Z",
     "iopub.status.busy": "2022-12-28T17:44:03.897416Z",
     "iopub.status.idle": "2022-12-28T17:44:03.915872Z",
     "shell.execute_reply": "2022-12-28T17:44:03.914206Z"
    }
   },
   "outputs": [
    {
     "data": {
      "text/plain": [
       "(118, 158)"
      ]
     },
     "execution_count": 16,
     "metadata": {},
     "output_type": "execute_result"
    }
   ],
   "source": [
    "df = df[df[\"cancer_diagnosed\"] != True]\n",
    "df.shape"
   ]
  },
  {
   "cell_type": "code",
   "execution_count": 17,
   "metadata": {
    "execution": {
     "iopub.execute_input": "2022-12-28T17:44:03.923959Z",
     "iopub.status.busy": "2022-12-28T17:44:03.923242Z",
     "iopub.status.idle": "2022-12-28T17:44:03.944782Z",
     "shell.execute_reply": "2022-12-28T17:44:03.943111Z"
    }
   },
   "outputs": [
    {
     "data": {
      "text/plain": [
       "(118, 158)"
      ]
     },
     "execution_count": 17,
     "metadata": {},
     "output_type": "execute_result"
    }
   ],
   "source": [
    "df = df[df[\"cancer_type\"].isna()]\n",
    "df.shape"
   ]
  },
  {
   "cell_type": "code",
   "execution_count": 18,
   "metadata": {
    "execution": {
     "iopub.execute_input": "2022-12-28T17:44:03.953100Z",
     "iopub.status.busy": "2022-12-28T17:44:03.952175Z",
     "iopub.status.idle": "2022-12-28T17:44:03.971478Z",
     "shell.execute_reply": "2022-12-28T17:44:03.969833Z"
    }
   },
   "outputs": [
    {
     "data": {
      "text/plain": [
       "(118, 158)"
      ]
     },
     "execution_count": 18,
     "metadata": {},
     "output_type": "execute_result"
    }
   ],
   "source": [
    "df = df[df[\"describe_autoimmune_diagnoses\"].isna()]\n",
    "df.shape"
   ]
  },
  {
   "cell_type": "code",
   "execution_count": 19,
   "metadata": {
    "execution": {
     "iopub.execute_input": "2022-12-28T17:44:03.979458Z",
     "iopub.status.busy": "2022-12-28T17:44:03.978744Z",
     "iopub.status.idle": "2022-12-28T17:44:03.993160Z",
     "shell.execute_reply": "2022-12-28T17:44:03.991508Z"
    }
   },
   "outputs": [
    {
     "data": {
      "text/plain": [
       "(116, 158)"
      ]
     },
     "execution_count": 19,
     "metadata": {},
     "output_type": "execute_result"
    }
   ],
   "source": [
    "df = df[df[\"describe_autoimmune_medications\"].isna()]\n",
    "df.shape"
   ]
  },
  {
   "cell_type": "code",
   "execution_count": 20,
   "metadata": {
    "execution": {
     "iopub.execute_input": "2022-12-28T17:44:04.001021Z",
     "iopub.status.busy": "2022-12-28T17:44:04.000247Z",
     "iopub.status.idle": "2022-12-28T17:44:04.017339Z",
     "shell.execute_reply": "2022-12-28T17:44:04.015673Z"
    }
   },
   "outputs": [
    {
     "data": {
      "text/plain": [
       "(116, 158)"
      ]
     },
     "execution_count": 20,
     "metadata": {},
     "output_type": "execute_result"
    }
   ],
   "source": [
    "df = df[df[\"describe_cancers\"].isna()]\n",
    "df.shape"
   ]
  },
  {
   "cell_type": "code",
   "execution_count": 21,
   "metadata": {
    "execution": {
     "iopub.execute_input": "2022-12-28T17:44:04.025581Z",
     "iopub.status.busy": "2022-12-28T17:44:04.024730Z",
     "iopub.status.idle": "2022-12-28T17:44:04.042507Z",
     "shell.execute_reply": "2022-12-28T17:44:04.040870Z"
    }
   },
   "outputs": [
    {
     "data": {
      "text/plain": [
       "(116, 158)"
      ]
     },
     "execution_count": 21,
     "metadata": {},
     "output_type": "execute_result"
    }
   ],
   "source": [
    "df = df[df[\"describe_immunosupressants\"].replace(\"None\", np.nan).isna()]\n",
    "df.shape"
   ]
  },
  {
   "cell_type": "code",
   "execution_count": 22,
   "metadata": {
    "execution": {
     "iopub.execute_input": "2022-12-28T17:44:04.050607Z",
     "iopub.status.busy": "2022-12-28T17:44:04.049780Z",
     "iopub.status.idle": "2022-12-28T17:44:04.067908Z",
     "shell.execute_reply": "2022-12-28T17:44:04.066278Z"
    }
   },
   "outputs": [
    {
     "data": {
      "text/plain": [
       "(116, 158)"
      ]
     },
     "execution_count": 22,
     "metadata": {},
     "output_type": "execute_result"
    }
   ],
   "source": [
    "df = df[df[\"describe_other_diagnoses\"].isna()]\n",
    "df.shape"
   ]
  },
  {
   "cell_type": "code",
   "execution_count": 23,
   "metadata": {
    "execution": {
     "iopub.execute_input": "2022-12-28T17:44:04.076017Z",
     "iopub.status.busy": "2022-12-28T17:44:04.075194Z",
     "iopub.status.idle": "2022-12-28T17:44:04.090734Z",
     "shell.execute_reply": "2022-12-28T17:44:04.089196Z"
    }
   },
   "outputs": [
    {
     "data": {
      "text/plain": [
       "(116, 158)"
      ]
     },
     "execution_count": 23,
     "metadata": {},
     "output_type": "execute_result"
    }
   ],
   "source": [
    "df = df[df[\"diabetes_type\"].replace(\"No\", np.nan).isna()]\n",
    "df.shape"
   ]
  },
  {
   "cell_type": "code",
   "execution_count": 24,
   "metadata": {
    "execution": {
     "iopub.execute_input": "2022-12-28T17:44:04.098905Z",
     "iopub.status.busy": "2022-12-28T17:44:04.098073Z",
     "iopub.status.idle": "2022-12-28T17:44:04.115852Z",
     "shell.execute_reply": "2022-12-28T17:44:04.114211Z"
    }
   },
   "outputs": [
    {
     "data": {
      "text/plain": [
       "(116, 158)"
      ]
     },
     "execution_count": 24,
     "metadata": {},
     "output_type": "execute_result"
    }
   ],
   "source": [
    "df = df[df[\"has_hiv\"] != True]\n",
    "df.shape"
   ]
  },
  {
   "cell_type": "code",
   "execution_count": 25,
   "metadata": {
    "execution": {
     "iopub.execute_input": "2022-12-28T17:44:04.124002Z",
     "iopub.status.busy": "2022-12-28T17:44:04.123102Z",
     "iopub.status.idle": "2022-12-28T17:44:04.139890Z",
     "shell.execute_reply": "2022-12-28T17:44:04.138218Z"
    }
   },
   "outputs": [
    {
     "data": {
      "text/plain": [
       "(116, 158)"
      ]
     },
     "execution_count": 25,
     "metadata": {},
     "output_type": "execute_result"
    }
   ],
   "source": [
    "df = df[df[\"is_immunocompromised\"] != True]\n",
    "df.shape"
   ]
  },
  {
   "cell_type": "code",
   "execution_count": 26,
   "metadata": {
    "execution": {
     "iopub.execute_input": "2022-12-28T17:44:04.147921Z",
     "iopub.status.busy": "2022-12-28T17:44:04.147204Z",
     "iopub.status.idle": "2022-12-28T17:44:04.168435Z",
     "shell.execute_reply": "2022-12-28T17:44:04.166792Z"
    }
   },
   "outputs": [
    {
     "data": {
      "text/plain": [
       "(116, 158)"
      ]
     },
     "execution_count": 26,
     "metadata": {},
     "output_type": "execute_result"
    }
   ],
   "source": [
    "df = df[df[\"selected_autoimmune_diagnoses\"].replace(\"None\", np.nan).isna()]\n",
    "df.shape"
   ]
  },
  {
   "cell_type": "code",
   "execution_count": 27,
   "metadata": {
    "execution": {
     "iopub.execute_input": "2022-12-28T17:44:04.176524Z",
     "iopub.status.busy": "2022-12-28T17:44:04.175694Z",
     "iopub.status.idle": "2022-12-28T17:44:04.195080Z",
     "shell.execute_reply": "2022-12-28T17:44:04.193447Z"
    }
   },
   "outputs": [
    {
     "data": {
      "text/plain": [
       "(114, 158)"
      ]
     },
     "execution_count": 27,
     "metadata": {},
     "output_type": "execute_result"
    }
   ],
   "source": [
    "df = df[df[\"selected_other_diagnoses\"].replace(\"None\", np.nan).isna()]\n",
    "df.shape"
   ]
  },
  {
   "cell_type": "code",
   "execution_count": 28,
   "metadata": {
    "execution": {
     "iopub.execute_input": "2022-12-28T17:44:04.202903Z",
     "iopub.status.busy": "2022-12-28T17:44:04.202146Z",
     "iopub.status.idle": "2022-12-28T17:44:04.221589Z",
     "shell.execute_reply": "2022-12-28T17:44:04.219654Z"
    }
   },
   "outputs": [
    {
     "data": {
      "text/plain": [
       "(114, 158)"
      ]
     },
     "execution_count": 28,
     "metadata": {},
     "output_type": "execute_result"
    }
   ],
   "source": [
    "df = df[df[\"uses_autoimmune_medications\"].isna()]\n",
    "df.shape"
   ]
  },
  {
   "cell_type": "code",
   "execution_count": 29,
   "metadata": {
    "execution": {
     "iopub.execute_input": "2022-12-28T17:44:04.229802Z",
     "iopub.status.busy": "2022-12-28T17:44:04.228881Z",
     "iopub.status.idle": "2022-12-28T17:44:04.248590Z",
     "shell.execute_reply": "2022-12-28T17:44:04.246770Z"
    }
   },
   "outputs": [
    {
     "data": {
      "text/plain": [
       "(114, 158)"
      ]
     },
     "execution_count": 29,
     "metadata": {},
     "output_type": "execute_result"
    }
   ],
   "source": [
    "df = df[df[\"uses_immunosuppressant\"] != True]\n",
    "df.shape"
   ]
  },
  {
   "cell_type": "code",
   "execution_count": null,
   "metadata": {},
   "outputs": [],
   "source": []
  },
  {
   "cell_type": "code",
   "execution_count": 30,
   "metadata": {
    "execution": {
     "iopub.execute_input": "2022-12-28T17:44:04.257163Z",
     "iopub.status.busy": "2022-12-28T17:44:04.256244Z",
     "iopub.status.idle": "2022-12-28T17:44:04.272008Z",
     "shell.execute_reply": "2022-12-28T17:44:04.270175Z"
    }
   },
   "outputs": [
    {
     "data": {
      "text/plain": [
       "COVID-19-NIH/NIAID     62\n",
       "COVID-19-HUniv12Oct    34\n",
       "COVID-19-ISB           13\n",
       "COVID-19-Adaptive       5\n",
       "Name: Dataset, dtype: int64"
      ]
     },
     "execution_count": 30,
     "metadata": {},
     "output_type": "execute_result"
    }
   ],
   "source": [
    "df[\"Dataset\"].value_counts()"
   ]
  },
  {
   "cell_type": "code",
   "execution_count": null,
   "metadata": {},
   "outputs": [],
   "source": []
  },
  {
   "cell_type": "code",
   "execution_count": 31,
   "metadata": {
    "execution": {
     "iopub.execute_input": "2022-12-28T17:44:04.280643Z",
     "iopub.status.busy": "2022-12-28T17:44:04.279914Z",
     "iopub.status.idle": "2022-12-28T17:44:04.294104Z",
     "shell.execute_reply": "2022-12-28T17:44:04.292122Z"
    }
   },
   "outputs": [],
   "source": [
    "# Maybe we should go further and guarantee that not HIV? We have that info for COVID-19-ISB only\n",
    "# But we can avoid that, because we are going to use Covid-vs-healthy model only."
   ]
  },
  {
   "cell_type": "code",
   "execution_count": null,
   "metadata": {},
   "outputs": [],
   "source": []
  },
  {
   "cell_type": "code",
   "execution_count": null,
   "metadata": {},
   "outputs": [],
   "source": []
  },
  {
   "cell_type": "code",
   "execution_count": 32,
   "metadata": {
    "execution": {
     "iopub.execute_input": "2022-12-28T17:44:04.303323Z",
     "iopub.status.busy": "2022-12-28T17:44:04.302427Z",
     "iopub.status.idle": "2022-12-28T17:44:04.334314Z",
     "shell.execute_reply": "2022-12-28T17:44:04.332601Z"
    }
   },
   "outputs": [
    {
     "data": {
      "text/html": [
       "<div>\n",
       "<style scoped>\n",
       "    .dataframe tbody tr th:only-of-type {\n",
       "        vertical-align: middle;\n",
       "    }\n",
       "\n",
       "    .dataframe tbody tr th {\n",
       "        vertical-align: top;\n",
       "    }\n",
       "\n",
       "    .dataframe thead th {\n",
       "        text-align: right;\n",
       "    }\n",
       "</style>\n",
       "<table border=\"1\" class=\"dataframe\">\n",
       "  <thead>\n",
       "    <tr style=\"text-align: right;\">\n",
       "      <th></th>\n",
       "      <th>Dataset</th>\n",
       "      <th>hospitalized</th>\n",
       "      <th>icu_admit</th>\n",
       "    </tr>\n",
       "  </thead>\n",
       "  <tbody>\n",
       "    <tr>\n",
       "      <th>6</th>\n",
       "      <td>COVID-19-HUniv12Oct</td>\n",
       "      <td>True</td>\n",
       "      <td>False</td>\n",
       "    </tr>\n",
       "    <tr>\n",
       "      <th>8</th>\n",
       "      <td>COVID-19-ISB</td>\n",
       "      <td>NaN</td>\n",
       "      <td>NaN</td>\n",
       "    </tr>\n",
       "    <tr>\n",
       "      <th>36</th>\n",
       "      <td>COVID-19-HUniv12Oct</td>\n",
       "      <td>True</td>\n",
       "      <td>False</td>\n",
       "    </tr>\n",
       "    <tr>\n",
       "      <th>37</th>\n",
       "      <td>COVID-19-ISB</td>\n",
       "      <td>NaN</td>\n",
       "      <td>NaN</td>\n",
       "    </tr>\n",
       "    <tr>\n",
       "      <th>51</th>\n",
       "      <td>COVID-19-NIH/NIAID</td>\n",
       "      <td>True</td>\n",
       "      <td>False</td>\n",
       "    </tr>\n",
       "    <tr>\n",
       "      <th>...</th>\n",
       "      <td>...</td>\n",
       "      <td>...</td>\n",
       "      <td>...</td>\n",
       "    </tr>\n",
       "    <tr>\n",
       "      <th>1455</th>\n",
       "      <td>COVID-19-ISB</td>\n",
       "      <td>NaN</td>\n",
       "      <td>NaN</td>\n",
       "    </tr>\n",
       "    <tr>\n",
       "      <th>1457</th>\n",
       "      <td>COVID-19-NIH/NIAID</td>\n",
       "      <td>True</td>\n",
       "      <td>False</td>\n",
       "    </tr>\n",
       "    <tr>\n",
       "      <th>1464</th>\n",
       "      <td>COVID-19-NIH/NIAID</td>\n",
       "      <td>True</td>\n",
       "      <td>True</td>\n",
       "    </tr>\n",
       "    <tr>\n",
       "      <th>1477</th>\n",
       "      <td>COVID-19-NIH/NIAID</td>\n",
       "      <td>True</td>\n",
       "      <td>True</td>\n",
       "    </tr>\n",
       "    <tr>\n",
       "      <th>1485</th>\n",
       "      <td>COVID-19-HUniv12Oct</td>\n",
       "      <td>True</td>\n",
       "      <td>False</td>\n",
       "    </tr>\n",
       "  </tbody>\n",
       "</table>\n",
       "<p>114 rows × 3 columns</p>\n",
       "</div>"
      ],
      "text/plain": [
       "                  Dataset hospitalized icu_admit\n",
       "6     COVID-19-HUniv12Oct         True     False\n",
       "8            COVID-19-ISB          NaN       NaN\n",
       "36    COVID-19-HUniv12Oct         True     False\n",
       "37           COVID-19-ISB          NaN       NaN\n",
       "51     COVID-19-NIH/NIAID         True     False\n",
       "...                   ...          ...       ...\n",
       "1455         COVID-19-ISB          NaN       NaN\n",
       "1457   COVID-19-NIH/NIAID         True     False\n",
       "1464   COVID-19-NIH/NIAID         True      True\n",
       "1477   COVID-19-NIH/NIAID         True      True\n",
       "1485  COVID-19-HUniv12Oct         True     False\n",
       "\n",
       "[114 rows x 3 columns]"
      ]
     },
     "execution_count": 32,
     "metadata": {},
     "output_type": "execute_result"
    }
   ],
   "source": [
    "# Set subtype\n",
    "df[[\"Dataset\", \"hospitalized\", \"icu_admit\"]]"
   ]
  },
  {
   "cell_type": "code",
   "execution_count": 33,
   "metadata": {
    "execution": {
     "iopub.execute_input": "2022-12-28T17:44:04.342315Z",
     "iopub.status.busy": "2022-12-28T17:44:04.341564Z",
     "iopub.status.idle": "2022-12-28T17:44:04.374920Z",
     "shell.execute_reply": "2022-12-28T17:44:04.373397Z"
    }
   },
   "outputs": [
    {
     "data": {
      "text/html": [
       "<div>\n",
       "<style scoped>\n",
       "    .dataframe tbody tr th:only-of-type {\n",
       "        vertical-align: middle;\n",
       "    }\n",
       "\n",
       "    .dataframe tbody tr th {\n",
       "        vertical-align: top;\n",
       "    }\n",
       "\n",
       "    .dataframe thead th {\n",
       "        text-align: right;\n",
       "    }\n",
       "</style>\n",
       "<table border=\"1\" class=\"dataframe\">\n",
       "  <thead>\n",
       "    <tr style=\"text-align: right;\">\n",
       "      <th></th>\n",
       "      <th>Dataset</th>\n",
       "      <th>hospitalized</th>\n",
       "      <th>icu_admit</th>\n",
       "    </tr>\n",
       "  </thead>\n",
       "  <tbody>\n",
       "    <tr>\n",
       "      <th>6</th>\n",
       "      <td>COVID-19-HUniv12Oct</td>\n",
       "      <td>Hospitalized</td>\n",
       "      <td>NaN</td>\n",
       "    </tr>\n",
       "    <tr>\n",
       "      <th>8</th>\n",
       "      <td>COVID-19-ISB</td>\n",
       "      <td>NaN</td>\n",
       "      <td>NaN</td>\n",
       "    </tr>\n",
       "    <tr>\n",
       "      <th>36</th>\n",
       "      <td>COVID-19-HUniv12Oct</td>\n",
       "      <td>Hospitalized</td>\n",
       "      <td>NaN</td>\n",
       "    </tr>\n",
       "    <tr>\n",
       "      <th>37</th>\n",
       "      <td>COVID-19-ISB</td>\n",
       "      <td>NaN</td>\n",
       "      <td>NaN</td>\n",
       "    </tr>\n",
       "    <tr>\n",
       "      <th>51</th>\n",
       "      <td>COVID-19-NIH/NIAID</td>\n",
       "      <td>Hospitalized</td>\n",
       "      <td>NaN</td>\n",
       "    </tr>\n",
       "    <tr>\n",
       "      <th>...</th>\n",
       "      <td>...</td>\n",
       "      <td>...</td>\n",
       "      <td>...</td>\n",
       "    </tr>\n",
       "    <tr>\n",
       "      <th>1455</th>\n",
       "      <td>COVID-19-ISB</td>\n",
       "      <td>NaN</td>\n",
       "      <td>NaN</td>\n",
       "    </tr>\n",
       "    <tr>\n",
       "      <th>1457</th>\n",
       "      <td>COVID-19-NIH/NIAID</td>\n",
       "      <td>Hospitalized</td>\n",
       "      <td>NaN</td>\n",
       "    </tr>\n",
       "    <tr>\n",
       "      <th>1464</th>\n",
       "      <td>COVID-19-NIH/NIAID</td>\n",
       "      <td>Hospitalized</td>\n",
       "      <td>ICU</td>\n",
       "    </tr>\n",
       "    <tr>\n",
       "      <th>1477</th>\n",
       "      <td>COVID-19-NIH/NIAID</td>\n",
       "      <td>Hospitalized</td>\n",
       "      <td>ICU</td>\n",
       "    </tr>\n",
       "    <tr>\n",
       "      <th>1485</th>\n",
       "      <td>COVID-19-HUniv12Oct</td>\n",
       "      <td>Hospitalized</td>\n",
       "      <td>NaN</td>\n",
       "    </tr>\n",
       "  </tbody>\n",
       "</table>\n",
       "<p>114 rows × 3 columns</p>\n",
       "</div>"
      ],
      "text/plain": [
       "                  Dataset  hospitalized icu_admit\n",
       "6     COVID-19-HUniv12Oct  Hospitalized       NaN\n",
       "8            COVID-19-ISB           NaN       NaN\n",
       "36    COVID-19-HUniv12Oct  Hospitalized       NaN\n",
       "37           COVID-19-ISB           NaN       NaN\n",
       "51     COVID-19-NIH/NIAID  Hospitalized       NaN\n",
       "...                   ...           ...       ...\n",
       "1455         COVID-19-ISB           NaN       NaN\n",
       "1457   COVID-19-NIH/NIAID  Hospitalized       NaN\n",
       "1464   COVID-19-NIH/NIAID  Hospitalized       ICU\n",
       "1477   COVID-19-NIH/NIAID  Hospitalized       ICU\n",
       "1485  COVID-19-HUniv12Oct  Hospitalized       NaN\n",
       "\n",
       "[114 rows x 3 columns]"
      ]
     },
     "execution_count": 33,
     "metadata": {},
     "output_type": "execute_result"
    }
   ],
   "source": [
    "df[\"icu_admit\"] = df[\"icu_admit\"].map({True: \"ICU\"})\n",
    "df[\"hospitalized\"] = df[\"hospitalized\"].map({True: \"Hospitalized\"})\n",
    "df[[\"Dataset\", \"hospitalized\", \"icu_admit\"]]"
   ]
  },
  {
   "cell_type": "code",
   "execution_count": 34,
   "metadata": {
    "execution": {
     "iopub.execute_input": "2022-12-28T17:44:04.383237Z",
     "iopub.status.busy": "2022-12-28T17:44:04.382385Z",
     "iopub.status.idle": "2022-12-28T17:44:04.411827Z",
     "shell.execute_reply": "2022-12-28T17:44:04.411020Z"
    }
   },
   "outputs": [
    {
     "data": {
      "text/plain": [
       "6            COVID-19-HUniv12Oct - Hospitalized\n",
       "8                                  COVID-19-ISB\n",
       "36           COVID-19-HUniv12Oct - Hospitalized\n",
       "37                                 COVID-19-ISB\n",
       "51            COVID-19-NIH/NIAID - Hospitalized\n",
       "                         ...                   \n",
       "1455                               COVID-19-ISB\n",
       "1457          COVID-19-NIH/NIAID - Hospitalized\n",
       "1464    COVID-19-NIH/NIAID - Hospitalized - ICU\n",
       "1477    COVID-19-NIH/NIAID - Hospitalized - ICU\n",
       "1485         COVID-19-HUniv12Oct - Hospitalized\n",
       "Name: disease_subtype, Length: 114, dtype: object"
      ]
     },
     "execution_count": 34,
     "metadata": {},
     "output_type": "execute_result"
    }
   ],
   "source": [
    "df[\"disease_subtype\"] = df[[\"Dataset\", \"hospitalized\", \"icu_admit\"]].apply(\n",
    "    lambda row: \" - \".join(row.dropna()), axis=1\n",
    ")\n",
    "df[\"disease_subtype\"]"
   ]
  },
  {
   "cell_type": "code",
   "execution_count": null,
   "metadata": {},
   "outputs": [],
   "source": []
  },
  {
   "cell_type": "code",
   "execution_count": 35,
   "metadata": {
    "execution": {
     "iopub.execute_input": "2022-12-28T17:44:04.420071Z",
     "iopub.status.busy": "2022-12-28T17:44:04.419721Z",
     "iopub.status.idle": "2022-12-28T17:44:04.439789Z",
     "shell.execute_reply": "2022-12-28T17:44:04.438157Z"
    }
   },
   "outputs": [
    {
     "data": {
      "text/plain": [
       "(93, 159)"
      ]
     },
     "execution_count": 35,
     "metadata": {},
     "output_type": "execute_result"
    }
   ],
   "source": [
    "# Get first row for each subject_id (can have multiple sample_name's)\n",
    "df = df.groupby(\"subject_id\").head(n=1)\n",
    "df.shape"
   ]
  },
  {
   "cell_type": "code",
   "execution_count": null,
   "metadata": {},
   "outputs": [],
   "source": []
  },
  {
   "cell_type": "code",
   "execution_count": 36,
   "metadata": {
    "execution": {
     "iopub.execute_input": "2022-12-28T17:44:04.447903Z",
     "iopub.status.busy": "2022-12-28T17:44:04.447184Z",
     "iopub.status.idle": "2022-12-28T17:44:04.464174Z",
     "shell.execute_reply": "2022-12-28T17:44:04.462646Z"
    }
   },
   "outputs": [],
   "source": [
    "# Set identifiers\n",
    "df = df.assign(\n",
    "    participant_label=\"ImmuneCode-\" + df[\"subject_id\"].astype(str),\n",
    "    disease=\"Covid19\",\n",
    ")\n",
    "\n",
    "df.rename(columns={\"sample_name\": \"specimen_label\"}, inplace=True)\n",
    "\n",
    "assert not df[\"specimen_label\"].duplicated().any()\n",
    "assert not df[\"participant_label\"].duplicated().any()"
   ]
  },
  {
   "cell_type": "code",
   "execution_count": 37,
   "metadata": {
    "execution": {
     "iopub.execute_input": "2022-12-28T17:44:04.472461Z",
     "iopub.status.busy": "2022-12-28T17:44:04.471558Z",
     "iopub.status.idle": "2022-12-28T17:44:04.495406Z",
     "shell.execute_reply": "2022-12-28T17:44:04.493435Z"
    }
   },
   "outputs": [],
   "source": [
    "df[\"sex\"] = df[\"Biological Sex\"].str.lower().replace({\"male\": \"M\", \"female\": \"F\"})"
   ]
  },
  {
   "cell_type": "code",
   "execution_count": 38,
   "metadata": {
    "execution": {
     "iopub.execute_input": "2022-12-28T17:44:04.504099Z",
     "iopub.status.busy": "2022-12-28T17:44:04.502955Z",
     "iopub.status.idle": "2022-12-28T17:44:04.531477Z",
     "shell.execute_reply": "2022-12-28T17:44:04.529858Z"
    }
   },
   "outputs": [
    {
     "data": {
      "text/plain": [
       "53    5\n",
       "59    5\n",
       "52    4\n",
       "60    4\n",
       "55    4\n",
       "54    4\n",
       "49    3\n",
       "66    3\n",
       "56    3\n",
       "75    2\n",
       "58    2\n",
       "48    2\n",
       "88    2\n",
       "89    2\n",
       "50    2\n",
       "79    2\n",
       "84    2\n",
       "34    2\n",
       "39    2\n",
       "70    2\n",
       "76    2\n",
       "78    2\n",
       "77    2\n",
       "85    2\n",
       "57    2\n",
       "40    2\n",
       "71    2\n",
       "29    1\n",
       "82    1\n",
       "51    1\n",
       "08    1\n",
       "62    1\n",
       "38    1\n",
       "45    1\n",
       "46    1\n",
       "27    1\n",
       "42    1\n",
       "35    1\n",
       "24    1\n",
       "80    1\n",
       "67    1\n",
       "23    1\n",
       "26    1\n",
       "63    1\n",
       "30    1\n",
       "36    1\n",
       "33    1\n",
       "61    1\n",
       "72    1\n",
       "Name: age, dtype: int64"
      ]
     },
     "execution_count": 38,
     "metadata": {},
     "output_type": "execute_result"
    }
   ],
   "source": [
    "# extract number of years\n",
    "df[\"age\"] = df[\"Age\"].str.extract(\"(\\d+)\")\n",
    "df[\"age\"].value_counts()"
   ]
  },
  {
   "cell_type": "code",
   "execution_count": 39,
   "metadata": {
    "execution": {
     "iopub.execute_input": "2022-12-28T17:44:04.539346Z",
     "iopub.status.busy": "2022-12-28T17:44:04.538578Z",
     "iopub.status.idle": "2022-12-28T17:44:04.562264Z",
     "shell.execute_reply": "2022-12-28T17:44:04.560434Z"
    }
   },
   "outputs": [
    {
     "data": {
      "text/plain": [
       "Caucasian - Unknown                                   73\n",
       "Hispanic - Unknown                                     8\n",
       "Unknown racial group - Hispanic or Latino              4\n",
       "Caucasian - Non-Hispanic or Latino                     3\n",
       "Unknown - Unknown                                      2\n",
       "Unknown racial group - Non-Hispanic or Latino          1\n",
       "Asian or Pacific Islander - Non-Hispanic or Latino     1\n",
       "Asian or Pacific Islander - Unknown                    1\n",
       "Name: ethnicity, dtype: int64"
      ]
     },
     "execution_count": 39,
     "metadata": {},
     "output_type": "execute_result"
    }
   ],
   "source": [
    "df[\"ethnicity\"] = (\n",
    "    df[\"Racial Group\"].fillna(\"Unknown\") + \" - \" + df[\"Ethnic Group\"].fillna(\"Unknown\")\n",
    ")\n",
    "df[\"ethnicity\"].value_counts()"
   ]
  },
  {
   "cell_type": "code",
   "execution_count": 40,
   "metadata": {
    "execution": {
     "iopub.execute_input": "2022-12-28T17:44:04.570086Z",
     "iopub.status.busy": "2022-12-28T17:44:04.569491Z",
     "iopub.status.idle": "2022-12-28T17:44:04.602487Z",
     "shell.execute_reply": "2022-12-28T17:44:04.600516Z"
    }
   },
   "outputs": [
    {
     "data": {
      "text/plain": [
       "Caucasian          76\n",
       "Hispanic/Latino    12\n",
       "Asian               2\n",
       "Name: ethnicity_condensed, dtype: int64"
      ]
     },
     "execution_count": 40,
     "metadata": {},
     "output_type": "execute_result"
    }
   ],
   "source": [
    "df[\"ethnicity_condensed\"] = df[\"ethnicity\"].replace(\n",
    "    {\n",
    "        \"Caucasian - Unknown\": \"Caucasian\",\n",
    "        \"Hispanic - Unknown\": \"Hispanic/Latino\",\n",
    "        \"Unknown racial group - Hispanic or Latino\": \"Hispanic/Latino\",\n",
    "        \"Caucasian - Non-Hispanic or Latino\": \"Caucasian\",\n",
    "        \"Unknown - Unknown\": np.nan,\n",
    "        \"Unknown racial group - Non-Hispanic or Latino\": np.nan,\n",
    "        \"Asian or Pacific Islander - Non-Hispanic or Latino\": \"Asian\",\n",
    "        \"Asian or Pacific Islander - Unknown\": \"Asian\",\n",
    "    }\n",
    ")\n",
    "df[\"ethnicity_condensed\"].value_counts()"
   ]
  },
  {
   "cell_type": "code",
   "execution_count": 41,
   "metadata": {
    "execution": {
     "iopub.execute_input": "2022-12-28T17:44:04.610301Z",
     "iopub.status.busy": "2022-12-28T17:44:04.609709Z",
     "iopub.status.idle": "2022-12-28T17:44:04.651601Z",
     "shell.execute_reply": "2022-12-28T17:44:04.650021Z"
    }
   },
   "outputs": [
    {
     "data": {
      "text/html": [
       "<div>\n",
       "<style scoped>\n",
       "    .dataframe tbody tr th:only-of-type {\n",
       "        vertical-align: middle;\n",
       "    }\n",
       "\n",
       "    .dataframe tbody tr th {\n",
       "        vertical-align: top;\n",
       "    }\n",
       "\n",
       "    .dataframe thead th {\n",
       "        text-align: right;\n",
       "    }\n",
       "</style>\n",
       "<table border=\"1\" class=\"dataframe\">\n",
       "  <thead>\n",
       "    <tr style=\"text-align: right;\">\n",
       "      <th></th>\n",
       "      <th>participant_label</th>\n",
       "      <th>specimen_label</th>\n",
       "      <th>disease</th>\n",
       "      <th>disease_subtype</th>\n",
       "      <th>age</th>\n",
       "      <th>sex</th>\n",
       "      <th>ethnicity_condensed</th>\n",
       "    </tr>\n",
       "  </thead>\n",
       "  <tbody>\n",
       "    <tr>\n",
       "      <th>6</th>\n",
       "      <td>ImmuneCode-190921</td>\n",
       "      <td>860011232_TCRB</td>\n",
       "      <td>Covid19</td>\n",
       "      <td>COVID-19-HUniv12Oct - Hospitalized</td>\n",
       "      <td>53</td>\n",
       "      <td>F</td>\n",
       "      <td>Hispanic/Latino</td>\n",
       "    </tr>\n",
       "    <tr>\n",
       "      <th>8</th>\n",
       "      <td>ImmuneCode-026</td>\n",
       "      <td>INCOV026-AC-3_TCRB</td>\n",
       "      <td>Covid19</td>\n",
       "      <td>COVID-19-ISB</td>\n",
       "      <td>33</td>\n",
       "      <td>M</td>\n",
       "      <td>Hispanic/Latino</td>\n",
       "    </tr>\n",
       "    <tr>\n",
       "      <th>36</th>\n",
       "      <td>ImmuneCode-321977</td>\n",
       "      <td>860011116_TCRB</td>\n",
       "      <td>Covid19</td>\n",
       "      <td>COVID-19-HUniv12Oct - Hospitalized</td>\n",
       "      <td>52</td>\n",
       "      <td>F</td>\n",
       "      <td>Caucasian</td>\n",
       "    </tr>\n",
       "    <tr>\n",
       "      <th>37</th>\n",
       "      <td>ImmuneCode-087</td>\n",
       "      <td>INCOV087-BL-3_TCRB</td>\n",
       "      <td>Covid19</td>\n",
       "      <td>COVID-19-ISB</td>\n",
       "      <td>56</td>\n",
       "      <td>M</td>\n",
       "      <td>Hispanic/Latino</td>\n",
       "    </tr>\n",
       "    <tr>\n",
       "      <th>51</th>\n",
       "      <td>ImmuneCode-0000051</td>\n",
       "      <td>BS-EQ-0014-T2-replacement_TCRB</td>\n",
       "      <td>Covid19</td>\n",
       "      <td>COVID-19-NIH/NIAID - Hospitalized</td>\n",
       "      <td>55</td>\n",
       "      <td>M</td>\n",
       "      <td>Caucasian</td>\n",
       "    </tr>\n",
       "    <tr>\n",
       "      <th>...</th>\n",
       "      <td>...</td>\n",
       "      <td>...</td>\n",
       "      <td>...</td>\n",
       "      <td>...</td>\n",
       "      <td>...</td>\n",
       "      <td>...</td>\n",
       "      <td>...</td>\n",
       "    </tr>\n",
       "    <tr>\n",
       "      <th>1422</th>\n",
       "      <td>ImmuneCode-ADIRP0001958</td>\n",
       "      <td>ADIRP0001958_TCRB</td>\n",
       "      <td>Covid19</td>\n",
       "      <td>COVID-19-Adaptive</td>\n",
       "      <td>49</td>\n",
       "      <td>M</td>\n",
       "      <td>Caucasian</td>\n",
       "    </tr>\n",
       "    <tr>\n",
       "      <th>1434</th>\n",
       "      <td>ImmuneCode-775827</td>\n",
       "      <td>860011106_TCRB</td>\n",
       "      <td>Covid19</td>\n",
       "      <td>COVID-19-HUniv12Oct - Hospitalized</td>\n",
       "      <td>57</td>\n",
       "      <td>F</td>\n",
       "      <td>Caucasian</td>\n",
       "    </tr>\n",
       "    <tr>\n",
       "      <th>1457</th>\n",
       "      <td>ImmuneCode-0000446</td>\n",
       "      <td>BS-GIGI_10-replacement_TCRB</td>\n",
       "      <td>Covid19</td>\n",
       "      <td>COVID-19-NIH/NIAID - Hospitalized</td>\n",
       "      <td>75</td>\n",
       "      <td>M</td>\n",
       "      <td>Caucasian</td>\n",
       "    </tr>\n",
       "    <tr>\n",
       "      <th>1477</th>\n",
       "      <td>ImmuneCode-0000160</td>\n",
       "      <td>BS-EQ-25-T1_BS-GIGI-71-replacement_TCRB</td>\n",
       "      <td>Covid19</td>\n",
       "      <td>COVID-19-NIH/NIAID - Hospitalized - ICU</td>\n",
       "      <td>72</td>\n",
       "      <td>M</td>\n",
       "      <td>Caucasian</td>\n",
       "    </tr>\n",
       "    <tr>\n",
       "      <th>1485</th>\n",
       "      <td>ImmuneCode-506345</td>\n",
       "      <td>860011240_TCRB</td>\n",
       "      <td>Covid19</td>\n",
       "      <td>COVID-19-HUniv12Oct - Hospitalized</td>\n",
       "      <td>78</td>\n",
       "      <td>F</td>\n",
       "      <td>Caucasian</td>\n",
       "    </tr>\n",
       "  </tbody>\n",
       "</table>\n",
       "<p>93 rows × 7 columns</p>\n",
       "</div>"
      ],
      "text/plain": [
       "            participant_label                           specimen_label  \\\n",
       "6           ImmuneCode-190921                           860011232_TCRB   \n",
       "8              ImmuneCode-026                       INCOV026-AC-3_TCRB   \n",
       "36          ImmuneCode-321977                           860011116_TCRB   \n",
       "37             ImmuneCode-087                       INCOV087-BL-3_TCRB   \n",
       "51         ImmuneCode-0000051           BS-EQ-0014-T2-replacement_TCRB   \n",
       "...                       ...                                      ...   \n",
       "1422  ImmuneCode-ADIRP0001958                        ADIRP0001958_TCRB   \n",
       "1434        ImmuneCode-775827                           860011106_TCRB   \n",
       "1457       ImmuneCode-0000446              BS-GIGI_10-replacement_TCRB   \n",
       "1477       ImmuneCode-0000160  BS-EQ-25-T1_BS-GIGI-71-replacement_TCRB   \n",
       "1485        ImmuneCode-506345                           860011240_TCRB   \n",
       "\n",
       "      disease                          disease_subtype age sex  \\\n",
       "6     Covid19       COVID-19-HUniv12Oct - Hospitalized  53   F   \n",
       "8     Covid19                             COVID-19-ISB  33   M   \n",
       "36    Covid19       COVID-19-HUniv12Oct - Hospitalized  52   F   \n",
       "37    Covid19                             COVID-19-ISB  56   M   \n",
       "51    Covid19        COVID-19-NIH/NIAID - Hospitalized  55   M   \n",
       "...       ...                                      ...  ..  ..   \n",
       "1422  Covid19                        COVID-19-Adaptive  49   M   \n",
       "1434  Covid19       COVID-19-HUniv12Oct - Hospitalized  57   F   \n",
       "1457  Covid19        COVID-19-NIH/NIAID - Hospitalized  75   M   \n",
       "1477  Covid19  COVID-19-NIH/NIAID - Hospitalized - ICU  72   M   \n",
       "1485  Covid19       COVID-19-HUniv12Oct - Hospitalized  78   F   \n",
       "\n",
       "     ethnicity_condensed  \n",
       "6        Hispanic/Latino  \n",
       "8        Hispanic/Latino  \n",
       "36             Caucasian  \n",
       "37       Hispanic/Latino  \n",
       "51             Caucasian  \n",
       "...                  ...  \n",
       "1422           Caucasian  \n",
       "1434           Caucasian  \n",
       "1457           Caucasian  \n",
       "1477           Caucasian  \n",
       "1485           Caucasian  \n",
       "\n",
       "[93 rows x 7 columns]"
      ]
     },
     "execution_count": 41,
     "metadata": {},
     "output_type": "execute_result"
    }
   ],
   "source": [
    "df = df[\n",
    "    [\n",
    "        \"participant_label\",\n",
    "        \"specimen_label\",\n",
    "        \"disease\",\n",
    "        \"disease_subtype\",\n",
    "        \"age\",\n",
    "        \"sex\",\n",
    "        \"ethnicity_condensed\",\n",
    "    ]\n",
    "]\n",
    "df"
   ]
  },
  {
   "cell_type": "code",
   "execution_count": 42,
   "metadata": {
    "execution": {
     "iopub.execute_input": "2022-12-28T17:44:04.658673Z",
     "iopub.status.busy": "2022-12-28T17:44:04.657738Z",
     "iopub.status.idle": "2022-12-28T17:44:04.676839Z",
     "shell.execute_reply": "2022-12-28T17:44:04.674853Z"
    }
   },
   "outputs": [],
   "source": [
    "df.to_csv(\n",
    "    config.paths.metadata_dir\n",
    "    / \"generated.external_cohorts.adaptive_covid_tcr.specimens.tsv\",\n",
    "    sep=\"\\t\",\n",
    "    index=None,\n",
    ")"
   ]
  },
  {
   "cell_type": "code",
   "execution_count": null,
   "metadata": {},
   "outputs": [],
   "source": []
  },
  {
   "cell_type": "code",
   "execution_count": null,
   "metadata": {},
   "outputs": [],
   "source": []
  }
 ],
 "metadata": {
  "jupytext": {
   "cell_metadata_filter": "-all"
  },
  "kernelspec": {
   "display_name": "py39-cuda-env",
   "language": "python",
   "name": "py39-cuda-env"
  },
  "language_info": {
   "codemirror_mode": {
    "name": "ipython",
    "version": 3
   },
   "file_extension": ".py",
   "mimetype": "text/x-python",
   "name": "python",
   "nbconvert_exporter": "python",
   "pygments_lexer": "ipython3",
   "version": "3.9.13"
  }
 },
 "nbformat": 4,
 "nbformat_minor": 4
}
