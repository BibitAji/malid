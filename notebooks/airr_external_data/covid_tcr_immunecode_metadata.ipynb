{
 "cells": [
  {
   "cell_type": "code",
   "execution_count": 1,
   "metadata": {
    "execution": {
     "iopub.execute_input": "2023-10-28T16:46:11.070707Z",
     "iopub.status.busy": "2023-10-28T16:46:11.070150Z",
     "iopub.status.idle": "2023-10-28T16:46:16.858378Z",
     "shell.execute_reply": "2023-10-28T16:46:16.856849Z"
    }
   },
   "outputs": [],
   "source": [
    "from malid import config\n",
    "import pandas as pd\n",
    "import numpy as np"
   ]
  },
  {
   "cell_type": "code",
   "execution_count": null,
   "metadata": {},
   "outputs": [],
   "source": []
  },
  {
   "cell_type": "markdown",
   "metadata": {},
   "source": [
    "# Filter ImmuneCODE dataset to \"Covid peak-timepoint\" samples for external validation.\n",
    "\n",
    "Goal is no comorbidities with immune effects"
   ]
  },
  {
   "cell_type": "code",
   "execution_count": null,
   "metadata": {},
   "outputs": [],
   "source": []
  },
  {
   "cell_type": "code",
   "execution_count": 2,
   "metadata": {
    "execution": {
     "iopub.execute_input": "2023-10-28T16:46:16.864559Z",
     "iopub.status.busy": "2023-10-28T16:46:16.864325Z",
     "iopub.status.idle": "2023-10-28T16:46:16.949270Z",
     "shell.execute_reply": "2023-10-28T16:46:16.947824Z"
    }
   },
   "outputs": [
    {
     "data": {
      "text/plain": [
       "(1486, 158)"
      ]
     },
     "execution_count": 2,
     "metadata": {},
     "output_type": "execute_result"
    }
   ],
   "source": [
    "df = pd.read_csv(\n",
    "    config.paths.metadata_dir / \"adaptive\" / \"ImmuneCODE-Repertoire-Tags-002.2.tsv\",\n",
    "    sep=\"\\t\",\n",
    ")\n",
    "df.shape"
   ]
  },
  {
   "cell_type": "code",
   "execution_count": 3,
   "metadata": {
    "execution": {
     "iopub.execute_input": "2023-10-28T16:46:16.954368Z",
     "iopub.status.busy": "2023-10-28T16:46:16.954180Z",
     "iopub.status.idle": "2023-10-28T16:46:16.980999Z",
     "shell.execute_reply": "2023-10-28T16:46:16.979563Z"
    }
   },
   "outputs": [
    {
     "data": {
      "text/html": [
       "<div>\n",
       "<style scoped>\n",
       "    .dataframe tbody tr th:only-of-type {\n",
       "        vertical-align: middle;\n",
       "    }\n",
       "\n",
       "    .dataframe tbody tr th {\n",
       "        vertical-align: top;\n",
       "    }\n",
       "\n",
       "    .dataframe thead th {\n",
       "        text-align: right;\n",
       "    }\n",
       "</style>\n",
       "<table border=\"1\" class=\"dataframe\">\n",
       "  <thead>\n",
       "    <tr style=\"text-align: right;\">\n",
       "      <th></th>\n",
       "      <th>ImmuneCODERelease</th>\n",
       "      <th>Dataset</th>\n",
       "      <th>sample_name</th>\n",
       "      <th>subject_id</th>\n",
       "      <th>Virus Diseases</th>\n",
       "      <th>Age</th>\n",
       "      <th>Biological Sex</th>\n",
       "      <th>Racial Group</th>\n",
       "      <th>Tissue Source</th>\n",
       "      <th>Ethnic Group</th>\n",
       "      <th>...</th>\n",
       "      <th>uses_ace_inhibitor</th>\n",
       "      <th>uses_arb</th>\n",
       "      <th>uses_asthma_quick_relief</th>\n",
       "      <th>uses_autoimmune_medications</th>\n",
       "      <th>uses_corticosteroids_for_asthma</th>\n",
       "      <th>uses_immunosuppressant</th>\n",
       "      <th>uses_nsaid</th>\n",
       "      <th>visit</th>\n",
       "      <th>weight_kg</th>\n",
       "      <th>who_ordinal_scale</th>\n",
       "    </tr>\n",
       "  </thead>\n",
       "  <tbody>\n",
       "    <tr>\n",
       "      <th>0</th>\n",
       "      <td>2.0</td>\n",
       "      <td>COVID-19-NIH/NIAID</td>\n",
       "      <td>BS-GIGI_61-replacement_TCRB</td>\n",
       "      <td>0000105</td>\n",
       "      <td>COVID-19 Positive</td>\n",
       "      <td>71 Years</td>\n",
       "      <td>Male</td>\n",
       "      <td>Caucasian</td>\n",
       "      <td>Blood,gDNA</td>\n",
       "      <td>NaN</td>\n",
       "      <td>...</td>\n",
       "      <td>NaN</td>\n",
       "      <td>NaN</td>\n",
       "      <td>NaN</td>\n",
       "      <td>NaN</td>\n",
       "      <td>NaN</td>\n",
       "      <td>NaN</td>\n",
       "      <td>NaN</td>\n",
       "      <td>NaN</td>\n",
       "      <td>NaN</td>\n",
       "      <td>NaN</td>\n",
       "    </tr>\n",
       "    <tr>\n",
       "      <th>1</th>\n",
       "      <td>2.0</td>\n",
       "      <td>COVID-19-HUniv12Oct</td>\n",
       "      <td>860011221_TCRB</td>\n",
       "      <td>109731</td>\n",
       "      <td>COVID-19 Positive</td>\n",
       "      <td>64 Years</td>\n",
       "      <td>Male</td>\n",
       "      <td>Hispanic</td>\n",
       "      <td>Blood</td>\n",
       "      <td>NaN</td>\n",
       "      <td>...</td>\n",
       "      <td>NaN</td>\n",
       "      <td>NaN</td>\n",
       "      <td>NaN</td>\n",
       "      <td>NaN</td>\n",
       "      <td>NaN</td>\n",
       "      <td>NaN</td>\n",
       "      <td>NaN</td>\n",
       "      <td>NaN</td>\n",
       "      <td>NaN</td>\n",
       "      <td>NaN</td>\n",
       "    </tr>\n",
       "    <tr>\n",
       "      <th>2</th>\n",
       "      <td>2.0</td>\n",
       "      <td>COVID-19-NIH/NIAID</td>\n",
       "      <td>1246-BM-1050_TCRB</td>\n",
       "      <td>NaN</td>\n",
       "      <td>NaN</td>\n",
       "      <td>NaN</td>\n",
       "      <td>NaN</td>\n",
       "      <td>NaN</td>\n",
       "      <td>Buffy Coat,gDNA</td>\n",
       "      <td>NaN</td>\n",
       "      <td>...</td>\n",
       "      <td>NaN</td>\n",
       "      <td>NaN</td>\n",
       "      <td>NaN</td>\n",
       "      <td>NaN</td>\n",
       "      <td>NaN</td>\n",
       "      <td>NaN</td>\n",
       "      <td>NaN</td>\n",
       "      <td>NaN</td>\n",
       "      <td>NaN</td>\n",
       "      <td>NaN</td>\n",
       "    </tr>\n",
       "    <tr>\n",
       "      <th>3</th>\n",
       "      <td>2.0</td>\n",
       "      <td>COVID-19-Adaptive</td>\n",
       "      <td>ADIRP0000106_TCRB</td>\n",
       "      <td>ADIRP0000106</td>\n",
       "      <td>COVID-19 Positive</td>\n",
       "      <td>41 Years</td>\n",
       "      <td>Female</td>\n",
       "      <td>Hispanic</td>\n",
       "      <td>Blood</td>\n",
       "      <td>NaN</td>\n",
       "      <td>...</td>\n",
       "      <td>NaN</td>\n",
       "      <td>NaN</td>\n",
       "      <td>NaN</td>\n",
       "      <td>NaN</td>\n",
       "      <td>NaN</td>\n",
       "      <td>False</td>\n",
       "      <td>NaN</td>\n",
       "      <td>1.0</td>\n",
       "      <td>NaN</td>\n",
       "      <td>NaN</td>\n",
       "    </tr>\n",
       "    <tr>\n",
       "      <th>4</th>\n",
       "      <td>2.0</td>\n",
       "      <td>COVID-19-NIH/NIAID</td>\n",
       "      <td>BS-HS-185_TCRB</td>\n",
       "      <td>NaN</td>\n",
       "      <td>NaN</td>\n",
       "      <td>NaN</td>\n",
       "      <td>NaN</td>\n",
       "      <td>NaN</td>\n",
       "      <td>Blood,gDNA</td>\n",
       "      <td>NaN</td>\n",
       "      <td>...</td>\n",
       "      <td>NaN</td>\n",
       "      <td>NaN</td>\n",
       "      <td>NaN</td>\n",
       "      <td>NaN</td>\n",
       "      <td>NaN</td>\n",
       "      <td>NaN</td>\n",
       "      <td>NaN</td>\n",
       "      <td>NaN</td>\n",
       "      <td>NaN</td>\n",
       "      <td>NaN</td>\n",
       "    </tr>\n",
       "    <tr>\n",
       "      <th>...</th>\n",
       "      <td>...</td>\n",
       "      <td>...</td>\n",
       "      <td>...</td>\n",
       "      <td>...</td>\n",
       "      <td>...</td>\n",
       "      <td>...</td>\n",
       "      <td>...</td>\n",
       "      <td>...</td>\n",
       "      <td>...</td>\n",
       "      <td>...</td>\n",
       "      <td>...</td>\n",
       "      <td>...</td>\n",
       "      <td>...</td>\n",
       "      <td>...</td>\n",
       "      <td>...</td>\n",
       "      <td>...</td>\n",
       "      <td>...</td>\n",
       "      <td>...</td>\n",
       "      <td>...</td>\n",
       "      <td>...</td>\n",
       "      <td>...</td>\n",
       "    </tr>\n",
       "    <tr>\n",
       "      <th>1481</th>\n",
       "      <td>2.0</td>\n",
       "      <td>COVID-19-NIH/NIAID</td>\n",
       "      <td>BS-HS-189_TCRB</td>\n",
       "      <td>NaN</td>\n",
       "      <td>NaN</td>\n",
       "      <td>NaN</td>\n",
       "      <td>NaN</td>\n",
       "      <td>NaN</td>\n",
       "      <td>Blood,gDNA</td>\n",
       "      <td>NaN</td>\n",
       "      <td>...</td>\n",
       "      <td>NaN</td>\n",
       "      <td>NaN</td>\n",
       "      <td>NaN</td>\n",
       "      <td>NaN</td>\n",
       "      <td>NaN</td>\n",
       "      <td>NaN</td>\n",
       "      <td>NaN</td>\n",
       "      <td>NaN</td>\n",
       "      <td>NaN</td>\n",
       "      <td>NaN</td>\n",
       "    </tr>\n",
       "    <tr>\n",
       "      <th>1482</th>\n",
       "      <td>2.0</td>\n",
       "      <td>COVID-19-HUniv12Oct</td>\n",
       "      <td>860011252_TCRB</td>\n",
       "      <td>391599</td>\n",
       "      <td>COVID-19 Positive</td>\n",
       "      <td>35 Years</td>\n",
       "      <td>Male</td>\n",
       "      <td>Caucasian</td>\n",
       "      <td>Blood</td>\n",
       "      <td>NaN</td>\n",
       "      <td>...</td>\n",
       "      <td>NaN</td>\n",
       "      <td>NaN</td>\n",
       "      <td>NaN</td>\n",
       "      <td>NaN</td>\n",
       "      <td>NaN</td>\n",
       "      <td>NaN</td>\n",
       "      <td>NaN</td>\n",
       "      <td>NaN</td>\n",
       "      <td>NaN</td>\n",
       "      <td>NaN</td>\n",
       "    </tr>\n",
       "    <tr>\n",
       "      <th>1483</th>\n",
       "      <td>2.0</td>\n",
       "      <td>COVID-19-NIH/NIAID</td>\n",
       "      <td>1127-BA-739_TCRB</td>\n",
       "      <td>NaN</td>\n",
       "      <td>NaN</td>\n",
       "      <td>NaN</td>\n",
       "      <td>NaN</td>\n",
       "      <td>NaN</td>\n",
       "      <td>Buffy Coat,gDNA</td>\n",
       "      <td>NaN</td>\n",
       "      <td>...</td>\n",
       "      <td>NaN</td>\n",
       "      <td>NaN</td>\n",
       "      <td>NaN</td>\n",
       "      <td>NaN</td>\n",
       "      <td>NaN</td>\n",
       "      <td>NaN</td>\n",
       "      <td>NaN</td>\n",
       "      <td>NaN</td>\n",
       "      <td>NaN</td>\n",
       "      <td>NaN</td>\n",
       "    </tr>\n",
       "    <tr>\n",
       "      <th>1484</th>\n",
       "      <td>2.0</td>\n",
       "      <td>COVID-19-Adaptive</td>\n",
       "      <td>ADIRP0001311_TCRB</td>\n",
       "      <td>ADIRP0001311</td>\n",
       "      <td>COVID-19 Positive</td>\n",
       "      <td>36 Years</td>\n",
       "      <td>Female</td>\n",
       "      <td>Caucasian</td>\n",
       "      <td>Blood</td>\n",
       "      <td>NaN</td>\n",
       "      <td>...</td>\n",
       "      <td>NaN</td>\n",
       "      <td>NaN</td>\n",
       "      <td>NaN</td>\n",
       "      <td>NaN</td>\n",
       "      <td>NaN</td>\n",
       "      <td>False</td>\n",
       "      <td>NaN</td>\n",
       "      <td>1.0</td>\n",
       "      <td>NaN</td>\n",
       "      <td>NaN</td>\n",
       "    </tr>\n",
       "    <tr>\n",
       "      <th>1485</th>\n",
       "      <td>2.0</td>\n",
       "      <td>COVID-19-HUniv12Oct</td>\n",
       "      <td>860011240_TCRB</td>\n",
       "      <td>506345</td>\n",
       "      <td>COVID-19 Positive</td>\n",
       "      <td>78 Years</td>\n",
       "      <td>Female</td>\n",
       "      <td>Caucasian</td>\n",
       "      <td>Blood</td>\n",
       "      <td>NaN</td>\n",
       "      <td>...</td>\n",
       "      <td>NaN</td>\n",
       "      <td>NaN</td>\n",
       "      <td>NaN</td>\n",
       "      <td>NaN</td>\n",
       "      <td>NaN</td>\n",
       "      <td>NaN</td>\n",
       "      <td>NaN</td>\n",
       "      <td>NaN</td>\n",
       "      <td>NaN</td>\n",
       "      <td>NaN</td>\n",
       "    </tr>\n",
       "  </tbody>\n",
       "</table>\n",
       "<p>1486 rows × 158 columns</p>\n",
       "</div>"
      ],
      "text/plain": [
       "      ImmuneCODERelease              Dataset                  sample_name  \\\n",
       "0                   2.0   COVID-19-NIH/NIAID  BS-GIGI_61-replacement_TCRB   \n",
       "1                   2.0  COVID-19-HUniv12Oct               860011221_TCRB   \n",
       "2                   2.0   COVID-19-NIH/NIAID            1246-BM-1050_TCRB   \n",
       "3                   2.0    COVID-19-Adaptive            ADIRP0000106_TCRB   \n",
       "4                   2.0   COVID-19-NIH/NIAID               BS-HS-185_TCRB   \n",
       "...                 ...                  ...                          ...   \n",
       "1481                2.0   COVID-19-NIH/NIAID               BS-HS-189_TCRB   \n",
       "1482                2.0  COVID-19-HUniv12Oct               860011252_TCRB   \n",
       "1483                2.0   COVID-19-NIH/NIAID             1127-BA-739_TCRB   \n",
       "1484                2.0    COVID-19-Adaptive            ADIRP0001311_TCRB   \n",
       "1485                2.0  COVID-19-HUniv12Oct               860011240_TCRB   \n",
       "\n",
       "        subject_id     Virus Diseases       Age Biological Sex Racial Group  \\\n",
       "0          0000105  COVID-19 Positive  71 Years           Male    Caucasian   \n",
       "1           109731  COVID-19 Positive  64 Years           Male     Hispanic   \n",
       "2              NaN                NaN       NaN            NaN          NaN   \n",
       "3     ADIRP0000106  COVID-19 Positive  41 Years         Female     Hispanic   \n",
       "4              NaN                NaN       NaN            NaN          NaN   \n",
       "...            ...                ...       ...            ...          ...   \n",
       "1481           NaN                NaN       NaN            NaN          NaN   \n",
       "1482        391599  COVID-19 Positive  35 Years           Male    Caucasian   \n",
       "1483           NaN                NaN       NaN            NaN          NaN   \n",
       "1484  ADIRP0001311  COVID-19 Positive  36 Years         Female    Caucasian   \n",
       "1485        506345  COVID-19 Positive  78 Years         Female    Caucasian   \n",
       "\n",
       "        Tissue Source Ethnic Group  ... uses_ace_inhibitor uses_arb  \\\n",
       "0          Blood,gDNA          NaN  ...                NaN      NaN   \n",
       "1               Blood          NaN  ...                NaN      NaN   \n",
       "2     Buffy Coat,gDNA          NaN  ...                NaN      NaN   \n",
       "3               Blood          NaN  ...                NaN      NaN   \n",
       "4          Blood,gDNA          NaN  ...                NaN      NaN   \n",
       "...               ...          ...  ...                ...      ...   \n",
       "1481       Blood,gDNA          NaN  ...                NaN      NaN   \n",
       "1482            Blood          NaN  ...                NaN      NaN   \n",
       "1483  Buffy Coat,gDNA          NaN  ...                NaN      NaN   \n",
       "1484            Blood          NaN  ...                NaN      NaN   \n",
       "1485            Blood          NaN  ...                NaN      NaN   \n",
       "\n",
       "     uses_asthma_quick_relief uses_autoimmune_medications  \\\n",
       "0                         NaN                         NaN   \n",
       "1                         NaN                         NaN   \n",
       "2                         NaN                         NaN   \n",
       "3                         NaN                         NaN   \n",
       "4                         NaN                         NaN   \n",
       "...                       ...                         ...   \n",
       "1481                      NaN                         NaN   \n",
       "1482                      NaN                         NaN   \n",
       "1483                      NaN                         NaN   \n",
       "1484                      NaN                         NaN   \n",
       "1485                      NaN                         NaN   \n",
       "\n",
       "     uses_corticosteroids_for_asthma uses_immunosuppressant  uses_nsaid  \\\n",
       "0                                NaN                    NaN         NaN   \n",
       "1                                NaN                    NaN         NaN   \n",
       "2                                NaN                    NaN         NaN   \n",
       "3                                NaN                  False         NaN   \n",
       "4                                NaN                    NaN         NaN   \n",
       "...                              ...                    ...         ...   \n",
       "1481                             NaN                    NaN         NaN   \n",
       "1482                             NaN                    NaN         NaN   \n",
       "1483                             NaN                    NaN         NaN   \n",
       "1484                             NaN                  False         NaN   \n",
       "1485                             NaN                    NaN         NaN   \n",
       "\n",
       "      visit  weight_kg  who_ordinal_scale  \n",
       "0       NaN        NaN                NaN  \n",
       "1       NaN        NaN                NaN  \n",
       "2       NaN        NaN                NaN  \n",
       "3       1.0        NaN                NaN  \n",
       "4       NaN        NaN                NaN  \n",
       "...     ...        ...                ...  \n",
       "1481    NaN        NaN                NaN  \n",
       "1482    NaN        NaN                NaN  \n",
       "1483    NaN        NaN                NaN  \n",
       "1484    1.0        NaN                NaN  \n",
       "1485    NaN        NaN                NaN  \n",
       "\n",
       "[1486 rows x 158 columns]"
      ]
     },
     "execution_count": 3,
     "metadata": {},
     "output_type": "execute_result"
    }
   ],
   "source": [
    "df"
   ]
  },
  {
   "cell_type": "code",
   "execution_count": 4,
   "metadata": {
    "execution": {
     "iopub.execute_input": "2023-10-28T16:46:16.986545Z",
     "iopub.status.busy": "2023-10-28T16:46:16.986359Z",
     "iopub.status.idle": "2023-10-28T16:46:16.995107Z",
     "shell.execute_reply": "2023-10-28T16:46:16.993653Z"
    }
   },
   "outputs": [
    {
     "data": {
      "text/plain": [
       "COVID-19-DLS                     433\n",
       "COVID-19-NIH/NIAID               357\n",
       "COVID-19-HUniv12Oct              193\n",
       "COVID-19-Adaptive                160\n",
       "COVID-19-ISB                     157\n",
       "COVID-19-Adaptive-MIRAMatched     72\n",
       "COVID-19-IRST/AUSL                64\n",
       "COVID-19-BWNW                     50\n",
       "Name: Dataset, dtype: int64"
      ]
     },
     "execution_count": 4,
     "metadata": {},
     "output_type": "execute_result"
    }
   ],
   "source": [
    "df[\"Dataset\"].value_counts()"
   ]
  },
  {
   "cell_type": "code",
   "execution_count": null,
   "metadata": {},
   "outputs": [],
   "source": []
  },
  {
   "cell_type": "code",
   "execution_count": 5,
   "metadata": {
    "execution": {
     "iopub.execute_input": "2023-10-28T16:46:17.000472Z",
     "iopub.status.busy": "2023-10-28T16:46:17.000225Z",
     "iopub.status.idle": "2023-10-28T16:46:17.012709Z",
     "shell.execute_reply": "2023-10-28T16:46:17.010948Z"
    }
   },
   "outputs": [
    {
     "data": {
      "text/plain": [
       "(1170, 158)"
      ]
     },
     "execution_count": 5,
     "metadata": {},
     "output_type": "execute_result"
    }
   ],
   "source": [
    "df = df[df[\"Virus Diseases\"] == \"COVID-19 Positive\"]\n",
    "df.shape"
   ]
  },
  {
   "cell_type": "code",
   "execution_count": 6,
   "metadata": {
    "execution": {
     "iopub.execute_input": "2023-10-28T16:46:17.018500Z",
     "iopub.status.busy": "2023-10-28T16:46:17.018122Z",
     "iopub.status.idle": "2023-10-28T16:46:17.030993Z",
     "shell.execute_reply": "2023-10-28T16:46:17.029273Z"
    }
   },
   "outputs": [
    {
     "data": {
      "text/plain": [
       "(388, 158)"
      ]
     },
     "execution_count": 6,
     "metadata": {},
     "output_type": "execute_result"
    }
   ],
   "source": [
    "df = df[df[\"days_from_symptom_onset_to_sample\"] >= 11]\n",
    "df.shape"
   ]
  },
  {
   "cell_type": "code",
   "execution_count": 7,
   "metadata": {
    "execution": {
     "iopub.execute_input": "2023-10-28T16:46:17.037835Z",
     "iopub.status.busy": "2023-10-28T16:46:17.037234Z",
     "iopub.status.idle": "2023-10-28T16:46:17.051142Z",
     "shell.execute_reply": "2023-10-28T16:46:17.049192Z"
    }
   },
   "outputs": [
    {
     "data": {
      "text/plain": [
       "(137, 158)"
      ]
     },
     "execution_count": 7,
     "metadata": {},
     "output_type": "execute_result"
    }
   ],
   "source": [
    "df = df[df[\"days_from_symptom_onset_to_sample\"] <= 21]\n",
    "df.shape"
   ]
  },
  {
   "cell_type": "code",
   "execution_count": 8,
   "metadata": {
    "execution": {
     "iopub.execute_input": "2023-10-28T16:46:17.057973Z",
     "iopub.status.busy": "2023-10-28T16:46:17.057381Z",
     "iopub.status.idle": "2023-10-28T16:46:17.073177Z",
     "shell.execute_reply": "2023-10-28T16:46:17.071214Z"
    }
   },
   "outputs": [
    {
     "data": {
      "text/plain": [
       "Blood         74\n",
       "Blood,gDNA    62\n",
       "PBMC           1\n",
       "Name: Tissue Source, dtype: int64"
      ]
     },
     "execution_count": 8,
     "metadata": {},
     "output_type": "execute_result"
    }
   ],
   "source": [
    "df[\"Tissue Source\"].value_counts()"
   ]
  },
  {
   "cell_type": "code",
   "execution_count": 9,
   "metadata": {
    "execution": {
     "iopub.execute_input": "2023-10-28T16:46:17.079920Z",
     "iopub.status.busy": "2023-10-28T16:46:17.079310Z",
     "iopub.status.idle": "2023-10-28T16:46:17.093326Z",
     "shell.execute_reply": "2023-10-28T16:46:17.091397Z"
    }
   },
   "outputs": [
    {
     "data": {
      "text/plain": [
       "COVID-19-NIH/NIAID               62\n",
       "COVID-19-HUniv12Oct              34\n",
       "COVID-19-ISB                     29\n",
       "COVID-19-Adaptive                11\n",
       "COVID-19-Adaptive-MIRAMatched     1\n",
       "Name: Dataset, dtype: int64"
      ]
     },
     "execution_count": 9,
     "metadata": {},
     "output_type": "execute_result"
    }
   ],
   "source": [
    "df[\"Dataset\"].value_counts()"
   ]
  },
  {
   "cell_type": "code",
   "execution_count": null,
   "metadata": {},
   "outputs": [],
   "source": []
  },
  {
   "cell_type": "code",
   "execution_count": 10,
   "metadata": {
    "execution": {
     "iopub.execute_input": "2023-10-28T16:46:17.100022Z",
     "iopub.status.busy": "2023-10-28T16:46:17.099412Z",
     "iopub.status.idle": "2023-10-28T16:46:17.117532Z",
     "shell.execute_reply": "2023-10-28T16:46:17.115505Z"
    }
   },
   "outputs": [
    {
     "data": {
      "text/plain": [
       "covid--positive                      136\n",
       "hypertension--positive                11\n",
       "ckd--positive                          4\n",
       "t2d--positive                          4\n",
       "coronary_artery_disease--positive      3\n",
       "copd--positive                         3\n",
       "cll--positive                          2\n",
       "t1d--positive                          1\n",
       "Name: diseases, dtype: int64"
      ]
     },
     "execution_count": 10,
     "metadata": {},
     "output_type": "execute_result"
    }
   ],
   "source": [
    "df[\"diseases\"].str.split(\";\").explode().value_counts()"
   ]
  },
  {
   "cell_type": "code",
   "execution_count": 11,
   "metadata": {
    "execution": {
     "iopub.execute_input": "2023-10-28T16:46:17.124834Z",
     "iopub.status.busy": "2023-10-28T16:46:17.124220Z",
     "iopub.status.idle": "2023-10-28T16:46:17.139570Z",
     "shell.execute_reply": "2023-10-28T16:46:17.137595Z"
    }
   },
   "outputs": [
    {
     "data": {
      "text/plain": [
       "True    136\n",
       "Name: diseases, dtype: int64"
      ]
     },
     "execution_count": 11,
     "metadata": {},
     "output_type": "execute_result"
    }
   ],
   "source": [
    "df[\"diseases\"].str.startswith(\"covid--positive\").value_counts()"
   ]
  },
  {
   "cell_type": "code",
   "execution_count": 12,
   "metadata": {
    "execution": {
     "iopub.execute_input": "2023-10-28T16:46:17.146246Z",
     "iopub.status.busy": "2023-10-28T16:46:17.145714Z",
     "iopub.status.idle": "2023-10-28T16:46:17.159306Z",
     "shell.execute_reply": "2023-10-28T16:46:17.157283Z"
    }
   },
   "outputs": [
    {
     "data": {
      "text/plain": [
       "(120, 158)"
      ]
     },
     "execution_count": 12,
     "metadata": {},
     "output_type": "execute_result"
    }
   ],
   "source": [
    "# remove other diseases\n",
    "df = df[df[\"diseases\"] == \"covid--positive\"]\n",
    "df.shape"
   ]
  },
  {
   "cell_type": "code",
   "execution_count": 13,
   "metadata": {
    "execution": {
     "iopub.execute_input": "2023-10-28T16:46:17.166522Z",
     "iopub.status.busy": "2023-10-28T16:46:17.165928Z",
     "iopub.status.idle": "2023-10-28T16:46:17.180391Z",
     "shell.execute_reply": "2023-10-28T16:46:17.178437Z"
    }
   },
   "outputs": [
    {
     "data": {
      "text/plain": [
       "COVID-19-NIH/NIAID     62\n",
       "COVID-19-HUniv12Oct    34\n",
       "COVID-19-ISB           13\n",
       "COVID-19-Adaptive      11\n",
       "Name: Dataset, dtype: int64"
      ]
     },
     "execution_count": 13,
     "metadata": {},
     "output_type": "execute_result"
    }
   ],
   "source": [
    "df[\"Dataset\"].value_counts()"
   ]
  },
  {
   "cell_type": "code",
   "execution_count": null,
   "metadata": {},
   "outputs": [],
   "source": []
  },
  {
   "cell_type": "markdown",
   "metadata": {},
   "source": [
    "Filter by other tags, which are not universal to all cohorts:"
   ]
  },
  {
   "cell_type": "code",
   "execution_count": 14,
   "metadata": {
    "execution": {
     "iopub.execute_input": "2023-10-28T16:46:17.187040Z",
     "iopub.status.busy": "2023-10-28T16:46:17.186509Z",
     "iopub.status.idle": "2023-10-28T16:46:17.200664Z",
     "shell.execute_reply": "2023-10-28T16:46:17.198544Z"
    }
   },
   "outputs": [
    {
     "data": {
      "text/plain": [
       "(118, 158)"
      ]
     },
     "execution_count": 14,
     "metadata": {},
     "output_type": "execute_result"
    }
   ],
   "source": [
    "df = df[df[\"covid_category\"] != \"Recovered\"]\n",
    "df.shape"
   ]
  },
  {
   "cell_type": "code",
   "execution_count": 15,
   "metadata": {
    "execution": {
     "iopub.execute_input": "2023-10-28T16:46:17.207313Z",
     "iopub.status.busy": "2023-10-28T16:46:17.206698Z",
     "iopub.status.idle": "2023-10-28T16:46:17.220858Z",
     "shell.execute_reply": "2023-10-28T16:46:17.218877Z"
    }
   },
   "outputs": [
    {
     "data": {
      "text/plain": [
       "(118, 158)"
      ]
     },
     "execution_count": 15,
     "metadata": {},
     "output_type": "execute_result"
    }
   ],
   "source": [
    "df = df[df[\"covid_category\"] != \"Exposed\"]\n",
    "df.shape"
   ]
  },
  {
   "cell_type": "code",
   "execution_count": 16,
   "metadata": {
    "execution": {
     "iopub.execute_input": "2023-10-28T16:46:17.228033Z",
     "iopub.status.busy": "2023-10-28T16:46:17.227177Z",
     "iopub.status.idle": "2023-10-28T16:46:17.241246Z",
     "shell.execute_reply": "2023-10-28T16:46:17.239354Z"
    }
   },
   "outputs": [
    {
     "data": {
      "text/plain": [
       "(118, 158)"
      ]
     },
     "execution_count": 16,
     "metadata": {},
     "output_type": "execute_result"
    }
   ],
   "source": [
    "df = df[df[\"cancer_diagnosed\"] != True]\n",
    "df.shape"
   ]
  },
  {
   "cell_type": "code",
   "execution_count": 17,
   "metadata": {
    "execution": {
     "iopub.execute_input": "2023-10-28T16:46:17.248043Z",
     "iopub.status.busy": "2023-10-28T16:46:17.247438Z",
     "iopub.status.idle": "2023-10-28T16:46:17.260999Z",
     "shell.execute_reply": "2023-10-28T16:46:17.258924Z"
    }
   },
   "outputs": [
    {
     "data": {
      "text/plain": [
       "(118, 158)"
      ]
     },
     "execution_count": 17,
     "metadata": {},
     "output_type": "execute_result"
    }
   ],
   "source": [
    "df = df[df[\"cancer_type\"].isna()]\n",
    "df.shape"
   ]
  },
  {
   "cell_type": "code",
   "execution_count": 18,
   "metadata": {
    "execution": {
     "iopub.execute_input": "2023-10-28T16:46:17.268019Z",
     "iopub.status.busy": "2023-10-28T16:46:17.267424Z",
     "iopub.status.idle": "2023-10-28T16:46:17.281426Z",
     "shell.execute_reply": "2023-10-28T16:46:17.279356Z"
    }
   },
   "outputs": [
    {
     "data": {
      "text/plain": [
       "(118, 158)"
      ]
     },
     "execution_count": 18,
     "metadata": {},
     "output_type": "execute_result"
    }
   ],
   "source": [
    "df = df[df[\"describe_autoimmune_diagnoses\"].isna()]\n",
    "df.shape"
   ]
  },
  {
   "cell_type": "code",
   "execution_count": 19,
   "metadata": {
    "execution": {
     "iopub.execute_input": "2023-10-28T16:46:17.288194Z",
     "iopub.status.busy": "2023-10-28T16:46:17.287593Z",
     "iopub.status.idle": "2023-10-28T16:46:17.301528Z",
     "shell.execute_reply": "2023-10-28T16:46:17.299603Z"
    }
   },
   "outputs": [
    {
     "data": {
      "text/plain": [
       "(116, 158)"
      ]
     },
     "execution_count": 19,
     "metadata": {},
     "output_type": "execute_result"
    }
   ],
   "source": [
    "df = df[df[\"describe_autoimmune_medications\"].isna()]\n",
    "df.shape"
   ]
  },
  {
   "cell_type": "code",
   "execution_count": 20,
   "metadata": {
    "execution": {
     "iopub.execute_input": "2023-10-28T16:46:17.308617Z",
     "iopub.status.busy": "2023-10-28T16:46:17.308019Z",
     "iopub.status.idle": "2023-10-28T16:46:17.321396Z",
     "shell.execute_reply": "2023-10-28T16:46:17.319529Z"
    }
   },
   "outputs": [
    {
     "data": {
      "text/plain": [
       "(116, 158)"
      ]
     },
     "execution_count": 20,
     "metadata": {},
     "output_type": "execute_result"
    }
   ],
   "source": [
    "df = df[df[\"describe_cancers\"].isna()]\n",
    "df.shape"
   ]
  },
  {
   "cell_type": "code",
   "execution_count": 21,
   "metadata": {
    "execution": {
     "iopub.execute_input": "2023-10-28T16:46:17.328377Z",
     "iopub.status.busy": "2023-10-28T16:46:17.327769Z",
     "iopub.status.idle": "2023-10-28T16:46:17.342998Z",
     "shell.execute_reply": "2023-10-28T16:46:17.341132Z"
    }
   },
   "outputs": [
    {
     "data": {
      "text/plain": [
       "(116, 158)"
      ]
     },
     "execution_count": 21,
     "metadata": {},
     "output_type": "execute_result"
    }
   ],
   "source": [
    "df = df[df[\"describe_immunosupressants\"].replace(\"None\", np.nan).isna()]\n",
    "df.shape"
   ]
  },
  {
   "cell_type": "code",
   "execution_count": 22,
   "metadata": {
    "execution": {
     "iopub.execute_input": "2023-10-28T16:46:17.349879Z",
     "iopub.status.busy": "2023-10-28T16:46:17.349288Z",
     "iopub.status.idle": "2023-10-28T16:46:17.363316Z",
     "shell.execute_reply": "2023-10-28T16:46:17.361310Z"
    }
   },
   "outputs": [
    {
     "data": {
      "text/plain": [
       "(116, 158)"
      ]
     },
     "execution_count": 22,
     "metadata": {},
     "output_type": "execute_result"
    }
   ],
   "source": [
    "df = df[df[\"describe_other_diagnoses\"].isna()]\n",
    "df.shape"
   ]
  },
  {
   "cell_type": "code",
   "execution_count": 23,
   "metadata": {
    "execution": {
     "iopub.execute_input": "2023-10-28T16:46:17.370152Z",
     "iopub.status.busy": "2023-10-28T16:46:17.369560Z",
     "iopub.status.idle": "2023-10-28T16:46:17.384908Z",
     "shell.execute_reply": "2023-10-28T16:46:17.382953Z"
    }
   },
   "outputs": [
    {
     "data": {
      "text/plain": [
       "(116, 158)"
      ]
     },
     "execution_count": 23,
     "metadata": {},
     "output_type": "execute_result"
    }
   ],
   "source": [
    "df = df[df[\"diabetes_type\"].replace(\"No\", np.nan).isna()]\n",
    "df.shape"
   ]
  },
  {
   "cell_type": "code",
   "execution_count": 24,
   "metadata": {
    "execution": {
     "iopub.execute_input": "2023-10-28T16:46:17.391635Z",
     "iopub.status.busy": "2023-10-28T16:46:17.391008Z",
     "iopub.status.idle": "2023-10-28T16:46:17.405042Z",
     "shell.execute_reply": "2023-10-28T16:46:17.403167Z"
    }
   },
   "outputs": [
    {
     "data": {
      "text/plain": [
       "(116, 158)"
      ]
     },
     "execution_count": 24,
     "metadata": {},
     "output_type": "execute_result"
    }
   ],
   "source": [
    "df = df[df[\"has_hiv\"] != True]\n",
    "df.shape"
   ]
  },
  {
   "cell_type": "code",
   "execution_count": 25,
   "metadata": {
    "execution": {
     "iopub.execute_input": "2023-10-28T16:46:17.412243Z",
     "iopub.status.busy": "2023-10-28T16:46:17.411647Z",
     "iopub.status.idle": "2023-10-28T16:46:17.424979Z",
     "shell.execute_reply": "2023-10-28T16:46:17.423128Z"
    }
   },
   "outputs": [
    {
     "data": {
      "text/plain": [
       "(116, 158)"
      ]
     },
     "execution_count": 25,
     "metadata": {},
     "output_type": "execute_result"
    }
   ],
   "source": [
    "df = df[df[\"is_immunocompromised\"] != True]\n",
    "df.shape"
   ]
  },
  {
   "cell_type": "code",
   "execution_count": 26,
   "metadata": {
    "execution": {
     "iopub.execute_input": "2023-10-28T16:46:17.432245Z",
     "iopub.status.busy": "2023-10-28T16:46:17.431647Z",
     "iopub.status.idle": "2023-10-28T16:46:17.446520Z",
     "shell.execute_reply": "2023-10-28T16:46:17.444446Z"
    }
   },
   "outputs": [
    {
     "data": {
      "text/plain": [
       "(116, 158)"
      ]
     },
     "execution_count": 26,
     "metadata": {},
     "output_type": "execute_result"
    }
   ],
   "source": [
    "df = df[df[\"selected_autoimmune_diagnoses\"].replace(\"None\", np.nan).isna()]\n",
    "df.shape"
   ]
  },
  {
   "cell_type": "code",
   "execution_count": 27,
   "metadata": {
    "execution": {
     "iopub.execute_input": "2023-10-28T16:46:17.454189Z",
     "iopub.status.busy": "2023-10-28T16:46:17.452864Z",
     "iopub.status.idle": "2023-10-28T16:46:17.467665Z",
     "shell.execute_reply": "2023-10-28T16:46:17.465676Z"
    }
   },
   "outputs": [
    {
     "data": {
      "text/plain": [
       "(114, 158)"
      ]
     },
     "execution_count": 27,
     "metadata": {},
     "output_type": "execute_result"
    }
   ],
   "source": [
    "df = df[df[\"selected_other_diagnoses\"].replace(\"None\", np.nan).isna()]\n",
    "df.shape"
   ]
  },
  {
   "cell_type": "code",
   "execution_count": 28,
   "metadata": {
    "execution": {
     "iopub.execute_input": "2023-10-28T16:46:17.474445Z",
     "iopub.status.busy": "2023-10-28T16:46:17.473836Z",
     "iopub.status.idle": "2023-10-28T16:46:17.487717Z",
     "shell.execute_reply": "2023-10-28T16:46:17.485692Z"
    }
   },
   "outputs": [
    {
     "data": {
      "text/plain": [
       "(114, 158)"
      ]
     },
     "execution_count": 28,
     "metadata": {},
     "output_type": "execute_result"
    }
   ],
   "source": [
    "df = df[df[\"uses_autoimmune_medications\"].isna()]\n",
    "df.shape"
   ]
  },
  {
   "cell_type": "code",
   "execution_count": 29,
   "metadata": {
    "execution": {
     "iopub.execute_input": "2023-10-28T16:46:17.494600Z",
     "iopub.status.busy": "2023-10-28T16:46:17.493977Z",
     "iopub.status.idle": "2023-10-28T16:46:17.508728Z",
     "shell.execute_reply": "2023-10-28T16:46:17.506693Z"
    }
   },
   "outputs": [
    {
     "data": {
      "text/plain": [
       "(114, 158)"
      ]
     },
     "execution_count": 29,
     "metadata": {},
     "output_type": "execute_result"
    }
   ],
   "source": [
    "df = df[df[\"uses_immunosuppressant\"] != True]\n",
    "df.shape"
   ]
  },
  {
   "cell_type": "code",
   "execution_count": null,
   "metadata": {},
   "outputs": [],
   "source": []
  },
  {
   "cell_type": "code",
   "execution_count": 30,
   "metadata": {
    "execution": {
     "iopub.execute_input": "2023-10-28T16:46:17.515546Z",
     "iopub.status.busy": "2023-10-28T16:46:17.514765Z",
     "iopub.status.idle": "2023-10-28T16:46:17.529570Z",
     "shell.execute_reply": "2023-10-28T16:46:17.527617Z"
    }
   },
   "outputs": [
    {
     "data": {
      "text/plain": [
       "COVID-19-NIH/NIAID     62\n",
       "COVID-19-HUniv12Oct    34\n",
       "COVID-19-ISB           13\n",
       "COVID-19-Adaptive       5\n",
       "Name: Dataset, dtype: int64"
      ]
     },
     "execution_count": 30,
     "metadata": {},
     "output_type": "execute_result"
    }
   ],
   "source": [
    "df[\"Dataset\"].value_counts()"
   ]
  },
  {
   "cell_type": "code",
   "execution_count": null,
   "metadata": {},
   "outputs": [],
   "source": []
  },
  {
   "cell_type": "code",
   "execution_count": 31,
   "metadata": {
    "execution": {
     "iopub.execute_input": "2023-10-28T16:46:17.536774Z",
     "iopub.status.busy": "2023-10-28T16:46:17.536170Z",
     "iopub.status.idle": "2023-10-28T16:46:17.543639Z",
     "shell.execute_reply": "2023-10-28T16:46:17.541690Z"
    }
   },
   "outputs": [],
   "source": [
    "# Maybe we should go further and guarantee that not HIV? We have that info for COVID-19-ISB only\n",
    "# Avoiding this for now."
   ]
  },
  {
   "cell_type": "code",
   "execution_count": 32,
   "metadata": {
    "execution": {
     "iopub.execute_input": "2023-10-28T16:46:17.550349Z",
     "iopub.status.busy": "2023-10-28T16:46:17.549749Z",
     "iopub.status.idle": "2023-10-28T16:46:17.567436Z",
     "shell.execute_reply": "2023-10-28T16:46:17.565469Z"
    }
   },
   "outputs": [
    {
     "data": {
      "text/plain": [
       "(109, 160)"
      ]
     },
     "execution_count": 32,
     "metadata": {},
     "output_type": "execute_result"
    }
   ],
   "source": [
    "# Per the preprint, the -Adaptive cohort may have cDNA in addition to gDNA: https://www.researchsquare.com/article/rs-51964/v1 table 2\n",
    "# (Although this might just mean that the samples were used for gDNA sequencing and also for cDNA MIRA?)\n",
    "# The other cohorts are all gDNA, I believe\n",
    "# To be consistent / safe, we will remove any possibility of cDNA by removing the (already very few) -Adaptive cohort entries\n",
    "df = df[df[\"Dataset\"] != \"COVID-19-Adaptive\"].assign(\n",
    "    sequencing_type=\"gDNA\", locus=\"TCRB\"\n",
    ")\n",
    "df.shape"
   ]
  },
  {
   "cell_type": "code",
   "execution_count": 33,
   "metadata": {
    "execution": {
     "iopub.execute_input": "2023-10-28T16:46:17.573971Z",
     "iopub.status.busy": "2023-10-28T16:46:17.573373Z",
     "iopub.status.idle": "2023-10-28T16:46:17.587946Z",
     "shell.execute_reply": "2023-10-28T16:46:17.586030Z"
    }
   },
   "outputs": [
    {
     "data": {
      "text/plain": [
       "COVID-19-NIH/NIAID     62\n",
       "COVID-19-HUniv12Oct    34\n",
       "COVID-19-ISB           13\n",
       "Name: Dataset, dtype: int64"
      ]
     },
     "execution_count": 33,
     "metadata": {},
     "output_type": "execute_result"
    }
   ],
   "source": [
    "df[\"Dataset\"].value_counts()"
   ]
  },
  {
   "cell_type": "code",
   "execution_count": null,
   "metadata": {},
   "outputs": [],
   "source": []
  },
  {
   "cell_type": "code",
   "execution_count": null,
   "metadata": {},
   "outputs": [],
   "source": []
  },
  {
   "cell_type": "code",
   "execution_count": 34,
   "metadata": {
    "execution": {
     "iopub.execute_input": "2023-10-28T16:46:17.596033Z",
     "iopub.status.busy": "2023-10-28T16:46:17.594741Z",
     "iopub.status.idle": "2023-10-28T16:46:17.617971Z",
     "shell.execute_reply": "2023-10-28T16:46:17.616232Z"
    }
   },
   "outputs": [
    {
     "data": {
      "text/html": [
       "<div>\n",
       "<style scoped>\n",
       "    .dataframe tbody tr th:only-of-type {\n",
       "        vertical-align: middle;\n",
       "    }\n",
       "\n",
       "    .dataframe tbody tr th {\n",
       "        vertical-align: top;\n",
       "    }\n",
       "\n",
       "    .dataframe thead th {\n",
       "        text-align: right;\n",
       "    }\n",
       "</style>\n",
       "<table border=\"1\" class=\"dataframe\">\n",
       "  <thead>\n",
       "    <tr style=\"text-align: right;\">\n",
       "      <th></th>\n",
       "      <th>Dataset</th>\n",
       "      <th>hospitalized</th>\n",
       "      <th>icu_admit</th>\n",
       "    </tr>\n",
       "  </thead>\n",
       "  <tbody>\n",
       "    <tr>\n",
       "      <th>6</th>\n",
       "      <td>COVID-19-HUniv12Oct</td>\n",
       "      <td>True</td>\n",
       "      <td>False</td>\n",
       "    </tr>\n",
       "    <tr>\n",
       "      <th>8</th>\n",
       "      <td>COVID-19-ISB</td>\n",
       "      <td>NaN</td>\n",
       "      <td>NaN</td>\n",
       "    </tr>\n",
       "    <tr>\n",
       "      <th>36</th>\n",
       "      <td>COVID-19-HUniv12Oct</td>\n",
       "      <td>True</td>\n",
       "      <td>False</td>\n",
       "    </tr>\n",
       "    <tr>\n",
       "      <th>37</th>\n",
       "      <td>COVID-19-ISB</td>\n",
       "      <td>NaN</td>\n",
       "      <td>NaN</td>\n",
       "    </tr>\n",
       "    <tr>\n",
       "      <th>51</th>\n",
       "      <td>COVID-19-NIH/NIAID</td>\n",
       "      <td>True</td>\n",
       "      <td>False</td>\n",
       "    </tr>\n",
       "    <tr>\n",
       "      <th>...</th>\n",
       "      <td>...</td>\n",
       "      <td>...</td>\n",
       "      <td>...</td>\n",
       "    </tr>\n",
       "    <tr>\n",
       "      <th>1455</th>\n",
       "      <td>COVID-19-ISB</td>\n",
       "      <td>NaN</td>\n",
       "      <td>NaN</td>\n",
       "    </tr>\n",
       "    <tr>\n",
       "      <th>1457</th>\n",
       "      <td>COVID-19-NIH/NIAID</td>\n",
       "      <td>True</td>\n",
       "      <td>False</td>\n",
       "    </tr>\n",
       "    <tr>\n",
       "      <th>1464</th>\n",
       "      <td>COVID-19-NIH/NIAID</td>\n",
       "      <td>True</td>\n",
       "      <td>True</td>\n",
       "    </tr>\n",
       "    <tr>\n",
       "      <th>1477</th>\n",
       "      <td>COVID-19-NIH/NIAID</td>\n",
       "      <td>True</td>\n",
       "      <td>True</td>\n",
       "    </tr>\n",
       "    <tr>\n",
       "      <th>1485</th>\n",
       "      <td>COVID-19-HUniv12Oct</td>\n",
       "      <td>True</td>\n",
       "      <td>False</td>\n",
       "    </tr>\n",
       "  </tbody>\n",
       "</table>\n",
       "<p>109 rows × 3 columns</p>\n",
       "</div>"
      ],
      "text/plain": [
       "                  Dataset hospitalized icu_admit\n",
       "6     COVID-19-HUniv12Oct         True     False\n",
       "8            COVID-19-ISB          NaN       NaN\n",
       "36    COVID-19-HUniv12Oct         True     False\n",
       "37           COVID-19-ISB          NaN       NaN\n",
       "51     COVID-19-NIH/NIAID         True     False\n",
       "...                   ...          ...       ...\n",
       "1455         COVID-19-ISB          NaN       NaN\n",
       "1457   COVID-19-NIH/NIAID         True     False\n",
       "1464   COVID-19-NIH/NIAID         True      True\n",
       "1477   COVID-19-NIH/NIAID         True      True\n",
       "1485  COVID-19-HUniv12Oct         True     False\n",
       "\n",
       "[109 rows x 3 columns]"
      ]
     },
     "execution_count": 34,
     "metadata": {},
     "output_type": "execute_result"
    }
   ],
   "source": [
    "# Set subtype\n",
    "df[[\"Dataset\", \"hospitalized\", \"icu_admit\"]]"
   ]
  },
  {
   "cell_type": "code",
   "execution_count": 35,
   "metadata": {
    "execution": {
     "iopub.execute_input": "2023-10-28T16:46:17.623879Z",
     "iopub.status.busy": "2023-10-28T16:46:17.623500Z",
     "iopub.status.idle": "2023-10-28T16:46:17.650179Z",
     "shell.execute_reply": "2023-10-28T16:46:17.648571Z"
    }
   },
   "outputs": [
    {
     "data": {
      "text/html": [
       "<div>\n",
       "<style scoped>\n",
       "    .dataframe tbody tr th:only-of-type {\n",
       "        vertical-align: middle;\n",
       "    }\n",
       "\n",
       "    .dataframe tbody tr th {\n",
       "        vertical-align: top;\n",
       "    }\n",
       "\n",
       "    .dataframe thead th {\n",
       "        text-align: right;\n",
       "    }\n",
       "</style>\n",
       "<table border=\"1\" class=\"dataframe\">\n",
       "  <thead>\n",
       "    <tr style=\"text-align: right;\">\n",
       "      <th></th>\n",
       "      <th>Dataset</th>\n",
       "      <th>hospitalized</th>\n",
       "      <th>icu_admit</th>\n",
       "    </tr>\n",
       "  </thead>\n",
       "  <tbody>\n",
       "    <tr>\n",
       "      <th>6</th>\n",
       "      <td>COVID-19-HUniv12Oct</td>\n",
       "      <td>Hospitalized</td>\n",
       "      <td>NaN</td>\n",
       "    </tr>\n",
       "    <tr>\n",
       "      <th>8</th>\n",
       "      <td>COVID-19-ISB</td>\n",
       "      <td>NaN</td>\n",
       "      <td>NaN</td>\n",
       "    </tr>\n",
       "    <tr>\n",
       "      <th>36</th>\n",
       "      <td>COVID-19-HUniv12Oct</td>\n",
       "      <td>Hospitalized</td>\n",
       "      <td>NaN</td>\n",
       "    </tr>\n",
       "    <tr>\n",
       "      <th>37</th>\n",
       "      <td>COVID-19-ISB</td>\n",
       "      <td>NaN</td>\n",
       "      <td>NaN</td>\n",
       "    </tr>\n",
       "    <tr>\n",
       "      <th>51</th>\n",
       "      <td>COVID-19-NIH/NIAID</td>\n",
       "      <td>Hospitalized</td>\n",
       "      <td>NaN</td>\n",
       "    </tr>\n",
       "    <tr>\n",
       "      <th>...</th>\n",
       "      <td>...</td>\n",
       "      <td>...</td>\n",
       "      <td>...</td>\n",
       "    </tr>\n",
       "    <tr>\n",
       "      <th>1455</th>\n",
       "      <td>COVID-19-ISB</td>\n",
       "      <td>NaN</td>\n",
       "      <td>NaN</td>\n",
       "    </tr>\n",
       "    <tr>\n",
       "      <th>1457</th>\n",
       "      <td>COVID-19-NIH/NIAID</td>\n",
       "      <td>Hospitalized</td>\n",
       "      <td>NaN</td>\n",
       "    </tr>\n",
       "    <tr>\n",
       "      <th>1464</th>\n",
       "      <td>COVID-19-NIH/NIAID</td>\n",
       "      <td>Hospitalized</td>\n",
       "      <td>ICU</td>\n",
       "    </tr>\n",
       "    <tr>\n",
       "      <th>1477</th>\n",
       "      <td>COVID-19-NIH/NIAID</td>\n",
       "      <td>Hospitalized</td>\n",
       "      <td>ICU</td>\n",
       "    </tr>\n",
       "    <tr>\n",
       "      <th>1485</th>\n",
       "      <td>COVID-19-HUniv12Oct</td>\n",
       "      <td>Hospitalized</td>\n",
       "      <td>NaN</td>\n",
       "    </tr>\n",
       "  </tbody>\n",
       "</table>\n",
       "<p>109 rows × 3 columns</p>\n",
       "</div>"
      ],
      "text/plain": [
       "                  Dataset  hospitalized icu_admit\n",
       "6     COVID-19-HUniv12Oct  Hospitalized       NaN\n",
       "8            COVID-19-ISB           NaN       NaN\n",
       "36    COVID-19-HUniv12Oct  Hospitalized       NaN\n",
       "37           COVID-19-ISB           NaN       NaN\n",
       "51     COVID-19-NIH/NIAID  Hospitalized       NaN\n",
       "...                   ...           ...       ...\n",
       "1455         COVID-19-ISB           NaN       NaN\n",
       "1457   COVID-19-NIH/NIAID  Hospitalized       NaN\n",
       "1464   COVID-19-NIH/NIAID  Hospitalized       ICU\n",
       "1477   COVID-19-NIH/NIAID  Hospitalized       ICU\n",
       "1485  COVID-19-HUniv12Oct  Hospitalized       NaN\n",
       "\n",
       "[109 rows x 3 columns]"
      ]
     },
     "execution_count": 35,
     "metadata": {},
     "output_type": "execute_result"
    }
   ],
   "source": [
    "df[\"icu_admit\"] = df[\"icu_admit\"].map({True: \"ICU\"})\n",
    "df[\"hospitalized\"] = df[\"hospitalized\"].map({True: \"Hospitalized\"})\n",
    "df[[\"Dataset\", \"hospitalized\", \"icu_admit\"]]"
   ]
  },
  {
   "cell_type": "code",
   "execution_count": 36,
   "metadata": {
    "execution": {
     "iopub.execute_input": "2023-10-28T16:46:17.655674Z",
     "iopub.status.busy": "2023-10-28T16:46:17.655311Z",
     "iopub.status.idle": "2023-10-28T16:46:17.682082Z",
     "shell.execute_reply": "2023-10-28T16:46:17.680578Z"
    }
   },
   "outputs": [
    {
     "data": {
      "text/plain": [
       "6            COVID-19-HUniv12Oct - Hospitalized\n",
       "8                                  COVID-19-ISB\n",
       "36           COVID-19-HUniv12Oct - Hospitalized\n",
       "37                                 COVID-19-ISB\n",
       "51            COVID-19-NIH/NIAID - Hospitalized\n",
       "                         ...                   \n",
       "1455                               COVID-19-ISB\n",
       "1457          COVID-19-NIH/NIAID - Hospitalized\n",
       "1464    COVID-19-NIH/NIAID - Hospitalized - ICU\n",
       "1477    COVID-19-NIH/NIAID - Hospitalized - ICU\n",
       "1485         COVID-19-HUniv12Oct - Hospitalized\n",
       "Name: disease_subtype, Length: 109, dtype: object"
      ]
     },
     "execution_count": 36,
     "metadata": {},
     "output_type": "execute_result"
    }
   ],
   "source": [
    "df[\"disease_subtype\"] = df[[\"Dataset\", \"hospitalized\", \"icu_admit\"]].apply(\n",
    "    lambda row: \" - \".join(row.dropna()), axis=1\n",
    ")\n",
    "df[\"disease_subtype\"]"
   ]
  },
  {
   "cell_type": "code",
   "execution_count": null,
   "metadata": {},
   "outputs": [],
   "source": []
  },
  {
   "cell_type": "code",
   "execution_count": null,
   "metadata": {},
   "outputs": [],
   "source": []
  },
  {
   "cell_type": "code",
   "execution_count": null,
   "metadata": {},
   "outputs": [],
   "source": []
  },
  {
   "cell_type": "code",
   "execution_count": 37,
   "metadata": {
    "execution": {
     "iopub.execute_input": "2023-10-28T16:46:17.687893Z",
     "iopub.status.busy": "2023-10-28T16:46:17.687563Z",
     "iopub.status.idle": "2023-10-28T16:46:17.700212Z",
     "shell.execute_reply": "2023-10-28T16:46:17.698444Z"
    }
   },
   "outputs": [
    {
     "data": {
      "text/plain": [
       "(88, 161)"
      ]
     },
     "execution_count": 37,
     "metadata": {},
     "output_type": "execute_result"
    }
   ],
   "source": [
    "# Get first row for each subject_id (can have multiple sample_name's)\n",
    "df = df.groupby(\"subject_id\").head(n=1)\n",
    "df.shape"
   ]
  },
  {
   "cell_type": "code",
   "execution_count": null,
   "metadata": {},
   "outputs": [],
   "source": []
  },
  {
   "cell_type": "code",
   "execution_count": 38,
   "metadata": {
    "execution": {
     "iopub.execute_input": "2023-10-28T16:46:17.705978Z",
     "iopub.status.busy": "2023-10-28T16:46:17.705630Z",
     "iopub.status.idle": "2023-10-28T16:46:17.720807Z",
     "shell.execute_reply": "2023-10-28T16:46:17.719112Z"
    }
   },
   "outputs": [],
   "source": [
    "# Set identifiers\n",
    "df = df.assign(\n",
    "    participant_label=\"ImmuneCode-\" + df[\"subject_id\"].astype(str),\n",
    "    disease=\"Covid19\",\n",
    ")\n",
    "\n",
    "df.rename(columns={\"sample_name\": \"specimen_label\"}, inplace=True)\n",
    "\n",
    "assert not df[\"specimen_label\"].duplicated().any()\n",
    "assert not df[\"participant_label\"].duplicated().any()"
   ]
  },
  {
   "cell_type": "code",
   "execution_count": 39,
   "metadata": {
    "execution": {
     "iopub.execute_input": "2023-10-28T16:46:17.726749Z",
     "iopub.status.busy": "2023-10-28T16:46:17.726349Z",
     "iopub.status.idle": "2023-10-28T16:46:17.738354Z",
     "shell.execute_reply": "2023-10-28T16:46:17.736320Z"
    }
   },
   "outputs": [],
   "source": [
    "df[\"sex\"] = df[\"Biological Sex\"].str.lower().replace({\"male\": \"M\", \"female\": \"F\"})"
   ]
  },
  {
   "cell_type": "code",
   "execution_count": 40,
   "metadata": {
    "execution": {
     "iopub.execute_input": "2023-10-28T16:46:17.744838Z",
     "iopub.status.busy": "2023-10-28T16:46:17.744299Z",
     "iopub.status.idle": "2023-10-28T16:46:17.763730Z",
     "shell.execute_reply": "2023-10-28T16:46:17.761983Z"
    }
   },
   "outputs": [
    {
     "data": {
      "text/plain": [
       "53    5\n",
       "59    5\n",
       "54    4\n",
       "52    4\n",
       "55    4\n",
       "60    4\n",
       "56    3\n",
       "66    3\n",
       "84    2\n",
       "79    2\n",
       "50    2\n",
       "49    2\n",
       "88    2\n",
       "48    2\n",
       "39    2\n",
       "75    2\n",
       "89    2\n",
       "34    2\n",
       "70    2\n",
       "57    2\n",
       "78    2\n",
       "85    2\n",
       "71    2\n",
       "58    2\n",
       "76    2\n",
       "77    2\n",
       "08    1\n",
       "80    1\n",
       "42    1\n",
       "27    1\n",
       "45    1\n",
       "35    1\n",
       "62    1\n",
       "51    1\n",
       "82    1\n",
       "26    1\n",
       "40    1\n",
       "24    1\n",
       "67    1\n",
       "23    1\n",
       "63    1\n",
       "30    1\n",
       "36    1\n",
       "61    1\n",
       "33    1\n",
       "72    1\n",
       "Name: age, dtype: int64"
      ]
     },
     "execution_count": 40,
     "metadata": {},
     "output_type": "execute_result"
    }
   ],
   "source": [
    "# extract number of years\n",
    "df[\"age\"] = df[\"Age\"].str.extract(\"(\\d+)\")\n",
    "df[\"age\"].value_counts()"
   ]
  },
  {
   "cell_type": "code",
   "execution_count": 41,
   "metadata": {
    "execution": {
     "iopub.execute_input": "2023-10-28T16:46:17.770087Z",
     "iopub.status.busy": "2023-10-28T16:46:17.769497Z",
     "iopub.status.idle": "2023-10-28T16:46:17.786564Z",
     "shell.execute_reply": "2023-10-28T16:46:17.784724Z"
    }
   },
   "outputs": [
    {
     "data": {
      "text/plain": [
       "Caucasian - Unknown                                   71\n",
       "Hispanic - Unknown                                     6\n",
       "Unknown racial group - Hispanic or Latino              4\n",
       "Caucasian - Non-Hispanic or Latino                     3\n",
       "Unknown - Unknown                                      2\n",
       "Unknown racial group - Non-Hispanic or Latino          1\n",
       "Asian or Pacific Islander - Non-Hispanic or Latino     1\n",
       "Name: ethnicity, dtype: int64"
      ]
     },
     "execution_count": 41,
     "metadata": {},
     "output_type": "execute_result"
    }
   ],
   "source": [
    "df[\"ethnicity\"] = (\n",
    "    df[\"Racial Group\"].fillna(\"Unknown\") + \" - \" + df[\"Ethnic Group\"].fillna(\"Unknown\")\n",
    ")\n",
    "df[\"ethnicity\"].value_counts()"
   ]
  },
  {
   "cell_type": "code",
   "execution_count": 42,
   "metadata": {
    "execution": {
     "iopub.execute_input": "2023-10-28T16:46:17.793488Z",
     "iopub.status.busy": "2023-10-28T16:46:17.792901Z",
     "iopub.status.idle": "2023-10-28T16:46:17.813112Z",
     "shell.execute_reply": "2023-10-28T16:46:17.811245Z"
    }
   },
   "outputs": [
    {
     "data": {
      "text/plain": [
       "Caucasian          74\n",
       "Hispanic/Latino    10\n",
       "Asian               1\n",
       "Name: ethnicity_condensed, dtype: int64"
      ]
     },
     "execution_count": 42,
     "metadata": {},
     "output_type": "execute_result"
    }
   ],
   "source": [
    "df[\"ethnicity_condensed\"] = df[\"ethnicity\"].replace(\n",
    "    {\n",
    "        \"Caucasian - Unknown\": \"Caucasian\",\n",
    "        \"Hispanic - Unknown\": \"Hispanic/Latino\",\n",
    "        \"Unknown racial group - Hispanic or Latino\": \"Hispanic/Latino\",\n",
    "        \"Caucasian - Non-Hispanic or Latino\": \"Caucasian\",\n",
    "        \"Unknown - Unknown\": np.nan,\n",
    "        \"Unknown racial group - Non-Hispanic or Latino\": np.nan,\n",
    "        \"Asian or Pacific Islander - Non-Hispanic or Latino\": \"Asian\",\n",
    "        \"Asian or Pacific Islander - Unknown\": \"Asian\",\n",
    "    }\n",
    ")\n",
    "df[\"ethnicity_condensed\"].value_counts()"
   ]
  },
  {
   "cell_type": "code",
   "execution_count": 43,
   "metadata": {
    "execution": {
     "iopub.execute_input": "2023-10-28T16:46:17.819374Z",
     "iopub.status.busy": "2023-10-28T16:46:17.818847Z",
     "iopub.status.idle": "2023-10-28T16:46:17.849151Z",
     "shell.execute_reply": "2023-10-28T16:46:17.847506Z"
    }
   },
   "outputs": [
    {
     "data": {
      "text/html": [
       "<div>\n",
       "<style scoped>\n",
       "    .dataframe tbody tr th:only-of-type {\n",
       "        vertical-align: middle;\n",
       "    }\n",
       "\n",
       "    .dataframe tbody tr th {\n",
       "        vertical-align: top;\n",
       "    }\n",
       "\n",
       "    .dataframe thead th {\n",
       "        text-align: right;\n",
       "    }\n",
       "</style>\n",
       "<table border=\"1\" class=\"dataframe\">\n",
       "  <thead>\n",
       "    <tr style=\"text-align: right;\">\n",
       "      <th></th>\n",
       "      <th>participant_label</th>\n",
       "      <th>specimen_label</th>\n",
       "      <th>disease</th>\n",
       "      <th>disease_subtype</th>\n",
       "      <th>age</th>\n",
       "      <th>sex</th>\n",
       "      <th>ethnicity_condensed</th>\n",
       "      <th>sequencing_type</th>\n",
       "      <th>locus</th>\n",
       "    </tr>\n",
       "  </thead>\n",
       "  <tbody>\n",
       "    <tr>\n",
       "      <th>6</th>\n",
       "      <td>ImmuneCode-190921</td>\n",
       "      <td>860011232_TCRB</td>\n",
       "      <td>Covid19</td>\n",
       "      <td>COVID-19-HUniv12Oct - Hospitalized</td>\n",
       "      <td>53</td>\n",
       "      <td>F</td>\n",
       "      <td>Hispanic/Latino</td>\n",
       "      <td>gDNA</td>\n",
       "      <td>TCRB</td>\n",
       "    </tr>\n",
       "    <tr>\n",
       "      <th>8</th>\n",
       "      <td>ImmuneCode-026</td>\n",
       "      <td>INCOV026-AC-3_TCRB</td>\n",
       "      <td>Covid19</td>\n",
       "      <td>COVID-19-ISB</td>\n",
       "      <td>33</td>\n",
       "      <td>M</td>\n",
       "      <td>Hispanic/Latino</td>\n",
       "      <td>gDNA</td>\n",
       "      <td>TCRB</td>\n",
       "    </tr>\n",
       "    <tr>\n",
       "      <th>36</th>\n",
       "      <td>ImmuneCode-321977</td>\n",
       "      <td>860011116_TCRB</td>\n",
       "      <td>Covid19</td>\n",
       "      <td>COVID-19-HUniv12Oct - Hospitalized</td>\n",
       "      <td>52</td>\n",
       "      <td>F</td>\n",
       "      <td>Caucasian</td>\n",
       "      <td>gDNA</td>\n",
       "      <td>TCRB</td>\n",
       "    </tr>\n",
       "    <tr>\n",
       "      <th>37</th>\n",
       "      <td>ImmuneCode-087</td>\n",
       "      <td>INCOV087-BL-3_TCRB</td>\n",
       "      <td>Covid19</td>\n",
       "      <td>COVID-19-ISB</td>\n",
       "      <td>56</td>\n",
       "      <td>M</td>\n",
       "      <td>Hispanic/Latino</td>\n",
       "      <td>gDNA</td>\n",
       "      <td>TCRB</td>\n",
       "    </tr>\n",
       "    <tr>\n",
       "      <th>51</th>\n",
       "      <td>ImmuneCode-0000051</td>\n",
       "      <td>BS-EQ-0014-T2-replacement_TCRB</td>\n",
       "      <td>Covid19</td>\n",
       "      <td>COVID-19-NIH/NIAID - Hospitalized</td>\n",
       "      <td>55</td>\n",
       "      <td>M</td>\n",
       "      <td>Caucasian</td>\n",
       "      <td>gDNA</td>\n",
       "      <td>TCRB</td>\n",
       "    </tr>\n",
       "    <tr>\n",
       "      <th>...</th>\n",
       "      <td>...</td>\n",
       "      <td>...</td>\n",
       "      <td>...</td>\n",
       "      <td>...</td>\n",
       "      <td>...</td>\n",
       "      <td>...</td>\n",
       "      <td>...</td>\n",
       "      <td>...</td>\n",
       "      <td>...</td>\n",
       "    </tr>\n",
       "    <tr>\n",
       "      <th>1409</th>\n",
       "      <td>ImmuneCode-304752</td>\n",
       "      <td>860011117_TCRB</td>\n",
       "      <td>Covid19</td>\n",
       "      <td>COVID-19-HUniv12Oct - Hospitalized - ICU</td>\n",
       "      <td>60</td>\n",
       "      <td>M</td>\n",
       "      <td>Caucasian</td>\n",
       "      <td>gDNA</td>\n",
       "      <td>TCRB</td>\n",
       "    </tr>\n",
       "    <tr>\n",
       "      <th>1434</th>\n",
       "      <td>ImmuneCode-775827</td>\n",
       "      <td>860011106_TCRB</td>\n",
       "      <td>Covid19</td>\n",
       "      <td>COVID-19-HUniv12Oct - Hospitalized</td>\n",
       "      <td>57</td>\n",
       "      <td>F</td>\n",
       "      <td>Caucasian</td>\n",
       "      <td>gDNA</td>\n",
       "      <td>TCRB</td>\n",
       "    </tr>\n",
       "    <tr>\n",
       "      <th>1457</th>\n",
       "      <td>ImmuneCode-0000446</td>\n",
       "      <td>BS-GIGI_10-replacement_TCRB</td>\n",
       "      <td>Covid19</td>\n",
       "      <td>COVID-19-NIH/NIAID - Hospitalized</td>\n",
       "      <td>75</td>\n",
       "      <td>M</td>\n",
       "      <td>Caucasian</td>\n",
       "      <td>gDNA</td>\n",
       "      <td>TCRB</td>\n",
       "    </tr>\n",
       "    <tr>\n",
       "      <th>1477</th>\n",
       "      <td>ImmuneCode-0000160</td>\n",
       "      <td>BS-EQ-25-T1_BS-GIGI-71-replacement_TCRB</td>\n",
       "      <td>Covid19</td>\n",
       "      <td>COVID-19-NIH/NIAID - Hospitalized - ICU</td>\n",
       "      <td>72</td>\n",
       "      <td>M</td>\n",
       "      <td>Caucasian</td>\n",
       "      <td>gDNA</td>\n",
       "      <td>TCRB</td>\n",
       "    </tr>\n",
       "    <tr>\n",
       "      <th>1485</th>\n",
       "      <td>ImmuneCode-506345</td>\n",
       "      <td>860011240_TCRB</td>\n",
       "      <td>Covid19</td>\n",
       "      <td>COVID-19-HUniv12Oct - Hospitalized</td>\n",
       "      <td>78</td>\n",
       "      <td>F</td>\n",
       "      <td>Caucasian</td>\n",
       "      <td>gDNA</td>\n",
       "      <td>TCRB</td>\n",
       "    </tr>\n",
       "  </tbody>\n",
       "</table>\n",
       "<p>88 rows × 9 columns</p>\n",
       "</div>"
      ],
      "text/plain": [
       "       participant_label                           specimen_label  disease  \\\n",
       "6      ImmuneCode-190921                           860011232_TCRB  Covid19   \n",
       "8         ImmuneCode-026                       INCOV026-AC-3_TCRB  Covid19   \n",
       "36     ImmuneCode-321977                           860011116_TCRB  Covid19   \n",
       "37        ImmuneCode-087                       INCOV087-BL-3_TCRB  Covid19   \n",
       "51    ImmuneCode-0000051           BS-EQ-0014-T2-replacement_TCRB  Covid19   \n",
       "...                  ...                                      ...      ...   \n",
       "1409   ImmuneCode-304752                           860011117_TCRB  Covid19   \n",
       "1434   ImmuneCode-775827                           860011106_TCRB  Covid19   \n",
       "1457  ImmuneCode-0000446              BS-GIGI_10-replacement_TCRB  Covid19   \n",
       "1477  ImmuneCode-0000160  BS-EQ-25-T1_BS-GIGI-71-replacement_TCRB  Covid19   \n",
       "1485   ImmuneCode-506345                           860011240_TCRB  Covid19   \n",
       "\n",
       "                               disease_subtype age sex ethnicity_condensed  \\\n",
       "6           COVID-19-HUniv12Oct - Hospitalized  53   F     Hispanic/Latino   \n",
       "8                                 COVID-19-ISB  33   M     Hispanic/Latino   \n",
       "36          COVID-19-HUniv12Oct - Hospitalized  52   F           Caucasian   \n",
       "37                                COVID-19-ISB  56   M     Hispanic/Latino   \n",
       "51           COVID-19-NIH/NIAID - Hospitalized  55   M           Caucasian   \n",
       "...                                        ...  ..  ..                 ...   \n",
       "1409  COVID-19-HUniv12Oct - Hospitalized - ICU  60   M           Caucasian   \n",
       "1434        COVID-19-HUniv12Oct - Hospitalized  57   F           Caucasian   \n",
       "1457         COVID-19-NIH/NIAID - Hospitalized  75   M           Caucasian   \n",
       "1477   COVID-19-NIH/NIAID - Hospitalized - ICU  72   M           Caucasian   \n",
       "1485        COVID-19-HUniv12Oct - Hospitalized  78   F           Caucasian   \n",
       "\n",
       "     sequencing_type locus  \n",
       "6               gDNA  TCRB  \n",
       "8               gDNA  TCRB  \n",
       "36              gDNA  TCRB  \n",
       "37              gDNA  TCRB  \n",
       "51              gDNA  TCRB  \n",
       "...              ...   ...  \n",
       "1409            gDNA  TCRB  \n",
       "1434            gDNA  TCRB  \n",
       "1457            gDNA  TCRB  \n",
       "1477            gDNA  TCRB  \n",
       "1485            gDNA  TCRB  \n",
       "\n",
       "[88 rows x 9 columns]"
      ]
     },
     "execution_count": 43,
     "metadata": {},
     "output_type": "execute_result"
    }
   ],
   "source": [
    "df = df[\n",
    "    [\n",
    "        \"participant_label\",\n",
    "        \"specimen_label\",\n",
    "        \"disease\",\n",
    "        \"disease_subtype\",\n",
    "        \"age\",\n",
    "        \"sex\",\n",
    "        \"ethnicity_condensed\",\n",
    "        \"sequencing_type\",\n",
    "        \"locus\",\n",
    "    ]\n",
    "]\n",
    "df"
   ]
  },
  {
   "cell_type": "code",
   "execution_count": 44,
   "metadata": {
    "execution": {
     "iopub.execute_input": "2023-10-28T16:46:17.855232Z",
     "iopub.status.busy": "2023-10-28T16:46:17.854815Z",
     "iopub.status.idle": "2023-10-28T16:46:17.869508Z",
     "shell.execute_reply": "2023-10-28T16:46:17.867619Z"
    }
   },
   "outputs": [],
   "source": [
    "df.to_csv(\n",
    "    config.paths.metadata_dir\n",
    "    / \"adaptive\"\n",
    "    / \"generated.immunecode_covid_tcr.specimens.tsv\",\n",
    "    sep=\"\\t\",\n",
    "    index=None,\n",
    ")"
   ]
  },
  {
   "cell_type": "code",
   "execution_count": null,
   "metadata": {},
   "outputs": [],
   "source": []
  },
  {
   "cell_type": "code",
   "execution_count": null,
   "metadata": {},
   "outputs": [],
   "source": []
  }
 ],
 "metadata": {
  "jupytext": {
   "cell_metadata_filter": "-all"
  },
  "kernelspec": {
   "display_name": "py39-cuda-env",
   "language": "python",
   "name": "py39-cuda-env"
  },
  "language_info": {
   "codemirror_mode": {
    "name": "ipython",
    "version": 3
   },
   "file_extension": ".py",
   "mimetype": "text/x-python",
   "name": "python",
   "nbconvert_exporter": "python",
   "pygments_lexer": "ipython3",
   "version": "3.9.17"
  }
 },
 "nbformat": 4,
 "nbformat_minor": 4
}
