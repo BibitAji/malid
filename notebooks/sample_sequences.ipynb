{
 "cells": [
  {
   "cell_type": "markdown",
   "metadata": {},
   "source": [
    "# Sample sequences from our full ETL load\n",
    "\n",
    "- subselect sequences\n",
    "- subselect columns\n",
    "- remove specimens that violate some constraints: too few sequences, or not all isotypes found\n",
    "\n",
    "both peak + off-peak are still included after this."
   ]
  },
  {
   "cell_type": "code",
   "execution_count": null,
   "metadata": {
    "execution": {
     "iopub.execute_input": "2023-10-29T07:00:26.776040Z",
     "iopub.status.busy": "2023-10-29T07:00:26.775884Z",
     "iopub.status.idle": "2023-10-29T07:00:29.682147Z",
     "shell.execute_reply": "2023-10-29T07:00:29.681470Z"
    },
    "tags": []
   },
   "outputs": [],
   "source": [
    "from malid import config, helpers\n",
    "from malid.sample_sequences import sample_sequences\n",
    "import pandas as pd"
   ]
  },
  {
   "cell_type": "code",
   "execution_count": null,
   "metadata": {},
   "outputs": [],
   "source": []
  },
  {
   "cell_type": "code",
   "execution_count": null,
   "metadata": {},
   "outputs": [],
   "source": []
  },
  {
   "cell_type": "markdown",
   "metadata": {},
   "source": [
    "**If regenerating, this notebook should automatically overwrite `config.paths.sequences_sampled`, but you can also manually clear it first with `rm -r`**"
   ]
  },
  {
   "cell_type": "code",
   "execution_count": null,
   "metadata": {
    "execution": {
     "iopub.execute_input": "2023-10-29T07:00:29.684853Z",
     "iopub.status.busy": "2023-10-29T07:00:29.684682Z",
     "iopub.status.idle": "2023-10-29T07:00:29.691150Z",
     "shell.execute_reply": "2023-10-29T07:00:29.690606Z"
    }
   },
   "outputs": [],
   "source": [
    "config.paths.sequences_sampled"
   ]
  },
  {
   "cell_type": "code",
   "execution_count": null,
   "metadata": {},
   "outputs": [],
   "source": []
  },
  {
   "cell_type": "code",
   "execution_count": null,
   "metadata": {},
   "outputs": [],
   "source": []
  },
  {
   "cell_type": "code",
   "execution_count": null,
   "metadata": {
    "execution": {
     "iopub.execute_input": "2023-10-29T07:00:29.693110Z",
     "iopub.status.busy": "2023-10-29T07:00:29.692950Z",
     "iopub.status.idle": "2023-10-29T07:00:29.866132Z",
     "shell.execute_reply": "2023-10-29T07:00:29.865612Z"
    }
   },
   "outputs": [],
   "source": [
    "import dask\n",
    "import dask.dataframe as dd\n",
    "import time"
   ]
  },
  {
   "cell_type": "code",
   "execution_count": null,
   "metadata": {},
   "outputs": [],
   "source": []
  },
  {
   "cell_type": "code",
   "execution_count": null,
   "metadata": {},
   "outputs": [],
   "source": []
  },
  {
   "cell_type": "code",
   "execution_count": null,
   "metadata": {},
   "outputs": [],
   "source": []
  },
  {
   "cell_type": "code",
   "execution_count": null,
   "metadata": {
    "execution": {
     "iopub.execute_input": "2023-10-29T07:00:29.868542Z",
     "iopub.status.busy": "2023-10-29T07:00:29.868269Z",
     "iopub.status.idle": "2023-10-29T07:00:32.299154Z",
     "shell.execute_reply": "2023-10-29T07:00:32.298519Z"
    }
   },
   "outputs": [],
   "source": [
    "from dask.distributed import Client\n",
    "\n",
    "# multi-processing backend\n",
    "client = Client(\n",
    "    scheduler_port=config.dask_scheduler_port,\n",
    "    dashboard_address=config.dask_dashboard_address,\n",
    "    n_workers=config.dask_n_workers,\n",
    "    processes=True,\n",
    "    threads_per_worker=8,\n",
    "    memory_limit=\"125GB\",  # per worker\n",
    ")\n",
    "display(client)\n",
    "# for debugging: client.restart()"
   ]
  },
  {
   "cell_type": "code",
   "execution_count": null,
   "metadata": {},
   "outputs": [],
   "source": []
  },
  {
   "cell_type": "code",
   "execution_count": null,
   "metadata": {
    "execution": {
     "iopub.execute_input": "2023-10-29T07:00:32.301818Z",
     "iopub.status.busy": "2023-10-29T07:00:32.301251Z",
     "iopub.status.idle": "2023-10-29T07:00:32.307575Z",
     "shell.execute_reply": "2023-10-29T07:00:32.307062Z"
    }
   },
   "outputs": [],
   "source": [
    "# Input columns\n",
    "desired_columns = [\n",
    "    \"specimen_label\",\n",
    "    \"participant_label\",\n",
    "    \"amplification_label\",\n",
    "    \"v_gene\",\n",
    "    \"j_gene\",\n",
    "    \"disease\",\n",
    "    \"disease_subtype\",\n",
    "    \"fr1_seq_aa_q_trim\",\n",
    "    \"cdr1_seq_aa_q_trim\",\n",
    "    \"fr2_seq_aa_q_trim\",\n",
    "    \"cdr2_seq_aa_q_trim\",\n",
    "    \"fr3_seq_aa_q_trim\",\n",
    "    \"cdr3_seq_aa_q_trim\",\n",
    "    \"post_seq_aa_q_trim\",\n",
    "    \"cdr3_aa_sequence_trim_len\",\n",
    "    \"extracted_isotype\",\n",
    "    \"isotype_supergroup\",\n",
    "    \"v_mut\",\n",
    "    \"num_reads\",\n",
    "    \"igh_or_tcrb_clone_id\",\n",
    "]"
   ]
  },
  {
   "cell_type": "code",
   "execution_count": null,
   "metadata": {
    "execution": {
     "iopub.execute_input": "2023-10-29T07:00:32.309347Z",
     "iopub.status.busy": "2023-10-29T07:00:32.309173Z",
     "iopub.status.idle": "2023-10-29T07:00:36.251838Z",
     "shell.execute_reply": "2023-10-29T07:00:36.251124Z"
    }
   },
   "outputs": [],
   "source": [
    "# Don't use fastparquet, because it changes specimen labels like M54-049 to 2049-01-01 00:00:54 -- i.e. it coerces partition names to numbers or dates\n",
    "df = dd.read_parquet(config.paths.sequences, columns=desired_columns, engine=\"pyarrow\")"
   ]
  },
  {
   "cell_type": "code",
   "execution_count": null,
   "metadata": {
    "execution": {
     "iopub.execute_input": "2023-10-29T07:00:36.255842Z",
     "iopub.status.busy": "2023-10-29T07:00:36.255636Z",
     "iopub.status.idle": "2023-10-29T07:00:36.260461Z",
     "shell.execute_reply": "2023-10-29T07:00:36.259829Z"
    }
   },
   "outputs": [],
   "source": [
    "# each partition is a specimen\n",
    "df.npartitions"
   ]
  },
  {
   "cell_type": "code",
   "execution_count": null,
   "metadata": {
    "execution": {
     "iopub.execute_input": "2023-10-29T07:00:36.263246Z",
     "iopub.status.busy": "2023-10-29T07:00:36.262990Z",
     "iopub.status.idle": "2023-10-29T07:00:36.300814Z",
     "shell.execute_reply": "2023-10-29T07:00:36.300302Z"
    }
   },
   "outputs": [],
   "source": [
    "df"
   ]
  },
  {
   "cell_type": "code",
   "execution_count": null,
   "metadata": {
    "execution": {
     "iopub.execute_input": "2023-10-29T07:00:36.302620Z",
     "iopub.status.busy": "2023-10-29T07:00:36.302459Z",
     "iopub.status.idle": "2023-10-29T07:00:36.463943Z",
     "shell.execute_reply": "2023-10-29T07:00:36.463414Z"
    },
    "tags": []
   },
   "outputs": [],
   "source": [
    "# required_gene_loci=config.gene_loci_used\n",
    "# Required gene loci may differ for each specimen. Prepare a dict\n",
    "required_gene_loci = helpers._load_etl_metadata()[\"available_gene_loci\"]\n",
    "required_gene_loci"
   ]
  },
  {
   "cell_type": "code",
   "execution_count": null,
   "metadata": {
    "execution": {
     "iopub.execute_input": "2023-10-29T07:00:36.465769Z",
     "iopub.status.busy": "2023-10-29T07:00:36.465605Z",
     "iopub.status.idle": "2023-10-29T07:00:36.471729Z",
     "shell.execute_reply": "2023-10-29T07:00:36.471226Z"
    }
   },
   "outputs": [],
   "source": [
    "required_gene_loci.value_counts()"
   ]
  },
  {
   "cell_type": "code",
   "execution_count": null,
   "metadata": {},
   "outputs": [],
   "source": []
  },
  {
   "cell_type": "code",
   "execution_count": null,
   "metadata": {
    "execution": {
     "iopub.execute_input": "2023-10-29T07:00:36.473461Z",
     "iopub.status.busy": "2023-10-29T07:00:36.473300Z",
     "iopub.status.idle": "2023-10-29T07:00:38.495730Z",
     "shell.execute_reply": "2023-10-29T07:00:38.495203Z"
    }
   },
   "outputs": [],
   "source": [
    "# pass empty df as meta, along with the new columns created by sample_sequences\n",
    "meta = df.head(0).assign(total_clone_num_reads=0, num_clone_members=0)\n",
    "df_sampled = df.map_partitions(\n",
    "    sample_sequences, required_gene_loci=required_gene_loci.to_dict(), meta=meta\n",
    ")\n",
    "df_sampled"
   ]
  },
  {
   "cell_type": "code",
   "execution_count": null,
   "metadata": {},
   "outputs": [],
   "source": []
  },
  {
   "cell_type": "code",
   "execution_count": null,
   "metadata": {},
   "outputs": [],
   "source": []
  },
  {
   "cell_type": "code",
   "execution_count": null,
   "metadata": {
    "execution": {
     "iopub.execute_input": "2023-10-29T07:00:38.497690Z",
     "iopub.status.busy": "2023-10-29T07:00:38.497522Z",
     "iopub.status.idle": "2023-10-29T07:00:38.501304Z",
     "shell.execute_reply": "2023-10-29T07:00:38.500783Z"
    }
   },
   "outputs": [],
   "source": [
    "config.paths.sequences_sampled"
   ]
  },
  {
   "cell_type": "code",
   "execution_count": null,
   "metadata": {
    "execution": {
     "iopub.execute_input": "2023-10-29T07:00:38.502957Z",
     "iopub.status.busy": "2023-10-29T07:00:38.502803Z",
     "iopub.status.idle": "2023-10-29T07:35:16.362819Z",
     "shell.execute_reply": "2023-10-29T07:35:16.361379Z"
    }
   },
   "outputs": [],
   "source": [
    "itime = time.time()\n",
    "\n",
    "# This can behave weirdly with empty partitions. https://github.com/dask/dask/issues/8832\n",
    "\n",
    "df_sampled.to_parquet(\n",
    "    config.paths.sequences_sampled,\n",
    "    overwrite=True,\n",
    "    compression=\"snappy\",  # gzip\n",
    "    engine=\"pyarrow\",\n",
    "    # schema arg only accepted by pyarrow engine:\n",
    "    # Set schema to \"infer\" if we have any empty partitions and using pyarrow.\n",
    "    # schema=\"infer\" is no longer slow as of https://github.com/dask/dask/pull/9131\n",
    "    # schema=None breaks downstream readers.\n",
    "    schema=\"infer\",\n",
    "    # also, do empty partitions even make it to disk, or are they eliminated? they seem eliminated.\n",
    "    write_metadata_file=False,\n",
    "    partition_on=[\"participant_label\", \"specimen_label\"],\n",
    ")\n",
    "\n",
    "print(time.time() - itime)"
   ]
  },
  {
   "cell_type": "code",
   "execution_count": null,
   "metadata": {},
   "outputs": [],
   "source": []
  },
  {
   "cell_type": "code",
   "execution_count": null,
   "metadata": {},
   "outputs": [],
   "source": []
  },
  {
   "cell_type": "code",
   "execution_count": null,
   "metadata": {
    "execution": {
     "iopub.execute_input": "2023-10-29T07:35:16.367166Z",
     "iopub.status.busy": "2023-10-29T07:35:16.366393Z",
     "iopub.status.idle": "2023-10-29T07:35:16.376770Z",
     "shell.execute_reply": "2023-10-29T07:35:16.374726Z"
    }
   },
   "outputs": [],
   "source": [
    "df_sampled.dtypes"
   ]
  },
  {
   "cell_type": "code",
   "execution_count": null,
   "metadata": {
    "execution": {
     "iopub.execute_input": "2023-10-29T07:35:16.379415Z",
     "iopub.status.busy": "2023-10-29T07:35:16.379235Z",
     "iopub.status.idle": "2023-10-29T07:35:24.722486Z",
     "shell.execute_reply": "2023-10-29T07:35:24.721683Z"
    }
   },
   "outputs": [],
   "source": [
    "df_sampled2 = dd.read_parquet(config.paths.sequences_sampled, engine=\"pyarrow\")\n",
    "df_sampled2"
   ]
  },
  {
   "cell_type": "code",
   "execution_count": null,
   "metadata": {
    "execution": {
     "iopub.execute_input": "2023-10-29T07:35:24.725397Z",
     "iopub.status.busy": "2023-10-29T07:35:24.725191Z",
     "iopub.status.idle": "2023-10-29T07:35:24.732407Z",
     "shell.execute_reply": "2023-10-29T07:35:24.731877Z"
    }
   },
   "outputs": [],
   "source": [
    "# check dtypes\n",
    "df_sampled2.dtypes"
   ]
  },
  {
   "cell_type": "code",
   "execution_count": null,
   "metadata": {
    "execution": {
     "iopub.execute_input": "2023-10-29T07:35:24.734796Z",
     "iopub.status.busy": "2023-10-29T07:35:24.734627Z",
     "iopub.status.idle": "2023-10-29T07:35:24.750370Z",
     "shell.execute_reply": "2023-10-29T07:35:24.749797Z"
    }
   },
   "outputs": [],
   "source": [
    "# compare dtypes\n",
    "pd.concat(\n",
    "    [\n",
    "        df_sampled.dtypes.rename(\"expected dtypes\"),\n",
    "        df_sampled2.dtypes.rename(\"reloaded observed dtypes\"),\n",
    "    ],\n",
    "    axis=1,\n",
    ")"
   ]
  },
  {
   "cell_type": "code",
   "execution_count": null,
   "metadata": {
    "execution": {
     "iopub.execute_input": "2023-10-29T07:35:24.752902Z",
     "iopub.status.busy": "2023-10-29T07:35:24.752489Z",
     "iopub.status.idle": "2023-10-29T07:35:24.764804Z",
     "shell.execute_reply": "2023-10-29T07:35:24.764309Z"
    }
   },
   "outputs": [],
   "source": [
    "# expected lower because losing some empty specimens\n",
    "df.npartitions, df_sampled.npartitions, df_sampled2.npartitions"
   ]
  },
  {
   "cell_type": "code",
   "execution_count": null,
   "metadata": {},
   "outputs": [],
   "source": []
  },
  {
   "cell_type": "code",
   "execution_count": null,
   "metadata": {},
   "outputs": [],
   "source": []
  },
  {
   "cell_type": "code",
   "execution_count": null,
   "metadata": {
    "execution": {
     "iopub.execute_input": "2023-10-29T07:35:24.766637Z",
     "iopub.status.busy": "2023-10-29T07:35:24.766477Z",
     "iopub.status.idle": "2023-10-29T07:35:26.324700Z",
     "shell.execute_reply": "2023-10-29T07:35:26.324016Z"
    }
   },
   "outputs": [],
   "source": [
    "client.shutdown()"
   ]
  },
  {
   "cell_type": "code",
   "execution_count": null,
   "metadata": {},
   "outputs": [],
   "source": []
  }
 ],
 "metadata": {
  "jupytext": {
   "cell_metadata_filter": "-all"
  },
  "kernelspec": {
   "display_name": "py39-cuda-env",
   "language": "python",
   "name": "py39-cuda-env"
  },
  "language_info": {
   "codemirror_mode": {
    "name": "ipython",
    "version": 3
   },
   "file_extension": ".py",
   "mimetype": "text/x-python",
   "name": "python",
   "nbconvert_exporter": "python",
   "pygments_lexer": "ipython3",
   "version": "3.9.16"
  }
 },
 "nbformat": 4,
 "nbformat_minor": 4
}
