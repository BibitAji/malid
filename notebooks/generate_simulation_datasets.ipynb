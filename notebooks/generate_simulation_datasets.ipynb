{
 "cells": [
  {
   "cell_type": "markdown",
   "metadata": {},
   "source": [
    "Use previous model to choose the most and least disease specific sequences from real Covid, HIV, and Healthy repertoires:\n",
    "- 10 individuals per class\n",
    "- 1000 sequences per isotype\n",
    "- PCA’ed to 10 components.\n",
    "\n",
    "Also filter to known important V genes:\n",
    "- HIV: V4-34, V4-61, V4-4, V3-20\n",
    "- Covid19: V1-24, V3-13, V3-9, V3-53\n",
    "\n",
    "Signal to noise ratios: 25%, 50%, 75%\n",
    "\n",
    "Recapitulates what logistic regression excels at."
   ]
  },
  {
   "cell_type": "code",
   "execution_count": 1,
   "metadata": {
    "execution": {
     "iopub.execute_input": "2022-11-28T22:57:55.215569Z",
     "iopub.status.busy": "2022-11-28T22:57:55.214915Z",
     "iopub.status.idle": "2022-11-28T22:58:05.330786Z",
     "shell.execute_reply": "2022-11-28T22:58:05.328173Z"
    }
   },
   "outputs": [],
   "source": [
    "from typing import Any, Dict, List, Optional, Union\n",
    "import numpy as np\n",
    "import matplotlib.pyplot as plt\n",
    "\n",
    "%matplotlib inline\n",
    "import pandas as pd\n",
    "import seaborn as sns\n",
    "import scanpy as sc\n",
    "import anndata\n",
    "import genetools\n",
    "import gc\n",
    "import shutil\n",
    "from pathlib import Path\n",
    "from collections import defaultdict\n",
    "\n",
    "import malid.external.genetools_scanpy_helpers\n",
    "from malid import io\n",
    "from malid.trained_model_wrappers import SequenceClassifier\n",
    "from malid import config, helpers, logger\n",
    "from malid.datamodels import (\n",
    "    GeneLocus,\n",
    "    TargetObsColumnEnum,\n",
    "    SampleWeightStrategy,\n",
    "    healthy_label,\n",
    ")"
   ]
  },
  {
   "cell_type": "code",
   "execution_count": 2,
   "metadata": {
    "execution": {
     "iopub.execute_input": "2022-11-28T22:58:05.339116Z",
     "iopub.status.busy": "2022-11-28T22:58:05.338473Z",
     "iopub.status.idle": "2022-11-28T22:58:05.351171Z",
     "shell.execute_reply": "2022-11-28T22:58:05.349061Z"
    }
   },
   "outputs": [],
   "source": [
    "# in an effort to generate more convergent sequence clusters, let's filter down V genes\n",
    "# v_genes_important_to_disease (if disease not listed here, it won't be filtered):\n",
    "v_gene_filter: Dict[GeneLocus, Dict[str, List[str]]] = {\n",
    "    GeneLocus.BCR: {\n",
    "        \"HIV\": [\"IGHV4-34\", \"IGHV4-61\", \"IGHV4-4\", \"IGHV3-20\"],\n",
    "        \"Covid19\": [\"IGHV1-24\", \"IGHV3-13\", \"IGHV3-9\", \"IGHV3-43\"],\n",
    "    },\n",
    "    GeneLocus.TCR: {},\n",
    "}"
   ]
  },
  {
   "cell_type": "code",
   "execution_count": 3,
   "metadata": {
    "execution": {
     "iopub.execute_input": "2022-11-28T22:58:05.358678Z",
     "iopub.status.busy": "2022-11-28T22:58:05.358007Z",
     "iopub.status.idle": "2022-11-28T22:58:05.371560Z",
     "shell.execute_reply": "2022-11-28T22:58:05.369389Z"
    }
   },
   "outputs": [],
   "source": [
    "# If we want to generate based on an older dataset version, we can swap it in here:\n",
    "dataset_version = config.DATASET_VERSION  # \"20220930_expand\"\n",
    "\n",
    "config.paths = config.make_paths(\n",
    "    embedder=config.embedder, dataset_version=dataset_version\n",
    ")"
   ]
  },
  {
   "cell_type": "code",
   "execution_count": null,
   "metadata": {},
   "outputs": [],
   "source": []
  },
  {
   "cell_type": "code",
   "execution_count": 4,
   "metadata": {
    "execution": {
     "iopub.execute_input": "2022-11-28T22:58:05.379591Z",
     "iopub.status.busy": "2022-11-28T22:58:05.378973Z",
     "iopub.status.idle": "2022-11-28T22:58:05.389082Z",
     "shell.execute_reply": "2022-11-28T22:58:05.387053Z"
    }
   },
   "outputs": [],
   "source": [
    "def copy_metadata(destination_dir: Path):\n",
    "    destination_dir.mkdir(exist_ok=True, parents=True)\n",
    "    for fname in config.paths.dataset_specific_metadata.glob(\"*\"):\n",
    "        shutil.copy2(fname, destination_dir)\n",
    "        print(fname)"
   ]
  },
  {
   "cell_type": "code",
   "execution_count": 5,
   "metadata": {
    "execution": {
     "iopub.execute_input": "2022-11-28T22:58:05.396718Z",
     "iopub.status.busy": "2022-11-28T22:58:05.396076Z",
     "iopub.status.idle": "2022-11-28T22:58:05.419574Z",
     "shell.execute_reply": "2022-11-28T22:58:05.417775Z"
    }
   },
   "outputs": [],
   "source": [
    "def _sample_one_specimen(\n",
    "    adata_specimen: anndata.AnnData,\n",
    "    specimen_label: str,\n",
    "    gene_locus: GeneLocus,\n",
    "    disease: str,\n",
    "    clf: SequenceClassifier,\n",
    "    n_sequences_per_patient_per_isotype: int,\n",
    "    fraction_disease_specific: float,\n",
    ") -> Union[Dict[str, List[np.ndarray]], None]:\n",
    "    \"\"\"For one specimen anndata belonging to one gene locus,\n",
    "    select and return a subset of obsnames,\n",
    "    marked with identites healthy, not_disease, or true_disease.\n",
    "    returns None if there were not enough sequences per isotype.\"\"\"\n",
    "    # We are already guaranteed, by the construction of the original dataset, that all isotypes are present for this specimen,\n",
    "    # but their counts aren't guaranteed.\n",
    "    # Just in case, we will sanity check that all isotypes are present:\n",
    "    if set(adata_specimen.obs[\"isotype_supergroup\"].unique()) != set(\n",
    "        helpers.isotype_groups_kept[gene_locus]\n",
    "    ):\n",
    "        logger.warning(\n",
    "            f\"Specimen {specimen_label} from disease {disease} missing some isotypes altogether for {gene_locus} - skipping specimen\"\n",
    "        )\n",
    "        return None\n",
    "\n",
    "    obs_names_to_keep_for_this_specimen = defaultdict(list)\n",
    "\n",
    "    for isotype, adata_subset in helpers.anndata_groupby_obs(\n",
    "        adata_specimen, \"isotype_supergroup\", observed=False\n",
    "    ):\n",
    "        if adata_subset.shape[0] < n_sequences_per_patient_per_isotype:\n",
    "            logger.warning(\n",
    "                f\"Specimen {specimen_label}, isotype {isotype}, disease {disease}, {gene_locus}: only had {adata_subset.shape[0]} sequences - skipping specimen\"\n",
    "            )\n",
    "            # stop looking at this patient - don't include any isotypes staged so far\n",
    "            return None\n",
    "\n",
    "        # score the sequences - get predicted probabilities for this disease\n",
    "        # doesn't matter if we use adjusted decision thresholds because that is just reweighting the entire class by a factor. rankings within the class won't change (unless we renormalize the rows)\n",
    "        featurized = clf.featurize(adata_subset)\n",
    "        scores = pd.DataFrame(\n",
    "            clf.predict_proba(\n",
    "                featurized.X,\n",
    "            ),\n",
    "            index=featurized.sample_names,\n",
    "            columns=clf.classes_,\n",
    "        )\n",
    "        # pull out sequence probability for this disease - still indexed by obsname\n",
    "        scores = scores[disease]\n",
    "        if scores.isna().any():\n",
    "            raise ValueError(f\"Specimen {specimen_label}: disease_pr contains NaN\")\n",
    "\n",
    "        # get obsnames in sorted order\n",
    "        sorted_order = scores.sort_values().index.to_series()\n",
    "\n",
    "        if disease == healthy_label:\n",
    "            # take a random smattering of n_sequences_per_patient_per_isotype sequences\n",
    "            obs_names_to_keep_for_this_specimen[\"healthy\"].append(\n",
    "                sorted_order.sample(\n",
    "                    n=n_sequences_per_patient_per_isotype, random_state=0\n",
    "                ).values\n",
    "            )\n",
    "        else:\n",
    "            # take from top (unlikely to be disease specific)\n",
    "            obs_names_to_keep_for_this_specimen[\"not_disease\"].append(\n",
    "                sorted_order.head(\n",
    "                    n=int(\n",
    "                        (1 - fraction_disease_specific)\n",
    "                        * n_sequences_per_patient_per_isotype\n",
    "                    )\n",
    "                ).values\n",
    "            )\n",
    "            # take from bottom (likely to be disease specific)\n",
    "            obs_names_to_keep_for_this_specimen[\"true_disease\"].append(\n",
    "                sorted_order.tail(\n",
    "                    n=int(\n",
    "                        fraction_disease_specific * n_sequences_per_patient_per_isotype\n",
    "                    )\n",
    "                ).values\n",
    "            )\n",
    "\n",
    "    return obs_names_to_keep_for_this_specimen"
   ]
  },
  {
   "cell_type": "code",
   "execution_count": 6,
   "metadata": {
    "execution": {
     "iopub.execute_input": "2022-11-28T22:58:05.426748Z",
     "iopub.status.busy": "2022-11-28T22:58:05.426248Z",
     "iopub.status.idle": "2022-11-28T22:58:05.462032Z",
     "shell.execute_reply": "2022-11-28T22:58:05.460552Z"
    }
   },
   "outputs": [],
   "source": [
    "def sample_from_fold(\n",
    "    fold_id: int,\n",
    "    fold_label: str,\n",
    "    gene_loci: GeneLocus,\n",
    "    n_specimens_per_disease: int,\n",
    "    n_sequences_per_patient_per_isotype: int,\n",
    "    fraction_disease_specific: float,\n",
    "    diseases_kept: Optional[List[str]] = None,\n",
    "    v_genes_kept: Optional[Dict[GeneLocus, Dict[str, List[str]]]] = None,\n",
    ") -> Dict[GeneLocus, anndata.AnnData]:\n",
    "    \"\"\"\n",
    "    Sample from fold for all gene loci simultaneously,\n",
    "    so that we have matching specimen lists for all gene loci.\n",
    "    (in other words, a specimen must pass the relevant BCR *and* TCR filters to be included in either)\n",
    "    \"\"\"\n",
    "    # Load data\n",
    "    adatas: Dict[GeneLocus, anndata.AnnData] = {}\n",
    "    clfs: Dict[GeneLocus, SequenceClassifier] = {}\n",
    "    diseases = None\n",
    "\n",
    "    for gene_locus in gene_loci:\n",
    "        adata = io.load_fold_embeddings(\n",
    "            fold_id=fold_id,\n",
    "            fold_label=fold_label,\n",
    "            gene_locus=gene_locus,\n",
    "            # Require that all participants have all demorgaphic columns defined\n",
    "            target_obs_column=TargetObsColumnEnum.disease_all_demographics_present,\n",
    "            sample_weight_strategy=SampleWeightStrategy.ISOTYPE_USAGE,\n",
    "        )\n",
    "\n",
    "        if diseases_kept is not None:\n",
    "            adata = adata[adata.obs[\"disease\"].isin(diseases_kept)]\n",
    "\n",
    "        if adata.obs_names.duplicated().any():\n",
    "            raise ValueError(\"obs_names had dupes\")\n",
    "\n",
    "        # Get diseases list and confirm all anndatas match it\n",
    "        if diseases is None:\n",
    "            diseases = adata.obs[\"disease\"].unique()\n",
    "        else:\n",
    "            if set(diseases) != set(adata.obs[\"disease\"].unique()):\n",
    "                raise ValueError(\"Disease list mismatch between anndatas.\")\n",
    "\n",
    "        adatas[gene_locus] = adata.copy()\n",
    "        del adata\n",
    "        io.clear_cached_fold_embeddings()\n",
    "        gc.collect()\n",
    "\n",
    "        # load individual sequence classifier\n",
    "        clf = SequenceClassifier(\n",
    "            fold_id=fold_id,\n",
    "            model_name_sequence_disease=\"lasso_multiclass\",\n",
    "            fold_label_train=\"train_smaller\",\n",
    "            gene_locus=gene_locus,\n",
    "            # Match above\n",
    "            target_obs_column=TargetObsColumnEnum.disease_all_demographics_present,\n",
    "            sample_weight_strategy=SampleWeightStrategy.ISOTYPE_USAGE,\n",
    "        )\n",
    "        clfs[gene_locus] = clf\n",
    "\n",
    "        if not set(diseases) <= set(clf.classes_):\n",
    "            # all diseases should be in the classifier's classes\n",
    "            raise ValueError(\n",
    "                f\"Disease list {diseases} should be a subset of (or equal to) clf classes {clf.classes_}\"\n",
    "            )\n",
    "\n",
    "    obs_names_to_keep_for_all_specimens_by_gene_locus: Dict[\n",
    "        GeneLocus, Dict[str, List[np.ndarray]]\n",
    "    ] = {gene_locus: defaultdict(list) for gene_locus in gene_loci}\n",
    "\n",
    "    # Sample from each disease.\n",
    "    for disease in diseases:\n",
    "        # For each gene locus,\n",
    "        # limit the full anndata to sequences originating from that disease's patients and with particular V genes\n",
    "        adatas_filtered: Dict[GeneLocus, anndata.AnnData] = {}\n",
    "        for gene_locus, adata in adatas.items():\n",
    "            adatas_filtered[gene_locus] = adata[adata.obs[\"disease\"] == disease]\n",
    "            if (\n",
    "                v_genes_kept is not None\n",
    "                and v_genes_kept.get(gene_locus) is not None\n",
    "                and disease in v_genes_kept[gene_locus]\n",
    "            ):\n",
    "                adatas_filtered[gene_locus] = adatas_filtered[gene_locus][\n",
    "                    adatas_filtered[gene_locus]\n",
    "                    .obs[\"v_gene\"]\n",
    "                    .isin(v_genes_kept[gene_locus][disease])\n",
    "                ]\n",
    "\n",
    "        # track how many specimens we successfully included already\n",
    "        n_specimens_kept_from_this_disease = 0\n",
    "        # track which participants these specimens came from\n",
    "        participants_represented = set()\n",
    "\n",
    "        # Get participant+specimen list from first anndata (should match the rest)\n",
    "        first_anndata = next(iter(adatas_filtered.values()))\n",
    "        specimen_list = (\n",
    "            first_anndata.obs[[\"participant_label\", \"specimen_label\"]]\n",
    "            .drop_duplicates()\n",
    "            .values\n",
    "        )\n",
    "\n",
    "        # Sample a certain number of sequences per isotype (so we get all isotypes)\n",
    "        for (participant_label, specimen_label) in specimen_list:\n",
    "            if n_specimens_kept_from_this_disease >= n_specimens_per_disease:\n",
    "                # we have enough patients already, stop looking at more specimens to add\n",
    "                break\n",
    "\n",
    "            if participant_label in participants_represented:\n",
    "                logger.warning(\n",
    "                    f\"Specimen {specimen_label} from disease {disease} will be skipped because we already have another specimen from same participant {participant_label}\"\n",
    "                )\n",
    "                # skip to next specimen\n",
    "                continue\n",
    "\n",
    "            # Find which obsnames we'd sample from this specimen in each gene locus dataset\n",
    "            obs_names_to_keep_for_this_specimen_by_locus: Dict[\n",
    "                GeneLocus, Union[Dict[str, List[np.ndarray]], None]\n",
    "            ] = {\n",
    "                gene_locus: _sample_one_specimen(\n",
    "                    adata_specimen=adatas_filtered[gene_locus][\n",
    "                        adatas_filtered[gene_locus].obs[\"specimen_label\"]\n",
    "                        == specimen_label\n",
    "                    ],\n",
    "                    specimen_label=specimen_label,\n",
    "                    gene_locus=gene_locus,\n",
    "                    disease=disease,\n",
    "                    clf=clfs[gene_locus],\n",
    "                    n_sequences_per_patient_per_isotype=n_sequences_per_patient_per_isotype,\n",
    "                    fraction_disease_specific=fraction_disease_specific,\n",
    "                )\n",
    "                for gene_locus in gene_loci\n",
    "            }\n",
    "\n",
    "            # Confirm that this specimen passed filters in each gene locus\n",
    "            if any(\n",
    "                obsnames_in_one_locus is None\n",
    "                for obsnames_in_one_locus in obs_names_to_keep_for_this_specimen_by_locus.values()\n",
    "            ):\n",
    "                # Not all isotypes were sampled\n",
    "                # Skip this specimen for all isotypes and gene loci,\n",
    "                # so we don't have any specimens missing some isotypes (leads to NaNs in model1 feature matrix)\n",
    "                # or missing in some gene loci (breaks metamodel).\n",
    "                logger.warning(\n",
    "                    f\"Specimen {specimen_label} from participant {participant_label}, disease {disease} will not be included due to missing/incomplete isotypes (in one or more gene loci).\"\n",
    "                )\n",
    "            else:\n",
    "                for (\n",
    "                    gene_locus,\n",
    "                    obsnames_in_one_locus,\n",
    "                ) in obs_names_to_keep_for_this_specimen_by_locus.items():\n",
    "                    for (\n",
    "                        sequence_identity,\n",
    "                        sequence_obsnames,\n",
    "                    ) in obsnames_in_one_locus.items():\n",
    "                        obs_names_to_keep_for_all_specimens_by_gene_locus[gene_locus][\n",
    "                            sequence_identity\n",
    "                        ].extend(sequence_obsnames)\n",
    "                n_specimens_kept_from_this_disease += 1\n",
    "                participants_represented.add(participant_label)\n",
    "                logger.info(\n",
    "                    f\"Added specimen {specimen_label} from participant {participant_label}, disease {disease}\"\n",
    "                )\n",
    "\n",
    "        if n_specimens_kept_from_this_disease != n_specimens_per_disease:\n",
    "            # Confirm we got the right amount of specimens\n",
    "            raise ValueError(\n",
    "                f\"We selected only {n_specimens_kept_from_this_disease} specimens from {disease}, rather than desired {n_specimens_per_disease} - fold {fold_id}-{fold_label}, {gene_loci}\"\n",
    "            )\n",
    "        del adatas_filtered\n",
    "        gc.collect()\n",
    "\n",
    "    # Actually perform the sampling and arrive at resulting anndatas\n",
    "    returned_anndatas: Dict[GeneLocus, anndata.AnnData] = {}\n",
    "    for gene_locus, adata in adatas.items():\n",
    "        obs_names_to_keep: Dict[\n",
    "            str, List[np.ndarray]\n",
    "        ] = obs_names_to_keep_for_all_specimens_by_gene_locus[gene_locus]\n",
    "\n",
    "        # Flatten lists of indices from all participants (still separated by healthy/not-disease/true-disease sequence identities)\n",
    "        obs_names_to_keep_flattened: Dict[str, np.ndarray] = {\n",
    "            sequence_identity: np.array(\n",
    "                list_of_np_arrays_for_one_sequence_identity\n",
    "            ).ravel()\n",
    "            for sequence_identity, list_of_np_arrays_for_one_sequence_identity in obs_names_to_keep.items()\n",
    "        }\n",
    "\n",
    "        # Combine all indices across all sequence identities\n",
    "        all_obs_names_to_keep = np.hstack(list(obs_names_to_keep_flattened.values()))\n",
    "\n",
    "        # Return adata at selected indices (across all identities)\n",
    "        # and undo any scaling\n",
    "        adata_export = adata[all_obs_names_to_keep, :].raw.to_adata()\n",
    "        del adata\n",
    "        gc.collect()\n",
    "\n",
    "        # Mark identities in obs\n",
    "        adata_export.obs[\"sequence_identity_is_true_disease\"] = pd.Series(\n",
    "            dtype=pd.CategoricalDtype(categories=obs_names_to_keep_flattened.keys())\n",
    "        )\n",
    "        for sequence_identity, obsnames in obs_names_to_keep_flattened.items():\n",
    "            adata_export.obs.loc[\n",
    "                obsnames, \"sequence_identity_is_true_disease\"\n",
    "            ] = sequence_identity\n",
    "\n",
    "        # remove unused labels, if these variables are Categoricals\n",
    "        adata_export.obs[\"participant_label\"] = (\n",
    "            adata_export.obs[\"participant_label\"]\n",
    "            .astype(\"category\")\n",
    "            .cat.remove_unused_categories()\n",
    "        )\n",
    "        adata_export.obs[\"specimen_label\"] = (\n",
    "            adata_export.obs[\"specimen_label\"]\n",
    "            .astype(\"category\")\n",
    "            .cat.remove_unused_categories()\n",
    "        )\n",
    "\n",
    "        # no need to pass old PCA info along\n",
    "        del adata_export.obsm\n",
    "\n",
    "        returned_anndatas[gene_locus] = adata_export\n",
    "\n",
    "    del adatas\n",
    "    gc.collect()\n",
    "    return returned_anndatas"
   ]
  },
  {
   "cell_type": "code",
   "execution_count": 7,
   "metadata": {
    "execution": {
     "iopub.execute_input": "2022-11-28T22:58:05.467842Z",
     "iopub.status.busy": "2022-11-28T22:58:05.467625Z",
     "iopub.status.idle": "2022-11-28T22:58:05.486696Z",
     "shell.execute_reply": "2022-11-28T22:58:05.485200Z"
    }
   },
   "outputs": [],
   "source": [
    "def run(\n",
    "    output_dir_anndatas: Path,\n",
    "    gene_loci: GeneLocus,\n",
    "    n_specimens_per_disease: int,\n",
    "    n_sequences_per_patient_per_isotype: int,\n",
    "    fraction_disease_specific: float,\n",
    "    scale_data=False,\n",
    "    store_raw_pre_scaling=True,\n",
    "    pca_n_comps: Optional[int] = None,\n",
    "    diseases_kept: Optional[List[str]] = None,\n",
    "    v_genes_kept: Optional[Dict[GeneLocus, Dict[str, List[str]]]] = None,\n",
    "    write_csvs=False,\n",
    "    include_global_fold=True,\n",
    "):\n",
    "    for fold_id in (\n",
    "        config.all_fold_ids if include_global_fold else config.cross_validation_fold_ids\n",
    "    ):\n",
    "        # These transformations will be fit on train_smaller set and applied to others\n",
    "        # so they start as None and then will be replaced.\n",
    "        # indexed by gene_locus - i.e. the transformations are different for each gene locus (because coming from different language models)\n",
    "        scale_transformers: Dict[GeneLocus, Any] = {\n",
    "            gene_locus: None for gene_locus in gene_loci\n",
    "        }\n",
    "        pca_transformers: Dict[GeneLocus, Any] = {\n",
    "            gene_locus: None for gene_locus in gene_loci\n",
    "        }\n",
    "\n",
    "        for fold_label in [\"train_smaller\", \"validation\", \"test\"]:\n",
    "            if fold_id == -1 and fold_label == \"test\":\n",
    "                # skip: global fold does not have a test set\n",
    "                continue\n",
    "\n",
    "            # Sample from fold for all gene loci simultaneously,\n",
    "            # so that we have matching specimen lists for all gene loci.\n",
    "            # (in other words, a specimen must pass the relevant BCR *and* TCR filters to be included in either)\n",
    "            adatas_sampled: Dict[GeneLocus, anndata.AnnData] = sample_from_fold(\n",
    "                fold_id=fold_id,\n",
    "                fold_label=fold_label,\n",
    "                gene_loci=gene_loci,\n",
    "                n_specimens_per_disease=n_specimens_per_disease,\n",
    "                n_sequences_per_patient_per_isotype=n_sequences_per_patient_per_isotype,\n",
    "                fraction_disease_specific=fraction_disease_specific,\n",
    "                diseases_kept=diseases_kept,\n",
    "                v_genes_kept=v_genes_kept,\n",
    "            )\n",
    "\n",
    "            # Now scale, PCA, and export the data separately for each gene locus (because coming from different language models).\n",
    "            for gene_locus in gene_loci:\n",
    "                output_dir_anndatas_for_gene_locus = (\n",
    "                    output_dir_anndatas / gene_locus.name\n",
    "                )\n",
    "                output_dir_anndatas_for_gene_locus.mkdir(exist_ok=True, parents=True)\n",
    "\n",
    "                fname_out = (\n",
    "                    output_dir_anndatas_for_gene_locus\n",
    "                    / f\"fold.{fold_id}.{fold_label}.h5ad\"\n",
    "                )\n",
    "                logger.info(f\"Fold {fold_id}-{fold_label}, {gene_locus} -> {fname_out}\")\n",
    "\n",
    "                if scale_data:\n",
    "                    # Scale inplace and set raw (if requested)\n",
    "                    # Use transformer if available (starts as None)\n",
    "                    (\n",
    "                        adatas_sampled[gene_locus],\n",
    "                        scale_transformers[gene_locus],\n",
    "                    ) = malid.external.genetools_scanpy_helpers.scale_anndata(\n",
    "                        adatas_sampled[gene_locus],\n",
    "                        scale_transformer=scale_transformers[gene_locus],\n",
    "                        inplace=True,\n",
    "                        set_raw=store_raw_pre_scaling,\n",
    "                    )\n",
    "\n",
    "                # that N x 1900 matrix is too big. let's save a PCA'ed version for our tests.\n",
    "                if pca_n_comps is not None:\n",
    "                    # PCA inplace\n",
    "                    # Use transformer if available (starts as None)\n",
    "                    (\n",
    "                        adatas_sampled[gene_locus],\n",
    "                        pca_transformers[gene_locus],\n",
    "                    ) = malid.external.genetools_scanpy_helpers.pca_anndata(\n",
    "                        adatas_sampled[gene_locus],\n",
    "                        pca_transformer=pca_transformers[gene_locus],\n",
    "                        n_components=pca_n_comps,\n",
    "                        inplace=True,\n",
    "                    )\n",
    "                    # Replace .X with X_pca\n",
    "                    adatas_sampled[gene_locus] = anndata.AnnData(\n",
    "                        X=adatas_sampled[gene_locus].obsm[\"X_pca\"],\n",
    "                        obs=adatas_sampled[gene_locus].obs,\n",
    "                        uns=adatas_sampled[gene_locus].uns,\n",
    "                    )\n",
    "                    if adatas_sampled[gene_locus].shape[1] != pca_n_comps:\n",
    "                        raise ValueError(\n",
    "                            \"PCA did not produce the expected number of components\"\n",
    "                        )\n",
    "\n",
    "                # Some columns like \"cmv\" may be all NaN in this simulated dataset.\n",
    "                # This can lead to an anndata / h5py bug:\n",
    "                # \"TypeError: Can't implicitly convert non-string objects to strings\n",
    "                # Above error raised while writing key 'cmv' of <class 'h5py._hl.group.Group'> to /\"\n",
    "                # This seems caused by adatas_sampled[gene_locus].obs['cmv'].dtype being dtype('O') instead of dtype(\"float64\").\n",
    "                # We can cast to float:\n",
    "                #         for col in adatas_sampled[gene_locus].obs.columns:\n",
    "                #             if adatas_sampled[gene_locus].obs[col].isna().all():\n",
    "                #                 adatas_sampled[gene_locus].obs[col] = adatas_sampled[gene_locus].obs[col].astype(\"float\")\n",
    "\n",
    "                # Reduce disk space usage by removing unnecessary obs columns\n",
    "                adatas_sampled[gene_locus].obs.drop(\n",
    "                    columns=list(\n",
    "                        set(adatas_sampled[gene_locus].obs.columns)\n",
    "                        - set(\n",
    "                            adatas_sampled[gene_locus].uns.get(\n",
    "                                \"original_obs_columns\", []\n",
    "                            )\n",
    "                        )\n",
    "                        # do not delete this column\n",
    "                        - {\"sequence_identity_is_true_disease\"}\n",
    "                    )\n",
    "                    + [\n",
    "                        \"num_reads\",\n",
    "                        \"total_clone_num_reads\",\n",
    "                        \"num_clone_members\",\n",
    "                        \"cdr1_seq_aa_q_trim\",\n",
    "                        \"cdr2_seq_aa_q_trim\",\n",
    "                        \"extracted_isotype\",\n",
    "                        \"igh_or_tcrb_clone_id\",\n",
    "                        \"cdr3_aa_sequence_trim_len\",\n",
    "                        \"disease_subtype\",\n",
    "                    ],\n",
    "                    errors=\"ignore\",\n",
    "                    inplace=True,\n",
    "                )\n",
    "                # Sanity check: make sure we did not drop these columns\n",
    "                assert \"disease\" in adatas_sampled[gene_locus].obs.columns\n",
    "                assert (\n",
    "                    \"sequence_identity_is_true_disease\"\n",
    "                    in adatas_sampled[gene_locus].obs.columns\n",
    "                )\n",
    "\n",
    "                # Also remove any uns keys that were added after the original read-from-disk step within load_fold_embeddings\n",
    "                for key in set(adatas_sampled[gene_locus].uns.keys()) - set(\n",
    "                    adatas_sampled[gene_locus].uns.get(\"original_uns_keys\", [])\n",
    "                ):\n",
    "                    del adatas_sampled[gene_locus].uns[key]\n",
    "\n",
    "                # Also remove large string index\n",
    "                # this is a RangeIndex, but after reading back in, these will become strings automatically (ImplicitModificationWarning: Transforming to str index.)\n",
    "                adatas_sampled[gene_locus].obs_names = range(\n",
    "                    adatas_sampled[gene_locus].shape[0]\n",
    "                )\n",
    "\n",
    "                # Save some space on this field too\n",
    "                adatas_sampled[gene_locus].obs[\"v_mut\"] = (\n",
    "                    adatas_sampled[gene_locus].obs[\"v_mut\"].astype(np.float32)\n",
    "                )\n",
    "\n",
    "                # Write to disk\n",
    "                adatas_sampled[gene_locus].write(fname_out, compression=\"gzip\")\n",
    "                if write_csvs:\n",
    "                    adatas_sampled[gene_locus].obs.to_csv(\n",
    "                        output_dir_anndatas_for_gene_locus\n",
    "                        / f\"fold.{fold_id}.{fold_label}.obs.tsv.gz\",\n",
    "                        index=None,\n",
    "                        sep=\"\\t\",\n",
    "                    )\n",
    "                    np.savetxt(\n",
    "                        output_dir_anndatas_for_gene_locus\n",
    "                        / f\"fold.{fold_id}.{fold_label}.X.tsv.gz\",\n",
    "                        adatas_sampled[gene_locus].X,\n",
    "                        fmt=\"%0.4f\",\n",
    "                        delimiter=\"\\t\",\n",
    "                    )\n",
    "\n",
    "            io.clear_cached_fold_embeddings()\n",
    "            gc.collect()"
   ]
  },
  {
   "cell_type": "code",
   "execution_count": null,
   "metadata": {},
   "outputs": [],
   "source": []
  },
  {
   "cell_type": "markdown",
   "metadata": {},
   "source": [
    "# Generate small simulation dataset for end-to-end test"
   ]
  },
  {
   "cell_type": "code",
   "execution_count": 8,
   "metadata": {
    "execution": {
     "iopub.execute_input": "2022-11-28T22:58:05.492623Z",
     "iopub.status.busy": "2022-11-28T22:58:05.492424Z",
     "iopub.status.idle": "2022-11-29T00:05:03.305124Z",
     "shell.execute_reply": "2022-11-29T00:05:03.303191Z"
    },
    "lines_to_next_cell": 2
   },
   "outputs": [
    {
     "name": "stderr",
     "output_type": "stream",
     "text": [
      "2022-11-28 22:58:05,651 - malid.external.scratch_cache - INFO - Reading network file from local machine cache: /users/maximz/code/boyd-immune-repertoire-classification/data/data_v_20221117/embedded/unirep_fine_tuned/anndatas_scaled/BCR/fold.0.train_smaller.h5ad -> /srv/scratch/maximz/cache/66129a966816aa6a85c118c3dc6d9c0f23b3578351875decfa05839b.0.train_smaller.h5ad\n"
     ]
    },
    {
     "name": "stdout",
     "output_type": "stream",
     "text": [
      "/users/maximz/code/boyd-immune-repertoire-classification/data/data_v_20221117/metadata/all_v_genes.in_order.TCR.txt\n",
      "/users/maximz/code/boyd-immune-repertoire-classification/data/data_v_20221117/metadata/cross_validation_divisions.participants.tsv\n",
      "/users/maximz/code/boyd-immune-repertoire-classification/data/data_v_20221117/metadata/all_j_genes.in_order.TCR.txt\n",
      "/users/maximz/code/boyd-immune-repertoire-classification/data/data_v_20221117/metadata/computed_metadata_for_confounder_model.all.tsv\n",
      "/users/maximz/code/boyd-immune-repertoire-classification/data/data_v_20221117/metadata/computed_metadata_for_confounder_model.cmv.tsv\n",
      "/users/maximz/code/boyd-immune-repertoire-classification/data/data_v_20221117/metadata/participant_specimen_disease_map.tsv\n",
      "/users/maximz/code/boyd-immune-repertoire-classification/data/data_v_20221117/metadata/specimens_kept_in_embedding_anndatas.tsv\n",
      "/users/maximz/code/boyd-immune-repertoire-classification/data/data_v_20221117/metadata/all_v_genes.in_order.BCR.txt\n",
      "/users/maximz/code/boyd-immune-repertoire-classification/data/data_v_20221117/metadata/isotype_counts_by_specimen.tsv\n",
      "/users/maximz/code/boyd-immune-repertoire-classification/data/data_v_20221117/metadata/cross_validation_divisions.specimens.tsv\n",
      "/users/maximz/code/boyd-immune-repertoire-classification/data/data_v_20221117/metadata/all_j_genes.in_order.BCR.txt\n",
      "WARNING: Your filename has more than two extensions: ['.0', '.train_smaller', '.h5ad'].\n",
      "Only considering the two last: ['.train_smaller', '.h5ad'].\n"
     ]
    },
    {
     "name": "stdout",
     "output_type": "stream",
     "text": [
      "WARNING: Your filename has more than two extensions: ['.0', '.train_smaller', '.h5ad'].\n",
      "Only considering the two last: ['.train_smaller', '.h5ad'].\n"
     ]
    },
    {
     "name": "stderr",
     "output_type": "stream",
     "text": [
      "2022-11-28 23:00:06,565 - malid.external.scratch_cache - INFO - Reading network file from local machine cache: /users/maximz/code/boyd-immune-repertoire-classification/data/data_v_20221117/embedded/unirep_fine_tuned/anndatas_scaled/TCR/fold.0.train_smaller.h5ad -> /srv/scratch/maximz/cache/487fc65b6188e0f971e85fa94bb74f9031090123a696d2e276e9ac45.0.train_smaller.h5ad\n"
     ]
    },
    {
     "name": "stdout",
     "output_type": "stream",
     "text": [
      "WARNING: Your filename has more than two extensions: ['.0', '.train_smaller', '.h5ad'].\n",
      "Only considering the two last: ['.train_smaller', '.h5ad'].\n"
     ]
    },
    {
     "name": "stdout",
     "output_type": "stream",
     "text": [
      "WARNING: Your filename has more than two extensions: ['.0', '.train_smaller', '.h5ad'].\n",
      "Only considering the two last: ['.train_smaller', '.h5ad'].\n"
     ]
    },
    {
     "name": "stderr",
     "output_type": "stream",
     "text": [
      "2022-11-28 23:02:52,882 - generate_simulation_datasets.ipynb - INFO - Added specimen M111-S033 from participant BFI-0000255, disease HIV\n"
     ]
    },
    {
     "name": "stderr",
     "output_type": "stream",
     "text": [
      "2022-11-28 23:02:54,254 - generate_simulation_datasets.ipynb - INFO - Added specimen M111-S038 from participant BFI-0000256, disease HIV\n"
     ]
    },
    {
     "name": "stderr",
     "output_type": "stream",
     "text": [
      "2022-11-28 23:02:55,588 - generate_simulation_datasets.ipynb - INFO - Added specimen M111-S043 from participant BFI-0002856, disease HIV\n"
     ]
    },
    {
     "name": "stderr",
     "output_type": "stream",
     "text": [
      "2022-11-28 23:03:10,413 - generate_simulation_datasets.ipynb - INFO - Added specimen M124-S036 from participant BFI-0002862, disease Healthy/Background\n"
     ]
    },
    {
     "name": "stderr",
     "output_type": "stream",
     "text": [
      "2022-11-28 23:03:11,459 - generate_simulation_datasets.ipynb - INFO - Added specimen M124-S038 from participant BFI-0002866, disease Healthy/Background\n"
     ]
    },
    {
     "name": "stderr",
     "output_type": "stream",
     "text": [
      "2022-11-28 23:03:12,871 - generate_simulation_datasets.ipynb - INFO - Added specimen M124-S039 from participant BFI-0002867, disease Healthy/Background\n"
     ]
    },
    {
     "name": "stderr",
     "output_type": "stream",
     "text": [
      "2022-11-28 23:03:14,525 - generate_simulation_datasets.ipynb - WARNING - Specimen M404-S005 from disease Covid19 missing some isotypes altogether for GeneLocus.TCR - skipping specimen\n"
     ]
    },
    {
     "name": "stderr",
     "output_type": "stream",
     "text": [
      "2022-11-28 23:03:14,526 - generate_simulation_datasets.ipynb - WARNING - Specimen M404-S005 from participant BFI-0007781, disease Covid19 will not be included due to missing/incomplete isotypes (in one or more gene loci).\n"
     ]
    },
    {
     "name": "stderr",
     "output_type": "stream",
     "text": [
      "2022-11-28 23:03:14,752 - generate_simulation_datasets.ipynb - WARNING - Specimen M404-S008 from disease Covid19 missing some isotypes altogether for GeneLocus.TCR - skipping specimen\n"
     ]
    },
    {
     "name": "stderr",
     "output_type": "stream",
     "text": [
      "2022-11-28 23:03:14,753 - generate_simulation_datasets.ipynb - WARNING - Specimen M404-S008 from participant BFI-0007782, disease Covid19 will not be included due to missing/incomplete isotypes (in one or more gene loci).\n"
     ]
    },
    {
     "name": "stderr",
     "output_type": "stream",
     "text": [
      "2022-11-28 23:03:14,812 - generate_simulation_datasets.ipynb - WARNING - Specimen M418-S198, isotype IGHG, disease Covid19, GeneLocus.BCR: only had 48 sequences - skipping specimen\n"
     ]
    },
    {
     "name": "stderr",
     "output_type": "stream",
     "text": [
      "2022-11-28 23:03:15,111 - generate_simulation_datasets.ipynb - WARNING - Specimen M418-S198 from participant BFI-0009005, disease Covid19 will not be included due to missing/incomplete isotypes (in one or more gene loci).\n"
     ]
    },
    {
     "name": "stderr",
     "output_type": "stream",
     "text": [
      "2022-11-28 23:03:15,121 - generate_simulation_datasets.ipynb - WARNING - Specimen M418-S205, isotype IGHA, disease Covid19, GeneLocus.BCR: only had 15 sequences - skipping specimen\n"
     ]
    },
    {
     "name": "stderr",
     "output_type": "stream",
     "text": [
      "2022-11-28 23:03:15,358 - generate_simulation_datasets.ipynb - WARNING - Specimen M418-S205 from participant BFI-0009012, disease Covid19 will not be included due to missing/incomplete isotypes (in one or more gene loci).\n"
     ]
    },
    {
     "name": "stderr",
     "output_type": "stream",
     "text": [
      "2022-11-28 23:03:15,368 - generate_simulation_datasets.ipynb - WARNING - Specimen M418-S110, isotype IGHA, disease Covid19, GeneLocus.BCR: only had 2 sequences - skipping specimen\n"
     ]
    },
    {
     "name": "stderr",
     "output_type": "stream",
     "text": [
      "2022-11-28 23:03:15,695 - generate_simulation_datasets.ipynb - WARNING - Specimen M418-S110 from participant BFI-0009056, disease Covid19 will not be included due to missing/incomplete isotypes (in one or more gene loci).\n"
     ]
    },
    {
     "name": "stderr",
     "output_type": "stream",
     "text": [
      "2022-11-28 23:03:15,706 - generate_simulation_datasets.ipynb - WARNING - Specimen M418-S114, isotype IGHA, disease Covid19, GeneLocus.BCR: only had 21 sequences - skipping specimen\n"
     ]
    },
    {
     "name": "stderr",
     "output_type": "stream",
     "text": [
      "2022-11-28 23:03:16,018 - generate_simulation_datasets.ipynb - WARNING - Specimen M418-S114 from participant BFI-0009057, disease Covid19 will not be included due to missing/incomplete isotypes (in one or more gene loci).\n"
     ]
    },
    {
     "name": "stderr",
     "output_type": "stream",
     "text": [
      "2022-11-28 23:03:16,029 - generate_simulation_datasets.ipynb - WARNING - Specimen M418-S148, isotype IGHA, disease Covid19, GeneLocus.BCR: only had 46 sequences - skipping specimen\n"
     ]
    },
    {
     "name": "stderr",
     "output_type": "stream",
     "text": [
      "2022-11-28 23:03:16,323 - generate_simulation_datasets.ipynb - WARNING - Specimen M418-S148 from participant BFI-0009083, disease Covid19 will not be included due to missing/incomplete isotypes (in one or more gene loci).\n"
     ]
    },
    {
     "name": "stderr",
     "output_type": "stream",
     "text": [
      "2022-11-28 23:03:16,901 - generate_simulation_datasets.ipynb - INFO - Added specimen M418-S192 from participant BFI-0009120, disease Covid19\n"
     ]
    },
    {
     "name": "stderr",
     "output_type": "stream",
     "text": [
      "2022-11-28 23:03:17,289 - generate_simulation_datasets.ipynb - INFO - Added specimen M418-S193 from participant BFI-0009121, disease Covid19\n"
     ]
    },
    {
     "name": "stderr",
     "output_type": "stream",
     "text": [
      "2022-11-28 23:03:17,629 - generate_simulation_datasets.ipynb - INFO - Added specimen M418-S001 from participant BFI-0009122, disease Covid19\n"
     ]
    },
    {
     "name": "stderr",
     "output_type": "stream",
     "text": [
      "2022-11-28 23:03:18,131 - py.warnings - WARNING - /users/maximz/anaconda3/envs/cuda-env-py39/lib/python3.9/site-packages/anndata/_core/raw.py:139: FutureWarning: X.dtype being converted to np.float32 from float16. In the next version of anndata (0.9) conversion will not be automatic. Pass dtype explicitly to avoid this warning. Pass `AnnData(X, dtype=X.dtype, ...)` to get the future behavour.\n",
      "  return anndata.AnnData(\n",
      "\n"
     ]
    },
    {
     "name": "stderr",
     "output_type": "stream",
     "text": [
      "2022-11-28 23:03:18,314 - py.warnings - WARNING - /users/maximz/anaconda3/envs/cuda-env-py39/lib/python3.9/site-packages/anndata/_core/raw.py:139: FutureWarning: X.dtype being converted to np.float32 from float16. In the next version of anndata (0.9) conversion will not be automatic. Pass dtype explicitly to avoid this warning. Pass `AnnData(X, dtype=X.dtype, ...)` to get the future behavour.\n",
      "  return anndata.AnnData(\n",
      "\n"
     ]
    },
    {
     "name": "stderr",
     "output_type": "stream",
     "text": [
      "2022-11-28 23:03:19,196 - generate_simulation_datasets.ipynb - INFO - Fold 0-train_smaller, GeneLocus.BCR -> /users/maximz/code/boyd-immune-repertoire-classification/tests/snapshot/scaled_anndatas_dir/BCR/fold.0.train_smaller.h5ad\n"
     ]
    },
    {
     "name": "stderr",
     "output_type": "stream",
     "text": [
      "2022-11-28 23:03:19,302 - generate_simulation_datasets.ipynb - INFO - Fold 0-train_smaller, GeneLocus.TCR -> /users/maximz/code/boyd-immune-repertoire-classification/tests/snapshot/scaled_anndatas_dir/TCR/fold.0.train_smaller.h5ad\n"
     ]
    },
    {
     "name": "stderr",
     "output_type": "stream",
     "text": [
      "2022-11-28 23:03:19,869 - malid.external.scratch_cache - INFO - Reading network file from local machine cache: /users/maximz/code/boyd-immune-repertoire-classification/data/data_v_20221117/embedded/unirep_fine_tuned/anndatas_scaled/BCR/fold.0.validation.h5ad -> /srv/scratch/maximz/cache/61639fd8147102437b0e19c5e4520775cb48d0caab85eee5476f275d.0.validation.h5ad\n"
     ]
    },
    {
     "name": "stdout",
     "output_type": "stream",
     "text": [
      "WARNING: Your filename has more than two extensions: ['.0', '.validation', '.h5ad'].\n",
      "Only considering the two last: ['.validation', '.h5ad'].\n"
     ]
    },
    {
     "name": "stdout",
     "output_type": "stream",
     "text": [
      "WARNING: Your filename has more than two extensions: ['.0', '.validation', '.h5ad'].\n",
      "Only considering the two last: ['.validation', '.h5ad'].\n"
     ]
    },
    {
     "name": "stderr",
     "output_type": "stream",
     "text": [
      "2022-11-28 23:04:20,652 - malid.external.scratch_cache - INFO - Reading network file from local machine cache: /users/maximz/code/boyd-immune-repertoire-classification/data/data_v_20221117/embedded/unirep_fine_tuned/anndatas_scaled/TCR/fold.0.validation.h5ad -> /srv/scratch/maximz/cache/e6f0b873b2378a089722f0cfcc98363feb98db65d721b93faf8a1581.0.validation.h5ad\n"
     ]
    },
    {
     "name": "stdout",
     "output_type": "stream",
     "text": [
      "WARNING: Your filename has more than two extensions: ['.0', '.validation', '.h5ad'].\n",
      "Only considering the two last: ['.validation', '.h5ad'].\n"
     ]
    },
    {
     "name": "stdout",
     "output_type": "stream",
     "text": [
      "WARNING: Your filename has more than two extensions: ['.0', '.validation', '.h5ad'].\n",
      "Only considering the two last: ['.validation', '.h5ad'].\n"
     ]
    },
    {
     "name": "stderr",
     "output_type": "stream",
     "text": [
      "2022-11-28 23:05:33,394 - generate_simulation_datasets.ipynb - INFO - Added specimen M111-S018 from participant BFI-0002857, disease HIV\n"
     ]
    },
    {
     "name": "stderr",
     "output_type": "stream",
     "text": [
      "2022-11-28 23:05:34,479 - generate_simulation_datasets.ipynb - INFO - Added specimen M111-S040 from participant BFI-0002864, disease HIV\n"
     ]
    },
    {
     "name": "stderr",
     "output_type": "stream",
     "text": [
      "2022-11-28 23:05:35,518 - generate_simulation_datasets.ipynb - INFO - Added specimen M111-S035 from participant BFI-0002870, disease HIV\n"
     ]
    },
    {
     "name": "stderr",
     "output_type": "stream",
     "text": [
      "2022-11-28 23:05:41,779 - generate_simulation_datasets.ipynb - INFO - Added specimen M124-S040 from participant BFI-0002868, disease Healthy/Background\n"
     ]
    },
    {
     "name": "stderr",
     "output_type": "stream",
     "text": [
      "2022-11-28 23:05:43,371 - generate_simulation_datasets.ipynb - INFO - Added specimen M64-010 from participant BFI-0003059, disease Healthy/Background\n"
     ]
    },
    {
     "name": "stderr",
     "output_type": "stream",
     "text": [
      "2022-11-28 23:05:44,503 - generate_simulation_datasets.ipynb - INFO - Added specimen M64-016 from participant BFI-0003065, disease Healthy/Background\n"
     ]
    },
    {
     "name": "stderr",
     "output_type": "stream",
     "text": [
      "2022-11-28 23:05:45,243 - generate_simulation_datasets.ipynb - WARNING - Specimen M404-S011 from disease Covid19 missing some isotypes altogether for GeneLocus.TCR - skipping specimen\n"
     ]
    },
    {
     "name": "stderr",
     "output_type": "stream",
     "text": [
      "2022-11-28 23:05:45,244 - generate_simulation_datasets.ipynb - WARNING - Specimen M404-S011 from participant BFI-0007783, disease Covid19 will not be included due to missing/incomplete isotypes (in one or more gene loci).\n"
     ]
    },
    {
     "name": "stderr",
     "output_type": "stream",
     "text": [
      "2022-11-28 23:05:45,590 - generate_simulation_datasets.ipynb - INFO - Added specimen M418-S094 from participant BFI-0009047, disease Covid19\n"
     ]
    },
    {
     "name": "stderr",
     "output_type": "stream",
     "text": [
      "2022-11-28 23:05:46,098 - generate_simulation_datasets.ipynb - INFO - Added specimen M418-S095 from participant BFI-0009048, disease Covid19\n"
     ]
    },
    {
     "name": "stderr",
     "output_type": "stream",
     "text": [
      "2022-11-28 23:05:46,110 - generate_simulation_datasets.ipynb - WARNING - Specimen M418-S105, isotype IGHA, disease Covid19, GeneLocus.BCR: only had 14 sequences - skipping specimen\n"
     ]
    },
    {
     "name": "stderr",
     "output_type": "stream",
     "text": [
      "2022-11-28 23:05:46,320 - generate_simulation_datasets.ipynb - WARNING - Specimen M418-S105 from participant BFI-0009052, disease Covid19 will not be included due to missing/incomplete isotypes (in one or more gene loci).\n"
     ]
    },
    {
     "name": "stderr",
     "output_type": "stream",
     "text": [
      "2022-11-28 23:05:46,800 - generate_simulation_datasets.ipynb - INFO - Added specimen M418-S162 from participant BFI-0009093, disease Covid19\n"
     ]
    },
    {
     "name": "stderr",
     "output_type": "stream",
     "text": [
      "2022-11-28 23:05:47,032 - py.warnings - WARNING - /users/maximz/anaconda3/envs/cuda-env-py39/lib/python3.9/site-packages/anndata/_core/raw.py:139: FutureWarning: X.dtype being converted to np.float32 from float16. In the next version of anndata (0.9) conversion will not be automatic. Pass dtype explicitly to avoid this warning. Pass `AnnData(X, dtype=X.dtype, ...)` to get the future behavour.\n",
      "  return anndata.AnnData(\n",
      "\n"
     ]
    },
    {
     "name": "stderr",
     "output_type": "stream",
     "text": [
      "2022-11-28 23:05:47,156 - py.warnings - WARNING - /users/maximz/anaconda3/envs/cuda-env-py39/lib/python3.9/site-packages/anndata/_core/raw.py:139: FutureWarning: X.dtype being converted to np.float32 from float16. In the next version of anndata (0.9) conversion will not be automatic. Pass dtype explicitly to avoid this warning. Pass `AnnData(X, dtype=X.dtype, ...)` to get the future behavour.\n",
      "  return anndata.AnnData(\n",
      "\n"
     ]
    },
    {
     "name": "stderr",
     "output_type": "stream",
     "text": [
      "2022-11-28 23:05:47,521 - generate_simulation_datasets.ipynb - INFO - Fold 0-validation, GeneLocus.BCR -> /users/maximz/code/boyd-immune-repertoire-classification/tests/snapshot/scaled_anndatas_dir/BCR/fold.0.validation.h5ad\n"
     ]
    },
    {
     "name": "stderr",
     "output_type": "stream",
     "text": [
      "2022-11-28 23:05:47,567 - generate_simulation_datasets.ipynb - INFO - Fold 0-validation, GeneLocus.TCR -> /users/maximz/code/boyd-immune-repertoire-classification/tests/snapshot/scaled_anndatas_dir/TCR/fold.0.validation.h5ad\n"
     ]
    },
    {
     "name": "stderr",
     "output_type": "stream",
     "text": [
      "2022-11-28 23:05:47,942 - malid.external.scratch_cache - INFO - Reading network file from local machine cache: /users/maximz/code/boyd-immune-repertoire-classification/data/data_v_20221117/embedded/unirep_fine_tuned/anndatas_scaled/BCR/fold.0.test.h5ad -> /srv/scratch/maximz/cache/b9e20d7e814fcc016975bc3fd0baf4c5f4757dea4896be9b7d88e627.0.test.h5ad\n"
     ]
    },
    {
     "name": "stdout",
     "output_type": "stream",
     "text": [
      "WARNING: Your filename has more than two extensions: ['.0', '.test', '.h5ad'].\n",
      "Only considering the two last: ['.test', '.h5ad'].\n"
     ]
    },
    {
     "name": "stdout",
     "output_type": "stream",
     "text": [
      "WARNING: Your filename has more than two extensions: ['.0', '.test', '.h5ad'].\n",
      "Only considering the two last: ['.test', '.h5ad'].\n"
     ]
    },
    {
     "name": "stderr",
     "output_type": "stream",
     "text": [
      "2022-11-28 23:07:21,388 - malid.external.scratch_cache - INFO - Reading network file from local machine cache: /users/maximz/code/boyd-immune-repertoire-classification/data/data_v_20221117/embedded/unirep_fine_tuned/anndatas_scaled/TCR/fold.0.test.h5ad -> /srv/scratch/maximz/cache/fae46b10146880d3232317a027e51b3963872943d02aeed4abcbfd9a.0.test.h5ad\n"
     ]
    },
    {
     "name": "stdout",
     "output_type": "stream",
     "text": [
      "WARNING: Your filename has more than two extensions: ['.0', '.test', '.h5ad'].\n",
      "Only considering the two last: ['.test', '.h5ad'].\n"
     ]
    },
    {
     "name": "stdout",
     "output_type": "stream",
     "text": [
      "WARNING: Your filename has more than two extensions: ['.0', '.test', '.h5ad'].\n",
      "Only considering the two last: ['.test', '.h5ad'].\n"
     ]
    },
    {
     "name": "stderr",
     "output_type": "stream",
     "text": [
      "2022-11-28 23:09:14,607 - generate_simulation_datasets.ipynb - INFO - Added specimen M111-S037 from participant BFI-0000254, disease HIV\n"
     ]
    },
    {
     "name": "stderr",
     "output_type": "stream",
     "text": [
      "2022-11-28 23:09:16,011 - generate_simulation_datasets.ipynb - INFO - Added specimen M111-S055 from participant BFI-0000258, disease HIV\n"
     ]
    },
    {
     "name": "stderr",
     "output_type": "stream",
     "text": [
      "2022-11-28 23:09:16,012 - generate_simulation_datasets.ipynb - WARNING - Specimen M124-S070 from disease HIV will be skipped because we already have another specimen from same participant BFI-0000258\n"
     ]
    },
    {
     "name": "stderr",
     "output_type": "stream",
     "text": [
      "2022-11-28 23:09:16,595 - generate_simulation_datasets.ipynb - INFO - Added specimen M111-S042 from participant BFI-0002854, disease HIV\n"
     ]
    },
    {
     "name": "stderr",
     "output_type": "stream",
     "text": [
      "2022-11-28 23:09:25,018 - generate_simulation_datasets.ipynb - INFO - Added specimen M124-S037 from participant BFI-0002861, disease Healthy/Background\n"
     ]
    },
    {
     "name": "stderr",
     "output_type": "stream",
     "text": [
      "2022-11-28 23:09:26,121 - generate_simulation_datasets.ipynb - INFO - Added specimen M124-S035 from participant BFI-0002863, disease Healthy/Background\n"
     ]
    },
    {
     "name": "stderr",
     "output_type": "stream",
     "text": [
      "2022-11-28 23:09:27,058 - generate_simulation_datasets.ipynb - INFO - Added specimen M64-008 from participant BFI-0003057, disease Healthy/Background\n"
     ]
    },
    {
     "name": "stderr",
     "output_type": "stream",
     "text": [
      "2022-11-28 23:09:27,857 - generate_simulation_datasets.ipynb - WARNING - Specimen M404-S014 from disease Covid19 missing some isotypes altogether for GeneLocus.TCR - skipping specimen\n"
     ]
    },
    {
     "name": "stderr",
     "output_type": "stream",
     "text": [
      "2022-11-28 23:09:27,858 - generate_simulation_datasets.ipynb - WARNING - Specimen M404-S014 from participant BFI-0007784, disease Covid19 will not be included due to missing/incomplete isotypes (in one or more gene loci).\n"
     ]
    },
    {
     "name": "stderr",
     "output_type": "stream",
     "text": [
      "2022-11-28 23:09:28,097 - generate_simulation_datasets.ipynb - INFO - Added specimen M418-S231 from participant BFI-0009036, disease Covid19\n"
     ]
    },
    {
     "name": "stderr",
     "output_type": "stream",
     "text": [
      "2022-11-28 23:09:28,495 - generate_simulation_datasets.ipynb - INFO - Added specimen M418-S163 from participant BFI-0009094, disease Covid19\n"
     ]
    },
    {
     "name": "stderr",
     "output_type": "stream",
     "text": [
      "2022-11-28 23:09:28,505 - generate_simulation_datasets.ipynb - WARNING - Specimen M418-S182, isotype IGHA, disease Covid19, GeneLocus.BCR: only had 28 sequences - skipping specimen\n"
     ]
    },
    {
     "name": "stderr",
     "output_type": "stream",
     "text": [
      "2022-11-28 23:09:28,607 - generate_simulation_datasets.ipynb - WARNING - Specimen M418-S182 from participant BFI-0009110, disease Covid19 will not be included due to missing/incomplete isotypes (in one or more gene loci).\n"
     ]
    },
    {
     "name": "stderr",
     "output_type": "stream",
     "text": [
      "2022-11-28 23:09:28,865 - generate_simulation_datasets.ipynb - INFO - Added specimen M418-S007 from participant BFI-0009127, disease Covid19\n"
     ]
    },
    {
     "name": "stderr",
     "output_type": "stream",
     "text": [
      "2022-11-28 23:09:29,117 - py.warnings - WARNING - /users/maximz/anaconda3/envs/cuda-env-py39/lib/python3.9/site-packages/anndata/_core/raw.py:139: FutureWarning: X.dtype being converted to np.float32 from float16. In the next version of anndata (0.9) conversion will not be automatic. Pass dtype explicitly to avoid this warning. Pass `AnnData(X, dtype=X.dtype, ...)` to get the future behavour.\n",
      "  return anndata.AnnData(\n",
      "\n"
     ]
    },
    {
     "name": "stderr",
     "output_type": "stream",
     "text": [
      "2022-11-28 23:09:29,240 - py.warnings - WARNING - /users/maximz/anaconda3/envs/cuda-env-py39/lib/python3.9/site-packages/anndata/_core/raw.py:139: FutureWarning: X.dtype being converted to np.float32 from float16. In the next version of anndata (0.9) conversion will not be automatic. Pass dtype explicitly to avoid this warning. Pass `AnnData(X, dtype=X.dtype, ...)` to get the future behavour.\n",
      "  return anndata.AnnData(\n",
      "\n"
     ]
    },
    {
     "name": "stderr",
     "output_type": "stream",
     "text": [
      "2022-11-28 23:09:29,682 - generate_simulation_datasets.ipynb - INFO - Fold 0-test, GeneLocus.BCR -> /users/maximz/code/boyd-immune-repertoire-classification/tests/snapshot/scaled_anndatas_dir/BCR/fold.0.test.h5ad\n"
     ]
    },
    {
     "name": "stderr",
     "output_type": "stream",
     "text": [
      "2022-11-28 23:09:29,733 - generate_simulation_datasets.ipynb - INFO - Fold 0-test, GeneLocus.TCR -> /users/maximz/code/boyd-immune-repertoire-classification/tests/snapshot/scaled_anndatas_dir/TCR/fold.0.test.h5ad\n"
     ]
    },
    {
     "name": "stderr",
     "output_type": "stream",
     "text": [
      "2022-11-28 23:09:30,170 - malid.external.scratch_cache - INFO - Reading network file from local machine cache: /users/maximz/code/boyd-immune-repertoire-classification/data/data_v_20221117/embedded/unirep_fine_tuned/anndatas_scaled/BCR/fold.1.train_smaller.h5ad -> /srv/scratch/maximz/cache/b8a94a91382404095debf210c8aae25ae93bea98a6a76c76583ef6b2.1.train_smaller.h5ad\n"
     ]
    },
    {
     "name": "stdout",
     "output_type": "stream",
     "text": [
      "WARNING: Your filename has more than two extensions: ['.1', '.train_smaller', '.h5ad'].\n",
      "Only considering the two last: ['.train_smaller', '.h5ad'].\n"
     ]
    },
    {
     "name": "stdout",
     "output_type": "stream",
     "text": [
      "WARNING: Your filename has more than two extensions: ['.1', '.train_smaller', '.h5ad'].\n",
      "Only considering the two last: ['.train_smaller', '.h5ad'].\n"
     ]
    },
    {
     "name": "stderr",
     "output_type": "stream",
     "text": [
      "2022-11-28 23:11:55,169 - malid.external.scratch_cache - INFO - Reading network file from local machine cache: /users/maximz/code/boyd-immune-repertoire-classification/data/data_v_20221117/embedded/unirep_fine_tuned/anndatas_scaled/TCR/fold.1.train_smaller.h5ad -> /srv/scratch/maximz/cache/09d251db3ac451cb83ae9f7885cccf76ecd2233041b3f2f3493368e0.1.train_smaller.h5ad\n"
     ]
    },
    {
     "name": "stdout",
     "output_type": "stream",
     "text": [
      "WARNING: Your filename has more than two extensions: ['.1', '.train_smaller', '.h5ad'].\n",
      "Only considering the two last: ['.train_smaller', '.h5ad'].\n"
     ]
    },
    {
     "name": "stdout",
     "output_type": "stream",
     "text": [
      "WARNING: Your filename has more than two extensions: ['.1', '.train_smaller', '.h5ad'].\n",
      "Only considering the two last: ['.train_smaller', '.h5ad'].\n"
     ]
    },
    {
     "name": "stderr",
     "output_type": "stream",
     "text": [
      "2022-11-28 23:15:21,636 - generate_simulation_datasets.ipynb - INFO - Added specimen M111-S037 from participant BFI-0000254, disease HIV\n"
     ]
    },
    {
     "name": "stderr",
     "output_type": "stream",
     "text": [
      "2022-11-28 23:15:22,875 - generate_simulation_datasets.ipynb - INFO - Added specimen M111-S033 from participant BFI-0000255, disease HIV\n"
     ]
    },
    {
     "name": "stderr",
     "output_type": "stream",
     "text": [
      "2022-11-28 23:15:24,259 - generate_simulation_datasets.ipynb - INFO - Added specimen M111-S038 from participant BFI-0000256, disease HIV\n"
     ]
    },
    {
     "name": "stderr",
     "output_type": "stream",
     "text": [
      "2022-11-28 23:15:35,856 - generate_simulation_datasets.ipynb - INFO - Added specimen M124-S037 from participant BFI-0002861, disease Healthy/Background\n"
     ]
    },
    {
     "name": "stderr",
     "output_type": "stream",
     "text": [
      "2022-11-28 23:15:37,047 - generate_simulation_datasets.ipynb - INFO - Added specimen M124-S035 from participant BFI-0002863, disease Healthy/Background\n"
     ]
    },
    {
     "name": "stderr",
     "output_type": "stream",
     "text": [
      "2022-11-28 23:15:41,924 - generate_simulation_datasets.ipynb - INFO - Added specimen M64-002 from participant BFI-0003051, disease Healthy/Background\n"
     ]
    },
    {
     "name": "stderr",
     "output_type": "stream",
     "text": [
      "2022-11-28 23:15:43,140 - generate_simulation_datasets.ipynb - WARNING - Specimen M404-S005 from disease Covid19 missing some isotypes altogether for GeneLocus.TCR - skipping specimen\n"
     ]
    },
    {
     "name": "stderr",
     "output_type": "stream",
     "text": [
      "2022-11-28 23:15:43,141 - generate_simulation_datasets.ipynb - WARNING - Specimen M404-S005 from participant BFI-0007781, disease Covid19 will not be included due to missing/incomplete isotypes (in one or more gene loci).\n"
     ]
    },
    {
     "name": "stderr",
     "output_type": "stream",
     "text": [
      "2022-11-28 23:15:43,331 - generate_simulation_datasets.ipynb - WARNING - Specimen M404-S011 from disease Covid19 missing some isotypes altogether for GeneLocus.TCR - skipping specimen\n"
     ]
    },
    {
     "name": "stderr",
     "output_type": "stream",
     "text": [
      "2022-11-28 23:15:43,332 - generate_simulation_datasets.ipynb - WARNING - Specimen M404-S011 from participant BFI-0007783, disease Covid19 will not be included due to missing/incomplete isotypes (in one or more gene loci).\n"
     ]
    },
    {
     "name": "stderr",
     "output_type": "stream",
     "text": [
      "2022-11-28 23:15:43,392 - generate_simulation_datasets.ipynb - WARNING - Specimen M418-S198, isotype IGHG, disease Covid19, GeneLocus.BCR: only had 48 sequences - skipping specimen\n"
     ]
    },
    {
     "name": "stderr",
     "output_type": "stream",
     "text": [
      "2022-11-28 23:15:43,650 - generate_simulation_datasets.ipynb - WARNING - Specimen M418-S198 from participant BFI-0009005, disease Covid19 will not be included due to missing/incomplete isotypes (in one or more gene loci).\n"
     ]
    },
    {
     "name": "stderr",
     "output_type": "stream",
     "text": [
      "2022-11-28 23:15:43,896 - generate_simulation_datasets.ipynb - INFO - Added specimen M418-S231 from participant BFI-0009036, disease Covid19\n"
     ]
    },
    {
     "name": "stderr",
     "output_type": "stream",
     "text": [
      "2022-11-28 23:15:43,908 - generate_simulation_datasets.ipynb - WARNING - Specimen M418-S114, isotype IGHA, disease Covid19, GeneLocus.BCR: only had 21 sequences - skipping specimen\n"
     ]
    },
    {
     "name": "stderr",
     "output_type": "stream",
     "text": [
      "2022-11-28 23:15:44,200 - generate_simulation_datasets.ipynb - WARNING - Specimen M418-S114 from participant BFI-0009057, disease Covid19 will not be included due to missing/incomplete isotypes (in one or more gene loci).\n"
     ]
    },
    {
     "name": "stderr",
     "output_type": "stream",
     "text": [
      "2022-11-28 23:15:44,616 - generate_simulation_datasets.ipynb - INFO - Added specimen M418-S163 from participant BFI-0009094, disease Covid19\n"
     ]
    },
    {
     "name": "stderr",
     "output_type": "stream",
     "text": [
      "2022-11-28 23:15:44,626 - generate_simulation_datasets.ipynb - WARNING - Specimen M418-S169, isotype IGHA, disease Covid19, GeneLocus.BCR: only had 25 sequences - skipping specimen\n"
     ]
    },
    {
     "name": "stderr",
     "output_type": "stream",
     "text": [
      "2022-11-28 23:15:44,877 - generate_simulation_datasets.ipynb - WARNING - Specimen M418-S169 from participant BFI-0009098, disease Covid19 will not be included due to missing/incomplete isotypes (in one or more gene loci).\n"
     ]
    },
    {
     "name": "stderr",
     "output_type": "stream",
     "text": [
      "2022-11-28 23:15:45,412 - generate_simulation_datasets.ipynb - INFO - Added specimen M418-S013 from participant BFI-0009131, disease Covid19\n"
     ]
    },
    {
     "name": "stderr",
     "output_type": "stream",
     "text": [
      "2022-11-28 23:15:45,725 - py.warnings - WARNING - /users/maximz/anaconda3/envs/cuda-env-py39/lib/python3.9/site-packages/anndata/_core/raw.py:139: FutureWarning: X.dtype being converted to np.float32 from float16. In the next version of anndata (0.9) conversion will not be automatic. Pass dtype explicitly to avoid this warning. Pass `AnnData(X, dtype=X.dtype, ...)` to get the future behavour.\n",
      "  return anndata.AnnData(\n",
      "\n"
     ]
    },
    {
     "name": "stderr",
     "output_type": "stream",
     "text": [
      "2022-11-28 23:15:45,861 - py.warnings - WARNING - /users/maximz/anaconda3/envs/cuda-env-py39/lib/python3.9/site-packages/anndata/_core/raw.py:139: FutureWarning: X.dtype being converted to np.float32 from float16. In the next version of anndata (0.9) conversion will not be automatic. Pass dtype explicitly to avoid this warning. Pass `AnnData(X, dtype=X.dtype, ...)` to get the future behavour.\n",
      "  return anndata.AnnData(\n",
      "\n"
     ]
    },
    {
     "name": "stderr",
     "output_type": "stream",
     "text": [
      "2022-11-28 23:15:46,456 - generate_simulation_datasets.ipynb - INFO - Fold 1-train_smaller, GeneLocus.BCR -> /users/maximz/code/boyd-immune-repertoire-classification/tests/snapshot/scaled_anndatas_dir/BCR/fold.1.train_smaller.h5ad\n"
     ]
    },
    {
     "name": "stderr",
     "output_type": "stream",
     "text": [
      "2022-11-28 23:15:46,611 - generate_simulation_datasets.ipynb - INFO - Fold 1-train_smaller, GeneLocus.TCR -> /users/maximz/code/boyd-immune-repertoire-classification/tests/snapshot/scaled_anndatas_dir/TCR/fold.1.train_smaller.h5ad\n"
     ]
    },
    {
     "name": "stderr",
     "output_type": "stream",
     "text": [
      "2022-11-28 23:15:47,580 - malid.external.scratch_cache - INFO - Reading network file from local machine cache: /users/maximz/code/boyd-immune-repertoire-classification/data/data_v_20221117/embedded/unirep_fine_tuned/anndatas_scaled/BCR/fold.1.validation.h5ad -> /srv/scratch/maximz/cache/5456ab4b73a69d4db86f62dbc1e3b7f40ad3681a03048431c03b6e77.1.validation.h5ad\n"
     ]
    },
    {
     "name": "stdout",
     "output_type": "stream",
     "text": [
      "WARNING: Your filename has more than two extensions: ['.1', '.validation', '.h5ad'].\n",
      "Only considering the two last: ['.validation', '.h5ad'].\n"
     ]
    },
    {
     "name": "stdout",
     "output_type": "stream",
     "text": [
      "WARNING: Your filename has more than two extensions: ['.1', '.validation', '.h5ad'].\n",
      "Only considering the two last: ['.validation', '.h5ad'].\n"
     ]
    },
    {
     "name": "stderr",
     "output_type": "stream",
     "text": [
      "2022-11-28 23:16:43,678 - malid.external.scratch_cache - INFO - Reading network file from local machine cache: /users/maximz/code/boyd-immune-repertoire-classification/data/data_v_20221117/embedded/unirep_fine_tuned/anndatas_scaled/TCR/fold.1.validation.h5ad -> /srv/scratch/maximz/cache/41c94dcbfe55df41ced23e6ed6d22a261ac7e2edaee04496be20d334.1.validation.h5ad\n"
     ]
    },
    {
     "name": "stdout",
     "output_type": "stream",
     "text": [
      "WARNING: Your filename has more than two extensions: ['.1', '.validation', '.h5ad'].\n",
      "Only considering the two last: ['.validation', '.h5ad'].\n"
     ]
    },
    {
     "name": "stdout",
     "output_type": "stream",
     "text": [
      "WARNING: Your filename has more than two extensions: ['.1', '.validation', '.h5ad'].\n",
      "Only considering the two last: ['.validation', '.h5ad'].\n"
     ]
    },
    {
     "name": "stderr",
     "output_type": "stream",
     "text": [
      "2022-11-28 23:17:51,672 - generate_simulation_datasets.ipynb - INFO - Added specimen M111-S055 from participant BFI-0000258, disease HIV\n"
     ]
    },
    {
     "name": "stderr",
     "output_type": "stream",
     "text": [
      "2022-11-28 23:17:51,674 - generate_simulation_datasets.ipynb - WARNING - Specimen M124-S070 from disease HIV will be skipped because we already have another specimen from same participant BFI-0000258\n"
     ]
    },
    {
     "name": "stderr",
     "output_type": "stream",
     "text": [
      "2022-11-28 23:17:52,763 - generate_simulation_datasets.ipynb - INFO - Added specimen M111-S016 from participant BFI-0002855, disease HIV\n"
     ]
    },
    {
     "name": "stderr",
     "output_type": "stream",
     "text": [
      "2022-11-28 23:17:53,579 - generate_simulation_datasets.ipynb - INFO - Added specimen M111-S034 from participant BFI-0002859, disease HIV\n"
     ]
    },
    {
     "name": "stderr",
     "output_type": "stream",
     "text": [
      "2022-11-28 23:17:59,632 - generate_simulation_datasets.ipynb - INFO - Added specimen M64-008 from participant BFI-0003057, disease Healthy/Background\n"
     ]
    },
    {
     "name": "stderr",
     "output_type": "stream",
     "text": [
      "2022-11-28 23:18:01,515 - generate_simulation_datasets.ipynb - INFO - Added specimen M64-021 from participant BFI-0003070, disease Healthy/Background\n"
     ]
    },
    {
     "name": "stderr",
     "output_type": "stream",
     "text": [
      "2022-11-28 23:18:03,760 - generate_simulation_datasets.ipynb - INFO - Added specimen M64-022 from participant BFI-0003071, disease Healthy/Background\n"
     ]
    },
    {
     "name": "stderr",
     "output_type": "stream",
     "text": [
      "2022-11-28 23:18:04,571 - generate_simulation_datasets.ipynb - WARNING - Specimen M404-S014 from disease Covid19 missing some isotypes altogether for GeneLocus.TCR - skipping specimen\n"
     ]
    },
    {
     "name": "stderr",
     "output_type": "stream",
     "text": [
      "2022-11-28 23:18:04,572 - generate_simulation_datasets.ipynb - WARNING - Specimen M404-S014 from participant BFI-0007784, disease Covid19 will not be included due to missing/incomplete isotypes (in one or more gene loci).\n"
     ]
    },
    {
     "name": "stderr",
     "output_type": "stream",
     "text": [
      "2022-11-28 23:18:05,080 - generate_simulation_datasets.ipynb - INFO - Added specimen M418-S095 from participant BFI-0009048, disease Covid19\n"
     ]
    },
    {
     "name": "stderr",
     "output_type": "stream",
     "text": [
      "2022-11-28 23:18:05,091 - generate_simulation_datasets.ipynb - WARNING - Specimen M418-S110, isotype IGHA, disease Covid19, GeneLocus.BCR: only had 2 sequences - skipping specimen\n"
     ]
    },
    {
     "name": "stderr",
     "output_type": "stream",
     "text": [
      "2022-11-28 23:18:05,398 - generate_simulation_datasets.ipynb - WARNING - Specimen M418-S110 from participant BFI-0009056, disease Covid19 will not be included due to missing/incomplete isotypes (in one or more gene loci).\n"
     ]
    },
    {
     "name": "stderr",
     "output_type": "stream",
     "text": [
      "2022-11-28 23:18:05,410 - generate_simulation_datasets.ipynb - WARNING - Specimen M418-S180, isotype IGHA, disease Covid19, GeneLocus.BCR: only had 14 sequences - skipping specimen\n"
     ]
    },
    {
     "name": "stderr",
     "output_type": "stream",
     "text": [
      "2022-11-28 23:18:05,545 - generate_simulation_datasets.ipynb - WARNING - Specimen M418-S180 from participant BFI-0009108, disease Covid19 will not be included due to missing/incomplete isotypes (in one or more gene loci).\n"
     ]
    },
    {
     "name": "stderr",
     "output_type": "stream",
     "text": [
      "2022-11-28 23:18:05,556 - generate_simulation_datasets.ipynb - WARNING - Specimen M418-S182, isotype IGHA, disease Covid19, GeneLocus.BCR: only had 28 sequences - skipping specimen\n"
     ]
    },
    {
     "name": "stderr",
     "output_type": "stream",
     "text": [
      "2022-11-28 23:18:05,675 - generate_simulation_datasets.ipynb - WARNING - Specimen M418-S182 from participant BFI-0009110, disease Covid19 will not be included due to missing/incomplete isotypes (in one or more gene loci).\n"
     ]
    },
    {
     "name": "stderr",
     "output_type": "stream",
     "text": [
      "2022-11-28 23:18:06,218 - generate_simulation_datasets.ipynb - INFO - Added specimen M418-S192 from participant BFI-0009120, disease Covid19\n"
     ]
    },
    {
     "name": "stderr",
     "output_type": "stream",
     "text": [
      "2022-11-28 23:18:06,485 - generate_simulation_datasets.ipynb - INFO - Added specimen M418-S007 from participant BFI-0009127, disease Covid19\n"
     ]
    },
    {
     "name": "stderr",
     "output_type": "stream",
     "text": [
      "2022-11-28 23:18:06,815 - py.warnings - WARNING - /users/maximz/anaconda3/envs/cuda-env-py39/lib/python3.9/site-packages/anndata/_core/raw.py:139: FutureWarning: X.dtype being converted to np.float32 from float16. In the next version of anndata (0.9) conversion will not be automatic. Pass dtype explicitly to avoid this warning. Pass `AnnData(X, dtype=X.dtype, ...)` to get the future behavour.\n",
      "  return anndata.AnnData(\n",
      "\n"
     ]
    },
    {
     "name": "stderr",
     "output_type": "stream",
     "text": [
      "2022-11-28 23:18:06,981 - py.warnings - WARNING - /users/maximz/anaconda3/envs/cuda-env-py39/lib/python3.9/site-packages/anndata/_core/raw.py:139: FutureWarning: X.dtype being converted to np.float32 from float16. In the next version of anndata (0.9) conversion will not be automatic. Pass dtype explicitly to avoid this warning. Pass `AnnData(X, dtype=X.dtype, ...)` to get the future behavour.\n",
      "  return anndata.AnnData(\n",
      "\n"
     ]
    },
    {
     "name": "stderr",
     "output_type": "stream",
     "text": [
      "2022-11-28 23:18:07,455 - generate_simulation_datasets.ipynb - INFO - Fold 1-validation, GeneLocus.BCR -> /users/maximz/code/boyd-immune-repertoire-classification/tests/snapshot/scaled_anndatas_dir/BCR/fold.1.validation.h5ad\n"
     ]
    },
    {
     "name": "stderr",
     "output_type": "stream",
     "text": [
      "2022-11-28 23:18:07,503 - generate_simulation_datasets.ipynb - INFO - Fold 1-validation, GeneLocus.TCR -> /users/maximz/code/boyd-immune-repertoire-classification/tests/snapshot/scaled_anndatas_dir/TCR/fold.1.validation.h5ad\n"
     ]
    },
    {
     "name": "stderr",
     "output_type": "stream",
     "text": [
      "2022-11-28 23:18:07,932 - malid.external.scratch_cache - INFO - Reading network file from local machine cache: /users/maximz/code/boyd-immune-repertoire-classification/data/data_v_20221117/embedded/unirep_fine_tuned/anndatas_scaled/BCR/fold.1.test.h5ad -> /srv/scratch/maximz/cache/ffeca0ea4f0814bae296a4074147865a0f4003b0f245773aa82aff12.1.test.h5ad\n"
     ]
    },
    {
     "name": "stdout",
     "output_type": "stream",
     "text": [
      "WARNING: Your filename has more than two extensions: ['.1', '.test', '.h5ad'].\n",
      "Only considering the two last: ['.test', '.h5ad'].\n"
     ]
    },
    {
     "name": "stdout",
     "output_type": "stream",
     "text": [
      "WARNING: Your filename has more than two extensions: ['.1', '.test', '.h5ad'].\n",
      "Only considering the two last: ['.test', '.h5ad'].\n"
     ]
    },
    {
     "name": "stderr",
     "output_type": "stream",
     "text": [
      "2022-11-28 23:19:29,704 - malid.external.scratch_cache - INFO - Reading network file from local machine cache: /users/maximz/code/boyd-immune-repertoire-classification/data/data_v_20221117/embedded/unirep_fine_tuned/anndatas_scaled/TCR/fold.1.test.h5ad -> /srv/scratch/maximz/cache/ea501b0a2c0c98168ff5bfe46501a3c154c67f621492bcd5b180d587.1.test.h5ad\n"
     ]
    },
    {
     "name": "stdout",
     "output_type": "stream",
     "text": [
      "WARNING: Your filename has more than two extensions: ['.1', '.test', '.h5ad'].\n",
      "Only considering the two last: ['.test', '.h5ad'].\n"
     ]
    },
    {
     "name": "stdout",
     "output_type": "stream",
     "text": [
      "WARNING: Your filename has more than two extensions: ['.1', '.test', '.h5ad'].\n",
      "Only considering the two last: ['.test', '.h5ad'].\n"
     ]
    },
    {
     "name": "stderr",
     "output_type": "stream",
     "text": [
      "2022-11-28 23:21:03,585 - generate_simulation_datasets.ipynb - INFO - Added specimen M111-S043 from participant BFI-0002856, disease HIV\n"
     ]
    },
    {
     "name": "stderr",
     "output_type": "stream",
     "text": [
      "2022-11-28 23:21:04,868 - generate_simulation_datasets.ipynb - INFO - Added specimen M111-S035 from participant BFI-0002870, disease HIV\n"
     ]
    },
    {
     "name": "stderr",
     "output_type": "stream",
     "text": [
      "2022-11-28 23:21:06,450 - generate_simulation_datasets.ipynb - INFO - Added specimen M111-S025 from participant BFI-0002871, disease HIV\n"
     ]
    },
    {
     "name": "stderr",
     "output_type": "stream",
     "text": [
      "2022-11-28 23:21:15,871 - generate_simulation_datasets.ipynb - INFO - Added specimen M124-S036 from participant BFI-0002862, disease Healthy/Background\n"
     ]
    },
    {
     "name": "stderr",
     "output_type": "stream",
     "text": [
      "2022-11-28 23:21:16,828 - generate_simulation_datasets.ipynb - INFO - Added specimen M124-S038 from participant BFI-0002866, disease Healthy/Background\n"
     ]
    },
    {
     "name": "stderr",
     "output_type": "stream",
     "text": [
      "2022-11-28 23:21:18,152 - generate_simulation_datasets.ipynb - INFO - Added specimen M124-S039 from participant BFI-0002867, disease Healthy/Background\n"
     ]
    },
    {
     "name": "stderr",
     "output_type": "stream",
     "text": [
      "2022-11-28 23:21:19,082 - generate_simulation_datasets.ipynb - WARNING - Specimen M404-S008 from disease Covid19 missing some isotypes altogether for GeneLocus.TCR - skipping specimen\n"
     ]
    },
    {
     "name": "stderr",
     "output_type": "stream",
     "text": [
      "2022-11-28 23:21:19,083 - generate_simulation_datasets.ipynb - WARNING - Specimen M404-S008 from participant BFI-0007782, disease Covid19 will not be included due to missing/incomplete isotypes (in one or more gene loci).\n"
     ]
    },
    {
     "name": "stderr",
     "output_type": "stream",
     "text": [
      "2022-11-28 23:21:19,091 - generate_simulation_datasets.ipynb - WARNING - Specimen M418-S205, isotype IGHA, disease Covid19, GeneLocus.BCR: only had 15 sequences - skipping specimen\n"
     ]
    },
    {
     "name": "stderr",
     "output_type": "stream",
     "text": [
      "2022-11-28 23:21:19,299 - generate_simulation_datasets.ipynb - WARNING - Specimen M418-S205 from participant BFI-0009012, disease Covid19 will not be included due to missing/incomplete isotypes (in one or more gene loci).\n"
     ]
    },
    {
     "name": "stderr",
     "output_type": "stream",
     "text": [
      "2022-11-28 23:21:19,672 - generate_simulation_datasets.ipynb - INFO - Added specimen M418-S094 from participant BFI-0009047, disease Covid19\n"
     ]
    },
    {
     "name": "stderr",
     "output_type": "stream",
     "text": [
      "2022-11-28 23:21:19,685 - generate_simulation_datasets.ipynb - WARNING - Specimen M418-S105, isotype IGHA, disease Covid19, GeneLocus.BCR: only had 14 sequences - skipping specimen\n"
     ]
    },
    {
     "name": "stderr",
     "output_type": "stream",
     "text": [
      "2022-11-28 23:21:19,908 - generate_simulation_datasets.ipynb - WARNING - Specimen M418-S105 from participant BFI-0009052, disease Covid19 will not be included due to missing/incomplete isotypes (in one or more gene loci).\n"
     ]
    },
    {
     "name": "stderr",
     "output_type": "stream",
     "text": [
      "2022-11-28 23:21:19,921 - generate_simulation_datasets.ipynb - WARNING - Specimen M418-S148, isotype IGHA, disease Covid19, GeneLocus.BCR: only had 46 sequences - skipping specimen\n"
     ]
    },
    {
     "name": "stderr",
     "output_type": "stream",
     "text": [
      "2022-11-28 23:21:20,200 - generate_simulation_datasets.ipynb - WARNING - Specimen M418-S148 from participant BFI-0009083, disease Covid19 will not be included due to missing/incomplete isotypes (in one or more gene loci).\n"
     ]
    },
    {
     "name": "stderr",
     "output_type": "stream",
     "text": [
      "2022-11-28 23:21:20,685 - generate_simulation_datasets.ipynb - INFO - Added specimen M418-S162 from participant BFI-0009093, disease Covid19\n"
     ]
    },
    {
     "name": "stderr",
     "output_type": "stream",
     "text": [
      "2022-11-28 23:21:21,055 - generate_simulation_datasets.ipynb - INFO - Added specimen M418-S193 from participant BFI-0009121, disease Covid19\n"
     ]
    },
    {
     "name": "stderr",
     "output_type": "stream",
     "text": [
      "2022-11-28 23:21:21,314 - py.warnings - WARNING - /users/maximz/anaconda3/envs/cuda-env-py39/lib/python3.9/site-packages/anndata/_core/raw.py:139: FutureWarning: X.dtype being converted to np.float32 from float16. In the next version of anndata (0.9) conversion will not be automatic. Pass dtype explicitly to avoid this warning. Pass `AnnData(X, dtype=X.dtype, ...)` to get the future behavour.\n",
      "  return anndata.AnnData(\n",
      "\n"
     ]
    },
    {
     "name": "stderr",
     "output_type": "stream",
     "text": [
      "2022-11-28 23:21:21,458 - py.warnings - WARNING - /users/maximz/anaconda3/envs/cuda-env-py39/lib/python3.9/site-packages/anndata/_core/raw.py:139: FutureWarning: X.dtype being converted to np.float32 from float16. In the next version of anndata (0.9) conversion will not be automatic. Pass dtype explicitly to avoid this warning. Pass `AnnData(X, dtype=X.dtype, ...)` to get the future behavour.\n",
      "  return anndata.AnnData(\n",
      "\n"
     ]
    },
    {
     "name": "stderr",
     "output_type": "stream",
     "text": [
      "2022-11-28 23:21:21,990 - generate_simulation_datasets.ipynb - INFO - Fold 1-test, GeneLocus.BCR -> /users/maximz/code/boyd-immune-repertoire-classification/tests/snapshot/scaled_anndatas_dir/BCR/fold.1.test.h5ad\n"
     ]
    },
    {
     "name": "stderr",
     "output_type": "stream",
     "text": [
      "2022-11-28 23:21:22,046 - generate_simulation_datasets.ipynb - INFO - Fold 1-test, GeneLocus.TCR -> /users/maximz/code/boyd-immune-repertoire-classification/tests/snapshot/scaled_anndatas_dir/TCR/fold.1.test.h5ad\n"
     ]
    },
    {
     "name": "stderr",
     "output_type": "stream",
     "text": [
      "2022-11-28 23:21:22,524 - malid.external.scratch_cache - INFO - Reading network file from local machine cache: /users/maximz/code/boyd-immune-repertoire-classification/data/data_v_20221117/embedded/unirep_fine_tuned/anndatas_scaled/BCR/fold.2.train_smaller.h5ad -> /srv/scratch/maximz/cache/6cb12e16fcf6e035e853ef2ae1704883bab4d1035687b0c4b8812038.2.train_smaller.h5ad\n"
     ]
    },
    {
     "name": "stdout",
     "output_type": "stream",
     "text": [
      "WARNING: Your filename has more than two extensions: ['.2', '.train_smaller', '.h5ad'].\n",
      "Only considering the two last: ['.train_smaller', '.h5ad'].\n"
     ]
    },
    {
     "name": "stdout",
     "output_type": "stream",
     "text": [
      "WARNING: Your filename has more than two extensions: ['.2', '.train_smaller', '.h5ad'].\n",
      "Only considering the two last: ['.train_smaller', '.h5ad'].\n"
     ]
    },
    {
     "name": "stderr",
     "output_type": "stream",
     "text": [
      "2022-11-28 23:24:09,698 - malid.external.scratch_cache - INFO - Reading network file from local machine cache: /users/maximz/code/boyd-immune-repertoire-classification/data/data_v_20221117/embedded/unirep_fine_tuned/anndatas_scaled/TCR/fold.2.train_smaller.h5ad -> /srv/scratch/maximz/cache/7b61a432c6210704d4a9089df1411d38098eb8285b72b51c681038cd.2.train_smaller.h5ad\n"
     ]
    },
    {
     "name": "stdout",
     "output_type": "stream",
     "text": [
      "WARNING: Your filename has more than two extensions: ['.2', '.train_smaller', '.h5ad'].\n",
      "Only considering the two last: ['.train_smaller', '.h5ad'].\n"
     ]
    },
    {
     "name": "stdout",
     "output_type": "stream",
     "text": [
      "WARNING: Your filename has more than two extensions: ['.2', '.train_smaller', '.h5ad'].\n",
      "Only considering the two last: ['.train_smaller', '.h5ad'].\n"
     ]
    },
    {
     "name": "stderr",
     "output_type": "stream",
     "text": [
      "2022-11-28 23:28:36,959 - generate_simulation_datasets.ipynb - INFO - Added specimen M111-S037 from participant BFI-0000254, disease HIV\n"
     ]
    },
    {
     "name": "stderr",
     "output_type": "stream",
     "text": [
      "2022-11-28 23:28:38,827 - generate_simulation_datasets.ipynb - INFO - Added specimen M111-S055 from participant BFI-0000258, disease HIV\n"
     ]
    },
    {
     "name": "stderr",
     "output_type": "stream",
     "text": [
      "2022-11-28 23:28:38,828 - generate_simulation_datasets.ipynb - WARNING - Specimen M124-S070 from disease HIV will be skipped because we already have another specimen from same participant BFI-0000258\n"
     ]
    },
    {
     "name": "stderr",
     "output_type": "stream",
     "text": [
      "2022-11-28 23:28:39,598 - generate_simulation_datasets.ipynb - INFO - Added specimen M111-S042 from participant BFI-0002854, disease HIV\n"
     ]
    },
    {
     "name": "stderr",
     "output_type": "stream",
     "text": [
      "2022-11-28 23:28:55,050 - generate_simulation_datasets.ipynb - INFO - Added specimen M124-S038 from participant BFI-0002866, disease Healthy/Background\n"
     ]
    },
    {
     "name": "stderr",
     "output_type": "stream",
     "text": [
      "2022-11-28 23:28:56,442 - generate_simulation_datasets.ipynb - INFO - Added specimen M124-S039 from participant BFI-0002867, disease Healthy/Background\n"
     ]
    },
    {
     "name": "stderr",
     "output_type": "stream",
     "text": [
      "2022-11-28 23:28:57,694 - generate_simulation_datasets.ipynb - INFO - Added specimen M124-S040 from participant BFI-0002868, disease Healthy/Background\n"
     ]
    },
    {
     "name": "stderr",
     "output_type": "stream",
     "text": [
      "2022-11-28 23:28:58,731 - generate_simulation_datasets.ipynb - WARNING - Specimen M404-S014 from disease Covid19 missing some isotypes altogether for GeneLocus.TCR - skipping specimen\n"
     ]
    },
    {
     "name": "stderr",
     "output_type": "stream",
     "text": [
      "2022-11-28 23:28:58,731 - generate_simulation_datasets.ipynb - WARNING - Specimen M404-S014 from participant BFI-0007784, disease Covid19 will not be included due to missing/incomplete isotypes (in one or more gene loci).\n"
     ]
    },
    {
     "name": "stderr",
     "output_type": "stream",
     "text": [
      "2022-11-28 23:28:58,975 - generate_simulation_datasets.ipynb - INFO - Added specimen M418-S231 from participant BFI-0009036, disease Covid19\n"
     ]
    },
    {
     "name": "stderr",
     "output_type": "stream",
     "text": [
      "2022-11-28 23:28:59,317 - generate_simulation_datasets.ipynb - INFO - Added specimen M418-S094 from participant BFI-0009047, disease Covid19\n"
     ]
    },
    {
     "name": "stderr",
     "output_type": "stream",
     "text": [
      "2022-11-28 23:28:59,328 - generate_simulation_datasets.ipynb - WARNING - Specimen M418-S105, isotype IGHA, disease Covid19, GeneLocus.BCR: only had 14 sequences - skipping specimen\n"
     ]
    },
    {
     "name": "stderr",
     "output_type": "stream",
     "text": [
      "2022-11-28 23:28:59,538 - generate_simulation_datasets.ipynb - WARNING - Specimen M418-S105 from participant BFI-0009052, disease Covid19 will not be included due to missing/incomplete isotypes (in one or more gene loci).\n"
     ]
    },
    {
     "name": "stderr",
     "output_type": "stream",
     "text": [
      "2022-11-28 23:29:00,038 - generate_simulation_datasets.ipynb - INFO - Added specimen M418-S162 from participant BFI-0009093, disease Covid19\n"
     ]
    },
    {
     "name": "stderr",
     "output_type": "stream",
     "text": [
      "2022-11-28 23:29:00,342 - py.warnings - WARNING - /users/maximz/anaconda3/envs/cuda-env-py39/lib/python3.9/site-packages/anndata/_core/raw.py:139: FutureWarning: X.dtype being converted to np.float32 from float16. In the next version of anndata (0.9) conversion will not be automatic. Pass dtype explicitly to avoid this warning. Pass `AnnData(X, dtype=X.dtype, ...)` to get the future behavour.\n",
      "  return anndata.AnnData(\n",
      "\n"
     ]
    },
    {
     "name": "stderr",
     "output_type": "stream",
     "text": [
      "2022-11-28 23:29:00,554 - py.warnings - WARNING - /users/maximz/anaconda3/envs/cuda-env-py39/lib/python3.9/site-packages/anndata/_core/raw.py:139: FutureWarning: X.dtype being converted to np.float32 from float16. In the next version of anndata (0.9) conversion will not be automatic. Pass dtype explicitly to avoid this warning. Pass `AnnData(X, dtype=X.dtype, ...)` to get the future behavour.\n",
      "  return anndata.AnnData(\n",
      "\n"
     ]
    },
    {
     "name": "stderr",
     "output_type": "stream",
     "text": [
      "2022-11-28 23:29:01,196 - generate_simulation_datasets.ipynb - INFO - Fold 2-train_smaller, GeneLocus.BCR -> /users/maximz/code/boyd-immune-repertoire-classification/tests/snapshot/scaled_anndatas_dir/BCR/fold.2.train_smaller.h5ad\n"
     ]
    },
    {
     "name": "stderr",
     "output_type": "stream",
     "text": [
      "2022-11-28 23:29:01,416 - generate_simulation_datasets.ipynb - INFO - Fold 2-train_smaller, GeneLocus.TCR -> /users/maximz/code/boyd-immune-repertoire-classification/tests/snapshot/scaled_anndatas_dir/TCR/fold.2.train_smaller.h5ad\n"
     ]
    },
    {
     "name": "stderr",
     "output_type": "stream",
     "text": [
      "2022-11-28 23:29:02,119 - malid.external.scratch_cache - INFO - Reading network file from local machine cache: /users/maximz/code/boyd-immune-repertoire-classification/data/data_v_20221117/embedded/unirep_fine_tuned/anndatas_scaled/BCR/fold.2.validation.h5ad -> /srv/scratch/maximz/cache/ed9c53a0f9da5f5d4f54e8c2c768b6a9f5aa1c8643b6c29a7fd00eac.2.validation.h5ad\n"
     ]
    },
    {
     "name": "stdout",
     "output_type": "stream",
     "text": [
      "WARNING: Your filename has more than two extensions: ['.2', '.validation', '.h5ad'].\n",
      "Only considering the two last: ['.validation', '.h5ad'].\n"
     ]
    },
    {
     "name": "stdout",
     "output_type": "stream",
     "text": [
      "WARNING: Your filename has more than two extensions: ['.2', '.validation', '.h5ad'].\n",
      "Only considering the two last: ['.validation', '.h5ad'].\n"
     ]
    },
    {
     "name": "stderr",
     "output_type": "stream",
     "text": [
      "2022-11-28 23:29:55,206 - malid.external.scratch_cache - INFO - Reading network file from local machine cache: /users/maximz/code/boyd-immune-repertoire-classification/data/data_v_20221117/embedded/unirep_fine_tuned/anndatas_scaled/TCR/fold.2.validation.h5ad -> /srv/scratch/maximz/cache/1babce0e79ce10e337c1e8d6dc6cb7a471eb2549e1e5448015ea4da1.2.validation.h5ad\n"
     ]
    },
    {
     "name": "stdout",
     "output_type": "stream",
     "text": [
      "WARNING: Your filename has more than two extensions: ['.2', '.validation', '.h5ad'].\n",
      "Only considering the two last: ['.validation', '.h5ad'].\n"
     ]
    },
    {
     "name": "stdout",
     "output_type": "stream",
     "text": [
      "WARNING: Your filename has more than two extensions: ['.2', '.validation', '.h5ad'].\n",
      "Only considering the two last: ['.validation', '.h5ad'].\n"
     ]
    },
    {
     "name": "stderr",
     "output_type": "stream",
     "text": [
      "2022-11-28 23:31:56,870 - generate_simulation_datasets.ipynb - INFO - Added specimen M124-S037 from participant BFI-0002861, disease Healthy/Background\n"
     ]
    },
    {
     "name": "stderr",
     "output_type": "stream",
     "text": [
      "2022-11-28 23:31:58,250 - generate_simulation_datasets.ipynb - INFO - Added specimen M124-S036 from participant BFI-0002862, disease Healthy/Background\n"
     ]
    },
    {
     "name": "stderr",
     "output_type": "stream",
     "text": [
      "2022-11-28 23:31:59,483 - generate_simulation_datasets.ipynb - INFO - Added specimen M124-S035 from participant BFI-0002863, disease Healthy/Background\n"
     ]
    },
    {
     "name": "stderr",
     "output_type": "stream",
     "text": [
      "2022-11-28 23:32:02,887 - generate_simulation_datasets.ipynb - INFO - Added specimen M111-S036 from participant BFI-0002877, disease HIV\n"
     ]
    },
    {
     "name": "stderr",
     "output_type": "stream",
     "text": [
      "2022-11-28 23:32:03,844 - generate_simulation_datasets.ipynb - INFO - Added specimen M111-S039 from participant BFI-0002879, disease HIV\n"
     ]
    },
    {
     "name": "stderr",
     "output_type": "stream",
     "text": [
      "2022-11-28 23:32:05,255 - generate_simulation_datasets.ipynb - INFO - Added specimen M111-S030 from participant BFI-0003454, disease HIV\n"
     ]
    },
    {
     "name": "stderr",
     "output_type": "stream",
     "text": [
      "2022-11-28 23:32:06,096 - generate_simulation_datasets.ipynb - WARNING - Specimen M404-S008 from disease Covid19 missing some isotypes altogether for GeneLocus.TCR - skipping specimen\n"
     ]
    },
    {
     "name": "stderr",
     "output_type": "stream",
     "text": [
      "2022-11-28 23:32:06,097 - generate_simulation_datasets.ipynb - WARNING - Specimen M404-S008 from participant BFI-0007782, disease Covid19 will not be included due to missing/incomplete isotypes (in one or more gene loci).\n"
     ]
    },
    {
     "name": "stderr",
     "output_type": "stream",
     "text": [
      "2022-11-28 23:32:06,105 - generate_simulation_datasets.ipynb - WARNING - Specimen M418-S205, isotype IGHA, disease Covid19, GeneLocus.BCR: only had 15 sequences - skipping specimen\n"
     ]
    },
    {
     "name": "stderr",
     "output_type": "stream",
     "text": [
      "2022-11-28 23:32:06,312 - generate_simulation_datasets.ipynb - WARNING - Specimen M418-S205 from participant BFI-0009012, disease Covid19 will not be included due to missing/incomplete isotypes (in one or more gene loci).\n"
     ]
    },
    {
     "name": "stderr",
     "output_type": "stream",
     "text": [
      "2022-11-28 23:32:06,323 - generate_simulation_datasets.ipynb - WARNING - Specimen M418-S148, isotype IGHA, disease Covid19, GeneLocus.BCR: only had 46 sequences - skipping specimen\n"
     ]
    },
    {
     "name": "stderr",
     "output_type": "stream",
     "text": [
      "2022-11-28 23:32:06,600 - generate_simulation_datasets.ipynb - WARNING - Specimen M418-S148 from participant BFI-0009083, disease Covid19 will not be included due to missing/incomplete isotypes (in one or more gene loci).\n"
     ]
    },
    {
     "name": "stderr",
     "output_type": "stream",
     "text": [
      "2022-11-28 23:32:06,973 - generate_simulation_datasets.ipynb - INFO - Added specimen M418-S193 from participant BFI-0009121, disease Covid19\n"
     ]
    },
    {
     "name": "stderr",
     "output_type": "stream",
     "text": [
      "2022-11-28 23:32:07,326 - generate_simulation_datasets.ipynb - INFO - Added specimen M418-S001 from participant BFI-0009122, disease Covid19\n"
     ]
    },
    {
     "name": "stderr",
     "output_type": "stream",
     "text": [
      "2022-11-28 23:32:07,992 - generate_simulation_datasets.ipynb - INFO - Added specimen M418-S016 from participant BFI-0009134, disease Covid19\n"
     ]
    },
    {
     "name": "stderr",
     "output_type": "stream",
     "text": [
      "2022-11-28 23:32:08,217 - py.warnings - WARNING - /users/maximz/anaconda3/envs/cuda-env-py39/lib/python3.9/site-packages/anndata/_core/raw.py:139: FutureWarning: X.dtype being converted to np.float32 from float16. In the next version of anndata (0.9) conversion will not be automatic. Pass dtype explicitly to avoid this warning. Pass `AnnData(X, dtype=X.dtype, ...)` to get the future behavour.\n",
      "  return anndata.AnnData(\n",
      "\n"
     ]
    },
    {
     "name": "stderr",
     "output_type": "stream",
     "text": [
      "2022-11-28 23:32:08,355 - py.warnings - WARNING - /users/maximz/anaconda3/envs/cuda-env-py39/lib/python3.9/site-packages/anndata/_core/raw.py:139: FutureWarning: X.dtype being converted to np.float32 from float16. In the next version of anndata (0.9) conversion will not be automatic. Pass dtype explicitly to avoid this warning. Pass `AnnData(X, dtype=X.dtype, ...)` to get the future behavour.\n",
      "  return anndata.AnnData(\n",
      "\n"
     ]
    },
    {
     "name": "stderr",
     "output_type": "stream",
     "text": [
      "2022-11-28 23:32:08,756 - generate_simulation_datasets.ipynb - INFO - Fold 2-validation, GeneLocus.BCR -> /users/maximz/code/boyd-immune-repertoire-classification/tests/snapshot/scaled_anndatas_dir/BCR/fold.2.validation.h5ad\n"
     ]
    },
    {
     "name": "stderr",
     "output_type": "stream",
     "text": [
      "2022-11-28 23:32:08,813 - generate_simulation_datasets.ipynb - INFO - Fold 2-validation, GeneLocus.TCR -> /users/maximz/code/boyd-immune-repertoire-classification/tests/snapshot/scaled_anndatas_dir/TCR/fold.2.validation.h5ad\n"
     ]
    },
    {
     "name": "stderr",
     "output_type": "stream",
     "text": [
      "2022-11-28 23:32:09,230 - malid.external.scratch_cache - INFO - Reading network file from local machine cache: /users/maximz/code/boyd-immune-repertoire-classification/data/data_v_20221117/embedded/unirep_fine_tuned/anndatas_scaled/BCR/fold.2.test.h5ad -> /srv/scratch/maximz/cache/9644d4b01b5a585916488e1c26d179a5f1b88ac46036cef4312ff617.2.test.h5ad\n"
     ]
    },
    {
     "name": "stdout",
     "output_type": "stream",
     "text": [
      "WARNING: Your filename has more than two extensions: ['.2', '.test', '.h5ad'].\n",
      "Only considering the two last: ['.test', '.h5ad'].\n"
     ]
    },
    {
     "name": "stdout",
     "output_type": "stream",
     "text": [
      "WARNING: Your filename has more than two extensions: ['.2', '.test', '.h5ad'].\n",
      "Only considering the two last: ['.test', '.h5ad'].\n"
     ]
    },
    {
     "name": "stderr",
     "output_type": "stream",
     "text": [
      "2022-11-28 23:35:14,747 - malid.external.scratch_cache - INFO - Reading network file from local machine cache: /users/maximz/code/boyd-immune-repertoire-classification/data/data_v_20221117/embedded/unirep_fine_tuned/anndatas_scaled/TCR/fold.2.test.h5ad -> /srv/scratch/maximz/cache/8e9809b501f65af9ef0def9f3976fe040007b72d29524f6b1f34dc74.2.test.h5ad\n"
     ]
    },
    {
     "name": "stdout",
     "output_type": "stream",
     "text": [
      "WARNING: Your filename has more than two extensions: ['.2', '.test', '.h5ad'].\n",
      "Only considering the two last: ['.test', '.h5ad'].\n"
     ]
    },
    {
     "name": "stdout",
     "output_type": "stream",
     "text": [
      "WARNING: Your filename has more than two extensions: ['.2', '.test', '.h5ad'].\n",
      "Only considering the two last: ['.test', '.h5ad'].\n"
     ]
    },
    {
     "name": "stderr",
     "output_type": "stream",
     "text": [
      "2022-11-28 23:39:44,600 - generate_simulation_datasets.ipynb - INFO - Added specimen M111-S033 from participant BFI-0000255, disease HIV\n"
     ]
    },
    {
     "name": "stderr",
     "output_type": "stream",
     "text": [
      "2022-11-28 23:39:46,163 - generate_simulation_datasets.ipynb - INFO - Added specimen M111-S038 from participant BFI-0000256, disease HIV\n"
     ]
    },
    {
     "name": "stderr",
     "output_type": "stream",
     "text": [
      "2022-11-28 23:39:47,280 - generate_simulation_datasets.ipynb - INFO - Added specimen M111-S018 from participant BFI-0002857, disease HIV\n"
     ]
    },
    {
     "name": "stderr",
     "output_type": "stream",
     "text": [
      "2022-11-28 23:40:00,332 - generate_simulation_datasets.ipynb - INFO - Added specimen M64-002 from participant BFI-0003051, disease Healthy/Background\n"
     ]
    },
    {
     "name": "stderr",
     "output_type": "stream",
     "text": [
      "2022-11-28 23:40:02,962 - generate_simulation_datasets.ipynb - INFO - Added specimen M64-019 from participant BFI-0003068, disease Healthy/Background\n"
     ]
    },
    {
     "name": "stderr",
     "output_type": "stream",
     "text": [
      "2022-11-28 23:40:05,457 - generate_simulation_datasets.ipynb - INFO - Added specimen M64-029 from participant BFI-0003078, disease Healthy/Background\n"
     ]
    },
    {
     "name": "stderr",
     "output_type": "stream",
     "text": [
      "2022-11-28 23:40:06,903 - generate_simulation_datasets.ipynb - WARNING - Specimen M404-S005 from disease Covid19 missing some isotypes altogether for GeneLocus.TCR - skipping specimen\n"
     ]
    },
    {
     "name": "stderr",
     "output_type": "stream",
     "text": [
      "2022-11-28 23:40:06,904 - generate_simulation_datasets.ipynb - WARNING - Specimen M404-S005 from participant BFI-0007781, disease Covid19 will not be included due to missing/incomplete isotypes (in one or more gene loci).\n"
     ]
    },
    {
     "name": "stderr",
     "output_type": "stream",
     "text": [
      "2022-11-28 23:40:07,133 - generate_simulation_datasets.ipynb - WARNING - Specimen M404-S011 from disease Covid19 missing some isotypes altogether for GeneLocus.TCR - skipping specimen\n"
     ]
    },
    {
     "name": "stderr",
     "output_type": "stream",
     "text": [
      "2022-11-28 23:40:07,134 - generate_simulation_datasets.ipynb - WARNING - Specimen M404-S011 from participant BFI-0007783, disease Covid19 will not be included due to missing/incomplete isotypes (in one or more gene loci).\n"
     ]
    },
    {
     "name": "stderr",
     "output_type": "stream",
     "text": [
      "2022-11-28 23:40:07,202 - generate_simulation_datasets.ipynb - WARNING - Specimen M418-S198, isotype IGHG, disease Covid19, GeneLocus.BCR: only had 48 sequences - skipping specimen\n"
     ]
    },
    {
     "name": "stderr",
     "output_type": "stream",
     "text": [
      "2022-11-28 23:40:07,474 - generate_simulation_datasets.ipynb - WARNING - Specimen M418-S198 from participant BFI-0009005, disease Covid19 will not be included due to missing/incomplete isotypes (in one or more gene loci).\n"
     ]
    },
    {
     "name": "stderr",
     "output_type": "stream",
     "text": [
      "2022-11-28 23:40:08,009 - generate_simulation_datasets.ipynb - INFO - Added specimen M418-S095 from participant BFI-0009048, disease Covid19\n"
     ]
    },
    {
     "name": "stderr",
     "output_type": "stream",
     "text": [
      "2022-11-28 23:40:08,021 - generate_simulation_datasets.ipynb - WARNING - Specimen M418-S110, isotype IGHA, disease Covid19, GeneLocus.BCR: only had 2 sequences - skipping specimen\n"
     ]
    },
    {
     "name": "stderr",
     "output_type": "stream",
     "text": [
      "2022-11-28 23:40:08,347 - generate_simulation_datasets.ipynb - WARNING - Specimen M418-S110 from participant BFI-0009056, disease Covid19 will not be included due to missing/incomplete isotypes (in one or more gene loci).\n"
     ]
    },
    {
     "name": "stderr",
     "output_type": "stream",
     "text": [
      "2022-11-28 23:40:08,369 - generate_simulation_datasets.ipynb - WARNING - Specimen M418-S114, isotype IGHA, disease Covid19, GeneLocus.BCR: only had 21 sequences - skipping specimen\n"
     ]
    },
    {
     "name": "stderr",
     "output_type": "stream",
     "text": [
      "2022-11-28 23:40:08,723 - generate_simulation_datasets.ipynb - WARNING - Specimen M418-S114 from participant BFI-0009057, disease Covid19 will not be included due to missing/incomplete isotypes (in one or more gene loci).\n"
     ]
    },
    {
     "name": "stderr",
     "output_type": "stream",
     "text": [
      "2022-11-28 23:40:08,738 - generate_simulation_datasets.ipynb - WARNING - Specimen M418-S169, isotype IGHA, disease Covid19, GeneLocus.BCR: only had 25 sequences - skipping specimen\n"
     ]
    },
    {
     "name": "stderr",
     "output_type": "stream",
     "text": [
      "2022-11-28 23:40:09,109 - generate_simulation_datasets.ipynb - WARNING - Specimen M418-S169 from participant BFI-0009098, disease Covid19 will not be included due to missing/incomplete isotypes (in one or more gene loci).\n"
     ]
    },
    {
     "name": "stderr",
     "output_type": "stream",
     "text": [
      "2022-11-28 23:40:09,121 - generate_simulation_datasets.ipynb - WARNING - Specimen M418-S180, isotype IGHA, disease Covid19, GeneLocus.BCR: only had 14 sequences - skipping specimen\n"
     ]
    },
    {
     "name": "stderr",
     "output_type": "stream",
     "text": [
      "2022-11-28 23:40:09,286 - generate_simulation_datasets.ipynb - WARNING - Specimen M418-S180 from participant BFI-0009108, disease Covid19 will not be included due to missing/incomplete isotypes (in one or more gene loci).\n"
     ]
    },
    {
     "name": "stderr",
     "output_type": "stream",
     "text": [
      "2022-11-28 23:40:09,995 - generate_simulation_datasets.ipynb - INFO - Added specimen M418-S192 from participant BFI-0009120, disease Covid19\n"
     ]
    },
    {
     "name": "stderr",
     "output_type": "stream",
     "text": [
      "2022-11-28 23:40:10,692 - generate_simulation_datasets.ipynb - INFO - Added specimen M418-S013 from participant BFI-0009131, disease Covid19\n"
     ]
    },
    {
     "name": "stderr",
     "output_type": "stream",
     "text": [
      "2022-11-28 23:40:11,229 - py.warnings - WARNING - /users/maximz/anaconda3/envs/cuda-env-py39/lib/python3.9/site-packages/anndata/_core/raw.py:139: FutureWarning: X.dtype being converted to np.float32 from float16. In the next version of anndata (0.9) conversion will not be automatic. Pass dtype explicitly to avoid this warning. Pass `AnnData(X, dtype=X.dtype, ...)` to get the future behavour.\n",
      "  return anndata.AnnData(\n",
      "\n"
     ]
    },
    {
     "name": "stderr",
     "output_type": "stream",
     "text": [
      "2022-11-28 23:40:11,478 - py.warnings - WARNING - /users/maximz/anaconda3/envs/cuda-env-py39/lib/python3.9/site-packages/anndata/_core/raw.py:139: FutureWarning: X.dtype being converted to np.float32 from float16. In the next version of anndata (0.9) conversion will not be automatic. Pass dtype explicitly to avoid this warning. Pass `AnnData(X, dtype=X.dtype, ...)` to get the future behavour.\n",
      "  return anndata.AnnData(\n",
      "\n"
     ]
    },
    {
     "name": "stderr",
     "output_type": "stream",
     "text": [
      "2022-11-28 23:40:12,225 - generate_simulation_datasets.ipynb - INFO - Fold 2-test, GeneLocus.BCR -> /users/maximz/code/boyd-immune-repertoire-classification/tests/snapshot/scaled_anndatas_dir/BCR/fold.2.test.h5ad\n"
     ]
    },
    {
     "name": "stderr",
     "output_type": "stream",
     "text": [
      "2022-11-28 23:40:12,290 - generate_simulation_datasets.ipynb - INFO - Fold 2-test, GeneLocus.TCR -> /users/maximz/code/boyd-immune-repertoire-classification/tests/snapshot/scaled_anndatas_dir/TCR/fold.2.test.h5ad\n"
     ]
    },
    {
     "name": "stderr",
     "output_type": "stream",
     "text": [
      "2022-11-28 23:40:12,921 - malid.external.scratch_cache - INFO - Reading network file from local machine cache: /users/maximz/code/boyd-immune-repertoire-classification/data/data_v_20221117/embedded/unirep_fine_tuned/anndatas_scaled/BCR/fold.-1.train_smaller.h5ad -> /srv/scratch/maximz/cache/983a3eb687524fb93125e06d4db2efff1e050e6994b6702f703ebe30.-1.train_smaller.h5ad\n"
     ]
    },
    {
     "name": "stdout",
     "output_type": "stream",
     "text": [
      "WARNING: Your filename has more than two extensions: ['.-1', '.train_smaller', '.h5ad'].\n",
      "Only considering the two last: ['.train_smaller', '.h5ad'].\n"
     ]
    },
    {
     "name": "stdout",
     "output_type": "stream",
     "text": [
      "WARNING: Your filename has more than two extensions: ['.-1', '.train_smaller', '.h5ad'].\n",
      "Only considering the two last: ['.train_smaller', '.h5ad'].\n"
     ]
    },
    {
     "name": "stderr",
     "output_type": "stream",
     "text": [
      "2022-11-28 23:44:42,287 - malid.external.scratch_cache - INFO - Reading network file from local machine cache: /users/maximz/code/boyd-immune-repertoire-classification/data/data_v_20221117/embedded/unirep_fine_tuned/anndatas_scaled/TCR/fold.-1.train_smaller.h5ad -> /srv/scratch/maximz/cache/f0039420f21c370254f78d4488b4eba3476c46018a5757fa96e259d7.-1.train_smaller.h5ad\n"
     ]
    },
    {
     "name": "stdout",
     "output_type": "stream",
     "text": [
      "WARNING: Your filename has more than two extensions: ['.-1', '.train_smaller', '.h5ad'].\n",
      "Only considering the two last: ['.train_smaller', '.h5ad'].\n"
     ]
    },
    {
     "name": "stdout",
     "output_type": "stream",
     "text": [
      "WARNING: Your filename has more than two extensions: ['.-1', '.train_smaller', '.h5ad'].\n",
      "Only considering the two last: ['.train_smaller', '.h5ad'].\n"
     ]
    },
    {
     "name": "stderr",
     "output_type": "stream",
     "text": [
      "2022-11-29 00:00:23,978 - generate_simulation_datasets.ipynb - INFO - Added specimen M111-S033 from participant BFI-0000255, disease HIV\n"
     ]
    },
    {
     "name": "stderr",
     "output_type": "stream",
     "text": [
      "2022-11-29 00:00:25,476 - generate_simulation_datasets.ipynb - INFO - Added specimen M111-S038 from participant BFI-0000256, disease HIV\n"
     ]
    },
    {
     "name": "stderr",
     "output_type": "stream",
     "text": [
      "2022-11-29 00:00:26,769 - generate_simulation_datasets.ipynb - INFO - Added specimen M111-S043 from participant BFI-0002856, disease HIV\n"
     ]
    },
    {
     "name": "stderr",
     "output_type": "stream",
     "text": [
      "2022-11-29 00:00:45,255 - generate_simulation_datasets.ipynb - INFO - Added specimen M124-S036 from participant BFI-0002862, disease Healthy/Background\n"
     ]
    },
    {
     "name": "stderr",
     "output_type": "stream",
     "text": [
      "2022-11-29 00:00:46,352 - generate_simulation_datasets.ipynb - INFO - Added specimen M124-S038 from participant BFI-0002866, disease Healthy/Background\n"
     ]
    },
    {
     "name": "stderr",
     "output_type": "stream",
     "text": [
      "2022-11-29 00:00:47,830 - generate_simulation_datasets.ipynb - INFO - Added specimen M124-S039 from participant BFI-0002867, disease Healthy/Background\n"
     ]
    },
    {
     "name": "stderr",
     "output_type": "stream",
     "text": [
      "2022-11-29 00:00:49,991 - generate_simulation_datasets.ipynb - WARNING - Specimen M404-S005 from disease Covid19 missing some isotypes altogether for GeneLocus.TCR - skipping specimen\n"
     ]
    },
    {
     "name": "stderr",
     "output_type": "stream",
     "text": [
      "2022-11-29 00:00:49,992 - generate_simulation_datasets.ipynb - WARNING - Specimen M404-S005 from participant BFI-0007781, disease Covid19 will not be included due to missing/incomplete isotypes (in one or more gene loci).\n"
     ]
    },
    {
     "name": "stderr",
     "output_type": "stream",
     "text": [
      "2022-11-29 00:00:50,248 - generate_simulation_datasets.ipynb - WARNING - Specimen M404-S008 from disease Covid19 missing some isotypes altogether for GeneLocus.TCR - skipping specimen\n"
     ]
    },
    {
     "name": "stderr",
     "output_type": "stream",
     "text": [
      "2022-11-29 00:00:50,249 - generate_simulation_datasets.ipynb - WARNING - Specimen M404-S008 from participant BFI-0007782, disease Covid19 will not be included due to missing/incomplete isotypes (in one or more gene loci).\n"
     ]
    },
    {
     "name": "stderr",
     "output_type": "stream",
     "text": [
      "2022-11-29 00:00:50,476 - generate_simulation_datasets.ipynb - WARNING - Specimen M404-S011 from disease Covid19 missing some isotypes altogether for GeneLocus.TCR - skipping specimen\n"
     ]
    },
    {
     "name": "stderr",
     "output_type": "stream",
     "text": [
      "2022-11-29 00:00:50,477 - generate_simulation_datasets.ipynb - WARNING - Specimen M404-S011 from participant BFI-0007783, disease Covid19 will not be included due to missing/incomplete isotypes (in one or more gene loci).\n"
     ]
    },
    {
     "name": "stderr",
     "output_type": "stream",
     "text": [
      "2022-11-29 00:00:50,545 - generate_simulation_datasets.ipynb - WARNING - Specimen M418-S198, isotype IGHG, disease Covid19, GeneLocus.BCR: only had 48 sequences - skipping specimen\n"
     ]
    },
    {
     "name": "stderr",
     "output_type": "stream",
     "text": [
      "2022-11-29 00:00:50,821 - generate_simulation_datasets.ipynb - WARNING - Specimen M418-S198 from participant BFI-0009005, disease Covid19 will not be included due to missing/incomplete isotypes (in one or more gene loci).\n"
     ]
    },
    {
     "name": "stderr",
     "output_type": "stream",
     "text": [
      "2022-11-29 00:00:50,832 - generate_simulation_datasets.ipynb - WARNING - Specimen M418-S205, isotype IGHA, disease Covid19, GeneLocus.BCR: only had 15 sequences - skipping specimen\n"
     ]
    },
    {
     "name": "stderr",
     "output_type": "stream",
     "text": [
      "2022-11-29 00:00:51,062 - generate_simulation_datasets.ipynb - WARNING - Specimen M418-S205 from participant BFI-0009012, disease Covid19 will not be included due to missing/incomplete isotypes (in one or more gene loci).\n"
     ]
    },
    {
     "name": "stderr",
     "output_type": "stream",
     "text": [
      "2022-11-29 00:00:51,435 - generate_simulation_datasets.ipynb - INFO - Added specimen M418-S094 from participant BFI-0009047, disease Covid19\n"
     ]
    },
    {
     "name": "stderr",
     "output_type": "stream",
     "text": [
      "2022-11-29 00:00:51,982 - generate_simulation_datasets.ipynb - INFO - Added specimen M418-S095 from participant BFI-0009048, disease Covid19\n"
     ]
    },
    {
     "name": "stderr",
     "output_type": "stream",
     "text": [
      "2022-11-29 00:00:51,993 - generate_simulation_datasets.ipynb - WARNING - Specimen M418-S105, isotype IGHA, disease Covid19, GeneLocus.BCR: only had 14 sequences - skipping specimen\n"
     ]
    },
    {
     "name": "stderr",
     "output_type": "stream",
     "text": [
      "2022-11-29 00:00:52,214 - generate_simulation_datasets.ipynb - WARNING - Specimen M418-S105 from participant BFI-0009052, disease Covid19 will not be included due to missing/incomplete isotypes (in one or more gene loci).\n"
     ]
    },
    {
     "name": "stderr",
     "output_type": "stream",
     "text": [
      "2022-11-29 00:00:52,225 - generate_simulation_datasets.ipynb - WARNING - Specimen M418-S110, isotype IGHA, disease Covid19, GeneLocus.BCR: only had 2 sequences - skipping specimen\n"
     ]
    },
    {
     "name": "stderr",
     "output_type": "stream",
     "text": [
      "2022-11-29 00:00:52,529 - generate_simulation_datasets.ipynb - WARNING - Specimen M418-S110 from participant BFI-0009056, disease Covid19 will not be included due to missing/incomplete isotypes (in one or more gene loci).\n"
     ]
    },
    {
     "name": "stderr",
     "output_type": "stream",
     "text": [
      "2022-11-29 00:00:52,540 - generate_simulation_datasets.ipynb - WARNING - Specimen M418-S114, isotype IGHA, disease Covid19, GeneLocus.BCR: only had 21 sequences - skipping specimen\n"
     ]
    },
    {
     "name": "stderr",
     "output_type": "stream",
     "text": [
      "2022-11-29 00:00:52,844 - generate_simulation_datasets.ipynb - WARNING - Specimen M418-S114 from participant BFI-0009057, disease Covid19 will not be included due to missing/incomplete isotypes (in one or more gene loci).\n"
     ]
    },
    {
     "name": "stderr",
     "output_type": "stream",
     "text": [
      "2022-11-29 00:00:52,856 - generate_simulation_datasets.ipynb - WARNING - Specimen M418-S148, isotype IGHA, disease Covid19, GeneLocus.BCR: only had 46 sequences - skipping specimen\n"
     ]
    },
    {
     "name": "stderr",
     "output_type": "stream",
     "text": [
      "2022-11-29 00:00:53,151 - generate_simulation_datasets.ipynb - WARNING - Specimen M418-S148 from participant BFI-0009083, disease Covid19 will not be included due to missing/incomplete isotypes (in one or more gene loci).\n"
     ]
    },
    {
     "name": "stderr",
     "output_type": "stream",
     "text": [
      "2022-11-29 00:00:53,676 - generate_simulation_datasets.ipynb - INFO - Added specimen M418-S162 from participant BFI-0009093, disease Covid19\n"
     ]
    },
    {
     "name": "stderr",
     "output_type": "stream",
     "text": [
      "2022-11-29 00:00:54,054 - py.warnings - WARNING - /users/maximz/anaconda3/envs/cuda-env-py39/lib/python3.9/site-packages/anndata/_core/raw.py:139: FutureWarning: X.dtype being converted to np.float32 from float16. In the next version of anndata (0.9) conversion will not be automatic. Pass dtype explicitly to avoid this warning. Pass `AnnData(X, dtype=X.dtype, ...)` to get the future behavour.\n",
      "  return anndata.AnnData(\n",
      "\n"
     ]
    },
    {
     "name": "stderr",
     "output_type": "stream",
     "text": [
      "2022-11-29 00:00:54,205 - py.warnings - WARNING - /users/maximz/anaconda3/envs/cuda-env-py39/lib/python3.9/site-packages/anndata/_core/raw.py:139: FutureWarning: X.dtype being converted to np.float32 from float16. In the next version of anndata (0.9) conversion will not be automatic. Pass dtype explicitly to avoid this warning. Pass `AnnData(X, dtype=X.dtype, ...)` to get the future behavour.\n",
      "  return anndata.AnnData(\n",
      "\n"
     ]
    },
    {
     "name": "stderr",
     "output_type": "stream",
     "text": [
      "2022-11-29 00:00:55,018 - generate_simulation_datasets.ipynb - INFO - Fold -1-train_smaller, GeneLocus.BCR -> /users/maximz/code/boyd-immune-repertoire-classification/tests/snapshot/scaled_anndatas_dir/BCR/fold.-1.train_smaller.h5ad\n"
     ]
    },
    {
     "name": "stderr",
     "output_type": "stream",
     "text": [
      "2022-11-29 00:00:55,251 - generate_simulation_datasets.ipynb - INFO - Fold -1-train_smaller, GeneLocus.TCR -> /users/maximz/code/boyd-immune-repertoire-classification/tests/snapshot/scaled_anndatas_dir/TCR/fold.-1.train_smaller.h5ad\n"
     ]
    },
    {
     "name": "stderr",
     "output_type": "stream",
     "text": [
      "2022-11-29 00:00:56,359 - malid.external.scratch_cache - INFO - Reading network file from local machine cache: /users/maximz/code/boyd-immune-repertoire-classification/data/data_v_20221117/embedded/unirep_fine_tuned/anndatas_scaled/BCR/fold.-1.validation.h5ad -> /srv/scratch/maximz/cache/2919100142102324f2257538f64cd6727f40a9578b8e11b6d722857d.-1.validation.h5ad\n"
     ]
    },
    {
     "name": "stdout",
     "output_type": "stream",
     "text": [
      "WARNING: Your filename has more than two extensions: ['.-1', '.validation', '.h5ad'].\n",
      "Only considering the two last: ['.validation', '.h5ad'].\n"
     ]
    },
    {
     "name": "stdout",
     "output_type": "stream",
     "text": [
      "WARNING: Your filename has more than two extensions: ['.-1', '.validation', '.h5ad'].\n",
      "Only considering the two last: ['.validation', '.h5ad'].\n"
     ]
    },
    {
     "name": "stderr",
     "output_type": "stream",
     "text": [
      "2022-11-29 00:02:31,719 - malid.external.scratch_cache - INFO - Reading network file from local machine cache: /users/maximz/code/boyd-immune-repertoire-classification/data/data_v_20221117/embedded/unirep_fine_tuned/anndatas_scaled/TCR/fold.-1.validation.h5ad -> /srv/scratch/maximz/cache/c602d5100519931f6b73a9229008a0cbfb2e29a23d2a14e45479c787.-1.validation.h5ad\n"
     ]
    },
    {
     "name": "stdout",
     "output_type": "stream",
     "text": [
      "WARNING: Your filename has more than two extensions: ['.-1', '.validation', '.h5ad'].\n",
      "Only considering the two last: ['.validation', '.h5ad'].\n"
     ]
    },
    {
     "name": "stdout",
     "output_type": "stream",
     "text": [
      "WARNING: Your filename has more than two extensions: ['.-1', '.validation', '.h5ad'].\n",
      "Only considering the two last: ['.validation', '.h5ad'].\n"
     ]
    },
    {
     "name": "stderr",
     "output_type": "stream",
     "text": [
      "2022-11-29 00:04:45,182 - generate_simulation_datasets.ipynb - INFO - Added specimen M111-S037 from participant BFI-0000254, disease HIV\n"
     ]
    },
    {
     "name": "stderr",
     "output_type": "stream",
     "text": [
      "2022-11-29 00:04:47,198 - generate_simulation_datasets.ipynb - INFO - Added specimen M111-S055 from participant BFI-0000258, disease HIV\n"
     ]
    },
    {
     "name": "stderr",
     "output_type": "stream",
     "text": [
      "2022-11-29 00:04:47,200 - generate_simulation_datasets.ipynb - WARNING - Specimen M124-S070 from disease HIV will be skipped because we already have another specimen from same participant BFI-0000258\n"
     ]
    },
    {
     "name": "stderr",
     "output_type": "stream",
     "text": [
      "2022-11-29 00:04:47,967 - generate_simulation_datasets.ipynb - INFO - Added specimen M111-S042 from participant BFI-0002854, disease HIV\n"
     ]
    },
    {
     "name": "stderr",
     "output_type": "stream",
     "text": [
      "2022-11-29 00:04:57,386 - generate_simulation_datasets.ipynb - INFO - Added specimen M124-S037 from participant BFI-0002861, disease Healthy/Background\n"
     ]
    },
    {
     "name": "stderr",
     "output_type": "stream",
     "text": [
      "2022-11-29 00:04:58,507 - generate_simulation_datasets.ipynb - INFO - Added specimen M124-S035 from participant BFI-0002863, disease Healthy/Background\n"
     ]
    },
    {
     "name": "stderr",
     "output_type": "stream",
     "text": [
      "2022-11-29 00:04:59,432 - generate_simulation_datasets.ipynb - INFO - Added specimen M64-008 from participant BFI-0003057, disease Healthy/Background\n"
     ]
    },
    {
     "name": "stderr",
     "output_type": "stream",
     "text": [
      "2022-11-29 00:05:00,256 - generate_simulation_datasets.ipynb - WARNING - Specimen M404-S014 from disease Covid19 missing some isotypes altogether for GeneLocus.TCR - skipping specimen\n"
     ]
    },
    {
     "name": "stderr",
     "output_type": "stream",
     "text": [
      "2022-11-29 00:05:00,257 - generate_simulation_datasets.ipynb - WARNING - Specimen M404-S014 from participant BFI-0007784, disease Covid19 will not be included due to missing/incomplete isotypes (in one or more gene loci).\n"
     ]
    },
    {
     "name": "stderr",
     "output_type": "stream",
     "text": [
      "2022-11-29 00:05:00,539 - generate_simulation_datasets.ipynb - INFO - Added specimen M418-S231 from participant BFI-0009036, disease Covid19\n"
     ]
    },
    {
     "name": "stderr",
     "output_type": "stream",
     "text": [
      "2022-11-29 00:05:01,057 - generate_simulation_datasets.ipynb - INFO - Added specimen M418-S163 from participant BFI-0009094, disease Covid19\n"
     ]
    },
    {
     "name": "stderr",
     "output_type": "stream",
     "text": [
      "2022-11-29 00:05:01,078 - generate_simulation_datasets.ipynb - WARNING - Specimen M418-S182, isotype IGHA, disease Covid19, GeneLocus.BCR: only had 28 sequences - skipping specimen\n"
     ]
    },
    {
     "name": "stderr",
     "output_type": "stream",
     "text": [
      "2022-11-29 00:05:01,208 - generate_simulation_datasets.ipynb - WARNING - Specimen M418-S182 from participant BFI-0009110, disease Covid19 will not be included due to missing/incomplete isotypes (in one or more gene loci).\n"
     ]
    },
    {
     "name": "stderr",
     "output_type": "stream",
     "text": [
      "2022-11-29 00:05:01,521 - generate_simulation_datasets.ipynb - INFO - Added specimen M418-S007 from participant BFI-0009127, disease Covid19\n"
     ]
    },
    {
     "name": "stderr",
     "output_type": "stream",
     "text": [
      "2022-11-29 00:05:01,915 - py.warnings - WARNING - /users/maximz/anaconda3/envs/cuda-env-py39/lib/python3.9/site-packages/anndata/_core/raw.py:139: FutureWarning: X.dtype being converted to np.float32 from float16. In the next version of anndata (0.9) conversion will not be automatic. Pass dtype explicitly to avoid this warning. Pass `AnnData(X, dtype=X.dtype, ...)` to get the future behavour.\n",
      "  return anndata.AnnData(\n",
      "\n"
     ]
    },
    {
     "name": "stderr",
     "output_type": "stream",
     "text": [
      "2022-11-29 00:05:02,090 - py.warnings - WARNING - /users/maximz/anaconda3/envs/cuda-env-py39/lib/python3.9/site-packages/anndata/_core/raw.py:139: FutureWarning: X.dtype being converted to np.float32 from float16. In the next version of anndata (0.9) conversion will not be automatic. Pass dtype explicitly to avoid this warning. Pass `AnnData(X, dtype=X.dtype, ...)` to get the future behavour.\n",
      "  return anndata.AnnData(\n",
      "\n"
     ]
    },
    {
     "name": "stderr",
     "output_type": "stream",
     "text": [
      "2022-11-29 00:05:02,671 - generate_simulation_datasets.ipynb - INFO - Fold -1-validation, GeneLocus.BCR -> /users/maximz/code/boyd-immune-repertoire-classification/tests/snapshot/scaled_anndatas_dir/BCR/fold.-1.validation.h5ad\n"
     ]
    },
    {
     "name": "stderr",
     "output_type": "stream",
     "text": [
      "2022-11-29 00:05:02,733 - generate_simulation_datasets.ipynb - INFO - Fold -1-validation, GeneLocus.TCR -> /users/maximz/code/boyd-immune-repertoire-classification/tests/snapshot/scaled_anndatas_dir/TCR/fold.-1.validation.h5ad\n"
     ]
    }
   ],
   "source": [
    "copy_metadata(\n",
    "    destination_dir=config.paths.tests_snapshot_dir / \"dataset_specific_metadata\"\n",
    ")\n",
    "\n",
    "run(\n",
    "    output_dir_anndatas=config.paths.tests_snapshot_dir / \"scaled_anndatas_dir\",\n",
    "    gene_loci=config.gene_loci_used,\n",
    "    # in each fold:\n",
    "    n_specimens_per_disease=3,\n",
    "    # this is the required number of sequences _after_ filtering by V genes. since we are just doing end to end automated tests, we can keep this small\n",
    "    n_sequences_per_patient_per_isotype=50,\n",
    "    fraction_disease_specific=0.9,  # signal to noise ratio\n",
    "    scale_data=False,  # Don't scale, in order to save space. Handled after the fact (but independently for each fold label) in the test suite directly.\n",
    "    pca_n_comps=2,  # Reduce dimensions for testing. Technically we would want to scale before running PCA, but doesn't matter in this test example\n",
    "    diseases_kept=[healthy_label, \"HIV\", \"Covid19\"],\n",
    "    # in an effort to generate more convergent sequence clusters, let's filter down V genes\n",
    "    # v_genes_important_to_disease (if disease not listed here, it won't be filtered):\n",
    "    v_genes_kept=v_gene_filter,\n",
    "    write_csvs=False,\n",
    "    include_global_fold=True,\n",
    ")"
   ]
  },
  {
   "cell_type": "code",
   "execution_count": null,
   "metadata": {},
   "outputs": [],
   "source": []
  },
  {
   "cell_type": "markdown",
   "metadata": {},
   "source": [
    "# Generate simulation dataset\n",
    "\n"
   ]
  },
  {
   "cell_type": "code",
   "execution_count": 9,
   "metadata": {
    "execution": {
     "iopub.execute_input": "2022-11-29T00:05:03.313524Z",
     "iopub.status.busy": "2022-11-29T00:05:03.313163Z",
     "iopub.status.idle": "2022-11-29T00:05:03.322697Z",
     "shell.execute_reply": "2022-11-29T00:05:03.321566Z"
    },
    "lines_to_next_cell": 2
   },
   "outputs": [],
   "source": [
    "# # copy_metadata(destination_dir=config.paths.simulated_data_dir / \"metadata\")\n",
    "\n",
    "# for fraction_disease_specific in [0.25, 0.5, 0.75]:\n",
    "#     output_dir_anndatas = (\n",
    "#         config.paths.simulated_data_dir\n",
    "#         / f\"scaled_anndatas_{fraction_disease_specific:0.2f}\"\n",
    "#     )\n",
    "#     print(output_dir_anndatas)\n",
    "\n",
    "#     run(\n",
    "#         output_dir_anndatas=output_dir_anndatas,\n",
    "#         gene_loci=config.gene_loci_used,\n",
    "#         # in each fold:\n",
    "#         n_specimens_per_disease=10,\n",
    "#         n_sequences_per_patient_per_isotype=100,  # this is the required number of sequences _after_ filtering by V genes\n",
    "#         fraction_disease_specific=fraction_disease_specific,  # signal to noise ratio\n",
    "#         scale_data=True,\n",
    "#         store_raw_pre_scaling=True,\n",
    "#         pca_n_comps=10,  # or set to None to prevent dimensionality reduction\n",
    "#         diseases_kept=[healthy_label, \"HIV\", \"Covid19\"],\n",
    "#         # in an effort to generate more convergent sequence clusters, let's filter down V genes\n",
    "#         # v_genes_important_to_disease (if disease not listed here, it won't be filtered):\n",
    "#         v_genes_kept=v_gene_filter,\n",
    "#         write_csvs=True,\n",
    "#         include_global_fold=False,\n",
    "#     )"
   ]
  },
  {
   "cell_type": "code",
   "execution_count": null,
   "metadata": {},
   "outputs": [],
   "source": []
  },
  {
   "cell_type": "code",
   "execution_count": null,
   "metadata": {},
   "outputs": [],
   "source": []
  }
 ],
 "metadata": {
  "jupytext": {
   "cell_metadata_filter": "-all"
  },
  "kernelspec": {
   "display_name": "py39-cuda-env",
   "language": "python",
   "name": "py39-cuda-env"
  },
  "language_info": {
   "codemirror_mode": {
    "name": "ipython",
    "version": 3
   },
   "file_extension": ".py",
   "mimetype": "text/x-python",
   "name": "python",
   "nbconvert_exporter": "python",
   "pygments_lexer": "ipython3",
   "version": "3.9.13"
  }
 },
 "nbformat": 4,
 "nbformat_minor": 4
}
