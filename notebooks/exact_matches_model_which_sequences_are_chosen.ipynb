{
 "cells": [
  {
   "cell_type": "markdown",
   "metadata": {},
   "source": [
    "Questions:\n",
    "\n",
    "- How many sequences chosen by ExactMatchesClassifier match the known binders database? (scalar value, for each fold and locus)\n",
    "- How many sequences chosen by ExactMatchesClassifier match model2's chosen centroids? (scalar value, for each fold and locus)"
   ]
  },
  {
   "cell_type": "code",
   "execution_count": null,
   "metadata": {},
   "outputs": [],
   "source": []
  },
  {
   "cell_type": "code",
   "execution_count": 1,
   "metadata": {
    "execution": {
     "iopub.execute_input": "2023-01-12T23:02:31.108655Z",
     "iopub.status.busy": "2023-01-12T23:02:31.108014Z",
     "iopub.status.idle": "2023-01-12T23:02:32.577266Z",
     "shell.execute_reply": "2023-01-12T23:02:32.575313Z"
    }
   },
   "outputs": [],
   "source": [
    "import numpy as np\n",
    "import pandas as pd"
   ]
  },
  {
   "cell_type": "code",
   "execution_count": 2,
   "metadata": {
    "execution": {
     "iopub.execute_input": "2023-01-12T23:02:32.585055Z",
     "iopub.status.busy": "2023-01-12T23:02:32.584350Z",
     "iopub.status.idle": "2023-01-12T23:02:39.002689Z",
     "shell.execute_reply": "2023-01-12T23:02:39.001518Z"
    }
   },
   "outputs": [],
   "source": [
    "from malid import config, interpretation\n",
    "from malid.datamodels import GeneLocus, TargetObsColumnEnum\n",
    "from malid.trained_model_wrappers import (\n",
    "    ConvergentClusterClassifier,\n",
    "    ExactMatchesClassifier,\n",
    ")"
   ]
  },
  {
   "cell_type": "code",
   "execution_count": null,
   "metadata": {},
   "outputs": [],
   "source": []
  },
  {
   "cell_type": "code",
   "execution_count": 3,
   "metadata": {
    "execution": {
     "iopub.execute_input": "2023-01-12T23:02:39.006544Z",
     "iopub.status.busy": "2023-01-12T23:02:39.006254Z",
     "iopub.status.idle": "2023-01-12T23:02:39.011683Z",
     "shell.execute_reply": "2023-01-12T23:02:39.011105Z"
    }
   },
   "outputs": [],
   "source": [
    "def extract_covid_sequence_list(clf: ExactMatchesClassifier):\n",
    "    p_value = clf.p_value_threshold\n",
    "    seqs = clf.sequences_with_fisher_result\n",
    "    return (\n",
    "        clf_exact_matches.sequences_with_fisher_result[\"Covid19\"][\n",
    "            clf_exact_matches.sequences_with_fisher_result[\"Covid19\"]\n",
    "            <= clf_exact_matches.p_value_threshold\n",
    "        ]\n",
    "        .index.to_frame()\n",
    "        .reset_index(drop=True)\n",
    "    )"
   ]
  },
  {
   "cell_type": "code",
   "execution_count": 4,
   "metadata": {
    "execution": {
     "iopub.execute_input": "2023-01-12T23:02:39.014018Z",
     "iopub.status.busy": "2023-01-12T23:02:39.013804Z",
     "iopub.status.idle": "2023-01-12T23:02:39.022196Z",
     "shell.execute_reply": "2023-01-12T23:02:39.021648Z"
    }
   },
   "outputs": [],
   "source": [
    "def extract_covid_cluster_list(clf: ConvergentClusterClassifier):\n",
    "    # Get all clusters\n",
    "    model2_cluster_class_associations = (\n",
    "        clf.cluster_centroids_with_class_specific_p_values\n",
    "    )\n",
    "\n",
    "    # Melt to columns = [cluster_dominant_label, p_value], but first move consensus_sequence into the set of index columns\n",
    "    # TODO(refactor): this reset_index().set_index() operation is quite slow\n",
    "    model2_cluster_class_associations = (\n",
    "        model2_cluster_class_associations.reset_index()\n",
    "        .set_index(\n",
    "            list(model2_cluster_class_associations.index.names) + [\"consensus_sequence\"]\n",
    "        )\n",
    "        .melt(\n",
    "            # preserve index\n",
    "            ignore_index=False,\n",
    "            var_name=\"cluster_dominant_label\",\n",
    "            value_name=\"p_value\",\n",
    "        )\n",
    "    )\n",
    "\n",
    "    # Filter to clusters associated with each class\n",
    "    model2_cluster_class_associations = model2_cluster_class_associations[\n",
    "        model2_cluster_class_associations[\"p_value\"] <= clf.p_value_threshold\n",
    "    ]\n",
    "\n",
    "    # Filter to Covid predictive cluster centroids only\n",
    "    disease_clusters_from_model2 = model2_cluster_class_associations[\n",
    "        model2_cluster_class_associations[\"cluster_dominant_label\"] == \"Covid19\"\n",
    "    ]\n",
    "\n",
    "    return disease_clusters_from_model2"
   ]
  },
  {
   "cell_type": "code",
   "execution_count": 5,
   "metadata": {
    "execution": {
     "iopub.execute_input": "2023-01-12T23:02:39.024332Z",
     "iopub.status.busy": "2023-01-12T23:02:39.024127Z",
     "iopub.status.idle": "2023-01-12T23:02:39.028341Z",
     "shell.execute_reply": "2023-01-12T23:02:39.027811Z"
    }
   },
   "outputs": [],
   "source": [
    "def score_sequences(sequences, cluster_centroids_by_supergroup, gene_locus):\n",
    "    # Assign each test sequence to known cluster with nearest centroid, if possible\n",
    "    return ConvergentClusterClassifier._assign_sequences_to_known_clusters(\n",
    "        df=sequences,\n",
    "        cluster_centroids_by_supergroup=cluster_centroids_by_supergroup,\n",
    "        sequence_identity_threshold=config.sequence_identity_thresholds.assign_test_sequences_to_clusters[\n",
    "            gene_locus\n",
    "        ],\n",
    "        validate_same_fold_id_and_label=False,\n",
    "    )"
   ]
  },
  {
   "cell_type": "code",
   "execution_count": null,
   "metadata": {},
   "outputs": [],
   "source": []
  },
  {
   "cell_type": "code",
   "execution_count": null,
   "metadata": {},
   "outputs": [],
   "source": []
  },
  {
   "cell_type": "code",
   "execution_count": 6,
   "metadata": {
    "execution": {
     "iopub.execute_input": "2023-01-12T23:02:39.030752Z",
     "iopub.status.busy": "2023-01-12T23:02:39.030427Z",
     "iopub.status.idle": "2023-01-12T23:02:39.040409Z",
     "shell.execute_reply": "2023-01-12T23:02:39.039883Z"
    }
   },
   "outputs": [
    {
     "data": {
      "text/plain": [
       "'lasso_multiclass'"
      ]
     },
     "execution_count": 6,
     "metadata": {},
     "output_type": "execute_result"
    }
   ],
   "source": [
    "ConvergentClusterClassifier_modelname = (\n",
    "    config.metamodel_base_model_names.model_name_convergent_clustering\n",
    ")\n",
    "ExactMatchesClassifier_modelname = ConvergentClusterClassifier_modelname\n",
    "target_obs_column: TargetObsColumnEnum = TargetObsColumnEnum.disease\n",
    "\n",
    "ConvergentClusterClassifier_modelname"
   ]
  },
  {
   "cell_type": "code",
   "execution_count": null,
   "metadata": {},
   "outputs": [],
   "source": []
  },
  {
   "cell_type": "code",
   "execution_count": 7,
   "metadata": {
    "execution": {
     "iopub.execute_input": "2023-01-12T23:02:39.042804Z",
     "iopub.status.busy": "2023-01-12T23:02:39.042597Z",
     "iopub.status.idle": "2023-01-12T23:04:08.711574Z",
     "shell.execute_reply": "2023-01-12T23:04:08.710385Z"
    }
   },
   "outputs": [
    {
     "name": "stdout",
     "output_type": "stream",
     "text": [
      "GeneLocus.BCR, fold 0:\n",
      "==============================\n",
      "How many Covid19-predictive sequences chosen by ExactMatchesClassifier match the known binders database? 23.91%\n",
      "Unmatched    35\n",
      "Matched      11\n",
      "Name: cluster_id_within_clustering_group, dtype: int64\n",
      "\n",
      "How many Covid19-predictive sequences chosen by ExactMatchesClassifier match Covid19-predictive clusters chosen by ConvergentClusterClassifier? 30.43%\n",
      "Unmatched    32\n",
      "Matched      14\n",
      "Name: cluster_id_within_clustering_group, dtype: int64\n",
      "\n",
      "************************************************************\n",
      "\n"
     ]
    },
    {
     "name": "stdout",
     "output_type": "stream",
     "text": [
      "GeneLocus.BCR, fold 1:\n",
      "==============================\n",
      "How many Covid19-predictive sequences chosen by ExactMatchesClassifier match the known binders database? 16.00%\n",
      "Unmatched    42\n",
      "Matched       8\n",
      "Name: cluster_id_within_clustering_group, dtype: int64\n",
      "\n",
      "How many Covid19-predictive sequences chosen by ExactMatchesClassifier match Covid19-predictive clusters chosen by ConvergentClusterClassifier? 54.00%\n",
      "Matched      27\n",
      "Unmatched    23\n",
      "Name: cluster_id_within_clustering_group, dtype: int64\n",
      "\n",
      "************************************************************\n",
      "\n"
     ]
    },
    {
     "name": "stdout",
     "output_type": "stream",
     "text": [
      "GeneLocus.BCR, fold 2:\n",
      "==============================\n",
      "How many Covid19-predictive sequences chosen by ExactMatchesClassifier match the known binders database? 6.67%\n",
      "Unmatched    14\n",
      "Matched       1\n",
      "Name: cluster_id_within_clustering_group, dtype: int64\n",
      "\n",
      "How many Covid19-predictive sequences chosen by ExactMatchesClassifier match Covid19-predictive clusters chosen by ConvergentClusterClassifier? 66.67%\n",
      "Matched      10\n",
      "Unmatched     5\n",
      "Name: cluster_id_within_clustering_group, dtype: int64\n",
      "\n",
      "************************************************************\n",
      "\n"
     ]
    },
    {
     "name": "stdout",
     "output_type": "stream",
     "text": [
      "GeneLocus.BCR, fold -1:\n",
      "==============================\n",
      "How many Covid19-predictive sequences chosen by ExactMatchesClassifier match the known binders database? 15.97%\n",
      "Unmatched    100\n",
      "Matched       19\n",
      "Name: cluster_id_within_clustering_group, dtype: int64\n",
      "\n",
      "How many Covid19-predictive sequences chosen by ExactMatchesClassifier match Covid19-predictive clusters chosen by ConvergentClusterClassifier? 38.66%\n",
      "Unmatched    73\n",
      "Matched      46\n",
      "Name: cluster_id_within_clustering_group, dtype: int64\n",
      "\n",
      "************************************************************\n",
      "\n"
     ]
    },
    {
     "name": "stderr",
     "output_type": "stream",
     "text": [
      "2023-01-12 23:03:17,642 - py.warnings - WARNING - /users/maximz/code/boyd-immune-repertoire-classification/malid/interpretation.py:2030: DtypeWarning: Columns (18,36,38) have mixed types. Specify dtype option on import or set low_memory=False.\n",
      "  train_sequences_df = pd.read_csv(\n",
      "\n"
     ]
    },
    {
     "name": "stdout",
     "output_type": "stream",
     "text": [
      "GeneLocus.TCR, fold 0:\n",
      "==============================\n",
      "How many Covid19-predictive sequences chosen by ExactMatchesClassifier match the known binders database? 0.00%\n",
      "Unmatched    1\n",
      "Name: cluster_id_within_clustering_group, dtype: int64\n",
      "\n",
      "How many Covid19-predictive sequences chosen by ExactMatchesClassifier match Covid19-predictive clusters chosen by ConvergentClusterClassifier? 100.00%\n",
      "Matched    1\n",
      "Name: cluster_id_within_clustering_group, dtype: int64\n",
      "\n",
      "************************************************************\n",
      "\n"
     ]
    },
    {
     "name": "stdout",
     "output_type": "stream",
     "text": [
      "GeneLocus.TCR, fold 1:\n",
      "==============================\n",
      "How many Covid19-predictive sequences chosen by ExactMatchesClassifier match the known binders database? 0.00%\n",
      "Unmatched    12\n",
      "Name: cluster_id_within_clustering_group, dtype: int64\n",
      "\n",
      "How many Covid19-predictive sequences chosen by ExactMatchesClassifier match Covid19-predictive clusters chosen by ConvergentClusterClassifier? 58.33%\n",
      "Matched      7\n",
      "Unmatched    5\n",
      "Name: cluster_id_within_clustering_group, dtype: int64\n",
      "\n",
      "************************************************************\n",
      "\n"
     ]
    },
    {
     "name": "stdout",
     "output_type": "stream",
     "text": [
      "GeneLocus.TCR, fold 2:\n",
      "==============================\n",
      "How many Covid19-predictive sequences chosen by ExactMatchesClassifier match the known binders database? 6.94%\n",
      "Unmatched    134\n",
      "Matched       10\n",
      "Name: cluster_id_within_clustering_group, dtype: int64\n",
      "\n",
      "How many Covid19-predictive sequences chosen by ExactMatchesClassifier match Covid19-predictive clusters chosen by ConvergentClusterClassifier? 34.72%\n",
      "Unmatched    94\n",
      "Matched      50\n",
      "Name: cluster_id_within_clustering_group, dtype: int64\n",
      "\n",
      "************************************************************\n",
      "\n"
     ]
    },
    {
     "name": "stdout",
     "output_type": "stream",
     "text": [
      "GeneLocus.TCR, fold -1:\n",
      "==============================\n",
      "How many Covid19-predictive sequences chosen by ExactMatchesClassifier match the known binders database? 14.29%\n",
      "Unmatched    18\n",
      "Matched       3\n",
      "Name: cluster_id_within_clustering_group, dtype: int64\n",
      "\n",
      "How many Covid19-predictive sequences chosen by ExactMatchesClassifier match Covid19-predictive clusters chosen by ConvergentClusterClassifier? 42.86%\n",
      "Unmatched    12\n",
      "Matched       9\n",
      "Name: cluster_id_within_clustering_group, dtype: int64\n",
      "\n",
      "************************************************************\n",
      "\n"
     ]
    }
   ],
   "source": [
    "for gene_locus in config.gene_loci_used:\n",
    "    # Load known binders\n",
    "    (\n",
    "        known_binders_df,\n",
    "        known_binder_cluster_centroids_by_supergroup,\n",
    "    ) = interpretation.load_reference_dataset(gene_locus)\n",
    "\n",
    "    for fold_id in config.all_fold_ids:\n",
    "        # Load models\n",
    "        clf_exact_matches = ExactMatchesClassifier(\n",
    "            fold_id=fold_id,\n",
    "            model_name=ExactMatchesClassifier_modelname,\n",
    "            fold_label_train=\"train_smaller\",\n",
    "            gene_locus=gene_locus,\n",
    "            target_obs_column=target_obs_column,\n",
    "        )\n",
    "        clf_model2 = ConvergentClusterClassifier(\n",
    "            fold_id=fold_id,\n",
    "            model_name=ConvergentClusterClassifier_modelname,\n",
    "            fold_label_train=\"train_smaller\",\n",
    "            gene_locus=gene_locus,\n",
    "            target_obs_column=target_obs_column,\n",
    "        )\n",
    "\n",
    "        # Extract list of predictive sequences from ExactMatchesClassifier\n",
    "        covid_sequences_from_exact_matches_model = extract_covid_sequence_list(\n",
    "            clf_exact_matches\n",
    "        )\n",
    "\n",
    "        # Extract list of predictive clusters from model 2\n",
    "        covid_clusters_from_model2 = extract_covid_cluster_list(clf_model2)\n",
    "\n",
    "        # Assign Covid19-predictive sequences from ExactMatchesClassifier to known binder DB entries (clusters of near-dupe known binder sequences)\n",
    "        exactmatches_sequences_matched_to_known_binders = score_sequences(\n",
    "            covid_sequences_from_exact_matches_model,\n",
    "            known_binder_cluster_centroids_by_supergroup,\n",
    "            gene_locus,\n",
    "        )\n",
    "\n",
    "        # Assign Covid19-predictive sequences from ExactMatchesClassifier to Covid19-predictive clusters from ConvergentClusterClassifier\n",
    "        exactmatches_sequences_matched_to_model2_clusters = score_sequences(\n",
    "            covid_sequences_from_exact_matches_model,\n",
    "            ConvergentClusterClassifier._wrap_cluster_centroids_as_dict_by_supergroup(\n",
    "                covid_clusters_from_model2\n",
    "            ),\n",
    "            gene_locus,\n",
    "        )\n",
    "\n",
    "        print(f\"{gene_locus}, fold {fold_id}:\")\n",
    "        print(\"=\" * 30)\n",
    "\n",
    "        exactmatches_sequences_matched_to_known_binders_summary = (\n",
    "            exactmatches_sequences_matched_to_known_binders[\n",
    "                \"cluster_id_within_clustering_group\"\n",
    "            ]\n",
    "            .isna()\n",
    "            .replace({True: \"Unmatched\", False: \"Matched\"})\n",
    "        )\n",
    "        print(\n",
    "            \"How many Covid19-predictive sequences chosen by ExactMatchesClassifier match the known binders database? \"\n",
    "            + f\"{exactmatches_sequences_matched_to_known_binders_summary.value_counts(normalize=True).reindex(['Unmatched', 'Matched'], fill_value=0).loc['Matched']:0.2%}\"\n",
    "        )\n",
    "        print(exactmatches_sequences_matched_to_known_binders_summary.value_counts())\n",
    "        print()\n",
    "\n",
    "        exactmatches_sequences_matched_to_model2_clusters_summary = (\n",
    "            exactmatches_sequences_matched_to_model2_clusters[\n",
    "                \"cluster_id_within_clustering_group\"\n",
    "            ]\n",
    "            .isna()\n",
    "            .replace({True: \"Unmatched\", False: \"Matched\"})\n",
    "        )\n",
    "        print(\n",
    "            \"How many Covid19-predictive sequences chosen by ExactMatchesClassifier match Covid19-predictive clusters chosen by ConvergentClusterClassifier? \"\n",
    "            + f\"{exactmatches_sequences_matched_to_model2_clusters_summary.value_counts(normalize=True).reindex(['Unmatched', 'Matched'], fill_value=0).loc['Matched']:0.2%}\"\n",
    "        )\n",
    "        print(exactmatches_sequences_matched_to_model2_clusters_summary.value_counts())\n",
    "        print()\n",
    "\n",
    "        print(\"*\" * 60)\n",
    "        print()"
   ]
  },
  {
   "cell_type": "code",
   "execution_count": null,
   "metadata": {},
   "outputs": [],
   "source": []
  },
  {
   "cell_type": "code",
   "execution_count": null,
   "metadata": {},
   "outputs": [],
   "source": []
  },
  {
   "cell_type": "code",
   "execution_count": null,
   "metadata": {},
   "outputs": [],
   "source": []
  },
  {
   "cell_type": "code",
   "execution_count": null,
   "metadata": {},
   "outputs": [],
   "source": []
  },
  {
   "cell_type": "code",
   "execution_count": null,
   "metadata": {},
   "outputs": [],
   "source": []
  },
  {
   "cell_type": "code",
   "execution_count": null,
   "metadata": {},
   "outputs": [],
   "source": []
  }
 ],
 "metadata": {
  "jupytext": {
   "cell_metadata_filter": "-all"
  },
  "kernelspec": {
   "display_name": "py39-cuda-env",
   "language": "python",
   "name": "py39-cuda-env"
  },
  "language_info": {
   "codemirror_mode": {
    "name": "ipython",
    "version": 3
   },
   "file_extension": ".py",
   "mimetype": "text/x-python",
   "name": "python",
   "nbconvert_exporter": "python",
   "pygments_lexer": "ipython3",
   "version": "3.9.13"
  }
 },
 "nbformat": 4,
 "nbformat_minor": 4
}
