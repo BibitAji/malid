{
 "cells": [
  {
   "cell_type": "markdown",
   "metadata": {},
   "source": [
    "# Abandoned attempt with kBET's R package and scib Python wrapper\n",
    "\n",
    "We first tried to run kBET through R and a Python wrapper.\n",
    "\n",
    "Resources:\n",
    "\n",
    "- https://github.com/theislab/scib-pipeline/blob/b2ddba53016fb0574c37fed0c45cc0c490bdac7c/envs/create_conda_environments.sh\n",
    "- https://github.com/theislab/scib-pipeline/blob/b2ddba53016fb0574c37fed0c45cc0c490bdac7c/envs/scib-pipeline-R4.0.yml\n",
    "- https://github.com/theislab/scib-pipeline/blob/b2ddba53016fb0574c37fed0c45cc0c490bdac7c/envs/env_vars_activate.sh\n",
    "- https://github.com/theislab/scib-pipeline/blob/b2ddba53016fb0574c37fed0c45cc0c490bdac7c/scripts/metrics/metrics.py\n",
    "- https://github.com/theislab/scib/blob/77ab015254754baa5ca3380bd592bcc9207241de/docs/source/installation.rst\n",
    "- https://github.com/theislab/scib/blob/77ab015254754baa5ca3380bd592bcc9207241de/scib/metrics/kbet.py\n",
    "- https://github.com/theislab/scib/blob/77ab015254754baa5ca3380bd592bcc9207241de/scib/metrics/metrics.py\n",
    "- https://github.com/theislab/kBET/blob/f35171dfb04c7951b8a09ac778faf7424c4b6bc0/R/kBET-utils.R#L49\n",
    "- https://github.com/theislab/kBET/blob/f35171dfb04c7951b8a09ac778faf7424c4b6bc0/R/kBET.R#L328\n",
    "\n",
    "\n",
    "Environment setup within our main conda environment:\n",
    "\n",
    "```bash\n",
    "conda activate cuda-env-py39; # as usual\n",
    "# install R and packages\n",
    "mamba install -c conda-forge r-base=4.1 r-essentials r-devtools r-stringi rpy2 -y;\n",
    "R --version # 4.1.1\n",
    "Rscript --version # 4.1.1\n",
    "R -e 'install.packages(\"tidyverse\",repos = \"http://cran.us.r-project.org\")'\n",
    "Rscript -e \"remotes::install_github('theislab/kBET')\"\n",
    "pip install 'scib[rpy2] == 1.0.4'\n",
    "```\n",
    "\n",
    "The test we ran:\n",
    "\n",
    "```python\n",
    "# set env for rpy2. see https://github.com/theislab/scib-pipeline/blob/main/envs/env_vars_activate.sh\n",
    "import os, subprocess\n",
    "\n",
    "# in notebook, conda environment belonging to the kernel is not active in env vars, so have to set CONDA_PREFIX manually:\n",
    "os.environ['CONDA_PREFIX'] = os.path.expandvars(\"$HOME/anaconda3/envs/cuda-env-py39\")\n",
    "\n",
    "os.environ[\"CFLAGS\"] = subprocess.getoutput(\"gsl-config --cflags\")\n",
    "os.environ[\"LDFLAGS\"] = subprocess.getoutput(\"gsl-config --libs\")\n",
    "os.environ[\"LD_LIBRARY_PATH\"] = os.path.expandvars(\"${CONDA_PREFIX}/lib/R/lib/\")\n",
    "os.environ[\"QT_QPA_PLATFORM\"] = \"offscreen\"\n",
    "os.environ[\"R_HOME\"] = os.path.expandvars(\"${CONDA_PREFIX}/lib/R\")\n",
    "os.environ[\"R_LIBS\"] = \"\"\n",
    "\n",
    "import rpy2 # v3.5.1\n",
    "import rpy2.robjects as robjects # this will fail if os.environ not set right\n",
    "from scib.metrics.kbet import kBET\n",
    "print(kBET.__doc__)\n",
    "\n",
    "# go with \"full\" type (https://github.com/theislab/scib-pipeline/blob/75ae100cf158191ee9097750e658b2f822cc837b/scripts/metrics/metrics.py#L27)\n",
    "type_ = 'full'\n",
    "embed = 'X_pca'\n",
    "verbose = True\n",
    "scaled=False # see kBET.__doc__: make it so that 0 means optimal batch mixing and 1 means low batch mixing, as described in paper\n",
    "\n",
    "from malid import io\n",
    "from malid.datamodels import GeneLocus, TargetObsColumnEnum\n",
    "adata=io.load_fold_embeddings(\n",
    "    fold_id=0,\n",
    "    fold_label='test',\n",
    "    gene_locus=GeneLocus.BCR,\n",
    "    target_obs_column=TargetObsColumnEnum.disease\n",
    ")\n",
    "batch_key = \"study_name\"\n",
    "label_key = \"disease\"\n",
    "kbet_scores_df = kBET(\n",
    "    adata=adata,\n",
    "    batch_key=batch_key,\n",
    "    label_key=label_key,\n",
    "    type_=type_,\n",
    "    embed=embed,\n",
    "    scaled=scaled,\n",
    "    verbose=verbose,\n",
    "    return_df=True\n",
    ")\n",
    "kbet_scores_df\n",
    "final_score = np.nanmean(kbet_scores_df[\"kBET\"])\n",
    "final_score = 1 - final_score if scaled else final_score\n",
    "final_score\n",
    "```\n",
    "\n",
    "The problem: very slow compute. Our datasets are ~15x the max dataset size at which the scib benchmarking code disables kBET."
   ]
  },
  {
   "cell_type": "code",
   "execution_count": null,
   "metadata": {},
   "outputs": [],
   "source": []
  },
  {
   "cell_type": "markdown",
   "metadata": {},
   "source": [
    "# Reimplementation\n",
    "\n",
    "Instead we will reimplement based on this partial PR: https://github.com/scverse/scanpy/pull/364"
   ]
  },
  {
   "cell_type": "code",
   "execution_count": null,
   "metadata": {},
   "outputs": [],
   "source": []
  },
  {
   "cell_type": "markdown",
   "metadata": {},
   "source": [
    "kBET:\n",
    "\n",
    "- from https://www.nature.com/articles/s41592-018-0254-1:\n",
    "\n",
    "> In a dataset with replicates and no batch effects, the proportions of the batch labels in any neighborhood do not differ from the global distribution. In a replicated dataset with batch effects, data points from respective batches tend to cluster with their ‘peers’, and batch label proportions differ considerably between arbitrarily chosen neighborhoods\n",
    "\n",
    "> Intuitively, a replicated experiment is well mixed if a subset of neighboring samples (e.g., single-cell transcriptomic data points) has the same distribution of batch labels as the full dataset.\n",
    ">\n",
    "> In contrast, a repetition of the experiment with some bias is expected to yield a skewed distribution of batch labels across the dataset.\n",
    ">\n",
    "> kBET uses a χ2-based test for random neighborhoods of fixed size to determine whether they are well mixed, followed by averaging of the binary test results to return an overall rejection rate. This result is easy to interpret: low rejection rates imply well-mixed replicates.\n",
    "\n",
    "- from https://www.nature.com/articles/s41592-021-01336-8:\n",
    "\n",
    "> The kBET algorithm (v.0.99.6, release 4c9dafa) determines whether the label composition of a k nearest neighborhood of a cell is similar to the expected (global) label composition. The test is repeated for a random subset of cells, and the results are summarized as a rejection rate over all tested neighborhoods.\n",
    "\n",
    "> We applied kBET separately on the batch variable for each cell identity label. Using the kBET defaults, a k equal to the median of the number of cells per batch within each label was used for this computation. Additionally, we set the minimum and maximum thresholds of k to 10 and 100, respectively. As kNN graphs that have been subset by cell identity labels may no longer be connected, we computed kBET per connected component. If >25% of cells were assigned to connected components too small for kBET computation (smaller than k × 3), we assigned a kBET score of 1 to denote poor batch removal. Subsequently, kBET scores for each label were averaged and subtracted from 1 to give a final kBET score.\n"
   ]
  },
  {
   "cell_type": "code",
   "execution_count": null,
   "metadata": {},
   "outputs": [],
   "source": []
  },
  {
   "cell_type": "code",
   "execution_count": 1,
   "metadata": {
    "execution": {
     "iopub.execute_input": "2023-01-04T20:01:18.809632Z",
     "iopub.status.busy": "2023-01-04T20:01:18.808714Z",
     "iopub.status.idle": "2023-01-04T20:01:34.616597Z",
     "shell.execute_reply": "2023-01-04T20:01:34.614331Z"
    }
   },
   "outputs": [],
   "source": [
    "import numpy as np\n",
    "import pandas as pd\n",
    "import matplotlib.pyplot as plt\n",
    "\n",
    "%matplotlib inline\n",
    "import seaborn as sns\n",
    "from scipy.stats import chisquare\n",
    "from statsmodels.stats.multitest import multipletests\n",
    "import anndata\n",
    "from kdict import kdict\n",
    "import gc\n",
    "from IPython.display import display"
   ]
  },
  {
   "cell_type": "code",
   "execution_count": 2,
   "metadata": {
    "execution": {
     "iopub.execute_input": "2023-01-04T20:01:34.625992Z",
     "iopub.status.busy": "2023-01-04T20:01:34.625033Z",
     "iopub.status.idle": "2023-01-04T20:01:38.253113Z",
     "shell.execute_reply": "2023-01-04T20:01:38.250645Z"
    }
   },
   "outputs": [],
   "source": [
    "from malid import io, helpers, logger, config\n",
    "from malid.datamodels import GeneLocus, TargetObsColumnEnum"
   ]
  },
  {
   "cell_type": "code",
   "execution_count": 3,
   "metadata": {
    "execution": {
     "iopub.execute_input": "2023-01-04T20:01:38.262667Z",
     "iopub.status.busy": "2023-01-04T20:01:38.261906Z",
     "iopub.status.idle": "2023-01-04T20:01:57.179773Z",
     "shell.execute_reply": "2023-01-04T20:01:57.176176Z"
    },
    "lines_to_next_cell": 1
   },
   "outputs": [],
   "source": [
    "# Use GPU for kNN construction and queries\n",
    "import choosegpu\n",
    "\n",
    "choosegpu.configure_gpu(enable=True)\n",
    "\n",
    "# Then import relevant methods\n",
    "from malid.knn import _fit_knn_index, _get_neighbors"
   ]
  },
  {
   "cell_type": "code",
   "execution_count": null,
   "metadata": {},
   "outputs": [],
   "source": []
  },
  {
   "cell_type": "code",
   "execution_count": null,
   "metadata": {},
   "outputs": [],
   "source": []
  },
  {
   "cell_type": "code",
   "execution_count": null,
   "metadata": {},
   "outputs": [],
   "source": []
  },
  {
   "cell_type": "code",
   "execution_count": null,
   "metadata": {},
   "outputs": [],
   "source": []
  },
  {
   "cell_type": "code",
   "execution_count": 4,
   "metadata": {
    "execution": {
     "iopub.execute_input": "2023-01-04T20:01:57.195435Z",
     "iopub.status.busy": "2023-01-04T20:01:57.191382Z",
     "iopub.status.idle": "2023-01-04T20:01:57.230319Z",
     "shell.execute_reply": "2023-01-04T20:01:57.228447Z"
    }
   },
   "outputs": [],
   "source": [
    "def kbet(\n",
    "    adata: anndata.AnnData,\n",
    "    batch_key: str,\n",
    "    label_key: str,\n",
    "    significance_threshold_alpha=0.05,\n",
    "):\n",
    "    \"\"\"\n",
    "    kBET reimplementation.\n",
    "    Returns average-rejection-rate averages across labels; average rejection rate by label; all corrected p values for each label (not in same order as anndata obs)\n",
    "    \"\"\"\n",
    "    rejection_rates_by_label = {}\n",
    "    corrected_p_values_by_label = {}\n",
    "\n",
    "    # Group by label_key\n",
    "    # kBET is computed separately for each cell identity label, and only considers connections between cells of the same identity.\n",
    "    for label, adata_label in helpers.anndata_groupby_obs(\n",
    "        adata, label_key, observed=True\n",
    "    ):\n",
    "        batch_sizes = adata_label.obs[batch_key].value_counts()\n",
    "        if batch_sizes.index.shape[0] == 1:\n",
    "            logger.info(\n",
    "                f\"Skipping {label_key}={label} because it has only one {batch_key} batch\"\n",
    "            )\n",
    "            continue\n",
    "\n",
    "        # Choose neighborhood size, based on heuristics in kBET and scib\n",
    "        neighborhood_size = batch_sizes.mean() // 4\n",
    "        neighborhood_size = min([50, max([10, neighborhood_size])])\n",
    "        # We also considered these alternative options:\n",
    "        # \"a k equal to the median of the number of cells per batch within each label was used for this computation.\n",
    "        # Additionally, we set the minimum and maximum thresholds of k to 10 and 100, respectively.\"\n",
    "        # We also saw clipping between 10 and int(batch_sizes.mean() * 3/4)\n",
    "        # None of these make too much sense for our case where we have batch sizes in the tens of thousands\n",
    "        # Everything will default to 50. (70 was the chosen default in some implementations we saw)\n",
    "\n",
    "        # But we are keeping this sanity-check on the size from other implementations, though it doesn't seem that important:\n",
    "        size_max = np.iinfo(np.int32).max\n",
    "        if neighborhood_size * adata_label.shape[0] >= size_max:\n",
    "            neighborhood_size = size_max // adata_label.shape[0]\n",
    "\n",
    "        # Unlike kBET, we are just going to run once with a fixed neighborhood size\n",
    "        logger.info(\n",
    "            f\"Running kBET on {label_key}={label} with neighborhood size {neighborhood_size} (based on batch sizes {batch_sizes.to_dict()})\"\n",
    "        )\n",
    "\n",
    "        # Compute separate kNN graph for each identity subset\n",
    "        # Note: the kBET and scib-benchmarking implementations compute a global kNN graph with cells of all identity labels, then subset it for each cell identity label. This means they have to deal with edge cases when the graph is no longer connected, so it looks like they end up running on each strongly connected component separately.\n",
    "        # It seems like it’d be easier to just build a separate kNN graph for each cell identity label. However, this might connect cells that would otherwise be disconnected if they live in neighborhoods dominated by other cell identity labels. For the purpose of measuring batch integration within each cell identity label, I’m not sure this is a problem.\n",
    "        # We will instead build separate kNN graphs for each identity-label subset of cells\n",
    "\n",
    "        # Build kNN index\n",
    "        knn_index = _fit_knn_index(X=adata_label.obsm[\"X_pca\"])\n",
    "\n",
    "        # Query kNN index\n",
    "        neighbor_links_df = _get_neighbors(\n",
    "            knn_index=knn_index,\n",
    "            data_X_contiguous=adata_label.obsm[\"X_pca\"],\n",
    "            n_neighbors=neighborhood_size,\n",
    "        )\n",
    "\n",
    "        # Note when merging:\n",
    "        # center_id and neighbor_id are integer ilocs (within adata_label), not obs_names / locs\n",
    "\n",
    "        # prepare to merge by iloc later: create sequence_info that includes the integer index\n",
    "        sequence_info = adata_label.obs[[batch_key, label_key]].reset_index(drop=True)\n",
    "        # make columns catgegorical:\n",
    "        sequence_info[batch_key] = sequence_info[batch_key].astype(\"category\")\n",
    "        sequence_info[label_key] = sequence_info[label_key].astype(\"category\")\n",
    "\n",
    "        # Merge in neighbor info\n",
    "        # neighbor_id is an iloc within adata_label\n",
    "        neighbor_links_df = pd.merge(\n",
    "            neighbor_links_df,\n",
    "            sequence_info.rename(columns=lambda s: f\"neighbor_{s}\"),\n",
    "            how=\"left\",\n",
    "            left_on=\"neighbor_id\",\n",
    "            right_index=True,\n",
    "            validate=\"m:1\",\n",
    "        )\n",
    "\n",
    "        # merge in center info\n",
    "        # center_id is a iloc within adata_label\n",
    "        neighbor_links_df = pd.merge(\n",
    "            neighbor_links_df,\n",
    "            sequence_info.rename(columns=lambda s: f\"center_{s}\"),\n",
    "            how=\"left\",\n",
    "            left_on=\"center_id\",\n",
    "            right_index=True,\n",
    "            validate=\"m:1\",\n",
    "        )\n",
    "\n",
    "        ## Compare label composition of k-nearest neighborhood of each sequence versus the expected (global) label composition\n",
    "\n",
    "        ## Get expected neighborhood composition from global values: normalized value counts * chosen k neighbors\n",
    "        expected_frequencies = (batch_sizes / batch_sizes.sum()) * neighborhood_size\n",
    "        logger.info(\n",
    "            f\"kBET on {label_key}={label} with neighborhood size {neighborhood_size} has expected frequencies: {expected_frequencies.to_dict()}\"\n",
    "        )\n",
    "\n",
    "        ## Get observed frequencies for each cell\n",
    "\n",
    "        # First, confirm we computed the right number of neighbors\n",
    "        total_num_neighbors = (\n",
    "            neighbor_links_df.groupby([\"center_id\"], observed=True)\n",
    "            .size()\n",
    "            .rename(\"total_num_neighbors\")\n",
    "        )\n",
    "        assert all(total_num_neighbors == neighborhood_size)\n",
    "        # Also sanity check that all identity labels are the same\n",
    "        assert (\n",
    "            neighbor_links_df[f\"center_{label_key}\"]\n",
    "            == neighbor_links_df[f\"neighbor_{label_key}\"]\n",
    "        ).all()\n",
    "        assert (neighbor_links_df[f\"center_{label_key}\"] == label).all()\n",
    "\n",
    "        # Get neighborhood batch frequencies for each cell\n",
    "        # https://stackoverflow.com/a/39132900/130164\n",
    "        observed_neighbor_batch_frequencies = (\n",
    "            neighbor_links_df.groupby(\n",
    "                [\"center_id\", f\"neighbor_{batch_key}\"], observed=True\n",
    "            )\n",
    "            .size()\n",
    "            .unstack(fill_value=0)\n",
    "        )\n",
    "\n",
    "        # rearrange order to match\n",
    "        assert set(observed_neighbor_batch_frequencies.columns) == set(\n",
    "            expected_frequencies.index\n",
    "        )\n",
    "        expected_frequencies = expected_frequencies.loc[\n",
    "            observed_neighbor_batch_frequencies.columns\n",
    "        ]\n",
    "\n",
    "        # Compute test statistic for each cell\n",
    "        # \"kBET uses a χ2-based test for random neighborhoods of fixed size to determine whether they are well mixed,\n",
    "        # followed by averaging of the binary test results to return an overall rejection rate.\n",
    "        # This result is easy to interpret: low rejection rates imply well-mixed replicates.\"\n",
    "        chisquared_test_statistic, p_values_uncorrected = chisquare(\n",
    "            f_obs=observed_neighbor_batch_frequencies,\n",
    "            f_exp=expected_frequencies,\n",
    "            axis=1,\n",
    "        )\n",
    "\n",
    "        # Correct for multiple hypothesis testing\n",
    "        is_wellmixed_null_hypothesis_rejected, corrected_p_values, _, _ = multipletests(\n",
    "            pvals=p_values_uncorrected,\n",
    "            alpha=significance_threshold_alpha,\n",
    "            method=\"fdr_tsbh\",\n",
    "        )\n",
    "        # is_wellmixed_null_hypothesis_rejected is a numpy array of booleans\n",
    "        rejection_rate = is_wellmixed_null_hypothesis_rejected.mean()\n",
    "\n",
    "        # Store result for each label\n",
    "        rejection_rates_by_label[label] = rejection_rate\n",
    "        # note that corrected_p_values are not in order of obsnames and should thus not be glued onto adata.obs or adata_label.obs\n",
    "        corrected_p_values_by_label[label] = corrected_p_values\n",
    "\n",
    "    # Aggregate the results across labels\n",
    "    # \"Subsequently, kBET scores for each label were averaged and subtracted from 1 to give a final kBET score.\"\n",
    "    # ^ This subtraction seems to only be in scib benchmarking and the scanpy partial PR.\n",
    "    # Really we should keep it as rejection rate, so 0 means null hypothesis was not rejected much, suggesting the well-mixed hypothesis holds.\n",
    "\n",
    "    # Returns average-rejection-rate averages across labels; average rejection rate by label; all corrected p values for each label (not in same order as anndata obs)\n",
    "    return (\n",
    "        np.mean(list(rejection_rates_by_label.values())),\n",
    "        rejection_rates_by_label,\n",
    "        corrected_p_values_by_label,\n",
    "    )"
   ]
  },
  {
   "cell_type": "code",
   "execution_count": null,
   "metadata": {},
   "outputs": [],
   "source": []
  },
  {
   "cell_type": "code",
   "execution_count": 5,
   "metadata": {
    "execution": {
     "iopub.execute_input": "2023-01-04T20:01:57.237857Z",
     "iopub.status.busy": "2023-01-04T20:01:57.237533Z",
     "iopub.status.idle": "2023-01-04T20:01:57.254720Z",
     "shell.execute_reply": "2023-01-04T20:01:57.252981Z"
    }
   },
   "outputs": [],
   "source": [
    "# kBET will be computed amongst all sequences with same [label_key]\n",
    "label_key = \"disease\"\n",
    "\n",
    "# kBET will compute whether [batch_key] batches are well-mixed within each [label_key]\n",
    "batch_key = \"study_name\"\n",
    "\n",
    "# run on:\n",
    "fold_label = \"test\"\n",
    "\n",
    "# plot labels\n",
    "xlabel = \"kBET χ² test corrected p-value\"\n",
    "ylabel = \"Disease\""
   ]
  },
  {
   "cell_type": "code",
   "execution_count": 6,
   "metadata": {
    "execution": {
     "iopub.execute_input": "2023-01-04T20:01:57.263216Z",
     "iopub.status.busy": "2023-01-04T20:01:57.262114Z",
     "iopub.status.idle": "2023-01-05T03:41:56.285393Z",
     "shell.execute_reply": "2023-01-05T03:41:56.284460Z"
    }
   },
   "outputs": [
    {
     "name": "stderr",
     "output_type": "stream",
     "text": [
      "2023-01-04 20:01:57,295 - kbet_batch_evaluation.ipynb - INFO - Running on GeneLocus.BCR, fold 0-test\n"
     ]
    },
    {
     "name": "stderr",
     "output_type": "stream",
     "text": [
      "2023-01-04 20:01:57,308 - malid.external.scratch_cache - INFO - Reading network file from local machine cache: /users/maximz/code/boyd-immune-repertoire-classification/data/data_v_20221224/embedded/unirep_fine_tuned/anndatas_scaled/BCR/fold.0.test.h5ad -> /srv/scratch/maximz/cache/d23bdbcb1cb8d1c3007da595727fbbab8cc86779ab8967868314f2da.0.test.h5ad\n"
     ]
    },
    {
     "name": "stdout",
     "output_type": "stream",
     "text": [
      "WARNING: Your filename has more than two extensions: ['.0', '.test', '.h5ad'].\n",
      "Only considering the two last: ['.test', '.h5ad'].\n"
     ]
    },
    {
     "name": "stdout",
     "output_type": "stream",
     "text": [
      "WARNING: Your filename has more than two extensions: ['.0', '.test', '.h5ad'].\n",
      "Only considering the two last: ['.test', '.h5ad'].\n"
     ]
    },
    {
     "name": "stderr",
     "output_type": "stream",
     "text": [
      "2023-01-04 20:04:11,196 - malid.helpers - WARNING - Not marking any sequences as confident_sequence because those annotations weren't found: [Errno 2] No such file or directory: '/users/maximz/code/boyd-immune-repertoire-classification/data/data_v_20221224/embedded/unirep_fine_tuned/anndatas_scaled/BCR/neighborhoods/knn_neighborhood.0.test.IGHG.embedded_onto.train_smaller.combined_data.filtered.tsv.gz'\n"
     ]
    },
    {
     "name": "stdout",
     "output_type": "stream",
     "text": [
      "disease             study_name                 \n",
      "HIV                 HIV                             784893\n",
      "Healthy/Background  HIV                             249042\n",
      "                    Healthy-StanfordBloodCenter    1913568\n",
      "                    Lupus                           140020\n",
      "                    New Lupus Paxgene                47523\n",
      "                    New Lupus RNA                    41810\n",
      "                    healthy_children                345718\n",
      "Lupus               Lupus                           169557\n",
      "                    Lupus Pediatric                 838515\n",
      "                    New Lupus Paxgene               104170\n",
      "                    New Lupus RNA                   121163\n",
      "Covid19             Covid19-Seattle                  41375\n",
      "                    Covid19-Stanford                 78555\n",
      "                    Covid19-buffycoat               138369\n",
      "dtype: int64\n"
     ]
    },
    {
     "name": "stderr",
     "output_type": "stream",
     "text": [
      "2023-01-04 20:05:02,958 - kbet_batch_evaluation.ipynb - INFO - Skipping disease=HIV because it has only one study_name batch\n"
     ]
    },
    {
     "name": "stderr",
     "output_type": "stream",
     "text": [
      "2023-01-04 20:05:44,462 - kbet_batch_evaluation.ipynb - INFO - Running kBET on disease=Healthy/Background with neighborhood size 50 (based on batch sizes {'Healthy-StanfordBloodCenter': 1913568, 'healthy_children': 345718, 'HIV': 249042, 'Lupus': 140020, 'New Lupus Paxgene': 47523, 'New Lupus RNA': 41810})\n"
     ]
    },
    {
     "name": "stderr",
     "output_type": "stream",
     "text": [
      "2023-01-04 20:13:38,046 - kbet_batch_evaluation.ipynb - INFO - kBET on disease=Healthy/Background with neighborhood size 50 has expected frequencies: {'Healthy-StanfordBloodCenter': 34.948702935075346, 'healthy_children': 6.314066540257977, 'HIV': 4.548411593607875, 'Lupus': 2.5572738386977885, 'New Lupus Paxgene': 0.8679426127441436, 'New Lupus RNA': 0.7636024796168728}\n"
     ]
    },
    {
     "name": "stderr",
     "output_type": "stream",
     "text": [
      "2023-01-04 20:14:16,351 - kbet_batch_evaluation.ipynb - INFO - Running kBET on disease=Lupus with neighborhood size 50 (based on batch sizes {'Lupus Pediatric': 838515, 'Lupus': 169557, 'New Lupus RNA': 121163, 'New Lupus Paxgene': 104170})\n"
     ]
    },
    {
     "name": "stderr",
     "output_type": "stream",
     "text": [
      "2023-01-04 20:16:00,654 - kbet_batch_evaluation.ipynb - INFO - kBET on disease=Lupus with neighborhood size 50 has expected frequencies: {'Lupus Pediatric': 33.99187614773736, 'Lupus': 6.873533024432364, 'New Lupus RNA': 4.911728102285949, 'New Lupus Paxgene': 4.222862725544326}\n"
     ]
    },
    {
     "name": "stderr",
     "output_type": "stream",
     "text": [
      "2023-01-04 20:16:14,193 - kbet_batch_evaluation.ipynb - INFO - Running kBET on disease=Covid19 with neighborhood size 50 (based on batch sizes {'Covid19-buffycoat': 138369, 'Covid19-Stanford': 78555, 'Covid19-Seattle': 41375})\n"
     ]
    },
    {
     "name": "stderr",
     "output_type": "stream",
     "text": [
      "2023-01-04 20:16:24,335 - kbet_batch_evaluation.ipynb - INFO - kBET on disease=Covid19 with neighborhood size 50 has expected frequencies: {'Covid19-buffycoat': 26.784656541450026, 'Covid19-Stanford': 15.206214503346896, 'Covid19-Seattle': 8.00912895520308}\n"
     ]
    },
    {
     "name": "stdout",
     "output_type": "stream",
     "text": [
      "kBET result for GeneLocus.BCR, fold 0-test: 0.20830 average of average rejection rate by label\n",
      "Average rejection rates for each label\n"
     ]
    },
    {
     "data": {
      "text/html": [
       "<div>\n",
       "<style scoped>\n",
       "    .dataframe tbody tr th:only-of-type {\n",
       "        vertical-align: middle;\n",
       "    }\n",
       "\n",
       "    .dataframe tbody tr th {\n",
       "        vertical-align: top;\n",
       "    }\n",
       "\n",
       "    .dataframe thead th {\n",
       "        text-align: right;\n",
       "    }\n",
       "</style>\n",
       "<table border=\"1\" class=\"dataframe\">\n",
       "  <thead>\n",
       "    <tr style=\"text-align: right;\">\n",
       "      <th></th>\n",
       "      <th>disease</th>\n",
       "      <th>average_rejection_rate</th>\n",
       "      <th>fold_id</th>\n",
       "      <th>fold_label</th>\n",
       "      <th>gene_locus</th>\n",
       "    </tr>\n",
       "  </thead>\n",
       "  <tbody>\n",
       "    <tr>\n",
       "      <th>0</th>\n",
       "      <td>Healthy/Background</td>\n",
       "      <td>0.132656</td>\n",
       "      <td>0</td>\n",
       "      <td>test</td>\n",
       "      <td>BCR</td>\n",
       "    </tr>\n",
       "    <tr>\n",
       "      <th>1</th>\n",
       "      <td>Lupus</td>\n",
       "      <td>0.115432</td>\n",
       "      <td>0</td>\n",
       "      <td>test</td>\n",
       "      <td>BCR</td>\n",
       "    </tr>\n",
       "    <tr>\n",
       "      <th>2</th>\n",
       "      <td>Covid19</td>\n",
       "      <td>0.376819</td>\n",
       "      <td>0</td>\n",
       "      <td>test</td>\n",
       "      <td>BCR</td>\n",
       "    </tr>\n",
       "  </tbody>\n",
       "</table>\n",
       "</div>"
      ],
      "text/plain": [
       "              disease  average_rejection_rate  fold_id fold_label gene_locus\n",
       "0  Healthy/Background                0.132656        0       test        BCR\n",
       "1               Lupus                0.115432        0       test        BCR\n",
       "2             Covid19                0.376819        0       test        BCR"
      ]
     },
     "metadata": {},
     "output_type": "display_data"
    },
    {
     "name": "stderr",
     "output_type": "stream",
     "text": [
      "2023-01-04 20:16:32,874 - kbet_batch_evaluation.ipynb - INFO - Running on GeneLocus.BCR, fold 1-test\n"
     ]
    },
    {
     "name": "stderr",
     "output_type": "stream",
     "text": [
      "2023-01-04 20:16:32,878 - malid.external.scratch_cache - INFO - Reading network file from local machine cache: /users/maximz/code/boyd-immune-repertoire-classification/data/data_v_20221224/embedded/unirep_fine_tuned/anndatas_scaled/BCR/fold.1.test.h5ad -> /srv/scratch/maximz/cache/ed1f2608e168c24c508b6bfbbe3a18ba1a4680e5c010e34cd184cae6.1.test.h5ad\n"
     ]
    },
    {
     "name": "stdout",
     "output_type": "stream",
     "text": [
      "************************************************************\n",
      "WARNING: Your filename has more than two extensions: ['.1', '.test', '.h5ad'].\n",
      "Only considering the two last: ['.test', '.h5ad'].\n"
     ]
    },
    {
     "name": "stdout",
     "output_type": "stream",
     "text": [
      "WARNING: Your filename has more than two extensions: ['.1', '.test', '.h5ad'].\n",
      "Only considering the two last: ['.test', '.h5ad'].\n"
     ]
    },
    {
     "name": "stderr",
     "output_type": "stream",
     "text": [
      "2023-01-04 20:18:38,749 - malid.helpers - WARNING - Not marking any sequences as confident_sequence because those annotations weren't found: [Errno 2] No such file or directory: '/users/maximz/code/boyd-immune-repertoire-classification/data/data_v_20221224/embedded/unirep_fine_tuned/anndatas_scaled/BCR/neighborhoods/knn_neighborhood.1.test.IGHG.embedded_onto.train_smaller.combined_data.filtered.tsv.gz'\n"
     ]
    },
    {
     "name": "stdout",
     "output_type": "stream",
     "text": [
      "disease             study_name                 \n",
      "Healthy/Background  HIV                             377110\n",
      "                    Healthy-StanfordBloodCenter    1317978\n",
      "                    Lupus                           115147\n",
      "                    healthy_children                427846\n",
      "HIV                 HIV                             934148\n",
      "Lupus               Lupus                           221957\n",
      "                    Lupus Pediatric                 826728\n",
      "                    New Lupus Paxgene                70706\n",
      "                    New Lupus RNA                    73938\n",
      "Covid19             Covid19-Seattle                 126983\n",
      "                    Covid19-Stanford                199740\n",
      "                    Covid19-buffycoat                13718\n",
      "dtype: int64\n"
     ]
    },
    {
     "name": "stderr",
     "output_type": "stream",
     "text": [
      "2023-01-04 20:21:08,672 - kbet_batch_evaluation.ipynb - INFO - Running kBET on disease=Healthy/Background with neighborhood size 50 (based on batch sizes {'Healthy-StanfordBloodCenter': 1317978, 'healthy_children': 427846, 'HIV': 377110, 'Lupus': 115147})\n"
     ]
    },
    {
     "name": "stderr",
     "output_type": "stream",
     "text": [
      "2023-01-04 20:38:14,429 - kbet_batch_evaluation.ipynb - INFO - kBET on disease=Healthy/Background with neighborhood size 50 has expected frequencies: {'Healthy-StanfordBloodCenter': 29.44437667805589, 'healthy_children': 9.558322509328304, 'HIV': 8.42485146873594, 'Lupus': 2.572449343879869}\n"
     ]
    },
    {
     "name": "stderr",
     "output_type": "stream",
     "text": [
      "2023-01-04 20:38:41,594 - kbet_batch_evaluation.ipynb - INFO - Skipping disease=HIV because it has only one study_name batch\n"
     ]
    },
    {
     "name": "stderr",
     "output_type": "stream",
     "text": [
      "2023-01-04 20:41:48,354 - kbet_batch_evaluation.ipynb - INFO - Running kBET on disease=Lupus with neighborhood size 50 (based on batch sizes {'Lupus Pediatric': 826728, 'Lupus': 221957, 'New Lupus RNA': 73938, 'New Lupus Paxgene': 70706})\n"
     ]
    },
    {
     "name": "stderr",
     "output_type": "stream",
     "text": [
      "2023-01-04 20:47:58,355 - kbet_batch_evaluation.ipynb - INFO - kBET on disease=Lupus with neighborhood size 50 has expected frequencies: {'Lupus Pediatric': 34.63956712691974, 'Lupus': 9.299908072291881, 'New Lupus RNA': 3.097972143474264, 'New Lupus Paxgene': 2.9625526573141188}\n"
     ]
    },
    {
     "name": "stderr",
     "output_type": "stream",
     "text": [
      "2023-01-04 20:48:13,039 - kbet_batch_evaluation.ipynb - INFO - Running kBET on disease=Covid19 with neighborhood size 50 (based on batch sizes {'Covid19-Stanford': 199740, 'Covid19-Seattle': 126983, 'Covid19-buffycoat': 13718})\n"
     ]
    },
    {
     "name": "stderr",
     "output_type": "stream",
     "text": [
      "2023-01-04 20:48:31,394 - kbet_batch_evaluation.ipynb - INFO - kBET on disease=Covid19 with neighborhood size 50 has expected frequencies: {'Covid19-Stanford': 29.335479569147076, 'Covid19-Seattle': 18.64978072558828, 'Covid19-buffycoat': 2.014739705264642}\n"
     ]
    },
    {
     "name": "stdout",
     "output_type": "stream",
     "text": [
      "kBET result for GeneLocus.BCR, fold 1-test: 0.24768 average of average rejection rate by label\n",
      "Average rejection rates for each label\n"
     ]
    },
    {
     "data": {
      "text/html": [
       "<div>\n",
       "<style scoped>\n",
       "    .dataframe tbody tr th:only-of-type {\n",
       "        vertical-align: middle;\n",
       "    }\n",
       "\n",
       "    .dataframe tbody tr th {\n",
       "        vertical-align: top;\n",
       "    }\n",
       "\n",
       "    .dataframe thead th {\n",
       "        text-align: right;\n",
       "    }\n",
       "</style>\n",
       "<table border=\"1\" class=\"dataframe\">\n",
       "  <thead>\n",
       "    <tr style=\"text-align: right;\">\n",
       "      <th></th>\n",
       "      <th>disease</th>\n",
       "      <th>average_rejection_rate</th>\n",
       "      <th>fold_id</th>\n",
       "      <th>fold_label</th>\n",
       "      <th>gene_locus</th>\n",
       "    </tr>\n",
       "  </thead>\n",
       "  <tbody>\n",
       "    <tr>\n",
       "      <th>0</th>\n",
       "      <td>Healthy/Background</td>\n",
       "      <td>0.186631</td>\n",
       "      <td>1</td>\n",
       "      <td>test</td>\n",
       "      <td>BCR</td>\n",
       "    </tr>\n",
       "    <tr>\n",
       "      <th>1</th>\n",
       "      <td>Lupus</td>\n",
       "      <td>0.259052</td>\n",
       "      <td>1</td>\n",
       "      <td>test</td>\n",
       "      <td>BCR</td>\n",
       "    </tr>\n",
       "    <tr>\n",
       "      <th>2</th>\n",
       "      <td>Covid19</td>\n",
       "      <td>0.297355</td>\n",
       "      <td>1</td>\n",
       "      <td>test</td>\n",
       "      <td>BCR</td>\n",
       "    </tr>\n",
       "  </tbody>\n",
       "</table>\n",
       "</div>"
      ],
      "text/plain": [
       "              disease  average_rejection_rate  fold_id fold_label gene_locus\n",
       "0  Healthy/Background                0.186631        1       test        BCR\n",
       "1               Lupus                0.259052        1       test        BCR\n",
       "2             Covid19                0.297355        1       test        BCR"
      ]
     },
     "metadata": {},
     "output_type": "display_data"
    },
    {
     "name": "stderr",
     "output_type": "stream",
     "text": [
      "2023-01-04 20:48:41,343 - kbet_batch_evaluation.ipynb - INFO - Running on GeneLocus.BCR, fold 2-test\n"
     ]
    },
    {
     "name": "stderr",
     "output_type": "stream",
     "text": [
      "2023-01-04 20:48:41,358 - malid.external.scratch_cache - INFO - Reading network file from local machine cache: /users/maximz/code/boyd-immune-repertoire-classification/data/data_v_20221224/embedded/unirep_fine_tuned/anndatas_scaled/BCR/fold.2.test.h5ad -> /srv/scratch/maximz/cache/83dcd409138574af7b7b712ce14967e926c14170bff7801b141edb49.2.test.h5ad\n"
     ]
    },
    {
     "name": "stdout",
     "output_type": "stream",
     "text": [
      "************************************************************\n",
      "WARNING: Your filename has more than two extensions: ['.2', '.test', '.h5ad'].\n",
      "Only considering the two last: ['.test', '.h5ad'].\n"
     ]
    },
    {
     "name": "stdout",
     "output_type": "stream",
     "text": [
      "WARNING: Your filename has more than two extensions: ['.2', '.test', '.h5ad'].\n",
      "Only considering the two last: ['.test', '.h5ad'].\n"
     ]
    },
    {
     "name": "stderr",
     "output_type": "stream",
     "text": [
      "2023-01-04 21:05:47,359 - malid.helpers - WARNING - Not marking any sequences as confident_sequence because those annotations weren't found: [Errno 2] No such file or directory: '/users/maximz/code/boyd-immune-repertoire-classification/data/data_v_20221224/embedded/unirep_fine_tuned/anndatas_scaled/BCR/neighborhoods/knn_neighborhood.2.test.IGHG.embedded_onto.train_smaller.combined_data.filtered.tsv.gz'\n"
     ]
    },
    {
     "name": "stdout",
     "output_type": "stream",
     "text": [
      "disease             study_name                 \n",
      "HIV                 HIV                            1043723\n",
      "Healthy/Background  HIV                             206222\n",
      "                    Healthy-StanfordBloodCenter    1509330\n",
      "                    Lupus                           110264\n",
      "                    New Lupus Paxgene                69828\n",
      "                    New Lupus RNA                    83766\n",
      "                    healthy_children                361373\n",
      "Lupus               Lupus                           128841\n",
      "                    Lupus Pediatric                 590951\n",
      "                    New Lupus Paxgene               111879\n",
      "                    New Lupus RNA                   101727\n",
      "Covid19             Covid19-Seattle                 107718\n",
      "                    Covid19-Stanford                125267\n",
      "                    Covid19-buffycoat               104568\n",
      "dtype: int64\n"
     ]
    },
    {
     "name": "stderr",
     "output_type": "stream",
     "text": [
      "2023-01-04 21:14:38,240 - kbet_batch_evaluation.ipynb - INFO - Skipping disease=HIV because it has only one study_name batch\n"
     ]
    },
    {
     "name": "stderr",
     "output_type": "stream",
     "text": [
      "2023-01-04 21:24:07,295 - kbet_batch_evaluation.ipynb - INFO - Running kBET on disease=Healthy/Background with neighborhood size 50 (based on batch sizes {'Healthy-StanfordBloodCenter': 1509330, 'healthy_children': 361373, 'HIV': 206222, 'Lupus': 110264, 'New Lupus RNA': 83766, 'New Lupus Paxgene': 69828})\n"
     ]
    },
    {
     "name": "stderr",
     "output_type": "stream",
     "text": [
      "2023-01-04 22:00:26,382 - kbet_batch_evaluation.ipynb - INFO - kBET on disease=Healthy/Background with neighborhood size 50 has expected frequencies: {'Healthy-StanfordBloodCenter': 32.23985307480446, 'healthy_children': 7.7190623821174364, 'HIV': 4.404979017704759, 'Lupus': 2.355280263057276, 'New Lupus RNA': 1.7892730765730953, 'New Lupus Paxgene': 1.4915521857429757}\n"
     ]
    },
    {
     "name": "stderr",
     "output_type": "stream",
     "text": [
      "2023-01-04 22:05:00,728 - kbet_batch_evaluation.ipynb - INFO - Running kBET on disease=Lupus with neighborhood size 50 (based on batch sizes {'Lupus Pediatric': 590951, 'Lupus': 128841, 'New Lupus Paxgene': 111879, 'New Lupus RNA': 101727})\n"
     ]
    },
    {
     "name": "stderr",
     "output_type": "stream",
     "text": [
      "2023-01-04 22:19:54,768 - kbet_batch_evaluation.ipynb - INFO - kBET on disease=Lupus with neighborhood size 50 has expected frequencies: {'Lupus Pediatric': 31.65589598434966, 'Lupus': 6.901718238093503, 'New Lupus Paxgene': 5.993102620746991, 'New Lupus RNA': 5.44928315680985}\n"
     ]
    },
    {
     "name": "stderr",
     "output_type": "stream",
     "text": [
      "2023-01-04 22:20:15,130 - kbet_batch_evaluation.ipynb - INFO - Running kBET on disease=Covid19 with neighborhood size 50 (based on batch sizes {'Covid19-Stanford': 125267, 'Covid19-Seattle': 107718, 'Covid19-buffycoat': 104568})\n"
     ]
    },
    {
     "name": "stderr",
     "output_type": "stream",
     "text": [
      "2023-01-04 22:24:49,457 - kbet_batch_evaluation.ipynb - INFO - kBET on disease=Covid19 with neighborhood size 50 has expected frequencies: {'Covid19-Stanford': 18.555160226690326, 'Covid19-Seattle': 15.955716583766105, 'Covid19-buffycoat': 15.48912318954357}\n"
     ]
    },
    {
     "name": "stdout",
     "output_type": "stream",
     "text": [
      "kBET result for GeneLocus.BCR, fold 2-test: 0.20326 average of average rejection rate by label\n",
      "Average rejection rates for each label\n"
     ]
    },
    {
     "data": {
      "text/html": [
       "<div>\n",
       "<style scoped>\n",
       "    .dataframe tbody tr th:only-of-type {\n",
       "        vertical-align: middle;\n",
       "    }\n",
       "\n",
       "    .dataframe tbody tr th {\n",
       "        vertical-align: top;\n",
       "    }\n",
       "\n",
       "    .dataframe thead th {\n",
       "        text-align: right;\n",
       "    }\n",
       "</style>\n",
       "<table border=\"1\" class=\"dataframe\">\n",
       "  <thead>\n",
       "    <tr style=\"text-align: right;\">\n",
       "      <th></th>\n",
       "      <th>disease</th>\n",
       "      <th>average_rejection_rate</th>\n",
       "      <th>fold_id</th>\n",
       "      <th>fold_label</th>\n",
       "      <th>gene_locus</th>\n",
       "    </tr>\n",
       "  </thead>\n",
       "  <tbody>\n",
       "    <tr>\n",
       "      <th>0</th>\n",
       "      <td>Healthy/Background</td>\n",
       "      <td>0.125485</td>\n",
       "      <td>2</td>\n",
       "      <td>test</td>\n",
       "      <td>BCR</td>\n",
       "    </tr>\n",
       "    <tr>\n",
       "      <th>1</th>\n",
       "      <td>Lupus</td>\n",
       "      <td>0.136382</td>\n",
       "      <td>2</td>\n",
       "      <td>test</td>\n",
       "      <td>BCR</td>\n",
       "    </tr>\n",
       "    <tr>\n",
       "      <th>2</th>\n",
       "      <td>Covid19</td>\n",
       "      <td>0.347907</td>\n",
       "      <td>2</td>\n",
       "      <td>test</td>\n",
       "      <td>BCR</td>\n",
       "    </tr>\n",
       "  </tbody>\n",
       "</table>\n",
       "</div>"
      ],
      "text/plain": [
       "              disease  average_rejection_rate  fold_id fold_label gene_locus\n",
       "0  Healthy/Background                0.125485        2       test        BCR\n",
       "1               Lupus                0.136382        2       test        BCR\n",
       "2             Covid19                0.347907        2       test        BCR"
      ]
     },
     "metadata": {},
     "output_type": "display_data"
    },
    {
     "name": "stderr",
     "output_type": "stream",
     "text": [
      "2023-01-04 22:24:58,411 - kbet_batch_evaluation.ipynb - INFO - Running on GeneLocus.TCR, fold 0-test\n"
     ]
    },
    {
     "name": "stderr",
     "output_type": "stream",
     "text": [
      "2023-01-04 22:24:58,422 - malid.external.scratch_cache - INFO - Reading network file from local machine cache: /users/maximz/code/boyd-immune-repertoire-classification/data/data_v_20221224/embedded/unirep_fine_tuned/anndatas_scaled/TCR/fold.0.test.h5ad -> /srv/scratch/maximz/cache/a6c3ab8bb9960154ff8dbb5d04eaf7a1c395f034f82f9649aefc9d35.0.test.h5ad\n"
     ]
    },
    {
     "name": "stdout",
     "output_type": "stream",
     "text": [
      "************************************************************\n",
      "WARNING: Your filename has more than two extensions: ['.0', '.test', '.h5ad'].\n",
      "Only considering the two last: ['.test', '.h5ad'].\n"
     ]
    },
    {
     "name": "stdout",
     "output_type": "stream",
     "text": [
      "WARNING: Your filename has more than two extensions: ['.0', '.test', '.h5ad'].\n",
      "Only considering the two last: ['.test', '.h5ad'].\n"
     ]
    },
    {
     "name": "stderr",
     "output_type": "stream",
     "text": [
      "2023-01-04 22:43:52,489 - malid.helpers - WARNING - Not marking any sequences as confident_sequence because those annotations weren't found: [Errno 2] No such file or directory: '/users/maximz/code/boyd-immune-repertoire-classification/data/data_v_20221224/embedded/unirep_fine_tuned/anndatas_scaled/TCR/neighborhoods/knn_neighborhood.0.test.TCRB.embedded_onto.train_smaller.combined_data.filtered.tsv.gz'\n"
     ]
    },
    {
     "name": "stdout",
     "output_type": "stream",
     "text": [
      "disease             study_name                 \n",
      "HIV                 HIV                            1056382\n",
      "Healthy/Background  HIV                             407479\n",
      "                    Healthy-StanfordBloodCenter    2209724\n",
      "                    New Lupus Paxgene               144384\n",
      "                    New Lupus RNA                    44397\n",
      "                    healthy_children               1094828\n",
      "Covid19             Covid19-Stanford                156902\n",
      "                    Covid19-buffycoat               132806\n",
      "Lupus               Lupus Pediatric                 919217\n",
      "                    New Lupus Paxgene               375567\n",
      "                    New Lupus RNA                   117954\n",
      "dtype: int64\n"
     ]
    },
    {
     "name": "stderr",
     "output_type": "stream",
     "text": [
      "2023-01-04 22:47:59,495 - kbet_batch_evaluation.ipynb - INFO - Skipping disease=HIV because it has only one study_name batch\n"
     ]
    },
    {
     "name": "stderr",
     "output_type": "stream",
     "text": [
      "2023-01-04 23:01:54,154 - kbet_batch_evaluation.ipynb - INFO - Running kBET on disease=Healthy/Background with neighborhood size 50 (based on batch sizes {'Healthy-StanfordBloodCenter': 2209724, 'healthy_children': 1094828, 'HIV': 407479, 'New Lupus Paxgene': 144384, 'New Lupus RNA': 44397})\n"
     ]
    },
    {
     "name": "stderr",
     "output_type": "stream",
     "text": [
      "2023-01-04 23:49:04,202 - kbet_batch_evaluation.ipynb - INFO - kBET on disease=Healthy/Background with neighborhood size 50 has expected frequencies: {'Healthy-StanfordBloodCenter': 28.32389769104484, 'healthy_children': 14.033334598027283, 'HIV': 5.223002287728811, 'New Lupus Paxgene': 1.8506915995951612, 'New Lupus RNA': 0.569073823603906}\n"
     ]
    },
    {
     "name": "stderr",
     "output_type": "stream",
     "text": [
      "2023-01-04 23:50:02,295 - kbet_batch_evaluation.ipynb - INFO - Running kBET on disease=Covid19 with neighborhood size 50 (based on batch sizes {'Covid19-Stanford': 156902, 'Covid19-buffycoat': 132806})\n"
     ]
    },
    {
     "name": "stderr",
     "output_type": "stream",
     "text": [
      "2023-01-04 23:50:15,314 - kbet_batch_evaluation.ipynb - INFO - kBET on disease=Covid19 with neighborhood size 50 has expected frequencies: {'Covid19-Stanford': 27.079335054606705, 'Covid19-buffycoat': 22.920664945393295}\n"
     ]
    },
    {
     "name": "stderr",
     "output_type": "stream",
     "text": [
      "2023-01-04 23:50:22,762 - kbet_batch_evaluation.ipynb - INFO - Running kBET on disease=Lupus with neighborhood size 50 (based on batch sizes {'Lupus Pediatric': 919217, 'New Lupus Paxgene': 375567, 'New Lupus RNA': 117954})\n"
     ]
    },
    {
     "name": "stderr",
     "output_type": "stream",
     "text": [
      "2023-01-04 23:59:57,395 - kbet_batch_evaluation.ipynb - INFO - kBET on disease=Lupus with neighborhood size 50 has expected frequencies: {'Lupus Pediatric': 32.53317317152933, 'New Lupus Paxgene': 13.292167408252627, 'New Lupus RNA': 4.1746594202180445}\n"
     ]
    },
    {
     "name": "stdout",
     "output_type": "stream",
     "text": [
      "kBET result for GeneLocus.TCR, fold 0-test: 0.14451 average of average rejection rate by label\n",
      "Average rejection rates for each label\n"
     ]
    },
    {
     "data": {
      "text/html": [
       "<div>\n",
       "<style scoped>\n",
       "    .dataframe tbody tr th:only-of-type {\n",
       "        vertical-align: middle;\n",
       "    }\n",
       "\n",
       "    .dataframe tbody tr th {\n",
       "        vertical-align: top;\n",
       "    }\n",
       "\n",
       "    .dataframe thead th {\n",
       "        text-align: right;\n",
       "    }\n",
       "</style>\n",
       "<table border=\"1\" class=\"dataframe\">\n",
       "  <thead>\n",
       "    <tr style=\"text-align: right;\">\n",
       "      <th></th>\n",
       "      <th>disease</th>\n",
       "      <th>average_rejection_rate</th>\n",
       "      <th>fold_id</th>\n",
       "      <th>fold_label</th>\n",
       "      <th>gene_locus</th>\n",
       "    </tr>\n",
       "  </thead>\n",
       "  <tbody>\n",
       "    <tr>\n",
       "      <th>0</th>\n",
       "      <td>Healthy/Background</td>\n",
       "      <td>0.117520</td>\n",
       "      <td>0</td>\n",
       "      <td>test</td>\n",
       "      <td>TCR</td>\n",
       "    </tr>\n",
       "    <tr>\n",
       "      <th>1</th>\n",
       "      <td>Covid19</td>\n",
       "      <td>0.110456</td>\n",
       "      <td>0</td>\n",
       "      <td>test</td>\n",
       "      <td>TCR</td>\n",
       "    </tr>\n",
       "    <tr>\n",
       "      <th>2</th>\n",
       "      <td>Lupus</td>\n",
       "      <td>0.205555</td>\n",
       "      <td>0</td>\n",
       "      <td>test</td>\n",
       "      <td>TCR</td>\n",
       "    </tr>\n",
       "  </tbody>\n",
       "</table>\n",
       "</div>"
      ],
      "text/plain": [
       "              disease  average_rejection_rate  fold_id fold_label gene_locus\n",
       "0  Healthy/Background                0.117520        0       test        TCR\n",
       "1             Covid19                0.110456        0       test        TCR\n",
       "2               Lupus                0.205555        0       test        TCR"
      ]
     },
     "metadata": {},
     "output_type": "display_data"
    },
    {
     "name": "stderr",
     "output_type": "stream",
     "text": [
      "2023-01-05 00:00:52,989 - kbet_batch_evaluation.ipynb - INFO - Running on GeneLocus.TCR, fold 1-test\n"
     ]
    },
    {
     "name": "stderr",
     "output_type": "stream",
     "text": [
      "2023-01-05 00:00:53,000 - malid.external.scratch_cache - INFO - Reading network file from local machine cache: /users/maximz/code/boyd-immune-repertoire-classification/data/data_v_20221224/embedded/unirep_fine_tuned/anndatas_scaled/TCR/fold.1.test.h5ad -> /srv/scratch/maximz/cache/d3eb18b805f6482478ad1ee75a5249a449864d796469d3e144db1326.1.test.h5ad\n"
     ]
    },
    {
     "name": "stdout",
     "output_type": "stream",
     "text": [
      "************************************************************\n",
      "WARNING: Your filename has more than two extensions: ['.1', '.test', '.h5ad'].\n",
      "Only considering the two last: ['.test', '.h5ad'].\n"
     ]
    },
    {
     "name": "stdout",
     "output_type": "stream",
     "text": [
      "WARNING: Your filename has more than two extensions: ['.1', '.test', '.h5ad'].\n",
      "Only considering the two last: ['.test', '.h5ad'].\n"
     ]
    },
    {
     "name": "stderr",
     "output_type": "stream",
     "text": [
      "2023-01-05 00:21:42,450 - malid.helpers - WARNING - Not marking any sequences as confident_sequence because those annotations weren't found: [Errno 2] No such file or directory: '/users/maximz/code/boyd-immune-repertoire-classification/data/data_v_20221224/embedded/unirep_fine_tuned/anndatas_scaled/TCR/neighborhoods/knn_neighborhood.1.test.TCRB.embedded_onto.train_smaller.combined_data.filtered.tsv.gz'\n"
     ]
    },
    {
     "name": "stdout",
     "output_type": "stream",
     "text": [
      "disease             study_name                 \n",
      "Healthy/Background  HIV                             683742\n",
      "                    Healthy-StanfordBloodCenter    1662722\n",
      "                    healthy_children               1531012\n",
      "HIV                 HIV                            1017051\n",
      "Covid19             Covid19-Stanford                279990\n",
      "                    Covid19-buffycoat                15408\n",
      "Lupus               Lupus Pediatric                 767336\n",
      "                    New Lupus Paxgene               123300\n",
      "                    New Lupus RNA                   197251\n",
      "dtype: int64\n"
     ]
    },
    {
     "name": "stderr",
     "output_type": "stream",
     "text": [
      "2023-01-05 00:39:28,996 - kbet_batch_evaluation.ipynb - INFO - Running kBET on disease=Healthy/Background with neighborhood size 50 (based on batch sizes {'Healthy-StanfordBloodCenter': 1662722, 'healthy_children': 1531012, 'HIV': 683742})\n"
     ]
    },
    {
     "name": "stderr",
     "output_type": "stream",
     "text": [
      "2023-01-05 01:35:56,779 - kbet_batch_evaluation.ipynb - INFO - kBET on disease=Healthy/Background with neighborhood size 50 has expected frequencies: {'Healthy-StanfordBloodCenter': 21.44077745419959, 'healthy_children': 19.742378805181517, 'HIV': 8.816843740618898}\n"
     ]
    },
    {
     "name": "stderr",
     "output_type": "stream",
     "text": [
      "2023-01-05 01:37:50,300 - kbet_batch_evaluation.ipynb - INFO - Skipping disease=HIV because it has only one study_name batch\n"
     ]
    },
    {
     "name": "stderr",
     "output_type": "stream",
     "text": [
      "2023-01-05 01:37:51,358 - kbet_batch_evaluation.ipynb - INFO - Running kBET on disease=Covid19 with neighborhood size 50 (based on batch sizes {'Covid19-Stanford': 279990, 'Covid19-buffycoat': 15408})\n"
     ]
    },
    {
     "name": "stderr",
     "output_type": "stream",
     "text": [
      "2023-01-05 01:38:03,620 - kbet_batch_evaluation.ipynb - INFO - kBET on disease=Covid19 with neighborhood size 50 has expected frequencies: {'Covid19-Stanford': 47.391993175309246, 'Covid19-buffycoat': 2.608006824690756}\n"
     ]
    },
    {
     "name": "stderr",
     "output_type": "stream",
     "text": [
      "2023-01-05 01:38:10,661 - kbet_batch_evaluation.ipynb - INFO - Running kBET on disease=Lupus with neighborhood size 50 (based on batch sizes {'Lupus Pediatric': 767336, 'New Lupus RNA': 197251, 'New Lupus Paxgene': 123300})\n"
     ]
    },
    {
     "name": "stderr",
     "output_type": "stream",
     "text": [
      "2023-01-05 01:42:12,776 - kbet_batch_evaluation.ipynb - INFO - kBET on disease=Lupus with neighborhood size 50 has expected frequencies: {'Lupus Pediatric': 35.2672658097762, 'New Lupus RNA': 9.065785325130275, 'New Lupus Paxgene': 5.666948865093525}\n"
     ]
    },
    {
     "name": "stdout",
     "output_type": "stream",
     "text": [
      "kBET result for GeneLocus.TCR, fold 1-test: 0.11892 average of average rejection rate by label\n",
      "Average rejection rates for each label\n"
     ]
    },
    {
     "data": {
      "text/html": [
       "<div>\n",
       "<style scoped>\n",
       "    .dataframe tbody tr th:only-of-type {\n",
       "        vertical-align: middle;\n",
       "    }\n",
       "\n",
       "    .dataframe tbody tr th {\n",
       "        vertical-align: top;\n",
       "    }\n",
       "\n",
       "    .dataframe thead th {\n",
       "        text-align: right;\n",
       "    }\n",
       "</style>\n",
       "<table border=\"1\" class=\"dataframe\">\n",
       "  <thead>\n",
       "    <tr style=\"text-align: right;\">\n",
       "      <th></th>\n",
       "      <th>disease</th>\n",
       "      <th>average_rejection_rate</th>\n",
       "      <th>fold_id</th>\n",
       "      <th>fold_label</th>\n",
       "      <th>gene_locus</th>\n",
       "    </tr>\n",
       "  </thead>\n",
       "  <tbody>\n",
       "    <tr>\n",
       "      <th>0</th>\n",
       "      <td>Healthy/Background</td>\n",
       "      <td>0.190312</td>\n",
       "      <td>1</td>\n",
       "      <td>test</td>\n",
       "      <td>TCR</td>\n",
       "    </tr>\n",
       "    <tr>\n",
       "      <th>1</th>\n",
       "      <td>Covid19</td>\n",
       "      <td>0.023064</td>\n",
       "      <td>1</td>\n",
       "      <td>test</td>\n",
       "      <td>TCR</td>\n",
       "    </tr>\n",
       "    <tr>\n",
       "      <th>2</th>\n",
       "      <td>Lupus</td>\n",
       "      <td>0.143375</td>\n",
       "      <td>1</td>\n",
       "      <td>test</td>\n",
       "      <td>TCR</td>\n",
       "    </tr>\n",
       "  </tbody>\n",
       "</table>\n",
       "</div>"
      ],
      "text/plain": [
       "              disease  average_rejection_rate  fold_id fold_label gene_locus\n",
       "0  Healthy/Background                0.190312        1       test        TCR\n",
       "1             Covid19                0.023064        1       test        TCR\n",
       "2               Lupus                0.143375        1       test        TCR"
      ]
     },
     "metadata": {},
     "output_type": "display_data"
    },
    {
     "name": "stderr",
     "output_type": "stream",
     "text": [
      "2023-01-05 01:42:31,695 - kbet_batch_evaluation.ipynb - INFO - Running on GeneLocus.TCR, fold 2-test\n"
     ]
    },
    {
     "name": "stderr",
     "output_type": "stream",
     "text": [
      "2023-01-05 01:42:31,705 - malid.external.scratch_cache - INFO - Reading network file from local machine cache: /users/maximz/code/boyd-immune-repertoire-classification/data/data_v_20221224/embedded/unirep_fine_tuned/anndatas_scaled/TCR/fold.2.test.h5ad -> /srv/scratch/maximz/cache/d74a0f1a51ad1e35ec4654f627621ecdc4abf48e3481e399db8af384.2.test.h5ad\n"
     ]
    },
    {
     "name": "stdout",
     "output_type": "stream",
     "text": [
      "************************************************************\n",
      "WARNING: Your filename has more than two extensions: ['.2', '.test', '.h5ad'].\n",
      "Only considering the two last: ['.test', '.h5ad'].\n"
     ]
    },
    {
     "name": "stdout",
     "output_type": "stream",
     "text": [
      "WARNING: Your filename has more than two extensions: ['.2', '.test', '.h5ad'].\n",
      "Only considering the two last: ['.test', '.h5ad'].\n"
     ]
    },
    {
     "name": "stderr",
     "output_type": "stream",
     "text": [
      "2023-01-05 01:54:02,580 - malid.helpers - WARNING - Not marking any sequences as confident_sequence because those annotations weren't found: [Errno 2] No such file or directory: '/users/maximz/code/boyd-immune-repertoire-classification/data/data_v_20221224/embedded/unirep_fine_tuned/anndatas_scaled/TCR/neighborhoods/knn_neighborhood.2.test.TCRB.embedded_onto.train_smaller.combined_data.filtered.tsv.gz'\n"
     ]
    },
    {
     "name": "stdout",
     "output_type": "stream",
     "text": [
      "disease             study_name                 \n",
      "HIV                 HIV                            1091248\n",
      "Healthy/Background  HIV                             381294\n",
      "                    Healthy-StanfordBloodCenter    1931036\n",
      "                    New Lupus Paxgene               233446\n",
      "                    New Lupus RNA                    63238\n",
      "                    healthy_children               1208885\n",
      "Covid19             Covid19-Stanford                217108\n",
      "                    Covid19-buffycoat                45354\n",
      "Lupus               Lupus Pediatric                 676172\n",
      "                    New Lupus Paxgene               241256\n",
      "                    New Lupus RNA                   205338\n",
      "dtype: int64\n"
     ]
    },
    {
     "name": "stderr",
     "output_type": "stream",
     "text": [
      "2023-01-05 02:03:26,674 - kbet_batch_evaluation.ipynb - INFO - Skipping disease=HIV because it has only one study_name batch\n"
     ]
    },
    {
     "name": "stderr",
     "output_type": "stream",
     "text": [
      "2023-01-05 02:15:35,959 - kbet_batch_evaluation.ipynb - INFO - Running kBET on disease=Healthy/Background with neighborhood size 50 (based on batch sizes {'Healthy-StanfordBloodCenter': 1931036, 'healthy_children': 1208885, 'HIV': 381294, 'New Lupus Paxgene': 233446, 'New Lupus RNA': 63238})\n"
     ]
    },
    {
     "name": "stderr",
     "output_type": "stream",
     "text": [
      "2023-01-05 03:10:40,184 - kbet_batch_evaluation.ipynb - INFO - kBET on disease=Healthy/Background with neighborhood size 50 has expected frequencies: {'Healthy-StanfordBloodCenter': 25.289249401306847, 'healthy_children': 15.831809589515073, 'HIV': 4.993505590378373, 'New Lupus Paxgene': 3.0572574078046593, 'New Lupus RNA': 0.8281780109950525}\n"
     ]
    },
    {
     "name": "stderr",
     "output_type": "stream",
     "text": [
      "2023-01-05 03:17:22,155 - kbet_batch_evaluation.ipynb - INFO - Running kBET on disease=Covid19 with neighborhood size 50 (based on batch sizes {'Covid19-Stanford': 217108, 'Covid19-buffycoat': 45354})\n"
     ]
    },
    {
     "name": "stderr",
     "output_type": "stream",
     "text": [
      "2023-01-05 03:18:10,148 - kbet_batch_evaluation.ipynb - INFO - kBET on disease=Covid19 with neighborhood size 50 has expected frequencies: {'Covid19-Stanford': 41.35989209866571, 'Covid19-buffycoat': 8.64010790133429}\n"
     ]
    },
    {
     "name": "stderr",
     "output_type": "stream",
     "text": [
      "2023-01-05 03:18:57,151 - kbet_batch_evaluation.ipynb - INFO - Running kBET on disease=Lupus with neighborhood size 50 (based on batch sizes {'Lupus Pediatric': 676172, 'New Lupus Paxgene': 241256, 'New Lupus RNA': 205338})\n"
     ]
    },
    {
     "name": "stderr",
     "output_type": "stream",
     "text": [
      "2023-01-05 03:38:39,941 - kbet_batch_evaluation.ipynb - INFO - kBET on disease=Lupus with neighborhood size 50 has expected frequencies: {'Lupus Pediatric': 30.11188439977698, 'New Lupus Paxgene': 10.743823735310832, 'New Lupus RNA': 9.14429186491219}\n"
     ]
    },
    {
     "name": "stdout",
     "output_type": "stream",
     "text": [
      "kBET result for GeneLocus.TCR, fold 2-test: 0.10087 average of average rejection rate by label\n",
      "Average rejection rates for each label\n"
     ]
    },
    {
     "data": {
      "text/html": [
       "<div>\n",
       "<style scoped>\n",
       "    .dataframe tbody tr th:only-of-type {\n",
       "        vertical-align: middle;\n",
       "    }\n",
       "\n",
       "    .dataframe tbody tr th {\n",
       "        vertical-align: top;\n",
       "    }\n",
       "\n",
       "    .dataframe thead th {\n",
       "        text-align: right;\n",
       "    }\n",
       "</style>\n",
       "<table border=\"1\" class=\"dataframe\">\n",
       "  <thead>\n",
       "    <tr style=\"text-align: right;\">\n",
       "      <th></th>\n",
       "      <th>disease</th>\n",
       "      <th>average_rejection_rate</th>\n",
       "      <th>fold_id</th>\n",
       "      <th>fold_label</th>\n",
       "      <th>gene_locus</th>\n",
       "    </tr>\n",
       "  </thead>\n",
       "  <tbody>\n",
       "    <tr>\n",
       "      <th>0</th>\n",
       "      <td>Healthy/Background</td>\n",
       "      <td>0.122114</td>\n",
       "      <td>2</td>\n",
       "      <td>test</td>\n",
       "      <td>TCR</td>\n",
       "    </tr>\n",
       "    <tr>\n",
       "      <th>1</th>\n",
       "      <td>Covid19</td>\n",
       "      <td>0.017919</td>\n",
       "      <td>2</td>\n",
       "      <td>test</td>\n",
       "      <td>TCR</td>\n",
       "    </tr>\n",
       "    <tr>\n",
       "      <th>2</th>\n",
       "      <td>Lupus</td>\n",
       "      <td>0.162584</td>\n",
       "      <td>2</td>\n",
       "      <td>test</td>\n",
       "      <td>TCR</td>\n",
       "    </tr>\n",
       "  </tbody>\n",
       "</table>\n",
       "</div>"
      ],
      "text/plain": [
       "              disease  average_rejection_rate  fold_id fold_label gene_locus\n",
       "0  Healthy/Background                0.122114        2       test        TCR\n",
       "1             Covid19                0.017919        2       test        TCR\n",
       "2               Lupus                0.162584        2       test        TCR"
      ]
     },
     "metadata": {},
     "output_type": "display_data"
    },
    {
     "name": "stdout",
     "output_type": "stream",
     "text": [
      "************************************************************\n"
     ]
    },
    {
     "data": {
      "image/png": "[encoded data removed]",
      "text/plain": [
       "<Figure size 432x288 with 1 Axes>"
      ]
     },
     "metadata": {
      "needs_background": "light"
     },
     "output_type": "display_data"
    },
    {
     "data": {
      "image/png": "[encoded data removed]",
      "text/plain": [
       "<Figure size 432x288 with 1 Axes>"
      ]
     },
     "metadata": {
      "needs_background": "light"
     },
     "output_type": "display_data"
    },
    {
     "data": {
      "image/png": "[encoded data removed]",
      "text/plain": [
       "<Figure size 432x288 with 1 Axes>"
      ]
     },
     "metadata": {
      "needs_background": "light"
     },
     "output_type": "display_data"
    },
    {
     "data": {
      "image/png": "[encoded data removed]",
      "text/plain": [
       "<Figure size 432x288 with 1 Axes>"
      ]
     },
     "metadata": {
      "needs_background": "light"
     },
     "output_type": "display_data"
    },
    {
     "data": {
      "image/png": "[encoded data removed]",
      "text/plain": [
       "<Figure size 432x288 with 1 Axes>"
      ]
     },
     "metadata": {
      "needs_background": "light"
     },
     "output_type": "display_data"
    },
    {
     "data": {
      "image/png": "[encoded data removed]",
      "text/plain": [
       "<Figure size 432x288 with 1 Axes>"
      ]
     },
     "metadata": {
      "needs_background": "light"
     },
     "output_type": "display_data"
    }
   ],
   "source": [
    "kbet_results = kdict()\n",
    "for gene_locus in config.gene_loci_used:\n",
    "    for fold_id in config.cross_validation_fold_ids:\n",
    "        logger.info(f\"Running on {gene_locus}, fold {fold_id}-{fold_label}\")\n",
    "        adata = io.load_fold_embeddings(\n",
    "            fold_id=fold_id,\n",
    "            fold_label=fold_label,\n",
    "            gene_locus=gene_locus,\n",
    "            target_obs_column=TargetObsColumnEnum.disease,\n",
    "        )\n",
    "        # PCA was precomputed with 50 dims\n",
    "        assert adata.obsm[\"X_pca\"].shape[1] == 50\n",
    "        print(adata.obs.groupby([label_key, batch_key], observed=True).size())\n",
    "\n",
    "        # Plot kBET on each disease label\n",
    "        (\n",
    "            average_rejection_rate_overall,\n",
    "            average_rejection_rates_by_label,\n",
    "            corrected_p_values_by_label,\n",
    "        ) = kbet(\n",
    "            adata=adata,\n",
    "            batch_key=batch_key,\n",
    "            label_key=label_key,\n",
    "            significance_threshold_alpha=0.05,\n",
    "        )\n",
    "\n",
    "        # Save results\n",
    "        # reformat dict as dataframe\n",
    "        average_rejection_rates_by_label = (\n",
    "            pd.Series(average_rejection_rates_by_label)\n",
    "            .rename(\"average_rejection_rate\")\n",
    "            .rename_axis(index=label_key)\n",
    "            .reset_index()\n",
    "            .assign(fold_id=fold_id, fold_label=fold_label, gene_locus=gene_locus.name)\n",
    "        )\n",
    "        kbet_results[gene_locus, fold_id, fold_label] = (\n",
    "            average_rejection_rate_overall,\n",
    "            average_rejection_rates_by_label,\n",
    "        )\n",
    "\n",
    "        # Print results\n",
    "        print(\n",
    "            f\"kBET result for {gene_locus}, fold {fold_id}-{fold_label}: {average_rejection_rate_overall:0.5f} average of average rejection rate by label\"\n",
    "        )\n",
    "        print(\"Average rejection rates for each label\")\n",
    "        display(average_rejection_rates_by_label)\n",
    "\n",
    "        # Plot per-sequence corrected p values\n",
    "        fig, ax = plt.subplots()\n",
    "        sns.boxplot(\n",
    "            data=pd.concat(\n",
    "                [\n",
    "                    pd.DataFrame(v, columns=[xlabel]).assign(**{ylabel: k})\n",
    "                    for k, v in corrected_p_values_by_label.items()\n",
    "                ]\n",
    "            ),\n",
    "            x=xlabel,\n",
    "            y=ylabel,\n",
    "            ax=ax,\n",
    "        )\n",
    "        plt.title(f\"Fold {fold_id}, {fold_label} set, {gene_locus}\")\n",
    "        plt.xlim(-0.05, 1.05)\n",
    "\n",
    "        # Clear cache before moving onto next fold\n",
    "        io.clear_cached_fold_embeddings()\n",
    "        gc.collect()\n",
    "\n",
    "        print(\"*\" * 60)"
   ]
  },
  {
   "cell_type": "code",
   "execution_count": null,
   "metadata": {},
   "outputs": [],
   "source": []
  },
  {
   "cell_type": "markdown",
   "metadata": {},
   "source": [
    "# Review all results"
   ]
  },
  {
   "cell_type": "code",
   "execution_count": 7,
   "metadata": {
    "execution": {
     "iopub.execute_input": "2023-01-05T03:41:56.295540Z",
     "iopub.status.busy": "2023-01-05T03:41:56.294995Z",
     "iopub.status.idle": "2023-01-05T03:41:56.309927Z",
     "shell.execute_reply": "2023-01-05T03:41:56.309202Z"
    }
   },
   "outputs": [
    {
     "data": {
      "text/html": [
       "<div>\n",
       "<style scoped>\n",
       "    .dataframe tbody tr th:only-of-type {\n",
       "        vertical-align: middle;\n",
       "    }\n",
       "\n",
       "    .dataframe tbody tr th {\n",
       "        vertical-align: top;\n",
       "    }\n",
       "\n",
       "    .dataframe thead th {\n",
       "        text-align: right;\n",
       "    }\n",
       "</style>\n",
       "<table border=\"1\" class=\"dataframe\">\n",
       "  <thead>\n",
       "    <tr style=\"text-align: right;\">\n",
       "      <th></th>\n",
       "      <th>gene_locus</th>\n",
       "      <th>fold_id</th>\n",
       "      <th>fold_label</th>\n",
       "      <th>average_rejection_rate_overall</th>\n",
       "    </tr>\n",
       "  </thead>\n",
       "  <tbody>\n",
       "    <tr>\n",
       "      <th>0</th>\n",
       "      <td>BCR</td>\n",
       "      <td>0</td>\n",
       "      <td>test</td>\n",
       "      <td>0.208303</td>\n",
       "    </tr>\n",
       "    <tr>\n",
       "      <th>1</th>\n",
       "      <td>BCR</td>\n",
       "      <td>1</td>\n",
       "      <td>test</td>\n",
       "      <td>0.247679</td>\n",
       "    </tr>\n",
       "    <tr>\n",
       "      <th>2</th>\n",
       "      <td>BCR</td>\n",
       "      <td>2</td>\n",
       "      <td>test</td>\n",
       "      <td>0.203258</td>\n",
       "    </tr>\n",
       "    <tr>\n",
       "      <th>3</th>\n",
       "      <td>TCR</td>\n",
       "      <td>0</td>\n",
       "      <td>test</td>\n",
       "      <td>0.144510</td>\n",
       "    </tr>\n",
       "    <tr>\n",
       "      <th>4</th>\n",
       "      <td>TCR</td>\n",
       "      <td>1</td>\n",
       "      <td>test</td>\n",
       "      <td>0.118917</td>\n",
       "    </tr>\n",
       "    <tr>\n",
       "      <th>5</th>\n",
       "      <td>TCR</td>\n",
       "      <td>2</td>\n",
       "      <td>test</td>\n",
       "      <td>0.100872</td>\n",
       "    </tr>\n",
       "  </tbody>\n",
       "</table>\n",
       "</div>"
      ],
      "text/plain": [
       "  gene_locus  fold_id fold_label  average_rejection_rate_overall\n",
       "0        BCR        0       test                        0.208303\n",
       "1        BCR        1       test                        0.247679\n",
       "2        BCR        2       test                        0.203258\n",
       "3        TCR        0       test                        0.144510\n",
       "4        TCR        1       test                        0.118917\n",
       "5        TCR        2       test                        0.100872"
      ]
     },
     "execution_count": 7,
     "metadata": {},
     "output_type": "execute_result"
    }
   ],
   "source": [
    "# Show all results as a table\n",
    "all_results_overall = pd.DataFrame.from_records(\n",
    "    dict(\n",
    "        gene_locus=gene_locus.name,\n",
    "        fold_id=fold_id,\n",
    "        fold_label=fold_label,\n",
    "        average_rejection_rate_overall=average_rejection_rate_overall,\n",
    "    )\n",
    "    for (gene_locus, fold_id, fold_label), (\n",
    "        average_rejection_rate_overall,\n",
    "        _,\n",
    "    ) in kbet_results.items()\n",
    ")\n",
    "all_results_overall"
   ]
  },
  {
   "cell_type": "code",
   "execution_count": 8,
   "metadata": {
    "execution": {
     "iopub.execute_input": "2023-01-05T03:41:56.316713Z",
     "iopub.status.busy": "2023-01-05T03:41:56.316167Z",
     "iopub.status.idle": "2023-01-05T03:41:56.363147Z",
     "shell.execute_reply": "2023-01-05T03:41:56.361451Z"
    }
   },
   "outputs": [],
   "source": [
    "all_results_overall.to_csv(\n",
    "    config.paths.output_dir\n",
    "    / \"kbet_batch_evaluation.overall_results_by_genelocus_and_fold.tsv\",\n",
    "    sep=\"\\t\",\n",
    "    index=None,\n",
    ")"
   ]
  },
  {
   "cell_type": "code",
   "execution_count": 9,
   "metadata": {
    "execution": {
     "iopub.execute_input": "2023-01-05T03:41:56.371081Z",
     "iopub.status.busy": "2023-01-05T03:41:56.370361Z",
     "iopub.status.idle": "2023-01-05T03:41:56.395665Z",
     "shell.execute_reply": "2023-01-05T03:41:56.394465Z"
    }
   },
   "outputs": [
    {
     "data": {
      "text/html": [
       "<div>\n",
       "<style scoped>\n",
       "    .dataframe tbody tr th:only-of-type {\n",
       "        vertical-align: middle;\n",
       "    }\n",
       "\n",
       "    .dataframe tbody tr th {\n",
       "        vertical-align: top;\n",
       "    }\n",
       "\n",
       "    .dataframe thead th {\n",
       "        text-align: right;\n",
       "    }\n",
       "</style>\n",
       "<table border=\"1\" class=\"dataframe\">\n",
       "  <thead>\n",
       "    <tr style=\"text-align: right;\">\n",
       "      <th></th>\n",
       "      <th>gene_locus</th>\n",
       "      <th>fold_id</th>\n",
       "      <th>fold_label</th>\n",
       "      <th>average_rejection_rate_overall</th>\n",
       "    </tr>\n",
       "  </thead>\n",
       "  <tbody>\n",
       "    <tr>\n",
       "      <th>0</th>\n",
       "      <td>BCR</td>\n",
       "      <td>0</td>\n",
       "      <td>test</td>\n",
       "      <td>0.208303</td>\n",
       "    </tr>\n",
       "    <tr>\n",
       "      <th>1</th>\n",
       "      <td>BCR</td>\n",
       "      <td>1</td>\n",
       "      <td>test</td>\n",
       "      <td>0.247679</td>\n",
       "    </tr>\n",
       "    <tr>\n",
       "      <th>2</th>\n",
       "      <td>BCR</td>\n",
       "      <td>2</td>\n",
       "      <td>test</td>\n",
       "      <td>0.203258</td>\n",
       "    </tr>\n",
       "    <tr>\n",
       "      <th>3</th>\n",
       "      <td>TCR</td>\n",
       "      <td>0</td>\n",
       "      <td>test</td>\n",
       "      <td>0.144510</td>\n",
       "    </tr>\n",
       "    <tr>\n",
       "      <th>4</th>\n",
       "      <td>TCR</td>\n",
       "      <td>1</td>\n",
       "      <td>test</td>\n",
       "      <td>0.118917</td>\n",
       "    </tr>\n",
       "    <tr>\n",
       "      <th>5</th>\n",
       "      <td>TCR</td>\n",
       "      <td>2</td>\n",
       "      <td>test</td>\n",
       "      <td>0.100872</td>\n",
       "    </tr>\n",
       "  </tbody>\n",
       "</table>\n",
       "</div>"
      ],
      "text/plain": [
       "  gene_locus  fold_id fold_label  average_rejection_rate_overall\n",
       "0        BCR        0       test                        0.208303\n",
       "1        BCR        1       test                        0.247679\n",
       "2        BCR        2       test                        0.203258\n",
       "3        TCR        0       test                        0.144510\n",
       "4        TCR        1       test                        0.118917\n",
       "5        TCR        2       test                        0.100872"
      ]
     },
     "execution_count": 9,
     "metadata": {},
     "output_type": "execute_result"
    }
   ],
   "source": [
    "all_results_overall = pd.read_csv(\n",
    "    config.paths.output_dir\n",
    "    / \"kbet_batch_evaluation.overall_results_by_genelocus_and_fold.tsv\",\n",
    "    sep=\"\\t\",\n",
    ")\n",
    "all_results_overall"
   ]
  },
  {
   "cell_type": "code",
   "execution_count": 10,
   "metadata": {
    "execution": {
     "iopub.execute_input": "2023-01-05T03:41:56.402507Z",
     "iopub.status.busy": "2023-01-05T03:41:56.401868Z",
     "iopub.status.idle": "2023-01-05T03:41:56.409217Z",
     "shell.execute_reply": "2023-01-05T03:41:56.407432Z"
    }
   },
   "outputs": [],
   "source": [
    "# Remember: 0 means optimal batch mixing and 1 means low batch mixing\n",
    "# For each locus+fold, we took average across all cells within each label, then average across all labels\n",
    "# And now we can report average +/- std across folds by locus+disease, or by locus, or overall"
   ]
  },
  {
   "cell_type": "code",
   "execution_count": 11,
   "metadata": {
    "execution": {
     "iopub.execute_input": "2023-01-05T03:41:56.416686Z",
     "iopub.status.busy": "2023-01-05T03:41:56.415974Z",
     "iopub.status.idle": "2023-01-05T03:41:56.453876Z",
     "shell.execute_reply": "2023-01-05T03:41:56.452229Z"
    }
   },
   "outputs": [
    {
     "data": {
      "text/html": [
       "<div>\n",
       "<style scoped>\n",
       "    .dataframe tbody tr th:only-of-type {\n",
       "        vertical-align: middle;\n",
       "    }\n",
       "\n",
       "    .dataframe tbody tr th {\n",
       "        vertical-align: top;\n",
       "    }\n",
       "\n",
       "    .dataframe thead th {\n",
       "        text-align: right;\n",
       "    }\n",
       "</style>\n",
       "<table border=\"1\" class=\"dataframe\">\n",
       "  <thead>\n",
       "    <tr style=\"text-align: right;\">\n",
       "      <th></th>\n",
       "      <th>mean</th>\n",
       "      <th>std</th>\n",
       "    </tr>\n",
       "    <tr>\n",
       "      <th>gene_locus</th>\n",
       "      <th></th>\n",
       "      <th></th>\n",
       "    </tr>\n",
       "  </thead>\n",
       "  <tbody>\n",
       "    <tr>\n",
       "      <th>BCR</th>\n",
       "      <td>0.219747</td>\n",
       "      <td>0.024322</td>\n",
       "    </tr>\n",
       "    <tr>\n",
       "      <th>TCR</th>\n",
       "      <td>0.121433</td>\n",
       "      <td>0.021928</td>\n",
       "    </tr>\n",
       "  </tbody>\n",
       "</table>\n",
       "</div>"
      ],
      "text/plain": [
       "                mean       std\n",
       "gene_locus                    \n",
       "BCR         0.219747  0.024322\n",
       "TCR         0.121433  0.021928"
      ]
     },
     "execution_count": 11,
     "metadata": {},
     "output_type": "execute_result"
    }
   ],
   "source": [
    "# agg by locus\n",
    "all_results_overall.groupby(\"gene_locus\")[\"average_rejection_rate_overall\"].agg(\n",
    "    [\"mean\", \"std\"]\n",
    ")"
   ]
  },
  {
   "cell_type": "code",
   "execution_count": 12,
   "metadata": {
    "execution": {
     "iopub.execute_input": "2023-01-05T03:41:56.461272Z",
     "iopub.status.busy": "2023-01-05T03:41:56.460449Z",
     "iopub.status.idle": "2023-01-05T03:41:56.481820Z",
     "shell.execute_reply": "2023-01-05T03:41:56.480198Z"
    }
   },
   "outputs": [
    {
     "data": {
      "text/plain": [
       "mean    0.170590\n",
       "std     0.057694\n",
       "Name: average_rejection_rate_overall, dtype: float64"
      ]
     },
     "execution_count": 12,
     "metadata": {},
     "output_type": "execute_result"
    }
   ],
   "source": [
    "# agg over all\n",
    "all_results_overall[\"average_rejection_rate_overall\"].agg([\"mean\", \"std\"])"
   ]
  },
  {
   "cell_type": "code",
   "execution_count": null,
   "metadata": {},
   "outputs": [],
   "source": []
  },
  {
   "cell_type": "code",
   "execution_count": null,
   "metadata": {},
   "outputs": [],
   "source": []
  },
  {
   "cell_type": "code",
   "execution_count": 13,
   "metadata": {
    "execution": {
     "iopub.execute_input": "2023-01-05T03:41:56.490776Z",
     "iopub.status.busy": "2023-01-05T03:41:56.489602Z",
     "iopub.status.idle": "2023-01-05T03:41:56.524388Z",
     "shell.execute_reply": "2023-01-05T03:41:56.523064Z"
    }
   },
   "outputs": [
    {
     "data": {
      "text/html": [
       "<div>\n",
       "<style scoped>\n",
       "    .dataframe tbody tr th:only-of-type {\n",
       "        vertical-align: middle;\n",
       "    }\n",
       "\n",
       "    .dataframe tbody tr th {\n",
       "        vertical-align: top;\n",
       "    }\n",
       "\n",
       "    .dataframe thead th {\n",
       "        text-align: right;\n",
       "    }\n",
       "</style>\n",
       "<table border=\"1\" class=\"dataframe\">\n",
       "  <thead>\n",
       "    <tr style=\"text-align: right;\">\n",
       "      <th></th>\n",
       "      <th>disease</th>\n",
       "      <th>average_rejection_rate</th>\n",
       "      <th>fold_id</th>\n",
       "      <th>fold_label</th>\n",
       "      <th>gene_locus</th>\n",
       "    </tr>\n",
       "  </thead>\n",
       "  <tbody>\n",
       "    <tr>\n",
       "      <th>0</th>\n",
       "      <td>Healthy/Background</td>\n",
       "      <td>0.132656</td>\n",
       "      <td>0</td>\n",
       "      <td>test</td>\n",
       "      <td>BCR</td>\n",
       "    </tr>\n",
       "    <tr>\n",
       "      <th>1</th>\n",
       "      <td>Lupus</td>\n",
       "      <td>0.115432</td>\n",
       "      <td>0</td>\n",
       "      <td>test</td>\n",
       "      <td>BCR</td>\n",
       "    </tr>\n",
       "    <tr>\n",
       "      <th>2</th>\n",
       "      <td>Covid19</td>\n",
       "      <td>0.376819</td>\n",
       "      <td>0</td>\n",
       "      <td>test</td>\n",
       "      <td>BCR</td>\n",
       "    </tr>\n",
       "    <tr>\n",
       "      <th>3</th>\n",
       "      <td>Healthy/Background</td>\n",
       "      <td>0.186631</td>\n",
       "      <td>1</td>\n",
       "      <td>test</td>\n",
       "      <td>BCR</td>\n",
       "    </tr>\n",
       "    <tr>\n",
       "      <th>4</th>\n",
       "      <td>Lupus</td>\n",
       "      <td>0.259052</td>\n",
       "      <td>1</td>\n",
       "      <td>test</td>\n",
       "      <td>BCR</td>\n",
       "    </tr>\n",
       "    <tr>\n",
       "      <th>5</th>\n",
       "      <td>Covid19</td>\n",
       "      <td>0.297355</td>\n",
       "      <td>1</td>\n",
       "      <td>test</td>\n",
       "      <td>BCR</td>\n",
       "    </tr>\n",
       "    <tr>\n",
       "      <th>6</th>\n",
       "      <td>Healthy/Background</td>\n",
       "      <td>0.125485</td>\n",
       "      <td>2</td>\n",
       "      <td>test</td>\n",
       "      <td>BCR</td>\n",
       "    </tr>\n",
       "    <tr>\n",
       "      <th>7</th>\n",
       "      <td>Lupus</td>\n",
       "      <td>0.136382</td>\n",
       "      <td>2</td>\n",
       "      <td>test</td>\n",
       "      <td>BCR</td>\n",
       "    </tr>\n",
       "    <tr>\n",
       "      <th>8</th>\n",
       "      <td>Covid19</td>\n",
       "      <td>0.347907</td>\n",
       "      <td>2</td>\n",
       "      <td>test</td>\n",
       "      <td>BCR</td>\n",
       "    </tr>\n",
       "    <tr>\n",
       "      <th>9</th>\n",
       "      <td>Healthy/Background</td>\n",
       "      <td>0.117520</td>\n",
       "      <td>0</td>\n",
       "      <td>test</td>\n",
       "      <td>TCR</td>\n",
       "    </tr>\n",
       "    <tr>\n",
       "      <th>10</th>\n",
       "      <td>Covid19</td>\n",
       "      <td>0.110456</td>\n",
       "      <td>0</td>\n",
       "      <td>test</td>\n",
       "      <td>TCR</td>\n",
       "    </tr>\n",
       "    <tr>\n",
       "      <th>11</th>\n",
       "      <td>Lupus</td>\n",
       "      <td>0.205555</td>\n",
       "      <td>0</td>\n",
       "      <td>test</td>\n",
       "      <td>TCR</td>\n",
       "    </tr>\n",
       "    <tr>\n",
       "      <th>12</th>\n",
       "      <td>Healthy/Background</td>\n",
       "      <td>0.190312</td>\n",
       "      <td>1</td>\n",
       "      <td>test</td>\n",
       "      <td>TCR</td>\n",
       "    </tr>\n",
       "    <tr>\n",
       "      <th>13</th>\n",
       "      <td>Covid19</td>\n",
       "      <td>0.023064</td>\n",
       "      <td>1</td>\n",
       "      <td>test</td>\n",
       "      <td>TCR</td>\n",
       "    </tr>\n",
       "    <tr>\n",
       "      <th>14</th>\n",
       "      <td>Lupus</td>\n",
       "      <td>0.143375</td>\n",
       "      <td>1</td>\n",
       "      <td>test</td>\n",
       "      <td>TCR</td>\n",
       "    </tr>\n",
       "    <tr>\n",
       "      <th>15</th>\n",
       "      <td>Healthy/Background</td>\n",
       "      <td>0.122114</td>\n",
       "      <td>2</td>\n",
       "      <td>test</td>\n",
       "      <td>TCR</td>\n",
       "    </tr>\n",
       "    <tr>\n",
       "      <th>16</th>\n",
       "      <td>Covid19</td>\n",
       "      <td>0.017919</td>\n",
       "      <td>2</td>\n",
       "      <td>test</td>\n",
       "      <td>TCR</td>\n",
       "    </tr>\n",
       "    <tr>\n",
       "      <th>17</th>\n",
       "      <td>Lupus</td>\n",
       "      <td>0.162584</td>\n",
       "      <td>2</td>\n",
       "      <td>test</td>\n",
       "      <td>TCR</td>\n",
       "    </tr>\n",
       "  </tbody>\n",
       "</table>\n",
       "</div>"
      ],
      "text/plain": [
       "               disease  average_rejection_rate  fold_id fold_label gene_locus\n",
       "0   Healthy/Background                0.132656        0       test        BCR\n",
       "1                Lupus                0.115432        0       test        BCR\n",
       "2              Covid19                0.376819        0       test        BCR\n",
       "3   Healthy/Background                0.186631        1       test        BCR\n",
       "4                Lupus                0.259052        1       test        BCR\n",
       "5              Covid19                0.297355        1       test        BCR\n",
       "6   Healthy/Background                0.125485        2       test        BCR\n",
       "7                Lupus                0.136382        2       test        BCR\n",
       "8              Covid19                0.347907        2       test        BCR\n",
       "9   Healthy/Background                0.117520        0       test        TCR\n",
       "10             Covid19                0.110456        0       test        TCR\n",
       "11               Lupus                0.205555        0       test        TCR\n",
       "12  Healthy/Background                0.190312        1       test        TCR\n",
       "13             Covid19                0.023064        1       test        TCR\n",
       "14               Lupus                0.143375        1       test        TCR\n",
       "15  Healthy/Background                0.122114        2       test        TCR\n",
       "16             Covid19                0.017919        2       test        TCR\n",
       "17               Lupus                0.162584        2       test        TCR"
      ]
     },
     "execution_count": 13,
     "metadata": {},
     "output_type": "execute_result"
    }
   ],
   "source": [
    "# All results at per-label specificity (i.e. before we take average over all labels)\n",
    "all_results_per_label = pd.concat(\n",
    "    (\n",
    "        average_rejection_rates_by_label\n",
    "        for (_, average_rejection_rates_by_label) in kbet_results.values()\n",
    "    ),\n",
    "    axis=0,\n",
    ").reset_index(drop=True)\n",
    "all_results_per_label"
   ]
  },
  {
   "cell_type": "code",
   "execution_count": 14,
   "metadata": {
    "execution": {
     "iopub.execute_input": "2023-01-05T03:41:56.531175Z",
     "iopub.status.busy": "2023-01-05T03:41:56.530557Z",
     "iopub.status.idle": "2023-01-05T03:41:56.545942Z",
     "shell.execute_reply": "2023-01-05T03:41:56.544217Z"
    }
   },
   "outputs": [],
   "source": [
    "all_results_per_label.to_csv(\n",
    "    config.paths.output_dir\n",
    "    / \"kbet_batch_evaluation.per_label_results_by_genelocus_and_fold.tsv\",\n",
    "    sep=\"\\t\",\n",
    "    index=None,\n",
    ")"
   ]
  },
  {
   "cell_type": "code",
   "execution_count": 15,
   "metadata": {
    "execution": {
     "iopub.execute_input": "2023-01-05T03:41:56.553964Z",
     "iopub.status.busy": "2023-01-05T03:41:56.553080Z",
     "iopub.status.idle": "2023-01-05T03:41:56.583696Z",
     "shell.execute_reply": "2023-01-05T03:41:56.582209Z"
    }
   },
   "outputs": [
    {
     "data": {
      "text/html": [
       "<div>\n",
       "<style scoped>\n",
       "    .dataframe tbody tr th:only-of-type {\n",
       "        vertical-align: middle;\n",
       "    }\n",
       "\n",
       "    .dataframe tbody tr th {\n",
       "        vertical-align: top;\n",
       "    }\n",
       "\n",
       "    .dataframe thead th {\n",
       "        text-align: right;\n",
       "    }\n",
       "</style>\n",
       "<table border=\"1\" class=\"dataframe\">\n",
       "  <thead>\n",
       "    <tr style=\"text-align: right;\">\n",
       "      <th></th>\n",
       "      <th>disease</th>\n",
       "      <th>average_rejection_rate</th>\n",
       "      <th>fold_id</th>\n",
       "      <th>fold_label</th>\n",
       "      <th>gene_locus</th>\n",
       "    </tr>\n",
       "  </thead>\n",
       "  <tbody>\n",
       "    <tr>\n",
       "      <th>0</th>\n",
       "      <td>Healthy/Background</td>\n",
       "      <td>0.132656</td>\n",
       "      <td>0</td>\n",
       "      <td>test</td>\n",
       "      <td>BCR</td>\n",
       "    </tr>\n",
       "    <tr>\n",
       "      <th>1</th>\n",
       "      <td>Lupus</td>\n",
       "      <td>0.115432</td>\n",
       "      <td>0</td>\n",
       "      <td>test</td>\n",
       "      <td>BCR</td>\n",
       "    </tr>\n",
       "    <tr>\n",
       "      <th>2</th>\n",
       "      <td>Covid19</td>\n",
       "      <td>0.376819</td>\n",
       "      <td>0</td>\n",
       "      <td>test</td>\n",
       "      <td>BCR</td>\n",
       "    </tr>\n",
       "    <tr>\n",
       "      <th>3</th>\n",
       "      <td>Healthy/Background</td>\n",
       "      <td>0.186631</td>\n",
       "      <td>1</td>\n",
       "      <td>test</td>\n",
       "      <td>BCR</td>\n",
       "    </tr>\n",
       "    <tr>\n",
       "      <th>4</th>\n",
       "      <td>Lupus</td>\n",
       "      <td>0.259052</td>\n",
       "      <td>1</td>\n",
       "      <td>test</td>\n",
       "      <td>BCR</td>\n",
       "    </tr>\n",
       "    <tr>\n",
       "      <th>5</th>\n",
       "      <td>Covid19</td>\n",
       "      <td>0.297355</td>\n",
       "      <td>1</td>\n",
       "      <td>test</td>\n",
       "      <td>BCR</td>\n",
       "    </tr>\n",
       "    <tr>\n",
       "      <th>6</th>\n",
       "      <td>Healthy/Background</td>\n",
       "      <td>0.125485</td>\n",
       "      <td>2</td>\n",
       "      <td>test</td>\n",
       "      <td>BCR</td>\n",
       "    </tr>\n",
       "    <tr>\n",
       "      <th>7</th>\n",
       "      <td>Lupus</td>\n",
       "      <td>0.136382</td>\n",
       "      <td>2</td>\n",
       "      <td>test</td>\n",
       "      <td>BCR</td>\n",
       "    </tr>\n",
       "    <tr>\n",
       "      <th>8</th>\n",
       "      <td>Covid19</td>\n",
       "      <td>0.347907</td>\n",
       "      <td>2</td>\n",
       "      <td>test</td>\n",
       "      <td>BCR</td>\n",
       "    </tr>\n",
       "    <tr>\n",
       "      <th>9</th>\n",
       "      <td>Healthy/Background</td>\n",
       "      <td>0.117520</td>\n",
       "      <td>0</td>\n",
       "      <td>test</td>\n",
       "      <td>TCR</td>\n",
       "    </tr>\n",
       "    <tr>\n",
       "      <th>10</th>\n",
       "      <td>Covid19</td>\n",
       "      <td>0.110456</td>\n",
       "      <td>0</td>\n",
       "      <td>test</td>\n",
       "      <td>TCR</td>\n",
       "    </tr>\n",
       "    <tr>\n",
       "      <th>11</th>\n",
       "      <td>Lupus</td>\n",
       "      <td>0.205555</td>\n",
       "      <td>0</td>\n",
       "      <td>test</td>\n",
       "      <td>TCR</td>\n",
       "    </tr>\n",
       "    <tr>\n",
       "      <th>12</th>\n",
       "      <td>Healthy/Background</td>\n",
       "      <td>0.190312</td>\n",
       "      <td>1</td>\n",
       "      <td>test</td>\n",
       "      <td>TCR</td>\n",
       "    </tr>\n",
       "    <tr>\n",
       "      <th>13</th>\n",
       "      <td>Covid19</td>\n",
       "      <td>0.023064</td>\n",
       "      <td>1</td>\n",
       "      <td>test</td>\n",
       "      <td>TCR</td>\n",
       "    </tr>\n",
       "    <tr>\n",
       "      <th>14</th>\n",
       "      <td>Lupus</td>\n",
       "      <td>0.143375</td>\n",
       "      <td>1</td>\n",
       "      <td>test</td>\n",
       "      <td>TCR</td>\n",
       "    </tr>\n",
       "    <tr>\n",
       "      <th>15</th>\n",
       "      <td>Healthy/Background</td>\n",
       "      <td>0.122114</td>\n",
       "      <td>2</td>\n",
       "      <td>test</td>\n",
       "      <td>TCR</td>\n",
       "    </tr>\n",
       "    <tr>\n",
       "      <th>16</th>\n",
       "      <td>Covid19</td>\n",
       "      <td>0.017919</td>\n",
       "      <td>2</td>\n",
       "      <td>test</td>\n",
       "      <td>TCR</td>\n",
       "    </tr>\n",
       "    <tr>\n",
       "      <th>17</th>\n",
       "      <td>Lupus</td>\n",
       "      <td>0.162584</td>\n",
       "      <td>2</td>\n",
       "      <td>test</td>\n",
       "      <td>TCR</td>\n",
       "    </tr>\n",
       "  </tbody>\n",
       "</table>\n",
       "</div>"
      ],
      "text/plain": [
       "               disease  average_rejection_rate  fold_id fold_label gene_locus\n",
       "0   Healthy/Background                0.132656        0       test        BCR\n",
       "1                Lupus                0.115432        0       test        BCR\n",
       "2              Covid19                0.376819        0       test        BCR\n",
       "3   Healthy/Background                0.186631        1       test        BCR\n",
       "4                Lupus                0.259052        1       test        BCR\n",
       "5              Covid19                0.297355        1       test        BCR\n",
       "6   Healthy/Background                0.125485        2       test        BCR\n",
       "7                Lupus                0.136382        2       test        BCR\n",
       "8              Covid19                0.347907        2       test        BCR\n",
       "9   Healthy/Background                0.117520        0       test        TCR\n",
       "10             Covid19                0.110456        0       test        TCR\n",
       "11               Lupus                0.205555        0       test        TCR\n",
       "12  Healthy/Background                0.190312        1       test        TCR\n",
       "13             Covid19                0.023064        1       test        TCR\n",
       "14               Lupus                0.143375        1       test        TCR\n",
       "15  Healthy/Background                0.122114        2       test        TCR\n",
       "16             Covid19                0.017919        2       test        TCR\n",
       "17               Lupus                0.162584        2       test        TCR"
      ]
     },
     "execution_count": 15,
     "metadata": {},
     "output_type": "execute_result"
    }
   ],
   "source": [
    "all_results_per_label = pd.read_csv(\n",
    "    config.paths.output_dir\n",
    "    / \"kbet_batch_evaluation.per_label_results_by_genelocus_and_fold.tsv\",\n",
    "    sep=\"\\t\",\n",
    ")\n",
    "all_results_per_label"
   ]
  },
  {
   "cell_type": "code",
   "execution_count": 16,
   "metadata": {
    "execution": {
     "iopub.execute_input": "2023-01-05T03:41:56.590579Z",
     "iopub.status.busy": "2023-01-05T03:41:56.589941Z",
     "iopub.status.idle": "2023-01-05T03:41:56.610218Z",
     "shell.execute_reply": "2023-01-05T03:41:56.608731Z"
    }
   },
   "outputs": [
    {
     "data": {
      "text/html": [
       "<div>\n",
       "<style scoped>\n",
       "    .dataframe tbody tr th:only-of-type {\n",
       "        vertical-align: middle;\n",
       "    }\n",
       "\n",
       "    .dataframe tbody tr th {\n",
       "        vertical-align: top;\n",
       "    }\n",
       "\n",
       "    .dataframe thead th {\n",
       "        text-align: right;\n",
       "    }\n",
       "</style>\n",
       "<table border=\"1\" class=\"dataframe\">\n",
       "  <thead>\n",
       "    <tr style=\"text-align: right;\">\n",
       "      <th></th>\n",
       "      <th></th>\n",
       "      <th>mean</th>\n",
       "      <th>std</th>\n",
       "    </tr>\n",
       "    <tr>\n",
       "      <th>gene_locus</th>\n",
       "      <th>disease</th>\n",
       "      <th></th>\n",
       "      <th></th>\n",
       "    </tr>\n",
       "  </thead>\n",
       "  <tbody>\n",
       "    <tr>\n",
       "      <th rowspan=\"3\" valign=\"top\">BCR</th>\n",
       "      <th>Covid19</th>\n",
       "      <td>0.340694</td>\n",
       "      <td>0.040220</td>\n",
       "    </tr>\n",
       "    <tr>\n",
       "      <th>Healthy/Background</th>\n",
       "      <td>0.148257</td>\n",
       "      <td>0.033425</td>\n",
       "    </tr>\n",
       "    <tr>\n",
       "      <th>Lupus</th>\n",
       "      <td>0.170289</td>\n",
       "      <td>0.077581</td>\n",
       "    </tr>\n",
       "    <tr>\n",
       "      <th rowspan=\"3\" valign=\"top\">TCR</th>\n",
       "      <th>Covid19</th>\n",
       "      <td>0.050480</td>\n",
       "      <td>0.052005</td>\n",
       "    </tr>\n",
       "    <tr>\n",
       "      <th>Healthy/Background</th>\n",
       "      <td>0.143315</td>\n",
       "      <td>0.040765</td>\n",
       "    </tr>\n",
       "    <tr>\n",
       "      <th>Lupus</th>\n",
       "      <td>0.170505</td>\n",
       "      <td>0.031837</td>\n",
       "    </tr>\n",
       "  </tbody>\n",
       "</table>\n",
       "</div>"
      ],
      "text/plain": [
       "                                   mean       std\n",
       "gene_locus disease                               \n",
       "BCR        Covid19             0.340694  0.040220\n",
       "           Healthy/Background  0.148257  0.033425\n",
       "           Lupus               0.170289  0.077581\n",
       "TCR        Covid19             0.050480  0.052005\n",
       "           Healthy/Background  0.143315  0.040765\n",
       "           Lupus               0.170505  0.031837"
      ]
     },
     "execution_count": 16,
     "metadata": {},
     "output_type": "execute_result"
    }
   ],
   "source": [
    "all_results_per_label.groupby([\"gene_locus\", \"disease\"])[\"average_rejection_rate\"].agg(\n",
    "    [\"mean\", \"std\"]\n",
    ")"
   ]
  },
  {
   "cell_type": "code",
   "execution_count": 17,
   "metadata": {
    "execution": {
     "iopub.execute_input": "2023-01-05T03:41:56.616882Z",
     "iopub.status.busy": "2023-01-05T03:41:56.616221Z",
     "iopub.status.idle": "2023-01-05T03:41:56.648598Z",
     "shell.execute_reply": "2023-01-05T03:41:56.647168Z"
    }
   },
   "outputs": [
    {
     "data": {
      "text/html": [
       "<div>\n",
       "<style scoped>\n",
       "    .dataframe tbody tr th:only-of-type {\n",
       "        vertical-align: middle;\n",
       "    }\n",
       "\n",
       "    .dataframe tbody tr th {\n",
       "        vertical-align: top;\n",
       "    }\n",
       "\n",
       "    .dataframe thead th {\n",
       "        text-align: right;\n",
       "    }\n",
       "</style>\n",
       "<table border=\"1\" class=\"dataframe\">\n",
       "  <thead>\n",
       "    <tr style=\"text-align: right;\">\n",
       "      <th></th>\n",
       "      <th>mean</th>\n",
       "      <th>std</th>\n",
       "    </tr>\n",
       "    <tr>\n",
       "      <th>gene_locus</th>\n",
       "      <th></th>\n",
       "      <th></th>\n",
       "    </tr>\n",
       "  </thead>\n",
       "  <tbody>\n",
       "    <tr>\n",
       "      <th>BCR</th>\n",
       "      <td>0.219747</td>\n",
       "      <td>0.102508</td>\n",
       "    </tr>\n",
       "    <tr>\n",
       "      <th>TCR</th>\n",
       "      <td>0.121433</td>\n",
       "      <td>0.065692</td>\n",
       "    </tr>\n",
       "  </tbody>\n",
       "</table>\n",
       "</div>"
      ],
      "text/plain": [
       "                mean       std\n",
       "gene_locus                    \n",
       "BCR         0.219747  0.102508\n",
       "TCR         0.121433  0.065692"
      ]
     },
     "execution_count": 17,
     "metadata": {},
     "output_type": "execute_result"
    }
   ],
   "source": [
    "all_results_per_label.groupby([\"gene_locus\"])[\"average_rejection_rate\"].agg(\n",
    "    [\"mean\", \"std\"]\n",
    ")"
   ]
  },
  {
   "cell_type": "code",
   "execution_count": 18,
   "metadata": {
    "execution": {
     "iopub.execute_input": "2023-01-05T03:41:56.656093Z",
     "iopub.status.busy": "2023-01-05T03:41:56.655496Z",
     "iopub.status.idle": "2023-01-05T03:41:56.678691Z",
     "shell.execute_reply": "2023-01-05T03:41:56.677178Z"
    }
   },
   "outputs": [
    {
     "data": {
      "text/plain": [
       "mean    0.170590\n",
       "std     0.097643\n",
       "Name: average_rejection_rate, dtype: float64"
      ]
     },
     "execution_count": 18,
     "metadata": {},
     "output_type": "execute_result"
    }
   ],
   "source": [
    "all_results_per_label[\"average_rejection_rate\"].agg([\"mean\", \"std\"])"
   ]
  },
  {
   "cell_type": "code",
   "execution_count": null,
   "metadata": {},
   "outputs": [],
   "source": []
  },
  {
   "cell_type": "code",
   "execution_count": null,
   "metadata": {},
   "outputs": [],
   "source": []
  },
  {
   "cell_type": "code",
   "execution_count": null,
   "metadata": {},
   "outputs": [],
   "source": []
  },
  {
   "cell_type": "code",
   "execution_count": null,
   "metadata": {},
   "outputs": [],
   "source": []
  }
 ],
 "metadata": {
  "jupytext": {
   "cell_metadata_filter": "-all"
  },
  "kernelspec": {
   "display_name": "py39-cuda-env",
   "language": "python",
   "name": "py39-cuda-env"
  },
  "language_info": {
   "codemirror_mode": {
    "name": "ipython",
    "version": 3
   },
   "file_extension": ".py",
   "mimetype": "text/x-python",
   "name": "python",
   "nbconvert_exporter": "python",
   "pygments_lexer": "ipython3",
   "version": "3.9.13"
  }
 },
 "nbformat": 4,
 "nbformat_minor": 4
}
