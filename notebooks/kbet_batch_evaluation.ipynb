{
 "cells": [
  {
   "cell_type": "markdown",
   "metadata": {},
   "source": [
    "# Abandoned attempt with kBET's R package and scib Python wrapper\n",
    "\n",
    "We first tried to run kBET through R and a Python wrapper.\n",
    "\n",
    "Resources:\n",
    "\n",
    "- https://github.com/theislab/scib-pipeline/blob/b2ddba53016fb0574c37fed0c45cc0c490bdac7c/envs/create_conda_environments.sh\n",
    "- https://github.com/theislab/scib-pipeline/blob/b2ddba53016fb0574c37fed0c45cc0c490bdac7c/envs/scib-pipeline-R4.0.yml\n",
    "- https://github.com/theislab/scib-pipeline/blob/b2ddba53016fb0574c37fed0c45cc0c490bdac7c/envs/env_vars_activate.sh\n",
    "- https://github.com/theislab/scib-pipeline/blob/b2ddba53016fb0574c37fed0c45cc0c490bdac7c/scripts/metrics/metrics.py\n",
    "- https://github.com/theislab/scib/blob/77ab015254754baa5ca3380bd592bcc9207241de/docs/source/installation.rst\n",
    "- https://github.com/theislab/scib/blob/77ab015254754baa5ca3380bd592bcc9207241de/scib/metrics/kbet.py\n",
    "- https://github.com/theislab/scib/blob/77ab015254754baa5ca3380bd592bcc9207241de/scib/metrics/metrics.py\n",
    "- https://github.com/theislab/kBET/blob/f35171dfb04c7951b8a09ac778faf7424c4b6bc0/R/kBET-utils.R#L49\n",
    "- https://github.com/theislab/kBET/blob/f35171dfb04c7951b8a09ac778faf7424c4b6bc0/R/kBET.R#L328\n",
    "\n",
    "\n",
    "Environment setup within our main conda environment:\n",
    "\n",
    "```bash\n",
    "conda activate cuda-env-py39; # as usual\n",
    "# install R and packages\n",
    "mamba install -c conda-forge r-base=4.1 r-essentials r-devtools r-stringi rpy2 -y;\n",
    "R --version # 4.1.1\n",
    "Rscript --version # 4.1.1\n",
    "R -e 'install.packages(\"tidyverse\",repos = \"http://cran.us.r-project.org\")'\n",
    "Rscript -e \"remotes::install_github('theislab/kBET')\"\n",
    "pip install 'scib[rpy2] == 1.0.4'\n",
    "```\n",
    "\n",
    "The test we ran:\n",
    "\n",
    "```python\n",
    "# set env for rpy2. see https://github.com/theislab/scib-pipeline/blob/main/envs/env_vars_activate.sh\n",
    "import os, subprocess\n",
    "\n",
    "# in notebook, conda environment belonging to the kernel is not active in env vars, so have to set CONDA_PREFIX manually:\n",
    "os.environ['CONDA_PREFIX'] = os.path.expandvars(\"$HOME/anaconda3/envs/cuda-env-py39\")\n",
    "\n",
    "os.environ[\"CFLAGS\"] = subprocess.getoutput(\"gsl-config --cflags\")\n",
    "os.environ[\"LDFLAGS\"] = subprocess.getoutput(\"gsl-config --libs\")\n",
    "os.environ[\"LD_LIBRARY_PATH\"] = os.path.expandvars(\"${CONDA_PREFIX}/lib/R/lib/\")\n",
    "os.environ[\"QT_QPA_PLATFORM\"] = \"offscreen\"\n",
    "os.environ[\"R_HOME\"] = os.path.expandvars(\"${CONDA_PREFIX}/lib/R\")\n",
    "os.environ[\"R_LIBS\"] = \"\"\n",
    "\n",
    "import rpy2 # v3.5.1\n",
    "import rpy2.robjects as robjects # this will fail if os.environ not set right\n",
    "from scib.metrics.kbet import kBET\n",
    "print(kBET.__doc__)\n",
    "\n",
    "# go with \"full\" type (https://github.com/theislab/scib-pipeline/blob/75ae100cf158191ee9097750e658b2f822cc837b/scripts/metrics/metrics.py#L27)\n",
    "type_ = 'full'\n",
    "embed = 'X_pca'\n",
    "verbose = True\n",
    "scaled=False # see kBET.__doc__: make it so that 0 means optimal batch mixing and 1 means low batch mixing, as described in paper\n",
    "\n",
    "from malid import io\n",
    "from malid.datamodels import GeneLocus, TargetObsColumnEnum\n",
    "adata=io.load_fold_embeddings(\n",
    "    fold_id=0,\n",
    "    fold_label='test',\n",
    "    gene_locus=GeneLocus.BCR,\n",
    "    target_obs_column=TargetObsColumnEnum.disease\n",
    ")\n",
    "batch_key = \"study_name\"\n",
    "label_key = \"disease\"\n",
    "kbet_scores_df = kBET(\n",
    "    adata=adata,\n",
    "    batch_key=batch_key,\n",
    "    label_key=label_key,\n",
    "    type_=type_,\n",
    "    embed=embed,\n",
    "    scaled=scaled,\n",
    "    verbose=verbose,\n",
    "    return_df=True\n",
    ")\n",
    "kbet_scores_df\n",
    "final_score = np.nanmean(kbet_scores_df[\"kBET\"])\n",
    "final_score = 1 - final_score if scaled else final_score\n",
    "final_score\n",
    "```\n",
    "\n",
    "The problem: very slow compute. Our datasets are ~15x the max dataset size at which the scib benchmarking code disables kBET."
   ]
  },
  {
   "cell_type": "code",
   "execution_count": null,
   "metadata": {},
   "outputs": [],
   "source": []
  },
  {
   "cell_type": "markdown",
   "metadata": {},
   "source": [
    "# Reimplementation\n",
    "\n",
    "Instead we will reimplement based on this partial PR: https://github.com/scverse/scanpy/pull/364"
   ]
  },
  {
   "cell_type": "code",
   "execution_count": null,
   "metadata": {},
   "outputs": [],
   "source": []
  },
  {
   "cell_type": "markdown",
   "metadata": {},
   "source": [
    "kBET:\n",
    "\n",
    "- from https://www.nature.com/articles/s41592-018-0254-1:\n",
    "\n",
    "> In a dataset with replicates and no batch effects, the proportions of the batch labels in any neighborhood do not differ from the global distribution. In a replicated dataset with batch effects, data points from respective batches tend to cluster with their ‘peers’, and batch label proportions differ considerably between arbitrarily chosen neighborhoods\n",
    "\n",
    "> Intuitively, a replicated experiment is well mixed if a subset of neighboring samples (e.g., single-cell transcriptomic data points) has the same distribution of batch labels as the full dataset.\n",
    ">\n",
    "> In contrast, a repetition of the experiment with some bias is expected to yield a skewed distribution of batch labels across the dataset.\n",
    ">\n",
    "> kBET uses a χ2-based test for random neighborhoods of fixed size to determine whether they are well mixed, followed by averaging of the binary test results to return an overall rejection rate. This result is easy to interpret: low rejection rates imply well-mixed replicates.\n",
    "\n",
    "- from https://www.nature.com/articles/s41592-021-01336-8:\n",
    "\n",
    "> The kBET algorithm (v.0.99.6, release 4c9dafa) determines whether the label composition of a k nearest neighborhood of a cell is similar to the expected (global) label composition. The test is repeated for a random subset of cells, and the results are summarized as a rejection rate over all tested neighborhoods.\n",
    "\n",
    "> We applied kBET separately on the batch variable for each cell identity label. Using the kBET defaults, a k equal to the median of the number of cells per batch within each label was used for this computation. Additionally, we set the minimum and maximum thresholds of k to 10 and 100, respectively. As kNN graphs that have been subset by cell identity labels may no longer be connected, we computed kBET per connected component. If >25% of cells were assigned to connected components too small for kBET computation (smaller than k × 3), we assigned a kBET score of 1 to denote poor batch removal. Subsequently, kBET scores for each label were averaged and subtracted from 1 to give a final kBET score.\n"
   ]
  },
  {
   "cell_type": "code",
   "execution_count": null,
   "metadata": {},
   "outputs": [],
   "source": []
  },
  {
   "cell_type": "code",
   "execution_count": 1,
   "metadata": {
    "execution": {
     "iopub.execute_input": "2024-01-08T09:04:21.674413Z",
     "iopub.status.busy": "2024-01-08T09:04:21.673604Z",
     "iopub.status.idle": "2024-01-08T09:04:51.844060Z",
     "shell.execute_reply": "2024-01-08T09:04:51.841793Z"
    }
   },
   "outputs": [],
   "source": [
    "import numpy as np\n",
    "import pandas as pd\n",
    "import matplotlib.pyplot as plt\n",
    "\n",
    "%matplotlib inline\n",
    "import seaborn as sns\n",
    "from scipy.stats import chisquare\n",
    "from statsmodels.stats.multitest import multipletests\n",
    "import anndata\n",
    "from kdict import kdict\n",
    "import gc\n",
    "from IPython.display import display"
   ]
  },
  {
   "cell_type": "code",
   "execution_count": 2,
   "metadata": {
    "execution": {
     "iopub.execute_input": "2024-01-08T09:04:51.853149Z",
     "iopub.status.busy": "2024-01-08T09:04:51.852461Z",
     "iopub.status.idle": "2024-01-08T09:05:03.034986Z",
     "shell.execute_reply": "2024-01-08T09:05:03.033043Z"
    }
   },
   "outputs": [],
   "source": [
    "from malid import io, helpers, logger, config\n",
    "from malid.datamodels import (\n",
    "    map_cross_validation_split_strategy_to_default_target_obs_column,\n",
    ")"
   ]
  },
  {
   "cell_type": "code",
   "execution_count": 3,
   "metadata": {
    "execution": {
     "iopub.execute_input": "2024-01-08T09:05:03.043408Z",
     "iopub.status.busy": "2024-01-08T09:05:03.042734Z",
     "iopub.status.idle": "2024-01-08T09:05:19.108465Z",
     "shell.execute_reply": "2024-01-08T09:05:19.106105Z"
    }
   },
   "outputs": [
    {
     "name": "stderr",
     "output_type": "stream",
     "text": [
      "{\"message\": \"init\", \"time\": \"2024-01-08T09:05:13.966228\"}\n"
     ]
    }
   ],
   "source": [
    "# Use GPU for kNN construction and queries\n",
    "import choosegpu\n",
    "\n",
    "choosegpu.configure_gpu(enable=True)\n",
    "\n",
    "# Then import relevant methods\n",
    "from malid.knn import _fit_knn_index, _get_neighbors"
   ]
  },
  {
   "cell_type": "code",
   "execution_count": null,
   "metadata": {},
   "outputs": [],
   "source": []
  },
  {
   "cell_type": "code",
   "execution_count": null,
   "metadata": {},
   "outputs": [],
   "source": []
  },
  {
   "cell_type": "code",
   "execution_count": 4,
   "id": "c15c3fa4",
   "metadata": {
    "execution": {
     "iopub.execute_input": "2024-01-08T09:05:19.119219Z",
     "iopub.status.busy": "2024-01-08T09:05:19.116857Z",
     "iopub.status.idle": "2024-01-08T09:05:19.128085Z",
     "shell.execute_reply": "2024-01-08T09:05:19.126092Z"
    },
    "lines_to_next_cell": 1
   },
   "outputs": [],
   "source": [
    "target_obs_column = map_cross_validation_split_strategy_to_default_target_obs_column[\n",
    "    config.cross_validation_split_strategy\n",
    "]"
   ]
  },
  {
   "cell_type": "code",
   "execution_count": null,
   "metadata": {},
   "outputs": [],
   "source": []
  },
  {
   "cell_type": "code",
   "execution_count": 5,
   "metadata": {
    "execution": {
     "iopub.execute_input": "2024-01-08T09:05:19.137851Z",
     "iopub.status.busy": "2024-01-08T09:05:19.136467Z",
     "iopub.status.idle": "2024-01-08T09:05:19.174459Z",
     "shell.execute_reply": "2024-01-08T09:05:19.173111Z"
    }
   },
   "outputs": [],
   "source": [
    "def kbet(\n",
    "    adata: anndata.AnnData,\n",
    "    batch_key: str,\n",
    "    label_key: str,\n",
    "    significance_threshold_alpha=0.05,\n",
    "):\n",
    "    \"\"\"\n",
    "    kBET reimplementation.\n",
    "    Returns average-rejection-rate averages across labels; average rejection rate by label; all corrected p values for each label (not in same order as anndata obs)\n",
    "    \"\"\"\n",
    "    rejection_rates_by_label = {}\n",
    "    corrected_p_values_by_label = {}\n",
    "\n",
    "    # Group by label_key\n",
    "    # kBET is computed separately for each cell identity label, and only considers connections between cells of the same identity.\n",
    "    for label, adata_label in helpers.anndata_groupby_obs(\n",
    "        adata, label_key, observed=True\n",
    "    ):\n",
    "        batch_sizes = adata_label.obs[batch_key].value_counts()\n",
    "        if batch_sizes.index.shape[0] == 1:\n",
    "            logger.info(\n",
    "                f\"Skipping {label_key}={label} because it has only one {batch_key} batch\"\n",
    "            )\n",
    "            continue\n",
    "\n",
    "        # If any batch size is extremely large, subsample it.\n",
    "        MAX_BATCH_SIZE = 2000000  # 2 million\n",
    "\n",
    "        # Create a list to store obsnames to remove from the oversized groups\n",
    "        # See also https://github.com/scverse/scanpy/issues/987#issuecomment-1387199509 for another approach\n",
    "        indices_to_remove = []\n",
    "\n",
    "        if adata_label.obs_names.duplicated().any():\n",
    "            raise ValueError(\"Obs names must be unique\")\n",
    "\n",
    "        for batch, batch_size in batch_sizes.items():\n",
    "            if batch_size > MAX_BATCH_SIZE:\n",
    "                logger.info(\n",
    "                    f\"Subsampling {label_key}={label} because {batch_key}={batch} has {batch_size} entries which exceeds the maximum of {MAX_BATCH_SIZE}\"\n",
    "                )\n",
    "                # Determine the number of entries to remove\n",
    "                remove_count = batch_size - MAX_BATCH_SIZE\n",
    "\n",
    "                # Randomly select indices to remove\n",
    "                indices_to_remove.append(\n",
    "                    np.random.choice(\n",
    "                        adata_label.obs_names[adata_label.obs[batch_key] == batch],\n",
    "                        size=remove_count,\n",
    "                        replace=False,\n",
    "                    )\n",
    "                )\n",
    "\n",
    "        if len(indices_to_remove) > 0:\n",
    "            # Exclude the indices to remove from the adata object\n",
    "            adata_label = adata_label[\n",
    "                ~adata_label.obs.index.isin(np.hstack(indices_to_remove))\n",
    "            ]\n",
    "\n",
    "            # Recompute batch_sizes\n",
    "            batch_sizes = adata_label.obs[batch_key].value_counts()\n",
    "        del indices_to_remove\n",
    "        gc.collect()\n",
    "\n",
    "        # Choose neighborhood size, based on heuristics in kBET and scib\n",
    "        neighborhood_size = batch_sizes.mean() // 4\n",
    "        neighborhood_size = min([50, max([10, neighborhood_size])])\n",
    "        # We also considered these alternative options:\n",
    "        # \"a k equal to the median of the number of cells per batch within each label was used for this computation.\n",
    "        # Additionally, we set the minimum and maximum thresholds of k to 10 and 100, respectively.\"\n",
    "        # We also saw clipping between 10 and int(batch_sizes.mean() * 3/4)\n",
    "        # None of these make too much sense for our case where we have batch sizes in the tens of thousands\n",
    "        # Everything will default to 50. (70 was the chosen default in some implementations we saw)\n",
    "\n",
    "        # But we are keeping this sanity-check on the size from other implementations, though it doesn't seem that important:\n",
    "        size_max = np.iinfo(np.int32).max\n",
    "        if neighborhood_size * adata_label.shape[0] >= size_max:\n",
    "            neighborhood_size = size_max // adata_label.shape[0]\n",
    "\n",
    "        # Unlike kBET, we are just going to run once with a fixed neighborhood size\n",
    "        logger.info(\n",
    "            f\"Running kBET on {label_key}={label} with neighborhood size {neighborhood_size} (based on batch sizes {batch_sizes.to_dict()})\"\n",
    "        )\n",
    "\n",
    "        # Compute separate kNN graph for each identity subset\n",
    "        # Note: the kBET and scib-benchmarking implementations compute a global kNN graph with cells of all identity labels, then subset it for each cell identity label. This means they have to deal with edge cases when the graph is no longer connected, so it looks like they end up running on each strongly connected component separately.\n",
    "        # It seems like it’d be easier to just build a separate kNN graph for each cell identity label. However, this might connect cells that would otherwise be disconnected if they live in neighborhoods dominated by other cell identity labels. For the purpose of measuring batch integration within each cell identity label, I’m not sure this is a problem.\n",
    "        # We will instead build separate kNN graphs for each identity-label subset of cells\n",
    "\n",
    "        # Build kNN index\n",
    "        logger.info(\"Fitting kNN index...\")\n",
    "        knn_index = _fit_knn_index(X=adata_label.obsm[\"X_pca\"])\n",
    "\n",
    "        # Query kNN index\n",
    "        logger.info(\"Querying kNN index...\")\n",
    "        neighbor_links_df = _get_neighbors(\n",
    "            knn_index=knn_index,\n",
    "            data_X_contiguous=adata_label.obsm[\"X_pca\"],\n",
    "            n_neighbors=neighborhood_size,\n",
    "        )\n",
    "\n",
    "        logger.info(\"Computing neighborhood statistics...\")\n",
    "\n",
    "        # Note when merging:\n",
    "        # center_id and neighbor_id are integer ilocs (within adata_label), not obs_names / locs\n",
    "\n",
    "        # prepare to merge by iloc later: create sequence_info that includes the integer index\n",
    "        sequence_info = adata_label.obs[[batch_key, label_key]].reset_index(drop=True)\n",
    "        # make columns catgegorical:\n",
    "        sequence_info[batch_key] = sequence_info[batch_key].astype(\"category\")\n",
    "        sequence_info[label_key] = sequence_info[label_key].astype(\"category\")\n",
    "\n",
    "        # Merge in neighbor info\n",
    "        # neighbor_id is an iloc within adata_label\n",
    "        neighbor_links_df = pd.merge(\n",
    "            neighbor_links_df,\n",
    "            sequence_info.rename(columns=lambda s: f\"neighbor_{s}\"),\n",
    "            how=\"left\",\n",
    "            left_on=\"neighbor_id\",\n",
    "            right_index=True,\n",
    "            validate=\"m:1\",\n",
    "        )\n",
    "\n",
    "        # merge in center info\n",
    "        # center_id is a iloc within adata_label\n",
    "        neighbor_links_df = pd.merge(\n",
    "            neighbor_links_df,\n",
    "            sequence_info.rename(columns=lambda s: f\"center_{s}\"),\n",
    "            how=\"left\",\n",
    "            left_on=\"center_id\",\n",
    "            right_index=True,\n",
    "            validate=\"m:1\",\n",
    "        )\n",
    "\n",
    "        ## Compare label composition of k-nearest neighborhood of each sequence versus the expected (global) label composition\n",
    "\n",
    "        ## Get expected neighborhood composition from global values: normalized value counts * chosen k neighbors\n",
    "        expected_frequencies = (batch_sizes / batch_sizes.sum()) * neighborhood_size\n",
    "        logger.info(\n",
    "            f\"kBET on {label_key}={label} with neighborhood size {neighborhood_size} has expected frequencies: {expected_frequencies.to_dict()}\"\n",
    "        )\n",
    "\n",
    "        ## Get observed frequencies for each cell\n",
    "\n",
    "        # First, confirm we computed the right number of neighbors\n",
    "        total_num_neighbors = (\n",
    "            neighbor_links_df.groupby([\"center_id\"], observed=True)\n",
    "            .size()\n",
    "            .rename(\"total_num_neighbors\")\n",
    "        )\n",
    "        assert all(total_num_neighbors == neighborhood_size)\n",
    "        # Also sanity check that all identity labels are the same\n",
    "        assert (\n",
    "            neighbor_links_df[f\"center_{label_key}\"]\n",
    "            == neighbor_links_df[f\"neighbor_{label_key}\"]\n",
    "        ).all()\n",
    "        assert (neighbor_links_df[f\"center_{label_key}\"] == label).all()\n",
    "\n",
    "        # Get neighborhood batch frequencies for each cell\n",
    "        # https://stackoverflow.com/a/39132900/130164\n",
    "        observed_neighbor_batch_frequencies = (\n",
    "            neighbor_links_df.groupby(\n",
    "                [\"center_id\", f\"neighbor_{batch_key}\"], observed=True\n",
    "            )\n",
    "            .size()\n",
    "            .unstack(fill_value=0)\n",
    "        )\n",
    "\n",
    "        # rearrange order to match\n",
    "        assert set(observed_neighbor_batch_frequencies.columns) == set(\n",
    "            expected_frequencies.index\n",
    "        )\n",
    "        expected_frequencies = expected_frequencies.loc[\n",
    "            observed_neighbor_batch_frequencies.columns\n",
    "        ]\n",
    "\n",
    "        # Compute test statistic for each cell\n",
    "        # \"kBET uses a χ2-based test for random neighborhoods of fixed size to determine whether they are well mixed,\n",
    "        # followed by averaging of the binary test results to return an overall rejection rate.\n",
    "        # This result is easy to interpret: low rejection rates imply well-mixed replicates.\"\n",
    "        chisquared_test_statistic, p_values_uncorrected = chisquare(\n",
    "            f_obs=observed_neighbor_batch_frequencies,\n",
    "            f_exp=expected_frequencies,\n",
    "            axis=1,\n",
    "        )\n",
    "\n",
    "        # Correct for multiple hypothesis testing\n",
    "        is_wellmixed_null_hypothesis_rejected, corrected_p_values, _, _ = multipletests(\n",
    "            pvals=p_values_uncorrected,\n",
    "            alpha=significance_threshold_alpha,\n",
    "            method=\"fdr_tsbh\",\n",
    "        )\n",
    "        # is_wellmixed_null_hypothesis_rejected is a numpy array of booleans\n",
    "        rejection_rate = is_wellmixed_null_hypothesis_rejected.mean()\n",
    "\n",
    "        # Store result for each label\n",
    "        rejection_rates_by_label[label] = rejection_rate\n",
    "        # note that corrected_p_values are not in order of obsnames and should thus not be glued onto adata.obs or adata_label.obs\n",
    "        corrected_p_values_by_label[label] = corrected_p_values\n",
    "\n",
    "    # Aggregate the results across labels\n",
    "    # \"Subsequently, kBET scores for each label were averaged and subtracted from 1 to give a final kBET score.\"\n",
    "    # ^ This subtraction seems to only be in scib benchmarking and the scanpy partial PR.\n",
    "    # Really we should keep it as rejection rate, so 0 means null hypothesis was not rejected much, suggesting the well-mixed hypothesis holds.\n",
    "\n",
    "    # Returns average-rejection-rate averages across labels; average rejection rate by label; all corrected p values for each label (not in same order as anndata obs)\n",
    "    return (\n",
    "        np.mean(list(rejection_rates_by_label.values())),\n",
    "        rejection_rates_by_label,\n",
    "        corrected_p_values_by_label,\n",
    "    )"
   ]
  },
  {
   "cell_type": "code",
   "execution_count": null,
   "metadata": {},
   "outputs": [],
   "source": []
  },
  {
   "cell_type": "code",
   "execution_count": 6,
   "metadata": {
    "execution": {
     "iopub.execute_input": "2024-01-08T09:05:19.180823Z",
     "iopub.status.busy": "2024-01-08T09:05:19.180154Z",
     "iopub.status.idle": "2024-01-08T09:05:19.196709Z",
     "shell.execute_reply": "2024-01-08T09:05:19.195102Z"
    }
   },
   "outputs": [],
   "source": [
    "# kBET will be computed amongst all sequences with same [label_key]\n",
    "label_key = target_obs_column.value.obs_column_name\n",
    "\n",
    "# kBET will compute whether [batch_key] batches are well-mixed within each [label_key]\n",
    "batch_key = \"study_name\"\n",
    "\n",
    "# run on:\n",
    "fold_label = \"test\"\n",
    "\n",
    "# plot labels\n",
    "xlabel = \"kBET χ² test corrected p-value\"\n",
    "ylabel = target_obs_column.value.obs_column_name"
   ]
  },
  {
   "cell_type": "code",
   "execution_count": 7,
   "metadata": {
    "execution": {
     "iopub.execute_input": "2024-01-08T09:05:19.204243Z",
     "iopub.status.busy": "2024-01-08T09:05:19.203511Z",
     "iopub.status.idle": "2024-01-08T11:12:56.942007Z",
     "shell.execute_reply": "2024-01-08T11:12:56.941153Z"
    }
   },
   "outputs": [
    {
     "name": "stderr",
     "output_type": "stream",
     "text": [
      "{\"message\": \"Running on GeneLocus.BCR, fold 0-test\", \"time\": \"2024-01-08T09:05:19.221393\"}\n"
     ]
    },
    {
     "name": "stderr",
     "output_type": "stream",
     "text": [
      "{\"message\": \"Caching network file to local machine cache: /users/maximz/code/boyd-immune-repertoire-classification/data/data_v_20231027/in_house_peak_disease_timepoints/embedded/esm2_cdr3/anndatas_scaled/BCR/fold.0.test.h5ad -> /srv/scratch/maximz/cache/3d20a5c23fcc35b23cb822073f9cb2d6b0bebaee62c3a334176a736d.0.test.h5ad\", \"time\": \"2024-01-08T09:05:19.229383\"}\n"
     ]
    },
    {
     "name": "stdout",
     "output_type": "stream",
     "text": [
      "WARNING: Your filename has more than two extensions: ['.0', '.test', '.h5ad'].\n",
      "Only considering the two last: ['.test', '.h5ad'].\n"
     ]
    },
    {
     "name": "stdout",
     "output_type": "stream",
     "text": [
      "WARNING: Your filename has more than two extensions: ['.0', '.test', '.h5ad'].\n",
      "Only considering the two last: ['.test', '.h5ad'].\n"
     ]
    },
    {
     "name": "stdout",
     "output_type": "stream",
     "text": [
      "disease             study_name                                          \n",
      "HIV                 HIV                                                      774292\n",
      "Healthy/Background  Diabetes biobank                                          14974\n",
      "                    HIV                                                      234287\n",
      "                    Healthy-StanfordBloodCenter                             1392350\n",
      "                    Healthy-StanfordBloodCenter_included-in-resequencing     572154\n",
      "                    Lupus                                                    137798\n",
      "                    New Lupus Paxgene                                        116330\n",
      "                    New Lupus RNA                                             67472\n",
      "                    healthy_children                                         297729\n",
      "Lupus               Lupus                                                    166082\n",
      "                    Lupus Pediatric                                          827281\n",
      "                    New Lupus Paxgene                                        103204\n",
      "                    New Lupus RNA                                            119823\n",
      "Covid19             Covid19-Seattle                                           41024\n",
      "                    Covid19-Stanford                                          77699\n",
      "                    Covid19-buffycoat                                        137093\n",
      "Influenza           Flu vaccine UPenn 2021                                   258966\n",
      "T1D                 Diabetes biobank                                         330495\n",
      "dtype: int64\n"
     ]
    },
    {
     "name": "stderr",
     "output_type": "stream",
     "text": [
      "{\"message\": \"Skipping disease=HIV because it has only one study_name batch\", \"time\": \"2024-01-08T09:11:56.054777\"}\n"
     ]
    },
    {
     "name": "stderr",
     "output_type": "stream",
     "text": [
      "{\"message\": \"Running kBET on disease=Healthy/Background with neighborhood size 50 (based on batch sizes {'Healthy-StanfordBloodCenter': 1392350, 'Healthy-StanfordBloodCenter_included-in-resequencing': 572154, 'healthy_children': 297729, 'HIV': 234287, 'Lupus': 137798, 'New Lupus Paxgene': 116330, 'New Lupus RNA': 67472, 'Diabetes biobank': 14974})\", \"time\": \"2024-01-08T09:12:04.198146\"}\n"
     ]
    },
    {
     "name": "stderr",
     "output_type": "stream",
     "text": [
      "{\"message\": \"Fitting kNN index...\", \"time\": \"2024-01-08T09:12:04.199975\"}\n"
     ]
    },
    {
     "name": "stderr",
     "output_type": "stream",
     "text": [
      "{\"message\": \"Querying kNN index...\", \"time\": \"2024-01-08T09:12:05.449151\"}\n"
     ]
    },
    {
     "name": "stderr",
     "output_type": "stream",
     "text": [
      "{\"message\": \"Computing neighborhood statistics...\", \"time\": \"2024-01-08T09:17:49.358247\"}\n"
     ]
    },
    {
     "name": "stderr",
     "output_type": "stream",
     "text": [
      "{\"message\": \"kBET on disease=Healthy/Background with neighborhood size 50 has expected frequencies: {'Healthy-StanfordBloodCenter': 24.572958045161933, 'Healthy-StanfordBloodCenter_included-in-resequencing': 10.097688251784092, 'healthy_children': 5.254485025911601, 'HIV': 4.134825741750891, 'Lupus': 2.4319348387310833, 'New Lupus Paxgene': 2.0530557757702357, 'New Lupus RNA': 1.1907829390765008, 'Diabetes biobank': 0.26426938181366383}\", \"time\": \"2024-01-08T09:19:15.065649\"}\n"
     ]
    },
    {
     "name": "stderr",
     "output_type": "stream",
     "text": [
      "{\"message\": \"Running kBET on disease=Lupus with neighborhood size 50 (based on batch sizes {'Lupus Pediatric': 827281, 'Lupus': 166082, 'New Lupus RNA': 119823, 'New Lupus Paxgene': 103204})\", \"time\": \"2024-01-08T09:19:56.749435\"}\n"
     ]
    },
    {
     "name": "stderr",
     "output_type": "stream",
     "text": [
      "{\"message\": \"Fitting kNN index...\", \"time\": \"2024-01-08T09:19:56.752754\"}\n"
     ]
    },
    {
     "name": "stderr",
     "output_type": "stream",
     "text": [
      "{\"message\": \"Querying kNN index...\", \"time\": \"2024-01-08T09:19:57.237461\"}\n"
     ]
    },
    {
     "name": "stderr",
     "output_type": "stream",
     "text": [
      "{\"message\": \"Computing neighborhood statistics...\", \"time\": \"2024-01-08T09:21:03.405665\"}\n"
     ]
    },
    {
     "name": "stderr",
     "output_type": "stream",
     "text": [
      "{\"message\": \"kBET on disease=Lupus with neighborhood size 50 has expected frequencies: {'Lupus Pediatric': 34.00558209127007, 'Lupus': 6.826840075962479, 'New Lupus RNA': 4.925352888465048, 'New Lupus Paxgene': 4.242224944302403}\", \"time\": \"2024-01-08T09:21:35.136880\"}\n"
     ]
    },
    {
     "name": "stderr",
     "output_type": "stream",
     "text": [
      "{\"message\": \"Running kBET on disease=Covid19 with neighborhood size 50 (based on batch sizes {'Covid19-buffycoat': 137093, 'Covid19-Stanford': 77699, 'Covid19-Seattle': 41024})\", \"time\": \"2024-01-08T09:21:49.148942\"}\n"
     ]
    },
    {
     "name": "stderr",
     "output_type": "stream",
     "text": [
      "{\"message\": \"Fitting kNN index...\", \"time\": \"2024-01-08T09:21:49.150214\"}\n"
     ]
    },
    {
     "name": "stderr",
     "output_type": "stream",
     "text": [
      "{\"message\": \"Querying kNN index...\", \"time\": \"2024-01-08T09:21:49.248555\"}\n"
     ]
    },
    {
     "name": "stderr",
     "output_type": "stream",
     "text": [
      "{\"message\": \"Computing neighborhood statistics...\", \"time\": \"2024-01-08T09:21:53.609909\"}\n"
     ]
    },
    {
     "name": "stderr",
     "output_type": "stream",
     "text": [
      "{\"message\": \"kBET on disease=Covid19 with neighborhood size 50 has expected frequencies: {'Covid19-buffycoat': 26.795235638114896, 'Covid19-Stanford': 15.186501235262845, 'Covid19-Seattle': 8.01826312662226}\", \"time\": \"2024-01-08T09:21:58.478960\"}\n"
     ]
    },
    {
     "name": "stderr",
     "output_type": "stream",
     "text": [
      "{\"message\": \"Skipping disease=Influenza because it has only one study_name batch\", \"time\": \"2024-01-08T09:22:00.874086\"}\n"
     ]
    },
    {
     "name": "stderr",
     "output_type": "stream",
     "text": [
      "{\"message\": \"Skipping disease=T1D because it has only one study_name batch\", \"time\": \"2024-01-08T09:22:01.748245\"}\n"
     ]
    },
    {
     "name": "stdout",
     "output_type": "stream",
     "text": [
      "kBET result for GeneLocus.BCR, fold 0-test: 0.32465 average of average rejection rate by label\n",
      "Average rejection rates for each label\n"
     ]
    },
    {
     "data": {
      "text/html": [
       "<div>\n",
       "<style scoped>\n",
       "    .dataframe tbody tr th:only-of-type {\n",
       "        vertical-align: middle;\n",
       "    }\n",
       "\n",
       "    .dataframe tbody tr th {\n",
       "        vertical-align: top;\n",
       "    }\n",
       "\n",
       "    .dataframe thead th {\n",
       "        text-align: right;\n",
       "    }\n",
       "</style>\n",
       "<table border=\"1\" class=\"dataframe\">\n",
       "  <thead>\n",
       "    <tr style=\"text-align: right;\">\n",
       "      <th></th>\n",
       "      <th>disease</th>\n",
       "      <th>average_rejection_rate</th>\n",
       "      <th>fold_id</th>\n",
       "      <th>fold_label</th>\n",
       "      <th>gene_locus</th>\n",
       "    </tr>\n",
       "  </thead>\n",
       "  <tbody>\n",
       "    <tr>\n",
       "      <th>0</th>\n",
       "      <td>Healthy/Background</td>\n",
       "      <td>0.362727</td>\n",
       "      <td>0</td>\n",
       "      <td>test</td>\n",
       "      <td>BCR</td>\n",
       "    </tr>\n",
       "    <tr>\n",
       "      <th>1</th>\n",
       "      <td>Lupus</td>\n",
       "      <td>0.164288</td>\n",
       "      <td>0</td>\n",
       "      <td>test</td>\n",
       "      <td>BCR</td>\n",
       "    </tr>\n",
       "    <tr>\n",
       "      <th>2</th>\n",
       "      <td>Covid19</td>\n",
       "      <td>0.446931</td>\n",
       "      <td>0</td>\n",
       "      <td>test</td>\n",
       "      <td>BCR</td>\n",
       "    </tr>\n",
       "  </tbody>\n",
       "</table>\n",
       "</div>"
      ],
      "text/plain": [
       "              disease  average_rejection_rate  fold_id fold_label gene_locus\n",
       "0  Healthy/Background                0.362727        0       test        BCR\n",
       "1               Lupus                0.164288        0       test        BCR\n",
       "2             Covid19                0.446931        0       test        BCR"
      ]
     },
     "metadata": {},
     "output_type": "display_data"
    },
    {
     "name": "stderr",
     "output_type": "stream",
     "text": [
      "{\"message\": \"Running on GeneLocus.BCR, fold 1-test\", \"time\": \"2024-01-08T09:22:08.683932\"}\n"
     ]
    },
    {
     "name": "stderr",
     "output_type": "stream",
     "text": [
      "{\"message\": \"Caching network file to local machine cache: /users/maximz/code/boyd-immune-repertoire-classification/data/data_v_20231027/in_house_peak_disease_timepoints/embedded/esm2_cdr3/anndatas_scaled/BCR/fold.1.test.h5ad -> /srv/scratch/maximz/cache/a8ec2a8d7e77231cb7a3b56a8ab70b4db67ff80a760932bfa7818be7.1.test.h5ad\", \"time\": \"2024-01-08T09:22:08.709262\"}\n"
     ]
    },
    {
     "name": "stdout",
     "output_type": "stream",
     "text": [
      "************************************************************\n"
     ]
    },
    {
     "name": "stdout",
     "output_type": "stream",
     "text": [
      "WARNING: Your filename has more than two extensions: ['.1', '.test', '.h5ad'].\n",
      "Only considering the two last: ['.test', '.h5ad'].\n"
     ]
    },
    {
     "name": "stdout",
     "output_type": "stream",
     "text": [
      "WARNING: Your filename has more than two extensions: ['.1', '.test', '.h5ad'].\n",
      "Only considering the two last: ['.test', '.h5ad'].\n"
     ]
    },
    {
     "name": "stdout",
     "output_type": "stream",
     "text": [
      "disease             study_name                                          \n",
      "Healthy/Background  Diabetes biobank                                          7979\n",
      "                    HIV                                                     339711\n",
      "                    Healthy-StanfordBloodCenter                             612114\n",
      "                    Healthy-StanfordBloodCenter_included-in-resequencing    901105\n",
      "                    Lupus                                                   113548\n",
      "                    New Lupus RNA                                            15412\n",
      "                    healthy_children                                        370772\n",
      "HIV                 HIV                                                     920874\n",
      "Lupus               Lupus                                                   218307\n",
      "                    Lupus Pediatric                                         816698\n",
      "                    New Lupus Paxgene                                        69876\n",
      "                    New Lupus RNA                                            73326\n",
      "Covid19             Covid19-Seattle                                         125489\n",
      "                    Covid19-Stanford                                        197211\n",
      "                    Covid19-buffycoat                                        13663\n",
      "Influenza           Flu vaccine UPenn 2021                                  298624\n",
      "T1D                 Diabetes biobank                                        369432\n",
      "dtype: int64\n"
     ]
    },
    {
     "name": "stderr",
     "output_type": "stream",
     "text": [
      "{\"message\": \"Running kBET on disease=Healthy/Background with neighborhood size 50 (based on batch sizes {'Healthy-StanfordBloodCenter_included-in-resequencing': 901105, 'Healthy-StanfordBloodCenter': 612114, 'healthy_children': 370772, 'HIV': 339711, 'Lupus': 113548, 'New Lupus RNA': 15412, 'Diabetes biobank': 7979})\", \"time\": \"2024-01-08T09:28:40.369279\"}\n"
     ]
    },
    {
     "name": "stderr",
     "output_type": "stream",
     "text": [
      "{\"message\": \"Fitting kNN index...\", \"time\": \"2024-01-08T09:28:40.372410\"}\n"
     ]
    },
    {
     "name": "stderr",
     "output_type": "stream",
     "text": [
      "{\"message\": \"Querying kNN index...\", \"time\": \"2024-01-08T09:28:41.243408\"}\n"
     ]
    },
    {
     "name": "stderr",
     "output_type": "stream",
     "text": [
      "{\"message\": \"Computing neighborhood statistics...\", \"time\": \"2024-01-08T09:32:39.774584\"}\n"
     ]
    },
    {
     "name": "stderr",
     "output_type": "stream",
     "text": [
      "{\"message\": \"kBET on disease=Healthy/Background with neighborhood size 50 has expected frequencies: {'Healthy-StanfordBloodCenter_included-in-resequencing': 19.08602366899499, 'Healthy-StanfordBloodCenter': 12.96499552452067, 'healthy_children': 7.853205972445619, 'HIV': 7.195312629069816, 'Lupus': 2.4050247369252675, 'New Lupus RNA': 0.32643676018505147, 'Diabetes biobank': 0.16900070785858587}\", \"time\": \"2024-01-08T09:33:49.974412\"}\n"
     ]
    },
    {
     "name": "stderr",
     "output_type": "stream",
     "text": [
      "{\"message\": \"Skipping disease=HIV because it has only one study_name batch\", \"time\": \"2024-01-08T09:34:19.138412\"}\n"
     ]
    },
    {
     "name": "stderr",
     "output_type": "stream",
     "text": [
      "{\"message\": \"Running kBET on disease=Lupus with neighborhood size 50 (based on batch sizes {'Lupus Pediatric': 816698, 'Lupus': 218307, 'New Lupus RNA': 73326, 'New Lupus Paxgene': 69876})\", \"time\": \"2024-01-08T09:34:22.862072\"}\n"
     ]
    },
    {
     "name": "stderr",
     "output_type": "stream",
     "text": [
      "{\"message\": \"Fitting kNN index...\", \"time\": \"2024-01-08T09:34:22.863661\"}\n"
     ]
    },
    {
     "name": "stderr",
     "output_type": "stream",
     "text": [
      "{\"message\": \"Querying kNN index...\", \"time\": \"2024-01-08T09:34:23.210862\"}\n"
     ]
    },
    {
     "name": "stderr",
     "output_type": "stream",
     "text": [
      "{\"message\": \"Computing neighborhood statistics...\", \"time\": \"2024-01-08T09:35:25.614886\"}\n"
     ]
    },
    {
     "name": "stderr",
     "output_type": "stream",
     "text": [
      "{\"message\": \"kBET on disease=Lupus with neighborhood size 50 has expected frequencies: {'Lupus Pediatric': 34.6585107710275, 'Lupus': 9.264373747567278, 'New Lupus RNA': 3.1117621945888967, 'New Lupus Paxgene': 2.9653532868163235}\", \"time\": \"2024-01-08T09:35:56.094740\"}\n"
     ]
    },
    {
     "name": "stderr",
     "output_type": "stream",
     "text": [
      "{\"message\": \"Running kBET on disease=Covid19 with neighborhood size 50 (based on batch sizes {'Covid19-Stanford': 197211, 'Covid19-Seattle': 125489, 'Covid19-buffycoat': 13663})\", \"time\": \"2024-01-08T09:36:09.425930\"}\n"
     ]
    },
    {
     "name": "stderr",
     "output_type": "stream",
     "text": [
      "{\"message\": \"Fitting kNN index...\", \"time\": \"2024-01-08T09:36:09.430259\"}\n"
     ]
    },
    {
     "name": "stderr",
     "output_type": "stream",
     "text": [
      "{\"message\": \"Querying kNN index...\", \"time\": \"2024-01-08T09:36:09.581403\"}\n"
     ]
    },
    {
     "name": "stderr",
     "output_type": "stream",
     "text": [
      "{\"message\": \"Computing neighborhood statistics...\", \"time\": \"2024-01-08T09:36:16.323944\"}\n"
     ]
    },
    {
     "name": "stderr",
     "output_type": "stream",
     "text": [
      "{\"message\": \"kBET on disease=Covid19 with neighborhood size 50 has expected frequencies: {'Covid19-Stanford': 29.31520410984561, 'Covid19-Seattle': 18.653805561253765, 'Covid19-buffycoat': 2.0309903289006224}\", \"time\": \"2024-01-08T09:36:22.597100\"}\n"
     ]
    },
    {
     "name": "stderr",
     "output_type": "stream",
     "text": [
      "{\"message\": \"Skipping disease=Influenza because it has only one study_name batch\", \"time\": \"2024-01-08T09:36:25.864331\"}\n"
     ]
    },
    {
     "name": "stderr",
     "output_type": "stream",
     "text": [
      "{\"message\": \"Skipping disease=T1D because it has only one study_name batch\", \"time\": \"2024-01-08T09:36:26.909714\"}\n"
     ]
    },
    {
     "name": "stdout",
     "output_type": "stream",
     "text": [
      "kBET result for GeneLocus.BCR, fold 1-test: 0.27599 average of average rejection rate by label\n",
      "Average rejection rates for each label\n"
     ]
    },
    {
     "data": {
      "text/html": [
       "<div>\n",
       "<style scoped>\n",
       "    .dataframe tbody tr th:only-of-type {\n",
       "        vertical-align: middle;\n",
       "    }\n",
       "\n",
       "    .dataframe tbody tr th {\n",
       "        vertical-align: top;\n",
       "    }\n",
       "\n",
       "    .dataframe thead th {\n",
       "        text-align: right;\n",
       "    }\n",
       "</style>\n",
       "<table border=\"1\" class=\"dataframe\">\n",
       "  <thead>\n",
       "    <tr style=\"text-align: right;\">\n",
       "      <th></th>\n",
       "      <th>disease</th>\n",
       "      <th>average_rejection_rate</th>\n",
       "      <th>fold_id</th>\n",
       "      <th>fold_label</th>\n",
       "      <th>gene_locus</th>\n",
       "    </tr>\n",
       "  </thead>\n",
       "  <tbody>\n",
       "    <tr>\n",
       "      <th>0</th>\n",
       "      <td>Healthy/Background</td>\n",
       "      <td>0.273227</td>\n",
       "      <td>1</td>\n",
       "      <td>test</td>\n",
       "      <td>BCR</td>\n",
       "    </tr>\n",
       "    <tr>\n",
       "      <th>1</th>\n",
       "      <td>Lupus</td>\n",
       "      <td>0.172976</td>\n",
       "      <td>1</td>\n",
       "      <td>test</td>\n",
       "      <td>BCR</td>\n",
       "    </tr>\n",
       "    <tr>\n",
       "      <th>2</th>\n",
       "      <td>Covid19</td>\n",
       "      <td>0.381760</td>\n",
       "      <td>1</td>\n",
       "      <td>test</td>\n",
       "      <td>BCR</td>\n",
       "    </tr>\n",
       "  </tbody>\n",
       "</table>\n",
       "</div>"
      ],
      "text/plain": [
       "              disease  average_rejection_rate  fold_id fold_label gene_locus\n",
       "0  Healthy/Background                0.273227        1       test        BCR\n",
       "1               Lupus                0.172976        1       test        BCR\n",
       "2             Covid19                0.381760        1       test        BCR"
      ]
     },
     "metadata": {},
     "output_type": "display_data"
    },
    {
     "name": "stderr",
     "output_type": "stream",
     "text": [
      "{\"message\": \"Running on GeneLocus.BCR, fold 2-test\", \"time\": \"2024-01-08T09:36:32.755828\"}\n"
     ]
    },
    {
     "name": "stderr",
     "output_type": "stream",
     "text": [
      "{\"message\": \"Caching network file to local machine cache: /users/maximz/code/boyd-immune-repertoire-classification/data/data_v_20231027/in_house_peak_disease_timepoints/embedded/esm2_cdr3/anndatas_scaled/BCR/fold.2.test.h5ad -> /srv/scratch/maximz/cache/49ad448986ba6c629bddd18a775b224b397f41d526a744104498b992.2.test.h5ad\", \"time\": \"2024-01-08T09:36:32.783745\"}\n"
     ]
    },
    {
     "name": "stdout",
     "output_type": "stream",
     "text": [
      "************************************************************\n"
     ]
    },
    {
     "name": "stdout",
     "output_type": "stream",
     "text": [
      "WARNING: Your filename has more than two extensions: ['.2', '.test', '.h5ad'].\n",
      "Only considering the two last: ['.test', '.h5ad'].\n"
     ]
    },
    {
     "name": "stdout",
     "output_type": "stream",
     "text": [
      "WARNING: Your filename has more than two extensions: ['.2', '.test', '.h5ad'].\n",
      "Only considering the two last: ['.test', '.h5ad'].\n"
     ]
    },
    {
     "name": "stdout",
     "output_type": "stream",
     "text": [
      "disease             study_name                                          \n",
      "HIV                 HIV                                                     1029486\n",
      "Healthy/Background  Diabetes biobank                                           8617\n",
      "                    HIV                                                      245479\n",
      "                    Healthy-StanfordBloodCenter                             1275549\n",
      "                    Healthy-StanfordBloodCenter_included-in-resequencing     127559\n",
      "                    Lupus                                                    108610\n",
      "                    New Lupus RNA                                             41257\n",
      "                    healthy_children                                         450553\n",
      "Lupus               Lupus                                                    127067\n",
      "                    Lupus Pediatric                                          583117\n",
      "                    New Lupus Paxgene                                        110770\n",
      "                    New Lupus RNA                                            100539\n",
      "Covid19             Covid19-Seattle                                          106463\n",
      "                    Covid19-Stanford                                         123876\n",
      "                    Covid19-buffycoat                                        104031\n",
      "Influenza           Flu vaccine UPenn 2021                                   287166\n",
      "T1D                 Diabetes biobank                                         312582\n",
      "dtype: int64\n"
     ]
    },
    {
     "name": "stderr",
     "output_type": "stream",
     "text": [
      "{\"message\": \"Skipping disease=HIV because it has only one study_name batch\", \"time\": \"2024-01-08T09:42:42.283628\"}\n"
     ]
    },
    {
     "name": "stderr",
     "output_type": "stream",
     "text": [
      "{\"message\": \"Running kBET on disease=Healthy/Background with neighborhood size 50 (based on batch sizes {'Healthy-StanfordBloodCenter': 1275549, 'healthy_children': 450553, 'HIV': 245479, 'Healthy-StanfordBloodCenter_included-in-resequencing': 127559, 'Lupus': 108610, 'New Lupus RNA': 41257, 'Diabetes biobank': 8617})\", \"time\": \"2024-01-08T09:42:53.248452\"}\n"
     ]
    },
    {
     "name": "stderr",
     "output_type": "stream",
     "text": [
      "{\"message\": \"Fitting kNN index...\", \"time\": \"2024-01-08T09:42:53.249621\"}\n"
     ]
    },
    {
     "name": "stderr",
     "output_type": "stream",
     "text": [
      "{\"message\": \"Querying kNN index...\", \"time\": \"2024-01-08T09:42:53.857909\"}\n"
     ]
    },
    {
     "name": "stderr",
     "output_type": "stream",
     "text": [
      "{\"message\": \"Computing neighborhood statistics...\", \"time\": \"2024-01-08T09:46:32.806295\"}\n"
     ]
    },
    {
     "name": "stderr",
     "output_type": "stream",
     "text": [
      "{\"message\": \"kBET on disease=Healthy/Background with neighborhood size 50 has expected frequencies: {'Healthy-StanfordBloodCenter': 28.24981042015854, 'healthy_children': 9.978477372671446, 'HIV': 5.436667044645167, 'Healthy-StanfordBloodCenter_included-in-resequencing': 2.825071845444591, 'Lupus': 2.4054049744332984, 'New Lupus RNA': 0.9137261120540887, 'Diabetes biobank': 0.1908422305928711}\", \"time\": \"2024-01-08T09:47:36.118075\"}\n"
     ]
    },
    {
     "name": "stderr",
     "output_type": "stream",
     "text": [
      "{\"message\": \"Running kBET on disease=Lupus with neighborhood size 50 (based on batch sizes {'Lupus Pediatric': 583117, 'Lupus': 127067, 'New Lupus Paxgene': 110770, 'New Lupus RNA': 100539})\", \"time\": \"2024-01-08T09:48:04.940021\"}\n"
     ]
    },
    {
     "name": "stderr",
     "output_type": "stream",
     "text": [
      "{\"message\": \"Fitting kNN index...\", \"time\": \"2024-01-08T09:48:04.942575\"}\n"
     ]
    },
    {
     "name": "stderr",
     "output_type": "stream",
     "text": [
      "{\"message\": \"Querying kNN index...\", \"time\": \"2024-01-08T09:48:05.217307\"}\n"
     ]
    },
    {
     "name": "stderr",
     "output_type": "stream",
     "text": [
      "{\"message\": \"Computing neighborhood statistics...\", \"time\": \"2024-01-08T09:48:44.562068\"}\n"
     ]
    },
    {
     "name": "stderr",
     "output_type": "stream",
     "text": [
      "{\"message\": \"kBET on disease=Lupus with neighborhood size 50 has expected frequencies: {'Lupus Pediatric': 31.63979541895598, 'Lupus': 6.894626437748307, 'New Lupus Paxgene': 6.010354934871995, 'New Lupus RNA': 5.455223208423721}\", \"time\": \"2024-01-08T09:49:07.257297\"}\n"
     ]
    },
    {
     "name": "stderr",
     "output_type": "stream",
     "text": [
      "{\"message\": \"Running kBET on disease=Covid19 with neighborhood size 50 (based on batch sizes {'Covid19-Stanford': 123876, 'Covid19-Seattle': 106463, 'Covid19-buffycoat': 104031})\", \"time\": \"2024-01-08T09:49:18.240790\"}\n"
     ]
    },
    {
     "name": "stderr",
     "output_type": "stream",
     "text": [
      "{\"message\": \"Fitting kNN index...\", \"time\": \"2024-01-08T09:49:18.245842\"}\n"
     ]
    },
    {
     "name": "stderr",
     "output_type": "stream",
     "text": [
      "{\"message\": \"Querying kNN index...\", \"time\": \"2024-01-08T09:49:18.343849\"}\n"
     ]
    },
    {
     "name": "stderr",
     "output_type": "stream",
     "text": [
      "{\"message\": \"Computing neighborhood statistics...\", \"time\": \"2024-01-08T09:49:25.093858\"}\n"
     ]
    },
    {
     "name": "stderr",
     "output_type": "stream",
     "text": [
      "{\"message\": \"kBET on disease=Covid19 with neighborhood size 50 has expected frequencies: {'Covid19-Stanford': 18.52379100995903, 'Covid19-Seattle': 15.919938989741903, 'Covid19-buffycoat': 15.556270000299069}\", \"time\": \"2024-01-08T09:49:32.037294\"}\n"
     ]
    },
    {
     "name": "stderr",
     "output_type": "stream",
     "text": [
      "{\"message\": \"Skipping disease=Influenza because it has only one study_name batch\", \"time\": \"2024-01-08T09:49:35.401917\"}\n"
     ]
    },
    {
     "name": "stderr",
     "output_type": "stream",
     "text": [
      "{\"message\": \"Skipping disease=T1D because it has only one study_name batch\", \"time\": \"2024-01-08T09:49:36.243036\"}\n"
     ]
    },
    {
     "name": "stdout",
     "output_type": "stream",
     "text": [
      "kBET result for GeneLocus.BCR, fold 2-test: 0.34195 average of average rejection rate by label\n",
      "Average rejection rates for each label\n"
     ]
    },
    {
     "data": {
      "text/html": [
       "<div>\n",
       "<style scoped>\n",
       "    .dataframe tbody tr th:only-of-type {\n",
       "        vertical-align: middle;\n",
       "    }\n",
       "\n",
       "    .dataframe tbody tr th {\n",
       "        vertical-align: top;\n",
       "    }\n",
       "\n",
       "    .dataframe thead th {\n",
       "        text-align: right;\n",
       "    }\n",
       "</style>\n",
       "<table border=\"1\" class=\"dataframe\">\n",
       "  <thead>\n",
       "    <tr style=\"text-align: right;\">\n",
       "      <th></th>\n",
       "      <th>disease</th>\n",
       "      <th>average_rejection_rate</th>\n",
       "      <th>fold_id</th>\n",
       "      <th>fold_label</th>\n",
       "      <th>gene_locus</th>\n",
       "    </tr>\n",
       "  </thead>\n",
       "  <tbody>\n",
       "    <tr>\n",
       "      <th>0</th>\n",
       "      <td>Healthy/Background</td>\n",
       "      <td>0.307194</td>\n",
       "      <td>2</td>\n",
       "      <td>test</td>\n",
       "      <td>BCR</td>\n",
       "    </tr>\n",
       "    <tr>\n",
       "      <th>1</th>\n",
       "      <td>Lupus</td>\n",
       "      <td>0.223200</td>\n",
       "      <td>2</td>\n",
       "      <td>test</td>\n",
       "      <td>BCR</td>\n",
       "    </tr>\n",
       "    <tr>\n",
       "      <th>2</th>\n",
       "      <td>Covid19</td>\n",
       "      <td>0.495463</td>\n",
       "      <td>2</td>\n",
       "      <td>test</td>\n",
       "      <td>BCR</td>\n",
       "    </tr>\n",
       "  </tbody>\n",
       "</table>\n",
       "</div>"
      ],
      "text/plain": [
       "              disease  average_rejection_rate  fold_id fold_label gene_locus\n",
       "0  Healthy/Background                0.307194        2       test        BCR\n",
       "1               Lupus                0.223200        2       test        BCR\n",
       "2             Covid19                0.495463        2       test        BCR"
      ]
     },
     "metadata": {},
     "output_type": "display_data"
    },
    {
     "name": "stderr",
     "output_type": "stream",
     "text": [
      "{\"message\": \"Running on GeneLocus.TCR, fold 0-test\", \"time\": \"2024-01-08T09:49:41.847129\"}\n"
     ]
    },
    {
     "name": "stderr",
     "output_type": "stream",
     "text": [
      "{\"message\": \"Caching network file to local machine cache: /users/maximz/code/boyd-immune-repertoire-classification/data/data_v_20231027/in_house_peak_disease_timepoints/embedded/esm2_cdr3/anndatas_scaled/TCR/fold.0.test.h5ad -> /srv/scratch/maximz/cache/41935c853da5d38d5d39cd74a38bd148951d1e8ded05e20393494c35.0.test.h5ad\", \"time\": \"2024-01-08T09:49:41.870960\"}\n"
     ]
    },
    {
     "name": "stdout",
     "output_type": "stream",
     "text": [
      "************************************************************\n"
     ]
    },
    {
     "name": "stdout",
     "output_type": "stream",
     "text": [
      "WARNING: Your filename has more than two extensions: ['.0', '.test', '.h5ad'].\n",
      "Only considering the two last: ['.test', '.h5ad'].\n"
     ]
    },
    {
     "name": "stdout",
     "output_type": "stream",
     "text": [
      "WARNING: Your filename has more than two extensions: ['.0', '.test', '.h5ad'].\n",
      "Only considering the two last: ['.test', '.h5ad'].\n"
     ]
    },
    {
     "name": "stdout",
     "output_type": "stream",
     "text": [
      "disease             study_name                                          \n",
      "HIV                 HIV                                                     1056122\n",
      "Healthy/Background  Diabetes biobank                                          27260\n",
      "                    HIV                                                      465091\n",
      "                    Healthy-StanfordBloodCenter                             1829837\n",
      "                    Healthy-StanfordBloodCenter_included-in-resequencing     656357\n",
      "                    New Lupus Paxgene                                        377708\n",
      "                    New Lupus RNA                                             51998\n",
      "                    healthy_children                                        1000190\n",
      "Covid19             Covid19-Stanford                                         156847\n",
      "                    Covid19-buffycoat                                        132755\n",
      "Lupus               Lupus Pediatric                                          918950\n",
      "                    New Lupus Paxgene                                        375474\n",
      "                    New Lupus RNA                                            117922\n",
      "Influenza           Flu vaccine UPenn 2021                                   389204\n",
      "T1D                 Diabetes biobank                                         802364\n",
      "dtype: int64\n"
     ]
    },
    {
     "name": "stderr",
     "output_type": "stream",
     "text": [
      "{\"message\": \"Skipping disease=HIV because it has only one study_name batch\", \"time\": \"2024-01-08T10:00:22.914066\"}\n"
     ]
    },
    {
     "name": "stderr",
     "output_type": "stream",
     "text": [
      "{\"message\": \"Running kBET on disease=Healthy/Background with neighborhood size 50 (based on batch sizes {'Healthy-StanfordBloodCenter': 1829837, 'healthy_children': 1000190, 'Healthy-StanfordBloodCenter_included-in-resequencing': 656357, 'HIV': 465091, 'New Lupus Paxgene': 377708, 'New Lupus RNA': 51998, 'Diabetes biobank': 27260})\", \"time\": \"2024-01-08T10:01:09.467987\"}\n"
     ]
    },
    {
     "name": "stderr",
     "output_type": "stream",
     "text": [
      "{\"message\": \"Fitting kNN index...\", \"time\": \"2024-01-08T10:01:09.470201\"}\n"
     ]
    },
    {
     "name": "stderr",
     "output_type": "stream",
     "text": [
      "{\"message\": \"Querying kNN index...\", \"time\": \"2024-01-08T10:01:10.661719\"}\n"
     ]
    },
    {
     "name": "stderr",
     "output_type": "stream",
     "text": [
      "{\"message\": \"Computing neighborhood statistics...\", \"time\": \"2024-01-08T10:15:31.922872\"}\n"
     ]
    },
    {
     "name": "stderr",
     "output_type": "stream",
     "text": [
      "{\"message\": \"kBET on disease=Healthy/Background with neighborhood size 50 has expected frequencies: {'Healthy-StanfordBloodCenter': 20.75378801712442, 'healthy_children': 11.344032958590123, 'Healthy-StanfordBloodCenter_included-in-resequencing': 7.444321019607612, 'HIV': 5.275005381721112, 'New Lupus Paxgene': 4.283918056292463, 'New Lupus RNA': 0.5897549723360254, 'Diabetes biobank': 0.3091795943282444}\", \"time\": \"2024-01-08T10:17:52.964766\"}\n"
     ]
    },
    {
     "name": "stderr",
     "output_type": "stream",
     "text": [
      "{\"message\": \"Running kBET on disease=Covid19 with neighborhood size 50 (based on batch sizes {'Covid19-Stanford': 156847, 'Covid19-buffycoat': 132755})\", \"time\": \"2024-01-08T10:18:53.276017\"}\n"
     ]
    },
    {
     "name": "stderr",
     "output_type": "stream",
     "text": [
      "{\"message\": \"Fitting kNN index...\", \"time\": \"2024-01-08T10:18:53.279104\"}\n"
     ]
    },
    {
     "name": "stderr",
     "output_type": "stream",
     "text": [
      "{\"message\": \"Querying kNN index...\", \"time\": \"2024-01-08T10:18:53.353626\"}\n"
     ]
    },
    {
     "name": "stderr",
     "output_type": "stream",
     "text": [
      "{\"message\": \"Computing neighborhood statistics...\", \"time\": \"2024-01-08T10:18:58.691802\"}\n"
     ]
    },
    {
     "name": "stderr",
     "output_type": "stream",
     "text": [
      "{\"message\": \"kBET on disease=Covid19 with neighborhood size 50 has expected frequencies: {'Covid19-Stanford': 27.079750830450067, 'Covid19-buffycoat': 22.920249169549933}\", \"time\": \"2024-01-08T10:19:04.080081\"}\n"
     ]
    },
    {
     "name": "stderr",
     "output_type": "stream",
     "text": [
      "{\"message\": \"Running kBET on disease=Lupus with neighborhood size 50 (based on batch sizes {'Lupus Pediatric': 918950, 'New Lupus Paxgene': 375474, 'New Lupus RNA': 117922})\", \"time\": \"2024-01-08T10:19:12.365163\"}\n"
     ]
    },
    {
     "name": "stderr",
     "output_type": "stream",
     "text": [
      "{\"message\": \"Fitting kNN index...\", \"time\": \"2024-01-08T10:19:12.369424\"}\n"
     ]
    },
    {
     "name": "stderr",
     "output_type": "stream",
     "text": [
      "{\"message\": \"Querying kNN index...\", \"time\": \"2024-01-08T10:19:12.786973\"}\n"
     ]
    },
    {
     "name": "stderr",
     "output_type": "stream",
     "text": [
      "{\"message\": \"Computing neighborhood statistics...\", \"time\": \"2024-01-08T10:20:40.727878\"}\n"
     ]
    },
    {
     "name": "stderr",
     "output_type": "stream",
     "text": [
      "{\"message\": \"kBET on disease=Lupus with neighborhood size 50 has expected frequencies: {'Lupus Pediatric': 32.53275047332594, 'New Lupus Paxgene': 13.29256428665497, 'New Lupus RNA': 4.174685240019089}\", \"time\": \"2024-01-08T10:21:17.932764\"}\n"
     ]
    },
    {
     "name": "stderr",
     "output_type": "stream",
     "text": [
      "{\"message\": \"Skipping disease=Influenza because it has only one study_name batch\", \"time\": \"2024-01-08T10:21:30.731028\"}\n"
     ]
    },
    {
     "name": "stderr",
     "output_type": "stream",
     "text": [
      "{\"message\": \"Skipping disease=T1D because it has only one study_name batch\", \"time\": \"2024-01-08T10:21:32.866248\"}\n"
     ]
    },
    {
     "name": "stdout",
     "output_type": "stream",
     "text": [
      "kBET result for GeneLocus.TCR, fold 0-test: 0.05108 average of average rejection rate by label\n",
      "Average rejection rates for each label\n"
     ]
    },
    {
     "data": {
      "text/html": [
       "<div>\n",
       "<style scoped>\n",
       "    .dataframe tbody tr th:only-of-type {\n",
       "        vertical-align: middle;\n",
       "    }\n",
       "\n",
       "    .dataframe tbody tr th {\n",
       "        vertical-align: top;\n",
       "    }\n",
       "\n",
       "    .dataframe thead th {\n",
       "        text-align: right;\n",
       "    }\n",
       "</style>\n",
       "<table border=\"1\" class=\"dataframe\">\n",
       "  <thead>\n",
       "    <tr style=\"text-align: right;\">\n",
       "      <th></th>\n",
       "      <th>disease</th>\n",
       "      <th>average_rejection_rate</th>\n",
       "      <th>fold_id</th>\n",
       "      <th>fold_label</th>\n",
       "      <th>gene_locus</th>\n",
       "    </tr>\n",
       "  </thead>\n",
       "  <tbody>\n",
       "    <tr>\n",
       "      <th>0</th>\n",
       "      <td>Healthy/Background</td>\n",
       "      <td>0.070744</td>\n",
       "      <td>0</td>\n",
       "      <td>test</td>\n",
       "      <td>TCR</td>\n",
       "    </tr>\n",
       "    <tr>\n",
       "      <th>1</th>\n",
       "      <td>Covid19</td>\n",
       "      <td>0.046122</td>\n",
       "      <td>0</td>\n",
       "      <td>test</td>\n",
       "      <td>TCR</td>\n",
       "    </tr>\n",
       "    <tr>\n",
       "      <th>2</th>\n",
       "      <td>Lupus</td>\n",
       "      <td>0.036386</td>\n",
       "      <td>0</td>\n",
       "      <td>test</td>\n",
       "      <td>TCR</td>\n",
       "    </tr>\n",
       "  </tbody>\n",
       "</table>\n",
       "</div>"
      ],
      "text/plain": [
       "              disease  average_rejection_rate  fold_id fold_label gene_locus\n",
       "0  Healthy/Background                0.070744        0       test        TCR\n",
       "1             Covid19                0.046122        0       test        TCR\n",
       "2               Lupus                0.036386        0       test        TCR"
      ]
     },
     "metadata": {},
     "output_type": "display_data"
    },
    {
     "name": "stderr",
     "output_type": "stream",
     "text": [
      "{\"message\": \"Running on GeneLocus.TCR, fold 1-test\", \"time\": \"2024-01-08T10:21:42.472090\"}\n"
     ]
    },
    {
     "name": "stderr",
     "output_type": "stream",
     "text": [
      "{\"message\": \"Caching network file to local machine cache: /users/maximz/code/boyd-immune-repertoire-classification/data/data_v_20231027/in_house_peak_disease_timepoints/embedded/esm2_cdr3/anndatas_scaled/TCR/fold.1.test.h5ad -> /srv/scratch/maximz/cache/c5bcf716b249e7555aa96e56969f7f543c4a94532ed01bbf7f05aeb2.1.test.h5ad\", \"time\": \"2024-01-08T10:21:42.491917\"}\n"
     ]
    },
    {
     "name": "stdout",
     "output_type": "stream",
     "text": [
      "************************************************************\n"
     ]
    },
    {
     "name": "stdout",
     "output_type": "stream",
     "text": [
      "WARNING: Your filename has more than two extensions: ['.1', '.test', '.h5ad'].\n",
      "Only considering the two last: ['.test', '.h5ad'].\n"
     ]
    },
    {
     "name": "stdout",
     "output_type": "stream",
     "text": [
      "WARNING: Your filename has more than two extensions: ['.1', '.test', '.h5ad'].\n",
      "Only considering the two last: ['.test', '.h5ad'].\n"
     ]
    },
    {
     "name": "stdout",
     "output_type": "stream",
     "text": [
      "disease             study_name                                          \n",
      "Healthy/Background  Diabetes biobank                                          22193\n",
      "                    HIV                                                      518564\n",
      "                    Healthy-StanfordBloodCenter                              923870\n",
      "                    Healthy-StanfordBloodCenter_included-in-resequencing    1277421\n",
      "                    New Lupus RNA                                             11216\n",
      "                    healthy_children                                        1349332\n",
      "HIV                 HIV                                                     1016778\n",
      "Covid19             Covid19-Stanford                                         279887\n",
      "                    Covid19-buffycoat                                         15404\n",
      "Lupus               Lupus Pediatric                                          767165\n",
      "                    New Lupus Paxgene                                        123275\n",
      "                    New Lupus RNA                                            197191\n",
      "Influenza           Flu vaccine UPenn 2021                                   419328\n",
      "T1D                 Diabetes biobank                                         864409\n",
      "dtype: int64\n"
     ]
    },
    {
     "name": "stderr",
     "output_type": "stream",
     "text": [
      "{\"message\": \"Running kBET on disease=Healthy/Background with neighborhood size 50 (based on batch sizes {'healthy_children': 1349332, 'Healthy-StanfordBloodCenter_included-in-resequencing': 1277421, 'Healthy-StanfordBloodCenter': 923870, 'HIV': 518564, 'Diabetes biobank': 22193, 'New Lupus RNA': 11216})\", \"time\": \"2024-01-08T10:32:17.175086\"}\n"
     ]
    },
    {
     "name": "stderr",
     "output_type": "stream",
     "text": [
      "{\"message\": \"Fitting kNN index...\", \"time\": \"2024-01-08T10:32:17.177902\"}\n"
     ]
    },
    {
     "name": "stderr",
     "output_type": "stream",
     "text": [
      "{\"message\": \"Querying kNN index...\", \"time\": \"2024-01-08T10:32:18.284836\"}\n"
     ]
    },
    {
     "name": "stderr",
     "output_type": "stream",
     "text": [
      "{\"message\": \"Computing neighborhood statistics...\", \"time\": \"2024-01-08T10:44:05.967890\"}\n"
     ]
    },
    {
     "name": "stderr",
     "output_type": "stream",
     "text": [
      "{\"message\": \"kBET on disease=Healthy/Background with neighborhood size 50 has expected frequencies: {'healthy_children': 16.444855891245446, 'Healthy-StanfordBloodCenter_included-in-resequencing': 15.568447392821522, 'Healthy-StanfordBloodCenter': 11.259578081780413, 'HIV': 6.319949612391763, 'Diabetes biobank': 0.2704750845562176, 'New Lupus RNA': 0.13669393720463824}\", \"time\": \"2024-01-08T10:46:16.707729\"}\n"
     ]
    },
    {
     "name": "stderr",
     "output_type": "stream",
     "text": [
      "{\"message\": \"Skipping disease=HIV because it has only one study_name batch\", \"time\": \"2024-01-08T10:47:11.020299\"}\n"
     ]
    },
    {
     "name": "stderr",
     "output_type": "stream",
     "text": [
      "{\"message\": \"Running kBET on disease=Covid19 with neighborhood size 50 (based on batch sizes {'Covid19-Stanford': 279887, 'Covid19-buffycoat': 15404})\", \"time\": \"2024-01-08T10:47:12.329920\"}\n"
     ]
    },
    {
     "name": "stderr",
     "output_type": "stream",
     "text": [
      "{\"message\": \"Fitting kNN index...\", \"time\": \"2024-01-08T10:47:12.331561\"}\n"
     ]
    },
    {
     "name": "stderr",
     "output_type": "stream",
     "text": [
      "{\"message\": \"Querying kNN index...\", \"time\": \"2024-01-08T10:47:12.408070\"}\n"
     ]
    },
    {
     "name": "stderr",
     "output_type": "stream",
     "text": [
      "{\"message\": \"Computing neighborhood statistics...\", \"time\": \"2024-01-08T10:47:17.926876\"}\n"
     ]
    },
    {
     "name": "stderr",
     "output_type": "stream",
     "text": [
      "{\"message\": \"kBET on disease=Covid19 with neighborhood size 50 has expected frequencies: {'Covid19-Stanford': 47.391725450487826, 'Covid19-buffycoat': 2.608274549512176}\", \"time\": \"2024-01-08T10:47:23.407543\"}\n"
     ]
    },
    {
     "name": "stderr",
     "output_type": "stream",
     "text": [
      "{\"message\": \"Running kBET on disease=Lupus with neighborhood size 50 (based on batch sizes {'Lupus Pediatric': 767165, 'New Lupus RNA': 197191, 'New Lupus Paxgene': 123275})\", \"time\": \"2024-01-08T10:47:30.830472\"}\n"
     ]
    },
    {
     "name": "stderr",
     "output_type": "stream",
     "text": [
      "{\"message\": \"Fitting kNN index...\", \"time\": \"2024-01-08T10:47:30.836324\"}\n"
     ]
    },
    {
     "name": "stderr",
     "output_type": "stream",
     "text": [
      "{\"message\": \"Querying kNN index...\", \"time\": \"2024-01-08T10:47:31.150583\"}\n"
     ]
    },
    {
     "name": "stderr",
     "output_type": "stream",
     "text": [
      "{\"message\": \"Computing neighborhood statistics...\", \"time\": \"2024-01-08T10:48:25.034870\"}\n"
     ]
    },
    {
     "name": "stderr",
     "output_type": "stream",
     "text": [
      "{\"message\": \"kBET on disease=Lupus with neighborhood size 50 has expected frequencies: {'Lupus Pediatric': 35.26770568326942, 'New Lupus RNA': 9.065160886366792, 'New Lupus Paxgene': 5.667133430363791}\", \"time\": \"2024-01-08T10:48:50.395300\"}\n"
     ]
    },
    {
     "name": "stderr",
     "output_type": "stream",
     "text": [
      "{\"message\": \"Skipping disease=Influenza because it has only one study_name batch\", \"time\": \"2024-01-08T10:49:00.535916\"}\n"
     ]
    },
    {
     "name": "stderr",
     "output_type": "stream",
     "text": [
      "{\"message\": \"Skipping disease=T1D because it has only one study_name batch\", \"time\": \"2024-01-08T10:49:02.628425\"}\n"
     ]
    },
    {
     "name": "stdout",
     "output_type": "stream",
     "text": [
      "kBET result for GeneLocus.TCR, fold 1-test: 0.04909 average of average rejection rate by label\n",
      "Average rejection rates for each label\n"
     ]
    },
    {
     "data": {
      "text/html": [
       "<div>\n",
       "<style scoped>\n",
       "    .dataframe tbody tr th:only-of-type {\n",
       "        vertical-align: middle;\n",
       "    }\n",
       "\n",
       "    .dataframe tbody tr th {\n",
       "        vertical-align: top;\n",
       "    }\n",
       "\n",
       "    .dataframe thead th {\n",
       "        text-align: right;\n",
       "    }\n",
       "</style>\n",
       "<table border=\"1\" class=\"dataframe\">\n",
       "  <thead>\n",
       "    <tr style=\"text-align: right;\">\n",
       "      <th></th>\n",
       "      <th>disease</th>\n",
       "      <th>average_rejection_rate</th>\n",
       "      <th>fold_id</th>\n",
       "      <th>fold_label</th>\n",
       "      <th>gene_locus</th>\n",
       "    </tr>\n",
       "  </thead>\n",
       "  <tbody>\n",
       "    <tr>\n",
       "      <th>0</th>\n",
       "      <td>Healthy/Background</td>\n",
       "      <td>0.059791</td>\n",
       "      <td>1</td>\n",
       "      <td>test</td>\n",
       "      <td>TCR</td>\n",
       "    </tr>\n",
       "    <tr>\n",
       "      <th>1</th>\n",
       "      <td>Covid19</td>\n",
       "      <td>0.046473</td>\n",
       "      <td>1</td>\n",
       "      <td>test</td>\n",
       "      <td>TCR</td>\n",
       "    </tr>\n",
       "    <tr>\n",
       "      <th>2</th>\n",
       "      <td>Lupus</td>\n",
       "      <td>0.041021</td>\n",
       "      <td>1</td>\n",
       "      <td>test</td>\n",
       "      <td>TCR</td>\n",
       "    </tr>\n",
       "  </tbody>\n",
       "</table>\n",
       "</div>"
      ],
      "text/plain": [
       "              disease  average_rejection_rate  fold_id fold_label gene_locus\n",
       "0  Healthy/Background                0.059791        1       test        TCR\n",
       "1             Covid19                0.046473        1       test        TCR\n",
       "2               Lupus                0.041021        1       test        TCR"
      ]
     },
     "metadata": {},
     "output_type": "display_data"
    },
    {
     "name": "stderr",
     "output_type": "stream",
     "text": [
      "{\"message\": \"Running on GeneLocus.TCR, fold 2-test\", \"time\": \"2024-01-08T10:49:11.852718\"}\n"
     ]
    },
    {
     "name": "stderr",
     "output_type": "stream",
     "text": [
      "{\"message\": \"Caching network file to local machine cache: /users/maximz/code/boyd-immune-repertoire-classification/data/data_v_20231027/in_house_peak_disease_timepoints/embedded/esm2_cdr3/anndatas_scaled/TCR/fold.2.test.h5ad -> /srv/scratch/maximz/cache/56ce7c79fe3dad9c2f0c6b8edc1bfb9203eeb4633f9e95b43210bd1e.2.test.h5ad\", \"time\": \"2024-01-08T10:49:11.863847\"}\n"
     ]
    },
    {
     "name": "stdout",
     "output_type": "stream",
     "text": [
      "************************************************************\n"
     ]
    },
    {
     "name": "stdout",
     "output_type": "stream",
     "text": [
      "WARNING: Your filename has more than two extensions: ['.2', '.test', '.h5ad'].\n",
      "Only considering the two last: ['.test', '.h5ad'].\n"
     ]
    },
    {
     "name": "stdout",
     "output_type": "stream",
     "text": [
      "WARNING: Your filename has more than two extensions: ['.2', '.test', '.h5ad'].\n",
      "Only considering the two last: ['.test', '.h5ad'].\n"
     ]
    },
    {
     "name": "stdout",
     "output_type": "stream",
     "text": [
      "disease             study_name                                          \n",
      "HIV                 HIV                                                     1090961\n",
      "Healthy/Background  Diabetes biobank                                          23247\n",
      "                    HIV                                                      488447\n",
      "                    Healthy-StanfordBloodCenter                             1380150\n",
      "                    Healthy-StanfordBloodCenter_included-in-resequencing     229518\n",
      "                    New Lupus RNA                                             44381\n",
      "                    healthy_children                                        1484270\n",
      "Covid19             Covid19-Stanford                                         217039\n",
      "                    Covid19-buffycoat                                         45342\n",
      "Lupus               Lupus Pediatric                                          676002\n",
      "                    New Lupus Paxgene                                        241180\n",
      "                    New Lupus RNA                                            205271\n",
      "Influenza           Flu vaccine UPenn 2021                                   435099\n",
      "T1D                 Diabetes biobank                                         802141\n",
      "dtype: int64\n"
     ]
    },
    {
     "name": "stderr",
     "output_type": "stream",
     "text": [
      "{\"message\": \"Skipping disease=HIV because it has only one study_name batch\", \"time\": \"2024-01-08T10:58:01.717680\"}\n"
     ]
    },
    {
     "name": "stderr",
     "output_type": "stream",
     "text": [
      "{\"message\": \"Running kBET on disease=Healthy/Background with neighborhood size 50 (based on batch sizes {'healthy_children': 1484270, 'Healthy-StanfordBloodCenter': 1380150, 'HIV': 488447, 'Healthy-StanfordBloodCenter_included-in-resequencing': 229518, 'New Lupus RNA': 44381, 'Diabetes biobank': 23247})\", \"time\": \"2024-01-08T10:58:52.549834\"}\n"
     ]
    },
    {
     "name": "stderr",
     "output_type": "stream",
     "text": [
      "{\"message\": \"Fitting kNN index...\", \"time\": \"2024-01-08T10:58:52.553043\"}\n"
     ]
    },
    {
     "name": "stderr",
     "output_type": "stream",
     "text": [
      "{\"message\": \"Querying kNN index...\", \"time\": \"2024-01-08T10:58:53.534449\"}\n"
     ]
    },
    {
     "name": "stderr",
     "output_type": "stream",
     "text": [
      "{\"message\": \"Computing neighborhood statistics...\", \"time\": \"2024-01-08T11:08:13.275004\"}\n"
     ]
    },
    {
     "name": "stderr",
     "output_type": "stream",
     "text": [
      "{\"message\": \"kBET on disease=Healthy/Background with neighborhood size 50 has expected frequencies: {'healthy_children': 20.332393336681267, 'Healthy-StanfordBloodCenter': 18.906097046777642, 'HIV': 6.691030963451364, 'Healthy-StanfordBloodCenter_included-in-resequencing': 3.1440709937197484, 'New Lupus RNA': 0.6079567387842181, 'Diabetes biobank': 0.3184509205857623}\", \"time\": \"2024-01-08T11:10:06.920828\"}\n"
     ]
    },
    {
     "name": "stderr",
     "output_type": "stream",
     "text": [
      "{\"message\": \"Running kBET on disease=Covid19 with neighborhood size 50 (based on batch sizes {'Covid19-Stanford': 217039, 'Covid19-buffycoat': 45342})\", \"time\": \"2024-01-08T11:10:53.997078\"}\n"
     ]
    },
    {
     "name": "stderr",
     "output_type": "stream",
     "text": [
      "{\"message\": \"Fitting kNN index...\", \"time\": \"2024-01-08T11:10:54.000292\"}\n"
     ]
    },
    {
     "name": "stderr",
     "output_type": "stream",
     "text": [
      "{\"message\": \"Querying kNN index...\", \"time\": \"2024-01-08T11:10:54.084930\"}\n"
     ]
    },
    {
     "name": "stderr",
     "output_type": "stream",
     "text": [
      "{\"message\": \"Computing neighborhood statistics...\", \"time\": \"2024-01-08T11:10:58.709769\"}\n"
     ]
    },
    {
     "name": "stderr",
     "output_type": "stream",
     "text": [
      "{\"message\": \"kBET on disease=Covid19 with neighborhood size 50 has expected frequencies: {'Covid19-Stanford': 41.359511549997904, 'Covid19-buffycoat': 8.640488450002096}\", \"time\": \"2024-01-08T11:11:03.468266\"}\n"
     ]
    },
    {
     "name": "stderr",
     "output_type": "stream",
     "text": [
      "{\"message\": \"Running kBET on disease=Lupus with neighborhood size 50 (based on batch sizes {'Lupus Pediatric': 676002, 'New Lupus Paxgene': 241180, 'New Lupus RNA': 205271})\", \"time\": \"2024-01-08T11:11:10.739254\"}\n"
     ]
    },
    {
     "name": "stderr",
     "output_type": "stream",
     "text": [
      "{\"message\": \"Fitting kNN index...\", \"time\": \"2024-01-08T11:11:10.741311\"}\n"
     ]
    },
    {
     "name": "stderr",
     "output_type": "stream",
     "text": [
      "{\"message\": \"Querying kNN index...\", \"time\": \"2024-01-08T11:11:11.054019\"}\n"
     ]
    },
    {
     "name": "stderr",
     "output_type": "stream",
     "text": [
      "{\"message\": \"Computing neighborhood statistics...\", \"time\": \"2024-01-08T11:12:07.931265\"}\n"
     ]
    },
    {
     "name": "stderr",
     "output_type": "stream",
     "text": [
      "{\"message\": \"kBET on disease=Lupus with neighborhood size 50 has expected frequencies: {'Lupus Pediatric': 30.112708505389534, 'New Lupus Paxgene': 10.743434246244608, 'New Lupus RNA': 9.143857248365855}\", \"time\": \"2024-01-08T11:12:34.332545\"}\n"
     ]
    },
    {
     "name": "stderr",
     "output_type": "stream",
     "text": [
      "{\"message\": \"Skipping disease=Influenza because it has only one study_name batch\", \"time\": \"2024-01-08T11:12:44.877426\"}\n"
     ]
    },
    {
     "name": "stderr",
     "output_type": "stream",
     "text": [
      "{\"message\": \"Skipping disease=T1D because it has only one study_name batch\", \"time\": \"2024-01-08T11:12:46.841001\"}\n"
     ]
    },
    {
     "name": "stdout",
     "output_type": "stream",
     "text": [
      "kBET result for GeneLocus.TCR, fold 2-test: 0.05077 average of average rejection rate by label\n",
      "Average rejection rates for each label\n"
     ]
    },
    {
     "data": {
      "text/html": [
       "<div>\n",
       "<style scoped>\n",
       "    .dataframe tbody tr th:only-of-type {\n",
       "        vertical-align: middle;\n",
       "    }\n",
       "\n",
       "    .dataframe tbody tr th {\n",
       "        vertical-align: top;\n",
       "    }\n",
       "\n",
       "    .dataframe thead th {\n",
       "        text-align: right;\n",
       "    }\n",
       "</style>\n",
       "<table border=\"1\" class=\"dataframe\">\n",
       "  <thead>\n",
       "    <tr style=\"text-align: right;\">\n",
       "      <th></th>\n",
       "      <th>disease</th>\n",
       "      <th>average_rejection_rate</th>\n",
       "      <th>fold_id</th>\n",
       "      <th>fold_label</th>\n",
       "      <th>gene_locus</th>\n",
       "    </tr>\n",
       "  </thead>\n",
       "  <tbody>\n",
       "    <tr>\n",
       "      <th>0</th>\n",
       "      <td>Healthy/Background</td>\n",
       "      <td>0.067732</td>\n",
       "      <td>2</td>\n",
       "      <td>test</td>\n",
       "      <td>TCR</td>\n",
       "    </tr>\n",
       "    <tr>\n",
       "      <th>1</th>\n",
       "      <td>Covid19</td>\n",
       "      <td>0.050305</td>\n",
       "      <td>2</td>\n",
       "      <td>test</td>\n",
       "      <td>TCR</td>\n",
       "    </tr>\n",
       "    <tr>\n",
       "      <th>2</th>\n",
       "      <td>Lupus</td>\n",
       "      <td>0.034274</td>\n",
       "      <td>2</td>\n",
       "      <td>test</td>\n",
       "      <td>TCR</td>\n",
       "    </tr>\n",
       "  </tbody>\n",
       "</table>\n",
       "</div>"
      ],
      "text/plain": [
       "              disease  average_rejection_rate  fold_id fold_label gene_locus\n",
       "0  Healthy/Background                0.067732        2       test        TCR\n",
       "1             Covid19                0.050305        2       test        TCR\n",
       "2               Lupus                0.034274        2       test        TCR"
      ]
     },
     "metadata": {},
     "output_type": "display_data"
    },
    {
     "name": "stdout",
     "output_type": "stream",
     "text": [
      "************************************************************\n"
     ]
    },
    {
     "data": {
      "image/png": "[encoded data removed]",
      "text/plain": [
       "<Figure size 640x480 with 1 Axes>"
      ]
     },
     "metadata": {},
     "output_type": "display_data"
    },
    {
     "data": {
      "image/png": "[encoded data removed]",
      "text/plain": [
       "<Figure size 640x480 with 1 Axes>"
      ]
     },
     "metadata": {},
     "output_type": "display_data"
    },
    {
     "data": {
      "image/png": "[encoded data removed]",
      "text/plain": [
       "<Figure size 640x480 with 1 Axes>"
      ]
     },
     "metadata": {},
     "output_type": "display_data"
    },
    {
     "data": {
      "image/png": "[encoded data removed]",
      "text/plain": [
       "<Figure size 640x480 with 1 Axes>"
      ]
     },
     "metadata": {},
     "output_type": "display_data"
    },
    {
     "data": {
      "image/png": "[encoded data removed]",
      "text/plain": [
       "<Figure size 640x480 with 1 Axes>"
      ]
     },
     "metadata": {},
     "output_type": "display_data"
    },
    {
     "data": {
      "image/png": "[encoded data removed]",
      "text/plain": [
       "<Figure size 640x480 with 1 Axes>"
      ]
     },
     "metadata": {},
     "output_type": "display_data"
    }
   ],
   "source": [
    "kbet_results = kdict()\n",
    "for gene_locus in config.gene_loci_used:\n",
    "    for fold_id in config.cross_validation_fold_ids:\n",
    "        logger.info(f\"Running on {gene_locus}, fold {fold_id}-{fold_label}\")\n",
    "        adata = io.load_fold_embeddings(\n",
    "            fold_id=fold_id,\n",
    "            fold_label=fold_label,\n",
    "            gene_locus=gene_locus,\n",
    "            target_obs_column=target_obs_column,\n",
    "        )\n",
    "        # PCA was precomputed with 50 dims\n",
    "        assert adata.obsm[\"X_pca\"].shape[1] == 50\n",
    "        print(adata.obs.groupby([label_key, batch_key], observed=True).size())\n",
    "\n",
    "        # Plot kBET on each disease label\n",
    "        (\n",
    "            average_rejection_rate_overall,\n",
    "            average_rejection_rates_by_label,\n",
    "            corrected_p_values_by_label,\n",
    "        ) = kbet(\n",
    "            adata=adata,\n",
    "            batch_key=batch_key,\n",
    "            label_key=label_key,\n",
    "            significance_threshold_alpha=0.05,\n",
    "        )\n",
    "\n",
    "        # Save results\n",
    "        # reformat dict as dataframe\n",
    "        average_rejection_rates_by_label = (\n",
    "            pd.Series(average_rejection_rates_by_label)\n",
    "            .rename(\"average_rejection_rate\")\n",
    "            .rename_axis(index=label_key)\n",
    "            .reset_index()\n",
    "            .assign(fold_id=fold_id, fold_label=fold_label, gene_locus=gene_locus.name)\n",
    "        )\n",
    "        kbet_results[gene_locus, fold_id, fold_label] = (\n",
    "            average_rejection_rate_overall,\n",
    "            average_rejection_rates_by_label,\n",
    "        )\n",
    "\n",
    "        # Print results\n",
    "        print(\n",
    "            f\"kBET result for {gene_locus}, fold {fold_id}-{fold_label}: {average_rejection_rate_overall:0.5f} average of average rejection rate by label\"\n",
    "        )\n",
    "        print(\"Average rejection rates for each label\")\n",
    "        display(average_rejection_rates_by_label)\n",
    "\n",
    "        # Plot per-sequence corrected p values\n",
    "        fig, ax = plt.subplots()\n",
    "        sns.boxplot(\n",
    "            data=pd.concat(\n",
    "                [\n",
    "                    pd.DataFrame(v, columns=[xlabel]).assign(**{ylabel: k})\n",
    "                    for k, v in corrected_p_values_by_label.items()\n",
    "                ]\n",
    "            ),\n",
    "            x=xlabel,\n",
    "            y=ylabel,\n",
    "            ax=ax,\n",
    "        )\n",
    "        plt.title(f\"Fold {fold_id}, {fold_label} set, {gene_locus}\")\n",
    "        plt.xlim(-0.05, 1.05)\n",
    "\n",
    "        # Clear cache before moving onto next fold\n",
    "        io.clear_cached_fold_embeddings()\n",
    "        gc.collect()\n",
    "\n",
    "        print(\"*\" * 60)"
   ]
  },
  {
   "cell_type": "code",
   "execution_count": null,
   "metadata": {},
   "outputs": [],
   "source": []
  },
  {
   "cell_type": "markdown",
   "metadata": {},
   "source": [
    "# Review all results"
   ]
  },
  {
   "cell_type": "code",
   "execution_count": 8,
   "metadata": {
    "execution": {
     "iopub.execute_input": "2024-01-08T11:12:56.951297Z",
     "iopub.status.busy": "2024-01-08T11:12:56.951019Z",
     "iopub.status.idle": "2024-01-08T11:12:56.966384Z",
     "shell.execute_reply": "2024-01-08T11:12:56.965232Z"
    }
   },
   "outputs": [
    {
     "data": {
      "text/html": [
       "<div>\n",
       "<style scoped>\n",
       "    .dataframe tbody tr th:only-of-type {\n",
       "        vertical-align: middle;\n",
       "    }\n",
       "\n",
       "    .dataframe tbody tr th {\n",
       "        vertical-align: top;\n",
       "    }\n",
       "\n",
       "    .dataframe thead th {\n",
       "        text-align: right;\n",
       "    }\n",
       "</style>\n",
       "<table border=\"1\" class=\"dataframe\">\n",
       "  <thead>\n",
       "    <tr style=\"text-align: right;\">\n",
       "      <th></th>\n",
       "      <th>gene_locus</th>\n",
       "      <th>fold_id</th>\n",
       "      <th>fold_label</th>\n",
       "      <th>average_rejection_rate_overall</th>\n",
       "    </tr>\n",
       "  </thead>\n",
       "  <tbody>\n",
       "    <tr>\n",
       "      <th>0</th>\n",
       "      <td>BCR</td>\n",
       "      <td>0</td>\n",
       "      <td>test</td>\n",
       "      <td>0.324649</td>\n",
       "    </tr>\n",
       "    <tr>\n",
       "      <th>1</th>\n",
       "      <td>BCR</td>\n",
       "      <td>1</td>\n",
       "      <td>test</td>\n",
       "      <td>0.275988</td>\n",
       "    </tr>\n",
       "    <tr>\n",
       "      <th>2</th>\n",
       "      <td>BCR</td>\n",
       "      <td>2</td>\n",
       "      <td>test</td>\n",
       "      <td>0.341952</td>\n",
       "    </tr>\n",
       "    <tr>\n",
       "      <th>3</th>\n",
       "      <td>TCR</td>\n",
       "      <td>0</td>\n",
       "      <td>test</td>\n",
       "      <td>0.051084</td>\n",
       "    </tr>\n",
       "    <tr>\n",
       "      <th>4</th>\n",
       "      <td>TCR</td>\n",
       "      <td>1</td>\n",
       "      <td>test</td>\n",
       "      <td>0.049095</td>\n",
       "    </tr>\n",
       "    <tr>\n",
       "      <th>5</th>\n",
       "      <td>TCR</td>\n",
       "      <td>2</td>\n",
       "      <td>test</td>\n",
       "      <td>0.050770</td>\n",
       "    </tr>\n",
       "  </tbody>\n",
       "</table>\n",
       "</div>"
      ],
      "text/plain": [
       "  gene_locus  fold_id fold_label  average_rejection_rate_overall\n",
       "0        BCR        0       test                        0.324649\n",
       "1        BCR        1       test                        0.275988\n",
       "2        BCR        2       test                        0.341952\n",
       "3        TCR        0       test                        0.051084\n",
       "4        TCR        1       test                        0.049095\n",
       "5        TCR        2       test                        0.050770"
      ]
     },
     "execution_count": 8,
     "metadata": {},
     "output_type": "execute_result"
    }
   ],
   "source": [
    "# Show all results as a table\n",
    "all_results_overall = pd.DataFrame.from_records(\n",
    "    dict(\n",
    "        gene_locus=gene_locus.name,\n",
    "        fold_id=fold_id,\n",
    "        fold_label=fold_label,\n",
    "        average_rejection_rate_overall=average_rejection_rate_overall,\n",
    "    )\n",
    "    for (gene_locus, fold_id, fold_label), (\n",
    "        average_rejection_rate_overall,\n",
    "        _,\n",
    "    ) in kbet_results.items()\n",
    ")\n",
    "all_results_overall"
   ]
  },
  {
   "cell_type": "code",
   "execution_count": 9,
   "metadata": {
    "execution": {
     "iopub.execute_input": "2024-01-08T11:12:56.973469Z",
     "iopub.status.busy": "2024-01-08T11:12:56.972923Z",
     "iopub.status.idle": "2024-01-08T11:12:57.026401Z",
     "shell.execute_reply": "2024-01-08T11:12:57.024668Z"
    }
   },
   "outputs": [],
   "source": [
    "all_results_overall.to_csv(\n",
    "    config.paths.output_dir\n",
    "    / \"kbet_batch_evaluation.overall_results_by_genelocus_and_fold.tsv\",\n",
    "    sep=\"\\t\",\n",
    "    index=None,\n",
    ")"
   ]
  },
  {
   "cell_type": "code",
   "execution_count": 10,
   "metadata": {
    "execution": {
     "iopub.execute_input": "2024-01-08T11:12:57.034085Z",
     "iopub.status.busy": "2024-01-08T11:12:57.033396Z",
     "iopub.status.idle": "2024-01-08T11:12:57.064676Z",
     "shell.execute_reply": "2024-01-08T11:12:57.063359Z"
    }
   },
   "outputs": [
    {
     "data": {
      "text/html": [
       "<div>\n",
       "<style scoped>\n",
       "    .dataframe tbody tr th:only-of-type {\n",
       "        vertical-align: middle;\n",
       "    }\n",
       "\n",
       "    .dataframe tbody tr th {\n",
       "        vertical-align: top;\n",
       "    }\n",
       "\n",
       "    .dataframe thead th {\n",
       "        text-align: right;\n",
       "    }\n",
       "</style>\n",
       "<table border=\"1\" class=\"dataframe\">\n",
       "  <thead>\n",
       "    <tr style=\"text-align: right;\">\n",
       "      <th></th>\n",
       "      <th>gene_locus</th>\n",
       "      <th>fold_id</th>\n",
       "      <th>fold_label</th>\n",
       "      <th>average_rejection_rate_overall</th>\n",
       "    </tr>\n",
       "  </thead>\n",
       "  <tbody>\n",
       "    <tr>\n",
       "      <th>0</th>\n",
       "      <td>BCR</td>\n",
       "      <td>0</td>\n",
       "      <td>test</td>\n",
       "      <td>0.324649</td>\n",
       "    </tr>\n",
       "    <tr>\n",
       "      <th>1</th>\n",
       "      <td>BCR</td>\n",
       "      <td>1</td>\n",
       "      <td>test</td>\n",
       "      <td>0.275988</td>\n",
       "    </tr>\n",
       "    <tr>\n",
       "      <th>2</th>\n",
       "      <td>BCR</td>\n",
       "      <td>2</td>\n",
       "      <td>test</td>\n",
       "      <td>0.341952</td>\n",
       "    </tr>\n",
       "    <tr>\n",
       "      <th>3</th>\n",
       "      <td>TCR</td>\n",
       "      <td>0</td>\n",
       "      <td>test</td>\n",
       "      <td>0.051084</td>\n",
       "    </tr>\n",
       "    <tr>\n",
       "      <th>4</th>\n",
       "      <td>TCR</td>\n",
       "      <td>1</td>\n",
       "      <td>test</td>\n",
       "      <td>0.049095</td>\n",
       "    </tr>\n",
       "    <tr>\n",
       "      <th>5</th>\n",
       "      <td>TCR</td>\n",
       "      <td>2</td>\n",
       "      <td>test</td>\n",
       "      <td>0.050770</td>\n",
       "    </tr>\n",
       "  </tbody>\n",
       "</table>\n",
       "</div>"
      ],
      "text/plain": [
       "  gene_locus  fold_id fold_label  average_rejection_rate_overall\n",
       "0        BCR        0       test                        0.324649\n",
       "1        BCR        1       test                        0.275988\n",
       "2        BCR        2       test                        0.341952\n",
       "3        TCR        0       test                        0.051084\n",
       "4        TCR        1       test                        0.049095\n",
       "5        TCR        2       test                        0.050770"
      ]
     },
     "execution_count": 10,
     "metadata": {},
     "output_type": "execute_result"
    }
   ],
   "source": [
    "all_results_overall = pd.read_csv(\n",
    "    config.paths.output_dir\n",
    "    / \"kbet_batch_evaluation.overall_results_by_genelocus_and_fold.tsv\",\n",
    "    sep=\"\\t\",\n",
    ")\n",
    "all_results_overall"
   ]
  },
  {
   "cell_type": "code",
   "execution_count": 11,
   "metadata": {
    "execution": {
     "iopub.execute_input": "2024-01-08T11:12:57.071351Z",
     "iopub.status.busy": "2024-01-08T11:12:57.070648Z",
     "iopub.status.idle": "2024-01-08T11:12:57.083206Z",
     "shell.execute_reply": "2024-01-08T11:12:57.081475Z"
    }
   },
   "outputs": [],
   "source": [
    "# Remember: 0 means optimal batch mixing and 1 means low batch mixing\n",
    "# For each locus+fold, we took average across all cells within each label, then average across all labels\n",
    "# And now we can report average +/- std across folds by locus+disease, or by locus, or overall"
   ]
  },
  {
   "cell_type": "code",
   "execution_count": 12,
   "metadata": {
    "execution": {
     "iopub.execute_input": "2024-01-08T11:12:57.091032Z",
     "iopub.status.busy": "2024-01-08T11:12:57.090116Z",
     "iopub.status.idle": "2024-01-08T11:12:57.152485Z",
     "shell.execute_reply": "2024-01-08T11:12:57.150699Z"
    }
   },
   "outputs": [
    {
     "data": {
      "text/html": [
       "<div>\n",
       "<style scoped>\n",
       "    .dataframe tbody tr th:only-of-type {\n",
       "        vertical-align: middle;\n",
       "    }\n",
       "\n",
       "    .dataframe tbody tr th {\n",
       "        vertical-align: top;\n",
       "    }\n",
       "\n",
       "    .dataframe thead th {\n",
       "        text-align: right;\n",
       "    }\n",
       "</style>\n",
       "<table border=\"1\" class=\"dataframe\">\n",
       "  <thead>\n",
       "    <tr style=\"text-align: right;\">\n",
       "      <th></th>\n",
       "      <th>mean</th>\n",
       "      <th>std</th>\n",
       "    </tr>\n",
       "    <tr>\n",
       "      <th>gene_locus</th>\n",
       "      <th></th>\n",
       "      <th></th>\n",
       "    </tr>\n",
       "  </thead>\n",
       "  <tbody>\n",
       "    <tr>\n",
       "      <th>BCR</th>\n",
       "      <td>0.314196</td>\n",
       "      <td>0.034202</td>\n",
       "    </tr>\n",
       "    <tr>\n",
       "      <th>TCR</th>\n",
       "      <td>0.050316</td>\n",
       "      <td>0.001069</td>\n",
       "    </tr>\n",
       "  </tbody>\n",
       "</table>\n",
       "</div>"
      ],
      "text/plain": [
       "                mean       std\n",
       "gene_locus                    \n",
       "BCR         0.314196  0.034202\n",
       "TCR         0.050316  0.001069"
      ]
     },
     "execution_count": 12,
     "metadata": {},
     "output_type": "execute_result"
    }
   ],
   "source": [
    "# agg by locus\n",
    "all_results_overall.groupby(\"gene_locus\")[\"average_rejection_rate_overall\"].agg(\n",
    "    [\"mean\", \"std\"]\n",
    ")"
   ]
  },
  {
   "cell_type": "code",
   "execution_count": 13,
   "metadata": {
    "execution": {
     "iopub.execute_input": "2024-01-08T11:12:57.160083Z",
     "iopub.status.busy": "2024-01-08T11:12:57.159235Z",
     "iopub.status.idle": "2024-01-08T11:12:57.179385Z",
     "shell.execute_reply": "2024-01-08T11:12:57.177624Z"
    }
   },
   "outputs": [
    {
     "data": {
      "text/plain": [
       "mean    0.182256\n",
       "std     0.146144\n",
       "Name: average_rejection_rate_overall, dtype: float64"
      ]
     },
     "execution_count": 13,
     "metadata": {},
     "output_type": "execute_result"
    }
   ],
   "source": [
    "# agg over all\n",
    "all_results_overall[\"average_rejection_rate_overall\"].agg([\"mean\", \"std\"])"
   ]
  },
  {
   "cell_type": "code",
   "execution_count": null,
   "metadata": {},
   "outputs": [],
   "source": []
  },
  {
   "cell_type": "code",
   "execution_count": null,
   "metadata": {},
   "outputs": [],
   "source": []
  },
  {
   "cell_type": "code",
   "execution_count": 14,
   "metadata": {
    "execution": {
     "iopub.execute_input": "2024-01-08T11:12:57.187466Z",
     "iopub.status.busy": "2024-01-08T11:12:57.186548Z",
     "iopub.status.idle": "2024-01-08T11:12:57.230003Z",
     "shell.execute_reply": "2024-01-08T11:12:57.228823Z"
    }
   },
   "outputs": [
    {
     "data": {
      "text/html": [
       "<div>\n",
       "<style scoped>\n",
       "    .dataframe tbody tr th:only-of-type {\n",
       "        vertical-align: middle;\n",
       "    }\n",
       "\n",
       "    .dataframe tbody tr th {\n",
       "        vertical-align: top;\n",
       "    }\n",
       "\n",
       "    .dataframe thead th {\n",
       "        text-align: right;\n",
       "    }\n",
       "</style>\n",
       "<table border=\"1\" class=\"dataframe\">\n",
       "  <thead>\n",
       "    <tr style=\"text-align: right;\">\n",
       "      <th></th>\n",
       "      <th>disease</th>\n",
       "      <th>average_rejection_rate</th>\n",
       "      <th>fold_id</th>\n",
       "      <th>fold_label</th>\n",
       "      <th>gene_locus</th>\n",
       "    </tr>\n",
       "  </thead>\n",
       "  <tbody>\n",
       "    <tr>\n",
       "      <th>0</th>\n",
       "      <td>Healthy/Background</td>\n",
       "      <td>0.362727</td>\n",
       "      <td>0</td>\n",
       "      <td>test</td>\n",
       "      <td>BCR</td>\n",
       "    </tr>\n",
       "    <tr>\n",
       "      <th>1</th>\n",
       "      <td>Lupus</td>\n",
       "      <td>0.164288</td>\n",
       "      <td>0</td>\n",
       "      <td>test</td>\n",
       "      <td>BCR</td>\n",
       "    </tr>\n",
       "    <tr>\n",
       "      <th>2</th>\n",
       "      <td>Covid19</td>\n",
       "      <td>0.446931</td>\n",
       "      <td>0</td>\n",
       "      <td>test</td>\n",
       "      <td>BCR</td>\n",
       "    </tr>\n",
       "    <tr>\n",
       "      <th>3</th>\n",
       "      <td>Healthy/Background</td>\n",
       "      <td>0.273227</td>\n",
       "      <td>1</td>\n",
       "      <td>test</td>\n",
       "      <td>BCR</td>\n",
       "    </tr>\n",
       "    <tr>\n",
       "      <th>4</th>\n",
       "      <td>Lupus</td>\n",
       "      <td>0.172976</td>\n",
       "      <td>1</td>\n",
       "      <td>test</td>\n",
       "      <td>BCR</td>\n",
       "    </tr>\n",
       "    <tr>\n",
       "      <th>5</th>\n",
       "      <td>Covid19</td>\n",
       "      <td>0.381760</td>\n",
       "      <td>1</td>\n",
       "      <td>test</td>\n",
       "      <td>BCR</td>\n",
       "    </tr>\n",
       "    <tr>\n",
       "      <th>6</th>\n",
       "      <td>Healthy/Background</td>\n",
       "      <td>0.307194</td>\n",
       "      <td>2</td>\n",
       "      <td>test</td>\n",
       "      <td>BCR</td>\n",
       "    </tr>\n",
       "    <tr>\n",
       "      <th>7</th>\n",
       "      <td>Lupus</td>\n",
       "      <td>0.223200</td>\n",
       "      <td>2</td>\n",
       "      <td>test</td>\n",
       "      <td>BCR</td>\n",
       "    </tr>\n",
       "    <tr>\n",
       "      <th>8</th>\n",
       "      <td>Covid19</td>\n",
       "      <td>0.495463</td>\n",
       "      <td>2</td>\n",
       "      <td>test</td>\n",
       "      <td>BCR</td>\n",
       "    </tr>\n",
       "    <tr>\n",
       "      <th>9</th>\n",
       "      <td>Healthy/Background</td>\n",
       "      <td>0.070744</td>\n",
       "      <td>0</td>\n",
       "      <td>test</td>\n",
       "      <td>TCR</td>\n",
       "    </tr>\n",
       "    <tr>\n",
       "      <th>10</th>\n",
       "      <td>Covid19</td>\n",
       "      <td>0.046122</td>\n",
       "      <td>0</td>\n",
       "      <td>test</td>\n",
       "      <td>TCR</td>\n",
       "    </tr>\n",
       "    <tr>\n",
       "      <th>11</th>\n",
       "      <td>Lupus</td>\n",
       "      <td>0.036386</td>\n",
       "      <td>0</td>\n",
       "      <td>test</td>\n",
       "      <td>TCR</td>\n",
       "    </tr>\n",
       "    <tr>\n",
       "      <th>12</th>\n",
       "      <td>Healthy/Background</td>\n",
       "      <td>0.059791</td>\n",
       "      <td>1</td>\n",
       "      <td>test</td>\n",
       "      <td>TCR</td>\n",
       "    </tr>\n",
       "    <tr>\n",
       "      <th>13</th>\n",
       "      <td>Covid19</td>\n",
       "      <td>0.046473</td>\n",
       "      <td>1</td>\n",
       "      <td>test</td>\n",
       "      <td>TCR</td>\n",
       "    </tr>\n",
       "    <tr>\n",
       "      <th>14</th>\n",
       "      <td>Lupus</td>\n",
       "      <td>0.041021</td>\n",
       "      <td>1</td>\n",
       "      <td>test</td>\n",
       "      <td>TCR</td>\n",
       "    </tr>\n",
       "    <tr>\n",
       "      <th>15</th>\n",
       "      <td>Healthy/Background</td>\n",
       "      <td>0.067732</td>\n",
       "      <td>2</td>\n",
       "      <td>test</td>\n",
       "      <td>TCR</td>\n",
       "    </tr>\n",
       "    <tr>\n",
       "      <th>16</th>\n",
       "      <td>Covid19</td>\n",
       "      <td>0.050305</td>\n",
       "      <td>2</td>\n",
       "      <td>test</td>\n",
       "      <td>TCR</td>\n",
       "    </tr>\n",
       "    <tr>\n",
       "      <th>17</th>\n",
       "      <td>Lupus</td>\n",
       "      <td>0.034274</td>\n",
       "      <td>2</td>\n",
       "      <td>test</td>\n",
       "      <td>TCR</td>\n",
       "    </tr>\n",
       "  </tbody>\n",
       "</table>\n",
       "</div>"
      ],
      "text/plain": [
       "               disease  average_rejection_rate  fold_id fold_label gene_locus\n",
       "0   Healthy/Background                0.362727        0       test        BCR\n",
       "1                Lupus                0.164288        0       test        BCR\n",
       "2              Covid19                0.446931        0       test        BCR\n",
       "3   Healthy/Background                0.273227        1       test        BCR\n",
       "4                Lupus                0.172976        1       test        BCR\n",
       "5              Covid19                0.381760        1       test        BCR\n",
       "6   Healthy/Background                0.307194        2       test        BCR\n",
       "7                Lupus                0.223200        2       test        BCR\n",
       "8              Covid19                0.495463        2       test        BCR\n",
       "9   Healthy/Background                0.070744        0       test        TCR\n",
       "10             Covid19                0.046122        0       test        TCR\n",
       "11               Lupus                0.036386        0       test        TCR\n",
       "12  Healthy/Background                0.059791        1       test        TCR\n",
       "13             Covid19                0.046473        1       test        TCR\n",
       "14               Lupus                0.041021        1       test        TCR\n",
       "15  Healthy/Background                0.067732        2       test        TCR\n",
       "16             Covid19                0.050305        2       test        TCR\n",
       "17               Lupus                0.034274        2       test        TCR"
      ]
     },
     "execution_count": 14,
     "metadata": {},
     "output_type": "execute_result"
    }
   ],
   "source": [
    "# All results at per-label specificity (i.e. before we take average over all labels)\n",
    "all_results_per_label = pd.concat(\n",
    "    (\n",
    "        average_rejection_rates_by_label\n",
    "        for (_, average_rejection_rates_by_label) in kbet_results.values()\n",
    "    ),\n",
    "    axis=0,\n",
    ").reset_index(drop=True)\n",
    "all_results_per_label"
   ]
  },
  {
   "cell_type": "code",
   "execution_count": 15,
   "metadata": {
    "execution": {
     "iopub.execute_input": "2024-01-08T11:12:57.236984Z",
     "iopub.status.busy": "2024-01-08T11:12:57.236196Z",
     "iopub.status.idle": "2024-01-08T11:12:57.273671Z",
     "shell.execute_reply": "2024-01-08T11:12:57.271865Z"
    }
   },
   "outputs": [],
   "source": [
    "all_results_per_label.to_csv(\n",
    "    config.paths.output_dir\n",
    "    / \"kbet_batch_evaluation.per_label_results_by_genelocus_and_fold.tsv\",\n",
    "    sep=\"\\t\",\n",
    "    index=None,\n",
    ")"
   ]
  },
  {
   "cell_type": "code",
   "execution_count": 16,
   "metadata": {
    "execution": {
     "iopub.execute_input": "2024-01-08T11:12:57.281346Z",
     "iopub.status.busy": "2024-01-08T11:12:57.280454Z",
     "iopub.status.idle": "2024-01-08T11:12:57.329171Z",
     "shell.execute_reply": "2024-01-08T11:12:57.328034Z"
    }
   },
   "outputs": [
    {
     "data": {
      "text/html": [
       "<div>\n",
       "<style scoped>\n",
       "    .dataframe tbody tr th:only-of-type {\n",
       "        vertical-align: middle;\n",
       "    }\n",
       "\n",
       "    .dataframe tbody tr th {\n",
       "        vertical-align: top;\n",
       "    }\n",
       "\n",
       "    .dataframe thead th {\n",
       "        text-align: right;\n",
       "    }\n",
       "</style>\n",
       "<table border=\"1\" class=\"dataframe\">\n",
       "  <thead>\n",
       "    <tr style=\"text-align: right;\">\n",
       "      <th></th>\n",
       "      <th>disease</th>\n",
       "      <th>average_rejection_rate</th>\n",
       "      <th>fold_id</th>\n",
       "      <th>fold_label</th>\n",
       "      <th>gene_locus</th>\n",
       "    </tr>\n",
       "  </thead>\n",
       "  <tbody>\n",
       "    <tr>\n",
       "      <th>0</th>\n",
       "      <td>Healthy/Background</td>\n",
       "      <td>0.362727</td>\n",
       "      <td>0</td>\n",
       "      <td>test</td>\n",
       "      <td>BCR</td>\n",
       "    </tr>\n",
       "    <tr>\n",
       "      <th>1</th>\n",
       "      <td>Lupus</td>\n",
       "      <td>0.164288</td>\n",
       "      <td>0</td>\n",
       "      <td>test</td>\n",
       "      <td>BCR</td>\n",
       "    </tr>\n",
       "    <tr>\n",
       "      <th>2</th>\n",
       "      <td>Covid19</td>\n",
       "      <td>0.446931</td>\n",
       "      <td>0</td>\n",
       "      <td>test</td>\n",
       "      <td>BCR</td>\n",
       "    </tr>\n",
       "    <tr>\n",
       "      <th>3</th>\n",
       "      <td>Healthy/Background</td>\n",
       "      <td>0.273227</td>\n",
       "      <td>1</td>\n",
       "      <td>test</td>\n",
       "      <td>BCR</td>\n",
       "    </tr>\n",
       "    <tr>\n",
       "      <th>4</th>\n",
       "      <td>Lupus</td>\n",
       "      <td>0.172976</td>\n",
       "      <td>1</td>\n",
       "      <td>test</td>\n",
       "      <td>BCR</td>\n",
       "    </tr>\n",
       "    <tr>\n",
       "      <th>5</th>\n",
       "      <td>Covid19</td>\n",
       "      <td>0.381760</td>\n",
       "      <td>1</td>\n",
       "      <td>test</td>\n",
       "      <td>BCR</td>\n",
       "    </tr>\n",
       "    <tr>\n",
       "      <th>6</th>\n",
       "      <td>Healthy/Background</td>\n",
       "      <td>0.307194</td>\n",
       "      <td>2</td>\n",
       "      <td>test</td>\n",
       "      <td>BCR</td>\n",
       "    </tr>\n",
       "    <tr>\n",
       "      <th>7</th>\n",
       "      <td>Lupus</td>\n",
       "      <td>0.223200</td>\n",
       "      <td>2</td>\n",
       "      <td>test</td>\n",
       "      <td>BCR</td>\n",
       "    </tr>\n",
       "    <tr>\n",
       "      <th>8</th>\n",
       "      <td>Covid19</td>\n",
       "      <td>0.495463</td>\n",
       "      <td>2</td>\n",
       "      <td>test</td>\n",
       "      <td>BCR</td>\n",
       "    </tr>\n",
       "    <tr>\n",
       "      <th>9</th>\n",
       "      <td>Healthy/Background</td>\n",
       "      <td>0.070744</td>\n",
       "      <td>0</td>\n",
       "      <td>test</td>\n",
       "      <td>TCR</td>\n",
       "    </tr>\n",
       "    <tr>\n",
       "      <th>10</th>\n",
       "      <td>Covid19</td>\n",
       "      <td>0.046122</td>\n",
       "      <td>0</td>\n",
       "      <td>test</td>\n",
       "      <td>TCR</td>\n",
       "    </tr>\n",
       "    <tr>\n",
       "      <th>11</th>\n",
       "      <td>Lupus</td>\n",
       "      <td>0.036386</td>\n",
       "      <td>0</td>\n",
       "      <td>test</td>\n",
       "      <td>TCR</td>\n",
       "    </tr>\n",
       "    <tr>\n",
       "      <th>12</th>\n",
       "      <td>Healthy/Background</td>\n",
       "      <td>0.059791</td>\n",
       "      <td>1</td>\n",
       "      <td>test</td>\n",
       "      <td>TCR</td>\n",
       "    </tr>\n",
       "    <tr>\n",
       "      <th>13</th>\n",
       "      <td>Covid19</td>\n",
       "      <td>0.046473</td>\n",
       "      <td>1</td>\n",
       "      <td>test</td>\n",
       "      <td>TCR</td>\n",
       "    </tr>\n",
       "    <tr>\n",
       "      <th>14</th>\n",
       "      <td>Lupus</td>\n",
       "      <td>0.041021</td>\n",
       "      <td>1</td>\n",
       "      <td>test</td>\n",
       "      <td>TCR</td>\n",
       "    </tr>\n",
       "    <tr>\n",
       "      <th>15</th>\n",
       "      <td>Healthy/Background</td>\n",
       "      <td>0.067732</td>\n",
       "      <td>2</td>\n",
       "      <td>test</td>\n",
       "      <td>TCR</td>\n",
       "    </tr>\n",
       "    <tr>\n",
       "      <th>16</th>\n",
       "      <td>Covid19</td>\n",
       "      <td>0.050305</td>\n",
       "      <td>2</td>\n",
       "      <td>test</td>\n",
       "      <td>TCR</td>\n",
       "    </tr>\n",
       "    <tr>\n",
       "      <th>17</th>\n",
       "      <td>Lupus</td>\n",
       "      <td>0.034274</td>\n",
       "      <td>2</td>\n",
       "      <td>test</td>\n",
       "      <td>TCR</td>\n",
       "    </tr>\n",
       "  </tbody>\n",
       "</table>\n",
       "</div>"
      ],
      "text/plain": [
       "               disease  average_rejection_rate  fold_id fold_label gene_locus\n",
       "0   Healthy/Background                0.362727        0       test        BCR\n",
       "1                Lupus                0.164288        0       test        BCR\n",
       "2              Covid19                0.446931        0       test        BCR\n",
       "3   Healthy/Background                0.273227        1       test        BCR\n",
       "4                Lupus                0.172976        1       test        BCR\n",
       "5              Covid19                0.381760        1       test        BCR\n",
       "6   Healthy/Background                0.307194        2       test        BCR\n",
       "7                Lupus                0.223200        2       test        BCR\n",
       "8              Covid19                0.495463        2       test        BCR\n",
       "9   Healthy/Background                0.070744        0       test        TCR\n",
       "10             Covid19                0.046122        0       test        TCR\n",
       "11               Lupus                0.036386        0       test        TCR\n",
       "12  Healthy/Background                0.059791        1       test        TCR\n",
       "13             Covid19                0.046473        1       test        TCR\n",
       "14               Lupus                0.041021        1       test        TCR\n",
       "15  Healthy/Background                0.067732        2       test        TCR\n",
       "16             Covid19                0.050305        2       test        TCR\n",
       "17               Lupus                0.034274        2       test        TCR"
      ]
     },
     "execution_count": 16,
     "metadata": {},
     "output_type": "execute_result"
    }
   ],
   "source": [
    "all_results_per_label = pd.read_csv(\n",
    "    config.paths.output_dir\n",
    "    / \"kbet_batch_evaluation.per_label_results_by_genelocus_and_fold.tsv\",\n",
    "    sep=\"\\t\",\n",
    ")\n",
    "all_results_per_label"
   ]
  },
  {
   "cell_type": "code",
   "execution_count": 17,
   "metadata": {
    "execution": {
     "iopub.execute_input": "2024-01-08T11:12:57.335910Z",
     "iopub.status.busy": "2024-01-08T11:12:57.335214Z",
     "iopub.status.idle": "2024-01-08T11:12:57.365413Z",
     "shell.execute_reply": "2024-01-08T11:12:57.364046Z"
    }
   },
   "outputs": [
    {
     "data": {
      "text/html": [
       "<div>\n",
       "<style scoped>\n",
       "    .dataframe tbody tr th:only-of-type {\n",
       "        vertical-align: middle;\n",
       "    }\n",
       "\n",
       "    .dataframe tbody tr th {\n",
       "        vertical-align: top;\n",
       "    }\n",
       "\n",
       "    .dataframe thead th {\n",
       "        text-align: right;\n",
       "    }\n",
       "</style>\n",
       "<table border=\"1\" class=\"dataframe\">\n",
       "  <thead>\n",
       "    <tr style=\"text-align: right;\">\n",
       "      <th></th>\n",
       "      <th></th>\n",
       "      <th>mean</th>\n",
       "      <th>std</th>\n",
       "    </tr>\n",
       "    <tr>\n",
       "      <th>gene_locus</th>\n",
       "      <th>disease</th>\n",
       "      <th></th>\n",
       "      <th></th>\n",
       "    </tr>\n",
       "  </thead>\n",
       "  <tbody>\n",
       "    <tr>\n",
       "      <th rowspan=\"3\" valign=\"top\">BCR</th>\n",
       "      <th>Covid19</th>\n",
       "      <td>0.441385</td>\n",
       "      <td>0.057054</td>\n",
       "    </tr>\n",
       "    <tr>\n",
       "      <th>Healthy/Background</th>\n",
       "      <td>0.314383</td>\n",
       "      <td>0.045181</td>\n",
       "    </tr>\n",
       "    <tr>\n",
       "      <th>Lupus</th>\n",
       "      <td>0.186821</td>\n",
       "      <td>0.031803</td>\n",
       "    </tr>\n",
       "    <tr>\n",
       "      <th rowspan=\"3\" valign=\"top\">TCR</th>\n",
       "      <th>Covid19</th>\n",
       "      <td>0.047633</td>\n",
       "      <td>0.002320</td>\n",
       "    </tr>\n",
       "    <tr>\n",
       "      <th>Healthy/Background</th>\n",
       "      <td>0.066089</td>\n",
       "      <td>0.005658</td>\n",
       "    </tr>\n",
       "    <tr>\n",
       "      <th>Lupus</th>\n",
       "      <td>0.037227</td>\n",
       "      <td>0.003451</td>\n",
       "    </tr>\n",
       "  </tbody>\n",
       "</table>\n",
       "</div>"
      ],
      "text/plain": [
       "                                   mean       std\n",
       "gene_locus disease                               \n",
       "BCR        Covid19             0.441385  0.057054\n",
       "           Healthy/Background  0.314383  0.045181\n",
       "           Lupus               0.186821  0.031803\n",
       "TCR        Covid19             0.047633  0.002320\n",
       "           Healthy/Background  0.066089  0.005658\n",
       "           Lupus               0.037227  0.003451"
      ]
     },
     "execution_count": 17,
     "metadata": {},
     "output_type": "execute_result"
    }
   ],
   "source": [
    "all_results_per_label.groupby([\"gene_locus\", target_obs_column.value.obs_column_name])[\n",
    "    \"average_rejection_rate\"\n",
    "].agg([\"mean\", \"std\"])"
   ]
  },
  {
   "cell_type": "code",
   "execution_count": 18,
   "metadata": {
    "execution": {
     "iopub.execute_input": "2024-01-08T11:12:57.372115Z",
     "iopub.status.busy": "2024-01-08T11:12:57.371445Z",
     "iopub.status.idle": "2024-01-08T11:12:57.411596Z",
     "shell.execute_reply": "2024-01-08T11:12:57.410322Z"
    }
   },
   "outputs": [
    {
     "data": {
      "text/html": [
       "<div>\n",
       "<style scoped>\n",
       "    .dataframe tbody tr th:only-of-type {\n",
       "        vertical-align: middle;\n",
       "    }\n",
       "\n",
       "    .dataframe tbody tr th {\n",
       "        vertical-align: top;\n",
       "    }\n",
       "\n",
       "    .dataframe thead th {\n",
       "        text-align: right;\n",
       "    }\n",
       "</style>\n",
       "<table border=\"1\" class=\"dataframe\">\n",
       "  <thead>\n",
       "    <tr style=\"text-align: right;\">\n",
       "      <th></th>\n",
       "      <th>mean</th>\n",
       "      <th>std</th>\n",
       "    </tr>\n",
       "    <tr>\n",
       "      <th>gene_locus</th>\n",
       "      <th></th>\n",
       "      <th></th>\n",
       "    </tr>\n",
       "  </thead>\n",
       "  <tbody>\n",
       "    <tr>\n",
       "      <th>BCR</th>\n",
       "      <td>0.314196</td>\n",
       "      <td>0.117164</td>\n",
       "    </tr>\n",
       "    <tr>\n",
       "      <th>TCR</th>\n",
       "      <td>0.050316</td>\n",
       "      <td>0.013136</td>\n",
       "    </tr>\n",
       "  </tbody>\n",
       "</table>\n",
       "</div>"
      ],
      "text/plain": [
       "                mean       std\n",
       "gene_locus                    \n",
       "BCR         0.314196  0.117164\n",
       "TCR         0.050316  0.013136"
      ]
     },
     "execution_count": 18,
     "metadata": {},
     "output_type": "execute_result"
    }
   ],
   "source": [
    "all_results_per_label.groupby([\"gene_locus\"])[\"average_rejection_rate\"].agg(\n",
    "    [\"mean\", \"std\"]\n",
    ")"
   ]
  },
  {
   "cell_type": "code",
   "execution_count": 19,
   "metadata": {
    "execution": {
     "iopub.execute_input": "2024-01-08T11:12:57.418626Z",
     "iopub.status.busy": "2024-01-08T11:12:57.417829Z",
     "iopub.status.idle": "2024-01-08T11:12:57.452445Z",
     "shell.execute_reply": "2024-01-08T11:12:57.450667Z"
    }
   },
   "outputs": [
    {
     "data": {
      "text/plain": [
       "mean    0.182256\n",
       "std     0.158030\n",
       "Name: average_rejection_rate, dtype: float64"
      ]
     },
     "execution_count": 19,
     "metadata": {},
     "output_type": "execute_result"
    }
   ],
   "source": [
    "all_results_per_label[\"average_rejection_rate\"].agg([\"mean\", \"std\"])"
   ]
  },
  {
   "cell_type": "code",
   "execution_count": null,
   "metadata": {},
   "outputs": [],
   "source": []
  },
  {
   "cell_type": "code",
   "execution_count": null,
   "metadata": {},
   "outputs": [],
   "source": []
  },
  {
   "cell_type": "code",
   "execution_count": null,
   "metadata": {},
   "outputs": [],
   "source": []
  },
  {
   "cell_type": "code",
   "execution_count": null,
   "metadata": {},
   "outputs": [],
   "source": []
  }
 ],
 "metadata": {
  "jupytext": {
   "cell_metadata_filter": "-all"
  },
  "kernelspec": {
   "display_name": "py39-cuda-env",
   "language": "python",
   "name": "py39-cuda-env"
  },
  "language_info": {
   "codemirror_mode": {
    "name": "ipython",
    "version": 3
   },
   "file_extension": ".py",
   "mimetype": "text/x-python",
   "name": "python",
   "nbconvert_exporter": "python",
   "pygments_lexer": "ipython3",
   "version": "3.9.17"
  }
 },
 "nbformat": 4,
 "nbformat_minor": 4
}
