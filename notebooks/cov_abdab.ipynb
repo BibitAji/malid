{
 "cells": [
  {
   "cell_type": "code",
   "execution_count": 1,
   "metadata": {
    "tags": []
   },
   "outputs": [],
   "source": [
    "import pandas as pd"
   ]
  },
  {
   "cell_type": "code",
   "execution_count": 2,
   "metadata": {
    "tags": []
   },
   "outputs": [],
   "source": [
    "from malid import config, helpers\n",
    "from malid.datamodels import GeneLocus"
   ]
  },
  {
   "cell_type": "code",
   "execution_count": 3,
   "metadata": {
    "tags": []
   },
   "outputs": [
    {
     "data": {
      "text/plain": [
       "(10005, 23)"
      ]
     },
     "execution_count": 3,
     "metadata": {},
     "output_type": "execute_result"
    }
   ],
   "source": [
    "# cov-abdab\n",
    "cov_abdab = pd.read_csv(config.paths.base_data_dir / \"CoV-AbDab_260722.csv\")\n",
    "cov_abdab.shape"
   ]
  },
  {
   "cell_type": "code",
   "execution_count": 4,
   "metadata": {
    "tags": []
   },
   "outputs": [
    {
     "data": {
      "text/plain": [
       "(9234, 23)"
      ]
     },
     "execution_count": 4,
     "metadata": {},
     "output_type": "execute_result"
    }
   ],
   "source": [
    "cov_abdab.dropna(subset=[\"Binds to\"], inplace=True)\n",
    "cov_abdab.shape"
   ]
  },
  {
   "cell_type": "code",
   "execution_count": 5,
   "metadata": {
    "tags": []
   },
   "outputs": [
    {
     "data": {
      "text/plain": [
       "(8802, 23)"
      ]
     },
     "execution_count": 5,
     "metadata": {},
     "output_type": "execute_result"
    }
   ],
   "source": [
    "cov_abdab = cov_abdab[\n",
    "    cov_abdab[\"Binds to\"].str.lower().apply(lambda s: \"sars-cov2\" in s)\n",
    "]\n",
    "cov_abdab.shape"
   ]
  },
  {
   "cell_type": "code",
   "execution_count": 6,
   "metadata": {
    "tags": []
   },
   "outputs": [
    {
     "data": {
      "text/plain": [
       "SARS-CoV2_WT                                                                                                                                                                            5429\n",
       "SARS-CoV1;SARS-CoV2_WT                                                                                                                                                                   382\n",
       "SARS-CoV2_WT;SARS-CoV1                                                                                                                                                                   228\n",
       "SARS-CoV2_WT;SARS-CoV2_Omicron-BA1;SARS-CoV2_Omicron-BA1.1;SARS-CoV2_Omicron-BA3;SARS-CoV2_Omicron-BA2;SARS-CoV2_Omicron-BA2.12.1;SARS-CoV2_Omicron-BA2.13;SARS-CoV2_Omicron-BA4/BA5     219\n",
       "SARS-CoV2_WT;SARS-CoV2_Omicron-BA1;SARS-CoV2_Beta;SARS-CoV2_Delta;SARS-CoV2_Omicron-BA2;SARS-CoV1                                                                                        200\n",
       "                                                                                                                                                                                        ... \n",
       "SARS-CoV2_Alpha (weak);SARS-CoV2_Beta;SARS-CoV2_Gamma;SARS-CoV2_Omicron-BA1;SARS-CoV2_Omicron-BA1.1;SARS-CoV2_Omicron-BA2 (weak)                                                           1\n",
       "SARS-CoV2_WT;SARS-CoV2_Alpha;SARS-CoV2_Beta;SARS-CoV2_Gamma;SARS-CoV2_Delta;SARS-CoV2-Eta                                                                                                  1\n",
       "SARS-CoV2_Beta;SARS-CoV2_Gamma;SARS-CoV2_Eta                                                                                                                                               1\n",
       "SARS-CoV2_WT;SARS-CoV2_Alpha;SARS-CoV2_Beta;SARS-CoV2_Gamma;SARS-CoV2_Delta;SARS-CoV2-Eta;SARS-CoV2_Omicron-BA1;SARS-CoV2_Omicron-BA1.1;SARS-CoV2_Omicron-BA2                              1\n",
       "SARS-CoV2_WT;SARS-CoV2_Alpha;SARS-CoV2_Beta;SARS-CoV_Gamma (weak);SARS-CoV2_Delta (weak);SARS-CoV2_Kappa;SARS-CoV2_Lambda;SARS-CoV2_Omicron-BA1 (weak);SARS-CoV1                           1\n",
       "Name: Binds to, Length: 437, dtype: int64"
      ]
     },
     "execution_count": 6,
     "metadata": {},
     "output_type": "execute_result"
    }
   ],
   "source": [
    "cov_abdab[\"Binds to\"].value_counts()"
   ]
  },
  {
   "cell_type": "code",
   "execution_count": 7,
   "metadata": {
    "tags": []
   },
   "outputs": [],
   "source": [
    "# # remove weak binders\n",
    "# cov_abdab = cov_abdab[\n",
    "#     ~cov_abdab[\"Binds to\"].str.lower().apply(lambda s: \"sars-cov2_wt (weak)\" in s)\n",
    "# ]\n",
    "# cov_abdab.shape"
   ]
  },
  {
   "cell_type": "code",
   "execution_count": null,
   "metadata": {},
   "outputs": [],
   "source": []
  },
  {
   "cell_type": "code",
   "execution_count": 8,
   "metadata": {
    "tags": []
   },
   "outputs": [
    {
     "data": {
      "text/plain": [
       "SARS-CoV2_WT                                                                                                                                                                            5429\n",
       "SARS-CoV1;SARS-CoV2_WT                                                                                                                                                                   382\n",
       "SARS-CoV2_WT;SARS-CoV1                                                                                                                                                                   228\n",
       "SARS-CoV2_WT;SARS-CoV2_Omicron-BA1;SARS-CoV2_Omicron-BA1.1;SARS-CoV2_Omicron-BA3;SARS-CoV2_Omicron-BA2;SARS-CoV2_Omicron-BA2.12.1;SARS-CoV2_Omicron-BA2.13;SARS-CoV2_Omicron-BA4/BA5     219\n",
       "SARS-CoV2_WT;SARS-CoV2_Omicron-BA1;SARS-CoV2_Beta;SARS-CoV2_Delta;SARS-CoV2_Omicron-BA2;SARS-CoV1                                                                                        200\n",
       "                                                                                                                                                                                        ... \n",
       "SARS-CoV2_Alpha (weak);SARS-CoV2_Beta;SARS-CoV2_Gamma;SARS-CoV2_Omicron-BA1;SARS-CoV2_Omicron-BA1.1;SARS-CoV2_Omicron-BA2 (weak)                                                           1\n",
       "SARS-CoV2_WT;SARS-CoV2_Alpha;SARS-CoV2_Beta;SARS-CoV2_Gamma;SARS-CoV2_Delta;SARS-CoV2-Eta                                                                                                  1\n",
       "SARS-CoV2_Beta;SARS-CoV2_Gamma;SARS-CoV2_Eta                                                                                                                                               1\n",
       "SARS-CoV2_WT;SARS-CoV2_Alpha;SARS-CoV2_Beta;SARS-CoV2_Gamma;SARS-CoV2_Delta;SARS-CoV2-Eta;SARS-CoV2_Omicron-BA1;SARS-CoV2_Omicron-BA1.1;SARS-CoV2_Omicron-BA2                              1\n",
       "SARS-CoV2_WT;SARS-CoV2_Alpha;SARS-CoV2_Beta;SARS-CoV_Gamma (weak);SARS-CoV2_Delta (weak);SARS-CoV2_Kappa;SARS-CoV2_Lambda;SARS-CoV2_Omicron-BA1 (weak);SARS-CoV1                           1\n",
       "Name: Binds to, Length: 437, dtype: int64"
      ]
     },
     "execution_count": 8,
     "metadata": {},
     "output_type": "execute_result"
    }
   ],
   "source": [
    "cov_abdab[\"Binds to\"].value_counts()"
   ]
  },
  {
   "cell_type": "code",
   "execution_count": null,
   "metadata": {},
   "outputs": [],
   "source": []
  },
  {
   "cell_type": "code",
   "execution_count": 9,
   "metadata": {
    "tags": []
   },
   "outputs": [],
   "source": [
    "# cov_abdab.dropna(subset=[\"Neutralising Vs\"], inplace=True)\n",
    "# cov_abdab.shape"
   ]
  },
  {
   "cell_type": "code",
   "execution_count": 10,
   "metadata": {
    "tags": []
   },
   "outputs": [
    {
     "data": {
      "text/plain": [
       "True     4541\n",
       "False    4261\n",
       "Name: Neutralising Vs, dtype: int64"
      ]
     },
     "execution_count": 10,
     "metadata": {},
     "output_type": "execute_result"
    }
   ],
   "source": [
    "cov_abdab[\"Neutralising Vs\"].isna().value_counts()"
   ]
  },
  {
   "cell_type": "code",
   "execution_count": 11,
   "metadata": {
    "tags": []
   },
   "outputs": [],
   "source": [
    "# cov_abdab = cov_abdab[\n",
    "#     cov_abdab[\"Neutralising Vs\"].str.lower().apply(lambda s: \"sars-cov2\" in s)\n",
    "# ]\n",
    "# cov_abdab.shape"
   ]
  },
  {
   "cell_type": "code",
   "execution_count": 12,
   "metadata": {
    "tags": []
   },
   "outputs": [
    {
     "data": {
      "text/plain": [
       "SARS-CoV2_WT                                                                                                                                                                                                                             1898\n",
       "SARS-CoV2_WT (weak)                                                                                                                                                                                                                       318\n",
       "SARS-CoV2_WT;SARS-CoV2_Omicron-BA1                                                                                                                                                                                                        149\n",
       "SARS-CoV2_WT;SARS-CoV2_Omicron-BA1;SARS-CoV2_Omicron-BA1.1;SARS-CoV2_Omicron-BA3;SARS-CoV2_Omicron-BA2;SARS-CoV2_Omicron-BA2.12.1;SARS-CoV2_Omicron-BA2.13;SARS-CoV2_Omicron-BA4/BA5                                                      102\n",
       "SARS-CoV2_WT;SARS-CoV1;Pangolin-GD;RatG13                                                                                                                                                                                                  96\n",
       "                                                                                                                                                                                                                                         ... \n",
       "SARS-CoV2_WT(weak);SARS-CoV1;SARS-CoV2_Omicron-BA1;SARS-CoV2_Omicron-BA1.1;Pangolin-GD(weak)                                                                                                                                                1\n",
       "SARS-CoV2_WT(weak);SARS-CoV1(weak);RatG13(weak)                                                                                                                                                                                             1\n",
       "SARS-CoV2_WT;SARS-CoV1;SARS-CoV2_Omicron-BA1(weak);SARS-CoV2_Omicron-BA1.1(weak);SARS-CoV2_Omicron-BA3(weak);SARS-CoV2_Omicron-BA2.12.1(weak);SARS-CoV2_Omicron-BA2.13(weak);SARS-CoV2_Omicron-BA4/BA5(weak);Pangolin-GD(weak);RatG13       1\n",
       "SARS-CoV2_WT;SARS-CoV1;SARS-CoV2_Omicron-BA1.1                                                                                                                                                                                              1\n",
       "SARS-CoV2_WT;SARS_CoV2_Alpha;SARS-CoV2_Beta;SARS-CoV2_Gamma;SARS-CoV2_Delta;SARS-CoV2_Kappa;SARS-CoV1                                                                                                                                       1\n",
       "Name: Neutralising Vs, Length: 529, dtype: int64"
      ]
     },
     "execution_count": 12,
     "metadata": {},
     "output_type": "execute_result"
    }
   ],
   "source": [
    "cov_abdab[\"Neutralising Vs\"].value_counts()"
   ]
  },
  {
   "cell_type": "code",
   "execution_count": null,
   "metadata": {},
   "outputs": [],
   "source": []
  },
  {
   "cell_type": "code",
   "execution_count": 13,
   "metadata": {
    "tags": []
   },
   "outputs": [
    {
     "data": {
      "text/plain": [
       "Human)          7930\n",
       "Alpaca)          617\n",
       "Mouse)           185\n",
       "Rhesus)            2\n",
       "Human)+K3788       1\n",
       "Name: Heavy V Gene, dtype: int64"
      ]
     },
     "execution_count": 13,
     "metadata": {},
     "output_type": "execute_result"
    }
   ],
   "source": [
    "cov_abdab[\"Heavy V Gene\"].str.split(\"(\").str[1].value_counts()"
   ]
  },
  {
   "cell_type": "code",
   "execution_count": 14,
   "metadata": {},
   "outputs": [
    {
     "data": {
      "text/plain": [
       "False    8801\n",
       "True        1\n",
       "Name: Heavy V Gene, dtype: int64"
      ]
     },
     "execution_count": 14,
     "metadata": {},
     "output_type": "execute_result"
    }
   ],
   "source": [
    "cov_abdab[\"Heavy V Gene\"].isna().value_counts()"
   ]
  },
  {
   "cell_type": "code",
   "execution_count": 15,
   "metadata": {},
   "outputs": [],
   "source": [
    "cov_abdab.dropna(subset=[\"Heavy V Gene\"], inplace=True)"
   ]
  },
  {
   "cell_type": "code",
   "execution_count": 16,
   "metadata": {
    "tags": []
   },
   "outputs": [
    {
     "data": {
      "text/plain": [
       "(7931, 23)"
      ]
     },
     "execution_count": 16,
     "metadata": {},
     "output_type": "execute_result"
    }
   ],
   "source": [
    "cov_abdab = cov_abdab[cov_abdab[\"Heavy V Gene\"].apply(lambda s: \"(Human)\" in s)]\n",
    "cov_abdab.shape"
   ]
  },
  {
   "cell_type": "code",
   "execution_count": null,
   "metadata": {},
   "outputs": [],
   "source": []
  },
  {
   "cell_type": "code",
   "execution_count": 17,
   "metadata": {
    "tags": []
   },
   "outputs": [
    {
     "data": {
      "text/plain": [
       "IGHJ4 (Human)    3404\n",
       "IGHJ6 (Human)    1923\n",
       "IGHJ3 (Human)    1073\n",
       "IGHJ5 (Human)     912\n",
       "IGHJ2 (Human)     258\n",
       "ND                220\n",
       "IGHJ1 (Human)     134\n",
       "IGKJ4 (Human)       1\n",
       "Name: Heavy J Gene, dtype: int64"
      ]
     },
     "execution_count": 17,
     "metadata": {},
     "output_type": "execute_result"
    }
   ],
   "source": [
    "cov_abdab[\"Heavy J Gene\"].value_counts()"
   ]
  },
  {
   "cell_type": "code",
   "execution_count": 18,
   "metadata": {},
   "outputs": [
    {
     "data": {
      "text/plain": [
       "False    7925\n",
       "True        6\n",
       "Name: Heavy J Gene, dtype: int64"
      ]
     },
     "execution_count": 18,
     "metadata": {},
     "output_type": "execute_result"
    }
   ],
   "source": [
    "cov_abdab[\"Heavy J Gene\"].isna().value_counts()"
   ]
  },
  {
   "cell_type": "code",
   "execution_count": 19,
   "metadata": {
    "tags": []
   },
   "outputs": [
    {
     "data": {
      "text/plain": [
       "(7711, 23)"
      ]
     },
     "execution_count": 19,
     "metadata": {},
     "output_type": "execute_result"
    }
   ],
   "source": [
    "cov_abdab = cov_abdab[cov_abdab[\"Heavy J Gene\"] != \"ND\"]\n",
    "cov_abdab.shape"
   ]
  },
  {
   "cell_type": "code",
   "execution_count": 20,
   "metadata": {},
   "outputs": [],
   "source": [
    "cov_abdab.dropna(subset=[\"Heavy J Gene\"], inplace=True)"
   ]
  },
  {
   "cell_type": "code",
   "execution_count": 21,
   "metadata": {
    "tags": []
   },
   "outputs": [
    {
     "data": {
      "text/plain": [
       "IGHJ4 (Human)    3404\n",
       "IGHJ6 (Human)    1923\n",
       "IGHJ3 (Human)    1073\n",
       "IGHJ5 (Human)     912\n",
       "IGHJ2 (Human)     258\n",
       "IGHJ1 (Human)     134\n",
       "IGKJ4 (Human)       1\n",
       "Name: Heavy J Gene, dtype: int64"
      ]
     },
     "execution_count": 21,
     "metadata": {},
     "output_type": "execute_result"
    }
   ],
   "source": [
    "cov_abdab[\"Heavy J Gene\"].value_counts()"
   ]
  },
  {
   "cell_type": "code",
   "execution_count": null,
   "metadata": {},
   "outputs": [],
   "source": []
  },
  {
   "cell_type": "code",
   "execution_count": 22,
   "metadata": {
    "tags": []
   },
   "outputs": [
    {
     "data": {
      "text/plain": [
       "IGHV3-30 (Human)          934\n",
       "IGHV1-69 (Human)          756\n",
       "IGHV3-53 (Human)          451\n",
       "IGHV3-30-3 (Human)        349\n",
       "IGHV3-23 (Human)          346\n",
       "                         ... \n",
       "IGHV3-24 (Human)            1\n",
       "IGKV1-33 (Human)            1\n",
       "IGHV1-45 (Human)            1\n",
       " IGHV7-4-1 (Human)          1\n",
       "IGHV1-69 (Human)+K3788      1\n",
       "Name: Heavy V Gene, Length: 67, dtype: int64"
      ]
     },
     "execution_count": 22,
     "metadata": {},
     "output_type": "execute_result"
    }
   ],
   "source": [
    "cov_abdab[\"Heavy V Gene\"].value_counts()"
   ]
  },
  {
   "cell_type": "code",
   "execution_count": 23,
   "metadata": {
    "tags": []
   },
   "outputs": [],
   "source": [
    "cov_abdab[\"Heavy V Gene\"] = cov_abdab[\"Heavy V Gene\"].str.split(\"(\").str[0].str.strip()"
   ]
  },
  {
   "cell_type": "code",
   "execution_count": 24,
   "metadata": {
    "tags": []
   },
   "outputs": [
    {
     "data": {
      "text/plain": [
       "11       IGHV3-30\n",
       "12       IGHV3-30\n",
       "13       IGHV3-30\n",
       "14       IGHV3-30\n",
       "15       IGHV1-46\n",
       "           ...   \n",
       "10000     IGHV3-7\n",
       "10001    IGHV3-23\n",
       "10002    IGHV1-46\n",
       "10003    IGHV3-30\n",
       "10004    IGHV3-30\n",
       "Name: Heavy V Gene, Length: 7705, dtype: object"
      ]
     },
     "execution_count": 24,
     "metadata": {},
     "output_type": "execute_result"
    }
   ],
   "source": [
    "cov_abdab[\"Heavy V Gene\"]"
   ]
  },
  {
   "cell_type": "code",
   "execution_count": 25,
   "metadata": {
    "tags": []
   },
   "outputs": [
    {
     "data": {
      "text/plain": [
       "IGHJ4 (Human)    3404\n",
       "IGHJ6 (Human)    1923\n",
       "IGHJ3 (Human)    1073\n",
       "IGHJ5 (Human)     912\n",
       "IGHJ2 (Human)     258\n",
       "IGHJ1 (Human)     134\n",
       "IGKJ4 (Human)       1\n",
       "Name: Heavy J Gene, dtype: int64"
      ]
     },
     "execution_count": 25,
     "metadata": {},
     "output_type": "execute_result"
    }
   ],
   "source": [
    "cov_abdab[\"Heavy J Gene\"].value_counts()"
   ]
  },
  {
   "cell_type": "code",
   "execution_count": 26,
   "metadata": {
    "tags": []
   },
   "outputs": [],
   "source": [
    "cov_abdab[\"Heavy J Gene\"] = cov_abdab[\"Heavy J Gene\"].str.split(\"(\").str[0].str.strip()"
   ]
  },
  {
   "cell_type": "code",
   "execution_count": 27,
   "metadata": {
    "tags": []
   },
   "outputs": [
    {
     "data": {
      "text/plain": [
       "11       IGHJ6\n",
       "12       IGHJ6\n",
       "13       IGHJ6\n",
       "14       IGHJ6\n",
       "15       IGHJ6\n",
       "         ...  \n",
       "10000    IGHJ4\n",
       "10001    IGHJ5\n",
       "10002    IGHJ4\n",
       "10003    IGHJ4\n",
       "10004    IGHJ4\n",
       "Name: Heavy J Gene, Length: 7705, dtype: object"
      ]
     },
     "execution_count": 27,
     "metadata": {},
     "output_type": "execute_result"
    }
   ],
   "source": [
    "cov_abdab[\"Heavy J Gene\"]"
   ]
  },
  {
   "cell_type": "code",
   "execution_count": null,
   "metadata": {},
   "outputs": [],
   "source": []
  },
  {
   "cell_type": "code",
   "execution_count": 28,
   "metadata": {
    "tags": []
   },
   "outputs": [
    {
     "data": {
      "text/plain": [
       "(7705, 23)"
      ]
     },
     "execution_count": 28,
     "metadata": {},
     "output_type": "execute_result"
    }
   ],
   "source": [
    "cov_abdab = cov_abdab[cov_abdab[\"CDRH3\"] != \"ND\"]\n",
    "cov_abdab.shape"
   ]
  },
  {
   "cell_type": "code",
   "execution_count": 29,
   "metadata": {
    "tags": []
   },
   "outputs": [
    {
     "data": {
      "text/plain": [
       "11           ARAYTGSYYYGMDV\n",
       "12           ARARGGSYYYGMDV\n",
       "13           ARSRGGGYYYGMDV\n",
       "14           ARAHRGSYYYGMDV\n",
       "15             ASDVAGHHGMDV\n",
       "                ...        \n",
       "10000      VKDRTDWELIRGYFGH\n",
       "10001    AKGELLWFGDLLHNWFDP\n",
       "10002       ARDQADYYYGSGCIV\n",
       "10003      ARDEQKDRAMVTLPDY\n",
       "10004       ARELDYYGSGSYPDY\n",
       "Name: CDRH3, Length: 7705, dtype: object"
      ]
     },
     "execution_count": 29,
     "metadata": {},
     "output_type": "execute_result"
    }
   ],
   "source": [
    "cov_abdab[\"CDRH3\"]"
   ]
  },
  {
   "cell_type": "code",
   "execution_count": null,
   "metadata": {},
   "outputs": [],
   "source": []
  },
  {
   "cell_type": "code",
   "execution_count": 30,
   "metadata": {
    "tags": []
   },
   "outputs": [
    {
     "data": {
      "text/plain": [
       "Ab    7680\n",
       "Nb      25\n",
       "Name: Ab or Nb, dtype: int64"
      ]
     },
     "execution_count": 30,
     "metadata": {},
     "output_type": "execute_result"
    }
   ],
   "source": [
    "cov_abdab[\"Ab or Nb\"].value_counts()"
   ]
  },
  {
   "cell_type": "code",
   "execution_count": null,
   "metadata": {},
   "outputs": [],
   "source": []
  },
  {
   "cell_type": "code",
   "execution_count": 31,
   "metadata": {},
   "outputs": [
    {
     "data": {
      "text/plain": [
       "False    7705\n",
       "Name: VHorVHH, dtype: int64"
      ]
     },
     "execution_count": 31,
     "metadata": {},
     "output_type": "execute_result"
    }
   ],
   "source": [
    "cov_abdab[\"VHorVHH\"].isna().value_counts()"
   ]
  },
  {
   "cell_type": "code",
   "execution_count": 32,
   "metadata": {},
   "outputs": [
    {
     "data": {
      "text/plain": [
       "True     7619\n",
       "False      86\n",
       "Name: VHorVHH, dtype: int64"
      ]
     },
     "execution_count": 32,
     "metadata": {},
     "output_type": "execute_result"
    }
   ],
   "source": [
    "(cov_abdab[\"VHorVHH\"] != \"ND\").value_counts()"
   ]
  },
  {
   "cell_type": "code",
   "execution_count": 33,
   "metadata": {
    "tags": []
   },
   "outputs": [
    {
     "data": {
      "text/plain": [
       "(7619, 23)"
      ]
     },
     "execution_count": 33,
     "metadata": {},
     "output_type": "execute_result"
    }
   ],
   "source": [
    "cov_abdab = cov_abdab[cov_abdab[\"VHorVHH\"] != \"ND\"]\n",
    "cov_abdab.shape"
   ]
  },
  {
   "cell_type": "code",
   "execution_count": null,
   "metadata": {},
   "outputs": [],
   "source": []
  },
  {
   "cell_type": "code",
   "execution_count": 34,
   "metadata": {
    "tags": []
   },
   "outputs": [
    {
     "data": {
      "text/plain": [
       "Index(['Name', 'Ab or Nb', 'Binds to', 'Doesn't Bind to', 'Neutralising Vs',\n",
       "       'Not Neutralising Vs', 'Protein + Epitope', 'Origin', 'VHorVHH', 'VL',\n",
       "       'Heavy V Gene', 'Heavy J Gene', 'Light V Gene', 'Light J Gene', 'CDRH3',\n",
       "       'CDRL3', 'Structures', 'ABB Homology Model (if no structure)',\n",
       "       'Sources', 'Date Added', 'Last Updated', 'Update Description',\n",
       "       'Notes/Following Up?'],\n",
       "      dtype='object')"
      ]
     },
     "execution_count": 34,
     "metadata": {},
     "output_type": "execute_result"
    }
   ],
   "source": [
    "cov_abdab.columns"
   ]
  },
  {
   "cell_type": "code",
   "execution_count": 35,
   "metadata": {
    "tags": []
   },
   "outputs": [
    {
     "data": {
      "text/plain": [
       "B-cells; SARS-CoV2 Human Patient                     2461\n",
       "B-cells; SARS-CoV2_WT Human Patient                  2172\n",
       "B-cells (SARS-CoV2 Human Patient and/or Vaccinee)    1055\n",
       "B-cells; SARS-CoV2_WT Vaccinee                        519\n",
       "B-cells (SARS-CoV2 Human Patient+Vaccinee)            280\n",
       "                                                     ... \n",
       "Engineered from CR3023                                  1\n",
       "Engineered from CR3041                                  1\n",
       "Engineered from CR3042                                  1\n",
       "Engineered from CR3043                                  1\n",
       "B-cells; SARS-CoV2 Human Vaccinees (BNT162b2)           1\n",
       "Name: Origin, Length: 86, dtype: int64"
      ]
     },
     "execution_count": 35,
     "metadata": {},
     "output_type": "execute_result"
    }
   ],
   "source": [
    "cov_abdab[\"Origin\"].value_counts()"
   ]
  },
  {
   "cell_type": "code",
   "execution_count": 36,
   "metadata": {
    "tags": []
   },
   "outputs": [
    {
     "data": {
      "text/plain": [
       "B-cells; SARS-CoV2 Human Patient                             2461\n",
       "B-cells; SARS-CoV2_WT Human Patient                          2172\n",
       "B-cells (SARS-CoV2 Human Patient and/or Vaccinee)            1055\n",
       "B-cells; SARS-CoV2_WT Vaccinee                                519\n",
       "B-cells (SARS-CoV2 Human Patient+Vaccinee)                    280\n",
       "B-cells; SARS-CoV1 Human Patient                              248\n",
       "Semi-synthetic Human Fab Library                              116\n",
       "B-cells (SARS-CoV2 Human Patient/Vaccinee)                     90\n",
       "B-cells; SARS-CoV2_Beta Human Patient                          81\n",
       "B-cells; SARS-CoV2 Vaccinee (ChAdOx1 then mRNA-1273)           72\n",
       "Phage Display (Ab, human, non-immune)                          58\n",
       "B-cells; SARS-CoV2_Gamma Human Patient                         50\n",
       "B-cells; SARS-CoV2 Vaccinee (2 x ChAdOx1)                      45\n",
       "B-cells (Human Naive)                                          39\n",
       "B-cells; SARS-CoV2_WT Vaccinee (Lymph Nodes)                   37\n",
       "Directed Evolution of B-cells; SARS-CoV2_WT Human Patient      35\n",
       "Phage Display (Ab, human, immune - SARS-CoV2)                  30\n",
       "ND                                                             22\n",
       "B-cells; Transgenic Mouse (VelocImmune)                        17\n",
       "B-cells (SARS-CoV2_Beta Human Patient)                         17\n",
       "Transgenic Mouse                                               16\n",
       "Phage Display (Ab, human, immune - CoV2_WT)                    14\n",
       "B-cells (SARS-CoV2_Omicron Breakthrough Infection)             11\n",
       "Transgenic Mouse (Alloy GK)                                     9\n",
       "B-cells (SARS-CoV2_WT Human Patient)                            9\n",
       "Name: Origin, dtype: int64"
      ]
     },
     "execution_count": 36,
     "metadata": {},
     "output_type": "execute_result"
    }
   ],
   "source": [
    "cov_abdab[\"Origin\"].value_counts().head(n=25)"
   ]
  },
  {
   "cell_type": "code",
   "execution_count": 37,
   "metadata": {
    "tags": []
   },
   "outputs": [
    {
     "data": {
      "text/plain": [
       "array(['Phage Display (Ab, human, immune - SARS-CoV2)',\n",
       "       'B-cells; SARS-CoV2_Gamma Human Patient',\n",
       "       'B-cells; SARS-CoV2 Vaccinee (2 x ChAdOx1)',\n",
       "       'B-cells; SARS-CoV2 Vaccinee (ChAdOx1 then mRNA-1273)',\n",
       "       'B-cells; SARS-CoV1 Human Patient',\n",
       "       'B-cells; Transgenic Mouse (VelocImmune)',\n",
       "       'B-cells; SARS-CoV2_WT Human Patient', 'Transgenic Mouse',\n",
       "       'Phage Library Engineered from SARS-CoV-1 binder',\n",
       "       'Phage Display (Ab, human, non-immune)',\n",
       "       'B-cells; SARS-CoV2 Human Patient', 'Immunised mouse (TC-mAb)',\n",
       "       'Engineered from ADI-55688',\n",
       "       'B-cells (SARS-CoV2 Vaccinated Human)',\n",
       "       'B-cells; SARS-CoV2 Human Patient plus vaccinated mRNA-1273 vaccine',\n",
       "       'B-cells; SARS-CoV2_WT Vaccinee',\n",
       "       'B-cells (SARS-CoV2 Human Patient+Vaccinee)',\n",
       "       'B-cells (SARS-CoV2 Human Patient/Vaccinee)',\n",
       "       'B-cells (SARS-CoV2 Human Patient and/or Vaccinee)',\n",
       "       'Immunised mouse (RenMab)', 'Transgenic Mouse (H2L2)',\n",
       "       'Phage Display (Ab, human, immune - CoV2_WT)', 'HIV-1 induced Ab',\n",
       "       'Phage Display (sdAbs from human VH)', 'TBC',\n",
       "       'Phage Display (Humanised sdAbs, immune - CoV2)',\n",
       "       'B-cells (Human Naive)', 'Engineered from ADI-55689',\n",
       "       'Engineered from ADG-2', 'Engineered from ADI-56046',\n",
       "       'B-cells (SARS-CoV1 Human Patient)', 'ND',\n",
       "       'Phage Display (Ab, based on trastuzumab VH)',\n",
       "       'B-cells (SARS-CoV2_Beta Human Patient)',\n",
       "       'Phage Display (sdAb, non-immune, human) + Engineering',\n",
       "       'B-cells (Zika Human Patient)',\n",
       "       'Phage Display (single-domain, human, non-immune)',\n",
       "       'B-cells (SARS-CoV2_WT Human Patient)',\n",
       "       'B-cells; SARS-CoV2_Beta Human Patient', 'Computational Design',\n",
       "       'Transgenic Mouse (Alloy GK)', 'Computational Engineering',\n",
       "       'Directed Evolution of B-cells; SARS-CoV2_WT Human Patient',\n",
       "       'Engineered from CR3022', 'Engineered from CR3031',\n",
       "       'Engineered from CR3032', 'Engineered from CR3033',\n",
       "       'Engineered from CR3034', 'Engineered from CR3035',\n",
       "       'Engineered from CR3036', 'Engineered from CR3037',\n",
       "       'Engineered from CR3038', 'Engineered from CR3039',\n",
       "       'Engineered from CR3040', 'Engineered from CR3023',\n",
       "       'Engineered from CR3041', 'Engineered from CR3042',\n",
       "       'Engineered from CR3043', 'Engineered from CR3044',\n",
       "       'Engineered from CR3045', 'Engineered from CR3046',\n",
       "       'Engineered from CR3024', 'Engineered from CR3025',\n",
       "       'Engineered from CR3026', 'Engineered from CR3027',\n",
       "       'Engineered from CR3028', 'Engineered from CR3029',\n",
       "       'Engineered from CR3030',\n",
       "       'Engineered from Phage Display (antibody, non-immune)',\n",
       "       'Immunised Camelids + Engineering', 'Humanised from R58',\n",
       "       'Phage Display Library (scFv, naive, non-immune)',\n",
       "       'mRNA Display Library', 'Engineered from N3113', 'Unknown',\n",
       "       'B-cells (SARS-CoV2_Omicron Breakthrough Infection)',\n",
       "       'Phage Display (VHH, Camel, non-immune)', 'Immunised Mouse (H2L2)',\n",
       "       'Immunised Mouse (Balb/c)',\n",
       "       'Hybridoma from Transgenic Mouse (VelocImmune)',\n",
       "       'Phage Display (Humanised sdAbs)',\n",
       "       'Phage Display (scFv, human, non-immune)', 'Humanised from Mouse',\n",
       "       'B-cells; SARS-CoV2_WT Vaccinee (Lymph Nodes)',\n",
       "       'Semi-synthetic Human Fab Library',\n",
       "       'B-cells; SARS-CoV2 Human Vaccinees (BNT162b2)'], dtype=object)"
      ]
     },
     "execution_count": 37,
     "metadata": {},
     "output_type": "execute_result"
    }
   ],
   "source": [
    "cov_abdab[\"Origin\"].unique()"
   ]
  },
  {
   "cell_type": "code",
   "execution_count": 38,
   "metadata": {
    "tags": []
   },
   "outputs": [
    {
     "data": {
      "text/plain": [
       "['Phage Display (Ab, human, immune - SARS-CoV2)',\n",
       " 'B-cells; SARS-CoV2_Gamma Human Patient',\n",
       " 'B-cells; SARS-CoV2 Vaccinee (2 x ChAdOx1)',\n",
       " 'B-cells; SARS-CoV2 Vaccinee (ChAdOx1 then mRNA-1273)',\n",
       " 'B-cells; SARS-CoV1 Human Patient',\n",
       " 'B-cells; SARS-CoV2_WT Human Patient',\n",
       " 'Phage Display (Ab, human, non-immune)',\n",
       " 'B-cells; SARS-CoV2 Human Patient',\n",
       " 'B-cells (SARS-CoV2 Vaccinated Human)',\n",
       " 'B-cells; SARS-CoV2 Human Patient plus vaccinated mRNA-1273 vaccine',\n",
       " 'B-cells; SARS-CoV2_WT Vaccinee',\n",
       " 'B-cells (SARS-CoV2 Human Patient+Vaccinee)',\n",
       " 'B-cells (SARS-CoV2 Human Patient/Vaccinee)',\n",
       " 'B-cells (SARS-CoV2 Human Patient and/or Vaccinee)',\n",
       " 'Phage Display (Ab, human, immune - CoV2_WT)',\n",
       " 'Phage Display (sdAbs from human VH)',\n",
       " 'B-cells (Human Naive)',\n",
       " 'B-cells (SARS-CoV1 Human Patient)',\n",
       " 'B-cells (SARS-CoV2_Beta Human Patient)',\n",
       " 'Phage Display (sdAb, non-immune, human) + Engineering',\n",
       " 'B-cells (Zika Human Patient)',\n",
       " 'Phage Display (single-domain, human, non-immune)',\n",
       " 'B-cells (SARS-CoV2_WT Human Patient)',\n",
       " 'B-cells; SARS-CoV2_Beta Human Patient',\n",
       " 'Directed Evolution of B-cells; SARS-CoV2_WT Human Patient',\n",
       " 'Phage Display (scFv, human, non-immune)',\n",
       " 'B-cells; SARS-CoV2_WT Vaccinee (Lymph Nodes)',\n",
       " 'Semi-synthetic Human Fab Library',\n",
       " 'B-cells; SARS-CoV2 Human Vaccinees (BNT162b2)']"
      ]
     },
     "execution_count": 38,
     "metadata": {},
     "output_type": "execute_result"
    }
   ],
   "source": [
    "# Test \"keep human origin only\" filter:\n",
    "[\n",
    "    origin\n",
    "    for origin in cov_abdab[\"Origin\"].unique()\n",
    "    if (\n",
    "        \"human\" in origin.lower()\n",
    "        or \"patient\" in origin.lower()\n",
    "        or \"vaccinee\" in origin.lower()\n",
    "    )\n",
    "    and \"humanised\" not in origin.lower()\n",
    "]"
   ]
  },
  {
   "cell_type": "code",
   "execution_count": 39,
   "metadata": {
    "tags": []
   },
   "outputs": [
    {
     "data": {
      "text/plain": [
       "['B-cells; Transgenic Mouse (VelocImmune)',\n",
       " 'Transgenic Mouse',\n",
       " 'Phage Library Engineered from SARS-CoV-1 binder',\n",
       " 'Immunised mouse (TC-mAb)',\n",
       " 'Engineered from ADI-55688',\n",
       " 'Immunised mouse (RenMab)',\n",
       " 'Transgenic Mouse (H2L2)',\n",
       " 'HIV-1 induced Ab',\n",
       " 'TBC',\n",
       " 'Phage Display (Humanised sdAbs, immune - CoV2)',\n",
       " 'Engineered from ADI-55689',\n",
       " 'Engineered from ADG-2',\n",
       " 'Engineered from ADI-56046',\n",
       " 'ND',\n",
       " 'Phage Display (Ab, based on trastuzumab VH)',\n",
       " 'Computational Design',\n",
       " 'Transgenic Mouse (Alloy GK)',\n",
       " 'Computational Engineering',\n",
       " 'Engineered from CR3022',\n",
       " 'Engineered from CR3031',\n",
       " 'Engineered from CR3032',\n",
       " 'Engineered from CR3033',\n",
       " 'Engineered from CR3034',\n",
       " 'Engineered from CR3035',\n",
       " 'Engineered from CR3036',\n",
       " 'Engineered from CR3037',\n",
       " 'Engineered from CR3038',\n",
       " 'Engineered from CR3039',\n",
       " 'Engineered from CR3040',\n",
       " 'Engineered from CR3023',\n",
       " 'Engineered from CR3041',\n",
       " 'Engineered from CR3042',\n",
       " 'Engineered from CR3043',\n",
       " 'Engineered from CR3044',\n",
       " 'Engineered from CR3045',\n",
       " 'Engineered from CR3046',\n",
       " 'Engineered from CR3024',\n",
       " 'Engineered from CR3025',\n",
       " 'Engineered from CR3026',\n",
       " 'Engineered from CR3027',\n",
       " 'Engineered from CR3028',\n",
       " 'Engineered from CR3029',\n",
       " 'Engineered from CR3030',\n",
       " 'Engineered from Phage Display (antibody, non-immune)',\n",
       " 'Immunised Camelids + Engineering',\n",
       " 'Humanised from R58',\n",
       " 'Phage Display Library (scFv, naive, non-immune)',\n",
       " 'mRNA Display Library',\n",
       " 'Engineered from N3113',\n",
       " 'Unknown',\n",
       " 'B-cells (SARS-CoV2_Omicron Breakthrough Infection)',\n",
       " 'Phage Display (VHH, Camel, non-immune)',\n",
       " 'Immunised Mouse (H2L2)',\n",
       " 'Immunised Mouse (Balb/c)',\n",
       " 'Hybridoma from Transgenic Mouse (VelocImmune)',\n",
       " 'Phage Display (Humanised sdAbs)',\n",
       " 'Humanised from Mouse']"
      ]
     },
     "execution_count": 39,
     "metadata": {},
     "output_type": "execute_result"
    }
   ],
   "source": [
    "# rejects:\n",
    "[\n",
    "    origin\n",
    "    for origin in cov_abdab[\"Origin\"].unique()\n",
    "    if not (\n",
    "        (\n",
    "            \"human\" in origin.lower()\n",
    "            or \"patient\" in origin.lower()\n",
    "            or \"vaccinee\" in origin.lower()\n",
    "        )\n",
    "        and \"humanised\" not in origin.lower()\n",
    "    )\n",
    "]"
   ]
  },
  {
   "cell_type": "code",
   "execution_count": null,
   "metadata": {},
   "outputs": [],
   "source": []
  },
  {
   "cell_type": "code",
   "execution_count": 40,
   "metadata": {
    "tags": []
   },
   "outputs": [
    {
     "data": {
      "text/plain": [
       "(7619, 23)"
      ]
     },
     "execution_count": 40,
     "metadata": {},
     "output_type": "execute_result"
    }
   ],
   "source": [
    "cov_abdab.shape"
   ]
  },
  {
   "cell_type": "code",
   "execution_count": 41,
   "metadata": {
    "tags": []
   },
   "outputs": [
    {
     "data": {
      "text/plain": [
       "(7451, 23)"
      ]
     },
     "execution_count": 41,
     "metadata": {},
     "output_type": "execute_result"
    }
   ],
   "source": [
    "# Apply \"keep human origin only\" filter:\n",
    "cov_abdab = cov_abdab[\n",
    "    cov_abdab[\"Origin\"].apply(\n",
    "        lambda origin: (\n",
    "            \"human\" in origin.lower()\n",
    "            or \"patient\" in origin.lower()\n",
    "            or \"vaccinee\" in origin.lower()\n",
    "        )\n",
    "        and \"humanised\" not in origin.lower()\n",
    "    )\n",
    "]\n",
    "cov_abdab.shape"
   ]
  },
  {
   "cell_type": "code",
   "execution_count": null,
   "metadata": {},
   "outputs": [],
   "source": []
  },
  {
   "cell_type": "code",
   "execution_count": 42,
   "metadata": {
    "tags": []
   },
   "outputs": [
    {
     "data": {
      "text/plain": [
       "B-cells; SARS-CoV2 Human Patient                                      2461\n",
       "B-cells; SARS-CoV2_WT Human Patient                                   2172\n",
       "B-cells (SARS-CoV2 Human Patient and/or Vaccinee)                     1055\n",
       "B-cells; SARS-CoV2_WT Vaccinee                                         519\n",
       "B-cells (SARS-CoV2 Human Patient+Vaccinee)                             280\n",
       "B-cells; SARS-CoV1 Human Patient                                       248\n",
       "Semi-synthetic Human Fab Library                                       116\n",
       "B-cells (SARS-CoV2 Human Patient/Vaccinee)                              90\n",
       "B-cells; SARS-CoV2_Beta Human Patient                                   81\n",
       "B-cells; SARS-CoV2 Vaccinee (ChAdOx1 then mRNA-1273)                    72\n",
       "Phage Display (Ab, human, non-immune)                                   58\n",
       "B-cells; SARS-CoV2_Gamma Human Patient                                  50\n",
       "B-cells; SARS-CoV2 Vaccinee (2 x ChAdOx1)                               45\n",
       "B-cells (Human Naive)                                                   39\n",
       "B-cells; SARS-CoV2_WT Vaccinee (Lymph Nodes)                            37\n",
       "Directed Evolution of B-cells; SARS-CoV2_WT Human Patient               35\n",
       "Phage Display (Ab, human, immune - SARS-CoV2)                           30\n",
       "B-cells (SARS-CoV2_Beta Human Patient)                                  17\n",
       "Phage Display (Ab, human, immune - CoV2_WT)                             14\n",
       "B-cells (SARS-CoV2_WT Human Patient)                                     9\n",
       "Phage Display (single-domain, human, non-immune)                         6\n",
       "Phage Display (sdAbs from human VH)                                      4\n",
       "B-cells (SARS-CoV2 Vaccinated Human)                                     4\n",
       "B-cells (SARS-CoV1 Human Patient)                                        3\n",
       "Phage Display (sdAb, non-immune, human) + Engineering                    2\n",
       "B-cells (Zika Human Patient)                                             1\n",
       "Phage Display (scFv, human, non-immune)                                  1\n",
       "B-cells; SARS-CoV2 Human Patient plus vaccinated mRNA-1273 vaccine       1\n",
       "B-cells; SARS-CoV2 Human Vaccinees (BNT162b2)                            1\n",
       "Name: Origin, dtype: int64"
      ]
     },
     "execution_count": 42,
     "metadata": {},
     "output_type": "execute_result"
    }
   ],
   "source": [
    "cov_abdab[\"Origin\"].value_counts()"
   ]
  },
  {
   "cell_type": "code",
   "execution_count": null,
   "metadata": {},
   "outputs": [],
   "source": []
  },
  {
   "cell_type": "code",
   "execution_count": null,
   "metadata": {},
   "outputs": [],
   "source": []
  },
  {
   "cell_type": "code",
   "execution_count": null,
   "metadata": {},
   "outputs": [],
   "source": []
  },
  {
   "cell_type": "code",
   "execution_count": 43,
   "metadata": {
    "tags": []
   },
   "outputs": [
    {
     "data": {
      "text/plain": [
       "S; RBD                                     4334\n",
       "S; Unk                                     1754\n",
       "S; NTD                                      567\n",
       "S; non-RBD                                  392\n",
       "S; S2                                       275\n",
       "N                                            39\n",
       "S; non-S1                                    33\n",
       "S; S1 non-RBD                                27\n",
       "Unknown                                       7\n",
       "S; RBD/non-RBD                                6\n",
       "S; S2 Stem Helix                              5\n",
       "S; S1/S2                                      2\n",
       "TBC                                           2\n",
       "S                                             1\n",
       "S; S2' Cleavage Site/Fusion Peptide NTD       1\n",
       "S; S1                                         1\n",
       "S: NTD                                        1\n",
       "S: RBD                                        1\n",
       "S; S2' Cleavage Site/Fusion Peptide           1\n",
       "Name: Protein + Epitope, dtype: int64"
      ]
     },
     "execution_count": 43,
     "metadata": {},
     "output_type": "execute_result"
    }
   ],
   "source": [
    "cov_abdab[\"Protein + Epitope\"].value_counts()"
   ]
  },
  {
   "cell_type": "code",
   "execution_count": 44,
   "metadata": {
    "tags": []
   },
   "outputs": [
    {
     "data": {
      "text/plain": [
       "SARS-CoV2_WT                                                                                                                                                                            4371\n",
       "SARS-CoV1;SARS-CoV2_WT                                                                                                                                                                   361\n",
       "SARS-CoV2_WT;SARS-CoV2_Omicron-BA1;SARS-CoV2_Omicron-BA1.1;SARS-CoV2_Omicron-BA3;SARS-CoV2_Omicron-BA2;SARS-CoV2_Omicron-BA2.12.1;SARS-CoV2_Omicron-BA2.13;SARS-CoV2_Omicron-BA4/BA5     219\n",
       "SARS-CoV2_WT;SARS-CoV2_Omicron-BA1;SARS-CoV2_Beta;SARS-CoV2_Delta;SARS-CoV2_Omicron-BA2;SARS-CoV1                                                                                        200\n",
       "SARS-CoV2_WT;SARS-CoV1                                                                                                                                                                   192\n",
       "                                                                                                                                                                                        ... \n",
       "SARS-CoV2_WT;SARS-CoV2_Delta;SARS-CoV1;WIV-1                                                                                                                                               1\n",
       "SARS-CoV2_WT;SARS-CoV2_Delta (weak)                                                                                                                                                        1\n",
       "SARS-CoV2_WT;SARS-CoV2_Alpha;SARS-CoV2_Beta (weak);RaTG13                                                                                                                                  1\n",
       "SARS-CoV2_Omicron-BA1;SARS-CoV2_Beta;SARS-CoV2_Delta;SARS-CoV2_Omicron-BA2                                                                                                                 1\n",
       "SARS-CoV2_WT;SARS-CoV2_Alpha;SARS-CoV2_Beta;SARS-CoV2_Gamma;SARS-CoV2_Delta;SARS-CoV2_Kappa;SARS-CoV2_Lambda;SARS-CoV2_Omicron-BA1 (weak)                                                  1\n",
       "Name: Binds to, Length: 355, dtype: int64"
      ]
     },
     "execution_count": 44,
     "metadata": {},
     "output_type": "execute_result"
    }
   ],
   "source": [
    "cov_abdab[\"Binds to\"].value_counts()"
   ]
  },
  {
   "cell_type": "code",
   "execution_count": 45,
   "metadata": {
    "tags": []
   },
   "outputs": [
    {
     "data": {
      "text/plain": [
       "SARS-CoV1                                                                     737\n",
       "SARS-CoV2_WT                                                                   72\n",
       "229E;HKU1;NL63;OC43                                                            70\n",
       "SARS-CoV2_Delta;SARS-CoV2_Omicron-BA1                                          57\n",
       "SARS-CoV2_Omicron-BA1                                                          54\n",
       "                                                                             ... \n",
       "SARS-CoV2_Mu;SARS-CoV2_Omicron-BA1                                              1\n",
       "SARS-CoV2_WT;SARS-CoV2_Alpha;SARS-CoV2_Delta                                    1\n",
       "SARS-CoV2_WT;SARS-CoV2_Alpha;SARS-CoV2_Gamma;SARS-CoV2_Delta;SARS-CoV2_Eta      1\n",
       "SARS-CoV2_WT;SARS-CoV2_Gamma                                                    1\n",
       "SARS-CoV2_Omicron                                                               1\n",
       "Name: Doesn't Bind to, Length: 93, dtype: int64"
      ]
     },
     "execution_count": 45,
     "metadata": {},
     "output_type": "execute_result"
    }
   ],
   "source": [
    "cov_abdab[\"Doesn't Bind to\"].value_counts()"
   ]
  },
  {
   "cell_type": "code",
   "execution_count": 46,
   "metadata": {
    "tags": []
   },
   "outputs": [
    {
     "data": {
      "text/plain": [
       "SARS-CoV2_WT                                                                                                                                                               988\n",
       "SARS-CoV1                                                                                                                                                                  382\n",
       "SARS-CoV1;SARS-CoV2_WT                                                                                                                                                     264\n",
       "SARS-CoV2_WT;SARS-CoV2_Gamma                                                                                                                                               182\n",
       "SARS-CoV2_Omicron-BA1;SARS-CoV2_Omicron-BA1.1;SARS-CoV2_Omicron-BA3;SARS-CoV2_Omicron-BA2;SARS-CoV2_Omicron-BA2.12.1;SARS-CoV2_Omicron-BA2.13;SARS-CoV2_Omicron-BA4/BA5    137\n",
       "                                                                                                                                                                          ... \n",
       "SARS-CoV2_Omicron-BA3;SARS-CoV2_Omicron-BA2;SARS-CoV2_Omicron-BA2.12.1                                                                                                       1\n",
       "SARS-CoV1;SARS-CoV2_Omicron-BA3;SARS-CoV2_Omicron-BA2                                                                                                                        1\n",
       "SARS-CoV1;SARS-CoV2_Omicron-BA1.1;SARS-CoV2_Omicron-BA4/BA5                                                                                                                  1\n",
       "SARS-CoV1;SARS-CoV2_Omicron-BA1;SARS-CoV2_Omicron-BA1.1;SARS-CoV2_Omicron-BA2.12.1;SARS-CoV2_Omicron-BA2.13;SARS-CoV2_Omicron-BA4/BA5;Pangolin-GD;RatG13                     1\n",
       "SARS-CoV2_Omicron                                                                                                                                                            1\n",
       "Name: Not Neutralising Vs, Length: 217, dtype: int64"
      ]
     },
     "execution_count": 46,
     "metadata": {},
     "output_type": "execute_result"
    }
   ],
   "source": [
    "cov_abdab[\"Not Neutralising Vs\"].value_counts()"
   ]
  },
  {
   "cell_type": "code",
   "execution_count": null,
   "metadata": {},
   "outputs": [],
   "source": []
  },
  {
   "cell_type": "code",
   "execution_count": null,
   "metadata": {},
   "outputs": [],
   "source": []
  },
  {
   "cell_type": "code",
   "execution_count": 47,
   "metadata": {
    "tags": []
   },
   "outputs": [
    {
     "data": {
      "text/html": [
       "<div>\n",
       "<style scoped>\n",
       "    .dataframe tbody tr th:only-of-type {\n",
       "        vertical-align: middle;\n",
       "    }\n",
       "\n",
       "    .dataframe tbody tr th {\n",
       "        vertical-align: top;\n",
       "    }\n",
       "\n",
       "    .dataframe thead th {\n",
       "        text-align: right;\n",
       "    }\n",
       "</style>\n",
       "<table border=\"1\" class=\"dataframe\">\n",
       "  <thead>\n",
       "    <tr style=\"text-align: right;\">\n",
       "      <th></th>\n",
       "      <th>CDRH3</th>\n",
       "      <th>j_gene</th>\n",
       "      <th>v_gene</th>\n",
       "      <th>VHorVHH</th>\n",
       "      <th>Binds to</th>\n",
       "      <th>Doesn't Bind to</th>\n",
       "      <th>Neutralising Vs</th>\n",
       "      <th>Not Neutralising Vs</th>\n",
       "      <th>Protein + Epitope</th>\n",
       "      <th>Origin</th>\n",
       "      <th>Sources</th>\n",
       "    </tr>\n",
       "  </thead>\n",
       "  <tbody>\n",
       "    <tr>\n",
       "      <th>0</th>\n",
       "      <td>ARERGYSGYGAAYYFDY</td>\n",
       "      <td>IGHJ4</td>\n",
       "      <td>IGHV1-69</td>\n",
       "      <td>EVQLLESGTEVKKPGSSVKVSCKASGGTFSSYAISWVRQAPGQGLE...</td>\n",
       "      <td>SARS-CoV2_WT;SARS-CoV2_Omicron-BA1</td>\n",
       "      <td>NaN</td>\n",
       "      <td>SARS-CoV2_WT;SARS-CoV2_Omicron-BA1</td>\n",
       "      <td>NaN</td>\n",
       "      <td>S; RBD</td>\n",
       "      <td>Phage Display (Ab, human, immune - SARS-CoV2)</td>\n",
       "      <td>Qianqian Zheng et al., 2022 (https://www.scien...</td>\n",
       "    </tr>\n",
       "    <tr>\n",
       "      <th>1</th>\n",
       "      <td>ASWLYGDPISFDY</td>\n",
       "      <td>IGHJ4</td>\n",
       "      <td>IGHV4-39</td>\n",
       "      <td>EVQLLESGPGLVKPSETLSLTCTVSGGSISNSSYYWGWIRQPPGKG...</td>\n",
       "      <td>SARS-CoV2_WT;SARS-CoV2_Omicron-BA1</td>\n",
       "      <td>NaN</td>\n",
       "      <td>SARS-CoV2_WT;SARS-CoV2_Omicron-BA1</td>\n",
       "      <td>NaN</td>\n",
       "      <td>S; RBD</td>\n",
       "      <td>Phage Display (Ab, human, immune - SARS-CoV2)</td>\n",
       "      <td>Qianqian Zheng et al., 2022 (https://www.scien...</td>\n",
       "    </tr>\n",
       "    <tr>\n",
       "      <th>2</th>\n",
       "      <td>AKSQGDYGGNSGAGYFQH</td>\n",
       "      <td>IGHJ1</td>\n",
       "      <td>IGHV3-9</td>\n",
       "      <td>EVQLVESGGGLVQPGRSLRLSCAASGFTFDEYAMHWVRQAPGKGLE...</td>\n",
       "      <td>SARS-CoV2_WT (weak);SARS-CoV2_Beta (weak);SARS...</td>\n",
       "      <td>NaN</td>\n",
       "      <td>SARS-CoV2_WT;SARS-CoV2_Gamma;SARS-CoV2_Omicron...</td>\n",
       "      <td>NaN</td>\n",
       "      <td>S; RBD</td>\n",
       "      <td>B-cells; SARS-CoV2_Gamma Human Patient</td>\n",
       "      <td>Marianna Agudelo et al., 2022 (https://rupress...</td>\n",
       "    </tr>\n",
       "    <tr>\n",
       "      <th>3</th>\n",
       "      <td>ARLREFGDYYYYGMDV</td>\n",
       "      <td>IGHJ6</td>\n",
       "      <td>IGHV5-51</td>\n",
       "      <td>EVQLVQSGAEVKKPGESLKISCLGSGYSFTSYWIGWVRQMPGKGLE...</td>\n",
       "      <td>SARS-CoV2_WT (weak);SARS-CoV2_Beta</td>\n",
       "      <td>SARS-CoV2_WT</td>\n",
       "      <td>SARS-CoV2_Gamma;SARS-CoV2_Omicron-BA1 (weak)</td>\n",
       "      <td>SARS-CoV2_WT</td>\n",
       "      <td>S; RBD</td>\n",
       "      <td>B-cells; SARS-CoV2_Gamma Human Patient</td>\n",
       "      <td>Marianna Agudelo et al., 2022 (https://rupress...</td>\n",
       "    </tr>\n",
       "    <tr>\n",
       "      <th>4</th>\n",
       "      <td>ARDTTDDYYVI</td>\n",
       "      <td>IGHJ1</td>\n",
       "      <td>IGHV4-61</td>\n",
       "      <td>QVQLQESGPGLVKPSQTLSLTCTVSGGSISSGSYYWSWIRQPAGKG...</td>\n",
       "      <td>SARS-CoV2_WT;SARS-CoV2_Beta;SARS-CoV2_Gamma</td>\n",
       "      <td>NaN</td>\n",
       "      <td>SARS-CoV2_WT;SARS-CoV2_Gamma</td>\n",
       "      <td>SARS-CoV2_Omicron-BA1</td>\n",
       "      <td>S; RBD</td>\n",
       "      <td>B-cells; SARS-CoV2_Gamma Human Patient</td>\n",
       "      <td>Marianna Agudelo et al., 2022 (https://rupress...</td>\n",
       "    </tr>\n",
       "    <tr>\n",
       "      <th>...</th>\n",
       "      <td>...</td>\n",
       "      <td>...</td>\n",
       "      <td>...</td>\n",
       "      <td>...</td>\n",
       "      <td>...</td>\n",
       "      <td>...</td>\n",
       "      <td>...</td>\n",
       "      <td>...</td>\n",
       "      <td>...</td>\n",
       "      <td>...</td>\n",
       "      <td>...</td>\n",
       "    </tr>\n",
       "    <tr>\n",
       "      <th>7446</th>\n",
       "      <td>ARGESGSPYGMDV</td>\n",
       "      <td>IGHJ6</td>\n",
       "      <td>IGHV3-53</td>\n",
       "      <td>EVQLLESGGGLIQPGGSLRLSCAASGLTVSSNYMSWVRQAPGKGLE...</td>\n",
       "      <td>SARS-CoV2_WT</td>\n",
       "      <td>NaN</td>\n",
       "      <td>SARS-CoV2_WT</td>\n",
       "      <td>NaN</td>\n",
       "      <td>S; RBD</td>\n",
       "      <td>Phage Display (Ab, human, immune - CoV2_WT)</td>\n",
       "      <td>EP3919126A1 (https://patents.google.com/patent...</td>\n",
       "    </tr>\n",
       "    <tr>\n",
       "      <th>7447</th>\n",
       "      <td>AAPSCSRTICSDGFDI</td>\n",
       "      <td>IGHJ3</td>\n",
       "      <td>IGHV1-58</td>\n",
       "      <td>EVQLVQSGPEVKKPGTSVKVACKASGFTFITPVSMQWVRQARGQRL...</td>\n",
       "      <td>SARS_CoV2_WT;SARS-CoV2_Alpha;SARS-CoV2_Beta;SA...</td>\n",
       "      <td>NaN</td>\n",
       "      <td>SARS_CoV2_WT;SARS-CoV2_Alpha;SARS-CoV2_Beta;SA...</td>\n",
       "      <td>NaN</td>\n",
       "      <td>S; RBD</td>\n",
       "      <td>B-cells; SARS-CoV2 Human Vaccinees (BNT162b2)</td>\n",
       "      <td>Biao Zhou et al., 2022 (https://www.nature.com...</td>\n",
       "    </tr>\n",
       "    <tr>\n",
       "      <th>7448</th>\n",
       "      <td>AREGRRYGSGWYISTGYFDY</td>\n",
       "      <td>IGHJ4</td>\n",
       "      <td>IGHV1-69</td>\n",
       "      <td>QVQLVQSGAEVKKPGSSVRVSCKASGGTFSTYPISWVRQAPGQGLE...</td>\n",
       "      <td>SARS-CoV2_WT</td>\n",
       "      <td>NaN</td>\n",
       "      <td>SARS-CoV2_WT</td>\n",
       "      <td>NaN</td>\n",
       "      <td>S; RBD</td>\n",
       "      <td>B-cells; SARS-CoV2_WT Human Patient</td>\n",
       "      <td>Xiaojuan Zhou et al., 2021 (https://www.scienc...</td>\n",
       "    </tr>\n",
       "    <tr>\n",
       "      <th>7449</th>\n",
       "      <td>AIHGGTYYYDKNILA</td>\n",
       "      <td>IGHJ4</td>\n",
       "      <td>IGHV3-30</td>\n",
       "      <td>EVQLVESGGGVVQPGTSLRLSCAASGFSFSHYVMYWVRQAPGKGLD...</td>\n",
       "      <td>SARS-CoV2_WT;SARS-CoV2_Alpha;SARS-CoV2_Beta;SA...</td>\n",
       "      <td>SARS-CoV2_Omicron</td>\n",
       "      <td>SARS-CoV2_WT;SARS-CoV2_Alpha;SARS-CoV2_Beta;SA...</td>\n",
       "      <td>SARS-CoV2_Omicron</td>\n",
       "      <td>S; RBD</td>\n",
       "      <td>B-cells (SARS-CoV2 Vaccinated Human)</td>\n",
       "      <td>CN113735970A (https://patents.google.com/paten...</td>\n",
       "    </tr>\n",
       "    <tr>\n",
       "      <th>7450</th>\n",
       "      <td>VKDRTDWELIRGYFGH</td>\n",
       "      <td>IGHJ4</td>\n",
       "      <td>IGHV3-7</td>\n",
       "      <td>EVQLVESGGGLVQPGGTLRLSCVASGFSFSNYWMSWVRQAPGKGLE...</td>\n",
       "      <td>SARS-CoV2_WT;SARS-CoV2_Alpha;SARS-CoV2_Beta;SA...</td>\n",
       "      <td>NaN</td>\n",
       "      <td>SARS-CoV2_WT;SARS-CoV2_Alpha;SARS-CoV2_Beta;SA...</td>\n",
       "      <td>NaN</td>\n",
       "      <td>S; RBD</td>\n",
       "      <td>B-cells (SARS-CoV2 Vaccinated Human)</td>\n",
       "      <td>CN113735969A (https://patents.google.com/paten...</td>\n",
       "    </tr>\n",
       "  </tbody>\n",
       "</table>\n",
       "<p>7451 rows × 11 columns</p>\n",
       "</div>"
      ],
      "text/plain": [
       "                     CDRH3 j_gene    v_gene  \\\n",
       "0        ARERGYSGYGAAYYFDY  IGHJ4  IGHV1-69   \n",
       "1            ASWLYGDPISFDY  IGHJ4  IGHV4-39   \n",
       "2       AKSQGDYGGNSGAGYFQH  IGHJ1   IGHV3-9   \n",
       "3         ARLREFGDYYYYGMDV  IGHJ6  IGHV5-51   \n",
       "4              ARDTTDDYYVI  IGHJ1  IGHV4-61   \n",
       "...                    ...    ...       ...   \n",
       "7446         ARGESGSPYGMDV  IGHJ6  IGHV3-53   \n",
       "7447      AAPSCSRTICSDGFDI  IGHJ3  IGHV1-58   \n",
       "7448  AREGRRYGSGWYISTGYFDY  IGHJ4  IGHV1-69   \n",
       "7449       AIHGGTYYYDKNILA  IGHJ4  IGHV3-30   \n",
       "7450      VKDRTDWELIRGYFGH  IGHJ4   IGHV3-7   \n",
       "\n",
       "                                                VHorVHH  \\\n",
       "0     EVQLLESGTEVKKPGSSVKVSCKASGGTFSSYAISWVRQAPGQGLE...   \n",
       "1     EVQLLESGPGLVKPSETLSLTCTVSGGSISNSSYYWGWIRQPPGKG...   \n",
       "2     EVQLVESGGGLVQPGRSLRLSCAASGFTFDEYAMHWVRQAPGKGLE...   \n",
       "3     EVQLVQSGAEVKKPGESLKISCLGSGYSFTSYWIGWVRQMPGKGLE...   \n",
       "4     QVQLQESGPGLVKPSQTLSLTCTVSGGSISSGSYYWSWIRQPAGKG...   \n",
       "...                                                 ...   \n",
       "7446  EVQLLESGGGLIQPGGSLRLSCAASGLTVSSNYMSWVRQAPGKGLE...   \n",
       "7447  EVQLVQSGPEVKKPGTSVKVACKASGFTFITPVSMQWVRQARGQRL...   \n",
       "7448  QVQLVQSGAEVKKPGSSVRVSCKASGGTFSTYPISWVRQAPGQGLE...   \n",
       "7449  EVQLVESGGGVVQPGTSLRLSCAASGFSFSHYVMYWVRQAPGKGLD...   \n",
       "7450  EVQLVESGGGLVQPGGTLRLSCVASGFSFSNYWMSWVRQAPGKGLE...   \n",
       "\n",
       "                                               Binds to    Doesn't Bind to  \\\n",
       "0                    SARS-CoV2_WT;SARS-CoV2_Omicron-BA1                NaN   \n",
       "1                    SARS-CoV2_WT;SARS-CoV2_Omicron-BA1                NaN   \n",
       "2     SARS-CoV2_WT (weak);SARS-CoV2_Beta (weak);SARS...                NaN   \n",
       "3                    SARS-CoV2_WT (weak);SARS-CoV2_Beta       SARS-CoV2_WT   \n",
       "4           SARS-CoV2_WT;SARS-CoV2_Beta;SARS-CoV2_Gamma                NaN   \n",
       "...                                                 ...                ...   \n",
       "7446                                       SARS-CoV2_WT                NaN   \n",
       "7447  SARS_CoV2_WT;SARS-CoV2_Alpha;SARS-CoV2_Beta;SA...                NaN   \n",
       "7448                                       SARS-CoV2_WT                NaN   \n",
       "7449  SARS-CoV2_WT;SARS-CoV2_Alpha;SARS-CoV2_Beta;SA...  SARS-CoV2_Omicron   \n",
       "7450  SARS-CoV2_WT;SARS-CoV2_Alpha;SARS-CoV2_Beta;SA...                NaN   \n",
       "\n",
       "                                        Neutralising Vs  \\\n",
       "0                    SARS-CoV2_WT;SARS-CoV2_Omicron-BA1   \n",
       "1                    SARS-CoV2_WT;SARS-CoV2_Omicron-BA1   \n",
       "2     SARS-CoV2_WT;SARS-CoV2_Gamma;SARS-CoV2_Omicron...   \n",
       "3          SARS-CoV2_Gamma;SARS-CoV2_Omicron-BA1 (weak)   \n",
       "4                          SARS-CoV2_WT;SARS-CoV2_Gamma   \n",
       "...                                                 ...   \n",
       "7446                                       SARS-CoV2_WT   \n",
       "7447  SARS_CoV2_WT;SARS-CoV2_Alpha;SARS-CoV2_Beta;SA...   \n",
       "7448                                       SARS-CoV2_WT   \n",
       "7449  SARS-CoV2_WT;SARS-CoV2_Alpha;SARS-CoV2_Beta;SA...   \n",
       "7450  SARS-CoV2_WT;SARS-CoV2_Alpha;SARS-CoV2_Beta;SA...   \n",
       "\n",
       "        Not Neutralising Vs Protein + Epitope  \\\n",
       "0                       NaN            S; RBD   \n",
       "1                       NaN            S; RBD   \n",
       "2                       NaN            S; RBD   \n",
       "3              SARS-CoV2_WT            S; RBD   \n",
       "4     SARS-CoV2_Omicron-BA1            S; RBD   \n",
       "...                     ...               ...   \n",
       "7446                    NaN            S; RBD   \n",
       "7447                    NaN            S; RBD   \n",
       "7448                    NaN            S; RBD   \n",
       "7449      SARS-CoV2_Omicron            S; RBD   \n",
       "7450                    NaN            S; RBD   \n",
       "\n",
       "                                             Origin  \\\n",
       "0     Phage Display (Ab, human, immune - SARS-CoV2)   \n",
       "1     Phage Display (Ab, human, immune - SARS-CoV2)   \n",
       "2            B-cells; SARS-CoV2_Gamma Human Patient   \n",
       "3            B-cells; SARS-CoV2_Gamma Human Patient   \n",
       "4            B-cells; SARS-CoV2_Gamma Human Patient   \n",
       "...                                             ...   \n",
       "7446    Phage Display (Ab, human, immune - CoV2_WT)   \n",
       "7447  B-cells; SARS-CoV2 Human Vaccinees (BNT162b2)   \n",
       "7448            B-cells; SARS-CoV2_WT Human Patient   \n",
       "7449           B-cells (SARS-CoV2 Vaccinated Human)   \n",
       "7450           B-cells (SARS-CoV2 Vaccinated Human)   \n",
       "\n",
       "                                                Sources  \n",
       "0     Qianqian Zheng et al., 2022 (https://www.scien...  \n",
       "1     Qianqian Zheng et al., 2022 (https://www.scien...  \n",
       "2     Marianna Agudelo et al., 2022 (https://rupress...  \n",
       "3     Marianna Agudelo et al., 2022 (https://rupress...  \n",
       "4     Marianna Agudelo et al., 2022 (https://rupress...  \n",
       "...                                                 ...  \n",
       "7446  EP3919126A1 (https://patents.google.com/patent...  \n",
       "7447  Biao Zhou et al., 2022 (https://www.nature.com...  \n",
       "7448  Xiaojuan Zhou et al., 2021 (https://www.scienc...  \n",
       "7449  CN113735970A (https://patents.google.com/paten...  \n",
       "7450  CN113735969A (https://patents.google.com/paten...  \n",
       "\n",
       "[7451 rows x 11 columns]"
      ]
     },
     "execution_count": 47,
     "metadata": {},
     "output_type": "execute_result"
    }
   ],
   "source": [
    "cov_abdab_export = (\n",
    "    cov_abdab[\n",
    "        [\n",
    "            \"CDRH3\",\n",
    "            \"Heavy J Gene\",\n",
    "            \"Heavy V Gene\",\n",
    "            \"VHorVHH\",\n",
    "            \"Binds to\",\n",
    "            \"Doesn't Bind to\",\n",
    "            \"Neutralising Vs\",\n",
    "            \"Not Neutralising Vs\",\n",
    "            \"Protein + Epitope\",\n",
    "            \"Origin\",\n",
    "            \"Sources\",\n",
    "        ]\n",
    "    ]\n",
    "    .rename(columns={\"Heavy J Gene\": \"j_gene\", \"Heavy V Gene\": \"v_gene\"})\n",
    "    .reset_index(drop=True)\n",
    ")\n",
    "cov_abdab_export"
   ]
  },
  {
   "cell_type": "markdown",
   "metadata": {},
   "source": [
    "CDRH3 already has `C` prefix and `W` suffix removed - consistent with our internal data."
   ]
  },
  {
   "cell_type": "code",
   "execution_count": null,
   "metadata": {},
   "outputs": [],
   "source": []
  },
  {
   "cell_type": "code",
   "execution_count": 48,
   "metadata": {
    "tags": []
   },
   "outputs": [],
   "source": [
    "# compute cdr3_aa_sequence_trim_len"
   ]
  },
  {
   "cell_type": "code",
   "execution_count": 49,
   "metadata": {
    "tags": []
   },
   "outputs": [
    {
     "data": {
      "text/html": [
       "<div>\n",
       "<style scoped>\n",
       "    .dataframe tbody tr th:only-of-type {\n",
       "        vertical-align: middle;\n",
       "    }\n",
       "\n",
       "    .dataframe tbody tr th {\n",
       "        vertical-align: top;\n",
       "    }\n",
       "\n",
       "    .dataframe thead th {\n",
       "        text-align: right;\n",
       "    }\n",
       "</style>\n",
       "<table border=\"1\" class=\"dataframe\">\n",
       "  <thead>\n",
       "    <tr style=\"text-align: right;\">\n",
       "      <th></th>\n",
       "      <th>CDRH3</th>\n",
       "      <th>j_gene</th>\n",
       "      <th>v_gene</th>\n",
       "      <th>VHorVHH</th>\n",
       "      <th>Binds to</th>\n",
       "      <th>Doesn't Bind to</th>\n",
       "      <th>Neutralising Vs</th>\n",
       "      <th>Not Neutralising Vs</th>\n",
       "      <th>Protein + Epitope</th>\n",
       "      <th>Origin</th>\n",
       "      <th>Sources</th>\n",
       "      <th>cdr3_seq_aa_q_trim</th>\n",
       "      <th>cdr3_aa_sequence_trim_len</th>\n",
       "    </tr>\n",
       "  </thead>\n",
       "  <tbody>\n",
       "    <tr>\n",
       "      <th>0</th>\n",
       "      <td>ARERGYSGYGAAYYFDY</td>\n",
       "      <td>IGHJ4</td>\n",
       "      <td>IGHV1-69</td>\n",
       "      <td>EVQLLESGTEVKKPGSSVKVSCKASGGTFSSYAISWVRQAPGQGLE...</td>\n",
       "      <td>SARS-CoV2_WT;SARS-CoV2_Omicron-BA1</td>\n",
       "      <td>NaN</td>\n",
       "      <td>SARS-CoV2_WT;SARS-CoV2_Omicron-BA1</td>\n",
       "      <td>NaN</td>\n",
       "      <td>S; RBD</td>\n",
       "      <td>Phage Display (Ab, human, immune - SARS-CoV2)</td>\n",
       "      <td>Qianqian Zheng et al., 2022 (https://www.scien...</td>\n",
       "      <td>ARERGYSGYGAAYYFDY</td>\n",
       "      <td>17</td>\n",
       "    </tr>\n",
       "    <tr>\n",
       "      <th>1</th>\n",
       "      <td>ASWLYGDPISFDY</td>\n",
       "      <td>IGHJ4</td>\n",
       "      <td>IGHV4-39</td>\n",
       "      <td>EVQLLESGPGLVKPSETLSLTCTVSGGSISNSSYYWGWIRQPPGKG...</td>\n",
       "      <td>SARS-CoV2_WT;SARS-CoV2_Omicron-BA1</td>\n",
       "      <td>NaN</td>\n",
       "      <td>SARS-CoV2_WT;SARS-CoV2_Omicron-BA1</td>\n",
       "      <td>NaN</td>\n",
       "      <td>S; RBD</td>\n",
       "      <td>Phage Display (Ab, human, immune - SARS-CoV2)</td>\n",
       "      <td>Qianqian Zheng et al., 2022 (https://www.scien...</td>\n",
       "      <td>ASWLYGDPISFDY</td>\n",
       "      <td>13</td>\n",
       "    </tr>\n",
       "    <tr>\n",
       "      <th>2</th>\n",
       "      <td>AKSQGDYGGNSGAGYFQH</td>\n",
       "      <td>IGHJ1</td>\n",
       "      <td>IGHV3-9</td>\n",
       "      <td>EVQLVESGGGLVQPGRSLRLSCAASGFTFDEYAMHWVRQAPGKGLE...</td>\n",
       "      <td>SARS-CoV2_WT (weak);SARS-CoV2_Beta (weak);SARS...</td>\n",
       "      <td>NaN</td>\n",
       "      <td>SARS-CoV2_WT;SARS-CoV2_Gamma;SARS-CoV2_Omicron...</td>\n",
       "      <td>NaN</td>\n",
       "      <td>S; RBD</td>\n",
       "      <td>B-cells; SARS-CoV2_Gamma Human Patient</td>\n",
       "      <td>Marianna Agudelo et al., 2022 (https://rupress...</td>\n",
       "      <td>AKSQGDYGGNSGAGYFQH</td>\n",
       "      <td>18</td>\n",
       "    </tr>\n",
       "    <tr>\n",
       "      <th>3</th>\n",
       "      <td>ARLREFGDYYYYGMDV</td>\n",
       "      <td>IGHJ6</td>\n",
       "      <td>IGHV5-51</td>\n",
       "      <td>EVQLVQSGAEVKKPGESLKISCLGSGYSFTSYWIGWVRQMPGKGLE...</td>\n",
       "      <td>SARS-CoV2_WT (weak);SARS-CoV2_Beta</td>\n",
       "      <td>SARS-CoV2_WT</td>\n",
       "      <td>SARS-CoV2_Gamma;SARS-CoV2_Omicron-BA1 (weak)</td>\n",
       "      <td>SARS-CoV2_WT</td>\n",
       "      <td>S; RBD</td>\n",
       "      <td>B-cells; SARS-CoV2_Gamma Human Patient</td>\n",
       "      <td>Marianna Agudelo et al., 2022 (https://rupress...</td>\n",
       "      <td>ARLREFGDYYYYGMDV</td>\n",
       "      <td>16</td>\n",
       "    </tr>\n",
       "    <tr>\n",
       "      <th>4</th>\n",
       "      <td>ARDTTDDYYVI</td>\n",
       "      <td>IGHJ1</td>\n",
       "      <td>IGHV4-61</td>\n",
       "      <td>QVQLQESGPGLVKPSQTLSLTCTVSGGSISSGSYYWSWIRQPAGKG...</td>\n",
       "      <td>SARS-CoV2_WT;SARS-CoV2_Beta;SARS-CoV2_Gamma</td>\n",
       "      <td>NaN</td>\n",
       "      <td>SARS-CoV2_WT;SARS-CoV2_Gamma</td>\n",
       "      <td>SARS-CoV2_Omicron-BA1</td>\n",
       "      <td>S; RBD</td>\n",
       "      <td>B-cells; SARS-CoV2_Gamma Human Patient</td>\n",
       "      <td>Marianna Agudelo et al., 2022 (https://rupress...</td>\n",
       "      <td>ARDTTDDYYVI</td>\n",
       "      <td>11</td>\n",
       "    </tr>\n",
       "    <tr>\n",
       "      <th>...</th>\n",
       "      <td>...</td>\n",
       "      <td>...</td>\n",
       "      <td>...</td>\n",
       "      <td>...</td>\n",
       "      <td>...</td>\n",
       "      <td>...</td>\n",
       "      <td>...</td>\n",
       "      <td>...</td>\n",
       "      <td>...</td>\n",
       "      <td>...</td>\n",
       "      <td>...</td>\n",
       "      <td>...</td>\n",
       "      <td>...</td>\n",
       "    </tr>\n",
       "    <tr>\n",
       "      <th>7446</th>\n",
       "      <td>ARGESGSPYGMDV</td>\n",
       "      <td>IGHJ6</td>\n",
       "      <td>IGHV3-53</td>\n",
       "      <td>EVQLLESGGGLIQPGGSLRLSCAASGLTVSSNYMSWVRQAPGKGLE...</td>\n",
       "      <td>SARS-CoV2_WT</td>\n",
       "      <td>NaN</td>\n",
       "      <td>SARS-CoV2_WT</td>\n",
       "      <td>NaN</td>\n",
       "      <td>S; RBD</td>\n",
       "      <td>Phage Display (Ab, human, immune - CoV2_WT)</td>\n",
       "      <td>EP3919126A1 (https://patents.google.com/patent...</td>\n",
       "      <td>ARGESGSPYGMDV</td>\n",
       "      <td>13</td>\n",
       "    </tr>\n",
       "    <tr>\n",
       "      <th>7447</th>\n",
       "      <td>AAPSCSRTICSDGFDI</td>\n",
       "      <td>IGHJ3</td>\n",
       "      <td>IGHV1-58</td>\n",
       "      <td>EVQLVQSGPEVKKPGTSVKVACKASGFTFITPVSMQWVRQARGQRL...</td>\n",
       "      <td>SARS_CoV2_WT;SARS-CoV2_Alpha;SARS-CoV2_Beta;SA...</td>\n",
       "      <td>NaN</td>\n",
       "      <td>SARS_CoV2_WT;SARS-CoV2_Alpha;SARS-CoV2_Beta;SA...</td>\n",
       "      <td>NaN</td>\n",
       "      <td>S; RBD</td>\n",
       "      <td>B-cells; SARS-CoV2 Human Vaccinees (BNT162b2)</td>\n",
       "      <td>Biao Zhou et al., 2022 (https://www.nature.com...</td>\n",
       "      <td>AAPSCSRTICSDGFDI</td>\n",
       "      <td>16</td>\n",
       "    </tr>\n",
       "    <tr>\n",
       "      <th>7448</th>\n",
       "      <td>AREGRRYGSGWYISTGYFDY</td>\n",
       "      <td>IGHJ4</td>\n",
       "      <td>IGHV1-69</td>\n",
       "      <td>QVQLVQSGAEVKKPGSSVRVSCKASGGTFSTYPISWVRQAPGQGLE...</td>\n",
       "      <td>SARS-CoV2_WT</td>\n",
       "      <td>NaN</td>\n",
       "      <td>SARS-CoV2_WT</td>\n",
       "      <td>NaN</td>\n",
       "      <td>S; RBD</td>\n",
       "      <td>B-cells; SARS-CoV2_WT Human Patient</td>\n",
       "      <td>Xiaojuan Zhou et al., 2021 (https://www.scienc...</td>\n",
       "      <td>AREGRRYGSGWYISTGYFDY</td>\n",
       "      <td>20</td>\n",
       "    </tr>\n",
       "    <tr>\n",
       "      <th>7449</th>\n",
       "      <td>AIHGGTYYYDKNILA</td>\n",
       "      <td>IGHJ4</td>\n",
       "      <td>IGHV3-30</td>\n",
       "      <td>EVQLVESGGGVVQPGTSLRLSCAASGFSFSHYVMYWVRQAPGKGLD...</td>\n",
       "      <td>SARS-CoV2_WT;SARS-CoV2_Alpha;SARS-CoV2_Beta;SA...</td>\n",
       "      <td>SARS-CoV2_Omicron</td>\n",
       "      <td>SARS-CoV2_WT;SARS-CoV2_Alpha;SARS-CoV2_Beta;SA...</td>\n",
       "      <td>SARS-CoV2_Omicron</td>\n",
       "      <td>S; RBD</td>\n",
       "      <td>B-cells (SARS-CoV2 Vaccinated Human)</td>\n",
       "      <td>CN113735970A (https://patents.google.com/paten...</td>\n",
       "      <td>AIHGGTYYYDKNILA</td>\n",
       "      <td>15</td>\n",
       "    </tr>\n",
       "    <tr>\n",
       "      <th>7450</th>\n",
       "      <td>VKDRTDWELIRGYFGH</td>\n",
       "      <td>IGHJ4</td>\n",
       "      <td>IGHV3-7</td>\n",
       "      <td>EVQLVESGGGLVQPGGTLRLSCVASGFSFSNYWMSWVRQAPGKGLE...</td>\n",
       "      <td>SARS-CoV2_WT;SARS-CoV2_Alpha;SARS-CoV2_Beta;SA...</td>\n",
       "      <td>NaN</td>\n",
       "      <td>SARS-CoV2_WT;SARS-CoV2_Alpha;SARS-CoV2_Beta;SA...</td>\n",
       "      <td>NaN</td>\n",
       "      <td>S; RBD</td>\n",
       "      <td>B-cells (SARS-CoV2 Vaccinated Human)</td>\n",
       "      <td>CN113735969A (https://patents.google.com/paten...</td>\n",
       "      <td>VKDRTDWELIRGYFGH</td>\n",
       "      <td>16</td>\n",
       "    </tr>\n",
       "  </tbody>\n",
       "</table>\n",
       "<p>7451 rows × 13 columns</p>\n",
       "</div>"
      ],
      "text/plain": [
       "                     CDRH3 j_gene    v_gene  \\\n",
       "0        ARERGYSGYGAAYYFDY  IGHJ4  IGHV1-69   \n",
       "1            ASWLYGDPISFDY  IGHJ4  IGHV4-39   \n",
       "2       AKSQGDYGGNSGAGYFQH  IGHJ1   IGHV3-9   \n",
       "3         ARLREFGDYYYYGMDV  IGHJ6  IGHV5-51   \n",
       "4              ARDTTDDYYVI  IGHJ1  IGHV4-61   \n",
       "...                    ...    ...       ...   \n",
       "7446         ARGESGSPYGMDV  IGHJ6  IGHV3-53   \n",
       "7447      AAPSCSRTICSDGFDI  IGHJ3  IGHV1-58   \n",
       "7448  AREGRRYGSGWYISTGYFDY  IGHJ4  IGHV1-69   \n",
       "7449       AIHGGTYYYDKNILA  IGHJ4  IGHV3-30   \n",
       "7450      VKDRTDWELIRGYFGH  IGHJ4   IGHV3-7   \n",
       "\n",
       "                                                VHorVHH  \\\n",
       "0     EVQLLESGTEVKKPGSSVKVSCKASGGTFSSYAISWVRQAPGQGLE...   \n",
       "1     EVQLLESGPGLVKPSETLSLTCTVSGGSISNSSYYWGWIRQPPGKG...   \n",
       "2     EVQLVESGGGLVQPGRSLRLSCAASGFTFDEYAMHWVRQAPGKGLE...   \n",
       "3     EVQLVQSGAEVKKPGESLKISCLGSGYSFTSYWIGWVRQMPGKGLE...   \n",
       "4     QVQLQESGPGLVKPSQTLSLTCTVSGGSISSGSYYWSWIRQPAGKG...   \n",
       "...                                                 ...   \n",
       "7446  EVQLLESGGGLIQPGGSLRLSCAASGLTVSSNYMSWVRQAPGKGLE...   \n",
       "7447  EVQLVQSGPEVKKPGTSVKVACKASGFTFITPVSMQWVRQARGQRL...   \n",
       "7448  QVQLVQSGAEVKKPGSSVRVSCKASGGTFSTYPISWVRQAPGQGLE...   \n",
       "7449  EVQLVESGGGVVQPGTSLRLSCAASGFSFSHYVMYWVRQAPGKGLD...   \n",
       "7450  EVQLVESGGGLVQPGGTLRLSCVASGFSFSNYWMSWVRQAPGKGLE...   \n",
       "\n",
       "                                               Binds to    Doesn't Bind to  \\\n",
       "0                    SARS-CoV2_WT;SARS-CoV2_Omicron-BA1                NaN   \n",
       "1                    SARS-CoV2_WT;SARS-CoV2_Omicron-BA1                NaN   \n",
       "2     SARS-CoV2_WT (weak);SARS-CoV2_Beta (weak);SARS...                NaN   \n",
       "3                    SARS-CoV2_WT (weak);SARS-CoV2_Beta       SARS-CoV2_WT   \n",
       "4           SARS-CoV2_WT;SARS-CoV2_Beta;SARS-CoV2_Gamma                NaN   \n",
       "...                                                 ...                ...   \n",
       "7446                                       SARS-CoV2_WT                NaN   \n",
       "7447  SARS_CoV2_WT;SARS-CoV2_Alpha;SARS-CoV2_Beta;SA...                NaN   \n",
       "7448                                       SARS-CoV2_WT                NaN   \n",
       "7449  SARS-CoV2_WT;SARS-CoV2_Alpha;SARS-CoV2_Beta;SA...  SARS-CoV2_Omicron   \n",
       "7450  SARS-CoV2_WT;SARS-CoV2_Alpha;SARS-CoV2_Beta;SA...                NaN   \n",
       "\n",
       "                                        Neutralising Vs  \\\n",
       "0                    SARS-CoV2_WT;SARS-CoV2_Omicron-BA1   \n",
       "1                    SARS-CoV2_WT;SARS-CoV2_Omicron-BA1   \n",
       "2     SARS-CoV2_WT;SARS-CoV2_Gamma;SARS-CoV2_Omicron...   \n",
       "3          SARS-CoV2_Gamma;SARS-CoV2_Omicron-BA1 (weak)   \n",
       "4                          SARS-CoV2_WT;SARS-CoV2_Gamma   \n",
       "...                                                 ...   \n",
       "7446                                       SARS-CoV2_WT   \n",
       "7447  SARS_CoV2_WT;SARS-CoV2_Alpha;SARS-CoV2_Beta;SA...   \n",
       "7448                                       SARS-CoV2_WT   \n",
       "7449  SARS-CoV2_WT;SARS-CoV2_Alpha;SARS-CoV2_Beta;SA...   \n",
       "7450  SARS-CoV2_WT;SARS-CoV2_Alpha;SARS-CoV2_Beta;SA...   \n",
       "\n",
       "        Not Neutralising Vs Protein + Epitope  \\\n",
       "0                       NaN            S; RBD   \n",
       "1                       NaN            S; RBD   \n",
       "2                       NaN            S; RBD   \n",
       "3              SARS-CoV2_WT            S; RBD   \n",
       "4     SARS-CoV2_Omicron-BA1            S; RBD   \n",
       "...                     ...               ...   \n",
       "7446                    NaN            S; RBD   \n",
       "7447                    NaN            S; RBD   \n",
       "7448                    NaN            S; RBD   \n",
       "7449      SARS-CoV2_Omicron            S; RBD   \n",
       "7450                    NaN            S; RBD   \n",
       "\n",
       "                                             Origin  \\\n",
       "0     Phage Display (Ab, human, immune - SARS-CoV2)   \n",
       "1     Phage Display (Ab, human, immune - SARS-CoV2)   \n",
       "2            B-cells; SARS-CoV2_Gamma Human Patient   \n",
       "3            B-cells; SARS-CoV2_Gamma Human Patient   \n",
       "4            B-cells; SARS-CoV2_Gamma Human Patient   \n",
       "...                                             ...   \n",
       "7446    Phage Display (Ab, human, immune - CoV2_WT)   \n",
       "7447  B-cells; SARS-CoV2 Human Vaccinees (BNT162b2)   \n",
       "7448            B-cells; SARS-CoV2_WT Human Patient   \n",
       "7449           B-cells (SARS-CoV2 Vaccinated Human)   \n",
       "7450           B-cells (SARS-CoV2 Vaccinated Human)   \n",
       "\n",
       "                                                Sources    cdr3_seq_aa_q_trim  \\\n",
       "0     Qianqian Zheng et al., 2022 (https://www.scien...     ARERGYSGYGAAYYFDY   \n",
       "1     Qianqian Zheng et al., 2022 (https://www.scien...         ASWLYGDPISFDY   \n",
       "2     Marianna Agudelo et al., 2022 (https://rupress...    AKSQGDYGGNSGAGYFQH   \n",
       "3     Marianna Agudelo et al., 2022 (https://rupress...      ARLREFGDYYYYGMDV   \n",
       "4     Marianna Agudelo et al., 2022 (https://rupress...           ARDTTDDYYVI   \n",
       "...                                                 ...                   ...   \n",
       "7446  EP3919126A1 (https://patents.google.com/patent...         ARGESGSPYGMDV   \n",
       "7447  Biao Zhou et al., 2022 (https://www.nature.com...      AAPSCSRTICSDGFDI   \n",
       "7448  Xiaojuan Zhou et al., 2021 (https://www.scienc...  AREGRRYGSGWYISTGYFDY   \n",
       "7449  CN113735970A (https://patents.google.com/paten...       AIHGGTYYYDKNILA   \n",
       "7450  CN113735969A (https://patents.google.com/paten...      VKDRTDWELIRGYFGH   \n",
       "\n",
       "      cdr3_aa_sequence_trim_len  \n",
       "0                            17  \n",
       "1                            13  \n",
       "2                            18  \n",
       "3                            16  \n",
       "4                            11  \n",
       "...                         ...  \n",
       "7446                         13  \n",
       "7447                         16  \n",
       "7448                         20  \n",
       "7449                         15  \n",
       "7450                         16  \n",
       "\n",
       "[7451 rows x 13 columns]"
      ]
     },
     "execution_count": 49,
     "metadata": {},
     "output_type": "execute_result"
    }
   ],
   "source": [
    "cov_abdab_export[\"cdr3_seq_aa_q_trim\"] = (\n",
    "    cov_abdab_export[\"CDRH3\"]\n",
    "    .str.replace(\".\", \"\", regex=False)\n",
    "    .str.replace(\"-\", \"\", regex=False)\n",
    "    .str.replace(\" \", \"\", regex=False)\n",
    "    .str.replace(\"*\", \"\", regex=False)\n",
    "    .str.strip()\n",
    "    .str.upper()\n",
    ")\n",
    "cov_abdab_export[\"cdr3_aa_sequence_trim_len\"] = cov_abdab_export[\n",
    "    \"cdr3_seq_aa_q_trim\"\n",
    "].str.len()\n",
    "cov_abdab_export"
   ]
  },
  {
   "cell_type": "code",
   "execution_count": 50,
   "metadata": {
    "tags": []
   },
   "outputs": [
    {
     "data": {
      "text/html": [
       "<div>\n",
       "<style scoped>\n",
       "    .dataframe tbody tr th:only-of-type {\n",
       "        vertical-align: middle;\n",
       "    }\n",
       "\n",
       "    .dataframe tbody tr th {\n",
       "        vertical-align: top;\n",
       "    }\n",
       "\n",
       "    .dataframe thead th {\n",
       "        text-align: right;\n",
       "    }\n",
       "</style>\n",
       "<table border=\"1\" class=\"dataframe\">\n",
       "  <thead>\n",
       "    <tr style=\"text-align: right;\">\n",
       "      <th></th>\n",
       "      <th>CDRH3</th>\n",
       "      <th>j_gene</th>\n",
       "      <th>v_gene</th>\n",
       "      <th>VHorVHH</th>\n",
       "      <th>Binds to</th>\n",
       "      <th>Doesn't Bind to</th>\n",
       "      <th>Neutralising Vs</th>\n",
       "      <th>Not Neutralising Vs</th>\n",
       "      <th>Protein + Epitope</th>\n",
       "      <th>Origin</th>\n",
       "      <th>Sources</th>\n",
       "      <th>cdr3_seq_aa_q_trim</th>\n",
       "      <th>cdr3_aa_sequence_trim_len</th>\n",
       "    </tr>\n",
       "  </thead>\n",
       "  <tbody>\n",
       "    <tr>\n",
       "      <th>0</th>\n",
       "      <td>ARERGYSGYGAAYYFDY</td>\n",
       "      <td>IGHJ4</td>\n",
       "      <td>IGHV1-69</td>\n",
       "      <td>EVQLLESGTEVKKPGSSVKVSCKASGGTFSSYAISWVRQAPGQGLE...</td>\n",
       "      <td>SARS-CoV2_WT;SARS-CoV2_Omicron-BA1</td>\n",
       "      <td>NaN</td>\n",
       "      <td>SARS-CoV2_WT;SARS-CoV2_Omicron-BA1</td>\n",
       "      <td>NaN</td>\n",
       "      <td>S; RBD</td>\n",
       "      <td>Phage Display (Ab, human, immune - SARS-CoV2)</td>\n",
       "      <td>Qianqian Zheng et al., 2022 (https://www.scien...</td>\n",
       "      <td>ARERGYSGYGAAYYFDY</td>\n",
       "      <td>17</td>\n",
       "    </tr>\n",
       "    <tr>\n",
       "      <th>1</th>\n",
       "      <td>ASWLYGDPISFDY</td>\n",
       "      <td>IGHJ4</td>\n",
       "      <td>IGHV4-39</td>\n",
       "      <td>EVQLLESGPGLVKPSETLSLTCTVSGGSISNSSYYWGWIRQPPGKG...</td>\n",
       "      <td>SARS-CoV2_WT;SARS-CoV2_Omicron-BA1</td>\n",
       "      <td>NaN</td>\n",
       "      <td>SARS-CoV2_WT;SARS-CoV2_Omicron-BA1</td>\n",
       "      <td>NaN</td>\n",
       "      <td>S; RBD</td>\n",
       "      <td>Phage Display (Ab, human, immune - SARS-CoV2)</td>\n",
       "      <td>Qianqian Zheng et al., 2022 (https://www.scien...</td>\n",
       "      <td>ASWLYGDPISFDY</td>\n",
       "      <td>13</td>\n",
       "    </tr>\n",
       "    <tr>\n",
       "      <th>2</th>\n",
       "      <td>AKSQGDYGGNSGAGYFQH</td>\n",
       "      <td>IGHJ1</td>\n",
       "      <td>IGHV3-9</td>\n",
       "      <td>EVQLVESGGGLVQPGRSLRLSCAASGFTFDEYAMHWVRQAPGKGLE...</td>\n",
       "      <td>SARS-CoV2_WT (weak);SARS-CoV2_Beta (weak);SARS...</td>\n",
       "      <td>NaN</td>\n",
       "      <td>SARS-CoV2_WT;SARS-CoV2_Gamma;SARS-CoV2_Omicron...</td>\n",
       "      <td>NaN</td>\n",
       "      <td>S; RBD</td>\n",
       "      <td>B-cells; SARS-CoV2_Gamma Human Patient</td>\n",
       "      <td>Marianna Agudelo et al., 2022 (https://rupress...</td>\n",
       "      <td>AKSQGDYGGNSGAGYFQH</td>\n",
       "      <td>18</td>\n",
       "    </tr>\n",
       "    <tr>\n",
       "      <th>3</th>\n",
       "      <td>ARLREFGDYYYYGMDV</td>\n",
       "      <td>IGHJ6</td>\n",
       "      <td>IGHV5-51</td>\n",
       "      <td>EVQLVQSGAEVKKPGESLKISCLGSGYSFTSYWIGWVRQMPGKGLE...</td>\n",
       "      <td>SARS-CoV2_WT (weak);SARS-CoV2_Beta</td>\n",
       "      <td>SARS-CoV2_WT</td>\n",
       "      <td>SARS-CoV2_Gamma;SARS-CoV2_Omicron-BA1 (weak)</td>\n",
       "      <td>SARS-CoV2_WT</td>\n",
       "      <td>S; RBD</td>\n",
       "      <td>B-cells; SARS-CoV2_Gamma Human Patient</td>\n",
       "      <td>Marianna Agudelo et al., 2022 (https://rupress...</td>\n",
       "      <td>ARLREFGDYYYYGMDV</td>\n",
       "      <td>16</td>\n",
       "    </tr>\n",
       "    <tr>\n",
       "      <th>4</th>\n",
       "      <td>ARDTTDDYYVI</td>\n",
       "      <td>IGHJ1</td>\n",
       "      <td>IGHV4-61</td>\n",
       "      <td>QVQLQESGPGLVKPSQTLSLTCTVSGGSISSGSYYWSWIRQPAGKG...</td>\n",
       "      <td>SARS-CoV2_WT;SARS-CoV2_Beta;SARS-CoV2_Gamma</td>\n",
       "      <td>NaN</td>\n",
       "      <td>SARS-CoV2_WT;SARS-CoV2_Gamma</td>\n",
       "      <td>SARS-CoV2_Omicron-BA1</td>\n",
       "      <td>S; RBD</td>\n",
       "      <td>B-cells; SARS-CoV2_Gamma Human Patient</td>\n",
       "      <td>Marianna Agudelo et al., 2022 (https://rupress...</td>\n",
       "      <td>ARDTTDDYYVI</td>\n",
       "      <td>11</td>\n",
       "    </tr>\n",
       "    <tr>\n",
       "      <th>...</th>\n",
       "      <td>...</td>\n",
       "      <td>...</td>\n",
       "      <td>...</td>\n",
       "      <td>...</td>\n",
       "      <td>...</td>\n",
       "      <td>...</td>\n",
       "      <td>...</td>\n",
       "      <td>...</td>\n",
       "      <td>...</td>\n",
       "      <td>...</td>\n",
       "      <td>...</td>\n",
       "      <td>...</td>\n",
       "      <td>...</td>\n",
       "    </tr>\n",
       "    <tr>\n",
       "      <th>7446</th>\n",
       "      <td>ARGESGSPYGMDV</td>\n",
       "      <td>IGHJ6</td>\n",
       "      <td>IGHV3-53</td>\n",
       "      <td>EVQLLESGGGLIQPGGSLRLSCAASGLTVSSNYMSWVRQAPGKGLE...</td>\n",
       "      <td>SARS-CoV2_WT</td>\n",
       "      <td>NaN</td>\n",
       "      <td>SARS-CoV2_WT</td>\n",
       "      <td>NaN</td>\n",
       "      <td>S; RBD</td>\n",
       "      <td>Phage Display (Ab, human, immune - CoV2_WT)</td>\n",
       "      <td>EP3919126A1 (https://patents.google.com/patent...</td>\n",
       "      <td>ARGESGSPYGMDV</td>\n",
       "      <td>13</td>\n",
       "    </tr>\n",
       "    <tr>\n",
       "      <th>7447</th>\n",
       "      <td>AAPSCSRTICSDGFDI</td>\n",
       "      <td>IGHJ3</td>\n",
       "      <td>IGHV1-58</td>\n",
       "      <td>EVQLVQSGPEVKKPGTSVKVACKASGFTFITPVSMQWVRQARGQRL...</td>\n",
       "      <td>SARS_CoV2_WT;SARS-CoV2_Alpha;SARS-CoV2_Beta;SA...</td>\n",
       "      <td>NaN</td>\n",
       "      <td>SARS_CoV2_WT;SARS-CoV2_Alpha;SARS-CoV2_Beta;SA...</td>\n",
       "      <td>NaN</td>\n",
       "      <td>S; RBD</td>\n",
       "      <td>B-cells; SARS-CoV2 Human Vaccinees (BNT162b2)</td>\n",
       "      <td>Biao Zhou et al., 2022 (https://www.nature.com...</td>\n",
       "      <td>AAPSCSRTICSDGFDI</td>\n",
       "      <td>16</td>\n",
       "    </tr>\n",
       "    <tr>\n",
       "      <th>7448</th>\n",
       "      <td>AREGRRYGSGWYISTGYFDY</td>\n",
       "      <td>IGHJ4</td>\n",
       "      <td>IGHV1-69</td>\n",
       "      <td>QVQLVQSGAEVKKPGSSVRVSCKASGGTFSTYPISWVRQAPGQGLE...</td>\n",
       "      <td>SARS-CoV2_WT</td>\n",
       "      <td>NaN</td>\n",
       "      <td>SARS-CoV2_WT</td>\n",
       "      <td>NaN</td>\n",
       "      <td>S; RBD</td>\n",
       "      <td>B-cells; SARS-CoV2_WT Human Patient</td>\n",
       "      <td>Xiaojuan Zhou et al., 2021 (https://www.scienc...</td>\n",
       "      <td>AREGRRYGSGWYISTGYFDY</td>\n",
       "      <td>20</td>\n",
       "    </tr>\n",
       "    <tr>\n",
       "      <th>7449</th>\n",
       "      <td>AIHGGTYYYDKNILA</td>\n",
       "      <td>IGHJ4</td>\n",
       "      <td>IGHV3-30</td>\n",
       "      <td>EVQLVESGGGVVQPGTSLRLSCAASGFSFSHYVMYWVRQAPGKGLD...</td>\n",
       "      <td>SARS-CoV2_WT;SARS-CoV2_Alpha;SARS-CoV2_Beta;SA...</td>\n",
       "      <td>SARS-CoV2_Omicron</td>\n",
       "      <td>SARS-CoV2_WT;SARS-CoV2_Alpha;SARS-CoV2_Beta;SA...</td>\n",
       "      <td>SARS-CoV2_Omicron</td>\n",
       "      <td>S; RBD</td>\n",
       "      <td>B-cells (SARS-CoV2 Vaccinated Human)</td>\n",
       "      <td>CN113735970A (https://patents.google.com/paten...</td>\n",
       "      <td>AIHGGTYYYDKNILA</td>\n",
       "      <td>15</td>\n",
       "    </tr>\n",
       "    <tr>\n",
       "      <th>7450</th>\n",
       "      <td>VKDRTDWELIRGYFGH</td>\n",
       "      <td>IGHJ4</td>\n",
       "      <td>IGHV3-7</td>\n",
       "      <td>EVQLVESGGGLVQPGGTLRLSCVASGFSFSNYWMSWVRQAPGKGLE...</td>\n",
       "      <td>SARS-CoV2_WT;SARS-CoV2_Alpha;SARS-CoV2_Beta;SA...</td>\n",
       "      <td>NaN</td>\n",
       "      <td>SARS-CoV2_WT;SARS-CoV2_Alpha;SARS-CoV2_Beta;SA...</td>\n",
       "      <td>NaN</td>\n",
       "      <td>S; RBD</td>\n",
       "      <td>B-cells (SARS-CoV2 Vaccinated Human)</td>\n",
       "      <td>CN113735969A (https://patents.google.com/paten...</td>\n",
       "      <td>VKDRTDWELIRGYFGH</td>\n",
       "      <td>16</td>\n",
       "    </tr>\n",
       "  </tbody>\n",
       "</table>\n",
       "<p>6844 rows × 13 columns</p>\n",
       "</div>"
      ],
      "text/plain": [
       "                     CDRH3 j_gene    v_gene  \\\n",
       "0        ARERGYSGYGAAYYFDY  IGHJ4  IGHV1-69   \n",
       "1            ASWLYGDPISFDY  IGHJ4  IGHV4-39   \n",
       "2       AKSQGDYGGNSGAGYFQH  IGHJ1   IGHV3-9   \n",
       "3         ARLREFGDYYYYGMDV  IGHJ6  IGHV5-51   \n",
       "4              ARDTTDDYYVI  IGHJ1  IGHV4-61   \n",
       "...                    ...    ...       ...   \n",
       "7446         ARGESGSPYGMDV  IGHJ6  IGHV3-53   \n",
       "7447      AAPSCSRTICSDGFDI  IGHJ3  IGHV1-58   \n",
       "7448  AREGRRYGSGWYISTGYFDY  IGHJ4  IGHV1-69   \n",
       "7449       AIHGGTYYYDKNILA  IGHJ4  IGHV3-30   \n",
       "7450      VKDRTDWELIRGYFGH  IGHJ4   IGHV3-7   \n",
       "\n",
       "                                                VHorVHH  \\\n",
       "0     EVQLLESGTEVKKPGSSVKVSCKASGGTFSSYAISWVRQAPGQGLE...   \n",
       "1     EVQLLESGPGLVKPSETLSLTCTVSGGSISNSSYYWGWIRQPPGKG...   \n",
       "2     EVQLVESGGGLVQPGRSLRLSCAASGFTFDEYAMHWVRQAPGKGLE...   \n",
       "3     EVQLVQSGAEVKKPGESLKISCLGSGYSFTSYWIGWVRQMPGKGLE...   \n",
       "4     QVQLQESGPGLVKPSQTLSLTCTVSGGSISSGSYYWSWIRQPAGKG...   \n",
       "...                                                 ...   \n",
       "7446  EVQLLESGGGLIQPGGSLRLSCAASGLTVSSNYMSWVRQAPGKGLE...   \n",
       "7447  EVQLVQSGPEVKKPGTSVKVACKASGFTFITPVSMQWVRQARGQRL...   \n",
       "7448  QVQLVQSGAEVKKPGSSVRVSCKASGGTFSTYPISWVRQAPGQGLE...   \n",
       "7449  EVQLVESGGGVVQPGTSLRLSCAASGFSFSHYVMYWVRQAPGKGLD...   \n",
       "7450  EVQLVESGGGLVQPGGTLRLSCVASGFSFSNYWMSWVRQAPGKGLE...   \n",
       "\n",
       "                                               Binds to    Doesn't Bind to  \\\n",
       "0                    SARS-CoV2_WT;SARS-CoV2_Omicron-BA1                NaN   \n",
       "1                    SARS-CoV2_WT;SARS-CoV2_Omicron-BA1                NaN   \n",
       "2     SARS-CoV2_WT (weak);SARS-CoV2_Beta (weak);SARS...                NaN   \n",
       "3                    SARS-CoV2_WT (weak);SARS-CoV2_Beta       SARS-CoV2_WT   \n",
       "4           SARS-CoV2_WT;SARS-CoV2_Beta;SARS-CoV2_Gamma                NaN   \n",
       "...                                                 ...                ...   \n",
       "7446                                       SARS-CoV2_WT                NaN   \n",
       "7447  SARS_CoV2_WT;SARS-CoV2_Alpha;SARS-CoV2_Beta;SA...                NaN   \n",
       "7448                                       SARS-CoV2_WT                NaN   \n",
       "7449  SARS-CoV2_WT;SARS-CoV2_Alpha;SARS-CoV2_Beta;SA...  SARS-CoV2_Omicron   \n",
       "7450  SARS-CoV2_WT;SARS-CoV2_Alpha;SARS-CoV2_Beta;SA...                NaN   \n",
       "\n",
       "                                        Neutralising Vs  \\\n",
       "0                    SARS-CoV2_WT;SARS-CoV2_Omicron-BA1   \n",
       "1                    SARS-CoV2_WT;SARS-CoV2_Omicron-BA1   \n",
       "2     SARS-CoV2_WT;SARS-CoV2_Gamma;SARS-CoV2_Omicron...   \n",
       "3          SARS-CoV2_Gamma;SARS-CoV2_Omicron-BA1 (weak)   \n",
       "4                          SARS-CoV2_WT;SARS-CoV2_Gamma   \n",
       "...                                                 ...   \n",
       "7446                                       SARS-CoV2_WT   \n",
       "7447  SARS_CoV2_WT;SARS-CoV2_Alpha;SARS-CoV2_Beta;SA...   \n",
       "7448                                       SARS-CoV2_WT   \n",
       "7449  SARS-CoV2_WT;SARS-CoV2_Alpha;SARS-CoV2_Beta;SA...   \n",
       "7450  SARS-CoV2_WT;SARS-CoV2_Alpha;SARS-CoV2_Beta;SA...   \n",
       "\n",
       "        Not Neutralising Vs Protein + Epitope  \\\n",
       "0                       NaN            S; RBD   \n",
       "1                       NaN            S; RBD   \n",
       "2                       NaN            S; RBD   \n",
       "3              SARS-CoV2_WT            S; RBD   \n",
       "4     SARS-CoV2_Omicron-BA1            S; RBD   \n",
       "...                     ...               ...   \n",
       "7446                    NaN            S; RBD   \n",
       "7447                    NaN            S; RBD   \n",
       "7448                    NaN            S; RBD   \n",
       "7449      SARS-CoV2_Omicron            S; RBD   \n",
       "7450                    NaN            S; RBD   \n",
       "\n",
       "                                             Origin  \\\n",
       "0     Phage Display (Ab, human, immune - SARS-CoV2)   \n",
       "1     Phage Display (Ab, human, immune - SARS-CoV2)   \n",
       "2            B-cells; SARS-CoV2_Gamma Human Patient   \n",
       "3            B-cells; SARS-CoV2_Gamma Human Patient   \n",
       "4            B-cells; SARS-CoV2_Gamma Human Patient   \n",
       "...                                             ...   \n",
       "7446    Phage Display (Ab, human, immune - CoV2_WT)   \n",
       "7447  B-cells; SARS-CoV2 Human Vaccinees (BNT162b2)   \n",
       "7448            B-cells; SARS-CoV2_WT Human Patient   \n",
       "7449           B-cells (SARS-CoV2 Vaccinated Human)   \n",
       "7450           B-cells (SARS-CoV2 Vaccinated Human)   \n",
       "\n",
       "                                                Sources    cdr3_seq_aa_q_trim  \\\n",
       "0     Qianqian Zheng et al., 2022 (https://www.scien...     ARERGYSGYGAAYYFDY   \n",
       "1     Qianqian Zheng et al., 2022 (https://www.scien...         ASWLYGDPISFDY   \n",
       "2     Marianna Agudelo et al., 2022 (https://rupress...    AKSQGDYGGNSGAGYFQH   \n",
       "3     Marianna Agudelo et al., 2022 (https://rupress...      ARLREFGDYYYYGMDV   \n",
       "4     Marianna Agudelo et al., 2022 (https://rupress...           ARDTTDDYYVI   \n",
       "...                                                 ...                   ...   \n",
       "7446  EP3919126A1 (https://patents.google.com/patent...         ARGESGSPYGMDV   \n",
       "7447  Biao Zhou et al., 2022 (https://www.nature.com...      AAPSCSRTICSDGFDI   \n",
       "7448  Xiaojuan Zhou et al., 2021 (https://www.scienc...  AREGRRYGSGWYISTGYFDY   \n",
       "7449  CN113735970A (https://patents.google.com/paten...       AIHGGTYYYDKNILA   \n",
       "7450  CN113735969A (https://patents.google.com/paten...      VKDRTDWELIRGYFGH   \n",
       "\n",
       "      cdr3_aa_sequence_trim_len  \n",
       "0                            17  \n",
       "1                            13  \n",
       "2                            18  \n",
       "3                            16  \n",
       "4                            11  \n",
       "...                         ...  \n",
       "7446                         13  \n",
       "7447                         16  \n",
       "7448                         20  \n",
       "7449                         15  \n",
       "7450                         16  \n",
       "\n",
       "[6844 rows x 13 columns]"
      ]
     },
     "execution_count": 50,
     "metadata": {},
     "output_type": "execute_result"
    }
   ],
   "source": [
    "cov_abdab_export = cov_abdab_export.drop_duplicates(\n",
    "    subset=[\"v_gene\", \"j_gene\", \"cdr3_seq_aa_q_trim\"]\n",
    ")\n",
    "cov_abdab_export"
   ]
  },
  {
   "cell_type": "code",
   "execution_count": null,
   "metadata": {},
   "outputs": [],
   "source": []
  },
  {
   "cell_type": "code",
   "execution_count": null,
   "metadata": {},
   "outputs": [],
   "source": []
  },
  {
   "cell_type": "code",
   "execution_count": null,
   "metadata": {},
   "outputs": [],
   "source": []
  },
  {
   "cell_type": "code",
   "execution_count": 51,
   "metadata": {
    "tags": []
   },
   "outputs": [
    {
     "data": {
      "text/plain": [
       "Wooseob Kim et al., 2022 (https://www.nature.com/articles/s41586-022-04527-1)                                                                                                                                                                                                                  1456\n",
       "Yunlong Cao et al. 2022 (https://www.nature.com/articles/s41586-022-04980-y#Sec4)                                                                                                                                                                                                              1095\n",
       "Alice Cho et al., 2021 (https://www.nature.com/articles/s41586-021-04060-7)                                                                                                                                                                                                                     394\n",
       "Zijun Wang et al., 2022 (https://www.cell.com/immunity/fulltext/S1074-7613(22)00174-1)                                                                                                                                                                                                          267\n",
       "Dapeng Li et al., 2021 (https://www.biorxiv.org/content/10.1101/2020.12.31.424729v1)                                                                                                                                                                                                            264\n",
       "                                                                                                                                                                                                                                                                                               ... \n",
       "Yunlong Cao et al., 2020 (https://www.sciencedirect.com/science/article/pii/S0092867420306206) and Hua Xu et al., 2021 (https://www.nature.com/articles/s41422-021-00554-1) and PDB (to be published) and Yunlong Cao et al. 2022 (https://www.nature.com/articles/s41586-022-04980-y#Sec4)       1\n",
       "Hangping Yao et al., 2020 (https://www.nature.com/articles/s41422-020-00444-y) and Yao Sun et al., 2021 (https://www.rcsb.org/structure/7E5R) and Yunlong Cao et al. 2022 (https://www.nature.com/articles/s41586-022-04980-y#Sec4)                                                               1\n",
       "CN111620945A (https://patents.google.com/patent/CN111620945A/en) and Yunlong Cao et al. 2022 (https://www.nature.com/articles/s41586-022-04980-y#Sec4)                                                                                                                                            1\n",
       "Jakob Kreye et al., 2020 (https://www.biorxiv.org/content/10.1101/2020.08.15.252320v1.full.pdf) and Hejun Liu et al., 2021 (https://www.biorxiv.org/content/10.1101/2021.02.11.430866v1) and Yunlong Cao et al. 2022 (https://www.nature.com/articles/s41586-022-04980-y#Sec4)                    1\n",
       "CN113735969A (https://patents.google.com/patent/CN113735969A/en) and Xiangyang Chi et al., 2022 (https://www.nature.com/articles/s41392-022-00987-z)                                                                                                                                              1\n",
       "Name: Sources, Length: 273, dtype: int64"
      ]
     },
     "execution_count": 51,
     "metadata": {},
     "output_type": "execute_result"
    }
   ],
   "source": [
    "cov_abdab_export[\"Sources\"].value_counts()"
   ]
  },
  {
   "cell_type": "code",
   "execution_count": null,
   "metadata": {},
   "outputs": [],
   "source": []
  },
  {
   "cell_type": "code",
   "execution_count": 52,
   "metadata": {
    "tags": []
   },
   "outputs": [],
   "source": [
    "cov_abdab_export.drop([\"Sources\"], axis=1).to_csv(\n",
    "    config.paths.base_data_dir / \"CoV-AbDab_260722.filtered.tsv\", sep=\"\\t\", index=None\n",
    ")"
   ]
  },
  {
   "cell_type": "code",
   "execution_count": null,
   "metadata": {},
   "outputs": [],
   "source": []
  }
 ],
 "metadata": {
  "jupytext": {
   "cell_metadata_filter": "-all",
   "notebook_metadata_filter": "-all"
  },
  "kernelspec": {
   "display_name": "py39-cuda-env",
   "language": "python",
   "name": "py39-cuda-env"
  },
  "language_info": {
   "codemirror_mode": {
    "name": "ipython",
    "version": 3
   },
   "file_extension": ".py",
   "mimetype": "text/x-python",
   "name": "python",
   "nbconvert_exporter": "python",
   "pygments_lexer": "ipython3",
   "version": "3.9.13"
  }
 },
 "nbformat": 4,
 "nbformat_minor": 4
}
