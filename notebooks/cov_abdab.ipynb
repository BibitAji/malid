{
 "cells": [
  {
   "cell_type": "code",
   "execution_count": 1,
   "metadata": {
    "tags": []
   },
   "outputs": [],
   "source": [
    "import pandas as pd"
   ]
  },
  {
   "cell_type": "code",
   "execution_count": 2,
   "metadata": {
    "tags": []
   },
   "outputs": [],
   "source": [
    "from malid import config, helpers\n",
    "from malid.datamodels import GeneLocus"
   ]
  },
  {
   "cell_type": "code",
   "execution_count": 3,
   "metadata": {
    "tags": []
   },
   "outputs": [
    {
     "data": {
      "text/plain": [
       "(12536, 25)"
      ]
     },
     "execution_count": 3,
     "metadata": {},
     "output_type": "execute_result"
    }
   ],
   "source": [
    "# cov-abdab\n",
    "cov_abdab_all = pd.read_csv(config.paths.base_data_dir / \"CoV-AbDab_130623.csv\")\n",
    "cov_abdab_all.shape"
   ]
  },
  {
   "cell_type": "code",
   "execution_count": null,
   "metadata": {},
   "outputs": [],
   "source": []
  },
  {
   "cell_type": "markdown",
   "metadata": {},
   "source": [
    "# Negatives"
   ]
  },
  {
   "cell_type": "code",
   "execution_count": 4,
   "metadata": {
    "tags": []
   },
   "outputs": [
    {
     "data": {
      "text/plain": [
       "(2816, 25)"
      ]
     },
     "execution_count": 4,
     "metadata": {},
     "output_type": "execute_result"
    }
   ],
   "source": [
    "cov_abdab_negatives = cov_abdab_all.copy()\n",
    "cov_abdab_negatives.dropna(subset=[\"Doesn't Bind to\"], inplace=True)\n",
    "cov_abdab_negatives.shape"
   ]
  },
  {
   "cell_type": "code",
   "execution_count": 5,
   "metadata": {
    "tags": []
   },
   "outputs": [
    {
     "data": {
      "text/plain": [
       "(622, 25)"
      ]
     },
     "execution_count": 5,
     "metadata": {},
     "output_type": "execute_result"
    }
   ],
   "source": [
    "# note: there seem to be a lot of \"doesn't bind to sars-cov2\" but still \"neutralising vs sars-cov2\" entries, so we screen those out.\n",
    "cov_abdab_negatives = cov_abdab_negatives[\n",
    "    (\n",
    "        cov_abdab_negatives[\"Doesn't Bind to\"]\n",
    "        .str.lower()\n",
    "        .apply(lambda s: \"sars-cov2\" in s)\n",
    "    )\n",
    "    & ~(\n",
    "        cov_abdab_negatives[\"Binds to\"]\n",
    "        .fillna(\"\")\n",
    "        .str.lower()\n",
    "        .apply(lambda s: \"sars-cov2\" in s)\n",
    "    )\n",
    "    & ~(\n",
    "        cov_abdab_negatives[\"Neutralising Vs\"]\n",
    "        .fillna(\"\")\n",
    "        .str.lower()\n",
    "        .apply(lambda s: \"sars-cov2\" in s)\n",
    "    )\n",
    "]\n",
    "cov_abdab_negatives.shape"
   ]
  },
  {
   "cell_type": "code",
   "execution_count": 6,
   "metadata": {},
   "outputs": [
    {
     "data": {
      "text/plain": [
       "True     584\n",
       "False     38\n",
       "Name: Binds to, dtype: int64"
      ]
     },
     "execution_count": 6,
     "metadata": {},
     "output_type": "execute_result"
    }
   ],
   "source": [
    "# Most of the remainder don't have any any positive binding information\n",
    "cov_abdab_negatives[\"Binds to\"].isna().value_counts()"
   ]
  },
  {
   "cell_type": "code",
   "execution_count": 7,
   "metadata": {},
   "outputs": [
    {
     "data": {
      "text/plain": [
       "SARS-CoV1           28\n",
       "SARS-CoV1 (weak)     3\n",
       "RmYN02               2\n",
       "Rf1                  2\n",
       "WIV-1                1\n",
       "LyRa3                1\n",
       "Rs4081               1\n",
       "Yun11                1\n",
       "RmYN02 (weak)        1\n",
       "Rf1 (weak)           1\n",
       "Rs4081 (weak)        1\n",
       "SARS-CoV             1\n",
       "MERS-CoV             1\n",
       "Name: Binds to, dtype: int64"
      ]
     },
     "execution_count": 7,
     "metadata": {},
     "output_type": "execute_result"
    }
   ],
   "source": [
    "# What do these remainder bind to, if listed?\n",
    "cov_abdab_negatives[\"Binds to\"].str.split(\",|;\").explode().value_counts()"
   ]
  },
  {
   "cell_type": "code",
   "execution_count": 8,
   "metadata": {},
   "outputs": [
    {
     "data": {
      "text/plain": [
       "SARS-CoV2_WT             622\n",
       "MERS-CoV                  12\n",
       "SARS-CoV2_Delta            7\n",
       "SARS-CoV2_Omicron-BA1      7\n",
       "SARS-CoV2_Omicron-BA2      5\n",
       "RsSTT200                   5\n",
       "Pang17                     5\n",
       "RaTG13                     5\n",
       "SARS-CoV1                  5\n",
       "SHC014                     5\n",
       "C028                       5\n",
       "SARS-CoV2_Beta             5\n",
       "BM4831                     5\n",
       "BtKY72                     5\n",
       "Khosta2                    5\n",
       "WIV-1                      4\n",
       "LyRA3                      4\n",
       "Yun11                      4\n",
       "Rs4081                     3\n",
       "229E                       2\n",
       "HKU1                       2\n",
       "NL63                       2\n",
       "Rf1                        2\n",
       "SARS-CoV2_Gamma            2\n",
       "RmYN02                     2\n",
       "OC43                       2\n",
       "Name: Doesn't Bind to, dtype: int64"
      ]
     },
     "execution_count": 8,
     "metadata": {},
     "output_type": "execute_result"
    }
   ],
   "source": [
    "# What don't they bind to?\n",
    "cov_abdab_negatives[\"Doesn't Bind to\"].str.split(\",|;\").explode().value_counts()"
   ]
  },
  {
   "cell_type": "code",
   "execution_count": null,
   "metadata": {},
   "outputs": [],
   "source": []
  },
  {
   "cell_type": "code",
   "execution_count": 9,
   "metadata": {
    "tags": []
   },
   "outputs": [
    {
     "data": {
      "text/plain": [
       "Human)     616\n",
       "Mouse)       5\n",
       "Alpaca)      1\n",
       "Name: Heavy V Gene, dtype: int64"
      ]
     },
     "execution_count": 9,
     "metadata": {},
     "output_type": "execute_result"
    }
   ],
   "source": [
    "cov_abdab_negatives[\"Heavy V Gene\"].str.split(\"(\").str[1].value_counts()"
   ]
  },
  {
   "cell_type": "code",
   "execution_count": 10,
   "metadata": {},
   "outputs": [
    {
     "data": {
      "text/plain": [
       "False    622\n",
       "Name: Heavy V Gene, dtype: int64"
      ]
     },
     "execution_count": 10,
     "metadata": {},
     "output_type": "execute_result"
    }
   ],
   "source": [
    "cov_abdab_negatives[\"Heavy V Gene\"].isna().value_counts()"
   ]
  },
  {
   "cell_type": "code",
   "execution_count": 11,
   "metadata": {},
   "outputs": [],
   "source": [
    "cov_abdab_negatives.dropna(subset=[\"Heavy V Gene\"], inplace=True)"
   ]
  },
  {
   "cell_type": "code",
   "execution_count": 12,
   "metadata": {
    "tags": []
   },
   "outputs": [
    {
     "data": {
      "text/plain": [
       "(616, 25)"
      ]
     },
     "execution_count": 12,
     "metadata": {},
     "output_type": "execute_result"
    }
   ],
   "source": [
    "cov_abdab_negatives = cov_abdab_negatives[\n",
    "    cov_abdab_negatives[\"Heavy V Gene\"].apply(lambda s: \"(Human)\" in s)\n",
    "]\n",
    "cov_abdab_negatives.shape"
   ]
  },
  {
   "cell_type": "code",
   "execution_count": null,
   "metadata": {},
   "outputs": [],
   "source": []
  },
  {
   "cell_type": "code",
   "execution_count": 13,
   "metadata": {
    "tags": []
   },
   "outputs": [
    {
     "data": {
      "text/plain": [
       "IGHJ4 (Human)    297\n",
       "IGHJ6 (Human)    158\n",
       "IGHJ3 (Human)     68\n",
       "IGHJ5 (Human)     52\n",
       "ND                16\n",
       "IGHJ1 (Human)     13\n",
       "IGHJ2 (Human)     12\n",
       "Name: Heavy J Gene, dtype: int64"
      ]
     },
     "execution_count": 13,
     "metadata": {},
     "output_type": "execute_result"
    }
   ],
   "source": [
    "cov_abdab_negatives[\"Heavy J Gene\"].value_counts()"
   ]
  },
  {
   "cell_type": "code",
   "execution_count": 14,
   "metadata": {},
   "outputs": [
    {
     "data": {
      "text/plain": [
       "False    616\n",
       "Name: Heavy J Gene, dtype: int64"
      ]
     },
     "execution_count": 14,
     "metadata": {},
     "output_type": "execute_result"
    }
   ],
   "source": [
    "cov_abdab_negatives[\"Heavy J Gene\"].isna().value_counts()"
   ]
  },
  {
   "cell_type": "code",
   "execution_count": 15,
   "metadata": {
    "tags": []
   },
   "outputs": [
    {
     "data": {
      "text/plain": [
       "(600, 25)"
      ]
     },
     "execution_count": 15,
     "metadata": {},
     "output_type": "execute_result"
    }
   ],
   "source": [
    "cov_abdab_negatives = cov_abdab_negatives[cov_abdab_negatives[\"Heavy J Gene\"] != \"ND\"]\n",
    "cov_abdab_negatives.shape"
   ]
  },
  {
   "cell_type": "code",
   "execution_count": 16,
   "metadata": {},
   "outputs": [],
   "source": [
    "cov_abdab_negatives.dropna(subset=[\"Heavy J Gene\"], inplace=True)"
   ]
  },
  {
   "cell_type": "code",
   "execution_count": 17,
   "metadata": {
    "tags": []
   },
   "outputs": [
    {
     "data": {
      "text/plain": [
       "IGHJ4 (Human)    297\n",
       "IGHJ6 (Human)    158\n",
       "IGHJ3 (Human)     68\n",
       "IGHJ5 (Human)     52\n",
       "IGHJ1 (Human)     13\n",
       "IGHJ2 (Human)     12\n",
       "Name: Heavy J Gene, dtype: int64"
      ]
     },
     "execution_count": 17,
     "metadata": {},
     "output_type": "execute_result"
    }
   ],
   "source": [
    "cov_abdab_negatives[\"Heavy J Gene\"].value_counts()"
   ]
  },
  {
   "cell_type": "code",
   "execution_count": null,
   "metadata": {},
   "outputs": [],
   "source": []
  },
  {
   "cell_type": "code",
   "execution_count": 18,
   "metadata": {
    "tags": []
   },
   "outputs": [
    {
     "data": {
      "text/plain": [
       "IGHV3-23 (Human)      49\n",
       "IGHV3-30 (Human)      48\n",
       "IGHV1-69 (Human)      45\n",
       "IGHV4-39 (Human)      43\n",
       "IGHV5-51 (Human)      27\n",
       "IGHV3-9 (Human)       26\n",
       "IGHV1-18 (Human)      24\n",
       "IGHV2-5 (Human)       23\n",
       "IGHV1-46 (Human)      19\n",
       "IGHV3-7 (Human)       19\n",
       "IGHV4-59 (Human)      19\n",
       "IGHV3-33 (Human)      19\n",
       "IGHV3-30-3 (Human)    18\n",
       "IGHV4-34 (Human)      18\n",
       "IGHV3-21 (Human)      17\n",
       "IGHV1-8 (Human)       16\n",
       "IGHV3-48 (Human)      15\n",
       "IGHV1-2 (Human)       15\n",
       "IGHV7-4-1 (Human)     11\n",
       "IGHV4-4 (Human)       11\n",
       "IGHV3-11 (Human)      11\n",
       "IGHV3-15 (Human)      11\n",
       "IGHV4-31 (Human)      11\n",
       "IGHV2-70 (Human)      11\n",
       "IGHV3-53 (Human)       9\n",
       "IGHV4-30-4 (Human)     8\n",
       "IGHV1-3 (Human)        6\n",
       "IGHV3-74 (Human)       5\n",
       "IGHV4-38-2 (Human)     5\n",
       "IGHV5-10-1 (Human)     4\n",
       "IGHV2-26 (Human)       4\n",
       "IGHV6-1 (Human)        3\n",
       "IGHV3-49 (Human)       3\n",
       "IGHV3-13 (Human)       3\n",
       "IGHV1-58 (Human)       3\n",
       "IGHV3-43 (Human)       3\n",
       "IGHV1-24 (Human)       3\n",
       "IGHV3-66 (Human)       2\n",
       "IGHV3-73 (Human)       2\n",
       "IGHV4-61 (Human)       2\n",
       "IGHV4-30-2 (Human)     2\n",
       "IGHV3-20 (Human)       2\n",
       "IGHV3-43D (Human)      2\n",
       "IGHV4-28 (Human)       2\n",
       "IGHV3-64 (Human)       1\n",
       "Name: Heavy V Gene, dtype: int64"
      ]
     },
     "execution_count": 18,
     "metadata": {},
     "output_type": "execute_result"
    }
   ],
   "source": [
    "cov_abdab_negatives[\"Heavy V Gene\"].value_counts()"
   ]
  },
  {
   "cell_type": "code",
   "execution_count": 19,
   "metadata": {
    "tags": []
   },
   "outputs": [],
   "source": [
    "cov_abdab_negatives[\"Heavy V Gene\"] = (\n",
    "    cov_abdab_negatives[\"Heavy V Gene\"].str.split(\"(\").str[0].str.strip()\n",
    ")"
   ]
  },
  {
   "cell_type": "code",
   "execution_count": 20,
   "metadata": {
    "tags": []
   },
   "outputs": [
    {
     "data": {
      "text/plain": [
       "3160     IGHV3-23\n",
       "3172     IGHV1-69\n",
       "3190     IGHV4-34\n",
       "3192     IGHV1-69\n",
       "3193      IGHV1-2\n",
       "           ...   \n",
       "8663     IGHV1-69\n",
       "8920     IGHV3-11\n",
       "8923     IGHV4-59\n",
       "9936     IGHV3-30\n",
       "10120    IGHV4-59\n",
       "Name: Heavy V Gene, Length: 600, dtype: object"
      ]
     },
     "execution_count": 20,
     "metadata": {},
     "output_type": "execute_result"
    }
   ],
   "source": [
    "cov_abdab_negatives[\"Heavy V Gene\"]"
   ]
  },
  {
   "cell_type": "code",
   "execution_count": 21,
   "metadata": {
    "tags": []
   },
   "outputs": [
    {
     "data": {
      "text/plain": [
       "IGHJ4 (Human)    297\n",
       "IGHJ6 (Human)    158\n",
       "IGHJ3 (Human)     68\n",
       "IGHJ5 (Human)     52\n",
       "IGHJ1 (Human)     13\n",
       "IGHJ2 (Human)     12\n",
       "Name: Heavy J Gene, dtype: int64"
      ]
     },
     "execution_count": 21,
     "metadata": {},
     "output_type": "execute_result"
    }
   ],
   "source": [
    "cov_abdab_negatives[\"Heavy J Gene\"].value_counts()"
   ]
  },
  {
   "cell_type": "code",
   "execution_count": 22,
   "metadata": {
    "tags": []
   },
   "outputs": [],
   "source": [
    "cov_abdab_negatives[\"Heavy J Gene\"] = (\n",
    "    cov_abdab_negatives[\"Heavy J Gene\"].str.split(\"(\").str[0].str.strip()\n",
    ")"
   ]
  },
  {
   "cell_type": "code",
   "execution_count": 23,
   "metadata": {
    "tags": []
   },
   "outputs": [
    {
     "data": {
      "text/plain": [
       "3160     IGHJ4\n",
       "3172     IGHJ6\n",
       "3190     IGHJ1\n",
       "3192     IGHJ4\n",
       "3193     IGHJ3\n",
       "         ...  \n",
       "8663     IGHJ6\n",
       "8920     IGHJ4\n",
       "8923     IGHJ4\n",
       "9936     IGHJ6\n",
       "10120    IGHJ4\n",
       "Name: Heavy J Gene, Length: 600, dtype: object"
      ]
     },
     "execution_count": 23,
     "metadata": {},
     "output_type": "execute_result"
    }
   ],
   "source": [
    "cov_abdab_negatives[\"Heavy J Gene\"]"
   ]
  },
  {
   "cell_type": "code",
   "execution_count": null,
   "metadata": {},
   "outputs": [],
   "source": []
  },
  {
   "cell_type": "code",
   "execution_count": 24,
   "metadata": {
    "tags": []
   },
   "outputs": [
    {
     "data": {
      "text/plain": [
       "(600, 25)"
      ]
     },
     "execution_count": 24,
     "metadata": {},
     "output_type": "execute_result"
    }
   ],
   "source": [
    "cov_abdab_negatives = cov_abdab_negatives[cov_abdab_negatives[\"CDRH3\"] != \"ND\"]\n",
    "cov_abdab_negatives.shape"
   ]
  },
  {
   "cell_type": "code",
   "execution_count": 25,
   "metadata": {
    "tags": []
   },
   "outputs": [
    {
     "data": {
      "text/plain": [
       "3160          AKDKFFGIEGPTYFDY\n",
       "3172        ARLRLPRHTVAPHYGMDV\n",
       "3190          ATVPWRSGPRGGYFKL\n",
       "3192     ARQTLPAAIPKMRWLLTEFAY\n",
       "3193              AREGWELHAFDI\n",
       "                 ...          \n",
       "8663         ARVQDIVIVPAVYGMDV\n",
       "8920             ARMGPYGSGSFDY\n",
       "8923      ARHPSSIFRGTVFTPYYFDY\n",
       "9936      VTQRDNSRDYFPHYFHDMDV\n",
       "10120            ARSGSYGDRTFDH\n",
       "Name: CDRH3, Length: 600, dtype: object"
      ]
     },
     "execution_count": 25,
     "metadata": {},
     "output_type": "execute_result"
    }
   ],
   "source": [
    "cov_abdab_negatives[\"CDRH3\"]"
   ]
  },
  {
   "cell_type": "code",
   "execution_count": null,
   "metadata": {},
   "outputs": [],
   "source": []
  },
  {
   "cell_type": "code",
   "execution_count": 26,
   "metadata": {
    "tags": []
   },
   "outputs": [
    {
     "data": {
      "text/plain": [
       "Ab    600\n",
       "Name: Ab or Nb, dtype: int64"
      ]
     },
     "execution_count": 26,
     "metadata": {},
     "output_type": "execute_result"
    }
   ],
   "source": [
    "cov_abdab_negatives[\"Ab or Nb\"].value_counts()"
   ]
  },
  {
   "cell_type": "code",
   "execution_count": null,
   "metadata": {},
   "outputs": [],
   "source": []
  },
  {
   "cell_type": "code",
   "execution_count": 27,
   "metadata": {},
   "outputs": [
    {
     "data": {
      "text/plain": [
       "False    600\n",
       "Name: VHorVHH, dtype: int64"
      ]
     },
     "execution_count": 27,
     "metadata": {},
     "output_type": "execute_result"
    }
   ],
   "source": [
    "cov_abdab_negatives[\"VHorVHH\"].isna().value_counts()"
   ]
  },
  {
   "cell_type": "code",
   "execution_count": 28,
   "metadata": {},
   "outputs": [
    {
     "data": {
      "text/plain": [
       "True    600\n",
       "Name: VHorVHH, dtype: int64"
      ]
     },
     "execution_count": 28,
     "metadata": {},
     "output_type": "execute_result"
    }
   ],
   "source": [
    "(cov_abdab_negatives[\"VHorVHH\"] != \"ND\").value_counts()"
   ]
  },
  {
   "cell_type": "code",
   "execution_count": 29,
   "metadata": {
    "tags": []
   },
   "outputs": [
    {
     "data": {
      "text/plain": [
       "(600, 25)"
      ]
     },
     "execution_count": 29,
     "metadata": {},
     "output_type": "execute_result"
    }
   ],
   "source": [
    "cov_abdab_negatives = cov_abdab_negatives[cov_abdab_negatives[\"VHorVHH\"] != \"ND\"]\n",
    "cov_abdab_negatives.shape"
   ]
  },
  {
   "cell_type": "code",
   "execution_count": null,
   "metadata": {},
   "outputs": [],
   "source": []
  },
  {
   "cell_type": "code",
   "execution_count": 30,
   "metadata": {
    "tags": []
   },
   "outputs": [
    {
     "data": {
      "text/plain": [
       "Index(['Name', 'Ab or Nb', 'Binds to', 'Doesn't Bind to', 'Neutralising Vs',\n",
       "       'Not Neutralising Vs', 'Protein + Epitope', 'Origin', 'VHorVHH', 'VL',\n",
       "       'Heavy V Gene', 'Heavy J Gene', 'Light V Gene', 'Light J Gene', 'CDRH3',\n",
       "       'CDRL3', 'Structures', 'ABB Homology Model (if no structure)',\n",
       "       'Sources', 'Date Added', 'Last Updated', 'Update Description',\n",
       "       'Notes/Following Up?', 'Unnamed: 23', 'Unnamed: 24'],\n",
       "      dtype='object')"
      ]
     },
     "execution_count": 30,
     "metadata": {},
     "output_type": "execute_result"
    }
   ],
   "source": [
    "cov_abdab_negatives.columns"
   ]
  },
  {
   "cell_type": "code",
   "execution_count": 31,
   "metadata": {
    "tags": []
   },
   "outputs": [
    {
     "data": {
      "text/plain": [
       "B-cells; SARS-CoV2 Human Patient       584\n",
       "B-cells; SARS-CoV1 Human Patient        15\n",
       "B-cells; SARS-CoV2_WT Human Patient      1\n",
       "Name: Origin, dtype: int64"
      ]
     },
     "execution_count": 31,
     "metadata": {},
     "output_type": "execute_result"
    }
   ],
   "source": [
    "cov_abdab_negatives[\"Origin\"].value_counts()"
   ]
  },
  {
   "cell_type": "code",
   "execution_count": 32,
   "metadata": {
    "tags": []
   },
   "outputs": [],
   "source": [
    "# Confirm all are of human origin\n",
    "assert cov_abdab_negatives[\"Origin\"].str.contains(\"Human\").all()"
   ]
  },
  {
   "cell_type": "code",
   "execution_count": null,
   "metadata": {},
   "outputs": [],
   "source": []
  },
  {
   "cell_type": "code",
   "execution_count": 33,
   "metadata": {
    "tags": []
   },
   "outputs": [
    {
     "data": {
      "text/plain": [
       "(600, 25)"
      ]
     },
     "execution_count": 33,
     "metadata": {},
     "output_type": "execute_result"
    }
   ],
   "source": [
    "cov_abdab_negatives.shape"
   ]
  },
  {
   "cell_type": "code",
   "execution_count": null,
   "metadata": {},
   "outputs": [],
   "source": []
  },
  {
   "cell_type": "code",
   "execution_count": 34,
   "metadata": {
    "tags": []
   },
   "outputs": [
    {
     "data": {
      "text/plain": [
       "S; Unk        584\n",
       "S; non-RBD     12\n",
       "S; NTD          2\n",
       "S; RBD          1\n",
       "S; S2           1\n",
       "Name: Protein + Epitope, dtype: int64"
      ]
     },
     "execution_count": 34,
     "metadata": {},
     "output_type": "execute_result"
    }
   ],
   "source": [
    "cov_abdab_negatives[\"Protein + Epitope\"].value_counts()"
   ]
  },
  {
   "cell_type": "code",
   "execution_count": 35,
   "metadata": {
    "tags": []
   },
   "outputs": [
    {
     "data": {
      "text/plain": [
       "SARS-CoV1           12\n",
       "SARS-CoV1 (weak)     3\n",
       "SARS-CoV             1\n",
       "Name: Binds to, dtype: int64"
      ]
     },
     "execution_count": 35,
     "metadata": {},
     "output_type": "execute_result"
    }
   ],
   "source": [
    "cov_abdab_negatives[\"Binds to\"].value_counts()"
   ]
  },
  {
   "cell_type": "code",
   "execution_count": 36,
   "metadata": {
    "tags": []
   },
   "outputs": [
    {
     "data": {
      "text/plain": [
       "SARS-CoV2_WT                                                          584\n",
       "SARS-CoV2_WT;MERS-CoV                                                  12\n",
       "SARS-CoV2_WT;SARS-CoV2_Gamma;SARS-CoV2_Delta;SARS-CoV2_Omicron-BA1      2\n",
       "229E;HKU1;NL63;OC43;SARS-CoV2_WT                                        2\n",
       "Name: Doesn't Bind to, dtype: int64"
      ]
     },
     "execution_count": 36,
     "metadata": {},
     "output_type": "execute_result"
    }
   ],
   "source": [
    "cov_abdab_negatives[\"Doesn't Bind to\"].value_counts()"
   ]
  },
  {
   "cell_type": "code",
   "execution_count": 37,
   "metadata": {
    "tags": []
   },
   "outputs": [
    {
     "data": {
      "text/plain": [
       "SARS-CoV2_WT;SARS-CoV2_Gamma    2\n",
       "SARS-CoV2_WT                    1\n",
       "SARS-CoV2_WT;SARS-CoV           1\n",
       "Name: Not Neutralising Vs, dtype: int64"
      ]
     },
     "execution_count": 37,
     "metadata": {},
     "output_type": "execute_result"
    }
   ],
   "source": [
    "cov_abdab_negatives[\"Not Neutralising Vs\"].value_counts()"
   ]
  },
  {
   "cell_type": "code",
   "execution_count": 38,
   "metadata": {
    "tags": []
   },
   "outputs": [
    {
     "data": {
      "text/plain": [
       "SARS-CoV1    1\n",
       "Name: Neutralising Vs, dtype: int64"
      ]
     },
     "execution_count": 38,
     "metadata": {},
     "output_type": "execute_result"
    }
   ],
   "source": [
    "cov_abdab_negatives[\"Neutralising Vs\"].value_counts()"
   ]
  },
  {
   "cell_type": "code",
   "execution_count": null,
   "metadata": {},
   "outputs": [],
   "source": []
  },
  {
   "cell_type": "markdown",
   "metadata": {},
   "source": [
    "# Positives"
   ]
  },
  {
   "cell_type": "code",
   "execution_count": 39,
   "metadata": {
    "tags": []
   },
   "outputs": [
    {
     "data": {
      "text/plain": [
       "(10605, 25)"
      ]
     },
     "execution_count": 39,
     "metadata": {},
     "output_type": "execute_result"
    }
   ],
   "source": [
    "cov_abdab_positives = cov_abdab_all.copy()\n",
    "cov_abdab_positives = cov_abdab_positives[\n",
    "    (\n",
    "        (\n",
    "            cov_abdab_positives[\"Binds to\"]\n",
    "            .fillna(\"\")\n",
    "            .str.lower()\n",
    "            .apply(lambda s: \"sars-cov2\" in s)\n",
    "        )\n",
    "        | (\n",
    "            cov_abdab_positives[\"Neutralising Vs\"]\n",
    "            .fillna(\"\")\n",
    "            .str.lower()\n",
    "            .apply(lambda s: \"sars-cov2\" in s)\n",
    "        )\n",
    "    )\n",
    "    # avoid entries where the binding was selective for a particular strain of SARS-CoV-2:\n",
    "    & ~(\n",
    "        cov_abdab_positives[\"Doesn't Bind to\"]\n",
    "        .fillna(\"\")\n",
    "        .str.lower()\n",
    "        .apply(lambda s: \"sars-cov2\" in s)\n",
    "    )\n",
    "]\n",
    "cov_abdab_positives.shape"
   ]
  },
  {
   "cell_type": "code",
   "execution_count": 40,
   "metadata": {
    "tags": []
   },
   "outputs": [
    {
     "data": {
      "text/plain": [
       "SARS-CoV2_WT                                                                                                                                                                                                                                          6253\n",
       "SARS-CoV1;SARS-CoV2_WT                                                                                                                                                                                                                                 379\n",
       "SARS-CoV2_WT;SARS-CoV1                                                                                                                                                                                                                                 273\n",
       "SARS-CoV2_Omicron-BA2                                                                                                                                                                                                                                  211\n",
       "SARS-CoV2_WT;SARS-CoV2_Omicron-BA1;SARS-CoV2_Beta;SARS-CoV2_Delta;SARS-CoV2_Omicron-BA2;SARS-CoV1                                                                                                                                                      200\n",
       "                                                                                                                                                                                                                                                      ... \n",
       "SARS-CoV2_WT;SARS-CoV2_Alpha;SARS-CoV2_Beta;SARS-CoV2_Gamma;SARS-CoV2-Delta;SARS-CoV2_Omicron-BA1;SARS-CoV2_Omicron-BA2.12.1;SARS-CoV2_Omicron-BA4/5;SARS-CoV2_Omicron-BQ1.1;SARS-CoV2_Omicron-XBB;SARS-CoV2_Omicron-XBB1.5;SARS-CoV1;Pang17;WIV1        1\n",
       "SARS-CoV2_WT;SARS-CoV2_Alpha;SARS-CoV2_Beta;SARS-CoV2_Gamma;SARS-CoV2-Delta;SARS-CoV2_Omicron-BA1;SARS-CoV1;Pang17;WIV1                                                                                                                                  1\n",
       "SARS-CoV2_WT;SARS-CoV2_Alpha;SARS-CoV2_Beta;SARS-CoV2_Gamma;SARS-CoV2-Delta;SARS-CoV2_Omicron-BA1;SARS-CoV2_Omicron-BA2.12.1;SARS-CoV2_Omicron-XBB;SARS-CoV2_Omicron-XBB1.5;SARS-CoV1;Pang17;WIV1                                                        1\n",
       "SARS-CoV2_WT;SARS-CoV2_Alpha;SARS-CoV2_Beta;SARS-CoV2_Gamma;SARS-CoV2-Delta;SARS-CoV2_Omicron-BA1;SARS-CoV2_Omicron-BA2;SARS-CoV2_Omicron-BA2.12.1;SARS-CoV2_Omicron-BA2.75;SARS-CoV2_Omicron-BA4/5;SARS-CoV2_Omicron-XBB1.5;SARS-CoV1;Pang17;WIV1       1\n",
       "SARS-CoV2_WT;SARS-CoV2_Omicron-BA1;SARS-CoV2_Omicron-BA2;SARS-CoV2_Omicron-BA5;SARS-CoV2_WT                                                                                                                                                              1\n",
       "Name: Binds to, Length: 626, dtype: int64"
      ]
     },
     "execution_count": 40,
     "metadata": {},
     "output_type": "execute_result"
    }
   ],
   "source": [
    "cov_abdab_positives[\"Binds to\"].value_counts()"
   ]
  },
  {
   "cell_type": "code",
   "execution_count": 41,
   "metadata": {},
   "outputs": [
    {
     "data": {
      "text/plain": [
       "False    10605\n",
       "Name: Binds to, dtype: int64"
      ]
     },
     "execution_count": 41,
     "metadata": {},
     "output_type": "execute_result"
    }
   ],
   "source": [
    "# most have positive binding information\n",
    "cov_abdab_positives[\"Binds to\"].isna().value_counts()"
   ]
  },
  {
   "cell_type": "code",
   "execution_count": 42,
   "metadata": {},
   "outputs": [
    {
     "data": {
      "text/plain": [
       "False    5333\n",
       "True     5272\n",
       "Name: Neutralising Vs, dtype: int64"
      ]
     },
     "execution_count": 42,
     "metadata": {},
     "output_type": "execute_result"
    }
   ],
   "source": [
    "# neutralizing information is present for only about half\n",
    "cov_abdab_positives[\"Neutralising Vs\"].isna().value_counts()"
   ]
  },
  {
   "cell_type": "code",
   "execution_count": 43,
   "metadata": {
    "tags": []
   },
   "outputs": [
    {
     "data": {
      "text/plain": [
       "SARS-CoV2_WT                9670\n",
       "SARS-CoV2_Omicron-BA2       2192\n",
       "SARS-CoV2_Omicron-BA1       2135\n",
       "SARS-CoV1                   1379\n",
       "SARS-CoV2_Omicron-BA2.75    1331\n",
       "                            ... \n",
       "Rf1-2004 (weak)                1\n",
       "HKU3                           1\n",
       "Civet007-2004                  1\n",
       "A021                           1\n",
       "SARS-CoV_Gamma (weak)          1\n",
       "Name: Binds to, Length: 221, dtype: int64"
      ]
     },
     "execution_count": 43,
     "metadata": {},
     "output_type": "execute_result"
    }
   ],
   "source": [
    "# What do these sequence bind to, if listed?\n",
    "cov_abdab_positives[\"Binds to\"].str.split(\",|;\").explode().value_counts()"
   ]
  },
  {
   "cell_type": "code",
   "execution_count": 44,
   "metadata": {
    "tags": []
   },
   "outputs": [
    {
     "data": {
      "text/plain": [
       "SARS-CoV2_WT                4095\n",
       "SARS-CoV2_Omicron-BA1       1375\n",
       "SARS-CoV2_Omicron-BA2       1214\n",
       "SARS-CoV2_Omicron-BA2.75     922\n",
       "SARS-CoV2_WT (weak)          802\n",
       "                            ... \n",
       "HKU3                           1\n",
       "LYRa11                         1\n",
       "CS24                           1\n",
       "Civet007-2004                  1\n",
       "SARS-CoV2_Omicron (weak)       1\n",
       "Name: Neutralising Vs, Length: 216, dtype: int64"
      ]
     },
     "execution_count": 44,
     "metadata": {},
     "output_type": "execute_result"
    }
   ],
   "source": [
    "# What do these sequence neutralize, if listed?\n",
    "cov_abdab_positives[\"Neutralising Vs\"].str.split(\",|;\").explode().value_counts()"
   ]
  },
  {
   "cell_type": "code",
   "execution_count": null,
   "metadata": {},
   "outputs": [],
   "source": []
  },
  {
   "cell_type": "code",
   "execution_count": 45,
   "metadata": {
    "tags": []
   },
   "outputs": [],
   "source": [
    "# # remove weak binders\n",
    "# cov_abdab_positives = cov_abdab_positives[\n",
    "#     ~cov_abdab_positives[\"Binds to\"].str.lower().apply(lambda s: \"sars-cov2_wt (weak)\" in s)\n",
    "# ]\n",
    "# cov_abdab_positives.shape"
   ]
  },
  {
   "cell_type": "code",
   "execution_count": null,
   "metadata": {},
   "outputs": [],
   "source": []
  },
  {
   "cell_type": "code",
   "execution_count": 46,
   "metadata": {
    "tags": []
   },
   "outputs": [
    {
     "data": {
      "text/plain": [
       "SARS-CoV2_WT                                                                                                                                                                                                                                          6253\n",
       "SARS-CoV1;SARS-CoV2_WT                                                                                                                                                                                                                                 379\n",
       "SARS-CoV2_WT;SARS-CoV1                                                                                                                                                                                                                                 273\n",
       "SARS-CoV2_Omicron-BA2                                                                                                                                                                                                                                  211\n",
       "SARS-CoV2_WT;SARS-CoV2_Omicron-BA1;SARS-CoV2_Beta;SARS-CoV2_Delta;SARS-CoV2_Omicron-BA2;SARS-CoV1                                                                                                                                                      200\n",
       "                                                                                                                                                                                                                                                      ... \n",
       "SARS-CoV2_WT;SARS-CoV2_Alpha;SARS-CoV2_Beta;SARS-CoV2_Gamma;SARS-CoV2-Delta;SARS-CoV2_Omicron-BA1;SARS-CoV2_Omicron-BA2.12.1;SARS-CoV2_Omicron-BA4/5;SARS-CoV2_Omicron-BQ1.1;SARS-CoV2_Omicron-XBB;SARS-CoV2_Omicron-XBB1.5;SARS-CoV1;Pang17;WIV1        1\n",
       "SARS-CoV2_WT;SARS-CoV2_Alpha;SARS-CoV2_Beta;SARS-CoV2_Gamma;SARS-CoV2-Delta;SARS-CoV2_Omicron-BA1;SARS-CoV1;Pang17;WIV1                                                                                                                                  1\n",
       "SARS-CoV2_WT;SARS-CoV2_Alpha;SARS-CoV2_Beta;SARS-CoV2_Gamma;SARS-CoV2-Delta;SARS-CoV2_Omicron-BA1;SARS-CoV2_Omicron-BA2.12.1;SARS-CoV2_Omicron-XBB;SARS-CoV2_Omicron-XBB1.5;SARS-CoV1;Pang17;WIV1                                                        1\n",
       "SARS-CoV2_WT;SARS-CoV2_Alpha;SARS-CoV2_Beta;SARS-CoV2_Gamma;SARS-CoV2-Delta;SARS-CoV2_Omicron-BA1;SARS-CoV2_Omicron-BA2;SARS-CoV2_Omicron-BA2.12.1;SARS-CoV2_Omicron-BA2.75;SARS-CoV2_Omicron-BA4/5;SARS-CoV2_Omicron-XBB1.5;SARS-CoV1;Pang17;WIV1       1\n",
       "SARS-CoV2_WT;SARS-CoV2_Omicron-BA1;SARS-CoV2_Omicron-BA2;SARS-CoV2_Omicron-BA5;SARS-CoV2_WT                                                                                                                                                              1\n",
       "Name: Binds to, Length: 626, dtype: int64"
      ]
     },
     "execution_count": 46,
     "metadata": {},
     "output_type": "execute_result"
    }
   ],
   "source": [
    "cov_abdab_positives[\"Binds to\"].value_counts()"
   ]
  },
  {
   "cell_type": "code",
   "execution_count": null,
   "metadata": {},
   "outputs": [],
   "source": []
  },
  {
   "cell_type": "code",
   "execution_count": 47,
   "metadata": {
    "tags": []
   },
   "outputs": [],
   "source": [
    "# cov_abdab_positives.dropna(subset=[\"Neutralising Vs\"], inplace=True)\n",
    "# cov_abdab_positives.shape"
   ]
  },
  {
   "cell_type": "code",
   "execution_count": 48,
   "metadata": {
    "tags": []
   },
   "outputs": [
    {
     "data": {
      "text/plain": [
       "False    5333\n",
       "True     5272\n",
       "Name: Neutralising Vs, dtype: int64"
      ]
     },
     "execution_count": 48,
     "metadata": {},
     "output_type": "execute_result"
    }
   ],
   "source": [
    "cov_abdab_positives[\"Neutralising Vs\"].isna().value_counts()"
   ]
  },
  {
   "cell_type": "code",
   "execution_count": 49,
   "metadata": {
    "tags": []
   },
   "outputs": [],
   "source": [
    "# cov_abdab_positives = cov_abdab_positives[\n",
    "#     cov_abdab_positives[\"Neutralising Vs\"].str.lower().apply(lambda s: \"sars-cov2\" in s)\n",
    "# ]\n",
    "# cov_abdab_positives.shape"
   ]
  },
  {
   "cell_type": "code",
   "execution_count": 50,
   "metadata": {
    "tags": []
   },
   "outputs": [
    {
     "data": {
      "text/plain": [
       "SARS-CoV2_WT                                                                                                                                                                                                                                              2166\n",
       "SARS-CoV2_WT (weak)                                                                                                                                                                                                                                        460\n",
       "SARS-CoV2_WT;SARS-CoV2_Omicron-BA1                                                                                                                                                                                                                         138\n",
       "SARS-CoV2_WT;SARS-CoV2_Omicron-BA1;SARS-CoV2_Omicron-BA2;SARS-CoV2_Omicron-BA2.75                                                                                                                                                                          105\n",
       "SARS-CoV2_WT;SARS-CoV2_Omicron-BA1;SARS-CoV2_Omicron-BA2;SARS-CoV2_Omicron-BA2.75;SARS-CoV2_Omicron-BA5                                                                                                                                                     97\n",
       "                                                                                                                                                                                                                                                          ... \n",
       "SARS-CoV2_WT;SARS-CoV2_Omicron-BA1;SARS-CoV2_Omicron-BA1.1;SARS-CoV2_Omicron-BA3;SARS-CoV2_Omicron-BA2;SARS-CoV2_Omicron-BA2.12.1;SARS-CoV2_Omicron-BA2.13;SARS-CoV2_Omicron-BA4/BA5;Pangolin-GD;RatG13;SARS-CoV2_Omicron-BA2.75;SARS-CoV2_Omicron-BA5       1\n",
       "SARS-CoV2_WT;SARS-CoV1;RatG13                                                                                                                                                                                                                                1\n",
       "SARS-CoV2_WT (weak);SARS-CoV2_Omicron-BA1;SARS-CoV2_Omicron-BA1.1 (weak);SARS-CoV2_Omicron-BA2.12.1 (weak);Pangolin-GD (weak);SARS-CoV2_Omicron-BA2 (weak);SARS-CoV2_Omicron-BA2.75 (weak);SARS-CoV2_Omicron-BA5 (weak)                                      1\n",
       "SARS-CoV2_WT;SARS-CoV2_Omicron-BA1 (weak);SARS-CoV2_Omicron-BA1.1;SARS-CoV2_Omicron-BA3(weak);SARS-CoV2_Omicron-BA2 (weak);SARS-CoV2_Omicron-BA2.12.1 (weak);SARS-CoV2_Omicron-BA2.13 (weak);Pangolin-GD;SARS-CoV2_Omicron-BA2.75                            1\n",
       "SARS-CoV2_WT (weak);SARS-CoV2_Omicron-BA1 (weak);SARS-CoV2_Omicron-BA2 (weak);SARS-CoV2_Omicron-BA5                                                                                                                                                          1\n",
       "Name: Neutralising Vs, Length: 878, dtype: int64"
      ]
     },
     "execution_count": 50,
     "metadata": {},
     "output_type": "execute_result"
    }
   ],
   "source": [
    "cov_abdab_positives[\"Neutralising Vs\"].value_counts()"
   ]
  },
  {
   "cell_type": "code",
   "execution_count": null,
   "metadata": {},
   "outputs": [],
   "source": []
  },
  {
   "cell_type": "code",
   "execution_count": 51,
   "metadata": {
    "tags": []
   },
   "outputs": [
    {
     "data": {
      "text/plain": [
       "Human)     9676\n",
       "Alpaca)     671\n",
       "Mouse)      218\n",
       "Rhesus)       2\n",
       "Name: Heavy V Gene, dtype: int64"
      ]
     },
     "execution_count": 51,
     "metadata": {},
     "output_type": "execute_result"
    }
   ],
   "source": [
    "cov_abdab_positives[\"Heavy V Gene\"].str.split(\"(\").str[1].value_counts()"
   ]
  },
  {
   "cell_type": "code",
   "execution_count": 52,
   "metadata": {},
   "outputs": [
    {
     "data": {
      "text/plain": [
       "False    10605\n",
       "Name: Heavy V Gene, dtype: int64"
      ]
     },
     "execution_count": 52,
     "metadata": {},
     "output_type": "execute_result"
    }
   ],
   "source": [
    "cov_abdab_positives[\"Heavy V Gene\"].isna().value_counts()"
   ]
  },
  {
   "cell_type": "code",
   "execution_count": 53,
   "metadata": {},
   "outputs": [],
   "source": [
    "cov_abdab_positives.dropna(subset=[\"Heavy V Gene\"], inplace=True)"
   ]
  },
  {
   "cell_type": "code",
   "execution_count": 54,
   "metadata": {
    "tags": []
   },
   "outputs": [
    {
     "data": {
      "text/plain": [
       "(9676, 25)"
      ]
     },
     "execution_count": 54,
     "metadata": {},
     "output_type": "execute_result"
    }
   ],
   "source": [
    "cov_abdab_positives = cov_abdab_positives[\n",
    "    cov_abdab_positives[\"Heavy V Gene\"].apply(lambda s: \"(Human)\" in s)\n",
    "]\n",
    "cov_abdab_positives.shape"
   ]
  },
  {
   "cell_type": "code",
   "execution_count": null,
   "metadata": {},
   "outputs": [],
   "source": []
  },
  {
   "cell_type": "code",
   "execution_count": 55,
   "metadata": {
    "tags": []
   },
   "outputs": [
    {
     "data": {
      "text/plain": [
       "IGHJ4 (Human)    3875\n",
       "IGHJ6 (Human)    2310\n",
       "IGHJ3 (Human)    1277\n",
       "IGHJ5 (Human)    1234\n",
       "IGHJ2 (Human)     395\n",
       "ND                312\n",
       "IGHJ1 (Human)     273\n",
       "Name: Heavy J Gene, dtype: int64"
      ]
     },
     "execution_count": 55,
     "metadata": {},
     "output_type": "execute_result"
    }
   ],
   "source": [
    "cov_abdab_positives[\"Heavy J Gene\"].value_counts()"
   ]
  },
  {
   "cell_type": "code",
   "execution_count": 56,
   "metadata": {},
   "outputs": [
    {
     "data": {
      "text/plain": [
       "False    9676\n",
       "Name: Heavy J Gene, dtype: int64"
      ]
     },
     "execution_count": 56,
     "metadata": {},
     "output_type": "execute_result"
    }
   ],
   "source": [
    "cov_abdab_positives[\"Heavy J Gene\"].isna().value_counts()"
   ]
  },
  {
   "cell_type": "code",
   "execution_count": 57,
   "metadata": {
    "tags": []
   },
   "outputs": [
    {
     "data": {
      "text/plain": [
       "(9364, 25)"
      ]
     },
     "execution_count": 57,
     "metadata": {},
     "output_type": "execute_result"
    }
   ],
   "source": [
    "cov_abdab_positives = cov_abdab_positives[cov_abdab_positives[\"Heavy J Gene\"] != \"ND\"]\n",
    "cov_abdab_positives.shape"
   ]
  },
  {
   "cell_type": "code",
   "execution_count": 58,
   "metadata": {},
   "outputs": [],
   "source": [
    "cov_abdab_positives.dropna(subset=[\"Heavy J Gene\"], inplace=True)"
   ]
  },
  {
   "cell_type": "code",
   "execution_count": 59,
   "metadata": {
    "tags": []
   },
   "outputs": [
    {
     "data": {
      "text/plain": [
       "IGHJ4 (Human)    3875\n",
       "IGHJ6 (Human)    2310\n",
       "IGHJ3 (Human)    1277\n",
       "IGHJ5 (Human)    1234\n",
       "IGHJ2 (Human)     395\n",
       "IGHJ1 (Human)     273\n",
       "Name: Heavy J Gene, dtype: int64"
      ]
     },
     "execution_count": 59,
     "metadata": {},
     "output_type": "execute_result"
    }
   ],
   "source": [
    "cov_abdab_positives[\"Heavy J Gene\"].value_counts()"
   ]
  },
  {
   "cell_type": "code",
   "execution_count": null,
   "metadata": {},
   "outputs": [],
   "source": []
  },
  {
   "cell_type": "code",
   "execution_count": 60,
   "metadata": {
    "tags": []
   },
   "outputs": [
    {
     "data": {
      "text/plain": [
       "IGHV3-30 (Human)      1115\n",
       "IGHV1-69 (Human)       984\n",
       "IGHV3-53 (Human)       508\n",
       "IGHV1-46 (Human)       411\n",
       "IGHV3-23 (Human)       400\n",
       "IGHV3-9 (Human)        397\n",
       "IGHV5-51 (Human)       376\n",
       "IGHV3-33 (Human)       364\n",
       "IGHV3-30-3 (Human)     350\n",
       "IGHV3-66 (Human)       341\n",
       "IGHV4-39 (Human)       339\n",
       "IGHV4-59 (Human)       276\n",
       "IGHV1-18 (Human)       261\n",
       "IGHV3-13 (Human)       244\n",
       "IGHV4-4 (Human)        216\n",
       "IGHV1-2 (Human)        215\n",
       "IGHV3-21 (Human)       201\n",
       "IGHV4-31 (Human)       174\n",
       "IGHV2-5 (Human)        171\n",
       "IGHV3-7 (Human)        170\n",
       "IGHV3-48 (Human)       159\n",
       "IGHV4-34 (Human)       155\n",
       "IGHV1-58 (Human)       131\n",
       "IGHV3-15 (Human)       124\n",
       "IGHV2-70 (Human)       116\n",
       "IGHV1-8 (Human)        114\n",
       "IGHV1-24 (Human)       109\n",
       "IGHV4-61 (Human)       101\n",
       "IGHV7-4-1 (Human)       98\n",
       "IGHV3-11 (Human)        92\n",
       "IGHV4-30-4 (Human)      66\n",
       "IGHV5-10-1 (Human)      64\n",
       "IGHV3-49 (Human)        62\n",
       "IGHV3-64D (Human)       62\n",
       "IGHV1-3 (Human)         56\n",
       "IGHV3-20 (Human)        43\n",
       "IGHV3-74 (Human)        42\n",
       "IGHV3-43 (Human)        41\n",
       "IGHV2-26 (Human)        37\n",
       "IGHV3-64 (Human)        34\n",
       "IGHV4-38-2 (Human)      34\n",
       "IGHV1-69D (Human)       32\n",
       "IGHV6-1 (Human)         23\n",
       "IGHV4-30-2 (Human)      20\n",
       "IGHV1-69-2 (Human)       9\n",
       "IGHV3-73 (Human)         9\n",
       "IGHV3-72 (Human)         7\n",
       "IGHV3-43D (Human)        5\n",
       "IGHV3-30-5 (Human)       3\n",
       "IGHV1-45 (Human)         2\n",
       "IGHV4-28 (Human)         1\n",
       "Name: Heavy V Gene, dtype: int64"
      ]
     },
     "execution_count": 60,
     "metadata": {},
     "output_type": "execute_result"
    }
   ],
   "source": [
    "cov_abdab_positives[\"Heavy V Gene\"].value_counts()"
   ]
  },
  {
   "cell_type": "code",
   "execution_count": 61,
   "metadata": {
    "tags": []
   },
   "outputs": [],
   "source": [
    "cov_abdab_positives[\"Heavy V Gene\"] = (\n",
    "    cov_abdab_positives[\"Heavy V Gene\"].str.split(\"(\").str[0].str.strip()\n",
    ")"
   ]
  },
  {
   "cell_type": "code",
   "execution_count": 62,
   "metadata": {
    "tags": []
   },
   "outputs": [
    {
     "data": {
      "text/plain": [
       "0        IGHV3-53\n",
       "1        IGHV3-11\n",
       "2        IGHV3-30\n",
       "3        IGHV3-53\n",
       "4        IGHV3-53\n",
       "           ...   \n",
       "12531    IGHV3-21\n",
       "12532    IGHV1-58\n",
       "12533    IGHV3-11\n",
       "12534    IGHV3-64\n",
       "12535    IGHV1-18\n",
       "Name: Heavy V Gene, Length: 9364, dtype: object"
      ]
     },
     "execution_count": 62,
     "metadata": {},
     "output_type": "execute_result"
    }
   ],
   "source": [
    "cov_abdab_positives[\"Heavy V Gene\"]"
   ]
  },
  {
   "cell_type": "code",
   "execution_count": 63,
   "metadata": {
    "tags": []
   },
   "outputs": [
    {
     "data": {
      "text/plain": [
       "IGHJ4 (Human)    3875\n",
       "IGHJ6 (Human)    2310\n",
       "IGHJ3 (Human)    1277\n",
       "IGHJ5 (Human)    1234\n",
       "IGHJ2 (Human)     395\n",
       "IGHJ1 (Human)     273\n",
       "Name: Heavy J Gene, dtype: int64"
      ]
     },
     "execution_count": 63,
     "metadata": {},
     "output_type": "execute_result"
    }
   ],
   "source": [
    "cov_abdab_positives[\"Heavy J Gene\"].value_counts()"
   ]
  },
  {
   "cell_type": "code",
   "execution_count": 64,
   "metadata": {
    "tags": []
   },
   "outputs": [],
   "source": [
    "cov_abdab_positives[\"Heavy J Gene\"] = (\n",
    "    cov_abdab_positives[\"Heavy J Gene\"].str.split(\"(\").str[0].str.strip()\n",
    ")"
   ]
  },
  {
   "cell_type": "code",
   "execution_count": 65,
   "metadata": {
    "tags": []
   },
   "outputs": [
    {
     "data": {
      "text/plain": [
       "0        IGHJ4\n",
       "1        IGHJ4\n",
       "2        IGHJ4\n",
       "3        IGHJ3\n",
       "4        IGHJ4\n",
       "         ...  \n",
       "12531    IGHJ5\n",
       "12532    IGHJ2\n",
       "12533    IGHJ1\n",
       "12534    IGHJ2\n",
       "12535    IGHJ6\n",
       "Name: Heavy J Gene, Length: 9364, dtype: object"
      ]
     },
     "execution_count": 65,
     "metadata": {},
     "output_type": "execute_result"
    }
   ],
   "source": [
    "cov_abdab_positives[\"Heavy J Gene\"]"
   ]
  },
  {
   "cell_type": "code",
   "execution_count": null,
   "metadata": {},
   "outputs": [],
   "source": []
  },
  {
   "cell_type": "code",
   "execution_count": 66,
   "metadata": {
    "tags": []
   },
   "outputs": [
    {
     "data": {
      "text/plain": [
       "(9364, 25)"
      ]
     },
     "execution_count": 66,
     "metadata": {},
     "output_type": "execute_result"
    }
   ],
   "source": [
    "cov_abdab_positives = cov_abdab_positives[cov_abdab_positives[\"CDRH3\"] != \"ND\"]\n",
    "cov_abdab_positives.shape"
   ]
  },
  {
   "cell_type": "code",
   "execution_count": 67,
   "metadata": {
    "tags": []
   },
   "outputs": [
    {
     "data": {
      "text/plain": [
       "0               ARDLVVYGLDY\n",
       "1           AREFDLTKIIMVPPY\n",
       "2           ARDSSGWHWGVPFDY\n",
       "3             VRGSGGIHDAFDI\n",
       "4              ARVDPRYEGFDY\n",
       "                ...        \n",
       "12531      ARDRFGEFIYPGALDI\n",
       "12532         AAMVRGGWWYFDL\n",
       "12533     ASDPGGLSELAAEYFHH\n",
       "12534        ARESTEVTHWYFDL\n",
       "12535    ARQLLFFGDLSGDNGMDV\n",
       "Name: CDRH3, Length: 9364, dtype: object"
      ]
     },
     "execution_count": 67,
     "metadata": {},
     "output_type": "execute_result"
    }
   ],
   "source": [
    "cov_abdab_positives[\"CDRH3\"]"
   ]
  },
  {
   "cell_type": "code",
   "execution_count": null,
   "metadata": {},
   "outputs": [],
   "source": []
  },
  {
   "cell_type": "code",
   "execution_count": 68,
   "metadata": {
    "tags": []
   },
   "outputs": [
    {
     "data": {
      "text/plain": [
       "Ab    9338\n",
       "Nb      26\n",
       "Name: Ab or Nb, dtype: int64"
      ]
     },
     "execution_count": 68,
     "metadata": {},
     "output_type": "execute_result"
    }
   ],
   "source": [
    "cov_abdab_positives[\"Ab or Nb\"].value_counts()"
   ]
  },
  {
   "cell_type": "code",
   "execution_count": null,
   "metadata": {},
   "outputs": [],
   "source": []
  },
  {
   "cell_type": "code",
   "execution_count": 69,
   "metadata": {},
   "outputs": [
    {
     "data": {
      "text/plain": [
       "False    9364\n",
       "Name: VHorVHH, dtype: int64"
      ]
     },
     "execution_count": 69,
     "metadata": {},
     "output_type": "execute_result"
    }
   ],
   "source": [
    "cov_abdab_positives[\"VHorVHH\"].isna().value_counts()"
   ]
  },
  {
   "cell_type": "code",
   "execution_count": 70,
   "metadata": {},
   "outputs": [
    {
     "data": {
      "text/plain": [
       "True     9277\n",
       "False      87\n",
       "Name: VHorVHH, dtype: int64"
      ]
     },
     "execution_count": 70,
     "metadata": {},
     "output_type": "execute_result"
    }
   ],
   "source": [
    "(cov_abdab_positives[\"VHorVHH\"] != \"ND\").value_counts()"
   ]
  },
  {
   "cell_type": "code",
   "execution_count": 71,
   "metadata": {
    "tags": []
   },
   "outputs": [
    {
     "data": {
      "text/plain": [
       "(9277, 25)"
      ]
     },
     "execution_count": 71,
     "metadata": {},
     "output_type": "execute_result"
    }
   ],
   "source": [
    "cov_abdab_positives = cov_abdab_positives[cov_abdab_positives[\"VHorVHH\"] != \"ND\"]\n",
    "cov_abdab_positives.shape"
   ]
  },
  {
   "cell_type": "code",
   "execution_count": null,
   "metadata": {},
   "outputs": [],
   "source": []
  },
  {
   "cell_type": "code",
   "execution_count": 72,
   "metadata": {
    "tags": []
   },
   "outputs": [
    {
     "data": {
      "text/plain": [
       "Index(['Name', 'Ab or Nb', 'Binds to', 'Doesn't Bind to', 'Neutralising Vs',\n",
       "       'Not Neutralising Vs', 'Protein + Epitope', 'Origin', 'VHorVHH', 'VL',\n",
       "       'Heavy V Gene', 'Heavy J Gene', 'Light V Gene', 'Light J Gene', 'CDRH3',\n",
       "       'CDRL3', 'Structures', 'ABB Homology Model (if no structure)',\n",
       "       'Sources', 'Date Added', 'Last Updated', 'Update Description',\n",
       "       'Notes/Following Up?', 'Unnamed: 23', 'Unnamed: 24'],\n",
       "      dtype='object')"
      ]
     },
     "execution_count": 72,
     "metadata": {},
     "output_type": "execute_result"
    }
   ],
   "source": [
    "cov_abdab_positives.columns"
   ]
  },
  {
   "cell_type": "code",
   "execution_count": 73,
   "metadata": {
    "tags": []
   },
   "outputs": [
    {
     "data": {
      "text/plain": [
       "B-cells; SARS-CoV2 Human Patient                     2293\n",
       "B-cells; SARS-CoV2_WT Human Patient                  2259\n",
       "B-cells (SARS-CoV2 Human Patient and/or Vaccinee)     758\n",
       "BA.2 convalescents                                    751\n",
       "B-cells; SARS-CoV2_WT Vaccinee                        516\n",
       "                                                     ... \n",
       "Engineered from CR3041                                  1\n",
       "Engineered from CR3042                                  1\n",
       "Engineered from CR3043                                  1\n",
       "Engineered from CR3045                                  1\n",
       "Engineered from CR3032                                  1\n",
       "Name: Origin, Length: 112, dtype: int64"
      ]
     },
     "execution_count": 73,
     "metadata": {},
     "output_type": "execute_result"
    }
   ],
   "source": [
    "cov_abdab_positives[\"Origin\"].value_counts()"
   ]
  },
  {
   "cell_type": "code",
   "execution_count": 74,
   "metadata": {
    "tags": []
   },
   "outputs": [
    {
     "data": {
      "text/plain": [
       "B-cells; SARS-CoV2 Human Patient                             2293\n",
       "B-cells; SARS-CoV2_WT Human Patient                          2259\n",
       "B-cells (SARS-CoV2 Human Patient and/or Vaccinee)             758\n",
       "BA.2 convalescents                                            751\n",
       "B-cells; SARS-CoV2_WT Vaccinee                                516\n",
       "SARS convalescents                                            475\n",
       "B-Cells, SARS-CoV2 double vaccinated human                    285\n",
       "BA.5 convalescents                                            269\n",
       "B-cells; SARS-CoV1 Human Patient                              248\n",
       "B-cells (SARS-CoV2 Human Patient+Vaccinee)                    216\n",
       "BA.1 convalescents                                            187\n",
       "Semi-synthetic Human Fab Library                              116\n",
       "B-cells (SARS-CoV2 Human Patient/Vaccinee)                     90\n",
       "B-cells; SARS-CoV2 Vaccinee (ChAdOx1 then mRNA-1273)           72\n",
       "Phage Display (Ab, human, non-immune)                          59\n",
       "B-cells; SARS-CoV2_Gamma Human Patient                         47\n",
       "B-cells; SARS-CoV2 Vaccinee (2 x ChAdOx1)                      45\n",
       "B-cells; SARS-CoV2_Beta Human Patient                          42\n",
       "B-cells; SARS-CoV2_WT Convalescent Patients                    42\n",
       "B-cells; SARS-CoV2_WT Vaccinee (Lymph Nodes)                   37\n",
       "Directed Evolution of B-cells; SARS-CoV2_WT Human Patient      35\n",
       "WT convalescents                                               33\n",
       "Phage Display (Ab, human, immune - SARS-CoV2)                  33\n",
       "WT vaccinees                                                   26\n",
       "ND                                                             23\n",
       "Name: Origin, dtype: int64"
      ]
     },
     "execution_count": 74,
     "metadata": {},
     "output_type": "execute_result"
    }
   ],
   "source": [
    "cov_abdab_positives[\"Origin\"].value_counts().head(n=25)"
   ]
  },
  {
   "cell_type": "code",
   "execution_count": 75,
   "metadata": {
    "tags": []
   },
   "outputs": [
    {
     "data": {
      "text/plain": [
       "array(['B-cells; SARS-CoV2_WT Convalescent Patients',\n",
       "       'B-cells; SARS-CoV2_WT Vaccinee (BBIBP-CoV)',\n",
       "       'B-cells; SARS-CoV2_WT Vaccinee', 'TBC',\n",
       "       'Immunised Rhesus Macaques',\n",
       "       'B-cells; SARS-CoV2 Convalescent Patients',\n",
       "       'B-cells; SARS-CoV2 Vaccinee',\n",
       "       'B-cells; SARS-CoV2_WT Human Patient',\n",
       "       'B-cells; SARS-CoV2 Vaccinee (Omicron BA2 Breakthrough)',\n",
       "       'Phage Display Library (Ab, Human, Non-immune)',\n",
       "       'Immunised Transgenic Mouse',\n",
       "       'Phage Display Library (Ab, Human, Immune - SARS-CoV2)',\n",
       "       'Phage Display Library (Ab, Human, Naive)',\n",
       "       'B-cells; SARS-CoV2 Human Patient',\n",
       "       'B-cells; SARS-CoV2_Omicron Human Patient',\n",
       "       'B-cells; SARS-CoV2 Human Vaccinee (Moderna)',\n",
       "       'B-cells; SARS-CoV2 Human Vaccinee (Pfizer)',\n",
       "       'B-cells; SARS-CoV2 Human Vaccinee', nan,\n",
       "       'B-cells; SARS-CoV2_Omicron-BA1 Breakthrough Infection',\n",
       "       'B-cells; SARS-CoV2 Human Patients',\n",
       "       'Phage Display (Ab, human, immune - SARS-CoV2)',\n",
       "       'B-cells; SARS-CoV2 Human Vaccinee + Multiple Infection',\n",
       "       'Humanised from Immunised Mouse', 'ND',\n",
       "       'B-cells; Triple SARS-CoV2 Vaccinated Human',\n",
       "       'B-cells; Unvaccinated SARS-CoV2_WT Human Patient',\n",
       "       'Phage Display (Ab, human, non-immune)',\n",
       "       'B-Cells, SARS-CoV2 double vaccinated human',\n",
       "       'Immunised Humanised Mouse',\n",
       "       'B-cells; SARS-CoV2_Gamma Human Patient',\n",
       "       'B-cells; SARS-CoV2 Vaccinee (2 x ChAdOx1)',\n",
       "       'B-cells; SARS-CoV2 Vaccinee (ChAdOx1 then mRNA-1273)',\n",
       "       'B-cells; SARS-CoV1 Human Patient', 'Transgenic Mouse',\n",
       "       'Phage Library Engineered from SARS-CoV-1 binder',\n",
       "       'Immunised mouse (TC-mAb)', 'B-cells (SARS-CoV2 Vaccinated Human)',\n",
       "       'B-cells; SARS-CoV2 Human Patient plus vaccinated mRNA-1273 vaccine',\n",
       "       'B-cells (SARS-CoV2 Human Patient+Vaccinee)',\n",
       "       'B-cells (SARS-CoV2 Human Patient/Vaccinee)',\n",
       "       'B-cells (SARS-CoV2 Human Patient and/or Vaccinee)',\n",
       "       'Immunised mouse (RenMab)', 'Transgenic Mouse (H2L2)',\n",
       "       'Phage Display (Ab, human, immune - CoV2_WT)', 'HIV-1 induced Ab',\n",
       "       'Phage Display (sdAbs from human VH)',\n",
       "       'Phage Display (Humanised sdAbs, immune - CoV2)',\n",
       "       'B-cells (Human Naive)', 'Engineered from ADI-55689',\n",
       "       'Engineered from ADG-2', 'Engineered from ADI-56046',\n",
       "       'B-cells (SARS-CoV1 Human Patient)',\n",
       "       'Phage Display (Ab, based on trastuzumab VH)',\n",
       "       'B-cells (SARS-CoV2_Beta Human Patient)',\n",
       "       'Phage Display (sdAb, non-immune, human) + Engineering',\n",
       "       'B-cells (Zika Human Patient)',\n",
       "       'Phage Display (single-domain, human, non-immune)',\n",
       "       'B-cells (SARS-CoV2_WT Human Patient)',\n",
       "       'B-cells; SARS-CoV2_Beta Human Patient', 'Computational Design',\n",
       "       'Transgenic Mouse (Alloy GK)', 'Computational Engineering',\n",
       "       'Directed Evolution of B-cells; SARS-CoV2_WT Human Patient',\n",
       "       'Engineered from CR3022', 'Engineered from CR3031',\n",
       "       'Engineered from CR3032', 'Engineered from CR3033',\n",
       "       'Engineered from CR3034', 'Engineered from CR3035',\n",
       "       'Engineered from CR3036', 'Engineered from CR3037',\n",
       "       'Engineered from CR3038', 'Engineered from CR3039',\n",
       "       'Engineered from CR3040', 'Engineered from CR3023',\n",
       "       'Engineered from CR3041', 'Engineered from CR3042',\n",
       "       'Engineered from CR3043', 'Engineered from CR3044',\n",
       "       'Engineered from CR3045', 'Engineered from CR3046',\n",
       "       'Engineered from CR3024', 'Engineered from CR3025',\n",
       "       'Engineered from CR3026', 'Engineered from CR3027',\n",
       "       'Engineered from CR3028', 'Engineered from CR3029',\n",
       "       'Engineered from CR3030',\n",
       "       'Engineered from Phage Display (antibody, non-immune)',\n",
       "       'Immunised Camelids + Engineering', 'Humanised from R58',\n",
       "       'Phage Display Library (scFv, naive, non-immune)',\n",
       "       'mRNA Display Library', 'Unknown',\n",
       "       'B-cells (SARS-CoV2_Omicron Breakthrough Infection)',\n",
       "       'Phage Display (VHH, Camel, non-immune)', 'Immunised Mouse (H2L2)',\n",
       "       'Immunised Mouse (Balb/c)',\n",
       "       'B-cells; Transgenic Mouse (VelocImmune)',\n",
       "       'Hybridoma from Transgenic Mouse (VelocImmune)',\n",
       "       'Phage Display (Humanised sdAbs)',\n",
       "       'Phage Display (scFv, human, non-immune)', 'Humanised from Mouse',\n",
       "       'B-cells; SARS-CoV2_WT Vaccinee (Lymph Nodes)',\n",
       "       'Semi-synthetic Human Fab Library',\n",
       "       'B-cells; SARS-CoV2 Human Vaccinees (BNT162b2)',\n",
       "       'BA.1 convalescents', 'BA.2 convalescents', 'BA.5 convalescents',\n",
       "       'WT convalescents', 'WT vaccinees', 'SARS convalescents'],\n",
       "      dtype=object)"
      ]
     },
     "execution_count": 75,
     "metadata": {},
     "output_type": "execute_result"
    }
   ],
   "source": [
    "cov_abdab_positives[\"Origin\"].unique()"
   ]
  },
  {
   "cell_type": "code",
   "execution_count": 76,
   "metadata": {
    "tags": []
   },
   "outputs": [
    {
     "data": {
      "text/plain": [
       "['B-cells; SARS-CoV2_WT Convalescent Patients',\n",
       " 'B-cells; SARS-CoV2_WT Vaccinee (BBIBP-CoV)',\n",
       " 'B-cells; SARS-CoV2_WT Vaccinee',\n",
       " 'B-cells; SARS-CoV2 Convalescent Patients',\n",
       " 'B-cells; SARS-CoV2 Vaccinee',\n",
       " 'B-cells; SARS-CoV2_WT Human Patient',\n",
       " 'B-cells; SARS-CoV2 Vaccinee (Omicron BA2 Breakthrough)',\n",
       " 'B-cells; SARS-CoV2 Human Patient',\n",
       " 'B-cells; SARS-CoV2_Omicron Human Patient',\n",
       " 'B-cells; SARS-CoV2 Human Vaccinee (Moderna)',\n",
       " 'B-cells; SARS-CoV2 Human Vaccinee (Pfizer)',\n",
       " 'B-cells; SARS-CoV2 Human Vaccinee',\n",
       " 'B-cells; SARS-CoV2_Omicron-BA1 Breakthrough Infection',\n",
       " 'B-cells; SARS-CoV2 Human Patients',\n",
       " 'B-cells; SARS-CoV2 Human Vaccinee + Multiple Infection',\n",
       " 'B-cells; Triple SARS-CoV2 Vaccinated Human',\n",
       " 'B-cells; Unvaccinated SARS-CoV2_WT Human Patient',\n",
       " 'B-Cells, SARS-CoV2 double vaccinated human',\n",
       " 'B-cells; SARS-CoV2_Gamma Human Patient',\n",
       " 'B-cells; SARS-CoV2 Vaccinee (2 x ChAdOx1)',\n",
       " 'B-cells; SARS-CoV2 Vaccinee (ChAdOx1 then mRNA-1273)',\n",
       " 'B-cells; SARS-CoV1 Human Patient',\n",
       " 'B-cells (SARS-CoV2 Vaccinated Human)',\n",
       " 'B-cells; SARS-CoV2 Human Patient plus vaccinated mRNA-1273 vaccine',\n",
       " 'B-cells (SARS-CoV2 Human Patient+Vaccinee)',\n",
       " 'B-cells (SARS-CoV2 Human Patient/Vaccinee)',\n",
       " 'B-cells (SARS-CoV2 Human Patient and/or Vaccinee)',\n",
       " 'B-cells (Human Naive)',\n",
       " 'B-cells (SARS-CoV1 Human Patient)',\n",
       " 'B-cells (SARS-CoV2_Beta Human Patient)',\n",
       " 'B-cells (Zika Human Patient)',\n",
       " 'B-cells (SARS-CoV2_WT Human Patient)',\n",
       " 'B-cells; SARS-CoV2_Beta Human Patient',\n",
       " 'Directed Evolution of B-cells; SARS-CoV2_WT Human Patient',\n",
       " 'B-cells (SARS-CoV2_Omicron Breakthrough Infection)',\n",
       " 'B-cells; SARS-CoV2_WT Vaccinee (Lymph Nodes)',\n",
       " 'B-cells; SARS-CoV2 Human Vaccinees (BNT162b2)',\n",
       " 'WT vaccinees']"
      ]
     },
     "execution_count": 76,
     "metadata": {},
     "output_type": "execute_result"
    }
   ],
   "source": [
    "# Test \"keep human origin only\" filter:\n",
    "[\n",
    "    origin\n",
    "    for origin in cov_abdab_positives[\"Origin\"].fillna(\"\").unique()\n",
    "    if (\n",
    "        \"human\" in origin.lower()\n",
    "        or \"patient\" in origin.lower()\n",
    "        or \"vaccinee\" in origin.lower()\n",
    "        or \"breakthrough infection\" in origin.lower()\n",
    "    )\n",
    "    and \"humanised\" not in origin.lower()\n",
    "    and \"phage display\" not in origin.lower()\n",
    "    and \"synthetic\" not in origin.lower()\n",
    "]"
   ]
  },
  {
   "cell_type": "code",
   "execution_count": 77,
   "metadata": {
    "tags": []
   },
   "outputs": [
    {
     "data": {
      "text/plain": [
       "['TBC',\n",
       " 'Immunised Rhesus Macaques',\n",
       " 'Phage Display Library (Ab, Human, Non-immune)',\n",
       " 'Immunised Transgenic Mouse',\n",
       " 'Phage Display Library (Ab, Human, Immune - SARS-CoV2)',\n",
       " 'Phage Display Library (Ab, Human, Naive)',\n",
       " '',\n",
       " 'Phage Display (Ab, human, immune - SARS-CoV2)',\n",
       " 'Humanised from Immunised Mouse',\n",
       " 'ND',\n",
       " 'Phage Display (Ab, human, non-immune)',\n",
       " 'Immunised Humanised Mouse',\n",
       " 'Transgenic Mouse',\n",
       " 'Phage Library Engineered from SARS-CoV-1 binder',\n",
       " 'Immunised mouse (TC-mAb)',\n",
       " 'Immunised mouse (RenMab)',\n",
       " 'Transgenic Mouse (H2L2)',\n",
       " 'Phage Display (Ab, human, immune - CoV2_WT)',\n",
       " 'HIV-1 induced Ab',\n",
       " 'Phage Display (sdAbs from human VH)',\n",
       " 'Phage Display (Humanised sdAbs, immune - CoV2)',\n",
       " 'Engineered from ADI-55689',\n",
       " 'Engineered from ADG-2',\n",
       " 'Engineered from ADI-56046',\n",
       " 'Phage Display (Ab, based on trastuzumab VH)',\n",
       " 'Phage Display (sdAb, non-immune, human) + Engineering',\n",
       " 'Phage Display (single-domain, human, non-immune)',\n",
       " 'Computational Design',\n",
       " 'Transgenic Mouse (Alloy GK)',\n",
       " 'Computational Engineering',\n",
       " 'Engineered from CR3022',\n",
       " 'Engineered from CR3031',\n",
       " 'Engineered from CR3032',\n",
       " 'Engineered from CR3033',\n",
       " 'Engineered from CR3034',\n",
       " 'Engineered from CR3035',\n",
       " 'Engineered from CR3036',\n",
       " 'Engineered from CR3037',\n",
       " 'Engineered from CR3038',\n",
       " 'Engineered from CR3039',\n",
       " 'Engineered from CR3040',\n",
       " 'Engineered from CR3023',\n",
       " 'Engineered from CR3041',\n",
       " 'Engineered from CR3042',\n",
       " 'Engineered from CR3043',\n",
       " 'Engineered from CR3044',\n",
       " 'Engineered from CR3045',\n",
       " 'Engineered from CR3046',\n",
       " 'Engineered from CR3024',\n",
       " 'Engineered from CR3025',\n",
       " 'Engineered from CR3026',\n",
       " 'Engineered from CR3027',\n",
       " 'Engineered from CR3028',\n",
       " 'Engineered from CR3029',\n",
       " 'Engineered from CR3030',\n",
       " 'Engineered from Phage Display (antibody, non-immune)',\n",
       " 'Immunised Camelids + Engineering',\n",
       " 'Humanised from R58',\n",
       " 'Phage Display Library (scFv, naive, non-immune)',\n",
       " 'mRNA Display Library',\n",
       " 'Unknown',\n",
       " 'Phage Display (VHH, Camel, non-immune)',\n",
       " 'Immunised Mouse (H2L2)',\n",
       " 'Immunised Mouse (Balb/c)',\n",
       " 'B-cells; Transgenic Mouse (VelocImmune)',\n",
       " 'Hybridoma from Transgenic Mouse (VelocImmune)',\n",
       " 'Phage Display (Humanised sdAbs)',\n",
       " 'Phage Display (scFv, human, non-immune)',\n",
       " 'Humanised from Mouse',\n",
       " 'Semi-synthetic Human Fab Library',\n",
       " 'BA.1 convalescents',\n",
       " 'BA.2 convalescents',\n",
       " 'BA.5 convalescents',\n",
       " 'WT convalescents',\n",
       " 'SARS convalescents']"
      ]
     },
     "execution_count": 77,
     "metadata": {},
     "output_type": "execute_result"
    }
   ],
   "source": [
    "# rejects:\n",
    "[\n",
    "    origin\n",
    "    for origin in cov_abdab_positives[\"Origin\"].fillna(\"\").unique()\n",
    "    if not (\n",
    "        (\n",
    "            \"human\" in origin.lower()\n",
    "            or \"patient\" in origin.lower()\n",
    "            or \"vaccinee\" in origin.lower()\n",
    "            or \"breakthrough infection\" in origin.lower()\n",
    "        )\n",
    "        and \"humanised\" not in origin.lower()\n",
    "        and \"phage display\" not in origin.lower()\n",
    "        and \"synthetic\" not in origin.lower()\n",
    "    )\n",
    "]"
   ]
  },
  {
   "cell_type": "code",
   "execution_count": null,
   "metadata": {},
   "outputs": [],
   "source": []
  },
  {
   "cell_type": "code",
   "execution_count": 78,
   "metadata": {
    "tags": []
   },
   "outputs": [
    {
     "data": {
      "text/plain": [
       "(9277, 25)"
      ]
     },
     "execution_count": 78,
     "metadata": {},
     "output_type": "execute_result"
    }
   ],
   "source": [
    "cov_abdab_positives.shape"
   ]
  },
  {
   "cell_type": "code",
   "execution_count": 79,
   "metadata": {
    "tags": []
   },
   "outputs": [
    {
     "data": {
      "text/plain": [
       "(7142, 25)"
      ]
     },
     "execution_count": 79,
     "metadata": {},
     "output_type": "execute_result"
    }
   ],
   "source": [
    "# Apply \"keep human origin only\" filter:\n",
    "cov_abdab_positives = cov_abdab_positives[\n",
    "    cov_abdab_positives[\"Origin\"]\n",
    "    .fillna(\"\")\n",
    "    .apply(\n",
    "        lambda origin: (\n",
    "            \"human\" in origin.lower()\n",
    "            or \"patient\" in origin.lower()\n",
    "            or \"vaccinee\" in origin.lower()\n",
    "            or \"breakthrough infection\" in origin.lower()\n",
    "        )\n",
    "        and \"humanised\" not in origin.lower()\n",
    "        and \"phage display\" not in origin.lower()\n",
    "        and \"synthetic\" not in origin.lower()\n",
    "    )\n",
    "]\n",
    "cov_abdab_positives.shape"
   ]
  },
  {
   "cell_type": "code",
   "execution_count": null,
   "metadata": {},
   "outputs": [],
   "source": []
  },
  {
   "cell_type": "code",
   "execution_count": 80,
   "metadata": {
    "tags": []
   },
   "outputs": [
    {
     "data": {
      "text/plain": [
       "B-cells; SARS-CoV2 Human Patient                                      2293\n",
       "B-cells; SARS-CoV2_WT Human Patient                                   2259\n",
       "B-cells (SARS-CoV2 Human Patient and/or Vaccinee)                      758\n",
       "B-cells; SARS-CoV2_WT Vaccinee                                         516\n",
       "B-Cells, SARS-CoV2 double vaccinated human                             285\n",
       "B-cells; SARS-CoV1 Human Patient                                       248\n",
       "B-cells (SARS-CoV2 Human Patient+Vaccinee)                             216\n",
       "B-cells (SARS-CoV2 Human Patient/Vaccinee)                              90\n",
       "B-cells; SARS-CoV2 Vaccinee (ChAdOx1 then mRNA-1273)                    72\n",
       "B-cells; SARS-CoV2_Gamma Human Patient                                  47\n",
       "B-cells; SARS-CoV2 Vaccinee (2 x ChAdOx1)                               45\n",
       "B-cells; SARS-CoV2_Beta Human Patient                                   42\n",
       "B-cells; SARS-CoV2_WT Convalescent Patients                             42\n",
       "B-cells; SARS-CoV2_WT Vaccinee (Lymph Nodes)                            37\n",
       "Directed Evolution of B-cells; SARS-CoV2_WT Human Patient               35\n",
       "WT vaccinees                                                            26\n",
       "B-cells; SARS-CoV2_WT Vaccinee (BBIBP-CoV)                              19\n",
       "B-cells (Human Naive)                                                   18\n",
       "B-cells; Triple SARS-CoV2 Vaccinated Human                              15\n",
       "B-cells; SARS-CoV2 Human Vaccinee                                       15\n",
       "B-cells (SARS-CoV2_Omicron Breakthrough Infection)                       9\n",
       "B-cells (SARS-CoV2_Beta Human Patient)                                   9\n",
       "B-cells (SARS-CoV2 Vaccinated Human)                                     6\n",
       "B-cells; SARS-CoV2 Human Patients                                        5\n",
       "B-cells (SARS-CoV2_WT Human Patient)                                     4\n",
       "B-cells; SARS-CoV2 Convalescent Patients                                 4\n",
       "B-cells; SARS-CoV2_Omicron-BA1 Breakthrough Infection                    4\n",
       "B-cells; SARS-CoV2 Vaccinee (Omicron BA2 Breakthrough)                   4\n",
       "B-cells; SARS-CoV2_Omicron Human Patient                                 3\n",
       "B-cells; SARS-CoV2 Vaccinee                                              3\n",
       "B-cells (SARS-CoV1 Human Patient)                                        3\n",
       "B-cells; SARS-CoV2 Human Vaccinee (Moderna)                              2\n",
       "B-cells; SARS-CoV2 Human Vaccinee (Pfizer)                               2\n",
       "B-cells; Unvaccinated SARS-CoV2_WT Human Patient                         2\n",
       "B-cells; SARS-CoV2 Human Vaccinee + Multiple Infection                   1\n",
       "B-cells; SARS-CoV2 Human Patient plus vaccinated mRNA-1273 vaccine       1\n",
       "B-cells (Zika Human Patient)                                             1\n",
       "B-cells; SARS-CoV2 Human Vaccinees (BNT162b2)                            1\n",
       "Name: Origin, dtype: int64"
      ]
     },
     "execution_count": 80,
     "metadata": {},
     "output_type": "execute_result"
    }
   ],
   "source": [
    "cov_abdab_positives[\"Origin\"].value_counts()"
   ]
  },
  {
   "cell_type": "code",
   "execution_count": null,
   "metadata": {},
   "outputs": [],
   "source": []
  },
  {
   "cell_type": "code",
   "execution_count": null,
   "metadata": {},
   "outputs": [],
   "source": []
  },
  {
   "cell_type": "code",
   "execution_count": null,
   "metadata": {},
   "outputs": [],
   "source": []
  },
  {
   "cell_type": "code",
   "execution_count": 81,
   "metadata": {
    "tags": []
   },
   "outputs": [
    {
     "data": {
      "text/plain": [
       "S; RBD                                     4270\n",
       "S; Unk                                     1754\n",
       "S; NTD                                      374\n",
       "S; non-RBD                                  330\n",
       "S; S2                                       275\n",
       "N                                            38\n",
       "S; non-S1                                    33\n",
       "S; S1 non-RBD                                26\n",
       "S; S2 Stem Helix                             10\n",
       "S; S2' Cleavage Site/Fusion Peptide NTD       4\n",
       "Unknown                                       4\n",
       "S; S2 Fusion Peptide                          4\n",
       "S; S1                                         4\n",
       "S; Stem Helix                                 3\n",
       "S; S1/S2                                      2\n",
       "S; NTD-SD1                                    2\n",
       "TBC                                           2\n",
       "S; RBD/non-RBD                                2\n",
       "S; SD1                                        1\n",
       "S: NTD                                        1\n",
       "S: RBD                                        1\n",
       "Name: Protein + Epitope, dtype: int64"
      ]
     },
     "execution_count": 81,
     "metadata": {},
     "output_type": "execute_result"
    }
   ],
   "source": [
    "cov_abdab_positives[\"Protein + Epitope\"].value_counts()"
   ]
  },
  {
   "cell_type": "code",
   "execution_count": 82,
   "metadata": {
    "tags": []
   },
   "outputs": [
    {
     "data": {
      "text/plain": [
       "SARS-CoV2_WT                                                                                                                                                                                                                                          4511\n",
       "SARS-CoV1;SARS-CoV2_WT                                                                                                                                                                                                                                 359\n",
       "SARS-CoV2_WT;SARS-CoV1                                                                                                                                                                                                                                 228\n",
       "SARS-CoV2_WT;SARS-CoV2_Omicron-BA1;SARS-CoV2_Beta;SARS-CoV2_Delta;SARS-CoV2_Omicron-BA2;SARS-CoV1                                                                                                                                                      200\n",
       "SARS-CoV2_WT;SARS-CoV2_Omicron-BA1;SARS-CoV2_Omicron-BA1.1;SARS-CoV2_Omicron-BA3;SARS-CoV2_Omicron-BA2;SARS-CoV2_Omicron-BA2.12.1;SARS-CoV2_Omicron-BA2.13;SARS-CoV2_Omicron-BA4/BA5;SARS-CoV2_Omicron-BA2.75;SARS-CoV2_Omicron-BA5                    141\n",
       "                                                                                                                                                                                                                                                      ... \n",
       "SARS-CoV2_WT;SARS-CoV2_Alpha;SARS-CoV2_Beta;SARS-CoV2_Gamma;SARS-CoV2-Delta;SARS-CoV2_Omicron-BA1;SARS-CoV2_Omicron-BA2.12.1;SARS-CoV2_Omicron-BA4/5;SARS-CoV2_Omicron-BQ1.1;SARS-CoV2_Omicron-XBB;SARS-CoV2_Omicron-XBB1.5;SARS-CoV1;Pang17;WIV1        1\n",
       "SARS-CoV2_WT;SARS-CoV2_Alpha;SARS-CoV2_Beta;SARS-CoV2_Gamma;SARS-CoV2-Delta;SARS-CoV2_Omicron-BA1;SARS-CoV1;Pang17;WIV1                                                                                                                                  1\n",
       "SARS-CoV2_WT;SARS-CoV2_Alpha;SARS-CoV2_Beta;SARS-CoV2_Gamma;SARS-CoV2-Delta;SARS-CoV2_Omicron-BA1;SARS-CoV2_Omicron-BA2.12.1;SARS-CoV2_Omicron-XBB;SARS-CoV2_Omicron-XBB1.5;SARS-CoV1;Pang17;WIV1                                                        1\n",
       "SARS-CoV2_WT;SARS-CoV2_Alpha;SARS-CoV2_Beta;SARS-CoV2_Gamma;SARS-CoV2-Delta;SARS-CoV2_Omicron-BA1;SARS-CoV2_Omicron-BA2;SARS-CoV2_Omicron-BA2.12.1;SARS-CoV2_Omicron-BA2.75;SARS-CoV2_Omicron-BA4/5;SARS-CoV2_Omicron-XBB1.5;SARS-CoV1;Pang17;WIV1       1\n",
       "SARS-CoV2_WT;SARS-CoV2_Omicron-BA1;SARS-CoV2_Omicron-BA2.75;SARS-CoV2_Omicron-BA5;SARS-CoV2_Omicron-XBB                                                                                                                                                  1\n",
       "Name: Binds to, Length: 468, dtype: int64"
      ]
     },
     "execution_count": 82,
     "metadata": {},
     "output_type": "execute_result"
    }
   ],
   "source": [
    "cov_abdab_positives[\"Binds to\"].value_counts()"
   ]
  },
  {
   "cell_type": "code",
   "execution_count": 83,
   "metadata": {
    "tags": []
   },
   "outputs": [
    {
     "data": {
      "text/plain": [
       "SARS-CoV1                                                                     627\n",
       "229E;HKU1;NL63;OC43                                                            70\n",
       "SARS-CoV1;MERS-CoV;HKU1;OC43                                                   50\n",
       "229E;HKU1;NL63;OC43;SARS-CoV1                                                  49\n",
       "SARS-CoV1;MERS-CoV;OC43;HKU1;NL63                                              46\n",
       "SARS-CoV1;MERS-CoV                                                             43\n",
       "MERS-CoV;HKU1;OC43                                                             40\n",
       "MERS-CoV                                                                       39\n",
       "OC43                                                                           36\n",
       "OC43;HKU1                                                                      34\n",
       "229E;NL63;OC43                                                                 29\n",
       "SARS-CoV1_Omicron-BA2                                                          16\n",
       "GX/P2V/2017                                                                    11\n",
       "SARS-CoV1;MERS-CoV;OC43;HKU1;NL63;229E                                          7\n",
       "229E;NL63                                                                       6\n",
       "SARS-CoV1;GX/P2V/2017                                                           5\n",
       "NL63;OC43                                                                       5\n",
       "HKU1;NL63                                                                       5\n",
       "MERS-CoV;OC43;HKU1;NL63;229E                                                    5\n",
       "RaTG13;SHC014;SARS-CoV1;WIV-1                                                   4\n",
       "SHC014;SARS-CoV1;WIV-1                                                          4\n",
       "229E;OC43                                                                       4\n",
       "NL63;229E;H1-HA                                                                 3\n",
       "SARS-CoV                                                                        3\n",
       "HKU1                                                                            2\n",
       "229E;HKU1;NL63                                                                  2\n",
       "MERS-CoV;OC43;NL63;229E                                                         2\n",
       "229E;NL63;OC43;SARS-CoV1                                                        2\n",
       "HCoV-HKU1;HCoV-OC43                                                             2\n",
       "NL63;OC43;SARS-CoV1                                                             1\n",
       "Rf1;RmYN02;Yun11;Rs4081;pang17;BM48-31                                          1\n",
       "HKU1;NL63;OC43                                                                  1\n",
       "MERS-CoV;NL63;229E                                                              1\n",
       "SARS-CoV;WIV-1;SHC014;Rf1;RmYN02;Yun11;Rs4081;pang17;RaTG13;BM48-31;BtKY72      1\n",
       "HKU1;OC43                                                                       1\n",
       "MERS-CoV;OC43;NL63;229E;RsSGC014                                                1\n",
       "BM-4831;Rf1;RmYN02                                                              1\n",
       "SHC014                                                                          1\n",
       "Name: Doesn't Bind to, dtype: int64"
      ]
     },
     "execution_count": 83,
     "metadata": {},
     "output_type": "execute_result"
    }
   ],
   "source": [
    "cov_abdab_positives[\"Doesn't Bind to\"].value_counts()"
   ]
  },
  {
   "cell_type": "code",
   "execution_count": 84,
   "metadata": {
    "tags": []
   },
   "outputs": [
    {
     "data": {
      "text/plain": [
       "SARS-CoV2_WT                                                                                                                                                                                             971\n",
       "SARS-CoV1;SARS-CoV2_WT                                                                                                                                                                                   264\n",
       "SARS-CoV1                                                                                                                                                                                                219\n",
       "SARS-CoV1;SARS-CoV2_Omicron-XBB                                                                                                                                                                          134\n",
       "SARS-CoV2_WT;SARS-CoV2_Gamma                                                                                                                                                                              91\n",
       "                                                                                                                                                                                                        ... \n",
       "SARS-CoV1;RaTG13;SARS-CoV2_Omicron-XBB                                                                                                                                                                     1\n",
       "SARS-CoV2_Omicron-BA2;SARS-CoV2_Omicron-BA2.75;SARS-CoV2_Omicron-XBB;SARS-CoV2_Omicron-XBB1.5                                                                                                              1\n",
       "SARS-CoV2_Omicron-BA1;SARS-CoV2_Omicron-BA2;SARS-CoV2_Omicron-BA2.12.1;SARS-CoV2_Omicron-BA2.75;SARS-CoV2_Omicron-BA4/5;SARS-CoV2_Omicron-BQ1.1;SARS-CoV2_Omicron-XBB;SARS-CoV2_Omicron-XBB1.5;Pang17      1\n",
       "SARS-CoV2_Omicron-BA2;SARS-CoV2_Omicron-BQ1.1;SARS-CoV2_Omicron-XBB                                                                                                                                        1\n",
       "SARS-CoV2_Omicron-BA1;SARS-CoV2_Omicron-BA2.75;SARS-CoV2_Omicron-BA5;SARS-CoV2_Omicron-XBB                                                                                                                 1\n",
       "Name: Not Neutralising Vs, Length: 348, dtype: int64"
      ]
     },
     "execution_count": 84,
     "metadata": {},
     "output_type": "execute_result"
    }
   ],
   "source": [
    "# Notice we have not required positives to be neutralizing against SARS-CoV-2.\n",
    "cov_abdab_positives[\"Not Neutralising Vs\"].value_counts()"
   ]
  },
  {
   "cell_type": "code",
   "execution_count": null,
   "metadata": {},
   "outputs": [],
   "source": []
  },
  {
   "cell_type": "markdown",
   "metadata": {},
   "source": [
    "# Combine positives and negatives, then export"
   ]
  },
  {
   "cell_type": "code",
   "execution_count": 85,
   "metadata": {
    "tags": []
   },
   "outputs": [
    {
     "data": {
      "text/html": [
       "<div>\n",
       "<style scoped>\n",
       "    .dataframe tbody tr th:only-of-type {\n",
       "        vertical-align: middle;\n",
       "    }\n",
       "\n",
       "    .dataframe tbody tr th {\n",
       "        vertical-align: top;\n",
       "    }\n",
       "\n",
       "    .dataframe thead th {\n",
       "        text-align: right;\n",
       "    }\n",
       "</style>\n",
       "<table border=\"1\" class=\"dataframe\">\n",
       "  <thead>\n",
       "    <tr style=\"text-align: right;\">\n",
       "      <th></th>\n",
       "      <th>CDRH3</th>\n",
       "      <th>j_gene</th>\n",
       "      <th>v_gene</th>\n",
       "      <th>VHorVHH</th>\n",
       "      <th>Binds to</th>\n",
       "      <th>Doesn't Bind to</th>\n",
       "      <th>Neutralising Vs</th>\n",
       "      <th>Not Neutralising Vs</th>\n",
       "      <th>Protein + Epitope</th>\n",
       "      <th>Origin</th>\n",
       "      <th>Sources</th>\n",
       "      <th>Status</th>\n",
       "    </tr>\n",
       "  </thead>\n",
       "  <tbody>\n",
       "    <tr>\n",
       "      <th>0</th>\n",
       "      <td>ARDLVVYGLDY</td>\n",
       "      <td>IGHJ4</td>\n",
       "      <td>IGHV3-53</td>\n",
       "      <td>EVQLVESGGGLIQPGGSLRLSCAASGFIVSRNYMNWVRQAPGKGLE...</td>\n",
       "      <td>SARS-CoV2_WT;SARS-CoV2_Alpha;SARS-CoV2_Beta;SA...</td>\n",
       "      <td>NaN</td>\n",
       "      <td>SARS-CoV2_WT;SARS-CoV2_Alpha;SARS-CoV2_Beta;SA...</td>\n",
       "      <td>NaN</td>\n",
       "      <td>S; RBD</td>\n",
       "      <td>B-cells; SARS-CoV2_WT Convalescent Patients</td>\n",
       "      <td>Kiyomi Shitaoka et al., 2023 (https://www.natu...</td>\n",
       "      <td>Positive</td>\n",
       "    </tr>\n",
       "    <tr>\n",
       "      <th>1</th>\n",
       "      <td>AREFDLTKIIMVPPY</td>\n",
       "      <td>IGHJ4</td>\n",
       "      <td>IGHV3-11</td>\n",
       "      <td>QVQMVESGGGLVRPGGSLRLSCAASGFTFSDYYMSWIRQAPGKGLE...</td>\n",
       "      <td>SARS-CoV2_WT;SARS-CoV2_Alpha;SARS-CoV2_Delta;S...</td>\n",
       "      <td>NaN</td>\n",
       "      <td>SARS-CoV2_WT;SARS-CoV2_Alpha;SARS-CoV2_Delta;S...</td>\n",
       "      <td>SARS-CoV2_Beta;SARS-CoV2_Omicron-BA1;SARS-CoV2...</td>\n",
       "      <td>S; RBD</td>\n",
       "      <td>B-cells; SARS-CoV2_WT Convalescent Patients</td>\n",
       "      <td>Kiyomi Shitaoka et al., 2023 (https://www.natu...</td>\n",
       "      <td>Positive</td>\n",
       "    </tr>\n",
       "    <tr>\n",
       "      <th>2</th>\n",
       "      <td>ARDSSGWHWGVPFDY</td>\n",
       "      <td>IGHJ4</td>\n",
       "      <td>IGHV3-30</td>\n",
       "      <td>QVQLVESGGGVVQPGRSLRLSCASSGFTFSTYHMHWVRQPPGKGLE...</td>\n",
       "      <td>SARS-CoV2_WT;SARS-CoV2_Alpha;SARS-CoV2_Beta;SA...</td>\n",
       "      <td>NaN</td>\n",
       "      <td>SARS-CoV2_WT;SARS-CoV2_Alpha;SARS-CoV2_Beta;SA...</td>\n",
       "      <td>NaN</td>\n",
       "      <td>S; RBD</td>\n",
       "      <td>B-cells; SARS-CoV2_WT Vaccinee (BBIBP-CoV)</td>\n",
       "      <td>Yubin Liu et al., 2023 (https://www.nature.com...</td>\n",
       "      <td>Positive</td>\n",
       "    </tr>\n",
       "    <tr>\n",
       "      <th>3</th>\n",
       "      <td>VRGSGGIHDAFDI</td>\n",
       "      <td>IGHJ3</td>\n",
       "      <td>IGHV3-53</td>\n",
       "      <td>EVQLVESGGGLIQPGGSLRLSCAVSGFTVSRMSWVRQAPGKGLECV...</td>\n",
       "      <td>SARS-CoV2_WT;SARS-CoV2_Alpha;SARS-CoV2_Beta;SA...</td>\n",
       "      <td>NaN</td>\n",
       "      <td>SARS-CoV2_WT;SARS-CoV2_Alpha;SARS-CoV2_Beta;SA...</td>\n",
       "      <td>SARS-CoV2_Omicron-BA2.75.2;SARS-CoV2-Omicron-B...</td>\n",
       "      <td>S; RBD</td>\n",
       "      <td>B-cells; SARS-CoV2_WT Vaccinee (BBIBP-CoV)</td>\n",
       "      <td>Yubin Liu et al., 2023 (https://www.nature.com...</td>\n",
       "      <td>Positive</td>\n",
       "    </tr>\n",
       "    <tr>\n",
       "      <th>4</th>\n",
       "      <td>ARVDPRYEGFDY</td>\n",
       "      <td>IGHJ4</td>\n",
       "      <td>IGHV3-53</td>\n",
       "      <td>EVQLVESGGGLIQPGGSLRLSCAASEFIVSRNYMSWVRQAPGKGLE...</td>\n",
       "      <td>SARS-CoV2_WT;SARS-CoV2_Alpha;SARS-CoV2_Beta;SA...</td>\n",
       "      <td>NaN</td>\n",
       "      <td>SARS-CoV2_WT;SARS-CoV2_Alpha;SARS-CoV2_Beta;SA...</td>\n",
       "      <td>SARS-CoV2_Omicron-BA1;SARS-CoV2_Omicron-BA2;SA...</td>\n",
       "      <td>S; RBD</td>\n",
       "      <td>B-cells; SARS-CoV2_WT Vaccinee (BBIBP-CoV)</td>\n",
       "      <td>Yubin Liu et al., 2023 (https://www.nature.com...</td>\n",
       "      <td>Positive</td>\n",
       "    </tr>\n",
       "    <tr>\n",
       "      <th>...</th>\n",
       "      <td>...</td>\n",
       "      <td>...</td>\n",
       "      <td>...</td>\n",
       "      <td>...</td>\n",
       "      <td>...</td>\n",
       "      <td>...</td>\n",
       "      <td>...</td>\n",
       "      <td>...</td>\n",
       "      <td>...</td>\n",
       "      <td>...</td>\n",
       "      <td>...</td>\n",
       "      <td>...</td>\n",
       "    </tr>\n",
       "    <tr>\n",
       "      <th>7737</th>\n",
       "      <td>ARVQDIVIVPAVYGMDV</td>\n",
       "      <td>IGHJ6</td>\n",
       "      <td>IGHV1-69</td>\n",
       "      <td>QVQLVQSGAEVKKPGSSVKVSCKTSGGTFVNFNSYAISWVRQAPGQ...</td>\n",
       "      <td>SARS-CoV1</td>\n",
       "      <td>SARS-CoV2_WT;MERS-CoV</td>\n",
       "      <td>NaN</td>\n",
       "      <td>NaN</td>\n",
       "      <td>S; non-RBD</td>\n",
       "      <td>B-cells; SARS-CoV1 Human Patient</td>\n",
       "      <td>Dapeng Li et al., 2021 (https://www.biorxiv.or...</td>\n",
       "      <td>Negative</td>\n",
       "    </tr>\n",
       "    <tr>\n",
       "      <th>7738</th>\n",
       "      <td>ARMGPYGSGSFDY</td>\n",
       "      <td>IGHJ4</td>\n",
       "      <td>IGHV3-11</td>\n",
       "      <td>EVQLVESGGGVVNPGGSLRLSCAGSGFTFSDYYMGWIRQAPGKGLE...</td>\n",
       "      <td>SARS-CoV1 (weak)</td>\n",
       "      <td>229E;HKU1;NL63;OC43;SARS-CoV2_WT</td>\n",
       "      <td>NaN</td>\n",
       "      <td>NaN</td>\n",
       "      <td>S; Unk</td>\n",
       "      <td>B-cells; SARS-CoV1 Human Patient</td>\n",
       "      <td>Anna Wec et al., 2020 (https://science.science...</td>\n",
       "      <td>Negative</td>\n",
       "    </tr>\n",
       "    <tr>\n",
       "      <th>7739</th>\n",
       "      <td>ARHPSSIFRGTVFTPYYFDY</td>\n",
       "      <td>IGHJ4</td>\n",
       "      <td>IGHV4-59</td>\n",
       "      <td>QVQLQESGPGLVKPSETLSLTCTVSGGSVSDTPFYWGWIRQPPGKG...</td>\n",
       "      <td>SARS-CoV1 (weak)</td>\n",
       "      <td>229E;HKU1;NL63;OC43;SARS-CoV2_WT</td>\n",
       "      <td>NaN</td>\n",
       "      <td>NaN</td>\n",
       "      <td>S; Unk</td>\n",
       "      <td>B-cells; SARS-CoV1 Human Patient</td>\n",
       "      <td>Anna Wec et al., 2020 (https://science.science...</td>\n",
       "      <td>Negative</td>\n",
       "    </tr>\n",
       "    <tr>\n",
       "      <th>7740</th>\n",
       "      <td>VTQRDNSRDYFPHYFHDMDV</td>\n",
       "      <td>IGHJ6</td>\n",
       "      <td>IGHV3-30</td>\n",
       "      <td>QAQLVESGGALVQPGRSLRLSCAASGFTFRNYAMHWVRQAPATGLQ...</td>\n",
       "      <td>SARS-CoV1</td>\n",
       "      <td>SARS-CoV2_WT</td>\n",
       "      <td>SARS-CoV1</td>\n",
       "      <td>SARS-CoV2_WT</td>\n",
       "      <td>S; RBD</td>\n",
       "      <td>B-cells; SARS-CoV1 Human Patient</td>\n",
       "      <td>Dora Pinto et al., 2020 (https://www.nature.co...</td>\n",
       "      <td>Negative</td>\n",
       "    </tr>\n",
       "    <tr>\n",
       "      <th>7741</th>\n",
       "      <td>ARSGSYGDRTFDH</td>\n",
       "      <td>IGHJ4</td>\n",
       "      <td>IGHV4-59</td>\n",
       "      <td>QVQLQESGPGLVKPSETLSLTCIVSDDSINSYYWSWIRQPPGRGLE...</td>\n",
       "      <td>SARS-CoV</td>\n",
       "      <td>SARS-CoV2_WT</td>\n",
       "      <td>NaN</td>\n",
       "      <td>SARS-CoV2_WT;SARS-CoV</td>\n",
       "      <td>S; S2</td>\n",
       "      <td>B-cells; SARS-CoV2_WT Human Patient</td>\n",
       "      <td>Andrea Shiakolas et al., 2022 (https://www.nat...</td>\n",
       "      <td>Negative</td>\n",
       "    </tr>\n",
       "  </tbody>\n",
       "</table>\n",
       "<p>7742 rows × 12 columns</p>\n",
       "</div>"
      ],
      "text/plain": [
       "                     CDRH3 j_gene    v_gene  \\\n",
       "0              ARDLVVYGLDY  IGHJ4  IGHV3-53   \n",
       "1          AREFDLTKIIMVPPY  IGHJ4  IGHV3-11   \n",
       "2          ARDSSGWHWGVPFDY  IGHJ4  IGHV3-30   \n",
       "3            VRGSGGIHDAFDI  IGHJ3  IGHV3-53   \n",
       "4             ARVDPRYEGFDY  IGHJ4  IGHV3-53   \n",
       "...                    ...    ...       ...   \n",
       "7737     ARVQDIVIVPAVYGMDV  IGHJ6  IGHV1-69   \n",
       "7738         ARMGPYGSGSFDY  IGHJ4  IGHV3-11   \n",
       "7739  ARHPSSIFRGTVFTPYYFDY  IGHJ4  IGHV4-59   \n",
       "7740  VTQRDNSRDYFPHYFHDMDV  IGHJ6  IGHV3-30   \n",
       "7741         ARSGSYGDRTFDH  IGHJ4  IGHV4-59   \n",
       "\n",
       "                                                VHorVHH  \\\n",
       "0     EVQLVESGGGLIQPGGSLRLSCAASGFIVSRNYMNWVRQAPGKGLE...   \n",
       "1     QVQMVESGGGLVRPGGSLRLSCAASGFTFSDYYMSWIRQAPGKGLE...   \n",
       "2     QVQLVESGGGVVQPGRSLRLSCASSGFTFSTYHMHWVRQPPGKGLE...   \n",
       "3     EVQLVESGGGLIQPGGSLRLSCAVSGFTVSRMSWVRQAPGKGLECV...   \n",
       "4     EVQLVESGGGLIQPGGSLRLSCAASEFIVSRNYMSWVRQAPGKGLE...   \n",
       "...                                                 ...   \n",
       "7737  QVQLVQSGAEVKKPGSSVKVSCKTSGGTFVNFNSYAISWVRQAPGQ...   \n",
       "7738  EVQLVESGGGVVNPGGSLRLSCAGSGFTFSDYYMGWIRQAPGKGLE...   \n",
       "7739  QVQLQESGPGLVKPSETLSLTCTVSGGSVSDTPFYWGWIRQPPGKG...   \n",
       "7740  QAQLVESGGALVQPGRSLRLSCAASGFTFRNYAMHWVRQAPATGLQ...   \n",
       "7741  QVQLQESGPGLVKPSETLSLTCIVSDDSINSYYWSWIRQPPGRGLE...   \n",
       "\n",
       "                                               Binds to  \\\n",
       "0     SARS-CoV2_WT;SARS-CoV2_Alpha;SARS-CoV2_Beta;SA...   \n",
       "1     SARS-CoV2_WT;SARS-CoV2_Alpha;SARS-CoV2_Delta;S...   \n",
       "2     SARS-CoV2_WT;SARS-CoV2_Alpha;SARS-CoV2_Beta;SA...   \n",
       "3     SARS-CoV2_WT;SARS-CoV2_Alpha;SARS-CoV2_Beta;SA...   \n",
       "4     SARS-CoV2_WT;SARS-CoV2_Alpha;SARS-CoV2_Beta;SA...   \n",
       "...                                                 ...   \n",
       "7737                                          SARS-CoV1   \n",
       "7738                                   SARS-CoV1 (weak)   \n",
       "7739                                   SARS-CoV1 (weak)   \n",
       "7740                                          SARS-CoV1   \n",
       "7741                                           SARS-CoV   \n",
       "\n",
       "                       Doesn't Bind to  \\\n",
       "0                                  NaN   \n",
       "1                                  NaN   \n",
       "2                                  NaN   \n",
       "3                                  NaN   \n",
       "4                                  NaN   \n",
       "...                                ...   \n",
       "7737             SARS-CoV2_WT;MERS-CoV   \n",
       "7738  229E;HKU1;NL63;OC43;SARS-CoV2_WT   \n",
       "7739  229E;HKU1;NL63;OC43;SARS-CoV2_WT   \n",
       "7740                      SARS-CoV2_WT   \n",
       "7741                      SARS-CoV2_WT   \n",
       "\n",
       "                                        Neutralising Vs  \\\n",
       "0     SARS-CoV2_WT;SARS-CoV2_Alpha;SARS-CoV2_Beta;SA...   \n",
       "1     SARS-CoV2_WT;SARS-CoV2_Alpha;SARS-CoV2_Delta;S...   \n",
       "2     SARS-CoV2_WT;SARS-CoV2_Alpha;SARS-CoV2_Beta;SA...   \n",
       "3     SARS-CoV2_WT;SARS-CoV2_Alpha;SARS-CoV2_Beta;SA...   \n",
       "4     SARS-CoV2_WT;SARS-CoV2_Alpha;SARS-CoV2_Beta;SA...   \n",
       "...                                                 ...   \n",
       "7737                                                NaN   \n",
       "7738                                                NaN   \n",
       "7739                                                NaN   \n",
       "7740                                          SARS-CoV1   \n",
       "7741                                                NaN   \n",
       "\n",
       "                                    Not Neutralising Vs Protein + Epitope  \\\n",
       "0                                                   NaN            S; RBD   \n",
       "1     SARS-CoV2_Beta;SARS-CoV2_Omicron-BA1;SARS-CoV2...            S; RBD   \n",
       "2                                                   NaN            S; RBD   \n",
       "3     SARS-CoV2_Omicron-BA2.75.2;SARS-CoV2-Omicron-B...            S; RBD   \n",
       "4     SARS-CoV2_Omicron-BA1;SARS-CoV2_Omicron-BA2;SA...            S; RBD   \n",
       "...                                                 ...               ...   \n",
       "7737                                                NaN        S; non-RBD   \n",
       "7738                                                NaN            S; Unk   \n",
       "7739                                                NaN            S; Unk   \n",
       "7740                                       SARS-CoV2_WT            S; RBD   \n",
       "7741                              SARS-CoV2_WT;SARS-CoV             S; S2   \n",
       "\n",
       "                                           Origin  \\\n",
       "0     B-cells; SARS-CoV2_WT Convalescent Patients   \n",
       "1     B-cells; SARS-CoV2_WT Convalescent Patients   \n",
       "2      B-cells; SARS-CoV2_WT Vaccinee (BBIBP-CoV)   \n",
       "3      B-cells; SARS-CoV2_WT Vaccinee (BBIBP-CoV)   \n",
       "4      B-cells; SARS-CoV2_WT Vaccinee (BBIBP-CoV)   \n",
       "...                                           ...   \n",
       "7737             B-cells; SARS-CoV1 Human Patient   \n",
       "7738             B-cells; SARS-CoV1 Human Patient   \n",
       "7739             B-cells; SARS-CoV1 Human Patient   \n",
       "7740             B-cells; SARS-CoV1 Human Patient   \n",
       "7741          B-cells; SARS-CoV2_WT Human Patient   \n",
       "\n",
       "                                                Sources    Status  \n",
       "0     Kiyomi Shitaoka et al., 2023 (https://www.natu...  Positive  \n",
       "1     Kiyomi Shitaoka et al., 2023 (https://www.natu...  Positive  \n",
       "2     Yubin Liu et al., 2023 (https://www.nature.com...  Positive  \n",
       "3     Yubin Liu et al., 2023 (https://www.nature.com...  Positive  \n",
       "4     Yubin Liu et al., 2023 (https://www.nature.com...  Positive  \n",
       "...                                                 ...       ...  \n",
       "7737  Dapeng Li et al., 2021 (https://www.biorxiv.or...  Negative  \n",
       "7738  Anna Wec et al., 2020 (https://science.science...  Negative  \n",
       "7739  Anna Wec et al., 2020 (https://science.science...  Negative  \n",
       "7740  Dora Pinto et al., 2020 (https://www.nature.co...  Negative  \n",
       "7741  Andrea Shiakolas et al., 2022 (https://www.nat...  Negative  \n",
       "\n",
       "[7742 rows x 12 columns]"
      ]
     },
     "execution_count": 85,
     "metadata": {},
     "output_type": "execute_result"
    }
   ],
   "source": [
    "cov_abdab_export = (\n",
    "    pd.concat(\n",
    "        [\n",
    "            cov_abdab_positives.assign(Status=\"Positive\"),\n",
    "            cov_abdab_negatives.assign(Status=\"Negative\"),\n",
    "        ],\n",
    "        axis=0,\n",
    "    )[\n",
    "        [\n",
    "            \"CDRH3\",\n",
    "            \"Heavy J Gene\",\n",
    "            \"Heavy V Gene\",\n",
    "            \"VHorVHH\",\n",
    "            \"Binds to\",\n",
    "            \"Doesn't Bind to\",\n",
    "            \"Neutralising Vs\",\n",
    "            \"Not Neutralising Vs\",\n",
    "            \"Protein + Epitope\",\n",
    "            \"Origin\",\n",
    "            \"Sources\",\n",
    "            \"Status\",\n",
    "        ]\n",
    "    ]\n",
    "    .rename(columns={\"Heavy J Gene\": \"j_gene\", \"Heavy V Gene\": \"v_gene\"})\n",
    "    .reset_index(drop=True)\n",
    ")\n",
    "cov_abdab_export"
   ]
  },
  {
   "cell_type": "code",
   "execution_count": 86,
   "metadata": {},
   "outputs": [
    {
     "data": {
      "text/plain": [
       "Positive    7142\n",
       "Negative     600\n",
       "Name: Status, dtype: int64"
      ]
     },
     "execution_count": 86,
     "metadata": {},
     "output_type": "execute_result"
    }
   ],
   "source": [
    "cov_abdab_export[\"Status\"].value_counts()"
   ]
  },
  {
   "cell_type": "code",
   "execution_count": null,
   "metadata": {},
   "outputs": [],
   "source": []
  },
  {
   "cell_type": "code",
   "execution_count": null,
   "metadata": {},
   "outputs": [],
   "source": []
  },
  {
   "cell_type": "markdown",
   "metadata": {},
   "source": [
    "CDRH3 already has `C` prefix and `W` suffix removed - consistent with our internal data."
   ]
  },
  {
   "cell_type": "code",
   "execution_count": null,
   "metadata": {},
   "outputs": [],
   "source": []
  },
  {
   "cell_type": "code",
   "execution_count": 87,
   "metadata": {
    "tags": []
   },
   "outputs": [],
   "source": [
    "# compute cdr3_aa_sequence_trim_len"
   ]
  },
  {
   "cell_type": "code",
   "execution_count": 88,
   "metadata": {
    "tags": []
   },
   "outputs": [
    {
     "data": {
      "text/html": [
       "<div>\n",
       "<style scoped>\n",
       "    .dataframe tbody tr th:only-of-type {\n",
       "        vertical-align: middle;\n",
       "    }\n",
       "\n",
       "    .dataframe tbody tr th {\n",
       "        vertical-align: top;\n",
       "    }\n",
       "\n",
       "    .dataframe thead th {\n",
       "        text-align: right;\n",
       "    }\n",
       "</style>\n",
       "<table border=\"1\" class=\"dataframe\">\n",
       "  <thead>\n",
       "    <tr style=\"text-align: right;\">\n",
       "      <th></th>\n",
       "      <th>CDRH3</th>\n",
       "      <th>j_gene</th>\n",
       "      <th>v_gene</th>\n",
       "      <th>VHorVHH</th>\n",
       "      <th>Binds to</th>\n",
       "      <th>Doesn't Bind to</th>\n",
       "      <th>Neutralising Vs</th>\n",
       "      <th>Not Neutralising Vs</th>\n",
       "      <th>Protein + Epitope</th>\n",
       "      <th>Origin</th>\n",
       "      <th>Sources</th>\n",
       "      <th>Status</th>\n",
       "      <th>cdr3_seq_aa_q_trim</th>\n",
       "      <th>cdr3_aa_sequence_trim_len</th>\n",
       "    </tr>\n",
       "  </thead>\n",
       "  <tbody>\n",
       "    <tr>\n",
       "      <th>0</th>\n",
       "      <td>ARDLVVYGLDY</td>\n",
       "      <td>IGHJ4</td>\n",
       "      <td>IGHV3-53</td>\n",
       "      <td>EVQLVESGGGLIQPGGSLRLSCAASGFIVSRNYMNWVRQAPGKGLE...</td>\n",
       "      <td>SARS-CoV2_WT;SARS-CoV2_Alpha;SARS-CoV2_Beta;SA...</td>\n",
       "      <td>NaN</td>\n",
       "      <td>SARS-CoV2_WT;SARS-CoV2_Alpha;SARS-CoV2_Beta;SA...</td>\n",
       "      <td>NaN</td>\n",
       "      <td>S; RBD</td>\n",
       "      <td>B-cells; SARS-CoV2_WT Convalescent Patients</td>\n",
       "      <td>Kiyomi Shitaoka et al., 2023 (https://www.natu...</td>\n",
       "      <td>Positive</td>\n",
       "      <td>ARDLVVYGLDY</td>\n",
       "      <td>11</td>\n",
       "    </tr>\n",
       "    <tr>\n",
       "      <th>1</th>\n",
       "      <td>AREFDLTKIIMVPPY</td>\n",
       "      <td>IGHJ4</td>\n",
       "      <td>IGHV3-11</td>\n",
       "      <td>QVQMVESGGGLVRPGGSLRLSCAASGFTFSDYYMSWIRQAPGKGLE...</td>\n",
       "      <td>SARS-CoV2_WT;SARS-CoV2_Alpha;SARS-CoV2_Delta;S...</td>\n",
       "      <td>NaN</td>\n",
       "      <td>SARS-CoV2_WT;SARS-CoV2_Alpha;SARS-CoV2_Delta;S...</td>\n",
       "      <td>SARS-CoV2_Beta;SARS-CoV2_Omicron-BA1;SARS-CoV2...</td>\n",
       "      <td>S; RBD</td>\n",
       "      <td>B-cells; SARS-CoV2_WT Convalescent Patients</td>\n",
       "      <td>Kiyomi Shitaoka et al., 2023 (https://www.natu...</td>\n",
       "      <td>Positive</td>\n",
       "      <td>AREFDLTKIIMVPPY</td>\n",
       "      <td>15</td>\n",
       "    </tr>\n",
       "    <tr>\n",
       "      <th>2</th>\n",
       "      <td>ARDSSGWHWGVPFDY</td>\n",
       "      <td>IGHJ4</td>\n",
       "      <td>IGHV3-30</td>\n",
       "      <td>QVQLVESGGGVVQPGRSLRLSCASSGFTFSTYHMHWVRQPPGKGLE...</td>\n",
       "      <td>SARS-CoV2_WT;SARS-CoV2_Alpha;SARS-CoV2_Beta;SA...</td>\n",
       "      <td>NaN</td>\n",
       "      <td>SARS-CoV2_WT;SARS-CoV2_Alpha;SARS-CoV2_Beta;SA...</td>\n",
       "      <td>NaN</td>\n",
       "      <td>S; RBD</td>\n",
       "      <td>B-cells; SARS-CoV2_WT Vaccinee (BBIBP-CoV)</td>\n",
       "      <td>Yubin Liu et al., 2023 (https://www.nature.com...</td>\n",
       "      <td>Positive</td>\n",
       "      <td>ARDSSGWHWGVPFDY</td>\n",
       "      <td>15</td>\n",
       "    </tr>\n",
       "    <tr>\n",
       "      <th>3</th>\n",
       "      <td>VRGSGGIHDAFDI</td>\n",
       "      <td>IGHJ3</td>\n",
       "      <td>IGHV3-53</td>\n",
       "      <td>EVQLVESGGGLIQPGGSLRLSCAVSGFTVSRMSWVRQAPGKGLECV...</td>\n",
       "      <td>SARS-CoV2_WT;SARS-CoV2_Alpha;SARS-CoV2_Beta;SA...</td>\n",
       "      <td>NaN</td>\n",
       "      <td>SARS-CoV2_WT;SARS-CoV2_Alpha;SARS-CoV2_Beta;SA...</td>\n",
       "      <td>SARS-CoV2_Omicron-BA2.75.2;SARS-CoV2-Omicron-B...</td>\n",
       "      <td>S; RBD</td>\n",
       "      <td>B-cells; SARS-CoV2_WT Vaccinee (BBIBP-CoV)</td>\n",
       "      <td>Yubin Liu et al., 2023 (https://www.nature.com...</td>\n",
       "      <td>Positive</td>\n",
       "      <td>VRGSGGIHDAFDI</td>\n",
       "      <td>13</td>\n",
       "    </tr>\n",
       "    <tr>\n",
       "      <th>4</th>\n",
       "      <td>ARVDPRYEGFDY</td>\n",
       "      <td>IGHJ4</td>\n",
       "      <td>IGHV3-53</td>\n",
       "      <td>EVQLVESGGGLIQPGGSLRLSCAASEFIVSRNYMSWVRQAPGKGLE...</td>\n",
       "      <td>SARS-CoV2_WT;SARS-CoV2_Alpha;SARS-CoV2_Beta;SA...</td>\n",
       "      <td>NaN</td>\n",
       "      <td>SARS-CoV2_WT;SARS-CoV2_Alpha;SARS-CoV2_Beta;SA...</td>\n",
       "      <td>SARS-CoV2_Omicron-BA1;SARS-CoV2_Omicron-BA2;SA...</td>\n",
       "      <td>S; RBD</td>\n",
       "      <td>B-cells; SARS-CoV2_WT Vaccinee (BBIBP-CoV)</td>\n",
       "      <td>Yubin Liu et al., 2023 (https://www.nature.com...</td>\n",
       "      <td>Positive</td>\n",
       "      <td>ARVDPRYEGFDY</td>\n",
       "      <td>12</td>\n",
       "    </tr>\n",
       "    <tr>\n",
       "      <th>...</th>\n",
       "      <td>...</td>\n",
       "      <td>...</td>\n",
       "      <td>...</td>\n",
       "      <td>...</td>\n",
       "      <td>...</td>\n",
       "      <td>...</td>\n",
       "      <td>...</td>\n",
       "      <td>...</td>\n",
       "      <td>...</td>\n",
       "      <td>...</td>\n",
       "      <td>...</td>\n",
       "      <td>...</td>\n",
       "      <td>...</td>\n",
       "      <td>...</td>\n",
       "    </tr>\n",
       "    <tr>\n",
       "      <th>7737</th>\n",
       "      <td>ARVQDIVIVPAVYGMDV</td>\n",
       "      <td>IGHJ6</td>\n",
       "      <td>IGHV1-69</td>\n",
       "      <td>QVQLVQSGAEVKKPGSSVKVSCKTSGGTFVNFNSYAISWVRQAPGQ...</td>\n",
       "      <td>SARS-CoV1</td>\n",
       "      <td>SARS-CoV2_WT;MERS-CoV</td>\n",
       "      <td>NaN</td>\n",
       "      <td>NaN</td>\n",
       "      <td>S; non-RBD</td>\n",
       "      <td>B-cells; SARS-CoV1 Human Patient</td>\n",
       "      <td>Dapeng Li et al., 2021 (https://www.biorxiv.or...</td>\n",
       "      <td>Negative</td>\n",
       "      <td>ARVQDIVIVPAVYGMDV</td>\n",
       "      <td>17</td>\n",
       "    </tr>\n",
       "    <tr>\n",
       "      <th>7738</th>\n",
       "      <td>ARMGPYGSGSFDY</td>\n",
       "      <td>IGHJ4</td>\n",
       "      <td>IGHV3-11</td>\n",
       "      <td>EVQLVESGGGVVNPGGSLRLSCAGSGFTFSDYYMGWIRQAPGKGLE...</td>\n",
       "      <td>SARS-CoV1 (weak)</td>\n",
       "      <td>229E;HKU1;NL63;OC43;SARS-CoV2_WT</td>\n",
       "      <td>NaN</td>\n",
       "      <td>NaN</td>\n",
       "      <td>S; Unk</td>\n",
       "      <td>B-cells; SARS-CoV1 Human Patient</td>\n",
       "      <td>Anna Wec et al., 2020 (https://science.science...</td>\n",
       "      <td>Negative</td>\n",
       "      <td>ARMGPYGSGSFDY</td>\n",
       "      <td>13</td>\n",
       "    </tr>\n",
       "    <tr>\n",
       "      <th>7739</th>\n",
       "      <td>ARHPSSIFRGTVFTPYYFDY</td>\n",
       "      <td>IGHJ4</td>\n",
       "      <td>IGHV4-59</td>\n",
       "      <td>QVQLQESGPGLVKPSETLSLTCTVSGGSVSDTPFYWGWIRQPPGKG...</td>\n",
       "      <td>SARS-CoV1 (weak)</td>\n",
       "      <td>229E;HKU1;NL63;OC43;SARS-CoV2_WT</td>\n",
       "      <td>NaN</td>\n",
       "      <td>NaN</td>\n",
       "      <td>S; Unk</td>\n",
       "      <td>B-cells; SARS-CoV1 Human Patient</td>\n",
       "      <td>Anna Wec et al., 2020 (https://science.science...</td>\n",
       "      <td>Negative</td>\n",
       "      <td>ARHPSSIFRGTVFTPYYFDY</td>\n",
       "      <td>20</td>\n",
       "    </tr>\n",
       "    <tr>\n",
       "      <th>7740</th>\n",
       "      <td>VTQRDNSRDYFPHYFHDMDV</td>\n",
       "      <td>IGHJ6</td>\n",
       "      <td>IGHV3-30</td>\n",
       "      <td>QAQLVESGGALVQPGRSLRLSCAASGFTFRNYAMHWVRQAPATGLQ...</td>\n",
       "      <td>SARS-CoV1</td>\n",
       "      <td>SARS-CoV2_WT</td>\n",
       "      <td>SARS-CoV1</td>\n",
       "      <td>SARS-CoV2_WT</td>\n",
       "      <td>S; RBD</td>\n",
       "      <td>B-cells; SARS-CoV1 Human Patient</td>\n",
       "      <td>Dora Pinto et al., 2020 (https://www.nature.co...</td>\n",
       "      <td>Negative</td>\n",
       "      <td>VTQRDNSRDYFPHYFHDMDV</td>\n",
       "      <td>20</td>\n",
       "    </tr>\n",
       "    <tr>\n",
       "      <th>7741</th>\n",
       "      <td>ARSGSYGDRTFDH</td>\n",
       "      <td>IGHJ4</td>\n",
       "      <td>IGHV4-59</td>\n",
       "      <td>QVQLQESGPGLVKPSETLSLTCIVSDDSINSYYWSWIRQPPGRGLE...</td>\n",
       "      <td>SARS-CoV</td>\n",
       "      <td>SARS-CoV2_WT</td>\n",
       "      <td>NaN</td>\n",
       "      <td>SARS-CoV2_WT;SARS-CoV</td>\n",
       "      <td>S; S2</td>\n",
       "      <td>B-cells; SARS-CoV2_WT Human Patient</td>\n",
       "      <td>Andrea Shiakolas et al., 2022 (https://www.nat...</td>\n",
       "      <td>Negative</td>\n",
       "      <td>ARSGSYGDRTFDH</td>\n",
       "      <td>13</td>\n",
       "    </tr>\n",
       "  </tbody>\n",
       "</table>\n",
       "<p>7742 rows × 14 columns</p>\n",
       "</div>"
      ],
      "text/plain": [
       "                     CDRH3 j_gene    v_gene  \\\n",
       "0              ARDLVVYGLDY  IGHJ4  IGHV3-53   \n",
       "1          AREFDLTKIIMVPPY  IGHJ4  IGHV3-11   \n",
       "2          ARDSSGWHWGVPFDY  IGHJ4  IGHV3-30   \n",
       "3            VRGSGGIHDAFDI  IGHJ3  IGHV3-53   \n",
       "4             ARVDPRYEGFDY  IGHJ4  IGHV3-53   \n",
       "...                    ...    ...       ...   \n",
       "7737     ARVQDIVIVPAVYGMDV  IGHJ6  IGHV1-69   \n",
       "7738         ARMGPYGSGSFDY  IGHJ4  IGHV3-11   \n",
       "7739  ARHPSSIFRGTVFTPYYFDY  IGHJ4  IGHV4-59   \n",
       "7740  VTQRDNSRDYFPHYFHDMDV  IGHJ6  IGHV3-30   \n",
       "7741         ARSGSYGDRTFDH  IGHJ4  IGHV4-59   \n",
       "\n",
       "                                                VHorVHH  \\\n",
       "0     EVQLVESGGGLIQPGGSLRLSCAASGFIVSRNYMNWVRQAPGKGLE...   \n",
       "1     QVQMVESGGGLVRPGGSLRLSCAASGFTFSDYYMSWIRQAPGKGLE...   \n",
       "2     QVQLVESGGGVVQPGRSLRLSCASSGFTFSTYHMHWVRQPPGKGLE...   \n",
       "3     EVQLVESGGGLIQPGGSLRLSCAVSGFTVSRMSWVRQAPGKGLECV...   \n",
       "4     EVQLVESGGGLIQPGGSLRLSCAASEFIVSRNYMSWVRQAPGKGLE...   \n",
       "...                                                 ...   \n",
       "7737  QVQLVQSGAEVKKPGSSVKVSCKTSGGTFVNFNSYAISWVRQAPGQ...   \n",
       "7738  EVQLVESGGGVVNPGGSLRLSCAGSGFTFSDYYMGWIRQAPGKGLE...   \n",
       "7739  QVQLQESGPGLVKPSETLSLTCTVSGGSVSDTPFYWGWIRQPPGKG...   \n",
       "7740  QAQLVESGGALVQPGRSLRLSCAASGFTFRNYAMHWVRQAPATGLQ...   \n",
       "7741  QVQLQESGPGLVKPSETLSLTCIVSDDSINSYYWSWIRQPPGRGLE...   \n",
       "\n",
       "                                               Binds to  \\\n",
       "0     SARS-CoV2_WT;SARS-CoV2_Alpha;SARS-CoV2_Beta;SA...   \n",
       "1     SARS-CoV2_WT;SARS-CoV2_Alpha;SARS-CoV2_Delta;S...   \n",
       "2     SARS-CoV2_WT;SARS-CoV2_Alpha;SARS-CoV2_Beta;SA...   \n",
       "3     SARS-CoV2_WT;SARS-CoV2_Alpha;SARS-CoV2_Beta;SA...   \n",
       "4     SARS-CoV2_WT;SARS-CoV2_Alpha;SARS-CoV2_Beta;SA...   \n",
       "...                                                 ...   \n",
       "7737                                          SARS-CoV1   \n",
       "7738                                   SARS-CoV1 (weak)   \n",
       "7739                                   SARS-CoV1 (weak)   \n",
       "7740                                          SARS-CoV1   \n",
       "7741                                           SARS-CoV   \n",
       "\n",
       "                       Doesn't Bind to  \\\n",
       "0                                  NaN   \n",
       "1                                  NaN   \n",
       "2                                  NaN   \n",
       "3                                  NaN   \n",
       "4                                  NaN   \n",
       "...                                ...   \n",
       "7737             SARS-CoV2_WT;MERS-CoV   \n",
       "7738  229E;HKU1;NL63;OC43;SARS-CoV2_WT   \n",
       "7739  229E;HKU1;NL63;OC43;SARS-CoV2_WT   \n",
       "7740                      SARS-CoV2_WT   \n",
       "7741                      SARS-CoV2_WT   \n",
       "\n",
       "                                        Neutralising Vs  \\\n",
       "0     SARS-CoV2_WT;SARS-CoV2_Alpha;SARS-CoV2_Beta;SA...   \n",
       "1     SARS-CoV2_WT;SARS-CoV2_Alpha;SARS-CoV2_Delta;S...   \n",
       "2     SARS-CoV2_WT;SARS-CoV2_Alpha;SARS-CoV2_Beta;SA...   \n",
       "3     SARS-CoV2_WT;SARS-CoV2_Alpha;SARS-CoV2_Beta;SA...   \n",
       "4     SARS-CoV2_WT;SARS-CoV2_Alpha;SARS-CoV2_Beta;SA...   \n",
       "...                                                 ...   \n",
       "7737                                                NaN   \n",
       "7738                                                NaN   \n",
       "7739                                                NaN   \n",
       "7740                                          SARS-CoV1   \n",
       "7741                                                NaN   \n",
       "\n",
       "                                    Not Neutralising Vs Protein + Epitope  \\\n",
       "0                                                   NaN            S; RBD   \n",
       "1     SARS-CoV2_Beta;SARS-CoV2_Omicron-BA1;SARS-CoV2...            S; RBD   \n",
       "2                                                   NaN            S; RBD   \n",
       "3     SARS-CoV2_Omicron-BA2.75.2;SARS-CoV2-Omicron-B...            S; RBD   \n",
       "4     SARS-CoV2_Omicron-BA1;SARS-CoV2_Omicron-BA2;SA...            S; RBD   \n",
       "...                                                 ...               ...   \n",
       "7737                                                NaN        S; non-RBD   \n",
       "7738                                                NaN            S; Unk   \n",
       "7739                                                NaN            S; Unk   \n",
       "7740                                       SARS-CoV2_WT            S; RBD   \n",
       "7741                              SARS-CoV2_WT;SARS-CoV             S; S2   \n",
       "\n",
       "                                           Origin  \\\n",
       "0     B-cells; SARS-CoV2_WT Convalescent Patients   \n",
       "1     B-cells; SARS-CoV2_WT Convalescent Patients   \n",
       "2      B-cells; SARS-CoV2_WT Vaccinee (BBIBP-CoV)   \n",
       "3      B-cells; SARS-CoV2_WT Vaccinee (BBIBP-CoV)   \n",
       "4      B-cells; SARS-CoV2_WT Vaccinee (BBIBP-CoV)   \n",
       "...                                           ...   \n",
       "7737             B-cells; SARS-CoV1 Human Patient   \n",
       "7738             B-cells; SARS-CoV1 Human Patient   \n",
       "7739             B-cells; SARS-CoV1 Human Patient   \n",
       "7740             B-cells; SARS-CoV1 Human Patient   \n",
       "7741          B-cells; SARS-CoV2_WT Human Patient   \n",
       "\n",
       "                                                Sources    Status  \\\n",
       "0     Kiyomi Shitaoka et al., 2023 (https://www.natu...  Positive   \n",
       "1     Kiyomi Shitaoka et al., 2023 (https://www.natu...  Positive   \n",
       "2     Yubin Liu et al., 2023 (https://www.nature.com...  Positive   \n",
       "3     Yubin Liu et al., 2023 (https://www.nature.com...  Positive   \n",
       "4     Yubin Liu et al., 2023 (https://www.nature.com...  Positive   \n",
       "...                                                 ...       ...   \n",
       "7737  Dapeng Li et al., 2021 (https://www.biorxiv.or...  Negative   \n",
       "7738  Anna Wec et al., 2020 (https://science.science...  Negative   \n",
       "7739  Anna Wec et al., 2020 (https://science.science...  Negative   \n",
       "7740  Dora Pinto et al., 2020 (https://www.nature.co...  Negative   \n",
       "7741  Andrea Shiakolas et al., 2022 (https://www.nat...  Negative   \n",
       "\n",
       "        cdr3_seq_aa_q_trim  cdr3_aa_sequence_trim_len  \n",
       "0              ARDLVVYGLDY                         11  \n",
       "1          AREFDLTKIIMVPPY                         15  \n",
       "2          ARDSSGWHWGVPFDY                         15  \n",
       "3            VRGSGGIHDAFDI                         13  \n",
       "4             ARVDPRYEGFDY                         12  \n",
       "...                    ...                        ...  \n",
       "7737     ARVQDIVIVPAVYGMDV                         17  \n",
       "7738         ARMGPYGSGSFDY                         13  \n",
       "7739  ARHPSSIFRGTVFTPYYFDY                         20  \n",
       "7740  VTQRDNSRDYFPHYFHDMDV                         20  \n",
       "7741         ARSGSYGDRTFDH                         13  \n",
       "\n",
       "[7742 rows x 14 columns]"
      ]
     },
     "execution_count": 88,
     "metadata": {},
     "output_type": "execute_result"
    }
   ],
   "source": [
    "cov_abdab_export[\"cdr3_seq_aa_q_trim\"] = (\n",
    "    cov_abdab_export[\"CDRH3\"]\n",
    "    .str.replace(\".\", \"\", regex=False)\n",
    "    .str.replace(\"-\", \"\", regex=False)\n",
    "    .str.replace(\" \", \"\", regex=False)\n",
    "    .str.replace(\"*\", \"\", regex=False)\n",
    "    .str.strip()\n",
    "    .str.upper()\n",
    ")\n",
    "cov_abdab_export[\"cdr3_aa_sequence_trim_len\"] = cov_abdab_export[\n",
    "    \"cdr3_seq_aa_q_trim\"\n",
    "].str.len()\n",
    "cov_abdab_export"
   ]
  },
  {
   "cell_type": "code",
   "execution_count": 89,
   "metadata": {
    "tags": []
   },
   "outputs": [
    {
     "data": {
      "text/html": [
       "<div>\n",
       "<style scoped>\n",
       "    .dataframe tbody tr th:only-of-type {\n",
       "        vertical-align: middle;\n",
       "    }\n",
       "\n",
       "    .dataframe tbody tr th {\n",
       "        vertical-align: top;\n",
       "    }\n",
       "\n",
       "    .dataframe thead th {\n",
       "        text-align: right;\n",
       "    }\n",
       "</style>\n",
       "<table border=\"1\" class=\"dataframe\">\n",
       "  <thead>\n",
       "    <tr style=\"text-align: right;\">\n",
       "      <th></th>\n",
       "      <th>CDRH3</th>\n",
       "      <th>j_gene</th>\n",
       "      <th>v_gene</th>\n",
       "      <th>VHorVHH</th>\n",
       "      <th>Binds to</th>\n",
       "      <th>Doesn't Bind to</th>\n",
       "      <th>Neutralising Vs</th>\n",
       "      <th>Not Neutralising Vs</th>\n",
       "      <th>Protein + Epitope</th>\n",
       "      <th>Origin</th>\n",
       "      <th>Sources</th>\n",
       "      <th>Status</th>\n",
       "      <th>cdr3_seq_aa_q_trim</th>\n",
       "      <th>cdr3_aa_sequence_trim_len</th>\n",
       "    </tr>\n",
       "  </thead>\n",
       "  <tbody>\n",
       "    <tr>\n",
       "      <th>0</th>\n",
       "      <td>ARDLVVYGLDY</td>\n",
       "      <td>IGHJ4</td>\n",
       "      <td>IGHV3-53</td>\n",
       "      <td>EVQLVESGGGLIQPGGSLRLSCAASGFIVSRNYMNWVRQAPGKGLE...</td>\n",
       "      <td>SARS-CoV2_WT;SARS-CoV2_Alpha;SARS-CoV2_Beta;SA...</td>\n",
       "      <td>NaN</td>\n",
       "      <td>SARS-CoV2_WT;SARS-CoV2_Alpha;SARS-CoV2_Beta;SA...</td>\n",
       "      <td>NaN</td>\n",
       "      <td>S; RBD</td>\n",
       "      <td>B-cells; SARS-CoV2_WT Convalescent Patients</td>\n",
       "      <td>Kiyomi Shitaoka et al., 2023 (https://www.natu...</td>\n",
       "      <td>Positive</td>\n",
       "      <td>ARDLVVYGLDY</td>\n",
       "      <td>11</td>\n",
       "    </tr>\n",
       "    <tr>\n",
       "      <th>1</th>\n",
       "      <td>AREFDLTKIIMVPPY</td>\n",
       "      <td>IGHJ4</td>\n",
       "      <td>IGHV3-11</td>\n",
       "      <td>QVQMVESGGGLVRPGGSLRLSCAASGFTFSDYYMSWIRQAPGKGLE...</td>\n",
       "      <td>SARS-CoV2_WT;SARS-CoV2_Alpha;SARS-CoV2_Delta;S...</td>\n",
       "      <td>NaN</td>\n",
       "      <td>SARS-CoV2_WT;SARS-CoV2_Alpha;SARS-CoV2_Delta;S...</td>\n",
       "      <td>SARS-CoV2_Beta;SARS-CoV2_Omicron-BA1;SARS-CoV2...</td>\n",
       "      <td>S; RBD</td>\n",
       "      <td>B-cells; SARS-CoV2_WT Convalescent Patients</td>\n",
       "      <td>Kiyomi Shitaoka et al., 2023 (https://www.natu...</td>\n",
       "      <td>Positive</td>\n",
       "      <td>AREFDLTKIIMVPPY</td>\n",
       "      <td>15</td>\n",
       "    </tr>\n",
       "    <tr>\n",
       "      <th>2</th>\n",
       "      <td>ARDSSGWHWGVPFDY</td>\n",
       "      <td>IGHJ4</td>\n",
       "      <td>IGHV3-30</td>\n",
       "      <td>QVQLVESGGGVVQPGRSLRLSCASSGFTFSTYHMHWVRQPPGKGLE...</td>\n",
       "      <td>SARS-CoV2_WT;SARS-CoV2_Alpha;SARS-CoV2_Beta;SA...</td>\n",
       "      <td>NaN</td>\n",
       "      <td>SARS-CoV2_WT;SARS-CoV2_Alpha;SARS-CoV2_Beta;SA...</td>\n",
       "      <td>NaN</td>\n",
       "      <td>S; RBD</td>\n",
       "      <td>B-cells; SARS-CoV2_WT Vaccinee (BBIBP-CoV)</td>\n",
       "      <td>Yubin Liu et al., 2023 (https://www.nature.com...</td>\n",
       "      <td>Positive</td>\n",
       "      <td>ARDSSGWHWGVPFDY</td>\n",
       "      <td>15</td>\n",
       "    </tr>\n",
       "    <tr>\n",
       "      <th>3</th>\n",
       "      <td>VRGSGGIHDAFDI</td>\n",
       "      <td>IGHJ3</td>\n",
       "      <td>IGHV3-53</td>\n",
       "      <td>EVQLVESGGGLIQPGGSLRLSCAVSGFTVSRMSWVRQAPGKGLECV...</td>\n",
       "      <td>SARS-CoV2_WT;SARS-CoV2_Alpha;SARS-CoV2_Beta;SA...</td>\n",
       "      <td>NaN</td>\n",
       "      <td>SARS-CoV2_WT;SARS-CoV2_Alpha;SARS-CoV2_Beta;SA...</td>\n",
       "      <td>SARS-CoV2_Omicron-BA2.75.2;SARS-CoV2-Omicron-B...</td>\n",
       "      <td>S; RBD</td>\n",
       "      <td>B-cells; SARS-CoV2_WT Vaccinee (BBIBP-CoV)</td>\n",
       "      <td>Yubin Liu et al., 2023 (https://www.nature.com...</td>\n",
       "      <td>Positive</td>\n",
       "      <td>VRGSGGIHDAFDI</td>\n",
       "      <td>13</td>\n",
       "    </tr>\n",
       "    <tr>\n",
       "      <th>4</th>\n",
       "      <td>ARVDPRYEGFDY</td>\n",
       "      <td>IGHJ4</td>\n",
       "      <td>IGHV3-53</td>\n",
       "      <td>EVQLVESGGGLIQPGGSLRLSCAASEFIVSRNYMSWVRQAPGKGLE...</td>\n",
       "      <td>SARS-CoV2_WT;SARS-CoV2_Alpha;SARS-CoV2_Beta;SA...</td>\n",
       "      <td>NaN</td>\n",
       "      <td>SARS-CoV2_WT;SARS-CoV2_Alpha;SARS-CoV2_Beta;SA...</td>\n",
       "      <td>SARS-CoV2_Omicron-BA1;SARS-CoV2_Omicron-BA2;SA...</td>\n",
       "      <td>S; RBD</td>\n",
       "      <td>B-cells; SARS-CoV2_WT Vaccinee (BBIBP-CoV)</td>\n",
       "      <td>Yubin Liu et al., 2023 (https://www.nature.com...</td>\n",
       "      <td>Positive</td>\n",
       "      <td>ARVDPRYEGFDY</td>\n",
       "      <td>12</td>\n",
       "    </tr>\n",
       "    <tr>\n",
       "      <th>...</th>\n",
       "      <td>...</td>\n",
       "      <td>...</td>\n",
       "      <td>...</td>\n",
       "      <td>...</td>\n",
       "      <td>...</td>\n",
       "      <td>...</td>\n",
       "      <td>...</td>\n",
       "      <td>...</td>\n",
       "      <td>...</td>\n",
       "      <td>...</td>\n",
       "      <td>...</td>\n",
       "      <td>...</td>\n",
       "      <td>...</td>\n",
       "      <td>...</td>\n",
       "    </tr>\n",
       "    <tr>\n",
       "      <th>7737</th>\n",
       "      <td>ARVQDIVIVPAVYGMDV</td>\n",
       "      <td>IGHJ6</td>\n",
       "      <td>IGHV1-69</td>\n",
       "      <td>QVQLVQSGAEVKKPGSSVKVSCKTSGGTFVNFNSYAISWVRQAPGQ...</td>\n",
       "      <td>SARS-CoV1</td>\n",
       "      <td>SARS-CoV2_WT;MERS-CoV</td>\n",
       "      <td>NaN</td>\n",
       "      <td>NaN</td>\n",
       "      <td>S; non-RBD</td>\n",
       "      <td>B-cells; SARS-CoV1 Human Patient</td>\n",
       "      <td>Dapeng Li et al., 2021 (https://www.biorxiv.or...</td>\n",
       "      <td>Negative</td>\n",
       "      <td>ARVQDIVIVPAVYGMDV</td>\n",
       "      <td>17</td>\n",
       "    </tr>\n",
       "    <tr>\n",
       "      <th>7738</th>\n",
       "      <td>ARMGPYGSGSFDY</td>\n",
       "      <td>IGHJ4</td>\n",
       "      <td>IGHV3-11</td>\n",
       "      <td>EVQLVESGGGVVNPGGSLRLSCAGSGFTFSDYYMGWIRQAPGKGLE...</td>\n",
       "      <td>SARS-CoV1 (weak)</td>\n",
       "      <td>229E;HKU1;NL63;OC43;SARS-CoV2_WT</td>\n",
       "      <td>NaN</td>\n",
       "      <td>NaN</td>\n",
       "      <td>S; Unk</td>\n",
       "      <td>B-cells; SARS-CoV1 Human Patient</td>\n",
       "      <td>Anna Wec et al., 2020 (https://science.science...</td>\n",
       "      <td>Negative</td>\n",
       "      <td>ARMGPYGSGSFDY</td>\n",
       "      <td>13</td>\n",
       "    </tr>\n",
       "    <tr>\n",
       "      <th>7739</th>\n",
       "      <td>ARHPSSIFRGTVFTPYYFDY</td>\n",
       "      <td>IGHJ4</td>\n",
       "      <td>IGHV4-59</td>\n",
       "      <td>QVQLQESGPGLVKPSETLSLTCTVSGGSVSDTPFYWGWIRQPPGKG...</td>\n",
       "      <td>SARS-CoV1 (weak)</td>\n",
       "      <td>229E;HKU1;NL63;OC43;SARS-CoV2_WT</td>\n",
       "      <td>NaN</td>\n",
       "      <td>NaN</td>\n",
       "      <td>S; Unk</td>\n",
       "      <td>B-cells; SARS-CoV1 Human Patient</td>\n",
       "      <td>Anna Wec et al., 2020 (https://science.science...</td>\n",
       "      <td>Negative</td>\n",
       "      <td>ARHPSSIFRGTVFTPYYFDY</td>\n",
       "      <td>20</td>\n",
       "    </tr>\n",
       "    <tr>\n",
       "      <th>7740</th>\n",
       "      <td>VTQRDNSRDYFPHYFHDMDV</td>\n",
       "      <td>IGHJ6</td>\n",
       "      <td>IGHV3-30</td>\n",
       "      <td>QAQLVESGGALVQPGRSLRLSCAASGFTFRNYAMHWVRQAPATGLQ...</td>\n",
       "      <td>SARS-CoV1</td>\n",
       "      <td>SARS-CoV2_WT</td>\n",
       "      <td>SARS-CoV1</td>\n",
       "      <td>SARS-CoV2_WT</td>\n",
       "      <td>S; RBD</td>\n",
       "      <td>B-cells; SARS-CoV1 Human Patient</td>\n",
       "      <td>Dora Pinto et al., 2020 (https://www.nature.co...</td>\n",
       "      <td>Negative</td>\n",
       "      <td>VTQRDNSRDYFPHYFHDMDV</td>\n",
       "      <td>20</td>\n",
       "    </tr>\n",
       "    <tr>\n",
       "      <th>7741</th>\n",
       "      <td>ARSGSYGDRTFDH</td>\n",
       "      <td>IGHJ4</td>\n",
       "      <td>IGHV4-59</td>\n",
       "      <td>QVQLQESGPGLVKPSETLSLTCIVSDDSINSYYWSWIRQPPGRGLE...</td>\n",
       "      <td>SARS-CoV</td>\n",
       "      <td>SARS-CoV2_WT</td>\n",
       "      <td>NaN</td>\n",
       "      <td>SARS-CoV2_WT;SARS-CoV</td>\n",
       "      <td>S; S2</td>\n",
       "      <td>B-cells; SARS-CoV2_WT Human Patient</td>\n",
       "      <td>Andrea Shiakolas et al., 2022 (https://www.nat...</td>\n",
       "      <td>Negative</td>\n",
       "      <td>ARSGSYGDRTFDH</td>\n",
       "      <td>13</td>\n",
       "    </tr>\n",
       "  </tbody>\n",
       "</table>\n",
       "<p>7153 rows × 14 columns</p>\n",
       "</div>"
      ],
      "text/plain": [
       "                     CDRH3 j_gene    v_gene  \\\n",
       "0              ARDLVVYGLDY  IGHJ4  IGHV3-53   \n",
       "1          AREFDLTKIIMVPPY  IGHJ4  IGHV3-11   \n",
       "2          ARDSSGWHWGVPFDY  IGHJ4  IGHV3-30   \n",
       "3            VRGSGGIHDAFDI  IGHJ3  IGHV3-53   \n",
       "4             ARVDPRYEGFDY  IGHJ4  IGHV3-53   \n",
       "...                    ...    ...       ...   \n",
       "7737     ARVQDIVIVPAVYGMDV  IGHJ6  IGHV1-69   \n",
       "7738         ARMGPYGSGSFDY  IGHJ4  IGHV3-11   \n",
       "7739  ARHPSSIFRGTVFTPYYFDY  IGHJ4  IGHV4-59   \n",
       "7740  VTQRDNSRDYFPHYFHDMDV  IGHJ6  IGHV3-30   \n",
       "7741         ARSGSYGDRTFDH  IGHJ4  IGHV4-59   \n",
       "\n",
       "                                                VHorVHH  \\\n",
       "0     EVQLVESGGGLIQPGGSLRLSCAASGFIVSRNYMNWVRQAPGKGLE...   \n",
       "1     QVQMVESGGGLVRPGGSLRLSCAASGFTFSDYYMSWIRQAPGKGLE...   \n",
       "2     QVQLVESGGGVVQPGRSLRLSCASSGFTFSTYHMHWVRQPPGKGLE...   \n",
       "3     EVQLVESGGGLIQPGGSLRLSCAVSGFTVSRMSWVRQAPGKGLECV...   \n",
       "4     EVQLVESGGGLIQPGGSLRLSCAASEFIVSRNYMSWVRQAPGKGLE...   \n",
       "...                                                 ...   \n",
       "7737  QVQLVQSGAEVKKPGSSVKVSCKTSGGTFVNFNSYAISWVRQAPGQ...   \n",
       "7738  EVQLVESGGGVVNPGGSLRLSCAGSGFTFSDYYMGWIRQAPGKGLE...   \n",
       "7739  QVQLQESGPGLVKPSETLSLTCTVSGGSVSDTPFYWGWIRQPPGKG...   \n",
       "7740  QAQLVESGGALVQPGRSLRLSCAASGFTFRNYAMHWVRQAPATGLQ...   \n",
       "7741  QVQLQESGPGLVKPSETLSLTCIVSDDSINSYYWSWIRQPPGRGLE...   \n",
       "\n",
       "                                               Binds to  \\\n",
       "0     SARS-CoV2_WT;SARS-CoV2_Alpha;SARS-CoV2_Beta;SA...   \n",
       "1     SARS-CoV2_WT;SARS-CoV2_Alpha;SARS-CoV2_Delta;S...   \n",
       "2     SARS-CoV2_WT;SARS-CoV2_Alpha;SARS-CoV2_Beta;SA...   \n",
       "3     SARS-CoV2_WT;SARS-CoV2_Alpha;SARS-CoV2_Beta;SA...   \n",
       "4     SARS-CoV2_WT;SARS-CoV2_Alpha;SARS-CoV2_Beta;SA...   \n",
       "...                                                 ...   \n",
       "7737                                          SARS-CoV1   \n",
       "7738                                   SARS-CoV1 (weak)   \n",
       "7739                                   SARS-CoV1 (weak)   \n",
       "7740                                          SARS-CoV1   \n",
       "7741                                           SARS-CoV   \n",
       "\n",
       "                       Doesn't Bind to  \\\n",
       "0                                  NaN   \n",
       "1                                  NaN   \n",
       "2                                  NaN   \n",
       "3                                  NaN   \n",
       "4                                  NaN   \n",
       "...                                ...   \n",
       "7737             SARS-CoV2_WT;MERS-CoV   \n",
       "7738  229E;HKU1;NL63;OC43;SARS-CoV2_WT   \n",
       "7739  229E;HKU1;NL63;OC43;SARS-CoV2_WT   \n",
       "7740                      SARS-CoV2_WT   \n",
       "7741                      SARS-CoV2_WT   \n",
       "\n",
       "                                        Neutralising Vs  \\\n",
       "0     SARS-CoV2_WT;SARS-CoV2_Alpha;SARS-CoV2_Beta;SA...   \n",
       "1     SARS-CoV2_WT;SARS-CoV2_Alpha;SARS-CoV2_Delta;S...   \n",
       "2     SARS-CoV2_WT;SARS-CoV2_Alpha;SARS-CoV2_Beta;SA...   \n",
       "3     SARS-CoV2_WT;SARS-CoV2_Alpha;SARS-CoV2_Beta;SA...   \n",
       "4     SARS-CoV2_WT;SARS-CoV2_Alpha;SARS-CoV2_Beta;SA...   \n",
       "...                                                 ...   \n",
       "7737                                                NaN   \n",
       "7738                                                NaN   \n",
       "7739                                                NaN   \n",
       "7740                                          SARS-CoV1   \n",
       "7741                                                NaN   \n",
       "\n",
       "                                    Not Neutralising Vs Protein + Epitope  \\\n",
       "0                                                   NaN            S; RBD   \n",
       "1     SARS-CoV2_Beta;SARS-CoV2_Omicron-BA1;SARS-CoV2...            S; RBD   \n",
       "2                                                   NaN            S; RBD   \n",
       "3     SARS-CoV2_Omicron-BA2.75.2;SARS-CoV2-Omicron-B...            S; RBD   \n",
       "4     SARS-CoV2_Omicron-BA1;SARS-CoV2_Omicron-BA2;SA...            S; RBD   \n",
       "...                                                 ...               ...   \n",
       "7737                                                NaN        S; non-RBD   \n",
       "7738                                                NaN            S; Unk   \n",
       "7739                                                NaN            S; Unk   \n",
       "7740                                       SARS-CoV2_WT            S; RBD   \n",
       "7741                              SARS-CoV2_WT;SARS-CoV             S; S2   \n",
       "\n",
       "                                           Origin  \\\n",
       "0     B-cells; SARS-CoV2_WT Convalescent Patients   \n",
       "1     B-cells; SARS-CoV2_WT Convalescent Patients   \n",
       "2      B-cells; SARS-CoV2_WT Vaccinee (BBIBP-CoV)   \n",
       "3      B-cells; SARS-CoV2_WT Vaccinee (BBIBP-CoV)   \n",
       "4      B-cells; SARS-CoV2_WT Vaccinee (BBIBP-CoV)   \n",
       "...                                           ...   \n",
       "7737             B-cells; SARS-CoV1 Human Patient   \n",
       "7738             B-cells; SARS-CoV1 Human Patient   \n",
       "7739             B-cells; SARS-CoV1 Human Patient   \n",
       "7740             B-cells; SARS-CoV1 Human Patient   \n",
       "7741          B-cells; SARS-CoV2_WT Human Patient   \n",
       "\n",
       "                                                Sources    Status  \\\n",
       "0     Kiyomi Shitaoka et al., 2023 (https://www.natu...  Positive   \n",
       "1     Kiyomi Shitaoka et al., 2023 (https://www.natu...  Positive   \n",
       "2     Yubin Liu et al., 2023 (https://www.nature.com...  Positive   \n",
       "3     Yubin Liu et al., 2023 (https://www.nature.com...  Positive   \n",
       "4     Yubin Liu et al., 2023 (https://www.nature.com...  Positive   \n",
       "...                                                 ...       ...   \n",
       "7737  Dapeng Li et al., 2021 (https://www.biorxiv.or...  Negative   \n",
       "7738  Anna Wec et al., 2020 (https://science.science...  Negative   \n",
       "7739  Anna Wec et al., 2020 (https://science.science...  Negative   \n",
       "7740  Dora Pinto et al., 2020 (https://www.nature.co...  Negative   \n",
       "7741  Andrea Shiakolas et al., 2022 (https://www.nat...  Negative   \n",
       "\n",
       "        cdr3_seq_aa_q_trim  cdr3_aa_sequence_trim_len  \n",
       "0              ARDLVVYGLDY                         11  \n",
       "1          AREFDLTKIIMVPPY                         15  \n",
       "2          ARDSSGWHWGVPFDY                         15  \n",
       "3            VRGSGGIHDAFDI                         13  \n",
       "4             ARVDPRYEGFDY                         12  \n",
       "...                    ...                        ...  \n",
       "7737     ARVQDIVIVPAVYGMDV                         17  \n",
       "7738         ARMGPYGSGSFDY                         13  \n",
       "7739  ARHPSSIFRGTVFTPYYFDY                         20  \n",
       "7740  VTQRDNSRDYFPHYFHDMDV                         20  \n",
       "7741         ARSGSYGDRTFDH                         13  \n",
       "\n",
       "[7153 rows x 14 columns]"
      ]
     },
     "execution_count": 89,
     "metadata": {},
     "output_type": "execute_result"
    }
   ],
   "source": [
    "# drop duplicate sequences with same V gene, J gene, CDR3 sequence, and positive/negative status\n",
    "cov_abdab_export = cov_abdab_export.drop_duplicates(\n",
    "    subset=[\"v_gene\", \"j_gene\", \"cdr3_seq_aa_q_trim\", \"Status\"]\n",
    ")\n",
    "cov_abdab_export"
   ]
  },
  {
   "cell_type": "code",
   "execution_count": null,
   "metadata": {},
   "outputs": [],
   "source": []
  },
  {
   "cell_type": "code",
   "execution_count": 90,
   "metadata": {},
   "outputs": [
    {
     "data": {
      "text/plain": [
       "v_gene     j_gene  cdr3_seq_aa_q_trim\n",
       "IGHV1-69   IGHJ4   ARERYSSTWTADFDY       2\n",
       "IGHV3-11   IGHJ4   ARMGPYGSGSFDY         2\n",
       "IGHV3-30   IGHJ6   AKSRGGNYYYGMDV        2\n",
       "IGHV3-33   IGHJ4   ARGSGSGDY             2\n",
       "IGHV3-53   IGHJ4   ARDHGGLRFDY           2\n",
       "           IGHJ6   ARWYLVYGDNSGDYGMDV    2\n",
       "IGHV4-34   IGHJ3   ARGNMIVVAFSAFDI       2\n",
       "           IGHJ4   ARIEYSYGRRGLDY        2\n",
       "IGHV4-39   IGHJ4   ATALVVTAAYF           2\n",
       "           IGHJ5   ARPLGDYGDNVRRSWFDP    2\n",
       "IGHV4-59   IGHJ3   ARGFDI                2\n",
       "IGHV7-4-1  IGHJ4   ARDPEDYNFWSGYYVDY     2\n",
       "dtype: int64"
      ]
     },
     "execution_count": 90,
     "metadata": {},
     "output_type": "execute_result"
    }
   ],
   "source": [
    "# However, there are some identical sequences with both positive and negative status!\n",
    "# These may be due to sequence differences outside the CDR3 (elsewhere in VHorVHH)\n",
    "cov_abdab_export.groupby([\"v_gene\", \"j_gene\", \"cdr3_seq_aa_q_trim\"]).size()[\n",
    "    cov_abdab_export.groupby([\"v_gene\", \"j_gene\", \"cdr3_seq_aa_q_trim\"]).size() != 1\n",
    "]"
   ]
  },
  {
   "cell_type": "code",
   "execution_count": 91,
   "metadata": {},
   "outputs": [
    {
     "name": "stdout",
     "output_type": "stream",
     "text": [
      "(7153, 14)\n",
      "(7129, 14)\n"
     ]
    }
   ],
   "source": [
    "# Drop these conflicting sequences:\n",
    "print(cov_abdab_export.shape)\n",
    "cov_abdab_export = cov_abdab_export[\n",
    "    cov_abdab_export.groupby([\"v_gene\", \"j_gene\", \"cdr3_seq_aa_q_trim\"])[\n",
    "        \"Status\"\n",
    "    ].transform(lambda grp: grp.nunique() == 1)\n",
    "]\n",
    "print(cov_abdab_export.shape)"
   ]
  },
  {
   "cell_type": "code",
   "execution_count": 92,
   "metadata": {},
   "outputs": [],
   "source": [
    "assert (\n",
    "    not cov_abdab_export[[\"v_gene\", \"j_gene\", \"cdr3_seq_aa_q_trim\"]]\n",
    "    .duplicated(keep=False)\n",
    "    .any()\n",
    ")"
   ]
  },
  {
   "cell_type": "code",
   "execution_count": null,
   "metadata": {},
   "outputs": [],
   "source": []
  },
  {
   "cell_type": "code",
   "execution_count": null,
   "metadata": {},
   "outputs": [],
   "source": []
  },
  {
   "cell_type": "code",
   "execution_count": null,
   "metadata": {},
   "outputs": [],
   "source": []
  },
  {
   "cell_type": "code",
   "execution_count": null,
   "metadata": {},
   "outputs": [],
   "source": []
  },
  {
   "cell_type": "code",
   "execution_count": 93,
   "metadata": {
    "tags": []
   },
   "outputs": [
    {
     "data": {
      "text/plain": [
       "Wooseob Kim et al., 2022 (https://www.nature.com/articles/s41586-022-04527-1)                                                                                                                                                                                                                                                                                                                                                                                        2018\n",
       "Yunlong Cao et al. 2022 (https://www.nature.com/articles/s41586-022-04980-y#Sec4) and Yunlong Cao et al., 2022 (https://www.biorxiv.org/content/10.1101/2022.09.15.507787v2)                                                                                                                                                                                                                                                                                          758\n",
       "Alice Cho et al., 2021 (https://www.nature.com/articles/s41586-021-04060-7)                                                                                                                                                                                                                                                                                                                                                                                           394\n",
       "Zijun Wang et al., 2022 (https://rupress.org/jem/article/219/10/e20220826/213420/Humoral-immunity-to-SARS-CoV-2-elicited-by)                                                                                                                                                                                                                                                                                                                                          277\n",
       "Dapeng Li et al., 2021 (https://www.biorxiv.org/content/10.1101/2020.12.31.424729v1)                                                                                                                                                                                                                                                                                                                                                                                  271\n",
       "                                                                                                                                                                                                                                                                                                                                                                                                                                                                     ... \n",
       "CN111732655A (https://patents.google.com/patent/CN111732655A/en) and CN112076316A (https://patents.google.com/patent/CN112076316A/en)                                                                                                                                                                                                                                                                                                                                   1\n",
       "Bailey Banach et al., 2020 (https://www.biorxiv.org/content/10.1101/2020.12.31.424987v1) and Lihong Liu et al., 2021 (https://www.biorxiv.org/content/10.1101/2021.12.14.472719v3)                                                                                                                                                                                                                                                                                      1\n",
       "CN112574300A (https://patents.google.com/patent/CN112574300A/en)                                                                                                                                                                                                                                                                                                                                                                                                        1\n",
       "Lingshu Wang et al., 2021 (https://www.science.org/doi/10.1126/science.abh1766) and Tongqing Zhou et al., 2021 (https://www.biorxiv.org/content/10.1101/2021.12.27.474307v1) and John Misasi et al., 2022 (https://www.biorxiv.org/content/10.1101/2022.07.29.502029v2) and Qian Wang et al., 2022 (https://www.sciencedirect.com/science/article/pii/S193131282200419X) and Qian Wang et al., 2023 (https://www.biorxiv.org/content/10.1101/2023.03.22.533805v1)       1\n",
       "Dora Pinto et al., 2020 (https://www.nature.com/articles/s41586-020-2349-y) and Barry Rockx et al., 2008 (https://jvi.asm.org/content/jvi/82/7/3220)                                                                                                                                                                                                                                                                                                                    1\n",
       "Name: Sources, Length: 292, dtype: int64"
      ]
     },
     "execution_count": 93,
     "metadata": {},
     "output_type": "execute_result"
    }
   ],
   "source": [
    "cov_abdab_export[\"Sources\"].value_counts()"
   ]
  },
  {
   "cell_type": "code",
   "execution_count": null,
   "metadata": {},
   "outputs": [],
   "source": []
  },
  {
   "cell_type": "code",
   "execution_count": 94,
   "metadata": {
    "tags": []
   },
   "outputs": [],
   "source": [
    "cov_abdab_export.drop([\"Sources\"], axis=1).to_csv(\n",
    "    config.paths.base_data_dir / \"CoV-AbDab_130623.filtered.tsv\", sep=\"\\t\", index=None\n",
    ")"
   ]
  },
  {
   "cell_type": "code",
   "execution_count": null,
   "metadata": {},
   "outputs": [],
   "source": []
  }
 ],
 "metadata": {
  "jupytext": {
   "cell_metadata_filter": "-all",
   "notebook_metadata_filter": "-all"
  },
  "kernelspec": {
   "display_name": "py39-cuda-env",
   "language": "python",
   "name": "py39-cuda-env"
  },
  "language_info": {
   "codemirror_mode": {
    "name": "ipython",
    "version": 3
   },
   "file_extension": ".py",
   "mimetype": "text/x-python",
   "name": "python",
   "nbconvert_exporter": "python",
   "pygments_lexer": "ipython3",
   "version": "3.9.16"
  }
 },
 "nbformat": 4,
 "nbformat_minor": 4
}
