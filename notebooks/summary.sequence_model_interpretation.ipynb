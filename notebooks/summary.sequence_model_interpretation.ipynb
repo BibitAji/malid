{
 "cells": [
  {
   "cell_type": "code",
   "execution_count": 1,
   "metadata": {
    "execution": {
     "iopub.execute_input": "2023-01-19T05:12:34.970917Z",
     "iopub.status.busy": "2023-01-19T05:12:34.970119Z",
     "iopub.status.idle": "2023-01-19T05:12:40.411362Z",
     "shell.execute_reply": "2023-01-19T05:12:40.409240Z"
    }
   },
   "outputs": [],
   "source": [
    "from summarynb import show\n",
    "from IPython.display import display, Markdown\n",
    "from slugify import slugify\n",
    "from malid import config, helpers\n",
    "from malid.datamodels import GeneLocus"
   ]
  },
  {
   "cell_type": "code",
   "execution_count": null,
   "metadata": {},
   "outputs": [],
   "source": []
  },
  {
   "cell_type": "markdown",
   "metadata": {},
   "source": [
    "# Get disease prediction rankings/scores for all sequences (uniques combined from all our test folds)"
   ]
  },
  {
   "cell_type": "markdown",
   "metadata": {},
   "source": [
    "### We filtered out rare V genes\n",
    "\n",
    "To be kept, a V gene must exceed the purple dashed line in at least one disease (see plot below). This threshold was chosen because it's the median of the max proportion a V gene takes up of any disease, for all V genes. Therefore half of the V genes are discarded at this step."
   ]
  },
  {
   "cell_type": "code",
   "execution_count": 2,
   "metadata": {
    "execution": {
     "iopub.execute_input": "2023-01-19T05:12:40.420611Z",
     "iopub.status.busy": "2023-01-19T05:12:40.419755Z",
     "iopub.status.idle": "2023-01-19T05:12:40.649291Z",
     "shell.execute_reply": "2023-01-19T05:12:40.647503Z"
    },
    "lines_to_next_cell": 2,
    "tags": []
   },
   "outputs": [
    {
     "data": {
      "text/markdown": [
       "## GeneLocus.BCR"
      ],
      "text/plain": [
       "<IPython.core.display.Markdown object>"
      ]
     },
     "metadata": {},
     "output_type": "display_data"
    },
    {
     "data": {
      "text/html": [
       "<table><tr><th style=\"text-align: center\">original V gene proportions in each disease group</th></tr><tr><td style=\"text-align: center\"><img src=\"../data/data_v_20221224/embedded/unirep_fine_tuned/high_res_outputs/model_interpretations/BCR/v_gene_disease_proportions.png\" style=\"max-width: 800px; max-height: 800px;\" /></td></tr></table>"
      ],
      "text/plain": [
       "<IPython.core.display.HTML object>"
      ]
     },
     "metadata": {},
     "output_type": "display_data"
    },
    {
     "data": {
      "text/markdown": [
       "### GeneLocus.BCR, TargetObsColumnEnum.disease"
      ],
      "text/plain": [
       "<IPython.core.display.Markdown object>"
      ]
     },
     "metadata": {},
     "output_type": "display_data"
    },
    {
     "data": {
      "text/html": [
       "<table><tr><th style=\"text-align: center\">All (without healthy)</th>\n",
       "<th style=\"text-align: center\">Isotype usage</th></tr><tr><td style=\"text-align: center\"><img src=\"../out/unirep_fine_tuned/interpretations/BCR/disease/all.without_healthy.png\" style=\"max-width: 1000px; max-height: 600px;\" /></td>\n",
       "<td style=\"text-align: center\"><img src=\"../data/data_v_20221224/embedded/unirep_fine_tuned/high_res_outputs/model_interpretations/BCR/disease/isotype_usage.png\" style=\"max-width: 1000px; max-height: 600px;\" /></td></tr></table>"
      ],
      "text/plain": [
       "<IPython.core.display.HTML object>"
      ]
     },
     "metadata": {},
     "output_type": "display_data"
    },
    {
     "data": {
      "text/html": [
       "<table><tr><th style=\"text-align: center\">V gene rankings (unfiltered)</th></tr><tr><td style=\"text-align: center\"><img src=\"../data/data_v_20221224/embedded/unirep_fine_tuned/high_res_outputs/model_interpretations/BCR/disease/v_gene_rankings.png\" style=\"max-width: 1500px; max-height: 800px;\" /></td></tr></table>"
      ],
      "text/plain": [
       "<IPython.core.display.HTML object>"
      ]
     },
     "metadata": {},
     "output_type": "display_data"
    },
    {
     "data": {
      "text/markdown": [
       "### GeneLocus.BCR, TargetObsColumnEnum.disease_all_demographics_present"
      ],
      "text/plain": [
       "<IPython.core.display.Markdown object>"
      ]
     },
     "metadata": {},
     "output_type": "display_data"
    },
    {
     "data": {
      "text/html": [
       "<table><tr><th style=\"text-align: center\">All (without healthy)</th>\n",
       "<th style=\"text-align: center\">Isotype usage</th></tr><tr><td style=\"text-align: center\"><img src=\"../out/unirep_fine_tuned/interpretations/BCR/disease_all_demographics_present/all.without_healthy.png\" style=\"max-width: 1000px; max-height: 600px;\" /></td>\n",
       "<td style=\"text-align: center\"><img src=\"../data/data_v_20221224/embedded/unirep_fine_tuned/high_res_outputs/model_interpretations/BCR/disease_all_demographics_present/isotype_usage.png\" style=\"max-width: 1000px; max-height: 600px;\" /></td></tr></table>"
      ],
      "text/plain": [
       "<IPython.core.display.HTML object>"
      ]
     },
     "metadata": {},
     "output_type": "display_data"
    },
    {
     "data": {
      "text/html": [
       "<table><tr><th style=\"text-align: center\">V gene rankings (unfiltered)</th></tr><tr><td style=\"text-align: center\"><img src=\"../data/data_v_20221224/embedded/unirep_fine_tuned/high_res_outputs/model_interpretations/BCR/disease_all_demographics_present/v_gene_rankings.png\" style=\"max-width: 1500px; max-height: 800px;\" /></td></tr></table>"
      ],
      "text/plain": [
       "<IPython.core.display.HTML object>"
      ]
     },
     "metadata": {},
     "output_type": "display_data"
    },
    {
     "data": {
      "text/markdown": [
       "### GeneLocus.BCR, TargetObsColumnEnum.ethnicity_condensed_healthy_only"
      ],
      "text/plain": [
       "<IPython.core.display.Markdown object>"
      ]
     },
     "metadata": {},
     "output_type": "display_data"
    },
    {
     "data": {
      "text/html": [
       "<table><tr><th style=\"text-align: center\">All (without healthy)</th>\n",
       "<th style=\"text-align: center\">Isotype usage</th></tr><tr><td style=\"text-align: center\"><img src=\"../out/unirep_fine_tuned/interpretations/BCR/ethnicity_condensed_healthy_only/all.without_healthy.png\" style=\"max-width: 1000px; max-height: 600px;\" /></td>\n",
       "<td style=\"text-align: center\"><img src=\"../data/data_v_20221224/embedded/unirep_fine_tuned/high_res_outputs/model_interpretations/BCR/ethnicity_condensed_healthy_only/isotype_usage.png\" style=\"max-width: 1000px; max-height: 600px;\" /></td></tr></table>"
      ],
      "text/plain": [
       "<IPython.core.display.HTML object>"
      ]
     },
     "metadata": {},
     "output_type": "display_data"
    },
    {
     "data": {
      "text/html": [
       "<table><tr><th style=\"text-align: center\">V gene rankings (unfiltered)</th></tr><tr><td style=\"text-align: center\"><img src=\"../data/data_v_20221224/embedded/unirep_fine_tuned/high_res_outputs/model_interpretations/BCR/ethnicity_condensed_healthy_only/v_gene_rankings.png\" style=\"max-width: 1500px; max-height: 800px;\" /></td></tr></table>"
      ],
      "text/plain": [
       "<IPython.core.display.HTML object>"
      ]
     },
     "metadata": {},
     "output_type": "display_data"
    },
    {
     "data": {
      "text/markdown": [
       "### GeneLocus.BCR, TargetObsColumnEnum.age_group_healthy_only"
      ],
      "text/plain": [
       "<IPython.core.display.Markdown object>"
      ]
     },
     "metadata": {},
     "output_type": "display_data"
    },
    {
     "data": {
      "text/html": [
       "<table><tr><th style=\"text-align: center\">All (without healthy)</th>\n",
       "<th style=\"text-align: center\">Isotype usage</th></tr><tr><td style=\"text-align: center\"><img src=\"../out/unirep_fine_tuned/interpretations/BCR/age_group_healthy_only/all.without_healthy.png\" style=\"max-width: 1000px; max-height: 600px;\" /></td>\n",
       "<td style=\"text-align: center\"><img src=\"../data/data_v_20221224/embedded/unirep_fine_tuned/high_res_outputs/model_interpretations/BCR/age_group_healthy_only/isotype_usage.png\" style=\"max-width: 1000px; max-height: 600px;\" /></td></tr></table>"
      ],
      "text/plain": [
       "<IPython.core.display.HTML object>"
      ]
     },
     "metadata": {},
     "output_type": "display_data"
    },
    {
     "data": {
      "text/html": [
       "<table><tr><th style=\"text-align: center\">V gene rankings (unfiltered)</th></tr><tr><td style=\"text-align: center\"><img src=\"../data/data_v_20221224/embedded/unirep_fine_tuned/high_res_outputs/model_interpretations/BCR/age_group_healthy_only/v_gene_rankings.png\" style=\"max-width: 1500px; max-height: 800px;\" /></td></tr></table>"
      ],
      "text/plain": [
       "<IPython.core.display.HTML object>"
      ]
     },
     "metadata": {},
     "output_type": "display_data"
    },
    {
     "data": {
      "text/markdown": [
       "### GeneLocus.BCR, TargetObsColumnEnum.age_group_binary_healthy_only"
      ],
      "text/plain": [
       "<IPython.core.display.Markdown object>"
      ]
     },
     "metadata": {},
     "output_type": "display_data"
    },
    {
     "data": {
      "text/html": [
       "<table><tr><th style=\"text-align: center\">All (without healthy)</th>\n",
       "<th style=\"text-align: center\">Isotype usage</th></tr><tr><td style=\"text-align: center\"><img src=\"../out/unirep_fine_tuned/interpretations/BCR/age_group_binary_healthy_only/all.without_healthy.png\" style=\"max-width: 1000px; max-height: 600px;\" /></td>\n",
       "<td style=\"text-align: center\"><img src=\"../data/data_v_20221224/embedded/unirep_fine_tuned/high_res_outputs/model_interpretations/BCR/age_group_binary_healthy_only/isotype_usage.png\" style=\"max-width: 1000px; max-height: 600px;\" /></td></tr></table>"
      ],
      "text/plain": [
       "<IPython.core.display.HTML object>"
      ]
     },
     "metadata": {},
     "output_type": "display_data"
    },
    {
     "data": {
      "text/html": [
       "<table><tr><th style=\"text-align: center\">V gene rankings (unfiltered)</th></tr><tr><td style=\"text-align: center\"><img src=\"../data/data_v_20221224/embedded/unirep_fine_tuned/high_res_outputs/model_interpretations/BCR/age_group_binary_healthy_only/v_gene_rankings.png\" style=\"max-width: 1500px; max-height: 800px;\" /></td></tr></table>"
      ],
      "text/plain": [
       "<IPython.core.display.HTML object>"
      ]
     },
     "metadata": {},
     "output_type": "display_data"
    },
    {
     "data": {
      "text/markdown": [
       "### GeneLocus.BCR, TargetObsColumnEnum.age_group_pediatric_healthy_only"
      ],
      "text/plain": [
       "<IPython.core.display.Markdown object>"
      ]
     },
     "metadata": {},
     "output_type": "display_data"
    },
    {
     "data": {
      "text/html": [
       "<table><tr><th style=\"text-align: center\">All (without healthy)</th>\n",
       "<th style=\"text-align: center\">Isotype usage</th></tr><tr><td style=\"text-align: center\"><img src=\"../out/unirep_fine_tuned/interpretations/BCR/age_group_pediatric_healthy_only/all.without_healthy.png\" style=\"max-width: 1000px; max-height: 600px;\" /></td>\n",
       "<td style=\"text-align: center\"><img src=\"../data/data_v_20221224/embedded/unirep_fine_tuned/high_res_outputs/model_interpretations/BCR/age_group_pediatric_healthy_only/isotype_usage.png\" style=\"max-width: 1000px; max-height: 600px;\" /></td></tr></table>"
      ],
      "text/plain": [
       "<IPython.core.display.HTML object>"
      ]
     },
     "metadata": {},
     "output_type": "display_data"
    },
    {
     "data": {
      "text/html": [
       "<table><tr><th style=\"text-align: center\">V gene rankings (unfiltered)</th></tr><tr><td style=\"text-align: center\"><img src=\"../data/data_v_20221224/embedded/unirep_fine_tuned/high_res_outputs/model_interpretations/BCR/age_group_pediatric_healthy_only/v_gene_rankings.png\" style=\"max-width: 1500px; max-height: 800px;\" /></td></tr></table>"
      ],
      "text/plain": [
       "<IPython.core.display.HTML object>"
      ]
     },
     "metadata": {},
     "output_type": "display_data"
    },
    {
     "data": {
      "text/markdown": [
       "### GeneLocus.BCR, TargetObsColumnEnum.sex_healthy_only"
      ],
      "text/plain": [
       "<IPython.core.display.Markdown object>"
      ]
     },
     "metadata": {},
     "output_type": "display_data"
    },
    {
     "data": {
      "text/html": [
       "<table><tr><th style=\"text-align: center\">All (without healthy)</th>\n",
       "<th style=\"text-align: center\">Isotype usage</th></tr><tr><td style=\"text-align: center\"><img src=\"../out/unirep_fine_tuned/interpretations/BCR/sex_healthy_only/all.without_healthy.png\" style=\"max-width: 1000px; max-height: 600px;\" /></td>\n",
       "<td style=\"text-align: center\"><img src=\"../data/data_v_20221224/embedded/unirep_fine_tuned/high_res_outputs/model_interpretations/BCR/sex_healthy_only/isotype_usage.png\" style=\"max-width: 1000px; max-height: 600px;\" /></td></tr></table>"
      ],
      "text/plain": [
       "<IPython.core.display.HTML object>"
      ]
     },
     "metadata": {},
     "output_type": "display_data"
    },
    {
     "data": {
      "text/html": [
       "<table><tr><th style=\"text-align: center\">V gene rankings (unfiltered)</th></tr><tr><td style=\"text-align: center\"><img src=\"../data/data_v_20221224/embedded/unirep_fine_tuned/high_res_outputs/model_interpretations/BCR/sex_healthy_only/v_gene_rankings.png\" style=\"max-width: 1500px; max-height: 800px;\" /></td></tr></table>"
      ],
      "text/plain": [
       "<IPython.core.display.HTML object>"
      ]
     },
     "metadata": {},
     "output_type": "display_data"
    },
    {
     "data": {
      "text/markdown": [
       "### GeneLocus.BCR, TargetObsColumnEnum.covid_vs_healthy"
      ],
      "text/plain": [
       "<IPython.core.display.Markdown object>"
      ]
     },
     "metadata": {},
     "output_type": "display_data"
    },
    {
     "data": {
      "text/html": [
       "<table><tr><th style=\"text-align: center\">All (without healthy)</th>\n",
       "<th style=\"text-align: center\">Isotype usage</th></tr><tr><td style=\"text-align: center\"><img src=\"../out/unirep_fine_tuned/interpretations/BCR/covid_vs_healthy/all.without_healthy.png\" style=\"max-width: 1000px; max-height: 600px;\" /></td>\n",
       "<td style=\"text-align: center\"><img src=\"../data/data_v_20221224/embedded/unirep_fine_tuned/high_res_outputs/model_interpretations/BCR/covid_vs_healthy/isotype_usage.png\" style=\"max-width: 1000px; max-height: 600px;\" /></td></tr></table>"
      ],
      "text/plain": [
       "<IPython.core.display.HTML object>"
      ]
     },
     "metadata": {},
     "output_type": "display_data"
    },
    {
     "data": {
      "text/html": [
       "<table><tr><th style=\"text-align: center\">V gene rankings (unfiltered)</th></tr><tr><td style=\"text-align: center\"><img src=\"../data/data_v_20221224/embedded/unirep_fine_tuned/high_res_outputs/model_interpretations/BCR/covid_vs_healthy/v_gene_rankings.png\" style=\"max-width: 1500px; max-height: 800px;\" /></td></tr></table>"
      ],
      "text/plain": [
       "<IPython.core.display.HTML object>"
      ]
     },
     "metadata": {},
     "output_type": "display_data"
    },
    {
     "data": {
      "text/markdown": [
       "### GeneLocus.BCR, TargetObsColumnEnum.hiv_vs_healthy"
      ],
      "text/plain": [
       "<IPython.core.display.Markdown object>"
      ]
     },
     "metadata": {},
     "output_type": "display_data"
    },
    {
     "data": {
      "text/html": [
       "<table><tr><th style=\"text-align: center\">All (without healthy)</th>\n",
       "<th style=\"text-align: center\">Isotype usage</th></tr><tr><td style=\"text-align: center\"><img src=\"../out/unirep_fine_tuned/interpretations/BCR/hiv_vs_healthy/all.without_healthy.png\" style=\"max-width: 1000px; max-height: 600px;\" /></td>\n",
       "<td style=\"text-align: center\"><img src=\"../data/data_v_20221224/embedded/unirep_fine_tuned/high_res_outputs/model_interpretations/BCR/hiv_vs_healthy/isotype_usage.png\" style=\"max-width: 1000px; max-height: 600px;\" /></td></tr></table>"
      ],
      "text/plain": [
       "<IPython.core.display.HTML object>"
      ]
     },
     "metadata": {},
     "output_type": "display_data"
    },
    {
     "data": {
      "text/html": [
       "<table><tr><th style=\"text-align: center\">V gene rankings (unfiltered)</th></tr><tr><td style=\"text-align: center\"><img src=\"../data/data_v_20221224/embedded/unirep_fine_tuned/high_res_outputs/model_interpretations/BCR/hiv_vs_healthy/v_gene_rankings.png\" style=\"max-width: 1500px; max-height: 800px;\" /></td></tr></table>"
      ],
      "text/plain": [
       "<IPython.core.display.HTML object>"
      ]
     },
     "metadata": {},
     "output_type": "display_data"
    },
    {
     "data": {
      "text/markdown": [
       "### GeneLocus.BCR, TargetObsColumnEnum.lupus_vs_healthy"
      ],
      "text/plain": [
       "<IPython.core.display.Markdown object>"
      ]
     },
     "metadata": {},
     "output_type": "display_data"
    },
    {
     "data": {
      "text/html": [
       "<table><tr><th style=\"text-align: center\">All (without healthy)</th>\n",
       "<th style=\"text-align: center\">Isotype usage</th></tr><tr><td style=\"text-align: center\"><img src=\"../out/unirep_fine_tuned/interpretations/BCR/lupus_vs_healthy/all.without_healthy.png\" style=\"max-width: 1000px; max-height: 600px;\" /></td>\n",
       "<td style=\"text-align: center\"><img src=\"../data/data_v_20221224/embedded/unirep_fine_tuned/high_res_outputs/model_interpretations/BCR/lupus_vs_healthy/isotype_usage.png\" style=\"max-width: 1000px; max-height: 600px;\" /></td></tr></table>"
      ],
      "text/plain": [
       "<IPython.core.display.HTML object>"
      ]
     },
     "metadata": {},
     "output_type": "display_data"
    },
    {
     "data": {
      "text/html": [
       "<table><tr><th style=\"text-align: center\">V gene rankings (unfiltered)</th></tr><tr><td style=\"text-align: center\"><img src=\"../data/data_v_20221224/embedded/unirep_fine_tuned/high_res_outputs/model_interpretations/BCR/lupus_vs_healthy/v_gene_rankings.png\" style=\"max-width: 1500px; max-height: 800px;\" /></td></tr></table>"
      ],
      "text/plain": [
       "<IPython.core.display.HTML object>"
      ]
     },
     "metadata": {},
     "output_type": "display_data"
    },
    {
     "data": {
      "text/markdown": [
       "## GeneLocus.TCR"
      ],
      "text/plain": [
       "<IPython.core.display.Markdown object>"
      ]
     },
     "metadata": {},
     "output_type": "display_data"
    },
    {
     "data": {
      "text/html": [
       "<table><tr><th style=\"text-align: center\">original V gene proportions in each disease group</th></tr><tr><td style=\"text-align: center\"><img src=\"../data/data_v_20221224/embedded/unirep_fine_tuned/high_res_outputs/model_interpretations/TCR/v_gene_disease_proportions.png\" style=\"max-width: 800px; max-height: 800px;\" /></td></tr></table>"
      ],
      "text/plain": [
       "<IPython.core.display.HTML object>"
      ]
     },
     "metadata": {},
     "output_type": "display_data"
    },
    {
     "data": {
      "text/markdown": [
       "### GeneLocus.TCR, TargetObsColumnEnum.disease"
      ],
      "text/plain": [
       "<IPython.core.display.Markdown object>"
      ]
     },
     "metadata": {},
     "output_type": "display_data"
    },
    {
     "data": {
      "text/html": [
       "<table><tr><th style=\"text-align: center\">All (without healthy)</th></tr><tr><td style=\"text-align: center\"><img src=\"../out/unirep_fine_tuned/interpretations/TCR/disease/all.without_healthy.png\" style=\"max-width: 1000px; max-height: 600px;\" /></td></tr></table>"
      ],
      "text/plain": [
       "<IPython.core.display.HTML object>"
      ]
     },
     "metadata": {},
     "output_type": "display_data"
    },
    {
     "data": {
      "text/html": [
       "<table><tr><th style=\"text-align: center\">V gene rankings (unfiltered)</th></tr><tr><td style=\"text-align: center\"><img src=\"../data/data_v_20221224/embedded/unirep_fine_tuned/high_res_outputs/model_interpretations/TCR/disease/v_gene_rankings.png\" style=\"max-width: 1500px; max-height: 800px;\" /></td></tr></table>"
      ],
      "text/plain": [
       "<IPython.core.display.HTML object>"
      ]
     },
     "metadata": {},
     "output_type": "display_data"
    },
    {
     "data": {
      "text/markdown": [
       "### GeneLocus.TCR, TargetObsColumnEnum.disease_all_demographics_present"
      ],
      "text/plain": [
       "<IPython.core.display.Markdown object>"
      ]
     },
     "metadata": {},
     "output_type": "display_data"
    },
    {
     "data": {
      "text/html": [
       "<table><tr><th style=\"text-align: center\">All (without healthy)</th></tr><tr><td style=\"text-align: center\"><img src=\"../out/unirep_fine_tuned/interpretations/TCR/disease_all_demographics_present/all.without_healthy.png\" style=\"max-width: 1000px; max-height: 600px;\" /></td></tr></table>"
      ],
      "text/plain": [
       "<IPython.core.display.HTML object>"
      ]
     },
     "metadata": {},
     "output_type": "display_data"
    },
    {
     "data": {
      "text/html": [
       "<table><tr><th style=\"text-align: center\">V gene rankings (unfiltered)</th></tr><tr><td style=\"text-align: center\"><img src=\"../data/data_v_20221224/embedded/unirep_fine_tuned/high_res_outputs/model_interpretations/TCR/disease_all_demographics_present/v_gene_rankings.png\" style=\"max-width: 1500px; max-height: 800px;\" /></td></tr></table>"
      ],
      "text/plain": [
       "<IPython.core.display.HTML object>"
      ]
     },
     "metadata": {},
     "output_type": "display_data"
    },
    {
     "data": {
      "text/markdown": [
       "### GeneLocus.TCR, TargetObsColumnEnum.ethnicity_condensed_healthy_only"
      ],
      "text/plain": [
       "<IPython.core.display.Markdown object>"
      ]
     },
     "metadata": {},
     "output_type": "display_data"
    },
    {
     "data": {
      "text/html": [
       "<table><tr><th style=\"text-align: center\">All (without healthy)</th></tr><tr><td style=\"text-align: center\"><img src=\"../out/unirep_fine_tuned/interpretations/TCR/ethnicity_condensed_healthy_only/all.without_healthy.png\" style=\"max-width: 1000px; max-height: 600px;\" /></td></tr></table>"
      ],
      "text/plain": [
       "<IPython.core.display.HTML object>"
      ]
     },
     "metadata": {},
     "output_type": "display_data"
    },
    {
     "data": {
      "text/html": [
       "<table><tr><th style=\"text-align: center\">V gene rankings (unfiltered)</th></tr><tr><td style=\"text-align: center\"><img src=\"../data/data_v_20221224/embedded/unirep_fine_tuned/high_res_outputs/model_interpretations/TCR/ethnicity_condensed_healthy_only/v_gene_rankings.png\" style=\"max-width: 1500px; max-height: 800px;\" /></td></tr></table>"
      ],
      "text/plain": [
       "<IPython.core.display.HTML object>"
      ]
     },
     "metadata": {},
     "output_type": "display_data"
    },
    {
     "data": {
      "text/markdown": [
       "### GeneLocus.TCR, TargetObsColumnEnum.age_group_healthy_only"
      ],
      "text/plain": [
       "<IPython.core.display.Markdown object>"
      ]
     },
     "metadata": {},
     "output_type": "display_data"
    },
    {
     "data": {
      "text/html": [
       "<table><tr><th style=\"text-align: center\">All (without healthy)</th></tr><tr><td style=\"text-align: center\"><img src=\"../out/unirep_fine_tuned/interpretations/TCR/age_group_healthy_only/all.without_healthy.png\" style=\"max-width: 1000px; max-height: 600px;\" /></td></tr></table>"
      ],
      "text/plain": [
       "<IPython.core.display.HTML object>"
      ]
     },
     "metadata": {},
     "output_type": "display_data"
    },
    {
     "data": {
      "text/html": [
       "<table><tr><th style=\"text-align: center\">V gene rankings (unfiltered)</th></tr><tr><td style=\"text-align: center\"><img src=\"../data/data_v_20221224/embedded/unirep_fine_tuned/high_res_outputs/model_interpretations/TCR/age_group_healthy_only/v_gene_rankings.png\" style=\"max-width: 1500px; max-height: 800px;\" /></td></tr></table>"
      ],
      "text/plain": [
       "<IPython.core.display.HTML object>"
      ]
     },
     "metadata": {},
     "output_type": "display_data"
    },
    {
     "data": {
      "text/markdown": [
       "### GeneLocus.TCR, TargetObsColumnEnum.age_group_binary_healthy_only"
      ],
      "text/plain": [
       "<IPython.core.display.Markdown object>"
      ]
     },
     "metadata": {},
     "output_type": "display_data"
    },
    {
     "data": {
      "text/html": [
       "<table><tr><th style=\"text-align: center\">All (without healthy)</th></tr><tr><td style=\"text-align: center\"><img src=\"../out/unirep_fine_tuned/interpretations/TCR/age_group_binary_healthy_only/all.without_healthy.png\" style=\"max-width: 1000px; max-height: 600px;\" /></td></tr></table>"
      ],
      "text/plain": [
       "<IPython.core.display.HTML object>"
      ]
     },
     "metadata": {},
     "output_type": "display_data"
    },
    {
     "data": {
      "text/html": [
       "<table><tr><th style=\"text-align: center\">V gene rankings (unfiltered)</th></tr><tr><td style=\"text-align: center\"><img src=\"../data/data_v_20221224/embedded/unirep_fine_tuned/high_res_outputs/model_interpretations/TCR/age_group_binary_healthy_only/v_gene_rankings.png\" style=\"max-width: 1500px; max-height: 800px;\" /></td></tr></table>"
      ],
      "text/plain": [
       "<IPython.core.display.HTML object>"
      ]
     },
     "metadata": {},
     "output_type": "display_data"
    },
    {
     "data": {
      "text/markdown": [
       "### GeneLocus.TCR, TargetObsColumnEnum.age_group_pediatric_healthy_only"
      ],
      "text/plain": [
       "<IPython.core.display.Markdown object>"
      ]
     },
     "metadata": {},
     "output_type": "display_data"
    },
    {
     "data": {
      "text/html": [
       "<table><tr><th style=\"text-align: center\">All (without healthy)</th></tr><tr><td style=\"text-align: center\"><img src=\"../out/unirep_fine_tuned/interpretations/TCR/age_group_pediatric_healthy_only/all.without_healthy.png\" style=\"max-width: 1000px; max-height: 600px;\" /></td></tr></table>"
      ],
      "text/plain": [
       "<IPython.core.display.HTML object>"
      ]
     },
     "metadata": {},
     "output_type": "display_data"
    },
    {
     "data": {
      "text/html": [
       "<table><tr><th style=\"text-align: center\">V gene rankings (unfiltered)</th></tr><tr><td style=\"text-align: center\"><img src=\"../data/data_v_20221224/embedded/unirep_fine_tuned/high_res_outputs/model_interpretations/TCR/age_group_pediatric_healthy_only/v_gene_rankings.png\" style=\"max-width: 1500px; max-height: 800px;\" /></td></tr></table>"
      ],
      "text/plain": [
       "<IPython.core.display.HTML object>"
      ]
     },
     "metadata": {},
     "output_type": "display_data"
    },
    {
     "data": {
      "text/markdown": [
       "### GeneLocus.TCR, TargetObsColumnEnum.sex_healthy_only"
      ],
      "text/plain": [
       "<IPython.core.display.Markdown object>"
      ]
     },
     "metadata": {},
     "output_type": "display_data"
    },
    {
     "data": {
      "text/html": [
       "<table><tr><th style=\"text-align: center\">All (without healthy)</th></tr><tr><td style=\"text-align: center\"><img src=\"../out/unirep_fine_tuned/interpretations/TCR/sex_healthy_only/all.without_healthy.png\" style=\"max-width: 1000px; max-height: 600px;\" /></td></tr></table>"
      ],
      "text/plain": [
       "<IPython.core.display.HTML object>"
      ]
     },
     "metadata": {},
     "output_type": "display_data"
    },
    {
     "data": {
      "text/html": [
       "<table><tr><th style=\"text-align: center\">V gene rankings (unfiltered)</th></tr><tr><td style=\"text-align: center\"><img src=\"../data/data_v_20221224/embedded/unirep_fine_tuned/high_res_outputs/model_interpretations/TCR/sex_healthy_only/v_gene_rankings.png\" style=\"max-width: 1500px; max-height: 800px;\" /></td></tr></table>"
      ],
      "text/plain": [
       "<IPython.core.display.HTML object>"
      ]
     },
     "metadata": {},
     "output_type": "display_data"
    },
    {
     "data": {
      "text/markdown": [
       "### GeneLocus.TCR, TargetObsColumnEnum.covid_vs_healthy"
      ],
      "text/plain": [
       "<IPython.core.display.Markdown object>"
      ]
     },
     "metadata": {},
     "output_type": "display_data"
    },
    {
     "data": {
      "text/html": [
       "<table><tr><th style=\"text-align: center\">All (without healthy)</th></tr><tr><td style=\"text-align: center\"><img src=\"../out/unirep_fine_tuned/interpretations/TCR/covid_vs_healthy/all.without_healthy.png\" style=\"max-width: 1000px; max-height: 600px;\" /></td></tr></table>"
      ],
      "text/plain": [
       "<IPython.core.display.HTML object>"
      ]
     },
     "metadata": {},
     "output_type": "display_data"
    },
    {
     "data": {
      "text/html": [
       "<table><tr><th style=\"text-align: center\">V gene rankings (unfiltered)</th></tr><tr><td style=\"text-align: center\"><img src=\"../data/data_v_20221224/embedded/unirep_fine_tuned/high_res_outputs/model_interpretations/TCR/covid_vs_healthy/v_gene_rankings.png\" style=\"max-width: 1500px; max-height: 800px;\" /></td></tr></table>"
      ],
      "text/plain": [
       "<IPython.core.display.HTML object>"
      ]
     },
     "metadata": {},
     "output_type": "display_data"
    },
    {
     "data": {
      "text/markdown": [
       "### GeneLocus.TCR, TargetObsColumnEnum.hiv_vs_healthy"
      ],
      "text/plain": [
       "<IPython.core.display.Markdown object>"
      ]
     },
     "metadata": {},
     "output_type": "display_data"
    },
    {
     "data": {
      "text/html": [
       "<table><tr><th style=\"text-align: center\">All (without healthy)</th></tr><tr><td style=\"text-align: center\"><img src=\"../out/unirep_fine_tuned/interpretations/TCR/hiv_vs_healthy/all.without_healthy.png\" style=\"max-width: 1000px; max-height: 600px;\" /></td></tr></table>"
      ],
      "text/plain": [
       "<IPython.core.display.HTML object>"
      ]
     },
     "metadata": {},
     "output_type": "display_data"
    },
    {
     "data": {
      "text/html": [
       "<table><tr><th style=\"text-align: center\">V gene rankings (unfiltered)</th></tr><tr><td style=\"text-align: center\"><img src=\"../data/data_v_20221224/embedded/unirep_fine_tuned/high_res_outputs/model_interpretations/TCR/hiv_vs_healthy/v_gene_rankings.png\" style=\"max-width: 1500px; max-height: 800px;\" /></td></tr></table>"
      ],
      "text/plain": [
       "<IPython.core.display.HTML object>"
      ]
     },
     "metadata": {},
     "output_type": "display_data"
    },
    {
     "data": {
      "text/markdown": [
       "### GeneLocus.TCR, TargetObsColumnEnum.lupus_vs_healthy"
      ],
      "text/plain": [
       "<IPython.core.display.Markdown object>"
      ]
     },
     "metadata": {},
     "output_type": "display_data"
    },
    {
     "data": {
      "text/html": [
       "<table><tr><th style=\"text-align: center\">All (without healthy)</th></tr><tr><td style=\"text-align: center\"><img src=\"../out/unirep_fine_tuned/interpretations/TCR/lupus_vs_healthy/all.without_healthy.png\" style=\"max-width: 1000px; max-height: 600px;\" /></td></tr></table>"
      ],
      "text/plain": [
       "<IPython.core.display.HTML object>"
      ]
     },
     "metadata": {},
     "output_type": "display_data"
    },
    {
     "data": {
      "text/html": [
       "<table><tr><th style=\"text-align: center\">V gene rankings (unfiltered)</th></tr><tr><td style=\"text-align: center\"><img src=\"../data/data_v_20221224/embedded/unirep_fine_tuned/high_res_outputs/model_interpretations/TCR/lupus_vs_healthy/v_gene_rankings.png\" style=\"max-width: 1500px; max-height: 800px;\" /></td></tr></table>"
      ],
      "text/plain": [
       "<IPython.core.display.HTML object>"
      ]
     },
     "metadata": {},
     "output_type": "display_data"
    }
   ],
   "source": [
    "for gene_locus in config.gene_loci_used:\n",
    "    main_output_base_dir = (\n",
    "        config.paths.model_interpretations_output_dir / gene_locus.name\n",
    "    )\n",
    "    highres_output_base_dir = (\n",
    "        config.paths.high_res_outputs_dir / \"model_interpretations\" / gene_locus.name\n",
    "    )\n",
    "\n",
    "    display(Markdown(f\"## {gene_locus}\"))\n",
    "    show(\n",
    "        [\n",
    "            highres_output_base_dir / f\"v_gene_disease_proportions.png\",\n",
    "            # highres_output_base_dir / f\"v_gene_disease_proportions.filtered.png\",\n",
    "        ],\n",
    "        headers=[\n",
    "            \"original V gene proportions in each disease group\",\n",
    "            # \"remaining V genes after filter: how prevalent they are by disease\",\n",
    "        ],\n",
    "    )\n",
    "\n",
    "    for target_obs_column in config.classification_targets:\n",
    "        display(Markdown(f\"### {gene_locus}, {target_obs_column}\"))\n",
    "        # Subdirectories for each classification target\n",
    "        main_output_dir = main_output_base_dir / target_obs_column.name\n",
    "        highres_output_dir = highres_output_base_dir / target_obs_column.name\n",
    "\n",
    "        if gene_locus == GeneLocus.BCR:\n",
    "            show(\n",
    "                [\n",
    "                    main_output_dir / \"all.without_healthy.png\",\n",
    "                    highres_output_dir / \"isotype_usage.png\",\n",
    "                ],\n",
    "                headers=[\"All (without healthy)\", \"Isotype usage\"],\n",
    "                max_width=1000,\n",
    "                max_height=600,\n",
    "            )\n",
    "        else:\n",
    "            show(\n",
    "                main_output_dir / \"all.without_healthy.png\",\n",
    "                max_width=1000,\n",
    "                max_height=600,\n",
    "                headers=[\"All (without healthy)\"],\n",
    "            )\n",
    "\n",
    "        #         show(\n",
    "        #             highres_output_dir / \"all.png\",\n",
    "        #             max_width=1500,\n",
    "        #             headers=[\"All\"],\n",
    "        #         )\n",
    "\n",
    "        #         # plot V gene enrichment\n",
    "        #         show(\n",
    "        #             highres_output_dir / \"v_gene_rankings.filtered.png\",\n",
    "        #             max_width=1500,\n",
    "        #             headers=[\"V gene rankings\"],\n",
    "        #         )\n",
    "\n",
    "        show(\n",
    "            highres_output_dir / \"v_gene_rankings.png\",\n",
    "            max_width=1500,\n",
    "            headers=[\"V gene rankings (unfiltered)\"],\n",
    "        )\n",
    "\n",
    "#         show(\n",
    "#             highres_output_dir / \"cdr3_lengths.png\",\n",
    "#             headers=[\"CDR3 length\"],\n",
    "#             max_width=2000,\n",
    "#         )"
   ]
  },
  {
   "cell_type": "code",
   "execution_count": null,
   "metadata": {},
   "outputs": [],
   "source": []
  },
  {
   "cell_type": "code",
   "execution_count": null,
   "metadata": {},
   "outputs": [],
   "source": []
  }
 ],
 "metadata": {
  "jupytext": {
   "cell_metadata_filter": "-all"
  },
  "kernelspec": {
   "display_name": "py39-cuda-env",
   "language": "python",
   "name": "py39-cuda-env"
  },
  "language_info": {
   "codemirror_mode": {
    "name": "ipython",
    "version": 3
   },
   "file_extension": ".py",
   "mimetype": "text/x-python",
   "name": "python",
   "nbconvert_exporter": "python",
   "pygments_lexer": "ipython3",
   "version": "3.9.13"
  }
 },
 "nbformat": 4,
 "nbformat_minor": 4
}
