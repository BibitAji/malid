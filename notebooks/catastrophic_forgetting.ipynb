{
 "cells": [
  {
   "cell_type": "markdown",
   "id": "ce99e097",
   "metadata": {},
   "source": [
    "# Catastrophic Forgetting\n",
    "\n",
    "## Reviewer request:\n",
    "\n",
    "- State the perplexity of the original UniRep model [a specific metric we can compute]\n",
    "\n",
    "- State the perplexity on the test set of BCR sequences of the fine tuned model.\n",
    "\n",
    "- State the perplexity of the test set of non-BCR sequences (the original unirep test set) of the fine tuned model. These numbers are needed to assess whether the fine tuning was successful and no catastrophic forgetting\n",
    "\n",
    "\n",
    "## Conclusions from this notebook\n",
    "- Finetuning improves the cross-entropy loss on the malid sequences as well as the uniref50 sequences.\n",
    "- The improvement is more significant on malid sequences than on uniref50 sequences\n",
    "- Finetuning does not introduce catastrophic forgetting of uniref50 training data\n",
    "\n",
    "## Some notes\n",
    "- Implemented the same filtering of uniref50 data as the unirep [methods section](https://www.nature.com/articles/s41592-019-0598-1#Sec9):\n",
    "\n",
    "> \"We removed proteins longer than 2,000 amino acids and records containing noncanonical amino-acid symbols (X, B, Z, J), randomly selected test and validation subsets for monitoring training (1% of the overall dataset each) and used the rest of the data (~24 million sequences) in training.\""
   ]
  },
  {
   "cell_type": "code",
   "execution_count": 1,
   "id": "5d525cad",
   "metadata": {
    "execution": {
     "iopub.execute_input": "2022-12-25T16:21:28.222937Z",
     "iopub.status.busy": "2022-12-25T16:21:28.222595Z",
     "iopub.status.idle": "2022-12-25T16:21:28.231830Z",
     "shell.execute_reply": "2022-12-25T16:21:28.231182Z"
    },
    "tags": []
   },
   "outputs": [],
   "source": [
    "run_extra_analysis = False  # feature flag to do a bunch of extra computation"
   ]
  },
  {
   "cell_type": "code",
   "execution_count": 2,
   "id": "e190823f-6b6b-4d6d-9dd0-e58c18818ac6",
   "metadata": {
    "execution": {
     "iopub.execute_input": "2022-12-25T16:21:28.235106Z",
     "iopub.status.busy": "2022-12-25T16:21:28.234839Z",
     "iopub.status.idle": "2022-12-25T16:21:47.371935Z",
     "shell.execute_reply": "2022-12-25T16:21:47.370843Z"
    },
    "lines_to_next_cell": 2,
    "tags": []
   },
   "outputs": [
    {
     "name": "stderr",
     "output_type": "stream",
     "text": [
      "2022-12-25 08:21:43,011 - py.warnings - WARNING - /users/maximz/anaconda3/envs/cuda-env-py39/lib/python3.9/site-packages/jax/experimental/stax.py:28: FutureWarning: jax.experimental.stax is deprecated, import jax.example_libraries.stax instead\n",
      "  warnings.warn('jax.experimental.stax is deprecated, '\n",
      "\n",
      "2022-12-25 08:21:43,118 - absl - INFO - Unable to initialize backend 'tpu_driver': NOT_FOUND: Unable to find driver in registry given worker: \n",
      "2022-12-25 08:21:46.789251: E external/org_tensorflow/tensorflow/stream_executor/cuda/cuda_driver.cc:265] failed call to cuInit: CUDA_ERROR_NO_DEVICE: no CUDA-capable device is detected\n",
      "2022-12-25 08:21:46,789 - absl - INFO - Unable to initialize backend 'cuda': FAILED_PRECONDITION: No visible GPU devices.\n",
      "2022-12-25 08:21:46,791 - absl - INFO - Unable to initialize backend 'rocm': NOT_FOUND: Could not find registered platform with name: \"rocm\". Available platform names are: Host Interpreter CUDA\n",
      "2022-12-25 08:21:46,793 - absl - INFO - Unable to initialize backend 'tpu': module 'jaxlib.xla_extension' has no attribute 'get_tpu_client'\n",
      "2022-12-25 08:21:46,793 - absl - WARNING - No GPU/TPU found, falling back to CPU. (Set TF_CPP_MIN_LOG_LEVEL=0 and rerun for more info.)\n",
      "2022-12-25 08:21:47,346 - py.warnings - WARNING - /users/maximz/anaconda3/envs/cuda-env-py39/lib/python3.9/site-packages/jax/experimental/optimizers.py:28: FutureWarning: jax.experimental.optimizers is deprecated, import jax.example_libraries.optimizers instead\n",
      "  warnings.warn('jax.experimental.optimizers is deprecated, '\n",
      "\n"
     ]
    }
   ],
   "source": [
    "import pandas as pd\n",
    "import choosegpu\n",
    "\n",
    "choosegpu.configure_gpu(enable=False)\n",
    "from Bio import SeqIO\n",
    "import gzip\n",
    "import re\n",
    "from malid import config, helpers\n",
    "import genetools\n",
    "import pandas as pd\n",
    "import matplotlib.pyplot as plt\n",
    "import matplotlib.patches as patches\n",
    "from jax_unirep.evotuning_models import mlstm1900_init_fun, mlstm1900_apply_fun\n",
    "from jax_unirep.utils import input_output_pairs, load_params\n",
    "from jax_unirep.evotuning import avg_loss\n",
    "import joblib\n",
    "import os\n",
    "from malid.datamodels import GeneLocus\n",
    "from malid.apply_embedding import load_sequences_from_fold\n",
    "import numpy as np\n",
    "import seaborn as sns"
   ]
  },
  {
   "cell_type": "code",
   "execution_count": null,
   "id": "54342f23-6b0a-4104-a011-36bf737f9c4c",
   "metadata": {},
   "outputs": [],
   "source": []
  },
  {
   "cell_type": "code",
   "execution_count": 3,
   "id": "b2e016d9-3caa-4a6b-bc61-bf4296706ab6",
   "metadata": {
    "execution": {
     "iopub.execute_input": "2022-12-25T16:21:47.375879Z",
     "iopub.status.busy": "2022-12-25T16:21:47.375580Z",
     "iopub.status.idle": "2022-12-25T16:39:23.827257Z",
     "shell.execute_reply": "2022-12-25T16:39:23.825707Z"
    },
    "lines_to_next_cell": 2
   },
   "outputs": [],
   "source": [
    "bad_chars = re.compile(\".*[XBZJ].*\")\n",
    "# NOTE: don't limit to the first n rows of fasta or else you'll get a weird size distribution of sequences\n",
    "uniref_sequences = []\n",
    "uniref_taxonomies = []\n",
    "with gzip.open(\"../data/uniref50.fasta.gz\", \"rt\") as handler:\n",
    "    fasta_sequences = SeqIO.parse(handler, \"fasta\")\n",
    "    for sequence in fasta_sequences:\n",
    "        name, seq = sequence.id, str(sequence.seq)\n",
    "        if len(seq) < 2000 and not bad_chars.match(seq):\n",
    "            uniref_sequences.append(seq)\n",
    "            uniref_taxonomies.append(\n",
    "                sequence.description.split(\"Tax=\")[-1].split(\"TaxID\")[0].strip()\n",
    "            )\n",
    "\n",
    "uniref_sequences = pd.Series(uniref_sequences)"
   ]
  },
  {
   "cell_type": "code",
   "execution_count": 4,
   "id": "8a342e48",
   "metadata": {
    "execution": {
     "iopub.execute_input": "2022-12-25T16:39:23.831463Z",
     "iopub.status.busy": "2022-12-25T16:39:23.831130Z",
     "iopub.status.idle": "2022-12-25T16:39:40.270533Z",
     "shell.execute_reply": "2022-12-25T16:39:40.269086Z"
    }
   },
   "outputs": [
    {
     "data": {
      "text/plain": [
       "Bacteria                         1240963\n",
       "root                              737461\n",
       "Proteobacteria                    404879\n",
       "marine sediment metagenome        383453\n",
       "Actinomycetia                     351300\n",
       "Acidobacteria bacterium           307580\n",
       "Chloroflexi bacterium             250780\n",
       "Deltaproteobacteria bacterium     245843\n",
       "Gammaproteobacteria               237639\n",
       "cellular organisms                213214\n",
       "Streptomyces                      212169\n",
       "Bacteroidetes                     210910\n",
       "Alphaproteobacteria               204373\n",
       "Arundo donax                      203382\n",
       "Planctomycetes bacterium          201398\n",
       "Eubacteriales                     180856\n",
       "Bacteroidetes bacterium           170650\n",
       "Gammaproteobacteria bacterium     169215\n",
       "Firmicutes                        166538\n",
       "Actinomycetia bacterium           164285\n",
       "marine metagenome                 147897\n",
       "bacterium                         139153\n",
       "Mesangiospermae                   123079\n",
       "Tanacetum cinerariifolium         119716\n",
       "Araneus ventricosus               118623\n",
       "viral metagenome                  117347\n",
       "Bacillaceae                       109045\n",
       "Escherichia coli                  108813\n",
       "Terrabacteria group               104859\n",
       "Euteleostomi                      103183\n",
       "dtype: int64"
      ]
     },
     "execution_count": 4,
     "metadata": {},
     "output_type": "execute_result"
    }
   ],
   "source": [
    "# what are the most prevalent types of sequences in the uniref data?\n",
    "uniref_taxonomies = pd.Series(uniref_taxonomies)\n",
    "uniref_taxonomies.value_counts().head(30)"
   ]
  },
  {
   "cell_type": "code",
   "execution_count": 5,
   "id": "e2d10383",
   "metadata": {
    "execution": {
     "iopub.execute_input": "2022-12-25T16:39:40.274385Z",
     "iopub.status.busy": "2022-12-25T16:39:40.274071Z",
     "iopub.status.idle": "2022-12-25T16:40:06.004549Z",
     "shell.execute_reply": "2022-12-25T16:40:06.003624Z"
    }
   },
   "outputs": [
    {
     "data": {
      "text/plain": [
       "Text(0, 0.5, 'num sequences')"
      ]
     },
     "execution_count": 5,
     "metadata": {},
     "output_type": "execute_result"
    },
    {
     "data": {
      "image/png": "[encoded data removed]",
      "text/plain": [
       "<Figure size 432x288 with 1 Axes>"
      ]
     },
     "metadata": {
      "needs_background": "light"
     },
     "output_type": "display_data"
    },
    {
     "data": {
      "image/png": "[encoded data removed]",
      "text/plain": [
       "<Figure size 432x288 with 1 Axes>"
      ]
     },
     "metadata": {
      "needs_background": "light"
     },
     "output_type": "display_data"
    }
   ],
   "source": [
    "# what is the sequence length distribution in uniref50?\n",
    "\n",
    "length_counts = uniref_sequences.apply(lambda x: len(x)).value_counts().sort_index()\n",
    "window = 500\n",
    "\n",
    "fig, ax = plt.subplots()\n",
    "plt.scatter(x=length_counts.index, y=length_counts, s=1)\n",
    "rect = patches.Rectangle(\n",
    "    (window, 0),\n",
    "    -window,\n",
    "    length_counts.max(),\n",
    "    linewidth=1,\n",
    "    edgecolor=\"r\",\n",
    "    facecolor=\"none\",\n",
    ")\n",
    "ax.add_patch(rect)\n",
    "plt.xlabel(\"sequence length\")\n",
    "plt.ylabel(\"num sequences\")\n",
    "\n",
    "length_counts\n",
    "fig, ax = plt.subplots()\n",
    "plt.scatter(x=length_counts.index[:window], y=length_counts[:window], s=1)\n",
    "plt.xlabel(\"sequence length\")\n",
    "plt.ylabel(\"num sequences\")"
   ]
  },
  {
   "cell_type": "code",
   "execution_count": 6,
   "id": "b752e2e0",
   "metadata": {
    "execution": {
     "iopub.execute_input": "2022-12-25T16:40:06.007977Z",
     "iopub.status.busy": "2022-12-25T16:40:06.007686Z",
     "iopub.status.idle": "2022-12-25T16:40:24.074269Z",
     "shell.execute_reply": "2022-12-25T16:40:24.073305Z"
    }
   },
   "outputs": [],
   "source": [
    "# load malid seqs\n",
    "malid_sequences = load_sequences_from_fold(\n",
    "    fold_id=1, fold_label=\"test\", gene_locus=GeneLocus.BCR\n",
    ")"
   ]
  },
  {
   "cell_type": "code",
   "execution_count": 7,
   "id": "dcc34f59",
   "metadata": {
    "execution": {
     "iopub.execute_input": "2022-12-25T16:40:24.078338Z",
     "iopub.status.busy": "2022-12-25T16:40:24.078015Z",
     "iopub.status.idle": "2022-12-25T16:40:25.915491Z",
     "shell.execute_reply": "2022-12-25T16:40:25.914688Z"
    }
   },
   "outputs": [
    {
     "data": {
      "text/plain": [
       "<matplotlib.collections.PathCollection at 0x7f8b1188aee0>"
      ]
     },
     "execution_count": 7,
     "metadata": {},
     "output_type": "execute_result"
    },
    {
     "data": {
      "image/png": "[encoded data removed]",
      "text/plain": [
       "<Figure size 432x288 with 1 Axes>"
      ]
     },
     "metadata": {
      "needs_background": "light"
     },
     "output_type": "display_data"
    }
   ],
   "source": [
    "# what is the distribution of sequence lengths in the malid data?\n",
    "length_counts = (\n",
    "    pd.Series(malid_sequences).apply(lambda x: len(x)).value_counts().sort_index()\n",
    ")\n",
    "plt.scatter(length_counts.index, length_counts)"
   ]
  },
  {
   "cell_type": "code",
   "execution_count": 8,
   "id": "d0f7f1fe",
   "metadata": {
    "execution": {
     "iopub.execute_input": "2022-12-25T16:40:25.919122Z",
     "iopub.status.busy": "2022-12-25T16:40:25.918835Z",
     "iopub.status.idle": "2022-12-25T16:40:26.553013Z",
     "shell.execute_reply": "2022-12-25T16:40:26.551970Z"
    }
   },
   "outputs": [],
   "source": [
    "# load jax unirep with standard configuration\n",
    "base_params = load_params()\n",
    "\n",
    "\n",
    "def fetch_malid_fold_data(gene_locus, fold_id, downsample=None):\n",
    "    \"\"\"\n",
    "    For a given fold, load the parameters of the model as well as the sequence data for train/test/val splits\n",
    "    Optionally downsample the reads\n",
    "    \"\"\"\n",
    "    best_params = joblib.load(\n",
    "        config.paths.fine_tuned_embedding_dir\n",
    "        / f\"{gene_locus.name}/fold_{fold_id}/best_params.joblib\"\n",
    "    )\n",
    "    test_sequences = load_sequences_from_fold(\n",
    "        fold_id=fold_id, fold_label=\"test\", gene_locus=gene_locus\n",
    "    )\n",
    "    val_sequences = load_sequences_from_fold(\n",
    "        fold_id=fold_id, fold_label=\"validation\", gene_locus=gene_locus\n",
    "    )\n",
    "    train_sequences = load_sequences_from_fold(\n",
    "        fold_id=fold_id, fold_label=\"train_smaller\", gene_locus=gene_locus\n",
    "    )\n",
    "\n",
    "    if downsample:\n",
    "        test_sequences = np.random.choice(test_sequences, downsample)\n",
    "        val_sequences = np.random.choice(val_sequences, downsample)\n",
    "        train_sequences = np.random.choice(train_sequences, downsample)\n",
    "\n",
    "    return best_params, test_sequences, val_sequences, train_sequences\n",
    "\n",
    "\n",
    "def calc_loss(params, sequences):\n",
    "    \"\"\"\n",
    "    For a set of parameters and a set of sequences, calculate the average loss\n",
    "    Sequences must be the same length\n",
    "    \"\"\"\n",
    "    x, y = input_output_pairs(sequences)\n",
    "    loss = float(avg_loss([x], [y], params, mlstm1900_apply_fun))\n",
    "    return [len(sequences[0]), len(sequences), loss]\n",
    "\n",
    "\n",
    "def weighted_average_loss(params, sequences):\n",
    "    \"\"\"\n",
    "    This function calculates the cross-entropy loss for a batch of protein sequences of arbitrary length,\n",
    "    by batching togethger all sequences of the same length and passing them through the mLSTM.\n",
    "    We want to calculate a single average for the sequences, so we take the weighted average of the\n",
    "    per-length losses (weighted by number of sequences in a given length)\n",
    "    \"\"\"\n",
    "    length_indexed_sequences = {}\n",
    "    for seq in sequences:\n",
    "        if len(seq) in length_indexed_sequences.keys():\n",
    "            length_indexed_sequences[len(seq)].append(seq)\n",
    "        else:\n",
    "            length_indexed_sequences[len(seq)] = [seq]\n",
    "    losses = [\n",
    "        calc_loss(params, length_indexed_sequences[i])\n",
    "        for i in sorted(length_indexed_sequences.keys())\n",
    "    ]\n",
    "    summary = pd.DataFrame(losses, columns=[\"length\", \"n\", \"avg_loss\"])\n",
    "    weighted_avg_loss = sum(summary[\"avg_loss\"] * summary[\"n\"]) / sum(summary[\"n\"])\n",
    "    return weighted_avg_loss\n",
    "\n",
    "\n",
    "def perplexity(params, sequences):\n",
    "    return np.exp(weighted_average_loss(sequences, params))"
   ]
  },
  {
   "cell_type": "markdown",
   "id": "78b0e006",
   "metadata": {},
   "source": [
    "# Experiment 1: Explore all of the models from each cross validation fold\n",
    "This takes approximately 2 days to run, so hidden behind a feature flag for now"
   ]
  },
  {
   "cell_type": "code",
   "execution_count": 9,
   "id": "c1f6cea0",
   "metadata": {
    "execution": {
     "iopub.execute_input": "2022-12-25T16:40:26.557394Z",
     "iopub.status.busy": "2022-12-25T16:40:26.557021Z",
     "iopub.status.idle": "2022-12-25T16:40:26.565062Z",
     "shell.execute_reply": "2022-12-25T16:40:26.564175Z"
    },
    "lines_to_next_cell": 2
   },
   "outputs": [],
   "source": [
    "downsample = 10000\n",
    "\n",
    "if run_extra_analysis:\n",
    "    # keep uniref set consistent throughout analysis\n",
    "    uniref_sample = np.random.choice(uniref_sequences, downsample)\n",
    "\n",
    "    results = {}\n",
    "    for gene_locus in config.gene_loci_used:\n",
    "        for fold_id in config.cross_validation_fold_ids:\n",
    "            (\n",
    "                best_params,\n",
    "                test_sequences,\n",
    "                val_sequences,\n",
    "                train_sequences,\n",
    "            ) = fetch_malid_fold_data(gene_locus, fold_id, downsample)\n",
    "            results[\n",
    "                (gene_locus.name, fold_id, \"finetune_test\")\n",
    "            ] = weighted_average_loss(best_params, test_sequences)\n",
    "            results[(gene_locus.name, fold_id, \"finetune_val\")] = weighted_average_loss(\n",
    "                best_params, val_sequences\n",
    "            )\n",
    "            results[\n",
    "                (gene_locus.name, fold_id, \"finetune_train\")\n",
    "            ] = weighted_average_loss(best_params, train_sequences)\n",
    "            results[\n",
    "                (gene_locus.name, fold_id, \"finetune_uniref\")\n",
    "            ] = weighted_average_loss(best_params, uniref_sample)\n",
    "            results[(gene_locus.name, fold_id, \"base_test\")] = weighted_average_loss(\n",
    "                base_params, test_sequences\n",
    "            )\n",
    "            results[(gene_locus.name, fold_id, \"base_val\")] = weighted_average_loss(\n",
    "                base_params, val_sequences\n",
    "            )\n",
    "            results[(gene_locus.name, fold_id, \"base_train\")] = weighted_average_loss(\n",
    "                base_params, train_sequences\n",
    "            )\n",
    "            results[(gene_locus.name, fold_id, \"base_uniref\")] = weighted_average_loss(\n",
    "                base_params, uniref_sample\n",
    "            )"
   ]
  },
  {
   "cell_type": "code",
   "execution_count": 10,
   "id": "41610682",
   "metadata": {
    "execution": {
     "iopub.execute_input": "2022-12-25T16:40:26.568063Z",
     "iopub.status.busy": "2022-12-25T16:40:26.567718Z",
     "iopub.status.idle": "2022-12-25T16:40:26.574873Z",
     "shell.execute_reply": "2022-12-25T16:40:26.573929Z"
    }
   },
   "outputs": [],
   "source": [
    "if run_extra_analysis:\n",
    "    summary = (\n",
    "        pd.Series(results)\n",
    "        .reset_index()\n",
    "        .rename(\n",
    "            columns={\n",
    "                \"level_0\": \"gene_locus\",\n",
    "                \"level_1\": \"fold\",\n",
    "                \"level_2\": \"experiment\",\n",
    "                0: \"loss\",\n",
    "            }\n",
    "        )\n",
    "    )\n",
    "    summary[\"perplexity\"] = np.exp(summary[\"loss\"])\n",
    "    summary.to_csv(\n",
    "        config.paths.fine_tuned_embedding_dir / \"cross_validation_loss_analysis.csv\"\n",
    "    )\n",
    "    summary[\"model\"] = summary[\"experiment\"].apply(lambda x: x.split(\"_\")[0])\n",
    "    summary[\"dataset\"] = summary[\"experiment\"].apply(lambda x: x.split(\"_\")[1])\n",
    "    display(summary.drop(\"experiment\", axis=1))\n",
    "    display(\n",
    "        summary.groupby([\"gene_locus\", \"experiment\"]).agg(\n",
    "            {\"loss\": \"mean\", \"perplexity\": \"mean\"}\n",
    "        )\n",
    "    )"
   ]
  },
  {
   "cell_type": "code",
   "execution_count": 11,
   "id": "cdbd3fbd",
   "metadata": {
    "execution": {
     "iopub.execute_input": "2022-12-25T16:40:26.578064Z",
     "iopub.status.busy": "2022-12-25T16:40:26.577788Z",
     "iopub.status.idle": "2022-12-25T16:40:26.584858Z",
     "shell.execute_reply": "2022-12-25T16:40:26.584008Z"
    }
   },
   "outputs": [],
   "source": [
    "if run_extra_analysis:\n",
    "    plt.figure()\n",
    "    sns.stripplot(x=\"loss\", y=\"experiment\", hue=\"gene_locus\", data=summary)\n",
    "    plt.figure()\n",
    "    sns.stripplot(\n",
    "        y=\"perplexity\",\n",
    "        x=\"model\",\n",
    "        hue=\"dataset\",\n",
    "        data=summary,\n",
    "        palette=\"Paired\",\n",
    "        order=[\"base\", \"finetune\"],\n",
    "    )\n",
    "    plt.legend(bbox_to_anchor=(1, 1))\n",
    "\n",
    "    plt.figure()\n",
    "    sns.stripplot(\n",
    "        y=\"loss\",\n",
    "        x=\"model\",\n",
    "        hue=\"dataset\",\n",
    "        data=summary,\n",
    "        palette=\"Paired\",\n",
    "        order=[\"base\", \"finetune\"],\n",
    "    )\n",
    "    plt.legend(bbox_to_anchor=(1, 1))\n",
    "    plt.ylabel(\"cross entropy loss\")\n",
    "\n",
    "    plt.figure()\n",
    "    sns.stripplot(\n",
    "        y=\"loss\",\n",
    "        x=\"model\",\n",
    "        hue=\"gene_locus\",\n",
    "        data=summary,\n",
    "        palette=\"Paired\",\n",
    "        order=[\"base\", \"finetune\"],\n",
    "    )\n",
    "    plt.legend(bbox_to_anchor=(1, 1))\n",
    "    plt.ylabel(\"cross entropy loss\")"
   ]
  },
  {
   "cell_type": "markdown",
   "id": "93c41727",
   "metadata": {},
   "source": [
    "# Experiment 2: Only use -1 fold model\n",
    "- Use validation set of sequences from the -1 fold model\n",
    "- Add 20 bootstrap samples of 1000 sequences\n",
    "- Make figure with confidence intervals"
   ]
  },
  {
   "cell_type": "code",
   "execution_count": 12,
   "id": "be750716",
   "metadata": {
    "execution": {
     "iopub.execute_input": "2022-12-25T16:40:26.587945Z",
     "iopub.status.busy": "2022-12-25T16:40:26.587669Z",
     "iopub.status.idle": "2022-12-27T00:16:04.659459Z",
     "shell.execute_reply": "2022-12-27T00:16:04.658035Z"
    },
    "lines_to_next_cell": 2
   },
   "outputs": [
    {
     "name": "stdout",
     "output_type": "stream",
     "text": [
      "0\n",
      "1\n",
      "2\n",
      "3\n",
      "4\n",
      "5\n",
      "6\n",
      "7\n",
      "8\n",
      "9\n",
      "10\n",
      "11\n",
      "12\n",
      "13\n",
      "14\n",
      "15\n",
      "16\n",
      "17\n",
      "18\n",
      "19\n",
      "0\n",
      "1\n",
      "2\n",
      "3\n",
      "4\n",
      "5\n",
      "6\n",
      "7\n",
      "8\n",
      "9\n",
      "10\n",
      "11\n",
      "12\n",
      "13\n",
      "14\n",
      "15\n",
      "16\n",
      "17\n",
      "18\n",
      "19\n"
     ]
    }
   ],
   "source": [
    "results = {}\n",
    "for gene_locus in config.gene_loci_used:\n",
    "    val_sequences = load_sequences_from_fold(\n",
    "        fold_id=-1, fold_label=\"validation\", gene_locus=gene_locus\n",
    "    )\n",
    "    best_params = joblib.load(\n",
    "        config.paths.fine_tuned_embedding_dir\n",
    "        / f\"{gene_locus.name}/fold_-1/best_params.joblib\",\n",
    "    )\n",
    "    for i in range(20):\n",
    "        print(i)\n",
    "        val_sample = np.random.choice(val_sequences, 1000)\n",
    "        uniref_sample = np.random.choice(uniref_sequences, 1000)\n",
    "        results[(gene_locus.name, i, \"best\", \"validation\")] = weighted_average_loss(\n",
    "            best_params, val_sample\n",
    "        )\n",
    "        results[(gene_locus.name, i, \"best\", \"uniref\")] = weighted_average_loss(\n",
    "            best_params, uniref_sample\n",
    "        )\n",
    "        results[(gene_locus.name, i, \"base\", \"validation\")] = weighted_average_loss(\n",
    "            base_params, val_sample\n",
    "        )\n",
    "        results[(gene_locus.name, i, \"base\", \"uniref\")] = weighted_average_loss(\n",
    "            base_params, uniref_sample\n",
    "        )"
   ]
  },
  {
   "cell_type": "code",
   "execution_count": 13,
   "id": "35f22dd5",
   "metadata": {
    "execution": {
     "iopub.execute_input": "2022-12-27T00:16:04.665069Z",
     "iopub.status.busy": "2022-12-27T00:16:04.664771Z",
     "iopub.status.idle": "2022-12-27T00:16:04.685451Z",
     "shell.execute_reply": "2022-12-27T00:16:04.684613Z"
    }
   },
   "outputs": [],
   "source": [
    "bootstraps = (\n",
    "    pd.Series(results)\n",
    "    .reset_index()\n",
    "    .rename(\n",
    "        columns={\n",
    "            \"level_0\": \"locus\",\n",
    "            \"level_1\": \"iteration\",\n",
    "            \"level_2\": \"model\",\n",
    "            \"level_3\": \"dataset\",\n",
    "            0: \"cross_val_entropy\",\n",
    "        }\n",
    "    )\n",
    ")\n",
    "\n",
    "# perplexity = 2^{cross entropy loss}\n",
    "bootstraps[\"perplexity\"] = np.exp2(bootstraps[\"cross_val_entropy\"])\n",
    "\n",
    "bootstraps[\"model\"] = bootstraps[\"model\"].map(\n",
    "    {\"best\": \"Fine-tuned UniRep\", \"base\": \"Base UniRep\"}\n",
    ")\n",
    "bootstraps.loc[\n",
    "    (bootstraps[\"locus\"] == \"BCR\") & (bootstraps[\"dataset\"] == \"validation\"), \"Dataset\"\n",
    "] = \"BCR sequences\"\n",
    "bootstraps.loc[\n",
    "    (bootstraps[\"locus\"] == \"TCR\") & (bootstraps[\"dataset\"] == \"validation\"), \"Dataset\"\n",
    "] = \"TCR sequences\"\n",
    "bootstraps.loc[bootstraps[\"dataset\"] == \"uniref\", \"Dataset\"] = \"Uniref50 sequences\""
   ]
  },
  {
   "cell_type": "code",
   "execution_count": 14,
   "id": "d5e60f9a",
   "metadata": {
    "execution": {
     "iopub.execute_input": "2022-12-27T00:16:04.688695Z",
     "iopub.status.busy": "2022-12-27T00:16:04.688400Z",
     "iopub.status.idle": "2022-12-27T00:16:04.706753Z",
     "shell.execute_reply": "2022-12-27T00:16:04.705959Z"
    }
   },
   "outputs": [],
   "source": [
    "bootstraps.to_csv(\n",
    "    config.paths.output_dir / f\"fine_tuning.catastrophic_forgetting_analysis.csv\"\n",
    ")"
   ]
  },
  {
   "cell_type": "code",
   "execution_count": null,
   "id": "f1839929-c34b-40a7-850b-233fe04be530",
   "metadata": {},
   "outputs": [],
   "source": []
  },
  {
   "cell_type": "code",
   "execution_count": 15,
   "id": "c85214d5-0531-4971-8e6b-c88fe89331e0",
   "metadata": {
    "execution": {
     "iopub.execute_input": "2022-12-27T00:16:04.710203Z",
     "iopub.status.busy": "2022-12-27T00:16:04.709829Z",
     "iopub.status.idle": "2022-12-27T00:16:04.736624Z",
     "shell.execute_reply": "2022-12-27T00:16:04.735805Z"
    }
   },
   "outputs": [
    {
     "data": {
      "text/html": [
       "<div>\n",
       "<style scoped>\n",
       "    .dataframe tbody tr th:only-of-type {\n",
       "        vertical-align: middle;\n",
       "    }\n",
       "\n",
       "    .dataframe tbody tr th {\n",
       "        vertical-align: top;\n",
       "    }\n",
       "\n",
       "    .dataframe thead th {\n",
       "        text-align: right;\n",
       "    }\n",
       "</style>\n",
       "<table border=\"1\" class=\"dataframe\">\n",
       "  <thead>\n",
       "    <tr style=\"text-align: right;\">\n",
       "      <th></th>\n",
       "      <th>locus</th>\n",
       "      <th>iteration</th>\n",
       "      <th>model</th>\n",
       "      <th>dataset</th>\n",
       "      <th>cross_val_entropy</th>\n",
       "      <th>perplexity</th>\n",
       "      <th>Dataset</th>\n",
       "    </tr>\n",
       "  </thead>\n",
       "  <tbody>\n",
       "    <tr>\n",
       "      <th>0</th>\n",
       "      <td>BCR</td>\n",
       "      <td>0</td>\n",
       "      <td>Fine-tuned UniRep</td>\n",
       "      <td>validation</td>\n",
       "      <td>0.110946</td>\n",
       "      <td>1.079936</td>\n",
       "      <td>BCR sequences</td>\n",
       "    </tr>\n",
       "    <tr>\n",
       "      <th>1</th>\n",
       "      <td>BCR</td>\n",
       "      <td>0</td>\n",
       "      <td>Fine-tuned UniRep</td>\n",
       "      <td>uniref</td>\n",
       "      <td>0.191261</td>\n",
       "      <td>1.141761</td>\n",
       "      <td>Uniref50 sequences</td>\n",
       "    </tr>\n",
       "    <tr>\n",
       "      <th>2</th>\n",
       "      <td>BCR</td>\n",
       "      <td>0</td>\n",
       "      <td>Base UniRep</td>\n",
       "      <td>validation</td>\n",
       "      <td>0.206802</td>\n",
       "      <td>1.154127</td>\n",
       "      <td>BCR sequences</td>\n",
       "    </tr>\n",
       "    <tr>\n",
       "      <th>3</th>\n",
       "      <td>BCR</td>\n",
       "      <td>0</td>\n",
       "      <td>Base UniRep</td>\n",
       "      <td>uniref</td>\n",
       "      <td>0.235150</td>\n",
       "      <td>1.177029</td>\n",
       "      <td>Uniref50 sequences</td>\n",
       "    </tr>\n",
       "    <tr>\n",
       "      <th>4</th>\n",
       "      <td>BCR</td>\n",
       "      <td>1</td>\n",
       "      <td>Fine-tuned UniRep</td>\n",
       "      <td>validation</td>\n",
       "      <td>0.110718</td>\n",
       "      <td>1.079765</td>\n",
       "      <td>BCR sequences</td>\n",
       "    </tr>\n",
       "    <tr>\n",
       "      <th>...</th>\n",
       "      <td>...</td>\n",
       "      <td>...</td>\n",
       "      <td>...</td>\n",
       "      <td>...</td>\n",
       "      <td>...</td>\n",
       "      <td>...</td>\n",
       "      <td>...</td>\n",
       "    </tr>\n",
       "    <tr>\n",
       "      <th>155</th>\n",
       "      <td>TCR</td>\n",
       "      <td>18</td>\n",
       "      <td>Base UniRep</td>\n",
       "      <td>uniref</td>\n",
       "      <td>0.235633</td>\n",
       "      <td>1.177423</td>\n",
       "      <td>Uniref50 sequences</td>\n",
       "    </tr>\n",
       "    <tr>\n",
       "      <th>156</th>\n",
       "      <td>TCR</td>\n",
       "      <td>19</td>\n",
       "      <td>Fine-tuned UniRep</td>\n",
       "      <td>validation</td>\n",
       "      <td>0.094989</td>\n",
       "      <td>1.068057</td>\n",
       "      <td>TCR sequences</td>\n",
       "    </tr>\n",
       "    <tr>\n",
       "      <th>157</th>\n",
       "      <td>TCR</td>\n",
       "      <td>19</td>\n",
       "      <td>Fine-tuned UniRep</td>\n",
       "      <td>uniref</td>\n",
       "      <td>0.212250</td>\n",
       "      <td>1.158493</td>\n",
       "      <td>Uniref50 sequences</td>\n",
       "    </tr>\n",
       "    <tr>\n",
       "      <th>158</th>\n",
       "      <td>TCR</td>\n",
       "      <td>19</td>\n",
       "      <td>Base UniRep</td>\n",
       "      <td>validation</td>\n",
       "      <td>0.212736</td>\n",
       "      <td>1.158884</td>\n",
       "      <td>TCR sequences</td>\n",
       "    </tr>\n",
       "    <tr>\n",
       "      <th>159</th>\n",
       "      <td>TCR</td>\n",
       "      <td>19</td>\n",
       "      <td>Base UniRep</td>\n",
       "      <td>uniref</td>\n",
       "      <td>0.235495</td>\n",
       "      <td>1.177311</td>\n",
       "      <td>Uniref50 sequences</td>\n",
       "    </tr>\n",
       "  </tbody>\n",
       "</table>\n",
       "<p>160 rows × 7 columns</p>\n",
       "</div>"
      ],
      "text/plain": [
       "    locus  iteration              model     dataset  cross_val_entropy  \\\n",
       "0     BCR          0  Fine-tuned UniRep  validation           0.110946   \n",
       "1     BCR          0  Fine-tuned UniRep      uniref           0.191261   \n",
       "2     BCR          0        Base UniRep  validation           0.206802   \n",
       "3     BCR          0        Base UniRep      uniref           0.235150   \n",
       "4     BCR          1  Fine-tuned UniRep  validation           0.110718   \n",
       "..    ...        ...                ...         ...                ...   \n",
       "155   TCR         18        Base UniRep      uniref           0.235633   \n",
       "156   TCR         19  Fine-tuned UniRep  validation           0.094989   \n",
       "157   TCR         19  Fine-tuned UniRep      uniref           0.212250   \n",
       "158   TCR         19        Base UniRep  validation           0.212736   \n",
       "159   TCR         19        Base UniRep      uniref           0.235495   \n",
       "\n",
       "     perplexity             Dataset  \n",
       "0      1.079936       BCR sequences  \n",
       "1      1.141761  Uniref50 sequences  \n",
       "2      1.154127       BCR sequences  \n",
       "3      1.177029  Uniref50 sequences  \n",
       "4      1.079765       BCR sequences  \n",
       "..          ...                 ...  \n",
       "155    1.177423  Uniref50 sequences  \n",
       "156    1.068057       TCR sequences  \n",
       "157    1.158493  Uniref50 sequences  \n",
       "158    1.158884       TCR sequences  \n",
       "159    1.177311  Uniref50 sequences  \n",
       "\n",
       "[160 rows x 7 columns]"
      ]
     },
     "execution_count": 15,
     "metadata": {},
     "output_type": "execute_result"
    }
   ],
   "source": [
    "# We can resume from here by reloading from disk\n",
    "bootstraps = pd.read_csv(\n",
    "    config.paths.output_dir / f\"fine_tuning.catastrophic_forgetting_analysis.csv\",\n",
    "    index_col=0,\n",
    ")\n",
    "bootstraps"
   ]
  },
  {
   "cell_type": "code",
   "execution_count": null,
   "id": "dda91033-c4ce-40a7-b02b-a5b89ff8a3c7",
   "metadata": {},
   "outputs": [],
   "source": []
  },
  {
   "cell_type": "code",
   "execution_count": null,
   "id": "9124c448-1ddc-47cc-aebd-5fd4c104ea7f",
   "metadata": {},
   "outputs": [],
   "source": []
  },
  {
   "cell_type": "code",
   "execution_count": 16,
   "id": "fc60229f-2f6f-4a23-b669-5d818b21e602",
   "metadata": {
    "execution": {
     "iopub.execute_input": "2022-12-27T00:16:04.740457Z",
     "iopub.status.busy": "2022-12-27T00:16:04.740091Z",
     "iopub.status.idle": "2022-12-27T00:16:04.760852Z",
     "shell.execute_reply": "2022-12-27T00:16:04.760031Z"
    }
   },
   "outputs": [
    {
     "data": {
      "text/html": [
       "<div>\n",
       "<style scoped>\n",
       "    .dataframe tbody tr th:only-of-type {\n",
       "        vertical-align: middle;\n",
       "    }\n",
       "\n",
       "    .dataframe tbody tr th {\n",
       "        vertical-align: top;\n",
       "    }\n",
       "\n",
       "    .dataframe thead th {\n",
       "        text-align: right;\n",
       "    }\n",
       "</style>\n",
       "<table border=\"1\" class=\"dataframe\">\n",
       "  <thead>\n",
       "    <tr style=\"text-align: right;\">\n",
       "      <th></th>\n",
       "      <th></th>\n",
       "      <th></th>\n",
       "      <th>iteration</th>\n",
       "      <th>cross_val_entropy</th>\n",
       "      <th>perplexity</th>\n",
       "    </tr>\n",
       "    <tr>\n",
       "      <th>locus</th>\n",
       "      <th>model</th>\n",
       "      <th>dataset</th>\n",
       "      <th></th>\n",
       "      <th></th>\n",
       "      <th></th>\n",
       "    </tr>\n",
       "  </thead>\n",
       "  <tbody>\n",
       "    <tr>\n",
       "      <th rowspan=\"4\" valign=\"top\">BCR</th>\n",
       "      <th rowspan=\"2\" valign=\"top\">Base UniRep</th>\n",
       "      <th>uniref</th>\n",
       "      <td>9.5</td>\n",
       "      <td>0.236321</td>\n",
       "      <td>1.177985</td>\n",
       "    </tr>\n",
       "    <tr>\n",
       "      <th>validation</th>\n",
       "      <td>9.5</td>\n",
       "      <td>0.206557</td>\n",
       "      <td>1.153931</td>\n",
       "    </tr>\n",
       "    <tr>\n",
       "      <th rowspan=\"2\" valign=\"top\">Fine-tuned UniRep</th>\n",
       "      <th>uniref</th>\n",
       "      <td>9.5</td>\n",
       "      <td>0.191727</td>\n",
       "      <td>1.142130</td>\n",
       "    </tr>\n",
       "    <tr>\n",
       "      <th>validation</th>\n",
       "      <td>9.5</td>\n",
       "      <td>0.111241</td>\n",
       "      <td>1.080157</td>\n",
       "    </tr>\n",
       "    <tr>\n",
       "      <th rowspan=\"4\" valign=\"top\">TCR</th>\n",
       "      <th rowspan=\"2\" valign=\"top\">Base UniRep</th>\n",
       "      <th>uniref</th>\n",
       "      <td>9.5</td>\n",
       "      <td>0.236402</td>\n",
       "      <td>1.178052</td>\n",
       "    </tr>\n",
       "    <tr>\n",
       "      <th>validation</th>\n",
       "      <td>9.5</td>\n",
       "      <td>0.212874</td>\n",
       "      <td>1.158995</td>\n",
       "    </tr>\n",
       "    <tr>\n",
       "      <th rowspan=\"2\" valign=\"top\">Fine-tuned UniRep</th>\n",
       "      <th>uniref</th>\n",
       "      <td>9.5</td>\n",
       "      <td>0.212223</td>\n",
       "      <td>1.158472</td>\n",
       "    </tr>\n",
       "    <tr>\n",
       "      <th>validation</th>\n",
       "      <td>9.5</td>\n",
       "      <td>0.095037</td>\n",
       "      <td>1.068093</td>\n",
       "    </tr>\n",
       "  </tbody>\n",
       "</table>\n",
       "</div>"
      ],
      "text/plain": [
       "                                    iteration  cross_val_entropy  perplexity\n",
       "locus model             dataset                                             \n",
       "BCR   Base UniRep       uniref            9.5           0.236321    1.177985\n",
       "                        validation        9.5           0.206557    1.153931\n",
       "      Fine-tuned UniRep uniref            9.5           0.191727    1.142130\n",
       "                        validation        9.5           0.111241    1.080157\n",
       "TCR   Base UniRep       uniref            9.5           0.236402    1.178052\n",
       "                        validation        9.5           0.212874    1.158995\n",
       "      Fine-tuned UniRep uniref            9.5           0.212223    1.158472\n",
       "                        validation        9.5           0.095037    1.068093"
      ]
     },
     "execution_count": 16,
     "metadata": {},
     "output_type": "execute_result"
    }
   ],
   "source": [
    "bootstraps.groupby([\"locus\", \"model\", \"dataset\"]).agg(\"mean\")"
   ]
  },
  {
   "cell_type": "code",
   "execution_count": 17,
   "id": "c195cca8",
   "metadata": {
    "execution": {
     "iopub.execute_input": "2022-12-27T00:16:04.764122Z",
     "iopub.status.busy": "2022-12-27T00:16:04.763756Z",
     "iopub.status.idle": "2022-12-27T00:16:04.769570Z",
     "shell.execute_reply": "2022-12-27T00:16:04.768727Z"
    },
    "tags": []
   },
   "outputs": [],
   "source": [
    "# borrow color mapping for disease color palette\n",
    "colors = list(helpers.disease_color_palette.values())\n",
    "color_mapping = dict(\n",
    "    zip(\n",
    "        bootstraps.Dataset.sort_values().unique(),\n",
    "        colors[: bootstraps.Dataset.nunique()],\n",
    "    )\n",
    ")"
   ]
  },
  {
   "cell_type": "code",
   "execution_count": 18,
   "id": "e809e98c",
   "metadata": {
    "execution": {
     "iopub.execute_input": "2022-12-27T00:16:04.772831Z",
     "iopub.status.busy": "2022-12-27T00:16:04.772543Z",
     "iopub.status.idle": "2022-12-27T00:16:05.538223Z",
     "shell.execute_reply": "2022-12-27T00:16:05.537373Z"
    },
    "lines_to_next_cell": 2,
    "tags": []
   },
   "outputs": [
    {
     "data": {
      "image/png": "[encoded data removed]",
      "text/plain": [
       "<Figure size 864x288 with 2 Axes>"
      ]
     },
     "metadata": {
      "needs_background": "light"
     },
     "output_type": "display_data"
    }
   ],
   "source": [
    "fig, ax = plt.subplots(1, 2, figsize=(12, 4))\n",
    "\n",
    "\n",
    "sns.barplot(\n",
    "    x=\"model\",\n",
    "    y=\"cross_val_entropy\",\n",
    "    hue=\"Dataset\",\n",
    "    order=[\"Base UniRep\", \"Fine-tuned UniRep\"],\n",
    "    hue_order=[\"BCR sequences\", \"Uniref50 sequences\"],\n",
    "    data=bootstraps.loc[bootstraps.locus == \"BCR\"],\n",
    "    palette=[color_mapping[i] for i in [\"BCR sequences\", \"Uniref50 sequences\"]],\n",
    "    ax=ax[0],\n",
    "    ci=None,\n",
    ")\n",
    "ax[0].set_ylabel(\"Cross Entropy Loss\")\n",
    "ax[0].set_xlabel(\"Model\")\n",
    "ax[0].set_title(\"BCR finetuning\")\n",
    "ax[0].get_legend().remove()\n",
    "\n",
    "sns.barplot(\n",
    "    x=\"model\",\n",
    "    y=\"cross_val_entropy\",\n",
    "    hue=\"Dataset\",\n",
    "    order=[\"Base UniRep\", \"Fine-tuned UniRep\"],\n",
    "    hue_order=[\"TCR sequences\", \"Uniref50 sequences\"],\n",
    "    data=bootstraps.loc[bootstraps.locus == \"TCR\"],\n",
    "    palette=[color_mapping[i] for i in [\"TCR sequences\", \"Uniref50 sequences\"]],\n",
    "    ax=ax[1],\n",
    "    ci=None,\n",
    ")\n",
    "ax[1].set_ylabel(\"Cross Entropy Loss\")\n",
    "ax[1].set_xlabel(\"Model\")\n",
    "ax[1].set_title(\"TCR finetuning\")\n",
    "ax[1].get_legend().remove()\n",
    "\n",
    "lines_labels = [ax.get_legend_handles_labels() for ax in fig.axes]\n",
    "lines, labels = [sum(lol, []) for lol in zip(*lines_labels)]\n",
    "indexes = [labels.index(x) for x in set(labels)]\n",
    "labels = [labels[i] for i in indexes]\n",
    "lines = [lines[i] for i in indexes]\n",
    "\n",
    "fig.legend(lines, labels, bbox_to_anchor=(1.2, 0.5))\n",
    "\n",
    "fig.tight_layout()\n",
    "genetools.plots.savefig(\n",
    "    fig,\n",
    "    config.paths.output_dir\n",
    "    / f\"fine_tuning.catastrophic_forgetting_analysis_cross_entropy_loss.png\",\n",
    "    dpi=300,\n",
    ")"
   ]
  },
  {
   "cell_type": "code",
   "execution_count": 19,
   "id": "e4337e11",
   "metadata": {
    "execution": {
     "iopub.execute_input": "2022-12-27T00:16:05.541681Z",
     "iopub.status.busy": "2022-12-27T00:16:05.541388Z",
     "iopub.status.idle": "2022-12-27T00:16:06.267781Z",
     "shell.execute_reply": "2022-12-27T00:16:06.266934Z"
    },
    "lines_to_next_cell": 2,
    "tags": []
   },
   "outputs": [
    {
     "data": {
      "image/png": "[encoded data removed]",
      "text/plain": [
       "<Figure size 864x288 with 2 Axes>"
      ]
     },
     "metadata": {
      "needs_background": "light"
     },
     "output_type": "display_data"
    }
   ],
   "source": [
    "fig, ax = plt.subplots(1, 2, figsize=(12, 4))\n",
    "\n",
    "sns.barplot(\n",
    "    x=\"model\",\n",
    "    y=\"perplexity\",\n",
    "    hue=\"Dataset\",\n",
    "    order=[\"Base UniRep\", \"Fine-tuned UniRep\"],\n",
    "    hue_order=[\"BCR sequences\", \"Uniref50 sequences\"],\n",
    "    data=bootstraps.loc[bootstraps.locus == \"BCR\"],\n",
    "    palette=[color_mapping[i] for i in [\"BCR sequences\", \"Uniref50 sequences\"]],\n",
    "    ax=ax[0],\n",
    "    ci=None,\n",
    ")\n",
    "ax[0].set_ylabel(\"Perplexity\")\n",
    "ax[0].set_xlabel(\"Model\")\n",
    "ax[0].set_title(\"BCR finetuning\")\n",
    "ax[0].get_legend().remove()\n",
    "\n",
    "sns.barplot(\n",
    "    x=\"model\",\n",
    "    y=\"perplexity\",\n",
    "    hue=\"Dataset\",\n",
    "    order=[\"Base UniRep\", \"Fine-tuned UniRep\"],\n",
    "    hue_order=[\"TCR sequences\", \"Uniref50 sequences\"],\n",
    "    data=bootstraps.loc[bootstraps.locus == \"TCR\"],\n",
    "    palette=[color_mapping[i] for i in [\"TCR sequences\", \"Uniref50 sequences\"]],\n",
    "    ax=ax[1],\n",
    "    ci=None,\n",
    ")\n",
    "ax[1].set_ylabel(\"Perplexity\")\n",
    "ax[1].set_xlabel(\"Model\")\n",
    "ax[1].set_title(\"TCR finetuning\")\n",
    "ax[1].get_legend().remove()\n",
    "\n",
    "lines_labels = [ax.get_legend_handles_labels() for ax in fig.axes]\n",
    "lines, labels = [sum(lol, []) for lol in zip(*lines_labels)]\n",
    "indexes = [labels.index(x) for x in set(labels)]\n",
    "labels = [labels[i] for i in indexes]\n",
    "lines = [lines[i] for i in indexes]\n",
    "\n",
    "fig.legend(lines, labels, bbox_to_anchor=(1.2, 0.5))\n",
    "\n",
    "fig.tight_layout()\n",
    "genetools.plots.savefig(\n",
    "    fig,\n",
    "    config.paths.output_dir\n",
    "    / f\"fine_tuning.catastrophic_forgetting_analysis_perplexity.png\",\n",
    "    dpi=300,\n",
    ")"
   ]
  },
  {
   "cell_type": "code",
   "execution_count": null,
   "id": "1f279338",
   "metadata": {},
   "outputs": [],
   "source": []
  }
 ],
 "metadata": {
  "jupytext": {
   "cell_metadata_filter": "-all",
   "notebook_metadata_filter": "-all"
  },
  "kernelspec": {
   "display_name": "py39-cuda-env",
   "language": "python",
   "name": "py39-cuda-env"
  },
  "language_info": {
   "codemirror_mode": {
    "name": "ipython",
    "version": 3
   },
   "file_extension": ".py",
   "mimetype": "text/x-python",
   "name": "python",
   "nbconvert_exporter": "python",
   "pygments_lexer": "ipython3",
   "version": "3.9.13"
  }
 },
 "nbformat": 4,
 "nbformat_minor": 5
}
