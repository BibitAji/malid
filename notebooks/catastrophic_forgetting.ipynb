{
 "cells": [
  {
   "cell_type": "markdown",
   "id": "ce99e097",
   "metadata": {},
   "source": [
    "# Catastrophic Forgetting\n",
    "\n",
    "## Reviewer request:\n",
    "\n",
    "- State the perplexity of the original LLM model [a specific metric we can compute]\n",
    "\n",
    "- State the perplexity on the test set of BCR sequences of the fine tuned model.\n",
    "\n",
    "- State the perplexity of the test set of non-BCR sequences (the original LLM test set) of the fine tuned model. These numbers are needed to assess whether the fine tuning was successful and no catastrophic forgetting\n",
    "\n",
    "\n",
    "## Conclusions from this notebook\n",
    "- Finetuning improves the cross-entropy loss on the malid sequences as well as the uniref50 sequences.\n",
    "- The improvement is more significant on malid sequences than on uniref50 sequences\n",
    "- Finetuning does not introduce catastrophic forgetting of uniref50 training data\n",
    "\n",
    "## Some notes\n",
    "- Implemented the same filtering of uniref50 data as the unirep [methods section](https://www.nature.com/articles/s41592-019-0598-1#Sec9):\n",
    "\n",
    "> \"We removed proteins longer than 2,000 amino acids and records containing noncanonical amino-acid symbols (X, B, Z, J), randomly selected test and validation subsets for monitoring training (1% of the overall dataset each) and used the rest of the data (~24 million sequences) in training.\""
   ]
  },
  {
   "cell_type": "code",
   "execution_count": 1,
   "id": "5d525cad",
   "metadata": {
    "execution": {
     "iopub.execute_input": "2023-12-23T03:33:05.320926Z",
     "iopub.status.busy": "2023-12-23T03:33:05.320101Z",
     "iopub.status.idle": "2023-12-23T03:33:05.339705Z",
     "shell.execute_reply": "2023-12-23T03:33:05.338023Z"
    },
    "tags": []
   },
   "outputs": [],
   "source": [
    "run_extra_analysis = False  # feature flag to do a bunch of extra computation\n",
    "enable_gpu = True  # feature flag to enable/disable GPU usage"
   ]
  },
  {
   "cell_type": "code",
   "execution_count": 2,
   "id": "e190823f-6b6b-4d6d-9dd0-e58c18818ac6",
   "metadata": {
    "execution": {
     "iopub.execute_input": "2023-12-23T03:33:05.347455Z",
     "iopub.status.busy": "2023-12-23T03:33:05.346670Z",
     "iopub.status.idle": "2023-12-23T03:33:05.593561Z",
     "shell.execute_reply": "2023-12-23T03:33:05.591835Z"
    },
    "tags": []
   },
   "outputs": [
    {
     "data": {
      "text/plain": [
       "['MIG-f80e9374-504a-571b-bac0-6fb00750db4c']"
      ]
     },
     "execution_count": 2,
     "metadata": {},
     "output_type": "execute_result"
    }
   ],
   "source": [
    "import choosegpu\n",
    "\n",
    "choosegpu.configure_gpu(enable=enable_gpu)"
   ]
  },
  {
   "cell_type": "code",
   "execution_count": 3,
   "id": "c17798cc",
   "metadata": {
    "execution": {
     "iopub.execute_input": "2023-12-23T03:33:05.600271Z",
     "iopub.status.busy": "2023-12-23T03:33:05.599864Z",
     "iopub.status.idle": "2023-12-23T03:33:12.385688Z",
     "shell.execute_reply": "2023-12-23T03:33:12.384113Z"
    }
   },
   "outputs": [],
   "source": [
    "import pandas as pd\n",
    "from typing import Optional\n",
    "from Bio import SeqIO\n",
    "import gzip\n",
    "import re\n",
    "from malid.datamodels import GeneLocus\n",
    "from malid import config, helpers, apply_embedding\n",
    "from malid.embedders.base_embedder import BaseEmbedder\n",
    "import genetools\n",
    "import pandas as pd\n",
    "import matplotlib.pyplot as plt\n",
    "import matplotlib.patches as patches\n",
    "import numpy as np\n",
    "import seaborn as sns\n",
    "from IPython.display import display"
   ]
  },
  {
   "cell_type": "code",
   "execution_count": null,
   "id": "bdd052a4",
   "metadata": {},
   "outputs": [],
   "source": [
    "assert (\n",
    "    config.embedder.is_fine_tuned\n",
    "), \"Current embedder is not fine tuned. The point of this notebook is to examine the fine tuning process.\"\n",
    "print(config.embedder.name)"
   ]
  },
  {
   "cell_type": "code",
   "execution_count": null,
   "id": "54342f23-6b0a-4104-a011-36bf737f9c4c",
   "metadata": {},
   "outputs": [],
   "source": []
  },
  {
   "cell_type": "code",
   "execution_count": 4,
   "id": "b2e016d9-3caa-4a6b-bc61-bf4296706ab6",
   "metadata": {
    "execution": {
     "iopub.execute_input": "2023-12-23T03:33:12.392642Z",
     "iopub.status.busy": "2023-12-23T03:33:12.392305Z",
     "iopub.status.idle": "2023-12-23T03:42:38.883091Z",
     "shell.execute_reply": "2023-12-23T03:42:38.881170Z"
    },
    "lines_to_next_cell": 2
   },
   "outputs": [],
   "source": [
    "bad_chars = re.compile(\".*[XBZJ].*\")\n",
    "# NOTE: don't limit to the first n rows of fasta or else you'll get a weird size distribution of sequences\n",
    "uniref_sequences = []\n",
    "uniref_taxonomies = []\n",
    "with gzip.open(\"../data/uniref50.fasta.gz\", \"rt\") as handler:\n",
    "    fasta_sequences = SeqIO.parse(handler, \"fasta\")\n",
    "    for sequence in fasta_sequences:\n",
    "        name, seq = sequence.id, str(sequence.seq)\n",
    "        if len(seq) < 2000 and not bad_chars.match(seq):\n",
    "            uniref_sequences.append(seq)\n",
    "            uniref_taxonomies.append(\n",
    "                sequence.description.split(\"Tax=\")[-1].split(\"TaxID\")[0].strip()\n",
    "            )\n",
    "\n",
    "uniref_sequences = pd.Series(uniref_sequences)"
   ]
  },
  {
   "cell_type": "code",
   "execution_count": 5,
   "id": "8a342e48",
   "metadata": {
    "execution": {
     "iopub.execute_input": "2023-12-23T03:42:38.889711Z",
     "iopub.status.busy": "2023-12-23T03:42:38.889503Z",
     "iopub.status.idle": "2023-12-23T03:42:47.329596Z",
     "shell.execute_reply": "2023-12-23T03:42:47.328307Z"
    }
   },
   "outputs": [
    {
     "data": {
      "text/plain": [
       "Bacteria                         1240963\n",
       "root                              737461\n",
       "Proteobacteria                    404879\n",
       "marine sediment metagenome        383453\n",
       "Actinomycetia                     351300\n",
       "Acidobacteria bacterium           307580\n",
       "Chloroflexi bacterium             250780\n",
       "Deltaproteobacteria bacterium     245843\n",
       "Gammaproteobacteria               237639\n",
       "cellular organisms                213214\n",
       "Streptomyces                      212169\n",
       "Bacteroidetes                     210910\n",
       "Alphaproteobacteria               204373\n",
       "Arundo donax                      203382\n",
       "Planctomycetes bacterium          201398\n",
       "Eubacteriales                     180856\n",
       "Bacteroidetes bacterium           170650\n",
       "Gammaproteobacteria bacterium     169215\n",
       "Firmicutes                        166538\n",
       "Actinomycetia bacterium           164285\n",
       "marine metagenome                 147897\n",
       "bacterium                         139153\n",
       "Mesangiospermae                   123079\n",
       "Tanacetum cinerariifolium         119716\n",
       "Araneus ventricosus               118623\n",
       "viral metagenome                  117347\n",
       "Bacillaceae                       109045\n",
       "Escherichia coli                  108813\n",
       "Terrabacteria group               104859\n",
       "Euteleostomi                      103183\n",
       "dtype: int64"
      ]
     },
     "execution_count": 5,
     "metadata": {},
     "output_type": "execute_result"
    }
   ],
   "source": [
    "# what are the most prevalent types of sequences in the uniref data?\n",
    "uniref_taxonomies = pd.Series(uniref_taxonomies)\n",
    "uniref_taxonomies.value_counts().head(30)"
   ]
  },
  {
   "cell_type": "code",
   "execution_count": 6,
   "id": "e2d10383",
   "metadata": {
    "execution": {
     "iopub.execute_input": "2023-12-23T03:42:47.335364Z",
     "iopub.status.busy": "2023-12-23T03:42:47.335198Z",
     "iopub.status.idle": "2023-12-23T03:42:59.901450Z",
     "shell.execute_reply": "2023-12-23T03:42:59.900627Z"
    }
   },
   "outputs": [
    {
     "data": {
      "text/plain": [
       "Text(0, 0.5, 'num sequences')"
      ]
     },
     "execution_count": 6,
     "metadata": {},
     "output_type": "execute_result"
    },
    {
     "data": {
      "image/png": "[encoded data removed]",
      "text/plain": [
       "<Figure size 640x480 with 1 Axes>"
      ]
     },
     "metadata": {},
     "output_type": "display_data"
    },
    {
     "data": {
      "image/png": "[encoded data removed]",
      "text/plain": [
       "<Figure size 640x480 with 1 Axes>"
      ]
     },
     "metadata": {},
     "output_type": "display_data"
    }
   ],
   "source": [
    "# what is the sequence length distribution in uniref50?\n",
    "\n",
    "length_counts = uniref_sequences.apply(lambda x: len(x)).value_counts().sort_index()\n",
    "window = 500\n",
    "\n",
    "fig, ax = plt.subplots()\n",
    "plt.scatter(x=length_counts.index, y=length_counts, s=1)\n",
    "rect = patches.Rectangle(\n",
    "    (window, 0),\n",
    "    -window,\n",
    "    length_counts.max(),\n",
    "    linewidth=1,\n",
    "    edgecolor=\"r\",\n",
    "    facecolor=\"none\",\n",
    ")\n",
    "ax.add_patch(rect)\n",
    "plt.xlabel(\"sequence length\")\n",
    "plt.ylabel(\"num sequences\")\n",
    "\n",
    "length_counts\n",
    "fig, ax = plt.subplots()\n",
    "plt.scatter(x=length_counts.index[:window], y=length_counts[:window], s=1)\n",
    "plt.xlabel(\"sequence length\")\n",
    "plt.ylabel(\"num sequences\")"
   ]
  },
  {
   "cell_type": "code",
   "execution_count": 7,
   "id": "fbe8d028",
   "metadata": {
    "execution": {
     "iopub.execute_input": "2023-12-23T03:42:59.907238Z",
     "iopub.status.busy": "2023-12-23T03:42:59.907074Z",
     "iopub.status.idle": "2023-12-23T03:42:59.913191Z",
     "shell.execute_reply": "2023-12-23T03:42:59.912422Z"
    }
   },
   "outputs": [
    {
     "data": {
      "text/plain": [
       "<GeneLocus.BCR: 1>"
      ]
     },
     "execution_count": 7,
     "metadata": {},
     "output_type": "execute_result"
    }
   ],
   "source": [
    "gene_locus = next(iter(config.gene_loci_used))\n",
    "gene_locus"
   ]
  },
  {
   "cell_type": "code",
   "execution_count": 8,
   "id": "f7083f0f",
   "metadata": {
    "execution": {
     "iopub.execute_input": "2023-12-23T03:42:59.918749Z",
     "iopub.status.busy": "2023-12-23T03:42:59.918562Z",
     "iopub.status.idle": "2023-12-23T03:43:27.208471Z",
     "shell.execute_reply": "2023-12-23T03:43:27.206715Z"
    }
   },
   "outputs": [],
   "source": [
    "# load malid seqs\n",
    "malid_sequences = apply_embedding.load_sequence_embedding_content_for_fold(\n",
    "    fold_id=1,\n",
    "    fold_label=\"test\",\n",
    "    gene_locus=gene_locus,\n",
    "    embedder_class=config.embedder,\n",
    ")[0]"
   ]
  },
  {
   "cell_type": "code",
   "execution_count": 9,
   "id": "dcc34f59",
   "metadata": {
    "execution": {
     "iopub.execute_input": "2023-12-23T03:43:27.215386Z",
     "iopub.status.busy": "2023-12-23T03:43:27.215171Z",
     "iopub.status.idle": "2023-12-23T03:43:28.467142Z",
     "shell.execute_reply": "2023-12-23T03:43:28.466316Z"
    }
   },
   "outputs": [
    {
     "data": {
      "text/plain": [
       "<matplotlib.collections.PathCollection at 0x7ef75b940250>"
      ]
     },
     "execution_count": 9,
     "metadata": {},
     "output_type": "execute_result"
    },
    {
     "data": {
      "image/png": "[encoded data removed]",
      "text/plain": [
       "<Figure size 640x480 with 1 Axes>"
      ]
     },
     "metadata": {},
     "output_type": "display_data"
    }
   ],
   "source": [
    "# what is the distribution of sequence lengths in the malid data?\n",
    "length_counts = (\n",
    "    pd.Series(malid_sequences).apply(lambda x: len(x)).value_counts().sort_index()\n",
    ")\n",
    "plt.scatter(length_counts.index, length_counts)"
   ]
  },
  {
   "cell_type": "code",
   "execution_count": 10,
   "id": "d0f7f1fe",
   "metadata": {
    "execution": {
     "iopub.execute_input": "2023-12-23T03:43:28.472713Z",
     "iopub.status.busy": "2023-12-23T03:43:28.472553Z",
     "iopub.status.idle": "2023-12-23T03:43:44.581631Z",
     "shell.execute_reply": "2023-12-23T03:43:44.580199Z"
    }
   },
   "outputs": [
    {
     "name": "stderr",
     "output_type": "stream",
     "text": [
      "{\"message\": \"Created a temporary directory at /tmp/tmpplchqimf\", \"time\": \"2023-12-23T03:43:40.505521\"}\n"
     ]
    },
    {
     "name": "stderr",
     "output_type": "stream",
     "text": [
      "{\"message\": \"Writing /tmp/tmpplchqimf/_remote_module_non_scriptable.py\", \"time\": \"2023-12-23T03:43:40.513569\"}\n"
     ]
    }
   ],
   "source": [
    "# Load and instantiate standard non-fine-tuned model.\n",
    "non_fine_tuned_embedder: BaseEmbedder = config.embedder.non_fine_tuned_version()\n",
    "\n",
    "\n",
    "def fetch_malid_fold_data(\n",
    "    gene_locus: GeneLocus, fold_id: int, downsample: Optional[int] = None\n",
    "):\n",
    "    \"\"\"\n",
    "    For a given fold, load the fine-tuned model, as well as the sequence data for train/test/val splits\n",
    "    Optionally downsample the reads\n",
    "    \"\"\"\n",
    "    embedder = apply_embedding.load_embedding_model(\n",
    "        gene_locus=gene_locus,\n",
    "        fold_id=fold_id,\n",
    "    )\n",
    "    train_sequences, val_sequences, test_sequences = [\n",
    "        apply_embedding.load_sequence_embedding_content_for_fold(\n",
    "            fold_id=fold_id,\n",
    "            fold_label=fold_label,\n",
    "            gene_locus=gene_locus,\n",
    "            embedder_class=config.embedder,\n",
    "        )[0]\n",
    "        for fold_label in [\"train_smaller\", \"validation\", \"test\"]\n",
    "    ]\n",
    "\n",
    "    if downsample:\n",
    "        train_sequences = np.random.choice(train_sequences, downsample)\n",
    "        val_sequences = np.random.choice(val_sequences, downsample)\n",
    "        test_sequences = np.random.choice(test_sequences, downsample)\n",
    "\n",
    "    return embedder, test_sequences, val_sequences, train_sequences"
   ]
  },
  {
   "cell_type": "markdown",
   "id": "78b0e006",
   "metadata": {},
   "source": [
    "# Experiment 1: Explore all of the models from each cross validation fold\n",
    "This takes approximately 2 days to run, so hidden behind a feature flag for now"
   ]
  },
  {
   "cell_type": "code",
   "execution_count": 11,
   "id": "c1f6cea0",
   "metadata": {
    "execution": {
     "iopub.execute_input": "2023-12-23T03:43:44.589265Z",
     "iopub.status.busy": "2023-12-23T03:43:44.589131Z",
     "iopub.status.idle": "2023-12-23T03:43:44.597077Z",
     "shell.execute_reply": "2023-12-23T03:43:44.595604Z"
    },
    "lines_to_next_cell": 2
   },
   "outputs": [],
   "source": [
    "downsample = 10000\n",
    "\n",
    "if run_extra_analysis:\n",
    "    # keep uniref set consistent throughout analysis\n",
    "    uniref_sample = np.random.choice(uniref_sequences, downsample)\n",
    "\n",
    "    results = {}\n",
    "    for gene_locus in config.gene_loci_used:\n",
    "        for fold_id in config.cross_validation_fold_ids:\n",
    "            (\n",
    "                fine_tuned_embedder,\n",
    "                test_sequences,\n",
    "                val_sequences,\n",
    "                train_sequences,\n",
    "            ) = fetch_malid_fold_data(gene_locus, fold_id, downsample)\n",
    "            results[\n",
    "                (gene_locus.name, fold_id, \"finetune_test\")\n",
    "            ] = fine_tuned_embedder.calculate_cross_entropy_loss(test_sequences)\n",
    "            results[\n",
    "                (gene_locus.name, fold_id, \"finetune_val\")\n",
    "            ] = fine_tuned_embedder.calculate_cross_entropy_loss(val_sequences)\n",
    "            results[\n",
    "                (gene_locus.name, fold_id, \"finetune_train\")\n",
    "            ] = fine_tuned_embedder.calculate_cross_entropy_loss(train_sequences)\n",
    "            results[\n",
    "                (gene_locus.name, fold_id, \"finetune_uniref\")\n",
    "            ] = fine_tuned_embedder.calculate_cross_entropy_loss(\n",
    "                uniref_sample,\n",
    "                # Uniref sequences are very long, so we need to use lower batch size\n",
    "                batch_size=10,\n",
    "            )\n",
    "            results[\n",
    "                (gene_locus.name, fold_id, \"base_test\")\n",
    "            ] = non_fine_tuned_embedder.calculate_cross_entropy_loss(test_sequences)\n",
    "            results[\n",
    "                (gene_locus.name, fold_id, \"base_val\")\n",
    "            ] = non_fine_tuned_embedder.calculate_cross_entropy_loss(val_sequences)\n",
    "            results[\n",
    "                (gene_locus.name, fold_id, \"base_train\")\n",
    "            ] = non_fine_tuned_embedder.calculate_cross_entropy_loss(train_sequences)\n",
    "            results[\n",
    "                (gene_locus.name, fold_id, \"base_uniref\")\n",
    "            ] = non_fine_tuned_embedder.calculate_cross_entropy_loss(\n",
    "                uniref_sample,\n",
    "                # Uniref sequences are very long, so we need to use lower batch size\n",
    "                batch_size=10,\n",
    "            )"
   ]
  },
  {
   "cell_type": "code",
   "execution_count": 12,
   "id": "41610682",
   "metadata": {
    "execution": {
     "iopub.execute_input": "2023-12-23T03:43:44.602603Z",
     "iopub.status.busy": "2023-12-23T03:43:44.602477Z",
     "iopub.status.idle": "2023-12-23T03:43:44.613424Z",
     "shell.execute_reply": "2023-12-23T03:43:44.611886Z"
    }
   },
   "outputs": [],
   "source": [
    "if run_extra_analysis:\n",
    "    summary = (\n",
    "        pd.Series(results)\n",
    "        .reset_index()\n",
    "        .rename(\n",
    "            columns={\n",
    "                \"level_0\": \"gene_locus\",\n",
    "                \"level_1\": \"fold\",\n",
    "                \"level_2\": \"experiment\",\n",
    "                0: \"loss\",\n",
    "            }\n",
    "        )\n",
    "    )\n",
    "    summary[\"perplexity\"] = np.exp(summary[\"loss\"])\n",
    "    summary.to_csv(\n",
    "        config.paths.fine_tuned_embedding_dir / \"cross_validation_loss_analysis.csv\"\n",
    "    )\n",
    "    summary[\"model\"] = summary[\"experiment\"].apply(lambda x: x.split(\"_\")[0])\n",
    "    summary[\"dataset\"] = summary[\"experiment\"].apply(lambda x: x.split(\"_\")[1])\n",
    "    display(summary.drop(\"experiment\", axis=1))\n",
    "    display(\n",
    "        summary.groupby([\"gene_locus\", \"experiment\"]).agg(\n",
    "            {\"loss\": \"mean\", \"perplexity\": \"mean\"}\n",
    "        )\n",
    "    )"
   ]
  },
  {
   "cell_type": "code",
   "execution_count": 13,
   "id": "cdbd3fbd",
   "metadata": {
    "execution": {
     "iopub.execute_input": "2023-12-23T03:43:44.619663Z",
     "iopub.status.busy": "2023-12-23T03:43:44.619453Z",
     "iopub.status.idle": "2023-12-23T03:43:44.631345Z",
     "shell.execute_reply": "2023-12-23T03:43:44.629486Z"
    }
   },
   "outputs": [],
   "source": [
    "if run_extra_analysis:\n",
    "    plt.figure()\n",
    "    sns.stripplot(x=\"loss\", y=\"experiment\", hue=\"gene_locus\", data=summary)\n",
    "    plt.figure()\n",
    "    sns.stripplot(\n",
    "        y=\"perplexity\",\n",
    "        x=\"model\",\n",
    "        hue=\"dataset\",\n",
    "        data=summary,\n",
    "        palette=\"Paired\",\n",
    "        order=[\"base\", \"finetune\"],\n",
    "    )\n",
    "    plt.legend(bbox_to_anchor=(1, 1))\n",
    "\n",
    "    plt.figure()\n",
    "    sns.stripplot(\n",
    "        y=\"loss\",\n",
    "        x=\"model\",\n",
    "        hue=\"dataset\",\n",
    "        data=summary,\n",
    "        palette=\"Paired\",\n",
    "        order=[\"base\", \"finetune\"],\n",
    "    )\n",
    "    plt.legend(bbox_to_anchor=(1, 1))\n",
    "    plt.ylabel(\"cross entropy loss\")\n",
    "\n",
    "    plt.figure()\n",
    "    sns.stripplot(\n",
    "        y=\"loss\",\n",
    "        x=\"model\",\n",
    "        hue=\"gene_locus\",\n",
    "        data=summary,\n",
    "        palette=\"Paired\",\n",
    "        order=[\"base\", \"finetune\"],\n",
    "    )\n",
    "    plt.legend(bbox_to_anchor=(1, 1))\n",
    "    plt.ylabel(\"cross entropy loss\")"
   ]
  },
  {
   "cell_type": "markdown",
   "id": "93c41727",
   "metadata": {},
   "source": [
    "# Experiment 2: Only use -1 fold model\n",
    "- Use validation set of sequences from the -1 fold model\n",
    "- Add 20 bootstrap samples of 1000 sequences\n",
    "- Make figure with confidence intervals"
   ]
  },
  {
   "cell_type": "code",
   "execution_count": 14,
   "id": "be750716",
   "metadata": {
    "execution": {
     "iopub.execute_input": "2023-12-23T03:43:44.637816Z",
     "iopub.status.busy": "2023-12-23T03:43:44.637490Z",
     "iopub.status.idle": "2023-12-23T14:40:19.172024Z",
     "shell.execute_reply": "2023-12-23T14:40:19.171105Z"
    },
    "lines_to_next_cell": 2
   },
   "outputs": [
    {
     "name": "stdout",
     "output_type": "stream",
     "text": [
      "<malid.embedders.biotransformers.Esm2FineTunedEmbedderCDR3Only object at 0x7ef9a1f84a30> EmbedderSequenceContent.CDR3 <malid.embedders.biotransformers.Esm2EmbedderCDR3Only object at 0x7ef7bc2179d0> EmbedderSequenceContent.CDR3\n"
     ]
    },
    {
     "name": "stdout",
     "output_type": "stream",
     "text": [
      "0\n"
     ]
    },
    {
     "name": "stdout",
     "output_type": "stream",
     "text": [
      "1\n"
     ]
    },
    {
     "name": "stdout",
     "output_type": "stream",
     "text": [
      "2\n"
     ]
    },
    {
     "name": "stdout",
     "output_type": "stream",
     "text": [
      "3\n"
     ]
    },
    {
     "name": "stdout",
     "output_type": "stream",
     "text": [
      "4\n"
     ]
    },
    {
     "name": "stdout",
     "output_type": "stream",
     "text": [
      "5\n"
     ]
    },
    {
     "name": "stdout",
     "output_type": "stream",
     "text": [
      "6\n"
     ]
    },
    {
     "name": "stdout",
     "output_type": "stream",
     "text": [
      "7\n"
     ]
    },
    {
     "name": "stdout",
     "output_type": "stream",
     "text": [
      "8\n"
     ]
    },
    {
     "name": "stdout",
     "output_type": "stream",
     "text": [
      "9\n"
     ]
    },
    {
     "name": "stdout",
     "output_type": "stream",
     "text": [
      "10\n"
     ]
    },
    {
     "name": "stdout",
     "output_type": "stream",
     "text": [
      "11\n"
     ]
    },
    {
     "name": "stdout",
     "output_type": "stream",
     "text": [
      "12\n"
     ]
    },
    {
     "name": "stdout",
     "output_type": "stream",
     "text": [
      "13\n"
     ]
    },
    {
     "name": "stdout",
     "output_type": "stream",
     "text": [
      "14\n"
     ]
    },
    {
     "name": "stdout",
     "output_type": "stream",
     "text": [
      "15\n"
     ]
    },
    {
     "name": "stdout",
     "output_type": "stream",
     "text": [
      "16\n"
     ]
    },
    {
     "name": "stdout",
     "output_type": "stream",
     "text": [
      "17\n"
     ]
    },
    {
     "name": "stdout",
     "output_type": "stream",
     "text": [
      "18\n"
     ]
    },
    {
     "name": "stdout",
     "output_type": "stream",
     "text": [
      "19\n"
     ]
    },
    {
     "name": "stdout",
     "output_type": "stream",
     "text": [
      "<malid.embedders.biotransformers.Esm2FineTunedEmbedderCDR3Only object at 0x7ef9a8e3ff10> EmbedderSequenceContent.CDR3 <malid.embedders.biotransformers.Esm2EmbedderCDR3Only object at 0x7ef7bc2179d0> EmbedderSequenceContent.CDR3\n"
     ]
    },
    {
     "name": "stdout",
     "output_type": "stream",
     "text": [
      "0\n"
     ]
    },
    {
     "name": "stdout",
     "output_type": "stream",
     "text": [
      "1\n"
     ]
    },
    {
     "name": "stdout",
     "output_type": "stream",
     "text": [
      "2\n"
     ]
    },
    {
     "name": "stdout",
     "output_type": "stream",
     "text": [
      "3\n"
     ]
    },
    {
     "name": "stdout",
     "output_type": "stream",
     "text": [
      "4\n"
     ]
    },
    {
     "name": "stdout",
     "output_type": "stream",
     "text": [
      "5\n"
     ]
    },
    {
     "name": "stdout",
     "output_type": "stream",
     "text": [
      "6\n"
     ]
    },
    {
     "name": "stdout",
     "output_type": "stream",
     "text": [
      "7\n"
     ]
    },
    {
     "name": "stdout",
     "output_type": "stream",
     "text": [
      "8\n"
     ]
    },
    {
     "name": "stdout",
     "output_type": "stream",
     "text": [
      "9\n"
     ]
    },
    {
     "name": "stdout",
     "output_type": "stream",
     "text": [
      "10\n"
     ]
    },
    {
     "name": "stdout",
     "output_type": "stream",
     "text": [
      "11\n"
     ]
    },
    {
     "name": "stdout",
     "output_type": "stream",
     "text": [
      "12\n"
     ]
    },
    {
     "name": "stdout",
     "output_type": "stream",
     "text": [
      "13\n"
     ]
    },
    {
     "name": "stdout",
     "output_type": "stream",
     "text": [
      "14\n"
     ]
    },
    {
     "name": "stdout",
     "output_type": "stream",
     "text": [
      "15\n"
     ]
    },
    {
     "name": "stdout",
     "output_type": "stream",
     "text": [
      "16\n"
     ]
    },
    {
     "name": "stdout",
     "output_type": "stream",
     "text": [
      "17\n"
     ]
    },
    {
     "name": "stdout",
     "output_type": "stream",
     "text": [
      "18\n"
     ]
    },
    {
     "name": "stdout",
     "output_type": "stream",
     "text": [
      "19\n"
     ]
    }
   ],
   "source": [
    "results = {}\n",
    "for gene_locus in config.gene_loci_used:\n",
    "    fine_tuned_embedder = apply_embedding.load_embedding_model(\n",
    "        gene_locus=gene_locus,\n",
    "        fold_id=-1,\n",
    "    )\n",
    "    print(\n",
    "        fine_tuned_embedder,\n",
    "        fine_tuned_embedder.embedder_sequence_content,\n",
    "        non_fine_tuned_embedder,\n",
    "        non_fine_tuned_embedder.embedder_sequence_content,\n",
    "    )\n",
    "    val_sequences = apply_embedding.load_sequence_embedding_content_for_fold(\n",
    "        fold_id=-1,\n",
    "        fold_label=\"validation\",\n",
    "        gene_locus=gene_locus,\n",
    "        embedder_class=config.embedder,\n",
    "    )[0]\n",
    "    for i in range(20):\n",
    "        print(i)\n",
    "        val_sample = np.random.choice(val_sequences, 1000)\n",
    "        uniref_sample = np.random.choice(uniref_sequences, 1000)\n",
    "        results[\n",
    "            (gene_locus.name, i, \"best\", \"validation\")\n",
    "        ] = fine_tuned_embedder.calculate_cross_entropy_loss(val_sample)\n",
    "        results[\n",
    "            (gene_locus.name, i, \"best\", \"uniref\")\n",
    "        ] = fine_tuned_embedder.calculate_cross_entropy_loss(\n",
    "            uniref_sample,\n",
    "            # Uniref sequences are very long, so we need to use lower batch size\n",
    "            batch_size=10,\n",
    "        )\n",
    "        results[\n",
    "            (gene_locus.name, i, \"base\", \"validation\")\n",
    "        ] = non_fine_tuned_embedder.calculate_cross_entropy_loss(val_sample)\n",
    "        results[\n",
    "            (gene_locus.name, i, \"base\", \"uniref\")\n",
    "        ] = non_fine_tuned_embedder.calculate_cross_entropy_loss(\n",
    "            uniref_sample,\n",
    "            # Uniref sequences are very long, so we need to use lower batch size\n",
    "            batch_size=10,\n",
    "        )"
   ]
  },
  {
   "cell_type": "code",
   "execution_count": 15,
   "id": "35f22dd5",
   "metadata": {
    "execution": {
     "iopub.execute_input": "2023-12-23T14:40:19.179279Z",
     "iopub.status.busy": "2023-12-23T14:40:19.179160Z",
     "iopub.status.idle": "2023-12-23T14:40:19.193125Z",
     "shell.execute_reply": "2023-12-23T14:40:19.192312Z"
    }
   },
   "outputs": [],
   "source": [
    "bootstraps = (\n",
    "    pd.Series(results)\n",
    "    .reset_index()\n",
    "    .rename(\n",
    "        columns={\n",
    "            \"level_0\": \"locus\",\n",
    "            \"level_1\": \"iteration\",\n",
    "            \"level_2\": \"model\",\n",
    "            \"level_3\": \"dataset\",\n",
    "            0: \"cross_val_entropy\",\n",
    "        }\n",
    "    )\n",
    ")\n",
    "\n",
    "# perplexity = 2^{cross entropy loss}\n",
    "bootstraps[\"perplexity\"] = np.exp2(bootstraps[\"cross_val_entropy\"])\n",
    "\n",
    "bootstraps[\"model\"] = bootstraps[\"model\"].map(\n",
    "    {\"best\": \"Fine-tuned LLM\", \"base\": \"Base LLM\"}\n",
    ")\n",
    "bootstraps.loc[\n",
    "    (bootstraps[\"locus\"] == \"BCR\") & (bootstraps[\"dataset\"] == \"validation\"), \"Dataset\"\n",
    "] = \"BCR sequences\"\n",
    "bootstraps.loc[\n",
    "    (bootstraps[\"locus\"] == \"TCR\") & (bootstraps[\"dataset\"] == \"validation\"), \"Dataset\"\n",
    "] = \"TCR sequences\"\n",
    "bootstraps.loc[bootstraps[\"dataset\"] == \"uniref\", \"Dataset\"] = \"Uniref50 sequences\""
   ]
  },
  {
   "cell_type": "code",
   "execution_count": 16,
   "id": "d5e60f9a",
   "metadata": {
    "execution": {
     "iopub.execute_input": "2023-12-23T14:40:19.198426Z",
     "iopub.status.busy": "2023-12-23T14:40:19.198310Z",
     "iopub.status.idle": "2023-12-23T14:40:19.218815Z",
     "shell.execute_reply": "2023-12-23T14:40:19.217608Z"
    }
   },
   "outputs": [],
   "source": [
    "bootstraps.to_csv(\n",
    "    config.paths.output_dir / f\"fine_tuning.catastrophic_forgetting_analysis.csv\"\n",
    ")"
   ]
  },
  {
   "cell_type": "code",
   "execution_count": null,
   "id": "f1839929-c34b-40a7-850b-233fe04be530",
   "metadata": {},
   "outputs": [],
   "source": []
  },
  {
   "cell_type": "code",
   "execution_count": 17,
   "id": "c85214d5-0531-4971-8e6b-c88fe89331e0",
   "metadata": {
    "execution": {
     "iopub.execute_input": "2023-12-23T14:40:19.224379Z",
     "iopub.status.busy": "2023-12-23T14:40:19.224180Z",
     "iopub.status.idle": "2023-12-23T14:40:19.256472Z",
     "shell.execute_reply": "2023-12-23T14:40:19.255306Z"
    }
   },
   "outputs": [
    {
     "data": {
      "text/html": [
       "<div>\n",
       "<style scoped>\n",
       "    .dataframe tbody tr th:only-of-type {\n",
       "        vertical-align: middle;\n",
       "    }\n",
       "\n",
       "    .dataframe tbody tr th {\n",
       "        vertical-align: top;\n",
       "    }\n",
       "\n",
       "    .dataframe thead th {\n",
       "        text-align: right;\n",
       "    }\n",
       "</style>\n",
       "<table border=\"1\" class=\"dataframe\">\n",
       "  <thead>\n",
       "    <tr style=\"text-align: right;\">\n",
       "      <th></th>\n",
       "      <th>locus</th>\n",
       "      <th>iteration</th>\n",
       "      <th>model</th>\n",
       "      <th>dataset</th>\n",
       "      <th>cross_val_entropy</th>\n",
       "      <th>perplexity</th>\n",
       "      <th>Dataset</th>\n",
       "    </tr>\n",
       "  </thead>\n",
       "  <tbody>\n",
       "    <tr>\n",
       "      <th>0</th>\n",
       "      <td>BCR</td>\n",
       "      <td>0</td>\n",
       "      <td>Fine-tuned LLM</td>\n",
       "      <td>validation</td>\n",
       "      <td>0.545129</td>\n",
       "      <td>1.459150</td>\n",
       "      <td>BCR sequences</td>\n",
       "    </tr>\n",
       "    <tr>\n",
       "      <th>1</th>\n",
       "      <td>BCR</td>\n",
       "      <td>0</td>\n",
       "      <td>Fine-tuned LLM</td>\n",
       "      <td>uniref</td>\n",
       "      <td>0.391348</td>\n",
       "      <td>1.311618</td>\n",
       "      <td>Uniref50 sequences</td>\n",
       "    </tr>\n",
       "    <tr>\n",
       "      <th>2</th>\n",
       "      <td>BCR</td>\n",
       "      <td>0</td>\n",
       "      <td>Base LLM</td>\n",
       "      <td>validation</td>\n",
       "      <td>0.478601</td>\n",
       "      <td>1.393391</td>\n",
       "      <td>BCR sequences</td>\n",
       "    </tr>\n",
       "    <tr>\n",
       "      <th>3</th>\n",
       "      <td>BCR</td>\n",
       "      <td>0</td>\n",
       "      <td>Base LLM</td>\n",
       "      <td>uniref</td>\n",
       "      <td>0.362208</td>\n",
       "      <td>1.285392</td>\n",
       "      <td>Uniref50 sequences</td>\n",
       "    </tr>\n",
       "    <tr>\n",
       "      <th>4</th>\n",
       "      <td>BCR</td>\n",
       "      <td>1</td>\n",
       "      <td>Fine-tuned LLM</td>\n",
       "      <td>validation</td>\n",
       "      <td>0.521342</td>\n",
       "      <td>1.435289</td>\n",
       "      <td>BCR sequences</td>\n",
       "    </tr>\n",
       "    <tr>\n",
       "      <th>...</th>\n",
       "      <td>...</td>\n",
       "      <td>...</td>\n",
       "      <td>...</td>\n",
       "      <td>...</td>\n",
       "      <td>...</td>\n",
       "      <td>...</td>\n",
       "      <td>...</td>\n",
       "    </tr>\n",
       "    <tr>\n",
       "      <th>155</th>\n",
       "      <td>TCR</td>\n",
       "      <td>18</td>\n",
       "      <td>Base LLM</td>\n",
       "      <td>uniref</td>\n",
       "      <td>0.357411</td>\n",
       "      <td>1.281125</td>\n",
       "      <td>Uniref50 sequences</td>\n",
       "    </tr>\n",
       "    <tr>\n",
       "      <th>156</th>\n",
       "      <td>TCR</td>\n",
       "      <td>19</td>\n",
       "      <td>Fine-tuned LLM</td>\n",
       "      <td>validation</td>\n",
       "      <td>0.402738</td>\n",
       "      <td>1.322015</td>\n",
       "      <td>TCR sequences</td>\n",
       "    </tr>\n",
       "    <tr>\n",
       "      <th>157</th>\n",
       "      <td>TCR</td>\n",
       "      <td>19</td>\n",
       "      <td>Fine-tuned LLM</td>\n",
       "      <td>uniref</td>\n",
       "      <td>0.365246</td>\n",
       "      <td>1.288101</td>\n",
       "      <td>Uniref50 sequences</td>\n",
       "    </tr>\n",
       "    <tr>\n",
       "      <th>158</th>\n",
       "      <td>TCR</td>\n",
       "      <td>19</td>\n",
       "      <td>Base LLM</td>\n",
       "      <td>validation</td>\n",
       "      <td>0.452799</td>\n",
       "      <td>1.368693</td>\n",
       "      <td>TCR sequences</td>\n",
       "    </tr>\n",
       "    <tr>\n",
       "      <th>159</th>\n",
       "      <td>TCR</td>\n",
       "      <td>19</td>\n",
       "      <td>Base LLM</td>\n",
       "      <td>uniref</td>\n",
       "      <td>0.352103</td>\n",
       "      <td>1.276420</td>\n",
       "      <td>Uniref50 sequences</td>\n",
       "    </tr>\n",
       "  </tbody>\n",
       "</table>\n",
       "<p>160 rows × 7 columns</p>\n",
       "</div>"
      ],
      "text/plain": [
       "    locus  iteration           model     dataset  cross_val_entropy  \\\n",
       "0     BCR          0  Fine-tuned LLM  validation           0.545129   \n",
       "1     BCR          0  Fine-tuned LLM      uniref           0.391348   \n",
       "2     BCR          0        Base LLM  validation           0.478601   \n",
       "3     BCR          0        Base LLM      uniref           0.362208   \n",
       "4     BCR          1  Fine-tuned LLM  validation           0.521342   \n",
       "..    ...        ...             ...         ...                ...   \n",
       "155   TCR         18        Base LLM      uniref           0.357411   \n",
       "156   TCR         19  Fine-tuned LLM  validation           0.402738   \n",
       "157   TCR         19  Fine-tuned LLM      uniref           0.365246   \n",
       "158   TCR         19        Base LLM  validation           0.452799   \n",
       "159   TCR         19        Base LLM      uniref           0.352103   \n",
       "\n",
       "     perplexity             Dataset  \n",
       "0      1.459150       BCR sequences  \n",
       "1      1.311618  Uniref50 sequences  \n",
       "2      1.393391       BCR sequences  \n",
       "3      1.285392  Uniref50 sequences  \n",
       "4      1.435289       BCR sequences  \n",
       "..          ...                 ...  \n",
       "155    1.281125  Uniref50 sequences  \n",
       "156    1.322015       TCR sequences  \n",
       "157    1.288101  Uniref50 sequences  \n",
       "158    1.368693       TCR sequences  \n",
       "159    1.276420  Uniref50 sequences  \n",
       "\n",
       "[160 rows x 7 columns]"
      ]
     },
     "execution_count": 17,
     "metadata": {},
     "output_type": "execute_result"
    }
   ],
   "source": [
    "# We can resume from here by reloading from disk\n",
    "bootstraps = pd.read_csv(\n",
    "    config.paths.output_dir / f\"fine_tuning.catastrophic_forgetting_analysis.csv\",\n",
    "    index_col=0,\n",
    ")\n",
    "bootstraps"
   ]
  },
  {
   "cell_type": "code",
   "execution_count": null,
   "id": "dda91033-c4ce-40a7-b02b-a5b89ff8a3c7",
   "metadata": {},
   "outputs": [],
   "source": []
  },
  {
   "cell_type": "code",
   "execution_count": null,
   "id": "9124c448-1ddc-47cc-aebd-5fd4c104ea7f",
   "metadata": {},
   "outputs": [],
   "source": []
  },
  {
   "cell_type": "code",
   "execution_count": 18,
   "id": "fc60229f-2f6f-4a23-b669-5d818b21e602",
   "metadata": {
    "execution": {
     "iopub.execute_input": "2023-12-23T14:40:19.262465Z",
     "iopub.status.busy": "2023-12-23T14:40:19.262289Z",
     "iopub.status.idle": "2023-12-23T14:40:19.283964Z",
     "shell.execute_reply": "2023-12-23T14:40:19.282842Z"
    }
   },
   "outputs": [
    {
     "name": "stderr",
     "output_type": "stream",
     "text": [
      "{\"message\": \"/tmp/ipykernel_3251939/579823847.py:1: FutureWarning: The default value of numeric_only in DataFrameGroupBy.mean is deprecated. In a future version, numeric_only will default to False. Either specify numeric_only or select only columns which should be valid for the function.\\n  bootstraps.groupby([\\\"locus\\\", \\\"model\\\", \\\"dataset\\\"]).agg(\\\"mean\\\")\\n\", \"time\": \"2023-12-23T14:40:19.269079\"}\n"
     ]
    },
    {
     "data": {
      "text/html": [
       "<div>\n",
       "<style scoped>\n",
       "    .dataframe tbody tr th:only-of-type {\n",
       "        vertical-align: middle;\n",
       "    }\n",
       "\n",
       "    .dataframe tbody tr th {\n",
       "        vertical-align: top;\n",
       "    }\n",
       "\n",
       "    .dataframe thead th {\n",
       "        text-align: right;\n",
       "    }\n",
       "</style>\n",
       "<table border=\"1\" class=\"dataframe\">\n",
       "  <thead>\n",
       "    <tr style=\"text-align: right;\">\n",
       "      <th></th>\n",
       "      <th></th>\n",
       "      <th></th>\n",
       "      <th>iteration</th>\n",
       "      <th>cross_val_entropy</th>\n",
       "      <th>perplexity</th>\n",
       "    </tr>\n",
       "    <tr>\n",
       "      <th>locus</th>\n",
       "      <th>model</th>\n",
       "      <th>dataset</th>\n",
       "      <th></th>\n",
       "      <th></th>\n",
       "      <th></th>\n",
       "    </tr>\n",
       "  </thead>\n",
       "  <tbody>\n",
       "    <tr>\n",
       "      <th rowspan=\"4\" valign=\"top\">BCR</th>\n",
       "      <th rowspan=\"2\" valign=\"top\">Base LLM</th>\n",
       "      <th>uniref</th>\n",
       "      <td>9.5</td>\n",
       "      <td>0.355534</td>\n",
       "      <td>1.279463</td>\n",
       "    </tr>\n",
       "    <tr>\n",
       "      <th>validation</th>\n",
       "      <td>9.5</td>\n",
       "      <td>0.482121</td>\n",
       "      <td>1.396797</td>\n",
       "    </tr>\n",
       "    <tr>\n",
       "      <th rowspan=\"2\" valign=\"top\">Fine-tuned LLM</th>\n",
       "      <th>uniref</th>\n",
       "      <td>9.5</td>\n",
       "      <td>0.384269</td>\n",
       "      <td>1.305203</td>\n",
       "    </tr>\n",
       "    <tr>\n",
       "      <th>validation</th>\n",
       "      <td>9.5</td>\n",
       "      <td>0.535491</td>\n",
       "      <td>1.449459</td>\n",
       "    </tr>\n",
       "    <tr>\n",
       "      <th rowspan=\"4\" valign=\"top\">TCR</th>\n",
       "      <th rowspan=\"2\" valign=\"top\">Base LLM</th>\n",
       "      <th>uniref</th>\n",
       "      <td>9.5</td>\n",
       "      <td>0.355553</td>\n",
       "      <td>1.279478</td>\n",
       "    </tr>\n",
       "    <tr>\n",
       "      <th>validation</th>\n",
       "      <td>9.5</td>\n",
       "      <td>0.450542</td>\n",
       "      <td>1.366555</td>\n",
       "    </tr>\n",
       "    <tr>\n",
       "      <th rowspan=\"2\" valign=\"top\">Fine-tuned LLM</th>\n",
       "      <th>uniref</th>\n",
       "      <td>9.5</td>\n",
       "      <td>0.368501</td>\n",
       "      <td>1.291013</td>\n",
       "    </tr>\n",
       "    <tr>\n",
       "      <th>validation</th>\n",
       "      <td>9.5</td>\n",
       "      <td>0.404922</td>\n",
       "      <td>1.324028</td>\n",
       "    </tr>\n",
       "  </tbody>\n",
       "</table>\n",
       "</div>"
      ],
      "text/plain": [
       "                                 iteration  cross_val_entropy  perplexity\n",
       "locus model          dataset                                             \n",
       "BCR   Base LLM       uniref            9.5           0.355534    1.279463\n",
       "                     validation        9.5           0.482121    1.396797\n",
       "      Fine-tuned LLM uniref            9.5           0.384269    1.305203\n",
       "                     validation        9.5           0.535491    1.449459\n",
       "TCR   Base LLM       uniref            9.5           0.355553    1.279478\n",
       "                     validation        9.5           0.450542    1.366555\n",
       "      Fine-tuned LLM uniref            9.5           0.368501    1.291013\n",
       "                     validation        9.5           0.404922    1.324028"
      ]
     },
     "execution_count": 18,
     "metadata": {},
     "output_type": "execute_result"
    }
   ],
   "source": [
    "bootstraps.groupby([\"locus\", \"model\", \"dataset\"]).agg(\"mean\")"
   ]
  },
  {
   "cell_type": "code",
   "execution_count": 19,
   "id": "c195cca8",
   "metadata": {
    "execution": {
     "iopub.execute_input": "2023-12-23T14:40:19.289745Z",
     "iopub.status.busy": "2023-12-23T14:40:19.289453Z",
     "iopub.status.idle": "2023-12-23T14:40:19.299476Z",
     "shell.execute_reply": "2023-12-23T14:40:19.298269Z"
    },
    "tags": []
   },
   "outputs": [],
   "source": [
    "# borrow color mapping for disease color palette\n",
    "colors = list(helpers.disease_color_palette.values())\n",
    "color_mapping = dict(\n",
    "    zip(\n",
    "        bootstraps.Dataset.sort_values().unique(),\n",
    "        colors[: bootstraps.Dataset.nunique()],\n",
    "    )\n",
    ")\n",
    "color_mapping.keys()"
   ]
  },
  {
   "cell_type": "code",
   "execution_count": 20,
   "id": "e809e98c",
   "metadata": {
    "execution": {
     "iopub.execute_input": "2023-12-23T14:40:19.305704Z",
     "iopub.status.busy": "2023-12-23T14:40:19.305350Z",
     "iopub.status.idle": "2023-12-23T14:40:20.070672Z",
     "shell.execute_reply": "2023-12-23T14:40:20.069009Z"
    },
    "lines_to_next_cell": 2,
    "tags": []
   },
   "outputs": [
    {
     "data": {
      "image/png": "[encoded data removed]",
      "text/plain": [
       "<Figure size 1200x400 with 2 Axes>"
      ]
     },
     "metadata": {},
     "output_type": "display_data"
    }
   ],
   "source": [
    "fig, ax = plt.subplots(1, 2, figsize=(12, 4))\n",
    "\n",
    "if \"BCR sequences\" in color_mapping:\n",
    "    sns.barplot(\n",
    "        x=\"model\",\n",
    "        y=\"cross_val_entropy\",\n",
    "        hue=\"Dataset\",\n",
    "        order=[\"Base LLM\", \"Fine-tuned LLM\"],\n",
    "        hue_order=[\"BCR sequences\", \"Uniref50 sequences\"],\n",
    "        data=bootstraps.loc[bootstraps.locus == \"BCR\"],\n",
    "        palette=[color_mapping[i] for i in [\"BCR sequences\", \"Uniref50 sequences\"]],\n",
    "        ax=ax[0],\n",
    "        errorbar=None,\n",
    "    )\n",
    "    ax[0].set_ylabel(\"Cross Entropy Loss\")\n",
    "    ax[0].set_xlabel(\"Model\")\n",
    "    ax[0].set_title(\"BCR finetuning\")\n",
    "    ax[0].get_legend().remove()\n",
    "\n",
    "if \"TCR sequences\" in color_mapping:\n",
    "    sns.barplot(\n",
    "        x=\"model\",\n",
    "        y=\"cross_val_entropy\",\n",
    "        hue=\"Dataset\",\n",
    "        order=[\"Base LLM\", \"Fine-tuned LLM\"],\n",
    "        hue_order=[\"TCR sequences\", \"Uniref50 sequences\"],\n",
    "        data=bootstraps.loc[bootstraps.locus == \"TCR\"],\n",
    "        palette=[color_mapping[i] for i in [\"TCR sequences\", \"Uniref50 sequences\"]],\n",
    "        ax=ax[1],\n",
    "        errorbar=None,\n",
    "    )\n",
    "    ax[1].set_ylabel(\"Cross Entropy Loss\")\n",
    "    ax[1].set_xlabel(\"Model\")\n",
    "    ax[1].set_title(\"TCR finetuning\")\n",
    "    ax[1].get_legend().remove()\n",
    "\n",
    "lines_labels = [ax.get_legend_handles_labels() for ax in fig.axes]\n",
    "lines, labels = [sum(lol, []) for lol in zip(*lines_labels)]\n",
    "indexes = [labels.index(x) for x in set(labels)]\n",
    "labels = [labels[i] for i in indexes]\n",
    "lines = [lines[i] for i in indexes]\n",
    "\n",
    "fig.legend(lines, labels, bbox_to_anchor=(1.2, 0.5))\n",
    "\n",
    "fig.tight_layout()\n",
    "genetools.plots.savefig(\n",
    "    fig,\n",
    "    config.paths.output_dir\n",
    "    / f\"fine_tuning.catastrophic_forgetting_analysis_cross_entropy_loss.png\",\n",
    "    dpi=300,\n",
    ")"
   ]
  },
  {
   "cell_type": "code",
   "execution_count": 21,
   "id": "e4337e11",
   "metadata": {
    "execution": {
     "iopub.execute_input": "2023-12-23T14:40:20.077536Z",
     "iopub.status.busy": "2023-12-23T14:40:20.077396Z",
     "iopub.status.idle": "2023-12-23T14:40:20.813778Z",
     "shell.execute_reply": "2023-12-23T14:40:20.811782Z"
    },
    "lines_to_next_cell": 2,
    "tags": []
   },
   "outputs": [
    {
     "data": {
      "image/png": "[encoded data removed]",
      "text/plain": [
       "<Figure size 1200x400 with 2 Axes>"
      ]
     },
     "metadata": {},
     "output_type": "display_data"
    }
   ],
   "source": [
    "fig, ax = plt.subplots(1, 2, figsize=(12, 4))\n",
    "\n",
    "if \"BCR sequences\" in color_mapping:\n",
    "    sns.barplot(\n",
    "        x=\"model\",\n",
    "        y=\"perplexity\",\n",
    "        hue=\"Dataset\",\n",
    "        order=[\"Base LLM\", \"Fine-tuned LLM\"],\n",
    "        hue_order=[\"BCR sequences\", \"Uniref50 sequences\"],\n",
    "        data=bootstraps.loc[bootstraps.locus == \"BCR\"],\n",
    "        palette=[color_mapping[i] for i in [\"BCR sequences\", \"Uniref50 sequences\"]],\n",
    "        ax=ax[0],\n",
    "        errorbar=None,\n",
    "    )\n",
    "    ax[0].set_ylabel(\"Perplexity\")\n",
    "    ax[0].set_xlabel(\"Model\")\n",
    "    ax[0].set_title(\"BCR finetuning\")\n",
    "    ax[0].get_legend().remove()\n",
    "\n",
    "if \"TCR sequences\" in color_mapping:\n",
    "    sns.barplot(\n",
    "        x=\"model\",\n",
    "        y=\"perplexity\",\n",
    "        hue=\"Dataset\",\n",
    "        order=[\"Base LLM\", \"Fine-tuned LLM\"],\n",
    "        hue_order=[\"TCR sequences\", \"Uniref50 sequences\"],\n",
    "        data=bootstraps.loc[bootstraps.locus == \"TCR\"],\n",
    "        palette=[color_mapping[i] for i in [\"TCR sequences\", \"Uniref50 sequences\"]],\n",
    "        ax=ax[1],\n",
    "        errorbar=None,\n",
    "    )\n",
    "    ax[1].set_ylabel(\"Perplexity\")\n",
    "    ax[1].set_xlabel(\"Model\")\n",
    "    ax[1].set_title(\"TCR finetuning\")\n",
    "    ax[1].get_legend().remove()\n",
    "\n",
    "lines_labels = [ax.get_legend_handles_labels() for ax in fig.axes]\n",
    "lines, labels = [sum(lol, []) for lol in zip(*lines_labels)]\n",
    "indexes = [labels.index(x) for x in set(labels)]\n",
    "labels = [labels[i] for i in indexes]\n",
    "lines = [lines[i] for i in indexes]\n",
    "\n",
    "fig.legend(lines, labels, bbox_to_anchor=(1.2, 0.5))\n",
    "\n",
    "fig.tight_layout()\n",
    "genetools.plots.savefig(\n",
    "    fig,\n",
    "    config.paths.output_dir\n",
    "    / f\"fine_tuning.catastrophic_forgetting_analysis_perplexity.png\",\n",
    "    dpi=300,\n",
    ")"
   ]
  },
  {
   "cell_type": "code",
   "execution_count": null,
   "id": "1f279338",
   "metadata": {},
   "outputs": [],
   "source": []
  }
 ],
 "metadata": {
  "jupytext": {
   "cell_metadata_filter": "-all"
  },
  "kernelspec": {
   "display_name": "py39-cuda-env",
   "language": "python",
   "name": "py39-cuda-env"
  },
  "language_info": {
   "codemirror_mode": {
    "name": "ipython",
    "version": 3
   },
   "file_extension": ".py",
   "mimetype": "text/x-python",
   "name": "python",
   "nbconvert_exporter": "python",
   "pygments_lexer": "ipython3",
   "version": "3.9.17"
  }
 },
 "nbformat": 4,
 "nbformat_minor": 5
}
