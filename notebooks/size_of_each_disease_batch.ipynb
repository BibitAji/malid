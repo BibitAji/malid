{
 "cells": [
  {
   "cell_type": "code",
   "execution_count": 1,
   "metadata": {
    "execution": {
     "iopub.execute_input": "2023-01-01T13:19:32.370290Z",
     "iopub.status.busy": "2023-01-01T13:19:32.369386Z",
     "iopub.status.idle": "2023-01-01T13:19:45.515789Z",
     "shell.execute_reply": "2023-01-01T13:19:45.513424Z"
    }
   },
   "outputs": [],
   "source": [
    "import numpy as np\n",
    "import pandas as pd\n",
    "from malid import config, io, helpers\n",
    "from malid.datamodels import healthy_label, GeneLocus, TargetObsColumnEnum"
   ]
  },
  {
   "cell_type": "code",
   "execution_count": 2,
   "metadata": {
    "execution": {
     "iopub.execute_input": "2023-01-01T13:19:45.525570Z",
     "iopub.status.busy": "2023-01-01T13:19:45.524802Z",
     "iopub.status.idle": "2023-01-01T13:19:45.544889Z",
     "shell.execute_reply": "2023-01-01T13:19:45.543024Z"
    }
   },
   "outputs": [],
   "source": [
    "# Uses data from vgene_usage_stats.ipynb\n",
    "\n",
    "\n",
    "def get_dirs(gene_locus: GeneLocus):\n",
    "    output_dir = config.paths.model_interpretations_output_dir / gene_locus.name\n",
    "    highres_output_dir = (\n",
    "        config.paths.high_res_outputs_dir / \"model_interpretations\" / gene_locus.name\n",
    "    )\n",
    "\n",
    "    return output_dir, highres_output_dir\n",
    "\n",
    "\n",
    "def import_v_gene_counts(gene_locus: GeneLocus):\n",
    "    output_dir, highres_output_dir = get_dirs(gene_locus)\n",
    "\n",
    "    specimen_v_gene_counts_df = pd.read_csv(\n",
    "        highres_output_dir / \"v_gene_counts_by_specimen.tsv.gz\", sep=\"\\t\"\n",
    "    )\n",
    "\n",
    "    # subselect to test folds only (which also excludes global fold -1), and set index\n",
    "    specimen_v_gene_counts_df_test_only = specimen_v_gene_counts_df[\n",
    "        specimen_v_gene_counts_df[\"fold_label\"] == \"test\"\n",
    "    ]\n",
    "\n",
    "    # confirm only one entry per specimen now\n",
    "    assert not specimen_v_gene_counts_df_test_only[\"specimen_label\"].duplicated().any()\n",
    "    specimen_v_gene_counts_df_test_only = specimen_v_gene_counts_df_test_only.set_index(\n",
    "        \"specimen_label\"\n",
    "    ).drop([\"fold_id\", \"fold_label\"], axis=1)\n",
    "\n",
    "    # fill na\n",
    "    specimen_v_gene_counts_df_test_only = specimen_v_gene_counts_df_test_only.fillna(0)\n",
    "\n",
    "    v_gene_cols = specimen_v_gene_counts_df_test_only.columns\n",
    "    v_gene_cols = v_gene_cols[~v_gene_cols.isin([\"disease\"])]\n",
    "\n",
    "    # get filtered subset of v_gene_cols, produced previously\n",
    "    # TODO: switch to V genes from model1's choices?\n",
    "    v_gene_cols_filtered = pd.read_csv(output_dir / \"meaningful_v_genes.txt\")[\n",
    "        \"v_gene\"\n",
    "    ].values\n",
    "    assert all(vgene in v_gene_cols for vgene in v_gene_cols_filtered)  # sanity check\n",
    "\n",
    "    return specimen_v_gene_counts_df_test_only, v_gene_cols, v_gene_cols_filtered"
   ]
  },
  {
   "cell_type": "code",
   "execution_count": null,
   "metadata": {},
   "outputs": [],
   "source": []
  },
  {
   "cell_type": "code",
   "execution_count": 3,
   "metadata": {
    "execution": {
     "iopub.execute_input": "2023-01-01T13:19:45.553464Z",
     "iopub.status.busy": "2023-01-01T13:19:45.552752Z",
     "iopub.status.idle": "2023-01-01T13:19:45.673667Z",
     "shell.execute_reply": "2023-01-01T13:19:45.672780Z"
    }
   },
   "outputs": [
    {
     "name": "stdout",
     "output_type": "stream",
     "text": [
      "GeneLocus.BCR\n",
      "GeneLocus.TCR\n"
     ]
    },
    {
     "data": {
      "text/html": [
       "<div>\n",
       "<style scoped>\n",
       "    .dataframe tbody tr th:only-of-type {\n",
       "        vertical-align: middle;\n",
       "    }\n",
       "\n",
       "    .dataframe tbody tr th {\n",
       "        vertical-align: top;\n",
       "    }\n",
       "\n",
       "    .dataframe thead th {\n",
       "        text-align: right;\n",
       "    }\n",
       "</style>\n",
       "<table border=\"1\" class=\"dataframe\">\n",
       "  <thead>\n",
       "    <tr style=\"text-align: right;\">\n",
       "      <th></th>\n",
       "      <th>BCR</th>\n",
       "      <th>TCR</th>\n",
       "    </tr>\n",
       "    <tr>\n",
       "      <th>specimen_label</th>\n",
       "      <th></th>\n",
       "      <th></th>\n",
       "    </tr>\n",
       "  </thead>\n",
       "  <tbody>\n",
       "    <tr>\n",
       "      <th>M111-S001</th>\n",
       "      <td>67904</td>\n",
       "      <td>30156</td>\n",
       "    </tr>\n",
       "    <tr>\n",
       "      <th>M111-S002</th>\n",
       "      <td>65301</td>\n",
       "      <td>64634</td>\n",
       "    </tr>\n",
       "    <tr>\n",
       "      <th>M111-S003</th>\n",
       "      <td>56522</td>\n",
       "      <td>66207</td>\n",
       "    </tr>\n",
       "    <tr>\n",
       "      <th>M111-S004</th>\n",
       "      <td>57568</td>\n",
       "      <td>45237</td>\n",
       "    </tr>\n",
       "    <tr>\n",
       "      <th>M111-S005</th>\n",
       "      <td>50086</td>\n",
       "      <td>42019</td>\n",
       "    </tr>\n",
       "    <tr>\n",
       "      <th>...</th>\n",
       "      <td>...</td>\n",
       "      <td>...</td>\n",
       "    </tr>\n",
       "    <tr>\n",
       "      <th>M64-110</th>\n",
       "      <td>43981</td>\n",
       "      <td>69474</td>\n",
       "    </tr>\n",
       "    <tr>\n",
       "      <th>M64-111</th>\n",
       "      <td>14112</td>\n",
       "      <td>32660</td>\n",
       "    </tr>\n",
       "    <tr>\n",
       "      <th>M64-112</th>\n",
       "      <td>21480</td>\n",
       "      <td>40749</td>\n",
       "    </tr>\n",
       "    <tr>\n",
       "      <th>M64-113</th>\n",
       "      <td>125228</td>\n",
       "      <td>94335</td>\n",
       "    </tr>\n",
       "    <tr>\n",
       "      <th>M64-114</th>\n",
       "      <td>120576</td>\n",
       "      <td>102822</td>\n",
       "    </tr>\n",
       "  </tbody>\n",
       "</table>\n",
       "<p>480 rows × 2 columns</p>\n",
       "</div>"
      ],
      "text/plain": [
       "                   BCR     TCR\n",
       "specimen_label                \n",
       "M111-S001        67904   30156\n",
       "M111-S002        65301   64634\n",
       "M111-S003        56522   66207\n",
       "M111-S004        57568   45237\n",
       "M111-S005        50086   42019\n",
       "...                ...     ...\n",
       "M64-110          43981   69474\n",
       "M64-111          14112   32660\n",
       "M64-112          21480   40749\n",
       "M64-113         125228   94335\n",
       "M64-114         120576  102822\n",
       "\n",
       "[480 rows x 2 columns]"
      ]
     },
     "execution_count": 3,
     "metadata": {},
     "output_type": "execute_result"
    }
   ],
   "source": [
    "totals = {}\n",
    "for gene_locus in config.gene_loci_used:\n",
    "    print(gene_locus)\n",
    "    df, v_gene_cols, _ = import_v_gene_counts(gene_locus=gene_locus)\n",
    "    totals[gene_locus.name] = df[v_gene_cols].sum(axis=1).astype(int)\n",
    "totals = pd.DataFrame(totals).fillna(0).astype(int)\n",
    "totals"
   ]
  },
  {
   "cell_type": "code",
   "execution_count": 4,
   "metadata": {
    "execution": {
     "iopub.execute_input": "2023-01-01T13:19:45.683841Z",
     "iopub.status.busy": "2023-01-01T13:19:45.683470Z",
     "iopub.status.idle": "2023-01-01T13:19:45.694281Z",
     "shell.execute_reply": "2023-01-01T13:19:45.693000Z"
    }
   },
   "outputs": [
    {
     "data": {
      "text/plain": [
       "BCR    False\n",
       "TCR     True\n",
       "dtype: bool"
      ]
     },
     "execution_count": 4,
     "metadata": {},
     "output_type": "execute_result"
    }
   ],
   "source": [
    "# have some BCR only specimens, as expected\n",
    "(totals == 0).any(axis=0)"
   ]
  },
  {
   "cell_type": "code",
   "execution_count": 5,
   "metadata": {
    "execution": {
     "iopub.execute_input": "2023-01-01T13:19:45.701301Z",
     "iopub.status.busy": "2023-01-01T13:19:45.700535Z",
     "iopub.status.idle": "2023-01-01T13:19:45.719832Z",
     "shell.execute_reply": "2023-01-01T13:19:45.718455Z"
    }
   },
   "outputs": [
    {
     "data": {
      "text/html": [
       "<div>\n",
       "<style scoped>\n",
       "    .dataframe tbody tr th:only-of-type {\n",
       "        vertical-align: middle;\n",
       "    }\n",
       "\n",
       "    .dataframe tbody tr th {\n",
       "        vertical-align: top;\n",
       "    }\n",
       "\n",
       "    .dataframe thead th {\n",
       "        text-align: right;\n",
       "    }\n",
       "</style>\n",
       "<table border=\"1\" class=\"dataframe\">\n",
       "  <thead>\n",
       "    <tr style=\"text-align: right;\">\n",
       "      <th></th>\n",
       "      <th>BCR</th>\n",
       "      <th>TCR</th>\n",
       "    </tr>\n",
       "    <tr>\n",
       "      <th>specimen_label</th>\n",
       "      <th></th>\n",
       "      <th></th>\n",
       "    </tr>\n",
       "  </thead>\n",
       "  <tbody>\n",
       "    <tr>\n",
       "      <th>M281redo-S001</th>\n",
       "      <td>6748</td>\n",
       "      <td>0</td>\n",
       "    </tr>\n",
       "    <tr>\n",
       "      <th>M281redo-S002</th>\n",
       "      <td>5283</td>\n",
       "      <td>0</td>\n",
       "    </tr>\n",
       "    <tr>\n",
       "      <th>M281redo-S003</th>\n",
       "      <td>14555</td>\n",
       "      <td>0</td>\n",
       "    </tr>\n",
       "    <tr>\n",
       "      <th>M281redo-S004</th>\n",
       "      <td>10394</td>\n",
       "      <td>0</td>\n",
       "    </tr>\n",
       "    <tr>\n",
       "      <th>M281redo-S005</th>\n",
       "      <td>10912</td>\n",
       "      <td>0</td>\n",
       "    </tr>\n",
       "    <tr>\n",
       "      <th>...</th>\n",
       "      <td>...</td>\n",
       "      <td>...</td>\n",
       "    </tr>\n",
       "    <tr>\n",
       "      <th>M404-S002</th>\n",
       "      <td>57194</td>\n",
       "      <td>0</td>\n",
       "    </tr>\n",
       "    <tr>\n",
       "      <th>M404-S005</th>\n",
       "      <td>56246</td>\n",
       "      <td>0</td>\n",
       "    </tr>\n",
       "    <tr>\n",
       "      <th>M404-S008</th>\n",
       "      <td>69789</td>\n",
       "      <td>0</td>\n",
       "    </tr>\n",
       "    <tr>\n",
       "      <th>M404-S011</th>\n",
       "      <td>51472</td>\n",
       "      <td>0</td>\n",
       "    </tr>\n",
       "    <tr>\n",
       "      <th>M404-S014</th>\n",
       "      <td>41375</td>\n",
       "      <td>0</td>\n",
       "    </tr>\n",
       "  </tbody>\n",
       "</table>\n",
       "<p>66 rows × 2 columns</p>\n",
       "</div>"
      ],
      "text/plain": [
       "                  BCR  TCR\n",
       "specimen_label            \n",
       "M281redo-S001    6748    0\n",
       "M281redo-S002    5283    0\n",
       "M281redo-S003   14555    0\n",
       "M281redo-S004   10394    0\n",
       "M281redo-S005   10912    0\n",
       "...               ...  ...\n",
       "M404-S002       57194    0\n",
       "M404-S005       56246    0\n",
       "M404-S008       69789    0\n",
       "M404-S011       51472    0\n",
       "M404-S014       41375    0\n",
       "\n",
       "[66 rows x 2 columns]"
      ]
     },
     "execution_count": 5,
     "metadata": {},
     "output_type": "execute_result"
    }
   ],
   "source": [
    "# have some BCR only specimens, as expected\n",
    "totals.loc[(totals == 0).any(axis=1)]"
   ]
  },
  {
   "cell_type": "code",
   "execution_count": 6,
   "metadata": {
    "execution": {
     "iopub.execute_input": "2023-01-01T13:19:45.727868Z",
     "iopub.status.busy": "2023-01-01T13:19:45.727144Z",
     "iopub.status.idle": "2023-01-01T13:19:45.740708Z",
     "shell.execute_reply": "2023-01-01T13:19:45.738724Z"
    }
   },
   "outputs": [
    {
     "data": {
      "text/plain": [
       "Index(['BCR', 'TCR'], dtype='object')"
      ]
     },
     "execution_count": 6,
     "metadata": {},
     "output_type": "execute_result"
    }
   ],
   "source": [
    "cols = totals.columns\n",
    "cols"
   ]
  },
  {
   "cell_type": "code",
   "execution_count": 7,
   "metadata": {
    "execution": {
     "iopub.execute_input": "2023-01-01T13:19:45.748884Z",
     "iopub.status.busy": "2023-01-01T13:19:45.747941Z",
     "iopub.status.idle": "2023-01-01T13:19:45.763359Z",
     "shell.execute_reply": "2023-01-01T13:19:45.761869Z"
    }
   },
   "outputs": [
    {
     "data": {
      "text/plain": [
       "specimen_label\n",
       "M111-S001     98060\n",
       "M111-S002    129935\n",
       "M111-S003    122729\n",
       "M111-S004    102805\n",
       "M111-S005     92105\n",
       "              ...  \n",
       "M64-110      113455\n",
       "M64-111       46772\n",
       "M64-112       62229\n",
       "M64-113      219563\n",
       "M64-114      223398\n",
       "Length: 480, dtype: int64"
      ]
     },
     "execution_count": 7,
     "metadata": {},
     "output_type": "execute_result"
    }
   ],
   "source": [
    "total = totals.sum(axis=1)\n",
    "total"
   ]
  },
  {
   "cell_type": "code",
   "execution_count": null,
   "metadata": {},
   "outputs": [],
   "source": []
  },
  {
   "cell_type": "code",
   "execution_count": 8,
   "metadata": {
    "execution": {
     "iopub.execute_input": "2023-01-01T13:19:45.771367Z",
     "iopub.status.busy": "2023-01-01T13:19:45.770663Z",
     "iopub.status.idle": "2023-01-01T13:19:45.891310Z",
     "shell.execute_reply": "2023-01-01T13:19:45.890374Z"
    }
   },
   "outputs": [
    {
     "data": {
      "text/html": [
       "<div>\n",
       "<style scoped>\n",
       "    .dataframe tbody tr th:only-of-type {\n",
       "        vertical-align: middle;\n",
       "    }\n",
       "\n",
       "    .dataframe tbody tr th {\n",
       "        vertical-align: top;\n",
       "    }\n",
       "\n",
       "    .dataframe thead th {\n",
       "        text-align: right;\n",
       "    }\n",
       "</style>\n",
       "<table border=\"1\" class=\"dataframe\">\n",
       "  <thead>\n",
       "    <tr style=\"text-align: right;\">\n",
       "      <th></th>\n",
       "      <th>BCR</th>\n",
       "      <th>TCR</th>\n",
       "      <th>disease</th>\n",
       "      <th>study_name</th>\n",
       "      <th>participant_label</th>\n",
       "      <th>in_training_set</th>\n",
       "    </tr>\n",
       "    <tr>\n",
       "      <th>specimen_label</th>\n",
       "      <th></th>\n",
       "      <th></th>\n",
       "      <th></th>\n",
       "      <th></th>\n",
       "      <th></th>\n",
       "      <th></th>\n",
       "    </tr>\n",
       "  </thead>\n",
       "  <tbody>\n",
       "    <tr>\n",
       "      <th>M111-S001</th>\n",
       "      <td>67904</td>\n",
       "      <td>30156</td>\n",
       "      <td>HIV</td>\n",
       "      <td>HIV</td>\n",
       "      <td>BFI-0003462</td>\n",
       "      <td>True</td>\n",
       "    </tr>\n",
       "    <tr>\n",
       "      <th>M111-S002</th>\n",
       "      <td>65301</td>\n",
       "      <td>64634</td>\n",
       "      <td>HIV</td>\n",
       "      <td>HIV</td>\n",
       "      <td>BFI-0003481</td>\n",
       "      <td>True</td>\n",
       "    </tr>\n",
       "    <tr>\n",
       "      <th>M111-S003</th>\n",
       "      <td>56522</td>\n",
       "      <td>66207</td>\n",
       "      <td>HIV</td>\n",
       "      <td>HIV</td>\n",
       "      <td>BFI-0003466</td>\n",
       "      <td>True</td>\n",
       "    </tr>\n",
       "    <tr>\n",
       "      <th>M111-S004</th>\n",
       "      <td>57568</td>\n",
       "      <td>45237</td>\n",
       "      <td>HIV</td>\n",
       "      <td>HIV</td>\n",
       "      <td>BFI-0003460</td>\n",
       "      <td>True</td>\n",
       "    </tr>\n",
       "    <tr>\n",
       "      <th>M111-S005</th>\n",
       "      <td>50086</td>\n",
       "      <td>42019</td>\n",
       "      <td>HIV</td>\n",
       "      <td>HIV</td>\n",
       "      <td>BFI-0003463</td>\n",
       "      <td>True</td>\n",
       "    </tr>\n",
       "    <tr>\n",
       "      <th>...</th>\n",
       "      <td>...</td>\n",
       "      <td>...</td>\n",
       "      <td>...</td>\n",
       "      <td>...</td>\n",
       "      <td>...</td>\n",
       "      <td>...</td>\n",
       "    </tr>\n",
       "    <tr>\n",
       "      <th>M64-110</th>\n",
       "      <td>43981</td>\n",
       "      <td>69474</td>\n",
       "      <td>Healthy/Background</td>\n",
       "      <td>Healthy-StanfordBloodCenter</td>\n",
       "      <td>BFI-0003159</td>\n",
       "      <td>True</td>\n",
       "    </tr>\n",
       "    <tr>\n",
       "      <th>M64-111</th>\n",
       "      <td>14112</td>\n",
       "      <td>32660</td>\n",
       "      <td>Healthy/Background</td>\n",
       "      <td>Healthy-StanfordBloodCenter</td>\n",
       "      <td>BFI-0003160</td>\n",
       "      <td>True</td>\n",
       "    </tr>\n",
       "    <tr>\n",
       "      <th>M64-112</th>\n",
       "      <td>21480</td>\n",
       "      <td>40749</td>\n",
       "      <td>Healthy/Background</td>\n",
       "      <td>Healthy-StanfordBloodCenter</td>\n",
       "      <td>BFI-0003161</td>\n",
       "      <td>True</td>\n",
       "    </tr>\n",
       "    <tr>\n",
       "      <th>M64-113</th>\n",
       "      <td>125228</td>\n",
       "      <td>94335</td>\n",
       "      <td>Healthy/Background</td>\n",
       "      <td>Healthy-StanfordBloodCenter</td>\n",
       "      <td>BFI-0003162</td>\n",
       "      <td>True</td>\n",
       "    </tr>\n",
       "    <tr>\n",
       "      <th>M64-114</th>\n",
       "      <td>120576</td>\n",
       "      <td>102822</td>\n",
       "      <td>Healthy/Background</td>\n",
       "      <td>Healthy-StanfordBloodCenter</td>\n",
       "      <td>BFI-0003163</td>\n",
       "      <td>True</td>\n",
       "    </tr>\n",
       "  </tbody>\n",
       "</table>\n",
       "<p>480 rows × 6 columns</p>\n",
       "</div>"
      ],
      "text/plain": [
       "                   BCR     TCR             disease  \\\n",
       "specimen_label                                       \n",
       "M111-S001        67904   30156                 HIV   \n",
       "M111-S002        65301   64634                 HIV   \n",
       "M111-S003        56522   66207                 HIV   \n",
       "M111-S004        57568   45237                 HIV   \n",
       "M111-S005        50086   42019                 HIV   \n",
       "...                ...     ...                 ...   \n",
       "M64-110          43981   69474  Healthy/Background   \n",
       "M64-111          14112   32660  Healthy/Background   \n",
       "M64-112          21480   40749  Healthy/Background   \n",
       "M64-113         125228   94335  Healthy/Background   \n",
       "M64-114         120576  102822  Healthy/Background   \n",
       "\n",
       "                                 study_name participant_label  in_training_set  \n",
       "specimen_label                                                                  \n",
       "M111-S001                               HIV       BFI-0003462             True  \n",
       "M111-S002                               HIV       BFI-0003481             True  \n",
       "M111-S003                               HIV       BFI-0003466             True  \n",
       "M111-S004                               HIV       BFI-0003460             True  \n",
       "M111-S005                               HIV       BFI-0003463             True  \n",
       "...                                     ...               ...              ...  \n",
       "M64-110         Healthy-StanfordBloodCenter       BFI-0003159             True  \n",
       "M64-111         Healthy-StanfordBloodCenter       BFI-0003160             True  \n",
       "M64-112         Healthy-StanfordBloodCenter       BFI-0003161             True  \n",
       "M64-113         Healthy-StanfordBloodCenter       BFI-0003162             True  \n",
       "M64-114         Healthy-StanfordBloodCenter       BFI-0003163             True  \n",
       "\n",
       "[480 rows x 6 columns]"
      ]
     },
     "execution_count": 8,
     "metadata": {},
     "output_type": "execute_result"
    }
   ],
   "source": [
    "orig_shape = totals.shape\n",
    "totals = pd.merge(\n",
    "    totals,\n",
    "    helpers.get_all_specimen_info().set_index(\"specimen_label\")[\n",
    "        [\"disease\", \"study_name\", \"participant_label\", \"in_training_set\"]\n",
    "    ],\n",
    "    left_index=True,\n",
    "    right_index=True,\n",
    "    validate=\"1:1\",\n",
    "    how=\"inner\",\n",
    ")\n",
    "assert totals.shape[0] == orig_shape[0]\n",
    "totals"
   ]
  },
  {
   "cell_type": "code",
   "execution_count": 9,
   "metadata": {
    "execution": {
     "iopub.execute_input": "2023-01-01T13:19:45.899250Z",
     "iopub.status.busy": "2023-01-01T13:19:45.898534Z",
     "iopub.status.idle": "2023-01-01T13:19:45.904527Z",
     "shell.execute_reply": "2023-01-01T13:19:45.903674Z"
    }
   },
   "outputs": [],
   "source": [
    "assert totals[\"in_training_set\"].all(), \"sanity check\""
   ]
  },
  {
   "cell_type": "code",
   "execution_count": null,
   "metadata": {},
   "outputs": [],
   "source": []
  },
  {
   "cell_type": "code",
   "execution_count": 10,
   "metadata": {
    "execution": {
     "iopub.execute_input": "2023-01-01T13:19:45.910856Z",
     "iopub.status.busy": "2023-01-01T13:19:45.910377Z",
     "iopub.status.idle": "2023-01-01T13:19:45.928356Z",
     "shell.execute_reply": "2023-01-01T13:19:45.926921Z"
    }
   },
   "outputs": [
    {
     "data": {
      "text/html": [
       "<div>\n",
       "<style scoped>\n",
       "    .dataframe tbody tr th:only-of-type {\n",
       "        vertical-align: middle;\n",
       "    }\n",
       "\n",
       "    .dataframe tbody tr th {\n",
       "        vertical-align: top;\n",
       "    }\n",
       "\n",
       "    .dataframe thead th {\n",
       "        text-align: right;\n",
       "    }\n",
       "</style>\n",
       "<table border=\"1\" class=\"dataframe\">\n",
       "  <thead>\n",
       "    <tr style=\"text-align: right;\">\n",
       "      <th></th>\n",
       "      <th></th>\n",
       "      <th>BCR</th>\n",
       "      <th>TCR</th>\n",
       "    </tr>\n",
       "    <tr>\n",
       "      <th>disease</th>\n",
       "      <th>study_name</th>\n",
       "      <th></th>\n",
       "      <th></th>\n",
       "    </tr>\n",
       "  </thead>\n",
       "  <tbody>\n",
       "    <tr>\n",
       "      <th rowspan=\"3\" valign=\"top\">Covid19</th>\n",
       "      <th>Covid19-Seattle</th>\n",
       "      <td>276076</td>\n",
       "      <td>0</td>\n",
       "    </tr>\n",
       "    <tr>\n",
       "      <th>Covid19-Stanford</th>\n",
       "      <td>403562</td>\n",
       "      <td>654000</td>\n",
       "    </tr>\n",
       "    <tr>\n",
       "      <th>Covid19-buffycoat</th>\n",
       "      <td>256655</td>\n",
       "      <td>193568</td>\n",
       "    </tr>\n",
       "    <tr>\n",
       "      <th>HIV</th>\n",
       "      <th>HIV</th>\n",
       "      <td>2762764</td>\n",
       "      <td>3164681</td>\n",
       "    </tr>\n",
       "    <tr>\n",
       "      <th rowspan=\"6\" valign=\"top\">Healthy/Background</th>\n",
       "      <th>HIV</th>\n",
       "      <td>832374</td>\n",
       "      <td>1472515</td>\n",
       "    </tr>\n",
       "    <tr>\n",
       "      <th>Healthy-StanfordBloodCenter</th>\n",
       "      <td>4740876</td>\n",
       "      <td>5803482</td>\n",
       "    </tr>\n",
       "    <tr>\n",
       "      <th>Lupus</th>\n",
       "      <td>365431</td>\n",
       "      <td>0</td>\n",
       "    </tr>\n",
       "    <tr>\n",
       "      <th>New Lupus Paxgene</th>\n",
       "      <td>117351</td>\n",
       "      <td>377830</td>\n",
       "    </tr>\n",
       "    <tr>\n",
       "      <th>New Lupus RNA</th>\n",
       "      <td>125576</td>\n",
       "      <td>107635</td>\n",
       "    </tr>\n",
       "    <tr>\n",
       "      <th>healthy_children</th>\n",
       "      <td>1134937</td>\n",
       "      <td>3834725</td>\n",
       "    </tr>\n",
       "    <tr>\n",
       "      <th rowspan=\"4\" valign=\"top\">Lupus</th>\n",
       "      <th>Lupus</th>\n",
       "      <td>520355</td>\n",
       "      <td>0</td>\n",
       "    </tr>\n",
       "    <tr>\n",
       "      <th>Lupus Pediatric</th>\n",
       "      <td>2256194</td>\n",
       "      <td>2362725</td>\n",
       "    </tr>\n",
       "    <tr>\n",
       "      <th>New Lupus Paxgene</th>\n",
       "      <td>286755</td>\n",
       "      <td>740123</td>\n",
       "    </tr>\n",
       "    <tr>\n",
       "      <th>New Lupus RNA</th>\n",
       "      <td>296828</td>\n",
       "      <td>520543</td>\n",
       "    </tr>\n",
       "  </tbody>\n",
       "</table>\n",
       "</div>"
      ],
      "text/plain": [
       "                                                    BCR      TCR\n",
       "disease            study_name                                   \n",
       "Covid19            Covid19-Seattle               276076        0\n",
       "                   Covid19-Stanford              403562   654000\n",
       "                   Covid19-buffycoat             256655   193568\n",
       "HIV                HIV                          2762764  3164681\n",
       "Healthy/Background HIV                           832374  1472515\n",
       "                   Healthy-StanfordBloodCenter  4740876  5803482\n",
       "                   Lupus                         365431        0\n",
       "                   New Lupus Paxgene             117351   377830\n",
       "                   New Lupus RNA                 125576   107635\n",
       "                   healthy_children             1134937  3834725\n",
       "Lupus              Lupus                         520355        0\n",
       "                   Lupus Pediatric              2256194  2362725\n",
       "                   New Lupus Paxgene             286755   740123\n",
       "                   New Lupus RNA                 296828   520543"
      ]
     },
     "execution_count": 10,
     "metadata": {},
     "output_type": "execute_result"
    }
   ],
   "source": [
    "# num clones\n",
    "totals.groupby([\"disease\", \"study_name\"], observed=True)[cols].sum()"
   ]
  },
  {
   "cell_type": "code",
   "execution_count": 11,
   "metadata": {
    "execution": {
     "iopub.execute_input": "2023-01-01T13:19:45.934960Z",
     "iopub.status.busy": "2023-01-01T13:19:45.934300Z",
     "iopub.status.idle": "2023-01-01T13:19:45.951101Z",
     "shell.execute_reply": "2023-01-01T13:19:45.949841Z"
    }
   },
   "outputs": [
    {
     "data": {
      "text/html": [
       "<div>\n",
       "<style scoped>\n",
       "    .dataframe tbody tr th:only-of-type {\n",
       "        vertical-align: middle;\n",
       "    }\n",
       "\n",
       "    .dataframe tbody tr th {\n",
       "        vertical-align: top;\n",
       "    }\n",
       "\n",
       "    .dataframe thead th {\n",
       "        text-align: right;\n",
       "    }\n",
       "</style>\n",
       "<table border=\"1\" class=\"dataframe\">\n",
       "  <thead>\n",
       "    <tr style=\"text-align: right;\">\n",
       "      <th></th>\n",
       "      <th></th>\n",
       "      <th>number of individuals</th>\n",
       "    </tr>\n",
       "    <tr>\n",
       "      <th>disease</th>\n",
       "      <th>study_name</th>\n",
       "      <th></th>\n",
       "    </tr>\n",
       "  </thead>\n",
       "  <tbody>\n",
       "    <tr>\n",
       "      <th rowspan=\"3\" valign=\"top\">Covid19</th>\n",
       "      <th>Covid19-Seattle</th>\n",
       "      <td>5</td>\n",
       "    </tr>\n",
       "    <tr>\n",
       "      <th>Covid19-Stanford</th>\n",
       "      <td>48</td>\n",
       "    </tr>\n",
       "    <tr>\n",
       "      <th>Covid19-buffycoat</th>\n",
       "      <td>10</td>\n",
       "    </tr>\n",
       "    <tr>\n",
       "      <th>HIV</th>\n",
       "      <th>HIV</th>\n",
       "      <td>95</td>\n",
       "    </tr>\n",
       "    <tr>\n",
       "      <th rowspan=\"6\" valign=\"top\">Healthy/Background</th>\n",
       "      <th>HIV</th>\n",
       "      <td>43</td>\n",
       "    </tr>\n",
       "    <tr>\n",
       "      <th>Healthy-StanfordBloodCenter</th>\n",
       "      <td>102</td>\n",
       "    </tr>\n",
       "    <tr>\n",
       "      <th>Lupus</th>\n",
       "      <td>23</td>\n",
       "    </tr>\n",
       "    <tr>\n",
       "      <th>New Lupus Paxgene</th>\n",
       "      <td>2</td>\n",
       "    </tr>\n",
       "    <tr>\n",
       "      <th>New Lupus RNA</th>\n",
       "      <td>4</td>\n",
       "    </tr>\n",
       "    <tr>\n",
       "      <th>healthy_children</th>\n",
       "      <td>43</td>\n",
       "    </tr>\n",
       "    <tr>\n",
       "      <th rowspan=\"4\" valign=\"top\">Lupus</th>\n",
       "      <th>Lupus</th>\n",
       "      <td>23</td>\n",
       "    </tr>\n",
       "    <tr>\n",
       "      <th>Lupus Pediatric</th>\n",
       "      <td>43</td>\n",
       "    </tr>\n",
       "    <tr>\n",
       "      <th>New Lupus Paxgene</th>\n",
       "      <td>5</td>\n",
       "    </tr>\n",
       "    <tr>\n",
       "      <th>New Lupus RNA</th>\n",
       "      <td>15</td>\n",
       "    </tr>\n",
       "  </tbody>\n",
       "</table>\n",
       "</div>"
      ],
      "text/plain": [
       "                                                number of individuals\n",
       "disease            study_name                                        \n",
       "Covid19            Covid19-Seattle                                  5\n",
       "                   Covid19-Stanford                                48\n",
       "                   Covid19-buffycoat                               10\n",
       "HIV                HIV                                             95\n",
       "Healthy/Background HIV                                             43\n",
       "                   Healthy-StanfordBloodCenter                    102\n",
       "                   Lupus                                           23\n",
       "                   New Lupus Paxgene                                2\n",
       "                   New Lupus RNA                                    4\n",
       "                   healthy_children                                43\n",
       "Lupus              Lupus                                           23\n",
       "                   Lupus Pediatric                                 43\n",
       "                   New Lupus Paxgene                                5\n",
       "                   New Lupus RNA                                   15"
      ]
     },
     "execution_count": 11,
     "metadata": {},
     "output_type": "execute_result"
    }
   ],
   "source": [
    "# num patients\n",
    "totals.groupby([\"disease\", \"study_name\"], observed=True)[\n",
    "    \"participant_label\"\n",
    "].nunique().to_frame(name=\"number of individuals\")"
   ]
  },
  {
   "cell_type": "code",
   "execution_count": 12,
   "metadata": {
    "execution": {
     "iopub.execute_input": "2023-01-01T13:19:45.957919Z",
     "iopub.status.busy": "2023-01-01T13:19:45.957299Z",
     "iopub.status.idle": "2023-01-01T13:19:45.975719Z",
     "shell.execute_reply": "2023-01-01T13:19:45.974241Z"
    }
   },
   "outputs": [
    {
     "data": {
      "text/html": [
       "<div>\n",
       "<style scoped>\n",
       "    .dataframe tbody tr th:only-of-type {\n",
       "        vertical-align: middle;\n",
       "    }\n",
       "\n",
       "    .dataframe tbody tr th {\n",
       "        vertical-align: top;\n",
       "    }\n",
       "\n",
       "    .dataframe thead th {\n",
       "        text-align: right;\n",
       "    }\n",
       "</style>\n",
       "<table border=\"1\" class=\"dataframe\">\n",
       "  <thead>\n",
       "    <tr style=\"text-align: right;\">\n",
       "      <th></th>\n",
       "      <th></th>\n",
       "      <th>number of specimens</th>\n",
       "    </tr>\n",
       "    <tr>\n",
       "      <th>disease</th>\n",
       "      <th>study_name</th>\n",
       "      <th></th>\n",
       "    </tr>\n",
       "  </thead>\n",
       "  <tbody>\n",
       "    <tr>\n",
       "      <th rowspan=\"3\" valign=\"top\">Covid19</th>\n",
       "      <th>Covid19-Seattle</th>\n",
       "      <td>5</td>\n",
       "    </tr>\n",
       "    <tr>\n",
       "      <th>Covid19-Stanford</th>\n",
       "      <td>48</td>\n",
       "    </tr>\n",
       "    <tr>\n",
       "      <th>Covid19-buffycoat</th>\n",
       "      <td>10</td>\n",
       "    </tr>\n",
       "    <tr>\n",
       "      <th>HIV</th>\n",
       "      <th>HIV</th>\n",
       "      <td>98</td>\n",
       "    </tr>\n",
       "    <tr>\n",
       "      <th rowspan=\"6\" valign=\"top\">Healthy/Background</th>\n",
       "      <th>HIV</th>\n",
       "      <td>43</td>\n",
       "    </tr>\n",
       "    <tr>\n",
       "      <th>Healthy-StanfordBloodCenter</th>\n",
       "      <td>102</td>\n",
       "    </tr>\n",
       "    <tr>\n",
       "      <th>Lupus</th>\n",
       "      <td>27</td>\n",
       "    </tr>\n",
       "    <tr>\n",
       "      <th>New Lupus Paxgene</th>\n",
       "      <td>2</td>\n",
       "    </tr>\n",
       "    <tr>\n",
       "      <th>New Lupus RNA</th>\n",
       "      <td>4</td>\n",
       "    </tr>\n",
       "    <tr>\n",
       "      <th>healthy_children</th>\n",
       "      <td>43</td>\n",
       "    </tr>\n",
       "    <tr>\n",
       "      <th rowspan=\"4\" valign=\"top\">Lupus</th>\n",
       "      <th>Lupus</th>\n",
       "      <td>34</td>\n",
       "    </tr>\n",
       "    <tr>\n",
       "      <th>Lupus Pediatric</th>\n",
       "      <td>43</td>\n",
       "    </tr>\n",
       "    <tr>\n",
       "      <th>New Lupus Paxgene</th>\n",
       "      <td>5</td>\n",
       "    </tr>\n",
       "    <tr>\n",
       "      <th>New Lupus RNA</th>\n",
       "      <td>16</td>\n",
       "    </tr>\n",
       "  </tbody>\n",
       "</table>\n",
       "</div>"
      ],
      "text/plain": [
       "                                                number of specimens\n",
       "disease            study_name                                      \n",
       "Covid19            Covid19-Seattle                                5\n",
       "                   Covid19-Stanford                              48\n",
       "                   Covid19-buffycoat                             10\n",
       "HIV                HIV                                           98\n",
       "Healthy/Background HIV                                           43\n",
       "                   Healthy-StanfordBloodCenter                  102\n",
       "                   Lupus                                         27\n",
       "                   New Lupus Paxgene                              2\n",
       "                   New Lupus RNA                                  4\n",
       "                   healthy_children                              43\n",
       "Lupus              Lupus                                         34\n",
       "                   Lupus Pediatric                               43\n",
       "                   New Lupus Paxgene                              5\n",
       "                   New Lupus RNA                                 16"
      ]
     },
     "execution_count": 12,
     "metadata": {},
     "output_type": "execute_result"
    }
   ],
   "source": [
    "# num specimens\n",
    "totals.groupby([\"disease\", \"study_name\"], observed=True).size().to_frame(\n",
    "    name=\"number of specimens\"\n",
    ")"
   ]
  },
  {
   "cell_type": "code",
   "execution_count": null,
   "metadata": {},
   "outputs": [],
   "source": []
  },
  {
   "cell_type": "code",
   "execution_count": 13,
   "metadata": {
    "execution": {
     "iopub.execute_input": "2023-01-01T13:19:45.983650Z",
     "iopub.status.busy": "2023-01-01T13:19:45.982949Z",
     "iopub.status.idle": "2023-01-01T13:19:46.033533Z",
     "shell.execute_reply": "2023-01-01T13:19:46.032187Z"
    }
   },
   "outputs": [
    {
     "data": {
      "text/html": [
       "<div>\n",
       "<style scoped>\n",
       "    .dataframe tbody tr th:only-of-type {\n",
       "        vertical-align: middle;\n",
       "    }\n",
       "\n",
       "    .dataframe tbody tr th {\n",
       "        vertical-align: top;\n",
       "    }\n",
       "\n",
       "    .dataframe thead th {\n",
       "        text-align: right;\n",
       "    }\n",
       "</style>\n",
       "<table border=\"1\" class=\"dataframe\">\n",
       "  <thead>\n",
       "    <tr style=\"text-align: right;\">\n",
       "      <th></th>\n",
       "      <th></th>\n",
       "      <th>number of individuals</th>\n",
       "      <th>number of specimens</th>\n",
       "      <th>BCR</th>\n",
       "      <th>TCR</th>\n",
       "    </tr>\n",
       "    <tr>\n",
       "      <th>disease</th>\n",
       "      <th>study_name</th>\n",
       "      <th></th>\n",
       "      <th></th>\n",
       "      <th></th>\n",
       "      <th></th>\n",
       "    </tr>\n",
       "  </thead>\n",
       "  <tbody>\n",
       "    <tr>\n",
       "      <th rowspan=\"3\" valign=\"top\">Covid19</th>\n",
       "      <th>Covid19-Seattle</th>\n",
       "      <td>5</td>\n",
       "      <td>5</td>\n",
       "      <td>276076</td>\n",
       "      <td>0</td>\n",
       "    </tr>\n",
       "    <tr>\n",
       "      <th>Covid19-Stanford</th>\n",
       "      <td>48</td>\n",
       "      <td>48</td>\n",
       "      <td>403562</td>\n",
       "      <td>654000</td>\n",
       "    </tr>\n",
       "    <tr>\n",
       "      <th>Covid19-buffycoat</th>\n",
       "      <td>10</td>\n",
       "      <td>10</td>\n",
       "      <td>256655</td>\n",
       "      <td>193568</td>\n",
       "    </tr>\n",
       "    <tr>\n",
       "      <th>HIV</th>\n",
       "      <th>HIV</th>\n",
       "      <td>95</td>\n",
       "      <td>98</td>\n",
       "      <td>2762764</td>\n",
       "      <td>3164681</td>\n",
       "    </tr>\n",
       "    <tr>\n",
       "      <th rowspan=\"6\" valign=\"top\">Healthy/Background</th>\n",
       "      <th>HIV</th>\n",
       "      <td>43</td>\n",
       "      <td>43</td>\n",
       "      <td>832374</td>\n",
       "      <td>1472515</td>\n",
       "    </tr>\n",
       "    <tr>\n",
       "      <th>Healthy-StanfordBloodCenter</th>\n",
       "      <td>102</td>\n",
       "      <td>102</td>\n",
       "      <td>4740876</td>\n",
       "      <td>5803482</td>\n",
       "    </tr>\n",
       "    <tr>\n",
       "      <th>Lupus</th>\n",
       "      <td>23</td>\n",
       "      <td>27</td>\n",
       "      <td>365431</td>\n",
       "      <td>0</td>\n",
       "    </tr>\n",
       "    <tr>\n",
       "      <th>New Lupus Paxgene</th>\n",
       "      <td>2</td>\n",
       "      <td>2</td>\n",
       "      <td>117351</td>\n",
       "      <td>377830</td>\n",
       "    </tr>\n",
       "    <tr>\n",
       "      <th>New Lupus RNA</th>\n",
       "      <td>4</td>\n",
       "      <td>4</td>\n",
       "      <td>125576</td>\n",
       "      <td>107635</td>\n",
       "    </tr>\n",
       "    <tr>\n",
       "      <th>healthy_children</th>\n",
       "      <td>43</td>\n",
       "      <td>43</td>\n",
       "      <td>1134937</td>\n",
       "      <td>3834725</td>\n",
       "    </tr>\n",
       "    <tr>\n",
       "      <th rowspan=\"4\" valign=\"top\">Lupus</th>\n",
       "      <th>Lupus</th>\n",
       "      <td>23</td>\n",
       "      <td>34</td>\n",
       "      <td>520355</td>\n",
       "      <td>0</td>\n",
       "    </tr>\n",
       "    <tr>\n",
       "      <th>Lupus Pediatric</th>\n",
       "      <td>43</td>\n",
       "      <td>43</td>\n",
       "      <td>2256194</td>\n",
       "      <td>2362725</td>\n",
       "    </tr>\n",
       "    <tr>\n",
       "      <th>New Lupus Paxgene</th>\n",
       "      <td>5</td>\n",
       "      <td>5</td>\n",
       "      <td>286755</td>\n",
       "      <td>740123</td>\n",
       "    </tr>\n",
       "    <tr>\n",
       "      <th>New Lupus RNA</th>\n",
       "      <td>15</td>\n",
       "      <td>16</td>\n",
       "      <td>296828</td>\n",
       "      <td>520543</td>\n",
       "    </tr>\n",
       "  </tbody>\n",
       "</table>\n",
       "</div>"
      ],
      "text/plain": [
       "                                                number of individuals  \\\n",
       "disease            study_name                                           \n",
       "Covid19            Covid19-Seattle                                  5   \n",
       "                   Covid19-Stanford                                48   \n",
       "                   Covid19-buffycoat                               10   \n",
       "HIV                HIV                                             95   \n",
       "Healthy/Background HIV                                             43   \n",
       "                   Healthy-StanfordBloodCenter                    102   \n",
       "                   Lupus                                           23   \n",
       "                   New Lupus Paxgene                                2   \n",
       "                   New Lupus RNA                                    4   \n",
       "                   healthy_children                                43   \n",
       "Lupus              Lupus                                           23   \n",
       "                   Lupus Pediatric                                 43   \n",
       "                   New Lupus Paxgene                                5   \n",
       "                   New Lupus RNA                                   15   \n",
       "\n",
       "                                                number of specimens      BCR  \\\n",
       "disease            study_name                                                  \n",
       "Covid19            Covid19-Seattle                                5   276076   \n",
       "                   Covid19-Stanford                              48   403562   \n",
       "                   Covid19-buffycoat                             10   256655   \n",
       "HIV                HIV                                           98  2762764   \n",
       "Healthy/Background HIV                                           43   832374   \n",
       "                   Healthy-StanfordBloodCenter                  102  4740876   \n",
       "                   Lupus                                         27   365431   \n",
       "                   New Lupus Paxgene                              2   117351   \n",
       "                   New Lupus RNA                                  4   125576   \n",
       "                   healthy_children                              43  1134937   \n",
       "Lupus              Lupus                                         34   520355   \n",
       "                   Lupus Pediatric                               43  2256194   \n",
       "                   New Lupus Paxgene                              5   286755   \n",
       "                   New Lupus RNA                                 16   296828   \n",
       "\n",
       "                                                    TCR  \n",
       "disease            study_name                            \n",
       "Covid19            Covid19-Seattle                    0  \n",
       "                   Covid19-Stanford              654000  \n",
       "                   Covid19-buffycoat             193568  \n",
       "HIV                HIV                          3164681  \n",
       "Healthy/Background HIV                          1472515  \n",
       "                   Healthy-StanfordBloodCenter  5803482  \n",
       "                   Lupus                              0  \n",
       "                   New Lupus Paxgene             377830  \n",
       "                   New Lupus RNA                 107635  \n",
       "                   healthy_children             3834725  \n",
       "Lupus              Lupus                              0  \n",
       "                   Lupus Pediatric              2362725  \n",
       "                   New Lupus Paxgene             740123  \n",
       "                   New Lupus RNA                 520543  "
      ]
     },
     "execution_count": 13,
     "metadata": {},
     "output_type": "execute_result"
    }
   ],
   "source": [
    "# make a table of all\n",
    "df_all = pd.concat(\n",
    "    [\n",
    "        # num patients\n",
    "        totals.groupby([\"disease\", \"study_name\"], observed=True)[\"participant_label\"]\n",
    "        .nunique()\n",
    "        .to_frame(name=\"number of individuals\"),\n",
    "        # num specimens\n",
    "        totals.groupby([\"disease\", \"study_name\"], observed=True)\n",
    "        .size()\n",
    "        .to_frame(name=\"number of specimens\"),\n",
    "        # num clones\n",
    "        totals.groupby([\"disease\", \"study_name\"], observed=True)[cols].sum(),\n",
    "    ],\n",
    "    axis=1,\n",
    ")\n",
    "df_all.to_csv(config.paths.output_dir / \"size_of_each_disease_batch.tsv\", sep=\"\\t\")\n",
    "df_all"
   ]
  },
  {
   "cell_type": "code",
   "execution_count": null,
   "metadata": {},
   "outputs": [],
   "source": []
  },
  {
   "cell_type": "code",
   "execution_count": null,
   "metadata": {},
   "outputs": [],
   "source": []
  },
  {
   "cell_type": "code",
   "execution_count": null,
   "metadata": {},
   "outputs": [],
   "source": []
  },
  {
   "cell_type": "code",
   "execution_count": null,
   "metadata": {},
   "outputs": [],
   "source": []
  },
  {
   "cell_type": "code",
   "execution_count": null,
   "metadata": {},
   "outputs": [],
   "source": []
  },
  {
   "cell_type": "code",
   "execution_count": null,
   "metadata": {},
   "outputs": [],
   "source": []
  },
  {
   "cell_type": "code",
   "execution_count": null,
   "metadata": {},
   "outputs": [],
   "source": []
  },
  {
   "cell_type": "code",
   "execution_count": 14,
   "metadata": {
    "execution": {
     "iopub.execute_input": "2023-01-01T13:19:46.042719Z",
     "iopub.status.busy": "2023-01-01T13:19:46.041918Z",
     "iopub.status.idle": "2023-01-01T13:19:46.049788Z",
     "shell.execute_reply": "2023-01-01T13:19:46.048067Z"
    }
   },
   "outputs": [],
   "source": [
    "### SANITY CHECKS"
   ]
  },
  {
   "cell_type": "code",
   "execution_count": 15,
   "metadata": {
    "execution": {
     "iopub.execute_input": "2023-01-01T13:19:46.058774Z",
     "iopub.status.busy": "2023-01-01T13:19:46.057286Z",
     "iopub.status.idle": "2023-01-01T13:19:46.078518Z",
     "shell.execute_reply": "2023-01-01T13:19:46.076597Z"
    }
   },
   "outputs": [],
   "source": [
    "def import_cdr3_length_counts(gene_locus: GeneLocus):\n",
    "    output_dir, highres_output_dir = get_dirs(gene_locus)\n",
    "\n",
    "    specimen_cdr3_length_counts_df = pd.read_csv(\n",
    "        highres_output_dir / \"cdr3_length_counts_by_specimen.tsv.gz\", sep=\"\\t\"\n",
    "    )\n",
    "\n",
    "    # subselect to test folds only (which also excludes global fold -1), and set index\n",
    "    specimen_cdr3_length_counts_df_test_only = specimen_cdr3_length_counts_df[\n",
    "        specimen_cdr3_length_counts_df[\"fold_label\"] == \"test\"\n",
    "    ]\n",
    "\n",
    "    # confirm only one entry per specimen now\n",
    "    assert (\n",
    "        not specimen_cdr3_length_counts_df_test_only[\"specimen_label\"]\n",
    "        .duplicated()\n",
    "        .any()\n",
    "    )\n",
    "    specimen_cdr3_length_counts_df_test_only = (\n",
    "        specimen_cdr3_length_counts_df_test_only.set_index(\"specimen_label\").drop(\n",
    "            [\"fold_id\", \"fold_label\"], axis=1\n",
    "        )\n",
    "    )\n",
    "\n",
    "    # drop any columns that are all N/A\n",
    "    specimen_cdr3_length_counts_df_test_only = (\n",
    "        specimen_cdr3_length_counts_df_test_only.dropna(axis=1, how=\"all\")\n",
    "    )\n",
    "\n",
    "    # fill remaining N/As with 0\n",
    "    specimen_cdr3_length_counts_df_test_only = (\n",
    "        specimen_cdr3_length_counts_df_test_only.fillna(0)\n",
    "    )\n",
    "\n",
    "    cdr3_length_cols = specimen_cdr3_length_counts_df_test_only.columns\n",
    "    cdr3_length_cols = cdr3_length_cols[~cdr3_length_cols.isin([\"disease\"])]\n",
    "\n",
    "    # Convert cols to ints\n",
    "    specimen_cdr3_length_counts_df_test_only.rename(\n",
    "        columns={i: int(i) for i in cdr3_length_cols}, inplace=True\n",
    "    )\n",
    "    # Get latest column list\n",
    "    cdr3_length_cols = specimen_cdr3_length_counts_df_test_only.columns\n",
    "    cdr3_length_cols = cdr3_length_cols[~cdr3_length_cols.isin([\"disease\"])]\n",
    "\n",
    "    # Fill in skips as all 0s\n",
    "    for cdr3_len in np.arange(min(cdr3_length_cols), max(cdr3_length_cols)):\n",
    "        if cdr3_len not in cdr3_length_cols:\n",
    "            specimen_cdr3_length_counts_df_test_only[cdr3_len] = 0.0\n",
    "\n",
    "    # Get latest column list\n",
    "    cdr3_length_cols = specimen_cdr3_length_counts_df_test_only.columns\n",
    "    cdr3_length_cols = cdr3_length_cols[~cdr3_length_cols.isin([\"disease\"])]\n",
    "\n",
    "    return specimen_cdr3_length_counts_df_test_only, cdr3_length_cols"
   ]
  },
  {
   "cell_type": "code",
   "execution_count": 16,
   "metadata": {
    "execution": {
     "iopub.execute_input": "2023-01-01T13:19:46.086648Z",
     "iopub.status.busy": "2023-01-01T13:19:46.085738Z",
     "iopub.status.idle": "2023-01-01T13:19:46.151258Z",
     "shell.execute_reply": "2023-01-01T13:19:46.149703Z"
    }
   },
   "outputs": [
    {
     "data": {
      "text/plain": [
       "specimen_label\n",
       "M111-S003     56522\n",
       "M111-S007     35322\n",
       "M111-S009     43108\n",
       "M111-S011     28770\n",
       "M111-S016     33151\n",
       "              ...  \n",
       "M64-100       71108\n",
       "M64-104       28736\n",
       "M64-111       14112\n",
       "M64-113      125228\n",
       "M64-114      120576\n",
       "Length: 480, dtype: int64"
      ]
     },
     "execution_count": 16,
     "metadata": {},
     "output_type": "execute_result"
    }
   ],
   "source": [
    "df, v_gene_cols, _ = import_v_gene_counts(gene_locus=GeneLocus.BCR)\n",
    "total = df[v_gene_cols].sum(axis=1).astype(int)\n",
    "total"
   ]
  },
  {
   "cell_type": "code",
   "execution_count": 17,
   "metadata": {
    "execution": {
     "iopub.execute_input": "2023-01-01T13:19:46.158796Z",
     "iopub.status.busy": "2023-01-01T13:19:46.158023Z",
     "iopub.status.idle": "2023-01-01T13:19:46.198877Z",
     "shell.execute_reply": "2023-01-01T13:19:46.198083Z"
    }
   },
   "outputs": [
    {
     "data": {
      "text/plain": [
       "specimen_label\n",
       "M111-S003     56522\n",
       "M111-S007     35322\n",
       "M111-S009     43108\n",
       "M111-S011     28770\n",
       "M111-S016     33151\n",
       "              ...  \n",
       "M64-100       71108\n",
       "M64-104       28736\n",
       "M64-111       14112\n",
       "M64-113      125228\n",
       "M64-114      120576\n",
       "Length: 480, dtype: int64"
      ]
     },
     "execution_count": 17,
     "metadata": {},
     "output_type": "execute_result"
    }
   ],
   "source": [
    "df, v_gene_cols = import_cdr3_length_counts(gene_locus=GeneLocus.BCR)\n",
    "total2 = df[v_gene_cols].sum(axis=1).astype(int)\n",
    "total2"
   ]
  },
  {
   "cell_type": "code",
   "execution_count": 18,
   "metadata": {
    "execution": {
     "iopub.execute_input": "2023-01-01T13:19:46.205598Z",
     "iopub.status.busy": "2023-01-01T13:19:46.204850Z",
     "iopub.status.idle": "2023-01-01T13:19:46.210929Z",
     "shell.execute_reply": "2023-01-01T13:19:46.210081Z"
    }
   },
   "outputs": [],
   "source": [
    "assert (total == total2).all()"
   ]
  },
  {
   "cell_type": "code",
   "execution_count": 19,
   "metadata": {
    "execution": {
     "iopub.execute_input": "2023-01-01T13:19:46.216665Z",
     "iopub.status.busy": "2023-01-01T13:19:46.216085Z",
     "iopub.status.idle": "2023-01-01T13:19:46.237516Z",
     "shell.execute_reply": "2023-01-01T13:19:46.236670Z"
    }
   },
   "outputs": [
    {
     "data": {
      "text/plain": [
       "specimen_label\n",
       "M111-S003     56522\n",
       "M111-S007     35322\n",
       "M111-S009     43108\n",
       "M111-S011     28770\n",
       "M111-S016     33151\n",
       "              ...  \n",
       "M64-100       71108\n",
       "M64-104       28736\n",
       "M64-111       14112\n",
       "M64-113      125228\n",
       "M64-114      120576\n",
       "Length: 480, dtype: int64"
      ]
     },
     "execution_count": 19,
     "metadata": {},
     "output_type": "execute_result"
    }
   ],
   "source": [
    "specimen_isotype_counts_df = pd.read_csv(\n",
    "    config.paths.dataset_specific_metadata / \"isotype_counts_by_specimen.tsv\", sep=\"\\t\"\n",
    ")\n",
    "specimen_isotype_counts_df = specimen_isotype_counts_df[\n",
    "    specimen_isotype_counts_df[\"fold_label\"] == \"test\"\n",
    "]\n",
    "assert not specimen_isotype_counts_df[\"specimen_label\"].duplicated().any()\n",
    "specimen_isotype_counts_df = specimen_isotype_counts_df.set_index(\"specimen_label\")[\n",
    "    [\"IGHD-M\", \"IGHA\", \"IGHG\"]\n",
    "]\n",
    "total3 = specimen_isotype_counts_df.sum(axis=1)\n",
    "total3"
   ]
  },
  {
   "cell_type": "code",
   "execution_count": 20,
   "metadata": {
    "execution": {
     "iopub.execute_input": "2023-01-01T13:19:46.244375Z",
     "iopub.status.busy": "2023-01-01T13:19:46.243983Z",
     "iopub.status.idle": "2023-01-01T13:19:46.253592Z",
     "shell.execute_reply": "2023-01-01T13:19:46.252040Z"
    }
   },
   "outputs": [
    {
     "data": {
      "text/plain": [
       "set()"
      ]
     },
     "execution_count": 20,
     "metadata": {},
     "output_type": "execute_result"
    }
   ],
   "source": [
    "set(total.index).symmetric_difference(set(total3.index))"
   ]
  },
  {
   "cell_type": "code",
   "execution_count": 21,
   "metadata": {
    "execution": {
     "iopub.execute_input": "2023-01-01T13:19:46.260847Z",
     "iopub.status.busy": "2023-01-01T13:19:46.260106Z",
     "iopub.status.idle": "2023-01-01T13:19:46.270689Z",
     "shell.execute_reply": "2023-01-01T13:19:46.268610Z"
    }
   },
   "outputs": [],
   "source": [
    "assert (total == total3.loc[total.index]).all()"
   ]
  },
  {
   "cell_type": "code",
   "execution_count": null,
   "metadata": {},
   "outputs": [],
   "source": []
  },
  {
   "cell_type": "code",
   "execution_count": 22,
   "metadata": {
    "execution": {
     "iopub.execute_input": "2023-01-01T13:19:46.278829Z",
     "iopub.status.busy": "2023-01-01T13:19:46.277918Z",
     "iopub.status.idle": "2023-01-01T13:19:46.337070Z",
     "shell.execute_reply": "2023-01-01T13:19:46.335629Z"
    }
   },
   "outputs": [
    {
     "data": {
      "text/plain": [
       "specimen_label\n",
       "M111-S003     66207.0\n",
       "M111-S007     28364.0\n",
       "M111-S009     94863.0\n",
       "M111-S011     49706.0\n",
       "M111-S016     32850.0\n",
       "               ...   \n",
       "M64-100       42102.0\n",
       "M64-104       46856.0\n",
       "M64-111       32660.0\n",
       "M64-113       94335.0\n",
       "M64-114      102822.0\n",
       "Length: 414, dtype: float64"
      ]
     },
     "execution_count": 22,
     "metadata": {},
     "output_type": "execute_result"
    }
   ],
   "source": [
    "df, v_gene_cols, _ = import_v_gene_counts(gene_locus=GeneLocus.TCR)\n",
    "total = df[v_gene_cols].sum(axis=1)\n",
    "total"
   ]
  },
  {
   "cell_type": "code",
   "execution_count": 23,
   "metadata": {
    "execution": {
     "iopub.execute_input": "2023-01-01T13:19:46.344599Z",
     "iopub.status.busy": "2023-01-01T13:19:46.343744Z",
     "iopub.status.idle": "2023-01-01T13:19:46.381982Z",
     "shell.execute_reply": "2023-01-01T13:19:46.381084Z"
    }
   },
   "outputs": [
    {
     "data": {
      "text/plain": [
       "specimen_label\n",
       "M111-S003     66207.0\n",
       "M111-S007     28364.0\n",
       "M111-S009     94863.0\n",
       "M111-S011     49706.0\n",
       "M111-S016     32850.0\n",
       "               ...   \n",
       "M64-100       42102.0\n",
       "M64-104       46856.0\n",
       "M64-111       32660.0\n",
       "M64-113       94335.0\n",
       "M64-114      102822.0\n",
       "Length: 414, dtype: float64"
      ]
     },
     "execution_count": 23,
     "metadata": {},
     "output_type": "execute_result"
    }
   ],
   "source": [
    "df, v_gene_cols = import_cdr3_length_counts(gene_locus=GeneLocus.TCR)\n",
    "total2 = df[v_gene_cols].sum(axis=1)\n",
    "total2"
   ]
  },
  {
   "cell_type": "code",
   "execution_count": 24,
   "metadata": {
    "execution": {
     "iopub.execute_input": "2023-01-01T13:19:46.389691Z",
     "iopub.status.busy": "2023-01-01T13:19:46.388957Z",
     "iopub.status.idle": "2023-01-01T13:19:46.398956Z",
     "shell.execute_reply": "2023-01-01T13:19:46.397062Z"
    }
   },
   "outputs": [],
   "source": [
    "assert (total == total2).all()"
   ]
  },
  {
   "cell_type": "code",
   "execution_count": null,
   "metadata": {},
   "outputs": [],
   "source": []
  }
 ],
 "metadata": {
  "jupytext": {
   "cell_metadata_filter": "-all"
  },
  "kernelspec": {
   "display_name": "py39-cuda-env",
   "language": "python",
   "name": "py39-cuda-env"
  },
  "language_info": {
   "codemirror_mode": {
    "name": "ipython",
    "version": 3
   },
   "file_extension": ".py",
   "mimetype": "text/x-python",
   "name": "python",
   "nbconvert_exporter": "python",
   "pygments_lexer": "ipython3",
   "version": "3.9.13"
  }
 },
 "nbformat": 4,
 "nbformat_minor": 4
}
