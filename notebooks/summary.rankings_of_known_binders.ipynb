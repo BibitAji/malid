{
 "cells": [
  {
   "cell_type": "code",
   "execution_count": 1,
   "metadata": {
    "execution": {
     "iopub.execute_input": "2023-01-19T05:11:43.220408Z",
     "iopub.status.busy": "2023-01-19T05:11:43.219766Z",
     "iopub.status.idle": "2023-01-19T05:11:48.482787Z",
     "shell.execute_reply": "2023-01-19T05:11:48.480846Z"
    }
   },
   "outputs": [],
   "source": [
    "from malid import config\n",
    "from summarynb import show\n",
    "from IPython.display import display, Markdown"
   ]
  },
  {
   "cell_type": "code",
   "execution_count": null,
   "metadata": {},
   "outputs": [],
   "source": []
  },
  {
   "cell_type": "code",
   "execution_count": 2,
   "metadata": {
    "execution": {
     "iopub.execute_input": "2023-01-19T05:11:48.490190Z",
     "iopub.status.busy": "2023-01-19T05:11:48.489858Z",
     "iopub.status.idle": "2023-01-19T05:11:48.557805Z",
     "shell.execute_reply": "2023-01-19T05:11:48.555772Z"
    }
   },
   "outputs": [
    {
     "data": {
      "text/markdown": [
       "## GeneLocus.BCR"
      ],
      "text/plain": [
       "<IPython.core.display.Markdown object>"
      ]
     },
     "metadata": {},
     "output_type": "display_data"
    },
    {
     "data": {
      "text/markdown": [
       "### Model 3"
      ],
      "text/plain": [
       "<IPython.core.display.Markdown object>"
      ]
     },
     "metadata": {},
     "output_type": "display_data"
    },
    {
     "data": {
      "text/html": [
       "<table><tr><th style=\"text-align: center\">GeneLocus.BCR, fold 0</th>\n",
       "<th style=\"text-align: center\">GeneLocus.BCR, fold 1</th>\n",
       "<th style=\"text-align: center\">GeneLocus.BCR, fold 2</th></tr><tr><td style=\"text-align: center\"><img src=\"../out/unirep_fine_tuned/interpretations/BCR/known_binders_vs_healthy_controls.model3_rank_boxplot.fold_0.png\" style=\"max-width: 400px; max-height: 800px;\" /></td>\n",
       "<td style=\"text-align: center\"><img src=\"../out/unirep_fine_tuned/interpretations/BCR/known_binders_vs_healthy_controls.model3_rank_boxplot.fold_1.png\" style=\"max-width: 400px; max-height: 800px;\" /></td>\n",
       "<td style=\"text-align: center\"><img src=\"../out/unirep_fine_tuned/interpretations/BCR/known_binders_vs_healthy_controls.model3_rank_boxplot.fold_2.png\" style=\"max-width: 400px; max-height: 800px;\" /></td></tr>\n",
       "<tr><td style=\"text-align: center\"><pre>AUC of discovering known binders with our rankings: 0.730\n",
       "85% of known binder sequences have rank over 38.2%\n",
       "53.9% of known binder sequences have rank over 80%\n",
       "59.4% of known binder sequences have rank over 75%\n",
       "78.9% of known binder sequences have rank over 50%\n",
       "\n",
       "Boxplot p-value: 0.00e+00, U-statistic=2.9856e+09\n",
       "</pre></td>\n",
       "<td style=\"text-align: center\"><pre>AUC of discovering known binders with our rankings: 0.736\n",
       "85% of known binder sequences have rank over 41.7%\n",
       "53.1% of known binder sequences have rank over 80%\n",
       "59.5% of known binder sequences have rank over 75%\n",
       "80.2% of known binder sequences have rank over 50%\n",
       "\n",
       "Boxplot p-value: 0.00e+00, U-statistic=2.6644e+09\n",
       "</pre></td>\n",
       "<td style=\"text-align: center\"><pre>AUC of discovering known binders with our rankings: 0.694\n",
       "85% of known binder sequences have rank over 35.1%\n",
       "46.1% of known binder sequences have rank over 80%\n",
       "52.8% of known binder sequences have rank over 75%\n",
       "75.7% of known binder sequences have rank over 50%\n",
       "\n",
       "Boxplot p-value: 0.00e+00, U-statistic=2.4254e+09\n",
       "</pre></td></tr></table>"
      ],
      "text/plain": [
       "<IPython.core.display.HTML object>"
      ]
     },
     "metadata": {},
     "output_type": "display_data"
    },
    {
     "data": {
      "text/markdown": [
       "### Model 2"
      ],
      "text/plain": [
       "<IPython.core.display.Markdown object>"
      ]
     },
     "metadata": {},
     "output_type": "display_data"
    },
    {
     "data": {
      "text/html": [
       "<table><tr><th style=\"text-align: center\">GeneLocus.BCR, fold 0</th>\n",
       "<th style=\"text-align: center\">GeneLocus.BCR, fold 1</th>\n",
       "<th style=\"text-align: center\">GeneLocus.BCR, fold 2</th></tr><tr><td style=\"text-align: center\"><img src=\"../out/unirep_fine_tuned/interpretations/BCR/known_binders_vs_healthy_controls.model2_rank_boxplot.fold_0.png\" style=\"max-width: 400px; max-height: 800px;\" /></td>\n",
       "<td style=\"text-align: center\"><img src=\"../out/unirep_fine_tuned/interpretations/BCR/known_binders_vs_healthy_controls.model2_rank_boxplot.fold_1.png\" style=\"max-width: 400px; max-height: 800px;\" /></td>\n",
       "<td style=\"text-align: center\"><img src=\"../out/unirep_fine_tuned/interpretations/BCR/known_binders_vs_healthy_controls.model2_rank_boxplot.fold_2.png\" style=\"max-width: 400px; max-height: 800px;\" /></td></tr>\n",
       "<tr><td style=\"text-align: center\"><pre>AUC of discovering known binders with our rankings based on sequence proximity to nearest model 2 Covid19-predictive cluster centroid,\n",
       "without a distance threshold but with same V gene, J gene, and CDR3 length: 0.549\n",
       "85% of known binder sequences have rank over 0.0%\n",
       "9.9% of known binder sequences have rank over 80%\n",
       "10.8% of known binder sequences have rank over 75%\n",
       "14.2% of known binder sequences have rank over 50%\n",
       "\n",
       "Boxplot p-value: 1.62e-175, U-statistic=2.2439e+09\n",
       "\n",
       "NOTE: 91.28% of sequences had infinite distance from / were unmatchable to any model 2 centroid,\n",
       "i.e. no compatible V/J/CDR3 length clusters to compute distance from, so these sequences had score and rank set to 0.\n",
       "\n",
       "The breakdown of infinite-distances by sequence source:\n",
       "Known binders:\t82.42% of sequences have infinite distance\n",
       "Sequences from healthy donors:\t91.38% of sequences have infinite distance\n",
       "</pre></td>\n",
       "<td style=\"text-align: center\"><pre>AUC of discovering known binders with our rankings based on sequence proximity to nearest model 2 Covid19-predictive cluster centroid,\n",
       "without a distance threshold but with same V gene, J gene, and CDR3 length: 0.536\n",
       "85% of known binder sequences have rank over 0.0%\n",
       "9.8% of known binder sequences have rank over 80%\n",
       "11.0% of known binder sequences have rank over 75%\n",
       "16.5% of known binder sequences have rank over 50%\n",
       "\n",
       "Boxplot p-value: 9.01e-53, U-statistic=1.9420e+09\n",
       "\n",
       "NOTE: 81.87% of sequences had infinite distance from / were unmatchable to any model 2 centroid,\n",
       "i.e. no compatible V/J/CDR3 length clusters to compute distance from, so these sequences had score and rank set to 0.\n",
       "\n",
       "The breakdown of infinite-distances by sequence source:\n",
       "Known binders:\t76.07% of sequences have infinite distance\n",
       "Sequences from healthy donors:\t81.94% of sequences have infinite distance\n",
       "</pre></td>\n",
       "<td style=\"text-align: center\"><pre>AUC of discovering known binders with our rankings based on sequence proximity to nearest model 2 Covid19-predictive cluster centroid,\n",
       "without a distance threshold but with same V gene, J gene, and CDR3 length: 0.516\n",
       "85% of known binder sequences have rank over 0.0%\n",
       "5.0% of known binder sequences have rank over 80%\n",
       "5.3% of known binder sequences have rank over 75%\n",
       "6.7% of known binder sequences have rank over 50%\n",
       "\n",
       "Boxplot p-value: 1.47e-32, U-statistic=1.8029e+09\n",
       "\n",
       "NOTE: 94.80% of sequences had infinite distance from / were unmatchable to any model 2 centroid,\n",
       "i.e. no compatible V/J/CDR3 length clusters to compute distance from, so these sequences had score and rank set to 0.\n",
       "\n",
       "The breakdown of infinite-distances by sequence source:\n",
       "Known binders:\t91.86% of sequences have infinite distance\n",
       "Sequences from healthy donors:\t94.83% of sequences have infinite distance\n",
       "</pre></td></tr></table>"
      ],
      "text/plain": [
       "<IPython.core.display.HTML object>"
      ]
     },
     "metadata": {},
     "output_type": "display_data"
    },
    {
     "data": {
      "text/markdown": [
       "---"
      ],
      "text/plain": [
       "<IPython.core.display.Markdown object>"
      ]
     },
     "metadata": {},
     "output_type": "display_data"
    },
    {
     "data": {
      "text/markdown": [
       "## GeneLocus.TCR"
      ],
      "text/plain": [
       "<IPython.core.display.Markdown object>"
      ]
     },
     "metadata": {},
     "output_type": "display_data"
    },
    {
     "data": {
      "text/markdown": [
       "### Model 3"
      ],
      "text/plain": [
       "<IPython.core.display.Markdown object>"
      ]
     },
     "metadata": {},
     "output_type": "display_data"
    },
    {
     "data": {
      "text/html": [
       "<table><tr><th style=\"text-align: center\">GeneLocus.TCR, fold 0</th>\n",
       "<th style=\"text-align: center\">GeneLocus.TCR, fold 1</th>\n",
       "<th style=\"text-align: center\">GeneLocus.TCR, fold 2</th></tr><tr><td style=\"text-align: center\"><img src=\"../out/unirep_fine_tuned/interpretations/TCR/known_binders_vs_healthy_controls.model3_rank_boxplot.fold_0.png\" style=\"max-width: 400px; max-height: 800px;\" /></td>\n",
       "<td style=\"text-align: center\"><img src=\"../out/unirep_fine_tuned/interpretations/TCR/known_binders_vs_healthy_controls.model3_rank_boxplot.fold_1.png\" style=\"max-width: 400px; max-height: 800px;\" /></td>\n",
       "<td style=\"text-align: center\"><img src=\"../out/unirep_fine_tuned/interpretations/TCR/known_binders_vs_healthy_controls.model3_rank_boxplot.fold_2.png\" style=\"max-width: 400px; max-height: 800px;\" /></td></tr>\n",
       "<tr><td style=\"text-align: center\"><pre>AUC of discovering known binders with our rankings: 0.560\n",
       "85% of known binder sequences have rank over 18.9%\n",
       "25.6% of known binder sequences have rank over 80%\n",
       "31.8% of known binder sequences have rank over 75%\n",
       "60.4% of known binder sequences have rank over 50%\n",
       "\n",
       "Boxplot p-value: 0.00e+00, U-statistic=7.5034e+10\n",
       "</pre></td>\n",
       "<td style=\"text-align: center\"><pre>AUC of discovering known binders with our rankings: 0.586\n",
       "85% of known binder sequences have rank over 23.8%\n",
       "28.6% of known binder sequences have rank over 80%\n",
       "35.1% of known binder sequences have rank over 75%\n",
       "62.5% of known binder sequences have rank over 50%\n",
       "\n",
       "Boxplot p-value: 0.00e+00, U-statistic=7.8183e+10\n",
       "</pre></td>\n",
       "<td style=\"text-align: center\"><pre>AUC of discovering known binders with our rankings: 0.569\n",
       "85% of known binder sequences have rank over 19.7%\n",
       "28.6% of known binder sequences have rank over 80%\n",
       "34.5% of known binder sequences have rank over 75%\n",
       "60.4% of known binder sequences have rank over 50%\n",
       "\n",
       "Boxplot p-value: 0.00e+00, U-statistic=7.5053e+10\n",
       "</pre></td></tr></table>"
      ],
      "text/plain": [
       "<IPython.core.display.HTML object>"
      ]
     },
     "metadata": {},
     "output_type": "display_data"
    },
    {
     "data": {
      "text/markdown": [
       "### Model 2"
      ],
      "text/plain": [
       "<IPython.core.display.Markdown object>"
      ]
     },
     "metadata": {},
     "output_type": "display_data"
    },
    {
     "data": {
      "text/html": [
       "<table><tr><th style=\"text-align: center\">GeneLocus.TCR, fold 0</th>\n",
       "<th style=\"text-align: center\">GeneLocus.TCR, fold 1</th>\n",
       "<th style=\"text-align: center\">GeneLocus.TCR, fold 2</th></tr><tr><td style=\"text-align: center\"><img src=\"../out/unirep_fine_tuned/interpretations/TCR/known_binders_vs_healthy_controls.model2_rank_boxplot.fold_0.png\" style=\"max-width: 400px; max-height: 800px;\" /></td>\n",
       "<td style=\"text-align: center\"><img src=\"../out/unirep_fine_tuned/interpretations/TCR/known_binders_vs_healthy_controls.model2_rank_boxplot.fold_1.png\" style=\"max-width: 400px; max-height: 800px;\" /></td>\n",
       "<td style=\"text-align: center\"><img src=\"../out/unirep_fine_tuned/interpretations/TCR/known_binders_vs_healthy_controls.model2_rank_boxplot.fold_2.png\" style=\"max-width: 400px; max-height: 800px;\" /></td></tr>\n",
       "<tr><td style=\"text-align: center\"><pre>AUC of discovering known binders with our rankings based on sequence proximity to nearest model 2 Covid19-predictive cluster centroid,\n",
       "without a distance threshold but with same V gene, J gene, and CDR3 length: 0.499\n",
       "85% of known binder sequences have rank over 0.0%\n",
       "0.1% of known binder sequences have rank over 80%\n",
       "0.1% of known binder sequences have rank over 75%\n",
       "0.3% of known binder sequences have rank over 50%\n",
       "\n",
       "Boxplot p-value: 8.08e-01, U-statistic=6.6885e+10\n",
       "\n",
       "NOTE: 99.19% of sequences had infinite distance from / were unmatchable to any model 2 centroid,\n",
       "i.e. no compatible V/J/CDR3 length clusters to compute distance from, so these sequences had score and rank set to 0.\n",
       "\n",
       "The breakdown of infinite-distances by sequence source:\n",
       "Known binders:\t99.42% of sequences have infinite distance\n",
       "Sequences from healthy donors:\t99.19% of sequences have infinite distance\n",
       "</pre></td>\n",
       "<td style=\"text-align: center\"><pre>AUC of discovering known binders with our rankings based on sequence proximity to nearest model 2 Covid19-predictive cluster centroid,\n",
       "without a distance threshold but with same V gene, J gene, and CDR3 length: 0.485\n",
       "85% of known binder sequences have rank over 0.0%\n",
       "1.7% of known binder sequences have rank over 80%\n",
       "2.1% of known binder sequences have rank over 75%\n",
       "3.9% of known binder sequences have rank over 50%\n",
       "\n",
       "Boxplot p-value: 1.00e+00, U-statistic=6.4757e+10\n",
       "\n",
       "NOTE: 90.19% of sequences had infinite distance from / were unmatchable to any model 2 centroid,\n",
       "i.e. no compatible V/J/CDR3 length clusters to compute distance from, so these sequences had score and rank set to 0.\n",
       "\n",
       "The breakdown of infinite-distances by sequence source:\n",
       "Known binders:\t93.17% of sequences have infinite distance\n",
       "Sequences from healthy donors:\t90.16% of sequences have infinite distance\n",
       "</pre></td>\n",
       "<td style=\"text-align: center\"><pre>AUC of discovering known binders with our rankings based on sequence proximity to nearest model 2 Covid19-predictive cluster centroid,\n",
       "without a distance threshold but with same V gene, J gene, and CDR3 length: 0.500\n",
       "85% of known binder sequences have rank over 0.0%\n",
       "0.0% of known binder sequences have rank over 80%\n",
       "0.0% of known binder sequences have rank over 75%\n",
       "0.0% of known binder sequences have rank over 50%\n",
       "\n",
       "Boxplot p-value: 5.85e-01, U-statistic=6.5921e+10\n",
       "\n",
       "NOTE: 99.90% of sequences had infinite distance from / were unmatchable to any model 2 centroid,\n",
       "i.e. no compatible V/J/CDR3 length clusters to compute distance from, so these sequences had score and rank set to 0.\n",
       "\n",
       "The breakdown of infinite-distances by sequence source:\n",
       "Known binders:\t99.96% of sequences have infinite distance\n",
       "Sequences from healthy donors:\t99.90% of sequences have infinite distance\n",
       "</pre></td></tr></table>"
      ],
      "text/plain": [
       "<IPython.core.display.HTML object>"
      ]
     },
     "metadata": {},
     "output_type": "display_data"
    },
    {
     "data": {
      "text/markdown": [
       "---"
      ],
      "text/plain": [
       "<IPython.core.display.Markdown object>"
      ]
     },
     "metadata": {},
     "output_type": "display_data"
    }
   ],
   "source": [
    "for gene_locus in config.gene_loci_used:\n",
    "    display(Markdown(f\"## {gene_locus}\"))\n",
    "    output_dir = config.paths.model_interpretations_output_dir / gene_locus.name\n",
    "\n",
    "    for model in [3, 2]:\n",
    "        display(Markdown(f\"### Model {model}\"))\n",
    "        show(\n",
    "            [\n",
    "                [\n",
    "                    output_dir\n",
    "                    / f\"known_binders_vs_healthy_controls.model{model}_rank_boxplot.fold_{fold_id}.png\"\n",
    "                    for fold_id in config.cross_validation_fold_ids\n",
    "                ],\n",
    "                [\n",
    "                    output_dir\n",
    "                    / f\"known_binders_vs_healthy_controls.model{model}_rank_report.fold_{fold_id}.txt\"\n",
    "                    for fold_id in config.cross_validation_fold_ids\n",
    "                ],\n",
    "            ],\n",
    "            headers=[\n",
    "                f\"{gene_locus}, fold {fold_id}\"\n",
    "                for fold_id in config.cross_validation_fold_ids\n",
    "            ],\n",
    "            max_width=400,\n",
    "        )\n",
    "\n",
    "    display(Markdown(\"---\"))"
   ]
  },
  {
   "cell_type": "code",
   "execution_count": null,
   "metadata": {},
   "outputs": [],
   "source": []
  }
 ],
 "metadata": {
  "jupytext": {
   "cell_metadata_filter": "-all"
  },
  "kernelspec": {
   "display_name": "py39-cuda-env",
   "language": "python",
   "name": "py39-cuda-env"
  },
  "language_info": {
   "codemirror_mode": {
    "name": "ipython",
    "version": 3
   },
   "file_extension": ".py",
   "mimetype": "text/x-python",
   "name": "python",
   "nbconvert_exporter": "python",
   "pygments_lexer": "ipython3",
   "version": "3.9.13"
  }
 },
 "nbformat": 4,
 "nbformat_minor": 4
}
