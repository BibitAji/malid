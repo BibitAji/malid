{
 "cells": [
  {
   "cell_type": "markdown",
   "metadata": {},
   "source": [
    "# Embed known binder sequences with each fold's fine-tuned language model, and apply existing scaling and PCA transformations\n",
    "\n",
    "See `scripts/off_peak.run_embedding_fine_tuned.and_scale.py`.\n",
    "\n",
    "Recall that we have a separate fine-tuned language model for each train-smaller set. So treat this as an extension of the test set. For each test fold ID, and apply the language model, scaling, and PCA transformations trained on that fold's train-smaller set."
   ]
  },
  {
   "cell_type": "code",
   "execution_count": 1,
   "metadata": {
    "execution": {
     "iopub.execute_input": "2024-01-05T05:26:38.677538Z",
     "iopub.status.busy": "2024-01-05T05:26:38.677158Z",
     "iopub.status.idle": "2024-01-05T05:26:44.240905Z",
     "shell.execute_reply": "2024-01-05T05:26:44.240053Z"
    },
    "tags": []
   },
   "outputs": [],
   "source": [
    "from slugify import slugify\n",
    "import joblib\n",
    "import choosegpu\n",
    "from malid import config, apply_embedding, interpretation\n",
    "from malid.datamodels import GeneLocus, healthy_label"
   ]
  },
  {
   "cell_type": "code",
   "execution_count": 2,
   "metadata": {
    "execution": {
     "iopub.execute_input": "2024-01-05T05:26:44.244161Z",
     "iopub.status.busy": "2024-01-05T05:26:44.243858Z",
     "iopub.status.idle": "2024-01-05T05:26:44.465245Z",
     "shell.execute_reply": "2024-01-05T05:26:44.464436Z"
    },
    "tags": []
   },
   "outputs": [
    {
     "data": {
      "text/plain": [
       "['MIG-166d7783-762d-5f61-b31c-549eb4e0fba0']"
      ]
     },
     "execution_count": 2,
     "metadata": {},
     "output_type": "execute_result"
    }
   ],
   "source": [
    "# Embed with GPU\n",
    "choosegpu.configure_gpu(enable=True)"
   ]
  },
  {
   "cell_type": "code",
   "execution_count": 3,
   "metadata": {
    "execution": {
     "iopub.execute_input": "2024-01-05T05:26:44.467843Z",
     "iopub.status.busy": "2024-01-05T05:26:44.467307Z",
     "iopub.status.idle": "2024-01-05T05:26:44.472885Z",
     "shell.execute_reply": "2024-01-05T05:26:44.472149Z"
    },
    "tags": []
   },
   "outputs": [
    {
     "data": {
      "text/plain": [
       "'esm2_cdr3'"
      ]
     },
     "execution_count": 3,
     "metadata": {},
     "output_type": "execute_result"
    }
   ],
   "source": [
    "config.embedder.name"
   ]
  },
  {
   "cell_type": "code",
   "execution_count": null,
   "metadata": {},
   "outputs": [],
   "source": []
  },
  {
   "cell_type": "code",
   "execution_count": 4,
   "metadata": {
    "execution": {
     "iopub.execute_input": "2024-01-05T05:26:44.475243Z",
     "iopub.status.busy": "2024-01-05T05:26:44.474994Z",
     "iopub.status.idle": "2024-01-05T05:26:44.483595Z",
     "shell.execute_reply": "2024-01-05T05:26:44.482825Z"
    }
   },
   "outputs": [],
   "source": [
    "def process(gene_locus: GeneLocus, disease: str, known_binder: bool):\n",
    "    status = \"binders\" if known_binder else \"nonbinders\"\n",
    "    print(gene_locus, disease, status)\n",
    "\n",
    "    GeneLocus.validate_single_value(gene_locus)\n",
    "    (\n",
    "        df,\n",
    "        cluster_centroids_by_supergroup,\n",
    "        reference_dataset_name,\n",
    "    ) = interpretation.load_reference_dataset(\n",
    "        gene_locus=gene_locus, disease=disease, known_binder=known_binder\n",
    "    )\n",
    "    print(df.shape)\n",
    "\n",
    "    # total number of clusters across all data\n",
    "    df[\"global_resulting_cluster_ID\"].nunique()\n",
    "    # a number of sequences were joined into a single cluster\n",
    "    df[\"global_resulting_cluster_ID\"].value_counts()\n",
    "    # how many sequences were merged\n",
    "    (df[\"global_resulting_cluster_ID\"].value_counts() > 1).value_counts()\n",
    "\n",
    "    # choose one entry per cluster\n",
    "    df = df.groupby(\"global_resulting_cluster_ID\").head(n=1).copy()\n",
    "    print(df.shape)\n",
    "\n",
    "    # We don't have v_mut or isotype for some known binder datasets\n",
    "    # Set defaults\n",
    "    if \"isotype_supergroup\" not in df.columns:\n",
    "        df[\"isotype_supergroup\"] = \"IGHG\"\n",
    "    if \"v_mut\" not in df.columns:\n",
    "        df[\"v_mut\"] = 0.0\n",
    "\n",
    "    df[\"participant_label\"] = reference_dataset_name\n",
    "    df[\"specimen_label\"] = reference_dataset_name\n",
    "    if known_binder:\n",
    "        df[\"disease\"] = disease\n",
    "        df[\"disease_subtype\"] = f\"{disease} - known {status}\"\n",
    "    else:\n",
    "        df[\"disease\"] = healthy_label\n",
    "        df[\"disease_subtype\"] = f\"{healthy_label} - known {status} to {disease}\"\n",
    "\n",
    "    embedded = {}\n",
    "    for fold_id in config.all_fold_ids:\n",
    "        fold_df = df.copy()\n",
    "        fold_df[\"participant_label\"] += f\"_{fold_id}\"\n",
    "        fold_df[\"specimen_label\"] += f\"_{fold_id}\"\n",
    "\n",
    "        # Make adata\n",
    "        adata = apply_embedding.run_embedding_model(\n",
    "            embedder=apply_embedding.load_embedding_model(\n",
    "                gene_locus=gene_locus, fold_id=fold_id\n",
    "            ),\n",
    "            df=fold_df,\n",
    "        )\n",
    "        adata = apply_embedding.transform_embedded_anndata(\n",
    "            transformations_to_apply=apply_embedding.load_transformations(\n",
    "                gene_locus=gene_locus, fold_id=fold_id\n",
    "            ),\n",
    "            adata=adata,\n",
    "        )\n",
    "\n",
    "        embedded[fold_id] = adata\n",
    "        print(fold_id, adata)\n",
    "\n",
    "    joblib.dump(\n",
    "        embedded,\n",
    "        config.paths.scaled_anndatas_dir\n",
    "        / gene_locus.name\n",
    "        / f\"known_{status}.{slugify(disease)}.embedded.in.all.folds.joblib\",\n",
    "    )"
   ]
  },
  {
   "cell_type": "code",
   "execution_count": null,
   "metadata": {},
   "outputs": [],
   "source": []
  },
  {
   "cell_type": "code",
   "execution_count": 5,
   "metadata": {
    "execution": {
     "iopub.execute_input": "2024-01-05T05:26:44.485789Z",
     "iopub.status.busy": "2024-01-05T05:26:44.485534Z",
     "iopub.status.idle": "2024-01-05T05:35:12.419645Z",
     "shell.execute_reply": "2024-01-05T05:35:12.418583Z"
    }
   },
   "outputs": [
    {
     "name": "stdout",
     "output_type": "stream",
     "text": [
      "GeneLocus.BCR Covid19 binders\n"
     ]
    },
    {
     "name": "stdout",
     "output_type": "stream",
     "text": [
      "(6517, 23)\n",
      "(6468, 23)\n"
     ]
    },
    {
     "name": "stderr",
     "output_type": "stream",
     "text": [
      "{\"message\": \"Created a temporary directory at /tmp/tmpcxtky8dh\", \"time\": \"2024-01-05T05:26:52.273454\"}\n"
     ]
    },
    {
     "name": "stderr",
     "output_type": "stream",
     "text": [
      "{\"message\": \"Writing /tmp/tmpcxtky8dh/_remote_module_non_scriptable.py\", \"time\": \"2024-01-05T05:26:52.278329\"}\n"
     ]
    },
    {
     "name": "stderr",
     "output_type": "stream",
     "text": [
      "\r",
      "  0%|                                                                  | 0/1 [00:00<?, ?it/s]"
     ]
    },
    {
     "name": "stderr",
     "output_type": "stream",
     "text": [
      "\r",
      "100%|██████████████████████████████████████████████████████████| 1/1 [00:12<00:00, 12.07s/it]"
     ]
    },
    {
     "name": "stderr",
     "output_type": "stream",
     "text": [
      "\r",
      "100%|██████████████████████████████████████████████████████████| 1/1 [00:12<00:00, 12.07s/it]"
     ]
    },
    {
     "name": "stderr",
     "output_type": "stream",
     "text": [
      "\n"
     ]
    },
    {
     "name": "stderr",
     "output_type": "stream",
     "text": [
      "\r",
      "  0%|                                                                  | 0/1 [00:00<?, ?it/s]"
     ]
    },
    {
     "name": "stderr",
     "output_type": "stream",
     "text": [
      "\r",
      "100%|██████████████████████████████████████████████████████████| 1/1 [00:07<00:00,  7.64s/it]"
     ]
    },
    {
     "name": "stderr",
     "output_type": "stream",
     "text": [
      "\r",
      "100%|██████████████████████████████████████████████████████████| 1/1 [00:07<00:00,  7.64s/it]"
     ]
    },
    {
     "name": "stderr",
     "output_type": "stream",
     "text": [
      "\n",
      "{\"message\": \"/users/maximz/anaconda3/envs/cuda-env-py39/lib/python3.9/site-packages/anndata/_core/anndata.py:121: ImplicitModificationWarning: Transforming to str index.\\n  warnings.warn(\\\"Transforming to str index.\\\", ImplicitModificationWarning)\\n\", \"time\": \"2024-01-05T05:27:16.008099\"}\n"
     ]
    },
    {
     "name": "stdout",
     "output_type": "stream",
     "text": [
      "0 AnnData object with n_obs × n_vars = 6468 × 640\n",
      "    obs: 'CDRH3', 'j_gene', 'VHorVHH', 'Binds to', \"Doesn't Bind to\", 'Neutralising Vs', 'Not Neutralising Vs', 'Protein + Epitope', 'Origin', 'Status', 'cdr3_seq_aa_q_trim', 'cdr3_aa_sequence_trim_len', 'v_gene', 'fr1_seq_aa_q_trim', 'cdr1_seq_aa_q_trim', 'fr2_seq_aa_q_trim', 'cdr2_seq_aa_q_trim', 'fr3_seq_aa_q_trim', 'v_mut', 'post_seq_aa_q_trim', 'cluster_id_within_clustering_group', 'global_resulting_cluster_ID', 'num_clone_members', 'isotype_supergroup', 'participant_label', 'specimen_label', 'disease', 'disease_subtype'\n",
      "    uns: 'embedded'\n",
      "    obsm: 'X_pca'\n"
     ]
    },
    {
     "name": "stderr",
     "output_type": "stream",
     "text": [
      "\r",
      "  0%|                                                                  | 0/1 [00:00<?, ?it/s]"
     ]
    },
    {
     "name": "stderr",
     "output_type": "stream",
     "text": [
      "\r",
      "100%|██████████████████████████████████████████████████████████| 1/1 [00:11<00:00, 11.92s/it]"
     ]
    },
    {
     "name": "stderr",
     "output_type": "stream",
     "text": [
      "\r",
      "100%|██████████████████████████████████████████████████████████| 1/1 [00:11<00:00, 11.93s/it]"
     ]
    },
    {
     "name": "stderr",
     "output_type": "stream",
     "text": [
      "\n"
     ]
    },
    {
     "name": "stderr",
     "output_type": "stream",
     "text": [
      "\r",
      "  0%|                                                                  | 0/1 [00:00<?, ?it/s]"
     ]
    },
    {
     "name": "stderr",
     "output_type": "stream",
     "text": [
      "\r",
      "100%|██████████████████████████████████████████████████████████| 1/1 [00:07<00:00,  7.59s/it]"
     ]
    },
    {
     "name": "stderr",
     "output_type": "stream",
     "text": [
      "\r",
      "100%|██████████████████████████████████████████████████████████| 1/1 [00:07<00:00,  7.59s/it]"
     ]
    },
    {
     "name": "stderr",
     "output_type": "stream",
     "text": [
      "\n",
      "{\"message\": \"/users/maximz/anaconda3/envs/cuda-env-py39/lib/python3.9/site-packages/anndata/_core/anndata.py:121: ImplicitModificationWarning: Transforming to str index.\\n  warnings.warn(\\\"Transforming to str index.\\\", ImplicitModificationWarning)\\n\", \"time\": \"2024-01-05T05:27:38.578980\"}\n"
     ]
    },
    {
     "name": "stdout",
     "output_type": "stream",
     "text": [
      "1 AnnData object with n_obs × n_vars = 6468 × 640\n",
      "    obs: 'CDRH3', 'j_gene', 'VHorVHH', 'Binds to', \"Doesn't Bind to\", 'Neutralising Vs', 'Not Neutralising Vs', 'Protein + Epitope', 'Origin', 'Status', 'cdr3_seq_aa_q_trim', 'cdr3_aa_sequence_trim_len', 'v_gene', 'fr1_seq_aa_q_trim', 'cdr1_seq_aa_q_trim', 'fr2_seq_aa_q_trim', 'cdr2_seq_aa_q_trim', 'fr3_seq_aa_q_trim', 'v_mut', 'post_seq_aa_q_trim', 'cluster_id_within_clustering_group', 'global_resulting_cluster_ID', 'num_clone_members', 'isotype_supergroup', 'participant_label', 'specimen_label', 'disease', 'disease_subtype'\n",
      "    uns: 'embedded'\n",
      "    obsm: 'X_pca'\n"
     ]
    },
    {
     "name": "stderr",
     "output_type": "stream",
     "text": [
      "\r",
      "  0%|                                                                  | 0/1 [00:00<?, ?it/s]"
     ]
    },
    {
     "name": "stderr",
     "output_type": "stream",
     "text": [
      "\r",
      "100%|██████████████████████████████████████████████████████████| 1/1 [00:11<00:00, 11.92s/it]"
     ]
    },
    {
     "name": "stderr",
     "output_type": "stream",
     "text": [
      "\r",
      "100%|██████████████████████████████████████████████████████████| 1/1 [00:11<00:00, 11.92s/it]"
     ]
    },
    {
     "name": "stderr",
     "output_type": "stream",
     "text": [
      "\n"
     ]
    },
    {
     "name": "stderr",
     "output_type": "stream",
     "text": [
      "\r",
      "  0%|                                                                  | 0/1 [00:00<?, ?it/s]"
     ]
    },
    {
     "name": "stderr",
     "output_type": "stream",
     "text": [
      "\r",
      "100%|██████████████████████████████████████████████████████████| 1/1 [00:07<00:00,  7.56s/it]"
     ]
    },
    {
     "name": "stderr",
     "output_type": "stream",
     "text": [
      "\r",
      "100%|██████████████████████████████████████████████████████████| 1/1 [00:07<00:00,  7.56s/it]"
     ]
    },
    {
     "name": "stderr",
     "output_type": "stream",
     "text": [
      "\n",
      "{\"message\": \"/users/maximz/anaconda3/envs/cuda-env-py39/lib/python3.9/site-packages/anndata/_core/anndata.py:121: ImplicitModificationWarning: Transforming to str index.\\n  warnings.warn(\\\"Transforming to str index.\\\", ImplicitModificationWarning)\\n\", \"time\": \"2024-01-05T05:28:01.380816\"}\n"
     ]
    },
    {
     "name": "stdout",
     "output_type": "stream",
     "text": [
      "2 AnnData object with n_obs × n_vars = 6468 × 640\n",
      "    obs: 'CDRH3', 'j_gene', 'VHorVHH', 'Binds to', \"Doesn't Bind to\", 'Neutralising Vs', 'Not Neutralising Vs', 'Protein + Epitope', 'Origin', 'Status', 'cdr3_seq_aa_q_trim', 'cdr3_aa_sequence_trim_len', 'v_gene', 'fr1_seq_aa_q_trim', 'cdr1_seq_aa_q_trim', 'fr2_seq_aa_q_trim', 'cdr2_seq_aa_q_trim', 'fr3_seq_aa_q_trim', 'v_mut', 'post_seq_aa_q_trim', 'cluster_id_within_clustering_group', 'global_resulting_cluster_ID', 'num_clone_members', 'isotype_supergroup', 'participant_label', 'specimen_label', 'disease', 'disease_subtype'\n",
      "    uns: 'embedded'\n",
      "    obsm: 'X_pca'\n"
     ]
    },
    {
     "name": "stderr",
     "output_type": "stream",
     "text": [
      "\r",
      "  0%|                                                                  | 0/1 [00:00<?, ?it/s]"
     ]
    },
    {
     "name": "stderr",
     "output_type": "stream",
     "text": [
      "\r",
      "100%|██████████████████████████████████████████████████████████| 1/1 [00:11<00:00, 11.91s/it]"
     ]
    },
    {
     "name": "stderr",
     "output_type": "stream",
     "text": [
      "\r",
      "100%|██████████████████████████████████████████████████████████| 1/1 [00:11<00:00, 11.91s/it]"
     ]
    },
    {
     "name": "stderr",
     "output_type": "stream",
     "text": [
      "\n"
     ]
    },
    {
     "name": "stderr",
     "output_type": "stream",
     "text": [
      "\r",
      "  0%|                                                                  | 0/1 [00:00<?, ?it/s]"
     ]
    },
    {
     "name": "stderr",
     "output_type": "stream",
     "text": [
      "\r",
      "100%|██████████████████████████████████████████████████████████| 1/1 [00:07<00:00,  7.54s/it]"
     ]
    },
    {
     "name": "stderr",
     "output_type": "stream",
     "text": [
      "\r",
      "100%|██████████████████████████████████████████████████████████| 1/1 [00:07<00:00,  7.55s/it]"
     ]
    },
    {
     "name": "stderr",
     "output_type": "stream",
     "text": [
      "\n",
      "{\"message\": \"/users/maximz/anaconda3/envs/cuda-env-py39/lib/python3.9/site-packages/anndata/_core/anndata.py:121: ImplicitModificationWarning: Transforming to str index.\\n  warnings.warn(\\\"Transforming to str index.\\\", ImplicitModificationWarning)\\n\", \"time\": \"2024-01-05T05:28:23.614640\"}\n"
     ]
    },
    {
     "name": "stdout",
     "output_type": "stream",
     "text": [
      "-1 AnnData object with n_obs × n_vars = 6468 × 640\n",
      "    obs: 'CDRH3', 'j_gene', 'VHorVHH', 'Binds to', \"Doesn't Bind to\", 'Neutralising Vs', 'Not Neutralising Vs', 'Protein + Epitope', 'Origin', 'Status', 'cdr3_seq_aa_q_trim', 'cdr3_aa_sequence_trim_len', 'v_gene', 'fr1_seq_aa_q_trim', 'cdr1_seq_aa_q_trim', 'fr2_seq_aa_q_trim', 'cdr2_seq_aa_q_trim', 'fr3_seq_aa_q_trim', 'v_mut', 'post_seq_aa_q_trim', 'cluster_id_within_clustering_group', 'global_resulting_cluster_ID', 'num_clone_members', 'isotype_supergroup', 'participant_label', 'specimen_label', 'disease', 'disease_subtype'\n",
      "    uns: 'embedded'\n",
      "    obsm: 'X_pca'\n"
     ]
    },
    {
     "name": "stdout",
     "output_type": "stream",
     "text": [
      "GeneLocus.BCR Covid19 nonbinders\n"
     ]
    },
    {
     "name": "stdout",
     "output_type": "stream",
     "text": [
      "(586, 23)\n",
      "(585, 23)\n"
     ]
    },
    {
     "name": "stderr",
     "output_type": "stream",
     "text": [
      "\r",
      "  0%|                                                                  | 0/1 [00:00<?, ?it/s]"
     ]
    },
    {
     "name": "stderr",
     "output_type": "stream",
     "text": [
      "\r",
      "100%|██████████████████████████████████████████████████████████| 1/1 [00:01<00:00,  1.73s/it]"
     ]
    },
    {
     "name": "stderr",
     "output_type": "stream",
     "text": [
      "\r",
      "100%|██████████████████████████████████████████████████████████| 1/1 [00:01<00:00,  1.73s/it]"
     ]
    },
    {
     "name": "stderr",
     "output_type": "stream",
     "text": [
      "\n",
      "{\"message\": \"/users/maximz/anaconda3/envs/cuda-env-py39/lib/python3.9/site-packages/anndata/_core/anndata.py:121: ImplicitModificationWarning: Transforming to str index.\\n  warnings.warn(\\\"Transforming to str index.\\\", ImplicitModificationWarning)\\n\", \"time\": \"2024-01-05T05:28:28.606656\"}\n"
     ]
    },
    {
     "name": "stdout",
     "output_type": "stream",
     "text": [
      "0 AnnData object with n_obs × n_vars = 585 × 640\n",
      "    obs: 'CDRH3', 'j_gene', 'VHorVHH', 'Binds to', \"Doesn't Bind to\", 'Neutralising Vs', 'Not Neutralising Vs', 'Protein + Epitope', 'Origin', 'Status', 'cdr3_seq_aa_q_trim', 'cdr3_aa_sequence_trim_len', 'v_gene', 'fr1_seq_aa_q_trim', 'cdr1_seq_aa_q_trim', 'fr2_seq_aa_q_trim', 'cdr2_seq_aa_q_trim', 'fr3_seq_aa_q_trim', 'v_mut', 'post_seq_aa_q_trim', 'cluster_id_within_clustering_group', 'global_resulting_cluster_ID', 'num_clone_members', 'isotype_supergroup', 'participant_label', 'specimen_label', 'disease', 'disease_subtype'\n",
      "    uns: 'embedded'\n",
      "    obsm: 'X_pca'\n"
     ]
    },
    {
     "name": "stderr",
     "output_type": "stream",
     "text": [
      "\r",
      "  0%|                                                                  | 0/1 [00:00<?, ?it/s]"
     ]
    },
    {
     "name": "stderr",
     "output_type": "stream",
     "text": [
      "\r",
      "100%|██████████████████████████████████████████████████████████| 1/1 [00:01<00:00,  1.75s/it]"
     ]
    },
    {
     "name": "stderr",
     "output_type": "stream",
     "text": [
      "\r",
      "100%|██████████████████████████████████████████████████████████| 1/1 [00:01<00:00,  1.75s/it]"
     ]
    },
    {
     "name": "stderr",
     "output_type": "stream",
     "text": [
      "\n",
      "{\"message\": \"/users/maximz/anaconda3/envs/cuda-env-py39/lib/python3.9/site-packages/anndata/_core/anndata.py:121: ImplicitModificationWarning: Transforming to str index.\\n  warnings.warn(\\\"Transforming to str index.\\\", ImplicitModificationWarning)\\n\", \"time\": \"2024-01-05T05:28:32.143140\"}\n"
     ]
    },
    {
     "name": "stdout",
     "output_type": "stream",
     "text": [
      "1 AnnData object with n_obs × n_vars = 585 × 640\n",
      "    obs: 'CDRH3', 'j_gene', 'VHorVHH', 'Binds to', \"Doesn't Bind to\", 'Neutralising Vs', 'Not Neutralising Vs', 'Protein + Epitope', 'Origin', 'Status', 'cdr3_seq_aa_q_trim', 'cdr3_aa_sequence_trim_len', 'v_gene', 'fr1_seq_aa_q_trim', 'cdr1_seq_aa_q_trim', 'fr2_seq_aa_q_trim', 'cdr2_seq_aa_q_trim', 'fr3_seq_aa_q_trim', 'v_mut', 'post_seq_aa_q_trim', 'cluster_id_within_clustering_group', 'global_resulting_cluster_ID', 'num_clone_members', 'isotype_supergroup', 'participant_label', 'specimen_label', 'disease', 'disease_subtype'\n",
      "    uns: 'embedded'\n",
      "    obsm: 'X_pca'\n"
     ]
    },
    {
     "name": "stderr",
     "output_type": "stream",
     "text": [
      "\r",
      "  0%|                                                                  | 0/1 [00:00<?, ?it/s]"
     ]
    },
    {
     "name": "stderr",
     "output_type": "stream",
     "text": [
      "\r",
      "100%|██████████████████████████████████████████████████████████| 1/1 [00:01<00:00,  1.75s/it]"
     ]
    },
    {
     "name": "stderr",
     "output_type": "stream",
     "text": [
      "\r",
      "100%|██████████████████████████████████████████████████████████| 1/1 [00:01<00:00,  1.75s/it]"
     ]
    },
    {
     "name": "stderr",
     "output_type": "stream",
     "text": [
      "\n",
      "{\"message\": \"/users/maximz/anaconda3/envs/cuda-env-py39/lib/python3.9/site-packages/anndata/_core/anndata.py:121: ImplicitModificationWarning: Transforming to str index.\\n  warnings.warn(\\\"Transforming to str index.\\\", ImplicitModificationWarning)\\n\", \"time\": \"2024-01-05T05:28:35.651936\"}\n"
     ]
    },
    {
     "name": "stdout",
     "output_type": "stream",
     "text": [
      "2 AnnData object with n_obs × n_vars = 585 × 640\n",
      "    obs: 'CDRH3', 'j_gene', 'VHorVHH', 'Binds to', \"Doesn't Bind to\", 'Neutralising Vs', 'Not Neutralising Vs', 'Protein + Epitope', 'Origin', 'Status', 'cdr3_seq_aa_q_trim', 'cdr3_aa_sequence_trim_len', 'v_gene', 'fr1_seq_aa_q_trim', 'cdr1_seq_aa_q_trim', 'fr2_seq_aa_q_trim', 'cdr2_seq_aa_q_trim', 'fr3_seq_aa_q_trim', 'v_mut', 'post_seq_aa_q_trim', 'cluster_id_within_clustering_group', 'global_resulting_cluster_ID', 'num_clone_members', 'isotype_supergroup', 'participant_label', 'specimen_label', 'disease', 'disease_subtype'\n",
      "    uns: 'embedded'\n",
      "    obsm: 'X_pca'\n"
     ]
    },
    {
     "name": "stderr",
     "output_type": "stream",
     "text": [
      "\r",
      "  0%|                                                                  | 0/1 [00:00<?, ?it/s]"
     ]
    },
    {
     "name": "stderr",
     "output_type": "stream",
     "text": [
      "\r",
      "100%|██████████████████████████████████████████████████████████| 1/1 [00:01<00:00,  1.75s/it]"
     ]
    },
    {
     "name": "stderr",
     "output_type": "stream",
     "text": [
      "\r",
      "100%|██████████████████████████████████████████████████████████| 1/1 [00:01<00:00,  1.75s/it]"
     ]
    },
    {
     "name": "stderr",
     "output_type": "stream",
     "text": [
      "\n",
      "{\"message\": \"/users/maximz/anaconda3/envs/cuda-env-py39/lib/python3.9/site-packages/anndata/_core/anndata.py:121: ImplicitModificationWarning: Transforming to str index.\\n  warnings.warn(\\\"Transforming to str index.\\\", ImplicitModificationWarning)\\n\", \"time\": \"2024-01-05T05:28:39.123619\"}\n"
     ]
    },
    {
     "name": "stdout",
     "output_type": "stream",
     "text": [
      "-1 AnnData object with n_obs × n_vars = 585 × 640\n",
      "    obs: 'CDRH3', 'j_gene', 'VHorVHH', 'Binds to', \"Doesn't Bind to\", 'Neutralising Vs', 'Not Neutralising Vs', 'Protein + Epitope', 'Origin', 'Status', 'cdr3_seq_aa_q_trim', 'cdr3_aa_sequence_trim_len', 'v_gene', 'fr1_seq_aa_q_trim', 'cdr1_seq_aa_q_trim', 'fr2_seq_aa_q_trim', 'cdr2_seq_aa_q_trim', 'fr3_seq_aa_q_trim', 'v_mut', 'post_seq_aa_q_trim', 'cluster_id_within_clustering_group', 'global_resulting_cluster_ID', 'num_clone_members', 'isotype_supergroup', 'participant_label', 'specimen_label', 'disease', 'disease_subtype'\n",
      "    uns: 'embedded'\n",
      "    obsm: 'X_pca'\n",
      "GeneLocus.BCR Influenza binders\n"
     ]
    },
    {
     "name": "stdout",
     "output_type": "stream",
     "text": [
      "(1197, 53)\n",
      "(1159, 53)\n"
     ]
    },
    {
     "name": "stderr",
     "output_type": "stream",
     "text": [
      "\r",
      "  0%|                                                                  | 0/1 [00:00<?, ?it/s]"
     ]
    },
    {
     "name": "stderr",
     "output_type": "stream",
     "text": [
      "\r",
      "100%|██████████████████████████████████████████████████████████| 1/1 [00:03<00:00,  3.54s/it]"
     ]
    },
    {
     "name": "stderr",
     "output_type": "stream",
     "text": [
      "\r",
      "100%|██████████████████████████████████████████████████████████| 1/1 [00:03<00:00,  3.55s/it]"
     ]
    },
    {
     "name": "stderr",
     "output_type": "stream",
     "text": [
      "\n",
      "{\"message\": \"/users/maximz/anaconda3/envs/cuda-env-py39/lib/python3.9/site-packages/anndata/_core/anndata.py:121: ImplicitModificationWarning: Transforming to str index.\\n  warnings.warn(\\\"Transforming to str index.\\\", ImplicitModificationWarning)\\n\", \"time\": \"2024-01-05T05:28:45.051124\"}\n"
     ]
    },
    {
     "name": "stdout",
     "output_type": "stream",
     "text": [
      "0 AnnData object with n_obs × n_vars = 1159 × 640\n",
      "    obs: 'Name', 'VH_nuc', 'VH_AA', 'VL_nuc', 'VL_AA', 'Heavy_D_gene', 'Light_V_gene', 'Light_J_gene', 'CDRL1_AA', 'CDRL2_AA', 'CDRL3_AA', 'CDRH1_AA', 'CDRH2_AA', 'CDRH3_AA', 'VH Genbank ID', 'VL Genbank ID', 'PMID', 'Reference', 'Specificity', 'Binds to', 'Donor ID', 'Donor Status', 'PDB', 'clonotype', 'v_segment', 'j_segment', 'productive', 'pre_seq_aa_q', 'fr1_seq_aa_q', 'cdr1_seq_aa_q', 'fr2_seq_aa_q', 'cdr2_seq_aa_q', 'fr3_seq_aa_q', 'cdr3_seq_aa_q', 'post_seq_aa_q', 'v_sequence', 'locus', 'extracted_isotype', 'isotype_supergroup', 'v_gene', 'j_gene', 'fr1_seq_aa_q_trim', 'cdr1_seq_aa_q_trim', 'fr2_seq_aa_q_trim', 'cdr2_seq_aa_q_trim', 'fr3_seq_aa_q_trim', 'cdr3_seq_aa_q_trim', 'post_seq_aa_q_trim', 'cdr3_aa_sequence_trim_len', 'v_mut', 'cluster_id_within_clustering_group', 'global_resulting_cluster_ID', 'num_clone_members', 'participant_label', 'specimen_label', 'disease', 'disease_subtype'\n",
      "    uns: 'embedded'\n",
      "    obsm: 'X_pca'\n"
     ]
    },
    {
     "name": "stderr",
     "output_type": "stream",
     "text": [
      "\r",
      "  0%|                                                                  | 0/1 [00:00<?, ?it/s]"
     ]
    },
    {
     "name": "stderr",
     "output_type": "stream",
     "text": [
      "\r",
      "100%|██████████████████████████████████████████████████████████| 1/1 [00:03<00:00,  3.54s/it]"
     ]
    },
    {
     "name": "stderr",
     "output_type": "stream",
     "text": [
      "\r",
      "100%|██████████████████████████████████████████████████████████| 1/1 [00:03<00:00,  3.55s/it]"
     ]
    },
    {
     "name": "stderr",
     "output_type": "stream",
     "text": [
      "\n",
      "{\"message\": \"/users/maximz/anaconda3/envs/cuda-env-py39/lib/python3.9/site-packages/anndata/_core/anndata.py:121: ImplicitModificationWarning: Transforming to str index.\\n  warnings.warn(\\\"Transforming to str index.\\\", ImplicitModificationWarning)\\n\", \"time\": \"2024-01-05T05:28:50.537390\"}\n"
     ]
    },
    {
     "name": "stdout",
     "output_type": "stream",
     "text": [
      "1 AnnData object with n_obs × n_vars = 1159 × 640\n",
      "    obs: 'Name', 'VH_nuc', 'VH_AA', 'VL_nuc', 'VL_AA', 'Heavy_D_gene', 'Light_V_gene', 'Light_J_gene', 'CDRL1_AA', 'CDRL2_AA', 'CDRL3_AA', 'CDRH1_AA', 'CDRH2_AA', 'CDRH3_AA', 'VH Genbank ID', 'VL Genbank ID', 'PMID', 'Reference', 'Specificity', 'Binds to', 'Donor ID', 'Donor Status', 'PDB', 'clonotype', 'v_segment', 'j_segment', 'productive', 'pre_seq_aa_q', 'fr1_seq_aa_q', 'cdr1_seq_aa_q', 'fr2_seq_aa_q', 'cdr2_seq_aa_q', 'fr3_seq_aa_q', 'cdr3_seq_aa_q', 'post_seq_aa_q', 'v_sequence', 'locus', 'extracted_isotype', 'isotype_supergroup', 'v_gene', 'j_gene', 'fr1_seq_aa_q_trim', 'cdr1_seq_aa_q_trim', 'fr2_seq_aa_q_trim', 'cdr2_seq_aa_q_trim', 'fr3_seq_aa_q_trim', 'cdr3_seq_aa_q_trim', 'post_seq_aa_q_trim', 'cdr3_aa_sequence_trim_len', 'v_mut', 'cluster_id_within_clustering_group', 'global_resulting_cluster_ID', 'num_clone_members', 'participant_label', 'specimen_label', 'disease', 'disease_subtype'\n",
      "    uns: 'embedded'\n",
      "    obsm: 'X_pca'\n"
     ]
    },
    {
     "name": "stderr",
     "output_type": "stream",
     "text": [
      "\r",
      "  0%|                                                                  | 0/1 [00:00<?, ?it/s]"
     ]
    },
    {
     "name": "stderr",
     "output_type": "stream",
     "text": [
      "\r",
      "100%|██████████████████████████████████████████████████████████| 1/1 [00:03<00:00,  3.55s/it]"
     ]
    },
    {
     "name": "stderr",
     "output_type": "stream",
     "text": [
      "\r",
      "100%|██████████████████████████████████████████████████████████| 1/1 [00:03<00:00,  3.55s/it]"
     ]
    },
    {
     "name": "stderr",
     "output_type": "stream",
     "text": [
      "\n",
      "{\"message\": \"/users/maximz/anaconda3/envs/cuda-env-py39/lib/python3.9/site-packages/anndata/_core/anndata.py:121: ImplicitModificationWarning: Transforming to str index.\\n  warnings.warn(\\\"Transforming to str index.\\\", ImplicitModificationWarning)\\n\", \"time\": \"2024-01-05T05:28:56.167718\"}\n"
     ]
    },
    {
     "name": "stdout",
     "output_type": "stream",
     "text": [
      "2 AnnData object with n_obs × n_vars = 1159 × 640\n",
      "    obs: 'Name', 'VH_nuc', 'VH_AA', 'VL_nuc', 'VL_AA', 'Heavy_D_gene', 'Light_V_gene', 'Light_J_gene', 'CDRL1_AA', 'CDRL2_AA', 'CDRL3_AA', 'CDRH1_AA', 'CDRH2_AA', 'CDRH3_AA', 'VH Genbank ID', 'VL Genbank ID', 'PMID', 'Reference', 'Specificity', 'Binds to', 'Donor ID', 'Donor Status', 'PDB', 'clonotype', 'v_segment', 'j_segment', 'productive', 'pre_seq_aa_q', 'fr1_seq_aa_q', 'cdr1_seq_aa_q', 'fr2_seq_aa_q', 'cdr2_seq_aa_q', 'fr3_seq_aa_q', 'cdr3_seq_aa_q', 'post_seq_aa_q', 'v_sequence', 'locus', 'extracted_isotype', 'isotype_supergroup', 'v_gene', 'j_gene', 'fr1_seq_aa_q_trim', 'cdr1_seq_aa_q_trim', 'fr2_seq_aa_q_trim', 'cdr2_seq_aa_q_trim', 'fr3_seq_aa_q_trim', 'cdr3_seq_aa_q_trim', 'post_seq_aa_q_trim', 'cdr3_aa_sequence_trim_len', 'v_mut', 'cluster_id_within_clustering_group', 'global_resulting_cluster_ID', 'num_clone_members', 'participant_label', 'specimen_label', 'disease', 'disease_subtype'\n",
      "    uns: 'embedded'\n",
      "    obsm: 'X_pca'\n"
     ]
    },
    {
     "name": "stderr",
     "output_type": "stream",
     "text": [
      "\r",
      "  0%|                                                                  | 0/1 [00:00<?, ?it/s]"
     ]
    },
    {
     "name": "stderr",
     "output_type": "stream",
     "text": [
      "\r",
      "100%|██████████████████████████████████████████████████████████| 1/1 [00:03<00:00,  3.54s/it]"
     ]
    },
    {
     "name": "stderr",
     "output_type": "stream",
     "text": [
      "\r",
      "100%|██████████████████████████████████████████████████████████| 1/1 [00:03<00:00,  3.54s/it]"
     ]
    },
    {
     "name": "stderr",
     "output_type": "stream",
     "text": [
      "\n",
      "{\"message\": \"/users/maximz/anaconda3/envs/cuda-env-py39/lib/python3.9/site-packages/anndata/_core/anndata.py:121: ImplicitModificationWarning: Transforming to str index.\\n  warnings.warn(\\\"Transforming to str index.\\\", ImplicitModificationWarning)\\n\", \"time\": \"2024-01-05T05:29:01.508928\"}\n"
     ]
    },
    {
     "name": "stdout",
     "output_type": "stream",
     "text": [
      "-1 AnnData object with n_obs × n_vars = 1159 × 640\n",
      "    obs: 'Name', 'VH_nuc', 'VH_AA', 'VL_nuc', 'VL_AA', 'Heavy_D_gene', 'Light_V_gene', 'Light_J_gene', 'CDRL1_AA', 'CDRL2_AA', 'CDRL3_AA', 'CDRH1_AA', 'CDRH2_AA', 'CDRH3_AA', 'VH Genbank ID', 'VL Genbank ID', 'PMID', 'Reference', 'Specificity', 'Binds to', 'Donor ID', 'Donor Status', 'PDB', 'clonotype', 'v_segment', 'j_segment', 'productive', 'pre_seq_aa_q', 'fr1_seq_aa_q', 'cdr1_seq_aa_q', 'fr2_seq_aa_q', 'cdr2_seq_aa_q', 'fr3_seq_aa_q', 'cdr3_seq_aa_q', 'post_seq_aa_q', 'v_sequence', 'locus', 'extracted_isotype', 'isotype_supergroup', 'v_gene', 'j_gene', 'fr1_seq_aa_q_trim', 'cdr1_seq_aa_q_trim', 'fr2_seq_aa_q_trim', 'cdr2_seq_aa_q_trim', 'fr3_seq_aa_q_trim', 'cdr3_seq_aa_q_trim', 'post_seq_aa_q_trim', 'cdr3_aa_sequence_trim_len', 'v_mut', 'cluster_id_within_clustering_group', 'global_resulting_cluster_ID', 'num_clone_members', 'participant_label', 'specimen_label', 'disease', 'disease_subtype'\n",
      "    uns: 'embedded'\n",
      "    obsm: 'X_pca'\n"
     ]
    },
    {
     "name": "stdout",
     "output_type": "stream",
     "text": [
      "GeneLocus.TCR Covid19 binders\n"
     ]
    },
    {
     "name": "stderr",
     "output_type": "stream",
     "text": [
      "{\"message\": \"/users/maximz/code/boyd-immune-repertoire-classification/malid/interpretation.py:1462: DtypeWarning: Columns (18,36,38) have mixed types. Specify dtype option on import or set low_memory=False.\\n  train_sequences_df = pd.read_csv(\\n\", \"time\": \"2024-01-05T05:29:02.393858\"}\n"
     ]
    },
    {
     "name": "stdout",
     "output_type": "stream",
     "text": [
      "(37591, 58)\n",
      "(37591, 58)\n"
     ]
    },
    {
     "name": "stderr",
     "output_type": "stream",
     "text": [
      "\r",
      "  0%|                                                                  | 0/1 [00:00<?, ?it/s]"
     ]
    },
    {
     "name": "stderr",
     "output_type": "stream",
     "text": [
      "\r",
      "100%|██████████████████████████████████████████████████████████| 1/1 [00:09<00:00,  9.24s/it]"
     ]
    },
    {
     "name": "stderr",
     "output_type": "stream",
     "text": [
      "\r",
      "100%|██████████████████████████████████████████████████████████| 1/1 [00:09<00:00,  9.25s/it]"
     ]
    },
    {
     "name": "stderr",
     "output_type": "stream",
     "text": [
      "\n"
     ]
    },
    {
     "name": "stderr",
     "output_type": "stream",
     "text": [
      "\r",
      "  0%|                                                                  | 0/1 [00:00<?, ?it/s]"
     ]
    },
    {
     "name": "stderr",
     "output_type": "stream",
     "text": [
      "\r",
      "100%|██████████████████████████████████████████████████████████| 1/1 [00:08<00:00,  8.79s/it]"
     ]
    },
    {
     "name": "stderr",
     "output_type": "stream",
     "text": [
      "\r",
      "100%|██████████████████████████████████████████████████████████| 1/1 [00:08<00:00,  8.79s/it]"
     ]
    },
    {
     "name": "stderr",
     "output_type": "stream",
     "text": [
      "\n"
     ]
    },
    {
     "name": "stderr",
     "output_type": "stream",
     "text": [
      "\r",
      "  0%|                                                                  | 0/1 [00:00<?, ?it/s]"
     ]
    },
    {
     "name": "stderr",
     "output_type": "stream",
     "text": [
      "\r",
      "100%|██████████████████████████████████████████████████████████| 1/1 [00:09<00:00,  9.25s/it]"
     ]
    },
    {
     "name": "stderr",
     "output_type": "stream",
     "text": [
      "\r",
      "100%|██████████████████████████████████████████████████████████| 1/1 [00:09<00:00,  9.25s/it]"
     ]
    },
    {
     "name": "stderr",
     "output_type": "stream",
     "text": [
      "\n"
     ]
    },
    {
     "name": "stderr",
     "output_type": "stream",
     "text": [
      "\r",
      "  0%|                                                                  | 0/1 [00:00<?, ?it/s]"
     ]
    },
    {
     "name": "stderr",
     "output_type": "stream",
     "text": [
      "\r",
      "100%|██████████████████████████████████████████████████████████| 1/1 [00:08<00:00,  8.46s/it]"
     ]
    },
    {
     "name": "stderr",
     "output_type": "stream",
     "text": [
      "\r",
      "100%|██████████████████████████████████████████████████████████| 1/1 [00:08<00:00,  8.46s/it]"
     ]
    },
    {
     "name": "stderr",
     "output_type": "stream",
     "text": [
      "\n"
     ]
    },
    {
     "name": "stderr",
     "output_type": "stream",
     "text": [
      "\r",
      "  0%|                                                                  | 0/1 [00:00<?, ?it/s]"
     ]
    },
    {
     "name": "stderr",
     "output_type": "stream",
     "text": [
      "\r",
      "100%|██████████████████████████████████████████████████████████| 1/1 [00:09<00:00,  9.27s/it]"
     ]
    },
    {
     "name": "stderr",
     "output_type": "stream",
     "text": [
      "\r",
      "100%|██████████████████████████████████████████████████████████| 1/1 [00:09<00:00,  9.28s/it]"
     ]
    },
    {
     "name": "stderr",
     "output_type": "stream",
     "text": [
      "\n"
     ]
    },
    {
     "name": "stderr",
     "output_type": "stream",
     "text": [
      "\r",
      "  0%|                                                                  | 0/1 [00:00<?, ?it/s]"
     ]
    },
    {
     "name": "stderr",
     "output_type": "stream",
     "text": [
      "\r",
      "100%|██████████████████████████████████████████████████████████| 1/1 [00:08<00:00,  8.81s/it]"
     ]
    },
    {
     "name": "stderr",
     "output_type": "stream",
     "text": [
      "\r",
      "100%|██████████████████████████████████████████████████████████| 1/1 [00:08<00:00,  8.81s/it]"
     ]
    },
    {
     "name": "stderr",
     "output_type": "stream",
     "text": [
      "\n"
     ]
    },
    {
     "name": "stderr",
     "output_type": "stream",
     "text": [
      "\r",
      "  0%|                                                                  | 0/1 [00:00<?, ?it/s]"
     ]
    },
    {
     "name": "stderr",
     "output_type": "stream",
     "text": [
      "\r",
      "100%|██████████████████████████████████████████████████████████| 1/1 [00:08<00:00,  8.16s/it]"
     ]
    },
    {
     "name": "stderr",
     "output_type": "stream",
     "text": [
      "\r",
      "100%|██████████████████████████████████████████████████████████| 1/1 [00:08<00:00,  8.17s/it]"
     ]
    },
    {
     "name": "stderr",
     "output_type": "stream",
     "text": [
      "\n"
     ]
    },
    {
     "name": "stderr",
     "output_type": "stream",
     "text": [
      "\r",
      "  0%|                                                                  | 0/1 [00:00<?, ?it/s]"
     ]
    },
    {
     "name": "stderr",
     "output_type": "stream",
     "text": [
      "\r",
      "100%|██████████████████████████████████████████████████████████| 1/1 [00:08<00:00,  8.19s/it]"
     ]
    },
    {
     "name": "stderr",
     "output_type": "stream",
     "text": [
      "\r",
      "100%|██████████████████████████████████████████████████████████| 1/1 [00:08<00:00,  8.19s/it]"
     ]
    },
    {
     "name": "stderr",
     "output_type": "stream",
     "text": [
      "\n"
     ]
    },
    {
     "name": "stderr",
     "output_type": "stream",
     "text": [
      "\r",
      "  0%|                                                                  | 0/1 [00:00<?, ?it/s]"
     ]
    },
    {
     "name": "stderr",
     "output_type": "stream",
     "text": [
      "\r",
      "100%|██████████████████████████████████████████████████████████| 1/1 [00:08<00:00,  8.79s/it]"
     ]
    },
    {
     "name": "stderr",
     "output_type": "stream",
     "text": [
      "\r",
      "100%|██████████████████████████████████████████████████████████| 1/1 [00:08<00:00,  8.79s/it]"
     ]
    },
    {
     "name": "stderr",
     "output_type": "stream",
     "text": [
      "\n"
     ]
    },
    {
     "name": "stderr",
     "output_type": "stream",
     "text": [
      "\r",
      "  0%|                                                                  | 0/1 [00:00<?, ?it/s]"
     ]
    },
    {
     "name": "stderr",
     "output_type": "stream",
     "text": [
      "\r",
      "100%|██████████████████████████████████████████████████████████| 1/1 [00:03<00:00,  3.39s/it]"
     ]
    },
    {
     "name": "stderr",
     "output_type": "stream",
     "text": [
      "\r",
      "100%|██████████████████████████████████████████████████████████| 1/1 [00:03<00:00,  3.39s/it]"
     ]
    },
    {
     "name": "stderr",
     "output_type": "stream",
     "text": [
      "\n"
     ]
    },
    {
     "name": "stderr",
     "output_type": "stream",
     "text": [
      "{\"message\": \"/users/maximz/anaconda3/envs/cuda-env-py39/lib/python3.9/site-packages/anndata/_core/anndata.py:121: ImplicitModificationWarning: Transforming to str index.\\n  warnings.warn(\\\"Transforming to str index.\\\", ImplicitModificationWarning)\\n\", \"time\": \"2024-01-05T05:30:36.638424\"}\n"
     ]
    },
    {
     "name": "stdout",
     "output_type": "stream",
     "text": [
      "0 AnnData object with n_obs × n_vars = 37591 × 640\n",
      "    obs: 'rownum', 'TCR BioIdentity', 'TCR Nucleotide Sequence', 'Experiment', 'ORF Coverage', 'Amino Acids', 'Start Index in Genome', 'End Index in Genome', 'source', 'ORF', 'ORF Genebank ID', 'Amino Acid', 'Subject', 'Cell Type', 'Target Type', 'Cohort', 'Age', 'Gender', 'Race', 'HLA-A', 'HLA-A.1', 'HLA-B', 'HLA-B.1', 'HLA-C', 'HLA-C.1', 'DPA1', 'DPA1.1', 'DPB1', 'DPB1.1', 'DQA1', 'DQA1.1', 'DQB1', 'DQB1.1', 'DRB1', 'DRB1.1', 'DRB3', 'DRB3.1', 'DRB4', 'DRB4.1', 'DRB5', 'DRB5.1', 'cdr3_seq_aa_q_trim', 'cdr3_aa_sequence_trim_len', 'v_segment', 'j_segment', 'productive', 'extracted_isotype', 'isotype_supergroup', 'v_gene', 'j_gene', 'cdr1_seq_aa_q', 'cdr2_seq_aa_q', 'cdr1_seq_aa_q_trim', 'cdr2_seq_aa_q_trim', 'v_mut', 'cluster_id_within_clustering_group', 'global_resulting_cluster_ID', 'num_clone_members', 'participant_label', 'specimen_label', 'disease', 'disease_subtype'\n",
      "    uns: 'embedded'\n",
      "    obsm: 'X_pca'\n"
     ]
    },
    {
     "name": "stderr",
     "output_type": "stream",
     "text": [
      "\r",
      "  0%|                                                                  | 0/1 [00:00<?, ?it/s]"
     ]
    },
    {
     "name": "stderr",
     "output_type": "stream",
     "text": [
      "\r",
      "100%|██████████████████████████████████████████████████████████| 1/1 [00:09<00:00,  9.25s/it]"
     ]
    },
    {
     "name": "stderr",
     "output_type": "stream",
     "text": [
      "\r",
      "100%|██████████████████████████████████████████████████████████| 1/1 [00:09<00:00,  9.25s/it]"
     ]
    },
    {
     "name": "stderr",
     "output_type": "stream",
     "text": [
      "\n"
     ]
    },
    {
     "name": "stderr",
     "output_type": "stream",
     "text": [
      "\r",
      "  0%|                                                                  | 0/1 [00:00<?, ?it/s]"
     ]
    },
    {
     "name": "stderr",
     "output_type": "stream",
     "text": [
      "\r",
      "100%|██████████████████████████████████████████████████████████| 1/1 [00:08<00:00,  8.81s/it]"
     ]
    },
    {
     "name": "stderr",
     "output_type": "stream",
     "text": [
      "\r",
      "100%|██████████████████████████████████████████████████████████| 1/1 [00:08<00:00,  8.81s/it]"
     ]
    },
    {
     "name": "stderr",
     "output_type": "stream",
     "text": [
      "\n"
     ]
    },
    {
     "name": "stderr",
     "output_type": "stream",
     "text": [
      "\r",
      "  0%|                                                                  | 0/1 [00:00<?, ?it/s]"
     ]
    },
    {
     "name": "stderr",
     "output_type": "stream",
     "text": [
      "\r",
      "100%|██████████████████████████████████████████████████████████| 1/1 [00:09<00:00,  9.25s/it]"
     ]
    },
    {
     "name": "stderr",
     "output_type": "stream",
     "text": [
      "\r",
      "100%|██████████████████████████████████████████████████████████| 1/1 [00:09<00:00,  9.25s/it]"
     ]
    },
    {
     "name": "stderr",
     "output_type": "stream",
     "text": [
      "\n"
     ]
    },
    {
     "name": "stderr",
     "output_type": "stream",
     "text": [
      "\r",
      "  0%|                                                                  | 0/1 [00:00<?, ?it/s]"
     ]
    },
    {
     "name": "stderr",
     "output_type": "stream",
     "text": [
      "\r",
      "100%|██████████████████████████████████████████████████████████| 1/1 [00:08<00:00,  8.48s/it]"
     ]
    },
    {
     "name": "stderr",
     "output_type": "stream",
     "text": [
      "\r",
      "100%|██████████████████████████████████████████████████████████| 1/1 [00:08<00:00,  8.48s/it]"
     ]
    },
    {
     "name": "stderr",
     "output_type": "stream",
     "text": [
      "\n"
     ]
    },
    {
     "name": "stderr",
     "output_type": "stream",
     "text": [
      "\r",
      "  0%|                                                                  | 0/1 [00:00<?, ?it/s]"
     ]
    },
    {
     "name": "stderr",
     "output_type": "stream",
     "text": [
      "\r",
      "100%|██████████████████████████████████████████████████████████| 1/1 [00:09<00:00,  9.25s/it]"
     ]
    },
    {
     "name": "stderr",
     "output_type": "stream",
     "text": [
      "\r",
      "100%|██████████████████████████████████████████████████████████| 1/1 [00:09<00:00,  9.25s/it]"
     ]
    },
    {
     "name": "stderr",
     "output_type": "stream",
     "text": [
      "\n"
     ]
    },
    {
     "name": "stderr",
     "output_type": "stream",
     "text": [
      "\r",
      "  0%|                                                                  | 0/1 [00:00<?, ?it/s]"
     ]
    },
    {
     "name": "stderr",
     "output_type": "stream",
     "text": [
      "\r",
      "100%|██████████████████████████████████████████████████████████| 1/1 [00:08<00:00,  8.81s/it]"
     ]
    },
    {
     "name": "stderr",
     "output_type": "stream",
     "text": [
      "\r",
      "100%|██████████████████████████████████████████████████████████| 1/1 [00:08<00:00,  8.81s/it]"
     ]
    },
    {
     "name": "stderr",
     "output_type": "stream",
     "text": [
      "\n"
     ]
    },
    {
     "name": "stderr",
     "output_type": "stream",
     "text": [
      "\r",
      "  0%|                                                                  | 0/1 [00:00<?, ?it/s]"
     ]
    },
    {
     "name": "stderr",
     "output_type": "stream",
     "text": [
      "\r",
      "100%|██████████████████████████████████████████████████████████| 1/1 [00:08<00:00,  8.16s/it]"
     ]
    },
    {
     "name": "stderr",
     "output_type": "stream",
     "text": [
      "\r",
      "100%|██████████████████████████████████████████████████████████| 1/1 [00:08<00:00,  8.16s/it]"
     ]
    },
    {
     "name": "stderr",
     "output_type": "stream",
     "text": [
      "\n"
     ]
    },
    {
     "name": "stderr",
     "output_type": "stream",
     "text": [
      "\r",
      "  0%|                                                                  | 0/1 [00:00<?, ?it/s]"
     ]
    },
    {
     "name": "stderr",
     "output_type": "stream",
     "text": [
      "\r",
      "100%|██████████████████████████████████████████████████████████| 1/1 [00:08<00:00,  8.13s/it]"
     ]
    },
    {
     "name": "stderr",
     "output_type": "stream",
     "text": [
      "\r",
      "100%|██████████████████████████████████████████████████████████| 1/1 [00:08<00:00,  8.13s/it]"
     ]
    },
    {
     "name": "stderr",
     "output_type": "stream",
     "text": [
      "\n"
     ]
    },
    {
     "name": "stderr",
     "output_type": "stream",
     "text": [
      "\r",
      "  0%|                                                                  | 0/1 [00:00<?, ?it/s]"
     ]
    },
    {
     "name": "stderr",
     "output_type": "stream",
     "text": [
      "\r",
      "100%|██████████████████████████████████████████████████████████| 1/1 [00:08<00:00,  8.79s/it]"
     ]
    },
    {
     "name": "stderr",
     "output_type": "stream",
     "text": [
      "\r",
      "100%|██████████████████████████████████████████████████████████| 1/1 [00:08<00:00,  8.79s/it]"
     ]
    },
    {
     "name": "stderr",
     "output_type": "stream",
     "text": [
      "\n"
     ]
    },
    {
     "name": "stderr",
     "output_type": "stream",
     "text": [
      "\r",
      "  0%|                                                                  | 0/1 [00:00<?, ?it/s]"
     ]
    },
    {
     "name": "stderr",
     "output_type": "stream",
     "text": [
      "\r",
      "100%|██████████████████████████████████████████████████████████| 1/1 [00:03<00:00,  3.37s/it]"
     ]
    },
    {
     "name": "stderr",
     "output_type": "stream",
     "text": [
      "\r",
      "100%|██████████████████████████████████████████████████████████| 1/1 [00:03<00:00,  3.37s/it]"
     ]
    },
    {
     "name": "stderr",
     "output_type": "stream",
     "text": [
      "\n",
      "{\"message\": \"/users/maximz/anaconda3/envs/cuda-env-py39/lib/python3.9/site-packages/anndata/_core/anndata.py:121: ImplicitModificationWarning: Transforming to str index.\\n  warnings.warn(\\\"Transforming to str index.\\\", ImplicitModificationWarning)\\n\", \"time\": \"2024-01-05T05:32:07.287627\"}\n"
     ]
    },
    {
     "name": "stdout",
     "output_type": "stream",
     "text": [
      "1 AnnData object with n_obs × n_vars = 37591 × 640\n",
      "    obs: 'rownum', 'TCR BioIdentity', 'TCR Nucleotide Sequence', 'Experiment', 'ORF Coverage', 'Amino Acids', 'Start Index in Genome', 'End Index in Genome', 'source', 'ORF', 'ORF Genebank ID', 'Amino Acid', 'Subject', 'Cell Type', 'Target Type', 'Cohort', 'Age', 'Gender', 'Race', 'HLA-A', 'HLA-A.1', 'HLA-B', 'HLA-B.1', 'HLA-C', 'HLA-C.1', 'DPA1', 'DPA1.1', 'DPB1', 'DPB1.1', 'DQA1', 'DQA1.1', 'DQB1', 'DQB1.1', 'DRB1', 'DRB1.1', 'DRB3', 'DRB3.1', 'DRB4', 'DRB4.1', 'DRB5', 'DRB5.1', 'cdr3_seq_aa_q_trim', 'cdr3_aa_sequence_trim_len', 'v_segment', 'j_segment', 'productive', 'extracted_isotype', 'isotype_supergroup', 'v_gene', 'j_gene', 'cdr1_seq_aa_q', 'cdr2_seq_aa_q', 'cdr1_seq_aa_q_trim', 'cdr2_seq_aa_q_trim', 'v_mut', 'cluster_id_within_clustering_group', 'global_resulting_cluster_ID', 'num_clone_members', 'participant_label', 'specimen_label', 'disease', 'disease_subtype'\n",
      "    uns: 'embedded'\n",
      "    obsm: 'X_pca'\n"
     ]
    },
    {
     "name": "stderr",
     "output_type": "stream",
     "text": [
      "\r",
      "  0%|                                                                  | 0/1 [00:00<?, ?it/s]"
     ]
    },
    {
     "name": "stderr",
     "output_type": "stream",
     "text": [
      "\r",
      "100%|██████████████████████████████████████████████████████████| 1/1 [00:09<00:00,  9.25s/it]"
     ]
    },
    {
     "name": "stderr",
     "output_type": "stream",
     "text": [
      "\r",
      "100%|██████████████████████████████████████████████████████████| 1/1 [00:09<00:00,  9.25s/it]"
     ]
    },
    {
     "name": "stderr",
     "output_type": "stream",
     "text": [
      "\n"
     ]
    },
    {
     "name": "stderr",
     "output_type": "stream",
     "text": [
      "\r",
      "  0%|                                                                  | 0/1 [00:00<?, ?it/s]"
     ]
    },
    {
     "name": "stderr",
     "output_type": "stream",
     "text": [
      "\r",
      "100%|██████████████████████████████████████████████████████████| 1/1 [00:08<00:00,  8.80s/it]"
     ]
    },
    {
     "name": "stderr",
     "output_type": "stream",
     "text": [
      "\r",
      "100%|██████████████████████████████████████████████████████████| 1/1 [00:08<00:00,  8.80s/it]"
     ]
    },
    {
     "name": "stderr",
     "output_type": "stream",
     "text": [
      "\n"
     ]
    },
    {
     "name": "stderr",
     "output_type": "stream",
     "text": [
      "\r",
      "  0%|                                                                  | 0/1 [00:00<?, ?it/s]"
     ]
    },
    {
     "name": "stderr",
     "output_type": "stream",
     "text": [
      "\r",
      "100%|██████████████████████████████████████████████████████████| 1/1 [00:09<00:00,  9.29s/it]"
     ]
    },
    {
     "name": "stderr",
     "output_type": "stream",
     "text": [
      "\r",
      "100%|██████████████████████████████████████████████████████████| 1/1 [00:09<00:00,  9.30s/it]"
     ]
    },
    {
     "name": "stderr",
     "output_type": "stream",
     "text": [
      "\n"
     ]
    },
    {
     "name": "stderr",
     "output_type": "stream",
     "text": [
      "\r",
      "  0%|                                                                  | 0/1 [00:00<?, ?it/s]"
     ]
    },
    {
     "name": "stderr",
     "output_type": "stream",
     "text": [
      "\r",
      "100%|██████████████████████████████████████████████████████████| 1/1 [00:08<00:00,  8.46s/it]"
     ]
    },
    {
     "name": "stderr",
     "output_type": "stream",
     "text": [
      "\r",
      "100%|██████████████████████████████████████████████████████████| 1/1 [00:08<00:00,  8.47s/it]"
     ]
    },
    {
     "name": "stderr",
     "output_type": "stream",
     "text": [
      "\n"
     ]
    },
    {
     "name": "stderr",
     "output_type": "stream",
     "text": [
      "\r",
      "  0%|                                                                  | 0/1 [00:00<?, ?it/s]"
     ]
    },
    {
     "name": "stderr",
     "output_type": "stream",
     "text": [
      "\r",
      "100%|██████████████████████████████████████████████████████████| 1/1 [00:09<00:00,  9.24s/it]"
     ]
    },
    {
     "name": "stderr",
     "output_type": "stream",
     "text": [
      "\r",
      "100%|██████████████████████████████████████████████████████████| 1/1 [00:09<00:00,  9.24s/it]"
     ]
    },
    {
     "name": "stderr",
     "output_type": "stream",
     "text": [
      "\n"
     ]
    },
    {
     "name": "stderr",
     "output_type": "stream",
     "text": [
      "\r",
      "  0%|                                                                  | 0/1 [00:00<?, ?it/s]"
     ]
    },
    {
     "name": "stderr",
     "output_type": "stream",
     "text": [
      "\r",
      "100%|██████████████████████████████████████████████████████████| 1/1 [00:08<00:00,  8.79s/it]"
     ]
    },
    {
     "name": "stderr",
     "output_type": "stream",
     "text": [
      "\r",
      "100%|██████████████████████████████████████████████████████████| 1/1 [00:08<00:00,  8.79s/it]"
     ]
    },
    {
     "name": "stderr",
     "output_type": "stream",
     "text": [
      "\n"
     ]
    },
    {
     "name": "stderr",
     "output_type": "stream",
     "text": [
      "\r",
      "  0%|                                                                  | 0/1 [00:00<?, ?it/s]"
     ]
    },
    {
     "name": "stderr",
     "output_type": "stream",
     "text": [
      "\r",
      "100%|██████████████████████████████████████████████████████████| 1/1 [00:08<00:00,  8.14s/it]"
     ]
    },
    {
     "name": "stderr",
     "output_type": "stream",
     "text": [
      "\r",
      "100%|██████████████████████████████████████████████████████████| 1/1 [00:08<00:00,  8.14s/it]"
     ]
    },
    {
     "name": "stderr",
     "output_type": "stream",
     "text": [
      "\n"
     ]
    },
    {
     "name": "stderr",
     "output_type": "stream",
     "text": [
      "\r",
      "  0%|                                                                  | 0/1 [00:00<?, ?it/s]"
     ]
    },
    {
     "name": "stderr",
     "output_type": "stream",
     "text": [
      "\r",
      "100%|██████████████████████████████████████████████████████████| 1/1 [00:08<00:00,  8.17s/it]"
     ]
    },
    {
     "name": "stderr",
     "output_type": "stream",
     "text": [
      "\r",
      "100%|██████████████████████████████████████████████████████████| 1/1 [00:08<00:00,  8.17s/it]"
     ]
    },
    {
     "name": "stderr",
     "output_type": "stream",
     "text": [
      "\n"
     ]
    },
    {
     "name": "stderr",
     "output_type": "stream",
     "text": [
      "\r",
      "  0%|                                                                  | 0/1 [00:00<?, ?it/s]"
     ]
    },
    {
     "name": "stderr",
     "output_type": "stream",
     "text": [
      "\r",
      "100%|██████████████████████████████████████████████████████████| 1/1 [00:08<00:00,  8.81s/it]"
     ]
    },
    {
     "name": "stderr",
     "output_type": "stream",
     "text": [
      "\r",
      "100%|██████████████████████████████████████████████████████████| 1/1 [00:08<00:00,  8.81s/it]"
     ]
    },
    {
     "name": "stderr",
     "output_type": "stream",
     "text": [
      "\n"
     ]
    },
    {
     "name": "stderr",
     "output_type": "stream",
     "text": [
      "\r",
      "  0%|                                                                  | 0/1 [00:00<?, ?it/s]"
     ]
    },
    {
     "name": "stderr",
     "output_type": "stream",
     "text": [
      "\r",
      "100%|██████████████████████████████████████████████████████████| 1/1 [00:03<00:00,  3.40s/it]"
     ]
    },
    {
     "name": "stderr",
     "output_type": "stream",
     "text": [
      "\r",
      "100%|██████████████████████████████████████████████████████████| 1/1 [00:03<00:00,  3.41s/it]"
     ]
    },
    {
     "name": "stderr",
     "output_type": "stream",
     "text": [
      "\n",
      "{\"message\": \"/users/maximz/anaconda3/envs/cuda-env-py39/lib/python3.9/site-packages/anndata/_core/anndata.py:121: ImplicitModificationWarning: Transforming to str index.\\n  warnings.warn(\\\"Transforming to str index.\\\", ImplicitModificationWarning)\\n\", \"time\": \"2024-01-05T05:33:36.682196\"}\n"
     ]
    },
    {
     "name": "stdout",
     "output_type": "stream",
     "text": [
      "2 AnnData object with n_obs × n_vars = 37591 × 640\n",
      "    obs: 'rownum', 'TCR BioIdentity', 'TCR Nucleotide Sequence', 'Experiment', 'ORF Coverage', 'Amino Acids', 'Start Index in Genome', 'End Index in Genome', 'source', 'ORF', 'ORF Genebank ID', 'Amino Acid', 'Subject', 'Cell Type', 'Target Type', 'Cohort', 'Age', 'Gender', 'Race', 'HLA-A', 'HLA-A.1', 'HLA-B', 'HLA-B.1', 'HLA-C', 'HLA-C.1', 'DPA1', 'DPA1.1', 'DPB1', 'DPB1.1', 'DQA1', 'DQA1.1', 'DQB1', 'DQB1.1', 'DRB1', 'DRB1.1', 'DRB3', 'DRB3.1', 'DRB4', 'DRB4.1', 'DRB5', 'DRB5.1', 'cdr3_seq_aa_q_trim', 'cdr3_aa_sequence_trim_len', 'v_segment', 'j_segment', 'productive', 'extracted_isotype', 'isotype_supergroup', 'v_gene', 'j_gene', 'cdr1_seq_aa_q', 'cdr2_seq_aa_q', 'cdr1_seq_aa_q_trim', 'cdr2_seq_aa_q_trim', 'v_mut', 'cluster_id_within_clustering_group', 'global_resulting_cluster_ID', 'num_clone_members', 'participant_label', 'specimen_label', 'disease', 'disease_subtype'\n",
      "    uns: 'embedded'\n",
      "    obsm: 'X_pca'\n"
     ]
    },
    {
     "name": "stderr",
     "output_type": "stream",
     "text": [
      "\r",
      "  0%|                                                                  | 0/1 [00:00<?, ?it/s]"
     ]
    },
    {
     "name": "stderr",
     "output_type": "stream",
     "text": [
      "\r",
      "100%|██████████████████████████████████████████████████████████| 1/1 [00:09<00:00,  9.26s/it]"
     ]
    },
    {
     "name": "stderr",
     "output_type": "stream",
     "text": [
      "\r",
      "100%|██████████████████████████████████████████████████████████| 1/1 [00:09<00:00,  9.26s/it]"
     ]
    },
    {
     "name": "stderr",
     "output_type": "stream",
     "text": [
      "\n"
     ]
    },
    {
     "name": "stderr",
     "output_type": "stream",
     "text": [
      "\r",
      "  0%|                                                                  | 0/1 [00:00<?, ?it/s]"
     ]
    },
    {
     "name": "stderr",
     "output_type": "stream",
     "text": [
      "\r",
      "100%|██████████████████████████████████████████████████████████| 1/1 [00:08<00:00,  8.79s/it]"
     ]
    },
    {
     "name": "stderr",
     "output_type": "stream",
     "text": [
      "\r",
      "100%|██████████████████████████████████████████████████████████| 1/1 [00:08<00:00,  8.79s/it]"
     ]
    },
    {
     "name": "stderr",
     "output_type": "stream",
     "text": [
      "\n"
     ]
    },
    {
     "name": "stderr",
     "output_type": "stream",
     "text": [
      "\r",
      "  0%|                                                                  | 0/1 [00:00<?, ?it/s]"
     ]
    },
    {
     "name": "stderr",
     "output_type": "stream",
     "text": [
      "\r",
      "100%|██████████████████████████████████████████████████████████| 1/1 [00:09<00:00,  9.24s/it]"
     ]
    },
    {
     "name": "stderr",
     "output_type": "stream",
     "text": [
      "\r",
      "100%|██████████████████████████████████████████████████████████| 1/1 [00:09<00:00,  9.24s/it]"
     ]
    },
    {
     "name": "stderr",
     "output_type": "stream",
     "text": [
      "\n"
     ]
    },
    {
     "name": "stderr",
     "output_type": "stream",
     "text": [
      "\r",
      "  0%|                                                                  | 0/1 [00:00<?, ?it/s]"
     ]
    },
    {
     "name": "stderr",
     "output_type": "stream",
     "text": [
      "\r",
      "100%|██████████████████████████████████████████████████████████| 1/1 [00:08<00:00,  8.51s/it]"
     ]
    },
    {
     "name": "stderr",
     "output_type": "stream",
     "text": [
      "\r",
      "100%|██████████████████████████████████████████████████████████| 1/1 [00:08<00:00,  8.51s/it]"
     ]
    },
    {
     "name": "stderr",
     "output_type": "stream",
     "text": [
      "\n"
     ]
    },
    {
     "name": "stderr",
     "output_type": "stream",
     "text": [
      "\r",
      "  0%|                                                                  | 0/1 [00:00<?, ?it/s]"
     ]
    },
    {
     "name": "stderr",
     "output_type": "stream",
     "text": [
      "\r",
      "100%|██████████████████████████████████████████████████████████| 1/1 [00:09<00:00,  9.26s/it]"
     ]
    },
    {
     "name": "stderr",
     "output_type": "stream",
     "text": [
      "\r",
      "100%|██████████████████████████████████████████████████████████| 1/1 [00:09<00:00,  9.26s/it]"
     ]
    },
    {
     "name": "stderr",
     "output_type": "stream",
     "text": [
      "\n"
     ]
    },
    {
     "name": "stderr",
     "output_type": "stream",
     "text": [
      "\r",
      "  0%|                                                                  | 0/1 [00:00<?, ?it/s]"
     ]
    },
    {
     "name": "stderr",
     "output_type": "stream",
     "text": [
      "\r",
      "100%|██████████████████████████████████████████████████████████| 1/1 [00:08<00:00,  8.80s/it]"
     ]
    },
    {
     "name": "stderr",
     "output_type": "stream",
     "text": [
      "\r",
      "100%|██████████████████████████████████████████████████████████| 1/1 [00:08<00:00,  8.81s/it]"
     ]
    },
    {
     "name": "stderr",
     "output_type": "stream",
     "text": [
      "\n"
     ]
    },
    {
     "name": "stderr",
     "output_type": "stream",
     "text": [
      "\r",
      "  0%|                                                                  | 0/1 [00:00<?, ?it/s]"
     ]
    },
    {
     "name": "stderr",
     "output_type": "stream",
     "text": [
      "\r",
      "100%|██████████████████████████████████████████████████████████| 1/1 [00:08<00:00,  8.13s/it]"
     ]
    },
    {
     "name": "stderr",
     "output_type": "stream",
     "text": [
      "\r",
      "100%|██████████████████████████████████████████████████████████| 1/1 [00:08<00:00,  8.13s/it]"
     ]
    },
    {
     "name": "stderr",
     "output_type": "stream",
     "text": [
      "\n"
     ]
    },
    {
     "name": "stderr",
     "output_type": "stream",
     "text": [
      "\r",
      "  0%|                                                                  | 0/1 [00:00<?, ?it/s]"
     ]
    },
    {
     "name": "stderr",
     "output_type": "stream",
     "text": [
      "\r",
      "100%|██████████████████████████████████████████████████████████| 1/1 [00:08<00:00,  8.14s/it]"
     ]
    },
    {
     "name": "stderr",
     "output_type": "stream",
     "text": [
      "\r",
      "100%|██████████████████████████████████████████████████████████| 1/1 [00:08<00:00,  8.14s/it]"
     ]
    },
    {
     "name": "stderr",
     "output_type": "stream",
     "text": [
      "\n"
     ]
    },
    {
     "name": "stderr",
     "output_type": "stream",
     "text": [
      "\r",
      "  0%|                                                                  | 0/1 [00:00<?, ?it/s]"
     ]
    },
    {
     "name": "stderr",
     "output_type": "stream",
     "text": [
      "\r",
      "100%|██████████████████████████████████████████████████████████| 1/1 [00:08<00:00,  8.82s/it]"
     ]
    },
    {
     "name": "stderr",
     "output_type": "stream",
     "text": [
      "\r",
      "100%|██████████████████████████████████████████████████████████| 1/1 [00:08<00:00,  8.82s/it]"
     ]
    },
    {
     "name": "stderr",
     "output_type": "stream",
     "text": [
      "\n"
     ]
    },
    {
     "name": "stderr",
     "output_type": "stream",
     "text": [
      "\r",
      "  0%|                                                                  | 0/1 [00:00<?, ?it/s]"
     ]
    },
    {
     "name": "stderr",
     "output_type": "stream",
     "text": [
      "\r",
      "100%|██████████████████████████████████████████████████████████| 1/1 [00:03<00:00,  3.43s/it]"
     ]
    },
    {
     "name": "stderr",
     "output_type": "stream",
     "text": [
      "\r",
      "100%|██████████████████████████████████████████████████████████| 1/1 [00:03<00:00,  3.43s/it]"
     ]
    },
    {
     "name": "stderr",
     "output_type": "stream",
     "text": [
      "\n"
     ]
    },
    {
     "name": "stderr",
     "output_type": "stream",
     "text": [
      "{\"message\": \"/users/maximz/anaconda3/envs/cuda-env-py39/lib/python3.9/site-packages/anndata/_core/anndata.py:121: ImplicitModificationWarning: Transforming to str index.\\n  warnings.warn(\\\"Transforming to str index.\\\", ImplicitModificationWarning)\\n\", \"time\": \"2024-01-05T05:35:06.752083\"}\n"
     ]
    },
    {
     "name": "stdout",
     "output_type": "stream",
     "text": [
      "-1 AnnData object with n_obs × n_vars = 37591 × 640\n",
      "    obs: 'rownum', 'TCR BioIdentity', 'TCR Nucleotide Sequence', 'Experiment', 'ORF Coverage', 'Amino Acids', 'Start Index in Genome', 'End Index in Genome', 'source', 'ORF', 'ORF Genebank ID', 'Amino Acid', 'Subject', 'Cell Type', 'Target Type', 'Cohort', 'Age', 'Gender', 'Race', 'HLA-A', 'HLA-A.1', 'HLA-B', 'HLA-B.1', 'HLA-C', 'HLA-C.1', 'DPA1', 'DPA1.1', 'DPB1', 'DPB1.1', 'DQA1', 'DQA1.1', 'DQB1', 'DQB1.1', 'DRB1', 'DRB1.1', 'DRB3', 'DRB3.1', 'DRB4', 'DRB4.1', 'DRB5', 'DRB5.1', 'cdr3_seq_aa_q_trim', 'cdr3_aa_sequence_trim_len', 'v_segment', 'j_segment', 'productive', 'extracted_isotype', 'isotype_supergroup', 'v_gene', 'j_gene', 'cdr1_seq_aa_q', 'cdr2_seq_aa_q', 'cdr1_seq_aa_q_trim', 'cdr2_seq_aa_q_trim', 'v_mut', 'cluster_id_within_clustering_group', 'global_resulting_cluster_ID', 'num_clone_members', 'participant_label', 'specimen_label', 'disease', 'disease_subtype'\n",
      "    uns: 'embedded'\n",
      "    obsm: 'X_pca'\n"
     ]
    }
   ],
   "source": [
    "if GeneLocus.BCR in config.gene_loci_used:\n",
    "    process(gene_locus=GeneLocus.BCR, disease=\"Covid19\", known_binder=True)\n",
    "    process(gene_locus=GeneLocus.BCR, disease=\"Covid19\", known_binder=False)\n",
    "\n",
    "    process(gene_locus=GeneLocus.BCR, disease=\"Influenza\", known_binder=True)\n",
    "\n",
    "if GeneLocus.TCR in config.gene_loci_used:\n",
    "    process(gene_locus=GeneLocus.TCR, disease=\"Covid19\", known_binder=True)"
   ]
  },
  {
   "cell_type": "code",
   "execution_count": null,
   "metadata": {},
   "outputs": [],
   "source": []
  },
  {
   "cell_type": "code",
   "execution_count": null,
   "metadata": {},
   "outputs": [],
   "source": []
  },
  {
   "cell_type": "code",
   "execution_count": null,
   "metadata": {},
   "outputs": [],
   "source": []
  },
  {
   "cell_type": "code",
   "execution_count": null,
   "metadata": {},
   "outputs": [],
   "source": []
  },
  {
   "cell_type": "code",
   "execution_count": null,
   "metadata": {},
   "outputs": [],
   "source": []
  }
 ],
 "metadata": {
  "jupytext": {
   "cell_metadata_filter": "-all"
  },
  "kernelspec": {
   "display_name": "py39-cuda-env",
   "language": "python",
   "name": "py39-cuda-env"
  },
  "language_info": {
   "codemirror_mode": {
    "name": "ipython",
    "version": 3
   },
   "file_extension": ".py",
   "mimetype": "text/x-python",
   "name": "python",
   "nbconvert_exporter": "python",
   "pygments_lexer": "ipython3",
   "version": "3.9.17"
  }
 },
 "nbformat": 4,
 "nbformat_minor": 4
}
