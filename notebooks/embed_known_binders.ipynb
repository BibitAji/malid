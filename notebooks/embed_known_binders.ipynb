{
 "cells": [
  {
   "cell_type": "markdown",
   "metadata": {},
   "source": [
    "# Embed known binder sequences with each fold's fine-tuned language model, and apply existing scaling and PCA transformations\n",
    "\n",
    "See `scripts/off_peak.run_embedding_fine_tuned.and_scale.py`.\n",
    "\n",
    "Recall that we have a separate fine-tuned language model for each train-smaller set. So treat this as an extension of the test set. For each test fold ID, and apply the language model, scaling, and PCA transformations trained on that fold's train-smaller set."
   ]
  },
  {
   "cell_type": "code",
   "execution_count": 1,
   "metadata": {
    "execution": {
     "iopub.execute_input": "2022-12-28T17:35:01.390619Z",
     "iopub.status.busy": "2022-12-28T17:35:01.389553Z",
     "iopub.status.idle": "2022-12-28T17:35:13.710313Z",
     "shell.execute_reply": "2022-12-28T17:35:13.707933Z"
    },
    "tags": []
   },
   "outputs": [],
   "source": [
    "import numpy as np\n",
    "import pandas as pd\n",
    "import joblib\n",
    "import choosegpu\n",
    "from malid import config, apply_embedding, interpretation\n",
    "from malid.datamodels import GeneLocus"
   ]
  },
  {
   "cell_type": "code",
   "execution_count": 2,
   "metadata": {
    "execution": {
     "iopub.execute_input": "2022-12-28T17:35:13.719327Z",
     "iopub.status.busy": "2022-12-28T17:35:13.718590Z",
     "iopub.status.idle": "2022-12-28T17:35:17.676340Z",
     "shell.execute_reply": "2022-12-28T17:35:17.674806Z"
    },
    "tags": []
   },
   "outputs": [
    {
     "data": {
      "text/plain": [
       "['GPU-079f8d58-9984-1b40-b487-b558c5a6393c']"
      ]
     },
     "execution_count": 2,
     "metadata": {},
     "output_type": "execute_result"
    }
   ],
   "source": [
    "# Embed with GPU\n",
    "choosegpu.configure_gpu(enable=True)"
   ]
  },
  {
   "cell_type": "code",
   "execution_count": 3,
   "metadata": {
    "execution": {
     "iopub.execute_input": "2022-12-28T17:35:17.686152Z",
     "iopub.status.busy": "2022-12-28T17:35:17.683773Z",
     "iopub.status.idle": "2022-12-28T17:35:17.695702Z",
     "shell.execute_reply": "2022-12-28T17:35:17.694138Z"
    },
    "tags": []
   },
   "outputs": [
    {
     "data": {
      "text/plain": [
       "'unirep_fine_tuned'"
      ]
     },
     "execution_count": 3,
     "metadata": {},
     "output_type": "execute_result"
    }
   ],
   "source": [
    "config.embedder.name"
   ]
  },
  {
   "cell_type": "code",
   "execution_count": null,
   "metadata": {},
   "outputs": [],
   "source": []
  },
  {
   "cell_type": "code",
   "execution_count": 4,
   "metadata": {
    "execution": {
     "iopub.execute_input": "2022-12-28T17:35:17.702986Z",
     "iopub.status.busy": "2022-12-28T17:35:17.702492Z",
     "iopub.status.idle": "2022-12-28T17:35:17.719674Z",
     "shell.execute_reply": "2022-12-28T17:35:17.718041Z"
    }
   },
   "outputs": [],
   "source": [
    "def process(gene_locus):\n",
    "    print(gene_locus)\n",
    "    GeneLocus.validate_single_value(gene_locus)\n",
    "    df, cluster_centroids_by_supergroup = interpretation.load_reference_dataset(\n",
    "        gene_locus\n",
    "    )\n",
    "    print(df.shape)\n",
    "\n",
    "    # total number of clusters across all data\n",
    "    df[\"global_resulting_cluster_ID\"].nunique()\n",
    "    # a number of sequences were joined into a single cluster\n",
    "    df[\"global_resulting_cluster_ID\"].value_counts()\n",
    "    # how many sequences were merged\n",
    "    (df[\"global_resulting_cluster_ID\"].value_counts() > 1).value_counts()\n",
    "\n",
    "    # choose one entry per cluster\n",
    "    df = df.groupby(\"global_resulting_cluster_ID\").head(n=1).copy()\n",
    "    print(df.shape)\n",
    "\n",
    "    # Note: we don't have v_mut or isotype for CoV-AbDab\n",
    "    if \"isotype_supergroup\" not in df.columns:\n",
    "        df[\"isotype_supergroup\"] = \"IGHG\"\n",
    "    if \"v_mut\" not in df.columns:\n",
    "        df[\"v_mut\"] = 0.0\n",
    "\n",
    "    df[\"participant_label\"] = interpretation.reference_dataset_name[gene_locus]\n",
    "    df[\"specimen_label\"] = interpretation.reference_dataset_name[gene_locus]\n",
    "    df[\"disease\"] = \"Covid19\"\n",
    "    df[\"disease_subtype\"] = \"Covid19 - known binder\"\n",
    "\n",
    "    embedded = {}\n",
    "    for fold_id in config.all_fold_ids:\n",
    "        fold_df = df.copy()\n",
    "        fold_df[\"participant_label\"] += f\"_{fold_id}\"\n",
    "        fold_df[\"specimen_label\"] += f\"_{fold_id}\"\n",
    "\n",
    "        # Make adata\n",
    "        adata = apply_embedding.run_embedding_model(\n",
    "            embedder=apply_embedding.load_embedding_model(\n",
    "                gene_locus=gene_locus, fold_id=fold_id\n",
    "            ),\n",
    "            df=fold_df,\n",
    "            gene_locus=gene_locus,\n",
    "            fold_id=fold_id,\n",
    "        )\n",
    "        adata = apply_embedding.transform_embedded_anndata(\n",
    "            transformations_to_apply=apply_embedding.load_transformations(\n",
    "                gene_locus=gene_locus, fold_id=fold_id\n",
    "            ),\n",
    "            adata=adata,\n",
    "        )\n",
    "\n",
    "        embedded[fold_id] = adata\n",
    "        print(fold_id, adata)\n",
    "\n",
    "    joblib.dump(\n",
    "        embedded,\n",
    "        config.paths.scaled_anndatas_dir\n",
    "        / gene_locus.name\n",
    "        / \"known_binders.embedded.in.all.folds.joblib\",\n",
    "    )"
   ]
  },
  {
   "cell_type": "code",
   "execution_count": null,
   "metadata": {},
   "outputs": [],
   "source": []
  },
  {
   "cell_type": "code",
   "execution_count": 5,
   "metadata": {
    "execution": {
     "iopub.execute_input": "2022-12-28T17:35:17.726498Z",
     "iopub.status.busy": "2022-12-28T17:35:17.725883Z",
     "iopub.status.idle": "2022-12-28T17:42:37.034181Z",
     "shell.execute_reply": "2022-12-28T17:42:37.032191Z"
    }
   },
   "outputs": [
    {
     "name": "stdout",
     "output_type": "stream",
     "text": [
      "GeneLocus.BCR\n"
     ]
    },
    {
     "name": "stdout",
     "output_type": "stream",
     "text": [
      "(6844, 17)\n",
      "(6781, 17)\n"
     ]
    },
    {
     "name": "stderr",
     "output_type": "stream",
     "text": [
      "2022-12-28 17:35:25,404 - absl - INFO - Unable to initialize backend 'tpu_driver': NOT_FOUND: Unable to find driver in registry given worker: \n"
     ]
    },
    {
     "name": "stderr",
     "output_type": "stream",
     "text": [
      "2022-12-28 17:35:29,267 - absl - INFO - Unable to initialize backend 'rocm': NOT_FOUND: Could not find registered platform with name: \"rocm\". Available platform names are: Host Interpreter CUDA\n"
     ]
    },
    {
     "name": "stderr",
     "output_type": "stream",
     "text": [
      "2022-12-28 17:35:29,274 - absl - INFO - Unable to initialize backend 'tpu': module 'jaxlib.xla_extension' has no attribute 'get_tpu_client'\n"
     ]
    },
    {
     "name": "stderr",
     "output_type": "stream",
     "text": [
      "2022-12-28 17:35:30,125 - py.warnings - WARNING - /users/maximz/anaconda3/envs/cuda-env-py39/lib/python3.9/site-packages/jax/experimental/stax.py:28: FutureWarning: jax.experimental.stax is deprecated, import jax.example_libraries.stax instead\n",
      "  warnings.warn('jax.experimental.stax is deprecated, '\n",
      "\n"
     ]
    },
    {
     "name": "stderr",
     "output_type": "stream",
     "text": [
      "2022-12-28 17:35:31,320 - py.warnings - WARNING - /users/maximz/anaconda3/envs/cuda-env-py39/lib/python3.9/site-packages/jax/experimental/optimizers.py:28: FutureWarning: jax.experimental.optimizers is deprecated, import jax.example_libraries.optimizers instead\n",
      "  warnings.warn('jax.experimental.optimizers is deprecated, '\n",
      "\n"
     ]
    },
    {
     "name": "stderr",
     "output_type": "stream",
     "text": [
      "2022-12-28 17:36:07,869 - malid.embedders.unirep - INFO - Finished batch (unirep_fine_tuned)\n"
     ]
    },
    {
     "name": "stderr",
     "output_type": "stream",
     "text": [
      "2022-12-28 17:36:08,022 - py.warnings - WARNING - /users/maximz/anaconda3/envs/cuda-env-py39/lib/python3.9/site-packages/anndata/_core/anndata.py:121: ImplicitModificationWarning: Transforming to str index.\n",
      "  warnings.warn(\"Transforming to str index.\", ImplicitModificationWarning)\n",
      "\n"
     ]
    },
    {
     "name": "stdout",
     "output_type": "stream",
     "text": [
      "0 AnnData object with n_obs × n_vars = 6781 × 1900\n",
      "    obs: 'CDRH3', 'j_gene', 'VHorVHH', 'Binds to', \"Doesn't Bind to\", 'Neutralising Vs', 'Not Neutralising Vs', 'Protein + Epitope', 'Origin', 'cdr3_seq_aa_q_trim', 'cdr3_aa_sequence_trim_len', 'v_gene', 'cdr1_seq_aa_q_trim', 'cdr2_seq_aa_q_trim', 'cluster_id_within_clustering_group', 'global_resulting_cluster_ID', 'num_clone_members', 'isotype_supergroup', 'v_mut', 'participant_label', 'specimen_label', 'disease', 'disease_subtype'\n",
      "    uns: 'embedded', 'embedded_fine_tuned_on_fold_id', 'embedded_fine_tuned_on_gene_locus'\n",
      "    obsm: 'X_pca'\n"
     ]
    },
    {
     "name": "stderr",
     "output_type": "stream",
     "text": [
      "2022-12-28 17:36:23,823 - malid.embedders.unirep - INFO - Finished batch (unirep_fine_tuned)\n"
     ]
    },
    {
     "name": "stderr",
     "output_type": "stream",
     "text": [
      "2022-12-28 17:36:23,979 - py.warnings - WARNING - /users/maximz/anaconda3/envs/cuda-env-py39/lib/python3.9/site-packages/anndata/_core/anndata.py:121: ImplicitModificationWarning: Transforming to str index.\n",
      "  warnings.warn(\"Transforming to str index.\", ImplicitModificationWarning)\n",
      "\n"
     ]
    },
    {
     "name": "stdout",
     "output_type": "stream",
     "text": [
      "1 AnnData object with n_obs × n_vars = 6781 × 1900\n",
      "    obs: 'CDRH3', 'j_gene', 'VHorVHH', 'Binds to', \"Doesn't Bind to\", 'Neutralising Vs', 'Not Neutralising Vs', 'Protein + Epitope', 'Origin', 'cdr3_seq_aa_q_trim', 'cdr3_aa_sequence_trim_len', 'v_gene', 'cdr1_seq_aa_q_trim', 'cdr2_seq_aa_q_trim', 'cluster_id_within_clustering_group', 'global_resulting_cluster_ID', 'num_clone_members', 'isotype_supergroup', 'v_mut', 'participant_label', 'specimen_label', 'disease', 'disease_subtype'\n",
      "    uns: 'embedded', 'embedded_fine_tuned_on_fold_id', 'embedded_fine_tuned_on_gene_locus'\n",
      "    obsm: 'X_pca'\n"
     ]
    },
    {
     "name": "stderr",
     "output_type": "stream",
     "text": [
      "2022-12-28 17:36:40,193 - malid.embedders.unirep - INFO - Finished batch (unirep_fine_tuned)\n"
     ]
    },
    {
     "name": "stderr",
     "output_type": "stream",
     "text": [
      "2022-12-28 17:36:40,348 - py.warnings - WARNING - /users/maximz/anaconda3/envs/cuda-env-py39/lib/python3.9/site-packages/anndata/_core/anndata.py:121: ImplicitModificationWarning: Transforming to str index.\n",
      "  warnings.warn(\"Transforming to str index.\", ImplicitModificationWarning)\n",
      "\n"
     ]
    },
    {
     "name": "stdout",
     "output_type": "stream",
     "text": [
      "2 AnnData object with n_obs × n_vars = 6781 × 1900\n",
      "    obs: 'CDRH3', 'j_gene', 'VHorVHH', 'Binds to', \"Doesn't Bind to\", 'Neutralising Vs', 'Not Neutralising Vs', 'Protein + Epitope', 'Origin', 'cdr3_seq_aa_q_trim', 'cdr3_aa_sequence_trim_len', 'v_gene', 'cdr1_seq_aa_q_trim', 'cdr2_seq_aa_q_trim', 'cluster_id_within_clustering_group', 'global_resulting_cluster_ID', 'num_clone_members', 'isotype_supergroup', 'v_mut', 'participant_label', 'specimen_label', 'disease', 'disease_subtype'\n",
      "    uns: 'embedded', 'embedded_fine_tuned_on_fold_id', 'embedded_fine_tuned_on_gene_locus'\n",
      "    obsm: 'X_pca'\n"
     ]
    },
    {
     "name": "stderr",
     "output_type": "stream",
     "text": [
      "2022-12-28 17:36:56,512 - malid.embedders.unirep - INFO - Finished batch (unirep_fine_tuned)\n"
     ]
    },
    {
     "name": "stderr",
     "output_type": "stream",
     "text": [
      "2022-12-28 17:36:56,666 - py.warnings - WARNING - /users/maximz/anaconda3/envs/cuda-env-py39/lib/python3.9/site-packages/anndata/_core/anndata.py:121: ImplicitModificationWarning: Transforming to str index.\n",
      "  warnings.warn(\"Transforming to str index.\", ImplicitModificationWarning)\n",
      "\n"
     ]
    },
    {
     "name": "stdout",
     "output_type": "stream",
     "text": [
      "-1 AnnData object with n_obs × n_vars = 6781 × 1900\n",
      "    obs: 'CDRH3', 'j_gene', 'VHorVHH', 'Binds to', \"Doesn't Bind to\", 'Neutralising Vs', 'Not Neutralising Vs', 'Protein + Epitope', 'Origin', 'cdr3_seq_aa_q_trim', 'cdr3_aa_sequence_trim_len', 'v_gene', 'cdr1_seq_aa_q_trim', 'cdr2_seq_aa_q_trim', 'cluster_id_within_clustering_group', 'global_resulting_cluster_ID', 'num_clone_members', 'isotype_supergroup', 'v_mut', 'participant_label', 'specimen_label', 'disease', 'disease_subtype'\n",
      "    uns: 'embedded', 'embedded_fine_tuned_on_fold_id', 'embedded_fine_tuned_on_gene_locus'\n",
      "    obsm: 'X_pca'\n"
     ]
    },
    {
     "name": "stdout",
     "output_type": "stream",
     "text": [
      "GeneLocus.TCR\n"
     ]
    },
    {
     "name": "stderr",
     "output_type": "stream",
     "text": [
      "2022-12-28 17:37:11,205 - py.warnings - WARNING - /users/maximz/code/boyd-immune-repertoire-classification/malid/interpretation.py:2031: DtypeWarning: Columns (18,36,38) have mixed types. Specify dtype option on import or set low_memory=False.\n",
      "  train_sequences_df = pd.read_csv(\n",
      "\n"
     ]
    },
    {
     "name": "stdout",
     "output_type": "stream",
     "text": [
      "(37591, 58)\n",
      "(37591, 58)\n"
     ]
    },
    {
     "name": "stderr",
     "output_type": "stream",
     "text": [
      "2022-12-28 17:37:44,220 - malid.embedders.unirep - INFO - Finished batch (unirep_fine_tuned)\n"
     ]
    },
    {
     "name": "stderr",
     "output_type": "stream",
     "text": [
      "2022-12-28 17:38:07,089 - malid.embedders.unirep - INFO - Finished batch (unirep_fine_tuned)\n"
     ]
    },
    {
     "name": "stderr",
     "output_type": "stream",
     "text": [
      "2022-12-28 17:38:29,099 - malid.embedders.unirep - INFO - Finished batch (unirep_fine_tuned)\n"
     ]
    },
    {
     "name": "stderr",
     "output_type": "stream",
     "text": [
      "2022-12-28 17:38:48,491 - malid.embedders.unirep - INFO - Finished batch (unirep_fine_tuned)\n"
     ]
    },
    {
     "name": "stderr",
     "output_type": "stream",
     "text": [
      "2022-12-28 17:38:49,466 - py.warnings - WARNING - /users/maximz/anaconda3/envs/cuda-env-py39/lib/python3.9/site-packages/anndata/_core/anndata.py:121: ImplicitModificationWarning: Transforming to str index.\n",
      "  warnings.warn(\"Transforming to str index.\", ImplicitModificationWarning)\n",
      "\n"
     ]
    },
    {
     "name": "stdout",
     "output_type": "stream",
     "text": [
      "0 AnnData object with n_obs × n_vars = 37591 × 1900\n",
      "    obs: 'rownum', 'TCR BioIdentity', 'TCR Nucleotide Sequence', 'Experiment', 'ORF Coverage', 'Amino Acids', 'Start Index in Genome', 'End Index in Genome', 'source', 'ORF', 'ORF Genebank ID', 'Amino Acid', 'Subject', 'Cell Type', 'Target Type', 'Cohort', 'Age', 'Gender', 'Race', 'HLA-A', 'HLA-A.1', 'HLA-B', 'HLA-B.1', 'HLA-C', 'HLA-C.1', 'DPA1', 'DPA1.1', 'DPB1', 'DPB1.1', 'DQA1', 'DQA1.1', 'DQB1', 'DQB1.1', 'DRB1', 'DRB1.1', 'DRB3', 'DRB3.1', 'DRB4', 'DRB4.1', 'DRB5', 'DRB5.1', 'cdr3_seq_aa_q_trim', 'cdr3_aa_sequence_trim_len', 'v_segment', 'j_segment', 'productive', 'extracted_isotype', 'isotype_supergroup', 'v_gene', 'j_gene', 'cdr1_seq_aa_q', 'cdr2_seq_aa_q', 'cdr1_seq_aa_q_trim', 'cdr2_seq_aa_q_trim', 'v_mut', 'cluster_id_within_clustering_group', 'global_resulting_cluster_ID', 'num_clone_members', 'participant_label', 'specimen_label', 'disease', 'disease_subtype'\n",
      "    uns: 'embedded', 'embedded_fine_tuned_on_fold_id', 'embedded_fine_tuned_on_gene_locus'\n",
      "    obsm: 'X_pca'\n"
     ]
    },
    {
     "name": "stderr",
     "output_type": "stream",
     "text": [
      "2022-12-28 17:39:05,877 - malid.embedders.unirep - INFO - Finished batch (unirep_fine_tuned)\n"
     ]
    },
    {
     "name": "stderr",
     "output_type": "stream",
     "text": [
      "2022-12-28 17:39:16,117 - malid.embedders.unirep - INFO - Finished batch (unirep_fine_tuned)\n"
     ]
    },
    {
     "name": "stderr",
     "output_type": "stream",
     "text": [
      "2022-12-28 17:39:26,309 - malid.embedders.unirep - INFO - Finished batch (unirep_fine_tuned)\n"
     ]
    },
    {
     "name": "stderr",
     "output_type": "stream",
     "text": [
      "2022-12-28 17:39:35,855 - malid.embedders.unirep - INFO - Finished batch (unirep_fine_tuned)\n"
     ]
    },
    {
     "name": "stderr",
     "output_type": "stream",
     "text": [
      "2022-12-28 17:39:36,780 - py.warnings - WARNING - /users/maximz/anaconda3/envs/cuda-env-py39/lib/python3.9/site-packages/anndata/_core/anndata.py:121: ImplicitModificationWarning: Transforming to str index.\n",
      "  warnings.warn(\"Transforming to str index.\", ImplicitModificationWarning)\n",
      "\n"
     ]
    },
    {
     "name": "stdout",
     "output_type": "stream",
     "text": [
      "1 AnnData object with n_obs × n_vars = 37591 × 1900\n",
      "    obs: 'rownum', 'TCR BioIdentity', 'TCR Nucleotide Sequence', 'Experiment', 'ORF Coverage', 'Amino Acids', 'Start Index in Genome', 'End Index in Genome', 'source', 'ORF', 'ORF Genebank ID', 'Amino Acid', 'Subject', 'Cell Type', 'Target Type', 'Cohort', 'Age', 'Gender', 'Race', 'HLA-A', 'HLA-A.1', 'HLA-B', 'HLA-B.1', 'HLA-C', 'HLA-C.1', 'DPA1', 'DPA1.1', 'DPB1', 'DPB1.1', 'DQA1', 'DQA1.1', 'DQB1', 'DQB1.1', 'DRB1', 'DRB1.1', 'DRB3', 'DRB3.1', 'DRB4', 'DRB4.1', 'DRB5', 'DRB5.1', 'cdr3_seq_aa_q_trim', 'cdr3_aa_sequence_trim_len', 'v_segment', 'j_segment', 'productive', 'extracted_isotype', 'isotype_supergroup', 'v_gene', 'j_gene', 'cdr1_seq_aa_q', 'cdr2_seq_aa_q', 'cdr1_seq_aa_q_trim', 'cdr2_seq_aa_q_trim', 'v_mut', 'cluster_id_within_clustering_group', 'global_resulting_cluster_ID', 'num_clone_members', 'participant_label', 'specimen_label', 'disease', 'disease_subtype'\n",
      "    uns: 'embedded', 'embedded_fine_tuned_on_fold_id', 'embedded_fine_tuned_on_gene_locus'\n",
      "    obsm: 'X_pca'\n"
     ]
    },
    {
     "name": "stderr",
     "output_type": "stream",
     "text": [
      "2022-12-28 17:39:52,086 - malid.embedders.unirep - INFO - Finished batch (unirep_fine_tuned)\n"
     ]
    },
    {
     "name": "stderr",
     "output_type": "stream",
     "text": [
      "2022-12-28 17:40:02,313 - malid.embedders.unirep - INFO - Finished batch (unirep_fine_tuned)\n"
     ]
    },
    {
     "name": "stderr",
     "output_type": "stream",
     "text": [
      "2022-12-28 17:40:12,611 - malid.embedders.unirep - INFO - Finished batch (unirep_fine_tuned)\n"
     ]
    },
    {
     "name": "stderr",
     "output_type": "stream",
     "text": [
      "2022-12-28 17:40:21,992 - malid.embedders.unirep - INFO - Finished batch (unirep_fine_tuned)\n"
     ]
    },
    {
     "name": "stderr",
     "output_type": "stream",
     "text": [
      "2022-12-28 17:40:22,917 - py.warnings - WARNING - /users/maximz/anaconda3/envs/cuda-env-py39/lib/python3.9/site-packages/anndata/_core/anndata.py:121: ImplicitModificationWarning: Transforming to str index.\n",
      "  warnings.warn(\"Transforming to str index.\", ImplicitModificationWarning)\n",
      "\n"
     ]
    },
    {
     "name": "stdout",
     "output_type": "stream",
     "text": [
      "2 AnnData object with n_obs × n_vars = 37591 × 1900\n",
      "    obs: 'rownum', 'TCR BioIdentity', 'TCR Nucleotide Sequence', 'Experiment', 'ORF Coverage', 'Amino Acids', 'Start Index in Genome', 'End Index in Genome', 'source', 'ORF', 'ORF Genebank ID', 'Amino Acid', 'Subject', 'Cell Type', 'Target Type', 'Cohort', 'Age', 'Gender', 'Race', 'HLA-A', 'HLA-A.1', 'HLA-B', 'HLA-B.1', 'HLA-C', 'HLA-C.1', 'DPA1', 'DPA1.1', 'DPB1', 'DPB1.1', 'DQA1', 'DQA1.1', 'DQB1', 'DQB1.1', 'DRB1', 'DRB1.1', 'DRB3', 'DRB3.1', 'DRB4', 'DRB4.1', 'DRB5', 'DRB5.1', 'cdr3_seq_aa_q_trim', 'cdr3_aa_sequence_trim_len', 'v_segment', 'j_segment', 'productive', 'extracted_isotype', 'isotype_supergroup', 'v_gene', 'j_gene', 'cdr1_seq_aa_q', 'cdr2_seq_aa_q', 'cdr1_seq_aa_q_trim', 'cdr2_seq_aa_q_trim', 'v_mut', 'cluster_id_within_clustering_group', 'global_resulting_cluster_ID', 'num_clone_members', 'participant_label', 'specimen_label', 'disease', 'disease_subtype'\n",
      "    uns: 'embedded', 'embedded_fine_tuned_on_fold_id', 'embedded_fine_tuned_on_gene_locus'\n",
      "    obsm: 'X_pca'\n"
     ]
    },
    {
     "name": "stderr",
     "output_type": "stream",
     "text": [
      "2022-12-28 17:40:38,215 - malid.embedders.unirep - INFO - Finished batch (unirep_fine_tuned)\n"
     ]
    },
    {
     "name": "stderr",
     "output_type": "stream",
     "text": [
      "2022-12-28 17:40:48,713 - malid.embedders.unirep - INFO - Finished batch (unirep_fine_tuned)\n"
     ]
    },
    {
     "name": "stderr",
     "output_type": "stream",
     "text": [
      "2022-12-28 17:40:59,027 - malid.embedders.unirep - INFO - Finished batch (unirep_fine_tuned)\n"
     ]
    },
    {
     "name": "stderr",
     "output_type": "stream",
     "text": [
      "2022-12-28 17:41:08,891 - malid.embedders.unirep - INFO - Finished batch (unirep_fine_tuned)\n"
     ]
    },
    {
     "name": "stderr",
     "output_type": "stream",
     "text": [
      "2022-12-28 17:41:09,803 - py.warnings - WARNING - /users/maximz/anaconda3/envs/cuda-env-py39/lib/python3.9/site-packages/anndata/_core/anndata.py:121: ImplicitModificationWarning: Transforming to str index.\n",
      "  warnings.warn(\"Transforming to str index.\", ImplicitModificationWarning)\n",
      "\n"
     ]
    },
    {
     "name": "stdout",
     "output_type": "stream",
     "text": [
      "-1 AnnData object with n_obs × n_vars = 37591 × 1900\n",
      "    obs: 'rownum', 'TCR BioIdentity', 'TCR Nucleotide Sequence', 'Experiment', 'ORF Coverage', 'Amino Acids', 'Start Index in Genome', 'End Index in Genome', 'source', 'ORF', 'ORF Genebank ID', 'Amino Acid', 'Subject', 'Cell Type', 'Target Type', 'Cohort', 'Age', 'Gender', 'Race', 'HLA-A', 'HLA-A.1', 'HLA-B', 'HLA-B.1', 'HLA-C', 'HLA-C.1', 'DPA1', 'DPA1.1', 'DPB1', 'DPB1.1', 'DQA1', 'DQA1.1', 'DQB1', 'DQB1.1', 'DRB1', 'DRB1.1', 'DRB3', 'DRB3.1', 'DRB4', 'DRB4.1', 'DRB5', 'DRB5.1', 'cdr3_seq_aa_q_trim', 'cdr3_aa_sequence_trim_len', 'v_segment', 'j_segment', 'productive', 'extracted_isotype', 'isotype_supergroup', 'v_gene', 'j_gene', 'cdr1_seq_aa_q', 'cdr2_seq_aa_q', 'cdr1_seq_aa_q_trim', 'cdr2_seq_aa_q_trim', 'v_mut', 'cluster_id_within_clustering_group', 'global_resulting_cluster_ID', 'num_clone_members', 'participant_label', 'specimen_label', 'disease', 'disease_subtype'\n",
      "    uns: 'embedded', 'embedded_fine_tuned_on_fold_id', 'embedded_fine_tuned_on_gene_locus'\n",
      "    obsm: 'X_pca'\n"
     ]
    }
   ],
   "source": [
    "for gene_locus in config.gene_loci_used:\n",
    "    process(gene_locus)"
   ]
  },
  {
   "cell_type": "code",
   "execution_count": null,
   "metadata": {},
   "outputs": [],
   "source": []
  },
  {
   "cell_type": "code",
   "execution_count": null,
   "metadata": {},
   "outputs": [],
   "source": []
  },
  {
   "cell_type": "code",
   "execution_count": null,
   "metadata": {},
   "outputs": [],
   "source": []
  },
  {
   "cell_type": "code",
   "execution_count": null,
   "metadata": {},
   "outputs": [],
   "source": []
  },
  {
   "cell_type": "code",
   "execution_count": null,
   "metadata": {},
   "outputs": [],
   "source": []
  }
 ],
 "metadata": {
  "jupytext": {
   "cell_metadata_filter": "-all"
  },
  "kernelspec": {
   "display_name": "py39-cuda-env",
   "language": "python",
   "name": "py39-cuda-env"
  },
  "language_info": {
   "codemirror_mode": {
    "name": "ipython",
    "version": 3
   },
   "file_extension": ".py",
   "mimetype": "text/x-python",
   "name": "python",
   "nbconvert_exporter": "python",
   "pygments_lexer": "ipython3",
   "version": "3.9.13"
  }
 },
 "nbformat": 4,
 "nbformat_minor": 4
}
