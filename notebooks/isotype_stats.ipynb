{
 "cells": [
  {
   "cell_type": "code",
   "execution_count": 1,
   "metadata": {
    "execution": {
     "iopub.execute_input": "2022-12-26T07:04:58.399754Z",
     "iopub.status.busy": "2022-12-26T07:04:58.399085Z",
     "iopub.status.idle": "2022-12-26T07:05:09.082686Z",
     "shell.execute_reply": "2022-12-26T07:05:09.079946Z"
    }
   },
   "outputs": [],
   "source": [
    "import numpy as np\n",
    "import pandas as pd\n",
    "\n",
    "from malid import io\n",
    "from malid import config, helpers\n",
    "import gc\n",
    "import joblib\n",
    "from kdict import kdict\n",
    "import itertools"
   ]
  },
  {
   "cell_type": "code",
   "execution_count": 2,
   "metadata": {
    "execution": {
     "iopub.execute_input": "2022-12-26T07:05:09.091671Z",
     "iopub.status.busy": "2022-12-26T07:05:09.090974Z",
     "iopub.status.idle": "2022-12-26T07:05:09.151951Z",
     "shell.execute_reply": "2022-12-26T07:05:09.149570Z"
    }
   },
   "outputs": [],
   "source": [
    "import matplotlib.pyplot as plt\n",
    "\n",
    "%matplotlib inline\n",
    "import seaborn as sns\n",
    "\n",
    "from malid.datamodels import GeneLocus, TargetObsColumnEnum"
   ]
  },
  {
   "cell_type": "code",
   "execution_count": null,
   "metadata": {},
   "outputs": [],
   "source": []
  },
  {
   "cell_type": "markdown",
   "metadata": {},
   "source": [
    "# Isotype counts overall by disease cohort. BCR only."
   ]
  },
  {
   "cell_type": "code",
   "execution_count": 3,
   "metadata": {
    "execution": {
     "iopub.execute_input": "2022-12-26T07:05:09.160324Z",
     "iopub.status.busy": "2022-12-26T07:05:09.159683Z",
     "iopub.status.idle": "2022-12-26T07:05:09.170240Z",
     "shell.execute_reply": "2022-12-26T07:05:09.167887Z"
    }
   },
   "outputs": [],
   "source": [
    "fold_labels = [\"train_smaller\", \"validation\", \"test\"]"
   ]
  },
  {
   "cell_type": "code",
   "execution_count": null,
   "metadata": {},
   "outputs": [],
   "source": []
  },
  {
   "cell_type": "code",
   "execution_count": 4,
   "metadata": {
    "execution": {
     "iopub.execute_input": "2022-12-26T07:05:09.178364Z",
     "iopub.status.busy": "2022-12-26T07:05:09.177694Z",
     "iopub.status.idle": "2022-12-26T08:32:16.784685Z",
     "shell.execute_reply": "2022-12-26T08:32:16.783180Z"
    }
   },
   "outputs": [
    {
     "name": "stderr",
     "output_type": "stream",
     "text": [
      "2022-12-26 07:05:09,234 - malid.external.scratch_cache - INFO - Caching network file to local machine cache: /users/maximz/code/boyd-immune-repertoire-classification/data/data_v_20221224/embedded/unirep_fine_tuned/anndatas_scaled/BCR/fold.0.train_smaller.h5ad -> /srv/scratch/maximz/cache/7f04f4bafb0ade43dcc30c658cb88992fd0cd5728e955bb146f9115a.0.train_smaller.h5ad\n"
     ]
    },
    {
     "name": "stdout",
     "output_type": "stream",
     "text": [
      "WARNING: Your filename has more than two extensions: ['.0', '.train_smaller', '.h5ad'].\n",
      "Only considering the two last: ['.train_smaller', '.h5ad'].\n"
     ]
    },
    {
     "name": "stdout",
     "output_type": "stream",
     "text": [
      "WARNING: Your filename has more than two extensions: ['.0', '.train_smaller', '.h5ad'].\n",
      "Only considering the two last: ['.train_smaller', '.h5ad'].\n"
     ]
    },
    {
     "name": "stderr",
     "output_type": "stream",
     "text": [
      "2022-12-26 07:14:13,650 - malid.helpers - WARNING - Not marking any sequences as confident_sequence because those annotations weren't found: [Errno 2] No such file or directory: '/users/maximz/code/boyd-immune-repertoire-classification/data/data_v_20221224/embedded/unirep_fine_tuned/anndatas_scaled/BCR/neighborhoods/knn_neighborhood.0.train_smaller.IGHG.embedded_onto.train_smaller.combined_data.filtered.tsv.gz'\n"
     ]
    },
    {
     "name": "stderr",
     "output_type": "stream",
     "text": [
      "2022-12-26 07:14:42,622 - malid.external.scratch_cache - INFO - Caching network file to local machine cache: /users/maximz/code/boyd-immune-repertoire-classification/data/data_v_20221224/embedded/unirep_fine_tuned/anndatas_scaled/BCR/fold.0.validation.h5ad -> /srv/scratch/maximz/cache/1a7cd102c4a71eb472da3636203a91984ec407adbc0812ffba2c07c5.0.validation.h5ad\n"
     ]
    },
    {
     "name": "stdout",
     "output_type": "stream",
     "text": [
      "WARNING: Your filename has more than two extensions: ['.0', '.validation', '.h5ad'].\n",
      "Only considering the two last: ['.validation', '.h5ad'].\n"
     ]
    },
    {
     "name": "stdout",
     "output_type": "stream",
     "text": [
      "WARNING: Your filename has more than two extensions: ['.0', '.validation', '.h5ad'].\n",
      "Only considering the two last: ['.validation', '.h5ad'].\n"
     ]
    },
    {
     "name": "stderr",
     "output_type": "stream",
     "text": [
      "2022-12-26 07:19:08,305 - malid.helpers - WARNING - Not marking any sequences as confident_sequence because those annotations weren't found: [Errno 2] No such file or directory: '/users/maximz/code/boyd-immune-repertoire-classification/data/data_v_20221224/embedded/unirep_fine_tuned/anndatas_scaled/BCR/neighborhoods/knn_neighborhood.0.validation.IGHG.embedded_onto.train_smaller.combined_data.filtered.tsv.gz'\n"
     ]
    },
    {
     "name": "stderr",
     "output_type": "stream",
     "text": [
      "2022-12-26 07:19:26,285 - malid.external.scratch_cache - INFO - Caching network file to local machine cache: /users/maximz/code/boyd-immune-repertoire-classification/data/data_v_20221224/embedded/unirep_fine_tuned/anndatas_scaled/BCR/fold.0.test.h5ad -> /srv/scratch/maximz/cache/d23bdbcb1cb8d1c3007da595727fbbab8cc86779ab8967868314f2da.0.test.h5ad\n"
     ]
    },
    {
     "name": "stdout",
     "output_type": "stream",
     "text": [
      "WARNING: Your filename has more than two extensions: ['.0', '.test', '.h5ad'].\n",
      "Only considering the two last: ['.test', '.h5ad'].\n"
     ]
    },
    {
     "name": "stdout",
     "output_type": "stream",
     "text": [
      "WARNING: Your filename has more than two extensions: ['.0', '.test', '.h5ad'].\n",
      "Only considering the two last: ['.test', '.h5ad'].\n"
     ]
    },
    {
     "name": "stderr",
     "output_type": "stream",
     "text": [
      "2022-12-26 07:26:21,629 - malid.helpers - WARNING - Not marking any sequences as confident_sequence because those annotations weren't found: [Errno 2] No such file or directory: '/users/maximz/code/boyd-immune-repertoire-classification/data/data_v_20221224/embedded/unirep_fine_tuned/anndatas_scaled/BCR/neighborhoods/knn_neighborhood.0.test.IGHG.embedded_onto.train_smaller.combined_data.filtered.tsv.gz'\n"
     ]
    },
    {
     "name": "stderr",
     "output_type": "stream",
     "text": [
      "2022-12-26 07:26:46,893 - malid.external.scratch_cache - INFO - Caching network file to local machine cache: /users/maximz/code/boyd-immune-repertoire-classification/data/data_v_20221224/embedded/unirep_fine_tuned/anndatas_scaled/BCR/fold.1.train_smaller.h5ad -> /srv/scratch/maximz/cache/4110bb3aa0fb718bb62fede8d6a704d8165d8d6bc349377491f87944.1.train_smaller.h5ad\n"
     ]
    },
    {
     "name": "stdout",
     "output_type": "stream",
     "text": [
      "WARNING: Your filename has more than two extensions: ['.1', '.train_smaller', '.h5ad'].\n",
      "Only considering the two last: ['.train_smaller', '.h5ad'].\n"
     ]
    },
    {
     "name": "stdout",
     "output_type": "stream",
     "text": [
      "WARNING: Your filename has more than two extensions: ['.1', '.train_smaller', '.h5ad'].\n",
      "Only considering the two last: ['.train_smaller', '.h5ad'].\n"
     ]
    },
    {
     "name": "stderr",
     "output_type": "stream",
     "text": [
      "2022-12-26 07:37:21,995 - malid.helpers - WARNING - Not marking any sequences as confident_sequence because those annotations weren't found: [Errno 2] No such file or directory: '/users/maximz/code/boyd-immune-repertoire-classification/data/data_v_20221224/embedded/unirep_fine_tuned/anndatas_scaled/BCR/neighborhoods/knn_neighborhood.1.train_smaller.IGHG.embedded_onto.train_smaller.combined_data.filtered.tsv.gz'\n"
     ]
    },
    {
     "name": "stderr",
     "output_type": "stream",
     "text": [
      "2022-12-26 07:37:57,567 - malid.external.scratch_cache - INFO - Caching network file to local machine cache: /users/maximz/code/boyd-immune-repertoire-classification/data/data_v_20221224/embedded/unirep_fine_tuned/anndatas_scaled/BCR/fold.1.validation.h5ad -> /srv/scratch/maximz/cache/9c85c2a266a883a684e8c5d509b8321d4689380ae1339b1d3a20c9e8.1.validation.h5ad\n"
     ]
    },
    {
     "name": "stdout",
     "output_type": "stream",
     "text": [
      "WARNING: Your filename has more than two extensions: ['.1', '.validation', '.h5ad'].\n",
      "Only considering the two last: ['.validation', '.h5ad'].\n"
     ]
    },
    {
     "name": "stdout",
     "output_type": "stream",
     "text": [
      "WARNING: Your filename has more than two extensions: ['.1', '.validation', '.h5ad'].\n",
      "Only considering the two last: ['.validation', '.h5ad'].\n"
     ]
    },
    {
     "name": "stderr",
     "output_type": "stream",
     "text": [
      "2022-12-26 07:42:12,968 - malid.helpers - WARNING - Not marking any sequences as confident_sequence because those annotations weren't found: [Errno 2] No such file or directory: '/users/maximz/code/boyd-immune-repertoire-classification/data/data_v_20221224/embedded/unirep_fine_tuned/anndatas_scaled/BCR/neighborhoods/knn_neighborhood.1.validation.IGHG.embedded_onto.train_smaller.combined_data.filtered.tsv.gz'\n"
     ]
    },
    {
     "name": "stderr",
     "output_type": "stream",
     "text": [
      "2022-12-26 07:42:26,270 - malid.external.scratch_cache - INFO - Caching network file to local machine cache: /users/maximz/code/boyd-immune-repertoire-classification/data/data_v_20221224/embedded/unirep_fine_tuned/anndatas_scaled/BCR/fold.1.test.h5ad -> /srv/scratch/maximz/cache/ed1f2608e168c24c508b6bfbbe3a18ba1a4680e5c010e34cd184cae6.1.test.h5ad\n"
     ]
    },
    {
     "name": "stdout",
     "output_type": "stream",
     "text": [
      "WARNING: Your filename has more than two extensions: ['.1', '.test', '.h5ad'].\n",
      "Only considering the two last: ['.test', '.h5ad'].\n"
     ]
    },
    {
     "name": "stdout",
     "output_type": "stream",
     "text": [
      "WARNING: Your filename has more than two extensions: ['.1', '.test', '.h5ad'].\n",
      "Only considering the two last: ['.test', '.h5ad'].\n"
     ]
    },
    {
     "name": "stderr",
     "output_type": "stream",
     "text": [
      "2022-12-26 07:48:48,447 - malid.helpers - WARNING - Not marking any sequences as confident_sequence because those annotations weren't found: [Errno 2] No such file or directory: '/users/maximz/code/boyd-immune-repertoire-classification/data/data_v_20221224/embedded/unirep_fine_tuned/anndatas_scaled/BCR/neighborhoods/knn_neighborhood.1.test.IGHG.embedded_onto.train_smaller.combined_data.filtered.tsv.gz'\n"
     ]
    },
    {
     "name": "stderr",
     "output_type": "stream",
     "text": [
      "2022-12-26 07:49:07,928 - malid.external.scratch_cache - INFO - Caching network file to local machine cache: /users/maximz/code/boyd-immune-repertoire-classification/data/data_v_20221224/embedded/unirep_fine_tuned/anndatas_scaled/BCR/fold.2.train_smaller.h5ad -> /srv/scratch/maximz/cache/578e6ec41823516592527ab2d5010994f0b640e6b5c16cfd655e655d.2.train_smaller.h5ad\n"
     ]
    },
    {
     "name": "stdout",
     "output_type": "stream",
     "text": [
      "WARNING: Your filename has more than two extensions: ['.2', '.train_smaller', '.h5ad'].\n",
      "Only considering the two last: ['.train_smaller', '.h5ad'].\n"
     ]
    },
    {
     "name": "stdout",
     "output_type": "stream",
     "text": [
      "WARNING: Your filename has more than two extensions: ['.2', '.train_smaller', '.h5ad'].\n",
      "Only considering the two last: ['.train_smaller', '.h5ad'].\n"
     ]
    },
    {
     "name": "stderr",
     "output_type": "stream",
     "text": [
      "2022-12-26 07:58:12,137 - malid.helpers - WARNING - Not marking any sequences as confident_sequence because those annotations weren't found: [Errno 2] No such file or directory: '/users/maximz/code/boyd-immune-repertoire-classification/data/data_v_20221224/embedded/unirep_fine_tuned/anndatas_scaled/BCR/neighborhoods/knn_neighborhood.2.train_smaller.IGHG.embedded_onto.train_smaller.combined_data.filtered.tsv.gz'\n"
     ]
    },
    {
     "name": "stderr",
     "output_type": "stream",
     "text": [
      "2022-12-26 07:58:41,795 - malid.external.scratch_cache - INFO - Caching network file to local machine cache: /users/maximz/code/boyd-immune-repertoire-classification/data/data_v_20221224/embedded/unirep_fine_tuned/anndatas_scaled/BCR/fold.2.validation.h5ad -> /srv/scratch/maximz/cache/08c1068072d49c0e446bca7b2515cc6904c1583e869886f65b95c2db.2.validation.h5ad\n"
     ]
    },
    {
     "name": "stdout",
     "output_type": "stream",
     "text": [
      "WARNING: Your filename has more than two extensions: ['.2', '.validation', '.h5ad'].\n",
      "Only considering the two last: ['.validation', '.h5ad'].\n"
     ]
    },
    {
     "name": "stdout",
     "output_type": "stream",
     "text": [
      "WARNING: Your filename has more than two extensions: ['.2', '.validation', '.h5ad'].\n",
      "Only considering the two last: ['.validation', '.h5ad'].\n"
     ]
    },
    {
     "name": "stderr",
     "output_type": "stream",
     "text": [
      "2022-12-26 08:03:15,501 - malid.helpers - WARNING - Not marking any sequences as confident_sequence because those annotations weren't found: [Errno 2] No such file or directory: '/users/maximz/code/boyd-immune-repertoire-classification/data/data_v_20221224/embedded/unirep_fine_tuned/anndatas_scaled/BCR/neighborhoods/knn_neighborhood.2.validation.IGHG.embedded_onto.train_smaller.combined_data.filtered.tsv.gz'\n"
     ]
    },
    {
     "name": "stderr",
     "output_type": "stream",
     "text": [
      "2022-12-26 08:03:30,730 - malid.external.scratch_cache - INFO - Caching network file to local machine cache: /users/maximz/code/boyd-immune-repertoire-classification/data/data_v_20221224/embedded/unirep_fine_tuned/anndatas_scaled/BCR/fold.2.test.h5ad -> /srv/scratch/maximz/cache/83dcd409138574af7b7b712ce14967e926c14170bff7801b141edb49.2.test.h5ad\n"
     ]
    },
    {
     "name": "stdout",
     "output_type": "stream",
     "text": [
      "WARNING: Your filename has more than two extensions: ['.2', '.test', '.h5ad'].\n",
      "Only considering the two last: ['.test', '.h5ad'].\n"
     ]
    },
    {
     "name": "stdout",
     "output_type": "stream",
     "text": [
      "WARNING: Your filename has more than two extensions: ['.2', '.test', '.h5ad'].\n",
      "Only considering the two last: ['.test', '.h5ad'].\n"
     ]
    },
    {
     "name": "stderr",
     "output_type": "stream",
     "text": [
      "2022-12-26 08:09:51,120 - malid.helpers - WARNING - Not marking any sequences as confident_sequence because those annotations weren't found: [Errno 2] No such file or directory: '/users/maximz/code/boyd-immune-repertoire-classification/data/data_v_20221224/embedded/unirep_fine_tuned/anndatas_scaled/BCR/neighborhoods/knn_neighborhood.2.test.IGHG.embedded_onto.train_smaller.combined_data.filtered.tsv.gz'\n"
     ]
    },
    {
     "name": "stderr",
     "output_type": "stream",
     "text": [
      "2022-12-26 08:10:10,594 - malid.external.scratch_cache - INFO - Caching network file to local machine cache: /users/maximz/code/boyd-immune-repertoire-classification/data/data_v_20221224/embedded/unirep_fine_tuned/anndatas_scaled/BCR/fold.-1.train_smaller.h5ad -> /srv/scratch/maximz/cache/8cc5401fe377b72196e57b3b224e0e2f08d9ec61f1d5638f4c1dc03c.-1.train_smaller.h5ad\n"
     ]
    },
    {
     "name": "stdout",
     "output_type": "stream",
     "text": [
      "WARNING: Your filename has more than two extensions: ['.-1', '.train_smaller', '.h5ad'].\n",
      "Only considering the two last: ['.train_smaller', '.h5ad'].\n"
     ]
    },
    {
     "name": "stdout",
     "output_type": "stream",
     "text": [
      "WARNING: Your filename has more than two extensions: ['.-1', '.train_smaller', '.h5ad'].\n",
      "Only considering the two last: ['.train_smaller', '.h5ad'].\n"
     ]
    },
    {
     "name": "stderr",
     "output_type": "stream",
     "text": [
      "2022-12-26 08:24:18,619 - malid.helpers - WARNING - Not marking any sequences as confident_sequence because those annotations weren't found: [Errno 2] No such file or directory: '/users/maximz/code/boyd-immune-repertoire-classification/data/data_v_20221224/embedded/unirep_fine_tuned/anndatas_scaled/BCR/neighborhoods/knn_neighborhood.-1.train_smaller.IGHG.embedded_onto.train_smaller.combined_data.filtered.tsv.gz'\n"
     ]
    },
    {
     "name": "stderr",
     "output_type": "stream",
     "text": [
      "2022-12-26 08:25:05,740 - malid.external.scratch_cache - INFO - Caching network file to local machine cache: /users/maximz/code/boyd-immune-repertoire-classification/data/data_v_20221224/embedded/unirep_fine_tuned/anndatas_scaled/BCR/fold.-1.validation.h5ad -> /srv/scratch/maximz/cache/d12efe0f72cdefa66ff3f9089960fc16b89c64c2837b4b81d55fb8ed.-1.validation.h5ad\n"
     ]
    },
    {
     "name": "stdout",
     "output_type": "stream",
     "text": [
      "WARNING: Your filename has more than two extensions: ['.-1', '.validation', '.h5ad'].\n",
      "Only considering the two last: ['.validation', '.h5ad'].\n"
     ]
    },
    {
     "name": "stdout",
     "output_type": "stream",
     "text": [
      "WARNING: Your filename has more than two extensions: ['.-1', '.validation', '.h5ad'].\n",
      "Only considering the two last: ['.validation', '.h5ad'].\n"
     ]
    },
    {
     "name": "stderr",
     "output_type": "stream",
     "text": [
      "2022-12-26 08:31:54,435 - malid.helpers - WARNING - Not marking any sequences as confident_sequence because those annotations weren't found: [Errno 2] No such file or directory: '/users/maximz/code/boyd-immune-repertoire-classification/data/data_v_20221224/embedded/unirep_fine_tuned/anndatas_scaled/BCR/neighborhoods/knn_neighborhood.-1.validation.IGHG.embedded_onto.train_smaller.combined_data.filtered.tsv.gz'\n"
     ]
    }
   ],
   "source": [
    "specimen_isotype_counts = []\n",
    "for fold_id in config.all_fold_ids:\n",
    "    for fold_label in fold_labels:\n",
    "        if fold_id == -1 and fold_label == \"test\":\n",
    "            # skip: global fold does not have a test set\n",
    "            continue\n",
    "        adata = io.load_fold_embeddings(\n",
    "            fold_id=fold_id,\n",
    "            fold_label=fold_label,\n",
    "            gene_locus=GeneLocus.BCR,\n",
    "            target_obs_column=TargetObsColumnEnum.disease,\n",
    "            load_isotype_counts_per_specimen=False,  # because not created yet - gets created here!\n",
    "        )\n",
    "        df = adata.obs\n",
    "        for specimen_label, subset_obs in adata.obs.groupby(\n",
    "            \"specimen_label\", observed=True\n",
    "        ):\n",
    "            # get value counts, but first defensively cast to categorical and remove any unused categories — so we don't mark 0 counts for filtered out isotypes.\n",
    "            isotype_counts = (\n",
    "                subset_obs[\"isotype_supergroup\"]\n",
    "                .astype(\"category\")\n",
    "                .cat.remove_unused_categories()\n",
    "                .value_counts()\n",
    "            )\n",
    "            specimen_description = subset_obs[[\"specimen_label\", \"disease\"]].iloc[0]\n",
    "            specimen_isotype_counts.append(\n",
    "                {\n",
    "                    \"fold_id\": fold_id,\n",
    "                    \"fold_label\": fold_label,\n",
    "                    **isotype_counts.to_dict(),\n",
    "                    **specimen_description.to_dict(),\n",
    "                }\n",
    "            )\n",
    "\n",
    "        del df, adata\n",
    "        io.clear_cached_fold_embeddings()\n",
    "        gc.collect()"
   ]
  },
  {
   "cell_type": "code",
   "execution_count": 5,
   "metadata": {
    "execution": {
     "iopub.execute_input": "2022-12-26T08:32:16.792008Z",
     "iopub.status.busy": "2022-12-26T08:32:16.791832Z",
     "iopub.status.idle": "2022-12-26T08:32:16.799424Z",
     "shell.execute_reply": "2022-12-26T08:32:16.798631Z"
    }
   },
   "outputs": [
    {
     "data": {
      "text/plain": [
       "{'fold_id': 0,\n",
       " 'fold_label': 'train_smaller',\n",
       " 'IGHD-M': 53999,\n",
       " 'IGHG': 9154,\n",
       " 'IGHA': 4751,\n",
       " 'specimen_label': 'M111-S001',\n",
       " 'disease': 'HIV'}"
      ]
     },
     "execution_count": 5,
     "metadata": {},
     "output_type": "execute_result"
    }
   ],
   "source": [
    "specimen_isotype_counts[0]"
   ]
  },
  {
   "cell_type": "code",
   "execution_count": 6,
   "metadata": {
    "execution": {
     "iopub.execute_input": "2022-12-26T08:32:16.806831Z",
     "iopub.status.busy": "2022-12-26T08:32:16.806632Z",
     "iopub.status.idle": "2022-12-26T08:32:16.835480Z",
     "shell.execute_reply": "2022-12-26T08:32:16.834536Z"
    }
   },
   "outputs": [
    {
     "data": {
      "text/html": [
       "<div>\n",
       "<style scoped>\n",
       "    .dataframe tbody tr th:only-of-type {\n",
       "        vertical-align: middle;\n",
       "    }\n",
       "\n",
       "    .dataframe tbody tr th {\n",
       "        vertical-align: top;\n",
       "    }\n",
       "\n",
       "    .dataframe thead th {\n",
       "        text-align: right;\n",
       "    }\n",
       "</style>\n",
       "<table border=\"1\" class=\"dataframe\">\n",
       "  <thead>\n",
       "    <tr style=\"text-align: right;\">\n",
       "      <th></th>\n",
       "      <th>fold_id</th>\n",
       "      <th>fold_label</th>\n",
       "      <th>IGHD-M</th>\n",
       "      <th>IGHG</th>\n",
       "      <th>IGHA</th>\n",
       "      <th>specimen_label</th>\n",
       "      <th>disease</th>\n",
       "    </tr>\n",
       "  </thead>\n",
       "  <tbody>\n",
       "    <tr>\n",
       "      <th>0</th>\n",
       "      <td>0</td>\n",
       "      <td>train_smaller</td>\n",
       "      <td>53999</td>\n",
       "      <td>9154</td>\n",
       "      <td>4751</td>\n",
       "      <td>M111-S001</td>\n",
       "      <td>HIV</td>\n",
       "    </tr>\n",
       "    <tr>\n",
       "      <th>1</th>\n",
       "      <td>0</td>\n",
       "      <td>train_smaller</td>\n",
       "      <td>38514</td>\n",
       "      <td>17285</td>\n",
       "      <td>9502</td>\n",
       "      <td>M111-S002</td>\n",
       "      <td>HIV</td>\n",
       "    </tr>\n",
       "    <tr>\n",
       "      <th>2</th>\n",
       "      <td>0</td>\n",
       "      <td>train_smaller</td>\n",
       "      <td>30153</td>\n",
       "      <td>6332</td>\n",
       "      <td>4936</td>\n",
       "      <td>M111-S006</td>\n",
       "      <td>HIV</td>\n",
       "    </tr>\n",
       "    <tr>\n",
       "      <th>3</th>\n",
       "      <td>0</td>\n",
       "      <td>train_smaller</td>\n",
       "      <td>39525</td>\n",
       "      <td>6422</td>\n",
       "      <td>5790</td>\n",
       "      <td>M111-S008</td>\n",
       "      <td>HIV</td>\n",
       "    </tr>\n",
       "    <tr>\n",
       "      <th>4</th>\n",
       "      <td>0</td>\n",
       "      <td>train_smaller</td>\n",
       "      <td>20014</td>\n",
       "      <td>12135</td>\n",
       "      <td>12747</td>\n",
       "      <td>M111-S010</td>\n",
       "      <td>HIV</td>\n",
       "    </tr>\n",
       "    <tr>\n",
       "      <th>...</th>\n",
       "      <td>...</td>\n",
       "      <td>...</td>\n",
       "      <td>...</td>\n",
       "      <td>...</td>\n",
       "      <td>...</td>\n",
       "      <td>...</td>\n",
       "      <td>...</td>\n",
       "    </tr>\n",
       "    <tr>\n",
       "      <th>1915</th>\n",
       "      <td>-1</td>\n",
       "      <td>validation</td>\n",
       "      <td>128196</td>\n",
       "      <td>9530</td>\n",
       "      <td>14112</td>\n",
       "      <td>M64-105</td>\n",
       "      <td>Healthy/Background</td>\n",
       "    </tr>\n",
       "    <tr>\n",
       "      <th>1916</th>\n",
       "      <td>-1</td>\n",
       "      <td>validation</td>\n",
       "      <td>30967</td>\n",
       "      <td>1288</td>\n",
       "      <td>3054</td>\n",
       "      <td>M64-107</td>\n",
       "      <td>Healthy/Background</td>\n",
       "    </tr>\n",
       "    <tr>\n",
       "      <th>1917</th>\n",
       "      <td>-1</td>\n",
       "      <td>validation</td>\n",
       "      <td>47644</td>\n",
       "      <td>3234</td>\n",
       "      <td>7800</td>\n",
       "      <td>M64-108</td>\n",
       "      <td>Healthy/Background</td>\n",
       "    </tr>\n",
       "    <tr>\n",
       "      <th>1918</th>\n",
       "      <td>-1</td>\n",
       "      <td>validation</td>\n",
       "      <td>35653</td>\n",
       "      <td>4493</td>\n",
       "      <td>3835</td>\n",
       "      <td>M64-110</td>\n",
       "      <td>Healthy/Background</td>\n",
       "    </tr>\n",
       "    <tr>\n",
       "      <th>1919</th>\n",
       "      <td>-1</td>\n",
       "      <td>validation</td>\n",
       "      <td>19256</td>\n",
       "      <td>695</td>\n",
       "      <td>1529</td>\n",
       "      <td>M64-112</td>\n",
       "      <td>Healthy/Background</td>\n",
       "    </tr>\n",
       "  </tbody>\n",
       "</table>\n",
       "<p>1920 rows × 7 columns</p>\n",
       "</div>"
      ],
      "text/plain": [
       "      fold_id     fold_label  IGHD-M   IGHG   IGHA specimen_label  \\\n",
       "0           0  train_smaller   53999   9154   4751      M111-S001   \n",
       "1           0  train_smaller   38514  17285   9502      M111-S002   \n",
       "2           0  train_smaller   30153   6332   4936      M111-S006   \n",
       "3           0  train_smaller   39525   6422   5790      M111-S008   \n",
       "4           0  train_smaller   20014  12135  12747      M111-S010   \n",
       "...       ...            ...     ...    ...    ...            ...   \n",
       "1915       -1     validation  128196   9530  14112        M64-105   \n",
       "1916       -1     validation   30967   1288   3054        M64-107   \n",
       "1917       -1     validation   47644   3234   7800        M64-108   \n",
       "1918       -1     validation   35653   4493   3835        M64-110   \n",
       "1919       -1     validation   19256    695   1529        M64-112   \n",
       "\n",
       "                 disease  \n",
       "0                    HIV  \n",
       "1                    HIV  \n",
       "2                    HIV  \n",
       "3                    HIV  \n",
       "4                    HIV  \n",
       "...                  ...  \n",
       "1915  Healthy/Background  \n",
       "1916  Healthy/Background  \n",
       "1917  Healthy/Background  \n",
       "1918  Healthy/Background  \n",
       "1919  Healthy/Background  \n",
       "\n",
       "[1920 rows x 7 columns]"
      ]
     },
     "execution_count": 6,
     "metadata": {},
     "output_type": "execute_result"
    }
   ],
   "source": [
    "specimen_isotype_counts_df = pd.DataFrame(specimen_isotype_counts)\n",
    "specimen_isotype_counts_df"
   ]
  },
  {
   "cell_type": "code",
   "execution_count": 7,
   "metadata": {
    "execution": {
     "iopub.execute_input": "2022-12-26T08:32:16.841103Z",
     "iopub.status.busy": "2022-12-26T08:32:16.840767Z",
     "iopub.status.idle": "2022-12-26T08:32:16.870177Z",
     "shell.execute_reply": "2022-12-26T08:32:16.868780Z"
    }
   },
   "outputs": [],
   "source": [
    "# export\n",
    "specimen_isotype_counts_df.to_csv(\n",
    "    config.paths.dataset_specific_metadata / \"isotype_counts_by_specimen.tsv\",\n",
    "    sep=\"\\t\",\n",
    "    index=None,\n",
    ")"
   ]
  },
  {
   "cell_type": "code",
   "execution_count": null,
   "metadata": {},
   "outputs": [],
   "source": []
  },
  {
   "cell_type": "code",
   "execution_count": null,
   "metadata": {},
   "outputs": [],
   "source": []
  },
  {
   "cell_type": "code",
   "execution_count": 8,
   "metadata": {
    "execution": {
     "iopub.execute_input": "2022-12-26T08:32:16.877602Z",
     "iopub.status.busy": "2022-12-26T08:32:16.877047Z",
     "iopub.status.idle": "2022-12-26T08:32:16.911602Z",
     "shell.execute_reply": "2022-12-26T08:32:16.909878Z"
    }
   },
   "outputs": [
    {
     "data": {
      "text/html": [
       "<div>\n",
       "<style scoped>\n",
       "    .dataframe tbody tr th:only-of-type {\n",
       "        vertical-align: middle;\n",
       "    }\n",
       "\n",
       "    .dataframe tbody tr th {\n",
       "        vertical-align: top;\n",
       "    }\n",
       "\n",
       "    .dataframe thead th {\n",
       "        text-align: right;\n",
       "    }\n",
       "</style>\n",
       "<table border=\"1\" class=\"dataframe\">\n",
       "  <thead>\n",
       "    <tr style=\"text-align: right;\">\n",
       "      <th></th>\n",
       "      <th>fold_id</th>\n",
       "      <th>fold_label</th>\n",
       "      <th>IGHD-M</th>\n",
       "      <th>IGHG</th>\n",
       "      <th>IGHA</th>\n",
       "      <th>specimen_label</th>\n",
       "      <th>disease</th>\n",
       "    </tr>\n",
       "  </thead>\n",
       "  <tbody>\n",
       "    <tr>\n",
       "      <th>0</th>\n",
       "      <td>0</td>\n",
       "      <td>train_smaller</td>\n",
       "      <td>53999</td>\n",
       "      <td>9154</td>\n",
       "      <td>4751</td>\n",
       "      <td>M111-S001</td>\n",
       "      <td>HIV</td>\n",
       "    </tr>\n",
       "    <tr>\n",
       "      <th>1</th>\n",
       "      <td>0</td>\n",
       "      <td>train_smaller</td>\n",
       "      <td>38514</td>\n",
       "      <td>17285</td>\n",
       "      <td>9502</td>\n",
       "      <td>M111-S002</td>\n",
       "      <td>HIV</td>\n",
       "    </tr>\n",
       "    <tr>\n",
       "      <th>2</th>\n",
       "      <td>0</td>\n",
       "      <td>train_smaller</td>\n",
       "      <td>30153</td>\n",
       "      <td>6332</td>\n",
       "      <td>4936</td>\n",
       "      <td>M111-S006</td>\n",
       "      <td>HIV</td>\n",
       "    </tr>\n",
       "    <tr>\n",
       "      <th>3</th>\n",
       "      <td>0</td>\n",
       "      <td>train_smaller</td>\n",
       "      <td>39525</td>\n",
       "      <td>6422</td>\n",
       "      <td>5790</td>\n",
       "      <td>M111-S008</td>\n",
       "      <td>HIV</td>\n",
       "    </tr>\n",
       "    <tr>\n",
       "      <th>4</th>\n",
       "      <td>0</td>\n",
       "      <td>train_smaller</td>\n",
       "      <td>20014</td>\n",
       "      <td>12135</td>\n",
       "      <td>12747</td>\n",
       "      <td>M111-S010</td>\n",
       "      <td>HIV</td>\n",
       "    </tr>\n",
       "    <tr>\n",
       "      <th>...</th>\n",
       "      <td>...</td>\n",
       "      <td>...</td>\n",
       "      <td>...</td>\n",
       "      <td>...</td>\n",
       "      <td>...</td>\n",
       "      <td>...</td>\n",
       "      <td>...</td>\n",
       "    </tr>\n",
       "    <tr>\n",
       "      <th>1915</th>\n",
       "      <td>-1</td>\n",
       "      <td>validation</td>\n",
       "      <td>128196</td>\n",
       "      <td>9530</td>\n",
       "      <td>14112</td>\n",
       "      <td>M64-105</td>\n",
       "      <td>Healthy/Background</td>\n",
       "    </tr>\n",
       "    <tr>\n",
       "      <th>1916</th>\n",
       "      <td>-1</td>\n",
       "      <td>validation</td>\n",
       "      <td>30967</td>\n",
       "      <td>1288</td>\n",
       "      <td>3054</td>\n",
       "      <td>M64-107</td>\n",
       "      <td>Healthy/Background</td>\n",
       "    </tr>\n",
       "    <tr>\n",
       "      <th>1917</th>\n",
       "      <td>-1</td>\n",
       "      <td>validation</td>\n",
       "      <td>47644</td>\n",
       "      <td>3234</td>\n",
       "      <td>7800</td>\n",
       "      <td>M64-108</td>\n",
       "      <td>Healthy/Background</td>\n",
       "    </tr>\n",
       "    <tr>\n",
       "      <th>1918</th>\n",
       "      <td>-1</td>\n",
       "      <td>validation</td>\n",
       "      <td>35653</td>\n",
       "      <td>4493</td>\n",
       "      <td>3835</td>\n",
       "      <td>M64-110</td>\n",
       "      <td>Healthy/Background</td>\n",
       "    </tr>\n",
       "    <tr>\n",
       "      <th>1919</th>\n",
       "      <td>-1</td>\n",
       "      <td>validation</td>\n",
       "      <td>19256</td>\n",
       "      <td>695</td>\n",
       "      <td>1529</td>\n",
       "      <td>M64-112</td>\n",
       "      <td>Healthy/Background</td>\n",
       "    </tr>\n",
       "  </tbody>\n",
       "</table>\n",
       "<p>1920 rows × 7 columns</p>\n",
       "</div>"
      ],
      "text/plain": [
       "      fold_id     fold_label  IGHD-M   IGHG   IGHA specimen_label  \\\n",
       "0           0  train_smaller   53999   9154   4751      M111-S001   \n",
       "1           0  train_smaller   38514  17285   9502      M111-S002   \n",
       "2           0  train_smaller   30153   6332   4936      M111-S006   \n",
       "3           0  train_smaller   39525   6422   5790      M111-S008   \n",
       "4           0  train_smaller   20014  12135  12747      M111-S010   \n",
       "...       ...            ...     ...    ...    ...            ...   \n",
       "1915       -1     validation  128196   9530  14112        M64-105   \n",
       "1916       -1     validation   30967   1288   3054        M64-107   \n",
       "1917       -1     validation   47644   3234   7800        M64-108   \n",
       "1918       -1     validation   35653   4493   3835        M64-110   \n",
       "1919       -1     validation   19256    695   1529        M64-112   \n",
       "\n",
       "                 disease  \n",
       "0                    HIV  \n",
       "1                    HIV  \n",
       "2                    HIV  \n",
       "3                    HIV  \n",
       "4                    HIV  \n",
       "...                  ...  \n",
       "1915  Healthy/Background  \n",
       "1916  Healthy/Background  \n",
       "1917  Healthy/Background  \n",
       "1918  Healthy/Background  \n",
       "1919  Healthy/Background  \n",
       "\n",
       "[1920 rows x 7 columns]"
      ]
     },
     "execution_count": 8,
     "metadata": {},
     "output_type": "execute_result"
    }
   ],
   "source": [
    "# reimport (start here if resuming)\n",
    "specimen_isotype_counts_df = pd.read_csv(\n",
    "    config.paths.dataset_specific_metadata / \"isotype_counts_by_specimen.tsv\", sep=\"\\t\"\n",
    ")\n",
    "specimen_isotype_counts_df"
   ]
  },
  {
   "cell_type": "code",
   "execution_count": null,
   "metadata": {},
   "outputs": [],
   "source": []
  },
  {
   "cell_type": "code",
   "execution_count": 9,
   "metadata": {
    "execution": {
     "iopub.execute_input": "2022-12-26T08:32:16.917948Z",
     "iopub.status.busy": "2022-12-26T08:32:16.917566Z",
     "iopub.status.idle": "2022-12-26T08:32:16.930020Z",
     "shell.execute_reply": "2022-12-26T08:32:16.928826Z"
    }
   },
   "outputs": [],
   "source": [
    "specimen_isotype_counts_df.sort_values(\n",
    "    [\"fold_id\", \"fold_label\", \"disease\", \"specimen_label\"], inplace=True\n",
    ")"
   ]
  },
  {
   "cell_type": "code",
   "execution_count": null,
   "metadata": {},
   "outputs": [],
   "source": []
  },
  {
   "cell_type": "code",
   "execution_count": 10,
   "metadata": {
    "execution": {
     "iopub.execute_input": "2022-12-26T08:32:16.936779Z",
     "iopub.status.busy": "2022-12-26T08:32:16.936290Z",
     "iopub.status.idle": "2022-12-26T08:32:16.964421Z",
     "shell.execute_reply": "2022-12-26T08:32:16.963003Z"
    }
   },
   "outputs": [
    {
     "data": {
      "text/html": [
       "<div>\n",
       "<style scoped>\n",
       "    .dataframe tbody tr th:only-of-type {\n",
       "        vertical-align: middle;\n",
       "    }\n",
       "\n",
       "    .dataframe tbody tr th {\n",
       "        vertical-align: top;\n",
       "    }\n",
       "\n",
       "    .dataframe thead th {\n",
       "        text-align: right;\n",
       "    }\n",
       "</style>\n",
       "<table border=\"1\" class=\"dataframe\">\n",
       "  <thead>\n",
       "    <tr style=\"text-align: right;\">\n",
       "      <th></th>\n",
       "      <th>IGHD-M</th>\n",
       "      <th>IGHG</th>\n",
       "      <th>IGHA</th>\n",
       "      <th>disease</th>\n",
       "    </tr>\n",
       "    <tr>\n",
       "      <th>specimen_label</th>\n",
       "      <th></th>\n",
       "      <th></th>\n",
       "      <th></th>\n",
       "      <th></th>\n",
       "    </tr>\n",
       "  </thead>\n",
       "  <tbody>\n",
       "    <tr>\n",
       "      <th>M369-S001</th>\n",
       "      <td>32383</td>\n",
       "      <td>12530</td>\n",
       "      <td>11143</td>\n",
       "      <td>Covid19</td>\n",
       "    </tr>\n",
       "    <tr>\n",
       "      <th>M371-S004</th>\n",
       "      <td>2212</td>\n",
       "      <td>984</td>\n",
       "      <td>580</td>\n",
       "      <td>Covid19</td>\n",
       "    </tr>\n",
       "    <tr>\n",
       "      <th>M371-S015</th>\n",
       "      <td>25565</td>\n",
       "      <td>8945</td>\n",
       "      <td>6210</td>\n",
       "      <td>Covid19</td>\n",
       "    </tr>\n",
       "    <tr>\n",
       "      <th>M371-S023</th>\n",
       "      <td>13921</td>\n",
       "      <td>2943</td>\n",
       "      <td>6705</td>\n",
       "      <td>Covid19</td>\n",
       "    </tr>\n",
       "    <tr>\n",
       "      <th>M371-S028</th>\n",
       "      <td>8690</td>\n",
       "      <td>2427</td>\n",
       "      <td>3131</td>\n",
       "      <td>Covid19</td>\n",
       "    </tr>\n",
       "    <tr>\n",
       "      <th>...</th>\n",
       "      <td>...</td>\n",
       "      <td>...</td>\n",
       "      <td>...</td>\n",
       "      <td>...</td>\n",
       "    </tr>\n",
       "    <tr>\n",
       "      <th>M454-S035</th>\n",
       "      <td>24390</td>\n",
       "      <td>1409</td>\n",
       "      <td>3027</td>\n",
       "      <td>Lupus</td>\n",
       "    </tr>\n",
       "    <tr>\n",
       "      <th>M454-S060</th>\n",
       "      <td>12987</td>\n",
       "      <td>285</td>\n",
       "      <td>2211</td>\n",
       "      <td>Lupus</td>\n",
       "    </tr>\n",
       "    <tr>\n",
       "      <th>M456-S001</th>\n",
       "      <td>22161</td>\n",
       "      <td>1003</td>\n",
       "      <td>3957</td>\n",
       "      <td>Lupus</td>\n",
       "    </tr>\n",
       "    <tr>\n",
       "      <th>M456-S002</th>\n",
       "      <td>49238</td>\n",
       "      <td>11361</td>\n",
       "      <td>13982</td>\n",
       "      <td>Lupus</td>\n",
       "    </tr>\n",
       "    <tr>\n",
       "      <th>M456-S006</th>\n",
       "      <td>1506</td>\n",
       "      <td>2855</td>\n",
       "      <td>5816</td>\n",
       "      <td>Lupus</td>\n",
       "    </tr>\n",
       "  </tbody>\n",
       "</table>\n",
       "<p>480 rows × 4 columns</p>\n",
       "</div>"
      ],
      "text/plain": [
       "                IGHD-M   IGHG   IGHA  disease\n",
       "specimen_label                               \n",
       "M369-S001        32383  12530  11143  Covid19\n",
       "M371-S004         2212    984    580  Covid19\n",
       "M371-S015        25565   8945   6210  Covid19\n",
       "M371-S023        13921   2943   6705  Covid19\n",
       "M371-S028         8690   2427   3131  Covid19\n",
       "...                ...    ...    ...      ...\n",
       "M454-S035        24390   1409   3027    Lupus\n",
       "M454-S060        12987    285   2211    Lupus\n",
       "M456-S001        22161   1003   3957    Lupus\n",
       "M456-S002        49238  11361  13982    Lupus\n",
       "M456-S006         1506   2855   5816    Lupus\n",
       "\n",
       "[480 rows x 4 columns]"
      ]
     },
     "execution_count": 10,
     "metadata": {},
     "output_type": "execute_result"
    }
   ],
   "source": [
    "# subselect to test folds only, and set index\n",
    "specimen_isotype_counts_df_test_only = specimen_isotype_counts_df[\n",
    "    specimen_isotype_counts_df[\"fold_label\"] == \"test\"\n",
    "]\n",
    "# confirm only one entry per specimen now\n",
    "assert not specimen_isotype_counts_df_test_only[\"specimen_label\"].duplicated().any()\n",
    "specimen_isotype_counts_df_test_only = specimen_isotype_counts_df_test_only.set_index(\n",
    "    \"specimen_label\"\n",
    ").drop([\"fold_id\", \"fold_label\"], axis=1)\n",
    "specimen_isotype_counts_df_test_only"
   ]
  },
  {
   "cell_type": "code",
   "execution_count": 11,
   "metadata": {
    "execution": {
     "iopub.execute_input": "2022-12-26T08:32:16.971375Z",
     "iopub.status.busy": "2022-12-26T08:32:16.970732Z",
     "iopub.status.idle": "2022-12-26T08:32:16.994966Z",
     "shell.execute_reply": "2022-12-26T08:32:16.992411Z"
    }
   },
   "outputs": [
    {
     "data": {
      "text/html": [
       "<div>\n",
       "<style scoped>\n",
       "    .dataframe tbody tr th:only-of-type {\n",
       "        vertical-align: middle;\n",
       "    }\n",
       "\n",
       "    .dataframe tbody tr th {\n",
       "        vertical-align: top;\n",
       "    }\n",
       "\n",
       "    .dataframe thead th {\n",
       "        text-align: right;\n",
       "    }\n",
       "</style>\n",
       "<table border=\"1\" class=\"dataframe\">\n",
       "  <thead>\n",
       "    <tr style=\"text-align: right;\">\n",
       "      <th></th>\n",
       "      <th>IGHD-M</th>\n",
       "      <th>IGHG</th>\n",
       "      <th>IGHA</th>\n",
       "    </tr>\n",
       "    <tr>\n",
       "      <th>disease</th>\n",
       "      <th></th>\n",
       "      <th></th>\n",
       "      <th></th>\n",
       "    </tr>\n",
       "  </thead>\n",
       "  <tbody>\n",
       "    <tr>\n",
       "      <th>Covid19</th>\n",
       "      <td>564136</td>\n",
       "      <td>227603</td>\n",
       "      <td>144554</td>\n",
       "    </tr>\n",
       "    <tr>\n",
       "      <th>HIV</th>\n",
       "      <td>1619180</td>\n",
       "      <td>665588</td>\n",
       "      <td>477996</td>\n",
       "    </tr>\n",
       "    <tr>\n",
       "      <th>Healthy/Background</th>\n",
       "      <td>5660308</td>\n",
       "      <td>706235</td>\n",
       "      <td>950002</td>\n",
       "    </tr>\n",
       "    <tr>\n",
       "      <th>Lupus</th>\n",
       "      <td>1777864</td>\n",
       "      <td>916200</td>\n",
       "      <td>666068</td>\n",
       "    </tr>\n",
       "  </tbody>\n",
       "</table>\n",
       "</div>"
      ],
      "text/plain": [
       "                     IGHD-M    IGHG    IGHA\n",
       "disease                                    \n",
       "Covid19              564136  227603  144554\n",
       "HIV                 1619180  665588  477996\n",
       "Healthy/Background  5660308  706235  950002\n",
       "Lupus               1777864  916200  666068"
      ]
     },
     "execution_count": 11,
     "metadata": {},
     "output_type": "execute_result"
    }
   ],
   "source": [
    "# option 1: for each disease, sum across all specimens. plot totals\n",
    "specimen_isotype_counts_df_test_only.groupby(\"disease\").sum()"
   ]
  },
  {
   "cell_type": "code",
   "execution_count": 12,
   "metadata": {
    "execution": {
     "iopub.execute_input": "2022-12-26T08:32:17.002077Z",
     "iopub.status.busy": "2022-12-26T08:32:17.001530Z",
     "iopub.status.idle": "2022-12-26T08:32:17.031209Z",
     "shell.execute_reply": "2022-12-26T08:32:17.029339Z"
    }
   },
   "outputs": [
    {
     "data": {
      "text/html": [
       "<div>\n",
       "<style scoped>\n",
       "    .dataframe tbody tr th:only-of-type {\n",
       "        vertical-align: middle;\n",
       "    }\n",
       "\n",
       "    .dataframe tbody tr th {\n",
       "        vertical-align: top;\n",
       "    }\n",
       "\n",
       "    .dataframe thead th {\n",
       "        text-align: right;\n",
       "    }\n",
       "</style>\n",
       "<table border=\"1\" class=\"dataframe\">\n",
       "  <thead>\n",
       "    <tr style=\"text-align: right;\">\n",
       "      <th></th>\n",
       "      <th>disease</th>\n",
       "      <th>variable</th>\n",
       "      <th>value</th>\n",
       "    </tr>\n",
       "  </thead>\n",
       "  <tbody>\n",
       "    <tr>\n",
       "      <th>0</th>\n",
       "      <td>Covid19</td>\n",
       "      <td>IGHD-M</td>\n",
       "      <td>564136</td>\n",
       "    </tr>\n",
       "    <tr>\n",
       "      <th>1</th>\n",
       "      <td>HIV</td>\n",
       "      <td>IGHD-M</td>\n",
       "      <td>1619180</td>\n",
       "    </tr>\n",
       "    <tr>\n",
       "      <th>2</th>\n",
       "      <td>Healthy/Background</td>\n",
       "      <td>IGHD-M</td>\n",
       "      <td>5660308</td>\n",
       "    </tr>\n",
       "    <tr>\n",
       "      <th>3</th>\n",
       "      <td>Lupus</td>\n",
       "      <td>IGHD-M</td>\n",
       "      <td>1777864</td>\n",
       "    </tr>\n",
       "    <tr>\n",
       "      <th>4</th>\n",
       "      <td>Covid19</td>\n",
       "      <td>IGHA</td>\n",
       "      <td>144554</td>\n",
       "    </tr>\n",
       "    <tr>\n",
       "      <th>5</th>\n",
       "      <td>HIV</td>\n",
       "      <td>IGHA</td>\n",
       "      <td>477996</td>\n",
       "    </tr>\n",
       "    <tr>\n",
       "      <th>6</th>\n",
       "      <td>Healthy/Background</td>\n",
       "      <td>IGHA</td>\n",
       "      <td>950002</td>\n",
       "    </tr>\n",
       "    <tr>\n",
       "      <th>7</th>\n",
       "      <td>Lupus</td>\n",
       "      <td>IGHA</td>\n",
       "      <td>666068</td>\n",
       "    </tr>\n",
       "    <tr>\n",
       "      <th>8</th>\n",
       "      <td>Covid19</td>\n",
       "      <td>IGHG</td>\n",
       "      <td>227603</td>\n",
       "    </tr>\n",
       "    <tr>\n",
       "      <th>9</th>\n",
       "      <td>HIV</td>\n",
       "      <td>IGHG</td>\n",
       "      <td>665588</td>\n",
       "    </tr>\n",
       "    <tr>\n",
       "      <th>10</th>\n",
       "      <td>Healthy/Background</td>\n",
       "      <td>IGHG</td>\n",
       "      <td>706235</td>\n",
       "    </tr>\n",
       "    <tr>\n",
       "      <th>11</th>\n",
       "      <td>Lupus</td>\n",
       "      <td>IGHG</td>\n",
       "      <td>916200</td>\n",
       "    </tr>\n",
       "  </tbody>\n",
       "</table>\n",
       "</div>"
      ],
      "text/plain": [
       "               disease variable    value\n",
       "0              Covid19   IGHD-M   564136\n",
       "1                  HIV   IGHD-M  1619180\n",
       "2   Healthy/Background   IGHD-M  5660308\n",
       "3                Lupus   IGHD-M  1777864\n",
       "4              Covid19     IGHA   144554\n",
       "5                  HIV     IGHA   477996\n",
       "6   Healthy/Background     IGHA   950002\n",
       "7                Lupus     IGHA   666068\n",
       "8              Covid19     IGHG   227603\n",
       "9                  HIV     IGHG   665588\n",
       "10  Healthy/Background     IGHG   706235\n",
       "11               Lupus     IGHG   916200"
      ]
     },
     "execution_count": 12,
     "metadata": {},
     "output_type": "execute_result"
    }
   ],
   "source": [
    "pd.melt(\n",
    "    specimen_isotype_counts_df_test_only.groupby(\"disease\").sum().reset_index(),\n",
    "    id_vars=[\"disease\"],\n",
    "    value_vars=[\"IGHD-M\", \"IGHA\", \"IGHG\"],\n",
    ")"
   ]
  },
  {
   "cell_type": "code",
   "execution_count": 13,
   "metadata": {
    "execution": {
     "iopub.execute_input": "2022-12-26T08:32:17.038064Z",
     "iopub.status.busy": "2022-12-26T08:32:17.037504Z",
     "iopub.status.idle": "2022-12-26T08:32:17.252151Z",
     "shell.execute_reply": "2022-12-26T08:32:17.251204Z"
    }
   },
   "outputs": [
    {
     "data": {
      "text/plain": [
       "<AxesSubplot:xlabel='disease', ylabel='value'>"
      ]
     },
     "execution_count": 13,
     "metadata": {},
     "output_type": "execute_result"
    },
    {
     "data": {
      "image/png": "[encoded data removed]",
      "text/plain": [
       "<Figure size 432x288 with 1 Axes>"
      ]
     },
     "metadata": {
      "needs_background": "light"
     },
     "output_type": "display_data"
    }
   ],
   "source": [
    "sns.barplot(\n",
    "    data=pd.melt(\n",
    "        specimen_isotype_counts_df_test_only.groupby(\"disease\").sum().reset_index(),\n",
    "        id_vars=[\"disease\"],\n",
    "        value_vars=[\"IGHD-M\", \"IGHA\", \"IGHG\"],\n",
    "    ),\n",
    "    x=\"disease\",\n",
    "    y=\"value\",\n",
    "    hue=\"variable\",\n",
    ")"
   ]
  },
  {
   "cell_type": "code",
   "execution_count": null,
   "metadata": {},
   "outputs": [],
   "source": []
  },
  {
   "cell_type": "code",
   "execution_count": 14,
   "metadata": {
    "execution": {
     "iopub.execute_input": "2022-12-26T08:32:17.271849Z",
     "iopub.status.busy": "2022-12-26T08:32:17.271566Z",
     "iopub.status.idle": "2022-12-26T08:32:17.294156Z",
     "shell.execute_reply": "2022-12-26T08:32:17.292636Z"
    }
   },
   "outputs": [
    {
     "data": {
      "text/html": [
       "<div>\n",
       "<style scoped>\n",
       "    .dataframe tbody tr th:only-of-type {\n",
       "        vertical-align: middle;\n",
       "    }\n",
       "\n",
       "    .dataframe tbody tr th {\n",
       "        vertical-align: top;\n",
       "    }\n",
       "\n",
       "    .dataframe thead th {\n",
       "        text-align: right;\n",
       "    }\n",
       "</style>\n",
       "<table border=\"1\" class=\"dataframe\">\n",
       "  <thead>\n",
       "    <tr style=\"text-align: right;\">\n",
       "      <th></th>\n",
       "      <th>IGHD-M</th>\n",
       "      <th>IGHA</th>\n",
       "      <th>IGHG</th>\n",
       "      <th>disease</th>\n",
       "    </tr>\n",
       "    <tr>\n",
       "      <th>specimen_label</th>\n",
       "      <th></th>\n",
       "      <th></th>\n",
       "      <th></th>\n",
       "      <th></th>\n",
       "    </tr>\n",
       "  </thead>\n",
       "  <tbody>\n",
       "    <tr>\n",
       "      <th>M369-S001</th>\n",
       "      <td>0.577690</td>\n",
       "      <td>0.198783</td>\n",
       "      <td>0.223526</td>\n",
       "      <td>Covid19</td>\n",
       "    </tr>\n",
       "    <tr>\n",
       "      <th>M371-S004</th>\n",
       "      <td>0.585805</td>\n",
       "      <td>0.153602</td>\n",
       "      <td>0.260593</td>\n",
       "      <td>Covid19</td>\n",
       "    </tr>\n",
       "    <tr>\n",
       "      <th>M371-S015</th>\n",
       "      <td>0.627824</td>\n",
       "      <td>0.152505</td>\n",
       "      <td>0.219671</td>\n",
       "      <td>Covid19</td>\n",
       "    </tr>\n",
       "    <tr>\n",
       "      <th>M371-S023</th>\n",
       "      <td>0.590649</td>\n",
       "      <td>0.284484</td>\n",
       "      <td>0.124867</td>\n",
       "      <td>Covid19</td>\n",
       "    </tr>\n",
       "    <tr>\n",
       "      <th>M371-S028</th>\n",
       "      <td>0.609910</td>\n",
       "      <td>0.219750</td>\n",
       "      <td>0.170340</td>\n",
       "      <td>Covid19</td>\n",
       "    </tr>\n",
       "    <tr>\n",
       "      <th>...</th>\n",
       "      <td>...</td>\n",
       "      <td>...</td>\n",
       "      <td>...</td>\n",
       "      <td>...</td>\n",
       "    </tr>\n",
       "    <tr>\n",
       "      <th>M454-S035</th>\n",
       "      <td>0.846111</td>\n",
       "      <td>0.105009</td>\n",
       "      <td>0.048879</td>\n",
       "      <td>Lupus</td>\n",
       "    </tr>\n",
       "    <tr>\n",
       "      <th>M454-S060</th>\n",
       "      <td>0.838791</td>\n",
       "      <td>0.142802</td>\n",
       "      <td>0.018407</td>\n",
       "      <td>Lupus</td>\n",
       "    </tr>\n",
       "    <tr>\n",
       "      <th>M456-S001</th>\n",
       "      <td>0.817116</td>\n",
       "      <td>0.145902</td>\n",
       "      <td>0.036982</td>\n",
       "      <td>Lupus</td>\n",
       "    </tr>\n",
       "    <tr>\n",
       "      <th>M456-S002</th>\n",
       "      <td>0.660195</td>\n",
       "      <td>0.187474</td>\n",
       "      <td>0.152331</td>\n",
       "      <td>Lupus</td>\n",
       "    </tr>\n",
       "    <tr>\n",
       "      <th>M456-S006</th>\n",
       "      <td>0.147981</td>\n",
       "      <td>0.571485</td>\n",
       "      <td>0.280535</td>\n",
       "      <td>Lupus</td>\n",
       "    </tr>\n",
       "  </tbody>\n",
       "</table>\n",
       "<p>480 rows × 4 columns</p>\n",
       "</div>"
      ],
      "text/plain": [
       "                  IGHD-M      IGHA      IGHG  disease\n",
       "specimen_label                                       \n",
       "M369-S001       0.577690  0.198783  0.223526  Covid19\n",
       "M371-S004       0.585805  0.153602  0.260593  Covid19\n",
       "M371-S015       0.627824  0.152505  0.219671  Covid19\n",
       "M371-S023       0.590649  0.284484  0.124867  Covid19\n",
       "M371-S028       0.609910  0.219750  0.170340  Covid19\n",
       "...                  ...       ...       ...      ...\n",
       "M454-S035       0.846111  0.105009  0.048879    Lupus\n",
       "M454-S060       0.838791  0.142802  0.018407    Lupus\n",
       "M456-S001       0.817116  0.145902  0.036982    Lupus\n",
       "M456-S002       0.660195  0.187474  0.152331    Lupus\n",
       "M456-S006       0.147981  0.571485  0.280535    Lupus\n",
       "\n",
       "[480 rows x 4 columns]"
      ]
     },
     "execution_count": 14,
     "metadata": {},
     "output_type": "execute_result"
    }
   ],
   "source": [
    "# - option 2: normalize each specimen to sum to 1. for each disease, sum across all specimens. plot totals\n",
    "import genetools\n",
    "\n",
    "pd.concat(\n",
    "    [\n",
    "        genetools.stats.normalize_rows(\n",
    "            specimen_isotype_counts_df_test_only[[\"IGHD-M\", \"IGHA\", \"IGHG\"]]\n",
    "        ),\n",
    "        specimen_isotype_counts_df_test_only[\"disease\"],\n",
    "    ],\n",
    "    axis=1,\n",
    ")"
   ]
  },
  {
   "cell_type": "code",
   "execution_count": 15,
   "metadata": {
    "execution": {
     "iopub.execute_input": "2022-12-26T08:32:17.300285Z",
     "iopub.status.busy": "2022-12-26T08:32:17.299982Z",
     "iopub.status.idle": "2022-12-26T08:32:17.447892Z",
     "shell.execute_reply": "2022-12-26T08:32:17.446436Z"
    }
   },
   "outputs": [
    {
     "data": {
      "text/plain": [
       "<AxesSubplot:xlabel='disease', ylabel='value'>"
      ]
     },
     "execution_count": 15,
     "metadata": {},
     "output_type": "execute_result"
    },
    {
     "data": {
      "image/png": "[encoded data removed]",
      "text/plain": [
       "<Figure size 432x288 with 1 Axes>"
      ]
     },
     "metadata": {
      "needs_background": "light"
     },
     "output_type": "display_data"
    }
   ],
   "source": [
    "sns.barplot(\n",
    "    data=pd.melt(\n",
    "        pd.concat(\n",
    "            [\n",
    "                genetools.stats.normalize_rows(\n",
    "                    specimen_isotype_counts_df_test_only[[\"IGHD-M\", \"IGHA\", \"IGHG\"]]\n",
    "                ),\n",
    "                specimen_isotype_counts_df_test_only[\"disease\"],\n",
    "            ],\n",
    "            axis=1,\n",
    "        )\n",
    "        .groupby(\"disease\")\n",
    "        .sum()\n",
    "        .reset_index(),\n",
    "        id_vars=[\"disease\"],\n",
    "        value_vars=[\"IGHD-M\", \"IGHA\", \"IGHG\"],\n",
    "    ),\n",
    "    x=\"disease\",\n",
    "    y=\"value\",\n",
    "    hue=\"variable\",\n",
    ")"
   ]
  },
  {
   "cell_type": "code",
   "execution_count": null,
   "metadata": {},
   "outputs": [],
   "source": []
  },
  {
   "cell_type": "code",
   "execution_count": 16,
   "metadata": {
    "execution": {
     "iopub.execute_input": "2022-12-26T08:32:17.454290Z",
     "iopub.status.busy": "2022-12-26T08:32:17.454069Z",
     "iopub.status.idle": "2022-12-26T08:32:17.470022Z",
     "shell.execute_reply": "2022-12-26T08:32:17.468510Z"
    }
   },
   "outputs": [
    {
     "data": {
      "text/html": [
       "<div>\n",
       "<style scoped>\n",
       "    .dataframe tbody tr th:only-of-type {\n",
       "        vertical-align: middle;\n",
       "    }\n",
       "\n",
       "    .dataframe tbody tr th {\n",
       "        vertical-align: top;\n",
       "    }\n",
       "\n",
       "    .dataframe thead th {\n",
       "        text-align: right;\n",
       "    }\n",
       "</style>\n",
       "<table border=\"1\" class=\"dataframe\">\n",
       "  <thead>\n",
       "    <tr style=\"text-align: right;\">\n",
       "      <th></th>\n",
       "      <th>IGHD-M</th>\n",
       "      <th>IGHA</th>\n",
       "      <th>IGHG</th>\n",
       "    </tr>\n",
       "    <tr>\n",
       "      <th>disease</th>\n",
       "      <th></th>\n",
       "      <th></th>\n",
       "      <th></th>\n",
       "    </tr>\n",
       "  </thead>\n",
       "  <tbody>\n",
       "    <tr>\n",
       "      <th>Covid19</th>\n",
       "      <td>0.589638</td>\n",
       "      <td>0.169899</td>\n",
       "      <td>0.240464</td>\n",
       "    </tr>\n",
       "    <tr>\n",
       "      <th>HIV</th>\n",
       "      <td>0.571463</td>\n",
       "      <td>0.177598</td>\n",
       "      <td>0.250939</td>\n",
       "    </tr>\n",
       "    <tr>\n",
       "      <th>Healthy/Background</th>\n",
       "      <td>0.731529</td>\n",
       "      <td>0.153043</td>\n",
       "      <td>0.115428</td>\n",
       "    </tr>\n",
       "    <tr>\n",
       "      <th>Lupus</th>\n",
       "      <td>0.573968</td>\n",
       "      <td>0.201870</td>\n",
       "      <td>0.224162</td>\n",
       "    </tr>\n",
       "  </tbody>\n",
       "</table>\n",
       "</div>"
      ],
      "text/plain": [
       "                      IGHD-M      IGHA      IGHG\n",
       "disease                                         \n",
       "Covid19             0.589638  0.169899  0.240464\n",
       "HIV                 0.571463  0.177598  0.250939\n",
       "Healthy/Background  0.731529  0.153043  0.115428\n",
       "Lupus               0.573968  0.201870  0.224162"
      ]
     },
     "execution_count": 16,
     "metadata": {},
     "output_type": "execute_result"
    }
   ],
   "source": [
    "# - option 3: normalize each specimen to sum to 1. for each disease, sum across all specimens, and normalize those 3 to sum to 1. plot those totals\n",
    "\n",
    "genetools.stats.normalize_rows(\n",
    "    pd.concat(\n",
    "        [\n",
    "            genetools.stats.normalize_rows(\n",
    "                specimen_isotype_counts_df_test_only[[\"IGHD-M\", \"IGHA\", \"IGHG\"]]\n",
    "            ),\n",
    "            specimen_isotype_counts_df_test_only[\"disease\"],\n",
    "        ],\n",
    "        axis=1,\n",
    "    )\n",
    "    .groupby(\"disease\")\n",
    "    .sum()\n",
    ")"
   ]
  },
  {
   "cell_type": "code",
   "execution_count": 17,
   "metadata": {
    "execution": {
     "iopub.execute_input": "2022-12-26T08:32:17.477544Z",
     "iopub.status.busy": "2022-12-26T08:32:17.477302Z",
     "iopub.status.idle": "2022-12-26T08:32:17.613706Z",
     "shell.execute_reply": "2022-12-26T08:32:17.612212Z"
    }
   },
   "outputs": [
    {
     "data": {
      "image/png": "[encoded data removed]",
      "text/plain": [
       "<Figure size 432x288 with 1 Axes>"
      ]
     },
     "metadata": {
      "needs_background": "light"
     },
     "output_type": "display_data"
    }
   ],
   "source": [
    "ax = sns.barplot(\n",
    "    data=pd.melt(\n",
    "        genetools.stats.normalize_rows(\n",
    "            pd.concat(\n",
    "                [\n",
    "                    genetools.stats.normalize_rows(\n",
    "                        specimen_isotype_counts_df_test_only[[\"IGHD-M\", \"IGHA\", \"IGHG\"]]\n",
    "                    ),\n",
    "                    specimen_isotype_counts_df_test_only[\"disease\"],\n",
    "                ],\n",
    "                axis=1,\n",
    "            )\n",
    "            .groupby(\"disease\")\n",
    "            .sum()\n",
    "        )\n",
    "        .reset_index()\n",
    "        .rename(columns={\"disease\": \"Disease\"}),\n",
    "        id_vars=[\"Disease\"],\n",
    "        value_vars=[\"IGHD-M\", \"IGHA\", \"IGHG\"],\n",
    "        var_name=\"Isotype\",\n",
    "        value_name=\"Proportion\",\n",
    "    ),\n",
    "    x=\"Disease\",\n",
    "    y=\"Proportion\",\n",
    "    hue=\"Isotype\",\n",
    ")\n",
    "sns.despine(ax=ax)\n",
    "legend_title = \"Isotype\"\n",
    "# place legend outside figure\n",
    "leg = plt.legend(\n",
    "    bbox_to_anchor=(1.05, 0.5),\n",
    "    loc=\"center left\",\n",
    "    borderaxespad=0.0,\n",
    "    # no border\n",
    "    frameon=False,\n",
    "    # transparent background\n",
    "    framealpha=0.0,\n",
    "    # legend title\n",
    "    title=legend_title,\n",
    ")\n",
    "# set legend title to bold - workaround for title_fontproperties missing from old matplotlib versions\n",
    "leg.set_title(title=legend_title, prop={\"weight\": \"bold\", \"size\": \"medium\"})\n",
    "# align legend title left\n",
    "leg._legend_box.align = \"left\""
   ]
  },
  {
   "cell_type": "code",
   "execution_count": null,
   "metadata": {},
   "outputs": [],
   "source": []
  },
  {
   "cell_type": "code",
   "execution_count": 18,
   "metadata": {
    "execution": {
     "iopub.execute_input": "2022-12-26T08:32:17.620073Z",
     "iopub.status.busy": "2022-12-26T08:32:17.619854Z",
     "iopub.status.idle": "2022-12-26T08:32:17.626566Z",
     "shell.execute_reply": "2022-12-26T08:32:17.624925Z"
    }
   },
   "outputs": [],
   "source": [
    "# option 4 should match option 3, but cleaner implementation and description:\n",
    "# for specimens of each disease type, plot average (+/- std) of isotype proportions"
   ]
  },
  {
   "cell_type": "code",
   "execution_count": 19,
   "metadata": {
    "execution": {
     "iopub.execute_input": "2022-12-26T08:32:17.631883Z",
     "iopub.status.busy": "2022-12-26T08:32:17.631651Z",
     "iopub.status.idle": "2022-12-26T08:32:17.651531Z",
     "shell.execute_reply": "2022-12-26T08:32:17.649889Z"
    }
   },
   "outputs": [
    {
     "data": {
      "text/html": [
       "<div>\n",
       "<style scoped>\n",
       "    .dataframe tbody tr th:only-of-type {\n",
       "        vertical-align: middle;\n",
       "    }\n",
       "\n",
       "    .dataframe tbody tr th {\n",
       "        vertical-align: top;\n",
       "    }\n",
       "\n",
       "    .dataframe thead th {\n",
       "        text-align: right;\n",
       "    }\n",
       "</style>\n",
       "<table border=\"1\" class=\"dataframe\">\n",
       "  <thead>\n",
       "    <tr style=\"text-align: right;\">\n",
       "      <th></th>\n",
       "      <th>IGHD-M</th>\n",
       "      <th>IGHA</th>\n",
       "      <th>IGHG</th>\n",
       "      <th>disease</th>\n",
       "    </tr>\n",
       "    <tr>\n",
       "      <th>specimen_label</th>\n",
       "      <th></th>\n",
       "      <th></th>\n",
       "      <th></th>\n",
       "      <th></th>\n",
       "    </tr>\n",
       "  </thead>\n",
       "  <tbody>\n",
       "    <tr>\n",
       "      <th>M369-S001</th>\n",
       "      <td>0.577690</td>\n",
       "      <td>0.198783</td>\n",
       "      <td>0.223526</td>\n",
       "      <td>Covid19</td>\n",
       "    </tr>\n",
       "    <tr>\n",
       "      <th>M371-S004</th>\n",
       "      <td>0.585805</td>\n",
       "      <td>0.153602</td>\n",
       "      <td>0.260593</td>\n",
       "      <td>Covid19</td>\n",
       "    </tr>\n",
       "    <tr>\n",
       "      <th>M371-S015</th>\n",
       "      <td>0.627824</td>\n",
       "      <td>0.152505</td>\n",
       "      <td>0.219671</td>\n",
       "      <td>Covid19</td>\n",
       "    </tr>\n",
       "    <tr>\n",
       "      <th>M371-S023</th>\n",
       "      <td>0.590649</td>\n",
       "      <td>0.284484</td>\n",
       "      <td>0.124867</td>\n",
       "      <td>Covid19</td>\n",
       "    </tr>\n",
       "    <tr>\n",
       "      <th>M371-S028</th>\n",
       "      <td>0.609910</td>\n",
       "      <td>0.219750</td>\n",
       "      <td>0.170340</td>\n",
       "      <td>Covid19</td>\n",
       "    </tr>\n",
       "    <tr>\n",
       "      <th>...</th>\n",
       "      <td>...</td>\n",
       "      <td>...</td>\n",
       "      <td>...</td>\n",
       "      <td>...</td>\n",
       "    </tr>\n",
       "    <tr>\n",
       "      <th>M454-S035</th>\n",
       "      <td>0.846111</td>\n",
       "      <td>0.105009</td>\n",
       "      <td>0.048879</td>\n",
       "      <td>Lupus</td>\n",
       "    </tr>\n",
       "    <tr>\n",
       "      <th>M454-S060</th>\n",
       "      <td>0.838791</td>\n",
       "      <td>0.142802</td>\n",
       "      <td>0.018407</td>\n",
       "      <td>Lupus</td>\n",
       "    </tr>\n",
       "    <tr>\n",
       "      <th>M456-S001</th>\n",
       "      <td>0.817116</td>\n",
       "      <td>0.145902</td>\n",
       "      <td>0.036982</td>\n",
       "      <td>Lupus</td>\n",
       "    </tr>\n",
       "    <tr>\n",
       "      <th>M456-S002</th>\n",
       "      <td>0.660195</td>\n",
       "      <td>0.187474</td>\n",
       "      <td>0.152331</td>\n",
       "      <td>Lupus</td>\n",
       "    </tr>\n",
       "    <tr>\n",
       "      <th>M456-S006</th>\n",
       "      <td>0.147981</td>\n",
       "      <td>0.571485</td>\n",
       "      <td>0.280535</td>\n",
       "      <td>Lupus</td>\n",
       "    </tr>\n",
       "  </tbody>\n",
       "</table>\n",
       "<p>480 rows × 4 columns</p>\n",
       "</div>"
      ],
      "text/plain": [
       "                  IGHD-M      IGHA      IGHG  disease\n",
       "specimen_label                                       \n",
       "M369-S001       0.577690  0.198783  0.223526  Covid19\n",
       "M371-S004       0.585805  0.153602  0.260593  Covid19\n",
       "M371-S015       0.627824  0.152505  0.219671  Covid19\n",
       "M371-S023       0.590649  0.284484  0.124867  Covid19\n",
       "M371-S028       0.609910  0.219750  0.170340  Covid19\n",
       "...                  ...       ...       ...      ...\n",
       "M454-S035       0.846111  0.105009  0.048879    Lupus\n",
       "M454-S060       0.838791  0.142802  0.018407    Lupus\n",
       "M456-S001       0.817116  0.145902  0.036982    Lupus\n",
       "M456-S002       0.660195  0.187474  0.152331    Lupus\n",
       "M456-S006       0.147981  0.571485  0.280535    Lupus\n",
       "\n",
       "[480 rows x 4 columns]"
      ]
     },
     "execution_count": 19,
     "metadata": {},
     "output_type": "execute_result"
    }
   ],
   "source": [
    "pd.concat(\n",
    "    [\n",
    "        genetools.stats.normalize_rows(\n",
    "            specimen_isotype_counts_df_test_only[[\"IGHD-M\", \"IGHA\", \"IGHG\"]]\n",
    "        ),\n",
    "        specimen_isotype_counts_df_test_only[\"disease\"],\n",
    "    ],\n",
    "    axis=1,\n",
    ")"
   ]
  },
  {
   "cell_type": "code",
   "execution_count": 20,
   "metadata": {
    "execution": {
     "iopub.execute_input": "2022-12-26T08:32:17.657493Z",
     "iopub.status.busy": "2022-12-26T08:32:17.657150Z",
     "iopub.status.idle": "2022-12-26T08:32:17.685143Z",
     "shell.execute_reply": "2022-12-26T08:32:17.683617Z"
    }
   },
   "outputs": [
    {
     "data": {
      "text/html": [
       "<div>\n",
       "<style scoped>\n",
       "    .dataframe tbody tr th:only-of-type {\n",
       "        vertical-align: middle;\n",
       "    }\n",
       "\n",
       "    .dataframe tbody tr th {\n",
       "        vertical-align: top;\n",
       "    }\n",
       "\n",
       "    .dataframe thead th {\n",
       "        text-align: right;\n",
       "    }\n",
       "</style>\n",
       "<table border=\"1\" class=\"dataframe\">\n",
       "  <thead>\n",
       "    <tr style=\"text-align: right;\">\n",
       "      <th></th>\n",
       "      <th>Disease</th>\n",
       "      <th>Isotype</th>\n",
       "      <th>Proportion</th>\n",
       "    </tr>\n",
       "  </thead>\n",
       "  <tbody>\n",
       "    <tr>\n",
       "      <th>0</th>\n",
       "      <td>Covid19</td>\n",
       "      <td>IgD/M</td>\n",
       "      <td>0.577690</td>\n",
       "    </tr>\n",
       "    <tr>\n",
       "      <th>1</th>\n",
       "      <td>Covid19</td>\n",
       "      <td>IgD/M</td>\n",
       "      <td>0.585805</td>\n",
       "    </tr>\n",
       "    <tr>\n",
       "      <th>2</th>\n",
       "      <td>Covid19</td>\n",
       "      <td>IgD/M</td>\n",
       "      <td>0.627824</td>\n",
       "    </tr>\n",
       "    <tr>\n",
       "      <th>3</th>\n",
       "      <td>Covid19</td>\n",
       "      <td>IgD/M</td>\n",
       "      <td>0.590649</td>\n",
       "    </tr>\n",
       "    <tr>\n",
       "      <th>4</th>\n",
       "      <td>Covid19</td>\n",
       "      <td>IgD/M</td>\n",
       "      <td>0.609910</td>\n",
       "    </tr>\n",
       "    <tr>\n",
       "      <th>...</th>\n",
       "      <td>...</td>\n",
       "      <td>...</td>\n",
       "      <td>...</td>\n",
       "    </tr>\n",
       "    <tr>\n",
       "      <th>1435</th>\n",
       "      <td>Lupus</td>\n",
       "      <td>IgG</td>\n",
       "      <td>0.048879</td>\n",
       "    </tr>\n",
       "    <tr>\n",
       "      <th>1436</th>\n",
       "      <td>Lupus</td>\n",
       "      <td>IgG</td>\n",
       "      <td>0.018407</td>\n",
       "    </tr>\n",
       "    <tr>\n",
       "      <th>1437</th>\n",
       "      <td>Lupus</td>\n",
       "      <td>IgG</td>\n",
       "      <td>0.036982</td>\n",
       "    </tr>\n",
       "    <tr>\n",
       "      <th>1438</th>\n",
       "      <td>Lupus</td>\n",
       "      <td>IgG</td>\n",
       "      <td>0.152331</td>\n",
       "    </tr>\n",
       "    <tr>\n",
       "      <th>1439</th>\n",
       "      <td>Lupus</td>\n",
       "      <td>IgG</td>\n",
       "      <td>0.280535</td>\n",
       "    </tr>\n",
       "  </tbody>\n",
       "</table>\n",
       "<p>1440 rows × 3 columns</p>\n",
       "</div>"
      ],
      "text/plain": [
       "      Disease Isotype  Proportion\n",
       "0     Covid19   IgD/M    0.577690\n",
       "1     Covid19   IgD/M    0.585805\n",
       "2     Covid19   IgD/M    0.627824\n",
       "3     Covid19   IgD/M    0.590649\n",
       "4     Covid19   IgD/M    0.609910\n",
       "...       ...     ...         ...\n",
       "1435    Lupus     IgG    0.048879\n",
       "1436    Lupus     IgG    0.018407\n",
       "1437    Lupus     IgG    0.036982\n",
       "1438    Lupus     IgG    0.152331\n",
       "1439    Lupus     IgG    0.280535\n",
       "\n",
       "[1440 rows x 3 columns]"
      ]
     },
     "execution_count": 20,
     "metadata": {},
     "output_type": "execute_result"
    }
   ],
   "source": [
    "isotype_proportions = pd.melt(\n",
    "    pd.concat(\n",
    "        [\n",
    "            genetools.stats.normalize_rows(\n",
    "                specimen_isotype_counts_df_test_only[[\"IGHD-M\", \"IGHA\", \"IGHG\"]]\n",
    "            ),\n",
    "            specimen_isotype_counts_df_test_only[\"disease\"],\n",
    "        ],\n",
    "        axis=1,\n",
    "    ).rename(columns={\"disease\": \"Disease\"}),\n",
    "    id_vars=[\"Disease\"],\n",
    "    value_vars=[\"IGHD-M\", \"IGHA\", \"IGHG\"],\n",
    "    var_name=\"Isotype\",\n",
    "    value_name=\"Proportion\",\n",
    ")\n",
    "isotype_proportions[\"Isotype\"] = isotype_proportions[\"Isotype\"].replace(\n",
    "    helpers.isotype_friendly_names\n",
    ")\n",
    "isotype_proportions"
   ]
  },
  {
   "cell_type": "code",
   "execution_count": 21,
   "metadata": {
    "execution": {
     "iopub.execute_input": "2022-12-26T08:32:17.691869Z",
     "iopub.status.busy": "2022-12-26T08:32:17.691573Z",
     "iopub.status.idle": "2022-12-26T08:32:18.776352Z",
     "shell.execute_reply": "2022-12-26T08:32:18.774835Z"
    }
   },
   "outputs": [
    {
     "name": "stderr",
     "output_type": "stream",
     "text": [
      "2022-12-26 08:32:18,684 - fontTools.ttLib.tables._h_e_a_d - WARNING - 'created' timestamp seems very low; regarding as unix timestamp\n"
     ]
    },
    {
     "data": {
      "image/png": "[encoded data removed]",
      "text/plain": [
       "<Figure size 432x288 with 1 Axes>"
      ]
     },
     "metadata": {
      "needs_background": "light"
     },
     "output_type": "display_data"
    }
   ],
   "source": [
    "ax = sns.barplot(\n",
    "    data=isotype_proportions,\n",
    "    x=\"Isotype\",\n",
    "    y=\"Proportion\",\n",
    "    hue=\"Disease\",\n",
    "    palette=helpers.disease_color_palette,\n",
    "    # Compute 95% confidence intervals around a sample mean by bootstrapping:\n",
    "    # sampling distribution of mean generated by repeated sampling and recording mean each time.\n",
    "    # the standard error is basically the standard deviation of many sample means\n",
    "    # we plot mean +/- 1.96*standard error. gives you average value +/- X at the 95% confidence level.\n",
    "    ci=95,\n",
    "    # ci=\"sd\", # instead draw the standard deviation of the observations, instead of bootstrapping to get 95% confidence intervals\n",
    "    # capsize=.025\n",
    ")\n",
    "\n",
    "sns.despine(ax=ax)\n",
    "legend_title = \"Disease\"\n",
    "# place legend outside figure\n",
    "leg = plt.legend(\n",
    "    bbox_to_anchor=(1.05, 0.5),\n",
    "    loc=\"center left\",\n",
    "    borderaxespad=0.0,\n",
    "    # no border\n",
    "    frameon=False,\n",
    "    # transparent background\n",
    "    framealpha=0.0,\n",
    "    # legend title\n",
    "    title=legend_title,\n",
    ")\n",
    "# set legend title to bold - workaround for title_fontproperties missing from old matplotlib versions\n",
    "leg.set_title(title=legend_title, prop={\"weight\": \"bold\", \"size\": \"medium\"})\n",
    "# align legend title left\n",
    "leg._legend_box.align = \"left\"\n",
    "\n",
    "ax.set_title(\"Average specimen isotype proportions by disease\")\n",
    "\n",
    "fig = ax.get_figure()\n",
    "genetools.plots.savefig(\n",
    "    fig, config.paths.output_dir / f\"isotype_counts_by_disease.png\", dpi=300\n",
    ")\n",
    "genetools.plots.savefig(\n",
    "    fig,\n",
    "    config.paths.high_res_outputs_dir / f\"isotype_counts_by_disease.pdf\",\n",
    ")"
   ]
  },
  {
   "cell_type": "code",
   "execution_count": 22,
   "metadata": {
    "execution": {
     "iopub.execute_input": "2022-12-26T08:32:18.782891Z",
     "iopub.status.busy": "2022-12-26T08:32:18.782655Z",
     "iopub.status.idle": "2022-12-26T08:32:19.351638Z",
     "shell.execute_reply": "2022-12-26T08:32:19.350100Z"
    }
   },
   "outputs": [
    {
     "name": "stderr",
     "output_type": "stream",
     "text": [
      "2022-12-26 08:32:19,260 - fontTools.ttLib.tables._h_e_a_d - WARNING - 'created' timestamp seems very low; regarding as unix timestamp\n"
     ]
    },
    {
     "data": {
      "image/png": "[encoded data removed]",
      "text/plain": [
       "<Figure size 432x288 with 1 Axes>"
      ]
     },
     "metadata": {
      "needs_background": "light"
     },
     "output_type": "display_data"
    }
   ],
   "source": [
    "ax = sns.barplot(\n",
    "    data=isotype_proportions,\n",
    "    x=\"Disease\",\n",
    "    y=\"Proportion\",\n",
    "    hue=\"Isotype\",\n",
    "    # Compute 95% confidence intervals around a sample mean by bootstrapping:\n",
    "    # sampling distribution of mean generated by repeated sampling and recording mean each time.\n",
    "    # the standard error is basically the standard deviation of many sample means\n",
    "    # we plot mean +/- 1.96*standard error. gives you average value +/- X at the 95% confidence level.\n",
    "    ci=95,\n",
    "    # ci=\"sd\", # instead draw the standard deviation of the observations, instead of bootstrapping to get 95% confidence intervals\n",
    "    # capsize=.025\n",
    "    hue_order=helpers.isotype_friendly_name_order,\n",
    "    palette=helpers.isotype_palette,\n",
    ")\n",
    "\n",
    "sns.despine(ax=ax)\n",
    "legend_title = \"Isotype\"\n",
    "# place legend outside figure\n",
    "leg = plt.legend(\n",
    "    bbox_to_anchor=(1.05, 0.5),\n",
    "    loc=\"center left\",\n",
    "    borderaxespad=0.0,\n",
    "    # no border\n",
    "    frameon=False,\n",
    "    # transparent background\n",
    "    framealpha=0.0,\n",
    "    # legend title\n",
    "    title=legend_title,\n",
    ")\n",
    "# set legend title to bold - workaround for title_fontproperties missing from old matplotlib versions\n",
    "leg.set_title(title=legend_title, prop={\"weight\": \"bold\", \"size\": \"medium\"})\n",
    "# align legend title left\n",
    "leg._legend_box.align = \"left\"\n",
    "\n",
    "ax.set_title(\"Average specimen isotype proportions by disease\")\n",
    "\n",
    "fig = ax.get_figure()\n",
    "genetools.plots.savefig(\n",
    "    fig, config.paths.output_dir / f\"isotype_counts_by_disease.inverted.png\", dpi=300\n",
    ")\n",
    "genetools.plots.savefig(\n",
    "    fig,\n",
    "    config.paths.high_res_outputs_dir / f\"isotype_counts_by_disease.inverted.pdf\",\n",
    ")"
   ]
  },
  {
   "cell_type": "code",
   "execution_count": null,
   "metadata": {},
   "outputs": [],
   "source": []
  },
  {
   "cell_type": "code",
   "execution_count": null,
   "metadata": {},
   "outputs": [],
   "source": []
  }
 ],
 "metadata": {
  "jupytext": {
   "cell_metadata_filter": "-all"
  },
  "kernelspec": {
   "display_name": "py39-cuda-env",
   "language": "python",
   "name": "py39-cuda-env"
  },
  "language_info": {
   "codemirror_mode": {
    "name": "ipython",
    "version": 3
   },
   "file_extension": ".py",
   "mimetype": "text/x-python",
   "name": "python",
   "nbconvert_exporter": "python",
   "pygments_lexer": "ipython3",
   "version": "3.9.13"
  }
 },
 "nbformat": 4,
 "nbformat_minor": 4
}
