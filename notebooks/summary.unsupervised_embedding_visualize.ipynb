{
 "cells": [
  {
   "cell_type": "code",
   "execution_count": 1,
   "metadata": {
    "execution": {
     "iopub.execute_input": "2023-01-19T05:12:44.985857Z",
     "iopub.status.busy": "2023-01-19T05:12:44.985169Z",
     "iopub.status.idle": "2023-01-19T05:12:51.292143Z",
     "shell.execute_reply": "2023-01-19T05:12:51.290083Z"
    }
   },
   "outputs": [],
   "source": [
    "from summarynb import show\n",
    "from malid import config, helpers\n",
    "from IPython.display import display, Markdown\n",
    "from slugify import slugify"
   ]
  },
  {
   "cell_type": "code",
   "execution_count": 2,
   "metadata": {
    "execution": {
     "iopub.execute_input": "2023-01-19T05:12:51.300065Z",
     "iopub.status.busy": "2023-01-19T05:12:51.299422Z",
     "iopub.status.idle": "2023-01-19T05:12:51.308871Z",
     "shell.execute_reply": "2023-01-19T05:12:51.306755Z"
    }
   },
   "outputs": [],
   "source": [
    "representations = [\"pca\", \"umap\"]"
   ]
  },
  {
   "cell_type": "code",
   "execution_count": null,
   "metadata": {},
   "outputs": [],
   "source": []
  },
  {
   "cell_type": "markdown",
   "metadata": {},
   "source": [
    "# Plot PCA and UMAP of language model embedding of test sets (\"unsupervised embedding\")\n",
    "\n",
    "- Data was scaled using training set's scaler\n",
    "- PCA was computed already, using training set's PCA\n",
    "- UMAP computed from scratch (first on training set, then applied to test set)\n",
    "\n",
    "This is different from supervised embedding which comes out of the trained classifiers.\n",
    "\n",
    "The relative density plots are adjusted for class size differences."
   ]
  },
  {
   "cell_type": "code",
   "execution_count": 3,
   "metadata": {
    "execution": {
     "iopub.execute_input": "2023-01-19T05:12:51.316711Z",
     "iopub.status.busy": "2023-01-19T05:12:51.316125Z",
     "iopub.status.idle": "2023-01-19T05:12:51.844554Z",
     "shell.execute_reply": "2023-01-19T05:12:51.842531Z"
    }
   },
   "outputs": [
    {
     "data": {
      "text/markdown": [
       "## Fold 0-test, GeneLocus.BCR"
      ],
      "text/plain": [
       "<IPython.core.display.Markdown object>"
      ]
     },
     "metadata": {},
     "output_type": "display_data"
    },
    {
     "data": {
      "text/html": [
       "<table><tr><th style=\"text-align: center\">pca</th>\n",
       "<th style=\"text-align: center\">umap</th></tr><tr><td style=\"text-align: center\"><img src=\"../out/unirep_fine_tuned/language_model_embedding.all_diseases.pca.fold_0_test.BCR.png\" style=\"max-width: 800px; max-height: 800px;\" /></td>\n",
       "<td style=\"text-align: center\"><img src=\"../out/unirep_fine_tuned/language_model_embedding.all_diseases.umap.fold_0_test.BCR.png\" style=\"max-width: 800px; max-height: 800px;\" /></td></tr></table>"
      ],
      "text/plain": [
       "<IPython.core.display.HTML object>"
      ]
     },
     "metadata": {},
     "output_type": "display_data"
    },
    {
     "data": {
      "text/markdown": [
       "### Covid19 batches"
      ],
      "text/plain": [
       "<IPython.core.display.Markdown object>"
      ]
     },
     "metadata": {},
     "output_type": "display_data"
    },
    {
     "data": {
      "text/html": [
       "<table><tr><th style=\"text-align: center\">pca - scatterplot</th>\n",
       "<th style=\"text-align: center\">umap - scatterplot</th></tr><tr><td style=\"text-align: center\"><img src=\"../data/data_v_20221224/embedded/unirep_fine_tuned/high_res_outputs/language_model_embedding.by_batch.covid19.pca.fold_0_test.BCR.png\" style=\"max-width: 800px; max-height: 800px;\" /></td>\n",
       "<td style=\"text-align: center\"><img src=\"../data/data_v_20221224/embedded/unirep_fine_tuned/high_res_outputs/language_model_embedding.by_batch.covid19.umap.fold_0_test.BCR.png\" style=\"max-width: 800px; max-height: 800px;\" /></td></tr></table>"
      ],
      "text/plain": [
       "<IPython.core.display.HTML object>"
      ]
     },
     "metadata": {},
     "output_type": "display_data"
    },
    {
     "data": {
      "text/html": [
       "<table><tr><th style=\"text-align: center\">pca - overall density</th>\n",
       "<th style=\"text-align: center\">umap - overall density</th></tr><tr><td style=\"text-align: center\"><img src=\"../data/data_v_20221224/embedded/unirep_fine_tuned/high_res_outputs/language_model_embedding.by_batch.covid19.pca.overall_density.fold_0_test.BCR.png\" style=\"max-width: 800px; max-height: 800px;\" /></td>\n",
       "<td style=\"text-align: center\"><img src=\"../data/data_v_20221224/embedded/unirep_fine_tuned/high_res_outputs/language_model_embedding.by_batch.covid19.umap.overall_density.fold_0_test.BCR.png\" style=\"max-width: 800px; max-height: 800px;\" /></td></tr></table>"
      ],
      "text/plain": [
       "<IPython.core.display.HTML object>"
      ]
     },
     "metadata": {},
     "output_type": "display_data"
    },
    {
     "data": {
      "text/html": [
       "<table><tr><th style=\"text-align: center\">pca - relative density (filtered out low overall density bins)</th>\n",
       "<th style=\"text-align: center\">umap - relative density (filtered out low overall density bins)</th></tr><tr><td style=\"text-align: center\"><img src=\"../data/data_v_20221224/embedded/unirep_fine_tuned/high_res_outputs/language_model_embedding.by_batch.covid19.pca.relative_density_with_min_density_requirement.fold_0_test.BCR.png\" style=\"max-width: 800px; max-height: 800px;\" /></td>\n",
       "<td style=\"text-align: center\"><img src=\"../data/data_v_20221224/embedded/unirep_fine_tuned/high_res_outputs/language_model_embedding.by_batch.covid19.umap.relative_density_with_min_density_requirement.fold_0_test.BCR.png\" style=\"max-width: 800px; max-height: 800px;\" /></td></tr></table>"
      ],
      "text/plain": [
       "<IPython.core.display.HTML object>"
      ]
     },
     "metadata": {},
     "output_type": "display_data"
    },
    {
     "data": {
      "text/html": [
       "<table><tr><th style=\"text-align: center\">pca - relative density (all bins, for comparison)</th>\n",
       "<th style=\"text-align: center\">umap - relative density (all bins, for comparison)</th></tr><tr><td style=\"text-align: center\"><img src=\"../data/data_v_20221224/embedded/unirep_fine_tuned/high_res_outputs/language_model_embedding.by_batch.covid19.pca.relative_density.fold_0_test.BCR.png\" style=\"max-width: 800px; max-height: 800px;\" /></td>\n",
       "<td style=\"text-align: center\"><img src=\"../data/data_v_20221224/embedded/unirep_fine_tuned/high_res_outputs/language_model_embedding.by_batch.covid19.umap.relative_density.fold_0_test.BCR.png\" style=\"max-width: 800px; max-height: 800px;\" /></td></tr></table>"
      ],
      "text/plain": [
       "<IPython.core.display.HTML object>"
      ]
     },
     "metadata": {},
     "output_type": "display_data"
    },
    {
     "data": {
      "text/markdown": [
       "### HIV batches"
      ],
      "text/plain": [
       "<IPython.core.display.Markdown object>"
      ]
     },
     "metadata": {},
     "output_type": "display_data"
    },
    {
     "data": {
      "text/html": [
       "<table><tr><th style=\"text-align: center\">pca - scatterplot</th>\n",
       "<th style=\"text-align: center\">umap - scatterplot</th></tr><tr><td style=\"text-align: center\"><img src=\"../data/data_v_20221224/embedded/unirep_fine_tuned/high_res_outputs/language_model_embedding.by_batch.hiv.pca.fold_0_test.BCR.png\" style=\"max-width: 800px; max-height: 800px;\" /></td>\n",
       "<td style=\"text-align: center\"><img src=\"../data/data_v_20221224/embedded/unirep_fine_tuned/high_res_outputs/language_model_embedding.by_batch.hiv.umap.fold_0_test.BCR.png\" style=\"max-width: 800px; max-height: 800px;\" /></td></tr></table>"
      ],
      "text/plain": [
       "<IPython.core.display.HTML object>"
      ]
     },
     "metadata": {},
     "output_type": "display_data"
    },
    {
     "data": {
      "text/html": [
       "<table><tr><th style=\"text-align: center\">pca - overall density</th>\n",
       "<th style=\"text-align: center\">umap - overall density</th></tr><tr><td style=\"text-align: center\"><img src=\"../data/data_v_20221224/embedded/unirep_fine_tuned/high_res_outputs/language_model_embedding.by_batch.hiv.pca.overall_density.fold_0_test.BCR.png\" style=\"max-width: 800px; max-height: 800px;\" /></td>\n",
       "<td style=\"text-align: center\"><img src=\"../data/data_v_20221224/embedded/unirep_fine_tuned/high_res_outputs/language_model_embedding.by_batch.hiv.umap.overall_density.fold_0_test.BCR.png\" style=\"max-width: 800px; max-height: 800px;\" /></td></tr></table>"
      ],
      "text/plain": [
       "<IPython.core.display.HTML object>"
      ]
     },
     "metadata": {},
     "output_type": "display_data"
    },
    {
     "data": {
      "text/html": [
       "<table><tr><th style=\"text-align: center\">pca - relative density (filtered out low overall density bins)</th>\n",
       "<th style=\"text-align: center\">umap - relative density (filtered out low overall density bins)</th></tr><tr><td style=\"text-align: center\"><img src=\"../data/data_v_20221224/embedded/unirep_fine_tuned/high_res_outputs/language_model_embedding.by_batch.hiv.pca.relative_density_with_min_density_requirement.fold_0_test.BCR.png\" style=\"max-width: 800px; max-height: 800px;\" /></td>\n",
       "<td style=\"text-align: center\"><img src=\"../data/data_v_20221224/embedded/unirep_fine_tuned/high_res_outputs/language_model_embedding.by_batch.hiv.umap.relative_density_with_min_density_requirement.fold_0_test.BCR.png\" style=\"max-width: 800px; max-height: 800px;\" /></td></tr></table>"
      ],
      "text/plain": [
       "<IPython.core.display.HTML object>"
      ]
     },
     "metadata": {},
     "output_type": "display_data"
    },
    {
     "data": {
      "text/html": [
       "<table><tr><th style=\"text-align: center\">pca - relative density (all bins, for comparison)</th>\n",
       "<th style=\"text-align: center\">umap - relative density (all bins, for comparison)</th></tr><tr><td style=\"text-align: center\"><img src=\"../data/data_v_20221224/embedded/unirep_fine_tuned/high_res_outputs/language_model_embedding.by_batch.hiv.pca.relative_density.fold_0_test.BCR.png\" style=\"max-width: 800px; max-height: 800px;\" /></td>\n",
       "<td style=\"text-align: center\"><img src=\"../data/data_v_20221224/embedded/unirep_fine_tuned/high_res_outputs/language_model_embedding.by_batch.hiv.umap.relative_density.fold_0_test.BCR.png\" style=\"max-width: 800px; max-height: 800px;\" /></td></tr></table>"
      ],
      "text/plain": [
       "<IPython.core.display.HTML object>"
      ]
     },
     "metadata": {},
     "output_type": "display_data"
    },
    {
     "data": {
      "text/markdown": [
       "### Healthy/Background batches"
      ],
      "text/plain": [
       "<IPython.core.display.Markdown object>"
      ]
     },
     "metadata": {},
     "output_type": "display_data"
    },
    {
     "data": {
      "text/html": [
       "<table><tr><th style=\"text-align: center\">pca - scatterplot</th>\n",
       "<th style=\"text-align: center\">umap - scatterplot</th></tr><tr><td style=\"text-align: center\"><img src=\"../data/data_v_20221224/embedded/unirep_fine_tuned/high_res_outputs/language_model_embedding.by_batch.healthy-background.pca.fold_0_test.BCR.png\" style=\"max-width: 800px; max-height: 800px;\" /></td>\n",
       "<td style=\"text-align: center\"><img src=\"../data/data_v_20221224/embedded/unirep_fine_tuned/high_res_outputs/language_model_embedding.by_batch.healthy-background.umap.fold_0_test.BCR.png\" style=\"max-width: 800px; max-height: 800px;\" /></td></tr></table>"
      ],
      "text/plain": [
       "<IPython.core.display.HTML object>"
      ]
     },
     "metadata": {},
     "output_type": "display_data"
    },
    {
     "data": {
      "text/html": [
       "<table><tr><th style=\"text-align: center\">pca - overall density</th>\n",
       "<th style=\"text-align: center\">umap - overall density</th></tr><tr><td style=\"text-align: center\"><img src=\"../data/data_v_20221224/embedded/unirep_fine_tuned/high_res_outputs/language_model_embedding.by_batch.healthy-background.pca.overall_density.fold_0_test.BCR.png\" style=\"max-width: 800px; max-height: 800px;\" /></td>\n",
       "<td style=\"text-align: center\"><img src=\"../data/data_v_20221224/embedded/unirep_fine_tuned/high_res_outputs/language_model_embedding.by_batch.healthy-background.umap.overall_density.fold_0_test.BCR.png\" style=\"max-width: 800px; max-height: 800px;\" /></td></tr></table>"
      ],
      "text/plain": [
       "<IPython.core.display.HTML object>"
      ]
     },
     "metadata": {},
     "output_type": "display_data"
    },
    {
     "data": {
      "text/html": [
       "<table><tr><th style=\"text-align: center\">pca - relative density (filtered out low overall density bins)</th>\n",
       "<th style=\"text-align: center\">umap - relative density (filtered out low overall density bins)</th></tr><tr><td style=\"text-align: center\"><img src=\"../data/data_v_20221224/embedded/unirep_fine_tuned/high_res_outputs/language_model_embedding.by_batch.healthy-background.pca.relative_density_with_min_density_requirement.fold_0_test.BCR.png\" style=\"max-width: 800px; max-height: 800px;\" /></td>\n",
       "<td style=\"text-align: center\"><img src=\"../data/data_v_20221224/embedded/unirep_fine_tuned/high_res_outputs/language_model_embedding.by_batch.healthy-background.umap.relative_density_with_min_density_requirement.fold_0_test.BCR.png\" style=\"max-width: 800px; max-height: 800px;\" /></td></tr></table>"
      ],
      "text/plain": [
       "<IPython.core.display.HTML object>"
      ]
     },
     "metadata": {},
     "output_type": "display_data"
    },
    {
     "data": {
      "text/html": [
       "<table><tr><th style=\"text-align: center\">pca - relative density (all bins, for comparison)</th>\n",
       "<th style=\"text-align: center\">umap - relative density (all bins, for comparison)</th></tr><tr><td style=\"text-align: center\"><img src=\"../data/data_v_20221224/embedded/unirep_fine_tuned/high_res_outputs/language_model_embedding.by_batch.healthy-background.pca.relative_density.fold_0_test.BCR.png\" style=\"max-width: 800px; max-height: 800px;\" /></td>\n",
       "<td style=\"text-align: center\"><img src=\"../data/data_v_20221224/embedded/unirep_fine_tuned/high_res_outputs/language_model_embedding.by_batch.healthy-background.umap.relative_density.fold_0_test.BCR.png\" style=\"max-width: 800px; max-height: 800px;\" /></td></tr></table>"
      ],
      "text/plain": [
       "<IPython.core.display.HTML object>"
      ]
     },
     "metadata": {},
     "output_type": "display_data"
    },
    {
     "data": {
      "text/markdown": [
       "### Lupus batches"
      ],
      "text/plain": [
       "<IPython.core.display.Markdown object>"
      ]
     },
     "metadata": {},
     "output_type": "display_data"
    },
    {
     "data": {
      "text/html": [
       "<table><tr><th style=\"text-align: center\">pca - scatterplot</th>\n",
       "<th style=\"text-align: center\">umap - scatterplot</th></tr><tr><td style=\"text-align: center\"><img src=\"../data/data_v_20221224/embedded/unirep_fine_tuned/high_res_outputs/language_model_embedding.by_batch.lupus.pca.fold_0_test.BCR.png\" style=\"max-width: 800px; max-height: 800px;\" /></td>\n",
       "<td style=\"text-align: center\"><img src=\"../data/data_v_20221224/embedded/unirep_fine_tuned/high_res_outputs/language_model_embedding.by_batch.lupus.umap.fold_0_test.BCR.png\" style=\"max-width: 800px; max-height: 800px;\" /></td></tr></table>"
      ],
      "text/plain": [
       "<IPython.core.display.HTML object>"
      ]
     },
     "metadata": {},
     "output_type": "display_data"
    },
    {
     "data": {
      "text/html": [
       "<table><tr><th style=\"text-align: center\">pca - overall density</th>\n",
       "<th style=\"text-align: center\">umap - overall density</th></tr><tr><td style=\"text-align: center\"><img src=\"../data/data_v_20221224/embedded/unirep_fine_tuned/high_res_outputs/language_model_embedding.by_batch.lupus.pca.overall_density.fold_0_test.BCR.png\" style=\"max-width: 800px; max-height: 800px;\" /></td>\n",
       "<td style=\"text-align: center\"><img src=\"../data/data_v_20221224/embedded/unirep_fine_tuned/high_res_outputs/language_model_embedding.by_batch.lupus.umap.overall_density.fold_0_test.BCR.png\" style=\"max-width: 800px; max-height: 800px;\" /></td></tr></table>"
      ],
      "text/plain": [
       "<IPython.core.display.HTML object>"
      ]
     },
     "metadata": {},
     "output_type": "display_data"
    },
    {
     "data": {
      "text/html": [
       "<table><tr><th style=\"text-align: center\">pca - relative density (filtered out low overall density bins)</th>\n",
       "<th style=\"text-align: center\">umap - relative density (filtered out low overall density bins)</th></tr><tr><td style=\"text-align: center\"><img src=\"../data/data_v_20221224/embedded/unirep_fine_tuned/high_res_outputs/language_model_embedding.by_batch.lupus.pca.relative_density_with_min_density_requirement.fold_0_test.BCR.png\" style=\"max-width: 800px; max-height: 800px;\" /></td>\n",
       "<td style=\"text-align: center\"><img src=\"../data/data_v_20221224/embedded/unirep_fine_tuned/high_res_outputs/language_model_embedding.by_batch.lupus.umap.relative_density_with_min_density_requirement.fold_0_test.BCR.png\" style=\"max-width: 800px; max-height: 800px;\" /></td></tr></table>"
      ],
      "text/plain": [
       "<IPython.core.display.HTML object>"
      ]
     },
     "metadata": {},
     "output_type": "display_data"
    },
    {
     "data": {
      "text/html": [
       "<table><tr><th style=\"text-align: center\">pca - relative density (all bins, for comparison)</th>\n",
       "<th style=\"text-align: center\">umap - relative density (all bins, for comparison)</th></tr><tr><td style=\"text-align: center\"><img src=\"../data/data_v_20221224/embedded/unirep_fine_tuned/high_res_outputs/language_model_embedding.by_batch.lupus.pca.relative_density.fold_0_test.BCR.png\" style=\"max-width: 800px; max-height: 800px;\" /></td>\n",
       "<td style=\"text-align: center\"><img src=\"../data/data_v_20221224/embedded/unirep_fine_tuned/high_res_outputs/language_model_embedding.by_batch.lupus.umap.relative_density.fold_0_test.BCR.png\" style=\"max-width: 800px; max-height: 800px;\" /></td></tr></table>"
      ],
      "text/plain": [
       "<IPython.core.display.HTML object>"
      ]
     },
     "metadata": {},
     "output_type": "display_data"
    },
    {
     "data": {
      "text/markdown": [
       "---"
      ],
      "text/plain": [
       "<IPython.core.display.Markdown object>"
      ]
     },
     "metadata": {},
     "output_type": "display_data"
    },
    {
     "data": {
      "text/markdown": [
       "## Fold 0-test, GeneLocus.TCR"
      ],
      "text/plain": [
       "<IPython.core.display.Markdown object>"
      ]
     },
     "metadata": {},
     "output_type": "display_data"
    },
    {
     "data": {
      "text/html": [
       "<table><tr><th style=\"text-align: center\">pca</th>\n",
       "<th style=\"text-align: center\">umap</th></tr><tr><td style=\"text-align: center\"><img src=\"../out/unirep_fine_tuned/language_model_embedding.all_diseases.pca.fold_0_test.TCR.png\" style=\"max-width: 800px; max-height: 800px;\" /></td>\n",
       "<td style=\"text-align: center\"><img src=\"../out/unirep_fine_tuned/language_model_embedding.all_diseases.umap.fold_0_test.TCR.png\" style=\"max-width: 800px; max-height: 800px;\" /></td></tr></table>"
      ],
      "text/plain": [
       "<IPython.core.display.HTML object>"
      ]
     },
     "metadata": {},
     "output_type": "display_data"
    },
    {
     "data": {
      "text/markdown": [
       "### Covid19 batches"
      ],
      "text/plain": [
       "<IPython.core.display.Markdown object>"
      ]
     },
     "metadata": {},
     "output_type": "display_data"
    },
    {
     "data": {
      "text/html": [
       "<table><tr><th style=\"text-align: center\">pca - scatterplot</th>\n",
       "<th style=\"text-align: center\">umap - scatterplot</th></tr><tr><td style=\"text-align: center\"><img src=\"../data/data_v_20221224/embedded/unirep_fine_tuned/high_res_outputs/language_model_embedding.by_batch.covid19.pca.fold_0_test.TCR.png\" style=\"max-width: 800px; max-height: 800px;\" /></td>\n",
       "<td style=\"text-align: center\"><img src=\"../data/data_v_20221224/embedded/unirep_fine_tuned/high_res_outputs/language_model_embedding.by_batch.covid19.umap.fold_0_test.TCR.png\" style=\"max-width: 800px; max-height: 800px;\" /></td></tr></table>"
      ],
      "text/plain": [
       "<IPython.core.display.HTML object>"
      ]
     },
     "metadata": {},
     "output_type": "display_data"
    },
    {
     "data": {
      "text/html": [
       "<table><tr><th style=\"text-align: center\">pca - overall density</th>\n",
       "<th style=\"text-align: center\">umap - overall density</th></tr><tr><td style=\"text-align: center\"><img src=\"../data/data_v_20221224/embedded/unirep_fine_tuned/high_res_outputs/language_model_embedding.by_batch.covid19.pca.overall_density.fold_0_test.TCR.png\" style=\"max-width: 800px; max-height: 800px;\" /></td>\n",
       "<td style=\"text-align: center\"><img src=\"../data/data_v_20221224/embedded/unirep_fine_tuned/high_res_outputs/language_model_embedding.by_batch.covid19.umap.overall_density.fold_0_test.TCR.png\" style=\"max-width: 800px; max-height: 800px;\" /></td></tr></table>"
      ],
      "text/plain": [
       "<IPython.core.display.HTML object>"
      ]
     },
     "metadata": {},
     "output_type": "display_data"
    },
    {
     "data": {
      "text/html": [
       "<table><tr><th style=\"text-align: center\">pca - relative density (filtered out low overall density bins)</th>\n",
       "<th style=\"text-align: center\">umap - relative density (filtered out low overall density bins)</th></tr><tr><td style=\"text-align: center\"><img src=\"../data/data_v_20221224/embedded/unirep_fine_tuned/high_res_outputs/language_model_embedding.by_batch.covid19.pca.relative_density_with_min_density_requirement.fold_0_test.TCR.png\" style=\"max-width: 800px; max-height: 800px;\" /></td>\n",
       "<td style=\"text-align: center\"><img src=\"../data/data_v_20221224/embedded/unirep_fine_tuned/high_res_outputs/language_model_embedding.by_batch.covid19.umap.relative_density_with_min_density_requirement.fold_0_test.TCR.png\" style=\"max-width: 800px; max-height: 800px;\" /></td></tr></table>"
      ],
      "text/plain": [
       "<IPython.core.display.HTML object>"
      ]
     },
     "metadata": {},
     "output_type": "display_data"
    },
    {
     "data": {
      "text/html": [
       "<table><tr><th style=\"text-align: center\">pca - relative density (all bins, for comparison)</th>\n",
       "<th style=\"text-align: center\">umap - relative density (all bins, for comparison)</th></tr><tr><td style=\"text-align: center\"><img src=\"../data/data_v_20221224/embedded/unirep_fine_tuned/high_res_outputs/language_model_embedding.by_batch.covid19.pca.relative_density.fold_0_test.TCR.png\" style=\"max-width: 800px; max-height: 800px;\" /></td>\n",
       "<td style=\"text-align: center\"><img src=\"../data/data_v_20221224/embedded/unirep_fine_tuned/high_res_outputs/language_model_embedding.by_batch.covid19.umap.relative_density.fold_0_test.TCR.png\" style=\"max-width: 800px; max-height: 800px;\" /></td></tr></table>"
      ],
      "text/plain": [
       "<IPython.core.display.HTML object>"
      ]
     },
     "metadata": {},
     "output_type": "display_data"
    },
    {
     "data": {
      "text/markdown": [
       "### HIV batches"
      ],
      "text/plain": [
       "<IPython.core.display.Markdown object>"
      ]
     },
     "metadata": {},
     "output_type": "display_data"
    },
    {
     "data": {
      "text/html": [
       "<table><tr><th style=\"text-align: center\">pca - scatterplot</th>\n",
       "<th style=\"text-align: center\">umap - scatterplot</th></tr><tr><td style=\"text-align: center\"><img src=\"../data/data_v_20221224/embedded/unirep_fine_tuned/high_res_outputs/language_model_embedding.by_batch.hiv.pca.fold_0_test.TCR.png\" style=\"max-width: 800px; max-height: 800px;\" /></td>\n",
       "<td style=\"text-align: center\"><img src=\"../data/data_v_20221224/embedded/unirep_fine_tuned/high_res_outputs/language_model_embedding.by_batch.hiv.umap.fold_0_test.TCR.png\" style=\"max-width: 800px; max-height: 800px;\" /></td></tr></table>"
      ],
      "text/plain": [
       "<IPython.core.display.HTML object>"
      ]
     },
     "metadata": {},
     "output_type": "display_data"
    },
    {
     "data": {
      "text/html": [
       "<table><tr><th style=\"text-align: center\">pca - overall density</th>\n",
       "<th style=\"text-align: center\">umap - overall density</th></tr><tr><td style=\"text-align: center\"><img src=\"../data/data_v_20221224/embedded/unirep_fine_tuned/high_res_outputs/language_model_embedding.by_batch.hiv.pca.overall_density.fold_0_test.TCR.png\" style=\"max-width: 800px; max-height: 800px;\" /></td>\n",
       "<td style=\"text-align: center\"><img src=\"../data/data_v_20221224/embedded/unirep_fine_tuned/high_res_outputs/language_model_embedding.by_batch.hiv.umap.overall_density.fold_0_test.TCR.png\" style=\"max-width: 800px; max-height: 800px;\" /></td></tr></table>"
      ],
      "text/plain": [
       "<IPython.core.display.HTML object>"
      ]
     },
     "metadata": {},
     "output_type": "display_data"
    },
    {
     "data": {
      "text/html": [
       "<table><tr><th style=\"text-align: center\">pca - relative density (filtered out low overall density bins)</th>\n",
       "<th style=\"text-align: center\">umap - relative density (filtered out low overall density bins)</th></tr><tr><td style=\"text-align: center\"><img src=\"../data/data_v_20221224/embedded/unirep_fine_tuned/high_res_outputs/language_model_embedding.by_batch.hiv.pca.relative_density_with_min_density_requirement.fold_0_test.TCR.png\" style=\"max-width: 800px; max-height: 800px;\" /></td>\n",
       "<td style=\"text-align: center\"><img src=\"../data/data_v_20221224/embedded/unirep_fine_tuned/high_res_outputs/language_model_embedding.by_batch.hiv.umap.relative_density_with_min_density_requirement.fold_0_test.TCR.png\" style=\"max-width: 800px; max-height: 800px;\" /></td></tr></table>"
      ],
      "text/plain": [
       "<IPython.core.display.HTML object>"
      ]
     },
     "metadata": {},
     "output_type": "display_data"
    },
    {
     "data": {
      "text/html": [
       "<table><tr><th style=\"text-align: center\">pca - relative density (all bins, for comparison)</th>\n",
       "<th style=\"text-align: center\">umap - relative density (all bins, for comparison)</th></tr><tr><td style=\"text-align: center\"><img src=\"../data/data_v_20221224/embedded/unirep_fine_tuned/high_res_outputs/language_model_embedding.by_batch.hiv.pca.relative_density.fold_0_test.TCR.png\" style=\"max-width: 800px; max-height: 800px;\" /></td>\n",
       "<td style=\"text-align: center\"><img src=\"../data/data_v_20221224/embedded/unirep_fine_tuned/high_res_outputs/language_model_embedding.by_batch.hiv.umap.relative_density.fold_0_test.TCR.png\" style=\"max-width: 800px; max-height: 800px;\" /></td></tr></table>"
      ],
      "text/plain": [
       "<IPython.core.display.HTML object>"
      ]
     },
     "metadata": {},
     "output_type": "display_data"
    },
    {
     "data": {
      "text/markdown": [
       "### Healthy/Background batches"
      ],
      "text/plain": [
       "<IPython.core.display.Markdown object>"
      ]
     },
     "metadata": {},
     "output_type": "display_data"
    },
    {
     "data": {
      "text/html": [
       "<table><tr><th style=\"text-align: center\">pca - scatterplot</th>\n",
       "<th style=\"text-align: center\">umap - scatterplot</th></tr><tr><td style=\"text-align: center\"><img src=\"../data/data_v_20221224/embedded/unirep_fine_tuned/high_res_outputs/language_model_embedding.by_batch.healthy-background.pca.fold_0_test.TCR.png\" style=\"max-width: 800px; max-height: 800px;\" /></td>\n",
       "<td style=\"text-align: center\"><img src=\"../data/data_v_20221224/embedded/unirep_fine_tuned/high_res_outputs/language_model_embedding.by_batch.healthy-background.umap.fold_0_test.TCR.png\" style=\"max-width: 800px; max-height: 800px;\" /></td></tr></table>"
      ],
      "text/plain": [
       "<IPython.core.display.HTML object>"
      ]
     },
     "metadata": {},
     "output_type": "display_data"
    },
    {
     "data": {
      "text/html": [
       "<table><tr><th style=\"text-align: center\">pca - overall density</th>\n",
       "<th style=\"text-align: center\">umap - overall density</th></tr><tr><td style=\"text-align: center\"><img src=\"../data/data_v_20221224/embedded/unirep_fine_tuned/high_res_outputs/language_model_embedding.by_batch.healthy-background.pca.overall_density.fold_0_test.TCR.png\" style=\"max-width: 800px; max-height: 800px;\" /></td>\n",
       "<td style=\"text-align: center\"><img src=\"../data/data_v_20221224/embedded/unirep_fine_tuned/high_res_outputs/language_model_embedding.by_batch.healthy-background.umap.overall_density.fold_0_test.TCR.png\" style=\"max-width: 800px; max-height: 800px;\" /></td></tr></table>"
      ],
      "text/plain": [
       "<IPython.core.display.HTML object>"
      ]
     },
     "metadata": {},
     "output_type": "display_data"
    },
    {
     "data": {
      "text/html": [
       "<table><tr><th style=\"text-align: center\">pca - relative density (filtered out low overall density bins)</th>\n",
       "<th style=\"text-align: center\">umap - relative density (filtered out low overall density bins)</th></tr><tr><td style=\"text-align: center\"><img src=\"../data/data_v_20221224/embedded/unirep_fine_tuned/high_res_outputs/language_model_embedding.by_batch.healthy-background.pca.relative_density_with_min_density_requirement.fold_0_test.TCR.png\" style=\"max-width: 800px; max-height: 800px;\" /></td>\n",
       "<td style=\"text-align: center\"><img src=\"../data/data_v_20221224/embedded/unirep_fine_tuned/high_res_outputs/language_model_embedding.by_batch.healthy-background.umap.relative_density_with_min_density_requirement.fold_0_test.TCR.png\" style=\"max-width: 800px; max-height: 800px;\" /></td></tr></table>"
      ],
      "text/plain": [
       "<IPython.core.display.HTML object>"
      ]
     },
     "metadata": {},
     "output_type": "display_data"
    },
    {
     "data": {
      "text/html": [
       "<table><tr><th style=\"text-align: center\">pca - relative density (all bins, for comparison)</th>\n",
       "<th style=\"text-align: center\">umap - relative density (all bins, for comparison)</th></tr><tr><td style=\"text-align: center\"><img src=\"../data/data_v_20221224/embedded/unirep_fine_tuned/high_res_outputs/language_model_embedding.by_batch.healthy-background.pca.relative_density.fold_0_test.TCR.png\" style=\"max-width: 800px; max-height: 800px;\" /></td>\n",
       "<td style=\"text-align: center\"><img src=\"../data/data_v_20221224/embedded/unirep_fine_tuned/high_res_outputs/language_model_embedding.by_batch.healthy-background.umap.relative_density.fold_0_test.TCR.png\" style=\"max-width: 800px; max-height: 800px;\" /></td></tr></table>"
      ],
      "text/plain": [
       "<IPython.core.display.HTML object>"
      ]
     },
     "metadata": {},
     "output_type": "display_data"
    },
    {
     "data": {
      "text/markdown": [
       "### Lupus batches"
      ],
      "text/plain": [
       "<IPython.core.display.Markdown object>"
      ]
     },
     "metadata": {},
     "output_type": "display_data"
    },
    {
     "data": {
      "text/html": [
       "<table><tr><th style=\"text-align: center\">pca - scatterplot</th>\n",
       "<th style=\"text-align: center\">umap - scatterplot</th></tr><tr><td style=\"text-align: center\"><img src=\"../data/data_v_20221224/embedded/unirep_fine_tuned/high_res_outputs/language_model_embedding.by_batch.lupus.pca.fold_0_test.TCR.png\" style=\"max-width: 800px; max-height: 800px;\" /></td>\n",
       "<td style=\"text-align: center\"><img src=\"../data/data_v_20221224/embedded/unirep_fine_tuned/high_res_outputs/language_model_embedding.by_batch.lupus.umap.fold_0_test.TCR.png\" style=\"max-width: 800px; max-height: 800px;\" /></td></tr></table>"
      ],
      "text/plain": [
       "<IPython.core.display.HTML object>"
      ]
     },
     "metadata": {},
     "output_type": "display_data"
    },
    {
     "data": {
      "text/html": [
       "<table><tr><th style=\"text-align: center\">pca - overall density</th>\n",
       "<th style=\"text-align: center\">umap - overall density</th></tr><tr><td style=\"text-align: center\"><img src=\"../data/data_v_20221224/embedded/unirep_fine_tuned/high_res_outputs/language_model_embedding.by_batch.lupus.pca.overall_density.fold_0_test.TCR.png\" style=\"max-width: 800px; max-height: 800px;\" /></td>\n",
       "<td style=\"text-align: center\"><img src=\"../data/data_v_20221224/embedded/unirep_fine_tuned/high_res_outputs/language_model_embedding.by_batch.lupus.umap.overall_density.fold_0_test.TCR.png\" style=\"max-width: 800px; max-height: 800px;\" /></td></tr></table>"
      ],
      "text/plain": [
       "<IPython.core.display.HTML object>"
      ]
     },
     "metadata": {},
     "output_type": "display_data"
    },
    {
     "data": {
      "text/html": [
       "<table><tr><th style=\"text-align: center\">pca - relative density (filtered out low overall density bins)</th>\n",
       "<th style=\"text-align: center\">umap - relative density (filtered out low overall density bins)</th></tr><tr><td style=\"text-align: center\"><img src=\"../data/data_v_20221224/embedded/unirep_fine_tuned/high_res_outputs/language_model_embedding.by_batch.lupus.pca.relative_density_with_min_density_requirement.fold_0_test.TCR.png\" style=\"max-width: 800px; max-height: 800px;\" /></td>\n",
       "<td style=\"text-align: center\"><img src=\"../data/data_v_20221224/embedded/unirep_fine_tuned/high_res_outputs/language_model_embedding.by_batch.lupus.umap.relative_density_with_min_density_requirement.fold_0_test.TCR.png\" style=\"max-width: 800px; max-height: 800px;\" /></td></tr></table>"
      ],
      "text/plain": [
       "<IPython.core.display.HTML object>"
      ]
     },
     "metadata": {},
     "output_type": "display_data"
    },
    {
     "data": {
      "text/html": [
       "<table><tr><th style=\"text-align: center\">pca - relative density (all bins, for comparison)</th>\n",
       "<th style=\"text-align: center\">umap - relative density (all bins, for comparison)</th></tr><tr><td style=\"text-align: center\"><img src=\"../data/data_v_20221224/embedded/unirep_fine_tuned/high_res_outputs/language_model_embedding.by_batch.lupus.pca.relative_density.fold_0_test.TCR.png\" style=\"max-width: 800px; max-height: 800px;\" /></td>\n",
       "<td style=\"text-align: center\"><img src=\"../data/data_v_20221224/embedded/unirep_fine_tuned/high_res_outputs/language_model_embedding.by_batch.lupus.umap.relative_density.fold_0_test.TCR.png\" style=\"max-width: 800px; max-height: 800px;\" /></td></tr></table>"
      ],
      "text/plain": [
       "<IPython.core.display.HTML object>"
      ]
     },
     "metadata": {},
     "output_type": "display_data"
    },
    {
     "data": {
      "text/markdown": [
       "---"
      ],
      "text/plain": [
       "<IPython.core.display.Markdown object>"
      ]
     },
     "metadata": {},
     "output_type": "display_data"
    },
    {
     "data": {
      "text/markdown": [
       "## Fold 1-test, GeneLocus.BCR"
      ],
      "text/plain": [
       "<IPython.core.display.Markdown object>"
      ]
     },
     "metadata": {},
     "output_type": "display_data"
    },
    {
     "data": {
      "text/html": [
       "<table><tr><th style=\"text-align: center\">pca</th>\n",
       "<th style=\"text-align: center\">umap</th></tr><tr><td style=\"text-align: center\"><img src=\"../out/unirep_fine_tuned/language_model_embedding.all_diseases.pca.fold_1_test.BCR.png\" style=\"max-width: 800px; max-height: 800px;\" /></td>\n",
       "<td style=\"text-align: center\"><img src=\"../out/unirep_fine_tuned/language_model_embedding.all_diseases.umap.fold_1_test.BCR.png\" style=\"max-width: 800px; max-height: 800px;\" /></td></tr></table>"
      ],
      "text/plain": [
       "<IPython.core.display.HTML object>"
      ]
     },
     "metadata": {},
     "output_type": "display_data"
    },
    {
     "data": {
      "text/markdown": [
       "### Covid19 batches"
      ],
      "text/plain": [
       "<IPython.core.display.Markdown object>"
      ]
     },
     "metadata": {},
     "output_type": "display_data"
    },
    {
     "data": {
      "text/html": [
       "<table><tr><th style=\"text-align: center\">pca - scatterplot</th>\n",
       "<th style=\"text-align: center\">umap - scatterplot</th></tr><tr><td style=\"text-align: center\"><img src=\"../data/data_v_20221224/embedded/unirep_fine_tuned/high_res_outputs/language_model_embedding.by_batch.covid19.pca.fold_1_test.BCR.png\" style=\"max-width: 800px; max-height: 800px;\" /></td>\n",
       "<td style=\"text-align: center\"><img src=\"../data/data_v_20221224/embedded/unirep_fine_tuned/high_res_outputs/language_model_embedding.by_batch.covid19.umap.fold_1_test.BCR.png\" style=\"max-width: 800px; max-height: 800px;\" /></td></tr></table>"
      ],
      "text/plain": [
       "<IPython.core.display.HTML object>"
      ]
     },
     "metadata": {},
     "output_type": "display_data"
    },
    {
     "data": {
      "text/html": [
       "<table><tr><th style=\"text-align: center\">pca - overall density</th>\n",
       "<th style=\"text-align: center\">umap - overall density</th></tr><tr><td style=\"text-align: center\"><img src=\"../data/data_v_20221224/embedded/unirep_fine_tuned/high_res_outputs/language_model_embedding.by_batch.covid19.pca.overall_density.fold_1_test.BCR.png\" style=\"max-width: 800px; max-height: 800px;\" /></td>\n",
       "<td style=\"text-align: center\"><img src=\"../data/data_v_20221224/embedded/unirep_fine_tuned/high_res_outputs/language_model_embedding.by_batch.covid19.umap.overall_density.fold_1_test.BCR.png\" style=\"max-width: 800px; max-height: 800px;\" /></td></tr></table>"
      ],
      "text/plain": [
       "<IPython.core.display.HTML object>"
      ]
     },
     "metadata": {},
     "output_type": "display_data"
    },
    {
     "data": {
      "text/html": [
       "<table><tr><th style=\"text-align: center\">pca - relative density (filtered out low overall density bins)</th>\n",
       "<th style=\"text-align: center\">umap - relative density (filtered out low overall density bins)</th></tr><tr><td style=\"text-align: center\"><img src=\"../data/data_v_20221224/embedded/unirep_fine_tuned/high_res_outputs/language_model_embedding.by_batch.covid19.pca.relative_density_with_min_density_requirement.fold_1_test.BCR.png\" style=\"max-width: 800px; max-height: 800px;\" /></td>\n",
       "<td style=\"text-align: center\"><img src=\"../data/data_v_20221224/embedded/unirep_fine_tuned/high_res_outputs/language_model_embedding.by_batch.covid19.umap.relative_density_with_min_density_requirement.fold_1_test.BCR.png\" style=\"max-width: 800px; max-height: 800px;\" /></td></tr></table>"
      ],
      "text/plain": [
       "<IPython.core.display.HTML object>"
      ]
     },
     "metadata": {},
     "output_type": "display_data"
    },
    {
     "data": {
      "text/html": [
       "<table><tr><th style=\"text-align: center\">pca - relative density (all bins, for comparison)</th>\n",
       "<th style=\"text-align: center\">umap - relative density (all bins, for comparison)</th></tr><tr><td style=\"text-align: center\"><img src=\"../data/data_v_20221224/embedded/unirep_fine_tuned/high_res_outputs/language_model_embedding.by_batch.covid19.pca.relative_density.fold_1_test.BCR.png\" style=\"max-width: 800px; max-height: 800px;\" /></td>\n",
       "<td style=\"text-align: center\"><img src=\"../data/data_v_20221224/embedded/unirep_fine_tuned/high_res_outputs/language_model_embedding.by_batch.covid19.umap.relative_density.fold_1_test.BCR.png\" style=\"max-width: 800px; max-height: 800px;\" /></td></tr></table>"
      ],
      "text/plain": [
       "<IPython.core.display.HTML object>"
      ]
     },
     "metadata": {},
     "output_type": "display_data"
    },
    {
     "data": {
      "text/markdown": [
       "### HIV batches"
      ],
      "text/plain": [
       "<IPython.core.display.Markdown object>"
      ]
     },
     "metadata": {},
     "output_type": "display_data"
    },
    {
     "data": {
      "text/html": [
       "<table><tr><th style=\"text-align: center\">pca - scatterplot</th>\n",
       "<th style=\"text-align: center\">umap - scatterplot</th></tr><tr><td style=\"text-align: center\"><img src=\"../data/data_v_20221224/embedded/unirep_fine_tuned/high_res_outputs/language_model_embedding.by_batch.hiv.pca.fold_1_test.BCR.png\" style=\"max-width: 800px; max-height: 800px;\" /></td>\n",
       "<td style=\"text-align: center\"><img src=\"../data/data_v_20221224/embedded/unirep_fine_tuned/high_res_outputs/language_model_embedding.by_batch.hiv.umap.fold_1_test.BCR.png\" style=\"max-width: 800px; max-height: 800px;\" /></td></tr></table>"
      ],
      "text/plain": [
       "<IPython.core.display.HTML object>"
      ]
     },
     "metadata": {},
     "output_type": "display_data"
    },
    {
     "data": {
      "text/html": [
       "<table><tr><th style=\"text-align: center\">pca - overall density</th>\n",
       "<th style=\"text-align: center\">umap - overall density</th></tr><tr><td style=\"text-align: center\"><img src=\"../data/data_v_20221224/embedded/unirep_fine_tuned/high_res_outputs/language_model_embedding.by_batch.hiv.pca.overall_density.fold_1_test.BCR.png\" style=\"max-width: 800px; max-height: 800px;\" /></td>\n",
       "<td style=\"text-align: center\"><img src=\"../data/data_v_20221224/embedded/unirep_fine_tuned/high_res_outputs/language_model_embedding.by_batch.hiv.umap.overall_density.fold_1_test.BCR.png\" style=\"max-width: 800px; max-height: 800px;\" /></td></tr></table>"
      ],
      "text/plain": [
       "<IPython.core.display.HTML object>"
      ]
     },
     "metadata": {},
     "output_type": "display_data"
    },
    {
     "data": {
      "text/html": [
       "<table><tr><th style=\"text-align: center\">pca - relative density (filtered out low overall density bins)</th>\n",
       "<th style=\"text-align: center\">umap - relative density (filtered out low overall density bins)</th></tr><tr><td style=\"text-align: center\"><img src=\"../data/data_v_20221224/embedded/unirep_fine_tuned/high_res_outputs/language_model_embedding.by_batch.hiv.pca.relative_density_with_min_density_requirement.fold_1_test.BCR.png\" style=\"max-width: 800px; max-height: 800px;\" /></td>\n",
       "<td style=\"text-align: center\"><img src=\"../data/data_v_20221224/embedded/unirep_fine_tuned/high_res_outputs/language_model_embedding.by_batch.hiv.umap.relative_density_with_min_density_requirement.fold_1_test.BCR.png\" style=\"max-width: 800px; max-height: 800px;\" /></td></tr></table>"
      ],
      "text/plain": [
       "<IPython.core.display.HTML object>"
      ]
     },
     "metadata": {},
     "output_type": "display_data"
    },
    {
     "data": {
      "text/html": [
       "<table><tr><th style=\"text-align: center\">pca - relative density (all bins, for comparison)</th>\n",
       "<th style=\"text-align: center\">umap - relative density (all bins, for comparison)</th></tr><tr><td style=\"text-align: center\"><img src=\"../data/data_v_20221224/embedded/unirep_fine_tuned/high_res_outputs/language_model_embedding.by_batch.hiv.pca.relative_density.fold_1_test.BCR.png\" style=\"max-width: 800px; max-height: 800px;\" /></td>\n",
       "<td style=\"text-align: center\"><img src=\"../data/data_v_20221224/embedded/unirep_fine_tuned/high_res_outputs/language_model_embedding.by_batch.hiv.umap.relative_density.fold_1_test.BCR.png\" style=\"max-width: 800px; max-height: 800px;\" /></td></tr></table>"
      ],
      "text/plain": [
       "<IPython.core.display.HTML object>"
      ]
     },
     "metadata": {},
     "output_type": "display_data"
    },
    {
     "data": {
      "text/markdown": [
       "### Healthy/Background batches"
      ],
      "text/plain": [
       "<IPython.core.display.Markdown object>"
      ]
     },
     "metadata": {},
     "output_type": "display_data"
    },
    {
     "data": {
      "text/html": [
       "<table><tr><th style=\"text-align: center\">pca - scatterplot</th>\n",
       "<th style=\"text-align: center\">umap - scatterplot</th></tr><tr><td style=\"text-align: center\"><img src=\"../data/data_v_20221224/embedded/unirep_fine_tuned/high_res_outputs/language_model_embedding.by_batch.healthy-background.pca.fold_1_test.BCR.png\" style=\"max-width: 800px; max-height: 800px;\" /></td>\n",
       "<td style=\"text-align: center\"><img src=\"../data/data_v_20221224/embedded/unirep_fine_tuned/high_res_outputs/language_model_embedding.by_batch.healthy-background.umap.fold_1_test.BCR.png\" style=\"max-width: 800px; max-height: 800px;\" /></td></tr></table>"
      ],
      "text/plain": [
       "<IPython.core.display.HTML object>"
      ]
     },
     "metadata": {},
     "output_type": "display_data"
    },
    {
     "data": {
      "text/html": [
       "<table><tr><th style=\"text-align: center\">pca - overall density</th>\n",
       "<th style=\"text-align: center\">umap - overall density</th></tr><tr><td style=\"text-align: center\"><img src=\"../data/data_v_20221224/embedded/unirep_fine_tuned/high_res_outputs/language_model_embedding.by_batch.healthy-background.pca.overall_density.fold_1_test.BCR.png\" style=\"max-width: 800px; max-height: 800px;\" /></td>\n",
       "<td style=\"text-align: center\"><img src=\"../data/data_v_20221224/embedded/unirep_fine_tuned/high_res_outputs/language_model_embedding.by_batch.healthy-background.umap.overall_density.fold_1_test.BCR.png\" style=\"max-width: 800px; max-height: 800px;\" /></td></tr></table>"
      ],
      "text/plain": [
       "<IPython.core.display.HTML object>"
      ]
     },
     "metadata": {},
     "output_type": "display_data"
    },
    {
     "data": {
      "text/html": [
       "<table><tr><th style=\"text-align: center\">pca - relative density (filtered out low overall density bins)</th>\n",
       "<th style=\"text-align: center\">umap - relative density (filtered out low overall density bins)</th></tr><tr><td style=\"text-align: center\"><img src=\"../data/data_v_20221224/embedded/unirep_fine_tuned/high_res_outputs/language_model_embedding.by_batch.healthy-background.pca.relative_density_with_min_density_requirement.fold_1_test.BCR.png\" style=\"max-width: 800px; max-height: 800px;\" /></td>\n",
       "<td style=\"text-align: center\"><img src=\"../data/data_v_20221224/embedded/unirep_fine_tuned/high_res_outputs/language_model_embedding.by_batch.healthy-background.umap.relative_density_with_min_density_requirement.fold_1_test.BCR.png\" style=\"max-width: 800px; max-height: 800px;\" /></td></tr></table>"
      ],
      "text/plain": [
       "<IPython.core.display.HTML object>"
      ]
     },
     "metadata": {},
     "output_type": "display_data"
    },
    {
     "data": {
      "text/html": [
       "<table><tr><th style=\"text-align: center\">pca - relative density (all bins, for comparison)</th>\n",
       "<th style=\"text-align: center\">umap - relative density (all bins, for comparison)</th></tr><tr><td style=\"text-align: center\"><img src=\"../data/data_v_20221224/embedded/unirep_fine_tuned/high_res_outputs/language_model_embedding.by_batch.healthy-background.pca.relative_density.fold_1_test.BCR.png\" style=\"max-width: 800px; max-height: 800px;\" /></td>\n",
       "<td style=\"text-align: center\"><img src=\"../data/data_v_20221224/embedded/unirep_fine_tuned/high_res_outputs/language_model_embedding.by_batch.healthy-background.umap.relative_density.fold_1_test.BCR.png\" style=\"max-width: 800px; max-height: 800px;\" /></td></tr></table>"
      ],
      "text/plain": [
       "<IPython.core.display.HTML object>"
      ]
     },
     "metadata": {},
     "output_type": "display_data"
    },
    {
     "data": {
      "text/markdown": [
       "### Lupus batches"
      ],
      "text/plain": [
       "<IPython.core.display.Markdown object>"
      ]
     },
     "metadata": {},
     "output_type": "display_data"
    },
    {
     "data": {
      "text/html": [
       "<table><tr><th style=\"text-align: center\">pca - scatterplot</th>\n",
       "<th style=\"text-align: center\">umap - scatterplot</th></tr><tr><td style=\"text-align: center\"><img src=\"../data/data_v_20221224/embedded/unirep_fine_tuned/high_res_outputs/language_model_embedding.by_batch.lupus.pca.fold_1_test.BCR.png\" style=\"max-width: 800px; max-height: 800px;\" /></td>\n",
       "<td style=\"text-align: center\"><img src=\"../data/data_v_20221224/embedded/unirep_fine_tuned/high_res_outputs/language_model_embedding.by_batch.lupus.umap.fold_1_test.BCR.png\" style=\"max-width: 800px; max-height: 800px;\" /></td></tr></table>"
      ],
      "text/plain": [
       "<IPython.core.display.HTML object>"
      ]
     },
     "metadata": {},
     "output_type": "display_data"
    },
    {
     "data": {
      "text/html": [
       "<table><tr><th style=\"text-align: center\">pca - overall density</th>\n",
       "<th style=\"text-align: center\">umap - overall density</th></tr><tr><td style=\"text-align: center\"><img src=\"../data/data_v_20221224/embedded/unirep_fine_tuned/high_res_outputs/language_model_embedding.by_batch.lupus.pca.overall_density.fold_1_test.BCR.png\" style=\"max-width: 800px; max-height: 800px;\" /></td>\n",
       "<td style=\"text-align: center\"><img src=\"../data/data_v_20221224/embedded/unirep_fine_tuned/high_res_outputs/language_model_embedding.by_batch.lupus.umap.overall_density.fold_1_test.BCR.png\" style=\"max-width: 800px; max-height: 800px;\" /></td></tr></table>"
      ],
      "text/plain": [
       "<IPython.core.display.HTML object>"
      ]
     },
     "metadata": {},
     "output_type": "display_data"
    },
    {
     "data": {
      "text/html": [
       "<table><tr><th style=\"text-align: center\">pca - relative density (filtered out low overall density bins)</th>\n",
       "<th style=\"text-align: center\">umap - relative density (filtered out low overall density bins)</th></tr><tr><td style=\"text-align: center\"><img src=\"../data/data_v_20221224/embedded/unirep_fine_tuned/high_res_outputs/language_model_embedding.by_batch.lupus.pca.relative_density_with_min_density_requirement.fold_1_test.BCR.png\" style=\"max-width: 800px; max-height: 800px;\" /></td>\n",
       "<td style=\"text-align: center\"><img src=\"../data/data_v_20221224/embedded/unirep_fine_tuned/high_res_outputs/language_model_embedding.by_batch.lupus.umap.relative_density_with_min_density_requirement.fold_1_test.BCR.png\" style=\"max-width: 800px; max-height: 800px;\" /></td></tr></table>"
      ],
      "text/plain": [
       "<IPython.core.display.HTML object>"
      ]
     },
     "metadata": {},
     "output_type": "display_data"
    },
    {
     "data": {
      "text/html": [
       "<table><tr><th style=\"text-align: center\">pca - relative density (all bins, for comparison)</th>\n",
       "<th style=\"text-align: center\">umap - relative density (all bins, for comparison)</th></tr><tr><td style=\"text-align: center\"><img src=\"../data/data_v_20221224/embedded/unirep_fine_tuned/high_res_outputs/language_model_embedding.by_batch.lupus.pca.relative_density.fold_1_test.BCR.png\" style=\"max-width: 800px; max-height: 800px;\" /></td>\n",
       "<td style=\"text-align: center\"><img src=\"../data/data_v_20221224/embedded/unirep_fine_tuned/high_res_outputs/language_model_embedding.by_batch.lupus.umap.relative_density.fold_1_test.BCR.png\" style=\"max-width: 800px; max-height: 800px;\" /></td></tr></table>"
      ],
      "text/plain": [
       "<IPython.core.display.HTML object>"
      ]
     },
     "metadata": {},
     "output_type": "display_data"
    },
    {
     "data": {
      "text/markdown": [
       "---"
      ],
      "text/plain": [
       "<IPython.core.display.Markdown object>"
      ]
     },
     "metadata": {},
     "output_type": "display_data"
    },
    {
     "data": {
      "text/markdown": [
       "## Fold 1-test, GeneLocus.TCR"
      ],
      "text/plain": [
       "<IPython.core.display.Markdown object>"
      ]
     },
     "metadata": {},
     "output_type": "display_data"
    },
    {
     "data": {
      "text/html": [
       "<table><tr><th style=\"text-align: center\">pca</th>\n",
       "<th style=\"text-align: center\">umap</th></tr><tr><td style=\"text-align: center\"><img src=\"../out/unirep_fine_tuned/language_model_embedding.all_diseases.pca.fold_1_test.TCR.png\" style=\"max-width: 800px; max-height: 800px;\" /></td>\n",
       "<td style=\"text-align: center\"><img src=\"../out/unirep_fine_tuned/language_model_embedding.all_diseases.umap.fold_1_test.TCR.png\" style=\"max-width: 800px; max-height: 800px;\" /></td></tr></table>"
      ],
      "text/plain": [
       "<IPython.core.display.HTML object>"
      ]
     },
     "metadata": {},
     "output_type": "display_data"
    },
    {
     "data": {
      "text/markdown": [
       "### Covid19 batches"
      ],
      "text/plain": [
       "<IPython.core.display.Markdown object>"
      ]
     },
     "metadata": {},
     "output_type": "display_data"
    },
    {
     "data": {
      "text/html": [
       "<table><tr><th style=\"text-align: center\">pca - scatterplot</th>\n",
       "<th style=\"text-align: center\">umap - scatterplot</th></tr><tr><td style=\"text-align: center\"><img src=\"../data/data_v_20221224/embedded/unirep_fine_tuned/high_res_outputs/language_model_embedding.by_batch.covid19.pca.fold_1_test.TCR.png\" style=\"max-width: 800px; max-height: 800px;\" /></td>\n",
       "<td style=\"text-align: center\"><img src=\"../data/data_v_20221224/embedded/unirep_fine_tuned/high_res_outputs/language_model_embedding.by_batch.covid19.umap.fold_1_test.TCR.png\" style=\"max-width: 800px; max-height: 800px;\" /></td></tr></table>"
      ],
      "text/plain": [
       "<IPython.core.display.HTML object>"
      ]
     },
     "metadata": {},
     "output_type": "display_data"
    },
    {
     "data": {
      "text/html": [
       "<table><tr><th style=\"text-align: center\">pca - overall density</th>\n",
       "<th style=\"text-align: center\">umap - overall density</th></tr><tr><td style=\"text-align: center\"><img src=\"../data/data_v_20221224/embedded/unirep_fine_tuned/high_res_outputs/language_model_embedding.by_batch.covid19.pca.overall_density.fold_1_test.TCR.png\" style=\"max-width: 800px; max-height: 800px;\" /></td>\n",
       "<td style=\"text-align: center\"><img src=\"../data/data_v_20221224/embedded/unirep_fine_tuned/high_res_outputs/language_model_embedding.by_batch.covid19.umap.overall_density.fold_1_test.TCR.png\" style=\"max-width: 800px; max-height: 800px;\" /></td></tr></table>"
      ],
      "text/plain": [
       "<IPython.core.display.HTML object>"
      ]
     },
     "metadata": {},
     "output_type": "display_data"
    },
    {
     "data": {
      "text/html": [
       "<table><tr><th style=\"text-align: center\">pca - relative density (filtered out low overall density bins)</th>\n",
       "<th style=\"text-align: center\">umap - relative density (filtered out low overall density bins)</th></tr><tr><td style=\"text-align: center\"><img src=\"../data/data_v_20221224/embedded/unirep_fine_tuned/high_res_outputs/language_model_embedding.by_batch.covid19.pca.relative_density_with_min_density_requirement.fold_1_test.TCR.png\" style=\"max-width: 800px; max-height: 800px;\" /></td>\n",
       "<td style=\"text-align: center\"><img src=\"../data/data_v_20221224/embedded/unirep_fine_tuned/high_res_outputs/language_model_embedding.by_batch.covid19.umap.relative_density_with_min_density_requirement.fold_1_test.TCR.png\" style=\"max-width: 800px; max-height: 800px;\" /></td></tr></table>"
      ],
      "text/plain": [
       "<IPython.core.display.HTML object>"
      ]
     },
     "metadata": {},
     "output_type": "display_data"
    },
    {
     "data": {
      "text/html": [
       "<table><tr><th style=\"text-align: center\">pca - relative density (all bins, for comparison)</th>\n",
       "<th style=\"text-align: center\">umap - relative density (all bins, for comparison)</th></tr><tr><td style=\"text-align: center\"><img src=\"../data/data_v_20221224/embedded/unirep_fine_tuned/high_res_outputs/language_model_embedding.by_batch.covid19.pca.relative_density.fold_1_test.TCR.png\" style=\"max-width: 800px; max-height: 800px;\" /></td>\n",
       "<td style=\"text-align: center\"><img src=\"../data/data_v_20221224/embedded/unirep_fine_tuned/high_res_outputs/language_model_embedding.by_batch.covid19.umap.relative_density.fold_1_test.TCR.png\" style=\"max-width: 800px; max-height: 800px;\" /></td></tr></table>"
      ],
      "text/plain": [
       "<IPython.core.display.HTML object>"
      ]
     },
     "metadata": {},
     "output_type": "display_data"
    },
    {
     "data": {
      "text/markdown": [
       "### HIV batches"
      ],
      "text/plain": [
       "<IPython.core.display.Markdown object>"
      ]
     },
     "metadata": {},
     "output_type": "display_data"
    },
    {
     "data": {
      "text/html": [
       "<table><tr><th style=\"text-align: center\">pca - scatterplot</th>\n",
       "<th style=\"text-align: center\">umap - scatterplot</th></tr><tr><td style=\"text-align: center\"><img src=\"../data/data_v_20221224/embedded/unirep_fine_tuned/high_res_outputs/language_model_embedding.by_batch.hiv.pca.fold_1_test.TCR.png\" style=\"max-width: 800px; max-height: 800px;\" /></td>\n",
       "<td style=\"text-align: center\"><img src=\"../data/data_v_20221224/embedded/unirep_fine_tuned/high_res_outputs/language_model_embedding.by_batch.hiv.umap.fold_1_test.TCR.png\" style=\"max-width: 800px; max-height: 800px;\" /></td></tr></table>"
      ],
      "text/plain": [
       "<IPython.core.display.HTML object>"
      ]
     },
     "metadata": {},
     "output_type": "display_data"
    },
    {
     "data": {
      "text/html": [
       "<table><tr><th style=\"text-align: center\">pca - overall density</th>\n",
       "<th style=\"text-align: center\">umap - overall density</th></tr><tr><td style=\"text-align: center\"><img src=\"../data/data_v_20221224/embedded/unirep_fine_tuned/high_res_outputs/language_model_embedding.by_batch.hiv.pca.overall_density.fold_1_test.TCR.png\" style=\"max-width: 800px; max-height: 800px;\" /></td>\n",
       "<td style=\"text-align: center\"><img src=\"../data/data_v_20221224/embedded/unirep_fine_tuned/high_res_outputs/language_model_embedding.by_batch.hiv.umap.overall_density.fold_1_test.TCR.png\" style=\"max-width: 800px; max-height: 800px;\" /></td></tr></table>"
      ],
      "text/plain": [
       "<IPython.core.display.HTML object>"
      ]
     },
     "metadata": {},
     "output_type": "display_data"
    },
    {
     "data": {
      "text/html": [
       "<table><tr><th style=\"text-align: center\">pca - relative density (filtered out low overall density bins)</th>\n",
       "<th style=\"text-align: center\">umap - relative density (filtered out low overall density bins)</th></tr><tr><td style=\"text-align: center\"><img src=\"../data/data_v_20221224/embedded/unirep_fine_tuned/high_res_outputs/language_model_embedding.by_batch.hiv.pca.relative_density_with_min_density_requirement.fold_1_test.TCR.png\" style=\"max-width: 800px; max-height: 800px;\" /></td>\n",
       "<td style=\"text-align: center\"><img src=\"../data/data_v_20221224/embedded/unirep_fine_tuned/high_res_outputs/language_model_embedding.by_batch.hiv.umap.relative_density_with_min_density_requirement.fold_1_test.TCR.png\" style=\"max-width: 800px; max-height: 800px;\" /></td></tr></table>"
      ],
      "text/plain": [
       "<IPython.core.display.HTML object>"
      ]
     },
     "metadata": {},
     "output_type": "display_data"
    },
    {
     "data": {
      "text/html": [
       "<table><tr><th style=\"text-align: center\">pca - relative density (all bins, for comparison)</th>\n",
       "<th style=\"text-align: center\">umap - relative density (all bins, for comparison)</th></tr><tr><td style=\"text-align: center\"><img src=\"../data/data_v_20221224/embedded/unirep_fine_tuned/high_res_outputs/language_model_embedding.by_batch.hiv.pca.relative_density.fold_1_test.TCR.png\" style=\"max-width: 800px; max-height: 800px;\" /></td>\n",
       "<td style=\"text-align: center\"><img src=\"../data/data_v_20221224/embedded/unirep_fine_tuned/high_res_outputs/language_model_embedding.by_batch.hiv.umap.relative_density.fold_1_test.TCR.png\" style=\"max-width: 800px; max-height: 800px;\" /></td></tr></table>"
      ],
      "text/plain": [
       "<IPython.core.display.HTML object>"
      ]
     },
     "metadata": {},
     "output_type": "display_data"
    },
    {
     "data": {
      "text/markdown": [
       "### Healthy/Background batches"
      ],
      "text/plain": [
       "<IPython.core.display.Markdown object>"
      ]
     },
     "metadata": {},
     "output_type": "display_data"
    },
    {
     "data": {
      "text/html": [
       "<table><tr><th style=\"text-align: center\">pca - scatterplot</th>\n",
       "<th style=\"text-align: center\">umap - scatterplot</th></tr><tr><td style=\"text-align: center\"><img src=\"../data/data_v_20221224/embedded/unirep_fine_tuned/high_res_outputs/language_model_embedding.by_batch.healthy-background.pca.fold_1_test.TCR.png\" style=\"max-width: 800px; max-height: 800px;\" /></td>\n",
       "<td style=\"text-align: center\"><img src=\"../data/data_v_20221224/embedded/unirep_fine_tuned/high_res_outputs/language_model_embedding.by_batch.healthy-background.umap.fold_1_test.TCR.png\" style=\"max-width: 800px; max-height: 800px;\" /></td></tr></table>"
      ],
      "text/plain": [
       "<IPython.core.display.HTML object>"
      ]
     },
     "metadata": {},
     "output_type": "display_data"
    },
    {
     "data": {
      "text/html": [
       "<table><tr><th style=\"text-align: center\">pca - overall density</th>\n",
       "<th style=\"text-align: center\">umap - overall density</th></tr><tr><td style=\"text-align: center\"><img src=\"../data/data_v_20221224/embedded/unirep_fine_tuned/high_res_outputs/language_model_embedding.by_batch.healthy-background.pca.overall_density.fold_1_test.TCR.png\" style=\"max-width: 800px; max-height: 800px;\" /></td>\n",
       "<td style=\"text-align: center\"><img src=\"../data/data_v_20221224/embedded/unirep_fine_tuned/high_res_outputs/language_model_embedding.by_batch.healthy-background.umap.overall_density.fold_1_test.TCR.png\" style=\"max-width: 800px; max-height: 800px;\" /></td></tr></table>"
      ],
      "text/plain": [
       "<IPython.core.display.HTML object>"
      ]
     },
     "metadata": {},
     "output_type": "display_data"
    },
    {
     "data": {
      "text/html": [
       "<table><tr><th style=\"text-align: center\">pca - relative density (filtered out low overall density bins)</th>\n",
       "<th style=\"text-align: center\">umap - relative density (filtered out low overall density bins)</th></tr><tr><td style=\"text-align: center\"><img src=\"../data/data_v_20221224/embedded/unirep_fine_tuned/high_res_outputs/language_model_embedding.by_batch.healthy-background.pca.relative_density_with_min_density_requirement.fold_1_test.TCR.png\" style=\"max-width: 800px; max-height: 800px;\" /></td>\n",
       "<td style=\"text-align: center\"><img src=\"../data/data_v_20221224/embedded/unirep_fine_tuned/high_res_outputs/language_model_embedding.by_batch.healthy-background.umap.relative_density_with_min_density_requirement.fold_1_test.TCR.png\" style=\"max-width: 800px; max-height: 800px;\" /></td></tr></table>"
      ],
      "text/plain": [
       "<IPython.core.display.HTML object>"
      ]
     },
     "metadata": {},
     "output_type": "display_data"
    },
    {
     "data": {
      "text/html": [
       "<table><tr><th style=\"text-align: center\">pca - relative density (all bins, for comparison)</th>\n",
       "<th style=\"text-align: center\">umap - relative density (all bins, for comparison)</th></tr><tr><td style=\"text-align: center\"><img src=\"../data/data_v_20221224/embedded/unirep_fine_tuned/high_res_outputs/language_model_embedding.by_batch.healthy-background.pca.relative_density.fold_1_test.TCR.png\" style=\"max-width: 800px; max-height: 800px;\" /></td>\n",
       "<td style=\"text-align: center\"><img src=\"../data/data_v_20221224/embedded/unirep_fine_tuned/high_res_outputs/language_model_embedding.by_batch.healthy-background.umap.relative_density.fold_1_test.TCR.png\" style=\"max-width: 800px; max-height: 800px;\" /></td></tr></table>"
      ],
      "text/plain": [
       "<IPython.core.display.HTML object>"
      ]
     },
     "metadata": {},
     "output_type": "display_data"
    },
    {
     "data": {
      "text/markdown": [
       "### Lupus batches"
      ],
      "text/plain": [
       "<IPython.core.display.Markdown object>"
      ]
     },
     "metadata": {},
     "output_type": "display_data"
    },
    {
     "data": {
      "text/html": [
       "<table><tr><th style=\"text-align: center\">pca - scatterplot</th>\n",
       "<th style=\"text-align: center\">umap - scatterplot</th></tr><tr><td style=\"text-align: center\"><img src=\"../data/data_v_20221224/embedded/unirep_fine_tuned/high_res_outputs/language_model_embedding.by_batch.lupus.pca.fold_1_test.TCR.png\" style=\"max-width: 800px; max-height: 800px;\" /></td>\n",
       "<td style=\"text-align: center\"><img src=\"../data/data_v_20221224/embedded/unirep_fine_tuned/high_res_outputs/language_model_embedding.by_batch.lupus.umap.fold_1_test.TCR.png\" style=\"max-width: 800px; max-height: 800px;\" /></td></tr></table>"
      ],
      "text/plain": [
       "<IPython.core.display.HTML object>"
      ]
     },
     "metadata": {},
     "output_type": "display_data"
    },
    {
     "data": {
      "text/html": [
       "<table><tr><th style=\"text-align: center\">pca - overall density</th>\n",
       "<th style=\"text-align: center\">umap - overall density</th></tr><tr><td style=\"text-align: center\"><img src=\"../data/data_v_20221224/embedded/unirep_fine_tuned/high_res_outputs/language_model_embedding.by_batch.lupus.pca.overall_density.fold_1_test.TCR.png\" style=\"max-width: 800px; max-height: 800px;\" /></td>\n",
       "<td style=\"text-align: center\"><img src=\"../data/data_v_20221224/embedded/unirep_fine_tuned/high_res_outputs/language_model_embedding.by_batch.lupus.umap.overall_density.fold_1_test.TCR.png\" style=\"max-width: 800px; max-height: 800px;\" /></td></tr></table>"
      ],
      "text/plain": [
       "<IPython.core.display.HTML object>"
      ]
     },
     "metadata": {},
     "output_type": "display_data"
    },
    {
     "data": {
      "text/html": [
       "<table><tr><th style=\"text-align: center\">pca - relative density (filtered out low overall density bins)</th>\n",
       "<th style=\"text-align: center\">umap - relative density (filtered out low overall density bins)</th></tr><tr><td style=\"text-align: center\"><img src=\"../data/data_v_20221224/embedded/unirep_fine_tuned/high_res_outputs/language_model_embedding.by_batch.lupus.pca.relative_density_with_min_density_requirement.fold_1_test.TCR.png\" style=\"max-width: 800px; max-height: 800px;\" /></td>\n",
       "<td style=\"text-align: center\"><img src=\"../data/data_v_20221224/embedded/unirep_fine_tuned/high_res_outputs/language_model_embedding.by_batch.lupus.umap.relative_density_with_min_density_requirement.fold_1_test.TCR.png\" style=\"max-width: 800px; max-height: 800px;\" /></td></tr></table>"
      ],
      "text/plain": [
       "<IPython.core.display.HTML object>"
      ]
     },
     "metadata": {},
     "output_type": "display_data"
    },
    {
     "data": {
      "text/html": [
       "<table><tr><th style=\"text-align: center\">pca - relative density (all bins, for comparison)</th>\n",
       "<th style=\"text-align: center\">umap - relative density (all bins, for comparison)</th></tr><tr><td style=\"text-align: center\"><img src=\"../data/data_v_20221224/embedded/unirep_fine_tuned/high_res_outputs/language_model_embedding.by_batch.lupus.pca.relative_density.fold_1_test.TCR.png\" style=\"max-width: 800px; max-height: 800px;\" /></td>\n",
       "<td style=\"text-align: center\"><img src=\"../data/data_v_20221224/embedded/unirep_fine_tuned/high_res_outputs/language_model_embedding.by_batch.lupus.umap.relative_density.fold_1_test.TCR.png\" style=\"max-width: 800px; max-height: 800px;\" /></td></tr></table>"
      ],
      "text/plain": [
       "<IPython.core.display.HTML object>"
      ]
     },
     "metadata": {},
     "output_type": "display_data"
    },
    {
     "data": {
      "text/markdown": [
       "---"
      ],
      "text/plain": [
       "<IPython.core.display.Markdown object>"
      ]
     },
     "metadata": {},
     "output_type": "display_data"
    },
    {
     "data": {
      "text/markdown": [
       "## Fold 2-test, GeneLocus.BCR"
      ],
      "text/plain": [
       "<IPython.core.display.Markdown object>"
      ]
     },
     "metadata": {},
     "output_type": "display_data"
    },
    {
     "data": {
      "text/html": [
       "<table><tr><th style=\"text-align: center\">pca</th>\n",
       "<th style=\"text-align: center\">umap</th></tr><tr><td style=\"text-align: center\"><img src=\"../out/unirep_fine_tuned/language_model_embedding.all_diseases.pca.fold_2_test.BCR.png\" style=\"max-width: 800px; max-height: 800px;\" /></td>\n",
       "<td style=\"text-align: center\"><img src=\"../out/unirep_fine_tuned/language_model_embedding.all_diseases.umap.fold_2_test.BCR.png\" style=\"max-width: 800px; max-height: 800px;\" /></td></tr></table>"
      ],
      "text/plain": [
       "<IPython.core.display.HTML object>"
      ]
     },
     "metadata": {},
     "output_type": "display_data"
    },
    {
     "data": {
      "text/markdown": [
       "### Covid19 batches"
      ],
      "text/plain": [
       "<IPython.core.display.Markdown object>"
      ]
     },
     "metadata": {},
     "output_type": "display_data"
    },
    {
     "data": {
      "text/html": [
       "<table><tr><th style=\"text-align: center\">pca - scatterplot</th>\n",
       "<th style=\"text-align: center\">umap - scatterplot</th></tr><tr><td style=\"text-align: center\"><img src=\"../data/data_v_20221224/embedded/unirep_fine_tuned/high_res_outputs/language_model_embedding.by_batch.covid19.pca.fold_2_test.BCR.png\" style=\"max-width: 800px; max-height: 800px;\" /></td>\n",
       "<td style=\"text-align: center\"><img src=\"../data/data_v_20221224/embedded/unirep_fine_tuned/high_res_outputs/language_model_embedding.by_batch.covid19.umap.fold_2_test.BCR.png\" style=\"max-width: 800px; max-height: 800px;\" /></td></tr></table>"
      ],
      "text/plain": [
       "<IPython.core.display.HTML object>"
      ]
     },
     "metadata": {},
     "output_type": "display_data"
    },
    {
     "data": {
      "text/html": [
       "<table><tr><th style=\"text-align: center\">pca - overall density</th>\n",
       "<th style=\"text-align: center\">umap - overall density</th></tr><tr><td style=\"text-align: center\"><img src=\"../data/data_v_20221224/embedded/unirep_fine_tuned/high_res_outputs/language_model_embedding.by_batch.covid19.pca.overall_density.fold_2_test.BCR.png\" style=\"max-width: 800px; max-height: 800px;\" /></td>\n",
       "<td style=\"text-align: center\"><img src=\"../data/data_v_20221224/embedded/unirep_fine_tuned/high_res_outputs/language_model_embedding.by_batch.covid19.umap.overall_density.fold_2_test.BCR.png\" style=\"max-width: 800px; max-height: 800px;\" /></td></tr></table>"
      ],
      "text/plain": [
       "<IPython.core.display.HTML object>"
      ]
     },
     "metadata": {},
     "output_type": "display_data"
    },
    {
     "data": {
      "text/html": [
       "<table><tr><th style=\"text-align: center\">pca - relative density (filtered out low overall density bins)</th>\n",
       "<th style=\"text-align: center\">umap - relative density (filtered out low overall density bins)</th></tr><tr><td style=\"text-align: center\"><img src=\"../data/data_v_20221224/embedded/unirep_fine_tuned/high_res_outputs/language_model_embedding.by_batch.covid19.pca.relative_density_with_min_density_requirement.fold_2_test.BCR.png\" style=\"max-width: 800px; max-height: 800px;\" /></td>\n",
       "<td style=\"text-align: center\"><img src=\"../data/data_v_20221224/embedded/unirep_fine_tuned/high_res_outputs/language_model_embedding.by_batch.covid19.umap.relative_density_with_min_density_requirement.fold_2_test.BCR.png\" style=\"max-width: 800px; max-height: 800px;\" /></td></tr></table>"
      ],
      "text/plain": [
       "<IPython.core.display.HTML object>"
      ]
     },
     "metadata": {},
     "output_type": "display_data"
    },
    {
     "data": {
      "text/html": [
       "<table><tr><th style=\"text-align: center\">pca - relative density (all bins, for comparison)</th>\n",
       "<th style=\"text-align: center\">umap - relative density (all bins, for comparison)</th></tr><tr><td style=\"text-align: center\"><img src=\"../data/data_v_20221224/embedded/unirep_fine_tuned/high_res_outputs/language_model_embedding.by_batch.covid19.pca.relative_density.fold_2_test.BCR.png\" style=\"max-width: 800px; max-height: 800px;\" /></td>\n",
       "<td style=\"text-align: center\"><img src=\"../data/data_v_20221224/embedded/unirep_fine_tuned/high_res_outputs/language_model_embedding.by_batch.covid19.umap.relative_density.fold_2_test.BCR.png\" style=\"max-width: 800px; max-height: 800px;\" /></td></tr></table>"
      ],
      "text/plain": [
       "<IPython.core.display.HTML object>"
      ]
     },
     "metadata": {},
     "output_type": "display_data"
    },
    {
     "data": {
      "text/markdown": [
       "### HIV batches"
      ],
      "text/plain": [
       "<IPython.core.display.Markdown object>"
      ]
     },
     "metadata": {},
     "output_type": "display_data"
    },
    {
     "data": {
      "text/html": [
       "<table><tr><th style=\"text-align: center\">pca - scatterplot</th>\n",
       "<th style=\"text-align: center\">umap - scatterplot</th></tr><tr><td style=\"text-align: center\"><img src=\"../data/data_v_20221224/embedded/unirep_fine_tuned/high_res_outputs/language_model_embedding.by_batch.hiv.pca.fold_2_test.BCR.png\" style=\"max-width: 800px; max-height: 800px;\" /></td>\n",
       "<td style=\"text-align: center\"><img src=\"../data/data_v_20221224/embedded/unirep_fine_tuned/high_res_outputs/language_model_embedding.by_batch.hiv.umap.fold_2_test.BCR.png\" style=\"max-width: 800px; max-height: 800px;\" /></td></tr></table>"
      ],
      "text/plain": [
       "<IPython.core.display.HTML object>"
      ]
     },
     "metadata": {},
     "output_type": "display_data"
    },
    {
     "data": {
      "text/html": [
       "<table><tr><th style=\"text-align: center\">pca - overall density</th>\n",
       "<th style=\"text-align: center\">umap - overall density</th></tr><tr><td style=\"text-align: center\"><img src=\"../data/data_v_20221224/embedded/unirep_fine_tuned/high_res_outputs/language_model_embedding.by_batch.hiv.pca.overall_density.fold_2_test.BCR.png\" style=\"max-width: 800px; max-height: 800px;\" /></td>\n",
       "<td style=\"text-align: center\"><img src=\"../data/data_v_20221224/embedded/unirep_fine_tuned/high_res_outputs/language_model_embedding.by_batch.hiv.umap.overall_density.fold_2_test.BCR.png\" style=\"max-width: 800px; max-height: 800px;\" /></td></tr></table>"
      ],
      "text/plain": [
       "<IPython.core.display.HTML object>"
      ]
     },
     "metadata": {},
     "output_type": "display_data"
    },
    {
     "data": {
      "text/html": [
       "<table><tr><th style=\"text-align: center\">pca - relative density (filtered out low overall density bins)</th>\n",
       "<th style=\"text-align: center\">umap - relative density (filtered out low overall density bins)</th></tr><tr><td style=\"text-align: center\"><img src=\"../data/data_v_20221224/embedded/unirep_fine_tuned/high_res_outputs/language_model_embedding.by_batch.hiv.pca.relative_density_with_min_density_requirement.fold_2_test.BCR.png\" style=\"max-width: 800px; max-height: 800px;\" /></td>\n",
       "<td style=\"text-align: center\"><img src=\"../data/data_v_20221224/embedded/unirep_fine_tuned/high_res_outputs/language_model_embedding.by_batch.hiv.umap.relative_density_with_min_density_requirement.fold_2_test.BCR.png\" style=\"max-width: 800px; max-height: 800px;\" /></td></tr></table>"
      ],
      "text/plain": [
       "<IPython.core.display.HTML object>"
      ]
     },
     "metadata": {},
     "output_type": "display_data"
    },
    {
     "data": {
      "text/html": [
       "<table><tr><th style=\"text-align: center\">pca - relative density (all bins, for comparison)</th>\n",
       "<th style=\"text-align: center\">umap - relative density (all bins, for comparison)</th></tr><tr><td style=\"text-align: center\"><img src=\"../data/data_v_20221224/embedded/unirep_fine_tuned/high_res_outputs/language_model_embedding.by_batch.hiv.pca.relative_density.fold_2_test.BCR.png\" style=\"max-width: 800px; max-height: 800px;\" /></td>\n",
       "<td style=\"text-align: center\"><img src=\"../data/data_v_20221224/embedded/unirep_fine_tuned/high_res_outputs/language_model_embedding.by_batch.hiv.umap.relative_density.fold_2_test.BCR.png\" style=\"max-width: 800px; max-height: 800px;\" /></td></tr></table>"
      ],
      "text/plain": [
       "<IPython.core.display.HTML object>"
      ]
     },
     "metadata": {},
     "output_type": "display_data"
    },
    {
     "data": {
      "text/markdown": [
       "### Healthy/Background batches"
      ],
      "text/plain": [
       "<IPython.core.display.Markdown object>"
      ]
     },
     "metadata": {},
     "output_type": "display_data"
    },
    {
     "data": {
      "text/html": [
       "<table><tr><th style=\"text-align: center\">pca - scatterplot</th>\n",
       "<th style=\"text-align: center\">umap - scatterplot</th></tr><tr><td style=\"text-align: center\"><img src=\"../data/data_v_20221224/embedded/unirep_fine_tuned/high_res_outputs/language_model_embedding.by_batch.healthy-background.pca.fold_2_test.BCR.png\" style=\"max-width: 800px; max-height: 800px;\" /></td>\n",
       "<td style=\"text-align: center\"><img src=\"../data/data_v_20221224/embedded/unirep_fine_tuned/high_res_outputs/language_model_embedding.by_batch.healthy-background.umap.fold_2_test.BCR.png\" style=\"max-width: 800px; max-height: 800px;\" /></td></tr></table>"
      ],
      "text/plain": [
       "<IPython.core.display.HTML object>"
      ]
     },
     "metadata": {},
     "output_type": "display_data"
    },
    {
     "data": {
      "text/html": [
       "<table><tr><th style=\"text-align: center\">pca - overall density</th>\n",
       "<th style=\"text-align: center\">umap - overall density</th></tr><tr><td style=\"text-align: center\"><img src=\"../data/data_v_20221224/embedded/unirep_fine_tuned/high_res_outputs/language_model_embedding.by_batch.healthy-background.pca.overall_density.fold_2_test.BCR.png\" style=\"max-width: 800px; max-height: 800px;\" /></td>\n",
       "<td style=\"text-align: center\"><img src=\"../data/data_v_20221224/embedded/unirep_fine_tuned/high_res_outputs/language_model_embedding.by_batch.healthy-background.umap.overall_density.fold_2_test.BCR.png\" style=\"max-width: 800px; max-height: 800px;\" /></td></tr></table>"
      ],
      "text/plain": [
       "<IPython.core.display.HTML object>"
      ]
     },
     "metadata": {},
     "output_type": "display_data"
    },
    {
     "data": {
      "text/html": [
       "<table><tr><th style=\"text-align: center\">pca - relative density (filtered out low overall density bins)</th>\n",
       "<th style=\"text-align: center\">umap - relative density (filtered out low overall density bins)</th></tr><tr><td style=\"text-align: center\"><img src=\"../data/data_v_20221224/embedded/unirep_fine_tuned/high_res_outputs/language_model_embedding.by_batch.healthy-background.pca.relative_density_with_min_density_requirement.fold_2_test.BCR.png\" style=\"max-width: 800px; max-height: 800px;\" /></td>\n",
       "<td style=\"text-align: center\"><img src=\"../data/data_v_20221224/embedded/unirep_fine_tuned/high_res_outputs/language_model_embedding.by_batch.healthy-background.umap.relative_density_with_min_density_requirement.fold_2_test.BCR.png\" style=\"max-width: 800px; max-height: 800px;\" /></td></tr></table>"
      ],
      "text/plain": [
       "<IPython.core.display.HTML object>"
      ]
     },
     "metadata": {},
     "output_type": "display_data"
    },
    {
     "data": {
      "text/html": [
       "<table><tr><th style=\"text-align: center\">pca - relative density (all bins, for comparison)</th>\n",
       "<th style=\"text-align: center\">umap - relative density (all bins, for comparison)</th></tr><tr><td style=\"text-align: center\"><img src=\"../data/data_v_20221224/embedded/unirep_fine_tuned/high_res_outputs/language_model_embedding.by_batch.healthy-background.pca.relative_density.fold_2_test.BCR.png\" style=\"max-width: 800px; max-height: 800px;\" /></td>\n",
       "<td style=\"text-align: center\"><img src=\"../data/data_v_20221224/embedded/unirep_fine_tuned/high_res_outputs/language_model_embedding.by_batch.healthy-background.umap.relative_density.fold_2_test.BCR.png\" style=\"max-width: 800px; max-height: 800px;\" /></td></tr></table>"
      ],
      "text/plain": [
       "<IPython.core.display.HTML object>"
      ]
     },
     "metadata": {},
     "output_type": "display_data"
    },
    {
     "data": {
      "text/markdown": [
       "### Lupus batches"
      ],
      "text/plain": [
       "<IPython.core.display.Markdown object>"
      ]
     },
     "metadata": {},
     "output_type": "display_data"
    },
    {
     "data": {
      "text/html": [
       "<table><tr><th style=\"text-align: center\">pca - scatterplot</th>\n",
       "<th style=\"text-align: center\">umap - scatterplot</th></tr><tr><td style=\"text-align: center\"><img src=\"../data/data_v_20221224/embedded/unirep_fine_tuned/high_res_outputs/language_model_embedding.by_batch.lupus.pca.fold_2_test.BCR.png\" style=\"max-width: 800px; max-height: 800px;\" /></td>\n",
       "<td style=\"text-align: center\"><img src=\"../data/data_v_20221224/embedded/unirep_fine_tuned/high_res_outputs/language_model_embedding.by_batch.lupus.umap.fold_2_test.BCR.png\" style=\"max-width: 800px; max-height: 800px;\" /></td></tr></table>"
      ],
      "text/plain": [
       "<IPython.core.display.HTML object>"
      ]
     },
     "metadata": {},
     "output_type": "display_data"
    },
    {
     "data": {
      "text/html": [
       "<table><tr><th style=\"text-align: center\">pca - overall density</th>\n",
       "<th style=\"text-align: center\">umap - overall density</th></tr><tr><td style=\"text-align: center\"><img src=\"../data/data_v_20221224/embedded/unirep_fine_tuned/high_res_outputs/language_model_embedding.by_batch.lupus.pca.overall_density.fold_2_test.BCR.png\" style=\"max-width: 800px; max-height: 800px;\" /></td>\n",
       "<td style=\"text-align: center\"><img src=\"../data/data_v_20221224/embedded/unirep_fine_tuned/high_res_outputs/language_model_embedding.by_batch.lupus.umap.overall_density.fold_2_test.BCR.png\" style=\"max-width: 800px; max-height: 800px;\" /></td></tr></table>"
      ],
      "text/plain": [
       "<IPython.core.display.HTML object>"
      ]
     },
     "metadata": {},
     "output_type": "display_data"
    },
    {
     "data": {
      "text/html": [
       "<table><tr><th style=\"text-align: center\">pca - relative density (filtered out low overall density bins)</th>\n",
       "<th style=\"text-align: center\">umap - relative density (filtered out low overall density bins)</th></tr><tr><td style=\"text-align: center\"><img src=\"../data/data_v_20221224/embedded/unirep_fine_tuned/high_res_outputs/language_model_embedding.by_batch.lupus.pca.relative_density_with_min_density_requirement.fold_2_test.BCR.png\" style=\"max-width: 800px; max-height: 800px;\" /></td>\n",
       "<td style=\"text-align: center\"><img src=\"../data/data_v_20221224/embedded/unirep_fine_tuned/high_res_outputs/language_model_embedding.by_batch.lupus.umap.relative_density_with_min_density_requirement.fold_2_test.BCR.png\" style=\"max-width: 800px; max-height: 800px;\" /></td></tr></table>"
      ],
      "text/plain": [
       "<IPython.core.display.HTML object>"
      ]
     },
     "metadata": {},
     "output_type": "display_data"
    },
    {
     "data": {
      "text/html": [
       "<table><tr><th style=\"text-align: center\">pca - relative density (all bins, for comparison)</th>\n",
       "<th style=\"text-align: center\">umap - relative density (all bins, for comparison)</th></tr><tr><td style=\"text-align: center\"><img src=\"../data/data_v_20221224/embedded/unirep_fine_tuned/high_res_outputs/language_model_embedding.by_batch.lupus.pca.relative_density.fold_2_test.BCR.png\" style=\"max-width: 800px; max-height: 800px;\" /></td>\n",
       "<td style=\"text-align: center\"><img src=\"../data/data_v_20221224/embedded/unirep_fine_tuned/high_res_outputs/language_model_embedding.by_batch.lupus.umap.relative_density.fold_2_test.BCR.png\" style=\"max-width: 800px; max-height: 800px;\" /></td></tr></table>"
      ],
      "text/plain": [
       "<IPython.core.display.HTML object>"
      ]
     },
     "metadata": {},
     "output_type": "display_data"
    },
    {
     "data": {
      "text/markdown": [
       "---"
      ],
      "text/plain": [
       "<IPython.core.display.Markdown object>"
      ]
     },
     "metadata": {},
     "output_type": "display_data"
    },
    {
     "data": {
      "text/markdown": [
       "## Fold 2-test, GeneLocus.TCR"
      ],
      "text/plain": [
       "<IPython.core.display.Markdown object>"
      ]
     },
     "metadata": {},
     "output_type": "display_data"
    },
    {
     "data": {
      "text/html": [
       "<table><tr><th style=\"text-align: center\">pca</th>\n",
       "<th style=\"text-align: center\">umap</th></tr><tr><td style=\"text-align: center\"><img src=\"../out/unirep_fine_tuned/language_model_embedding.all_diseases.pca.fold_2_test.TCR.png\" style=\"max-width: 800px; max-height: 800px;\" /></td>\n",
       "<td style=\"text-align: center\"><img src=\"../out/unirep_fine_tuned/language_model_embedding.all_diseases.umap.fold_2_test.TCR.png\" style=\"max-width: 800px; max-height: 800px;\" /></td></tr></table>"
      ],
      "text/plain": [
       "<IPython.core.display.HTML object>"
      ]
     },
     "metadata": {},
     "output_type": "display_data"
    },
    {
     "data": {
      "text/markdown": [
       "### Covid19 batches"
      ],
      "text/plain": [
       "<IPython.core.display.Markdown object>"
      ]
     },
     "metadata": {},
     "output_type": "display_data"
    },
    {
     "data": {
      "text/html": [
       "<table><tr><th style=\"text-align: center\">pca - scatterplot</th>\n",
       "<th style=\"text-align: center\">umap - scatterplot</th></tr><tr><td style=\"text-align: center\"><img src=\"../data/data_v_20221224/embedded/unirep_fine_tuned/high_res_outputs/language_model_embedding.by_batch.covid19.pca.fold_2_test.TCR.png\" style=\"max-width: 800px; max-height: 800px;\" /></td>\n",
       "<td style=\"text-align: center\"><img src=\"../data/data_v_20221224/embedded/unirep_fine_tuned/high_res_outputs/language_model_embedding.by_batch.covid19.umap.fold_2_test.TCR.png\" style=\"max-width: 800px; max-height: 800px;\" /></td></tr></table>"
      ],
      "text/plain": [
       "<IPython.core.display.HTML object>"
      ]
     },
     "metadata": {},
     "output_type": "display_data"
    },
    {
     "data": {
      "text/html": [
       "<table><tr><th style=\"text-align: center\">pca - overall density</th>\n",
       "<th style=\"text-align: center\">umap - overall density</th></tr><tr><td style=\"text-align: center\"><img src=\"../data/data_v_20221224/embedded/unirep_fine_tuned/high_res_outputs/language_model_embedding.by_batch.covid19.pca.overall_density.fold_2_test.TCR.png\" style=\"max-width: 800px; max-height: 800px;\" /></td>\n",
       "<td style=\"text-align: center\"><img src=\"../data/data_v_20221224/embedded/unirep_fine_tuned/high_res_outputs/language_model_embedding.by_batch.covid19.umap.overall_density.fold_2_test.TCR.png\" style=\"max-width: 800px; max-height: 800px;\" /></td></tr></table>"
      ],
      "text/plain": [
       "<IPython.core.display.HTML object>"
      ]
     },
     "metadata": {},
     "output_type": "display_data"
    },
    {
     "data": {
      "text/html": [
       "<table><tr><th style=\"text-align: center\">pca - relative density (filtered out low overall density bins)</th>\n",
       "<th style=\"text-align: center\">umap - relative density (filtered out low overall density bins)</th></tr><tr><td style=\"text-align: center\"><img src=\"../data/data_v_20221224/embedded/unirep_fine_tuned/high_res_outputs/language_model_embedding.by_batch.covid19.pca.relative_density_with_min_density_requirement.fold_2_test.TCR.png\" style=\"max-width: 800px; max-height: 800px;\" /></td>\n",
       "<td style=\"text-align: center\"><img src=\"../data/data_v_20221224/embedded/unirep_fine_tuned/high_res_outputs/language_model_embedding.by_batch.covid19.umap.relative_density_with_min_density_requirement.fold_2_test.TCR.png\" style=\"max-width: 800px; max-height: 800px;\" /></td></tr></table>"
      ],
      "text/plain": [
       "<IPython.core.display.HTML object>"
      ]
     },
     "metadata": {},
     "output_type": "display_data"
    },
    {
     "data": {
      "text/html": [
       "<table><tr><th style=\"text-align: center\">pca - relative density (all bins, for comparison)</th>\n",
       "<th style=\"text-align: center\">umap - relative density (all bins, for comparison)</th></tr><tr><td style=\"text-align: center\"><img src=\"../data/data_v_20221224/embedded/unirep_fine_tuned/high_res_outputs/language_model_embedding.by_batch.covid19.pca.relative_density.fold_2_test.TCR.png\" style=\"max-width: 800px; max-height: 800px;\" /></td>\n",
       "<td style=\"text-align: center\"><img src=\"../data/data_v_20221224/embedded/unirep_fine_tuned/high_res_outputs/language_model_embedding.by_batch.covid19.umap.relative_density.fold_2_test.TCR.png\" style=\"max-width: 800px; max-height: 800px;\" /></td></tr></table>"
      ],
      "text/plain": [
       "<IPython.core.display.HTML object>"
      ]
     },
     "metadata": {},
     "output_type": "display_data"
    },
    {
     "data": {
      "text/markdown": [
       "### HIV batches"
      ],
      "text/plain": [
       "<IPython.core.display.Markdown object>"
      ]
     },
     "metadata": {},
     "output_type": "display_data"
    },
    {
     "data": {
      "text/html": [
       "<table><tr><th style=\"text-align: center\">pca - scatterplot</th>\n",
       "<th style=\"text-align: center\">umap - scatterplot</th></tr><tr><td style=\"text-align: center\"><img src=\"../data/data_v_20221224/embedded/unirep_fine_tuned/high_res_outputs/language_model_embedding.by_batch.hiv.pca.fold_2_test.TCR.png\" style=\"max-width: 800px; max-height: 800px;\" /></td>\n",
       "<td style=\"text-align: center\"><img src=\"../data/data_v_20221224/embedded/unirep_fine_tuned/high_res_outputs/language_model_embedding.by_batch.hiv.umap.fold_2_test.TCR.png\" style=\"max-width: 800px; max-height: 800px;\" /></td></tr></table>"
      ],
      "text/plain": [
       "<IPython.core.display.HTML object>"
      ]
     },
     "metadata": {},
     "output_type": "display_data"
    },
    {
     "data": {
      "text/html": [
       "<table><tr><th style=\"text-align: center\">pca - overall density</th>\n",
       "<th style=\"text-align: center\">umap - overall density</th></tr><tr><td style=\"text-align: center\"><img src=\"../data/data_v_20221224/embedded/unirep_fine_tuned/high_res_outputs/language_model_embedding.by_batch.hiv.pca.overall_density.fold_2_test.TCR.png\" style=\"max-width: 800px; max-height: 800px;\" /></td>\n",
       "<td style=\"text-align: center\"><img src=\"../data/data_v_20221224/embedded/unirep_fine_tuned/high_res_outputs/language_model_embedding.by_batch.hiv.umap.overall_density.fold_2_test.TCR.png\" style=\"max-width: 800px; max-height: 800px;\" /></td></tr></table>"
      ],
      "text/plain": [
       "<IPython.core.display.HTML object>"
      ]
     },
     "metadata": {},
     "output_type": "display_data"
    },
    {
     "data": {
      "text/html": [
       "<table><tr><th style=\"text-align: center\">pca - relative density (filtered out low overall density bins)</th>\n",
       "<th style=\"text-align: center\">umap - relative density (filtered out low overall density bins)</th></tr><tr><td style=\"text-align: center\"><img src=\"../data/data_v_20221224/embedded/unirep_fine_tuned/high_res_outputs/language_model_embedding.by_batch.hiv.pca.relative_density_with_min_density_requirement.fold_2_test.TCR.png\" style=\"max-width: 800px; max-height: 800px;\" /></td>\n",
       "<td style=\"text-align: center\"><img src=\"../data/data_v_20221224/embedded/unirep_fine_tuned/high_res_outputs/language_model_embedding.by_batch.hiv.umap.relative_density_with_min_density_requirement.fold_2_test.TCR.png\" style=\"max-width: 800px; max-height: 800px;\" /></td></tr></table>"
      ],
      "text/plain": [
       "<IPython.core.display.HTML object>"
      ]
     },
     "metadata": {},
     "output_type": "display_data"
    },
    {
     "data": {
      "text/html": [
       "<table><tr><th style=\"text-align: center\">pca - relative density (all bins, for comparison)</th>\n",
       "<th style=\"text-align: center\">umap - relative density (all bins, for comparison)</th></tr><tr><td style=\"text-align: center\"><img src=\"../data/data_v_20221224/embedded/unirep_fine_tuned/high_res_outputs/language_model_embedding.by_batch.hiv.pca.relative_density.fold_2_test.TCR.png\" style=\"max-width: 800px; max-height: 800px;\" /></td>\n",
       "<td style=\"text-align: center\"><img src=\"../data/data_v_20221224/embedded/unirep_fine_tuned/high_res_outputs/language_model_embedding.by_batch.hiv.umap.relative_density.fold_2_test.TCR.png\" style=\"max-width: 800px; max-height: 800px;\" /></td></tr></table>"
      ],
      "text/plain": [
       "<IPython.core.display.HTML object>"
      ]
     },
     "metadata": {},
     "output_type": "display_data"
    },
    {
     "data": {
      "text/markdown": [
       "### Healthy/Background batches"
      ],
      "text/plain": [
       "<IPython.core.display.Markdown object>"
      ]
     },
     "metadata": {},
     "output_type": "display_data"
    },
    {
     "data": {
      "text/html": [
       "<table><tr><th style=\"text-align: center\">pca - scatterplot</th>\n",
       "<th style=\"text-align: center\">umap - scatterplot</th></tr><tr><td style=\"text-align: center\"><img src=\"../data/data_v_20221224/embedded/unirep_fine_tuned/high_res_outputs/language_model_embedding.by_batch.healthy-background.pca.fold_2_test.TCR.png\" style=\"max-width: 800px; max-height: 800px;\" /></td>\n",
       "<td style=\"text-align: center\"><img src=\"../data/data_v_20221224/embedded/unirep_fine_tuned/high_res_outputs/language_model_embedding.by_batch.healthy-background.umap.fold_2_test.TCR.png\" style=\"max-width: 800px; max-height: 800px;\" /></td></tr></table>"
      ],
      "text/plain": [
       "<IPython.core.display.HTML object>"
      ]
     },
     "metadata": {},
     "output_type": "display_data"
    },
    {
     "data": {
      "text/html": [
       "<table><tr><th style=\"text-align: center\">pca - overall density</th>\n",
       "<th style=\"text-align: center\">umap - overall density</th></tr><tr><td style=\"text-align: center\"><img src=\"../data/data_v_20221224/embedded/unirep_fine_tuned/high_res_outputs/language_model_embedding.by_batch.healthy-background.pca.overall_density.fold_2_test.TCR.png\" style=\"max-width: 800px; max-height: 800px;\" /></td>\n",
       "<td style=\"text-align: center\"><img src=\"../data/data_v_20221224/embedded/unirep_fine_tuned/high_res_outputs/language_model_embedding.by_batch.healthy-background.umap.overall_density.fold_2_test.TCR.png\" style=\"max-width: 800px; max-height: 800px;\" /></td></tr></table>"
      ],
      "text/plain": [
       "<IPython.core.display.HTML object>"
      ]
     },
     "metadata": {},
     "output_type": "display_data"
    },
    {
     "data": {
      "text/html": [
       "<table><tr><th style=\"text-align: center\">pca - relative density (filtered out low overall density bins)</th>\n",
       "<th style=\"text-align: center\">umap - relative density (filtered out low overall density bins)</th></tr><tr><td style=\"text-align: center\"><img src=\"../data/data_v_20221224/embedded/unirep_fine_tuned/high_res_outputs/language_model_embedding.by_batch.healthy-background.pca.relative_density_with_min_density_requirement.fold_2_test.TCR.png\" style=\"max-width: 800px; max-height: 800px;\" /></td>\n",
       "<td style=\"text-align: center\"><img src=\"../data/data_v_20221224/embedded/unirep_fine_tuned/high_res_outputs/language_model_embedding.by_batch.healthy-background.umap.relative_density_with_min_density_requirement.fold_2_test.TCR.png\" style=\"max-width: 800px; max-height: 800px;\" /></td></tr></table>"
      ],
      "text/plain": [
       "<IPython.core.display.HTML object>"
      ]
     },
     "metadata": {},
     "output_type": "display_data"
    },
    {
     "data": {
      "text/html": [
       "<table><tr><th style=\"text-align: center\">pca - relative density (all bins, for comparison)</th>\n",
       "<th style=\"text-align: center\">umap - relative density (all bins, for comparison)</th></tr><tr><td style=\"text-align: center\"><img src=\"../data/data_v_20221224/embedded/unirep_fine_tuned/high_res_outputs/language_model_embedding.by_batch.healthy-background.pca.relative_density.fold_2_test.TCR.png\" style=\"max-width: 800px; max-height: 800px;\" /></td>\n",
       "<td style=\"text-align: center\"><img src=\"../data/data_v_20221224/embedded/unirep_fine_tuned/high_res_outputs/language_model_embedding.by_batch.healthy-background.umap.relative_density.fold_2_test.TCR.png\" style=\"max-width: 800px; max-height: 800px;\" /></td></tr></table>"
      ],
      "text/plain": [
       "<IPython.core.display.HTML object>"
      ]
     },
     "metadata": {},
     "output_type": "display_data"
    },
    {
     "data": {
      "text/markdown": [
       "### Lupus batches"
      ],
      "text/plain": [
       "<IPython.core.display.Markdown object>"
      ]
     },
     "metadata": {},
     "output_type": "display_data"
    },
    {
     "data": {
      "text/html": [
       "<table><tr><th style=\"text-align: center\">pca - scatterplot</th>\n",
       "<th style=\"text-align: center\">umap - scatterplot</th></tr><tr><td style=\"text-align: center\"><img src=\"../data/data_v_20221224/embedded/unirep_fine_tuned/high_res_outputs/language_model_embedding.by_batch.lupus.pca.fold_2_test.TCR.png\" style=\"max-width: 800px; max-height: 800px;\" /></td>\n",
       "<td style=\"text-align: center\"><img src=\"../data/data_v_20221224/embedded/unirep_fine_tuned/high_res_outputs/language_model_embedding.by_batch.lupus.umap.fold_2_test.TCR.png\" style=\"max-width: 800px; max-height: 800px;\" /></td></tr></table>"
      ],
      "text/plain": [
       "<IPython.core.display.HTML object>"
      ]
     },
     "metadata": {},
     "output_type": "display_data"
    },
    {
     "data": {
      "text/html": [
       "<table><tr><th style=\"text-align: center\">pca - overall density</th>\n",
       "<th style=\"text-align: center\">umap - overall density</th></tr><tr><td style=\"text-align: center\"><img src=\"../data/data_v_20221224/embedded/unirep_fine_tuned/high_res_outputs/language_model_embedding.by_batch.lupus.pca.overall_density.fold_2_test.TCR.png\" style=\"max-width: 800px; max-height: 800px;\" /></td>\n",
       "<td style=\"text-align: center\"><img src=\"../data/data_v_20221224/embedded/unirep_fine_tuned/high_res_outputs/language_model_embedding.by_batch.lupus.umap.overall_density.fold_2_test.TCR.png\" style=\"max-width: 800px; max-height: 800px;\" /></td></tr></table>"
      ],
      "text/plain": [
       "<IPython.core.display.HTML object>"
      ]
     },
     "metadata": {},
     "output_type": "display_data"
    },
    {
     "data": {
      "text/html": [
       "<table><tr><th style=\"text-align: center\">pca - relative density (filtered out low overall density bins)</th>\n",
       "<th style=\"text-align: center\">umap - relative density (filtered out low overall density bins)</th></tr><tr><td style=\"text-align: center\"><img src=\"../data/data_v_20221224/embedded/unirep_fine_tuned/high_res_outputs/language_model_embedding.by_batch.lupus.pca.relative_density_with_min_density_requirement.fold_2_test.TCR.png\" style=\"max-width: 800px; max-height: 800px;\" /></td>\n",
       "<td style=\"text-align: center\"><img src=\"../data/data_v_20221224/embedded/unirep_fine_tuned/high_res_outputs/language_model_embedding.by_batch.lupus.umap.relative_density_with_min_density_requirement.fold_2_test.TCR.png\" style=\"max-width: 800px; max-height: 800px;\" /></td></tr></table>"
      ],
      "text/plain": [
       "<IPython.core.display.HTML object>"
      ]
     },
     "metadata": {},
     "output_type": "display_data"
    },
    {
     "data": {
      "text/html": [
       "<table><tr><th style=\"text-align: center\">pca - relative density (all bins, for comparison)</th>\n",
       "<th style=\"text-align: center\">umap - relative density (all bins, for comparison)</th></tr><tr><td style=\"text-align: center\"><img src=\"../data/data_v_20221224/embedded/unirep_fine_tuned/high_res_outputs/language_model_embedding.by_batch.lupus.pca.relative_density.fold_2_test.TCR.png\" style=\"max-width: 800px; max-height: 800px;\" /></td>\n",
       "<td style=\"text-align: center\"><img src=\"../data/data_v_20221224/embedded/unirep_fine_tuned/high_res_outputs/language_model_embedding.by_batch.lupus.umap.relative_density.fold_2_test.TCR.png\" style=\"max-width: 800px; max-height: 800px;\" /></td></tr></table>"
      ],
      "text/plain": [
       "<IPython.core.display.HTML object>"
      ]
     },
     "metadata": {},
     "output_type": "display_data"
    },
    {
     "data": {
      "text/markdown": [
       "---"
      ],
      "text/plain": [
       "<IPython.core.display.Markdown object>"
      ]
     },
     "metadata": {},
     "output_type": "display_data"
    }
   ],
   "source": [
    "for fold_id in config.cross_validation_fold_ids:\n",
    "    for gene_locus in config.gene_loci_used:\n",
    "        display(Markdown(f\"## Fold {fold_id}-test, {gene_locus}\"))\n",
    "        show(\n",
    "            [\n",
    "                config.paths.output_dir\n",
    "                / f\"language_model_embedding.all_diseases.{representation}.fold_{fold_id}_test.{gene_locus.name}.png\"\n",
    "                for representation in representations\n",
    "            ],\n",
    "            headers=representations,\n",
    "        )\n",
    "        for disease in helpers.diseases_in_peak_timepoint_dataset():\n",
    "            display(Markdown(f\"### {disease} batches\"))\n",
    "            show(\n",
    "                [\n",
    "                    config.paths.high_res_outputs_dir\n",
    "                    / f\"language_model_embedding.by_batch.{slugify(disease)}.{representation}.fold_{fold_id}_test.{gene_locus.name}.png\"\n",
    "                    for representation in representations\n",
    "                ],\n",
    "                headers=[\n",
    "                    f\"{representation} - scatterplot\"\n",
    "                    for representation in representations\n",
    "                ],\n",
    "            )\n",
    "\n",
    "            show(\n",
    "                [\n",
    "                    config.paths.high_res_outputs_dir\n",
    "                    / f\"language_model_embedding.by_batch.{slugify(disease)}.{representation}.overall_density.fold_{fold_id}_test.{gene_locus.name}.png\"\n",
    "                    for representation in representations\n",
    "                ],\n",
    "                headers=[\n",
    "                    f\"{representation} - overall density\"\n",
    "                    for representation in representations\n",
    "                ],\n",
    "            )\n",
    "\n",
    "            show(\n",
    "                [\n",
    "                    config.paths.high_res_outputs_dir\n",
    "                    / f\"language_model_embedding.by_batch.{slugify(disease)}.{representation}.relative_density_with_min_density_requirement.fold_{fold_id}_test.{gene_locus.name}.png\"\n",
    "                    for representation in representations\n",
    "                ],\n",
    "                headers=[\n",
    "                    f\"{representation} - relative density (filtered out low overall density bins)\"\n",
    "                    for representation in representations\n",
    "                ],\n",
    "            )\n",
    "\n",
    "            show(\n",
    "                [\n",
    "                    config.paths.high_res_outputs_dir\n",
    "                    / f\"language_model_embedding.by_batch.{slugify(disease)}.{representation}.relative_density.fold_{fold_id}_test.{gene_locus.name}.png\"\n",
    "                    for representation in representations\n",
    "                ],\n",
    "                headers=[\n",
    "                    f\"{representation} - relative density (all bins, for comparison)\"\n",
    "                    for representation in representations\n",
    "                ],\n",
    "            )\n",
    "\n",
    "        display(Markdown(f\"---\"))"
   ]
  },
  {
   "cell_type": "code",
   "execution_count": null,
   "metadata": {},
   "outputs": [],
   "source": []
  },
  {
   "cell_type": "code",
   "execution_count": null,
   "metadata": {},
   "outputs": [],
   "source": []
  }
 ],
 "metadata": {
  "jupytext": {
   "cell_metadata_filter": "-all"
  },
  "kernelspec": {
   "display_name": "py39-cuda-env",
   "language": "python",
   "name": "py39-cuda-env"
  },
  "language_info": {
   "codemirror_mode": {
    "name": "ipython",
    "version": 3
   },
   "file_extension": ".py",
   "mimetype": "text/x-python",
   "name": "python",
   "nbconvert_exporter": "python",
   "pygments_lexer": "ipython3",
   "version": "3.9.13"
  }
 },
 "nbformat": 4,
 "nbformat_minor": 4
}
