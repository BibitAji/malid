{
 "cells": [
  {
   "cell_type": "markdown",
   "metadata": {},
   "source": [
    "Plot convergent cluster model (model 2) Covid cluster distances for known binders vs healthy donor-originating sequences.\n",
    "\n",
    "- Plot separately per fold, to avoid any problems of merging ranks across folds that may have different distance scales.\n",
    "- y axis: Proximity to nearest Covid-associated cluster chosen by model 2 -- converted to rank\n",
    "- x axis: healthy patient sequences (from one fold's test set), vs CoVAbDab/MIRA known binder sequences\n",
    "    - CoV-AbDab: we don't know isotype, so we try all isotypes for each sequences and take max `P(Covid)` prediction.\n",
    "    - BCR healthy donors: we exclude IgM/D which may be future Covid response.\n",
    "\n",
    "Notice that we pass all known binder database entries through our model. Not just \"matches\" according to some threshold. (Previously, known binder discovery relied on matching our sequences to known binder DBs with fixed thresholds that we chose by hand. Instead, we now run all known binder DB entries through our model wholesale, and compare to the model outputs we get for healthy donor sequences.)"
   ]
  },
  {
   "cell_type": "code",
   "execution_count": null,
   "metadata": {},
   "outputs": [],
   "source": []
  },
  {
   "cell_type": "code",
   "execution_count": 1,
   "metadata": {
    "execution": {
     "iopub.execute_input": "2023-01-02T02:58:46.011713Z",
     "iopub.status.busy": "2023-01-02T02:58:46.011296Z",
     "iopub.status.idle": "2023-01-02T02:58:49.212660Z",
     "shell.execute_reply": "2023-01-02T02:58:49.211641Z"
    }
   },
   "outputs": [],
   "source": [
    "import numpy as np\n",
    "import pandas as pd\n",
    "import matplotlib.pyplot as plt\n",
    "\n",
    "%matplotlib inline\n",
    "import seaborn as sns\n",
    "import gc"
   ]
  },
  {
   "cell_type": "code",
   "execution_count": 2,
   "metadata": {
    "execution": {
     "iopub.execute_input": "2023-01-02T02:58:49.217839Z",
     "iopub.status.busy": "2023-01-02T02:58:49.217237Z",
     "iopub.status.idle": "2023-01-02T02:58:53.643256Z",
     "shell.execute_reply": "2023-01-02T02:58:53.641777Z"
    }
   },
   "outputs": [],
   "source": [
    "from malid import config, io, helpers, logger\n",
    "from malid.datamodels import GeneLocus, TargetObsColumnEnum, SampleWeightStrategy\n",
    "from malid.trained_model_wrappers import ConvergentClusterClassifier\n",
    "import genetools\n",
    "from statannotations.Annotator import Annotator\n",
    "import sklearn.metrics\n",
    "import scipy.stats"
   ]
  },
  {
   "cell_type": "code",
   "execution_count": null,
   "metadata": {},
   "outputs": [],
   "source": []
  },
  {
   "cell_type": "code",
   "execution_count": 3,
   "metadata": {
    "execution": {
     "iopub.execute_input": "2023-01-02T02:58:53.648462Z",
     "iopub.status.busy": "2023-01-02T02:58:53.648135Z",
     "iopub.status.idle": "2023-01-02T02:58:53.655116Z",
     "shell.execute_reply": "2023-01-02T02:58:53.654273Z"
    }
   },
   "outputs": [],
   "source": [
    "def extract_covid_cluster_list(clf: ConvergentClusterClassifier):\n",
    "    # Get all clusters\n",
    "    model2_cluster_class_associations = (\n",
    "        clf.cluster_centroids_with_class_specific_p_values\n",
    "    )\n",
    "\n",
    "    # Melt to columns = [cluster_dominant_label, p_value], but first move consensus_sequence into the set of index columns\n",
    "    # TODO(refactor): this reset_index().set_index() operation is quite slow\n",
    "    model2_cluster_class_associations = (\n",
    "        model2_cluster_class_associations.reset_index()\n",
    "        .set_index(\n",
    "            list(model2_cluster_class_associations.index.names) + [\"consensus_sequence\"]\n",
    "        )\n",
    "        .melt(\n",
    "            # preserve index\n",
    "            ignore_index=False,\n",
    "            var_name=\"cluster_dominant_label\",\n",
    "            value_name=\"p_value\",\n",
    "        )\n",
    "    )\n",
    "\n",
    "    # Filter to clusters associated with each class\n",
    "    model2_cluster_class_associations = model2_cluster_class_associations[\n",
    "        model2_cluster_class_associations[\"p_value\"] <= clf.p_value_threshold\n",
    "    ]\n",
    "\n",
    "    # Filter to Covid predictive cluster centroids only\n",
    "    disease_clusters_from_model2 = model2_cluster_class_associations[\n",
    "        model2_cluster_class_associations[\"cluster_dominant_label\"] == \"Covid19\"\n",
    "    ]\n",
    "\n",
    "    return disease_clusters_from_model2"
   ]
  },
  {
   "cell_type": "code",
   "execution_count": null,
   "metadata": {},
   "outputs": [],
   "source": []
  },
  {
   "cell_type": "code",
   "execution_count": 4,
   "metadata": {
    "execution": {
     "iopub.execute_input": "2023-01-02T02:58:53.658645Z",
     "iopub.status.busy": "2023-01-02T02:58:53.658345Z",
     "iopub.status.idle": "2023-01-02T02:58:53.669886Z",
     "shell.execute_reply": "2023-01-02T02:58:53.669093Z"
    }
   },
   "outputs": [],
   "source": [
    "def score_sequences(adata, disease_clusters_from_model2, gene_locus):\n",
    "    # Assign each test sequence to known cluster with nearest centroid, if possible\n",
    "    df = ConvergentClusterClassifier._assign_sequences_to_known_clusters(\n",
    "        df=adata.obs,\n",
    "        cluster_centroids_by_supergroup=ConvergentClusterClassifier._wrap_cluster_centroids_as_dict_by_supergroup(\n",
    "            disease_clusters_from_model2\n",
    "        ),\n",
    "        sequence_identity_threshold=config.sequence_identity_thresholds.assign_test_sequences_to_clusters[\n",
    "            gene_locus\n",
    "        ],\n",
    "        validate_same_fold_id_and_label=False,\n",
    "    )\n",
    "\n",
    "    # Compute (1 - normalized Hamming distance) to get a proximity score.\n",
    "    # Set to 0 if there were no centroids that could be compared to (i.e. no predictive clusers with same V/J/CDR3 length)\n",
    "    df[\"centroid_proximity_score\"] = 1 - df[\"distance_to_nearest_centroid\"].fillna(1)\n",
    "\n",
    "    return df"
   ]
  },
  {
   "cell_type": "code",
   "execution_count": null,
   "metadata": {},
   "outputs": [],
   "source": []
  },
  {
   "cell_type": "code",
   "execution_count": null,
   "metadata": {},
   "outputs": [],
   "source": []
  },
  {
   "cell_type": "code",
   "execution_count": 5,
   "metadata": {
    "execution": {
     "iopub.execute_input": "2023-01-02T02:58:53.674121Z",
     "iopub.status.busy": "2023-01-02T02:58:53.673457Z",
     "iopub.status.idle": "2023-01-02T02:58:53.694004Z",
     "shell.execute_reply": "2023-01-02T02:58:53.693221Z"
    }
   },
   "outputs": [],
   "source": [
    "def plot(\n",
    "    fold_id: int,\n",
    "    gene_locus: GeneLocus,\n",
    "    target_obs_column: TargetObsColumnEnum,\n",
    "    mann_whitney_test_method=\"asymptotic\",\n",
    "    axis_label=\"Sequence rank\\n(percentile of predictive cluster proximity)\",\n",
    "):\n",
    "    sample_weight_strategy = SampleWeightStrategy.ISOTYPE_USAGE\n",
    "\n",
    "    clf = ConvergentClusterClassifier(\n",
    "        fold_id=fold_id,\n",
    "        model_name=config.metamodel_base_model_names.model_name_convergent_clustering,\n",
    "        fold_label_train=\"train_smaller\",\n",
    "        gene_locus=gene_locus,\n",
    "        target_obs_column=target_obs_column,\n",
    "    )\n",
    "\n",
    "    # Extract list of predictive clusters from model 2\n",
    "    covid_clusters_from_model2 = extract_covid_cluster_list(clf)\n",
    "\n",
    "    # Load this locus's known binders\n",
    "    known_binders_adata = io.load_known_binder_embeddings(\n",
    "        fold_id=fold_id,\n",
    "        gene_locus=gene_locus,\n",
    "    )\n",
    "    # Score known binder sequences\n",
    "    known_binder_sequence_distances = score_sequences(\n",
    "        known_binders_adata, covid_clusters_from_model2, gene_locus\n",
    "    )\n",
    "    logger.info(\n",
    "        f\"Known binder sequences for {gene_locus}: {known_binder_sequence_distances['distance_to_nearest_centroid'].isna().value_counts(normalize=True).reindex([True, False]).loc[True]:.2%} of sequences had no Covid-predictive centroids to compare to in fold {fold_id}, and thus have centroid proximity score = 0.0 by default.\"\n",
    "    )\n",
    "\n",
    "    # Load Mal-ID cohort sequences from the test set, to ensure we have not trained on them\n",
    "    adata = io.load_fold_embeddings(\n",
    "        fold_id=fold_id,\n",
    "        fold_label=\"test\",\n",
    "        gene_locus=gene_locus,\n",
    "        target_obs_column=target_obs_column,\n",
    "        sample_weight_strategy=sample_weight_strategy,\n",
    "    )\n",
    "\n",
    "    # Deduplicate identical sequences across specimens/people\n",
    "    # (duplicated() returns False for first entry and True for all copies of the same entry, so we have to flip this mask)\n",
    "    adata = adata[\n",
    "        ~adata.obs.duplicated(\n",
    "            subset=[\n",
    "                \"v_gene\",\n",
    "                \"j_gene\",\n",
    "                \"cdr3_seq_aa_q_trim\",\n",
    "                \"disease\",\n",
    "                # Even though the below fields are not used by model2,\n",
    "                # dedupe by them too,\n",
    "                # to be consistent with the deduping in the model3 rank analysis.\n",
    "                \"cdr1_seq_aa_q_trim\",\n",
    "                \"cdr2_seq_aa_q_trim\",\n",
    "                \"isotype_supergroup\",\n",
    "            ],\n",
    "            keep=\"first\",\n",
    "        )\n",
    "    ]\n",
    "\n",
    "    # Get sequences from healthy individuals\n",
    "    adata_healthy = adata[adata.obs[\"disease\"] == helpers.healthy_label]\n",
    "    # Remove naive B cells: those that may be poised to respond to SARS-CoV-2 after infection\n",
    "    adata_healthy = adata_healthy[adata_healthy.obs[\"isotype_supergroup\"] != \"IGHD-M\"]\n",
    "\n",
    "    # Score healthy-donor sequences\n",
    "    healthy_donor_sequence_distances = score_sequences(\n",
    "        adata_healthy, covid_clusters_from_model2, gene_locus\n",
    "    )\n",
    "    logger.info(\n",
    "        f\"Healthy donor sequences in fold {fold_id}-test, {gene_locus}: {healthy_donor_sequence_distances['distance_to_nearest_centroid'].isna().value_counts(normalize=True).reindex([True, False]).loc[True]:.2%} of sequences had no Covid-predictive centroids to compare to, and thus have centroid proximity score = 0.0 by default.\"\n",
    "    )\n",
    "\n",
    "    # Combine known binders + healthy\n",
    "    healthy_sequences_label = \"Sequences from healthy donors\"\n",
    "    known_binders_label = \"Known binders\"\n",
    "    combined = pd.concat(\n",
    "        [\n",
    "            healthy_donor_sequence_distances[[\"centroid_proximity_score\"]].assign(\n",
    "                source=healthy_sequences_label\n",
    "            ),\n",
    "            known_binder_sequence_distances[[\"centroid_proximity_score\"]].assign(\n",
    "                source=known_binders_label\n",
    "            ),\n",
    "        ],\n",
    "        axis=0,\n",
    "    ).reset_index(drop=True)\n",
    "\n",
    "    # Assign a rank (higher ranks are higher proximity scores)\n",
    "    combined.sort_values(\"centroid_proximity_score\", ascending=True, inplace=True)\n",
    "\n",
    "    # Note that there may be a number of sequences with centroid_proximity_score exactly 0 (all sequences that had no possible predictive clusters to match to, because of their V/J/CDR3 length),\n",
    "    # but they may have different ranks if we use rank_normalize directly, since in that function we are not repeating ranks (all ranks are unique):\n",
    "    #         combined[\"rank\"] = genetools.stats.rank_normalize(\n",
    "    #             combined[\"centroid_proximity_score\"]\n",
    "    #         )\n",
    "    #         # percentile normalize\n",
    "    #         combined[\"rank\"] = combined[\"rank\"] / combined.shape[0]\n",
    "\n",
    "    # Instead, assign the same rank for all sequences with the proximity score = 0.0 by default.\n",
    "    # First set ranks for all nonzero scores, then fillna for the rest with rank exactly 0.\n",
    "    # or, set ranks for all nonzero scores, and then fillna for the rest with rank exactly 0\n",
    "    nonzero_scores = combined[combined[\"centroid_proximity_score\"] > 0.0][\n",
    "        \"centroid_proximity_score\"\n",
    "    ]\n",
    "    combined[\"rank\"] = genetools.stats.percentile_normalize(nonzero_scores).reindex(\n",
    "        combined.index, fill_value=0.0\n",
    "    )\n",
    "\n",
    "    # Compute AUC of discovering known binders with our rankings\n",
    "    # (Doesn't matter whether we use rank or the raw distance (e.g. \"centroid_proximity_score\" column) here, because AUC is just about whether positive examples are assigned higher ranks than negative examples)\n",
    "    auc = sklearn.metrics.roc_auc_score(\n",
    "        y_true=combined[\"source\"].replace(\n",
    "            {healthy_sequences_label: False, known_binders_label: True}\n",
    "        ),\n",
    "        y_score=combined[\"rank\"],\n",
    "    )\n",
    "\n",
    "    # Compute rank stats\n",
    "    known_binder_sequence_ranks = combined[combined[\"source\"] == known_binders_label][\n",
    "        \"rank\"\n",
    "    ]\n",
    "    rank_stats = [\n",
    "        f\"85% of known binder sequences have rank over {known_binder_sequence_ranks.quantile(0.15)*100:0.1f}%\"\n",
    "    ]\n",
    "    # Invert, either by computing CDF (https://stackoverflow.com/q/26489134/130164) or as follows:\n",
    "    rank_stats.extend(\n",
    "        [\n",
    "            f\"{(known_binder_sequence_ranks > 0.80).mean() * 100:0.1f}% of known binder sequences have rank over 80%\",\n",
    "            f\"{(known_binder_sequence_ranks > 0.75).mean() * 100:0.1f}% of known binder sequences have rank over 75%\",\n",
    "            f\"{(known_binder_sequence_ranks > 0.50).mean() * 100:0.1f}% of known binder sequences have rank over 50%\",\n",
    "        ]\n",
    "    )\n",
    "\n",
    "    # Plot\n",
    "    fig, ax = plt.subplots(figsize=(5, 4))\n",
    "    order = [healthy_sequences_label, known_binders_label]\n",
    "    sns.boxplot(data=combined, x=\"source\", y=\"rank\", ax=ax, order=order)\n",
    "    # Annotate with statistical significance\n",
    "    annot = Annotator(\n",
    "        ax=ax,\n",
    "        pairs=[order],\n",
    "        data=combined,\n",
    "        x=\"source\",\n",
    "        y=\"rank\",\n",
    "        # This \"order\" is the reverse of the seaborn plotting order:\n",
    "        # Specify pair order for the one-sided test that the the known binders have greater ranks than the healthy sequences.\n",
    "        # (Make sure to be consistent with the scipy equivalent below about which is the \"greater\" and which is the \"less\" sample)\n",
    "        order=list(reversed(order)),\n",
    "    )\n",
    "    annot.configure(\n",
    "        test=\"Mann-Whitney-gt\", text_format=\"star\", loc=\"outside\", verbose=2\n",
    "    )\n",
    "    annot.apply_test(method=mann_whitney_test_method)\n",
    "    ax, test_results_for_annotator = annot.annotate()\n",
    "\n",
    "    # Reproduce the test ourselves: Wilcoxon rank-sum test, one sided.\n",
    "    ranks_known_binders = combined[combined[\"source\"] == known_binders_label][\n",
    "        \"rank\"\n",
    "    ].values\n",
    "    ranks_other = combined[combined[\"source\"] == healthy_sequences_label][\"rank\"].values\n",
    "\n",
    "    # The Wilcoxon rank-sum test tests the null hypothesis that two sets of measurements are drawn from the same distribution.\n",
    "    # The alternative hypothesis is that values in one sample are more likely to be greater than the values in the other sample.\n",
    "    significance_test = scipy.stats.mannwhitneyu(\n",
    "        ranks_known_binders,\n",
    "        ranks_other,\n",
    "        alternative=\"greater\",\n",
    "        method=mann_whitney_test_method,\n",
    "    )\n",
    "    # Confirm StatResult matches against scipy's p-value and test statistic\n",
    "    assert np.allclose(\n",
    "        significance_test.pvalue, test_results_for_annotator[0].data.pvalue\n",
    "    )\n",
    "    assert np.allclose(\n",
    "        significance_test.statistic, test_results_for_annotator[0].data.stat_value\n",
    "    )\n",
    "\n",
    "    # Finish plot\n",
    "    plt.ylabel(axis_label)\n",
    "    plt.xlabel(None)\n",
    "    ax.set_xticklabels(\n",
    "        genetools.plots.add_sample_size_to_labels(\n",
    "            ax.get_xticklabels(), combined, \"source\"\n",
    "        )\n",
    "    )\n",
    "    genetools.plots.wrap_tick_labels(ax)\n",
    "    plt.ylim(-0.05, 1.05)\n",
    "    # higher rank means higher confidence\n",
    "    plt.yticks(\n",
    "        ticks=[0.0, 0.25, 0.5, 0.75, 1.0],\n",
    "        labels=[\n",
    "            \"0 (worst)\",\n",
    "            0.25,\n",
    "            0.50,\n",
    "            0.75,\n",
    "            \"1 (best)\",\n",
    "        ],\n",
    "    )\n",
    "\n",
    "    sns.despine(ax=ax)\n",
    "    fig.tight_layout()\n",
    "\n",
    "    return fig, ax, combined, significance_test, auc, rank_stats"
   ]
  },
  {
   "cell_type": "code",
   "execution_count": 6,
   "metadata": {
    "execution": {
     "iopub.execute_input": "2023-01-02T02:58:53.697551Z",
     "iopub.status.busy": "2023-01-02T02:58:53.697007Z",
     "iopub.status.idle": "2023-01-02T03:38:21.533243Z",
     "shell.execute_reply": "2023-01-02T03:38:21.532321Z"
    }
   },
   "outputs": [
    {
     "name": "stderr",
     "output_type": "stream",
     "text": [
      "2023-01-01 18:58:54,875 - model2_ranks_of_known_binders_vs_healthy_donor_sequences.ipynb - INFO - Known binder sequences for GeneLocus.BCR: 82.42% of sequences had no Covid-predictive centroids to compare to in fold 0, and thus have centroid proximity score = 0.0 by default.\n"
     ]
    },
    {
     "name": "stderr",
     "output_type": "stream",
     "text": [
      "2023-01-01 18:58:54,879 - malid.external.scratch_cache - INFO - Reading network file from local machine cache: /users/maximz/code/boyd-immune-repertoire-classification/data/data_v_20221224/embedded/unirep_fine_tuned/anndatas_scaled/BCR/fold.0.test.h5ad -> /srv/scratch/maximz/cache/d23bdbcb1cb8d1c3007da595727fbbab8cc86779ab8967868314f2da.0.test.h5ad\n"
     ]
    },
    {
     "name": "stdout",
     "output_type": "stream",
     "text": [
      "WARNING: Your filename has more than two extensions: ['.0', '.test', '.h5ad'].\n",
      "Only considering the two last: ['.test', '.h5ad'].\n"
     ]
    },
    {
     "name": "stdout",
     "output_type": "stream",
     "text": [
      "WARNING: Your filename has more than two extensions: ['.0', '.test', '.h5ad'].\n",
      "Only considering the two last: ['.test', '.h5ad'].\n"
     ]
    },
    {
     "name": "stderr",
     "output_type": "stream",
     "text": [
      "2023-01-01 19:00:43,182 - malid.helpers - WARNING - Not marking any sequences as confident_sequence because those annotations weren't found: [Errno 2] No such file or directory: '/users/maximz/code/boyd-immune-repertoire-classification/data/data_v_20221224/embedded/unirep_fine_tuned/anndatas_scaled/BCR/neighborhoods/knn_neighborhood.0.test.IGHG.embedded_onto.train_smaller.combined_data.filtered.tsv.gz'\n"
     ]
    },
    {
     "name": "stderr",
     "output_type": "stream",
     "text": [
      "2023-01-01 19:01:54,621 - model2_ranks_of_known_binders_vs_healthy_donor_sequences.ipynb - INFO - Healthy donor sequences in fold 0-test, GeneLocus.BCR: 91.35% of sequences had no Covid-predictive centroids to compare to, and thus have centroid proximity score = 0.0 by default.\n"
     ]
    },
    {
     "name": "stdout",
     "output_type": "stream",
     "text": [
      "p-value annotation legend:\n",
      "      ns: p <= 1.00e+00\n",
      "       *: 1.00e-02 < p <= 5.00e-02\n",
      "      **: 1.00e-03 < p <= 1.00e-02\n",
      "     ***: 1.00e-04 < p <= 1.00e-03\n",
      "    ****: p <= 1.00e-04\n",
      "\n",
      "Known binders vs. Sequences from healthy donors: Mann-Whitney-Wilcoxon test greater, P_val:1.617e-175 U_stat=2.244e+09\n"
     ]
    },
    {
     "name": "stdout",
     "output_type": "stream",
     "text": [
      "GeneLocus.BCR, fold 0\n",
      "AUC of discovering known binders with our rankings based on sequence proximity to nearest model 2 Covid19-predictive cluster centroid,\n",
      "without a distance threshold but with same V gene, J gene, and CDR3 length: 0.549\n",
      "85% of known binder sequences have rank over 0.0%\n",
      "9.9% of known binder sequences have rank over 80%\n",
      "10.8% of known binder sequences have rank over 75%\n",
      "14.2% of known binder sequences have rank over 50%\n",
      "\n",
      "Boxplot p-value: 1.62e-175, U-statistic=2.2439e+09\n",
      "\n",
      "NOTE: 91.28% of sequences had infinite distance from / were unmatchable to any model 2 centroid,\n",
      "i.e. no compatible V/J/CDR3 length clusters to compute distance from, so these sequences had score and rank set to 0.\n",
      "\n",
      "The breakdown of infinite-distances by sequence source:\n",
      "Known binders:\t82.42% of sequences have infinite distance\n",
      "Sequences from healthy donors:\t91.38% of sequences have infinite distance\n",
      "\n"
     ]
    },
    {
     "name": "stdout",
     "output_type": "stream",
     "text": [
      "\n",
      "************************************************************\n",
      "\n"
     ]
    },
    {
     "name": "stderr",
     "output_type": "stream",
     "text": [
      "2023-01-01 19:02:02,941 - model2_ranks_of_known_binders_vs_healthy_donor_sequences.ipynb - INFO - Known binder sequences for GeneLocus.BCR: 76.07% of sequences had no Covid-predictive centroids to compare to in fold 1, and thus have centroid proximity score = 0.0 by default.\n"
     ]
    },
    {
     "name": "stderr",
     "output_type": "stream",
     "text": [
      "2023-01-01 19:02:02,944 - malid.external.scratch_cache - INFO - Reading network file from local machine cache: /users/maximz/code/boyd-immune-repertoire-classification/data/data_v_20221224/embedded/unirep_fine_tuned/anndatas_scaled/BCR/fold.1.test.h5ad -> /srv/scratch/maximz/cache/ed1f2608e168c24c508b6bfbbe3a18ba1a4680e5c010e34cd184cae6.1.test.h5ad\n"
     ]
    },
    {
     "name": "stdout",
     "output_type": "stream",
     "text": [
      "WARNING: Your filename has more than two extensions: ['.1', '.test', '.h5ad'].\n",
      "Only considering the two last: ['.test', '.h5ad'].\n"
     ]
    },
    {
     "name": "stdout",
     "output_type": "stream",
     "text": [
      "WARNING: Your filename has more than two extensions: ['.1', '.test', '.h5ad'].\n",
      "Only considering the two last: ['.test', '.h5ad'].\n"
     ]
    },
    {
     "name": "stderr",
     "output_type": "stream",
     "text": [
      "2023-01-01 19:05:33,619 - malid.helpers - WARNING - Not marking any sequences as confident_sequence because those annotations weren't found: [Errno 2] No such file or directory: '/users/maximz/code/boyd-immune-repertoire-classification/data/data_v_20221224/embedded/unirep_fine_tuned/anndatas_scaled/BCR/neighborhoods/knn_neighborhood.1.test.IGHG.embedded_onto.train_smaller.combined_data.filtered.tsv.gz'\n"
     ]
    },
    {
     "name": "stderr",
     "output_type": "stream",
     "text": [
      "2023-01-01 19:06:41,102 - model2_ranks_of_known_binders_vs_healthy_donor_sequences.ipynb - INFO - Healthy donor sequences in fold 1-test, GeneLocus.BCR: 81.89% of sequences had no Covid-predictive centroids to compare to, and thus have centroid proximity score = 0.0 by default.\n"
     ]
    },
    {
     "name": "stdout",
     "output_type": "stream",
     "text": [
      "p-value annotation legend:\n",
      "      ns: p <= 1.00e+00\n",
      "       *: 1.00e-02 < p <= 5.00e-02\n",
      "      **: 1.00e-03 < p <= 1.00e-02\n",
      "     ***: 1.00e-04 < p <= 1.00e-03\n",
      "    ****: p <= 1.00e-04\n",
      "\n",
      "Known binders vs. Sequences from healthy donors: Mann-Whitney-Wilcoxon test greater, P_val:9.013e-53 U_stat=1.942e+09\n"
     ]
    },
    {
     "name": "stdout",
     "output_type": "stream",
     "text": [
      "GeneLocus.BCR, fold 1\n",
      "AUC of discovering known binders with our rankings based on sequence proximity to nearest model 2 Covid19-predictive cluster centroid,\n",
      "without a distance threshold but with same V gene, J gene, and CDR3 length: 0.536\n",
      "85% of known binder sequences have rank over 0.0%\n",
      "9.8% of known binder sequences have rank over 80%\n",
      "11.0% of known binder sequences have rank over 75%\n",
      "16.5% of known binder sequences have rank over 50%\n",
      "\n",
      "Boxplot p-value: 9.01e-53, U-statistic=1.9420e+09\n",
      "\n",
      "NOTE: 81.87% of sequences had infinite distance from / were unmatchable to any model 2 centroid,\n",
      "i.e. no compatible V/J/CDR3 length clusters to compute distance from, so these sequences had score and rank set to 0.\n",
      "\n",
      "The breakdown of infinite-distances by sequence source:\n",
      "Known binders:\t76.07% of sequences have infinite distance\n",
      "Sequences from healthy donors:\t81.94% of sequences have infinite distance\n",
      "\n"
     ]
    },
    {
     "name": "stdout",
     "output_type": "stream",
     "text": [
      "\n",
      "************************************************************\n",
      "\n"
     ]
    },
    {
     "name": "stderr",
     "output_type": "stream",
     "text": [
      "2023-01-01 19:06:48,604 - model2_ranks_of_known_binders_vs_healthy_donor_sequences.ipynb - INFO - Known binder sequences for GeneLocus.BCR: 91.86% of sequences had no Covid-predictive centroids to compare to in fold 2, and thus have centroid proximity score = 0.0 by default.\n"
     ]
    },
    {
     "name": "stderr",
     "output_type": "stream",
     "text": [
      "2023-01-01 19:06:48,606 - malid.external.scratch_cache - INFO - Reading network file from local machine cache: /users/maximz/code/boyd-immune-repertoire-classification/data/data_v_20221224/embedded/unirep_fine_tuned/anndatas_scaled/BCR/fold.2.test.h5ad -> /srv/scratch/maximz/cache/83dcd409138574af7b7b712ce14967e926c14170bff7801b141edb49.2.test.h5ad\n"
     ]
    },
    {
     "name": "stdout",
     "output_type": "stream",
     "text": [
      "WARNING: Your filename has more than two extensions: ['.2', '.test', '.h5ad'].\n",
      "Only considering the two last: ['.test', '.h5ad'].\n"
     ]
    },
    {
     "name": "stdout",
     "output_type": "stream",
     "text": [
      "WARNING: Your filename has more than two extensions: ['.2', '.test', '.h5ad'].\n",
      "Only considering the two last: ['.test', '.h5ad'].\n"
     ]
    },
    {
     "name": "stderr",
     "output_type": "stream",
     "text": [
      "2023-01-01 19:07:59,910 - malid.helpers - WARNING - Not marking any sequences as confident_sequence because those annotations weren't found: [Errno 2] No such file or directory: '/users/maximz/code/boyd-immune-repertoire-classification/data/data_v_20221224/embedded/unirep_fine_tuned/anndatas_scaled/BCR/neighborhoods/knn_neighborhood.2.test.IGHG.embedded_onto.train_smaller.combined_data.filtered.tsv.gz'\n"
     ]
    },
    {
     "name": "stderr",
     "output_type": "stream",
     "text": [
      "2023-01-01 19:09:05,051 - model2_ranks_of_known_binders_vs_healthy_donor_sequences.ipynb - INFO - Healthy donor sequences in fold 2-test, GeneLocus.BCR: 94.82% of sequences had no Covid-predictive centroids to compare to, and thus have centroid proximity score = 0.0 by default.\n"
     ]
    },
    {
     "name": "stdout",
     "output_type": "stream",
     "text": [
      "p-value annotation legend:\n",
      "      ns: p <= 1.00e+00\n",
      "       *: 1.00e-02 < p <= 5.00e-02\n",
      "      **: 1.00e-03 < p <= 1.00e-02\n",
      "     ***: 1.00e-04 < p <= 1.00e-03\n",
      "    ****: p <= 1.00e-04\n",
      "\n",
      "Known binders vs. Sequences from healthy donors: Mann-Whitney-Wilcoxon test greater, P_val:1.473e-32 U_stat=1.803e+09\n"
     ]
    },
    {
     "name": "stdout",
     "output_type": "stream",
     "text": [
      "GeneLocus.BCR, fold 2\n",
      "AUC of discovering known binders with our rankings based on sequence proximity to nearest model 2 Covid19-predictive cluster centroid,\n",
      "without a distance threshold but with same V gene, J gene, and CDR3 length: 0.516\n",
      "85% of known binder sequences have rank over 0.0%\n",
      "5.0% of known binder sequences have rank over 80%\n",
      "5.3% of known binder sequences have rank over 75%\n",
      "6.7% of known binder sequences have rank over 50%\n",
      "\n",
      "Boxplot p-value: 1.47e-32, U-statistic=1.8029e+09\n",
      "\n",
      "NOTE: 94.80% of sequences had infinite distance from / were unmatchable to any model 2 centroid,\n",
      "i.e. no compatible V/J/CDR3 length clusters to compute distance from, so these sequences had score and rank set to 0.\n",
      "\n",
      "The breakdown of infinite-distances by sequence source:\n",
      "Known binders:\t91.86% of sequences have infinite distance\n",
      "Sequences from healthy donors:\t94.83% of sequences have infinite distance\n",
      "\n"
     ]
    },
    {
     "name": "stdout",
     "output_type": "stream",
     "text": [
      "\n",
      "************************************************************\n",
      "\n"
     ]
    },
    {
     "name": "stderr",
     "output_type": "stream",
     "text": [
      "2023-01-01 19:09:22,701 - model2_ranks_of_known_binders_vs_healthy_donor_sequences.ipynb - INFO - Known binder sequences for GeneLocus.TCR: 99.42% of sequences had no Covid-predictive centroids to compare to in fold 0, and thus have centroid proximity score = 0.0 by default.\n"
     ]
    },
    {
     "name": "stderr",
     "output_type": "stream",
     "text": [
      "2023-01-01 19:09:22,704 - malid.external.scratch_cache - INFO - Reading network file from local machine cache: /users/maximz/code/boyd-immune-repertoire-classification/data/data_v_20221224/embedded/unirep_fine_tuned/anndatas_scaled/TCR/fold.0.test.h5ad -> /srv/scratch/maximz/cache/a6c3ab8bb9960154ff8dbb5d04eaf7a1c395f034f82f9649aefc9d35.0.test.h5ad\n"
     ]
    },
    {
     "name": "stdout",
     "output_type": "stream",
     "text": [
      "WARNING: Your filename has more than two extensions: ['.0', '.test', '.h5ad'].\n",
      "Only considering the two last: ['.test', '.h5ad'].\n"
     ]
    },
    {
     "name": "stdout",
     "output_type": "stream",
     "text": [
      "WARNING: Your filename has more than two extensions: ['.0', '.test', '.h5ad'].\n",
      "Only considering the two last: ['.test', '.h5ad'].\n"
     ]
    },
    {
     "name": "stderr",
     "output_type": "stream",
     "text": [
      "2023-01-01 19:15:09,782 - malid.helpers - WARNING - Not marking any sequences as confident_sequence because those annotations weren't found: [Errno 2] No such file or directory: '/users/maximz/code/boyd-immune-repertoire-classification/data/data_v_20221224/embedded/unirep_fine_tuned/anndatas_scaled/TCR/neighborhoods/knn_neighborhood.0.test.TCRB.embedded_onto.train_smaller.combined_data.filtered.tsv.gz'\n"
     ]
    },
    {
     "name": "stderr",
     "output_type": "stream",
     "text": [
      "2023-01-01 19:17:40,024 - model2_ranks_of_known_binders_vs_healthy_donor_sequences.ipynb - INFO - Healthy donor sequences in fold 0-test, GeneLocus.TCR: 99.19% of sequences had no Covid-predictive centroids to compare to, and thus have centroid proximity score = 0.0 by default.\n"
     ]
    },
    {
     "name": "stdout",
     "output_type": "stream",
     "text": [
      "p-value annotation legend:\n",
      "      ns: p <= 1.00e+00\n",
      "       *: 1.00e-02 < p <= 5.00e-02\n",
      "      **: 1.00e-03 < p <= 1.00e-02\n",
      "     ***: 1.00e-04 < p <= 1.00e-03\n",
      "    ****: p <= 1.00e-04\n",
      "\n",
      "Known binders vs. Sequences from healthy donors: Mann-Whitney-Wilcoxon test greater, P_val:8.076e-01 U_stat=6.688e+10\n"
     ]
    },
    {
     "name": "stdout",
     "output_type": "stream",
     "text": [
      "GeneLocus.TCR, fold 0\n",
      "AUC of discovering known binders with our rankings based on sequence proximity to nearest model 2 Covid19-predictive cluster centroid,\n",
      "without a distance threshold but with same V gene, J gene, and CDR3 length: 0.499\n",
      "85% of known binder sequences have rank over 0.0%\n",
      "0.1% of known binder sequences have rank over 80%\n",
      "0.1% of known binder sequences have rank over 75%\n",
      "0.3% of known binder sequences have rank over 50%\n",
      "\n",
      "Boxplot p-value: 8.08e-01, U-statistic=6.6885e+10\n",
      "\n",
      "NOTE: 99.19% of sequences had infinite distance from / were unmatchable to any model 2 centroid,\n",
      "i.e. no compatible V/J/CDR3 length clusters to compute distance from, so these sequences had score and rank set to 0.\n",
      "\n",
      "The breakdown of infinite-distances by sequence source:\n",
      "Known binders:\t99.42% of sequences have infinite distance\n",
      "Sequences from healthy donors:\t99.19% of sequences have infinite distance\n",
      "\n"
     ]
    },
    {
     "name": "stdout",
     "output_type": "stream",
     "text": [
      "\n",
      "************************************************************\n",
      "\n"
     ]
    },
    {
     "name": "stderr",
     "output_type": "stream",
     "text": [
      "2023-01-01 19:18:04,687 - model2_ranks_of_known_binders_vs_healthy_donor_sequences.ipynb - INFO - Known binder sequences for GeneLocus.TCR: 93.17% of sequences had no Covid-predictive centroids to compare to in fold 1, and thus have centroid proximity score = 0.0 by default.\n"
     ]
    },
    {
     "name": "stderr",
     "output_type": "stream",
     "text": [
      "2023-01-01 19:18:04,690 - malid.external.scratch_cache - INFO - Reading network file from local machine cache: /users/maximz/code/boyd-immune-repertoire-classification/data/data_v_20221224/embedded/unirep_fine_tuned/anndatas_scaled/TCR/fold.1.test.h5ad -> /srv/scratch/maximz/cache/d3eb18b805f6482478ad1ee75a5249a449864d796469d3e144db1326.1.test.h5ad\n"
     ]
    },
    {
     "name": "stdout",
     "output_type": "stream",
     "text": [
      "WARNING: Your filename has more than two extensions: ['.1', '.test', '.h5ad'].\n",
      "Only considering the two last: ['.test', '.h5ad'].\n"
     ]
    },
    {
     "name": "stdout",
     "output_type": "stream",
     "text": [
      "WARNING: Your filename has more than two extensions: ['.1', '.test', '.h5ad'].\n",
      "Only considering the two last: ['.test', '.h5ad'].\n"
     ]
    },
    {
     "name": "stderr",
     "output_type": "stream",
     "text": [
      "2023-01-01 19:23:37,822 - malid.helpers - WARNING - Not marking any sequences as confident_sequence because those annotations weren't found: [Errno 2] No such file or directory: '/users/maximz/code/boyd-immune-repertoire-classification/data/data_v_20221224/embedded/unirep_fine_tuned/anndatas_scaled/TCR/neighborhoods/knn_neighborhood.1.test.TCRB.embedded_onto.train_smaller.combined_data.filtered.tsv.gz'\n"
     ]
    },
    {
     "name": "stderr",
     "output_type": "stream",
     "text": [
      "2023-01-01 19:27:36,704 - model2_ranks_of_known_binders_vs_healthy_donor_sequences.ipynb - INFO - Healthy donor sequences in fold 1-test, GeneLocus.TCR: 90.14% of sequences had no Covid-predictive centroids to compare to, and thus have centroid proximity score = 0.0 by default.\n"
     ]
    },
    {
     "name": "stdout",
     "output_type": "stream",
     "text": [
      "p-value annotation legend:\n",
      "      ns: p <= 1.00e+00\n",
      "       *: 1.00e-02 < p <= 5.00e-02\n",
      "      **: 1.00e-03 < p <= 1.00e-02\n",
      "     ***: 1.00e-04 < p <= 1.00e-03\n",
      "    ****: p <= 1.00e-04\n",
      "\n",
      "Known binders vs. Sequences from healthy donors: Mann-Whitney-Wilcoxon test greater, P_val:1.000e+00 U_stat=6.476e+10\n"
     ]
    },
    {
     "name": "stdout",
     "output_type": "stream",
     "text": [
      "GeneLocus.TCR, fold 1\n",
      "AUC of discovering known binders with our rankings based on sequence proximity to nearest model 2 Covid19-predictive cluster centroid,\n",
      "without a distance threshold but with same V gene, J gene, and CDR3 length: 0.485\n",
      "85% of known binder sequences have rank over 0.0%\n",
      "1.7% of known binder sequences have rank over 80%\n",
      "2.1% of known binder sequences have rank over 75%\n",
      "3.9% of known binder sequences have rank over 50%\n",
      "\n",
      "Boxplot p-value: 1.00e+00, U-statistic=6.4757e+10\n",
      "\n",
      "NOTE: 90.19% of sequences had infinite distance from / were unmatchable to any model 2 centroid,\n",
      "i.e. no compatible V/J/CDR3 length clusters to compute distance from, so these sequences had score and rank set to 0.\n",
      "\n",
      "The breakdown of infinite-distances by sequence source:\n",
      "Known binders:\t93.17% of sequences have infinite distance\n",
      "Sequences from healthy donors:\t90.16% of sequences have infinite distance\n",
      "\n"
     ]
    },
    {
     "name": "stdout",
     "output_type": "stream",
     "text": [
      "\n",
      "************************************************************\n",
      "\n"
     ]
    },
    {
     "name": "stderr",
     "output_type": "stream",
     "text": [
      "2023-01-01 19:28:04,858 - model2_ranks_of_known_binders_vs_healthy_donor_sequences.ipynb - INFO - Known binder sequences for GeneLocus.TCR: 99.96% of sequences had no Covid-predictive centroids to compare to in fold 2, and thus have centroid proximity score = 0.0 by default.\n"
     ]
    },
    {
     "name": "stderr",
     "output_type": "stream",
     "text": [
      "2023-01-01 19:28:04,861 - malid.external.scratch_cache - INFO - Reading network file from local machine cache: /users/maximz/code/boyd-immune-repertoire-classification/data/data_v_20221224/embedded/unirep_fine_tuned/anndatas_scaled/TCR/fold.2.test.h5ad -> /srv/scratch/maximz/cache/d74a0f1a51ad1e35ec4654f627621ecdc4abf48e3481e399db8af384.2.test.h5ad\n"
     ]
    },
    {
     "name": "stdout",
     "output_type": "stream",
     "text": [
      "WARNING: Your filename has more than two extensions: ['.2', '.test', '.h5ad'].\n",
      "Only considering the two last: ['.test', '.h5ad'].\n"
     ]
    },
    {
     "name": "stdout",
     "output_type": "stream",
     "text": [
      "WARNING: Your filename has more than two extensions: ['.2', '.test', '.h5ad'].\n",
      "Only considering the two last: ['.test', '.h5ad'].\n"
     ]
    },
    {
     "name": "stderr",
     "output_type": "stream",
     "text": [
      "2023-01-01 19:33:41,974 - malid.helpers - WARNING - Not marking any sequences as confident_sequence because those annotations weren't found: [Errno 2] No such file or directory: '/users/maximz/code/boyd-immune-repertoire-classification/data/data_v_20221224/embedded/unirep_fine_tuned/anndatas_scaled/TCR/neighborhoods/knn_neighborhood.2.test.TCRB.embedded_onto.train_smaller.combined_data.filtered.tsv.gz'\n"
     ]
    },
    {
     "name": "stderr",
     "output_type": "stream",
     "text": [
      "2023-01-01 19:38:01,200 - model2_ranks_of_known_binders_vs_healthy_donor_sequences.ipynb - INFO - Healthy donor sequences in fold 2-test, GeneLocus.TCR: 99.90% of sequences had no Covid-predictive centroids to compare to, and thus have centroid proximity score = 0.0 by default.\n"
     ]
    },
    {
     "name": "stdout",
     "output_type": "stream",
     "text": [
      "p-value annotation legend:\n",
      "      ns: p <= 1.00e+00\n",
      "       *: 1.00e-02 < p <= 5.00e-02\n",
      "      **: 1.00e-03 < p <= 1.00e-02\n",
      "     ***: 1.00e-04 < p <= 1.00e-03\n",
      "    ****: p <= 1.00e-04\n",
      "\n",
      "Known binders vs. Sequences from healthy donors: Mann-Whitney-Wilcoxon test greater, P_val:5.848e-01 U_stat=6.592e+10\n"
     ]
    },
    {
     "name": "stdout",
     "output_type": "stream",
     "text": [
      "GeneLocus.TCR, fold 2\n",
      "AUC of discovering known binders with our rankings based on sequence proximity to nearest model 2 Covid19-predictive cluster centroid,\n",
      "without a distance threshold but with same V gene, J gene, and CDR3 length: 0.500\n",
      "85% of known binder sequences have rank over 0.0%\n",
      "0.0% of known binder sequences have rank over 80%\n",
      "0.0% of known binder sequences have rank over 75%\n",
      "0.0% of known binder sequences have rank over 50%\n",
      "\n",
      "Boxplot p-value: 5.85e-01, U-statistic=6.5921e+10\n",
      "\n",
      "NOTE: 99.90% of sequences had infinite distance from / were unmatchable to any model 2 centroid,\n",
      "i.e. no compatible V/J/CDR3 length clusters to compute distance from, so these sequences had score and rank set to 0.\n",
      "\n",
      "The breakdown of infinite-distances by sequence source:\n",
      "Known binders:\t99.96% of sequences have infinite distance\n",
      "Sequences from healthy donors:\t99.90% of sequences have infinite distance\n",
      "\n"
     ]
    },
    {
     "name": "stdout",
     "output_type": "stream",
     "text": [
      "\n",
      "************************************************************\n",
      "\n"
     ]
    }
   ],
   "source": [
    "for gene_locus in config.gene_loci_used:\n",
    "    output_dir = config.paths.model_interpretations_output_dir / gene_locus.name\n",
    "    output_dir.mkdir(parents=True, exist_ok=True)\n",
    "\n",
    "    # Loop over all fold IDs except global fold (does not have a test set)\n",
    "    # (Global fold's validation set is not appropriate: not really held out, because used for model 2 threshold picking and for fine-tuning the language models)\n",
    "    for fold_id in config.cross_validation_fold_ids:\n",
    "        fig, ax, df, boxplot_significance_test, auc, rank_stats = plot(\n",
    "            fold_id=fold_id,\n",
    "            gene_locus=gene_locus,\n",
    "            target_obs_column=TargetObsColumnEnum.disease,\n",
    "        )\n",
    "\n",
    "        # Make report\n",
    "        newline = \"\\n\"\n",
    "        report = f\"\"\"AUC of discovering known binders with our rankings based on sequence proximity to nearest model 2 Covid19-predictive cluster centroid,\n",
    "without a distance threshold but with same V gene, J gene, and CDR3 length: {auc:0.3f}\n",
    "{newline.join(rank_stats)}\n",
    "\n",
    "Boxplot p-value: {boxplot_significance_test.pvalue:.2e}, U-statistic={boxplot_significance_test.statistic:.4e}\n",
    "\n",
    "NOTE: {(df['centroid_proximity_score'] == 0.0).value_counts(normalize=True).reindex([True, False]).loc[True]:0.2%} of sequences had infinite distance from / were unmatchable to any model 2 centroid,\n",
    "i.e. no compatible V/J/CDR3 length clusters to compute distance from, so these sequences had score and rank set to 0.\n",
    "\n",
    "The breakdown of infinite-distances by sequence source:\n",
    "\"\"\"\n",
    "        for key, grp in df.groupby(\"source\"):\n",
    "            report += f\"{key}:\\t{(grp['centroid_proximity_score'] == 0.0).value_counts(normalize=True).reindex([True, False]).loc[True]:0.2%} of sequences have infinite distance\"\n",
    "            report += \"\\n\"\n",
    "        print(f\"{gene_locus}, fold {fold_id}\")\n",
    "        print(report)\n",
    "\n",
    "        # Export\n",
    "        genetools.plots.savefig(\n",
    "            fig,\n",
    "            output_dir\n",
    "            / f\"known_binders_vs_healthy_controls.model2_rank_boxplot.fold_{fold_id}.png\",\n",
    "            dpi=300,\n",
    "        )\n",
    "        with open(\n",
    "            output_dir\n",
    "            / f\"known_binders_vs_healthy_controls.model2_rank_report.fold_{fold_id}.txt\",\n",
    "            \"w\",\n",
    "        ) as f:\n",
    "            f.write(report)\n",
    "        plt.close(fig)\n",
    "\n",
    "        # clear cache\n",
    "        io.clear_cached_fold_embeddings()\n",
    "        gc.collect()\n",
    "\n",
    "        print()\n",
    "        print(\"*\" * 60)\n",
    "        print()"
   ]
  },
  {
   "cell_type": "code",
   "execution_count": null,
   "metadata": {},
   "outputs": [],
   "source": []
  },
  {
   "cell_type": "code",
   "execution_count": null,
   "metadata": {},
   "outputs": [],
   "source": []
  }
 ],
 "metadata": {
  "jupytext": {
   "cell_metadata_filter": "-all"
  },
  "kernelspec": {
   "display_name": "py39-cuda-env",
   "language": "python",
   "name": "py39-cuda-env"
  },
  "language_info": {
   "codemirror_mode": {
    "name": "ipython",
    "version": 3
   },
   "file_extension": ".py",
   "mimetype": "text/x-python",
   "name": "python",
   "nbconvert_exporter": "python",
   "pygments_lexer": "ipython3",
   "version": "3.9.13"
  }
 },
 "nbformat": 4,
 "nbformat_minor": 4
}
