{
 "cells": [
  {
   "cell_type": "code",
   "execution_count": null,
   "metadata": {},
   "outputs": [],
   "source": []
  },
  {
   "cell_type": "code",
   "execution_count": 1,
   "metadata": {
    "execution": {
     "iopub.execute_input": "2023-01-14T03:12:27.012836Z",
     "iopub.status.busy": "2023-01-14T03:12:27.012188Z",
     "iopub.status.idle": "2023-01-14T03:12:30.744696Z",
     "shell.execute_reply": "2023-01-14T03:12:30.743193Z"
    }
   },
   "outputs": [],
   "source": [
    "import numpy as np\n",
    "import matplotlib.pyplot as plt\n",
    "import genetools\n",
    "import seaborn as sns\n",
    "\n",
    "sns.set_style(\"dark\")"
   ]
  },
  {
   "cell_type": "code",
   "execution_count": 2,
   "metadata": {
    "execution": {
     "iopub.execute_input": "2023-01-14T03:12:30.750429Z",
     "iopub.status.busy": "2023-01-14T03:12:30.750175Z",
     "iopub.status.idle": "2023-01-14T03:12:30.756554Z",
     "shell.execute_reply": "2023-01-14T03:12:30.755158Z"
    }
   },
   "outputs": [],
   "source": [
    "import pandas as pd"
   ]
  },
  {
   "cell_type": "code",
   "execution_count": 3,
   "metadata": {
    "execution": {
     "iopub.execute_input": "2023-01-14T03:12:30.761974Z",
     "iopub.status.busy": "2023-01-14T03:12:30.761712Z",
     "iopub.status.idle": "2023-01-14T03:12:34.361782Z",
     "shell.execute_reply": "2023-01-14T03:12:34.360035Z"
    }
   },
   "outputs": [],
   "source": [
    "import dask\n",
    "import dask.dataframe as dd"
   ]
  },
  {
   "cell_type": "code",
   "execution_count": 4,
   "metadata": {
    "execution": {
     "iopub.execute_input": "2023-01-14T03:12:34.366995Z",
     "iopub.status.busy": "2023-01-14T03:12:34.366020Z",
     "iopub.status.idle": "2023-01-14T03:12:34.372784Z",
     "shell.execute_reply": "2023-01-14T03:12:34.371081Z"
    }
   },
   "outputs": [],
   "source": [
    "import os"
   ]
  },
  {
   "cell_type": "code",
   "execution_count": 5,
   "metadata": {
    "execution": {
     "iopub.execute_input": "2023-01-14T03:12:34.377958Z",
     "iopub.status.busy": "2023-01-14T03:12:34.377167Z",
     "iopub.status.idle": "2023-01-14T03:12:34.732963Z",
     "shell.execute_reply": "2023-01-14T03:12:34.731150Z"
    }
   },
   "outputs": [],
   "source": [
    "from malid import config"
   ]
  },
  {
   "cell_type": "code",
   "execution_count": null,
   "metadata": {},
   "outputs": [],
   "source": []
  },
  {
   "cell_type": "markdown",
   "metadata": {},
   "source": [
    "Raise worker connection timeouts (see other dask notebooks):"
   ]
  },
  {
   "cell_type": "code",
   "execution_count": 6,
   "metadata": {
    "execution": {
     "iopub.execute_input": "2023-01-14T03:12:34.737239Z",
     "iopub.status.busy": "2023-01-14T03:12:34.736696Z",
     "iopub.status.idle": "2023-01-14T03:12:35.358145Z",
     "shell.execute_reply": "2023-01-14T03:12:35.356615Z"
    }
   },
   "outputs": [
    {
     "data": {
      "text/plain": [
       "<dask.config.set at 0x7feaf92f37f0>"
      ]
     },
     "execution_count": 6,
     "metadata": {},
     "output_type": "execute_result"
    }
   ],
   "source": [
    "import distributed\n",
    "\n",
    "# These only seem to be picked up by scheduler, not by individual workers\n",
    "\n",
    "dask.config.set(\n",
    "    {\n",
    "        \"distributed.comm.timeouts.tcp\": \"120s\",\n",
    "        \"distributed.comm.timeouts.connect\": \"120s\",\n",
    "        \"distributed.comm.retry.count\": 5,\n",
    "    }\n",
    ")"
   ]
  },
  {
   "cell_type": "code",
   "execution_count": 7,
   "metadata": {
    "execution": {
     "iopub.execute_input": "2023-01-14T03:12:35.363203Z",
     "iopub.status.busy": "2023-01-14T03:12:35.362083Z",
     "iopub.status.idle": "2023-01-14T03:12:35.375107Z",
     "shell.execute_reply": "2023-01-14T03:12:35.372872Z"
    }
   },
   "outputs": [],
   "source": [
    "# These will be picked up by individual workers\n",
    "\n",
    "with open(os.path.expandvars(\"$HOME/.config/dask/distributed.yaml\"), \"w\") as w:\n",
    "    w.write(\n",
    "        \"\"\"distributed:\n",
    "  comm:\n",
    "    retry:\n",
    "      count: 5\n",
    "    timeouts:\n",
    "      connect: 120s          # time before connecting fails\n",
    "      tcp: 120s              # time before calling an unresponsive connection dead\n",
    "    \"\"\"\n",
    "    )"
   ]
  },
  {
   "cell_type": "code",
   "execution_count": 8,
   "metadata": {
    "execution": {
     "iopub.execute_input": "2023-01-14T03:12:35.379362Z",
     "iopub.status.busy": "2023-01-14T03:12:35.378760Z",
     "iopub.status.idle": "2023-01-14T03:12:41.458160Z",
     "shell.execute_reply": "2023-01-14T03:12:41.456532Z"
    }
   },
   "outputs": [
    {
     "data": {
      "text/html": [
       "<div>\n",
       "    <div style=\"width: 24px; height: 24px; background-color: #e1e1e1; border: 3px solid #9D9D9D; border-radius: 5px; position: absolute;\"> </div>\n",
       "    <div style=\"margin-left: 48px;\">\n",
       "        <h3 style=\"margin-bottom: 0px;\">Client</h3>\n",
       "        <p style=\"color: #9D9D9D; margin-bottom: 0px;\">Client-4af09e36-93b9-11ed-afeb-b49691c8dc75</p>\n",
       "        <table style=\"width: 100%; text-align: left;\">\n",
       "\n",
       "        <tr>\n",
       "        \n",
       "            <td style=\"text-align: left;\"><strong>Connection method:</strong> Cluster object</td>\n",
       "            <td style=\"text-align: left;\"><strong>Cluster type:</strong> distributed.LocalCluster</td>\n",
       "        \n",
       "        </tr>\n",
       "\n",
       "        \n",
       "            <tr>\n",
       "                <td style=\"text-align: left;\">\n",
       "                    <strong>Dashboard: </strong> <a href=\"http://127.0.0.1:61083/status\" target=\"_blank\">http://127.0.0.1:61083/status</a>\n",
       "                </td>\n",
       "                <td style=\"text-align: left;\"></td>\n",
       "            </tr>\n",
       "        \n",
       "\n",
       "        </table>\n",
       "\n",
       "        \n",
       "            <details>\n",
       "            <summary style=\"margin-bottom: 20px;\"><h3 style=\"display: inline;\">Cluster Info</h3></summary>\n",
       "            <div class=\"jp-RenderedHTMLCommon jp-RenderedHTML jp-mod-trusted jp-OutputArea-output\">\n",
       "    <div style=\"width: 24px; height: 24px; background-color: #e1e1e1; border: 3px solid #9D9D9D; border-radius: 5px; position: absolute;\">\n",
       "    </div>\n",
       "    <div style=\"margin-left: 48px;\">\n",
       "        <h3 style=\"margin-bottom: 0px; margin-top: 0px;\">LocalCluster</h3>\n",
       "        <p style=\"color: #9D9D9D; margin-bottom: 0px;\">53234365</p>\n",
       "        <table style=\"width: 100%; text-align: left;\">\n",
       "            <tr>\n",
       "                <td style=\"text-align: left;\">\n",
       "                    <strong>Dashboard:</strong> <a href=\"http://127.0.0.1:61083/status\" target=\"_blank\">http://127.0.0.1:61083/status</a>\n",
       "                </td>\n",
       "                <td style=\"text-align: left;\">\n",
       "                    <strong>Workers:</strong> 7\n",
       "                </td>\n",
       "            </tr>\n",
       "            <tr>\n",
       "                <td style=\"text-align: left;\">\n",
       "                    <strong>Total threads:</strong> 56\n",
       "                </td>\n",
       "                <td style=\"text-align: left;\">\n",
       "                    <strong>Total memory:</strong> 1.15 TiB\n",
       "                </td>\n",
       "            </tr>\n",
       "            \n",
       "            <tr>\n",
       "    <td style=\"text-align: left;\"><strong>Status:</strong> running</td>\n",
       "    <td style=\"text-align: left;\"><strong>Using processes:</strong> True</td>\n",
       "</tr>\n",
       "\n",
       "            \n",
       "        </table>\n",
       "\n",
       "        <details>\n",
       "            <summary style=\"margin-bottom: 20px;\">\n",
       "                <h3 style=\"display: inline;\">Scheduler Info</h3>\n",
       "            </summary>\n",
       "\n",
       "            <div style=\"\">\n",
       "    <div>\n",
       "        <div style=\"width: 24px; height: 24px; background-color: #FFF7E5; border: 3px solid #FF6132; border-radius: 5px; position: absolute;\"> </div>\n",
       "        <div style=\"margin-left: 48px;\">\n",
       "            <h3 style=\"margin-bottom: 0px;\">Scheduler</h3>\n",
       "            <p style=\"color: #9D9D9D; margin-bottom: 0px;\">Scheduler-13ca0b1f-16c5-4d55-9d5c-f232e351f414</p>\n",
       "            <table style=\"width: 100%; text-align: left;\">\n",
       "                <tr>\n",
       "                    <td style=\"text-align: left;\">\n",
       "                        <strong>Comm:</strong> tcp://127.0.0.1:61084\n",
       "                    </td>\n",
       "                    <td style=\"text-align: left;\">\n",
       "                        <strong>Workers:</strong> 7\n",
       "                    </td>\n",
       "                </tr>\n",
       "                <tr>\n",
       "                    <td style=\"text-align: left;\">\n",
       "                        <strong>Dashboard:</strong> <a href=\"http://127.0.0.1:61083/status\" target=\"_blank\">http://127.0.0.1:61083/status</a>\n",
       "                    </td>\n",
       "                    <td style=\"text-align: left;\">\n",
       "                        <strong>Total threads:</strong> 56\n",
       "                    </td>\n",
       "                </tr>\n",
       "                <tr>\n",
       "                    <td style=\"text-align: left;\">\n",
       "                        <strong>Started:</strong> Just now\n",
       "                    </td>\n",
       "                    <td style=\"text-align: left;\">\n",
       "                        <strong>Total memory:</strong> 1.15 TiB\n",
       "                    </td>\n",
       "                </tr>\n",
       "            </table>\n",
       "        </div>\n",
       "    </div>\n",
       "\n",
       "    <details style=\"margin-left: 48px;\">\n",
       "        <summary style=\"margin-bottom: 20px;\">\n",
       "            <h3 style=\"display: inline;\">Workers</h3>\n",
       "        </summary>\n",
       "\n",
       "        \n",
       "        <div style=\"margin-bottom: 20px;\">\n",
       "            <div style=\"width: 24px; height: 24px; background-color: #DBF5FF; border: 3px solid #4CC9FF; border-radius: 5px; position: absolute;\"> </div>\n",
       "            <div style=\"margin-left: 48px;\">\n",
       "            <details>\n",
       "                <summary>\n",
       "                    <h4 style=\"margin-bottom: 0px; display: inline;\">Worker: 0</h4>\n",
       "                </summary>\n",
       "                <table style=\"width: 100%; text-align: left;\">\n",
       "                    <tr>\n",
       "                        <td style=\"text-align: left;\">\n",
       "                            <strong>Comm: </strong> tcp://127.0.0.1:36185\n",
       "                        </td>\n",
       "                        <td style=\"text-align: left;\">\n",
       "                            <strong>Total threads: </strong> 8\n",
       "                        </td>\n",
       "                    </tr>\n",
       "                    <tr>\n",
       "                        <td style=\"text-align: left;\">\n",
       "                            <strong>Dashboard: </strong> <a href=\"http://127.0.0.1:45089/status\" target=\"_blank\">http://127.0.0.1:45089/status</a>\n",
       "                        </td>\n",
       "                        <td style=\"text-align: left;\">\n",
       "                            <strong>Memory: </strong> 167.92 GiB\n",
       "                        </td>\n",
       "                    </tr>\n",
       "                    <tr>\n",
       "                        <td style=\"text-align: left;\">\n",
       "                            <strong>Nanny: </strong> tcp://127.0.0.1:45929\n",
       "                        </td>\n",
       "                        <td style=\"text-align: left;\"></td>\n",
       "                    </tr>\n",
       "                    <tr>\n",
       "                        <td colspan=\"2\" style=\"text-align: left;\">\n",
       "                            <strong>Local directory: </strong> /users/maximz/code/boyd-immune-repertoire-classification/notebooks/dask-worker-space/worker-sn7lw9tp\n",
       "                        </td>\n",
       "                    </tr>\n",
       "\n",
       "                    \n",
       "                    <tr>\n",
       "                        <td style=\"text-align: left;\">\n",
       "                            <strong>GPU: </strong>NVIDIA A100 80GB PCIe\n",
       "                        </td>\n",
       "                        <td style=\"text-align: left;\">\n",
       "                            <strong>GPU memory: </strong> 80.00 GiB\n",
       "                        </td>\n",
       "                    </tr>\n",
       "                    \n",
       "\n",
       "                    \n",
       "\n",
       "                </table>\n",
       "            </details>\n",
       "            </div>\n",
       "        </div>\n",
       "        \n",
       "        <div style=\"margin-bottom: 20px;\">\n",
       "            <div style=\"width: 24px; height: 24px; background-color: #DBF5FF; border: 3px solid #4CC9FF; border-radius: 5px; position: absolute;\"> </div>\n",
       "            <div style=\"margin-left: 48px;\">\n",
       "            <details>\n",
       "                <summary>\n",
       "                    <h4 style=\"margin-bottom: 0px; display: inline;\">Worker: 1</h4>\n",
       "                </summary>\n",
       "                <table style=\"width: 100%; text-align: left;\">\n",
       "                    <tr>\n",
       "                        <td style=\"text-align: left;\">\n",
       "                            <strong>Comm: </strong> tcp://127.0.0.1:39897\n",
       "                        </td>\n",
       "                        <td style=\"text-align: left;\">\n",
       "                            <strong>Total threads: </strong> 8\n",
       "                        </td>\n",
       "                    </tr>\n",
       "                    <tr>\n",
       "                        <td style=\"text-align: left;\">\n",
       "                            <strong>Dashboard: </strong> <a href=\"http://127.0.0.1:45243/status\" target=\"_blank\">http://127.0.0.1:45243/status</a>\n",
       "                        </td>\n",
       "                        <td style=\"text-align: left;\">\n",
       "                            <strong>Memory: </strong> 167.92 GiB\n",
       "                        </td>\n",
       "                    </tr>\n",
       "                    <tr>\n",
       "                        <td style=\"text-align: left;\">\n",
       "                            <strong>Nanny: </strong> tcp://127.0.0.1:39633\n",
       "                        </td>\n",
       "                        <td style=\"text-align: left;\"></td>\n",
       "                    </tr>\n",
       "                    <tr>\n",
       "                        <td colspan=\"2\" style=\"text-align: left;\">\n",
       "                            <strong>Local directory: </strong> /users/maximz/code/boyd-immune-repertoire-classification/notebooks/dask-worker-space/worker-ty8lxwdx\n",
       "                        </td>\n",
       "                    </tr>\n",
       "\n",
       "                    \n",
       "                    <tr>\n",
       "                        <td style=\"text-align: left;\">\n",
       "                            <strong>GPU: </strong>NVIDIA A100 80GB PCIe\n",
       "                        </td>\n",
       "                        <td style=\"text-align: left;\">\n",
       "                            <strong>GPU memory: </strong> 80.00 GiB\n",
       "                        </td>\n",
       "                    </tr>\n",
       "                    \n",
       "\n",
       "                    \n",
       "\n",
       "                </table>\n",
       "            </details>\n",
       "            </div>\n",
       "        </div>\n",
       "        \n",
       "        <div style=\"margin-bottom: 20px;\">\n",
       "            <div style=\"width: 24px; height: 24px; background-color: #DBF5FF; border: 3px solid #4CC9FF; border-radius: 5px; position: absolute;\"> </div>\n",
       "            <div style=\"margin-left: 48px;\">\n",
       "            <details>\n",
       "                <summary>\n",
       "                    <h4 style=\"margin-bottom: 0px; display: inline;\">Worker: 2</h4>\n",
       "                </summary>\n",
       "                <table style=\"width: 100%; text-align: left;\">\n",
       "                    <tr>\n",
       "                        <td style=\"text-align: left;\">\n",
       "                            <strong>Comm: </strong> tcp://127.0.0.1:33523\n",
       "                        </td>\n",
       "                        <td style=\"text-align: left;\">\n",
       "                            <strong>Total threads: </strong> 8\n",
       "                        </td>\n",
       "                    </tr>\n",
       "                    <tr>\n",
       "                        <td style=\"text-align: left;\">\n",
       "                            <strong>Dashboard: </strong> <a href=\"http://127.0.0.1:35909/status\" target=\"_blank\">http://127.0.0.1:35909/status</a>\n",
       "                        </td>\n",
       "                        <td style=\"text-align: left;\">\n",
       "                            <strong>Memory: </strong> 167.92 GiB\n",
       "                        </td>\n",
       "                    </tr>\n",
       "                    <tr>\n",
       "                        <td style=\"text-align: left;\">\n",
       "                            <strong>Nanny: </strong> tcp://127.0.0.1:36787\n",
       "                        </td>\n",
       "                        <td style=\"text-align: left;\"></td>\n",
       "                    </tr>\n",
       "                    <tr>\n",
       "                        <td colspan=\"2\" style=\"text-align: left;\">\n",
       "                            <strong>Local directory: </strong> /users/maximz/code/boyd-immune-repertoire-classification/notebooks/dask-worker-space/worker-tgbday5k\n",
       "                        </td>\n",
       "                    </tr>\n",
       "\n",
       "                    \n",
       "                    <tr>\n",
       "                        <td style=\"text-align: left;\">\n",
       "                            <strong>GPU: </strong>NVIDIA A100 80GB PCIe\n",
       "                        </td>\n",
       "                        <td style=\"text-align: left;\">\n",
       "                            <strong>GPU memory: </strong> 80.00 GiB\n",
       "                        </td>\n",
       "                    </tr>\n",
       "                    \n",
       "\n",
       "                    \n",
       "\n",
       "                </table>\n",
       "            </details>\n",
       "            </div>\n",
       "        </div>\n",
       "        \n",
       "        <div style=\"margin-bottom: 20px;\">\n",
       "            <div style=\"width: 24px; height: 24px; background-color: #DBF5FF; border: 3px solid #4CC9FF; border-radius: 5px; position: absolute;\"> </div>\n",
       "            <div style=\"margin-left: 48px;\">\n",
       "            <details>\n",
       "                <summary>\n",
       "                    <h4 style=\"margin-bottom: 0px; display: inline;\">Worker: 3</h4>\n",
       "                </summary>\n",
       "                <table style=\"width: 100%; text-align: left;\">\n",
       "                    <tr>\n",
       "                        <td style=\"text-align: left;\">\n",
       "                            <strong>Comm: </strong> tcp://127.0.0.1:33607\n",
       "                        </td>\n",
       "                        <td style=\"text-align: left;\">\n",
       "                            <strong>Total threads: </strong> 8\n",
       "                        </td>\n",
       "                    </tr>\n",
       "                    <tr>\n",
       "                        <td style=\"text-align: left;\">\n",
       "                            <strong>Dashboard: </strong> <a href=\"http://127.0.0.1:35323/status\" target=\"_blank\">http://127.0.0.1:35323/status</a>\n",
       "                        </td>\n",
       "                        <td style=\"text-align: left;\">\n",
       "                            <strong>Memory: </strong> 167.92 GiB\n",
       "                        </td>\n",
       "                    </tr>\n",
       "                    <tr>\n",
       "                        <td style=\"text-align: left;\">\n",
       "                            <strong>Nanny: </strong> tcp://127.0.0.1:40155\n",
       "                        </td>\n",
       "                        <td style=\"text-align: left;\"></td>\n",
       "                    </tr>\n",
       "                    <tr>\n",
       "                        <td colspan=\"2\" style=\"text-align: left;\">\n",
       "                            <strong>Local directory: </strong> /users/maximz/code/boyd-immune-repertoire-classification/notebooks/dask-worker-space/worker-rbed373f\n",
       "                        </td>\n",
       "                    </tr>\n",
       "\n",
       "                    \n",
       "                    <tr>\n",
       "                        <td style=\"text-align: left;\">\n",
       "                            <strong>GPU: </strong>NVIDIA A100 80GB PCIe\n",
       "                        </td>\n",
       "                        <td style=\"text-align: left;\">\n",
       "                            <strong>GPU memory: </strong> 80.00 GiB\n",
       "                        </td>\n",
       "                    </tr>\n",
       "                    \n",
       "\n",
       "                    \n",
       "\n",
       "                </table>\n",
       "            </details>\n",
       "            </div>\n",
       "        </div>\n",
       "        \n",
       "        <div style=\"margin-bottom: 20px;\">\n",
       "            <div style=\"width: 24px; height: 24px; background-color: #DBF5FF; border: 3px solid #4CC9FF; border-radius: 5px; position: absolute;\"> </div>\n",
       "            <div style=\"margin-left: 48px;\">\n",
       "            <details>\n",
       "                <summary>\n",
       "                    <h4 style=\"margin-bottom: 0px; display: inline;\">Worker: 4</h4>\n",
       "                </summary>\n",
       "                <table style=\"width: 100%; text-align: left;\">\n",
       "                    <tr>\n",
       "                        <td style=\"text-align: left;\">\n",
       "                            <strong>Comm: </strong> tcp://127.0.0.1:34507\n",
       "                        </td>\n",
       "                        <td style=\"text-align: left;\">\n",
       "                            <strong>Total threads: </strong> 8\n",
       "                        </td>\n",
       "                    </tr>\n",
       "                    <tr>\n",
       "                        <td style=\"text-align: left;\">\n",
       "                            <strong>Dashboard: </strong> <a href=\"http://127.0.0.1:39869/status\" target=\"_blank\">http://127.0.0.1:39869/status</a>\n",
       "                        </td>\n",
       "                        <td style=\"text-align: left;\">\n",
       "                            <strong>Memory: </strong> 167.92 GiB\n",
       "                        </td>\n",
       "                    </tr>\n",
       "                    <tr>\n",
       "                        <td style=\"text-align: left;\">\n",
       "                            <strong>Nanny: </strong> tcp://127.0.0.1:33489\n",
       "                        </td>\n",
       "                        <td style=\"text-align: left;\"></td>\n",
       "                    </tr>\n",
       "                    <tr>\n",
       "                        <td colspan=\"2\" style=\"text-align: left;\">\n",
       "                            <strong>Local directory: </strong> /users/maximz/code/boyd-immune-repertoire-classification/notebooks/dask-worker-space/worker-8juidt25\n",
       "                        </td>\n",
       "                    </tr>\n",
       "\n",
       "                    \n",
       "                    <tr>\n",
       "                        <td style=\"text-align: left;\">\n",
       "                            <strong>GPU: </strong>NVIDIA A100 80GB PCIe\n",
       "                        </td>\n",
       "                        <td style=\"text-align: left;\">\n",
       "                            <strong>GPU memory: </strong> 80.00 GiB\n",
       "                        </td>\n",
       "                    </tr>\n",
       "                    \n",
       "\n",
       "                    \n",
       "\n",
       "                </table>\n",
       "            </details>\n",
       "            </div>\n",
       "        </div>\n",
       "        \n",
       "        <div style=\"margin-bottom: 20px;\">\n",
       "            <div style=\"width: 24px; height: 24px; background-color: #DBF5FF; border: 3px solid #4CC9FF; border-radius: 5px; position: absolute;\"> </div>\n",
       "            <div style=\"margin-left: 48px;\">\n",
       "            <details>\n",
       "                <summary>\n",
       "                    <h4 style=\"margin-bottom: 0px; display: inline;\">Worker: 5</h4>\n",
       "                </summary>\n",
       "                <table style=\"width: 100%; text-align: left;\">\n",
       "                    <tr>\n",
       "                        <td style=\"text-align: left;\">\n",
       "                            <strong>Comm: </strong> tcp://127.0.0.1:42649\n",
       "                        </td>\n",
       "                        <td style=\"text-align: left;\">\n",
       "                            <strong>Total threads: </strong> 8\n",
       "                        </td>\n",
       "                    </tr>\n",
       "                    <tr>\n",
       "                        <td style=\"text-align: left;\">\n",
       "                            <strong>Dashboard: </strong> <a href=\"http://127.0.0.1:32857/status\" target=\"_blank\">http://127.0.0.1:32857/status</a>\n",
       "                        </td>\n",
       "                        <td style=\"text-align: left;\">\n",
       "                            <strong>Memory: </strong> 167.92 GiB\n",
       "                        </td>\n",
       "                    </tr>\n",
       "                    <tr>\n",
       "                        <td style=\"text-align: left;\">\n",
       "                            <strong>Nanny: </strong> tcp://127.0.0.1:44993\n",
       "                        </td>\n",
       "                        <td style=\"text-align: left;\"></td>\n",
       "                    </tr>\n",
       "                    <tr>\n",
       "                        <td colspan=\"2\" style=\"text-align: left;\">\n",
       "                            <strong>Local directory: </strong> /users/maximz/code/boyd-immune-repertoire-classification/notebooks/dask-worker-space/worker-tn5d4bms\n",
       "                        </td>\n",
       "                    </tr>\n",
       "\n",
       "                    \n",
       "                    <tr>\n",
       "                        <td style=\"text-align: left;\">\n",
       "                            <strong>GPU: </strong>NVIDIA A100 80GB PCIe\n",
       "                        </td>\n",
       "                        <td style=\"text-align: left;\">\n",
       "                            <strong>GPU memory: </strong> 80.00 GiB\n",
       "                        </td>\n",
       "                    </tr>\n",
       "                    \n",
       "\n",
       "                    \n",
       "\n",
       "                </table>\n",
       "            </details>\n",
       "            </div>\n",
       "        </div>\n",
       "        \n",
       "        <div style=\"margin-bottom: 20px;\">\n",
       "            <div style=\"width: 24px; height: 24px; background-color: #DBF5FF; border: 3px solid #4CC9FF; border-radius: 5px; position: absolute;\"> </div>\n",
       "            <div style=\"margin-left: 48px;\">\n",
       "            <details>\n",
       "                <summary>\n",
       "                    <h4 style=\"margin-bottom: 0px; display: inline;\">Worker: 6</h4>\n",
       "                </summary>\n",
       "                <table style=\"width: 100%; text-align: left;\">\n",
       "                    <tr>\n",
       "                        <td style=\"text-align: left;\">\n",
       "                            <strong>Comm: </strong> tcp://127.0.0.1:33667\n",
       "                        </td>\n",
       "                        <td style=\"text-align: left;\">\n",
       "                            <strong>Total threads: </strong> 8\n",
       "                        </td>\n",
       "                    </tr>\n",
       "                    <tr>\n",
       "                        <td style=\"text-align: left;\">\n",
       "                            <strong>Dashboard: </strong> <a href=\"http://127.0.0.1:37095/status\" target=\"_blank\">http://127.0.0.1:37095/status</a>\n",
       "                        </td>\n",
       "                        <td style=\"text-align: left;\">\n",
       "                            <strong>Memory: </strong> 167.92 GiB\n",
       "                        </td>\n",
       "                    </tr>\n",
       "                    <tr>\n",
       "                        <td style=\"text-align: left;\">\n",
       "                            <strong>Nanny: </strong> tcp://127.0.0.1:42467\n",
       "                        </td>\n",
       "                        <td style=\"text-align: left;\"></td>\n",
       "                    </tr>\n",
       "                    <tr>\n",
       "                        <td colspan=\"2\" style=\"text-align: left;\">\n",
       "                            <strong>Local directory: </strong> /users/maximz/code/boyd-immune-repertoire-classification/notebooks/dask-worker-space/worker-kpeonepv\n",
       "                        </td>\n",
       "                    </tr>\n",
       "\n",
       "                    \n",
       "                    <tr>\n",
       "                        <td style=\"text-align: left;\">\n",
       "                            <strong>GPU: </strong>NVIDIA A100 80GB PCIe\n",
       "                        </td>\n",
       "                        <td style=\"text-align: left;\">\n",
       "                            <strong>GPU memory: </strong> 80.00 GiB\n",
       "                        </td>\n",
       "                    </tr>\n",
       "                    \n",
       "\n",
       "                    \n",
       "\n",
       "                </table>\n",
       "            </details>\n",
       "            </div>\n",
       "        </div>\n",
       "        \n",
       "\n",
       "    </details>\n",
       "</div>\n",
       "\n",
       "        </details>\n",
       "    </div>\n",
       "</div>\n",
       "            </details>\n",
       "        \n",
       "\n",
       "    </div>\n",
       "</div>"
      ],
      "text/plain": [
       "<Client: 'tcp://127.0.0.1:61084' processes=7 threads=56, memory=1.15 TiB>"
      ]
     },
     "metadata": {},
     "output_type": "display_data"
    }
   ],
   "source": [
    "from dask.distributed import Client\n",
    "\n",
    "# multi-processing backend\n",
    "# access dashbaord at http://127.0.0.1:61083\n",
    "# if already opened from another notebook, see https://stackoverflow.com/questions/60115736/dask-how-to-connect-to-running-cluster-scheduler-and-access-total-occupancy\n",
    "client = Client(\n",
    "    scheduler_port=61084,\n",
    "    dashboard_address=\":61083\",\n",
    "    n_workers=7,\n",
    "    processes=True,\n",
    "    threads_per_worker=8,\n",
    "    memory_limit=\"auto\",\n",
    "    worker_dashboard_address=\":0\",  # start worker dashboards on random ports\n",
    ")\n",
    "display(client)\n",
    "# for debugging: client.restart()"
   ]
  },
  {
   "cell_type": "code",
   "execution_count": 9,
   "metadata": {
    "execution": {
     "iopub.execute_input": "2023-01-14T03:12:41.464718Z",
     "iopub.status.busy": "2023-01-14T03:12:41.464290Z",
     "iopub.status.idle": "2023-01-14T03:12:41.478685Z",
     "shell.execute_reply": "2023-01-14T03:12:41.476779Z"
    }
   },
   "outputs": [],
   "source": [
    "desired_cols = [\n",
    "    \"participant_label\",\n",
    "    \"specimen_label\",\n",
    "    \"disease\",\n",
    "    \"disease_subtype\",\n",
    "    \"specimen_time_point\",\n",
    "    \"participant_age\",\n",
    "    \"participant_description\",\n",
    "]"
   ]
  },
  {
   "cell_type": "code",
   "execution_count": 10,
   "metadata": {
    "execution": {
     "iopub.execute_input": "2023-01-14T03:12:41.485968Z",
     "iopub.status.busy": "2023-01-14T03:12:41.485260Z",
     "iopub.status.idle": "2023-01-14T03:12:41.494904Z",
     "shell.execute_reply": "2023-01-14T03:12:41.492481Z"
    }
   },
   "outputs": [],
   "source": [
    "debug_filters = None\n",
    "# debug_filters = [(\"participant_label\", \"==\", \"BFI-0007450\")]"
   ]
  },
  {
   "cell_type": "code",
   "execution_count": 11,
   "metadata": {
    "execution": {
     "iopub.execute_input": "2023-01-14T03:12:41.503130Z",
     "iopub.status.busy": "2023-01-14T03:12:41.502367Z",
     "iopub.status.idle": "2023-01-14T03:12:43.825133Z",
     "shell.execute_reply": "2023-01-14T03:12:43.821440Z"
    }
   },
   "outputs": [],
   "source": [
    "# Don't use fastparquet, because it changes specimen labels like M54-049 to 2049-01-01 00:00:54 -- i.e. it coerces partition names to numbers or dates\n",
    "df = dd.read_parquet(\n",
    "    config.paths.sequences,\n",
    "    columns=desired_cols,\n",
    "    filters=debug_filters,\n",
    "    engine=\"pyarrow\",\n",
    ")"
   ]
  },
  {
   "cell_type": "code",
   "execution_count": 12,
   "metadata": {
    "execution": {
     "iopub.execute_input": "2023-01-14T03:12:43.833554Z",
     "iopub.status.busy": "2023-01-14T03:12:43.833279Z",
     "iopub.status.idle": "2023-01-14T03:12:43.867189Z",
     "shell.execute_reply": "2023-01-14T03:12:43.864850Z"
    }
   },
   "outputs": [
    {
     "data": {
      "text/html": [
       "<div><strong>Dask DataFrame Structure:</strong></div>\n",
       "<div>\n",
       "<style scoped>\n",
       "    .dataframe tbody tr th:only-of-type {\n",
       "        vertical-align: middle;\n",
       "    }\n",
       "\n",
       "    .dataframe tbody tr th {\n",
       "        vertical-align: top;\n",
       "    }\n",
       "\n",
       "    .dataframe thead th {\n",
       "        text-align: right;\n",
       "    }\n",
       "</style>\n",
       "<table border=\"1\" class=\"dataframe\">\n",
       "  <thead>\n",
       "    <tr style=\"text-align: right;\">\n",
       "      <th></th>\n",
       "      <th>participant_label</th>\n",
       "      <th>specimen_label</th>\n",
       "      <th>disease</th>\n",
       "      <th>disease_subtype</th>\n",
       "      <th>specimen_time_point</th>\n",
       "      <th>participant_age</th>\n",
       "      <th>participant_description</th>\n",
       "    </tr>\n",
       "    <tr>\n",
       "      <th>npartitions=717</th>\n",
       "      <th></th>\n",
       "      <th></th>\n",
       "      <th></th>\n",
       "      <th></th>\n",
       "      <th></th>\n",
       "      <th></th>\n",
       "      <th></th>\n",
       "    </tr>\n",
       "  </thead>\n",
       "  <tbody>\n",
       "    <tr>\n",
       "      <th></th>\n",
       "      <td>category[known]</td>\n",
       "      <td>category[known]</td>\n",
       "      <td>category[unknown]</td>\n",
       "      <td>category[unknown]</td>\n",
       "      <td>object</td>\n",
       "      <td>object</td>\n",
       "      <td>object</td>\n",
       "    </tr>\n",
       "    <tr>\n",
       "      <th></th>\n",
       "      <td>...</td>\n",
       "      <td>...</td>\n",
       "      <td>...</td>\n",
       "      <td>...</td>\n",
       "      <td>...</td>\n",
       "      <td>...</td>\n",
       "      <td>...</td>\n",
       "    </tr>\n",
       "    <tr>\n",
       "      <th>...</th>\n",
       "      <td>...</td>\n",
       "      <td>...</td>\n",
       "      <td>...</td>\n",
       "      <td>...</td>\n",
       "      <td>...</td>\n",
       "      <td>...</td>\n",
       "      <td>...</td>\n",
       "    </tr>\n",
       "    <tr>\n",
       "      <th></th>\n",
       "      <td>...</td>\n",
       "      <td>...</td>\n",
       "      <td>...</td>\n",
       "      <td>...</td>\n",
       "      <td>...</td>\n",
       "      <td>...</td>\n",
       "      <td>...</td>\n",
       "    </tr>\n",
       "    <tr>\n",
       "      <th></th>\n",
       "      <td>...</td>\n",
       "      <td>...</td>\n",
       "      <td>...</td>\n",
       "      <td>...</td>\n",
       "      <td>...</td>\n",
       "      <td>...</td>\n",
       "      <td>...</td>\n",
       "    </tr>\n",
       "  </tbody>\n",
       "</table>\n",
       "</div>\n",
       "<div>Dask Name: read-parquet, 717 tasks</div>"
      ],
      "text/plain": [
       "Dask DataFrame Structure:\n",
       "                participant_label   specimen_label            disease    disease_subtype specimen_time_point participant_age participant_description\n",
       "npartitions=717                                                                                                                                     \n",
       "                  category[known]  category[known]  category[unknown]  category[unknown]              object          object                  object\n",
       "                              ...              ...                ...                ...                 ...             ...                     ...\n",
       "...                           ...              ...                ...                ...                 ...             ...                     ...\n",
       "                              ...              ...                ...                ...                 ...             ...                     ...\n",
       "                              ...              ...                ...                ...                 ...             ...                     ...\n",
       "Dask Name: read-parquet, 717 tasks"
      ]
     },
     "execution_count": 12,
     "metadata": {},
     "output_type": "execute_result"
    }
   ],
   "source": [
    "df"
   ]
  },
  {
   "cell_type": "code",
   "execution_count": 13,
   "metadata": {
    "execution": {
     "iopub.execute_input": "2023-01-14T03:12:43.873594Z",
     "iopub.status.busy": "2023-01-14T03:12:43.873296Z",
     "iopub.status.idle": "2023-01-14T03:12:43.882372Z",
     "shell.execute_reply": "2023-01-14T03:12:43.879804Z"
    }
   },
   "outputs": [],
   "source": [
    "# df = df.drop_duplicates()\n",
    "# display(df)\n",
    "# dask.visualize(df)\n",
    "# this has an aggregation step"
   ]
  },
  {
   "cell_type": "code",
   "execution_count": 14,
   "metadata": {
    "execution": {
     "iopub.execute_input": "2023-01-14T03:12:43.889429Z",
     "iopub.status.busy": "2023-01-14T03:12:43.888922Z",
     "iopub.status.idle": "2023-01-14T03:12:43.919792Z",
     "shell.execute_reply": "2023-01-14T03:12:43.916682Z"
    }
   },
   "outputs": [],
   "source": [
    "# use map_partitions to avoid agg step that is unnecessary based on our partitioning strategy\n",
    "\n",
    "metadata_df = df.map_partitions(lambda part: part.drop_duplicates())"
   ]
  },
  {
   "cell_type": "code",
   "execution_count": 15,
   "metadata": {
    "execution": {
     "iopub.execute_input": "2023-01-14T03:12:43.926967Z",
     "iopub.status.busy": "2023-01-14T03:12:43.926410Z",
     "iopub.status.idle": "2023-01-14T03:12:43.963714Z",
     "shell.execute_reply": "2023-01-14T03:12:43.961925Z"
    }
   },
   "outputs": [
    {
     "data": {
      "text/html": [
       "<div><strong>Dask DataFrame Structure:</strong></div>\n",
       "<div>\n",
       "<style scoped>\n",
       "    .dataframe tbody tr th:only-of-type {\n",
       "        vertical-align: middle;\n",
       "    }\n",
       "\n",
       "    .dataframe tbody tr th {\n",
       "        vertical-align: top;\n",
       "    }\n",
       "\n",
       "    .dataframe thead th {\n",
       "        text-align: right;\n",
       "    }\n",
       "</style>\n",
       "<table border=\"1\" class=\"dataframe\">\n",
       "  <thead>\n",
       "    <tr style=\"text-align: right;\">\n",
       "      <th></th>\n",
       "      <th>participant_label</th>\n",
       "      <th>specimen_label</th>\n",
       "      <th>disease</th>\n",
       "      <th>disease_subtype</th>\n",
       "      <th>specimen_time_point</th>\n",
       "      <th>participant_age</th>\n",
       "      <th>participant_description</th>\n",
       "    </tr>\n",
       "    <tr>\n",
       "      <th>npartitions=717</th>\n",
       "      <th></th>\n",
       "      <th></th>\n",
       "      <th></th>\n",
       "      <th></th>\n",
       "      <th></th>\n",
       "      <th></th>\n",
       "      <th></th>\n",
       "    </tr>\n",
       "  </thead>\n",
       "  <tbody>\n",
       "    <tr>\n",
       "      <th></th>\n",
       "      <td>category[known]</td>\n",
       "      <td>category[known]</td>\n",
       "      <td>category[unknown]</td>\n",
       "      <td>category[unknown]</td>\n",
       "      <td>object</td>\n",
       "      <td>object</td>\n",
       "      <td>object</td>\n",
       "    </tr>\n",
       "    <tr>\n",
       "      <th></th>\n",
       "      <td>...</td>\n",
       "      <td>...</td>\n",
       "      <td>...</td>\n",
       "      <td>...</td>\n",
       "      <td>...</td>\n",
       "      <td>...</td>\n",
       "      <td>...</td>\n",
       "    </tr>\n",
       "    <tr>\n",
       "      <th>...</th>\n",
       "      <td>...</td>\n",
       "      <td>...</td>\n",
       "      <td>...</td>\n",
       "      <td>...</td>\n",
       "      <td>...</td>\n",
       "      <td>...</td>\n",
       "      <td>...</td>\n",
       "    </tr>\n",
       "    <tr>\n",
       "      <th></th>\n",
       "      <td>...</td>\n",
       "      <td>...</td>\n",
       "      <td>...</td>\n",
       "      <td>...</td>\n",
       "      <td>...</td>\n",
       "      <td>...</td>\n",
       "      <td>...</td>\n",
       "    </tr>\n",
       "    <tr>\n",
       "      <th></th>\n",
       "      <td>...</td>\n",
       "      <td>...</td>\n",
       "      <td>...</td>\n",
       "      <td>...</td>\n",
       "      <td>...</td>\n",
       "      <td>...</td>\n",
       "      <td>...</td>\n",
       "    </tr>\n",
       "  </tbody>\n",
       "</table>\n",
       "</div>\n",
       "<div>Dask Name: lambda, 1434 tasks</div>"
      ],
      "text/plain": [
       "Dask DataFrame Structure:\n",
       "                participant_label   specimen_label            disease    disease_subtype specimen_time_point participant_age participant_description\n",
       "npartitions=717                                                                                                                                     \n",
       "                  category[known]  category[known]  category[unknown]  category[unknown]              object          object                  object\n",
       "                              ...              ...                ...                ...                 ...             ...                     ...\n",
       "...                           ...              ...                ...                ...                 ...             ...                     ...\n",
       "                              ...              ...                ...                ...                 ...             ...                     ...\n",
       "                              ...              ...                ...                ...                 ...             ...                     ...\n",
       "Dask Name: lambda, 1434 tasks"
      ]
     },
     "execution_count": 15,
     "metadata": {},
     "output_type": "execute_result"
    }
   ],
   "source": [
    "metadata_df"
   ]
  },
  {
   "cell_type": "code",
   "execution_count": 16,
   "metadata": {
    "execution": {
     "iopub.execute_input": "2023-01-14T03:12:43.972335Z",
     "iopub.status.busy": "2023-01-14T03:12:43.971131Z",
     "iopub.status.idle": "2023-01-14T03:12:43.985087Z",
     "shell.execute_reply": "2023-01-14T03:12:43.982997Z"
    }
   },
   "outputs": [],
   "source": [
    "# dask.visualize(metadata_df, filename=\"participant_specimen_metadata.dask_task_graph.pdf\")"
   ]
  },
  {
   "cell_type": "code",
   "execution_count": 17,
   "metadata": {
    "execution": {
     "iopub.execute_input": "2023-01-14T03:12:43.992653Z",
     "iopub.status.busy": "2023-01-14T03:12:43.992038Z",
     "iopub.status.idle": "2023-01-14T03:13:09.374841Z",
     "shell.execute_reply": "2023-01-14T03:13:09.372009Z"
    }
   },
   "outputs": [],
   "source": [
    "metadata_df_c = metadata_df.compute()"
   ]
  },
  {
   "cell_type": "code",
   "execution_count": 18,
   "metadata": {
    "execution": {
     "iopub.execute_input": "2023-01-14T03:13:09.379578Z",
     "iopub.status.busy": "2023-01-14T03:13:09.379352Z",
     "iopub.status.idle": "2023-01-14T03:13:09.401053Z",
     "shell.execute_reply": "2023-01-14T03:13:09.399440Z"
    }
   },
   "outputs": [
    {
     "data": {
      "text/html": [
       "<div>\n",
       "<style scoped>\n",
       "    .dataframe tbody tr th:only-of-type {\n",
       "        vertical-align: middle;\n",
       "    }\n",
       "\n",
       "    .dataframe tbody tr th {\n",
       "        vertical-align: top;\n",
       "    }\n",
       "\n",
       "    .dataframe thead th {\n",
       "        text-align: right;\n",
       "    }\n",
       "</style>\n",
       "<table border=\"1\" class=\"dataframe\">\n",
       "  <thead>\n",
       "    <tr style=\"text-align: right;\">\n",
       "      <th></th>\n",
       "      <th>participant_label</th>\n",
       "      <th>specimen_label</th>\n",
       "      <th>disease</th>\n",
       "      <th>disease_subtype</th>\n",
       "      <th>specimen_time_point</th>\n",
       "      <th>participant_age</th>\n",
       "      <th>participant_description</th>\n",
       "    </tr>\n",
       "  </thead>\n",
       "  <tbody>\n",
       "    <tr>\n",
       "      <th>0</th>\n",
       "      <td>BFI-0000234</td>\n",
       "      <td>M124-S014</td>\n",
       "      <td>Healthy/Background</td>\n",
       "      <td>Healthy/Background - HIV Negative</td>\n",
       "      <td>None</td>\n",
       "      <td>27</td>\n",
       "      <td>Location: USA</td>\n",
       "    </tr>\n",
       "    <tr>\n",
       "      <th>74701</th>\n",
       "      <td>BFI-0000234</td>\n",
       "      <td>M132-S014</td>\n",
       "      <td>Healthy/Background</td>\n",
       "      <td>Healthy/Background - HIV Negative</td>\n",
       "      <td>None</td>\n",
       "      <td>27</td>\n",
       "      <td>Location: USA</td>\n",
       "    </tr>\n",
       "    <tr>\n",
       "      <th>0</th>\n",
       "      <td>BFI-0000254</td>\n",
       "      <td>M111-S037</td>\n",
       "      <td>HIV</td>\n",
       "      <td>HIV Broad Neutralizing</td>\n",
       "      <td>None</td>\n",
       "      <td>48</td>\n",
       "      <td>Location: Tanzania</td>\n",
       "    </tr>\n",
       "    <tr>\n",
       "      <th>98181</th>\n",
       "      <td>BFI-0000254</td>\n",
       "      <td>M114-S037</td>\n",
       "      <td>HIV</td>\n",
       "      <td>HIV Broad Neutralizing</td>\n",
       "      <td>None</td>\n",
       "      <td>48</td>\n",
       "      <td>Location: Tanzania</td>\n",
       "    </tr>\n",
       "    <tr>\n",
       "      <th>0</th>\n",
       "      <td>BFI-0000255</td>\n",
       "      <td>M111-S033</td>\n",
       "      <td>HIV</td>\n",
       "      <td>HIV Broad Neutralizing</td>\n",
       "      <td>None</td>\n",
       "      <td>33</td>\n",
       "      <td>Location: Tanzania</td>\n",
       "    </tr>\n",
       "    <tr>\n",
       "      <th>...</th>\n",
       "      <td>...</td>\n",
       "      <td>...</td>\n",
       "      <td>...</td>\n",
       "      <td>...</td>\n",
       "      <td>...</td>\n",
       "      <td>...</td>\n",
       "      <td>...</td>\n",
       "    </tr>\n",
       "    <tr>\n",
       "      <th>0</th>\n",
       "      <td>BFI-0010241</td>\n",
       "      <td>M464-S042</td>\n",
       "      <td>Healthy/Background</td>\n",
       "      <td>Healthy/Background (children)</td>\n",
       "      <td>None</td>\n",
       "      <td>15</td>\n",
       "      <td>None</td>\n",
       "    </tr>\n",
       "    <tr>\n",
       "      <th>0</th>\n",
       "      <td>BFI-0010242</td>\n",
       "      <td>M464-S043</td>\n",
       "      <td>Healthy/Background</td>\n",
       "      <td>Healthy/Background (children)</td>\n",
       "      <td>None</td>\n",
       "      <td>14</td>\n",
       "      <td>None</td>\n",
       "    </tr>\n",
       "    <tr>\n",
       "      <th>0</th>\n",
       "      <td>BFI-0010243</td>\n",
       "      <td>M464-S044</td>\n",
       "      <td>Healthy/Background</td>\n",
       "      <td>Healthy/Background (children)</td>\n",
       "      <td>None</td>\n",
       "      <td>13</td>\n",
       "      <td>None</td>\n",
       "    </tr>\n",
       "    <tr>\n",
       "      <th>0</th>\n",
       "      <td>BFI-0010244</td>\n",
       "      <td>M464-S045</td>\n",
       "      <td>Healthy/Background</td>\n",
       "      <td>Healthy/Background (children)</td>\n",
       "      <td>None</td>\n",
       "      <td>12</td>\n",
       "      <td>None</td>\n",
       "    </tr>\n",
       "    <tr>\n",
       "      <th>0</th>\n",
       "      <td>BFI-0010245</td>\n",
       "      <td>M464-S046</td>\n",
       "      <td>Healthy/Background</td>\n",
       "      <td>Healthy/Background (children)</td>\n",
       "      <td>None</td>\n",
       "      <td>13</td>\n",
       "      <td>None</td>\n",
       "    </tr>\n",
       "  </tbody>\n",
       "</table>\n",
       "<p>717 rows × 7 columns</p>\n",
       "</div>"
      ],
      "text/plain": [
       "      participant_label specimen_label             disease  \\\n",
       "0           BFI-0000234      M124-S014  Healthy/Background   \n",
       "74701       BFI-0000234      M132-S014  Healthy/Background   \n",
       "0           BFI-0000254      M111-S037                 HIV   \n",
       "98181       BFI-0000254      M114-S037                 HIV   \n",
       "0           BFI-0000255      M111-S033                 HIV   \n",
       "...                 ...            ...                 ...   \n",
       "0           BFI-0010241      M464-S042  Healthy/Background   \n",
       "0           BFI-0010242      M464-S043  Healthy/Background   \n",
       "0           BFI-0010243      M464-S044  Healthy/Background   \n",
       "0           BFI-0010244      M464-S045  Healthy/Background   \n",
       "0           BFI-0010245      M464-S046  Healthy/Background   \n",
       "\n",
       "                         disease_subtype specimen_time_point participant_age  \\\n",
       "0      Healthy/Background - HIV Negative                None              27   \n",
       "74701  Healthy/Background - HIV Negative                None              27   \n",
       "0                 HIV Broad Neutralizing                None              48   \n",
       "98181             HIV Broad Neutralizing                None              48   \n",
       "0                 HIV Broad Neutralizing                None              33   \n",
       "...                                  ...                 ...             ...   \n",
       "0          Healthy/Background (children)                None              15   \n",
       "0          Healthy/Background (children)                None              14   \n",
       "0          Healthy/Background (children)                None              13   \n",
       "0          Healthy/Background (children)                None              12   \n",
       "0          Healthy/Background (children)                None              13   \n",
       "\n",
       "      participant_description  \n",
       "0               Location: USA  \n",
       "74701           Location: USA  \n",
       "0          Location: Tanzania  \n",
       "98181      Location: Tanzania  \n",
       "0          Location: Tanzania  \n",
       "...                       ...  \n",
       "0                        None  \n",
       "0                        None  \n",
       "0                        None  \n",
       "0                        None  \n",
       "0                        None  \n",
       "\n",
       "[717 rows x 7 columns]"
      ]
     },
     "execution_count": 18,
     "metadata": {},
     "output_type": "execute_result"
    }
   ],
   "source": [
    "metadata_df_c"
   ]
  },
  {
   "cell_type": "code",
   "execution_count": 19,
   "metadata": {
    "execution": {
     "iopub.execute_input": "2023-01-14T03:13:09.405442Z",
     "iopub.status.busy": "2023-01-14T03:13:09.405184Z",
     "iopub.status.idle": "2023-01-14T03:13:09.431531Z",
     "shell.execute_reply": "2023-01-14T03:13:09.429682Z"
    }
   },
   "outputs": [
    {
     "data": {
      "text/html": [
       "<div>\n",
       "<style scoped>\n",
       "    .dataframe tbody tr th:only-of-type {\n",
       "        vertical-align: middle;\n",
       "    }\n",
       "\n",
       "    .dataframe tbody tr th {\n",
       "        vertical-align: top;\n",
       "    }\n",
       "\n",
       "    .dataframe thead th {\n",
       "        text-align: right;\n",
       "    }\n",
       "</style>\n",
       "<table border=\"1\" class=\"dataframe\">\n",
       "  <thead>\n",
       "    <tr style=\"text-align: right;\">\n",
       "      <th></th>\n",
       "      <th>participant_label</th>\n",
       "      <th>specimen_label</th>\n",
       "      <th>disease</th>\n",
       "      <th>disease_subtype</th>\n",
       "      <th>specimen_time_point</th>\n",
       "      <th>participant_age</th>\n",
       "      <th>participant_description</th>\n",
       "    </tr>\n",
       "  </thead>\n",
       "  <tbody>\n",
       "    <tr>\n",
       "      <th>0</th>\n",
       "      <td>BFI-0007450</td>\n",
       "      <td>M369-S001</td>\n",
       "      <td>Covid19</td>\n",
       "      <td>Covid19 - Sero-positive (ICU)</td>\n",
       "      <td>9 days</td>\n",
       "      <td>None</td>\n",
       "      <td>COVID-19 project</td>\n",
       "    </tr>\n",
       "    <tr>\n",
       "      <th>495704</th>\n",
       "      <td>BFI-0007450</td>\n",
       "      <td>M371-S003</td>\n",
       "      <td>Covid19</td>\n",
       "      <td>Covid19 - Sero-positive (ICU)</td>\n",
       "      <td>22 days</td>\n",
       "      <td>None</td>\n",
       "      <td>COVID-19 project</td>\n",
       "    </tr>\n",
       "    <tr>\n",
       "      <th>348716</th>\n",
       "      <td>BFI-0007450</td>\n",
       "      <td>M371-S014</td>\n",
       "      <td>Covid19</td>\n",
       "      <td>Covid19 - Sero-positive (ICU)</td>\n",
       "      <td>27 days</td>\n",
       "      <td>None</td>\n",
       "      <td>COVID-19 project</td>\n",
       "    </tr>\n",
       "    <tr>\n",
       "      <th>460228</th>\n",
       "      <td>BFI-0007453</td>\n",
       "      <td>M369-S004</td>\n",
       "      <td>Covid19</td>\n",
       "      <td>Covid19 - Sero-negative (ICU)</td>\n",
       "      <td>8 days</td>\n",
       "      <td>None</td>\n",
       "      <td>COVID-19 project</td>\n",
       "    </tr>\n",
       "    <tr>\n",
       "      <th>0</th>\n",
       "      <td>BFI-0007453</td>\n",
       "      <td>M369-S005</td>\n",
       "      <td>Covid19</td>\n",
       "      <td>Covid19 - Sero-negative (ICU)</td>\n",
       "      <td>11 days</td>\n",
       "      <td>None</td>\n",
       "      <td>COVID-19 project</td>\n",
       "    </tr>\n",
       "    <tr>\n",
       "      <th>...</th>\n",
       "      <td>...</td>\n",
       "      <td>...</td>\n",
       "      <td>...</td>\n",
       "      <td>...</td>\n",
       "      <td>...</td>\n",
       "      <td>...</td>\n",
       "      <td>...</td>\n",
       "    </tr>\n",
       "    <tr>\n",
       "      <th>0</th>\n",
       "      <td>BFI-0010060</td>\n",
       "      <td>M456-S001</td>\n",
       "      <td>Lupus</td>\n",
       "      <td>SLE Patient</td>\n",
       "      <td>None</td>\n",
       "      <td>51</td>\n",
       "      <td>SLE Patient</td>\n",
       "    </tr>\n",
       "    <tr>\n",
       "      <th>0</th>\n",
       "      <td>BFI-0010061</td>\n",
       "      <td>M456-S002</td>\n",
       "      <td>Lupus</td>\n",
       "      <td>SLE Patient</td>\n",
       "      <td>None</td>\n",
       "      <td>34</td>\n",
       "      <td>SLE Patient</td>\n",
       "    </tr>\n",
       "    <tr>\n",
       "      <th>0</th>\n",
       "      <td>BFI-0010065</td>\n",
       "      <td>M456-S006</td>\n",
       "      <td>Lupus</td>\n",
       "      <td>SLE Patient</td>\n",
       "      <td>None</td>\n",
       "      <td>46</td>\n",
       "      <td>SLE Patient</td>\n",
       "    </tr>\n",
       "    <tr>\n",
       "      <th>0</th>\n",
       "      <td>BFI-0010067</td>\n",
       "      <td>M456-S008</td>\n",
       "      <td>Lupus</td>\n",
       "      <td>SLE Patient</td>\n",
       "      <td>None</td>\n",
       "      <td>49</td>\n",
       "      <td>SLE Patient</td>\n",
       "    </tr>\n",
       "    <tr>\n",
       "      <th>0</th>\n",
       "      <td>BFI-0010068</td>\n",
       "      <td>M456-S009</td>\n",
       "      <td>Lupus</td>\n",
       "      <td>SLE Patient</td>\n",
       "      <td>None</td>\n",
       "      <td>42</td>\n",
       "      <td>SLE Patient</td>\n",
       "    </tr>\n",
       "  </tbody>\n",
       "</table>\n",
       "<p>717 rows × 7 columns</p>\n",
       "</div>"
      ],
      "text/plain": [
       "       participant_label specimen_label  disease  \\\n",
       "0            BFI-0007450      M369-S001  Covid19   \n",
       "495704       BFI-0007450      M371-S003  Covid19   \n",
       "348716       BFI-0007450      M371-S014  Covid19   \n",
       "460228       BFI-0007453      M369-S004  Covid19   \n",
       "0            BFI-0007453      M369-S005  Covid19   \n",
       "...                  ...            ...      ...   \n",
       "0            BFI-0010060      M456-S001    Lupus   \n",
       "0            BFI-0010061      M456-S002    Lupus   \n",
       "0            BFI-0010065      M456-S006    Lupus   \n",
       "0            BFI-0010067      M456-S008    Lupus   \n",
       "0            BFI-0010068      M456-S009    Lupus   \n",
       "\n",
       "                      disease_subtype specimen_time_point participant_age  \\\n",
       "0       Covid19 - Sero-positive (ICU)              9 days            None   \n",
       "495704  Covid19 - Sero-positive (ICU)             22 days            None   \n",
       "348716  Covid19 - Sero-positive (ICU)             27 days            None   \n",
       "460228  Covid19 - Sero-negative (ICU)              8 days            None   \n",
       "0       Covid19 - Sero-negative (ICU)             11 days            None   \n",
       "...                               ...                 ...             ...   \n",
       "0                         SLE Patient                None              51   \n",
       "0                         SLE Patient                None              34   \n",
       "0                         SLE Patient                None              46   \n",
       "0                         SLE Patient                None              49   \n",
       "0                         SLE Patient                None              42   \n",
       "\n",
       "       participant_description  \n",
       "0             COVID-19 project  \n",
       "495704        COVID-19 project  \n",
       "348716        COVID-19 project  \n",
       "460228        COVID-19 project  \n",
       "0             COVID-19 project  \n",
       "...                        ...  \n",
       "0                  SLE Patient  \n",
       "0                  SLE Patient  \n",
       "0                  SLE Patient  \n",
       "0                  SLE Patient  \n",
       "0                  SLE Patient  \n",
       "\n",
       "[717 rows x 7 columns]"
      ]
     },
     "execution_count": 19,
     "metadata": {},
     "output_type": "execute_result"
    }
   ],
   "source": [
    "metadata_df_c = metadata_df_c.sort_values([\"disease\", \"participant_label\"])\n",
    "metadata_df_c"
   ]
  },
  {
   "cell_type": "code",
   "execution_count": 20,
   "metadata": {
    "execution": {
     "iopub.execute_input": "2023-01-14T03:13:09.435803Z",
     "iopub.status.busy": "2023-01-14T03:13:09.435498Z",
     "iopub.status.idle": "2023-01-14T03:13:09.456387Z",
     "shell.execute_reply": "2023-01-14T03:13:09.449693Z"
    }
   },
   "outputs": [],
   "source": [
    "# sanity check: one entry per participant + specimen\n",
    "assert all(\n",
    "    metadata_df_c.groupby([\"participant_label\", \"specimen_label\"], observed=True).size()\n",
    "    == 1\n",
    ")"
   ]
  },
  {
   "cell_type": "code",
   "execution_count": 21,
   "metadata": {
    "execution": {
     "iopub.execute_input": "2023-01-14T03:13:09.467351Z",
     "iopub.status.busy": "2023-01-14T03:13:09.466709Z",
     "iopub.status.idle": "2023-01-14T03:13:09.495226Z",
     "shell.execute_reply": "2023-01-14T03:13:09.492700Z"
    }
   },
   "outputs": [],
   "source": [
    "metadata_df_c.to_csv(\n",
    "    config.paths.dataset_specific_metadata / \"participant_specimen_disease_map.tsv\",\n",
    "    sep=\"\\t\",\n",
    "    index=None,\n",
    ")"
   ]
  },
  {
   "cell_type": "code",
   "execution_count": 22,
   "metadata": {
    "execution": {
     "iopub.execute_input": "2023-01-14T03:13:09.502580Z",
     "iopub.status.busy": "2023-01-14T03:13:09.501955Z",
     "iopub.status.idle": "2023-01-14T03:13:09.527283Z",
     "shell.execute_reply": "2023-01-14T03:13:09.524357Z"
    }
   },
   "outputs": [],
   "source": [
    "metadata_df_c = pd.read_csv(\n",
    "    config.paths.dataset_specific_metadata / \"participant_specimen_disease_map.tsv\",\n",
    "    sep=\"\\t\",\n",
    ")"
   ]
  },
  {
   "cell_type": "code",
   "execution_count": null,
   "metadata": {},
   "outputs": [],
   "source": []
  },
  {
   "cell_type": "code",
   "execution_count": 23,
   "metadata": {
    "execution": {
     "iopub.execute_input": "2023-01-14T03:13:09.535766Z",
     "iopub.status.busy": "2023-01-14T03:13:09.535135Z",
     "iopub.status.idle": "2023-01-14T03:13:09.555901Z",
     "shell.execute_reply": "2023-01-14T03:13:09.553509Z"
    }
   },
   "outputs": [
    {
     "data": {
      "text/plain": [
       "HIV Non Neutralizing                               105\n",
       "HIV Broad Neutralizing                              92\n",
       "Healthy/Background - HIV Negative                   86\n",
       "Healthy/Background - CMV Negative                   61\n",
       "Healthy/Background - CMV Positive                   52\n",
       "Covid19 - Admit                                     52\n",
       "Healthy/Background (children)                       46\n",
       "SLE Patient                                         43\n",
       "Healthy/Background - SLE Negative                   31\n",
       "Pediatric SLE - nephritis                           23\n",
       "Pediatric SLE - no nephritis                        20\n",
       "Covid19 - ICU                                       18\n",
       "Covid19 - Sero-positive (ICU)                       18\n",
       "SLE Multiple aAbs / SLE dsDNA WITH Nephritis        10\n",
       "SLE Multiple aAbs                                    9\n",
       "SLE Multiple aAbs / SLE dsDNA WITHOUT Nephritis      9\n",
       "Covid19 - Sero-positive (Admit)                      6\n",
       "Unaffected Control                                   6\n",
       "Covid19 - Convalescence                              5\n",
       "Covid19 - Acute 1                                    5\n",
       "Covid19 - Acute 2                                    5\n",
       "SLE One aAbs                                         4\n",
       "SLE One aAbs / SLE dsDNA WITHOUT Nephritis           4\n",
       "Covid19 - Sero-negative (Admit)                      3\n",
       "Covid19 - Sero-negative (ICU)                        2\n",
       "Healthy/Background - CMV Unknown                     1\n",
       "SLE One aAbs / SLE dsDNA WITH Nephritis              1\n",
       "Name: disease_subtype, dtype: int64"
      ]
     },
     "execution_count": 23,
     "metadata": {},
     "output_type": "execute_result"
    }
   ],
   "source": [
    "metadata_df_c[\"disease_subtype\"].value_counts()"
   ]
  },
  {
   "cell_type": "code",
   "execution_count": null,
   "metadata": {},
   "outputs": [],
   "source": []
  },
  {
   "cell_type": "markdown",
   "metadata": {},
   "source": [
    "Confirm HIV patient numbers -- we expect:\n",
    "\n",
    "```\n",
    "43\tHIV Negative\n",
    "46\tHIV Broad Neutralizing\n",
    "50\tHIV Non Neutralizing\n",
    "```"
   ]
  },
  {
   "cell_type": "code",
   "execution_count": 24,
   "metadata": {
    "execution": {
     "iopub.execute_input": "2023-01-14T03:13:09.564290Z",
     "iopub.status.busy": "2023-01-14T03:13:09.563668Z",
     "iopub.status.idle": "2023-01-14T03:13:09.589809Z",
     "shell.execute_reply": "2023-01-14T03:13:09.585136Z"
    }
   },
   "outputs": [
    {
     "data": {
      "text/plain": [
       "HIV Non Neutralizing      105\n",
       "HIV Broad Neutralizing     92\n",
       "Name: disease_subtype, dtype: int64"
      ]
     },
     "execution_count": 24,
     "metadata": {},
     "output_type": "execute_result"
    }
   ],
   "source": [
    "# Specimens\n",
    "metadata_df_c[metadata_df_c[\"disease\"] == \"HIV\"][\"disease_subtype\"].astype(\n",
    "    \"category\"\n",
    ").cat.remove_unused_categories().value_counts()"
   ]
  },
  {
   "cell_type": "code",
   "execution_count": 25,
   "metadata": {
    "execution": {
     "iopub.execute_input": "2023-01-14T03:13:09.595150Z",
     "iopub.status.busy": "2023-01-14T03:13:09.594534Z",
     "iopub.status.idle": "2023-01-14T03:13:09.616792Z",
     "shell.execute_reply": "2023-01-14T03:13:09.614757Z"
    }
   },
   "outputs": [
    {
     "data": {
      "text/plain": [
       "disease_subtype\n",
       "HIV Broad Neutralizing    46\n",
       "HIV Non Neutralizing      50\n",
       "Name: participant_label, dtype: int64"
      ]
     },
     "execution_count": 25,
     "metadata": {},
     "output_type": "execute_result"
    }
   ],
   "source": [
    "# Patients\n",
    "metadata_df_c[metadata_df_c[\"disease\"] == \"HIV\"].groupby(\n",
    "    \"disease_subtype\", observed=True\n",
    ")[\"participant_label\"].nunique()"
   ]
  },
  {
   "cell_type": "code",
   "execution_count": null,
   "metadata": {},
   "outputs": [],
   "source": []
  },
  {
   "cell_type": "code",
   "execution_count": 26,
   "metadata": {
    "execution": {
     "iopub.execute_input": "2023-01-14T03:13:09.622784Z",
     "iopub.status.busy": "2023-01-14T03:13:09.622160Z",
     "iopub.status.idle": "2023-01-14T03:13:09.642954Z",
     "shell.execute_reply": "2023-01-14T03:13:09.640969Z"
    }
   },
   "outputs": [
    {
     "data": {
      "text/plain": [
       "Healthy/Background - HIV Negative    86\n",
       "Healthy/Background - CMV Negative    61\n",
       "Healthy/Background - CMV Positive    52\n",
       "Healthy/Background (children)        46\n",
       "Healthy/Background - SLE Negative    31\n",
       "Unaffected Control                    6\n",
       "Healthy/Background - CMV Unknown      1\n",
       "Name: disease_subtype, dtype: int64"
      ]
     },
     "execution_count": 26,
     "metadata": {},
     "output_type": "execute_result"
    }
   ],
   "source": [
    "# healthy specimens\n",
    "metadata_df_c[metadata_df_c[\"disease\"] == \"Healthy/Background\"][\n",
    "    \"disease_subtype\"\n",
    "].astype(\"category\").cat.remove_unused_categories().value_counts()"
   ]
  },
  {
   "cell_type": "code",
   "execution_count": 27,
   "metadata": {
    "execution": {
     "iopub.execute_input": "2023-01-14T03:13:09.647543Z",
     "iopub.status.busy": "2023-01-14T03:13:09.646561Z",
     "iopub.status.idle": "2023-01-14T03:13:09.668352Z",
     "shell.execute_reply": "2023-01-14T03:13:09.666345Z"
    }
   },
   "outputs": [
    {
     "data": {
      "text/plain": [
       "disease_subtype\n",
       "Healthy/Background (children)        46\n",
       "Healthy/Background - CMV Negative    61\n",
       "Healthy/Background - CMV Positive    52\n",
       "Healthy/Background - CMV Unknown      1\n",
       "Healthy/Background - HIV Negative    43\n",
       "Healthy/Background - SLE Negative    24\n",
       "Unaffected Control                    6\n",
       "Name: participant_label, dtype: int64"
      ]
     },
     "execution_count": 27,
     "metadata": {},
     "output_type": "execute_result"
    }
   ],
   "source": [
    "# healthy patients\n",
    "metadata_df_c[metadata_df_c[\"disease\"] == \"Healthy/Background\"].groupby(\n",
    "    \"disease_subtype\", observed=True\n",
    ")[\"participant_label\"].nunique()"
   ]
  },
  {
   "cell_type": "code",
   "execution_count": 28,
   "metadata": {
    "execution": {
     "iopub.execute_input": "2023-01-14T03:13:09.674298Z",
     "iopub.status.busy": "2023-01-14T03:13:09.673638Z",
     "iopub.status.idle": "2023-01-14T03:13:09.697288Z",
     "shell.execute_reply": "2023-01-14T03:13:09.696117Z"
    }
   },
   "outputs": [
    {
     "data": {
      "text/html": [
       "<div>\n",
       "<style scoped>\n",
       "    .dataframe tbody tr th:only-of-type {\n",
       "        vertical-align: middle;\n",
       "    }\n",
       "\n",
       "    .dataframe tbody tr th {\n",
       "        vertical-align: top;\n",
       "    }\n",
       "\n",
       "    .dataframe thead th {\n",
       "        text-align: right;\n",
       "    }\n",
       "</style>\n",
       "<table border=\"1\" class=\"dataframe\">\n",
       "  <thead>\n",
       "    <tr style=\"text-align: right;\">\n",
       "      <th></th>\n",
       "      <th>participant_label</th>\n",
       "      <th>specimen_label</th>\n",
       "      <th>disease</th>\n",
       "      <th>disease_subtype</th>\n",
       "      <th>specimen_time_point</th>\n",
       "      <th>participant_age</th>\n",
       "      <th>participant_description</th>\n",
       "    </tr>\n",
       "  </thead>\n",
       "  <tbody>\n",
       "    <tr>\n",
       "      <th>425</th>\n",
       "      <td>BFI-0003144</td>\n",
       "      <td>M64-095</td>\n",
       "      <td>Healthy/Background</td>\n",
       "      <td>Healthy/Background - CMV Unknown</td>\n",
       "      <td>NaN</td>\n",
       "      <td>22.0</td>\n",
       "      <td>Healthy Human Control</td>\n",
       "    </tr>\n",
       "  </tbody>\n",
       "</table>\n",
       "</div>"
      ],
      "text/plain": [
       "    participant_label specimen_label             disease  \\\n",
       "425       BFI-0003144        M64-095  Healthy/Background   \n",
       "\n",
       "                      disease_subtype specimen_time_point  participant_age  \\\n",
       "425  Healthy/Background - CMV Unknown                 NaN             22.0   \n",
       "\n",
       "    participant_description  \n",
       "425   Healthy Human Control  "
      ]
     },
     "execution_count": 28,
     "metadata": {},
     "output_type": "execute_result"
    }
   ],
   "source": [
    "metadata_df_c[metadata_df_c[\"disease_subtype\"] == \"Healthy/Background - CMV Unknown\"]"
   ]
  },
  {
   "cell_type": "code",
   "execution_count": null,
   "metadata": {},
   "outputs": [],
   "source": []
  },
  {
   "cell_type": "code",
   "execution_count": null,
   "metadata": {},
   "outputs": [],
   "source": []
  },
  {
   "cell_type": "code",
   "execution_count": 29,
   "metadata": {
    "execution": {
     "iopub.execute_input": "2023-01-14T03:13:09.701041Z",
     "iopub.status.busy": "2023-01-14T03:13:09.700650Z",
     "iopub.status.idle": "2023-01-14T03:13:09.719731Z",
     "shell.execute_reply": "2023-01-14T03:13:09.718441Z"
    }
   },
   "outputs": [
    {
     "data": {
      "text/plain": [
       "Covid19 - Admit                    52\n",
       "Covid19 - ICU                      18\n",
       "Covid19 - Sero-positive (ICU)      18\n",
       "Covid19 - Sero-positive (Admit)     6\n",
       "Covid19 - Acute 1                   5\n",
       "Covid19 - Acute 2                   5\n",
       "Covid19 - Convalescence             5\n",
       "Covid19 - Sero-negative (Admit)     3\n",
       "Covid19 - Sero-negative (ICU)       2\n",
       "Name: disease_subtype, dtype: int64"
      ]
     },
     "execution_count": 29,
     "metadata": {},
     "output_type": "execute_result"
    }
   ],
   "source": [
    "# covid specimens\n",
    "metadata_df_c[metadata_df_c[\"disease\"] == \"Covid19\"][\"disease_subtype\"].astype(\n",
    "    \"category\"\n",
    ").cat.remove_unused_categories().value_counts()"
   ]
  },
  {
   "cell_type": "code",
   "execution_count": 30,
   "metadata": {
    "execution": {
     "iopub.execute_input": "2023-01-14T03:13:09.724535Z",
     "iopub.status.busy": "2023-01-14T03:13:09.723929Z",
     "iopub.status.idle": "2023-01-14T03:13:09.742079Z",
     "shell.execute_reply": "2023-01-14T03:13:09.740503Z"
    }
   },
   "outputs": [
    {
     "data": {
      "text/plain": [
       "disease_subtype\n",
       "Covid19 - Acute 1                   5\n",
       "Covid19 - Acute 2                   5\n",
       "Covid19 - Admit                    41\n",
       "Covid19 - Convalescence             5\n",
       "Covid19 - ICU                      15\n",
       "Covid19 - Sero-negative (Admit)     1\n",
       "Covid19 - Sero-negative (ICU)       1\n",
       "Covid19 - Sero-positive (Admit)     3\n",
       "Covid19 - Sero-positive (ICU)       7\n",
       "Name: participant_label, dtype: int64"
      ]
     },
     "execution_count": 30,
     "metadata": {},
     "output_type": "execute_result"
    }
   ],
   "source": [
    "# covid patients\n",
    "metadata_df_c[metadata_df_c[\"disease\"] == \"Covid19\"].groupby(\n",
    "    \"disease_subtype\", observed=True\n",
    ")[\"participant_label\"].nunique()"
   ]
  },
  {
   "cell_type": "code",
   "execution_count": null,
   "metadata": {},
   "outputs": [],
   "source": []
  },
  {
   "cell_type": "code",
   "execution_count": null,
   "metadata": {},
   "outputs": [],
   "source": []
  },
  {
   "cell_type": "code",
   "execution_count": null,
   "metadata": {},
   "outputs": [],
   "source": []
  },
  {
   "cell_type": "code",
   "execution_count": 31,
   "metadata": {
    "execution": {
     "iopub.execute_input": "2023-01-14T03:13:09.748442Z",
     "iopub.status.busy": "2023-01-14T03:13:09.747814Z",
     "iopub.status.idle": "2023-01-14T03:13:11.802223Z",
     "shell.execute_reply": "2023-01-14T03:13:11.799953Z"
    }
   },
   "outputs": [],
   "source": [
    "client.shutdown()"
   ]
  },
  {
   "cell_type": "code",
   "execution_count": null,
   "metadata": {},
   "outputs": [],
   "source": []
  }
 ],
 "metadata": {
  "jupytext": {
   "cell_metadata_filter": "-all"
  },
  "kernelspec": {
   "display_name": "py39-cuda-env",
   "language": "python",
   "name": "py39-cuda-env"
  },
  "language_info": {
   "codemirror_mode": {
    "name": "ipython",
    "version": 3
   },
   "file_extension": ".py",
   "mimetype": "text/x-python",
   "name": "python",
   "nbconvert_exporter": "python",
   "pygments_lexer": "ipython3",
   "version": "3.9.13"
  }
 },
 "nbformat": 4,
 "nbformat_minor": 4
}
