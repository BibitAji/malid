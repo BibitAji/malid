{
 "cells": [
  {
   "cell_type": "markdown",
   "metadata": {},
   "source": [
    "Plot sequence model (model 3) `P(Covid)` rankings for known binders vs healthy donor-originating sequences.\n",
    "\n",
    "- Plot separately per fold, to avoid any problems of merging ranks across folds that may have different probability scales.\n",
    "- y axis: P(covid), converted to rank\n",
    "- x axis: healthy patient sequences (from one fold's test set), vs CoVAbDab/MIRA known binder sequences\n",
    "    - CoV-AbDab: we don't know isotype, so we try all isotypes for each sequences and take max `P(Covid)` prediction. (Model 3 uses isotype info)\n",
    "    - BCR healthy donors: we exclude IgM/D which may be future Covid response.\n",
    "\n",
    "Notice that we pass all known binder database entries through our model. Not just \"matches\" according to some threshold. (Previously, known binder discovery relied on matching our sequences to known binder DBs with fixed thresholds that we chose by hand. Instead, we now run all known binder DB entries through our model wholesale, and compare to the model outputs we get for healthy donor sequences.)"
   ]
  },
  {
   "cell_type": "code",
   "execution_count": null,
   "metadata": {},
   "outputs": [],
   "source": []
  },
  {
   "cell_type": "code",
   "execution_count": 1,
   "metadata": {
    "execution": {
     "iopub.execute_input": "2023-01-02T01:46:20.772886Z",
     "iopub.status.busy": "2023-01-02T01:46:20.772501Z",
     "iopub.status.idle": "2023-01-02T01:46:23.492614Z",
     "shell.execute_reply": "2023-01-02T01:46:23.491537Z"
    }
   },
   "outputs": [],
   "source": [
    "import numpy as np\n",
    "import pandas as pd\n",
    "import matplotlib.pyplot as plt\n",
    "\n",
    "%matplotlib inline\n",
    "import seaborn as sns\n",
    "import gc"
   ]
  },
  {
   "cell_type": "code",
   "execution_count": 2,
   "metadata": {
    "execution": {
     "iopub.execute_input": "2023-01-02T01:46:23.497210Z",
     "iopub.status.busy": "2023-01-02T01:46:23.496787Z",
     "iopub.status.idle": "2023-01-02T01:46:27.064363Z",
     "shell.execute_reply": "2023-01-02T01:46:27.062718Z"
    }
   },
   "outputs": [],
   "source": [
    "from malid import config, io, helpers, logger\n",
    "from malid.datamodels import GeneLocus, TargetObsColumnEnum, SampleWeightStrategy\n",
    "from malid.trained_model_wrappers import SequenceClassifier\n",
    "import genetools\n",
    "from statannotations.Annotator import Annotator\n",
    "import sklearn.metrics\n",
    "import scipy.stats"
   ]
  },
  {
   "cell_type": "code",
   "execution_count": null,
   "metadata": {},
   "outputs": [],
   "source": []
  },
  {
   "cell_type": "code",
   "execution_count": null,
   "metadata": {},
   "outputs": [],
   "source": []
  },
  {
   "cell_type": "code",
   "execution_count": null,
   "metadata": {},
   "outputs": [],
   "source": []
  },
  {
   "cell_type": "code",
   "execution_count": null,
   "metadata": {},
   "outputs": [],
   "source": []
  },
  {
   "cell_type": "code",
   "execution_count": 3,
   "metadata": {
    "execution": {
     "iopub.execute_input": "2023-01-02T01:46:27.070917Z",
     "iopub.status.busy": "2023-01-02T01:46:27.070531Z",
     "iopub.status.idle": "2023-01-02T01:46:27.093231Z",
     "shell.execute_reply": "2023-01-02T01:46:27.092114Z"
    }
   },
   "outputs": [],
   "source": [
    "def plot(\n",
    "    fold_id: int,\n",
    "    gene_locus: GeneLocus,\n",
    "    target_obs_column: TargetObsColumnEnum,\n",
    "    mann_whitney_test_method=\"asymptotic\",\n",
    "    axis_label=\"Sequence prediction confidence\\n(percentile of rank)\",\n",
    "):\n",
    "    sample_weight_strategy = SampleWeightStrategy.ISOTYPE_USAGE\n",
    "\n",
    "    clf = SequenceClassifier(\n",
    "        fold_id=fold_id,\n",
    "        model_name_sequence_disease=\"lasso_multiclass\",\n",
    "        fold_label_train=\"train_smaller\",\n",
    "        gene_locus=gene_locus,\n",
    "        target_obs_column=target_obs_column,\n",
    "        sample_weight_strategy=sample_weight_strategy,\n",
    "    )\n",
    "\n",
    "    # Load this locus's known binders, embedded for this fold\n",
    "    known_binders_adata = io.load_known_binder_embeddings(\n",
    "        fold_id=fold_id,\n",
    "        gene_locus=gene_locus,\n",
    "        sample_weight_strategy=sample_weight_strategy,\n",
    "    )\n",
    "\n",
    "    # For BCR known binders, we don't know true isotype label\n",
    "    # Try them all and choose the most Covid-like\n",
    "    known_binder_probabilities_with_different_isotypes = []\n",
    "    for possible_isotype in helpers.isotype_groups_kept[gene_locus]:\n",
    "        known_binders_adata.obs[\"isotype_supergroup\"] = possible_isotype\n",
    "        featurized_known_binders = clf.featurize(known_binders_adata)\n",
    "        known_binders_predicted_probabilities = pd.DataFrame(\n",
    "            clf.predict_proba(featurized_known_binders.X),\n",
    "            index=featurized_known_binders.sample_names,\n",
    "            columns=clf.classes_,\n",
    "        )[\"Covid19\"].rename(f\"Covid19_{possible_isotype}\")\n",
    "        known_binder_probabilities_with_different_isotypes.append(\n",
    "            known_binders_predicted_probabilities\n",
    "        )\n",
    "    known_binder_probabilities_with_different_isotypes = pd.concat(\n",
    "        known_binder_probabilities_with_different_isotypes, axis=1\n",
    "    )\n",
    "    known_binders_predicted_probabilities = (\n",
    "        known_binder_probabilities_with_different_isotypes.max(axis=1).rename(\"Covid19\")\n",
    "    )\n",
    "\n",
    "    # Load Mal-ID cohort sequences from the test set, to ensure we have not trained on them\n",
    "    adata = io.load_fold_embeddings(\n",
    "        fold_id=fold_id,\n",
    "        fold_label=\"test\",\n",
    "        gene_locus=gene_locus,\n",
    "        target_obs_column=target_obs_column,\n",
    "        sample_weight_strategy=sample_weight_strategy,\n",
    "    )\n",
    "\n",
    "    # Deduplicate identical sequences across specimens/people\n",
    "    # (duplicated() returns False for first entry and True for all copies of the same entry, so we have to flip this mask)\n",
    "    adata = adata[\n",
    "        ~adata.obs.duplicated(\n",
    "            subset=[\n",
    "                \"v_gene\",\n",
    "                \"j_gene\",\n",
    "                \"cdr1_seq_aa_q_trim\",\n",
    "                \"cdr2_seq_aa_q_trim\",\n",
    "                \"cdr3_seq_aa_q_trim\",\n",
    "                \"isotype_supergroup\",\n",
    "                \"disease\",\n",
    "            ],\n",
    "            keep=\"first\",\n",
    "        )\n",
    "    ]\n",
    "\n",
    "    # Get sequences from healthy individuals\n",
    "    adata_healthy = adata[adata.obs[\"disease\"] == helpers.healthy_label]\n",
    "    # Remove naive B cells: those that may be poised to respond to SARS-CoV-2 after infection\n",
    "    adata_healthy = adata_healthy[adata_healthy.obs[\"isotype_supergroup\"] != \"IGHD-M\"]\n",
    "\n",
    "    # Score healthy-donor sequences for P(Covid19)\n",
    "    featurized_healthy = clf.featurize(adata_healthy)\n",
    "    healthy_predicted_probabilities = pd.DataFrame(\n",
    "        clf.predict_proba(featurized_healthy.X),\n",
    "        index=featurized_healthy.sample_names,\n",
    "        columns=clf.classes_,\n",
    "    )[\"Covid19\"]\n",
    "\n",
    "    # Combine known binders + healthy\n",
    "    healthy_sequences_label = \"Sequences from healthy donors\"\n",
    "    known_binders_label = \"Known binders\"\n",
    "    combined = pd.concat(\n",
    "        [\n",
    "            healthy_predicted_probabilities.to_frame().assign(\n",
    "                source=healthy_sequences_label\n",
    "            ),\n",
    "            known_binders_predicted_probabilities.to_frame().assign(\n",
    "                source=known_binders_label\n",
    "            ),\n",
    "        ],\n",
    "        axis=0,\n",
    "    ).reset_index(drop=True)\n",
    "\n",
    "    # Assign a rank (higher ranks are higher probabilities)\n",
    "    combined.sort_values(\"Covid19\", ascending=True, inplace=True)\n",
    "    combined[\"rank\"] = genetools.stats.rank_normalize(combined[\"Covid19\"])\n",
    "    # percentile normalize\n",
    "    combined[\"rank\"] = combined[\"rank\"] / combined.shape[0]\n",
    "\n",
    "    # Compute AUC of discovering known binders with our rankings\n",
    "    # (Doesn't matter whether we use rank or the raw probability (e.g. \"Covid19\" column) here, because AUC is just about whether positive examples are assigned higher ranks than negative examples)\n",
    "    auc = sklearn.metrics.roc_auc_score(\n",
    "        y_true=combined[\"source\"].replace(\n",
    "            {healthy_sequences_label: False, known_binders_label: True}\n",
    "        ),\n",
    "        y_score=combined[\"rank\"],\n",
    "    )\n",
    "\n",
    "    # Compute rank stats\n",
    "    known_binder_sequence_ranks = combined[combined[\"source\"] == known_binders_label][\n",
    "        \"rank\"\n",
    "    ]\n",
    "    rank_stats = [\n",
    "        f\"85% of known binder sequences have rank over {known_binder_sequence_ranks.quantile(0.15)*100:0.1f}%\"\n",
    "    ]\n",
    "    # Invert, either by computing CDF (https://stackoverflow.com/q/26489134/130164) or as follows:\n",
    "    rank_stats.extend(\n",
    "        [\n",
    "            f\"{(known_binder_sequence_ranks > 0.80).mean() * 100:0.1f}% of known binder sequences have rank over 80%\",\n",
    "            f\"{(known_binder_sequence_ranks > 0.75).mean() * 100:0.1f}% of known binder sequences have rank over 75%\",\n",
    "            f\"{(known_binder_sequence_ranks > 0.50).mean() * 100:0.1f}% of known binder sequences have rank over 50%\",\n",
    "        ]\n",
    "    )\n",
    "\n",
    "    # Plot\n",
    "    fig, ax = plt.subplots(figsize=(5, 4))\n",
    "    order = [healthy_sequences_label, known_binders_label]\n",
    "    sns.boxplot(data=combined, x=\"source\", y=\"rank\", ax=ax, order=order)\n",
    "    # Annotate with statistical significance\n",
    "    annot = Annotator(\n",
    "        ax=ax,\n",
    "        pairs=[order],\n",
    "        data=combined,\n",
    "        x=\"source\",\n",
    "        y=\"rank\",\n",
    "        # This \"order\" is the reverse of the seaborn plotting order:\n",
    "        # Specify pair order for the one-sided test that the the known binders have greater ranks than the healthy sequences.\n",
    "        # (Make sure to be consistent with the scipy equivalent below about which is the \"greater\" and which is the \"less\" sample)\n",
    "        order=list(reversed(order)),\n",
    "    )\n",
    "    annot.configure(\n",
    "        test=\"Mann-Whitney-gt\", text_format=\"star\", loc=\"outside\", verbose=2\n",
    "    )\n",
    "    annot.apply_test(method=mann_whitney_test_method)\n",
    "    ax, test_results_for_annotator = annot.annotate()\n",
    "\n",
    "    # Reproduce the test ourselves: Wilcoxon rank-sum test, one sided.\n",
    "    ranks_known_binders = combined[combined[\"source\"] == known_binders_label][\n",
    "        \"rank\"\n",
    "    ].values\n",
    "    ranks_other = combined[combined[\"source\"] == healthy_sequences_label][\"rank\"].values\n",
    "\n",
    "    # The Wilcoxon rank-sum test tests the null hypothesis that two sets of measurements are drawn from the same distribution.\n",
    "    # The alternative hypothesis is that values in one sample are more likely to be greater than the values in the other sample.\n",
    "    significance_test = scipy.stats.mannwhitneyu(\n",
    "        ranks_known_binders,\n",
    "        ranks_other,\n",
    "        alternative=\"greater\",\n",
    "        method=mann_whitney_test_method,\n",
    "    )\n",
    "    # Confirm StatResult matches against scipy's p-value and test statistic\n",
    "    assert np.allclose(\n",
    "        significance_test.pvalue, test_results_for_annotator[0].data.pvalue\n",
    "    )\n",
    "    assert np.allclose(\n",
    "        significance_test.statistic, test_results_for_annotator[0].data.stat_value\n",
    "    )\n",
    "\n",
    "    # Finish plot\n",
    "    plt.ylabel(axis_label)\n",
    "    plt.xlabel(None)\n",
    "    ax.set_xticklabels(\n",
    "        genetools.plots.add_sample_size_to_labels(\n",
    "            ax.get_xticklabels(), combined, \"source\"\n",
    "        )\n",
    "    )\n",
    "    genetools.plots.wrap_tick_labels(ax)\n",
    "    plt.ylim(-0.05, 1.05)\n",
    "    # higher rank means higher confidence\n",
    "    plt.yticks(\n",
    "        ticks=[0.0, 0.25, 0.5, 0.75, 1.0],\n",
    "        labels=[\n",
    "            \"0 (worst)\",\n",
    "            0.25,\n",
    "            0.50,\n",
    "            0.75,\n",
    "            \"1 (best)\",\n",
    "        ],\n",
    "    )\n",
    "\n",
    "    sns.despine(ax=ax)\n",
    "    fig.tight_layout()\n",
    "\n",
    "    return fig, ax, combined, significance_test, auc, rank_stats"
   ]
  },
  {
   "cell_type": "code",
   "execution_count": 4,
   "metadata": {
    "execution": {
     "iopub.execute_input": "2023-01-02T01:46:27.096975Z",
     "iopub.status.busy": "2023-01-02T01:46:27.096655Z",
     "iopub.status.idle": "2023-01-02T02:58:37.425008Z",
     "shell.execute_reply": "2023-01-02T02:58:37.424025Z"
    }
   },
   "outputs": [
    {
     "name": "stderr",
     "output_type": "stream",
     "text": [
      "2023-01-01 17:46:28,049 - malid.external.scratch_cache - INFO - Reading network file from local machine cache: /users/maximz/code/boyd-immune-repertoire-classification/data/data_v_20221224/embedded/unirep_fine_tuned/anndatas_scaled/BCR/fold.0.test.h5ad -> /srv/scratch/maximz/cache/d23bdbcb1cb8d1c3007da595727fbbab8cc86779ab8967868314f2da.0.test.h5ad\n"
     ]
    },
    {
     "name": "stdout",
     "output_type": "stream",
     "text": [
      "WARNING: Your filename has more than two extensions: ['.0', '.test', '.h5ad'].\n",
      "Only considering the two last: ['.test', '.h5ad'].\n"
     ]
    },
    {
     "name": "stdout",
     "output_type": "stream",
     "text": [
      "WARNING: Your filename has more than two extensions: ['.0', '.test', '.h5ad'].\n",
      "Only considering the two last: ['.test', '.h5ad'].\n"
     ]
    },
    {
     "name": "stderr",
     "output_type": "stream",
     "text": [
      "2023-01-01 17:47:31,682 - malid.helpers - WARNING - Not marking any sequences as confident_sequence because those annotations weren't found: [Errno 2] No such file or directory: '/users/maximz/code/boyd-immune-repertoire-classification/data/data_v_20221224/embedded/unirep_fine_tuned/anndatas_scaled/BCR/neighborhoods/knn_neighborhood.0.test.IGHG.embedded_onto.train_smaller.combined_data.filtered.tsv.gz'\n"
     ]
    },
    {
     "name": "stdout",
     "output_type": "stream",
     "text": [
      "p-value annotation legend:\n",
      "      ns: p <= 1.00e+00\n",
      "       *: 1.00e-02 < p <= 5.00e-02\n",
      "      **: 1.00e-03 < p <= 1.00e-02\n",
      "     ***: 1.00e-04 < p <= 1.00e-03\n",
      "    ****: p <= 1.00e-04\n",
      "\n",
      "Known binders vs. Sequences from healthy donors: Mann-Whitney-Wilcoxon test greater, P_val:0.000e+00 U_stat=2.986e+09\n"
     ]
    },
    {
     "name": "stdout",
     "output_type": "stream",
     "text": [
      "GeneLocus.BCR, fold 0\n",
      "AUC of discovering known binders with our rankings: 0.730\n",
      "85% of known binder sequences have rank over 38.2%\n",
      "53.9% of known binder sequences have rank over 80%\n",
      "59.4% of known binder sequences have rank over 75%\n",
      "78.9% of known binder sequences have rank over 50%\n",
      "\n",
      "Boxplot p-value: 0.00e+00, U-statistic=2.9856e+09\n",
      "\n"
     ]
    },
    {
     "name": "stdout",
     "output_type": "stream",
     "text": [
      "\n",
      "************************************************************\n",
      "\n"
     ]
    },
    {
     "name": "stderr",
     "output_type": "stream",
     "text": [
      "2023-01-01 17:48:54,668 - malid.external.scratch_cache - INFO - Reading network file from local machine cache: /users/maximz/code/boyd-immune-repertoire-classification/data/data_v_20221224/embedded/unirep_fine_tuned/anndatas_scaled/BCR/fold.1.test.h5ad -> /srv/scratch/maximz/cache/ed1f2608e168c24c508b6bfbbe3a18ba1a4680e5c010e34cd184cae6.1.test.h5ad\n"
     ]
    },
    {
     "name": "stdout",
     "output_type": "stream",
     "text": [
      "WARNING: Your filename has more than two extensions: ['.1', '.test', '.h5ad'].\n",
      "Only considering the two last: ['.test', '.h5ad'].\n"
     ]
    },
    {
     "name": "stdout",
     "output_type": "stream",
     "text": [
      "WARNING: Your filename has more than two extensions: ['.1', '.test', '.h5ad'].\n",
      "Only considering the two last: ['.test', '.h5ad'].\n"
     ]
    },
    {
     "name": "stderr",
     "output_type": "stream",
     "text": [
      "2023-01-01 17:49:52,120 - malid.helpers - WARNING - Not marking any sequences as confident_sequence because those annotations weren't found: [Errno 2] No such file or directory: '/users/maximz/code/boyd-immune-repertoire-classification/data/data_v_20221224/embedded/unirep_fine_tuned/anndatas_scaled/BCR/neighborhoods/knn_neighborhood.1.test.IGHG.embedded_onto.train_smaller.combined_data.filtered.tsv.gz'\n"
     ]
    },
    {
     "name": "stdout",
     "output_type": "stream",
     "text": [
      "p-value annotation legend:\n",
      "      ns: p <= 1.00e+00\n",
      "       *: 1.00e-02 < p <= 5.00e-02\n",
      "      **: 1.00e-03 < p <= 1.00e-02\n",
      "     ***: 1.00e-04 < p <= 1.00e-03\n",
      "    ****: p <= 1.00e-04\n",
      "\n",
      "Known binders vs. Sequences from healthy donors: Mann-Whitney-Wilcoxon test greater, P_val:0.000e+00 U_stat=2.664e+09\n"
     ]
    },
    {
     "name": "stdout",
     "output_type": "stream",
     "text": [
      "GeneLocus.BCR, fold 1\n",
      "AUC of discovering known binders with our rankings: 0.736\n",
      "85% of known binder sequences have rank over 41.7%\n",
      "53.1% of known binder sequences have rank over 80%\n",
      "59.5% of known binder sequences have rank over 75%\n",
      "80.2% of known binder sequences have rank over 50%\n",
      "\n",
      "Boxplot p-value: 0.00e+00, U-statistic=2.6644e+09\n",
      "\n"
     ]
    },
    {
     "name": "stdout",
     "output_type": "stream",
     "text": [
      "\n",
      "************************************************************\n",
      "\n"
     ]
    },
    {
     "name": "stderr",
     "output_type": "stream",
     "text": [
      "2023-01-01 17:51:08,493 - malid.external.scratch_cache - INFO - Reading network file from local machine cache: /users/maximz/code/boyd-immune-repertoire-classification/data/data_v_20221224/embedded/unirep_fine_tuned/anndatas_scaled/BCR/fold.2.test.h5ad -> /srv/scratch/maximz/cache/83dcd409138574af7b7b712ce14967e926c14170bff7801b141edb49.2.test.h5ad\n"
     ]
    },
    {
     "name": "stdout",
     "output_type": "stream",
     "text": [
      "WARNING: Your filename has more than two extensions: ['.2', '.test', '.h5ad'].\n",
      "Only considering the two last: ['.test', '.h5ad'].\n"
     ]
    },
    {
     "name": "stdout",
     "output_type": "stream",
     "text": [
      "WARNING: Your filename has more than two extensions: ['.2', '.test', '.h5ad'].\n",
      "Only considering the two last: ['.test', '.h5ad'].\n"
     ]
    },
    {
     "name": "stderr",
     "output_type": "stream",
     "text": [
      "2023-01-01 17:52:03,929 - malid.helpers - WARNING - Not marking any sequences as confident_sequence because those annotations weren't found: [Errno 2] No such file or directory: '/users/maximz/code/boyd-immune-repertoire-classification/data/data_v_20221224/embedded/unirep_fine_tuned/anndatas_scaled/BCR/neighborhoods/knn_neighborhood.2.test.IGHG.embedded_onto.train_smaller.combined_data.filtered.tsv.gz'\n"
     ]
    },
    {
     "name": "stdout",
     "output_type": "stream",
     "text": [
      "p-value annotation legend:\n",
      "      ns: p <= 1.00e+00\n",
      "       *: 1.00e-02 < p <= 5.00e-02\n",
      "      **: 1.00e-03 < p <= 1.00e-02\n",
      "     ***: 1.00e-04 < p <= 1.00e-03\n",
      "    ****: p <= 1.00e-04\n",
      "\n",
      "Known binders vs. Sequences from healthy donors: Mann-Whitney-Wilcoxon test greater, P_val:0.000e+00 U_stat=2.425e+09\n"
     ]
    },
    {
     "name": "stdout",
     "output_type": "stream",
     "text": [
      "GeneLocus.BCR, fold 2\n",
      "AUC of discovering known binders with our rankings: 0.694\n",
      "85% of known binder sequences have rank over 35.1%\n",
      "46.1% of known binder sequences have rank over 80%\n",
      "52.8% of known binder sequences have rank over 75%\n",
      "75.7% of known binder sequences have rank over 50%\n",
      "\n",
      "Boxplot p-value: 0.00e+00, U-statistic=2.4254e+09\n",
      "\n"
     ]
    },
    {
     "name": "stdout",
     "output_type": "stream",
     "text": [
      "\n",
      "************************************************************\n",
      "\n"
     ]
    },
    {
     "name": "stderr",
     "output_type": "stream",
     "text": [
      "2023-01-01 17:53:28,954 - malid.external.scratch_cache - INFO - Caching network file to local machine cache: /users/maximz/code/boyd-immune-repertoire-classification/data/data_v_20221224/embedded/unirep_fine_tuned/anndatas_scaled/TCR/fold.0.test.h5ad -> /srv/scratch/maximz/cache/a6c3ab8bb9960154ff8dbb5d04eaf7a1c395f034f82f9649aefc9d35.0.test.h5ad\n"
     ]
    },
    {
     "name": "stdout",
     "output_type": "stream",
     "text": [
      "WARNING: Your filename has more than two extensions: ['.0', '.test', '.h5ad'].\n",
      "Only considering the two last: ['.test', '.h5ad'].\n"
     ]
    },
    {
     "name": "stdout",
     "output_type": "stream",
     "text": [
      "WARNING: Your filename has more than two extensions: ['.0', '.test', '.h5ad'].\n",
      "Only considering the two last: ['.test', '.h5ad'].\n"
     ]
    },
    {
     "name": "stderr",
     "output_type": "stream",
     "text": [
      "2023-01-01 18:05:25,088 - malid.helpers - WARNING - Not marking any sequences as confident_sequence because those annotations weren't found: [Errno 2] No such file or directory: '/users/maximz/code/boyd-immune-repertoire-classification/data/data_v_20221224/embedded/unirep_fine_tuned/anndatas_scaled/TCR/neighborhoods/knn_neighborhood.0.test.TCRB.embedded_onto.train_smaller.combined_data.filtered.tsv.gz'\n"
     ]
    },
    {
     "name": "stdout",
     "output_type": "stream",
     "text": [
      "p-value annotation legend:\n",
      "      ns: p <= 1.00e+00\n",
      "       *: 1.00e-02 < p <= 5.00e-02\n",
      "      **: 1.00e-03 < p <= 1.00e-02\n",
      "     ***: 1.00e-04 < p <= 1.00e-03\n",
      "    ****: p <= 1.00e-04\n",
      "\n",
      "Known binders vs. Sequences from healthy donors: Mann-Whitney-Wilcoxon test greater, P_val:0.000e+00 U_stat=7.503e+10\n"
     ]
    },
    {
     "name": "stdout",
     "output_type": "stream",
     "text": [
      "GeneLocus.TCR, fold 0\n",
      "AUC of discovering known binders with our rankings: 0.560\n",
      "85% of known binder sequences have rank over 18.9%\n",
      "25.6% of known binder sequences have rank over 80%\n",
      "31.8% of known binder sequences have rank over 75%\n",
      "60.4% of known binder sequences have rank over 50%\n",
      "\n",
      "Boxplot p-value: 0.00e+00, U-statistic=7.5034e+10\n",
      "\n"
     ]
    },
    {
     "name": "stdout",
     "output_type": "stream",
     "text": [
      "\n",
      "************************************************************\n",
      "\n"
     ]
    },
    {
     "name": "stderr",
     "output_type": "stream",
     "text": [
      "2023-01-01 18:20:31,860 - malid.external.scratch_cache - INFO - Caching network file to local machine cache: /users/maximz/code/boyd-immune-repertoire-classification/data/data_v_20221224/embedded/unirep_fine_tuned/anndatas_scaled/TCR/fold.1.test.h5ad -> /srv/scratch/maximz/cache/d3eb18b805f6482478ad1ee75a5249a449864d796469d3e144db1326.1.test.h5ad\n"
     ]
    },
    {
     "name": "stdout",
     "output_type": "stream",
     "text": [
      "WARNING: Your filename has more than two extensions: ['.1', '.test', '.h5ad'].\n",
      "Only considering the two last: ['.test', '.h5ad'].\n"
     ]
    },
    {
     "name": "stdout",
     "output_type": "stream",
     "text": [
      "WARNING: Your filename has more than two extensions: ['.1', '.test', '.h5ad'].\n",
      "Only considering the two last: ['.test', '.h5ad'].\n"
     ]
    },
    {
     "name": "stderr",
     "output_type": "stream",
     "text": [
      "2023-01-01 18:29:13,968 - malid.helpers - WARNING - Not marking any sequences as confident_sequence because those annotations weren't found: [Errno 2] No such file or directory: '/users/maximz/code/boyd-immune-repertoire-classification/data/data_v_20221224/embedded/unirep_fine_tuned/anndatas_scaled/TCR/neighborhoods/knn_neighborhood.1.test.TCRB.embedded_onto.train_smaller.combined_data.filtered.tsv.gz'\n"
     ]
    },
    {
     "name": "stdout",
     "output_type": "stream",
     "text": [
      "p-value annotation legend:\n",
      "      ns: p <= 1.00e+00\n",
      "       *: 1.00e-02 < p <= 5.00e-02\n",
      "      **: 1.00e-03 < p <= 1.00e-02\n",
      "     ***: 1.00e-04 < p <= 1.00e-03\n",
      "    ****: p <= 1.00e-04\n",
      "\n",
      "Known binders vs. Sequences from healthy donors: Mann-Whitney-Wilcoxon test greater, P_val:0.000e+00 U_stat=7.818e+10\n"
     ]
    },
    {
     "name": "stdout",
     "output_type": "stream",
     "text": [
      "GeneLocus.TCR, fold 1\n",
      "AUC of discovering known binders with our rankings: 0.586\n",
      "85% of known binder sequences have rank over 23.8%\n",
      "28.6% of known binder sequences have rank over 80%\n",
      "35.1% of known binder sequences have rank over 75%\n",
      "62.5% of known binder sequences have rank over 50%\n",
      "\n",
      "Boxplot p-value: 0.00e+00, U-statistic=7.8183e+10\n",
      "\n"
     ]
    },
    {
     "name": "stdout",
     "output_type": "stream",
     "text": [
      "\n",
      "************************************************************\n",
      "\n"
     ]
    },
    {
     "name": "stderr",
     "output_type": "stream",
     "text": [
      "2023-01-01 18:40:03,597 - malid.external.scratch_cache - INFO - Caching network file to local machine cache: /users/maximz/code/boyd-immune-repertoire-classification/data/data_v_20221224/embedded/unirep_fine_tuned/anndatas_scaled/TCR/fold.2.test.h5ad -> /srv/scratch/maximz/cache/d74a0f1a51ad1e35ec4654f627621ecdc4abf48e3481e399db8af384.2.test.h5ad\n"
     ]
    },
    {
     "name": "stdout",
     "output_type": "stream",
     "text": [
      "WARNING: Your filename has more than two extensions: ['.2', '.test', '.h5ad'].\n",
      "Only considering the two last: ['.test', '.h5ad'].\n"
     ]
    },
    {
     "name": "stdout",
     "output_type": "stream",
     "text": [
      "WARNING: Your filename has more than two extensions: ['.2', '.test', '.h5ad'].\n",
      "Only considering the two last: ['.test', '.h5ad'].\n"
     ]
    },
    {
     "name": "stderr",
     "output_type": "stream",
     "text": [
      "2023-01-01 18:49:01,273 - malid.helpers - WARNING - Not marking any sequences as confident_sequence because those annotations weren't found: [Errno 2] No such file or directory: '/users/maximz/code/boyd-immune-repertoire-classification/data/data_v_20221224/embedded/unirep_fine_tuned/anndatas_scaled/TCR/neighborhoods/knn_neighborhood.2.test.TCRB.embedded_onto.train_smaller.combined_data.filtered.tsv.gz'\n"
     ]
    },
    {
     "name": "stdout",
     "output_type": "stream",
     "text": [
      "p-value annotation legend:\n",
      "      ns: p <= 1.00e+00\n",
      "       *: 1.00e-02 < p <= 5.00e-02\n",
      "      **: 1.00e-03 < p <= 1.00e-02\n",
      "     ***: 1.00e-04 < p <= 1.00e-03\n",
      "    ****: p <= 1.00e-04\n",
      "\n",
      "Known binders vs. Sequences from healthy donors: Mann-Whitney-Wilcoxon test greater, P_val:0.000e+00 U_stat=7.505e+10\n"
     ]
    },
    {
     "name": "stdout",
     "output_type": "stream",
     "text": [
      "GeneLocus.TCR, fold 2\n",
      "AUC of discovering known binders with our rankings: 0.569\n",
      "85% of known binder sequences have rank over 19.7%\n",
      "28.6% of known binder sequences have rank over 80%\n",
      "34.5% of known binder sequences have rank over 75%\n",
      "60.4% of known binder sequences have rank over 50%\n",
      "\n",
      "Boxplot p-value: 0.00e+00, U-statistic=7.5053e+10\n",
      "\n"
     ]
    },
    {
     "name": "stdout",
     "output_type": "stream",
     "text": [
      "\n",
      "************************************************************\n",
      "\n"
     ]
    }
   ],
   "source": [
    "for gene_locus in config.gene_loci_used:\n",
    "    output_dir = config.paths.model_interpretations_output_dir / gene_locus.name\n",
    "    output_dir.mkdir(parents=True, exist_ok=True)\n",
    "\n",
    "    # Loop over all fold IDs except global fold (does not have a test set)\n",
    "    # (Global fold's validation set is not appropriate: not really held out, because used for model 2 threshold picking and for fine-tuning the language models)\n",
    "    for fold_id in config.cross_validation_fold_ids:\n",
    "        fig, ax, df, boxplot_significance_test, auc, rank_stats = plot(\n",
    "            fold_id=fold_id,\n",
    "            gene_locus=gene_locus,\n",
    "            target_obs_column=TargetObsColumnEnum.disease,\n",
    "        )\n",
    "\n",
    "        # Make report\n",
    "        rank_stats = \"\\n\".join(rank_stats)\n",
    "        report = f\"\"\"AUC of discovering known binders with our rankings: {auc:0.3f}\n",
    "{rank_stats}\n",
    "\n",
    "Boxplot p-value: {boxplot_significance_test.pvalue:.2e}, U-statistic={boxplot_significance_test.statistic:.4e}\n",
    "\"\"\"\n",
    "        print(f\"{gene_locus}, fold {fold_id}\")\n",
    "        print(report)\n",
    "\n",
    "        # Export\n",
    "        genetools.plots.savefig(\n",
    "            fig,\n",
    "            output_dir\n",
    "            / f\"known_binders_vs_healthy_controls.model3_rank_boxplot.fold_{fold_id}.png\",\n",
    "            dpi=300,\n",
    "        )\n",
    "        with open(\n",
    "            output_dir\n",
    "            / f\"known_binders_vs_healthy_controls.model3_rank_report.fold_{fold_id}.txt\",\n",
    "            \"w\",\n",
    "        ) as f:\n",
    "            f.write(report)\n",
    "        plt.close(fig)\n",
    "\n",
    "        # clear cache\n",
    "        io.clear_cached_fold_embeddings()\n",
    "        gc.collect()\n",
    "\n",
    "        print()\n",
    "        print(\"*\" * 60)\n",
    "        print()"
   ]
  },
  {
   "cell_type": "code",
   "execution_count": null,
   "metadata": {},
   "outputs": [],
   "source": []
  },
  {
   "cell_type": "code",
   "execution_count": null,
   "metadata": {},
   "outputs": [],
   "source": []
  }
 ],
 "metadata": {
  "jupytext": {
   "cell_metadata_filter": "-all"
  },
  "kernelspec": {
   "display_name": "py39-cuda-env",
   "language": "python",
   "name": "py39-cuda-env"
  },
  "language_info": {
   "codemirror_mode": {
    "name": "ipython",
    "version": 3
   },
   "file_extension": ".py",
   "mimetype": "text/x-python",
   "name": "python",
   "nbconvert_exporter": "python",
   "pygments_lexer": "ipython3",
   "version": "3.9.13"
  }
 },
 "nbformat": 4,
 "nbformat_minor": 4
}
