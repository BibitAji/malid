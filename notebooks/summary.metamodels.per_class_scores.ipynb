{
 "cells": [
  {
   "cell_type": "code",
   "execution_count": null,
   "metadata": {},
   "outputs": [],
   "source": []
  },
  {
   "cell_type": "code",
   "execution_count": 1,
   "metadata": {
    "execution": {
     "iopub.execute_input": "2024-07-26T21:04:04.704762Z",
     "iopub.status.busy": "2024-07-26T21:04:04.704174Z",
     "iopub.status.idle": "2024-07-26T21:04:10.881791Z",
     "shell.execute_reply": "2024-07-26T21:04:10.878621Z"
    },
    "lines_to_next_cell": 2
   },
   "outputs": [],
   "source": [
    "from pathlib import Path\n",
    "from summarynb import show, table, chunks\n",
    "from malid.external.summarynb_extras import plaintext\n",
    "from malid import config, logger\n",
    "from malid.train import train_metamodel\n",
    "from malid.datamodels import (\n",
    "    GeneLocus,\n",
    "    TargetObsColumnEnum,\n",
    "    map_cross_validation_split_strategy_to_default_target_obs_column,\n",
    ")\n",
    "import pandas as pd\n",
    "from IPython.display import display, Markdown\n",
    "from typing import Optional, List"
   ]
  },
  {
   "cell_type": "code",
   "execution_count": 2,
   "metadata": {
    "execution": {
     "iopub.execute_input": "2024-07-26T21:04:10.890188Z",
     "iopub.status.busy": "2024-07-26T21:04:10.889673Z",
     "iopub.status.idle": "2024-07-26T21:04:10.909227Z",
     "shell.execute_reply": "2024-07-26T21:04:10.907246Z"
    }
   },
   "outputs": [
    {
     "data": {
      "text/plain": [
       "'esm2_cdr3'"
      ]
     },
     "execution_count": 2,
     "metadata": {},
     "output_type": "execute_result"
    }
   ],
   "source": [
    "config.embedder.name"
   ]
  },
  {
   "cell_type": "code",
   "execution_count": 3,
   "id": "8e211c41",
   "metadata": {
    "execution": {
     "iopub.execute_input": "2024-07-26T21:04:10.915985Z",
     "iopub.status.busy": "2024-07-26T21:04:10.915467Z",
     "iopub.status.idle": "2024-07-26T21:04:10.928850Z",
     "shell.execute_reply": "2024-07-26T21:04:10.926467Z"
    }
   },
   "outputs": [
    {
     "data": {
      "text/plain": [
       "<TargetObsColumnEnum.disease: TargetObsColumn(obs_column_name='disease', is_target_binary_for_repertoire_composition_classifier=False, available_for_cross_validation_split_strategies={<CrossValidationSplitStrategy.adaptive_peak_disease_timepoints_leave_some_cohorts_out: CrossValidationSplitStrategyValue(data_sources_keep=[<DataSource.adaptive: 2>], stratify_by='disease', diseases_to_keep_all_subtypes=['Covid19', 'Healthy/Background'], subtypes_keep=[], filter_specimens_func_by_study_name={}, gene_loci_supported=<GeneLocus.TCR: 2>, exclude_study_names=[], include_study_names=['emerson-2017-natgen_train', 'immunecode-NIH', 'immunecode-ISB', 'emerson-2017-natgen_validation', 'immunecode-HUniv'], filter_out_specimens_funcs_global=[], study_names_for_held_out_set=['emerson-2017-natgen_validation', 'immunecode-HUniv'])>, <CrossValidationSplitStrategy.in_house_peak_disease_leave_another_lupus_cohort_out: CrossValidationSplitStrategyValue(data_sources_keep=[<DataSource.in_house: 1>], stratify_by='disease', diseases_to_keep_all_subtypes=['Healthy/Background', 'HIV', 'Lupus', 'T1D'], subtypes_keep=['Covid19 - Sero-positive (ICU)', 'Covid19 - Sero-positive (Admit)', 'Covid19 - Acute 2', 'Covid19 - Admit', 'Covid19 - ICU', 'Influenza vaccine 2021 - day 7'], filter_specimens_func_by_study_name={'Covid19-buffycoat': <function acute_disease_choose_most_peak_timepoint at 0x7fa09373f280>, 'Covid19-Stanford': <function acute_disease_choose_most_peak_timepoint at 0x7fa09373f280>}, gene_loci_supported=<GeneLocus.BCR|TCR: 3>, exclude_study_names=['IBD pre-pandemic Yoni'], include_study_names=None, filter_out_specimens_funcs_global=[], study_names_for_held_out_set=['New Lupus RNA'])>, <CrossValidationSplitStrategy.in_house_peak_disease_leave_one_cohort_out: CrossValidationSplitStrategyValue(data_sources_keep=[<DataSource.in_house: 1>], stratify_by='disease', diseases_to_keep_all_subtypes=['Healthy/Background', 'HIV', 'Lupus', 'T1D'], subtypes_keep=['Covid19 - Sero-positive (ICU)', 'Covid19 - Sero-positive (Admit)', 'Covid19 - Acute 2', 'Covid19 - Admit', 'Covid19 - ICU', 'Influenza vaccine 2021 - day 7'], filter_specimens_func_by_study_name={'Covid19-buffycoat': <function acute_disease_choose_most_peak_timepoint at 0x7fa09373f280>, 'Covid19-Stanford': <function acute_disease_choose_most_peak_timepoint at 0x7fa09373f280>}, gene_loci_supported=<GeneLocus.BCR|TCR: 3>, exclude_study_names=['IBD pre-pandemic Yoni'], include_study_names=None, filter_out_specimens_funcs_global=[], study_names_for_held_out_set=['Covid19-buffycoat', 'Healthy-StanfordBloodCenter_included-in-resequencing'])>, <CrossValidationSplitStrategy.in_house_peak_disease_leave_two_lupus_cohorts_out: CrossValidationSplitStrategyValue(data_sources_keep=[<DataSource.in_house: 1>], stratify_by='disease', diseases_to_keep_all_subtypes=['Healthy/Background', 'HIV', 'Lupus', 'T1D'], subtypes_keep=['Covid19 - Sero-positive (ICU)', 'Covid19 - Sero-positive (Admit)', 'Covid19 - Acute 2', 'Covid19 - Admit', 'Covid19 - ICU', 'Influenza vaccine 2021 - day 7'], filter_specimens_func_by_study_name={'Covid19-buffycoat': <function acute_disease_choose_most_peak_timepoint at 0x7fa09373f280>, 'Covid19-Stanford': <function acute_disease_choose_most_peak_timepoint at 0x7fa09373f280>}, gene_loci_supported=<GeneLocus.BCR|TCR: 3>, exclude_study_names=['IBD pre-pandemic Yoni'], include_study_names=None, filter_out_specimens_funcs_global=[], study_names_for_held_out_set=['New Lupus RNA', 'New Lupus Paxgene'])>, <CrossValidationSplitStrategy.adaptive_peak_disease_timepoints: CrossValidationSplitStrategyValue(data_sources_keep=[<DataSource.adaptive: 2>], stratify_by='disease', diseases_to_keep_all_subtypes=['Covid19', 'CVID', 'Healthy/Background', 'HIV', 'T1D'], subtypes_keep=['RA - sero-positive'], filter_specimens_func_by_study_name={}, gene_loci_supported=<GeneLocus.TCR: 2>, exclude_study_names=[], include_study_names=None, filter_out_specimens_funcs_global=[], study_names_for_held_out_set=None)>, <CrossValidationSplitStrategy.in_house_peak_disease_leave_one_lupus_cohort_out: CrossValidationSplitStrategyValue(data_sources_keep=[<DataSource.in_house: 1>], stratify_by='disease', diseases_to_keep_all_subtypes=['Healthy/Background', 'HIV', 'Lupus', 'T1D'], subtypes_keep=['Covid19 - Sero-positive (ICU)', 'Covid19 - Sero-positive (Admit)', 'Covid19 - Acute 2', 'Covid19 - Admit', 'Covid19 - ICU', 'Influenza vaccine 2021 - day 7'], filter_specimens_func_by_study_name={'Covid19-buffycoat': <function acute_disease_choose_most_peak_timepoint at 0x7fa09373f280>, 'Covid19-Stanford': <function acute_disease_choose_most_peak_timepoint at 0x7fa09373f280>}, gene_loci_supported=<GeneLocus.BCR|TCR: 3>, exclude_study_names=['IBD pre-pandemic Yoni'], include_study_names=None, filter_out_specimens_funcs_global=[], study_names_for_held_out_set=['New Lupus Paxgene'])>, <CrossValidationSplitStrategy.in_house_peak_disease_timepoints: CrossValidationSplitStrategyValue(data_sources_keep=[<DataSource.in_house: 1>], stratify_by='disease', diseases_to_keep_all_subtypes=['Healthy/Background', 'HIV', 'Lupus', 'T1D'], subtypes_keep=['Covid19 - Sero-positive (ICU)', 'Covid19 - Sero-positive (Admit)', 'Covid19 - Acute 2', 'Covid19 - Admit', 'Covid19 - ICU', 'Influenza vaccine 2021 - day 7'], filter_specimens_func_by_study_name={'Covid19-buffycoat': <function acute_disease_choose_most_peak_timepoint at 0x7fa09373f280>, 'Covid19-Stanford': <function acute_disease_choose_most_peak_timepoint at 0x7fa09373f280>}, gene_loci_supported=<GeneLocus.BCR|TCR: 3>, exclude_study_names=['IBD pre-pandemic Yoni'], include_study_names=None, filter_out_specimens_funcs_global=[], study_names_for_held_out_set=None)>}, limited_to_disease=None, limited_to_disease_subtype=None, limited_to_specimen_description=None, limited_to_study_name=None, limited_to_gene_locus=None, filter_adata_obs_func=None, require_metadata_columns_present=None, confusion_matrix_expanded_column_name='disease.separate_past_exposures', blended_evaluation_column_name='disease.rollup', convergent_clustering_p_values=None)>"
      ]
     },
     "execution_count": 3,
     "metadata": {},
     "output_type": "execute_result"
    }
   ],
   "source": [
    "# get default classification target, e.g. TargetObsColumnEnum.disease\n",
    "default_target_obs_column = (\n",
    "    map_cross_validation_split_strategy_to_default_target_obs_column[\n",
    "        config.cross_validation_split_strategy\n",
    "    ]\n",
    ")\n",
    "default_target_obs_column"
   ]
  },
  {
   "cell_type": "code",
   "execution_count": null,
   "metadata": {},
   "outputs": [],
   "source": []
  },
  {
   "cell_type": "markdown",
   "metadata": {},
   "source": [
    "# Metamodel per-class OvR ROC AUC scores\n",
    "\n",
    "Abstentions consistent across metamodel flavors from the same gene locus. e.g. the model1-only metamodel is forced to abstain wherever the model2-only metamodel abstained.\n",
    "\n",
    "Color scales consistent between metamodel names.\n",
    "\n",
    "Also includes a row for the average-across-class-pairs OvO score we normally report, but again now with consistent abstentions across flavors.\n",
    "\n",
    "Note that BCR and BCR+TCR are not comparable, because the sample sizes are different. (TCR and BCR+TCR have the same sample size because there are no TCR-only cohorts, but still are not comparable because abstentions are not forced to be identical across GeneLocus settings.)"
   ]
  },
  {
   "cell_type": "code",
   "execution_count": 4,
   "metadata": {
    "execution": {
     "iopub.execute_input": "2024-07-26T21:04:10.936415Z",
     "iopub.status.busy": "2024-07-26T21:04:10.935715Z",
     "iopub.status.idle": "2024-07-26T21:04:10.965788Z",
     "shell.execute_reply": "2024-07-26T21:04:10.963629Z"
    }
   },
   "outputs": [
    {
     "data": {
      "text/html": [
       "<table><tr><td style=\"text-align: center\"><img src=\"../out/in_house_peak_disease_timepoints/esm2_cdr3/blending_metamodel/disease.roc_auc_per_class.lasso_cv.png\" style=\"max-width: 1200px; max-height: 800px;\" /></td></tr></table>"
      ],
      "text/plain": [
       "<IPython.core.display.HTML object>"
      ]
     },
     "metadata": {},
     "output_type": "display_data"
    },
    {
     "data": {
      "text/html": [
       "<table><tr><td style=\"text-align: center\"><img src=\"../out/in_house_peak_disease_timepoints/esm2_cdr3/blending_metamodel/disease.roc_auc_per_class.elasticnet_cv.png\" style=\"max-width: 1200px; max-height: 800px;\" /></td></tr></table>"
      ],
      "text/plain": [
       "<IPython.core.display.HTML object>"
      ]
     },
     "metadata": {},
     "output_type": "display_data"
    },
    {
     "data": {
      "text/html": [
       "<table><tr><td style=\"text-align: center\"><img src=\"../out/in_house_peak_disease_timepoints/esm2_cdr3/blending_metamodel/disease.roc_auc_per_class.ridge_cv.png\" style=\"max-width: 1200px; max-height: 800px;\" /></td></tr></table>"
      ],
      "text/plain": [
       "<IPython.core.display.HTML object>"
      ]
     },
     "metadata": {},
     "output_type": "display_data"
    },
    {
     "data": {
      "text/html": [
       "<table><tr><td style=\"text-align: center\"><img src=\"../out/in_house_peak_disease_timepoints/esm2_cdr3/blending_metamodel/disease.roc_auc_per_class.rf_multiclass.png\" style=\"max-width: 1200px; max-height: 800px;\" /></td></tr></table>"
      ],
      "text/plain": [
       "<IPython.core.display.HTML object>"
      ]
     },
     "metadata": {},
     "output_type": "display_data"
    },
    {
     "data": {
      "text/html": [
       "<table><tr><td style=\"text-align: center\"><img src=\"../out/in_house_peak_disease_timepoints/esm2_cdr3/blending_metamodel/disease.roc_auc_per_class.linearsvm_ovr.png\" style=\"max-width: 1200px; max-height: 800px;\" /></td></tr></table>"
      ],
      "text/plain": [
       "<IPython.core.display.HTML object>"
      ]
     },
     "metadata": {},
     "output_type": "display_data"
    }
   ],
   "source": [
    "for model_name in [\n",
    "    \"lasso_cv\",\n",
    "    \"elasticnet_cv\",\n",
    "    \"ridge_cv\",\n",
    "    \"rf_multiclass\",\n",
    "    \"linearsvm_ovr\",\n",
    "]:\n",
    "    show(\n",
    "        config.paths.second_stage_blending_metamodel_output_dir\n",
    "        / f\"{default_target_obs_column.name}.roc_auc_per_class.{model_name}.png\",\n",
    "        max_width=1200,\n",
    "    )"
   ]
  },
  {
   "cell_type": "code",
   "execution_count": null,
   "metadata": {
    "lines_to_next_cell": 2
   },
   "outputs": [],
   "source": []
  },
  {
   "cell_type": "markdown",
   "metadata": {
    "lines_to_next_cell": 2
   },
   "source": [
    "# Metamodel pairwise ROC AUC scores\n",
    "\n",
    "Headers are the multiclass weighted ROC AUC scores"
   ]
  },
  {
   "cell_type": "code",
   "execution_count": 5,
   "metadata": {
    "execution": {
     "iopub.execute_input": "2024-07-26T21:04:10.972827Z",
     "iopub.status.busy": "2024-07-26T21:04:10.972249Z",
     "iopub.status.idle": "2024-07-26T21:04:10.994704Z",
     "shell.execute_reply": "2024-07-26T21:04:10.992762Z"
    }
   },
   "outputs": [],
   "source": [
    "def pairwise_summary(\n",
    "    gene_locus: GeneLocus,\n",
    "    target_obs_column: TargetObsColumnEnum,\n",
    "):\n",
    "    base_model_train_fold_name = \"train_smaller\"\n",
    "    metamodel_fold_label_train = \"validation\"\n",
    "    display(Markdown(f\"## {gene_locus}, {target_obs_column}\"))\n",
    "    try:\n",
    "        flavors = train_metamodel.get_metamodel_flavors(\n",
    "            gene_locus=gene_locus,\n",
    "            target_obs_column=target_obs_column,\n",
    "            fold_id=config.all_fold_ids[0],\n",
    "            base_model_train_fold_name=base_model_train_fold_name,\n",
    "            use_stubs_instead_of_submodels=True,\n",
    "        )\n",
    "    except Exception as err:\n",
    "        logger.warning(\n",
    "            f\"Failed to generate metamodel flavors for {gene_locus}, {target_obs_column}: {err}\"\n",
    "        )\n",
    "        return\n",
    "    for metamodel_flavor, metamodel_config in flavors.items():\n",
    "        _output_suffix = (\n",
    "            Path(gene_locus.name)\n",
    "            / target_obs_column.name\n",
    "            / metamodel_flavor\n",
    "            / f\"{base_model_train_fold_name}_applied_to_{metamodel_fold_label_train}_model\"\n",
    "        )\n",
    "        results_output_prefix = (\n",
    "            config.paths.second_stage_blending_metamodel_output_dir / _output_suffix\n",
    "        )\n",
    "        highres_results_output_prefix = (\n",
    "            config.paths.high_res_outputs_dir / \"metamodel\" / _output_suffix\n",
    "        )\n",
    "\n",
    "        # Load multiclass ROC AUC scores for these models\n",
    "        # (show mean across cross validation folds - remove +/- stddev)\n",
    "        try:\n",
    "            multiclass_scores = (\n",
    "                pd.read_csv(\n",
    "                    f\"{results_output_prefix}.compare_model_scores.test_set_performance.tsv\",\n",
    "                    sep=\"\\t\",\n",
    "                    index_col=0,\n",
    "                )[\"ROC-AUC (weighted OvO) per fold\"]\n",
    "                .str.split(\" +/-\", regex=False)\n",
    "                .str[0]\n",
    "            )\n",
    "        except FileNotFoundError as err:\n",
    "            # This can happen because use_stubs_instead_of_submodels=True above means some non-existent flavors will be generated\n",
    "            logger.warning(\n",
    "                f\"File not found for {gene_locus}, {target_obs_column}, flavor {metamodel_flavor}: {err}\"\n",
    "            )\n",
    "            continue\n",
    "\n",
    "        display(Markdown(f\"#### {metamodel_flavor}\"))\n",
    "\n",
    "        model_names = config.model_names_to_train\n",
    "        show(\n",
    "            [\n",
    "                f\"{highres_results_output_prefix}.pairwise_roc_auc_scores.{model_name}.png\"\n",
    "                for model_name in model_names\n",
    "            ],\n",
    "            max_width=400,\n",
    "            headers=[\n",
    "                f\"{model_name}: {multiclass_scores.loc[model_name]}\"\n",
    "                for model_name in model_names\n",
    "            ],\n",
    "        )"
   ]
  },
  {
   "cell_type": "code",
   "execution_count": null,
   "metadata": {},
   "outputs": [],
   "source": []
  },
  {
   "cell_type": "code",
   "execution_count": 6,
   "metadata": {
    "execution": {
     "iopub.execute_input": "2024-07-26T21:04:11.001559Z",
     "iopub.status.busy": "2024-07-26T21:04:11.001138Z",
     "iopub.status.idle": "2024-07-26T21:04:11.121501Z",
     "shell.execute_reply": "2024-07-26T21:04:11.119649Z"
    }
   },
   "outputs": [
    {
     "data": {
      "text/markdown": [
       "## GeneLocus.BCR|TCR, TargetObsColumnEnum.disease"
      ],
      "text/plain": [
       "<IPython.core.display.Markdown object>"
      ]
     },
     "metadata": {},
     "output_type": "display_data"
    },
    {
     "data": {
      "text/markdown": [
       "#### default"
      ],
      "text/plain": [
       "<IPython.core.display.Markdown object>"
      ]
     },
     "metadata": {},
     "output_type": "display_data"
    },
    {
     "data": {
      "text/html": [
       "<table><tr><th style=\"text-align: center\">dummy_most_frequent: 0.500</th>\n",
       "<th style=\"text-align: center\">dummy_stratified: 0.494</th>\n",
       "<th style=\"text-align: center\">lasso_cv: 0.980</th>\n",
       "<th style=\"text-align: center\">elasticnet_cv0.75: 0.978</th>\n",
       "<th style=\"text-align: center\">elasticnet_cv: 0.981</th>\n",
       "<th style=\"text-align: center\">elasticnet_cv0.25: 0.984</th>\n",
       "<th style=\"text-align: center\">ridge_cv: 0.986</th>\n",
       "<th style=\"text-align: center\">logisticregression_unregularized: 0.975</th>\n",
       "<th style=\"text-align: center\">rf_multiclass: 0.981</th>\n",
       "<th style=\"text-align: center\">linearsvm_ovr: 0.967</th></tr><tr><td style=\"text-align: center\"><img src=\"../data/data_v_20231027/in_house_peak_disease_timepoints/embedded/esm2_cdr3/high_res_outputs/metamodel/BCR_TCR/disease/default/train_smaller_applied_to_validation_model.pairwise_roc_auc_scores.dummy_most_frequent.png\" style=\"max-width: 400px; max-height: 800px;\" /></td>\n",
       "<td style=\"text-align: center\"><img src=\"../data/data_v_20231027/in_house_peak_disease_timepoints/embedded/esm2_cdr3/high_res_outputs/metamodel/BCR_TCR/disease/default/train_smaller_applied_to_validation_model.pairwise_roc_auc_scores.dummy_stratified.png\" style=\"max-width: 400px; max-height: 800px;\" /></td>\n",
       "<td style=\"text-align: center\"><img src=\"../data/data_v_20231027/in_house_peak_disease_timepoints/embedded/esm2_cdr3/high_res_outputs/metamodel/BCR_TCR/disease/default/train_smaller_applied_to_validation_model.pairwise_roc_auc_scores.lasso_cv.png\" style=\"max-width: 400px; max-height: 800px;\" /></td>\n",
       "<td style=\"text-align: center\"><img src=\"../data/data_v_20231027/in_house_peak_disease_timepoints/embedded/esm2_cdr3/high_res_outputs/metamodel/BCR_TCR/disease/default/train_smaller_applied_to_validation_model.pairwise_roc_auc_scores.elasticnet_cv0.75.png\" style=\"max-width: 400px; max-height: 800px;\" /></td>\n",
       "<td style=\"text-align: center\"><img src=\"../data/data_v_20231027/in_house_peak_disease_timepoints/embedded/esm2_cdr3/high_res_outputs/metamodel/BCR_TCR/disease/default/train_smaller_applied_to_validation_model.pairwise_roc_auc_scores.elasticnet_cv.png\" style=\"max-width: 400px; max-height: 800px;\" /></td>\n",
       "<td style=\"text-align: center\"><img src=\"../data/data_v_20231027/in_house_peak_disease_timepoints/embedded/esm2_cdr3/high_res_outputs/metamodel/BCR_TCR/disease/default/train_smaller_applied_to_validation_model.pairwise_roc_auc_scores.elasticnet_cv0.25.png\" style=\"max-width: 400px; max-height: 800px;\" /></td>\n",
       "<td style=\"text-align: center\"><img src=\"../data/data_v_20231027/in_house_peak_disease_timepoints/embedded/esm2_cdr3/high_res_outputs/metamodel/BCR_TCR/disease/default/train_smaller_applied_to_validation_model.pairwise_roc_auc_scores.ridge_cv.png\" style=\"max-width: 400px; max-height: 800px;\" /></td>\n",
       "<td style=\"text-align: center\"><img src=\"../data/data_v_20231027/in_house_peak_disease_timepoints/embedded/esm2_cdr3/high_res_outputs/metamodel/BCR_TCR/disease/default/train_smaller_applied_to_validation_model.pairwise_roc_auc_scores.logisticregression_unregularized.png\" style=\"max-width: 400px; max-height: 800px;\" /></td>\n",
       "<td style=\"text-align: center\"><img src=\"../data/data_v_20231027/in_house_peak_disease_timepoints/embedded/esm2_cdr3/high_res_outputs/metamodel/BCR_TCR/disease/default/train_smaller_applied_to_validation_model.pairwise_roc_auc_scores.rf_multiclass.png\" style=\"max-width: 400px; max-height: 800px;\" /></td>\n",
       "<td style=\"text-align: center\"><img src=\"../data/data_v_20231027/in_house_peak_disease_timepoints/embedded/esm2_cdr3/high_res_outputs/metamodel/BCR_TCR/disease/default/train_smaller_applied_to_validation_model.pairwise_roc_auc_scores.linearsvm_ovr.png\" style=\"max-width: 400px; max-height: 800px;\" /></td></tr></table>"
      ],
      "text/plain": [
       "<IPython.core.display.HTML object>"
      ]
     },
     "metadata": {},
     "output_type": "display_data"
    },
    {
     "data": {
      "text/markdown": [
       "#### subset_of_submodels_repertoire_stats"
      ],
      "text/plain": [
       "<IPython.core.display.Markdown object>"
      ]
     },
     "metadata": {},
     "output_type": "display_data"
    },
    {
     "data": {
      "text/html": [
       "<table><tr><th style=\"text-align: center\">dummy_most_frequent: 0.500</th>\n",
       "<th style=\"text-align: center\">dummy_stratified: 0.502</th>\n",
       "<th style=\"text-align: center\">lasso_cv: 0.968</th>\n",
       "<th style=\"text-align: center\">elasticnet_cv0.75: 0.968</th>\n",
       "<th style=\"text-align: center\">elasticnet_cv: 0.967</th>\n",
       "<th style=\"text-align: center\">elasticnet_cv0.25: 0.967</th>\n",
       "<th style=\"text-align: center\">ridge_cv: 0.971</th>\n",
       "<th style=\"text-align: center\">logisticregression_unregularized: 0.932</th>\n",
       "<th style=\"text-align: center\">rf_multiclass: 0.970</th>\n",
       "<th style=\"text-align: center\">linearsvm_ovr: 0.962</th></tr><tr><td style=\"text-align: center\"><img src=\"../data/data_v_20231027/in_house_peak_disease_timepoints/embedded/esm2_cdr3/high_res_outputs/metamodel/BCR_TCR/disease/subset_of_submodels_repertoire_stats/train_smaller_applied_to_validation_model.pairwise_roc_auc_scores.dummy_most_frequent.png\" style=\"max-width: 400px; max-height: 800px;\" /></td>\n",
       "<td style=\"text-align: center\"><img src=\"../data/data_v_20231027/in_house_peak_disease_timepoints/embedded/esm2_cdr3/high_res_outputs/metamodel/BCR_TCR/disease/subset_of_submodels_repertoire_stats/train_smaller_applied_to_validation_model.pairwise_roc_auc_scores.dummy_stratified.png\" style=\"max-width: 400px; max-height: 800px;\" /></td>\n",
       "<td style=\"text-align: center\"><img src=\"../data/data_v_20231027/in_house_peak_disease_timepoints/embedded/esm2_cdr3/high_res_outputs/metamodel/BCR_TCR/disease/subset_of_submodels_repertoire_stats/train_smaller_applied_to_validation_model.pairwise_roc_auc_scores.lasso_cv.png\" style=\"max-width: 400px; max-height: 800px;\" /></td>\n",
       "<td style=\"text-align: center\"><img src=\"../data/data_v_20231027/in_house_peak_disease_timepoints/embedded/esm2_cdr3/high_res_outputs/metamodel/BCR_TCR/disease/subset_of_submodels_repertoire_stats/train_smaller_applied_to_validation_model.pairwise_roc_auc_scores.elasticnet_cv0.75.png\" style=\"max-width: 400px; max-height: 800px;\" /></td>\n",
       "<td style=\"text-align: center\"><img src=\"../data/data_v_20231027/in_house_peak_disease_timepoints/embedded/esm2_cdr3/high_res_outputs/metamodel/BCR_TCR/disease/subset_of_submodels_repertoire_stats/train_smaller_applied_to_validation_model.pairwise_roc_auc_scores.elasticnet_cv.png\" style=\"max-width: 400px; max-height: 800px;\" /></td>\n",
       "<td style=\"text-align: center\"><img src=\"../data/data_v_20231027/in_house_peak_disease_timepoints/embedded/esm2_cdr3/high_res_outputs/metamodel/BCR_TCR/disease/subset_of_submodels_repertoire_stats/train_smaller_applied_to_validation_model.pairwise_roc_auc_scores.elasticnet_cv0.25.png\" style=\"max-width: 400px; max-height: 800px;\" /></td>\n",
       "<td style=\"text-align: center\"><img src=\"../data/data_v_20231027/in_house_peak_disease_timepoints/embedded/esm2_cdr3/high_res_outputs/metamodel/BCR_TCR/disease/subset_of_submodels_repertoire_stats/train_smaller_applied_to_validation_model.pairwise_roc_auc_scores.ridge_cv.png\" style=\"max-width: 400px; max-height: 800px;\" /></td>\n",
       "<td style=\"text-align: center\"><img src=\"../data/data_v_20231027/in_house_peak_disease_timepoints/embedded/esm2_cdr3/high_res_outputs/metamodel/BCR_TCR/disease/subset_of_submodels_repertoire_stats/train_smaller_applied_to_validation_model.pairwise_roc_auc_scores.logisticregression_unregularized.png\" style=\"max-width: 400px; max-height: 800px;\" /></td>\n",
       "<td style=\"text-align: center\"><img src=\"../data/data_v_20231027/in_house_peak_disease_timepoints/embedded/esm2_cdr3/high_res_outputs/metamodel/BCR_TCR/disease/subset_of_submodels_repertoire_stats/train_smaller_applied_to_validation_model.pairwise_roc_auc_scores.rf_multiclass.png\" style=\"max-width: 400px; max-height: 800px;\" /></td>\n",
       "<td style=\"text-align: center\"><img src=\"../data/data_v_20231027/in_house_peak_disease_timepoints/embedded/esm2_cdr3/high_res_outputs/metamodel/BCR_TCR/disease/subset_of_submodels_repertoire_stats/train_smaller_applied_to_validation_model.pairwise_roc_auc_scores.linearsvm_ovr.png\" style=\"max-width: 400px; max-height: 800px;\" /></td></tr></table>"
      ],
      "text/plain": [
       "<IPython.core.display.HTML object>"
      ]
     },
     "metadata": {},
     "output_type": "display_data"
    },
    {
     "data": {
      "text/markdown": [
       "#### subset_of_submodels_convergent_cluster_model"
      ],
      "text/plain": [
       "<IPython.core.display.Markdown object>"
      ]
     },
     "metadata": {},
     "output_type": "display_data"
    },
    {
     "data": {
      "text/html": [
       "<table><tr><th style=\"text-align: center\">dummy_most_frequent: 0.500</th>\n",
       "<th style=\"text-align: center\">dummy_stratified: 0.494</th>\n",
       "<th style=\"text-align: center\">lasso_cv: 0.930</th>\n",
       "<th style=\"text-align: center\">elasticnet_cv0.75: 0.928</th>\n",
       "<th style=\"text-align: center\">elasticnet_cv: 0.925</th>\n",
       "<th style=\"text-align: center\">elasticnet_cv0.25: 0.924</th>\n",
       "<th style=\"text-align: center\">ridge_cv: 0.922</th>\n",
       "<th style=\"text-align: center\">logisticregression_unregularized: 0.920</th>\n",
       "<th style=\"text-align: center\">rf_multiclass: 0.924</th>\n",
       "<th style=\"text-align: center\">linearsvm_ovr: 0.930</th></tr><tr><td style=\"text-align: center\"><img src=\"../data/data_v_20231027/in_house_peak_disease_timepoints/embedded/esm2_cdr3/high_res_outputs/metamodel/BCR_TCR/disease/subset_of_submodels_convergent_cluster_model/train_smaller_applied_to_validation_model.pairwise_roc_auc_scores.dummy_most_frequent.png\" style=\"max-width: 400px; max-height: 800px;\" /></td>\n",
       "<td style=\"text-align: center\"><img src=\"../data/data_v_20231027/in_house_peak_disease_timepoints/embedded/esm2_cdr3/high_res_outputs/metamodel/BCR_TCR/disease/subset_of_submodels_convergent_cluster_model/train_smaller_applied_to_validation_model.pairwise_roc_auc_scores.dummy_stratified.png\" style=\"max-width: 400px; max-height: 800px;\" /></td>\n",
       "<td style=\"text-align: center\"><img src=\"../data/data_v_20231027/in_house_peak_disease_timepoints/embedded/esm2_cdr3/high_res_outputs/metamodel/BCR_TCR/disease/subset_of_submodels_convergent_cluster_model/train_smaller_applied_to_validation_model.pairwise_roc_auc_scores.lasso_cv.png\" style=\"max-width: 400px; max-height: 800px;\" /></td>\n",
       "<td style=\"text-align: center\"><img src=\"../data/data_v_20231027/in_house_peak_disease_timepoints/embedded/esm2_cdr3/high_res_outputs/metamodel/BCR_TCR/disease/subset_of_submodels_convergent_cluster_model/train_smaller_applied_to_validation_model.pairwise_roc_auc_scores.elasticnet_cv0.75.png\" style=\"max-width: 400px; max-height: 800px;\" /></td>\n",
       "<td style=\"text-align: center\"><img src=\"../data/data_v_20231027/in_house_peak_disease_timepoints/embedded/esm2_cdr3/high_res_outputs/metamodel/BCR_TCR/disease/subset_of_submodels_convergent_cluster_model/train_smaller_applied_to_validation_model.pairwise_roc_auc_scores.elasticnet_cv.png\" style=\"max-width: 400px; max-height: 800px;\" /></td>\n",
       "<td style=\"text-align: center\"><img src=\"../data/data_v_20231027/in_house_peak_disease_timepoints/embedded/esm2_cdr3/high_res_outputs/metamodel/BCR_TCR/disease/subset_of_submodels_convergent_cluster_model/train_smaller_applied_to_validation_model.pairwise_roc_auc_scores.elasticnet_cv0.25.png\" style=\"max-width: 400px; max-height: 800px;\" /></td>\n",
       "<td style=\"text-align: center\"><img src=\"../data/data_v_20231027/in_house_peak_disease_timepoints/embedded/esm2_cdr3/high_res_outputs/metamodel/BCR_TCR/disease/subset_of_submodels_convergent_cluster_model/train_smaller_applied_to_validation_model.pairwise_roc_auc_scores.ridge_cv.png\" style=\"max-width: 400px; max-height: 800px;\" /></td>\n",
       "<td style=\"text-align: center\"><img src=\"../data/data_v_20231027/in_house_peak_disease_timepoints/embedded/esm2_cdr3/high_res_outputs/metamodel/BCR_TCR/disease/subset_of_submodels_convergent_cluster_model/train_smaller_applied_to_validation_model.pairwise_roc_auc_scores.logisticregression_unregularized.png\" style=\"max-width: 400px; max-height: 800px;\" /></td>\n",
       "<td style=\"text-align: center\"><img src=\"../data/data_v_20231027/in_house_peak_disease_timepoints/embedded/esm2_cdr3/high_res_outputs/metamodel/BCR_TCR/disease/subset_of_submodels_convergent_cluster_model/train_smaller_applied_to_validation_model.pairwise_roc_auc_scores.rf_multiclass.png\" style=\"max-width: 400px; max-height: 800px;\" /></td>\n",
       "<td style=\"text-align: center\"><img src=\"../data/data_v_20231027/in_house_peak_disease_timepoints/embedded/esm2_cdr3/high_res_outputs/metamodel/BCR_TCR/disease/subset_of_submodels_convergent_cluster_model/train_smaller_applied_to_validation_model.pairwise_roc_auc_scores.linearsvm_ovr.png\" style=\"max-width: 400px; max-height: 800px;\" /></td></tr></table>"
      ],
      "text/plain": [
       "<IPython.core.display.HTML object>"
      ]
     },
     "metadata": {},
     "output_type": "display_data"
    },
    {
     "data": {
      "text/markdown": [
       "#### subset_of_submodels_sequence_model"
      ],
      "text/plain": [
       "<IPython.core.display.Markdown object>"
      ]
     },
     "metadata": {},
     "output_type": "display_data"
    },
    {
     "data": {
      "text/html": [
       "<table><tr><th style=\"text-align: center\">dummy_most_frequent: 0.500</th>\n",
       "<th style=\"text-align: center\">dummy_stratified: 0.495</th>\n",
       "<th style=\"text-align: center\">lasso_cv: 0.971</th>\n",
       "<th style=\"text-align: center\">elasticnet_cv0.75: 0.971</th>\n",
       "<th style=\"text-align: center\">elasticnet_cv: 0.972</th>\n",
       "<th style=\"text-align: center\">elasticnet_cv0.25: 0.974</th>\n",
       "<th style=\"text-align: center\">ridge_cv: 0.975</th>\n",
       "<th style=\"text-align: center\">logisticregression_unregularized: 0.942</th>\n",
       "<th style=\"text-align: center\">rf_multiclass: 0.965</th>\n",
       "<th style=\"text-align: center\">linearsvm_ovr: 0.966</th></tr><tr><td style=\"text-align: center\"><img src=\"../data/data_v_20231027/in_house_peak_disease_timepoints/embedded/esm2_cdr3/high_res_outputs/metamodel/BCR_TCR/disease/subset_of_submodels_sequence_model/train_smaller_applied_to_validation_model.pairwise_roc_auc_scores.dummy_most_frequent.png\" style=\"max-width: 400px; max-height: 800px;\" /></td>\n",
       "<td style=\"text-align: center\"><img src=\"../data/data_v_20231027/in_house_peak_disease_timepoints/embedded/esm2_cdr3/high_res_outputs/metamodel/BCR_TCR/disease/subset_of_submodels_sequence_model/train_smaller_applied_to_validation_model.pairwise_roc_auc_scores.dummy_stratified.png\" style=\"max-width: 400px; max-height: 800px;\" /></td>\n",
       "<td style=\"text-align: center\"><img src=\"../data/data_v_20231027/in_house_peak_disease_timepoints/embedded/esm2_cdr3/high_res_outputs/metamodel/BCR_TCR/disease/subset_of_submodels_sequence_model/train_smaller_applied_to_validation_model.pairwise_roc_auc_scores.lasso_cv.png\" style=\"max-width: 400px; max-height: 800px;\" /></td>\n",
       "<td style=\"text-align: center\"><img src=\"../data/data_v_20231027/in_house_peak_disease_timepoints/embedded/esm2_cdr3/high_res_outputs/metamodel/BCR_TCR/disease/subset_of_submodels_sequence_model/train_smaller_applied_to_validation_model.pairwise_roc_auc_scores.elasticnet_cv0.75.png\" style=\"max-width: 400px; max-height: 800px;\" /></td>\n",
       "<td style=\"text-align: center\"><img src=\"../data/data_v_20231027/in_house_peak_disease_timepoints/embedded/esm2_cdr3/high_res_outputs/metamodel/BCR_TCR/disease/subset_of_submodels_sequence_model/train_smaller_applied_to_validation_model.pairwise_roc_auc_scores.elasticnet_cv.png\" style=\"max-width: 400px; max-height: 800px;\" /></td>\n",
       "<td style=\"text-align: center\"><img src=\"../data/data_v_20231027/in_house_peak_disease_timepoints/embedded/esm2_cdr3/high_res_outputs/metamodel/BCR_TCR/disease/subset_of_submodels_sequence_model/train_smaller_applied_to_validation_model.pairwise_roc_auc_scores.elasticnet_cv0.25.png\" style=\"max-width: 400px; max-height: 800px;\" /></td>\n",
       "<td style=\"text-align: center\"><img src=\"../data/data_v_20231027/in_house_peak_disease_timepoints/embedded/esm2_cdr3/high_res_outputs/metamodel/BCR_TCR/disease/subset_of_submodels_sequence_model/train_smaller_applied_to_validation_model.pairwise_roc_auc_scores.ridge_cv.png\" style=\"max-width: 400px; max-height: 800px;\" /></td>\n",
       "<td style=\"text-align: center\"><img src=\"../data/data_v_20231027/in_house_peak_disease_timepoints/embedded/esm2_cdr3/high_res_outputs/metamodel/BCR_TCR/disease/subset_of_submodels_sequence_model/train_smaller_applied_to_validation_model.pairwise_roc_auc_scores.logisticregression_unregularized.png\" style=\"max-width: 400px; max-height: 800px;\" /></td>\n",
       "<td style=\"text-align: center\"><img src=\"../data/data_v_20231027/in_house_peak_disease_timepoints/embedded/esm2_cdr3/high_res_outputs/metamodel/BCR_TCR/disease/subset_of_submodels_sequence_model/train_smaller_applied_to_validation_model.pairwise_roc_auc_scores.rf_multiclass.png\" style=\"max-width: 400px; max-height: 800px;\" /></td>\n",
       "<td style=\"text-align: center\"><img src=\"../data/data_v_20231027/in_house_peak_disease_timepoints/embedded/esm2_cdr3/high_res_outputs/metamodel/BCR_TCR/disease/subset_of_submodels_sequence_model/train_smaller_applied_to_validation_model.pairwise_roc_auc_scores.linearsvm_ovr.png\" style=\"max-width: 400px; max-height: 800px;\" /></td></tr></table>"
      ],
      "text/plain": [
       "<IPython.core.display.HTML object>"
      ]
     },
     "metadata": {},
     "output_type": "display_data"
    },
    {
     "data": {
      "text/markdown": [
       "#### subset_of_submodels_repertoire_stats_convergent_cluster_model"
      ],
      "text/plain": [
       "<IPython.core.display.Markdown object>"
      ]
     },
     "metadata": {},
     "output_type": "display_data"
    },
    {
     "data": {
      "text/html": [
       "<table><tr><th style=\"text-align: center\">dummy_most_frequent: 0.500</th>\n",
       "<th style=\"text-align: center\">dummy_stratified: 0.494</th>\n",
       "<th style=\"text-align: center\">lasso_cv: 0.973</th>\n",
       "<th style=\"text-align: center\">elasticnet_cv0.75: 0.975</th>\n",
       "<th style=\"text-align: center\">elasticnet_cv: 0.977</th>\n",
       "<th style=\"text-align: center\">elasticnet_cv0.25: 0.978</th>\n",
       "<th style=\"text-align: center\">ridge_cv: 0.981</th>\n",
       "<th style=\"text-align: center\">logisticregression_unregularized: 0.963</th>\n",
       "<th style=\"text-align: center\">rf_multiclass: 0.979</th>\n",
       "<th style=\"text-align: center\">linearsvm_ovr: 0.969</th></tr><tr><td style=\"text-align: center\"><img src=\"../data/data_v_20231027/in_house_peak_disease_timepoints/embedded/esm2_cdr3/high_res_outputs/metamodel/BCR_TCR/disease/subset_of_submodels_repertoire_stats_convergent_cluster_model/train_smaller_applied_to_validation_model.pairwise_roc_auc_scores.dummy_most_frequent.png\" style=\"max-width: 400px; max-height: 800px;\" /></td>\n",
       "<td style=\"text-align: center\"><img src=\"../data/data_v_20231027/in_house_peak_disease_timepoints/embedded/esm2_cdr3/high_res_outputs/metamodel/BCR_TCR/disease/subset_of_submodels_repertoire_stats_convergent_cluster_model/train_smaller_applied_to_validation_model.pairwise_roc_auc_scores.dummy_stratified.png\" style=\"max-width: 400px; max-height: 800px;\" /></td>\n",
       "<td style=\"text-align: center\"><img src=\"../data/data_v_20231027/in_house_peak_disease_timepoints/embedded/esm2_cdr3/high_res_outputs/metamodel/BCR_TCR/disease/subset_of_submodels_repertoire_stats_convergent_cluster_model/train_smaller_applied_to_validation_model.pairwise_roc_auc_scores.lasso_cv.png\" style=\"max-width: 400px; max-height: 800px;\" /></td>\n",
       "<td style=\"text-align: center\"><img src=\"../data/data_v_20231027/in_house_peak_disease_timepoints/embedded/esm2_cdr3/high_res_outputs/metamodel/BCR_TCR/disease/subset_of_submodels_repertoire_stats_convergent_cluster_model/train_smaller_applied_to_validation_model.pairwise_roc_auc_scores.elasticnet_cv0.75.png\" style=\"max-width: 400px; max-height: 800px;\" /></td>\n",
       "<td style=\"text-align: center\"><img src=\"../data/data_v_20231027/in_house_peak_disease_timepoints/embedded/esm2_cdr3/high_res_outputs/metamodel/BCR_TCR/disease/subset_of_submodels_repertoire_stats_convergent_cluster_model/train_smaller_applied_to_validation_model.pairwise_roc_auc_scores.elasticnet_cv.png\" style=\"max-width: 400px; max-height: 800px;\" /></td>\n",
       "<td style=\"text-align: center\"><img src=\"../data/data_v_20231027/in_house_peak_disease_timepoints/embedded/esm2_cdr3/high_res_outputs/metamodel/BCR_TCR/disease/subset_of_submodels_repertoire_stats_convergent_cluster_model/train_smaller_applied_to_validation_model.pairwise_roc_auc_scores.elasticnet_cv0.25.png\" style=\"max-width: 400px; max-height: 800px;\" /></td>\n",
       "<td style=\"text-align: center\"><img src=\"../data/data_v_20231027/in_house_peak_disease_timepoints/embedded/esm2_cdr3/high_res_outputs/metamodel/BCR_TCR/disease/subset_of_submodels_repertoire_stats_convergent_cluster_model/train_smaller_applied_to_validation_model.pairwise_roc_auc_scores.ridge_cv.png\" style=\"max-width: 400px; max-height: 800px;\" /></td>\n",
       "<td style=\"text-align: center\"><img src=\"../data/data_v_20231027/in_house_peak_disease_timepoints/embedded/esm2_cdr3/high_res_outputs/metamodel/BCR_TCR/disease/subset_of_submodels_repertoire_stats_convergent_cluster_model/train_smaller_applied_to_validation_model.pairwise_roc_auc_scores.logisticregression_unregularized.png\" style=\"max-width: 400px; max-height: 800px;\" /></td>\n",
       "<td style=\"text-align: center\"><img src=\"../data/data_v_20231027/in_house_peak_disease_timepoints/embedded/esm2_cdr3/high_res_outputs/metamodel/BCR_TCR/disease/subset_of_submodels_repertoire_stats_convergent_cluster_model/train_smaller_applied_to_validation_model.pairwise_roc_auc_scores.rf_multiclass.png\" style=\"max-width: 400px; max-height: 800px;\" /></td>\n",
       "<td style=\"text-align: center\"><img src=\"../data/data_v_20231027/in_house_peak_disease_timepoints/embedded/esm2_cdr3/high_res_outputs/metamodel/BCR_TCR/disease/subset_of_submodels_repertoire_stats_convergent_cluster_model/train_smaller_applied_to_validation_model.pairwise_roc_auc_scores.linearsvm_ovr.png\" style=\"max-width: 400px; max-height: 800px;\" /></td></tr></table>"
      ],
      "text/plain": [
       "<IPython.core.display.HTML object>"
      ]
     },
     "metadata": {},
     "output_type": "display_data"
    },
    {
     "data": {
      "text/markdown": [
       "#### subset_of_submodels_repertoire_stats_sequence_model"
      ],
      "text/plain": [
       "<IPython.core.display.Markdown object>"
      ]
     },
     "metadata": {},
     "output_type": "display_data"
    },
    {
     "data": {
      "text/html": [
       "<table><tr><th style=\"text-align: center\">dummy_most_frequent: 0.500</th>\n",
       "<th style=\"text-align: center\">dummy_stratified: 0.502</th>\n",
       "<th style=\"text-align: center\">lasso_cv: 0.975</th>\n",
       "<th style=\"text-align: center\">elasticnet_cv0.75: 0.978</th>\n",
       "<th style=\"text-align: center\">elasticnet_cv: 0.980</th>\n",
       "<th style=\"text-align: center\">elasticnet_cv0.25: 0.980</th>\n",
       "<th style=\"text-align: center\">ridge_cv: 0.982</th>\n",
       "<th style=\"text-align: center\">logisticregression_unregularized: 0.968</th>\n",
       "<th style=\"text-align: center\">rf_multiclass: 0.977</th>\n",
       "<th style=\"text-align: center\">linearsvm_ovr: 0.965</th></tr><tr><td style=\"text-align: center\"><img src=\"../data/data_v_20231027/in_house_peak_disease_timepoints/embedded/esm2_cdr3/high_res_outputs/metamodel/BCR_TCR/disease/subset_of_submodels_repertoire_stats_sequence_model/train_smaller_applied_to_validation_model.pairwise_roc_auc_scores.dummy_most_frequent.png\" style=\"max-width: 400px; max-height: 800px;\" /></td>\n",
       "<td style=\"text-align: center\"><img src=\"../data/data_v_20231027/in_house_peak_disease_timepoints/embedded/esm2_cdr3/high_res_outputs/metamodel/BCR_TCR/disease/subset_of_submodels_repertoire_stats_sequence_model/train_smaller_applied_to_validation_model.pairwise_roc_auc_scores.dummy_stratified.png\" style=\"max-width: 400px; max-height: 800px;\" /></td>\n",
       "<td style=\"text-align: center\"><img src=\"../data/data_v_20231027/in_house_peak_disease_timepoints/embedded/esm2_cdr3/high_res_outputs/metamodel/BCR_TCR/disease/subset_of_submodels_repertoire_stats_sequence_model/train_smaller_applied_to_validation_model.pairwise_roc_auc_scores.lasso_cv.png\" style=\"max-width: 400px; max-height: 800px;\" /></td>\n",
       "<td style=\"text-align: center\"><img src=\"../data/data_v_20231027/in_house_peak_disease_timepoints/embedded/esm2_cdr3/high_res_outputs/metamodel/BCR_TCR/disease/subset_of_submodels_repertoire_stats_sequence_model/train_smaller_applied_to_validation_model.pairwise_roc_auc_scores.elasticnet_cv0.75.png\" style=\"max-width: 400px; max-height: 800px;\" /></td>\n",
       "<td style=\"text-align: center\"><img src=\"../data/data_v_20231027/in_house_peak_disease_timepoints/embedded/esm2_cdr3/high_res_outputs/metamodel/BCR_TCR/disease/subset_of_submodels_repertoire_stats_sequence_model/train_smaller_applied_to_validation_model.pairwise_roc_auc_scores.elasticnet_cv.png\" style=\"max-width: 400px; max-height: 800px;\" /></td>\n",
       "<td style=\"text-align: center\"><img src=\"../data/data_v_20231027/in_house_peak_disease_timepoints/embedded/esm2_cdr3/high_res_outputs/metamodel/BCR_TCR/disease/subset_of_submodels_repertoire_stats_sequence_model/train_smaller_applied_to_validation_model.pairwise_roc_auc_scores.elasticnet_cv0.25.png\" style=\"max-width: 400px; max-height: 800px;\" /></td>\n",
       "<td style=\"text-align: center\"><img src=\"../data/data_v_20231027/in_house_peak_disease_timepoints/embedded/esm2_cdr3/high_res_outputs/metamodel/BCR_TCR/disease/subset_of_submodels_repertoire_stats_sequence_model/train_smaller_applied_to_validation_model.pairwise_roc_auc_scores.ridge_cv.png\" style=\"max-width: 400px; max-height: 800px;\" /></td>\n",
       "<td style=\"text-align: center\"><img src=\"../data/data_v_20231027/in_house_peak_disease_timepoints/embedded/esm2_cdr3/high_res_outputs/metamodel/BCR_TCR/disease/subset_of_submodels_repertoire_stats_sequence_model/train_smaller_applied_to_validation_model.pairwise_roc_auc_scores.logisticregression_unregularized.png\" style=\"max-width: 400px; max-height: 800px;\" /></td>\n",
       "<td style=\"text-align: center\"><img src=\"../data/data_v_20231027/in_house_peak_disease_timepoints/embedded/esm2_cdr3/high_res_outputs/metamodel/BCR_TCR/disease/subset_of_submodels_repertoire_stats_sequence_model/train_smaller_applied_to_validation_model.pairwise_roc_auc_scores.rf_multiclass.png\" style=\"max-width: 400px; max-height: 800px;\" /></td>\n",
       "<td style=\"text-align: center\"><img src=\"../data/data_v_20231027/in_house_peak_disease_timepoints/embedded/esm2_cdr3/high_res_outputs/metamodel/BCR_TCR/disease/subset_of_submodels_repertoire_stats_sequence_model/train_smaller_applied_to_validation_model.pairwise_roc_auc_scores.linearsvm_ovr.png\" style=\"max-width: 400px; max-height: 800px;\" /></td></tr></table>"
      ],
      "text/plain": [
       "<IPython.core.display.HTML object>"
      ]
     },
     "metadata": {},
     "output_type": "display_data"
    },
    {
     "data": {
      "text/markdown": [
       "#### subset_of_submodels_convergent_cluster_model_sequence_model"
      ],
      "text/plain": [
       "<IPython.core.display.Markdown object>"
      ]
     },
     "metadata": {},
     "output_type": "display_data"
    },
    {
     "data": {
      "text/html": [
       "<table><tr><th style=\"text-align: center\">dummy_most_frequent: 0.500</th>\n",
       "<th style=\"text-align: center\">dummy_stratified: 0.494</th>\n",
       "<th style=\"text-align: center\">lasso_cv: 0.976</th>\n",
       "<th style=\"text-align: center\">elasticnet_cv0.75: 0.981</th>\n",
       "<th style=\"text-align: center\">elasticnet_cv: 0.983</th>\n",
       "<th style=\"text-align: center\">elasticnet_cv0.25: 0.981</th>\n",
       "<th style=\"text-align: center\">ridge_cv: 0.982</th>\n",
       "<th style=\"text-align: center\">logisticregression_unregularized: 0.970</th>\n",
       "<th style=\"text-align: center\">rf_multiclass: 0.976</th>\n",
       "<th style=\"text-align: center\">linearsvm_ovr: 0.965</th></tr><tr><td style=\"text-align: center\"><img src=\"../data/data_v_20231027/in_house_peak_disease_timepoints/embedded/esm2_cdr3/high_res_outputs/metamodel/BCR_TCR/disease/subset_of_submodels_convergent_cluster_model_sequence_model/train_smaller_applied_to_validation_model.pairwise_roc_auc_scores.dummy_most_frequent.png\" style=\"max-width: 400px; max-height: 800px;\" /></td>\n",
       "<td style=\"text-align: center\"><img src=\"../data/data_v_20231027/in_house_peak_disease_timepoints/embedded/esm2_cdr3/high_res_outputs/metamodel/BCR_TCR/disease/subset_of_submodels_convergent_cluster_model_sequence_model/train_smaller_applied_to_validation_model.pairwise_roc_auc_scores.dummy_stratified.png\" style=\"max-width: 400px; max-height: 800px;\" /></td>\n",
       "<td style=\"text-align: center\"><img src=\"../data/data_v_20231027/in_house_peak_disease_timepoints/embedded/esm2_cdr3/high_res_outputs/metamodel/BCR_TCR/disease/subset_of_submodels_convergent_cluster_model_sequence_model/train_smaller_applied_to_validation_model.pairwise_roc_auc_scores.lasso_cv.png\" style=\"max-width: 400px; max-height: 800px;\" /></td>\n",
       "<td style=\"text-align: center\"><img src=\"../data/data_v_20231027/in_house_peak_disease_timepoints/embedded/esm2_cdr3/high_res_outputs/metamodel/BCR_TCR/disease/subset_of_submodels_convergent_cluster_model_sequence_model/train_smaller_applied_to_validation_model.pairwise_roc_auc_scores.elasticnet_cv0.75.png\" style=\"max-width: 400px; max-height: 800px;\" /></td>\n",
       "<td style=\"text-align: center\"><img src=\"../data/data_v_20231027/in_house_peak_disease_timepoints/embedded/esm2_cdr3/high_res_outputs/metamodel/BCR_TCR/disease/subset_of_submodels_convergent_cluster_model_sequence_model/train_smaller_applied_to_validation_model.pairwise_roc_auc_scores.elasticnet_cv.png\" style=\"max-width: 400px; max-height: 800px;\" /></td>\n",
       "<td style=\"text-align: center\"><img src=\"../data/data_v_20231027/in_house_peak_disease_timepoints/embedded/esm2_cdr3/high_res_outputs/metamodel/BCR_TCR/disease/subset_of_submodels_convergent_cluster_model_sequence_model/train_smaller_applied_to_validation_model.pairwise_roc_auc_scores.elasticnet_cv0.25.png\" style=\"max-width: 400px; max-height: 800px;\" /></td>\n",
       "<td style=\"text-align: center\"><img src=\"../data/data_v_20231027/in_house_peak_disease_timepoints/embedded/esm2_cdr3/high_res_outputs/metamodel/BCR_TCR/disease/subset_of_submodels_convergent_cluster_model_sequence_model/train_smaller_applied_to_validation_model.pairwise_roc_auc_scores.ridge_cv.png\" style=\"max-width: 400px; max-height: 800px;\" /></td>\n",
       "<td style=\"text-align: center\"><img src=\"../data/data_v_20231027/in_house_peak_disease_timepoints/embedded/esm2_cdr3/high_res_outputs/metamodel/BCR_TCR/disease/subset_of_submodels_convergent_cluster_model_sequence_model/train_smaller_applied_to_validation_model.pairwise_roc_auc_scores.logisticregression_unregularized.png\" style=\"max-width: 400px; max-height: 800px;\" /></td>\n",
       "<td style=\"text-align: center\"><img src=\"../data/data_v_20231027/in_house_peak_disease_timepoints/embedded/esm2_cdr3/high_res_outputs/metamodel/BCR_TCR/disease/subset_of_submodels_convergent_cluster_model_sequence_model/train_smaller_applied_to_validation_model.pairwise_roc_auc_scores.rf_multiclass.png\" style=\"max-width: 400px; max-height: 800px;\" /></td>\n",
       "<td style=\"text-align: center\"><img src=\"../data/data_v_20231027/in_house_peak_disease_timepoints/embedded/esm2_cdr3/high_res_outputs/metamodel/BCR_TCR/disease/subset_of_submodels_convergent_cluster_model_sequence_model/train_smaller_applied_to_validation_model.pairwise_roc_auc_scores.linearsvm_ovr.png\" style=\"max-width: 400px; max-height: 800px;\" /></td></tr></table>"
      ],
      "text/plain": [
       "<IPython.core.display.HTML object>"
      ]
     },
     "metadata": {},
     "output_type": "display_data"
    },
    {
     "data": {
      "text/markdown": [
       "#### isotype_counts_only"
      ],
      "text/plain": [
       "<IPython.core.display.Markdown object>"
      ]
     },
     "metadata": {},
     "output_type": "display_data"
    },
    {
     "data": {
      "text/html": [
       "<table><tr><th style=\"text-align: center\">dummy_most_frequent: 0.500</th>\n",
       "<th style=\"text-align: center\">dummy_stratified: 0.502</th>\n",
       "<th style=\"text-align: center\">lasso_cv: 0.635</th>\n",
       "<th style=\"text-align: center\">elasticnet_cv0.75: 0.637</th>\n",
       "<th style=\"text-align: center\">elasticnet_cv: 0.646</th>\n",
       "<th style=\"text-align: center\">elasticnet_cv0.25: 0.651</th>\n",
       "<th style=\"text-align: center\">ridge_cv: 0.664</th>\n",
       "<th style=\"text-align: center\">logisticregression_unregularized: 0.671</th>\n",
       "<th style=\"text-align: center\">rf_multiclass: 0.679</th>\n",
       "<th style=\"text-align: center\">linearsvm_ovr: 0.683</th></tr><tr><td style=\"text-align: center\"><img src=\"../data/data_v_20231027/in_house_peak_disease_timepoints/embedded/esm2_cdr3/high_res_outputs/metamodel/BCR_TCR/disease/isotype_counts_only/train_smaller_applied_to_validation_model.pairwise_roc_auc_scores.dummy_most_frequent.png\" style=\"max-width: 400px; max-height: 800px;\" /></td>\n",
       "<td style=\"text-align: center\"><img src=\"../data/data_v_20231027/in_house_peak_disease_timepoints/embedded/esm2_cdr3/high_res_outputs/metamodel/BCR_TCR/disease/isotype_counts_only/train_smaller_applied_to_validation_model.pairwise_roc_auc_scores.dummy_stratified.png\" style=\"max-width: 400px; max-height: 800px;\" /></td>\n",
       "<td style=\"text-align: center\"><img src=\"../data/data_v_20231027/in_house_peak_disease_timepoints/embedded/esm2_cdr3/high_res_outputs/metamodel/BCR_TCR/disease/isotype_counts_only/train_smaller_applied_to_validation_model.pairwise_roc_auc_scores.lasso_cv.png\" style=\"max-width: 400px; max-height: 800px;\" /></td>\n",
       "<td style=\"text-align: center\"><img src=\"../data/data_v_20231027/in_house_peak_disease_timepoints/embedded/esm2_cdr3/high_res_outputs/metamodel/BCR_TCR/disease/isotype_counts_only/train_smaller_applied_to_validation_model.pairwise_roc_auc_scores.elasticnet_cv0.75.png\" style=\"max-width: 400px; max-height: 800px;\" /></td>\n",
       "<td style=\"text-align: center\"><img src=\"../data/data_v_20231027/in_house_peak_disease_timepoints/embedded/esm2_cdr3/high_res_outputs/metamodel/BCR_TCR/disease/isotype_counts_only/train_smaller_applied_to_validation_model.pairwise_roc_auc_scores.elasticnet_cv.png\" style=\"max-width: 400px; max-height: 800px;\" /></td>\n",
       "<td style=\"text-align: center\"><img src=\"../data/data_v_20231027/in_house_peak_disease_timepoints/embedded/esm2_cdr3/high_res_outputs/metamodel/BCR_TCR/disease/isotype_counts_only/train_smaller_applied_to_validation_model.pairwise_roc_auc_scores.elasticnet_cv0.25.png\" style=\"max-width: 400px; max-height: 800px;\" /></td>\n",
       "<td style=\"text-align: center\"><img src=\"../data/data_v_20231027/in_house_peak_disease_timepoints/embedded/esm2_cdr3/high_res_outputs/metamodel/BCR_TCR/disease/isotype_counts_only/train_smaller_applied_to_validation_model.pairwise_roc_auc_scores.ridge_cv.png\" style=\"max-width: 400px; max-height: 800px;\" /></td>\n",
       "<td style=\"text-align: center\"><img src=\"../data/data_v_20231027/in_house_peak_disease_timepoints/embedded/esm2_cdr3/high_res_outputs/metamodel/BCR_TCR/disease/isotype_counts_only/train_smaller_applied_to_validation_model.pairwise_roc_auc_scores.logisticregression_unregularized.png\" style=\"max-width: 400px; max-height: 800px;\" /></td>\n",
       "<td style=\"text-align: center\"><img src=\"../data/data_v_20231027/in_house_peak_disease_timepoints/embedded/esm2_cdr3/high_res_outputs/metamodel/BCR_TCR/disease/isotype_counts_only/train_smaller_applied_to_validation_model.pairwise_roc_auc_scores.rf_multiclass.png\" style=\"max-width: 400px; max-height: 800px;\" /></td>\n",
       "<td style=\"text-align: center\"><img src=\"../data/data_v_20231027/in_house_peak_disease_timepoints/embedded/esm2_cdr3/high_res_outputs/metamodel/BCR_TCR/disease/isotype_counts_only/train_smaller_applied_to_validation_model.pairwise_roc_auc_scores.linearsvm_ovr.png\" style=\"max-width: 400px; max-height: 800px;\" /></td></tr></table>"
      ],
      "text/plain": [
       "<IPython.core.display.HTML object>"
      ]
     },
     "metadata": {},
     "output_type": "display_data"
    }
   ],
   "source": [
    "pairwise_summary(\n",
    "    gene_locus=config.gene_loci_used, target_obs_column=default_target_obs_column\n",
    ")"
   ]
  },
  {
   "cell_type": "code",
   "execution_count": null,
   "metadata": {},
   "outputs": [],
   "source": []
  },
  {
   "cell_type": "code",
   "execution_count": null,
   "metadata": {},
   "outputs": [],
   "source": []
  }
 ],
 "metadata": {
  "jupytext": {
   "cell_metadata_filter": "-all",
   "encoding": "# -*- coding: utf-8 -*-"
  },
  "kernelspec": {
   "display_name": "py39-cuda-env",
   "language": "python",
   "name": "py39-cuda-env"
  },
  "language_info": {
   "codemirror_mode": {
    "name": "ipython",
    "version": 3
   },
   "file_extension": ".py",
   "mimetype": "text/x-python",
   "name": "python",
   "nbconvert_exporter": "python",
   "pygments_lexer": "ipython3",
   "version": "3.9.17"
  }
 },
 "nbformat": 4,
 "nbformat_minor": 4
}
