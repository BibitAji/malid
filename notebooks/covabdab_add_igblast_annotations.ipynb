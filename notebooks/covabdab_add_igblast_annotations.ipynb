{
 "cells": [
  {
   "cell_type": "code",
   "execution_count": 1,
   "metadata": {
    "execution": {
     "iopub.execute_input": "2023-11-08T20:19:01.680535Z",
     "iopub.status.busy": "2023-11-08T20:19:01.679488Z",
     "iopub.status.idle": "2023-11-08T20:19:06.316753Z",
     "shell.execute_reply": "2023-11-08T20:19:06.315695Z"
    },
    "tags": []
   },
   "outputs": [],
   "source": [
    "import pandas as pd\n",
    "from malid import config, helpers, logger\n",
    "from malid.datamodels import GeneLocus"
   ]
  },
  {
   "cell_type": "code",
   "execution_count": 2,
   "metadata": {
    "execution": {
     "iopub.execute_input": "2023-11-08T20:19:06.322803Z",
     "iopub.status.busy": "2023-11-08T20:19:06.322383Z",
     "iopub.status.idle": "2023-11-08T20:19:06.326866Z",
     "shell.execute_reply": "2023-11-08T20:19:06.326005Z"
    }
   },
   "outputs": [],
   "source": [
    "# Export positives and negatives together."
   ]
  },
  {
   "cell_type": "code",
   "execution_count": 3,
   "metadata": {
    "execution": {
     "iopub.execute_input": "2023-11-08T20:19:06.331554Z",
     "iopub.status.busy": "2023-11-08T20:19:06.331017Z",
     "iopub.status.idle": "2023-11-08T20:19:06.427300Z",
     "shell.execute_reply": "2023-11-08T20:19:06.426459Z"
    }
   },
   "outputs": [
    {
     "data": {
      "text/html": [
       "<div>\n",
       "<style scoped>\n",
       "    .dataframe tbody tr th:only-of-type {\n",
       "        vertical-align: middle;\n",
       "    }\n",
       "\n",
       "    .dataframe tbody tr th {\n",
       "        vertical-align: top;\n",
       "    }\n",
       "\n",
       "    .dataframe thead th {\n",
       "        text-align: right;\n",
       "    }\n",
       "</style>\n",
       "<table border=\"1\" class=\"dataframe\">\n",
       "  <thead>\n",
       "    <tr style=\"text-align: right;\">\n",
       "      <th></th>\n",
       "      <th>CDRH3</th>\n",
       "      <th>j_gene</th>\n",
       "      <th>v_gene</th>\n",
       "      <th>VHorVHH</th>\n",
       "      <th>Binds to</th>\n",
       "      <th>Doesn't Bind to</th>\n",
       "      <th>Neutralising Vs</th>\n",
       "      <th>Not Neutralising Vs</th>\n",
       "      <th>Protein + Epitope</th>\n",
       "      <th>Origin</th>\n",
       "      <th>Status</th>\n",
       "      <th>cdr3_seq_aa_q_trim</th>\n",
       "      <th>cdr3_aa_sequence_trim_len</th>\n",
       "      <th>rownum</th>\n",
       "    </tr>\n",
       "  </thead>\n",
       "  <tbody>\n",
       "    <tr>\n",
       "      <th>0</th>\n",
       "      <td>ARDLVVYGLDY</td>\n",
       "      <td>IGHJ4</td>\n",
       "      <td>IGHV3-53</td>\n",
       "      <td>EVQLVESGGGLIQPGGSLRLSCAASGFIVSRNYMNWVRQAPGKGLE...</td>\n",
       "      <td>SARS-CoV2_WT;SARS-CoV2_Alpha;SARS-CoV2_Beta;SA...</td>\n",
       "      <td>NaN</td>\n",
       "      <td>SARS-CoV2_WT;SARS-CoV2_Alpha;SARS-CoV2_Beta;SA...</td>\n",
       "      <td>NaN</td>\n",
       "      <td>S; RBD</td>\n",
       "      <td>B-cells; SARS-CoV2_WT Convalescent Patients</td>\n",
       "      <td>Positive</td>\n",
       "      <td>ARDLVVYGLDY</td>\n",
       "      <td>11</td>\n",
       "      <td>0</td>\n",
       "    </tr>\n",
       "    <tr>\n",
       "      <th>1</th>\n",
       "      <td>AREFDLTKIIMVPPY</td>\n",
       "      <td>IGHJ4</td>\n",
       "      <td>IGHV3-11</td>\n",
       "      <td>QVQMVESGGGLVRPGGSLRLSCAASGFTFSDYYMSWIRQAPGKGLE...</td>\n",
       "      <td>SARS-CoV2_WT;SARS-CoV2_Alpha;SARS-CoV2_Delta;S...</td>\n",
       "      <td>NaN</td>\n",
       "      <td>SARS-CoV2_WT;SARS-CoV2_Alpha;SARS-CoV2_Delta;S...</td>\n",
       "      <td>SARS-CoV2_Beta;SARS-CoV2_Omicron-BA1;SARS-CoV2...</td>\n",
       "      <td>S; RBD</td>\n",
       "      <td>B-cells; SARS-CoV2_WT Convalescent Patients</td>\n",
       "      <td>Positive</td>\n",
       "      <td>AREFDLTKIIMVPPY</td>\n",
       "      <td>15</td>\n",
       "      <td>1</td>\n",
       "    </tr>\n",
       "    <tr>\n",
       "      <th>2</th>\n",
       "      <td>ARDSSGWHWGVPFDY</td>\n",
       "      <td>IGHJ4</td>\n",
       "      <td>IGHV3-30</td>\n",
       "      <td>QVQLVESGGGVVQPGRSLRLSCASSGFTFSTYHMHWVRQPPGKGLE...</td>\n",
       "      <td>SARS-CoV2_WT;SARS-CoV2_Alpha;SARS-CoV2_Beta;SA...</td>\n",
       "      <td>NaN</td>\n",
       "      <td>SARS-CoV2_WT;SARS-CoV2_Alpha;SARS-CoV2_Beta;SA...</td>\n",
       "      <td>NaN</td>\n",
       "      <td>S; RBD</td>\n",
       "      <td>B-cells; SARS-CoV2_WT Vaccinee (BBIBP-CoV)</td>\n",
       "      <td>Positive</td>\n",
       "      <td>ARDSSGWHWGVPFDY</td>\n",
       "      <td>15</td>\n",
       "      <td>2</td>\n",
       "    </tr>\n",
       "    <tr>\n",
       "      <th>3</th>\n",
       "      <td>VRGSGGIHDAFDI</td>\n",
       "      <td>IGHJ3</td>\n",
       "      <td>IGHV3-53</td>\n",
       "      <td>EVQLVESGGGLIQPGGSLRLSCAVSGFTVSRMSWVRQAPGKGLECV...</td>\n",
       "      <td>SARS-CoV2_WT;SARS-CoV2_Alpha;SARS-CoV2_Beta;SA...</td>\n",
       "      <td>NaN</td>\n",
       "      <td>SARS-CoV2_WT;SARS-CoV2_Alpha;SARS-CoV2_Beta;SA...</td>\n",
       "      <td>SARS-CoV2_Omicron-BA2.75.2;SARS-CoV2-Omicron-B...</td>\n",
       "      <td>S; RBD</td>\n",
       "      <td>B-cells; SARS-CoV2_WT Vaccinee (BBIBP-CoV)</td>\n",
       "      <td>Positive</td>\n",
       "      <td>VRGSGGIHDAFDI</td>\n",
       "      <td>13</td>\n",
       "      <td>3</td>\n",
       "    </tr>\n",
       "    <tr>\n",
       "      <th>4</th>\n",
       "      <td>ARVDPRYEGFDY</td>\n",
       "      <td>IGHJ4</td>\n",
       "      <td>IGHV3-53</td>\n",
       "      <td>EVQLVESGGGLIQPGGSLRLSCAASEFIVSRNYMSWVRQAPGKGLE...</td>\n",
       "      <td>SARS-CoV2_WT;SARS-CoV2_Alpha;SARS-CoV2_Beta;SA...</td>\n",
       "      <td>NaN</td>\n",
       "      <td>SARS-CoV2_WT;SARS-CoV2_Alpha;SARS-CoV2_Beta;SA...</td>\n",
       "      <td>SARS-CoV2_Omicron-BA1;SARS-CoV2_Omicron-BA2;SA...</td>\n",
       "      <td>S; RBD</td>\n",
       "      <td>B-cells; SARS-CoV2_WT Vaccinee (BBIBP-CoV)</td>\n",
       "      <td>Positive</td>\n",
       "      <td>ARVDPRYEGFDY</td>\n",
       "      <td>12</td>\n",
       "      <td>4</td>\n",
       "    </tr>\n",
       "    <tr>\n",
       "      <th>...</th>\n",
       "      <td>...</td>\n",
       "      <td>...</td>\n",
       "      <td>...</td>\n",
       "      <td>...</td>\n",
       "      <td>...</td>\n",
       "      <td>...</td>\n",
       "      <td>...</td>\n",
       "      <td>...</td>\n",
       "      <td>...</td>\n",
       "      <td>...</td>\n",
       "      <td>...</td>\n",
       "      <td>...</td>\n",
       "      <td>...</td>\n",
       "      <td>...</td>\n",
       "    </tr>\n",
       "    <tr>\n",
       "      <th>7124</th>\n",
       "      <td>ARIPLRLRSGGRVAFDI</td>\n",
       "      <td>IGHJ3</td>\n",
       "      <td>IGHV4-59</td>\n",
       "      <td>QVQLQESGPGLVKPSETLSLTCTVSDGSISPYFWSWIRQPPGEGLE...</td>\n",
       "      <td>SARS-CoV1</td>\n",
       "      <td>SARS-CoV2_WT;MERS-CoV</td>\n",
       "      <td>NaN</td>\n",
       "      <td>NaN</td>\n",
       "      <td>S; non-RBD</td>\n",
       "      <td>B-cells; SARS-CoV1 Human Patient</td>\n",
       "      <td>Negative</td>\n",
       "      <td>ARIPLRLRSGGRVAFDI</td>\n",
       "      <td>17</td>\n",
       "      <td>7124</td>\n",
       "    </tr>\n",
       "    <tr>\n",
       "      <th>7125</th>\n",
       "      <td>ARVQDIVIVPAVYGMDV</td>\n",
       "      <td>IGHJ6</td>\n",
       "      <td>IGHV1-69</td>\n",
       "      <td>QVQLVQSGAEVKKPGSSVKVSCKTSGGTFVNFNSYAISWVRQAPGQ...</td>\n",
       "      <td>SARS-CoV1</td>\n",
       "      <td>SARS-CoV2_WT;MERS-CoV</td>\n",
       "      <td>NaN</td>\n",
       "      <td>NaN</td>\n",
       "      <td>S; non-RBD</td>\n",
       "      <td>B-cells; SARS-CoV1 Human Patient</td>\n",
       "      <td>Negative</td>\n",
       "      <td>ARVQDIVIVPAVYGMDV</td>\n",
       "      <td>17</td>\n",
       "      <td>7125</td>\n",
       "    </tr>\n",
       "    <tr>\n",
       "      <th>7126</th>\n",
       "      <td>ARHPSSIFRGTVFTPYYFDY</td>\n",
       "      <td>IGHJ4</td>\n",
       "      <td>IGHV4-59</td>\n",
       "      <td>QVQLQESGPGLVKPSETLSLTCTVSGGSVSDTPFYWGWIRQPPGKG...</td>\n",
       "      <td>SARS-CoV1 (weak)</td>\n",
       "      <td>229E;HKU1;NL63;OC43;SARS-CoV2_WT</td>\n",
       "      <td>NaN</td>\n",
       "      <td>NaN</td>\n",
       "      <td>S; Unk</td>\n",
       "      <td>B-cells; SARS-CoV1 Human Patient</td>\n",
       "      <td>Negative</td>\n",
       "      <td>ARHPSSIFRGTVFTPYYFDY</td>\n",
       "      <td>20</td>\n",
       "      <td>7126</td>\n",
       "    </tr>\n",
       "    <tr>\n",
       "      <th>7127</th>\n",
       "      <td>VTQRDNSRDYFPHYFHDMDV</td>\n",
       "      <td>IGHJ6</td>\n",
       "      <td>IGHV3-30</td>\n",
       "      <td>QAQLVESGGALVQPGRSLRLSCAASGFTFRNYAMHWVRQAPATGLQ...</td>\n",
       "      <td>SARS-CoV1</td>\n",
       "      <td>SARS-CoV2_WT</td>\n",
       "      <td>SARS-CoV1</td>\n",
       "      <td>SARS-CoV2_WT</td>\n",
       "      <td>S; RBD</td>\n",
       "      <td>B-cells; SARS-CoV1 Human Patient</td>\n",
       "      <td>Negative</td>\n",
       "      <td>VTQRDNSRDYFPHYFHDMDV</td>\n",
       "      <td>20</td>\n",
       "      <td>7127</td>\n",
       "    </tr>\n",
       "    <tr>\n",
       "      <th>7128</th>\n",
       "      <td>ARSGSYGDRTFDH</td>\n",
       "      <td>IGHJ4</td>\n",
       "      <td>IGHV4-59</td>\n",
       "      <td>QVQLQESGPGLVKPSETLSLTCIVSDDSINSYYWSWIRQPPGRGLE...</td>\n",
       "      <td>SARS-CoV</td>\n",
       "      <td>SARS-CoV2_WT</td>\n",
       "      <td>NaN</td>\n",
       "      <td>SARS-CoV2_WT;SARS-CoV</td>\n",
       "      <td>S; S2</td>\n",
       "      <td>B-cells; SARS-CoV2_WT Human Patient</td>\n",
       "      <td>Negative</td>\n",
       "      <td>ARSGSYGDRTFDH</td>\n",
       "      <td>13</td>\n",
       "      <td>7128</td>\n",
       "    </tr>\n",
       "  </tbody>\n",
       "</table>\n",
       "<p>7129 rows × 14 columns</p>\n",
       "</div>"
      ],
      "text/plain": [
       "                     CDRH3 j_gene    v_gene  \\\n",
       "0              ARDLVVYGLDY  IGHJ4  IGHV3-53   \n",
       "1          AREFDLTKIIMVPPY  IGHJ4  IGHV3-11   \n",
       "2          ARDSSGWHWGVPFDY  IGHJ4  IGHV3-30   \n",
       "3            VRGSGGIHDAFDI  IGHJ3  IGHV3-53   \n",
       "4             ARVDPRYEGFDY  IGHJ4  IGHV3-53   \n",
       "...                    ...    ...       ...   \n",
       "7124     ARIPLRLRSGGRVAFDI  IGHJ3  IGHV4-59   \n",
       "7125     ARVQDIVIVPAVYGMDV  IGHJ6  IGHV1-69   \n",
       "7126  ARHPSSIFRGTVFTPYYFDY  IGHJ4  IGHV4-59   \n",
       "7127  VTQRDNSRDYFPHYFHDMDV  IGHJ6  IGHV3-30   \n",
       "7128         ARSGSYGDRTFDH  IGHJ4  IGHV4-59   \n",
       "\n",
       "                                                VHorVHH  \\\n",
       "0     EVQLVESGGGLIQPGGSLRLSCAASGFIVSRNYMNWVRQAPGKGLE...   \n",
       "1     QVQMVESGGGLVRPGGSLRLSCAASGFTFSDYYMSWIRQAPGKGLE...   \n",
       "2     QVQLVESGGGVVQPGRSLRLSCASSGFTFSTYHMHWVRQPPGKGLE...   \n",
       "3     EVQLVESGGGLIQPGGSLRLSCAVSGFTVSRMSWVRQAPGKGLECV...   \n",
       "4     EVQLVESGGGLIQPGGSLRLSCAASEFIVSRNYMSWVRQAPGKGLE...   \n",
       "...                                                 ...   \n",
       "7124  QVQLQESGPGLVKPSETLSLTCTVSDGSISPYFWSWIRQPPGEGLE...   \n",
       "7125  QVQLVQSGAEVKKPGSSVKVSCKTSGGTFVNFNSYAISWVRQAPGQ...   \n",
       "7126  QVQLQESGPGLVKPSETLSLTCTVSGGSVSDTPFYWGWIRQPPGKG...   \n",
       "7127  QAQLVESGGALVQPGRSLRLSCAASGFTFRNYAMHWVRQAPATGLQ...   \n",
       "7128  QVQLQESGPGLVKPSETLSLTCIVSDDSINSYYWSWIRQPPGRGLE...   \n",
       "\n",
       "                                               Binds to  \\\n",
       "0     SARS-CoV2_WT;SARS-CoV2_Alpha;SARS-CoV2_Beta;SA...   \n",
       "1     SARS-CoV2_WT;SARS-CoV2_Alpha;SARS-CoV2_Delta;S...   \n",
       "2     SARS-CoV2_WT;SARS-CoV2_Alpha;SARS-CoV2_Beta;SA...   \n",
       "3     SARS-CoV2_WT;SARS-CoV2_Alpha;SARS-CoV2_Beta;SA...   \n",
       "4     SARS-CoV2_WT;SARS-CoV2_Alpha;SARS-CoV2_Beta;SA...   \n",
       "...                                                 ...   \n",
       "7124                                          SARS-CoV1   \n",
       "7125                                          SARS-CoV1   \n",
       "7126                                   SARS-CoV1 (weak)   \n",
       "7127                                          SARS-CoV1   \n",
       "7128                                           SARS-CoV   \n",
       "\n",
       "                       Doesn't Bind to  \\\n",
       "0                                  NaN   \n",
       "1                                  NaN   \n",
       "2                                  NaN   \n",
       "3                                  NaN   \n",
       "4                                  NaN   \n",
       "...                                ...   \n",
       "7124             SARS-CoV2_WT;MERS-CoV   \n",
       "7125             SARS-CoV2_WT;MERS-CoV   \n",
       "7126  229E;HKU1;NL63;OC43;SARS-CoV2_WT   \n",
       "7127                      SARS-CoV2_WT   \n",
       "7128                      SARS-CoV2_WT   \n",
       "\n",
       "                                        Neutralising Vs  \\\n",
       "0     SARS-CoV2_WT;SARS-CoV2_Alpha;SARS-CoV2_Beta;SA...   \n",
       "1     SARS-CoV2_WT;SARS-CoV2_Alpha;SARS-CoV2_Delta;S...   \n",
       "2     SARS-CoV2_WT;SARS-CoV2_Alpha;SARS-CoV2_Beta;SA...   \n",
       "3     SARS-CoV2_WT;SARS-CoV2_Alpha;SARS-CoV2_Beta;SA...   \n",
       "4     SARS-CoV2_WT;SARS-CoV2_Alpha;SARS-CoV2_Beta;SA...   \n",
       "...                                                 ...   \n",
       "7124                                                NaN   \n",
       "7125                                                NaN   \n",
       "7126                                                NaN   \n",
       "7127                                          SARS-CoV1   \n",
       "7128                                                NaN   \n",
       "\n",
       "                                    Not Neutralising Vs Protein + Epitope  \\\n",
       "0                                                   NaN            S; RBD   \n",
       "1     SARS-CoV2_Beta;SARS-CoV2_Omicron-BA1;SARS-CoV2...            S; RBD   \n",
       "2                                                   NaN            S; RBD   \n",
       "3     SARS-CoV2_Omicron-BA2.75.2;SARS-CoV2-Omicron-B...            S; RBD   \n",
       "4     SARS-CoV2_Omicron-BA1;SARS-CoV2_Omicron-BA2;SA...            S; RBD   \n",
       "...                                                 ...               ...   \n",
       "7124                                                NaN        S; non-RBD   \n",
       "7125                                                NaN        S; non-RBD   \n",
       "7126                                                NaN            S; Unk   \n",
       "7127                                       SARS-CoV2_WT            S; RBD   \n",
       "7128                              SARS-CoV2_WT;SARS-CoV             S; S2   \n",
       "\n",
       "                                           Origin    Status  \\\n",
       "0     B-cells; SARS-CoV2_WT Convalescent Patients  Positive   \n",
       "1     B-cells; SARS-CoV2_WT Convalescent Patients  Positive   \n",
       "2      B-cells; SARS-CoV2_WT Vaccinee (BBIBP-CoV)  Positive   \n",
       "3      B-cells; SARS-CoV2_WT Vaccinee (BBIBP-CoV)  Positive   \n",
       "4      B-cells; SARS-CoV2_WT Vaccinee (BBIBP-CoV)  Positive   \n",
       "...                                           ...       ...   \n",
       "7124             B-cells; SARS-CoV1 Human Patient  Negative   \n",
       "7125             B-cells; SARS-CoV1 Human Patient  Negative   \n",
       "7126             B-cells; SARS-CoV1 Human Patient  Negative   \n",
       "7127             B-cells; SARS-CoV1 Human Patient  Negative   \n",
       "7128          B-cells; SARS-CoV2_WT Human Patient  Negative   \n",
       "\n",
       "        cdr3_seq_aa_q_trim  cdr3_aa_sequence_trim_len  rownum  \n",
       "0              ARDLVVYGLDY                         11       0  \n",
       "1          AREFDLTKIIMVPPY                         15       1  \n",
       "2          ARDSSGWHWGVPFDY                         15       2  \n",
       "3            VRGSGGIHDAFDI                         13       3  \n",
       "4             ARVDPRYEGFDY                         12       4  \n",
       "...                    ...                        ...     ...  \n",
       "7124     ARIPLRLRSGGRVAFDI                         17    7124  \n",
       "7125     ARVQDIVIVPAVYGMDV                         17    7125  \n",
       "7126  ARHPSSIFRGTVFTPYYFDY                         20    7126  \n",
       "7127  VTQRDNSRDYFPHYFHDMDV                         20    7127  \n",
       "7128         ARSGSYGDRTFDH                         13    7128  \n",
       "\n",
       "[7129 rows x 14 columns]"
      ]
     },
     "execution_count": 3,
     "metadata": {},
     "output_type": "execute_result"
    }
   ],
   "source": [
    "df = pd.read_csv(config.paths.base_data_dir / \"CoV-AbDab_130623.filtered.tsv\", sep=\"\\t\")\n",
    "df[\"rownum\"] = range(df.shape[0])\n",
    "df"
   ]
  },
  {
   "cell_type": "code",
   "execution_count": 4,
   "metadata": {
    "execution": {
     "iopub.execute_input": "2023-11-08T20:19:06.434488Z",
     "iopub.status.busy": "2023-11-08T20:19:06.434153Z",
     "iopub.status.idle": "2023-11-08T20:19:06.475930Z",
     "shell.execute_reply": "2023-11-08T20:19:06.475119Z"
    }
   },
   "outputs": [
    {
     "data": {
      "text/html": [
       "<div>\n",
       "<style scoped>\n",
       "    .dataframe tbody tr th:only-of-type {\n",
       "        vertical-align: middle;\n",
       "    }\n",
       "\n",
       "    .dataframe tbody tr th {\n",
       "        vertical-align: top;\n",
       "    }\n",
       "\n",
       "    .dataframe thead th {\n",
       "        text-align: right;\n",
       "    }\n",
       "</style>\n",
       "<table border=\"1\" class=\"dataframe\">\n",
       "  <thead>\n",
       "    <tr style=\"text-align: right;\">\n",
       "      <th></th>\n",
       "      <th>type</th>\n",
       "      <th>query_id</th>\n",
       "      <th>v_gene</th>\n",
       "      <th>global_percent_identity</th>\n",
       "      <th>FR1-IMGT</th>\n",
       "      <th>CDR1-IMGT</th>\n",
       "      <th>FR2-IMGT</th>\n",
       "      <th>CDR2-IMGT</th>\n",
       "      <th>FR3-IMGT</th>\n",
       "      <th>CDR3-IMGT (germline)</th>\n",
       "      <th>specimen_label</th>\n",
       "      <th>rownum</th>\n",
       "    </tr>\n",
       "  </thead>\n",
       "  <tbody>\n",
       "    <tr>\n",
       "      <th>0</th>\n",
       "      <td>V</td>\n",
       "      <td>covabdab|0</td>\n",
       "      <td>IGHV3-53*01</td>\n",
       "      <td>93.821649</td>\n",
       "      <td>EVQLVESGGGLIQPGGSLRLSCAAS</td>\n",
       "      <td>GFIVSRNY</td>\n",
       "      <td>MNWVRQAPGKGLEWVAL</td>\n",
       "      <td>IYSGGST</td>\n",
       "      <td>FYADSVKGRFTISRDNSKNTLYLQMNSLRAEDTAVYYC</td>\n",
       "      <td>AR</td>\n",
       "      <td>covabdab</td>\n",
       "      <td>0</td>\n",
       "    </tr>\n",
       "    <tr>\n",
       "      <th>1</th>\n",
       "      <td>V</td>\n",
       "      <td>covabdab|1</td>\n",
       "      <td>IGHV3-11*04</td>\n",
       "      <td>92.866327</td>\n",
       "      <td>QVQMVESGGGLVRPGGSLRLSCAAS</td>\n",
       "      <td>GFTFSDYY</td>\n",
       "      <td>MSWIRQAPGKGLEWISY</td>\n",
       "      <td>ISSSGSSM</td>\n",
       "      <td>NYADSVKGRFTISRDNAKNSLFLQMNSLRAEDTAVYYC</td>\n",
       "      <td>AR</td>\n",
       "      <td>covabdab</td>\n",
       "      <td>1</td>\n",
       "    </tr>\n",
       "    <tr>\n",
       "      <th>2</th>\n",
       "      <td>V</td>\n",
       "      <td>covabdab|2</td>\n",
       "      <td>IGHV3-30*06</td>\n",
       "      <td>90.808163</td>\n",
       "      <td>QVQLVESGGGVVQPGRSLRLSCASS</td>\n",
       "      <td>GFTFSTYH</td>\n",
       "      <td>MHWVRQPPGKGLEWVAF</td>\n",
       "      <td>ISYDGSNY</td>\n",
       "      <td>YYSDSVKGRFTISRDNSKNTVYLQMNSLRAEDTALYYC</td>\n",
       "      <td>AR</td>\n",
       "      <td>covabdab</td>\n",
       "      <td>2</td>\n",
       "    </tr>\n",
       "    <tr>\n",
       "      <th>3</th>\n",
       "      <td>V</td>\n",
       "      <td>covabdab|3</td>\n",
       "      <td>IGHV3-53*01</td>\n",
       "      <td>88.639175</td>\n",
       "      <td>EVQLVESGGGLIQPGGSLRLSCAVS</td>\n",
       "      <td>GFTVSR</td>\n",
       "      <td>MSWVRQAPGKGLECVSV</td>\n",
       "      <td>IYTGGNT</td>\n",
       "      <td>DYADSVKGRFTISRDNSKNTLYLQMNSLRAEDTALYYC</td>\n",
       "      <td>VR</td>\n",
       "      <td>covabdab</td>\n",
       "      <td>3</td>\n",
       "    </tr>\n",
       "    <tr>\n",
       "      <th>4</th>\n",
       "      <td>V</td>\n",
       "      <td>covabdab|4</td>\n",
       "      <td>IGHV3-53*01</td>\n",
       "      <td>96.907216</td>\n",
       "      <td>EVQLVESGGGLIQPGGSLRLSCAAS</td>\n",
       "      <td>EFIVSRNY</td>\n",
       "      <td>MSWVRQAPGKGLEWVSV</td>\n",
       "      <td>IYSGGST</td>\n",
       "      <td>YYADSVKGRFTISRDNSKNTLYLQMNSLRAEDTAVYYC</td>\n",
       "      <td>AR</td>\n",
       "      <td>covabdab</td>\n",
       "      <td>4</td>\n",
       "    </tr>\n",
       "    <tr>\n",
       "      <th>...</th>\n",
       "      <td>...</td>\n",
       "      <td>...</td>\n",
       "      <td>...</td>\n",
       "      <td>...</td>\n",
       "      <td>...</td>\n",
       "      <td>...</td>\n",
       "      <td>...</td>\n",
       "      <td>...</td>\n",
       "      <td>...</td>\n",
       "      <td>...</td>\n",
       "      <td>...</td>\n",
       "      <td>...</td>\n",
       "    </tr>\n",
       "    <tr>\n",
       "      <th>7124</th>\n",
       "      <td>V</td>\n",
       "      <td>covabdab|7124</td>\n",
       "      <td>IGHV4-59*01</td>\n",
       "      <td>88.638144</td>\n",
       "      <td>QVQLQESGPGLVKPSETLSLTCTVS</td>\n",
       "      <td>DGSISPYF</td>\n",
       "      <td>WSWIRQPPGEGLEWIGY</td>\n",
       "      <td>IYYDGNT</td>\n",
       "      <td>NYSPSLKSRATISLDTSKNQFSLILTSVTAADTAVYYC</td>\n",
       "      <td>AR</td>\n",
       "      <td>covabdab</td>\n",
       "      <td>7124</td>\n",
       "    </tr>\n",
       "    <tr>\n",
       "      <th>7125</th>\n",
       "      <td>V</td>\n",
       "      <td>covabdab|7125</td>\n",
       "      <td>IGHV1-69*09</td>\n",
       "      <td>87.120792</td>\n",
       "      <td>QVQLVQSGAEVKKPGSSVKVSCKTS</td>\n",
       "      <td>GGTFVNFNSYA</td>\n",
       "      <td>ISWVRQAPGQGLEWMGR</td>\n",
       "      <td>IIPILGVT</td>\n",
       "      <td>NYAQKFQGRVTITADKATRTVYMELSNLGSEDTAMYYC</td>\n",
       "      <td>AR</td>\n",
       "      <td>covabdab</td>\n",
       "      <td>7125</td>\n",
       "    </tr>\n",
       "    <tr>\n",
       "      <th>7126</th>\n",
       "      <td>V</td>\n",
       "      <td>covabdab|7126</td>\n",
       "      <td>IGHV4-39*01</td>\n",
       "      <td>91.915152</td>\n",
       "      <td>QVQLQESGPGLVKPSETLSLTCTVS</td>\n",
       "      <td>GGSVSDTPFY</td>\n",
       "      <td>WGWIRQPPGKGLEWIGS</td>\n",
       "      <td>MYYTGST</td>\n",
       "      <td>YYNPSLKSRVTISVDTSKNQFSLKLSSVTAADTAVYYC</td>\n",
       "      <td>AR</td>\n",
       "      <td>covabdab</td>\n",
       "      <td>7126</td>\n",
       "    </tr>\n",
       "    <tr>\n",
       "      <th>7127</th>\n",
       "      <td>V</td>\n",
       "      <td>covabdab|7127</td>\n",
       "      <td>IGHV3-30*16</td>\n",
       "      <td>82.114737</td>\n",
       "      <td>QAQLVESGGALVQPGRSLRLSCAAS</td>\n",
       "      <td>GFTFRNYA</td>\n",
       "      <td>MHWVRQAPATGLQWLAV</td>\n",
       "      <td>ITSDGRNK</td>\n",
       "      <td>FYADSVKGRFTISREDSKNTLYLQMDSLRGEDTAVYYC</td>\n",
       "      <td>NaN</td>\n",
       "      <td>covabdab</td>\n",
       "      <td>7127</td>\n",
       "    </tr>\n",
       "    <tr>\n",
       "      <th>7128</th>\n",
       "      <td>V</td>\n",
       "      <td>covabdab|7128</td>\n",
       "      <td>IGHV4-59*01</td>\n",
       "      <td>89.671134</td>\n",
       "      <td>QVQLQESGPGLVKPSETLSLTCIVS</td>\n",
       "      <td>DDSINSYY</td>\n",
       "      <td>WSWIRQPPGRGLEWIGY</td>\n",
       "      <td>IYYSGST</td>\n",
       "      <td>NYDPSLKSRATISLDTSKNQLSLKLTSVTAADTAVYYC</td>\n",
       "      <td>AR</td>\n",
       "      <td>covabdab</td>\n",
       "      <td>7128</td>\n",
       "    </tr>\n",
       "  </tbody>\n",
       "</table>\n",
       "<p>7129 rows × 12 columns</p>\n",
       "</div>"
      ],
      "text/plain": [
       "     type       query_id       v_gene  global_percent_identity  \\\n",
       "0       V     covabdab|0  IGHV3-53*01                93.821649   \n",
       "1       V     covabdab|1  IGHV3-11*04                92.866327   \n",
       "2       V     covabdab|2  IGHV3-30*06                90.808163   \n",
       "3       V     covabdab|3  IGHV3-53*01                88.639175   \n",
       "4       V     covabdab|4  IGHV3-53*01                96.907216   \n",
       "...   ...            ...          ...                      ...   \n",
       "7124    V  covabdab|7124  IGHV4-59*01                88.638144   \n",
       "7125    V  covabdab|7125  IGHV1-69*09                87.120792   \n",
       "7126    V  covabdab|7126  IGHV4-39*01                91.915152   \n",
       "7127    V  covabdab|7127  IGHV3-30*16                82.114737   \n",
       "7128    V  covabdab|7128  IGHV4-59*01                89.671134   \n",
       "\n",
       "                       FR1-IMGT    CDR1-IMGT           FR2-IMGT CDR2-IMGT  \\\n",
       "0     EVQLVESGGGLIQPGGSLRLSCAAS     GFIVSRNY  MNWVRQAPGKGLEWVAL   IYSGGST   \n",
       "1     QVQMVESGGGLVRPGGSLRLSCAAS     GFTFSDYY  MSWIRQAPGKGLEWISY  ISSSGSSM   \n",
       "2     QVQLVESGGGVVQPGRSLRLSCASS     GFTFSTYH  MHWVRQPPGKGLEWVAF  ISYDGSNY   \n",
       "3     EVQLVESGGGLIQPGGSLRLSCAVS       GFTVSR  MSWVRQAPGKGLECVSV   IYTGGNT   \n",
       "4     EVQLVESGGGLIQPGGSLRLSCAAS     EFIVSRNY  MSWVRQAPGKGLEWVSV   IYSGGST   \n",
       "...                         ...          ...                ...       ...   \n",
       "7124  QVQLQESGPGLVKPSETLSLTCTVS     DGSISPYF  WSWIRQPPGEGLEWIGY   IYYDGNT   \n",
       "7125  QVQLVQSGAEVKKPGSSVKVSCKTS  GGTFVNFNSYA  ISWVRQAPGQGLEWMGR  IIPILGVT   \n",
       "7126  QVQLQESGPGLVKPSETLSLTCTVS   GGSVSDTPFY  WGWIRQPPGKGLEWIGS   MYYTGST   \n",
       "7127  QAQLVESGGALVQPGRSLRLSCAAS     GFTFRNYA  MHWVRQAPATGLQWLAV  ITSDGRNK   \n",
       "7128  QVQLQESGPGLVKPSETLSLTCIVS     DDSINSYY  WSWIRQPPGRGLEWIGY   IYYSGST   \n",
       "\n",
       "                                    FR3-IMGT CDR3-IMGT (germline)  \\\n",
       "0     FYADSVKGRFTISRDNSKNTLYLQMNSLRAEDTAVYYC                   AR   \n",
       "1     NYADSVKGRFTISRDNAKNSLFLQMNSLRAEDTAVYYC                   AR   \n",
       "2     YYSDSVKGRFTISRDNSKNTVYLQMNSLRAEDTALYYC                   AR   \n",
       "3     DYADSVKGRFTISRDNSKNTLYLQMNSLRAEDTALYYC                   VR   \n",
       "4     YYADSVKGRFTISRDNSKNTLYLQMNSLRAEDTAVYYC                   AR   \n",
       "...                                      ...                  ...   \n",
       "7124  NYSPSLKSRATISLDTSKNQFSLILTSVTAADTAVYYC                   AR   \n",
       "7125  NYAQKFQGRVTITADKATRTVYMELSNLGSEDTAMYYC                   AR   \n",
       "7126  YYNPSLKSRVTISVDTSKNQFSLKLSSVTAADTAVYYC                   AR   \n",
       "7127  FYADSVKGRFTISREDSKNTLYLQMDSLRGEDTAVYYC                  NaN   \n",
       "7128  NYDPSLKSRATISLDTSKNQLSLKLTSVTAADTAVYYC                   AR   \n",
       "\n",
       "     specimen_label  rownum  \n",
       "0          covabdab       0  \n",
       "1          covabdab       1  \n",
       "2          covabdab       2  \n",
       "3          covabdab       3  \n",
       "4          covabdab       4  \n",
       "...             ...     ...  \n",
       "7124       covabdab    7124  \n",
       "7125       covabdab    7125  \n",
       "7126       covabdab    7126  \n",
       "7127       covabdab    7127  \n",
       "7128       covabdab    7128  \n",
       "\n",
       "[7129 rows x 12 columns]"
      ]
     },
     "execution_count": 4,
     "metadata": {},
     "output_type": "execute_result"
    }
   ],
   "source": [
    "df_parse = pd.concat(\n",
    "    [\n",
    "        pd.read_csv(fname, sep=\"\\t\")\n",
    "        for fname in (config.paths.base_data_dir / \"cov_abdab_fasta_split\").glob(\n",
    "            \"*.parsed.tsv\"\n",
    "        )\n",
    "    ],\n",
    "    axis=0,\n",
    ")\n",
    "# extract fasta ID\n",
    "df_parse[[\"specimen_label\", \"rownum\"]] = df_parse[\"query_id\"].str.split(\n",
    "    \"|\", expand=True\n",
    ")\n",
    "df_parse[\"rownum\"] = df_parse[\"rownum\"].astype(int)\n",
    "for specimen_label, grp in df_parse.groupby(\"specimen_label\"):\n",
    "    assert not grp[\"rownum\"].duplicated().any()\n",
    "df_parse"
   ]
  },
  {
   "cell_type": "code",
   "execution_count": 5,
   "metadata": {
    "execution": {
     "iopub.execute_input": "2023-11-08T20:19:06.481774Z",
     "iopub.status.busy": "2023-11-08T20:19:06.481450Z",
     "iopub.status.idle": "2023-11-08T20:19:06.489429Z",
     "shell.execute_reply": "2023-11-08T20:19:06.488589Z"
    }
   },
   "outputs": [
    {
     "data": {
      "text/plain": [
       "count    7129.000000\n",
       "mean     3564.000000\n",
       "std      2058.109367\n",
       "min         0.000000\n",
       "25%      1782.000000\n",
       "50%      3564.000000\n",
       "75%      5346.000000\n",
       "max      7128.000000\n",
       "Name: rownum, dtype: float64"
      ]
     },
     "execution_count": 5,
     "metadata": {},
     "output_type": "execute_result"
    }
   ],
   "source": [
    "df[\"rownum\"].describe()"
   ]
  },
  {
   "cell_type": "code",
   "execution_count": 6,
   "metadata": {
    "execution": {
     "iopub.execute_input": "2023-11-08T20:19:06.494193Z",
     "iopub.status.busy": "2023-11-08T20:19:06.493863Z",
     "iopub.status.idle": "2023-11-08T20:19:06.502688Z",
     "shell.execute_reply": "2023-11-08T20:19:06.501818Z"
    }
   },
   "outputs": [
    {
     "data": {
      "text/plain": [
       "count    7129.000000\n",
       "mean     3564.000000\n",
       "std      2058.109367\n",
       "min         0.000000\n",
       "25%      1782.000000\n",
       "50%      3564.000000\n",
       "75%      5346.000000\n",
       "max      7128.000000\n",
       "Name: rownum, dtype: float64"
      ]
     },
     "execution_count": 6,
     "metadata": {},
     "output_type": "execute_result"
    }
   ],
   "source": [
    "df_parse[\"rownum\"].describe()"
   ]
  },
  {
   "cell_type": "code",
   "execution_count": null,
   "metadata": {},
   "outputs": [],
   "source": []
  },
  {
   "cell_type": "code",
   "execution_count": null,
   "metadata": {},
   "outputs": [],
   "source": []
  },
  {
   "cell_type": "code",
   "execution_count": 7,
   "metadata": {
    "execution": {
     "iopub.execute_input": "2023-11-08T20:19:06.506714Z",
     "iopub.status.busy": "2023-11-08T20:19:06.506402Z",
     "iopub.status.idle": "2023-11-08T20:19:06.510157Z",
     "shell.execute_reply": "2023-11-08T20:19:06.509373Z"
    }
   },
   "outputs": [],
   "source": [
    "# Merge our IgBlast output\n",
    "# Our IgBlast gives some different V gene calls, and provides CDR1+2 sequences"
   ]
  },
  {
   "cell_type": "code",
   "execution_count": 8,
   "metadata": {
    "execution": {
     "iopub.execute_input": "2023-11-08T20:19:06.514416Z",
     "iopub.status.busy": "2023-11-08T20:19:06.513897Z",
     "iopub.status.idle": "2023-11-08T20:19:06.537399Z",
     "shell.execute_reply": "2023-11-08T20:19:06.536504Z"
    },
    "tags": []
   },
   "outputs": [],
   "source": [
    "orig_shape = df.shape\n",
    "df = pd.merge(\n",
    "    df.drop(columns=[\"v_gene\"]),\n",
    "    df_parse.rename(\n",
    "        columns={\n",
    "            \"CDR1-IMGT\": \"cdr1_seq_aa_q_trim\",\n",
    "            \"CDR2-IMGT\": \"cdr2_seq_aa_q_trim\",\n",
    "            \"FR1-IMGT\": \"fr1_seq_aa_q_trim\",\n",
    "            \"FR2-IMGT\": \"fr2_seq_aa_q_trim\",\n",
    "            \"FR3-IMGT\": \"fr3_seq_aa_q_trim\",\n",
    "            \"global_percent_identity\": \"v_mut\",\n",
    "        }\n",
    "    )[\n",
    "        [\n",
    "            \"v_gene\",\n",
    "            \"rownum\",\n",
    "            \"fr1_seq_aa_q_trim\",\n",
    "            \"cdr1_seq_aa_q_trim\",\n",
    "            \"fr2_seq_aa_q_trim\",\n",
    "            \"cdr2_seq_aa_q_trim\",\n",
    "            \"fr3_seq_aa_q_trim\",\n",
    "            \"v_mut\",\n",
    "        ]\n",
    "    ],\n",
    "    left_on=[\"rownum\"],\n",
    "    right_on=[\"rownum\"],\n",
    "    how=\"inner\",\n",
    "    validate=\"1:1\",\n",
    ")\n",
    "assert df.shape[0] == min(orig_shape[0], df_parse.shape[0])"
   ]
  },
  {
   "cell_type": "code",
   "execution_count": 9,
   "metadata": {
    "execution": {
     "iopub.execute_input": "2023-11-08T20:19:06.542456Z",
     "iopub.status.busy": "2023-11-08T20:19:06.542117Z",
     "iopub.status.idle": "2023-11-08T20:19:06.551785Z",
     "shell.execute_reply": "2023-11-08T20:19:06.550915Z"
    }
   },
   "outputs": [
    {
     "data": {
      "text/plain": [
       "count    7129.000000\n",
       "mean        0.061718\n",
       "std         0.046177\n",
       "min         0.000000\n",
       "25%         0.030490\n",
       "50%         0.051224\n",
       "75%         0.082691\n",
       "max         0.520449\n",
       "Name: v_mut, dtype: float64"
      ]
     },
     "execution_count": 9,
     "metadata": {},
     "output_type": "execute_result"
    }
   ],
   "source": [
    "# convert percent identity to mutation rate\n",
    "# note: this is the *amino acid mutation rate*, not the nucleotide mutation rate as we compute in main pipeline\n",
    "# however, this is as good as we can get here.\n",
    "df[\"v_mut\"] = 1.0 - df[\"v_mut\"] / 100.0\n",
    "df[\"v_mut\"].describe()"
   ]
  },
  {
   "cell_type": "code",
   "execution_count": 10,
   "metadata": {
    "execution": {
     "iopub.execute_input": "2023-11-08T20:19:06.556447Z",
     "iopub.status.busy": "2023-11-08T20:19:06.556096Z",
     "iopub.status.idle": "2023-11-08T20:19:06.562389Z",
     "shell.execute_reply": "2023-11-08T20:19:06.561487Z"
    }
   },
   "outputs": [
    {
     "data": {
      "text/plain": [
       "(7129, 7129, 7129)"
      ]
     },
     "execution_count": 10,
     "metadata": {},
     "output_type": "execute_result"
    }
   ],
   "source": [
    "df.shape[0], orig_shape[0], df_parse.shape[0]"
   ]
  },
  {
   "cell_type": "code",
   "execution_count": 11,
   "metadata": {
    "execution": {
     "iopub.execute_input": "2023-11-08T20:19:06.568127Z",
     "iopub.status.busy": "2023-11-08T20:19:06.567532Z",
     "iopub.status.idle": "2023-11-08T20:19:06.589653Z",
     "shell.execute_reply": "2023-11-08T20:19:06.588776Z"
    },
    "tags": []
   },
   "outputs": [
    {
     "data": {
      "text/html": [
       "<div>\n",
       "<style scoped>\n",
       "    .dataframe tbody tr th:only-of-type {\n",
       "        vertical-align: middle;\n",
       "    }\n",
       "\n",
       "    .dataframe tbody tr th {\n",
       "        vertical-align: top;\n",
       "    }\n",
       "\n",
       "    .dataframe thead th {\n",
       "        text-align: right;\n",
       "    }\n",
       "</style>\n",
       "<table border=\"1\" class=\"dataframe\">\n",
       "  <thead>\n",
       "    <tr style=\"text-align: right;\">\n",
       "      <th></th>\n",
       "      <th>CDRH3</th>\n",
       "      <th>j_gene</th>\n",
       "      <th>VHorVHH</th>\n",
       "      <th>Binds to</th>\n",
       "      <th>Doesn't Bind to</th>\n",
       "      <th>Neutralising Vs</th>\n",
       "      <th>Not Neutralising Vs</th>\n",
       "      <th>Protein + Epitope</th>\n",
       "      <th>Origin</th>\n",
       "      <th>Status</th>\n",
       "      <th>cdr3_seq_aa_q_trim</th>\n",
       "      <th>cdr3_aa_sequence_trim_len</th>\n",
       "      <th>rownum</th>\n",
       "      <th>v_gene</th>\n",
       "      <th>fr1_seq_aa_q_trim</th>\n",
       "      <th>cdr1_seq_aa_q_trim</th>\n",
       "      <th>fr2_seq_aa_q_trim</th>\n",
       "      <th>cdr2_seq_aa_q_trim</th>\n",
       "      <th>fr3_seq_aa_q_trim</th>\n",
       "      <th>v_mut</th>\n",
       "    </tr>\n",
       "  </thead>\n",
       "  <tbody>\n",
       "    <tr>\n",
       "      <th>0</th>\n",
       "      <td>ARDLVVYGLDY</td>\n",
       "      <td>IGHJ4</td>\n",
       "      <td>EVQLVESGGGLIQPGGSLRLSCAASGFIVSRNYMNWVRQAPGKGLE...</td>\n",
       "      <td>SARS-CoV2_WT;SARS-CoV2_Alpha;SARS-CoV2_Beta;SA...</td>\n",
       "      <td>NaN</td>\n",
       "      <td>SARS-CoV2_WT;SARS-CoV2_Alpha;SARS-CoV2_Beta;SA...</td>\n",
       "      <td>NaN</td>\n",
       "      <td>S; RBD</td>\n",
       "      <td>B-cells; SARS-CoV2_WT Convalescent Patients</td>\n",
       "      <td>Positive</td>\n",
       "      <td>ARDLVVYGLDY</td>\n",
       "      <td>11</td>\n",
       "      <td>0</td>\n",
       "      <td>IGHV3-53*01</td>\n",
       "      <td>EVQLVESGGGLIQPGGSLRLSCAAS</td>\n",
       "      <td>GFIVSRNY</td>\n",
       "      <td>MNWVRQAPGKGLEWVAL</td>\n",
       "      <td>IYSGGST</td>\n",
       "      <td>FYADSVKGRFTISRDNSKNTLYLQMNSLRAEDTAVYYC</td>\n",
       "      <td>0.061784</td>\n",
       "    </tr>\n",
       "    <tr>\n",
       "      <th>1</th>\n",
       "      <td>AREFDLTKIIMVPPY</td>\n",
       "      <td>IGHJ4</td>\n",
       "      <td>QVQMVESGGGLVRPGGSLRLSCAASGFTFSDYYMSWIRQAPGKGLE...</td>\n",
       "      <td>SARS-CoV2_WT;SARS-CoV2_Alpha;SARS-CoV2_Delta;S...</td>\n",
       "      <td>NaN</td>\n",
       "      <td>SARS-CoV2_WT;SARS-CoV2_Alpha;SARS-CoV2_Delta;S...</td>\n",
       "      <td>SARS-CoV2_Beta;SARS-CoV2_Omicron-BA1;SARS-CoV2...</td>\n",
       "      <td>S; RBD</td>\n",
       "      <td>B-cells; SARS-CoV2_WT Convalescent Patients</td>\n",
       "      <td>Positive</td>\n",
       "      <td>AREFDLTKIIMVPPY</td>\n",
       "      <td>15</td>\n",
       "      <td>1</td>\n",
       "      <td>IGHV3-11*04</td>\n",
       "      <td>QVQMVESGGGLVRPGGSLRLSCAAS</td>\n",
       "      <td>GFTFSDYY</td>\n",
       "      <td>MSWIRQAPGKGLEWISY</td>\n",
       "      <td>ISSSGSSM</td>\n",
       "      <td>NYADSVKGRFTISRDNAKNSLFLQMNSLRAEDTAVYYC</td>\n",
       "      <td>0.071337</td>\n",
       "    </tr>\n",
       "    <tr>\n",
       "      <th>2</th>\n",
       "      <td>ARDSSGWHWGVPFDY</td>\n",
       "      <td>IGHJ4</td>\n",
       "      <td>QVQLVESGGGVVQPGRSLRLSCASSGFTFSTYHMHWVRQPPGKGLE...</td>\n",
       "      <td>SARS-CoV2_WT;SARS-CoV2_Alpha;SARS-CoV2_Beta;SA...</td>\n",
       "      <td>NaN</td>\n",
       "      <td>SARS-CoV2_WT;SARS-CoV2_Alpha;SARS-CoV2_Beta;SA...</td>\n",
       "      <td>NaN</td>\n",
       "      <td>S; RBD</td>\n",
       "      <td>B-cells; SARS-CoV2_WT Vaccinee (BBIBP-CoV)</td>\n",
       "      <td>Positive</td>\n",
       "      <td>ARDSSGWHWGVPFDY</td>\n",
       "      <td>15</td>\n",
       "      <td>2</td>\n",
       "      <td>IGHV3-30*06</td>\n",
       "      <td>QVQLVESGGGVVQPGRSLRLSCASS</td>\n",
       "      <td>GFTFSTYH</td>\n",
       "      <td>MHWVRQPPGKGLEWVAF</td>\n",
       "      <td>ISYDGSNY</td>\n",
       "      <td>YYSDSVKGRFTISRDNSKNTVYLQMNSLRAEDTALYYC</td>\n",
       "      <td>0.091918</td>\n",
       "    </tr>\n",
       "    <tr>\n",
       "      <th>3</th>\n",
       "      <td>VRGSGGIHDAFDI</td>\n",
       "      <td>IGHJ3</td>\n",
       "      <td>EVQLVESGGGLIQPGGSLRLSCAVSGFTVSRMSWVRQAPGKGLECV...</td>\n",
       "      <td>SARS-CoV2_WT;SARS-CoV2_Alpha;SARS-CoV2_Beta;SA...</td>\n",
       "      <td>NaN</td>\n",
       "      <td>SARS-CoV2_WT;SARS-CoV2_Alpha;SARS-CoV2_Beta;SA...</td>\n",
       "      <td>SARS-CoV2_Omicron-BA2.75.2;SARS-CoV2-Omicron-B...</td>\n",
       "      <td>S; RBD</td>\n",
       "      <td>B-cells; SARS-CoV2_WT Vaccinee (BBIBP-CoV)</td>\n",
       "      <td>Positive</td>\n",
       "      <td>VRGSGGIHDAFDI</td>\n",
       "      <td>13</td>\n",
       "      <td>3</td>\n",
       "      <td>IGHV3-53*01</td>\n",
       "      <td>EVQLVESGGGLIQPGGSLRLSCAVS</td>\n",
       "      <td>GFTVSR</td>\n",
       "      <td>MSWVRQAPGKGLECVSV</td>\n",
       "      <td>IYTGGNT</td>\n",
       "      <td>DYADSVKGRFTISRDNSKNTLYLQMNSLRAEDTALYYC</td>\n",
       "      <td>0.113608</td>\n",
       "    </tr>\n",
       "    <tr>\n",
       "      <th>4</th>\n",
       "      <td>ARVDPRYEGFDY</td>\n",
       "      <td>IGHJ4</td>\n",
       "      <td>EVQLVESGGGLIQPGGSLRLSCAASEFIVSRNYMSWVRQAPGKGLE...</td>\n",
       "      <td>SARS-CoV2_WT;SARS-CoV2_Alpha;SARS-CoV2_Beta;SA...</td>\n",
       "      <td>NaN</td>\n",
       "      <td>SARS-CoV2_WT;SARS-CoV2_Alpha;SARS-CoV2_Beta;SA...</td>\n",
       "      <td>SARS-CoV2_Omicron-BA1;SARS-CoV2_Omicron-BA2;SA...</td>\n",
       "      <td>S; RBD</td>\n",
       "      <td>B-cells; SARS-CoV2_WT Vaccinee (BBIBP-CoV)</td>\n",
       "      <td>Positive</td>\n",
       "      <td>ARVDPRYEGFDY</td>\n",
       "      <td>12</td>\n",
       "      <td>4</td>\n",
       "      <td>IGHV3-53*01</td>\n",
       "      <td>EVQLVESGGGLIQPGGSLRLSCAAS</td>\n",
       "      <td>EFIVSRNY</td>\n",
       "      <td>MSWVRQAPGKGLEWVSV</td>\n",
       "      <td>IYSGGST</td>\n",
       "      <td>YYADSVKGRFTISRDNSKNTLYLQMNSLRAEDTAVYYC</td>\n",
       "      <td>0.030928</td>\n",
       "    </tr>\n",
       "  </tbody>\n",
       "</table>\n",
       "</div>"
      ],
      "text/plain": [
       "             CDRH3 j_gene                                            VHorVHH  \\\n",
       "0      ARDLVVYGLDY  IGHJ4  EVQLVESGGGLIQPGGSLRLSCAASGFIVSRNYMNWVRQAPGKGLE...   \n",
       "1  AREFDLTKIIMVPPY  IGHJ4  QVQMVESGGGLVRPGGSLRLSCAASGFTFSDYYMSWIRQAPGKGLE...   \n",
       "2  ARDSSGWHWGVPFDY  IGHJ4  QVQLVESGGGVVQPGRSLRLSCASSGFTFSTYHMHWVRQPPGKGLE...   \n",
       "3    VRGSGGIHDAFDI  IGHJ3  EVQLVESGGGLIQPGGSLRLSCAVSGFTVSRMSWVRQAPGKGLECV...   \n",
       "4     ARVDPRYEGFDY  IGHJ4  EVQLVESGGGLIQPGGSLRLSCAASEFIVSRNYMSWVRQAPGKGLE...   \n",
       "\n",
       "                                            Binds to Doesn't Bind to  \\\n",
       "0  SARS-CoV2_WT;SARS-CoV2_Alpha;SARS-CoV2_Beta;SA...             NaN   \n",
       "1  SARS-CoV2_WT;SARS-CoV2_Alpha;SARS-CoV2_Delta;S...             NaN   \n",
       "2  SARS-CoV2_WT;SARS-CoV2_Alpha;SARS-CoV2_Beta;SA...             NaN   \n",
       "3  SARS-CoV2_WT;SARS-CoV2_Alpha;SARS-CoV2_Beta;SA...             NaN   \n",
       "4  SARS-CoV2_WT;SARS-CoV2_Alpha;SARS-CoV2_Beta;SA...             NaN   \n",
       "\n",
       "                                     Neutralising Vs  \\\n",
       "0  SARS-CoV2_WT;SARS-CoV2_Alpha;SARS-CoV2_Beta;SA...   \n",
       "1  SARS-CoV2_WT;SARS-CoV2_Alpha;SARS-CoV2_Delta;S...   \n",
       "2  SARS-CoV2_WT;SARS-CoV2_Alpha;SARS-CoV2_Beta;SA...   \n",
       "3  SARS-CoV2_WT;SARS-CoV2_Alpha;SARS-CoV2_Beta;SA...   \n",
       "4  SARS-CoV2_WT;SARS-CoV2_Alpha;SARS-CoV2_Beta;SA...   \n",
       "\n",
       "                                 Not Neutralising Vs Protein + Epitope  \\\n",
       "0                                                NaN            S; RBD   \n",
       "1  SARS-CoV2_Beta;SARS-CoV2_Omicron-BA1;SARS-CoV2...            S; RBD   \n",
       "2                                                NaN            S; RBD   \n",
       "3  SARS-CoV2_Omicron-BA2.75.2;SARS-CoV2-Omicron-B...            S; RBD   \n",
       "4  SARS-CoV2_Omicron-BA1;SARS-CoV2_Omicron-BA2;SA...            S; RBD   \n",
       "\n",
       "                                        Origin    Status cdr3_seq_aa_q_trim  \\\n",
       "0  B-cells; SARS-CoV2_WT Convalescent Patients  Positive        ARDLVVYGLDY   \n",
       "1  B-cells; SARS-CoV2_WT Convalescent Patients  Positive    AREFDLTKIIMVPPY   \n",
       "2   B-cells; SARS-CoV2_WT Vaccinee (BBIBP-CoV)  Positive    ARDSSGWHWGVPFDY   \n",
       "3   B-cells; SARS-CoV2_WT Vaccinee (BBIBP-CoV)  Positive      VRGSGGIHDAFDI   \n",
       "4   B-cells; SARS-CoV2_WT Vaccinee (BBIBP-CoV)  Positive       ARVDPRYEGFDY   \n",
       "\n",
       "   cdr3_aa_sequence_trim_len  rownum       v_gene          fr1_seq_aa_q_trim  \\\n",
       "0                         11       0  IGHV3-53*01  EVQLVESGGGLIQPGGSLRLSCAAS   \n",
       "1                         15       1  IGHV3-11*04  QVQMVESGGGLVRPGGSLRLSCAAS   \n",
       "2                         15       2  IGHV3-30*06  QVQLVESGGGVVQPGRSLRLSCASS   \n",
       "3                         13       3  IGHV3-53*01  EVQLVESGGGLIQPGGSLRLSCAVS   \n",
       "4                         12       4  IGHV3-53*01  EVQLVESGGGLIQPGGSLRLSCAAS   \n",
       "\n",
       "  cdr1_seq_aa_q_trim  fr2_seq_aa_q_trim cdr2_seq_aa_q_trim  \\\n",
       "0           GFIVSRNY  MNWVRQAPGKGLEWVAL            IYSGGST   \n",
       "1           GFTFSDYY  MSWIRQAPGKGLEWISY           ISSSGSSM   \n",
       "2           GFTFSTYH  MHWVRQPPGKGLEWVAF           ISYDGSNY   \n",
       "3             GFTVSR  MSWVRQAPGKGLECVSV            IYTGGNT   \n",
       "4           EFIVSRNY  MSWVRQAPGKGLEWVSV            IYSGGST   \n",
       "\n",
       "                        fr3_seq_aa_q_trim     v_mut  \n",
       "0  FYADSVKGRFTISRDNSKNTLYLQMNSLRAEDTAVYYC  0.061784  \n",
       "1  NYADSVKGRFTISRDNAKNSLFLQMNSLRAEDTAVYYC  0.071337  \n",
       "2  YYSDSVKGRFTISRDNSKNTVYLQMNSLRAEDTALYYC  0.091918  \n",
       "3  DYADSVKGRFTISRDNSKNTLYLQMNSLRAEDTALYYC  0.113608  \n",
       "4  YYADSVKGRFTISRDNSKNTLYLQMNSLRAEDTAVYYC  0.030928  "
      ]
     },
     "execution_count": 11,
     "metadata": {},
     "output_type": "execute_result"
    }
   ],
   "source": [
    "df.head()"
   ]
  },
  {
   "cell_type": "code",
   "execution_count": 12,
   "metadata": {
    "execution": {
     "iopub.execute_input": "2023-11-08T20:19:06.594434Z",
     "iopub.status.busy": "2023-11-08T20:19:06.594054Z",
     "iopub.status.idle": "2023-11-08T20:19:06.608440Z",
     "shell.execute_reply": "2023-11-08T20:19:06.607541Z"
    }
   },
   "outputs": [],
   "source": [
    "# sanity check\n",
    "assert df[\"v_gene\"].str.startswith(\"IGHV\").all()\n",
    "assert (df[\"cdr1_seq_aa_q_trim\"].str.strip() == df[\"cdr1_seq_aa_q_trim\"]).all()\n",
    "assert (df[\"cdr2_seq_aa_q_trim\"].str.strip() == df[\"cdr2_seq_aa_q_trim\"]).all()"
   ]
  },
  {
   "cell_type": "code",
   "execution_count": null,
   "metadata": {},
   "outputs": [],
   "source": []
  },
  {
   "cell_type": "code",
   "execution_count": 13,
   "metadata": {
    "execution": {
     "iopub.execute_input": "2023-11-08T20:19:06.613261Z",
     "iopub.status.busy": "2023-11-08T20:19:06.612849Z",
     "iopub.status.idle": "2023-11-08T20:19:06.622348Z",
     "shell.execute_reply": "2023-11-08T20:19:06.621359Z"
    }
   },
   "outputs": [
    {
     "data": {
      "text/plain": [
       "IGHV3-30*16    497\n",
       "IGHV3-30*18    381\n",
       "IGHV1-69*13    332\n",
       "IGHV3-53*01    290\n",
       "IGHV3-9*01     286\n",
       "              ... \n",
       "IGHV2-70*12      1\n",
       "IGHV3-9*02       1\n",
       "IGHV3-15*04      1\n",
       "IGHV4-59*05      1\n",
       "IGHV1-2*03       1\n",
       "Name: v_gene, Length: 128, dtype: int64"
      ]
     },
     "execution_count": 13,
     "metadata": {},
     "output_type": "execute_result"
    }
   ],
   "source": [
    "df[\"v_gene\"].value_counts()"
   ]
  },
  {
   "cell_type": "code",
   "execution_count": 14,
   "metadata": {
    "execution": {
     "iopub.execute_input": "2023-11-08T20:19:06.627256Z",
     "iopub.status.busy": "2023-11-08T20:19:06.626666Z",
     "iopub.status.idle": "2023-11-08T20:19:06.653177Z",
     "shell.execute_reply": "2023-11-08T20:19:06.651206Z"
    }
   },
   "outputs": [],
   "source": [
    "df[\"v_gene\"] = df[\"v_gene\"].str.split(\"*\").str[0].astype(\"category\")"
   ]
  },
  {
   "cell_type": "code",
   "execution_count": 15,
   "metadata": {
    "execution": {
     "iopub.execute_input": "2023-11-08T20:19:06.659757Z",
     "iopub.status.busy": "2023-11-08T20:19:06.659106Z",
     "iopub.status.idle": "2023-11-08T20:19:06.672440Z",
     "shell.execute_reply": "2023-11-08T20:19:06.671522Z"
    }
   },
   "outputs": [
    {
     "data": {
      "text/plain": [
       "IGHV3-30        1078\n",
       "IGHV1-69         717\n",
       "IGHV3-53         376\n",
       "IGHV3-33         332\n",
       "IGHV3-23         330\n",
       "IGHV3-9          288\n",
       "IGHV4-39         286\n",
       "IGHV1-46         285\n",
       "IGHV5-51         259\n",
       "IGHV1-18         204\n",
       "IGHV3-66         203\n",
       "IGHV4-4          185\n",
       "IGHV4-59         178\n",
       "IGHV1-2          178\n",
       "IGHV3-13         163\n",
       "IGHV4-31         156\n",
       "IGHV3-7          145\n",
       "IGHV3-21         144\n",
       "IGHV3-48         132\n",
       "IGHV2-5          131\n",
       "IGHV4-34         131\n",
       "IGHV1-58          98\n",
       "IGHV3-15          93\n",
       "IGHV2-70          90\n",
       "IGHV3-30-3        82\n",
       "IGHV1-24          82\n",
       "IGHV7-4-1         79\n",
       "IGHV3-11          79\n",
       "IGHV4-61          73\n",
       "IGHV1-8           72\n",
       "IGHV4-30-4        57\n",
       "IGHV5-a           56\n",
       "IGHV1-3           52\n",
       "IGHV3-64D         46\n",
       "IGHV3-49          43\n",
       "IGHV3-20          36\n",
       "IGHV3-74          28\n",
       "IGHV4-b           28\n",
       "IGHV3-43          26\n",
       "IGHV4-30-2        19\n",
       "IGHV2-26          19\n",
       "IGHV6-1           17\n",
       "IGHV2-70D         10\n",
       "IGHV3-64           9\n",
       "IGHV1-f            8\n",
       "IGHV3-73           7\n",
       "IGHV3-43D          7\n",
       "IGHV3-72           5\n",
       "IGHV4/OR15-8       2\n",
       "IGHV1-45           2\n",
       "IGHV4-28           2\n",
       "IGHV3-h            1\n",
       "Name: v_gene, dtype: int64"
      ]
     },
     "execution_count": 15,
     "metadata": {},
     "output_type": "execute_result"
    }
   ],
   "source": [
    "df[\"v_gene\"].value_counts()"
   ]
  },
  {
   "cell_type": "code",
   "execution_count": null,
   "metadata": {},
   "outputs": [],
   "source": []
  },
  {
   "cell_type": "code",
   "execution_count": 16,
   "metadata": {
    "execution": {
     "iopub.execute_input": "2023-11-08T20:19:06.677455Z",
     "iopub.status.busy": "2023-11-08T20:19:06.677085Z",
     "iopub.status.idle": "2023-11-08T20:19:06.681341Z",
     "shell.execute_reply": "2023-11-08T20:19:06.680288Z"
    }
   },
   "outputs": [],
   "source": [
    "# Note: we don't know isotype\n",
    "# TODO: can we subset to matches in our dataset, and get the true isotype?"
   ]
  },
  {
   "cell_type": "code",
   "execution_count": null,
   "metadata": {},
   "outputs": [],
   "source": []
  },
  {
   "cell_type": "code",
   "execution_count": 17,
   "metadata": {
    "execution": {
     "iopub.execute_input": "2023-11-08T20:19:06.686385Z",
     "iopub.status.busy": "2023-11-08T20:19:06.685525Z",
     "iopub.status.idle": "2023-11-08T20:19:06.754838Z",
     "shell.execute_reply": "2023-11-08T20:19:06.753696Z"
    },
    "tags": []
   },
   "outputs": [
    {
     "name": "stderr",
     "output_type": "stream",
     "text": [
      "{\"message\": \"Dropping CoV-AbDab V genes that aren't in our data: set()\", \"time\": \"2023-11-08T20:19:06.738849\"}\n"
     ]
    }
   ],
   "source": [
    "# Downselect only to V genes that are in our data\n",
    "# We will never get matches on the rest. Clustering will always fail.\n",
    "invalid_v_genes = set(df[\"v_gene\"].unique()) - set(\n",
    "    helpers.all_observed_v_genes()[GeneLocus.BCR]\n",
    ")\n",
    "logger.warning(f\"Dropping CoV-AbDab V genes that aren't in our data: {invalid_v_genes}\")\n",
    "df = df[df[\"v_gene\"].isin(helpers.all_observed_v_genes()[GeneLocus.BCR])]"
   ]
  },
  {
   "cell_type": "code",
   "execution_count": null,
   "metadata": {},
   "outputs": [],
   "source": []
  },
  {
   "cell_type": "markdown",
   "metadata": {},
   "source": [
    "# Export"
   ]
  },
  {
   "cell_type": "code",
   "execution_count": 18,
   "metadata": {
    "execution": {
     "iopub.execute_input": "2023-11-08T20:19:06.760904Z",
     "iopub.status.busy": "2023-11-08T20:19:06.760334Z",
     "iopub.status.idle": "2023-11-08T20:19:06.793733Z",
     "shell.execute_reply": "2023-11-08T20:19:06.792563Z"
    },
    "tags": []
   },
   "outputs": [
    {
     "data": {
      "text/html": [
       "<div>\n",
       "<style scoped>\n",
       "    .dataframe tbody tr th:only-of-type {\n",
       "        vertical-align: middle;\n",
       "    }\n",
       "\n",
       "    .dataframe tbody tr th {\n",
       "        vertical-align: top;\n",
       "    }\n",
       "\n",
       "    .dataframe thead th {\n",
       "        text-align: right;\n",
       "    }\n",
       "</style>\n",
       "<table border=\"1\" class=\"dataframe\">\n",
       "  <thead>\n",
       "    <tr style=\"text-align: right;\">\n",
       "      <th></th>\n",
       "      <th>CDRH3</th>\n",
       "      <th>j_gene</th>\n",
       "      <th>VHorVHH</th>\n",
       "      <th>Binds to</th>\n",
       "      <th>Doesn't Bind to</th>\n",
       "      <th>Neutralising Vs</th>\n",
       "      <th>Not Neutralising Vs</th>\n",
       "      <th>Protein + Epitope</th>\n",
       "      <th>Origin</th>\n",
       "      <th>Status</th>\n",
       "      <th>cdr3_seq_aa_q_trim</th>\n",
       "      <th>cdr3_aa_sequence_trim_len</th>\n",
       "      <th>rownum</th>\n",
       "      <th>v_gene</th>\n",
       "      <th>fr1_seq_aa_q_trim</th>\n",
       "      <th>cdr1_seq_aa_q_trim</th>\n",
       "      <th>fr2_seq_aa_q_trim</th>\n",
       "      <th>cdr2_seq_aa_q_trim</th>\n",
       "      <th>fr3_seq_aa_q_trim</th>\n",
       "      <th>v_mut</th>\n",
       "    </tr>\n",
       "  </thead>\n",
       "  <tbody>\n",
       "    <tr>\n",
       "      <th>0</th>\n",
       "      <td>ARDLVVYGLDY</td>\n",
       "      <td>IGHJ4</td>\n",
       "      <td>EVQLVESGGGLIQPGGSLRLSCAASGFIVSRNYMNWVRQAPGKGLE...</td>\n",
       "      <td>SARS-CoV2_WT;SARS-CoV2_Alpha;SARS-CoV2_Beta;SA...</td>\n",
       "      <td>NaN</td>\n",
       "      <td>SARS-CoV2_WT;SARS-CoV2_Alpha;SARS-CoV2_Beta;SA...</td>\n",
       "      <td>NaN</td>\n",
       "      <td>S; RBD</td>\n",
       "      <td>B-cells; SARS-CoV2_WT Convalescent Patients</td>\n",
       "      <td>Positive</td>\n",
       "      <td>ARDLVVYGLDY</td>\n",
       "      <td>11</td>\n",
       "      <td>0</td>\n",
       "      <td>IGHV3-53</td>\n",
       "      <td>EVQLVESGGGLIQPGGSLRLSCAAS</td>\n",
       "      <td>GFIVSRNY</td>\n",
       "      <td>MNWVRQAPGKGLEWVAL</td>\n",
       "      <td>IYSGGST</td>\n",
       "      <td>FYADSVKGRFTISRDNSKNTLYLQMNSLRAEDTAVYYC</td>\n",
       "      <td>0.061784</td>\n",
       "    </tr>\n",
       "    <tr>\n",
       "      <th>1</th>\n",
       "      <td>AREFDLTKIIMVPPY</td>\n",
       "      <td>IGHJ4</td>\n",
       "      <td>QVQMVESGGGLVRPGGSLRLSCAASGFTFSDYYMSWIRQAPGKGLE...</td>\n",
       "      <td>SARS-CoV2_WT;SARS-CoV2_Alpha;SARS-CoV2_Delta;S...</td>\n",
       "      <td>NaN</td>\n",
       "      <td>SARS-CoV2_WT;SARS-CoV2_Alpha;SARS-CoV2_Delta;S...</td>\n",
       "      <td>SARS-CoV2_Beta;SARS-CoV2_Omicron-BA1;SARS-CoV2...</td>\n",
       "      <td>S; RBD</td>\n",
       "      <td>B-cells; SARS-CoV2_WT Convalescent Patients</td>\n",
       "      <td>Positive</td>\n",
       "      <td>AREFDLTKIIMVPPY</td>\n",
       "      <td>15</td>\n",
       "      <td>1</td>\n",
       "      <td>IGHV3-11</td>\n",
       "      <td>QVQMVESGGGLVRPGGSLRLSCAAS</td>\n",
       "      <td>GFTFSDYY</td>\n",
       "      <td>MSWIRQAPGKGLEWISY</td>\n",
       "      <td>ISSSGSSM</td>\n",
       "      <td>NYADSVKGRFTISRDNAKNSLFLQMNSLRAEDTAVYYC</td>\n",
       "      <td>0.071337</td>\n",
       "    </tr>\n",
       "    <tr>\n",
       "      <th>2</th>\n",
       "      <td>ARDSSGWHWGVPFDY</td>\n",
       "      <td>IGHJ4</td>\n",
       "      <td>QVQLVESGGGVVQPGRSLRLSCASSGFTFSTYHMHWVRQPPGKGLE...</td>\n",
       "      <td>SARS-CoV2_WT;SARS-CoV2_Alpha;SARS-CoV2_Beta;SA...</td>\n",
       "      <td>NaN</td>\n",
       "      <td>SARS-CoV2_WT;SARS-CoV2_Alpha;SARS-CoV2_Beta;SA...</td>\n",
       "      <td>NaN</td>\n",
       "      <td>S; RBD</td>\n",
       "      <td>B-cells; SARS-CoV2_WT Vaccinee (BBIBP-CoV)</td>\n",
       "      <td>Positive</td>\n",
       "      <td>ARDSSGWHWGVPFDY</td>\n",
       "      <td>15</td>\n",
       "      <td>2</td>\n",
       "      <td>IGHV3-30</td>\n",
       "      <td>QVQLVESGGGVVQPGRSLRLSCASS</td>\n",
       "      <td>GFTFSTYH</td>\n",
       "      <td>MHWVRQPPGKGLEWVAF</td>\n",
       "      <td>ISYDGSNY</td>\n",
       "      <td>YYSDSVKGRFTISRDNSKNTVYLQMNSLRAEDTALYYC</td>\n",
       "      <td>0.091918</td>\n",
       "    </tr>\n",
       "    <tr>\n",
       "      <th>3</th>\n",
       "      <td>VRGSGGIHDAFDI</td>\n",
       "      <td>IGHJ3</td>\n",
       "      <td>EVQLVESGGGLIQPGGSLRLSCAVSGFTVSRMSWVRQAPGKGLECV...</td>\n",
       "      <td>SARS-CoV2_WT;SARS-CoV2_Alpha;SARS-CoV2_Beta;SA...</td>\n",
       "      <td>NaN</td>\n",
       "      <td>SARS-CoV2_WT;SARS-CoV2_Alpha;SARS-CoV2_Beta;SA...</td>\n",
       "      <td>SARS-CoV2_Omicron-BA2.75.2;SARS-CoV2-Omicron-B...</td>\n",
       "      <td>S; RBD</td>\n",
       "      <td>B-cells; SARS-CoV2_WT Vaccinee (BBIBP-CoV)</td>\n",
       "      <td>Positive</td>\n",
       "      <td>VRGSGGIHDAFDI</td>\n",
       "      <td>13</td>\n",
       "      <td>3</td>\n",
       "      <td>IGHV3-53</td>\n",
       "      <td>EVQLVESGGGLIQPGGSLRLSCAVS</td>\n",
       "      <td>GFTVSR</td>\n",
       "      <td>MSWVRQAPGKGLECVSV</td>\n",
       "      <td>IYTGGNT</td>\n",
       "      <td>DYADSVKGRFTISRDNSKNTLYLQMNSLRAEDTALYYC</td>\n",
       "      <td>0.113608</td>\n",
       "    </tr>\n",
       "    <tr>\n",
       "      <th>4</th>\n",
       "      <td>ARVDPRYEGFDY</td>\n",
       "      <td>IGHJ4</td>\n",
       "      <td>EVQLVESGGGLIQPGGSLRLSCAASEFIVSRNYMSWVRQAPGKGLE...</td>\n",
       "      <td>SARS-CoV2_WT;SARS-CoV2_Alpha;SARS-CoV2_Beta;SA...</td>\n",
       "      <td>NaN</td>\n",
       "      <td>SARS-CoV2_WT;SARS-CoV2_Alpha;SARS-CoV2_Beta;SA...</td>\n",
       "      <td>SARS-CoV2_Omicron-BA1;SARS-CoV2_Omicron-BA2;SA...</td>\n",
       "      <td>S; RBD</td>\n",
       "      <td>B-cells; SARS-CoV2_WT Vaccinee (BBIBP-CoV)</td>\n",
       "      <td>Positive</td>\n",
       "      <td>ARVDPRYEGFDY</td>\n",
       "      <td>12</td>\n",
       "      <td>4</td>\n",
       "      <td>IGHV3-53</td>\n",
       "      <td>EVQLVESGGGLIQPGGSLRLSCAAS</td>\n",
       "      <td>EFIVSRNY</td>\n",
       "      <td>MSWVRQAPGKGLEWVSV</td>\n",
       "      <td>IYSGGST</td>\n",
       "      <td>YYADSVKGRFTISRDNSKNTLYLQMNSLRAEDTAVYYC</td>\n",
       "      <td>0.030928</td>\n",
       "    </tr>\n",
       "    <tr>\n",
       "      <th>...</th>\n",
       "      <td>...</td>\n",
       "      <td>...</td>\n",
       "      <td>...</td>\n",
       "      <td>...</td>\n",
       "      <td>...</td>\n",
       "      <td>...</td>\n",
       "      <td>...</td>\n",
       "      <td>...</td>\n",
       "      <td>...</td>\n",
       "      <td>...</td>\n",
       "      <td>...</td>\n",
       "      <td>...</td>\n",
       "      <td>...</td>\n",
       "      <td>...</td>\n",
       "      <td>...</td>\n",
       "      <td>...</td>\n",
       "      <td>...</td>\n",
       "      <td>...</td>\n",
       "      <td>...</td>\n",
       "      <td>...</td>\n",
       "    </tr>\n",
       "    <tr>\n",
       "      <th>7124</th>\n",
       "      <td>ARIPLRLRSGGRVAFDI</td>\n",
       "      <td>IGHJ3</td>\n",
       "      <td>QVQLQESGPGLVKPSETLSLTCTVSDGSISPYFWSWIRQPPGEGLE...</td>\n",
       "      <td>SARS-CoV1</td>\n",
       "      <td>SARS-CoV2_WT;MERS-CoV</td>\n",
       "      <td>NaN</td>\n",
       "      <td>NaN</td>\n",
       "      <td>S; non-RBD</td>\n",
       "      <td>B-cells; SARS-CoV1 Human Patient</td>\n",
       "      <td>Negative</td>\n",
       "      <td>ARIPLRLRSGGRVAFDI</td>\n",
       "      <td>17</td>\n",
       "      <td>7124</td>\n",
       "      <td>IGHV4-59</td>\n",
       "      <td>QVQLQESGPGLVKPSETLSLTCTVS</td>\n",
       "      <td>DGSISPYF</td>\n",
       "      <td>WSWIRQPPGEGLEWIGY</td>\n",
       "      <td>IYYDGNT</td>\n",
       "      <td>NYSPSLKSRATISLDTSKNQFSLILTSVTAADTAVYYC</td>\n",
       "      <td>0.113619</td>\n",
       "    </tr>\n",
       "    <tr>\n",
       "      <th>7125</th>\n",
       "      <td>ARVQDIVIVPAVYGMDV</td>\n",
       "      <td>IGHJ6</td>\n",
       "      <td>QVQLVQSGAEVKKPGSSVKVSCKTSGGTFVNFNSYAISWVRQAPGQ...</td>\n",
       "      <td>SARS-CoV1</td>\n",
       "      <td>SARS-CoV2_WT;MERS-CoV</td>\n",
       "      <td>NaN</td>\n",
       "      <td>NaN</td>\n",
       "      <td>S; non-RBD</td>\n",
       "      <td>B-cells; SARS-CoV1 Human Patient</td>\n",
       "      <td>Negative</td>\n",
       "      <td>ARVQDIVIVPAVYGMDV</td>\n",
       "      <td>17</td>\n",
       "      <td>7125</td>\n",
       "      <td>IGHV1-69</td>\n",
       "      <td>QVQLVQSGAEVKKPGSSVKVSCKTS</td>\n",
       "      <td>GGTFVNFNSYA</td>\n",
       "      <td>ISWVRQAPGQGLEWMGR</td>\n",
       "      <td>IIPILGVT</td>\n",
       "      <td>NYAQKFQGRVTITADKATRTVYMELSNLGSEDTAMYYC</td>\n",
       "      <td>0.128792</td>\n",
       "    </tr>\n",
       "    <tr>\n",
       "      <th>7126</th>\n",
       "      <td>ARHPSSIFRGTVFTPYYFDY</td>\n",
       "      <td>IGHJ4</td>\n",
       "      <td>QVQLQESGPGLVKPSETLSLTCTVSGGSVSDTPFYWGWIRQPPGKG...</td>\n",
       "      <td>SARS-CoV1 (weak)</td>\n",
       "      <td>229E;HKU1;NL63;OC43;SARS-CoV2_WT</td>\n",
       "      <td>NaN</td>\n",
       "      <td>NaN</td>\n",
       "      <td>S; Unk</td>\n",
       "      <td>B-cells; SARS-CoV1 Human Patient</td>\n",
       "      <td>Negative</td>\n",
       "      <td>ARHPSSIFRGTVFTPYYFDY</td>\n",
       "      <td>20</td>\n",
       "      <td>7126</td>\n",
       "      <td>IGHV4-39</td>\n",
       "      <td>QVQLQESGPGLVKPSETLSLTCTVS</td>\n",
       "      <td>GGSVSDTPFY</td>\n",
       "      <td>WGWIRQPPGKGLEWIGS</td>\n",
       "      <td>MYYTGST</td>\n",
       "      <td>YYNPSLKSRVTISVDTSKNQFSLKLSSVTAADTAVYYC</td>\n",
       "      <td>0.080848</td>\n",
       "    </tr>\n",
       "    <tr>\n",
       "      <th>7127</th>\n",
       "      <td>VTQRDNSRDYFPHYFHDMDV</td>\n",
       "      <td>IGHJ6</td>\n",
       "      <td>QAQLVESGGALVQPGRSLRLSCAASGFTFRNYAMHWVRQAPATGLQ...</td>\n",
       "      <td>SARS-CoV1</td>\n",
       "      <td>SARS-CoV2_WT</td>\n",
       "      <td>SARS-CoV1</td>\n",
       "      <td>SARS-CoV2_WT</td>\n",
       "      <td>S; RBD</td>\n",
       "      <td>B-cells; SARS-CoV1 Human Patient</td>\n",
       "      <td>Negative</td>\n",
       "      <td>VTQRDNSRDYFPHYFHDMDV</td>\n",
       "      <td>20</td>\n",
       "      <td>7127</td>\n",
       "      <td>IGHV3-30</td>\n",
       "      <td>QAQLVESGGALVQPGRSLRLSCAAS</td>\n",
       "      <td>GFTFRNYA</td>\n",
       "      <td>MHWVRQAPATGLQWLAV</td>\n",
       "      <td>ITSDGRNK</td>\n",
       "      <td>FYADSVKGRFTISREDSKNTLYLQMDSLRGEDTAVYYC</td>\n",
       "      <td>0.178853</td>\n",
       "    </tr>\n",
       "    <tr>\n",
       "      <th>7128</th>\n",
       "      <td>ARSGSYGDRTFDH</td>\n",
       "      <td>IGHJ4</td>\n",
       "      <td>QVQLQESGPGLVKPSETLSLTCIVSDDSINSYYWSWIRQPPGRGLE...</td>\n",
       "      <td>SARS-CoV</td>\n",
       "      <td>SARS-CoV2_WT</td>\n",
       "      <td>NaN</td>\n",
       "      <td>SARS-CoV2_WT;SARS-CoV</td>\n",
       "      <td>S; S2</td>\n",
       "      <td>B-cells; SARS-CoV2_WT Human Patient</td>\n",
       "      <td>Negative</td>\n",
       "      <td>ARSGSYGDRTFDH</td>\n",
       "      <td>13</td>\n",
       "      <td>7128</td>\n",
       "      <td>IGHV4-59</td>\n",
       "      <td>QVQLQESGPGLVKPSETLSLTCIVS</td>\n",
       "      <td>DDSINSYY</td>\n",
       "      <td>WSWIRQPPGRGLEWIGY</td>\n",
       "      <td>IYYSGST</td>\n",
       "      <td>NYDPSLKSRATISLDTSKNQLSLKLTSVTAADTAVYYC</td>\n",
       "      <td>0.103289</td>\n",
       "    </tr>\n",
       "  </tbody>\n",
       "</table>\n",
       "<p>7129 rows × 20 columns</p>\n",
       "</div>"
      ],
      "text/plain": [
       "                     CDRH3 j_gene  \\\n",
       "0              ARDLVVYGLDY  IGHJ4   \n",
       "1          AREFDLTKIIMVPPY  IGHJ4   \n",
       "2          ARDSSGWHWGVPFDY  IGHJ4   \n",
       "3            VRGSGGIHDAFDI  IGHJ3   \n",
       "4             ARVDPRYEGFDY  IGHJ4   \n",
       "...                    ...    ...   \n",
       "7124     ARIPLRLRSGGRVAFDI  IGHJ3   \n",
       "7125     ARVQDIVIVPAVYGMDV  IGHJ6   \n",
       "7126  ARHPSSIFRGTVFTPYYFDY  IGHJ4   \n",
       "7127  VTQRDNSRDYFPHYFHDMDV  IGHJ6   \n",
       "7128         ARSGSYGDRTFDH  IGHJ4   \n",
       "\n",
       "                                                VHorVHH  \\\n",
       "0     EVQLVESGGGLIQPGGSLRLSCAASGFIVSRNYMNWVRQAPGKGLE...   \n",
       "1     QVQMVESGGGLVRPGGSLRLSCAASGFTFSDYYMSWIRQAPGKGLE...   \n",
       "2     QVQLVESGGGVVQPGRSLRLSCASSGFTFSTYHMHWVRQPPGKGLE...   \n",
       "3     EVQLVESGGGLIQPGGSLRLSCAVSGFTVSRMSWVRQAPGKGLECV...   \n",
       "4     EVQLVESGGGLIQPGGSLRLSCAASEFIVSRNYMSWVRQAPGKGLE...   \n",
       "...                                                 ...   \n",
       "7124  QVQLQESGPGLVKPSETLSLTCTVSDGSISPYFWSWIRQPPGEGLE...   \n",
       "7125  QVQLVQSGAEVKKPGSSVKVSCKTSGGTFVNFNSYAISWVRQAPGQ...   \n",
       "7126  QVQLQESGPGLVKPSETLSLTCTVSGGSVSDTPFYWGWIRQPPGKG...   \n",
       "7127  QAQLVESGGALVQPGRSLRLSCAASGFTFRNYAMHWVRQAPATGLQ...   \n",
       "7128  QVQLQESGPGLVKPSETLSLTCIVSDDSINSYYWSWIRQPPGRGLE...   \n",
       "\n",
       "                                               Binds to  \\\n",
       "0     SARS-CoV2_WT;SARS-CoV2_Alpha;SARS-CoV2_Beta;SA...   \n",
       "1     SARS-CoV2_WT;SARS-CoV2_Alpha;SARS-CoV2_Delta;S...   \n",
       "2     SARS-CoV2_WT;SARS-CoV2_Alpha;SARS-CoV2_Beta;SA...   \n",
       "3     SARS-CoV2_WT;SARS-CoV2_Alpha;SARS-CoV2_Beta;SA...   \n",
       "4     SARS-CoV2_WT;SARS-CoV2_Alpha;SARS-CoV2_Beta;SA...   \n",
       "...                                                 ...   \n",
       "7124                                          SARS-CoV1   \n",
       "7125                                          SARS-CoV1   \n",
       "7126                                   SARS-CoV1 (weak)   \n",
       "7127                                          SARS-CoV1   \n",
       "7128                                           SARS-CoV   \n",
       "\n",
       "                       Doesn't Bind to  \\\n",
       "0                                  NaN   \n",
       "1                                  NaN   \n",
       "2                                  NaN   \n",
       "3                                  NaN   \n",
       "4                                  NaN   \n",
       "...                                ...   \n",
       "7124             SARS-CoV2_WT;MERS-CoV   \n",
       "7125             SARS-CoV2_WT;MERS-CoV   \n",
       "7126  229E;HKU1;NL63;OC43;SARS-CoV2_WT   \n",
       "7127                      SARS-CoV2_WT   \n",
       "7128                      SARS-CoV2_WT   \n",
       "\n",
       "                                        Neutralising Vs  \\\n",
       "0     SARS-CoV2_WT;SARS-CoV2_Alpha;SARS-CoV2_Beta;SA...   \n",
       "1     SARS-CoV2_WT;SARS-CoV2_Alpha;SARS-CoV2_Delta;S...   \n",
       "2     SARS-CoV2_WT;SARS-CoV2_Alpha;SARS-CoV2_Beta;SA...   \n",
       "3     SARS-CoV2_WT;SARS-CoV2_Alpha;SARS-CoV2_Beta;SA...   \n",
       "4     SARS-CoV2_WT;SARS-CoV2_Alpha;SARS-CoV2_Beta;SA...   \n",
       "...                                                 ...   \n",
       "7124                                                NaN   \n",
       "7125                                                NaN   \n",
       "7126                                                NaN   \n",
       "7127                                          SARS-CoV1   \n",
       "7128                                                NaN   \n",
       "\n",
       "                                    Not Neutralising Vs Protein + Epitope  \\\n",
       "0                                                   NaN            S; RBD   \n",
       "1     SARS-CoV2_Beta;SARS-CoV2_Omicron-BA1;SARS-CoV2...            S; RBD   \n",
       "2                                                   NaN            S; RBD   \n",
       "3     SARS-CoV2_Omicron-BA2.75.2;SARS-CoV2-Omicron-B...            S; RBD   \n",
       "4     SARS-CoV2_Omicron-BA1;SARS-CoV2_Omicron-BA2;SA...            S; RBD   \n",
       "...                                                 ...               ...   \n",
       "7124                                                NaN        S; non-RBD   \n",
       "7125                                                NaN        S; non-RBD   \n",
       "7126                                                NaN            S; Unk   \n",
       "7127                                       SARS-CoV2_WT            S; RBD   \n",
       "7128                              SARS-CoV2_WT;SARS-CoV             S; S2   \n",
       "\n",
       "                                           Origin    Status  \\\n",
       "0     B-cells; SARS-CoV2_WT Convalescent Patients  Positive   \n",
       "1     B-cells; SARS-CoV2_WT Convalescent Patients  Positive   \n",
       "2      B-cells; SARS-CoV2_WT Vaccinee (BBIBP-CoV)  Positive   \n",
       "3      B-cells; SARS-CoV2_WT Vaccinee (BBIBP-CoV)  Positive   \n",
       "4      B-cells; SARS-CoV2_WT Vaccinee (BBIBP-CoV)  Positive   \n",
       "...                                           ...       ...   \n",
       "7124             B-cells; SARS-CoV1 Human Patient  Negative   \n",
       "7125             B-cells; SARS-CoV1 Human Patient  Negative   \n",
       "7126             B-cells; SARS-CoV1 Human Patient  Negative   \n",
       "7127             B-cells; SARS-CoV1 Human Patient  Negative   \n",
       "7128          B-cells; SARS-CoV2_WT Human Patient  Negative   \n",
       "\n",
       "        cdr3_seq_aa_q_trim  cdr3_aa_sequence_trim_len  rownum    v_gene  \\\n",
       "0              ARDLVVYGLDY                         11       0  IGHV3-53   \n",
       "1          AREFDLTKIIMVPPY                         15       1  IGHV3-11   \n",
       "2          ARDSSGWHWGVPFDY                         15       2  IGHV3-30   \n",
       "3            VRGSGGIHDAFDI                         13       3  IGHV3-53   \n",
       "4             ARVDPRYEGFDY                         12       4  IGHV3-53   \n",
       "...                    ...                        ...     ...       ...   \n",
       "7124     ARIPLRLRSGGRVAFDI                         17    7124  IGHV4-59   \n",
       "7125     ARVQDIVIVPAVYGMDV                         17    7125  IGHV1-69   \n",
       "7126  ARHPSSIFRGTVFTPYYFDY                         20    7126  IGHV4-39   \n",
       "7127  VTQRDNSRDYFPHYFHDMDV                         20    7127  IGHV3-30   \n",
       "7128         ARSGSYGDRTFDH                         13    7128  IGHV4-59   \n",
       "\n",
       "              fr1_seq_aa_q_trim cdr1_seq_aa_q_trim  fr2_seq_aa_q_trim  \\\n",
       "0     EVQLVESGGGLIQPGGSLRLSCAAS           GFIVSRNY  MNWVRQAPGKGLEWVAL   \n",
       "1     QVQMVESGGGLVRPGGSLRLSCAAS           GFTFSDYY  MSWIRQAPGKGLEWISY   \n",
       "2     QVQLVESGGGVVQPGRSLRLSCASS           GFTFSTYH  MHWVRQPPGKGLEWVAF   \n",
       "3     EVQLVESGGGLIQPGGSLRLSCAVS             GFTVSR  MSWVRQAPGKGLECVSV   \n",
       "4     EVQLVESGGGLIQPGGSLRLSCAAS           EFIVSRNY  MSWVRQAPGKGLEWVSV   \n",
       "...                         ...                ...                ...   \n",
       "7124  QVQLQESGPGLVKPSETLSLTCTVS           DGSISPYF  WSWIRQPPGEGLEWIGY   \n",
       "7125  QVQLVQSGAEVKKPGSSVKVSCKTS        GGTFVNFNSYA  ISWVRQAPGQGLEWMGR   \n",
       "7126  QVQLQESGPGLVKPSETLSLTCTVS         GGSVSDTPFY  WGWIRQPPGKGLEWIGS   \n",
       "7127  QAQLVESGGALVQPGRSLRLSCAAS           GFTFRNYA  MHWVRQAPATGLQWLAV   \n",
       "7128  QVQLQESGPGLVKPSETLSLTCIVS           DDSINSYY  WSWIRQPPGRGLEWIGY   \n",
       "\n",
       "     cdr2_seq_aa_q_trim                       fr3_seq_aa_q_trim     v_mut  \n",
       "0               IYSGGST  FYADSVKGRFTISRDNSKNTLYLQMNSLRAEDTAVYYC  0.061784  \n",
       "1              ISSSGSSM  NYADSVKGRFTISRDNAKNSLFLQMNSLRAEDTAVYYC  0.071337  \n",
       "2              ISYDGSNY  YYSDSVKGRFTISRDNSKNTVYLQMNSLRAEDTALYYC  0.091918  \n",
       "3               IYTGGNT  DYADSVKGRFTISRDNSKNTLYLQMNSLRAEDTALYYC  0.113608  \n",
       "4               IYSGGST  YYADSVKGRFTISRDNSKNTLYLQMNSLRAEDTAVYYC  0.030928  \n",
       "...                 ...                                     ...       ...  \n",
       "7124            IYYDGNT  NYSPSLKSRATISLDTSKNQFSLILTSVTAADTAVYYC  0.113619  \n",
       "7125           IIPILGVT  NYAQKFQGRVTITADKATRTVYMELSNLGSEDTAMYYC  0.128792  \n",
       "7126            MYYTGST  YYNPSLKSRVTISVDTSKNQFSLKLSSVTAADTAVYYC  0.080848  \n",
       "7127           ITSDGRNK  FYADSVKGRFTISREDSKNTLYLQMDSLRGEDTAVYYC  0.178853  \n",
       "7128            IYYSGST  NYDPSLKSRATISLDTSKNQLSLKLTSVTAADTAVYYC  0.103289  \n",
       "\n",
       "[7129 rows x 20 columns]"
      ]
     },
     "execution_count": 18,
     "metadata": {},
     "output_type": "execute_result"
    }
   ],
   "source": [
    "df"
   ]
  },
  {
   "cell_type": "code",
   "execution_count": 19,
   "metadata": {
    "execution": {
     "iopub.execute_input": "2023-11-08T20:19:06.798447Z",
     "iopub.status.busy": "2023-11-08T20:19:06.798097Z",
     "iopub.status.idle": "2023-11-08T20:19:06.806242Z",
     "shell.execute_reply": "2023-11-08T20:19:06.805322Z"
    }
   },
   "outputs": [],
   "source": [
    "concatenated_parts_available_to_us = (\n",
    "    df[\"fr1_seq_aa_q_trim\"]\n",
    "    + df[\"cdr1_seq_aa_q_trim\"]\n",
    "    + df[\"fr2_seq_aa_q_trim\"]\n",
    "    + df[\"cdr2_seq_aa_q_trim\"]\n",
    "    + df[\"fr3_seq_aa_q_trim\"]\n",
    "    + df[\"cdr3_seq_aa_q_trim\"]\n",
    ")"
   ]
  },
  {
   "cell_type": "code",
   "execution_count": null,
   "metadata": {},
   "outputs": [],
   "source": []
  },
  {
   "cell_type": "code",
   "execution_count": 20,
   "metadata": {
    "execution": {
     "iopub.execute_input": "2023-11-08T20:19:06.811133Z",
     "iopub.status.busy": "2023-11-08T20:19:06.810386Z",
     "iopub.status.idle": "2023-11-08T20:19:06.817629Z",
     "shell.execute_reply": "2023-11-08T20:19:06.816607Z"
    }
   },
   "outputs": [
    {
     "data": {
      "text/plain": [
       "'EVQLVESGGGLIQPGGSLRLSCAASGFIVSRNYMNWVRQAPGKGLEWVALIYSGGSTFYADSVKGRFTISRDNSKNTLYLQMNSLRAEDTAVYYCARDLVVYGLDYWGQGTLVTVSS'"
      ]
     },
     "execution_count": 20,
     "metadata": {},
     "output_type": "execute_result"
    }
   ],
   "source": [
    "df.iloc[0][\"VHorVHH\"]"
   ]
  },
  {
   "cell_type": "code",
   "execution_count": 21,
   "metadata": {
    "execution": {
     "iopub.execute_input": "2023-11-08T20:19:06.822213Z",
     "iopub.status.busy": "2023-11-08T20:19:06.821772Z",
     "iopub.status.idle": "2023-11-08T20:19:06.829000Z",
     "shell.execute_reply": "2023-11-08T20:19:06.827830Z"
    }
   },
   "outputs": [
    {
     "data": {
      "text/plain": [
       "'EVQLVESGGGLIQPGGSLRLSCAASGFIVSRNYMNWVRQAPGKGLEWVALIYSGGSTFYADSVKGRFTISRDNSKNTLYLQMNSLRAEDTAVYYCARDLVVYGLDY'"
      ]
     },
     "execution_count": 21,
     "metadata": {},
     "output_type": "execute_result"
    }
   ],
   "source": [
    "concatenated_parts_available_to_us.iloc[0]"
   ]
  },
  {
   "cell_type": "code",
   "execution_count": null,
   "metadata": {},
   "outputs": [],
   "source": []
  },
  {
   "cell_type": "code",
   "execution_count": 22,
   "metadata": {
    "execution": {
     "iopub.execute_input": "2023-11-08T20:19:06.834725Z",
     "iopub.status.busy": "2023-11-08T20:19:06.833922Z",
     "iopub.status.idle": "2023-11-08T20:19:06.839639Z",
     "shell.execute_reply": "2023-11-08T20:19:06.838337Z"
    }
   },
   "outputs": [],
   "source": [
    "# Create FR4 field that is VHorVHH minus the concatenation (we verified this with IgBlast manually)\n",
    "# Basically igblastp does not give us the FR4 region.\n",
    "# But for our modeling purposes, we can use VHorVHH as the concatenated string."
   ]
  },
  {
   "cell_type": "code",
   "execution_count": 23,
   "metadata": {
    "execution": {
     "iopub.execute_input": "2023-11-08T20:19:06.845228Z",
     "iopub.status.busy": "2023-11-08T20:19:06.844221Z",
     "iopub.status.idle": "2023-11-08T20:19:06.872477Z",
     "shell.execute_reply": "2023-11-08T20:19:06.871571Z"
    }
   },
   "outputs": [
    {
     "data": {
      "text/plain": [
       "0    WGQGTLVTVSS\n",
       "1    WGQGTLVTVSS\n",
       "2    WGQGTLVTVSS\n",
       "3    WGQGTMVTVSS\n",
       "4    WGQGTLVTVSS\n",
       "Name: post_seq_aa_q_trim, dtype: object"
      ]
     },
     "execution_count": 23,
     "metadata": {},
     "output_type": "execute_result"
    }
   ],
   "source": [
    "df[\"post_seq_aa_q_trim\"] = [\n",
    "    fullstring.replace(substring, \"\").strip()\n",
    "    for fullstring, substring in zip(df[\"VHorVHH\"], concatenated_parts_available_to_us)\n",
    "]\n",
    "df[\"post_seq_aa_q_trim\"].head()"
   ]
  },
  {
   "cell_type": "code",
   "execution_count": null,
   "metadata": {},
   "outputs": [],
   "source": []
  },
  {
   "cell_type": "code",
   "execution_count": null,
   "metadata": {},
   "outputs": [],
   "source": []
  },
  {
   "cell_type": "code",
   "execution_count": 24,
   "metadata": {
    "execution": {
     "iopub.execute_input": "2023-11-08T20:19:06.877514Z",
     "iopub.status.busy": "2023-11-08T20:19:06.877190Z",
     "iopub.status.idle": "2023-11-08T20:19:06.881329Z",
     "shell.execute_reply": "2023-11-08T20:19:06.880420Z"
    }
   },
   "outputs": [],
   "source": [
    "# However this approach can sometimes fail, if there's a difference between VHorVHH and the IgBlast fields up to FR3 + CDR3 field in IgBlast\n",
    "# Below is an example where we see this failure. It looks like the difference is in the CDR3 region, which is provided by CoV-AbDab. Not sure why they have a discrepancy between their own fields.\n",
    "# Reviewing this particular example in the original CoV-AbDab spreadsheet, we see that the VHorVHH sequence appears several times, and each row has a different CDRH3 annotation. One of the rows has a match between VHorVHH and CDRH3, so it is not flagged.\n",
    "# We are safe to drop the flagged rows."
   ]
  },
  {
   "cell_type": "code",
   "execution_count": 25,
   "metadata": {
    "execution": {
     "iopub.execute_input": "2023-11-08T20:19:06.886206Z",
     "iopub.status.busy": "2023-11-08T20:19:06.885652Z",
     "iopub.status.idle": "2023-11-08T20:19:06.895484Z",
     "shell.execute_reply": "2023-11-08T20:19:06.894478Z"
    }
   },
   "outputs": [
    {
     "data": {
      "text/plain": [
       "False    7103\n",
       "True       26\n",
       "dtype: int64"
      ]
     },
     "execution_count": 25,
     "metadata": {},
     "output_type": "execute_result"
    }
   ],
   "source": [
    "failed_subtractions = df[\"post_seq_aa_q_trim\"] == df[\"VHorVHH\"]\n",
    "failed_subtractions.value_counts()"
   ]
  },
  {
   "cell_type": "code",
   "execution_count": 26,
   "metadata": {
    "execution": {
     "iopub.execute_input": "2023-11-08T20:19:06.900572Z",
     "iopub.status.busy": "2023-11-08T20:19:06.899986Z",
     "iopub.status.idle": "2023-11-08T20:19:06.908188Z",
     "shell.execute_reply": "2023-11-08T20:19:06.907152Z"
    }
   },
   "outputs": [
    {
     "data": {
      "text/plain": [
       "0       False\n",
       "1       False\n",
       "2       False\n",
       "3       False\n",
       "4       False\n",
       "        ...  \n",
       "7124    False\n",
       "7125    False\n",
       "7126    False\n",
       "7127    False\n",
       "7128    False\n",
       "Length: 7129, dtype: bool"
      ]
     },
     "execution_count": 26,
     "metadata": {},
     "output_type": "execute_result"
    }
   ],
   "source": [
    "failed_subtractions"
   ]
  },
  {
   "cell_type": "code",
   "execution_count": 27,
   "metadata": {
    "execution": {
     "iopub.execute_input": "2023-11-08T20:19:06.913108Z",
     "iopub.status.busy": "2023-11-08T20:19:06.912510Z",
     "iopub.status.idle": "2023-11-08T20:19:06.927627Z",
     "shell.execute_reply": "2023-11-08T20:19:06.926585Z"
    }
   },
   "outputs": [
    {
     "data": {
      "text/plain": [
       "237     EVQLVESGGGLGQPGGSLRLSCVASGFSFSTYSMNWVRQAPGKGLE...\n",
       "4604    EVQLVESGGGLVQPGGSLRLSCSASGFTFSSYAMHWVRQAPGKGLE...\n",
       "4790    QVQLVQSGAEVKKPGSSVKVSCKASGDTFTNYAFSWMRQAPGQGLE...\n",
       "5187    EVQLVESGAEVKKPGSSVKVSCKASGGTFSSYAISWVRQAPGQGLE...\n",
       "5192    EVQLVESGGGVVQPGRSLRLSCAASGFTFSSYTMHWVRQAPGKGLE...\n",
       "5193    EVQLVESGPGLVKPSQTLSLTCTVSGGSISSGDYYWSWIRQPPGKG...\n",
       "5212    QVQLVESGGGLVQPGRSLRLSCAASGFTFDDYAMHWVRQAPGKGLE...\n",
       "5213    EVQLVESGGGLVQPGRSLRLSCAASGFTFDDYAMHWVRQAPGKGLE...\n",
       "5545    QVQLVQSGAEVKKPGSSVKVSCKASGGTFSIYAITWVRQAPGQGLE...\n",
       "5546    QVQLVQSGAEVKKPGSSVKVSCKASGGTFAIYAITWVRQAPGQGLE...\n",
       "5547    QVQLVQSGAEVKKPGSSVKVSCKASGGAFSIYAITWVRQAPGQGLE...\n",
       "5548    QVQLVQSGAEVKKPGSSVKVSCKASGGAFSIYSITWVRQAPGQGLE...\n",
       "5549    QVQLVQSGAEVKKPGSSVKVSCKVSGGWFSIYAITWVRQAPGQGLE...\n",
       "5550    QVQLVQSGAEVKKPGSSVKVSCKASGGAFSIYAITWVRQAPGQGLE...\n",
       "5551    QVQLVQSGAEVKKPGSSVKVSCKASGGTFSIYALTWVRQAPGQGLE...\n",
       "5552    QVQLVQSGAEVKKPGSSVKVSCKASGGTFSIYAITWVRQAPGQGLE...\n",
       "5553    QVQLVQSGAEVKKPGSSVKVSCKASGGIFSIYAITWVRQAPGQGLE...\n",
       "5554    QVQLVQSGAEVKKPGSSVKVSCKASGGIFSSSAISWVRQAPGQGLE...\n",
       "5555    QVQLVQSGAEVKKPGSSVKVSCKAPGGTFSSSAISWVRQAPGQGLE...\n",
       "5556    QVQLVQSGAEVKKPGSSVKVSCKASGGTFSSSAISWVRQAPGQGLE...\n",
       "5557    QVQLVQSGAEVKKPGSSVKVSCKAVGGTFSSSAIYWVRQAPGQGLE...\n",
       "5558    QVQLVQSGAEVKKPGSSVKVSCKAPGGTFSSSAISWVRQAPGQGLE...\n",
       "5559    QVQLVQSGAEVKKPGSSVKVSCKSSGGTFSSSAYSWVRQAPGQGLE...\n",
       "5590    QVQLQQWGAGLLKPSETLSLTCAVYSGSFSGYFWSWVRQSPGKGLE...\n",
       "5620    QVQLVESGGGVVQPGRSLRLSCAASGFTFSSYAMHWVRQAPGKGLE...\n",
       "5741    QVQLVQSGAEVKKPGASVKVSCKASGYTFTSYGISWVRQAPGQGLE...\n",
       "Name: post_seq_aa_q_trim, dtype: object"
      ]
     },
     "execution_count": 27,
     "metadata": {},
     "output_type": "execute_result"
    }
   ],
   "source": [
    "df[failed_subtractions][\"post_seq_aa_q_trim\"]"
   ]
  },
  {
   "cell_type": "code",
   "execution_count": 28,
   "metadata": {
    "execution": {
     "iopub.execute_input": "2023-11-08T20:19:06.932463Z",
     "iopub.status.busy": "2023-11-08T20:19:06.932025Z",
     "iopub.status.idle": "2023-11-08T20:19:06.939683Z",
     "shell.execute_reply": "2023-11-08T20:19:06.938514Z"
    }
   },
   "outputs": [
    {
     "data": {
      "text/plain": [
       "'EVQLVESGGGLGQPGGSLRLSCVASGFSFSTYSMNWVRQAPGKGLEWLSYINAGSTTIYSADSVTGRFSISRDNAKNSLYLHMNSLRADDTAVYYCSSYTSRIPII'"
      ]
     },
     "execution_count": 28,
     "metadata": {},
     "output_type": "execute_result"
    }
   ],
   "source": [
    "concatenated_parts_available_to_us.loc[failed_subtractions].iloc[0]"
   ]
  },
  {
   "cell_type": "code",
   "execution_count": 29,
   "metadata": {
    "execution": {
     "iopub.execute_input": "2023-11-08T20:19:06.944944Z",
     "iopub.status.busy": "2023-11-08T20:19:06.944261Z",
     "iopub.status.idle": "2023-11-08T20:19:06.954054Z",
     "shell.execute_reply": "2023-11-08T20:19:06.952826Z"
    }
   },
   "outputs": [
    {
     "data": {
      "text/plain": [
       "'EVQLVESGGGLGQPGGSLRLSCVASGFSFSTYSMNWVRQAPGKGLEWLSYINAGSTTIYSADSVTGRFSISRDNAKNSLYLHMNSLRADDTAVYYCARGVPFDYWGQGTLVTVSS'"
      ]
     },
     "execution_count": 29,
     "metadata": {},
     "output_type": "execute_result"
    }
   ],
   "source": [
    "df.loc[failed_subtractions].iloc[0][\"VHorVHH\"]"
   ]
  },
  {
   "cell_type": "code",
   "execution_count": 30,
   "metadata": {
    "execution": {
     "iopub.execute_input": "2023-11-08T20:19:06.973477Z",
     "iopub.status.busy": "2023-11-08T20:19:06.972420Z",
     "iopub.status.idle": "2023-11-08T20:19:06.983554Z",
     "shell.execute_reply": "2023-11-08T20:19:06.982280Z"
    }
   },
   "outputs": [
    {
     "data": {
      "text/plain": [
       "'SSYTSRIPII'"
      ]
     },
     "execution_count": 30,
     "metadata": {},
     "output_type": "execute_result"
    }
   ],
   "source": [
    "df.loc[failed_subtractions].iloc[0][\"CDRH3\"]"
   ]
  },
  {
   "cell_type": "code",
   "execution_count": null,
   "metadata": {},
   "outputs": [],
   "source": []
  },
  {
   "cell_type": "code",
   "execution_count": 31,
   "metadata": {
    "execution": {
     "iopub.execute_input": "2023-11-08T20:19:06.988650Z",
     "iopub.status.busy": "2023-11-08T20:19:06.987689Z",
     "iopub.status.idle": "2023-11-08T20:19:06.997327Z",
     "shell.execute_reply": "2023-11-08T20:19:06.996033Z"
    }
   },
   "outputs": [],
   "source": [
    "# Drop the flagged rows.\n",
    "df = df.loc[~failed_subtractions]"
   ]
  },
  {
   "cell_type": "code",
   "execution_count": 32,
   "metadata": {
    "execution": {
     "iopub.execute_input": "2023-11-08T20:19:07.001866Z",
     "iopub.status.busy": "2023-11-08T20:19:07.001344Z",
     "iopub.status.idle": "2023-11-08T20:19:07.008860Z",
     "shell.execute_reply": "2023-11-08T20:19:07.007683Z"
    }
   },
   "outputs": [],
   "source": [
    "assert not (df[\"post_seq_aa_q_trim\"] == df[\"VHorVHH\"]).any()"
   ]
  },
  {
   "cell_type": "code",
   "execution_count": 33,
   "metadata": {
    "execution": {
     "iopub.execute_input": "2023-11-08T20:19:07.014276Z",
     "iopub.status.busy": "2023-11-08T20:19:07.013582Z",
     "iopub.status.idle": "2023-11-08T20:19:07.022749Z",
     "shell.execute_reply": "2023-11-08T20:19:07.021576Z"
    }
   },
   "outputs": [
    {
     "data": {
      "text/plain": [
       "0    WGQGTLVTVSS\n",
       "1    WGQGTLVTVSS\n",
       "2    WGQGTLVTVSS\n",
       "3    WGQGTMVTVSS\n",
       "4    WGQGTLVTVSS\n",
       "Name: post_seq_aa_q_trim, dtype: object"
      ]
     },
     "execution_count": 33,
     "metadata": {},
     "output_type": "execute_result"
    }
   ],
   "source": [
    "df[\"post_seq_aa_q_trim\"].head()"
   ]
  },
  {
   "cell_type": "code",
   "execution_count": 34,
   "metadata": {
    "execution": {
     "iopub.execute_input": "2023-11-08T20:19:07.028193Z",
     "iopub.status.busy": "2023-11-08T20:19:07.027478Z",
     "iopub.status.idle": "2023-11-08T20:19:07.041302Z",
     "shell.execute_reply": "2023-11-08T20:19:07.040112Z"
    }
   },
   "outputs": [
    {
     "data": {
      "text/plain": [
       "WGQGTLVTVSS    3497\n",
       "WGQGTTVTVSS    1273\n",
       "WGQGTMVTVSS     764\n",
       "WGRGTLVTVSS     227\n",
       "WGKGTTVTVSS     215\n",
       "               ... \n",
       "TRTTCSDGFDI       1\n",
       "WGQGTLLSVSS       1\n",
       "WGQGTTLTVSS       1\n",
       "WGQGTLVSVS        1\n",
       "WGQGALVTVSA       1\n",
       "Name: post_seq_aa_q_trim, Length: 319, dtype: int64"
      ]
     },
     "execution_count": 34,
     "metadata": {},
     "output_type": "execute_result"
    }
   ],
   "source": [
    "df[\"post_seq_aa_q_trim\"].value_counts()"
   ]
  },
  {
   "cell_type": "code",
   "execution_count": null,
   "metadata": {},
   "outputs": [],
   "source": []
  },
  {
   "cell_type": "code",
   "execution_count": null,
   "metadata": {},
   "outputs": [],
   "source": []
  },
  {
   "cell_type": "code",
   "execution_count": 35,
   "metadata": {
    "execution": {
     "iopub.execute_input": "2023-11-08T20:19:07.046842Z",
     "iopub.status.busy": "2023-11-08T20:19:07.046323Z",
     "iopub.status.idle": "2023-11-08T20:19:07.054474Z",
     "shell.execute_reply": "2023-11-08T20:19:07.053259Z"
    },
    "tags": []
   },
   "outputs": [
    {
     "data": {
      "text/plain": [
       "Index(['CDRH3', 'j_gene', 'VHorVHH', 'Binds to', 'Doesn't Bind to',\n",
       "       'Neutralising Vs', 'Not Neutralising Vs', 'Protein + Epitope', 'Origin',\n",
       "       'Status', 'cdr3_seq_aa_q_trim', 'cdr3_aa_sequence_trim_len', 'rownum',\n",
       "       'v_gene', 'fr1_seq_aa_q_trim', 'cdr1_seq_aa_q_trim',\n",
       "       'fr2_seq_aa_q_trim', 'cdr2_seq_aa_q_trim', 'fr3_seq_aa_q_trim', 'v_mut',\n",
       "       'post_seq_aa_q_trim'],\n",
       "      dtype='object')"
      ]
     },
     "execution_count": 35,
     "metadata": {},
     "output_type": "execute_result"
    }
   ],
   "source": [
    "df.columns"
   ]
  },
  {
   "cell_type": "code",
   "execution_count": null,
   "metadata": {},
   "outputs": [],
   "source": []
  },
  {
   "cell_type": "code",
   "execution_count": 36,
   "metadata": {
    "execution": {
     "iopub.execute_input": "2023-11-08T20:19:07.060254Z",
     "iopub.status.busy": "2023-11-08T20:19:07.059534Z",
     "iopub.status.idle": "2023-11-08T20:19:07.071352Z",
     "shell.execute_reply": "2023-11-08T20:19:07.070119Z"
    }
   },
   "outputs": [
    {
     "data": {
      "text/plain": [
       "Positive    6517\n",
       "Negative     586\n",
       "Name: Status, dtype: int64"
      ]
     },
     "execution_count": 36,
     "metadata": {},
     "output_type": "execute_result"
    }
   ],
   "source": [
    "df[\"Status\"].value_counts()"
   ]
  },
  {
   "cell_type": "code",
   "execution_count": 37,
   "metadata": {
    "execution": {
     "iopub.execute_input": "2023-11-08T20:19:07.076733Z",
     "iopub.status.busy": "2023-11-08T20:19:07.076021Z",
     "iopub.status.idle": "2023-11-08T20:19:07.083009Z",
     "shell.execute_reply": "2023-11-08T20:19:07.081795Z"
    }
   },
   "outputs": [],
   "source": [
    "assert not df[\"Status\"].isna().any()"
   ]
  },
  {
   "cell_type": "code",
   "execution_count": null,
   "metadata": {},
   "outputs": [],
   "source": []
  },
  {
   "cell_type": "code",
   "execution_count": 38,
   "metadata": {
    "execution": {
     "iopub.execute_input": "2023-11-08T20:19:07.088632Z",
     "iopub.status.busy": "2023-11-08T20:19:07.087925Z",
     "iopub.status.idle": "2023-11-08T20:19:07.210916Z",
     "shell.execute_reply": "2023-11-08T20:19:07.209885Z"
    }
   },
   "outputs": [],
   "source": [
    "df.drop(columns=\"rownum\").to_csv(\n",
    "    config.paths.base_data_dir / \"CoV-AbDab_130623.filtered.annotated.tsv\",\n",
    "    sep=\"\\t\",\n",
    "    index=None,\n",
    ")"
   ]
  },
  {
   "cell_type": "code",
   "execution_count": null,
   "metadata": {},
   "outputs": [],
   "source": []
  }
 ],
 "metadata": {
  "jupytext": {
   "cell_metadata_filter": "-all"
  },
  "kernelspec": {
   "display_name": "py39-cuda-env",
   "language": "python",
   "name": "py39-cuda-env"
  },
  "language_info": {
   "codemirror_mode": {
    "name": "ipython",
    "version": 3
   },
   "file_extension": ".py",
   "mimetype": "text/x-python",
   "name": "python",
   "nbconvert_exporter": "python",
   "pygments_lexer": "ipython3",
   "version": "3.9.17"
  }
 },
 "nbformat": 4,
 "nbformat_minor": 4
}
